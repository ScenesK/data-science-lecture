{
 "cells": [
  {
   "cell_type": "code",
   "execution_count": 1,
   "metadata": {},
   "outputs": [],
   "source": [
    "import datetime\n",
    "import numpy as np\n",
    "import pandas as pd\n",
    "from pandas_datareader import wb\n",
    "import pandas_datareader.data as web\n",
    "from sklearn.datasets import make_blobs\n",
    "from IPython.display import display\n",
    "import matplotlib.pyplot as plt\n",
    "import seaborn as sns\n",
    "pd.set_option('max_rows', 5)\n",
    "pd.set_option('precision', 3)\n",
    "%matplotlib inline"
   ]
  },
  {
   "cell_type": "markdown",
   "metadata": {},
   "source": [
    "## グラフの種類\n",
    "---\n",
    "目的に応じて適切なものを選ぶ。"
   ]
  },
  {
   "cell_type": "markdown",
   "metadata": {},
   "source": [
    "### 分布の確認\n",
    "---\n",
    "棒グラフ・ヒストグラム・散布図を用いる。\n",
    "<table class=\"border text-center background-bright\">\n",
    "    <tr class=\"background-dark\">\n",
    "        <th>変数の数</th>\n",
    "        <th>変数の種類</th>\n",
    "        <th>グラフの種類</th>\n",
    "    </tr>\n",
    "    <tr>\n",
    "        <td rowspan=\"2\">1変数</td>\n",
    "        <td>離散値</td>\n",
    "        <td>棒グラフ</td>\n",
    "    </tr>\n",
    "    <tr>\n",
    "        <td>連続値</td>\n",
    "        <td>ヒストグラム</td>\n",
    "    </tr>\n",
    "    <tr>\n",
    "        <td>2変数</td>\n",
    "        <td></td>\n",
    "        <td>散布図</td>\n",
    "    </tr>\n",
    "</table>"
   ]
  },
  {
   "cell_type": "markdown",
   "metadata": {},
   "source": [
    "### 構成の確認\n",
    "---\n",
    "積み上げ棒グラフを用いる。\n",
    "\n",
    "円グラフで構成を表現することもあるが、一般にデータ分析では**円グラフは好まれない**。人間の目は長さに比べて角度や面積で定量的に比較するのに弱いため。"
   ]
  },
  {
   "cell_type": "markdown",
   "metadata": {},
   "source": [
    "### グループ間の比較\n",
    "---\n",
    "層別グラフを用いる。"
   ]
  },
  {
   "cell_type": "markdown",
   "metadata": {},
   "source": [
    "### 時系列での変化\n",
    "---\n",
    "折れ線グラフや積み上げ棒グラフを用いる。"
   ]
  },
  {
   "cell_type": "markdown",
   "metadata": {},
   "source": [
    "## 強調表現\n",
    "---\n",
    "他人に伝えるためのグラフでは、適切な強調表現を用いることでデータから得られる意味が伝わりやすくなる。グラフの調整はプログラミングで行うより、表計算ソフトなどを使うほうがやりやすい。  \n",
    "自分がデータを理解するためのグラフでは、一部を強調すると他に目が行かなくなるので、不必要に強調表現を使わない。"
   ]
  },
  {
   "cell_type": "markdown",
   "metadata": {},
   "source": [
    "### 情報の集中・不要な情報の除去\n",
    "---\n",
    "伝えたい情報を絞り込み、**不要な情報は削除**する。例えば、具体的な値を伝えたいのでなければ軸は不要、特定の値だけが必要な場合は軸を省略してグラフ上にその値だけを表示してもよい。  \n",
    "見慣れないグラフを用いて、グラフからの情報の読み取り方に**不必要な集中力**を割かせない。"
   ]
  },
  {
   "cell_type": "markdown",
   "metadata": {},
   "source": [
    "###### 練習問題\n",
    "\n",
    "economics データセットの`unemploy`列を折れ線グラフで表示し、期間中の最大値とその日付が伝わるように表現してみる。"
   ]
  },
  {
   "cell_type": "code",
   "execution_count": 2,
   "metadata": {
    "hide_input": true
   },
   "outputs": [
    {
     "name": "stdout",
     "output_type": "stream",
     "text": [
      "economics\n"
     ]
    },
    {
     "data": {
      "text/html": [
       "<div>\n",
       "<style scoped>\n",
       "    .dataframe tbody tr th:only-of-type {\n",
       "        vertical-align: middle;\n",
       "    }\n",
       "\n",
       "    .dataframe tbody tr th {\n",
       "        vertical-align: top;\n",
       "    }\n",
       "\n",
       "    .dataframe thead th {\n",
       "        text-align: right;\n",
       "    }\n",
       "</style>\n",
       "<table border=\"1\" class=\"dataframe\">\n",
       "  <thead>\n",
       "    <tr style=\"text-align: right;\">\n",
       "      <th></th>\n",
       "      <th>date</th>\n",
       "      <th>pce</th>\n",
       "      <th>pop</th>\n",
       "      <th>psavert</th>\n",
       "      <th>uempmed</th>\n",
       "      <th>unemploy</th>\n",
       "    </tr>\n",
       "  </thead>\n",
       "  <tbody>\n",
       "    <tr>\n",
       "      <th>0</th>\n",
       "      <td>1967-07-01</td>\n",
       "      <td>507.4</td>\n",
       "      <td>198712</td>\n",
       "      <td>12.5</td>\n",
       "      <td>4.5</td>\n",
       "      <td>2944</td>\n",
       "    </tr>\n",
       "    <tr>\n",
       "      <th>1</th>\n",
       "      <td>1967-08-01</td>\n",
       "      <td>510.5</td>\n",
       "      <td>198911</td>\n",
       "      <td>12.5</td>\n",
       "      <td>4.7</td>\n",
       "      <td>2945</td>\n",
       "    </tr>\n",
       "    <tr>\n",
       "      <th>...</th>\n",
       "      <td>...</td>\n",
       "      <td>...</td>\n",
       "      <td>...</td>\n",
       "      <td>...</td>\n",
       "      <td>...</td>\n",
       "      <td>...</td>\n",
       "    </tr>\n",
       "    <tr>\n",
       "      <th>572</th>\n",
       "      <td>2015-03-01</td>\n",
       "      <td>12161.5</td>\n",
       "      <td>320707</td>\n",
       "      <td>5.2</td>\n",
       "      <td>12.2</td>\n",
       "      <td>8575</td>\n",
       "    </tr>\n",
       "    <tr>\n",
       "      <th>573</th>\n",
       "      <td>2015-04-01</td>\n",
       "      <td>12158.9</td>\n",
       "      <td>320887</td>\n",
       "      <td>5.6</td>\n",
       "      <td>11.7</td>\n",
       "      <td>8549</td>\n",
       "    </tr>\n",
       "  </tbody>\n",
       "</table>\n",
       "<p>574 rows × 6 columns</p>\n",
       "</div>"
      ],
      "text/plain": [
       "           date      pce     pop  psavert  uempmed  unemploy\n",
       "0    1967-07-01    507.4  198712     12.5      4.5      2944\n",
       "1    1967-08-01    510.5  198911     12.5      4.7      2945\n",
       "..          ...      ...     ...      ...      ...       ...\n",
       "572  2015-03-01  12161.5  320707      5.2     12.2      8575\n",
       "573  2015-04-01  12158.9  320887      5.6     11.7      8549\n",
       "\n",
       "[574 rows x 6 columns]"
      ]
     },
     "metadata": {},
     "output_type": "display_data"
    }
   ],
   "source": [
    "economics = pd.read_csv('data/economics.csv')\n",
    "print('economics')\n",
    "display(economics)"
   ]
  },
  {
   "cell_type": "code",
   "execution_count": null,
   "metadata": {
    "solution2": "hidden",
    "solution2_first": true
   },
   "outputs": [],
   "source": []
  },
  {
   "cell_type": "code",
   "execution_count": 3,
   "metadata": {
    "hide_input": false,
    "solution2": "hidden"
   },
   "outputs": [
    {
     "data": {
      "image/png": "[encoded data removed]",
      "text/plain": [
       "<Figure size 432x288 with 1 Axes>"
      ]
     },
     "metadata": {
      "needs_background": "light"
     },
     "output_type": "display_data"
    }
   ],
   "source": [
    "x = economics['unemploy'].values.argmax()\n",
    "y = economics['unemploy'].max()\n",
    "economics['unemploy'].plot()\n",
    "plt.text(\n",
    "    x, y * 1.01, y, horizontalalignment='center', verticalalignment='bottom')\n",
    "plt.box(False)\n",
    "xmin, xmax = plt.xlim()\n",
    "plt.axhline(xmin=xmin, xmax=xmax, color='black')\n",
    "plt.ylim((0, y * 1.05))\n",
    "plt.xticks((x, ), (economics['date'][x], ))\n",
    "plt.yticks(())\n",
    "plt.show()"
   ]
  },
  {
   "cell_type": "markdown",
   "metadata": {},
   "source": [
    "### 色\n",
    "---\n",
    "彩度の低い (黒に近い) ものより**彩度の高い** (鮮やかな) ものが目立つ。  \n",
    "背景との**明度差**が大きいものほど目立つ。透明度で調整してもよい。  \n",
    "色数は多くなるとどこに注目してよいかわからなくなる。注目してほしいものだけ色をつけ、他は枠で囲ったりマーカーの形を変えるなどして区別する。"
   ]
  },
  {
   "cell_type": "markdown",
   "metadata": {},
   "source": [
    "###### 練習問題\n",
    "\n",
    "blobsデータセットで、4つのグループがあることがわかるようにし、 $\\displaystyle x >0,y >0$ のグループを色によって目立たせる。"
   ]
  },
  {
   "cell_type": "code",
   "execution_count": 4,
   "metadata": {
    "hide_input": true
   },
   "outputs": [
    {
     "name": "stdout",
     "output_type": "stream",
     "text": [
      "blobs\n"
     ]
    },
    {
     "data": {
      "text/html": [
       "<div>\n",
       "<style scoped>\n",
       "    .dataframe tbody tr th:only-of-type {\n",
       "        vertical-align: middle;\n",
       "    }\n",
       "\n",
       "    .dataframe tbody tr th {\n",
       "        vertical-align: top;\n",
       "    }\n",
       "\n",
       "    .dataframe thead th {\n",
       "        text-align: right;\n",
       "    }\n",
       "</style>\n",
       "<table border=\"1\" class=\"dataframe\">\n",
       "  <thead>\n",
       "    <tr style=\"text-align: right;\">\n",
       "      <th></th>\n",
       "      <th>x</th>\n",
       "      <th>y</th>\n",
       "    </tr>\n",
       "  </thead>\n",
       "  <tbody>\n",
       "    <tr>\n",
       "      <th>0</th>\n",
       "      <td>-7.085</td>\n",
       "      <td>6.930</td>\n",
       "    </tr>\n",
       "    <tr>\n",
       "      <th>1</th>\n",
       "      <td>-4.595</td>\n",
       "      <td>-4.711</td>\n",
       "    </tr>\n",
       "    <tr>\n",
       "      <th>...</th>\n",
       "      <td>...</td>\n",
       "      <td>...</td>\n",
       "    </tr>\n",
       "    <tr>\n",
       "      <th>98</th>\n",
       "      <td>-4.125</td>\n",
       "      <td>3.289</td>\n",
       "    </tr>\n",
       "    <tr>\n",
       "      <th>99</th>\n",
       "      <td>3.972</td>\n",
       "      <td>-5.585</td>\n",
       "    </tr>\n",
       "  </tbody>\n",
       "</table>\n",
       "<p>100 rows × 2 columns</p>\n",
       "</div>"
      ],
      "text/plain": [
       "        x      y\n",
       "0  -7.085  6.930\n",
       "1  -4.595 -4.711\n",
       "..    ...    ...\n",
       "98 -4.125  3.289\n",
       "99  3.972 -5.585\n",
       "\n",
       "[100 rows x 2 columns]"
      ]
     },
     "metadata": {},
     "output_type": "display_data"
    },
    {
     "data": {
      "image/png": "[encoded data removed]",
      "text/plain": [
       "<Figure size 432x288 with 1 Axes>"
      ]
     },
     "metadata": {
      "needs_background": "light"
     },
     "output_type": "display_data"
    }
   ],
   "source": [
    "ticks = (-5, 5)\n",
    "xx, yy = np.meshgrid(ticks, ticks)\n",
    "centers = np.c_[xx.ravel(), yy.ravel()]\n",
    "data, _ = make_blobs(centers=centers, random_state=1234)\n",
    "blobs = pd.DataFrame(data, columns=['x', 'y'])\n",
    "print('blobs')\n",
    "display(blobs)\n",
    "blobs.plot.scatter('x', 'y')\n",
    "plt.show()"
   ]
  },
  {
   "cell_type": "code",
   "execution_count": null,
   "metadata": {
    "solution2": "hidden",
    "solution2_first": true
   },
   "outputs": [],
   "source": []
  },
  {
   "cell_type": "code",
   "execution_count": 5,
   "metadata": {
    "solution2": "hidden"
   },
   "outputs": [
    {
     "data": {
      "image/png": "[encoded data removed]",
      "text/plain": [
       "<Figure size 432x288 with 1 Axes>"
      ]
     },
     "metadata": {
      "needs_background": "light"
     },
     "output_type": "display_data"
    }
   ],
   "source": [
    "from matplotlib.patches import Circle\n",
    "\n",
    "x_positive = blobs['x'].values > 0\n",
    "y_positive = blobs['y'].values > 0\n",
    "ax = plt.gca()\n",
    "for i, x_condition in enumerate([x_positive, ~x_positive]):\n",
    "    for j, y_condition in enumerate([y_positive, ~y_positive]):\n",
    "        if i + j == 0:\n",
    "            kwargs = dict(color='blue')\n",
    "        else:\n",
    "            kwargs = dict(color='lightgray')\n",
    "        plt.scatter(\n",
    "            'x', 'y', data=blobs.loc[x_condition & y_condition], **kwargs)\n",
    "        ax.add_patch(\n",
    "            Circle(\n",
    "                xy=(5 if i else -5, 5 if j else -5),\n",
    "                radius=4,\n",
    "                fill=None,\n",
    "                alpha=0.3))\n",
    "plt.gca().axis('off')\n",
    "plt.show()"
   ]
  },
  {
   "cell_type": "markdown",
   "metadata": {},
   "source": [
    "### 大きさ\n",
    "---\n",
    "サイズの**大きい**もの・線の**太い**ものが目立つ。"
   ]
  },
  {
   "cell_type": "markdown",
   "metadata": {},
   "source": [
    "###### 練習問題\n",
    "\n",
    "sizeデータセットのそれぞれの値を、値に応じたフォントサイズで順に並べて表示する。"
   ]
  },
  {
   "cell_type": "code",
   "execution_count": 6,
   "metadata": {
    "hide_input": true
   },
   "outputs": [
    {
     "data": {
      "text/html": [
       "<div>\n",
       "<style scoped>\n",
       "    .dataframe tbody tr th:only-of-type {\n",
       "        vertical-align: middle;\n",
       "    }\n",
       "\n",
       "    .dataframe tbody tr th {\n",
       "        vertical-align: top;\n",
       "    }\n",
       "\n",
       "    .dataframe thead th {\n",
       "        text-align: right;\n",
       "    }\n",
       "</style>\n",
       "<table border=\"1\" class=\"dataframe\">\n",
       "  <thead>\n",
       "    <tr style=\"text-align: right;\">\n",
       "      <th></th>\n",
       "      <th>size</th>\n",
       "    </tr>\n",
       "  </thead>\n",
       "  <tbody>\n",
       "    <tr>\n",
       "      <th>0</th>\n",
       "      <td>48</td>\n",
       "    </tr>\n",
       "    <tr>\n",
       "      <th>1</th>\n",
       "      <td>84</td>\n",
       "    </tr>\n",
       "    <tr>\n",
       "      <th>2</th>\n",
       "      <td>39</td>\n",
       "    </tr>\n",
       "    <tr>\n",
       "      <th>3</th>\n",
       "      <td>54</td>\n",
       "    </tr>\n",
       "  </tbody>\n",
       "</table>\n",
       "</div>"
      ],
      "text/plain": [
       "   size\n",
       "0    48\n",
       "1    84\n",
       "2    39\n",
       "3    54"
      ]
     },
     "execution_count": 6,
     "metadata": {},
     "output_type": "execute_result"
    }
   ],
   "source": [
    "np.random.seed(1234)\n",
    "size = pd.DataFrame(dict(size=np.random.randint(low=1, high=100, size=4)))\n",
    "size"
   ]
  },
  {
   "cell_type": "code",
   "execution_count": null,
   "metadata": {
    "solution2": "hidden",
    "solution2_first": true
   },
   "outputs": [],
   "source": []
  },
  {
   "cell_type": "code",
   "execution_count": 7,
   "metadata": {
    "solution2": "hidden"
   },
   "outputs": [
    {
     "data": {
      "image/png": "[encoded data removed]",
      "text/plain": [
       "<Figure size 432x288 with 1 Axes>"
      ]
     },
     "metadata": {
      "needs_background": "light"
     },
     "output_type": "display_data"
    }
   ],
   "source": [
    "for i, row in size.iterrows():\n",
    "    plt.text(i, 0, row['size'], fontdict=dict(fontsize=row['size']), horizontalalignment='center')\n",
    "plt.gca().axis('off')\n",
    "plt.show()"
   ]
  },
  {
   "cell_type": "markdown",
   "metadata": {},
   "source": [
    "### 不適切な強調表現"
   ]
  },
  {
   "cell_type": "markdown",
   "metadata": {},
   "source": [
    "#### 軸の開始地点\n",
    "---\n",
    "原点 $0$ に意味のある (量・比率が問題になる) 場合は、軸の開始地点を原点以外にすると誤った印象を与える。"
   ]
  },
  {
   "cell_type": "markdown",
   "metadata": {},
   "source": [
    "###### 練習問題\n",
    "\n",
    "lowvarデータセットの縦軸を原点から開始した折れ線グラフを表示し、原点から始まっていないグラフから受ける印象と比較してみる。"
   ]
  },
  {
   "cell_type": "code",
   "execution_count": 8,
   "metadata": {
    "hide_input": true
   },
   "outputs": [
    {
     "name": "stdout",
     "output_type": "stream",
     "text": [
      "lowvar\n"
     ]
    },
    {
     "data": {
      "text/html": [
       "<div>\n",
       "<style scoped>\n",
       "    .dataframe tbody tr th:only-of-type {\n",
       "        vertical-align: middle;\n",
       "    }\n",
       "\n",
       "    .dataframe tbody tr th {\n",
       "        vertical-align: top;\n",
       "    }\n",
       "\n",
       "    .dataframe thead th {\n",
       "        text-align: right;\n",
       "    }\n",
       "</style>\n",
       "<table border=\"1\" class=\"dataframe\">\n",
       "  <thead>\n",
       "    <tr style=\"text-align: right;\">\n",
       "      <th></th>\n",
       "      <th>value</th>\n",
       "    </tr>\n",
       "  </thead>\n",
       "  <tbody>\n",
       "    <tr>\n",
       "      <th>0</th>\n",
       "      <td>100.471</td>\n",
       "    </tr>\n",
       "    <tr>\n",
       "      <th>1</th>\n",
       "      <td>98.809</td>\n",
       "    </tr>\n",
       "    <tr>\n",
       "      <th>...</th>\n",
       "      <td>...</td>\n",
       "    </tr>\n",
       "    <tr>\n",
       "      <th>8</th>\n",
       "      <td>100.016</td>\n",
       "    </tr>\n",
       "    <tr>\n",
       "      <th>9</th>\n",
       "      <td>97.757</td>\n",
       "    </tr>\n",
       "  </tbody>\n",
       "</table>\n",
       "<p>10 rows × 1 columns</p>\n",
       "</div>"
      ],
      "text/plain": [
       "      value\n",
       "0   100.471\n",
       "1    98.809\n",
       "..      ...\n",
       "8   100.016\n",
       "9    97.757\n",
       "\n",
       "[10 rows x 1 columns]"
      ]
     },
     "metadata": {},
     "output_type": "display_data"
    },
    {
     "data": {
      "image/png": "[encoded data removed]",
      "text/plain": [
       "<Figure size 432x288 with 1 Axes>"
      ]
     },
     "metadata": {
      "needs_background": "light"
     },
     "output_type": "display_data"
    }
   ],
   "source": [
    "np.random.seed(1234)\n",
    "lowvar = pd.DataFrame(dict(value=np.random.normal(loc=1e2, scale=1, size=10)))\n",
    "print('lowvar')\n",
    "display(lowvar)\n",
    "lowvar.plot()\n",
    "plt.show()"
   ]
  },
  {
   "cell_type": "code",
   "execution_count": null,
   "metadata": {
    "solution2": "hidden",
    "solution2_first": true
   },
   "outputs": [],
   "source": []
  },
  {
   "cell_type": "code",
   "execution_count": 9,
   "metadata": {
    "solution2": "hidden"
   },
   "outputs": [
    {
     "data": {
      "image/png": "[encoded data removed]",
      "text/plain": [
       "<Figure size 432x288 with 1 Axes>"
      ]
     },
     "metadata": {
      "needs_background": "light"
     },
     "output_type": "display_data"
    }
   ],
   "source": [
    "lowvar.plot()\n",
    "plt.ylim((0, lowvar['value'].max() * 1.1))\n",
    "plt.show()"
   ]
  },
  {
   "cell_type": "markdown",
   "metadata": {},
   "source": [
    "#### ユニバーサルデザインへの配慮を欠く\n",
    "---\n",
    "色覚障害者に識別しづらい色表現を用いたり、過度に文化的コンテキストに依存した意味づけ (何色は〇〇という意味を持つなど) を用いたりするのは、今日では避けたほうがよい。"
   ]
  },
  {
   "cell_type": "markdown",
   "metadata": {},
   "source": [
    "## データの加工"
   ]
  },
  {
   "cell_type": "markdown",
   "metadata": {},
   "source": [
    "### カテゴリカル変数の順序\n",
    "---\n",
    "棒グラフなどカテゴリカル変数ごとの値を表示する場合は、カテゴリカル変数に順序がない場合は値の大きい順にソートして表示すると理解しやすい。  \n",
    "変数に順序がある場合には、変数の順序に従ったほうがよい場合もある。例えば、日本の都道府県コードは概ね北から順に並んでいるため、都道府県コード順に並べると棒グラフと地理的位置関係が対応してわかりやすくなる。"
   ]
  },
  {
   "cell_type": "markdown",
   "metadata": {},
   "source": [
    "###### 練習問題\n",
    "\n",
    "car_crashesデータセットを`pandas.DataFrame.sort_values`関数を用いて`total`列でソートし、値の大きい順に10件のデータだけに絞ったデータフレーム`limited`を作成し、棒グラフを表示する。"
   ]
  },
  {
   "cell_type": "code",
   "execution_count": 10,
   "metadata": {
    "hide_input": true
   },
   "outputs": [
    {
     "name": "stdout",
     "output_type": "stream",
     "text": [
      "car_crashes\n"
     ]
    },
    {
     "data": {
      "text/html": [
       "<div>\n",
       "<style scoped>\n",
       "    .dataframe tbody tr th:only-of-type {\n",
       "        vertical-align: middle;\n",
       "    }\n",
       "\n",
       "    .dataframe tbody tr th {\n",
       "        vertical-align: top;\n",
       "    }\n",
       "\n",
       "    .dataframe thead th {\n",
       "        text-align: right;\n",
       "    }\n",
       "</style>\n",
       "<table border=\"1\" class=\"dataframe\">\n",
       "  <thead>\n",
       "    <tr style=\"text-align: right;\">\n",
       "      <th></th>\n",
       "      <th>total</th>\n",
       "      <th>abbrev</th>\n",
       "    </tr>\n",
       "  </thead>\n",
       "  <tbody>\n",
       "    <tr>\n",
       "      <th>0</th>\n",
       "      <td>18.8</td>\n",
       "      <td>AL</td>\n",
       "    </tr>\n",
       "    <tr>\n",
       "      <th>1</th>\n",
       "      <td>18.1</td>\n",
       "      <td>AK</td>\n",
       "    </tr>\n",
       "    <tr>\n",
       "      <th>...</th>\n",
       "      <td>...</td>\n",
       "      <td>...</td>\n",
       "    </tr>\n",
       "    <tr>\n",
       "      <th>49</th>\n",
       "      <td>13.8</td>\n",
       "      <td>WI</td>\n",
       "    </tr>\n",
       "    <tr>\n",
       "      <th>50</th>\n",
       "      <td>17.4</td>\n",
       "      <td>WY</td>\n",
       "    </tr>\n",
       "  </tbody>\n",
       "</table>\n",
       "<p>51 rows × 2 columns</p>\n",
       "</div>"
      ],
      "text/plain": [
       "    total abbrev\n",
       "0    18.8     AL\n",
       "1    18.1     AK\n",
       "..    ...    ...\n",
       "49   13.8     WI\n",
       "50   17.4     WY\n",
       "\n",
       "[51 rows x 2 columns]"
      ]
     },
     "metadata": {},
     "output_type": "display_data"
    }
   ],
   "source": [
    "car_crashes = sns.load_dataset('car_crashes')[['total', 'abbrev']]\n",
    "print('car_crashes')\n",
    "display(car_crashes)"
   ]
  },
  {
   "cell_type": "code",
   "execution_count": 11,
   "metadata": {},
   "outputs": [],
   "source": [
    "pd.DataFrame.sort_values??"
   ]
  },
  {
   "cell_type": "code",
   "execution_count": null,
   "metadata": {
    "solution2": "hidden",
    "solution2_first": true
   },
   "outputs": [],
   "source": []
  },
  {
   "cell_type": "code",
   "execution_count": 12,
   "metadata": {
    "solution2": "hidden"
   },
   "outputs": [],
   "source": [
    "limited = car_crashes.sort_values('total', ascending=False).iloc[:10]"
   ]
  },
  {
   "cell_type": "code",
   "execution_count": 13,
   "metadata": {},
   "outputs": [
    {
     "data": {
      "image/png": "[encoded data removed]",
      "text/plain": [
       "<Figure size 432x288 with 1 Axes>"
      ]
     },
     "metadata": {
      "needs_background": "light"
     },
     "output_type": "display_data"
    }
   ],
   "source": [
    "limited.plot.bar('abbrev', 'total', color='gray')\n",
    "plt.show()"
   ]
  },
  {
   "cell_type": "markdown",
   "metadata": {},
   "source": [
    "### 時系列データの値\n",
    "---\n",
    "時系列データを折れ線グラフで表現する場合には、そのままの値ではなく何らかの加工を施したほうが理解しやすくなる場合がある。"
   ]
  },
  {
   "cell_type": "markdown",
   "metadata": {},
   "source": [
    "### 指数化\n",
    "---\n",
    "先進国と途上国のGDP推移比較など、スケール (値の大きさ) の異なる系列同士の場合にはある時点の値を基準 (100など) とした指数に直してスケールを揃えたほうが比較しやすい。"
   ]
  },
  {
   "cell_type": "markdown",
   "metadata": {},
   "source": [
    "###### 練習問題\n",
    "\n",
    "stocksデータセットの各列を`pandas.DataFrame.apply`を用いて`2018-01-02`時点の値を基準に指数化したデータフレーム`scaled`を作成し、複数系列折れ線グラフで表示する。"
   ]
  },
  {
   "cell_type": "code",
   "execution_count": 14,
   "metadata": {
    "hide_input": true
   },
   "outputs": [
    {
     "name": "stdout",
     "output_type": "stream",
     "text": [
      "stocks\n"
     ]
    },
    {
     "data": {
      "text/html": [
       "<div>\n",
       "<style scoped>\n",
       "    .dataframe tbody tr th:only-of-type {\n",
       "        vertical-align: middle;\n",
       "    }\n",
       "\n",
       "    .dataframe tbody tr th {\n",
       "        vertical-align: top;\n",
       "    }\n",
       "\n",
       "    .dataframe thead th {\n",
       "        text-align: right;\n",
       "    }\n",
       "</style>\n",
       "<table border=\"1\" class=\"dataframe\">\n",
       "  <thead>\n",
       "    <tr style=\"text-align: right;\">\n",
       "      <th></th>\n",
       "      <th>Apple</th>\n",
       "      <th>Amazon</th>\n",
       "      <th>Facebook</th>\n",
       "      <th>Google</th>\n",
       "    </tr>\n",
       "    <tr>\n",
       "      <th>date</th>\n",
       "      <th></th>\n",
       "      <th></th>\n",
       "      <th></th>\n",
       "      <th></th>\n",
       "    </tr>\n",
       "  </thead>\n",
       "  <tbody>\n",
       "    <tr>\n",
       "      <th>2018-01-02</th>\n",
       "      <td>169.712</td>\n",
       "      <td>1189.01</td>\n",
       "      <td>181.42</td>\n",
       "      <td>1073.21</td>\n",
       "    </tr>\n",
       "    <tr>\n",
       "      <th>2018-01-03</th>\n",
       "      <td>169.683</td>\n",
       "      <td>1204.20</td>\n",
       "      <td>184.67</td>\n",
       "      <td>1091.52</td>\n",
       "    </tr>\n",
       "    <tr>\n",
       "      <th>...</th>\n",
       "      <td>...</td>\n",
       "      <td>...</td>\n",
       "      <td>...</td>\n",
       "      <td>...</td>\n",
       "    </tr>\n",
       "    <tr>\n",
       "      <th>2018-12-28</th>\n",
       "      <td>156.230</td>\n",
       "      <td>1478.02</td>\n",
       "      <td>133.20</td>\n",
       "      <td>1046.68</td>\n",
       "    </tr>\n",
       "    <tr>\n",
       "      <th>2018-12-31</th>\n",
       "      <td>157.740</td>\n",
       "      <td>1501.97</td>\n",
       "      <td>131.09</td>\n",
       "      <td>1044.96</td>\n",
       "    </tr>\n",
       "  </tbody>\n",
       "</table>\n",
       "<p>251 rows × 4 columns</p>\n",
       "</div>"
      ],
      "text/plain": [
       "              Apple   Amazon  Facebook   Google\n",
       "date                                           \n",
       "2018-01-02  169.712  1189.01    181.42  1073.21\n",
       "2018-01-03  169.683  1204.20    184.67  1091.52\n",
       "...             ...      ...       ...      ...\n",
       "2018-12-28  156.230  1478.02    133.20  1046.68\n",
       "2018-12-31  157.740  1501.97    131.09  1044.96\n",
       "\n",
       "[251 rows x 4 columns]"
      ]
     },
     "metadata": {},
     "output_type": "display_data"
    }
   ],
   "source": [
    "start = datetime.datetime(2018, 1, 1)\n",
    "end = datetime.datetime(2018, 12, 31)\n",
    "column_map = dict(GOOGL='Google', AAPL='Apple', FB='Facebook', AMZN='Amazon')\n",
    "stocks = web.DataReader(['GOOGL', 'AAPL', 'FB', 'AMZN'], 'iex', start, end)['close']\n",
    "stocks.columns = [column_map[k] for k in stocks.columns]\n",
    "print('stocks')\n",
    "display(stocks)"
   ]
  },
  {
   "cell_type": "code",
   "execution_count": 15,
   "metadata": {},
   "outputs": [],
   "source": [
    "pd.DataFrame.apply??"
   ]
  },
  {
   "cell_type": "code",
   "execution_count": null,
   "metadata": {
    "solution2": "hidden",
    "solution2_first": true
   },
   "outputs": [],
   "source": []
  },
  {
   "cell_type": "code",
   "execution_count": 16,
   "metadata": {
    "solution2": "hidden"
   },
   "outputs": [],
   "source": [
    "scaled = stocks.apply(lambda s: s / s.loc['2018-01-02'] * 100)"
   ]
  },
  {
   "cell_type": "code",
   "execution_count": 17,
   "metadata": {},
   "outputs": [
    {
     "data": {
      "image/png": "[encoded data removed]",
      "text/plain": [
       "<Figure size 432x288 with 1 Axes>"
      ]
     },
     "metadata": {
      "needs_background": "light"
     },
     "output_type": "display_data"
    }
   ],
   "source": [
    "scaled.plot()\n",
    "plt.show()"
   ]
  },
  {
   "cell_type": "markdown",
   "metadata": {},
   "source": [
    "### 移動平均\n",
    "---\n",
    "小さい変動の影響を除いた、大きな傾向を把握したい場合には前後のデータとの平均である移動平均を用いる。"
   ]
  },
  {
   "cell_type": "markdown",
   "metadata": {},
   "source": [
    "###### 練習問題\n",
    "\n",
    "stocksデータセットの各列を`pandas.DataFrame.rolling`関数を用いて、前後2件ずつの移動平均に変換したデータセット`moving_average`を作成し、折れ線グラフを表示する。"
   ]
  },
  {
   "cell_type": "code",
   "execution_count": 18,
   "metadata": {
    "hide_input": true
   },
   "outputs": [
    {
     "name": "stdout",
     "output_type": "stream",
     "text": [
      "stocks\n"
     ]
    },
    {
     "data": {
      "text/html": [
       "<div>\n",
       "<style scoped>\n",
       "    .dataframe tbody tr th:only-of-type {\n",
       "        vertical-align: middle;\n",
       "    }\n",
       "\n",
       "    .dataframe tbody tr th {\n",
       "        vertical-align: top;\n",
       "    }\n",
       "\n",
       "    .dataframe thead th {\n",
       "        text-align: right;\n",
       "    }\n",
       "</style>\n",
       "<table border=\"1\" class=\"dataframe\">\n",
       "  <thead>\n",
       "    <tr style=\"text-align: right;\">\n",
       "      <th></th>\n",
       "      <th>Apple</th>\n",
       "      <th>Amazon</th>\n",
       "      <th>Facebook</th>\n",
       "      <th>Google</th>\n",
       "    </tr>\n",
       "    <tr>\n",
       "      <th>date</th>\n",
       "      <th></th>\n",
       "      <th></th>\n",
       "      <th></th>\n",
       "      <th></th>\n",
       "    </tr>\n",
       "  </thead>\n",
       "  <tbody>\n",
       "    <tr>\n",
       "      <th>2018-01-02</th>\n",
       "      <td>169.712</td>\n",
       "      <td>1189.01</td>\n",
       "      <td>181.42</td>\n",
       "      <td>1073.21</td>\n",
       "    </tr>\n",
       "    <tr>\n",
       "      <th>2018-01-03</th>\n",
       "      <td>169.683</td>\n",
       "      <td>1204.20</td>\n",
       "      <td>184.67</td>\n",
       "      <td>1091.52</td>\n",
       "    </tr>\n",
       "    <tr>\n",
       "      <th>...</th>\n",
       "      <td>...</td>\n",
       "      <td>...</td>\n",
       "      <td>...</td>\n",
       "      <td>...</td>\n",
       "    </tr>\n",
       "    <tr>\n",
       "      <th>2018-12-28</th>\n",
       "      <td>156.230</td>\n",
       "      <td>1478.02</td>\n",
       "      <td>133.20</td>\n",
       "      <td>1046.68</td>\n",
       "    </tr>\n",
       "    <tr>\n",
       "      <th>2018-12-31</th>\n",
       "      <td>157.740</td>\n",
       "      <td>1501.97</td>\n",
       "      <td>131.09</td>\n",
       "      <td>1044.96</td>\n",
       "    </tr>\n",
       "  </tbody>\n",
       "</table>\n",
       "<p>251 rows × 4 columns</p>\n",
       "</div>"
      ],
      "text/plain": [
       "              Apple   Amazon  Facebook   Google\n",
       "date                                           \n",
       "2018-01-02  169.712  1189.01    181.42  1073.21\n",
       "2018-01-03  169.683  1204.20    184.67  1091.52\n",
       "...             ...      ...       ...      ...\n",
       "2018-12-28  156.230  1478.02    133.20  1046.68\n",
       "2018-12-31  157.740  1501.97    131.09  1044.96\n",
       "\n",
       "[251 rows x 4 columns]"
      ]
     },
     "metadata": {},
     "output_type": "display_data"
    }
   ],
   "source": [
    "print('stocks')\n",
    "display(stocks)"
   ]
  },
  {
   "cell_type": "code",
   "execution_count": 19,
   "metadata": {},
   "outputs": [],
   "source": [
    "pd.DataFrame.rolling??"
   ]
  },
  {
   "cell_type": "code",
   "execution_count": null,
   "metadata": {
    "solution2": "hidden",
    "solution2_first": true
   },
   "outputs": [],
   "source": []
  },
  {
   "cell_type": "code",
   "execution_count": 20,
   "metadata": {
    "solution2": "hidden"
   },
   "outputs": [],
   "source": [
    "moving_average = stocks.rolling(5, center=True).mean()"
   ]
  },
  {
   "cell_type": "code",
   "execution_count": 21,
   "metadata": {},
   "outputs": [
    {
     "data": {
      "image/png": "[encoded data removed]",
      "text/plain": [
       "<Figure size 432x288 with 1 Axes>"
      ]
     },
     "metadata": {
      "needs_background": "light"
     },
     "output_type": "display_data"
    }
   ],
   "source": [
    "moving_average.plot()\n",
    "plt.show()"
   ]
  },
  {
   "cell_type": "markdown",
   "metadata": {},
   "source": [
    "### 対数化\n",
    "---\n",
    "複利効果がある場合など、時間の経過とともに値の大きさや振れ幅が大きくなるようなデータでは、対数 log の折れ線グラフを用いると傾向を把握しやすい。  \n",
    "対数をとった場合はグラフの傾きが成長率を表すため、傾きが一定ならば成長率が一定と解釈する。"
   ]
  },
  {
   "cell_type": "markdown",
   "metadata": {},
   "source": [
    "###### 練習問題\n",
    "\n",
    "gdpデータセットの対数をとったデータセット`log_gdp`を作成し、複数系列折れ線グラフを表示する。"
   ]
  },
  {
   "cell_type": "code",
   "execution_count": 22,
   "metadata": {
    "hide_input": true
   },
   "outputs": [
    {
     "name": "stdout",
     "output_type": "stream",
     "text": [
      "gdp\n"
     ]
    },
    {
     "data": {
      "text/html": [
       "<div>\n",
       "<style scoped>\n",
       "    .dataframe tbody tr th:only-of-type {\n",
       "        vertical-align: middle;\n",
       "    }\n",
       "\n",
       "    .dataframe tbody tr th {\n",
       "        vertical-align: top;\n",
       "    }\n",
       "\n",
       "    .dataframe thead th {\n",
       "        text-align: right;\n",
       "    }\n",
       "</style>\n",
       "<table border=\"1\" class=\"dataframe\">\n",
       "  <thead>\n",
       "    <tr style=\"text-align: right;\">\n",
       "      <th>country</th>\n",
       "      <th>China</th>\n",
       "      <th>Japan</th>\n",
       "      <th>United States</th>\n",
       "    </tr>\n",
       "    <tr>\n",
       "      <th>year</th>\n",
       "      <th></th>\n",
       "      <th></th>\n",
       "      <th></th>\n",
       "    </tr>\n",
       "  </thead>\n",
       "  <tbody>\n",
       "    <tr>\n",
       "      <th>1960</th>\n",
       "      <td>59716467625</td>\n",
       "      <td>44307342950</td>\n",
       "      <td>543300000000</td>\n",
       "    </tr>\n",
       "    <tr>\n",
       "      <th>1961</th>\n",
       "      <td>50056868957</td>\n",
       "      <td>53508617739</td>\n",
       "      <td>563300000000</td>\n",
       "    </tr>\n",
       "    <tr>\n",
       "      <th>...</th>\n",
       "      <td>...</td>\n",
       "      <td>...</td>\n",
       "      <td>...</td>\n",
       "    </tr>\n",
       "    <tr>\n",
       "      <th>2016</th>\n",
       "      <td>11190992550229</td>\n",
       "      <td>4949273341993</td>\n",
       "      <td>18624475000000</td>\n",
       "    </tr>\n",
       "    <tr>\n",
       "      <th>2017</th>\n",
       "      <td>12237700479375</td>\n",
       "      <td>4872136945507</td>\n",
       "      <td>19390604000000</td>\n",
       "    </tr>\n",
       "  </tbody>\n",
       "</table>\n",
       "<p>58 rows × 3 columns</p>\n",
       "</div>"
      ],
      "text/plain": [
       "country           China          Japan   United States\n",
       "year                                                  \n",
       "1960        59716467625    44307342950    543300000000\n",
       "1961        50056868957    53508617739    563300000000\n",
       "...                 ...            ...             ...\n",
       "2016     11190992550229  4949273341993  18624475000000\n",
       "2017     12237700479375  4872136945507  19390604000000\n",
       "\n",
       "[58 rows x 3 columns]"
      ]
     },
     "metadata": {},
     "output_type": "display_data"
    },
    {
     "data": {
      "image/png": "[encoded data removed]",
      "text/plain": [
       "<Figure size 432x288 with 1 Axes>"
      ]
     },
     "metadata": {
      "needs_background": "light"
     },
     "output_type": "display_data"
    }
   ],
   "source": [
    "gdp = wb.download(indicator='NY.GDP.MKTP.CD', country=['JP', 'US', 'CN'], start=1960, end=2017).unstack(level=0).astype(int)\n",
    "gdp.columns = gdp.columns.levels[1]\n",
    "print('gdp')\n",
    "display(gdp)\n",
    "gdp.plot()\n",
    "plt.show()"
   ]
  },
  {
   "cell_type": "code",
   "execution_count": null,
   "metadata": {
    "solution2": "hidden",
    "solution2_first": true
   },
   "outputs": [],
   "source": []
  },
  {
   "cell_type": "code",
   "execution_count": 23,
   "metadata": {
    "solution2": "hidden"
   },
   "outputs": [],
   "source": [
    "log_gdp = gdp.apply(np.log)"
   ]
  },
  {
   "cell_type": "code",
   "execution_count": 24,
   "metadata": {},
   "outputs": [
    {
     "data": {
      "image/png": "[encoded data removed]",
      "text/plain": [
       "<Figure size 432x288 with 1 Axes>"
      ]
     },
     "metadata": {
      "needs_background": "light"
     },
     "output_type": "display_data"
    }
   ],
   "source": [
    "log_gdp.plot()\n",
    "plt.show()"
   ]
  },
  {
   "cell_type": "markdown",
   "metadata": {},
   "source": [
    "### 変化率\n",
    "---\n",
    "周期性のあるデータや成長率が重要なデータなどでは、一定期間前との比率を用いる。  \n",
    "対数の差分は、経済成長率など成長率が小さい値の場合には近似値として利用可能。"
   ]
  },
  {
   "cell_type": "markdown",
   "metadata": {},
   "source": [
    "###### 練習問題\n",
    "\n",
    "passengersデータセットを`pandas.DataFrame.shift`関数を用いて、前年同期との成長率・対数差分を表す`成長率`列・`対数差分`列を作成し、複数系列折れ線グラフで重ねて表示する。"
   ]
  },
  {
   "cell_type": "code",
   "execution_count": 25,
   "metadata": {
    "hide_input": true
   },
   "outputs": [
    {
     "name": "stdout",
     "output_type": "stream",
     "text": [
      "flights\n"
     ]
    },
    {
     "data": {
      "text/html": [
       "<div>\n",
       "<style scoped>\n",
       "    .dataframe tbody tr th:only-of-type {\n",
       "        vertical-align: middle;\n",
       "    }\n",
       "\n",
       "    .dataframe tbody tr th {\n",
       "        vertical-align: top;\n",
       "    }\n",
       "\n",
       "    .dataframe thead th {\n",
       "        text-align: right;\n",
       "    }\n",
       "</style>\n",
       "<table border=\"1\" class=\"dataframe\">\n",
       "  <thead>\n",
       "    <tr style=\"text-align: right;\">\n",
       "      <th></th>\n",
       "      <th>year</th>\n",
       "      <th>month</th>\n",
       "      <th>passengers</th>\n",
       "    </tr>\n",
       "  </thead>\n",
       "  <tbody>\n",
       "    <tr>\n",
       "      <th>0</th>\n",
       "      <td>1949</td>\n",
       "      <td>January</td>\n",
       "      <td>112</td>\n",
       "    </tr>\n",
       "    <tr>\n",
       "      <th>1</th>\n",
       "      <td>1949</td>\n",
       "      <td>February</td>\n",
       "      <td>118</td>\n",
       "    </tr>\n",
       "    <tr>\n",
       "      <th>...</th>\n",
       "      <td>...</td>\n",
       "      <td>...</td>\n",
       "      <td>...</td>\n",
       "    </tr>\n",
       "    <tr>\n",
       "      <th>142</th>\n",
       "      <td>1960</td>\n",
       "      <td>November</td>\n",
       "      <td>390</td>\n",
       "    </tr>\n",
       "    <tr>\n",
       "      <th>143</th>\n",
       "      <td>1960</td>\n",
       "      <td>December</td>\n",
       "      <td>432</td>\n",
       "    </tr>\n",
       "  </tbody>\n",
       "</table>\n",
       "<p>144 rows × 3 columns</p>\n",
       "</div>"
      ],
      "text/plain": [
       "     year     month  passengers\n",
       "0    1949   January         112\n",
       "1    1949  February         118\n",
       "..    ...       ...         ...\n",
       "142  1960  November         390\n",
       "143  1960  December         432\n",
       "\n",
       "[144 rows x 3 columns]"
      ]
     },
     "metadata": {},
     "output_type": "display_data"
    },
    {
     "data": {
      "image/png": "[encoded data removed]",
      "text/plain": [
       "<Figure size 432x288 with 1 Axes>"
      ]
     },
     "metadata": {
      "needs_background": "light"
     },
     "output_type": "display_data"
    }
   ],
   "source": [
    "flights = sns.load_dataset('flights')\n",
    "print('flights')\n",
    "display(flights)\n",
    "flights.plot(y='passengers')\n",
    "plt.show()"
   ]
  },
  {
   "cell_type": "code",
   "execution_count": 26,
   "metadata": {},
   "outputs": [],
   "source": [
    "pd.DataFrame.shift??"
   ]
  },
  {
   "cell_type": "code",
   "execution_count": null,
   "metadata": {
    "solution2": "hidden",
    "solution2_first": true
   },
   "outputs": [],
   "source": []
  },
  {
   "cell_type": "code",
   "execution_count": 27,
   "metadata": {
    "solution2": "hidden"
   },
   "outputs": [
    {
     "data": {
      "image/png": "[encoded data removed]",
      "text/plain": [
       "<Figure size 432x288 with 1 Axes>"
      ]
     },
     "metadata": {
      "needs_background": "light"
     },
     "output_type": "display_data"
    }
   ],
   "source": [
    "flights['成長率'] = flights['passengers'] / flights['passengers'].shift(12) - 1\n",
    "flights['対数差分'] = flights['passengers'].apply(np.log) - flights['passengers'].apply(np.log).shift(12)\n",
    "flights[['成長率', '対数差分']].plot()\n",
    "plt.show()"
   ]
  }
 ],
 "metadata": {
  "kernelspec": {
   "display_name": "Python 3",
   "language": "python",
   "name": "python3"
  },
  "language_info": {
   "codemirror_mode": {
    "name": "ipython",
    "version": 3
   },
   "file_extension": ".py",
   "mimetype": "text/x-python",
   "name": "python",
   "nbconvert_exporter": "python",
   "pygments_lexer": "ipython3",
   "version": "3.6.8"
  },
  "toc": {
   "base_numbering": 1,
   "nav_menu": {},
   "number_sections": true,
   "sideBar": true,
   "skip_h1_title": true,
   "title_cell": "Table of Contents",
   "title_sidebar": "Contents",
   "toc_cell": false,
   "toc_position": {},
   "toc_section_display": true,
   "toc_window_display": true
  },
  "varInspector": {
   "cols": {
    "lenName": 16,
    "lenType": 16,
    "lenVar": 40
   },
   "kernels_config": {
    "python": {
     "delete_cmd_postfix": "",
     "delete_cmd_prefix": "del ",
     "library": "var_list.py",
     "varRefreshCmd": "print(var_dic_list())"
    },
    "r": {
     "delete_cmd_postfix": ") ",
     "delete_cmd_prefix": "rm(",
     "library": "var_list.r",
     "varRefreshCmd": "cat(var_dic_list()) "
    }
   },
   "types_to_exclude": [
    "module",
    "function",
    "builtin_function_or_method",
    "instance",
    "_Feature"
   ],
   "window_display": false
  }
 },
 "nbformat": 4,
 "nbformat_minor": 2
}
