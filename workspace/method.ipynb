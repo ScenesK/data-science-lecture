{
 "cells": [
  {
   "cell_type": "markdown",
   "metadata": {},
   "source": [
    "## 予習\n",
    "---\n",
    "- 該当部分の教材は事前に予習\n",
    "- ケーススタディ・考えてみるなどの部分はできるだけ自分で考えてみる\n",
    " - 教材にあるようなライブラリの使い方などの賞味期限は数年程度\n",
    " - 仮説設定力・ビジネス理解・分析結果を実行に移す力などのスキルを身につけなければデータサイエンティストとしては生き残れない"
   ]
  },
  {
   "cell_type": "markdown",
   "metadata": {},
   "source": [
    "## 進め方\n",
    "---\n",
    "- 練習問題・質疑を中心に進行\n",
    " - 練習問題の解答例は初見・短時間では書けないようなコードもあるので、解決方法等を検索して自分なりにやってみる\n",
    " - 解答ができたら、全員に共有 ([Visual Studio Live Share](https://visualstudio.microsoft.com/ja/services/live-share/) を利用、書き込み先は\"Jupyterのページ名\".py )\n",
    " - 方法は 1 つとは限らないので、解答が 1 つ上がっても他の方法を上げて OK"
   ]
  }
 ],
 "metadata": {
  "kernelspec": {
   "display_name": "Python 3",
   "language": "python",
   "name": "python3"
  },
  "language_info": {
   "codemirror_mode": {
    "name": "ipython",
    "version": 3
   },
   "file_extension": ".py",
   "mimetype": "text/x-python",
   "name": "python",
   "nbconvert_exporter": "python",
   "pygments_lexer": "ipython3",
   "version": "3.6.8"
  },
  "toc": {
   "base_numbering": 1,
   "nav_menu": {},
   "number_sections": true,
   "sideBar": true,
   "skip_h1_title": true,
   "title_cell": "Table of Contents",
   "title_sidebar": "Contents",
   "toc_cell": false,
   "toc_position": {},
   "toc_section_display": true,
   "toc_window_display": true
  },
  "varInspector": {
   "cols": {
    "lenName": 16,
    "lenType": 16,
    "lenVar": 40
   },
   "kernels_config": {
    "python": {
     "delete_cmd_postfix": "",
     "delete_cmd_prefix": "del ",
     "library": "var_list.py",
     "varRefreshCmd": "print(var_dic_list())"
    },
    "r": {
     "delete_cmd_postfix": ") ",
     "delete_cmd_prefix": "rm(",
     "library": "var_list.r",
     "varRefreshCmd": "cat(var_dic_list()) "
    }
   },
   "types_to_exclude": [
    "module",
    "function",
    "builtin_function_or_method",
    "instance",
    "_Feature"
   ],
   "window_display": false
  }
 },
 "nbformat": 4,
 "nbformat_minor": 2
}
