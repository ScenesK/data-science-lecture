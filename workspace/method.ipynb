{
 "cells": [
  {
   "cell_type": "markdown",
   "metadata": {},
   "source": [
    "# 進め方"
   ]
  },
  {
   "cell_type": "markdown",
   "metadata": {},
   "source": [
    "## 目標を決める\n",
    "---\n",
    "- 最終的にどんなデータを分析できるようになりたいか考える\n",
    " - 目標の近い人同士でペア・グループを作る\n",
    "- 最初から全部の理解を目指さない\n",
    " - それぞれの目標に合わせて取捨選択する"
   ]
  },
  {
   "cell_type": "markdown",
   "metadata": {},
   "source": [
    "## 予習\n",
    "---\n",
    "- 該当部分の教材は事前に読んでおく\n",
    "- ケーススタディ・考えてみるなどの部分はできるだけ自分で考えてみる\n",
    " - 教材にあるようなライブラリの使い方などの賞味期限は数年程度\n",
    " - 仮説設定力・ビジネス理解・分析結果を実行に移す力などのスキルを身につけなければデータサイエンティストとしては生き残れない"
   ]
  },
  {
   "cell_type": "markdown",
   "metadata": {},
   "source": [
    "## 進め方\n",
    "---\n",
    "- 予め質問や扱って欲しい内容が出ていれば回答\n",
    "- ペア・グループ単位で練習問題・質疑を中心に進行\n",
    " - 練習問題の解答例は初見・短時間では書けないようなコードもあるので、解決方法等を検索して自分なりにやってみる\n",
    " - 互いに質疑応答することで理解を深めるのが目的だが、そこで解決できない内容については助けを求める"
   ]
  }
 ],
 "metadata": {
  "kernelspec": {
   "display_name": "Python 3",
   "language": "python",
   "name": "python3"
  },
  "language_info": {
   "codemirror_mode": {
    "name": "ipython",
    "version": 3
   },
   "file_extension": ".py",
   "mimetype": "text/x-python",
   "name": "python",
   "nbconvert_exporter": "python",
   "pygments_lexer": "ipython3",
   "version": "3.7.4"
  },
  "toc": {
   "base_numbering": 1,
   "nav_menu": {},
   "number_sections": true,
   "sideBar": true,
   "skip_h1_title": true,
   "title_cell": "Table of Contents",
   "title_sidebar": "Contents",
   "toc_cell": false,
   "toc_position": {},
   "toc_section_display": true,
   "toc_window_display": true
  },
  "varInspector": {
   "cols": {
    "lenName": 16,
    "lenType": 16,
    "lenVar": 40
   },
   "kernels_config": {
    "python": {
     "delete_cmd_postfix": "",
     "delete_cmd_prefix": "del ",
     "library": "var_list.py",
     "varRefreshCmd": "print(var_dic_list())"
    },
    "r": {
     "delete_cmd_postfix": ") ",
     "delete_cmd_prefix": "rm(",
     "library": "var_list.r",
     "varRefreshCmd": "cat(var_dic_list()) "
    }
   },
   "types_to_exclude": [
    "module",
    "function",
    "builtin_function_or_method",
    "instance",
    "_Feature"
   ],
   "window_display": false
  }
 },
 "nbformat": 4,
 "nbformat_minor": 4
}
