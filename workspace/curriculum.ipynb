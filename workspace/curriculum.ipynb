{
 "cells": [
  {
   "cell_type": "markdown",
   "metadata": {},
   "source": [
    "# カリキュラム"
   ]
  },
  {
   "cell_type": "markdown",
   "metadata": {},
   "source": [
    "## 導入\n",
    "---\n",
    "- [到達目標](target.ipynb)\n",
    "- [進め方](method.ipynb)"
   ]
  },
  {
   "cell_type": "markdown",
   "metadata": {},
   "source": [
    "## データサイエンス初級\n",
    "---\n",
    "データ分析手法を実行できるようになる"
   ]
  },
  {
   "cell_type": "markdown",
   "metadata": {},
   "source": [
    "### [簡単な分析を実行する](market_basket_analysis.ipynb)\n",
    "---\n",
    "条件付き確率を理解する  \n",
    "マーケット・バスケット分析を使える"
   ]
  },
  {
   "cell_type": "markdown",
   "metadata": {},
   "source": [
    "### [データ分析を実施するにあたっての注意点](caution.ipynb)\n",
    "---\n",
    "実際にデータを扱う前後の工程の重要性を理解する"
   ]
  },
  {
   "cell_type": "markdown",
   "metadata": {},
   "source": [
    "### データの内容を把握する"
   ]
  },
  {
   "cell_type": "markdown",
   "metadata": {},
   "source": [
    "#### 数値で把握する"
   ]
  },
  {
   "cell_type": "markdown",
   "metadata": {},
   "source": [
    "##### [変数ごとに把握](describe.ipynb)\n",
    "---\n",
    "代表値の種類を把握する  \n",
    "データの尺度の違いがわかる  \n",
    "分散・標準偏差・四分位点がわかる"
   ]
  },
  {
   "cell_type": "markdown",
   "metadata": {},
   "source": [
    "##### [変数の組み合わせごとに把握](summarize.ipynb)\n",
    "---\n",
    "クロス集計表が作成できる  \n",
    "相関係数がわかる"
   ]
  },
  {
   "cell_type": "markdown",
   "metadata": {},
   "source": [
    "#### グラフで把握する"
   ]
  },
  {
   "cell_type": "markdown",
   "metadata": {},
   "source": [
    "##### [変数ごとに把握](visualization.ipynb)\n",
    "---\n",
    "棒グラフ・ヒストグラム・箱ひげ図が作成できる"
   ]
  },
  {
   "cell_type": "markdown",
   "metadata": {},
   "source": [
    "##### [変数の組み合わせごとに把握](visualization2d.ipynb)\n",
    "---\n",
    "1変数の層別グラフが作成できる  \n",
    "モザイク図・散布図が作成できる"
   ]
  },
  {
   "cell_type": "markdown",
   "metadata": {},
   "source": [
    "#### [複数変数を一度に把握](graph_matrix.ipynb)\n",
    "---\n",
    "散布図行列・相関行列が作成できる"
   ]
  },
  {
   "cell_type": "markdown",
   "metadata": {},
   "source": [
    "#### [時系列データの把握](line_chart.ipynb)\n",
    "---\n",
    "折れ線グラフが作成できる"
   ]
  },
  {
   "cell_type": "markdown",
   "metadata": {},
   "source": [
    "#### 可視化のためのデータ操作\n",
    "---\n",
    "データのソート・都道府県コード等での結合 -> 棒グラフの軸の順番を変更\n",
    " - 棒グラフの横軸に順番がない場合、値順にソートすると見やすい\n",
    "\n",
    "時系列データの移動平均・指数化・成長率"
   ]
  },
  {
   "cell_type": "markdown",
   "metadata": {},
   "source": [
    "## データサイエンス中級"
   ]
  },
  {
   "cell_type": "markdown",
   "metadata": {},
   "source": [
    "##### グラフ表示の注意点\n",
    "---\n",
    "何を見たいか、伝えたいかを考えてグラフの種類を選ぶ  \n",
    "軸は原点から始める  \n",
    "カテゴリ数が多い場合は棒グラフの軸に意味を持たせる  \n",
    "色・大きさ・原点の位置などの影響  \n",
    "可視化演習"
   ]
  }
 ],
 "metadata": {
  "kernelspec": {
   "display_name": "Python 3",
   "language": "python",
   "name": "python3"
  },
  "language_info": {
   "codemirror_mode": {
    "name": "ipython",
    "version": 3
   },
   "file_extension": ".py",
   "mimetype": "text/x-python",
   "name": "python",
   "nbconvert_exporter": "python",
   "pygments_lexer": "ipython3",
   "version": "3.6.7"
  },
  "toc": {
   "base_numbering": 1,
   "nav_menu": {},
   "number_sections": true,
   "sideBar": true,
   "skip_h1_title": true,
   "title_cell": "Table of Contents",
   "title_sidebar": "Contents",
   "toc_cell": false,
   "toc_position": {},
   "toc_section_display": true,
   "toc_window_display": true
  },
  "varInspector": {
   "cols": {
    "lenName": 16,
    "lenType": 16,
    "lenVar": 40
   },
   "kernels_config": {
    "python": {
     "delete_cmd_postfix": "",
     "delete_cmd_prefix": "del ",
     "library": "var_list.py",
     "varRefreshCmd": "print(var_dic_list())"
    },
    "r": {
     "delete_cmd_postfix": ") ",
     "delete_cmd_prefix": "rm(",
     "library": "var_list.r",
     "varRefreshCmd": "cat(var_dic_list()) "
    }
   },
   "types_to_exclude": [
    "module",
    "function",
    "builtin_function_or_method",
    "instance",
    "_Feature"
   ],
   "window_display": false
  }
 },
 "nbformat": 4,
 "nbformat_minor": 2
}
