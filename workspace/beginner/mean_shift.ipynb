{
 "cells": [
  {
   "cell_type": "code",
   "execution_count": 1,
   "metadata": {},
   "outputs": [],
   "source": [
    "import pandas as pd\n",
    "from sklearn.cluster import MeanShift\n",
    "from IPython.display import display\n",
    "import matplotlib.pyplot as plt\n",
    "from matplotlib.figure import figaspect\n",
    "import seaborn as sns\n",
    "pd.set_option('max_rows', 5)\n",
    "%matplotlib inline"
   ]
  },
  {
   "cell_type": "markdown",
   "metadata": {},
   "source": [
    "# Mean Shift\n",
    "---\n",
    "特徴空間で、指定した距離内の密度に基づいてクラスタ数を求める手法。"
   ]
  },
  {
   "cell_type": "code",
   "execution_count": 2,
   "metadata": {
    "hide_input": true,
    "jupyter": {
     "source_hidden": true
    }
   },
   "outputs": [
    {
     "name": "stdout",
     "output_type": "stream",
     "text": [
      "iris\n"
     ]
    },
    {
     "data": {
      "text/html": [
       "<div>\n",
       "<style scoped>\n",
       "    .dataframe tbody tr th:only-of-type {\n",
       "        vertical-align: middle;\n",
       "    }\n",
       "\n",
       "    .dataframe tbody tr th {\n",
       "        vertical-align: top;\n",
       "    }\n",
       "\n",
       "    .dataframe thead th {\n",
       "        text-align: right;\n",
       "    }\n",
       "</style>\n",
       "<table border=\"1\" class=\"dataframe\">\n",
       "  <thead>\n",
       "    <tr style=\"text-align: right;\">\n",
       "      <th></th>\n",
       "      <th>sepal_length</th>\n",
       "      <th>sepal_width</th>\n",
       "      <th>petal_length</th>\n",
       "      <th>petal_width</th>\n",
       "      <th>species</th>\n",
       "    </tr>\n",
       "  </thead>\n",
       "  <tbody>\n",
       "    <tr>\n",
       "      <th>0</th>\n",
       "      <td>5.1</td>\n",
       "      <td>3.5</td>\n",
       "      <td>1.4</td>\n",
       "      <td>0.2</td>\n",
       "      <td>setosa</td>\n",
       "    </tr>\n",
       "    <tr>\n",
       "      <th>1</th>\n",
       "      <td>4.9</td>\n",
       "      <td>3.0</td>\n",
       "      <td>1.4</td>\n",
       "      <td>0.2</td>\n",
       "      <td>setosa</td>\n",
       "    </tr>\n",
       "    <tr>\n",
       "      <th>...</th>\n",
       "      <td>...</td>\n",
       "      <td>...</td>\n",
       "      <td>...</td>\n",
       "      <td>...</td>\n",
       "      <td>...</td>\n",
       "    </tr>\n",
       "    <tr>\n",
       "      <th>148</th>\n",
       "      <td>6.2</td>\n",
       "      <td>3.4</td>\n",
       "      <td>5.4</td>\n",
       "      <td>2.3</td>\n",
       "      <td>virginica</td>\n",
       "    </tr>\n",
       "    <tr>\n",
       "      <th>149</th>\n",
       "      <td>5.9</td>\n",
       "      <td>3.0</td>\n",
       "      <td>5.1</td>\n",
       "      <td>1.8</td>\n",
       "      <td>virginica</td>\n",
       "    </tr>\n",
       "  </tbody>\n",
       "</table>\n",
       "<p>150 rows × 5 columns</p>\n",
       "</div>"
      ],
      "text/plain": [
       "     sepal_length  sepal_width  petal_length  petal_width    species\n",
       "0             5.1          3.5           1.4          0.2     setosa\n",
       "1             4.9          3.0           1.4          0.2     setosa\n",
       "..            ...          ...           ...          ...        ...\n",
       "148           6.2          3.4           5.4          2.3  virginica\n",
       "149           5.9          3.0           5.1          1.8  virginica\n",
       "\n",
       "[150 rows x 5 columns]"
      ]
     },
     "metadata": {},
     "output_type": "display_data"
    },
    {
     "data": {
      "image/png": "[encoded data removed]",
      "text/plain": [
       "<Figure size 288x288 with 1 Axes>"
      ]
     },
     "metadata": {},
     "output_type": "display_data"
    }
   ],
   "source": [
    "iris = sns.load_dataset('iris')\n",
    "print('iris')\n",
    "display(iris)\n",
    "plt.figure(figsize=figaspect(1))\n",
    "ax = plt.axes()\n",
    "iris.plot.scatter('sepal_length', 'sepal_width', c='black', ax=ax)\n",
    "ax.set(xticks=(), yticks=())\n",
    "plt.show()"
   ]
  },
  {
   "cell_type": "code",
   "execution_count": 3,
   "metadata": {
    "hide_input": true,
    "jupyter": {
     "source_hidden": true
    }
   },
   "outputs": [
    {
     "data": {
      "application/vnd.jupyter.widget-view+json": {
       "model_id": "9b69a82c4a8048479621a890d09d6738",
       "version_major": 2,
       "version_minor": 0
      },
      "text/plain": [
       "interactive(children=(FloatSlider(value=0.5, continuous_update=False, description='距離', max=0.9, min=0.3, read…"
      ]
     },
     "metadata": {},
     "output_type": "display_data"
    }
   ],
   "source": [
    "from my_functions.mean_shift import visualization\n",
    "visualization.show(iris[['sepal_length', 'sepal_width']])"
   ]
  },
  {
   "cell_type": "markdown",
   "metadata": {},
   "source": [
    "## PythonでのMean Shiftクラスタリング実行方法\n",
    "---\n",
    "`sklearn.clusterMeanShift`を用いる。 bandwidth は指定しなければ、自動的にアルゴリズムから決める。"
   ]
  },
  {
   "cell_type": "code",
   "execution_count": 4,
   "metadata": {
    "collapsed": true,
    "jupyter": {
     "outputs_hidden": true
    }
   },
   "outputs": [
    {
     "name": "stdout",
     "output_type": "stream",
     "text": [
      "Help on class MeanShift in module sklearn.cluster._mean_shift:\n",
      "\n",
      "class MeanShift(sklearn.base.ClusterMixin, sklearn.base.BaseEstimator)\n",
      " |  MeanShift(*, bandwidth=None, seeds=None, bin_seeding=False, min_bin_freq=1, cluster_all=True, n_jobs=None, max_iter=300)\n",
      " |  \n",
      " |  Mean shift clustering using a flat kernel.\n",
      " |  \n",
      " |  Mean shift clustering aims to discover \"blobs\" in a smooth density of\n",
      " |  samples. It is a centroid-based algorithm, which works by updating\n",
      " |  candidates for centroids to be the mean of the points within a given\n",
      " |  region. These candidates are then filtered in a post-processing stage to\n",
      " |  eliminate near-duplicates to form the final set of centroids.\n",
      " |  \n",
      " |  Seeding is performed using a binning technique for scalability.\n",
      " |  \n",
      " |  Read more in the :ref:`User Guide <mean_shift>`.\n",
      " |  \n",
      " |  Parameters\n",
      " |  ----------\n",
      " |  bandwidth : float, default=None\n",
      " |      Bandwidth used in the RBF kernel.\n",
      " |  \n",
      " |      If not given, the bandwidth is estimated using\n",
      " |      sklearn.cluster.estimate_bandwidth; see the documentation for that\n",
      " |      function for hints on scalability (see also the Notes, below).\n",
      " |  \n",
      " |  seeds : array-like of shape (n_samples, n_features), default=None\n",
      " |      Seeds used to initialize kernels. If not set,\n",
      " |      the seeds are calculated by clustering.get_bin_seeds\n",
      " |      with bandwidth as the grid size and default values for\n",
      " |      other parameters.\n",
      " |  \n",
      " |  bin_seeding : bool, default=False\n",
      " |      If true, initial kernel locations are not locations of all\n",
      " |      points, but rather the location of the discretized version of\n",
      " |      points, where points are binned onto a grid whose coarseness\n",
      " |      corresponds to the bandwidth. Setting this option to True will speed\n",
      " |      up the algorithm because fewer seeds will be initialized.\n",
      " |      The default value is False.\n",
      " |      Ignored if seeds argument is not None.\n",
      " |  \n",
      " |  min_bin_freq : int, default=1\n",
      " |     To speed up the algorithm, accept only those bins with at least\n",
      " |     min_bin_freq points as seeds.\n",
      " |  \n",
      " |  cluster_all : bool, default=True\n",
      " |      If true, then all points are clustered, even those orphans that are\n",
      " |      not within any kernel. Orphans are assigned to the nearest kernel.\n",
      " |      If false, then orphans are given cluster label -1.\n",
      " |  \n",
      " |  n_jobs : int, default=None\n",
      " |      The number of jobs to use for the computation. This works by computing\n",
      " |      each of the n_init runs in parallel.\n",
      " |  \n",
      " |      ``None`` means 1 unless in a :obj:`joblib.parallel_backend` context.\n",
      " |      ``-1`` means using all processors. See :term:`Glossary <n_jobs>`\n",
      " |      for more details.\n",
      " |  \n",
      " |  max_iter : int, default=300\n",
      " |      Maximum number of iterations, per seed point before the clustering\n",
      " |      operation terminates (for that seed point), if has not converged yet.\n",
      " |  \n",
      " |      .. versionadded:: 0.22\n",
      " |  \n",
      " |  Attributes\n",
      " |  ----------\n",
      " |  cluster_centers_ : array, [n_clusters, n_features]\n",
      " |      Coordinates of cluster centers.\n",
      " |  \n",
      " |  labels_ : array of shape (n_samples,)\n",
      " |      Labels of each point.\n",
      " |  \n",
      " |  n_iter_ : int\n",
      " |      Maximum number of iterations performed on each seed.\n",
      " |  \n",
      " |      .. versionadded:: 0.22\n",
      " |  \n",
      " |  Examples\n",
      " |  --------\n",
      " |  >>> from sklearn.cluster import MeanShift\n",
      " |  >>> import numpy as np\n",
      " |  >>> X = np.array([[1, 1], [2, 1], [1, 0],\n",
      " |  ...               [4, 7], [3, 5], [3, 6]])\n",
      " |  >>> clustering = MeanShift(bandwidth=2).fit(X)\n",
      " |  >>> clustering.labels_\n",
      " |  array([1, 1, 1, 0, 0, 0])\n",
      " |  >>> clustering.predict([[0, 0], [5, 5]])\n",
      " |  array([1, 0])\n",
      " |  >>> clustering\n",
      " |  MeanShift(bandwidth=2)\n",
      " |  \n",
      " |  Notes\n",
      " |  -----\n",
      " |  \n",
      " |  Scalability:\n",
      " |  \n",
      " |  Because this implementation uses a flat kernel and\n",
      " |  a Ball Tree to look up members of each kernel, the complexity will tend\n",
      " |  towards O(T*n*log(n)) in lower dimensions, with n the number of samples\n",
      " |  and T the number of points. In higher dimensions the complexity will\n",
      " |  tend towards O(T*n^2).\n",
      " |  \n",
      " |  Scalability can be boosted by using fewer seeds, for example by using\n",
      " |  a higher value of min_bin_freq in the get_bin_seeds function.\n",
      " |  \n",
      " |  Note that the estimate_bandwidth function is much less scalable than the\n",
      " |  mean shift algorithm and will be the bottleneck if it is used.\n",
      " |  \n",
      " |  References\n",
      " |  ----------\n",
      " |  \n",
      " |  Dorin Comaniciu and Peter Meer, \"Mean Shift: A robust approach toward\n",
      " |  feature space analysis\". IEEE Transactions on Pattern Analysis and\n",
      " |  Machine Intelligence. 2002. pp. 603-619.\n",
      " |  \n",
      " |  Method resolution order:\n",
      " |      MeanShift\n",
      " |      sklearn.base.ClusterMixin\n",
      " |      sklearn.base.BaseEstimator\n",
      " |      builtins.object\n",
      " |  \n",
      " |  Methods defined here:\n",
      " |  \n",
      " |  __init__(self, *, bandwidth=None, seeds=None, bin_seeding=False, min_bin_freq=1, cluster_all=True, n_jobs=None, max_iter=300)\n",
      " |      Initialize self.  See help(type(self)) for accurate signature.\n",
      " |  \n",
      " |  fit(self, X, y=None)\n",
      " |      Perform clustering.\n",
      " |      \n",
      " |      Parameters\n",
      " |      ----------\n",
      " |      X : array-like of shape (n_samples, n_features)\n",
      " |          Samples to cluster.\n",
      " |      \n",
      " |      y : Ignored\n",
      " |  \n",
      " |  predict(self, X)\n",
      " |      Predict the closest cluster each sample in X belongs to.\n",
      " |      \n",
      " |      Parameters\n",
      " |      ----------\n",
      " |      X : {array-like, sparse matrix}, shape=[n_samples, n_features]\n",
      " |          New data to predict.\n",
      " |      \n",
      " |      Returns\n",
      " |      -------\n",
      " |      labels : array, shape [n_samples,]\n",
      " |          Index of the cluster each sample belongs to.\n",
      " |  \n",
      " |  ----------------------------------------------------------------------\n",
      " |  Methods inherited from sklearn.base.ClusterMixin:\n",
      " |  \n",
      " |  fit_predict(self, X, y=None)\n",
      " |      Perform clustering on X and returns cluster labels.\n",
      " |      \n",
      " |      Parameters\n",
      " |      ----------\n",
      " |      X : array-like of shape (n_samples, n_features)\n",
      " |          Input data.\n",
      " |      \n",
      " |      y : Ignored\n",
      " |          Not used, present for API consistency by convention.\n",
      " |      \n",
      " |      Returns\n",
      " |      -------\n",
      " |      labels : ndarray of shape (n_samples,)\n",
      " |          Cluster labels.\n",
      " |  \n",
      " |  ----------------------------------------------------------------------\n",
      " |  Data descriptors inherited from sklearn.base.ClusterMixin:\n",
      " |  \n",
      " |  __dict__\n",
      " |      dictionary for instance variables (if defined)\n",
      " |  \n",
      " |  __weakref__\n",
      " |      list of weak references to the object (if defined)\n",
      " |  \n",
      " |  ----------------------------------------------------------------------\n",
      " |  Methods inherited from sklearn.base.BaseEstimator:\n",
      " |  \n",
      " |  __getstate__(self)\n",
      " |  \n",
      " |  __repr__(self, N_CHAR_MAX=700)\n",
      " |      Return repr(self).\n",
      " |  \n",
      " |  __setstate__(self, state)\n",
      " |  \n",
      " |  get_params(self, deep=True)\n",
      " |      Get parameters for this estimator.\n",
      " |      \n",
      " |      Parameters\n",
      " |      ----------\n",
      " |      deep : bool, default=True\n",
      " |          If True, will return the parameters for this estimator and\n",
      " |          contained subobjects that are estimators.\n",
      " |      \n",
      " |      Returns\n",
      " |      -------\n",
      " |      params : mapping of string to any\n",
      " |          Parameter names mapped to their values.\n",
      " |  \n",
      " |  set_params(self, **params)\n",
      " |      Set the parameters of this estimator.\n",
      " |      \n",
      " |      The method works on simple estimators as well as on nested objects\n",
      " |      (such as pipelines). The latter have parameters of the form\n",
      " |      ``<component>__<parameter>`` so that it's possible to update each\n",
      " |      component of a nested object.\n",
      " |      \n",
      " |      Parameters\n",
      " |      ----------\n",
      " |      **params : dict\n",
      " |          Estimator parameters.\n",
      " |      \n",
      " |      Returns\n",
      " |      -------\n",
      " |      self : object\n",
      " |          Estimator instance.\n",
      "\n"
     ]
    }
   ],
   "source": [
    "help(MeanShift)"
   ]
  },
  {
   "cell_type": "code",
   "execution_count": 5,
   "metadata": {},
   "outputs": [
    {
     "name": "stdout",
     "output_type": "stream",
     "text": [
      "[1 1 1 1 1 1 1 1 1 1 1 1 1 1 1 1 1 1 1 1 1 1 1 1 1 1 1 1 1 1 1 1 1 1 1 1 1\n",
      " 1 1 1 1 1 1 1 1 1 1 1 1 1 0 0 0 0 0 0 0 0 0 0 0 0 0 0 0 0 0 0 0 0 0 0 0 0\n",
      " 0 0 0 2 0 0 0 0 0 2 0 0 0 0 0 0 0 0 0 0 0 0 0 0 0 0 2 2 2 2 2 2 0 2 2 2 2\n",
      " 2 2 2 2 2 2 2 2 0 2 2 2 2 2 2 0 2 2 2 2 2 2 2 2 2 2 2 0 2 2 2 2 2 2 2 2 2\n",
      " 2 2]\n"
     ]
    }
   ],
   "source": [
    "ms = MeanShift(n_jobs=-1)\n",
    "data = iris[['petal_length', 'petal_width']].values\n",
    "ms.fit(data)\n",
    "pred = ms.predict(data)\n",
    "print(pred)"
   ]
  },
  {
   "cell_type": "code",
   "execution_count": 6,
   "metadata": {},
   "outputs": [
    {
     "data": {
      "image/png": "[encoded data removed]",
      "text/plain": [
       "<Figure size 432x288 with 1 Axes>"
      ]
     },
     "metadata": {
      "needs_background": "light"
     },
     "output_type": "display_data"
    }
   ],
   "source": [
    "plt.scatter(data[:, 0], data[:, 1], c=pred)\n",
    "plt.xlabel('petal_length')\n",
    "plt.ylabel('petal_width')\n",
    "plt.show()"
   ]
  },
  {
   "cell_type": "markdown",
   "metadata": {},
   "source": [
    "練習問題\n",
    "\n",
    "---\n",
    "mpg データセットの任意の変数 (複数) を元に Mean Shift クラスタリングを実行する。その後、得られたクラスタに何らかの意味づけができそうか考える。"
   ]
  },
  {
   "cell_type": "code",
   "execution_count": 7,
   "metadata": {
    "hide_input": true,
    "jupyter": {
     "source_hidden": true
    }
   },
   "outputs": [
    {
     "name": "stdout",
     "output_type": "stream",
     "text": [
      "mpg\n"
     ]
    },
    {
     "data": {
      "text/html": [
       "<div>\n",
       "<style scoped>\n",
       "    .dataframe tbody tr th:only-of-type {\n",
       "        vertical-align: middle;\n",
       "    }\n",
       "\n",
       "    .dataframe tbody tr th {\n",
       "        vertical-align: top;\n",
       "    }\n",
       "\n",
       "    .dataframe thead th {\n",
       "        text-align: right;\n",
       "    }\n",
       "</style>\n",
       "<table border=\"1\" class=\"dataframe\">\n",
       "  <thead>\n",
       "    <tr style=\"text-align: right;\">\n",
       "      <th></th>\n",
       "      <th>mpg</th>\n",
       "      <th>cylinders</th>\n",
       "      <th>displacement</th>\n",
       "      <th>horsepower</th>\n",
       "      <th>weight</th>\n",
       "      <th>acceleration</th>\n",
       "      <th>model_year</th>\n",
       "      <th>origin</th>\n",
       "      <th>name</th>\n",
       "    </tr>\n",
       "  </thead>\n",
       "  <tbody>\n",
       "    <tr>\n",
       "      <th>0</th>\n",
       "      <td>18.0</td>\n",
       "      <td>8</td>\n",
       "      <td>307.0</td>\n",
       "      <td>130.0</td>\n",
       "      <td>3504</td>\n",
       "      <td>12.0</td>\n",
       "      <td>70</td>\n",
       "      <td>usa</td>\n",
       "      <td>chevrolet chevelle malibu</td>\n",
       "    </tr>\n",
       "    <tr>\n",
       "      <th>1</th>\n",
       "      <td>15.0</td>\n",
       "      <td>8</td>\n",
       "      <td>350.0</td>\n",
       "      <td>165.0</td>\n",
       "      <td>3693</td>\n",
       "      <td>11.5</td>\n",
       "      <td>70</td>\n",
       "      <td>usa</td>\n",
       "      <td>buick skylark 320</td>\n",
       "    </tr>\n",
       "    <tr>\n",
       "      <th>...</th>\n",
       "      <td>...</td>\n",
       "      <td>...</td>\n",
       "      <td>...</td>\n",
       "      <td>...</td>\n",
       "      <td>...</td>\n",
       "      <td>...</td>\n",
       "      <td>...</td>\n",
       "      <td>...</td>\n",
       "      <td>...</td>\n",
       "    </tr>\n",
       "    <tr>\n",
       "      <th>396</th>\n",
       "      <td>28.0</td>\n",
       "      <td>4</td>\n",
       "      <td>120.0</td>\n",
       "      <td>79.0</td>\n",
       "      <td>2625</td>\n",
       "      <td>18.6</td>\n",
       "      <td>82</td>\n",
       "      <td>usa</td>\n",
       "      <td>ford ranger</td>\n",
       "    </tr>\n",
       "    <tr>\n",
       "      <th>397</th>\n",
       "      <td>31.0</td>\n",
       "      <td>4</td>\n",
       "      <td>119.0</td>\n",
       "      <td>82.0</td>\n",
       "      <td>2720</td>\n",
       "      <td>19.4</td>\n",
       "      <td>82</td>\n",
       "      <td>usa</td>\n",
       "      <td>chevy s-10</td>\n",
       "    </tr>\n",
       "  </tbody>\n",
       "</table>\n",
       "<p>398 rows × 9 columns</p>\n",
       "</div>"
      ],
      "text/plain": [
       "      mpg  cylinders  displacement  horsepower  weight  acceleration  \\\n",
       "0    18.0          8         307.0       130.0    3504          12.0   \n",
       "1    15.0          8         350.0       165.0    3693          11.5   \n",
       "..    ...        ...           ...         ...     ...           ...   \n",
       "396  28.0          4         120.0        79.0    2625          18.6   \n",
       "397  31.0          4         119.0        82.0    2720          19.4   \n",
       "\n",
       "     model_year origin                       name  \n",
       "0            70    usa  chevrolet chevelle malibu  \n",
       "1            70    usa          buick skylark 320  \n",
       "..          ...    ...                        ...  \n",
       "396          82    usa                ford ranger  \n",
       "397          82    usa                 chevy s-10  \n",
       "\n",
       "[398 rows x 9 columns]"
      ]
     },
     "metadata": {},
     "output_type": "display_data"
    }
   ],
   "source": [
    "mpg = sns.load_dataset('mpg')\n",
    "print('mpg')\n",
    "display(mpg)"
   ]
  },
  {
   "cell_type": "code",
   "execution_count": null,
   "metadata": {},
   "outputs": [],
   "source": []
  }
 ],
 "metadata": {
  "kernelspec": {
   "display_name": "Python 3",
   "language": "python",
   "name": "python3"
  },
  "language_info": {
   "codemirror_mode": {
    "name": "ipython",
    "version": 3
   },
   "file_extension": ".py",
   "mimetype": "text/x-python",
   "name": "python",
   "nbconvert_exporter": "python",
   "pygments_lexer": "ipython3",
   "version": "3.8.3"
  },
  "toc": {
   "base_numbering": 1,
   "nav_menu": {},
   "number_sections": true,
   "sideBar": true,
   "skip_h1_title": true,
   "title_cell": "Table of Contents",
   "title_sidebar": "Contents",
   "toc_cell": false,
   "toc_position": {},
   "toc_section_display": true,
   "toc_window_display": true
  },
  "varInspector": {
   "cols": {
    "lenName": 16,
    "lenType": 16,
    "lenVar": 40
   },
   "kernels_config": {
    "python": {
     "delete_cmd_postfix": "",
     "delete_cmd_prefix": "del ",
     "library": "var_list.py",
     "varRefreshCmd": "print(var_dic_list())"
    },
    "r": {
     "delete_cmd_postfix": ") ",
     "delete_cmd_prefix": "rm(",
     "library": "var_list.r",
     "varRefreshCmd": "cat(var_dic_list()) "
    }
   },
   "types_to_exclude": [
    "module",
    "function",
    "builtin_function_or_method",
    "instance",
    "_Feature"
   ],
   "window_display": false
  },
  "widgets": {
   "application/vnd.jupyter.widget-state+json": {
    "state": {
     "0ccca825dd2d4078bc61d788498612f3": {
      "model_module": "@jupyter-widgets/controls",
      "model_module_version": "1.5.0",
      "model_name": "FloatSliderModel",
      "state": {
       "continuous_update": false,
       "description": "距離",
       "layout": "IPY_MODEL_8496d473024140eba9c5931d88cf4d7d",
       "max": 0.9,
       "min": 0.3,
       "readout_format": ".1f",
       "step": 0.1,
       "style": "IPY_MODEL_eb7e1550886a49e4a4057f68e5dfe3f8",
       "value": 0.5
      }
     },
     "256e298ba4574caa9c6eb0e5109aa8b9": {
      "model_module": "@jupyter-widgets/output",
      "model_module_version": "1.0.0",
      "model_name": "OutputModel",
      "state": {
       "layout": "IPY_MODEL_6267cdfb7a534cb59ad94a628f3ae663",
       "outputs": [
        {
         "data": {
          "image/png": "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\n",
          "text/plain": "<Figure size 288x288 with 1 Axes>"
         },
         "metadata": {},
         "output_type": "display_data"
        }
       ]
      }
     },
     "6267cdfb7a534cb59ad94a628f3ae663": {
      "model_module": "@jupyter-widgets/base",
      "model_module_version": "1.2.0",
      "model_name": "LayoutModel",
      "state": {}
     },
     "6540d47e9ecd4c7097018de0ee1e9a2a": {
      "model_module": "@jupyter-widgets/base",
      "model_module_version": "1.2.0",
      "model_name": "LayoutModel",
      "state": {}
     },
     "8496d473024140eba9c5931d88cf4d7d": {
      "model_module": "@jupyter-widgets/base",
      "model_module_version": "1.2.0",
      "model_name": "LayoutModel",
      "state": {}
     },
     "9b69a82c4a8048479621a890d09d6738": {
      "model_module": "@jupyter-widgets/controls",
      "model_module_version": "1.5.0",
      "model_name": "VBoxModel",
      "state": {
       "_dom_classes": [
        "widget-interact"
       ],
       "children": [
        "IPY_MODEL_0ccca825dd2d4078bc61d788498612f3",
        "IPY_MODEL_256e298ba4574caa9c6eb0e5109aa8b9"
       ],
       "layout": "IPY_MODEL_6540d47e9ecd4c7097018de0ee1e9a2a"
      }
     },
     "eb7e1550886a49e4a4057f68e5dfe3f8": {
      "model_module": "@jupyter-widgets/controls",
      "model_module_version": "1.5.0",
      "model_name": "SliderStyleModel",
      "state": {
       "description_width": ""
      }
     }
    },
    "version_major": 2,
    "version_minor": 0
   }
  }
 },
 "nbformat": 4,
 "nbformat_minor": 4
}
