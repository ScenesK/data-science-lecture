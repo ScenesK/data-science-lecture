{
 "cells": [
  {
   "cell_type": "markdown",
   "metadata": {},
   "source": [
    "## モデルとは\n",
    "---\n",
    "気象の変化や経済活動など複雑な対象をより**簡単な構造**で表現したもの。"
   ]
  },
  {
   "cell_type": "markdown",
   "metadata": {},
   "source": [
    "## 数理モデルと統計モデル\n",
    "---\n",
    "$y=ax+b$ のように数式で記述されたモデルが数理モデル。数理モデルの中で**確率変数**、特に誤差項と呼ばれる変数を持つものを統計モデルという。誤差項はよく $\\epsilon$ で表される。"
   ]
  },
  {
   "cell_type": "markdown",
   "metadata": {},
   "source": [
    "## データ分析におけるモデリングの目的\n",
    "---\n",
    "入力 $x$ と出力 $y$ があり、その関係を示す関数 $f$ によって $y=f( x)$ のように表されるのが数理モデルであり、統計モデルでは $f( x)=ax+b+\\epsilon$ のように $f$ の中に誤差項 $\\epsilon$ を含む。  \n",
    "しかし、以下では説明を簡単にするため $f$ から $\\epsilon$ を切り出し、\n",
    "\n",
    "$y\\approx \\hat{y} =f( x)$\n",
    "\n",
    "という式を用いる。  \n",
    "この式は、入力 $x$ に対して (確率変数を含まない) 関数 $f$ を適用し、予測値 $\\hat{y}$ が得られるが、 $f$ から取り除いた誤差項 $\\epsilon$ によって、元のデータにある $y$ と $\\hat{y}$ は近い値であっても同じになることは (ほとんど) ないということを示す。  \n",
    "この式中のどこを重視するかによってモデリングの方法等が変わってきたり、得られたモデルの適用範囲がかわってきたりする。"
   ]
  },
  {
   "cell_type": "markdown",
   "metadata": {},
   "source": [
    "### $\\approx$ に注目する立場\n",
    "---\n",
    "**$\\hat{y}$ を可能な限り $y$ に近づける**ことを目的とし、そのためには $f$ がどれだけ複雑になっても気にしない。  \n",
    "$y$ を**予測することが利益**になる場合はこちらを重視する。 (例えば、不良品検査など)  \n",
    "機械学習と呼ばれる領域ではこちらに重点を置く。"
   ]
  },
  {
   "cell_type": "markdown",
   "metadata": {},
   "source": [
    "### $f$ に注目する立場\n",
    "---\n",
    "$x$ と $y$ の間の関係を**理解・保証**することを目的とし、そのためには $y$ と $\\hat{y}$ が多少乖離しても気にしない。  \n",
    "$x$ と $y$ の間の**因果関係**を明らかにし、 $x$ を操作することで **$y$ を改善**する場合はこちらを重視する。 (例えば、マーケティング施策を考える場合など)  \n",
    "統計学と呼ばれる領域ではこちらに重点を置く。"
   ]
  },
  {
   "cell_type": "markdown",
   "metadata": {},
   "source": [
    "### 実務上の立場\n",
    "---\n",
    "上のどちらかに極振りしてよい場面はほとんどなく、分析の目的や制約条件に従ってバランスをとる。"
   ]
  },
  {
   "cell_type": "markdown",
   "metadata": {},
   "source": [
    "## 注意点\n",
    "---\n",
    "上の式は $x$ と $y$ が同時にどのように動くか、つまり**相関関係**しか示していない。  \n",
    "モデルを作成する場合には、通常 $x$ が原因で $y$ が結果となる、または時系列的に $x$ が先に発生し $y$ が後から発生するようにする。しかし手順に従ってモデルが得られたからといって、それが直ちに $x\\Rightarrow y$ や $y\\Leftarrow f( x)$ のように $x$ があったから $y$ という結果が生じたという因果関係を証明するわけではない。**因果関係はデータから自動的に導かれるものではなく**、データの生み出された背景等を元に分析者が考えなければならない。  \n",
    "例えば、小学生を対象に身長と学力を測定したデータがあり、これを分析した結果として身長が高くなるほど学力が上がるという結果が得られたとする。このときに栄養状態を改善して学力を向上させようとしたり、ましてや人種間の優劣を論じたりすることが誤りであるのは自明だが、これは「小学生を対象」にしたデータで、小学生の時期には「年齢 (学年) とともに学力が上昇」していくという背景知識があるから判断できることである。  \n",
    "実際の分析ではここまで因果関係の有無が明確ではなかったり、要求される背景知識 (ドメイン知識) が複雑であったりするので**因果関係を判断する場合には常に注意が必要**。  \n",
    "また、分析者が因果関係を考えない予測モデルとして作成したものが、現場で因果関係を証明したモデルとして扱われ損失を生じるようなことがないように、モデルの適用範囲について共有しておくことも重要。"
   ]
  }
 ],
 "metadata": {
  "kernelspec": {
   "display_name": "Python 3",
   "language": "python",
   "name": "python3"
  },
  "language_info": {
   "codemirror_mode": {
    "name": "ipython",
    "version": 3
   },
   "file_extension": ".py",
   "mimetype": "text/x-python",
   "name": "python",
   "nbconvert_exporter": "python",
   "pygments_lexer": "ipython3",
   "version": "3.6.8"
  },
  "toc": {
   "base_numbering": 1,
   "nav_menu": {},
   "number_sections": true,
   "sideBar": true,
   "skip_h1_title": true,
   "title_cell": "Table of Contents",
   "title_sidebar": "Contents",
   "toc_cell": false,
   "toc_position": {},
   "toc_section_display": true,
   "toc_window_display": true
  },
  "varInspector": {
   "cols": {
    "lenName": 16,
    "lenType": 16,
    "lenVar": 40
   },
   "kernels_config": {
    "python": {
     "delete_cmd_postfix": "",
     "delete_cmd_prefix": "del ",
     "library": "var_list.py",
     "varRefreshCmd": "print(var_dic_list())"
    },
    "r": {
     "delete_cmd_postfix": ") ",
     "delete_cmd_prefix": "rm(",
     "library": "var_list.r",
     "varRefreshCmd": "cat(var_dic_list()) "
    }
   },
   "types_to_exclude": [
    "module",
    "function",
    "builtin_function_or_method",
    "instance",
    "_Feature"
   ],
   "window_display": false
  }
 },
 "nbformat": 4,
 "nbformat_minor": 2
}
