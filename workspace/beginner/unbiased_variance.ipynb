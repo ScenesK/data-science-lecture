{
 "cells": [
  {
   "cell_type": "markdown",
   "metadata": {},
   "source": [
    "## 標本分散の不偏性の証明\n",
    "---"
   ]
  },
  {
   "cell_type": "markdown",
   "metadata": {},
   "source": [
    "確率変数 $X$ について\n",
    "\n",
    "$\n",
    "\\left\\{\\begin{aligned}\n",
    "    E( X) & =\\mu \\\\\n",
    "    V( X) & =\\sigma ^{2}\n",
    "\\end{aligned}\\right.\n",
    "$\n",
    "\n",
    "標本分散 $s^2$ を\n",
    "\n",
    "$\n",
    "\\begin{align}\n",
    "    s^{2} & =\\frac\n",
    "        {{\\displaystyle \\sum ^{n}_{i=1}\\left( X_{i} -\\overline{X}\\right)^{2}} }\n",
    "        {n-1}\\\\\n",
    "     \\\\\n",
    "     & =\\frac\n",
    "         {\\left( X_{1} -\\overline{X}\\right)^{2} +\\left( X_{2} -\\overline{X}\\right)^{2} +\\dots +\\left( X_{n} -\\overline{X}\\right)^{2}}\n",
    "         {n-1}\n",
    "\\end{align}\n",
    "$\n",
    "\n",
    "とおき、確率変数 $Y=X-\\mu$ とすると、期待値の性質 (線型性 $E( aX+bY) =aE( X) +bE( Y)$ ) より\n",
    "\n",
    "$\n",
    "\\begin{align}\n",
    "    E( Y) & =E( X-\\mu )\\\\\n",
    "     & =E( X) -E( \\mu )\\\\\n",
    "     & =\\mu -\\mu \\\\\n",
    "     & =0\n",
    "\\end{align}\n",
    "$"
   ]
  },
  {
   "cell_type": "markdown",
   "metadata": {},
   "source": [
    "$Y$ から抽出された標本の標本平均 $\\bar{Y}$ は\n",
    "\n",
    "$\n",
    "\\begin{align}\n",
    "    E\\left(\\overline{Y}\\right) & =E\\left(\\overline{X} -\\mu \\right)\\\\\n",
    "     & =E\\left(\\overline{X}\\right) -E( \\mu )\\\\\n",
    "     & =\\mu -\\mu \\\\\n",
    "     & =0\n",
    "\\end{align}\n",
    "$\n",
    "\n",
    "となる。"
   ]
  },
  {
   "cell_type": "markdown",
   "metadata": {},
   "source": [
    "したがって、\n",
    "\n",
    "$\n",
    "\\begin{align}\n",
    "    E\\left( s^{2}\\right) & =E\\left(\\frac\n",
    "        {{\\displaystyle \\sum ^{n}_{i=1}\\left( X_{i} -\\overline{X}\\right)^{2}} }\n",
    "        {n-1}\n",
    "    \\right)\\\\\n",
    "     \\\\\n",
    "     & =\\frac\n",
    "         {E\\left({\\displaystyle \\sum ^{n}_{i=1}\\left(( X_{i} -\\mu ) -\\left(\\overline{X} -\\mu \\right)\\right)^{2}} \\right)}\n",
    "         {n-1}\\\\\n",
    "     \\\\\n",
    "     & =\\frac\n",
    "         {E\\left({\\displaystyle \\sum ^{n}_{i=1}\\left( Y_{i} -\\overline{Y}\\right)^{2}} \\right)}\n",
    "         {n-1}\\\\\n",
    "     \\\\\n",
    "     & =\\frac\n",
    "         {E\\left({\\displaystyle \\sum ^{n}_{i=1}\\left( Y^{2}_{i} -2\\overline{Y} Y_{i} +\\overline{Y}^{2}\\right)} \\right)}\n",
    "         {n-1}\\\\\n",
    "     \\\\\n",
    "     & =\\frac\n",
    "         {E\\left({\\displaystyle \\sum ^{n}_{i=1} Y^{2}_{i} -2\\overline{Y}\\sum ^{n}_{i=1} Y_{i} +\\sum ^{n}_{i=1}\\overline{Y}^{2}} \\right)}\n",
    "         {n-1}\\\\\n",
    "     \\\\\n",
    "     & =\\frac\n",
    "         {E\\left({\\displaystyle \\sum ^{n}_{i=1} Y^{2}_{i} -2n\\overline{Y}^{2} +n\\overline{Y}^{2}} \\right)}\n",
    "         {n-1}\n",
    "     \\ \\because \\sum ^{n}_{i=1} Y_{i} =n\\overline{Y} ,\\ \\sum ^{n}_{i=1}\\overline{Y}^{2} =n\\overline{Y}^{2}\\\\\n",
    "     \\\\\n",
    "     & =\\frac\n",
    "         {E\\left({\\displaystyle \\sum ^{n}_{i=1} Y^{2}_{i}} \\right) -n\\overline{Y}^{2}}\n",
    "         {n-1}\n",
    "\\end{align}\n",
    "$"
   ]
  },
  {
   "cell_type": "markdown",
   "metadata": {},
   "source": [
    "ここで、\n",
    "\n",
    "$\n",
    "\\begin{align}\n",
    "    V( Y) & =E\\left(( Y-\\mu _{Y})^{2}\\right) & \\\\\n",
    "     & =E\\left( Y^{2} -2\\mu _{Y} Y+\\mu ^{2}_{Y}\\right) & \\\\\n",
    "     & =E\\left( Y^{2}\\right) -2\\mu _{Y} E( Y) +\\mu ^{2}_{Y} & \\\\\n",
    "     & =E\\left( Y^{2}\\right) & \\because E( Y) =\\mu _{Y} =0\n",
    "\\end{align}\n",
    "$\n",
    "\n",
    "([分散の計算](mean_and_variance.ipynb#variance)参照)"
   ]
  },
  {
   "cell_type": "markdown",
   "metadata": {},
   "source": [
    "また、\n",
    "\n",
    "$\n",
    "\\begin{align}\n",
    "    V(Y) & =V(X) \\\\\n",
    "    & =\\sigma^2\n",
    "\\end{align}\n",
    "$"
   ]
  },
  {
   "cell_type": "markdown",
   "metadata": {},
   "source": [
    "よって、\n",
    "\n",
    "$\n",
    "\\begin{align}\n",
    "    E\\left(\\sum ^{n}_{i=1} Y^{2}_{i}\\right) & =nE\\left( Y^{2}\\right)\\\\\n",
    "     & =nV( Y)\\\\\n",
    "     & =n\\sigma ^{2}\n",
    "\\end{align}\n",
    "$"
   ]
  },
  {
   "cell_type": "markdown",
   "metadata": {},
   "source": [
    "さらに、\n",
    "\n",
    "$\n",
    "\\begin{align}\n",
    "    \\overline{Y}^{2} & =V\\left(\\overline{Y}\\right) &  & \\because \\mu _{\\overline{Y}} =0\\\\\n",
    "     & =V\\left(\\frac\n",
    "         {X_{1} +X_{2} +\\dots +X_{n}}\n",
    "         {n}\n",
    "     \\right) &  & \\\\\n",
    "     & =\\frac\n",
    "         {V( X_{1} +X_{2} +\\dots +X_{n})}\n",
    "         {n^{2}}\n",
    "     &  & \\because V( aX) =a^{2} V( X)\\\\\n",
    "     & =\\frac\n",
    "         {n\\sigma ^{2}}\n",
    "         {n^{2}}\n",
    "     &  & \\\\\n",
    "     & =\\frac\n",
    "         {\\sigma ^{2}}\n",
    "         {n}\n",
    "     &  & \n",
    "\\end{align}\n",
    "$"
   ]
  },
  {
   "cell_type": "markdown",
   "metadata": {},
   "source": [
    "したがって、\n",
    "\n",
    "$\n",
    "\\begin{align}\n",
    "    E\\left( s^{2}\\right) & =\\frac\n",
    "        {E\\left({\\displaystyle \\sum ^{n}_{i=1} Y^{2}_{i}} \\right) -n\\overline{Y}^{2}}\n",
    "        {n-1}\\\\\n",
    "     \\\\\n",
    "     & ={\\displaystyle \\frac\n",
    "         {{\\displaystyle n\\sigma ^{2} -n\\frac{\\sigma ^{2}}{n}} }\n",
    "         {n-1}} \\\\\n",
    "     \\\\\n",
    "     & =\\frac\n",
    "         {( n-1) \\sigma ^{2}}\n",
    "         {n-1}\\\\\n",
    "     \\\\\n",
    "     & =\\sigma ^{2}\n",
    "\\end{align}\n",
    "$"
   ]
  }
 ],
 "metadata": {
  "kernelspec": {
   "display_name": "Python 3",
   "language": "python",
   "name": "python3"
  },
  "language_info": {
   "codemirror_mode": {
    "name": "ipython",
    "version": 3
   },
   "file_extension": ".py",
   "mimetype": "text/x-python",
   "name": "python",
   "nbconvert_exporter": "python",
   "pygments_lexer": "ipython3",
   "version": "3.6.8"
  },
  "toc": {
   "base_numbering": 1,
   "nav_menu": {},
   "number_sections": true,
   "sideBar": true,
   "skip_h1_title": true,
   "title_cell": "Table of Contents",
   "title_sidebar": "Contents",
   "toc_cell": false,
   "toc_position": {},
   "toc_section_display": true,
   "toc_window_display": true
  },
  "varInspector": {
   "cols": {
    "lenName": 16,
    "lenType": 16,
    "lenVar": 40
   },
   "kernels_config": {
    "python": {
     "delete_cmd_postfix": "",
     "delete_cmd_prefix": "del ",
     "library": "var_list.py",
     "varRefreshCmd": "print(var_dic_list())"
    },
    "r": {
     "delete_cmd_postfix": ") ",
     "delete_cmd_prefix": "rm(",
     "library": "var_list.r",
     "varRefreshCmd": "cat(var_dic_list()) "
    }
   },
   "types_to_exclude": [
    "module",
    "function",
    "builtin_function_or_method",
    "instance",
    "_Feature"
   ],
   "window_display": false
  }
 },
 "nbformat": 4,
 "nbformat_minor": 2
}
