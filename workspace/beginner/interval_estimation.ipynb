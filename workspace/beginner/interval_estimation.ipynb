{
 "cells": [
  {
   "cell_type": "markdown",
   "metadata": {},
   "source": [
    "# 区間推定"
   ]
  },
  {
   "cell_type": "markdown",
   "metadata": {},
   "source": [
    "## 母平均の区間推定\n",
    "---"
   ]
  },
  {
   "cell_type": "markdown",
   "metadata": {},
   "source": [
    "中心極限定理より、標本数が一定以上の場合には標本平均 $\\bar{X}$ の標本分布は正規分布 $\n",
    "N\\left( \\mu ,{\\displaystyle \\frac\n",
    "    {\\sigma ^{2}}\n",
    "    {n}\n",
    "} \\right)\n",
    "$ に近づく。この標本分布の両側 $\\alpha \\%$ 点を $N_{1-\\frac{\\alpha }{2}},N_{\\frac{\\alpha }{2}}$ とすると、確率変数 $\\overline{X}$ が両側 $\\alpha \\%$ 点の内側に含まれる確率は\n",
    "\n",
    "$\n",
    "\\displaystyle P\\left( N_{1-\\frac\n",
    "    {\\alpha }\n",
    "    {2}\n",
    "} < \\overline{X} < N_{\\frac\n",
    "    {\\alpha }\n",
    "    {2}\n",
    "}\\right) =1-\\alpha\n",
    "$\n",
    "\n",
    "で表される。"
   ]
  },
  {
   "cell_type": "markdown",
   "metadata": {},
   "source": [
    "$\\overline{X}$ を標準化した $\n",
    "\\displaystyle \\frac\n",
    "    {\\overline{X} -\\mu }\n",
    "    {\\sqrt{\n",
    "        {\\displaystyle \\frac\n",
    "            {\\sigma ^{2}}\n",
    "            {n}\n",
    "        }\n",
    "    }}\n",
    "$ は標準正規分布 $N\\left( 0,1\\right)$ に従い、その両側 $\\alpha \\%$ 点を $\n",
    "Z_{1-\\frac\n",
    "    {\\alpha }\n",
    "    {2}\n",
    "},Z_{\\frac\n",
    "    {\\alpha }\n",
    "    {2}\n",
    "}\n",
    "$ とすると、\n",
    "\n",
    "$\n",
    "\\displaystyle P\\left( Z_{1-\\frac\n",
    "    {\\alpha }\n",
    "    {2}\n",
    "} < \\frac\n",
    "    {\\overline{X} -\\mu }\n",
    "    {\\sqrt{\n",
    "        {\\displaystyle \\frac\n",
    "            {\\sigma ^{2}}\n",
    "            {n}\n",
    "        }\n",
    "    }}\n",
    "< Z_{\\frac\n",
    "    {\\alpha }\n",
    "    {2}\n",
    "}\\right) =1-\\alpha\n",
    "$"
   ]
  },
  {
   "cell_type": "markdown",
   "metadata": {},
   "source": [
    "標準正規分布では $\n",
    "Z_{1-\\frac\n",
    "    {\\alpha}\n",
    "    {2}\n",
    "}=-Z_{\\frac\n",
    "    {\\alpha}\n",
    "    {2}\n",
    "}\n",
    "$ なので、\n",
    "\n",
    "$P\\left( -Z_{\\frac\n",
    "    {\\alpha }\n",
    "    {2}\n",
    "} < \\frac\n",
    "    {{\\displaystyle \\overline{X} -\\mu } }\n",
    "    {\\sqrt{{\\displaystyle \\frac\n",
    "        {\\sigma ^{2}}\n",
    "        {n}\n",
    "    } }}\n",
    "< Z_{\\frac\n",
    "    {\\alpha }\n",
    "    {2}\n",
    "}\\right) =1-\\alpha $\n"
   ]
  },
  {
   "cell_type": "markdown",
   "metadata": {},
   "source": [
    "$\\mu$ について整理して\n",
    "\n",
    "$P\\left(\\overline{X} -{\\displaystyle \\frac\n",
    "    {\\sigma }\n",
    "    {\\sqrt{n}}\n",
    "} Z_{\\frac\n",
    "    {\\alpha }\n",
    "    {2}\n",
    "} < \\mu < \\overline{X} +{\\displaystyle \\frac\n",
    "    {\\sigma }\n",
    "    {\\sqrt{n}}\n",
    "} Z_{\\frac\n",
    "    {\\alpha }\n",
    "    {2}\n",
    "}\\right) =1-\\alpha $"
   ]
  },
  {
   "cell_type": "markdown",
   "metadata": {},
   "source": [
    "したがって、上の区間内に母平均 $\\mu$ が $1-\\alpha$ の確率で存在するが、母平均を推定しようとしている場合には一般に母標準偏差 $\\sigma$ は未知なので求められない。"
   ]
  },
  {
   "cell_type": "markdown",
   "metadata": {},
   "source": [
    "ここで、 $\\displaystyle \\frac{\\overline{X} -\\mu }{\\sqrt{{\\displaystyle \\frac{\\sigma ^{2}}{n}}}}$ の母分散 $\\sigma ^{2}$ を標本分散 $s^{2}$ で置き換えた統計量 $t$ は\n",
    "\n",
    "$\n",
    "\\begin{align}\n",
    "    t & ={\\displaystyle \\frac\n",
    "        {\\overline{X} -\\mu }\n",
    "        {\\sqrt{{\\displaystyle \\frac\n",
    "            {s^{2}}\n",
    "            {n}\n",
    "        } }}\n",
    "    } \\\\\n",
    "     \\\\\n",
    "     & =\\frac\n",
    "         {\\frac\n",
    "             {{\\displaystyle \\overline{X} -\\mu } }\n",
    "             {{\\displaystyle \\sqrt{\\frac\n",
    "                 {\\sigma ^{2}}\n",
    "                 {n}\n",
    "             }} }\n",
    "         }\n",
    "         {{\\displaystyle \\frac\n",
    "             {{\\displaystyle \\sqrt{\\frac\n",
    "                 {s^{2}}\n",
    "                 {n}\n",
    "             }} }\n",
    "             {{\\displaystyle \\sqrt{\\frac\n",
    "                 {\\sigma ^{2}}\n",
    "                 {n}\n",
    "             }} }\n",
    "         } }\\\\\n",
    "     \\\\\n",
    "     & =\\frac\n",
    "         {\\frac\n",
    "             {{\\displaystyle \\overline{X} -\\mu } }\n",
    "             {{\\displaystyle \\sqrt{\\frac\n",
    "                 {\\sigma ^{2}}\n",
    "                 {n}\n",
    "             }} }\n",
    "         }\n",
    "         {{\\displaystyle \\sqrt{\\frac\n",
    "             {s^{2}}\n",
    "             {\\sigma ^{2}}\n",
    "         }} }\\\\\n",
    "     \\\\\n",
    "     & =\\frac\n",
    "         {\\frac\n",
    "             {{\\displaystyle \\overline{X} -\\mu } }\n",
    "             {{\\displaystyle \\sqrt{\\frac\n",
    "                 {\\sigma ^{2}}\n",
    "                 {n}\n",
    "             }} }\n",
    "         }\n",
    "         {\\sqrt{{\\displaystyle \\frac\n",
    "             {1}\n",
    "             {n-1}\n",
    "         \\frac\n",
    "             {( n-1) s^{2}}\n",
    "             {\\sigma ^{2}}\n",
    "         } }}\n",
    "\\end{align}\n",
    "$"
   ]
  },
  {
   "cell_type": "markdown",
   "metadata": {},
   "source": [
    "ここで $\n",
    "Z=\\frac\n",
    "    {{\\displaystyle \\overline{X} -\\mu } }\n",
    "    {{\\displaystyle \\sqrt{\n",
    "        \\frac\n",
    "            {\\sigma ^{2}}\n",
    "            {n}\n",
    "    }} }\n",
    ",\\ \\chi ^{2} ={\\displaystyle \\frac\n",
    "    {( n-1) s^{2}}\n",
    "    {\\sigma ^{2}}}\n",
    "$ とすると、\n",
    "\n",
    "$\n",
    "\\begin{eqnarray}\n",
    "    t=\\frac\n",
    "        {Z}\n",
    "        {\n",
    "            \\begin{eqnarray}\n",
    "                \\sqrt{\\frac\n",
    "                    {\\chi^2}\n",
    "                    {n-1}\n",
    "                }\n",
    "            \\end{eqnarray}\n",
    "        }\n",
    "\\end{eqnarray}\n",
    "$"
   ]
  },
  {
   "cell_type": "markdown",
   "metadata": {},
   "source": [
    "$Z$ は標準正規分布 $N(0,\\ 1)$ に従う。"
   ]
  },
  {
   "cell_type": "markdown",
   "metadata": {},
   "source": [
    "$\n",
    "\\begin{align}\n",
    "    \\chi ^{2} & =\\frac\n",
    "        {( n-1) s^{2}}\n",
    "        {\\sigma ^{2}}\\\\\n",
    "     & =\\frac\n",
    "         {( n-1)\\frac\n",
    "             {{\\displaystyle \\sum ^{n}_{i=1}\\left( X_{i} -\\overline{X}\\right)^{2}}}\n",
    "             {n-1}\n",
    "         }\n",
    "         {\\sigma ^{2}}\\\\\n",
    "     & =\\sum ^{n}_{i=1}\\frac\n",
    "         {\\left( X_{i} -\\overline{X}\\right)^{2}}\n",
    "         {\\sigma ^{2}}\\\\\n",
    "     & =\\sum ^{n}_{i=1}\\left(\\frac\n",
    "         {X_{i} -\\overline{X}}\n",
    "         {\\sigma }\n",
    "     \\right)^{2}\n",
    "\\end{align}\n",
    "$\n",
    "\n",
    "であり、これは 自由度 $n-1$ の $\\chi^2$ 分布 $\\chi^2(n-1)$ に従う。"
   ]
  },
  {
   "cell_type": "markdown",
   "metadata": {},
   "source": [
    "そして、 $Z$ と $\\chi^2$ は独立なので、 $t$ は自由度 $n-1$ の $t$ 分布に従う。"
   ]
  },
  {
   "cell_type": "markdown",
   "metadata": {},
   "source": [
    "したがって、確率変数 $t$ が両側 $\\alpha \\%$ 点の内側に含まれる確率は\n",
    "\n",
    "$\n",
    "\\displaystyle P( t_{1-\\frac\n",
    "    {\\alpha }\n",
    "    {2}\n",
    "} < t< t_{\\frac\n",
    "    {\\alpha }\n",
    "    {2}\n",
    "}) =1-\\alpha\n",
    "$\n",
    "\n",
    "で表される。"
   ]
  },
  {
   "cell_type": "markdown",
   "metadata": {},
   "source": [
    "$\n",
    "\\displaystyle t=\\frac\n",
    "    {\\overline{X} -\\mu }\n",
    "    {\\sqrt{\n",
    "        {\\displaystyle \\frac\n",
    "            {\\sigma ^{2}}\n",
    "            {n}\n",
    "        }\n",
    "    }}\n",
    "$ より\n",
    "\n",
    "$\n",
    "\\begin{array}{ c c c }\n",
    "    P\\left( t_{1-\\frac\n",
    "        {\\alpha }\n",
    "        {2}\n",
    "    } < \\frac\n",
    "        {{\\displaystyle \\overline{X} -\\mu } }\n",
    "        {{\\displaystyle \\sqrt{\\frac\n",
    "            {s^{2}}\n",
    "            {n}\n",
    "        }} }\n",
    "    < t_{\\frac\n",
    "        {\\alpha }\n",
    "        {2}\n",
    "    }\\right) & = & 1-\\alpha \\\\\n",
    "    \\\\\n",
    "    P\\left( -t_{\\frac\n",
    "        {\\alpha }\n",
    "        {2}\n",
    "    } < \\frac\n",
    "        {{\\displaystyle \\overline{X} -\\mu } }\n",
    "        {{\\displaystyle \\sqrt{\\frac\n",
    "            {s^{2}}\n",
    "            {n}\n",
    "        }} }\n",
    "    < t_{\\frac\n",
    "        {\\alpha }\n",
    "        {2}\n",
    "    }\\right) & = & 1-\\alpha \\\\\n",
    "    \\\\\n",
    "    P\\left(\\overline{X} -{\\displaystyle \\frac\n",
    "        {s}\n",
    "        {\\sqrt{n}}\n",
    "    } t_{\\frac\n",
    "        {\\alpha }\n",
    "        {2}\n",
    "    } < \\mu < \\overline{X} +{\\displaystyle \\frac\n",
    "        {s}\n",
    "        {\\sqrt{n}}\n",
    "    } t_{\\frac\n",
    "        {\\alpha }\n",
    "        {2}\n",
    "    }\\right) & = & 1-\\alpha \n",
    "\\end{array}\n",
    "$"
   ]
  },
  {
   "cell_type": "markdown",
   "metadata": {},
   "source": [
    "以上より、母平均 $\\mu$ が $1-\\alpha \\%$ で含まれる範囲は、 $\n",
    "\\displaystyle \\left(\\overline{X} -\\frac\n",
    "    {s}\n",
    "    {\\sqrt{n}}\n",
    "t_{\\frac\n",
    "    {\\alpha }\n",
    "    {2}\n",
    "} ,\\overline{X} +\\frac\n",
    "    {s}\n",
    "    {\\sqrt{n}}\n",
    "t_{\\frac\n",
    "    {\\alpha }\n",
    "    {2}\n",
    "}\\right)\n",
    "$ で表される。"
   ]
  }
 ],
 "metadata": {
  "kernelspec": {
   "display_name": "Python 3",
   "language": "python",
   "name": "python3"
  },
  "language_info": {
   "codemirror_mode": {
    "name": "ipython",
    "version": 3
   },
   "file_extension": ".py",
   "mimetype": "text/x-python",
   "name": "python",
   "nbconvert_exporter": "python",
   "pygments_lexer": "ipython3",
   "version": "3.8.3"
  },
  "toc": {
   "base_numbering": 1,
   "nav_menu": {},
   "number_sections": true,
   "sideBar": true,
   "skip_h1_title": true,
   "title_cell": "Table of Contents",
   "title_sidebar": "Contents",
   "toc_cell": false,
   "toc_position": {},
   "toc_section_display": true,
   "toc_window_display": true
  },
  "varInspector": {
   "cols": {
    "lenName": 16,
    "lenType": 16,
    "lenVar": 40
   },
   "kernels_config": {
    "python": {
     "delete_cmd_postfix": "",
     "delete_cmd_prefix": "del ",
     "library": "var_list.py",
     "varRefreshCmd": "print(var_dic_list())"
    },
    "r": {
     "delete_cmd_postfix": ") ",
     "delete_cmd_prefix": "rm(",
     "library": "var_list.r",
     "varRefreshCmd": "cat(var_dic_list()) "
    }
   },
   "types_to_exclude": [
    "module",
    "function",
    "builtin_function_or_method",
    "instance",
    "_Feature"
   ],
   "window_display": false
  },
  "widgets": {
   "application/vnd.jupyter.widget-state+json": {
    "state": {},
    "version_major": 2,
    "version_minor": 0
   }
  }
 },
 "nbformat": 4,
 "nbformat_minor": 4
}
