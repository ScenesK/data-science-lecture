{
 "cells": [
  {
   "cell_type": "code",
   "execution_count": 1,
   "metadata": {},
   "outputs": [],
   "source": [
    "import inspect\n",
    "import numpy as np\n",
    "from scipy import stats\n",
    "import pandas as pd\n",
    "%matplotlib inline"
   ]
  },
  {
   "cell_type": "markdown",
   "metadata": {},
   "source": [
    "## 考えてみる\n",
    "---\n",
    "数値で表現されるデータを少数の指標で表すとしたら、どのようなものがありそうか。"
   ]
  },
  {
   "cell_type": "markdown",
   "metadata": {},
   "source": [
    "## GUIで実行してみる\n",
    "---\n",
    "RStudio の Console に`library(Rcmdr)`と入力して、 R commander を起動。\n",
    "\n",
    "- `データ` -> `データのインポート` -> `テキストファイルまたはクリップボード, URLから`\n",
    "\n",
    "として、`フィールドの区切り記号`を`カンマ`にし、`OK`をクリック。  \n",
    "\n",
    "`workspace/beginner/data/attenu.csv`を読み込む。  \n",
    "`データセットを表示`をクリックし、内容を確認。\n",
    "\n",
    "- `統計量` -> `要約` -> `数値による要約`\n",
    "\n",
    "として`event`以外の変数を選択し、`OK`をクリック。\n",
    "\n",
    "RStudio の Console に戻って、結果を確認。"
   ]
  },
  {
   "cell_type": "markdown",
   "metadata": {},
   "source": [
    "## 最初に確認すること\n",
    "---\n"
   ]
  },
  {
   "cell_type": "code",
   "execution_count": 2,
   "metadata": {
    "hide_input": false
   },
   "outputs": [],
   "source": [
    "att = pd.read_csv('data/attenu.csv')"
   ]
  },
  {
   "cell_type": "markdown",
   "metadata": {},
   "source": [
    "データを読み込んだら、最初に**意図した通りに読み込めているか確認**する。"
   ]
  },
  {
   "cell_type": "markdown",
   "metadata": {},
   "source": [
    "---"
   ]
  },
  {
   "cell_type": "markdown",
   "metadata": {},
   "source": [
    "最初の5件を表示。 (**ヘッダー行やコメント**がデータとして読み込まれていないか確認)"
   ]
  },
  {
   "cell_type": "code",
   "execution_count": 3,
   "metadata": {},
   "outputs": [
    {
     "data": {
      "text/html": [
       "<div>\n",
       "<style scoped>\n",
       "    .dataframe tbody tr th:only-of-type {\n",
       "        vertical-align: middle;\n",
       "    }\n",
       "\n",
       "    .dataframe tbody tr th {\n",
       "        vertical-align: top;\n",
       "    }\n",
       "\n",
       "    .dataframe thead th {\n",
       "        text-align: right;\n",
       "    }\n",
       "</style>\n",
       "<table border=\"1\" class=\"dataframe\">\n",
       "  <thead>\n",
       "    <tr style=\"text-align: right;\">\n",
       "      <th></th>\n",
       "      <th>event</th>\n",
       "      <th>mag</th>\n",
       "      <th>station</th>\n",
       "      <th>dist</th>\n",
       "      <th>accel</th>\n",
       "    </tr>\n",
       "  </thead>\n",
       "  <tbody>\n",
       "    <tr>\n",
       "      <th>0</th>\n",
       "      <td>1</td>\n",
       "      <td>7.0</td>\n",
       "      <td>117</td>\n",
       "      <td>12.0</td>\n",
       "      <td>0.359</td>\n",
       "    </tr>\n",
       "    <tr>\n",
       "      <th>1</th>\n",
       "      <td>2</td>\n",
       "      <td>7.4</td>\n",
       "      <td>1083</td>\n",
       "      <td>148.0</td>\n",
       "      <td>0.014</td>\n",
       "    </tr>\n",
       "    <tr>\n",
       "      <th>2</th>\n",
       "      <td>2</td>\n",
       "      <td>7.4</td>\n",
       "      <td>1095</td>\n",
       "      <td>42.0</td>\n",
       "      <td>0.196</td>\n",
       "    </tr>\n",
       "    <tr>\n",
       "      <th>3</th>\n",
       "      <td>2</td>\n",
       "      <td>7.4</td>\n",
       "      <td>283</td>\n",
       "      <td>85.0</td>\n",
       "      <td>0.135</td>\n",
       "    </tr>\n",
       "    <tr>\n",
       "      <th>4</th>\n",
       "      <td>2</td>\n",
       "      <td>7.4</td>\n",
       "      <td>135</td>\n",
       "      <td>107.0</td>\n",
       "      <td>0.062</td>\n",
       "    </tr>\n",
       "  </tbody>\n",
       "</table>\n",
       "</div>"
      ],
      "text/plain": [
       "   event  mag station   dist  accel\n",
       "0      1  7.0     117   12.0  0.359\n",
       "1      2  7.4    1083  148.0  0.014\n",
       "2      2  7.4    1095   42.0  0.196\n",
       "3      2  7.4     283   85.0  0.135\n",
       "4      2  7.4     135  107.0  0.062"
      ]
     },
     "execution_count": 3,
     "metadata": {},
     "output_type": "execute_result"
    }
   ],
   "source": [
    "att.head()"
   ]
  },
  {
   "cell_type": "markdown",
   "metadata": {},
   "source": [
    "表示する件数を指定できる。"
   ]
  },
  {
   "cell_type": "code",
   "execution_count": 4,
   "metadata": {},
   "outputs": [
    {
     "data": {
      "text/html": [
       "<div>\n",
       "<style scoped>\n",
       "    .dataframe tbody tr th:only-of-type {\n",
       "        vertical-align: middle;\n",
       "    }\n",
       "\n",
       "    .dataframe tbody tr th {\n",
       "        vertical-align: top;\n",
       "    }\n",
       "\n",
       "    .dataframe thead th {\n",
       "        text-align: right;\n",
       "    }\n",
       "</style>\n",
       "<table border=\"1\" class=\"dataframe\">\n",
       "  <thead>\n",
       "    <tr style=\"text-align: right;\">\n",
       "      <th></th>\n",
       "      <th>event</th>\n",
       "      <th>mag</th>\n",
       "      <th>station</th>\n",
       "      <th>dist</th>\n",
       "      <th>accel</th>\n",
       "    </tr>\n",
       "  </thead>\n",
       "  <tbody>\n",
       "    <tr>\n",
       "      <th>0</th>\n",
       "      <td>1</td>\n",
       "      <td>7.0</td>\n",
       "      <td>117</td>\n",
       "      <td>12.0</td>\n",
       "      <td>0.359</td>\n",
       "    </tr>\n",
       "    <tr>\n",
       "      <th>1</th>\n",
       "      <td>2</td>\n",
       "      <td>7.4</td>\n",
       "      <td>1083</td>\n",
       "      <td>148.0</td>\n",
       "      <td>0.014</td>\n",
       "    </tr>\n",
       "    <tr>\n",
       "      <th>2</th>\n",
       "      <td>2</td>\n",
       "      <td>7.4</td>\n",
       "      <td>1095</td>\n",
       "      <td>42.0</td>\n",
       "      <td>0.196</td>\n",
       "    </tr>\n",
       "  </tbody>\n",
       "</table>\n",
       "</div>"
      ],
      "text/plain": [
       "   event  mag station   dist  accel\n",
       "0      1  7.0     117   12.0  0.359\n",
       "1      2  7.4    1083  148.0  0.014\n",
       "2      2  7.4    1095   42.0  0.196"
      ]
     },
     "execution_count": 4,
     "metadata": {},
     "output_type": "execute_result"
    }
   ],
   "source": [
    "att.head(3)"
   ]
  },
  {
   "cell_type": "markdown",
   "metadata": {},
   "source": [
    "最後の5件を表示。 (データの件数を確認)"
   ]
  },
  {
   "cell_type": "code",
   "execution_count": 5,
   "metadata": {},
   "outputs": [
    {
     "data": {
      "text/html": [
       "<div>\n",
       "<style scoped>\n",
       "    .dataframe tbody tr th:only-of-type {\n",
       "        vertical-align: middle;\n",
       "    }\n",
       "\n",
       "    .dataframe tbody tr th {\n",
       "        vertical-align: top;\n",
       "    }\n",
       "\n",
       "    .dataframe thead th {\n",
       "        text-align: right;\n",
       "    }\n",
       "</style>\n",
       "<table border=\"1\" class=\"dataframe\">\n",
       "  <thead>\n",
       "    <tr style=\"text-align: right;\">\n",
       "      <th></th>\n",
       "      <th>event</th>\n",
       "      <th>mag</th>\n",
       "      <th>station</th>\n",
       "      <th>dist</th>\n",
       "      <th>accel</th>\n",
       "    </tr>\n",
       "  </thead>\n",
       "  <tbody>\n",
       "    <tr>\n",
       "      <th>177</th>\n",
       "      <td>23</td>\n",
       "      <td>5.3</td>\n",
       "      <td>c266</td>\n",
       "      <td>46.1</td>\n",
       "      <td>0.070</td>\n",
       "    </tr>\n",
       "    <tr>\n",
       "      <th>178</th>\n",
       "      <td>23</td>\n",
       "      <td>5.3</td>\n",
       "      <td>c203</td>\n",
       "      <td>47.1</td>\n",
       "      <td>0.080</td>\n",
       "    </tr>\n",
       "    <tr>\n",
       "      <th>179</th>\n",
       "      <td>23</td>\n",
       "      <td>5.3</td>\n",
       "      <td>5069</td>\n",
       "      <td>47.7</td>\n",
       "      <td>0.033</td>\n",
       "    </tr>\n",
       "    <tr>\n",
       "      <th>180</th>\n",
       "      <td>23</td>\n",
       "      <td>5.3</td>\n",
       "      <td>5073</td>\n",
       "      <td>49.2</td>\n",
       "      <td>0.017</td>\n",
       "    </tr>\n",
       "    <tr>\n",
       "      <th>181</th>\n",
       "      <td>23</td>\n",
       "      <td>5.3</td>\n",
       "      <td>5072</td>\n",
       "      <td>53.1</td>\n",
       "      <td>0.022</td>\n",
       "    </tr>\n",
       "  </tbody>\n",
       "</table>\n",
       "</div>"
      ],
      "text/plain": [
       "     event  mag station  dist  accel\n",
       "177     23  5.3    c266  46.1  0.070\n",
       "178     23  5.3    c203  47.1  0.080\n",
       "179     23  5.3    5069  47.7  0.033\n",
       "180     23  5.3    5073  49.2  0.017\n",
       "181     23  5.3    5072  53.1  0.022"
      ]
     },
     "execution_count": 5,
     "metadata": {},
     "output_type": "execute_result"
    }
   ],
   "source": [
    "att.tail()"
   ]
  },
  {
   "cell_type": "markdown",
   "metadata": {},
   "source": [
    "最初と最後の件数を指定して表示できる。"
   ]
  },
  {
   "cell_type": "code",
   "execution_count": 6,
   "metadata": {},
   "outputs": [
    {
     "data": {
      "text/html": [
       "<div>\n",
       "<style scoped>\n",
       "    .dataframe tbody tr th:only-of-type {\n",
       "        vertical-align: middle;\n",
       "    }\n",
       "\n",
       "    .dataframe tbody tr th {\n",
       "        vertical-align: top;\n",
       "    }\n",
       "\n",
       "    .dataframe thead th {\n",
       "        text-align: right;\n",
       "    }\n",
       "</style>\n",
       "<table border=\"1\" class=\"dataframe\">\n",
       "  <thead>\n",
       "    <tr style=\"text-align: right;\">\n",
       "      <th></th>\n",
       "      <th>event</th>\n",
       "      <th>mag</th>\n",
       "      <th>station</th>\n",
       "      <th>dist</th>\n",
       "      <th>accel</th>\n",
       "    </tr>\n",
       "  </thead>\n",
       "  <tbody>\n",
       "    <tr>\n",
       "      <th>0</th>\n",
       "      <td>1</td>\n",
       "      <td>7.0</td>\n",
       "      <td>117</td>\n",
       "      <td>12.0</td>\n",
       "      <td>0.359</td>\n",
       "    </tr>\n",
       "    <tr>\n",
       "      <th>1</th>\n",
       "      <td>2</td>\n",
       "      <td>7.4</td>\n",
       "      <td>1083</td>\n",
       "      <td>148.0</td>\n",
       "      <td>0.014</td>\n",
       "    </tr>\n",
       "    <tr>\n",
       "      <th>2</th>\n",
       "      <td>2</td>\n",
       "      <td>7.4</td>\n",
       "      <td>1095</td>\n",
       "      <td>42.0</td>\n",
       "      <td>0.196</td>\n",
       "    </tr>\n",
       "    <tr>\n",
       "      <th>181</th>\n",
       "      <td>23</td>\n",
       "      <td>5.3</td>\n",
       "      <td>5072</td>\n",
       "      <td>53.1</td>\n",
       "      <td>0.022</td>\n",
       "    </tr>\n",
       "  </tbody>\n",
       "</table>\n",
       "</div>"
      ],
      "text/plain": [
       "     event  mag station   dist  accel\n",
       "0        1  7.0     117   12.0  0.359\n",
       "1        2  7.4    1083  148.0  0.014\n",
       "2        2  7.4    1095   42.0  0.196\n",
       "181     23  5.3    5072   53.1  0.022"
      ]
     },
     "execution_count": 6,
     "metadata": {},
     "output_type": "execute_result"
    }
   ],
   "source": [
    "att.iloc[np.r_[0:3, -1]]"
   ]
  },
  {
   "cell_type": "markdown",
   "metadata": {},
   "source": [
    "特にCSVファイルなどの読み込みで、ヘッダー行が含まれていたら`header=0`として最初の行をカラム名に指定たり、不要な行が含まれていたら`skiprows`で指定した行数飛ばしたり、`comment`で`#`など指定した文字で始まるコメント行を飛ばしたりする。"
   ]
  },
  {
   "cell_type": "code",
   "execution_count": 7,
   "metadata": {},
   "outputs": [],
   "source": [
    "pd.read_csv??"
   ]
  },
  {
   "cell_type": "code",
   "execution_count": 8,
   "metadata": {
    "hide_input": true
   },
   "outputs": [
    {
     "name": "stdout",
     "output_type": "stream",
     "text": [
      "Pandasのデータ読み込み関数\n",
      "['read_clipboard', 'read_csv', 'read_excel', 'read_feather', 'read_fwf', 'read_gbq', 'read_hdf', 'read_html', 'read_json', 'read_msgpack', 'read_parquet', 'read_pickle', 'read_sas', 'read_sql', 'read_sql_query', 'read_sql_table', 'read_stata', 'read_table']\n"
     ]
    }
   ],
   "source": [
    "print('Pandasのデータ読み込み関数')\n",
    "print([\n",
    "    f[0] for f in inspect.getmembers(pd, inspect.isfunction)\n",
    "    if f[0].startswith('read_')\n",
    "])"
   ]
  },
  {
   "cell_type": "markdown",
   "metadata": {},
   "source": [
    "---"
   ]
  },
  {
   "cell_type": "markdown",
   "metadata": {},
   "source": [
    "データ型を確認。 (**数値に見えて文字列**として読み込まれていないか)"
   ]
  },
  {
   "cell_type": "code",
   "execution_count": 9,
   "metadata": {},
   "outputs": [
    {
     "data": {
      "text/plain": [
       "event        int64\n",
       "mag        float64\n",
       "station     object\n",
       "dist       float64\n",
       "accel      float64\n",
       "dtype: object"
      ]
     },
     "execution_count": 9,
     "metadata": {},
     "output_type": "execute_result"
    }
   ],
   "source": [
    "att.dtypes"
   ]
  },
  {
   "cell_type": "markdown",
   "metadata": {},
   "source": [
    "---"
   ]
  },
  {
   "cell_type": "markdown",
   "metadata": {},
   "source": [
    "データの件数・欠損・データ型をまとめて確認。"
   ]
  },
  {
   "cell_type": "code",
   "execution_count": 10,
   "metadata": {},
   "outputs": [
    {
     "name": "stdout",
     "output_type": "stream",
     "text": [
      "<class 'pandas.core.frame.DataFrame'>\n",
      "RangeIndex: 182 entries, 0 to 181\n",
      "Data columns (total 5 columns):\n",
      "event      182 non-null int64\n",
      "mag        182 non-null float64\n",
      "station    166 non-null object\n",
      "dist       182 non-null float64\n",
      "accel      182 non-null float64\n",
      "dtypes: float64(3), int64(1), object(1)\n",
      "memory usage: 7.2+ KB\n"
     ]
    }
   ],
   "source": [
    "att.info()"
   ]
  },
  {
   "cell_type": "markdown",
   "metadata": {},
   "source": [
    "## 基本統計量\n",
    "---\n",
    "データの性質を表す値のことを統計量という。よく使う基本統計量には以下のものがある。\n",
    "\n",
    "- 代表値\n",
    "- 分散・標準偏差\n",
    "- 四分位点"
   ]
  },
  {
   "cell_type": "markdown",
   "metadata": {},
   "source": [
    "### 代表値\n",
    "---\n",
    "データ (データフレームのカラム) の**中心的な** (代表的な) 値を表す指標。  \n",
    "以下の3種類がある。\n",
    "\n",
    "- 平均値\n",
    "- 中央値\n",
    "- 最頻値"
   ]
  },
  {
   "cell_type": "markdown",
   "metadata": {},
   "source": [
    "#### 平均値 (mean)\n",
    "---\n",
    "データの重心。\n",
    "\n",
    "$n$ 個のデータをそれぞれ $x_{1} ,\\ x_{2} ,\\ \\dots ,\\ x_{n}$ とすると平均 $\\bar{x}$ は\n",
    "\n",
    "$\n",
    "\\begin{align}\n",
    "    \\overline{x} & =\\frac\n",
    "        {1}\n",
    "        {n}\n",
    "    \\sum ^{n}_{i=1} x_{i}\\\\\n",
    "     \\\\\n",
    "     & =\\frac\n",
    "         {x_{1} +x_{2} +\\dots +x_{n}}\n",
    "         {n}\n",
    "\\end{align}\n",
    "$\n",
    "\n",
    "**外れ値に引きずられやすい**ので、データに外れ値が含まれる場合や**データの分布に偏りがある**場合は中央値を用いることもある。 (分布とは、データ中のどれくらいの値にどれくらいのデータ数が集まっているかを表す言葉)"
   ]
  },
  {
   "cell_type": "markdown",
   "metadata": {},
   "source": [
    "例：\n",
    "\n",
    "$5$ 個のデータ $( 1,3,5,7,9)$ の平均値は $5$"
   ]
  },
  {
   "cell_type": "code",
   "execution_count": 11,
   "metadata": {},
   "outputs": [
    {
     "name": "stdout",
     "output_type": "stream",
     "text": [
      "x = [1 3 5 7 9]\n",
      "平均: 5.0\n"
     ]
    }
   ],
   "source": [
    "x = np.arange(1, 10, 2)\n",
    "print(f'x = {x}')\n",
    "print(f'平均: {x.mean()}')"
   ]
  },
  {
   "cell_type": "markdown",
   "metadata": {},
   "source": [
    "1つのデータ $( 9)$ を外れ値 $( 20)$ に置き換えただけで、平均値が大きく変わってしまう。"
   ]
  },
  {
   "cell_type": "code",
   "execution_count": 12,
   "metadata": {},
   "outputs": [
    {
     "name": "stdout",
     "output_type": "stream",
     "text": [
      "x = [ 1  3  5  7 20]\n",
      "平均: 7.2\n"
     ]
    }
   ],
   "source": [
    "x[-1] = 20\n",
    "print(f'x = {x}')\n",
    "print(f'平均: {x.mean()}')"
   ]
  },
  {
   "cell_type": "markdown",
   "metadata": {},
   "source": [
    "###### 練習問題\n",
    "\n",
    "平均を算出する関数`mean`を完成させる。 (NumPyは使わない)"
   ]
  },
  {
   "cell_type": "code",
   "execution_count": 13,
   "metadata": {
    "solution2": "hidden",
    "solution2_first": true
   },
   "outputs": [
    {
     "name": "stdout",
     "output_type": "stream",
     "text": [
      "x = [48 84 39 54 77 25 16 50 24 27 31 44 31 27 59 93 70 81 74 48]\n"
     ]
    }
   ],
   "source": [
    "np.random.seed(1234)\n",
    "x = np.random.randint(1, 100, 20)\n",
    "print(f'x = {x}')\n",
    "\n",
    "def mean(x):\n",
    "    return"
   ]
  },
  {
   "cell_type": "code",
   "execution_count": 14,
   "metadata": {
    "solution2": "hidden"
   },
   "outputs": [],
   "source": [
    "def mean(x):\n",
    "    return sum(x) / len(x)"
   ]
  },
  {
   "cell_type": "code",
   "execution_count": 15,
   "metadata": {},
   "outputs": [
    {
     "name": "stdout",
     "output_type": "stream",
     "text": [
      "結果: 50.1\n",
      "正解: 50.1\n"
     ]
    }
   ],
   "source": [
    "print(f'結果: {mean(x)}')\n",
    "print(f'正解: {x.mean()}')"
   ]
  },
  {
   "cell_type": "markdown",
   "metadata": {},
   "source": [
    "#### 中央値 (median)\n",
    "---\n",
    "データを大きさの順で並べた場合に、真ん中に位置する値。外れ値には強いが、確率論を背景とする分析手法とは相性が悪い。"
   ]
  },
  {
   "cell_type": "markdown",
   "metadata": {},
   "source": [
    "例：\n",
    "\n",
    "$5$ 個のデータ $( 1,3,5,7,9)$ の中央値は $5$"
   ]
  },
  {
   "cell_type": "code",
   "execution_count": 16,
   "metadata": {},
   "outputs": [
    {
     "name": "stdout",
     "output_type": "stream",
     "text": [
      "x = [1 3 5 7 9]\n",
      "中央値: 5.0\n"
     ]
    }
   ],
   "source": [
    "x = np.arange(1, 10, 2)\n",
    "print(f'x = {x}')\n",
    "print(f'中央値: {np.median(x)}')"
   ]
  },
  {
   "cell_type": "markdown",
   "metadata": {},
   "source": [
    "1つのデータ $( 9)$ を外れ値 $( 20)$ に置き換えても、中央値は変わらない。"
   ]
  },
  {
   "cell_type": "code",
   "execution_count": 17,
   "metadata": {},
   "outputs": [
    {
     "name": "stdout",
     "output_type": "stream",
     "text": [
      "x = [ 1  3  5  7 20]\n",
      "中央値: 5.0\n"
     ]
    }
   ],
   "source": [
    "x[-1] = 20\n",
    "print(f'x = {x}')\n",
    "print(f'中央値: {np.median(x)}')"
   ]
  },
  {
   "cell_type": "markdown",
   "metadata": {},
   "source": [
    "###### 練習問題\n",
    "\n",
    "中央値を算出する関数`median`を完成させる。 (NumPyは使わない)"
   ]
  },
  {
   "cell_type": "code",
   "execution_count": 18,
   "metadata": {
    "solution2": "hidden",
    "solution2_first": true
   },
   "outputs": [
    {
     "name": "stdout",
     "output_type": "stream",
     "text": [
      "x = [48 84 39 54 77 25 16 50 24 27 31 44 31 27 59 93 70 81 74 48]\n"
     ]
    }
   ],
   "source": [
    "np.random.seed(1234)\n",
    "x = np.random.randint(1, 100, 20)\n",
    "print(f'x = {x}')\n",
    "\n",
    "def median(x):\n",
    "    return"
   ]
  },
  {
   "cell_type": "code",
   "execution_count": 19,
   "metadata": {
    "solution2": "hidden"
   },
   "outputs": [],
   "source": [
    "def median(x):\n",
    "    sort = np.sort(x)\n",
    "    size = len(x)\n",
    "    if size % 2:\n",
    "        return sort[size // 2]\n",
    "    else:\n",
    "        return (sort[size // 2 - 1] + sort[size // 2]) / 2"
   ]
  },
  {
   "cell_type": "code",
   "execution_count": 20,
   "metadata": {},
   "outputs": [
    {
     "name": "stdout",
     "output_type": "stream",
     "text": [
      "結果: 48.0\n",
      "正解: 48.0\n"
     ]
    }
   ],
   "source": [
    "print(f'結果: {median(x)}')\n",
    "print(f'正解: {np.median(x)}')"
   ]
  },
  {
   "cell_type": "markdown",
   "metadata": {},
   "source": [
    "#### 最頻値 (mode)\n",
    "---\n",
    "最も頻繁に (多く) 現れる値。"
   ]
  },
  {
   "cell_type": "markdown",
   "metadata": {},
   "source": [
    "例：\n",
    "\n",
    "データ $( 1,2,2,3,3,3,3,4,4,5,5)$ の最頻値は $3$"
   ]
  },
  {
   "cell_type": "code",
   "execution_count": 21,
   "metadata": {},
   "outputs": [
    {
     "name": "stdout",
     "output_type": "stream",
     "text": [
      "x = [1, 2, 2, 3, 3, 3, 3, 4, 4, 5, 5]\n",
      "最頻値: [3], 出現回数: [4]\n"
     ]
    }
   ],
   "source": [
    "x = [1, 2, 2, 3, 3, 3, 3, 4, 4, 5, 5]\n",
    "print(f'x = {x}')\n",
    "print(f'最頻値: {stats.mode(x).mode}, 出現回数: {stats.mode(x).count}')"
   ]
  },
  {
   "cell_type": "markdown",
   "metadata": {},
   "source": [
    "###### 練習問題\n",
    "\n",
    "最頻値を算出する関数`mode`を完成させる。 (SciPyは使わない)"
   ]
  },
  {
   "cell_type": "code",
   "execution_count": 22,
   "metadata": {},
   "outputs": [],
   "source": [
    "np.random.seed(1234)\n",
    "x = np.random.randint(1, 10, 15)"
   ]
  },
  {
   "cell_type": "code",
   "execution_count": 23,
   "metadata": {
    "solution2": "hidden",
    "solution2_first": true
   },
   "outputs": [],
   "source": [
    "def mode(x):\n",
    "    return"
   ]
  },
  {
   "cell_type": "code",
   "execution_count": 24,
   "metadata": {
    "solution2": "hidden"
   },
   "outputs": [],
   "source": [
    "def mode(x):\n",
    "    elem = set(x)\n",
    "    result = {}\n",
    "    most_freq = 0\n",
    "    for e in elem:\n",
    "        result[e] = count = (x == e).sum()\n",
    "        if count > most_freq:\n",
    "            most_freq = count\n",
    "    return [k for k, v in result.items() if v == most_freq]"
   ]
  },
  {
   "cell_type": "code",
   "execution_count": 25,
   "metadata": {},
   "outputs": [
    {
     "data": {
      "text/plain": [
       "[1, 7]"
      ]
     },
     "execution_count": 25,
     "metadata": {},
     "output_type": "execute_result"
    }
   ],
   "source": [
    "mode(x)"
   ]
  },
  {
   "cell_type": "markdown",
   "metadata": {},
   "source": [
    "#### いつ、どの代表値を使うか"
   ]
  },
  {
   "cell_type": "markdown",
   "metadata": {},
   "source": [
    "###### 練習問題\n",
    "\n",
    "自分で入手可能なデータを念頭に、そのデータを他人に説明するのにどの代表値を使うのが適切か考えてみる。"
   ]
  },
  {
   "cell_type": "markdown",
   "metadata": {},
   "source": [
    "##### 尺度と代表値\n",
    "---\n",
    "データの尺度がわかると、利用可能な代表値が絞り込める。\n",
    "\n",
    "<table class=\"text-center border\">\n",
    "    <tr>\n",
    "        <th>尺度</th>\n",
    "        <th>一般的な代表値</th>\n",
    "        <th>利用可能な代表値</th>\n",
    "    </tr>\n",
    "    <tr>\n",
    "        <td>名義尺度</td>\n",
    "        <td>最頻値</td>\n",
    "        <td class=\"text-left\">最頻値</td>\n",
    "    </tr>\n",
    "    <tr>\n",
    "        <td>順序尺度</td>\n",
    "        <td>中央値</td>\n",
    "        <td class=\"text-left\">最頻値・中央値</td>\n",
    "    </tr>\n",
    "    <tr>\n",
    "        <td>間隔尺度</td>\n",
    "        <td>平均値</td>\n",
    "        <td class=\"text-left\">最頻値・中央値・平均値</td>\n",
    "    </tr>\n",
    "    <tr>\n",
    "        <td>比率尺度</td>\n",
    "        <td>平均値</td>\n",
    "        <td class=\"text-left\">最頻値・中央値・平均値</td>\n",
    "    </tr>\n",
    "</table>"
   ]
  },
  {
   "cell_type": "markdown",
   "metadata": {},
   "source": [
    "###### 名義尺度 (nominal scale)\n",
    "---\n",
    "値の**順序に意味がない**種類のデータ。\n",
    "\n",
    "- 血液型・性別など"
   ]
  },
  {
   "cell_type": "markdown",
   "metadata": {},
   "source": [
    "###### 順序尺度 (ordinal scale)\n",
    "---\n",
    "値の**順序には意味がある**が、値同士の**演算 (加減乗除) には意味がない**種類のデータ。 *(順序で並び替えて積み上げグラフなどにすること = 累積には意味がある)*\n",
    "\n",
    "- アンケートの5段階評価など"
   ]
  },
  {
   "cell_type": "markdown",
   "metadata": {},
   "source": [
    "###### 間隔尺度 (interval scale)\n",
    "---\n",
    "値の間隔には意味があり、**値同士の加算・減算が可能**だが、値同士の乗算・除算には意味がない種類のデータ。\n",
    "\n",
    "- 温度 (摂氏・華氏) ・タイムスタンプなど\n",
    "\n",
    "摂氏10度と摂氏20度の差や摂氏20度と摂氏30度の差は共に10度だと言えるが、摂氏20度は摂氏10度の2倍の温度 (熱量) だとは言えない。同じように1970年1月1日からの経過時間を表すタイムスタンプ (UNIX時間) は、1990年1月1日が1980年1月1日の2倍の時間とは言えない。原点の取り方に任意性があり、原点自体に特別な意味がない。"
   ]
  },
  {
   "cell_type": "markdown",
   "metadata": {},
   "source": [
    "###### 比率尺度 (ratio scale)\n",
    "---\n",
    "値の比率にも意味があり (原点0に意味がある) 、**値同士の演算 (加減乗除) が可能**な種類のデータ。\n",
    "\n",
    "- 絶対温度・距離・重量など"
   ]
  },
  {
   "cell_type": "markdown",
   "metadata": {},
   "source": [
    "###### なぜ尺度が代表値と関係あるのか\n",
    "---\n",
    "代表値の算出方法ごとに、データに必要な条件がある。\n",
    "\n",
    "<table class=\"border\">\n",
    "    <tr class=\"text-center\">\n",
    "        <td class=\"border-bottom-bold border-right-bold\"></td>\n",
    "        <th>算出方法</th>\n",
    "        <th>必要条件</th>\n",
    "    </tr>\n",
    "    <tr>\n",
    "        <th class=\"border-bottom border-right-bold\">最頻値</th>\n",
    "        <td class=\"text-left\">最も頻繁に出現する要素を割り出す</td>\n",
    "        <td class=\"text-left\">要素ごとの出現回数をカウントできればよい</td>\n",
    "    </tr>\n",
    "    <tr>\n",
    "        <th class=\"border-bottom border-right-bold\">中央値</th>\n",
    "        <td class=\"text-left\">全要素を大きさの順で並び替え、真ん中の値を割り出す</td>\n",
    "        <td class=\"text-left\">要素の大きさで順番に並び替えられないといけない</td>\n",
    "    </tr>\n",
    "    <tr>\n",
    "        <th class=\"border-bottom border-right-bold\">平均値</th>\n",
    "        <td class=\"text-left\">全要素を合計して、要素数で割る</td>\n",
    "        <td class=\"text-left\">要素同士の足し算ができないといけない</td>\n",
    "    </tr>\n",
    "</table>\n",
    "\n",
    "必要な条件を満たすかどうかは尺度から判断できる。\n",
    "\n",
    "<table class=\"text-center border\">\n",
    "    <tr>\n",
    "        <td class=\"border-bottom-bold border-right-bold\"></td>\n",
    "        <th>順序</th>\n",
    "        <th>加減</th>\n",
    "        <th>乗除</th>\n",
    "        <th>代表値</th>\n",
    "    </tr>\n",
    "    <tr>\n",
    "        <th class=\"border-bottom border-right-bold\">名義尺度</th>\n",
    "        <td>×</td>\n",
    "        <td>×</td>\n",
    "        <td>×</td>\n",
    "        <td>最頻値</td>\n",
    "    </tr>\n",
    "    <tr>\n",
    "        <th class=\"border-bottom border-right-bold\">順序尺度</th>\n",
    "        <td>○</td>\n",
    "        <td>×</td>\n",
    "        <td>×</td>\n",
    "        <td>中央値</td>\n",
    "    </tr>\n",
    "    <tr>\n",
    "        <th class=\"border-bottom border-right-bold\">間隔尺度</th>\n",
    "        <td>○</td>\n",
    "        <td>○</td>\n",
    "        <td>×</td>\n",
    "        <td>平均値</td>\n",
    "    </tr>\n",
    "    <tr>\n",
    "        <th class=\"border-bottom border-right-bold\">比率尺度</th>\n",
    "        <td>○</td>\n",
    "        <td>○</td>\n",
    "        <td>○</td>\n",
    "        <td>平均値</td>\n",
    "    </tr>\n",
    "</table>\n",
    "\n",
    "平均値が算出できるときには中央値も算出でき、中央値が算出できるときには最頻値も算出できるというように、**平均値>中央値>最頻値**の上位互換関係が成り立つ。  \n",
    "上位の指標のほうがより多くの情報を使って算出 (平均値は順序だけでなく大きさも利用など) されているため、基本的には上位の指標を使うのが望ましいが、前述のように平均値は**外れ値に引きずられやすい**ので、データに外れ値が含まれる場合や**データの分布に偏りがある**場合は中央値を用いることもある。"
   ]
  },
  {
   "cell_type": "markdown",
   "metadata": {},
   "source": [
    "##### 質的変数 (カテゴリカル変数) と量的変数\n",
    "---\n",
    "名義尺度と順序尺度をまとめて質的変数 (カテゴリカル変数) 、間隔尺度と比率尺度をまとめて量的変数と呼ぶこともある。\n",
    "\n",
    "<table class=\"text-center border background-bright\">\n",
    "    <tr>\n",
    "        <th class=\"border-bottom border-right-bold background-dark\" rowspan=\"2\">質的変数<br />カテゴリカル変数</th>\n",
    "        <td>名義尺度</td>\n",
    "    </tr>\n",
    "    <tr>\n",
    "        <td>順序尺度</td>\n",
    "    </tr>\n",
    "    <tr>\n",
    "        <th class=\"border-bottom border-right-bold background-dark\" rowspan=\"2\">量的変数</th>\n",
    "        <td>間隔尺度</td>\n",
    "    </tr>\n",
    "    <tr>\n",
    "        <td>比率尺度</td>\n",
    "    </tr>\n",
    "</table>"
   ]
  },
  {
   "cell_type": "markdown",
   "metadata": {},
   "source": [
    "### データの散らばり (散布度) を表す指標\n",
    "---\n",
    "データに含まれる値が代表値の周囲に固まっていると代表値はデータの性質を強く表すが、データが散らばっている場合には代表値だけではデータの性質をうまく把握できない。そのため、**代表値と併せてデータの散らばりを把握**することも重要。"
   ]
  },
  {
   "cell_type": "code",
   "execution_count": 26,
   "metadata": {
    "hide_input": true
   },
   "outputs": [
    {
     "data": {
      "application/vnd.jupyter.widget-view+json": {
       "model_id": "8011b4d5b78c40d3ae028022619ad0c4",
       "version_major": 2,
       "version_minor": 0
      },
      "text/plain": [
       "interactive(children=(FloatSlider(value=1.0, continuous_update=False, description='データの散らばり具合：', max=2.0, min=…"
      ]
     },
     "metadata": {},
     "output_type": "display_data"
    }
   ],
   "source": [
    "from helpers.variance import hist\n",
    "hist.show()"
   ]
  },
  {
   "cell_type": "markdown",
   "metadata": {},
   "source": [
    "#### 分散 (variance)\n",
    "---\n",
    "$n$ 個のデータをそれぞれ $x_{1} ,x_{2} ,\\dots ,x_{n}$ とし、その平均を $\\bar{x}$ とすると、分散 $V(x)$ は\n",
    "\n",
    "$\n",
    "\\begin{align}\n",
    "    V( x) & =\\frac\n",
    "        {1}\n",
    "        {n}\n",
    "    \\sum ^{n}_{i=1}\\left( x_{i} -\\overline{x}\\right)^{2}\\\\\n",
    "     \\\\\n",
    "     & =\\frac\n",
    "         {\\left( x_{1} -\\overline{x}\\right)^{2} +\\left( x_{2} -\\overline{x}\\right)^{2} +\\dots +\\left( x_{n} -\\overline{x}\\right)^{2}}\n",
    "         {n}\n",
    "\\end{align}\n",
    "$\n",
    "\n",
    "で表される。"
   ]
  },
  {
   "cell_type": "markdown",
   "metadata": {},
   "source": [
    "###### 練習問題\n",
    "\n",
    "分散を算出する関数`variance`を完成させる。 (平均の算出以外にNumPyの関数は使わない)"
   ]
  },
  {
   "cell_type": "code",
   "execution_count": 27,
   "metadata": {},
   "outputs": [],
   "source": [
    "np.random.seed(1234)\n",
    "x = np.random.normal(size=100)"
   ]
  },
  {
   "cell_type": "code",
   "execution_count": 28,
   "metadata": {
    "solution2": "hidden",
    "solution2_first": true
   },
   "outputs": [],
   "source": [
    "def variance(x):\n",
    "    return"
   ]
  },
  {
   "cell_type": "code",
   "execution_count": 29,
   "metadata": {
    "solution2": "hidden"
   },
   "outputs": [],
   "source": [
    "def variance(x):\n",
    "    deviation = x - x.mean()\n",
    "    return (deviation ** 2).mean()"
   ]
  },
  {
   "cell_type": "code",
   "execution_count": 30,
   "metadata": {},
   "outputs": [
    {
     "name": "stdout",
     "output_type": "stream",
     "text": [
      "結果: 0.991\n",
      "正解\n"
     ]
    }
   ],
   "source": [
    "print(f'結果: {variance(x):.3f}')\n",
    "print('正解' if np.isclose(variance(x), x.var()) else '不正解')"
   ]
  },
  {
   "cell_type": "markdown",
   "metadata": {},
   "source": [
    "#### 標準偏差 (standard deviation)\n",
    "---\n",
    "分散の平方根。\n",
    "\n",
    "元のデータの単位が $m$ だとすると、分散の単位は $m^{2}$ となり、元のデータと比較しにくいので単位を揃えたもの。\n",
    "\n",
    "$\n",
    "\\begin{align}\n",
    "    S( x) & =\\sqrt{V( x)}\\\\\n",
    "     \\\\\n",
    "     & =\\sqrt{\\frac\n",
    "         {1}\n",
    "         {n}\n",
    "     {\\displaystyle \\sum ^{n}_{i=1}\\left( x_{i} -\\overline{x}\\right)^{2}} }\\\\\n",
    "     \\\\\n",
    "     & =\\sqrt{\\frac\n",
    "         {\\left( x_{1} -\\overline{x}\\right)^{2} +\\left( x_{2} -\\overline{x}\\right)^{2} +\\dots +\\left( x_{n} -\\overline{x}\\right)^{2}}\n",
    "         {n}}\n",
    "\\end{align}\n",
    "$"
   ]
  },
  {
   "cell_type": "markdown",
   "metadata": {},
   "source": [
    "###### 練習問題\n",
    "\n",
    "標準偏差を算出する関数`standard_deviation`を完成させる。 (NumPyの標準偏差を算出する関数は使わない)"
   ]
  },
  {
   "cell_type": "code",
   "execution_count": 31,
   "metadata": {},
   "outputs": [],
   "source": [
    "np.random.seed(1234)\n",
    "x = np.random.normal(size=100)"
   ]
  },
  {
   "cell_type": "code",
   "execution_count": 32,
   "metadata": {
    "solution2": "hidden",
    "solution2_first": true
   },
   "outputs": [],
   "source": [
    "def standard_deviation(x):\n",
    "    return"
   ]
  },
  {
   "cell_type": "code",
   "execution_count": 33,
   "metadata": {
    "solution2": "hidden"
   },
   "outputs": [],
   "source": [
    "def standard_deviation(x):\n",
    "    return np.sqrt(x.var())"
   ]
  },
  {
   "cell_type": "code",
   "execution_count": 34,
   "metadata": {},
   "outputs": [
    {
     "name": "stdout",
     "output_type": "stream",
     "text": [
      "結果: 0.996\n",
      "正解\n"
     ]
    }
   ],
   "source": [
    "print(f'結果: {standard_deviation(x):.3f}')\n",
    "print('正解' if np.isclose(standard_deviation(x), x.std()) else '不正解')"
   ]
  },
  {
   "cell_type": "markdown",
   "metadata": {},
   "source": [
    "#### 四分位点 (quartile)\n",
    "---\n",
    "データを大きさの順で並べた場合に、4分の1ずつの位置にくる値。\n",
    "\n",
    "値の演算に基づく積率系の指標 (平均・分散・標準偏差など) は外れ値に影響されやすいが、値の順序に基づく分位系の指標 (中央値・四分位点など) は外れ値に影響されにくい。しかし、利用している情報が少ないため精度が低かったり、確率論を背景とする統計的手法との相性は悪かったりする。\n",
    "\n",
    "<table class=\"text-center border\">\n",
    "    <tr>\n",
    "        <td class=\"border-bottom-bold border-right-bold\"></td>\n",
    "        <th>外れ値の影響</th>\n",
    "        <th>精度</th>\n",
    "        <th>確率論との相性</th>\n",
    "    </tr>\n",
    "    <tr>\n",
    "        <th class=\"border-bottom border-right-bold\">積率系<br />(平均・分散・標準偏差など)</th>\n",
    "        <td>受けやすい</td>\n",
    "        <td>高い</td>\n",
    "        <td>よい</td>\n",
    "    </tr>\n",
    "    <tr>\n",
    "        <th class=\"border-bottom border-right-bold\">分位系<br />(中央値・四分位点など)</th>\n",
    "        <td>受けにくい</td>\n",
    "        <td>低い</td>\n",
    "        <td>悪い</td>\n",
    "    </tr>\n",
    "</table>"
   ]
  },
  {
   "cell_type": "markdown",
   "metadata": {},
   "source": [
    "$( 1,2,3,4,5,6,7,8,9)$ の四分位点 $( 25\\%,50\\%,75\\%)$ は $( 3,5,7)$"
   ]
  },
  {
   "cell_type": "markdown",
   "metadata": {},
   "source": [
    "###### 練習問題\n",
    "\n",
    "四分位点を算出する関数`quartile`を完成させる。結果は`[25%点, 50%点, 75%点]`の配列で返す。配列`x`の長さは奇数に限定してもよい。 (NumPyの四分位点を算出する関数は使わない)"
   ]
  },
  {
   "cell_type": "code",
   "execution_count": 35,
   "metadata": {},
   "outputs": [],
   "source": [
    "np.random.seed(1234)\n",
    "x = np.random.choice(np.arange(1, 100), size=9, replace=False)"
   ]
  },
  {
   "cell_type": "code",
   "execution_count": 36,
   "metadata": {
    "solution2": "hidden",
    "solution2_first": true
   },
   "outputs": [],
   "source": [
    "def quartile(x):\n",
    "    return"
   ]
  },
  {
   "cell_type": "code",
   "execution_count": 37,
   "metadata": {
    "solution2": "hidden"
   },
   "outputs": [],
   "source": [
    "def quartile(x):\n",
    "    sort = np.sort(x)\n",
    "    split = np.linspace(0, 1, x.size)\n",
    "    result = []\n",
    "    for p in [0.25, 0.5, 0.75]:\n",
    "        floor = np.max(np.where(split <= p))\n",
    "        ceil = np.min(np.where(split >= p))\n",
    "        interval = split[ceil] - split[floor]\n",
    "        diff_ratio = (p - split[floor]) / interval if interval else 0\n",
    "        diff = diff_ratio * (sort[ceil] - sort[floor])\n",
    "        result.append(sort[floor] + diff)\n",
    "    return result"
   ]
  },
  {
   "cell_type": "code",
   "execution_count": 38,
   "metadata": {},
   "outputs": [
    {
     "name": "stdout",
     "output_type": "stream",
     "text": [
      "結果: [40, 58, 75]\n",
      "正解: [40. 58. 75.]\n"
     ]
    }
   ],
   "source": [
    "print(f'結果: {quartile(x)}')\n",
    "print(f'正解: {np.percentile(x, (25, 50, 75))}')"
   ]
  },
  {
   "cell_type": "markdown",
   "metadata": {},
   "source": [
    "## Pythonでの基本統計量表示\n",
    "---\n",
    "`pandas.DataFrame.describe`を用いる。"
   ]
  },
  {
   "cell_type": "code",
   "execution_count": 39,
   "metadata": {},
   "outputs": [],
   "source": [
    "pd.DataFrame.describe??"
   ]
  },
  {
   "cell_type": "code",
   "execution_count": 40,
   "metadata": {},
   "outputs": [
    {
     "data": {
      "text/html": [
       "<div>\n",
       "<style scoped>\n",
       "    .dataframe tbody tr th:only-of-type {\n",
       "        vertical-align: middle;\n",
       "    }\n",
       "\n",
       "    .dataframe tbody tr th {\n",
       "        vertical-align: top;\n",
       "    }\n",
       "\n",
       "    .dataframe thead th {\n",
       "        text-align: right;\n",
       "    }\n",
       "</style>\n",
       "<table border=\"1\" class=\"dataframe\">\n",
       "  <thead>\n",
       "    <tr style=\"text-align: right;\">\n",
       "      <th></th>\n",
       "      <th>event</th>\n",
       "      <th>mag</th>\n",
       "      <th>dist</th>\n",
       "      <th>accel</th>\n",
       "    </tr>\n",
       "  </thead>\n",
       "  <tbody>\n",
       "    <tr>\n",
       "      <th>count</th>\n",
       "      <td>182.000000</td>\n",
       "      <td>182.000000</td>\n",
       "      <td>182.000000</td>\n",
       "      <td>182.000000</td>\n",
       "    </tr>\n",
       "    <tr>\n",
       "      <th>mean</th>\n",
       "      <td>14.741758</td>\n",
       "      <td>6.084066</td>\n",
       "      <td>45.603297</td>\n",
       "      <td>0.154220</td>\n",
       "    </tr>\n",
       "    <tr>\n",
       "      <th>std</th>\n",
       "      <td>6.852375</td>\n",
       "      <td>0.721431</td>\n",
       "      <td>62.170063</td>\n",
       "      <td>0.149001</td>\n",
       "    </tr>\n",
       "    <tr>\n",
       "      <th>min</th>\n",
       "      <td>1.000000</td>\n",
       "      <td>5.000000</td>\n",
       "      <td>0.500000</td>\n",
       "      <td>0.003000</td>\n",
       "    </tr>\n",
       "    <tr>\n",
       "      <th>25%</th>\n",
       "      <td>9.000000</td>\n",
       "      <td>5.300000</td>\n",
       "      <td>11.325000</td>\n",
       "      <td>0.044250</td>\n",
       "    </tr>\n",
       "    <tr>\n",
       "      <th>50%</th>\n",
       "      <td>18.000000</td>\n",
       "      <td>6.100000</td>\n",
       "      <td>23.400000</td>\n",
       "      <td>0.113000</td>\n",
       "    </tr>\n",
       "    <tr>\n",
       "      <th>75%</th>\n",
       "      <td>20.000000</td>\n",
       "      <td>6.600000</td>\n",
       "      <td>47.550000</td>\n",
       "      <td>0.219250</td>\n",
       "    </tr>\n",
       "    <tr>\n",
       "      <th>max</th>\n",
       "      <td>23.000000</td>\n",
       "      <td>7.700000</td>\n",
       "      <td>370.000000</td>\n",
       "      <td>0.810000</td>\n",
       "    </tr>\n",
       "  </tbody>\n",
       "</table>\n",
       "</div>"
      ],
      "text/plain": [
       "            event         mag        dist       accel\n",
       "count  182.000000  182.000000  182.000000  182.000000\n",
       "mean    14.741758    6.084066   45.603297    0.154220\n",
       "std      6.852375    0.721431   62.170063    0.149001\n",
       "min      1.000000    5.000000    0.500000    0.003000\n",
       "25%      9.000000    5.300000   11.325000    0.044250\n",
       "50%     18.000000    6.100000   23.400000    0.113000\n",
       "75%     20.000000    6.600000   47.550000    0.219250\n",
       "max     23.000000    7.700000  370.000000    0.810000"
      ]
     },
     "execution_count": 40,
     "metadata": {},
     "output_type": "execute_result"
    }
   ],
   "source": [
    "att.describe()"
   ]
  }
 ],
 "metadata": {
  "kernelspec": {
   "display_name": "Python 3",
   "language": "python",
   "name": "python3"
  },
  "language_info": {
   "codemirror_mode": {
    "name": "ipython",
    "version": 3
   },
   "file_extension": ".py",
   "mimetype": "text/x-python",
   "name": "python",
   "nbconvert_exporter": "python",
   "pygments_lexer": "ipython3",
   "version": "3.6.8"
  },
  "toc": {
   "base_numbering": 1,
   "nav_menu": {},
   "number_sections": true,
   "sideBar": true,
   "skip_h1_title": true,
   "title_cell": "Table of Contents",
   "title_sidebar": "Contents",
   "toc_cell": false,
   "toc_position": {},
   "toc_section_display": true,
   "toc_window_display": true
  },
  "varInspector": {
   "cols": {
    "lenName": 16,
    "lenType": 16,
    "lenVar": 40
   },
   "kernels_config": {
    "python": {
     "delete_cmd_postfix": "",
     "delete_cmd_prefix": "del ",
     "library": "var_list.py",
     "varRefreshCmd": "print(var_dic_list())"
    },
    "r": {
     "delete_cmd_postfix": ") ",
     "delete_cmd_prefix": "rm(",
     "library": "var_list.r",
     "varRefreshCmd": "cat(var_dic_list()) "
    }
   },
   "types_to_exclude": [
    "module",
    "function",
    "builtin_function_or_method",
    "instance",
    "_Feature"
   ],
   "window_display": false
  }
 },
 "nbformat": 4,
 "nbformat_minor": 2
}
