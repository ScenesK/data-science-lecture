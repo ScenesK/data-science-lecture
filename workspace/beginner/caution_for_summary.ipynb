{
 "cells": [
  {
   "cell_type": "code",
   "execution_count": 1,
   "metadata": {},
   "outputs": [],
   "source": [
    "import pandas as pd\n",
    "from IPython.display import display\n",
    "pd.set_option('max_rows', 5)\n",
    "pd.set_option('max_columns', 13)\n",
    "pd.set_option('precision', 3)"
   ]
  },
  {
   "cell_type": "markdown",
   "metadata": {},
   "source": [
    "## 解釈にあたっての注意点\n",
    "---\n",
    "- 要約された数値の背景を考える\n",
    " - 主張を補強するために一部のみを切り出したりしていないか\n",
    " - 外れ値のありそうなデータなのに平均などの外れ値に弱いものを使っていないか\n",
    "- 値が自分の感覚とかけ離れていないか注意する\n",
    " - 元データに不適切なもの (集計行など) が混入している可能性もある"
   ]
  },
  {
   "cell_type": "markdown",
   "metadata": {},
   "source": [
    "### シンプソンのパラドックス\n",
    "---\n",
    "以下のような工場・製品ごとの品質データがある。"
   ]
  },
  {
   "cell_type": "code",
   "execution_count": 2,
   "metadata": {
    "hide_input": true
   },
   "outputs": [
    {
     "data": {
      "text/html": [
       "<div>\n",
       "<style scoped>\n",
       "    .dataframe tbody tr th:only-of-type {\n",
       "        vertical-align: middle;\n",
       "    }\n",
       "\n",
       "    .dataframe tbody tr th {\n",
       "        vertical-align: top;\n",
       "    }\n",
       "\n",
       "    .dataframe thead tr th {\n",
       "        text-align: left;\n",
       "    }\n",
       "</style>\n",
       "<table border=\"1\" class=\"dataframe\">\n",
       "  <thead>\n",
       "    <tr>\n",
       "      <th></th>\n",
       "      <th colspan=\"2\" halign=\"left\">製品A</th>\n",
       "      <th colspan=\"2\" halign=\"left\">製品B</th>\n",
       "    </tr>\n",
       "    <tr>\n",
       "      <th></th>\n",
       "      <th>工場1</th>\n",
       "      <th>工場2</th>\n",
       "      <th>工場1</th>\n",
       "      <th>工場2</th>\n",
       "    </tr>\n",
       "  </thead>\n",
       "  <tbody>\n",
       "    <tr>\n",
       "      <th>不良品</th>\n",
       "      <td>50</td>\n",
       "      <td>15</td>\n",
       "      <td>5</td>\n",
       "      <td>70</td>\n",
       "    </tr>\n",
       "    <tr>\n",
       "      <th>合格品</th>\n",
       "      <td>750</td>\n",
       "      <td>185</td>\n",
       "      <td>195</td>\n",
       "      <td>1730</td>\n",
       "    </tr>\n",
       "  </tbody>\n",
       "</table>\n",
       "</div>"
      ],
      "text/plain": [
       "     製品A       製品B      \n",
       "     工場1  工場2  工場1   工場2\n",
       "不良品   50   15    5    70\n",
       "合格品  750  185  195  1730"
      ]
     },
     "execution_count": 2,
     "metadata": {},
     "output_type": "execute_result"
    }
   ],
   "source": [
    "simpson1 = pd.read_csv('data/simpson1.csv')\n",
    "cross = pd.crosstab(\n",
    "    simpson1['品質'], [simpson1['製品'], simpson1['工場']],\n",
    "    values=simpson1['数量'],\n",
    "    aggfunc=sum)\n",
    "cross.index.name = None\n",
    "cross.columns.names = [None, None]\n",
    "cross"
   ]
  },
  {
   "cell_type": "markdown",
   "metadata": {},
   "source": [
    "列方向に割合を集計すると製品 A でも製品 B でも工場 1 のほうが不良品率は低い。"
   ]
  },
  {
   "cell_type": "code",
   "execution_count": 3,
   "metadata": {
    "hide_input": true
   },
   "outputs": [
    {
     "data": {
      "text/html": [
       "<div>\n",
       "<style scoped>\n",
       "    .dataframe tbody tr th:only-of-type {\n",
       "        vertical-align: middle;\n",
       "    }\n",
       "\n",
       "    .dataframe tbody tr th {\n",
       "        vertical-align: top;\n",
       "    }\n",
       "\n",
       "    .dataframe thead tr th {\n",
       "        text-align: left;\n",
       "    }\n",
       "</style>\n",
       "<table border=\"1\" class=\"dataframe\">\n",
       "  <thead>\n",
       "    <tr>\n",
       "      <th></th>\n",
       "      <th colspan=\"2\" halign=\"left\">製品A</th>\n",
       "      <th colspan=\"2\" halign=\"left\">製品B</th>\n",
       "    </tr>\n",
       "    <tr>\n",
       "      <th></th>\n",
       "      <th>工場1</th>\n",
       "      <th>工場2</th>\n",
       "      <th>工場1</th>\n",
       "      <th>工場2</th>\n",
       "    </tr>\n",
       "  </thead>\n",
       "  <tbody>\n",
       "    <tr>\n",
       "      <th>不良品</th>\n",
       "      <td>0.062</td>\n",
       "      <td>0.075</td>\n",
       "      <td>0.025</td>\n",
       "      <td>0.039</td>\n",
       "    </tr>\n",
       "    <tr>\n",
       "      <th>合格品</th>\n",
       "      <td>0.938</td>\n",
       "      <td>0.925</td>\n",
       "      <td>0.975</td>\n",
       "      <td>0.961</td>\n",
       "    </tr>\n",
       "  </tbody>\n",
       "</table>\n",
       "</div>"
      ],
      "text/plain": [
       "       製品A           製品B       \n",
       "       工場1    工場2    工場1    工場2\n",
       "不良品  0.062  0.075  0.025  0.039\n",
       "合格品  0.938  0.925  0.975  0.961"
      ]
     },
     "execution_count": 3,
     "metadata": {},
     "output_type": "execute_result"
    }
   ],
   "source": [
    "cross_ratio = pd.crosstab(\n",
    "    simpson1['品質'], [simpson1['製品'], simpson1['工場']],\n",
    "    values=simpson1['数量'],\n",
    "    aggfunc=sum,\n",
    "    normalize='columns')\n",
    "cross_ratio.index.name = None\n",
    "cross_ratio.columns.names = [None, None]\n",
    "cross_ratio"
   ]
  },
  {
   "cell_type": "markdown",
   "metadata": {},
   "source": [
    "しかし、製品を区別せずに集計すると、工場 2 のほうが不良品率は低くなる。"
   ]
  },
  {
   "cell_type": "code",
   "execution_count": 4,
   "metadata": {
    "hide_input": true
   },
   "outputs": [
    {
     "data": {
      "text/html": [
       "<div>\n",
       "<style scoped>\n",
       "    .dataframe tbody tr th:only-of-type {\n",
       "        vertical-align: middle;\n",
       "    }\n",
       "\n",
       "    .dataframe tbody tr th {\n",
       "        vertical-align: top;\n",
       "    }\n",
       "\n",
       "    .dataframe thead th {\n",
       "        text-align: right;\n",
       "    }\n",
       "</style>\n",
       "<table border=\"1\" class=\"dataframe\">\n",
       "  <thead>\n",
       "    <tr style=\"text-align: right;\">\n",
       "      <th></th>\n",
       "      <th>工場1</th>\n",
       "      <th>工場2</th>\n",
       "    </tr>\n",
       "  </thead>\n",
       "  <tbody>\n",
       "    <tr>\n",
       "      <th>不良品</th>\n",
       "      <td>0.055</td>\n",
       "      <td>0.043</td>\n",
       "    </tr>\n",
       "    <tr>\n",
       "      <th>合格品</th>\n",
       "      <td>0.945</td>\n",
       "      <td>0.958</td>\n",
       "    </tr>\n",
       "  </tbody>\n",
       "</table>\n",
       "</div>"
      ],
      "text/plain": [
       "       工場1    工場2\n",
       "不良品  0.055  0.043\n",
       "合格品  0.945  0.958"
      ]
     },
     "execution_count": 4,
     "metadata": {},
     "output_type": "execute_result"
    }
   ],
   "source": [
    "cross_all = pd.crosstab(\n",
    "    simpson1['品質'],\n",
    "    simpson1['工場'],\n",
    "    values=simpson1['数量'],\n",
    "    aggfunc=sum,\n",
    "    normalize='columns')\n",
    "cross_all.index.name = None\n",
    "cross_all.columns.name = None\n",
    "cross_all"
   ]
  },
  {
   "cell_type": "markdown",
   "metadata": {},
   "source": [
    "このような状態をシンプソンのパラドックスという。"
   ]
  },
  {
   "cell_type": "markdown",
   "metadata": {},
   "source": [
    "同様に、以下のようなデータがあるときに"
   ]
  },
  {
   "cell_type": "code",
   "execution_count": 5,
   "metadata": {
    "hide_input": true
   },
   "outputs": [
    {
     "data": {
      "text/html": [
       "<div>\n",
       "<style scoped>\n",
       "    .dataframe tbody tr th:only-of-type {\n",
       "        vertical-align: middle;\n",
       "    }\n",
       "\n",
       "    .dataframe tbody tr th {\n",
       "        vertical-align: top;\n",
       "    }\n",
       "\n",
       "    .dataframe thead tr th {\n",
       "        text-align: left;\n",
       "    }\n",
       "</style>\n",
       "<table border=\"1\" class=\"dataframe\">\n",
       "  <thead>\n",
       "    <tr>\n",
       "      <th></th>\n",
       "      <th colspan=\"2\" halign=\"left\">1</th>\n",
       "      <th colspan=\"2\" halign=\"left\">2</th>\n",
       "    </tr>\n",
       "    <tr>\n",
       "      <th></th>\n",
       "      <th>I</th>\n",
       "      <th>II</th>\n",
       "      <th>I</th>\n",
       "      <th>II</th>\n",
       "    </tr>\n",
       "  </thead>\n",
       "  <tbody>\n",
       "    <tr>\n",
       "      <th>A</th>\n",
       "      <td>4</td>\n",
       "      <td>8</td>\n",
       "      <td>2</td>\n",
       "      <td>12</td>\n",
       "    </tr>\n",
       "    <tr>\n",
       "      <th>B</th>\n",
       "      <td>3</td>\n",
       "      <td>5</td>\n",
       "      <td>3</td>\n",
       "      <td>15</td>\n",
       "    </tr>\n",
       "  </tbody>\n",
       "</table>\n",
       "</div>"
      ],
      "text/plain": [
       "   1     2    \n",
       "   I II  I  II\n",
       "A  4  8  2  12\n",
       "B  3  5  3  15"
      ]
     },
     "metadata": {},
     "output_type": "display_data"
    },
    {
     "data": {
      "text/html": [
       "<div>\n",
       "<style scoped>\n",
       "    .dataframe tbody tr th:only-of-type {\n",
       "        vertical-align: middle;\n",
       "    }\n",
       "\n",
       "    .dataframe tbody tr th {\n",
       "        vertical-align: top;\n",
       "    }\n",
       "\n",
       "    .dataframe thead tr th {\n",
       "        text-align: left;\n",
       "    }\n",
       "</style>\n",
       "<table border=\"1\" class=\"dataframe\">\n",
       "  <thead>\n",
       "    <tr>\n",
       "      <th></th>\n",
       "      <th colspan=\"2\" halign=\"left\">1</th>\n",
       "      <th colspan=\"2\" halign=\"left\">2</th>\n",
       "    </tr>\n",
       "    <tr>\n",
       "      <th></th>\n",
       "      <th>I</th>\n",
       "      <th>II</th>\n",
       "      <th>I</th>\n",
       "      <th>II</th>\n",
       "    </tr>\n",
       "  </thead>\n",
       "  <tbody>\n",
       "    <tr>\n",
       "      <th>A</th>\n",
       "      <td>0.571</td>\n",
       "      <td>0.615</td>\n",
       "      <td>0.4</td>\n",
       "      <td>0.444</td>\n",
       "    </tr>\n",
       "    <tr>\n",
       "      <th>B</th>\n",
       "      <td>0.429</td>\n",
       "      <td>0.385</td>\n",
       "      <td>0.6</td>\n",
       "      <td>0.556</td>\n",
       "    </tr>\n",
       "  </tbody>\n",
       "</table>\n",
       "</div>"
      ],
      "text/plain": [
       "       1           2       \n",
       "       I     II    I     II\n",
       "A  0.571  0.615  0.4  0.444\n",
       "B  0.429  0.385  0.6  0.556"
      ]
     },
     "metadata": {},
     "output_type": "display_data"
    },
    {
     "data": {
      "text/html": [
       "<div>\n",
       "<style scoped>\n",
       "    .dataframe tbody tr th:only-of-type {\n",
       "        vertical-align: middle;\n",
       "    }\n",
       "\n",
       "    .dataframe tbody tr th {\n",
       "        vertical-align: top;\n",
       "    }\n",
       "\n",
       "    .dataframe thead th {\n",
       "        text-align: right;\n",
       "    }\n",
       "</style>\n",
       "<table border=\"1\" class=\"dataframe\">\n",
       "  <thead>\n",
       "    <tr style=\"text-align: right;\">\n",
       "      <th></th>\n",
       "      <th>1</th>\n",
       "      <th>2</th>\n",
       "    </tr>\n",
       "  </thead>\n",
       "  <tbody>\n",
       "    <tr>\n",
       "      <th>A</th>\n",
       "      <td>0.6</td>\n",
       "      <td>0.438</td>\n",
       "    </tr>\n",
       "    <tr>\n",
       "      <th>B</th>\n",
       "      <td>0.4</td>\n",
       "      <td>0.562</td>\n",
       "    </tr>\n",
       "  </tbody>\n",
       "</table>\n",
       "</div>"
      ],
      "text/plain": [
       "     1      2\n",
       "A  0.6  0.438\n",
       "B  0.4  0.562"
      ]
     },
     "metadata": {},
     "output_type": "display_data"
    }
   ],
   "source": [
    "simpson2 = pd.read_csv('data/simpson2.csv')\n",
    "cross2 = pd.crosstab(\n",
    "    simpson2['属性1'], [simpson2['属性2'], simpson2['属性3']],\n",
    "    values=simpson2['数量'],\n",
    "    aggfunc=sum)\n",
    "cross2.index.name = None\n",
    "cross2.columns.names = [None, None]\n",
    "display(cross2)\n",
    "cross2_ratio = pd.crosstab(\n",
    "    simpson2['属性1'], [simpson2['属性2'], simpson2['属性3']],\n",
    "    values=simpson2['数量'],\n",
    "    aggfunc=sum,\n",
    "    normalize='columns')\n",
    "cross2_ratio.index.name = None\n",
    "cross2_ratio.columns.names = [None, None]\n",
    "display(cross2_ratio)\n",
    "cross2_all = pd.crosstab(\n",
    "    simpson2['属性1'],\n",
    "    simpson2['属性2'],\n",
    "    values=simpson2['数量'],\n",
    "    aggfunc=sum,\n",
    "    normalize='columns')\n",
    "cross2_all.index.name = None\n",
    "cross2_all.columns.name = None\n",
    "display(cross2_all)"
   ]
  },
  {
   "cell_type": "markdown",
   "metadata": {},
   "source": [
    "以下のように子供が遊んでいて汚れてしまったトランプのデータだとすると、汚れの有無によって絵柄カードの割合が異なるのは単なる偶然であり、絵柄によってカードの色の割合が異なるように製造されているとは考えない。"
   ]
  },
  {
   "cell_type": "code",
   "execution_count": 6,
   "metadata": {
    "hide_input": true
   },
   "outputs": [
    {
     "data": {
      "text/html": [
       "<div>\n",
       "<style scoped>\n",
       "    .dataframe tbody tr th:only-of-type {\n",
       "        vertical-align: middle;\n",
       "    }\n",
       "\n",
       "    .dataframe tbody tr th {\n",
       "        vertical-align: top;\n",
       "    }\n",
       "\n",
       "    .dataframe thead tr th {\n",
       "        text-align: left;\n",
       "    }\n",
       "</style>\n",
       "<table border=\"1\" class=\"dataframe\">\n",
       "  <thead>\n",
       "    <tr>\n",
       "      <th></th>\n",
       "      <th colspan=\"2\" halign=\"left\">汚れあり</th>\n",
       "      <th colspan=\"2\" halign=\"left\">汚れなし</th>\n",
       "    </tr>\n",
       "    <tr>\n",
       "      <th></th>\n",
       "      <th>絵柄</th>\n",
       "      <th>数字</th>\n",
       "      <th>絵柄</th>\n",
       "      <th>数字</th>\n",
       "    </tr>\n",
       "  </thead>\n",
       "  <tbody>\n",
       "    <tr>\n",
       "      <th>赤</th>\n",
       "      <td>4</td>\n",
       "      <td>8</td>\n",
       "      <td>2</td>\n",
       "      <td>12</td>\n",
       "    </tr>\n",
       "    <tr>\n",
       "      <th>黒</th>\n",
       "      <td>3</td>\n",
       "      <td>5</td>\n",
       "      <td>3</td>\n",
       "      <td>15</td>\n",
       "    </tr>\n",
       "  </tbody>\n",
       "</table>\n",
       "</div>"
      ],
      "text/plain": [
       "  汚れあり    汚れなし    \n",
       "    絵柄 数字   絵柄  数字\n",
       "赤    4  8    2  12\n",
       "黒    3  5    3  15"
      ]
     },
     "execution_count": 6,
     "metadata": {},
     "output_type": "execute_result"
    }
   ],
   "source": [
    "trump = cross2.copy()\n",
    "trump.index = ['赤', '黒']\n",
    "trump.columns = pd.MultiIndex(\n",
    "    levels=[['汚れあり', '汚れなし'], ['絵柄', '数字']],\n",
    "    labels=[[0, 0, 1, 1], [0, 1, 0, 1]],\n",
    "    names=[None, None])\n",
    "trump"
   ]
  },
  {
   "cell_type": "markdown",
   "metadata": {},
   "source": [
    "一方、以下のように従前の治療法と新しい治療法を男女別に比較したデータだとすると、男女別で集計した場合と全体で集計した場合に結論が異なるのはおかしいと感じられる。  \n",
    "そのため、男女の治療法に対する選好の違いを考えたり、男女のサンプル数の違いによる影響をコントロールしたりして、詳しく検討する必要がある。"
   ]
  },
  {
   "cell_type": "code",
   "execution_count": 7,
   "metadata": {
    "hide_input": true
   },
   "outputs": [
    {
     "data": {
      "text/html": [
       "<div>\n",
       "<style scoped>\n",
       "    .dataframe tbody tr th:only-of-type {\n",
       "        vertical-align: middle;\n",
       "    }\n",
       "\n",
       "    .dataframe tbody tr th {\n",
       "        vertical-align: top;\n",
       "    }\n",
       "\n",
       "    .dataframe thead tr th {\n",
       "        text-align: left;\n",
       "    }\n",
       "</style>\n",
       "<table border=\"1\" class=\"dataframe\">\n",
       "  <thead>\n",
       "    <tr>\n",
       "      <th></th>\n",
       "      <th colspan=\"2\" halign=\"left\">男性</th>\n",
       "      <th colspan=\"2\" halign=\"left\">女性</th>\n",
       "    </tr>\n",
       "    <tr>\n",
       "      <th></th>\n",
       "      <th>旧治療法</th>\n",
       "      <th>新治療法</th>\n",
       "      <th>旧治療法</th>\n",
       "      <th>新治療法</th>\n",
       "    </tr>\n",
       "  </thead>\n",
       "  <tbody>\n",
       "    <tr>\n",
       "      <th>生存</th>\n",
       "      <td>4</td>\n",
       "      <td>8</td>\n",
       "      <td>2</td>\n",
       "      <td>12</td>\n",
       "    </tr>\n",
       "    <tr>\n",
       "      <th>死亡</th>\n",
       "      <td>3</td>\n",
       "      <td>5</td>\n",
       "      <td>3</td>\n",
       "      <td>15</td>\n",
       "    </tr>\n",
       "  </tbody>\n",
       "</table>\n",
       "</div>"
      ],
      "text/plain": [
       "     男性        女性     \n",
       "   旧治療法 新治療法 旧治療法 新治療法\n",
       "生存    4    8    2   12\n",
       "死亡    3    5    3   15"
      ]
     },
     "execution_count": 7,
     "metadata": {},
     "output_type": "execute_result"
    }
   ],
   "source": [
    "treat = cross2.copy()\n",
    "treat.index = ['生存', '死亡']\n",
    "treat.columns = pd.MultiIndex(\n",
    "    levels=[['男性', '女性'], ['旧治療法', '新治療法']],\n",
    "    labels=[[0, 0, 1, 1], [0, 1, 0, 1]],\n",
    "    names=[None, None])\n",
    "treat"
   ]
  },
  {
   "cell_type": "markdown",
   "metadata": {},
   "source": [
    "以上のように、データから得られる知見はデータそのものから自動的に得られるわけではなく、ドメイン知識と呼ばれるデータの背景にある事情と併せて初めて意味を持つ。"
   ]
  },
  {
   "cell_type": "markdown",
   "metadata": {},
   "source": [
    "## 作成にあたっての注意点\n",
    "---\n",
    "- 集計の目的・何が知りたいのかを意識する\n",
    " - 全体の傾向を知りたい・グループ間で比較したいなど"
   ]
  },
  {
   "cell_type": "markdown",
   "metadata": {},
   "source": [
    "###### 練習問題\n",
    "\n",
    "アメリカの州・人種・性・年齢階級・退役軍人別の人口統計データから関心のある軸を設定して、集計してみる。 (U.S. Census Bureau, 2011-2015 American Community Survey 5-Year Estimates より抜粋)  \n",
    "入手元 : [American Fact Finder](https://factfinder.census.gov/faces/nav/jsf/pages/guided_search.xhtml)"
   ]
  },
  {
   "cell_type": "code",
   "execution_count": 8,
   "metadata": {
    "hide_input": true
   },
   "outputs": [
    {
     "name": "stdout",
     "output_type": "stream",
     "text": [
      "population\n"
     ]
    },
    {
     "data": {
      "text/html": [
       "<div>\n",
       "<style scoped>\n",
       "    .dataframe tbody tr th:only-of-type {\n",
       "        vertical-align: middle;\n",
       "    }\n",
       "\n",
       "    .dataframe tbody tr th {\n",
       "        vertical-align: top;\n",
       "    }\n",
       "\n",
       "    .dataframe thead th {\n",
       "        text-align: right;\n",
       "    }\n",
       "</style>\n",
       "<table border=\"1\" class=\"dataframe\">\n",
       "  <thead>\n",
       "    <tr style=\"text-align: right;\">\n",
       "      <th></th>\n",
       "      <th>Id</th>\n",
       "      <th>Id2</th>\n",
       "      <th>Geography</th>\n",
       "      <th>Id.1</th>\n",
       "      <th>Population Group</th>\n",
       "      <th>Total:</th>\n",
       "      <th>...</th>\n",
       "      <th>Total: - Female: - 65 to 74 years:</th>\n",
       "      <th>Total: - Female: - 65 to 74 years: - Veteran</th>\n",
       "      <th>Total: - Female: - 65 to 74 years: - Nonveteran</th>\n",
       "      <th>Total: - Female: - 75 years and over:</th>\n",
       "      <th>Total: - Female: - 75 years and over: - Veteran</th>\n",
       "      <th>Total: - Female: - 75 years and over: - Nonveteran</th>\n",
       "    </tr>\n",
       "  </thead>\n",
       "  <tbody>\n",
       "    <tr>\n",
       "      <th>0</th>\n",
       "      <td>0400000US01</td>\n",
       "      <td>1</td>\n",
       "      <td>Alabama</td>\n",
       "      <td>1</td>\n",
       "      <td>Total population</td>\n",
       "      <td>3705690</td>\n",
       "      <td>...</td>\n",
       "      <td>225001</td>\n",
       "      <td>2412</td>\n",
       "      <td>222589</td>\n",
       "      <td>185014</td>\n",
       "      <td>2111</td>\n",
       "      <td>182903</td>\n",
       "    </tr>\n",
       "    <tr>\n",
       "      <th>1</th>\n",
       "      <td>0400000US01</td>\n",
       "      <td>1</td>\n",
       "      <td>Alabama</td>\n",
       "      <td>2</td>\n",
       "      <td>White alone</td>\n",
       "      <td>2616718</td>\n",
       "      <td>...</td>\n",
       "      <td>176158</td>\n",
       "      <td>1915</td>\n",
       "      <td>174243</td>\n",
       "      <td>147507</td>\n",
       "      <td>1906</td>\n",
       "      <td>145601</td>\n",
       "    </tr>\n",
       "    <tr>\n",
       "      <th>...</th>\n",
       "      <td>...</td>\n",
       "      <td>...</td>\n",
       "      <td>...</td>\n",
       "      <td>...</td>\n",
       "      <td>...</td>\n",
       "      <td>...</td>\n",
       "      <td>...</td>\n",
       "      <td>...</td>\n",
       "      <td>...</td>\n",
       "      <td>...</td>\n",
       "      <td>...</td>\n",
       "      <td>...</td>\n",
       "      <td>...</td>\n",
       "    </tr>\n",
       "    <tr>\n",
       "      <th>6869</th>\n",
       "      <td>0400000US72</td>\n",
       "      <td>72</td>\n",
       "      <td>Puerto Rico</td>\n",
       "      <td>598</td>\n",
       "      <td>Three or more races with Some Other Race</td>\n",
       "      <td>11088</td>\n",
       "      <td>...</td>\n",
       "      <td>600</td>\n",
       "      <td>0</td>\n",
       "      <td>600</td>\n",
       "      <td>495</td>\n",
       "      <td>11</td>\n",
       "      <td>484</td>\n",
       "    </tr>\n",
       "    <tr>\n",
       "      <th>6870</th>\n",
       "      <td>0400000US72</td>\n",
       "      <td>72</td>\n",
       "      <td>Puerto Rico</td>\n",
       "      <td>599</td>\n",
       "      <td>Three or more races without Some Other Race</td>\n",
       "      <td>8962</td>\n",
       "      <td>...</td>\n",
       "      <td>465</td>\n",
       "      <td>0</td>\n",
       "      <td>465</td>\n",
       "      <td>327</td>\n",
       "      <td>0</td>\n",
       "      <td>327</td>\n",
       "    </tr>\n",
       "  </tbody>\n",
       "</table>\n",
       "<p>6871 rows × 44 columns</p>\n",
       "</div>"
      ],
      "text/plain": [
       "               Id  Id2    Geography  Id.1  \\\n",
       "0     0400000US01    1      Alabama     1   \n",
       "1     0400000US01    1      Alabama     2   \n",
       "...           ...  ...          ...   ...   \n",
       "6869  0400000US72   72  Puerto Rico   598   \n",
       "6870  0400000US72   72  Puerto Rico   599   \n",
       "\n",
       "                                 Population Group   Total:  \\\n",
       "0                                Total population  3705690   \n",
       "1                                     White alone  2616718   \n",
       "...                                           ...      ...   \n",
       "6869     Three or more races with Some Other Race    11088   \n",
       "6870  Three or more races without Some Other Race     8962   \n",
       "\n",
       "                             ...                          \\\n",
       "0                            ...                           \n",
       "1                            ...                           \n",
       "...                          ...                           \n",
       "6869                         ...                           \n",
       "6870                         ...                           \n",
       "\n",
       "      Total: - Female: - 65 to 74 years:  \\\n",
       "0                                 225001   \n",
       "1                                 176158   \n",
       "...                                  ...   \n",
       "6869                                 600   \n",
       "6870                                 465   \n",
       "\n",
       "      Total: - Female: - 65 to 74 years: - Veteran  \\\n",
       "0                                             2412   \n",
       "1                                             1915   \n",
       "...                                            ...   \n",
       "6869                                             0   \n",
       "6870                                             0   \n",
       "\n",
       "      Total: - Female: - 65 to 74 years: - Nonveteran  \\\n",
       "0                                              222589   \n",
       "1                                              174243   \n",
       "...                                               ...   \n",
       "6869                                              600   \n",
       "6870                                              465   \n",
       "\n",
       "      Total: - Female: - 75 years and over:  \\\n",
       "0                                    185014   \n",
       "1                                    147507   \n",
       "...                                     ...   \n",
       "6869                                    495   \n",
       "6870                                    327   \n",
       "\n",
       "      Total: - Female: - 75 years and over: - Veteran  \\\n",
       "0                                                2111   \n",
       "1                                                1906   \n",
       "...                                               ...   \n",
       "6869                                               11   \n",
       "6870                                                0   \n",
       "\n",
       "      Total: - Female: - 75 years and over: - Nonveteran  \n",
       "0                                                182903   \n",
       "1                                                145601   \n",
       "...                                                 ...   \n",
       "6869                                                484   \n",
       "6870                                                327   \n",
       "\n",
       "[6871 rows x 44 columns]"
      ]
     },
     "metadata": {},
     "output_type": "display_data"
    }
   ],
   "source": [
    "population = pd.read_csv(\n",
    "    'data/ACS_15_SPT_B21001_with_ann.csv',\n",
    "    header=1,\n",
    "    usecols=[\n",
    "        'Id', 'Id2', 'Geography', 'Id.1', 'Population Group',\n",
    "        'Estimate; Total:', 'Estimate; Total: - Veteran',\n",
    "        'Estimate; Total: - Nonveteran', 'Estimate; Total: - Male:',\n",
    "        'Estimate; Total: - Male: - Veteran',\n",
    "        'Estimate; Total: - Male: - Nonveteran',\n",
    "        'Estimate; Total: - Male: - 18 to 34 years:',\n",
    "        'Estimate; Total: - Male: - 18 to 34 years: - Veteran',\n",
    "        'Estimate; Total: - Male: - 18 to 34 years: - Nonveteran',\n",
    "        'Estimate; Total: - Male: - 35 to 54 years:',\n",
    "        'Estimate; Total: - Male: - 35 to 54 years: - Veteran',\n",
    "        'Estimate; Total: - Male: - 35 to 54 years: - Nonveteran',\n",
    "        'Estimate; Total: - Male: - 55 to 64 years:',\n",
    "        'Estimate; Total: - Male: - 55 to 64 years: - Veteran',\n",
    "        'Estimate; Total: - Male: - 55 to 64 years: - Nonveteran',\n",
    "        'Estimate; Total: - Male: - 65 to 74 years:',\n",
    "        'Estimate; Total: - Male: - 65 to 74 years: - Veteran',\n",
    "        'Estimate; Total: - Male: - 65 to 74 years: - Nonveteran',\n",
    "        'Estimate; Total: - Male: - 75 years and over:',\n",
    "        'Estimate; Total: - Male: - 75 years and over: - Veteran',\n",
    "        'Estimate; Total: - Male: - 75 years and over: - Nonveteran',\n",
    "        'Estimate; Total: - Female:', 'Estimate; Total: - Female: - Veteran',\n",
    "        'Estimate; Total: - Female: - Nonveteran',\n",
    "        'Estimate; Total: - Female: - 18 to 34 years:',\n",
    "        'Estimate; Total: - Female: - 18 to 34 years: - Veteran',\n",
    "        'Estimate; Total: - Female: - 18 to 34 years: - Nonveteran',\n",
    "        'Estimate; Total: - Female: - 35 to 54 years:',\n",
    "        'Estimate; Total: - Female: - 35 to 54 years: - Veteran',\n",
    "        'Estimate; Total: - Female: - 35 to 54 years: - Nonveteran',\n",
    "        'Estimate; Total: - Female: - 55 to 64 years:',\n",
    "        'Estimate; Total: - Female: - 55 to 64 years: - Veteran',\n",
    "        'Estimate; Total: - Female: - 55 to 64 years: - Nonveteran',\n",
    "        'Estimate; Total: - Female: - 65 to 74 years:',\n",
    "        'Estimate; Total: - Female: - 65 to 74 years: - Veteran',\n",
    "        'Estimate; Total: - Female: - 65 to 74 years: - Nonveteran',\n",
    "        'Estimate; Total: - Female: - 75 years and over:',\n",
    "        'Estimate; Total: - Female: - 75 years and over: - Veteran',\n",
    "        'Estimate; Total: - Female: - 75 years and over: - Nonveteran'\n",
    "    ])\n",
    "population.columns = [col.replace('Estimate; ', '') for col in population.columns]\n",
    "print('population')\n",
    "display(population)"
   ]
  },
  {
   "cell_type": "code",
   "execution_count": null,
   "metadata": {},
   "outputs": [],
   "source": []
  }
 ],
 "metadata": {
  "kernelspec": {
   "display_name": "Python 3",
   "language": "python",
   "name": "python3"
  },
  "language_info": {
   "codemirror_mode": {
    "name": "ipython",
    "version": 3
   },
   "file_extension": ".py",
   "mimetype": "text/x-python",
   "name": "python",
   "nbconvert_exporter": "python",
   "pygments_lexer": "ipython3",
   "version": "3.6.8"
  },
  "toc": {
   "base_numbering": 1,
   "nav_menu": {},
   "number_sections": true,
   "sideBar": true,
   "skip_h1_title": true,
   "title_cell": "Table of Contents",
   "title_sidebar": "Contents",
   "toc_cell": false,
   "toc_position": {},
   "toc_section_display": true,
   "toc_window_display": true
  },
  "varInspector": {
   "cols": {
    "lenName": 16,
    "lenType": 16,
    "lenVar": 40
   },
   "kernels_config": {
    "python": {
     "delete_cmd_postfix": "",
     "delete_cmd_prefix": "del ",
     "library": "var_list.py",
     "varRefreshCmd": "print(var_dic_list())"
    },
    "r": {
     "delete_cmd_postfix": ") ",
     "delete_cmd_prefix": "rm(",
     "library": "var_list.r",
     "varRefreshCmd": "cat(var_dic_list()) "
    }
   },
   "types_to_exclude": [
    "module",
    "function",
    "builtin_function_or_method",
    "instance",
    "_Feature"
   ],
   "window_display": false
  }
 },
 "nbformat": 4,
 "nbformat_minor": 2
}
