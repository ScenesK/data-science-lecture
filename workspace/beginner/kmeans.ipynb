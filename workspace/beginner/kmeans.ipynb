{
 "cells": [
  {
   "cell_type": "code",
   "execution_count": 1,
   "metadata": {},
   "outputs": [],
   "source": [
    "import pandas as pd\n",
    "from sklearn.cluster import KMeans\n",
    "import matplotlib.pyplot as plt\n",
    "from matplotlib.figure import figaspect\n",
    "import seaborn as sns\n",
    "from IPython.display import display\n",
    "pd.set_option('max_rows', 5)\n",
    "%matplotlib inline"
   ]
  },
  {
   "cell_type": "markdown",
   "metadata": {},
   "source": [
    "# k-means"
   ]
  },
  {
   "cell_type": "markdown",
   "metadata": {},
   "source": [
    "## ケーススタディ\n",
    "---\n",
    "マーケティング担当者として施策を考えるにあたり、累積購入金額に基づき顧客が 3 つのグループに分けられるのではないかと思っている。どのような方法が考えられるか。"
   ]
  },
  {
   "cell_type": "markdown",
   "metadata": {},
   "source": [
    "## k 平均法 (k-means)\n",
    "---\n",
    "クラスタ数 k を指定して、データを分割する手法。"
   ]
  },
  {
   "cell_type": "code",
   "execution_count": 2,
   "metadata": {
    "hide_input": true,
    "jupyter": {
     "source_hidden": true
    }
   },
   "outputs": [
    {
     "name": "stdout",
     "output_type": "stream",
     "text": [
      "iris\n"
     ]
    },
    {
     "data": {
      "text/html": [
       "<div>\n",
       "<style scoped>\n",
       "    .dataframe tbody tr th:only-of-type {\n",
       "        vertical-align: middle;\n",
       "    }\n",
       "\n",
       "    .dataframe tbody tr th {\n",
       "        vertical-align: top;\n",
       "    }\n",
       "\n",
       "    .dataframe thead th {\n",
       "        text-align: right;\n",
       "    }\n",
       "</style>\n",
       "<table border=\"1\" class=\"dataframe\">\n",
       "  <thead>\n",
       "    <tr style=\"text-align: right;\">\n",
       "      <th></th>\n",
       "      <th>sepal_length</th>\n",
       "      <th>sepal_width</th>\n",
       "      <th>petal_length</th>\n",
       "      <th>petal_width</th>\n",
       "      <th>species</th>\n",
       "    </tr>\n",
       "  </thead>\n",
       "  <tbody>\n",
       "    <tr>\n",
       "      <th>0</th>\n",
       "      <td>5.1</td>\n",
       "      <td>3.5</td>\n",
       "      <td>1.4</td>\n",
       "      <td>0.2</td>\n",
       "      <td>setosa</td>\n",
       "    </tr>\n",
       "    <tr>\n",
       "      <th>1</th>\n",
       "      <td>4.9</td>\n",
       "      <td>3.0</td>\n",
       "      <td>1.4</td>\n",
       "      <td>0.2</td>\n",
       "      <td>setosa</td>\n",
       "    </tr>\n",
       "    <tr>\n",
       "      <th>...</th>\n",
       "      <td>...</td>\n",
       "      <td>...</td>\n",
       "      <td>...</td>\n",
       "      <td>...</td>\n",
       "      <td>...</td>\n",
       "    </tr>\n",
       "    <tr>\n",
       "      <th>148</th>\n",
       "      <td>6.2</td>\n",
       "      <td>3.4</td>\n",
       "      <td>5.4</td>\n",
       "      <td>2.3</td>\n",
       "      <td>virginica</td>\n",
       "    </tr>\n",
       "    <tr>\n",
       "      <th>149</th>\n",
       "      <td>5.9</td>\n",
       "      <td>3.0</td>\n",
       "      <td>5.1</td>\n",
       "      <td>1.8</td>\n",
       "      <td>virginica</td>\n",
       "    </tr>\n",
       "  </tbody>\n",
       "</table>\n",
       "<p>150 rows × 5 columns</p>\n",
       "</div>"
      ],
      "text/plain": [
       "     sepal_length  sepal_width  petal_length  petal_width    species\n",
       "0             5.1          3.5           1.4          0.2     setosa\n",
       "1             4.9          3.0           1.4          0.2     setosa\n",
       "..            ...          ...           ...          ...        ...\n",
       "148           6.2          3.4           5.4          2.3  virginica\n",
       "149           5.9          3.0           5.1          1.8  virginica\n",
       "\n",
       "[150 rows x 5 columns]"
      ]
     },
     "metadata": {},
     "output_type": "display_data"
    },
    {
     "data": {
      "image/png": "[encoded data removed]",
      "text/plain": [
       "<Figure size 288x288 with 1 Axes>"
      ]
     },
     "metadata": {},
     "output_type": "display_data"
    }
   ],
   "source": [
    "iris = sns.load_dataset('iris')\n",
    "print('iris')\n",
    "display(iris)\n",
    "plt.figure(figsize=figaspect(1))\n",
    "ax = plt.axes()\n",
    "iris.plot.scatter('sepal_length', 'sepal_width', c='black', ax=ax)\n",
    "ax.set(xticks=(), yticks=())\n",
    "plt.show()"
   ]
  },
  {
   "cell_type": "code",
   "execution_count": 3,
   "metadata": {
    "hide_input": true,
    "jupyter": {
     "source_hidden": true
    }
   },
   "outputs": [
    {
     "data": {
      "application/vnd.jupyter.widget-view+json": {
       "model_id": "2f7d3171632c47af93d31785ae277e2d",
       "version_major": 2,
       "version_minor": 0
      },
      "text/plain": [
       "interactive(children=(IntSlider(value=3, continuous_update=False, description='k', max=5, min=2), Output()), _…"
      ]
     },
     "metadata": {},
     "output_type": "display_data"
    }
   ],
   "source": [
    "from my_functions.kmeans import visualization\n",
    "visualization.show(iris[['sepal_length', 'sepal_width']])"
   ]
  },
  {
   "cell_type": "markdown",
   "metadata": {},
   "source": [
    "## Pythonでのk-meansクラスタリング実行方法\n",
    "---\n",
    "`sklearn.cluster.KMeans`を用いる。"
   ]
  },
  {
   "cell_type": "code",
   "execution_count": 4,
   "metadata": {
    "collapsed": true,
    "jupyter": {
     "outputs_hidden": true
    }
   },
   "outputs": [
    {
     "name": "stdout",
     "output_type": "stream",
     "text": [
      "Help on class KMeans in module sklearn.cluster._kmeans:\n",
      "\n",
      "class KMeans(sklearn.base.TransformerMixin, sklearn.base.ClusterMixin, sklearn.base.BaseEstimator)\n",
      " |  KMeans(n_clusters=8, *, init='k-means++', n_init=10, max_iter=300, tol=0.0001, precompute_distances='deprecated', verbose=0, random_state=None, copy_x=True, n_jobs='deprecated', algorithm='auto')\n",
      " |  \n",
      " |  K-Means clustering.\n",
      " |  \n",
      " |  Read more in the :ref:`User Guide <k_means>`.\n",
      " |  \n",
      " |  Parameters\n",
      " |  ----------\n",
      " |  \n",
      " |  n_clusters : int, default=8\n",
      " |      The number of clusters to form as well as the number of\n",
      " |      centroids to generate.\n",
      " |  \n",
      " |  init : {'k-means++', 'random', ndarray, callable}, default='k-means++'\n",
      " |      Method for initialization:\n",
      " |  \n",
      " |      'k-means++' : selects initial cluster centers for k-mean\n",
      " |      clustering in a smart way to speed up convergence. See section\n",
      " |      Notes in k_init for more details.\n",
      " |  \n",
      " |      'random': choose `n_clusters` observations (rows) at random from data\n",
      " |      for the initial centroids.\n",
      " |  \n",
      " |      If an ndarray is passed, it should be of shape (n_clusters, n_features)\n",
      " |      and gives the initial centers.\n",
      " |  \n",
      " |      If a callable is passed, it should take arguments X, n_clusters and a\n",
      " |      random state and return an initialization.\n",
      " |  \n",
      " |  n_init : int, default=10\n",
      " |      Number of time the k-means algorithm will be run with different\n",
      " |      centroid seeds. The final results will be the best output of\n",
      " |      n_init consecutive runs in terms of inertia.\n",
      " |  \n",
      " |  max_iter : int, default=300\n",
      " |      Maximum number of iterations of the k-means algorithm for a\n",
      " |      single run.\n",
      " |  \n",
      " |  tol : float, default=1e-4\n",
      " |      Relative tolerance with regards to Frobenius norm of the difference\n",
      " |      in the cluster centers of two consecutive iterations to declare\n",
      " |      convergence.\n",
      " |      It's not advised to set `tol=0` since convergence might never be\n",
      " |      declared due to rounding errors. Use a very small number instead.\n",
      " |  \n",
      " |  precompute_distances : {'auto', True, False}, default='auto'\n",
      " |      Precompute distances (faster but takes more memory).\n",
      " |  \n",
      " |      'auto' : do not precompute distances if n_samples * n_clusters > 12\n",
      " |      million. This corresponds to about 100MB overhead per job using\n",
      " |      double precision.\n",
      " |  \n",
      " |      True : always precompute distances.\n",
      " |  \n",
      " |      False : never precompute distances.\n",
      " |  \n",
      " |      .. deprecated:: 0.23\n",
      " |          'precompute_distances' was deprecated in version 0.22 and will be\n",
      " |          removed in 0.25. It has no effect.\n",
      " |  \n",
      " |  verbose : int, default=0\n",
      " |      Verbosity mode.\n",
      " |  \n",
      " |  random_state : int, RandomState instance, default=None\n",
      " |      Determines random number generation for centroid initialization. Use\n",
      " |      an int to make the randomness deterministic.\n",
      " |      See :term:`Glossary <random_state>`.\n",
      " |  \n",
      " |  copy_x : bool, default=True\n",
      " |      When pre-computing distances it is more numerically accurate to center\n",
      " |      the data first. If copy_x is True (default), then the original data is\n",
      " |      not modified. If False, the original data is modified, and put back\n",
      " |      before the function returns, but small numerical differences may be\n",
      " |      introduced by subtracting and then adding the data mean. Note that if\n",
      " |      the original data is not C-contiguous, a copy will be made even if\n",
      " |      copy_x is False. If the original data is sparse, but not in CSR format,\n",
      " |      a copy will be made even if copy_x is False.\n",
      " |  \n",
      " |  n_jobs : int, default=None\n",
      " |      The number of OpenMP threads to use for the computation. Parallelism is\n",
      " |      sample-wise on the main cython loop which assigns each sample to its\n",
      " |      closest center.\n",
      " |  \n",
      " |      ``None`` or ``-1`` means using all processors.\n",
      " |  \n",
      " |      .. deprecated:: 0.23\n",
      " |          ``n_jobs`` was deprecated in version 0.23 and will be removed in\n",
      " |          0.25.\n",
      " |  \n",
      " |  algorithm : {\"auto\", \"full\", \"elkan\"}, default=\"auto\"\n",
      " |      K-means algorithm to use. The classical EM-style algorithm is \"full\".\n",
      " |      The \"elkan\" variation is more efficient on data with well-defined\n",
      " |      clusters, by using the triangle inequality. However it's more memory\n",
      " |      intensive due to the allocation of an extra array of shape\n",
      " |      (n_samples, n_clusters).\n",
      " |  \n",
      " |      For now \"auto\" (kept for backward compatibiliy) chooses \"elkan\" but it\n",
      " |      might change in the future for a better heuristic.\n",
      " |  \n",
      " |      .. versionchanged:: 0.18\n",
      " |          Added Elkan algorithm\n",
      " |  \n",
      " |  Attributes\n",
      " |  ----------\n",
      " |  cluster_centers_ : ndarray of shape (n_clusters, n_features)\n",
      " |      Coordinates of cluster centers. If the algorithm stops before fully\n",
      " |      converging (see ``tol`` and ``max_iter``), these will not be\n",
      " |      consistent with ``labels_``.\n",
      " |  \n",
      " |  labels_ : ndarray of shape (n_samples,)\n",
      " |      Labels of each point\n",
      " |  \n",
      " |  inertia_ : float\n",
      " |      Sum of squared distances of samples to their closest cluster center.\n",
      " |  \n",
      " |  n_iter_ : int\n",
      " |      Number of iterations run.\n",
      " |  \n",
      " |  See also\n",
      " |  --------\n",
      " |  \n",
      " |  MiniBatchKMeans\n",
      " |      Alternative online implementation that does incremental updates\n",
      " |      of the centers positions using mini-batches.\n",
      " |      For large scale learning (say n_samples > 10k) MiniBatchKMeans is\n",
      " |      probably much faster than the default batch implementation.\n",
      " |  \n",
      " |  Notes\n",
      " |  -----\n",
      " |  The k-means problem is solved using either Lloyd's or Elkan's algorithm.\n",
      " |  \n",
      " |  The average complexity is given by O(k n T), were n is the number of\n",
      " |  samples and T is the number of iteration.\n",
      " |  \n",
      " |  The worst case complexity is given by O(n^(k+2/p)) with\n",
      " |  n = n_samples, p = n_features. (D. Arthur and S. Vassilvitskii,\n",
      " |  'How slow is the k-means method?' SoCG2006)\n",
      " |  \n",
      " |  In practice, the k-means algorithm is very fast (one of the fastest\n",
      " |  clustering algorithms available), but it falls in local minima. That's why\n",
      " |  it can be useful to restart it several times.\n",
      " |  \n",
      " |  If the algorithm stops before fully converging (because of ``tol`` or\n",
      " |  ``max_iter``), ``labels_`` and ``cluster_centers_`` will not be consistent,\n",
      " |  i.e. the ``cluster_centers_`` will not be the means of the points in each\n",
      " |  cluster. Also, the estimator will reassign ``labels_`` after the last\n",
      " |  iteration to make ``labels_`` consistent with ``predict`` on the training\n",
      " |  set.\n",
      " |  \n",
      " |  Examples\n",
      " |  --------\n",
      " |  \n",
      " |  >>> from sklearn.cluster import KMeans\n",
      " |  >>> import numpy as np\n",
      " |  >>> X = np.array([[1, 2], [1, 4], [1, 0],\n",
      " |  ...               [10, 2], [10, 4], [10, 0]])\n",
      " |  >>> kmeans = KMeans(n_clusters=2, random_state=0).fit(X)\n",
      " |  >>> kmeans.labels_\n",
      " |  array([1, 1, 1, 0, 0, 0], dtype=int32)\n",
      " |  >>> kmeans.predict([[0, 0], [12, 3]])\n",
      " |  array([1, 0], dtype=int32)\n",
      " |  >>> kmeans.cluster_centers_\n",
      " |  array([[10.,  2.],\n",
      " |         [ 1.,  2.]])\n",
      " |  \n",
      " |  Method resolution order:\n",
      " |      KMeans\n",
      " |      sklearn.base.TransformerMixin\n",
      " |      sklearn.base.ClusterMixin\n",
      " |      sklearn.base.BaseEstimator\n",
      " |      builtins.object\n",
      " |  \n",
      " |  Methods defined here:\n",
      " |  \n",
      " |  __init__(self, n_clusters=8, *, init='k-means++', n_init=10, max_iter=300, tol=0.0001, precompute_distances='deprecated', verbose=0, random_state=None, copy_x=True, n_jobs='deprecated', algorithm='auto')\n",
      " |      Initialize self.  See help(type(self)) for accurate signature.\n",
      " |  \n",
      " |  fit(self, X, y=None, sample_weight=None)\n",
      " |      Compute k-means clustering.\n",
      " |      \n",
      " |      Parameters\n",
      " |      ----------\n",
      " |      X : {array-like, sparse matrix} of shape (n_samples, n_features)\n",
      " |          Training instances to cluster. It must be noted that the data\n",
      " |          will be converted to C ordering, which will cause a memory\n",
      " |          copy if the given data is not C-contiguous.\n",
      " |          If a sparse matrix is passed, a copy will be made if it's not in\n",
      " |          CSR format.\n",
      " |      \n",
      " |      y : Ignored\n",
      " |          Not used, present here for API consistency by convention.\n",
      " |      \n",
      " |      sample_weight : array-like of shape (n_samples,), default=None\n",
      " |          The weights for each observation in X. If None, all observations\n",
      " |          are assigned equal weight.\n",
      " |      \n",
      " |          .. versionadded:: 0.20\n",
      " |      \n",
      " |      Returns\n",
      " |      -------\n",
      " |      self\n",
      " |          Fitted estimator.\n",
      " |  \n",
      " |  fit_predict(self, X, y=None, sample_weight=None)\n",
      " |      Compute cluster centers and predict cluster index for each sample.\n",
      " |      \n",
      " |      Convenience method; equivalent to calling fit(X) followed by\n",
      " |      predict(X).\n",
      " |      \n",
      " |      Parameters\n",
      " |      ----------\n",
      " |      X : {array-like, sparse matrix} of shape (n_samples, n_features)\n",
      " |          New data to transform.\n",
      " |      \n",
      " |      y : Ignored\n",
      " |          Not used, present here for API consistency by convention.\n",
      " |      \n",
      " |      sample_weight : array-like of shape (n_samples,), default=None\n",
      " |          The weights for each observation in X. If None, all observations\n",
      " |          are assigned equal weight.\n",
      " |      \n",
      " |      Returns\n",
      " |      -------\n",
      " |      labels : ndarray of shape (n_samples,)\n",
      " |          Index of the cluster each sample belongs to.\n",
      " |  \n",
      " |  fit_transform(self, X, y=None, sample_weight=None)\n",
      " |      Compute clustering and transform X to cluster-distance space.\n",
      " |      \n",
      " |      Equivalent to fit(X).transform(X), but more efficiently implemented.\n",
      " |      \n",
      " |      Parameters\n",
      " |      ----------\n",
      " |      X : {array-like, sparse matrix} of shape (n_samples, n_features)\n",
      " |          New data to transform.\n",
      " |      \n",
      " |      y : Ignored\n",
      " |          Not used, present here for API consistency by convention.\n",
      " |      \n",
      " |      sample_weight : array-like of shape (n_samples,), default=None\n",
      " |          The weights for each observation in X. If None, all observations\n",
      " |          are assigned equal weight.\n",
      " |      \n",
      " |      Returns\n",
      " |      -------\n",
      " |      X_new : array of shape (n_samples, n_clusters)\n",
      " |          X transformed in the new space.\n",
      " |  \n",
      " |  predict(self, X, sample_weight=None)\n",
      " |      Predict the closest cluster each sample in X belongs to.\n",
      " |      \n",
      " |      In the vector quantization literature, `cluster_centers_` is called\n",
      " |      the code book and each value returned by `predict` is the index of\n",
      " |      the closest code in the code book.\n",
      " |      \n",
      " |      Parameters\n",
      " |      ----------\n",
      " |      X : {array-like, sparse matrix} of shape (n_samples, n_features)\n",
      " |          New data to predict.\n",
      " |      \n",
      " |      sample_weight : array-like of shape (n_samples,), default=None\n",
      " |          The weights for each observation in X. If None, all observations\n",
      " |          are assigned equal weight.\n",
      " |      \n",
      " |      Returns\n",
      " |      -------\n",
      " |      labels : ndarray of shape (n_samples,)\n",
      " |          Index of the cluster each sample belongs to.\n",
      " |  \n",
      " |  score(self, X, y=None, sample_weight=None)\n",
      " |      Opposite of the value of X on the K-means objective.\n",
      " |      \n",
      " |      Parameters\n",
      " |      ----------\n",
      " |      X : {array-like, sparse matrix} of shape (n_samples, n_features)\n",
      " |          New data.\n",
      " |      \n",
      " |      y : Ignored\n",
      " |          Not used, present here for API consistency by convention.\n",
      " |      \n",
      " |      sample_weight : array-like of shape (n_samples,), default=None\n",
      " |          The weights for each observation in X. If None, all observations\n",
      " |          are assigned equal weight.\n",
      " |      \n",
      " |      Returns\n",
      " |      -------\n",
      " |      score : float\n",
      " |          Opposite of the value of X on the K-means objective.\n",
      " |  \n",
      " |  transform(self, X)\n",
      " |      Transform X to a cluster-distance space.\n",
      " |      \n",
      " |      In the new space, each dimension is the distance to the cluster\n",
      " |      centers.  Note that even if X is sparse, the array returned by\n",
      " |      `transform` will typically be dense.\n",
      " |      \n",
      " |      Parameters\n",
      " |      ----------\n",
      " |      X : {array-like, sparse matrix} of shape (n_samples, n_features)\n",
      " |          New data to transform.\n",
      " |      \n",
      " |      Returns\n",
      " |      -------\n",
      " |      X_new : ndarray of shape (n_samples, n_clusters)\n",
      " |          X transformed in the new space.\n",
      " |  \n",
      " |  ----------------------------------------------------------------------\n",
      " |  Data descriptors inherited from sklearn.base.TransformerMixin:\n",
      " |  \n",
      " |  __dict__\n",
      " |      dictionary for instance variables (if defined)\n",
      " |  \n",
      " |  __weakref__\n",
      " |      list of weak references to the object (if defined)\n",
      " |  \n",
      " |  ----------------------------------------------------------------------\n",
      " |  Methods inherited from sklearn.base.BaseEstimator:\n",
      " |  \n",
      " |  __getstate__(self)\n",
      " |  \n",
      " |  __repr__(self, N_CHAR_MAX=700)\n",
      " |      Return repr(self).\n",
      " |  \n",
      " |  __setstate__(self, state)\n",
      " |  \n",
      " |  get_params(self, deep=True)\n",
      " |      Get parameters for this estimator.\n",
      " |      \n",
      " |      Parameters\n",
      " |      ----------\n",
      " |      deep : bool, default=True\n",
      " |          If True, will return the parameters for this estimator and\n",
      " |          contained subobjects that are estimators.\n",
      " |      \n",
      " |      Returns\n",
      " |      -------\n",
      " |      params : mapping of string to any\n",
      " |          Parameter names mapped to their values.\n",
      " |  \n",
      " |  set_params(self, **params)\n",
      " |      Set the parameters of this estimator.\n",
      " |      \n",
      " |      The method works on simple estimators as well as on nested objects\n",
      " |      (such as pipelines). The latter have parameters of the form\n",
      " |      ``<component>__<parameter>`` so that it's possible to update each\n",
      " |      component of a nested object.\n",
      " |      \n",
      " |      Parameters\n",
      " |      ----------\n",
      " |      **params : dict\n",
      " |          Estimator parameters.\n",
      " |      \n",
      " |      Returns\n",
      " |      -------\n",
      " |      self : object\n",
      " |          Estimator instance.\n",
      "\n"
     ]
    }
   ],
   "source": [
    "help(KMeans)"
   ]
  },
  {
   "cell_type": "code",
   "execution_count": 5,
   "metadata": {},
   "outputs": [
    {
     "name": "stdout",
     "output_type": "stream",
     "text": [
      "[0 0 0 0 0 0 0 0 0 0 0 0 0 0 0 0 0 0 0 0 0 0 0 0 0 0 0 0 0 0 0 0 0 0 0 0 0\n",
      " 0 0 0 0 0 0 0 0 0 0 0 0 0 2 2 2 2 2 2 2 2 2 2 2 2 2 2 2 2 2 2 2 2 2 2 2 2\n",
      " 2 2 2 1 2 2 2 2 2 1 2 2 2 2 2 2 2 2 2 2 2 2 2 2 2 2 1 1 1 1 1 1 2 1 1 1 1\n",
      " 1 1 1 1 1 1 1 1 2 1 1 1 1 1 1 2 1 1 1 1 1 1 1 1 1 1 1 2 1 1 1 1 1 1 1 1 1\n",
      " 1 1]\n"
     ]
    }
   ],
   "source": [
    "km = KMeans(n_clusters=3, random_state=1234)\n",
    "data = iris[['petal_length', 'petal_width']].values\n",
    "km.fit(data)\n",
    "pred = km.predict(data)\n",
    "print(pred)"
   ]
  },
  {
   "cell_type": "code",
   "execution_count": 6,
   "metadata": {},
   "outputs": [
    {
     "data": {
      "image/png": "[encoded data removed]",
      "text/plain": [
       "<Figure size 432x288 with 1 Axes>"
      ]
     },
     "metadata": {
      "needs_background": "light"
     },
     "output_type": "display_data"
    }
   ],
   "source": [
    "plt.scatter(data[:, 0], data[:, 1], c=pred)\n",
    "plt.xlabel('petal_length')\n",
    "plt.ylabel('petal_width')\n",
    "plt.show()"
   ]
  },
  {
   "cell_type": "markdown",
   "metadata": {},
   "source": [
    "練習問題\n",
    "\n",
    "---\n",
    "mpg データセットの任意の変数 (複数) を元にいくつのクラスタに分けられそうか考え、 k-means クラスタリングを実行する。その後、意図した通りにクラスタリングできているか確認する。"
   ]
  },
  {
   "cell_type": "code",
   "execution_count": 7,
   "metadata": {
    "hide_input": true,
    "jupyter": {
     "source_hidden": true
    }
   },
   "outputs": [
    {
     "name": "stdout",
     "output_type": "stream",
     "text": [
      "mpg\n"
     ]
    },
    {
     "data": {
      "text/html": [
       "<div>\n",
       "<style scoped>\n",
       "    .dataframe tbody tr th:only-of-type {\n",
       "        vertical-align: middle;\n",
       "    }\n",
       "\n",
       "    .dataframe tbody tr th {\n",
       "        vertical-align: top;\n",
       "    }\n",
       "\n",
       "    .dataframe thead th {\n",
       "        text-align: right;\n",
       "    }\n",
       "</style>\n",
       "<table border=\"1\" class=\"dataframe\">\n",
       "  <thead>\n",
       "    <tr style=\"text-align: right;\">\n",
       "      <th></th>\n",
       "      <th>mpg</th>\n",
       "      <th>cylinders</th>\n",
       "      <th>displacement</th>\n",
       "      <th>horsepower</th>\n",
       "      <th>weight</th>\n",
       "      <th>acceleration</th>\n",
       "      <th>model_year</th>\n",
       "      <th>origin</th>\n",
       "      <th>name</th>\n",
       "    </tr>\n",
       "  </thead>\n",
       "  <tbody>\n",
       "    <tr>\n",
       "      <th>0</th>\n",
       "      <td>18.0</td>\n",
       "      <td>8</td>\n",
       "      <td>307.0</td>\n",
       "      <td>130.0</td>\n",
       "      <td>3504</td>\n",
       "      <td>12.0</td>\n",
       "      <td>70</td>\n",
       "      <td>usa</td>\n",
       "      <td>chevrolet chevelle malibu</td>\n",
       "    </tr>\n",
       "    <tr>\n",
       "      <th>1</th>\n",
       "      <td>15.0</td>\n",
       "      <td>8</td>\n",
       "      <td>350.0</td>\n",
       "      <td>165.0</td>\n",
       "      <td>3693</td>\n",
       "      <td>11.5</td>\n",
       "      <td>70</td>\n",
       "      <td>usa</td>\n",
       "      <td>buick skylark 320</td>\n",
       "    </tr>\n",
       "    <tr>\n",
       "      <th>...</th>\n",
       "      <td>...</td>\n",
       "      <td>...</td>\n",
       "      <td>...</td>\n",
       "      <td>...</td>\n",
       "      <td>...</td>\n",
       "      <td>...</td>\n",
       "      <td>...</td>\n",
       "      <td>...</td>\n",
       "      <td>...</td>\n",
       "    </tr>\n",
       "    <tr>\n",
       "      <th>396</th>\n",
       "      <td>28.0</td>\n",
       "      <td>4</td>\n",
       "      <td>120.0</td>\n",
       "      <td>79.0</td>\n",
       "      <td>2625</td>\n",
       "      <td>18.6</td>\n",
       "      <td>82</td>\n",
       "      <td>usa</td>\n",
       "      <td>ford ranger</td>\n",
       "    </tr>\n",
       "    <tr>\n",
       "      <th>397</th>\n",
       "      <td>31.0</td>\n",
       "      <td>4</td>\n",
       "      <td>119.0</td>\n",
       "      <td>82.0</td>\n",
       "      <td>2720</td>\n",
       "      <td>19.4</td>\n",
       "      <td>82</td>\n",
       "      <td>usa</td>\n",
       "      <td>chevy s-10</td>\n",
       "    </tr>\n",
       "  </tbody>\n",
       "</table>\n",
       "<p>398 rows × 9 columns</p>\n",
       "</div>"
      ],
      "text/plain": [
       "      mpg  cylinders  displacement  horsepower  weight  acceleration  \\\n",
       "0    18.0          8         307.0       130.0    3504          12.0   \n",
       "1    15.0          8         350.0       165.0    3693          11.5   \n",
       "..    ...        ...           ...         ...     ...           ...   \n",
       "396  28.0          4         120.0        79.0    2625          18.6   \n",
       "397  31.0          4         119.0        82.0    2720          19.4   \n",
       "\n",
       "     model_year origin                       name  \n",
       "0            70    usa  chevrolet chevelle malibu  \n",
       "1            70    usa          buick skylark 320  \n",
       "..          ...    ...                        ...  \n",
       "396          82    usa                ford ranger  \n",
       "397          82    usa                 chevy s-10  \n",
       "\n",
       "[398 rows x 9 columns]"
      ]
     },
     "metadata": {},
     "output_type": "display_data"
    }
   ],
   "source": [
    "mpg = sns.load_dataset('mpg')\n",
    "print('mpg')\n",
    "display(mpg)"
   ]
  },
  {
   "cell_type": "code",
   "execution_count": null,
   "metadata": {},
   "outputs": [],
   "source": []
  },
  {
   "cell_type": "markdown",
   "metadata": {},
   "source": [
    "## 推薦図書\n",
    "---\n",
    "- [Python 機械学習プログラミング 達人データサイエンティストによる理論と実践](https://www.amazon.co.jp/Python-%E6%A9%9F%E6%A2%B0%E5%AD%A6%E7%BF%92%E3%83%97%E3%83%AD%E3%82%B0%E3%83%A9%E3%83%9F%E3%83%B3%E3%82%B0-%E9%81%94%E4%BA%BA%E3%83%87%E3%83%BC%E3%82%BF%E3%82%B5%E3%82%A4%E3%82%A8%E3%83%B3%E3%83%86%E3%82%A3%E3%82%B9%E3%83%88%E3%81%AB%E3%82%88%E3%82%8B%E7%90%86%E8%AB%96%E3%81%A8%E5%AE%9F%E8%B7%B5-impress-gear/dp/4295003379/)\n",
    "- [Pythonではじめる機械学習 ―scikit-learnで学ぶ特徴量エンジニアリングと機械学習の基礎](https://www.amazon.co.jp/Python%E3%81%A7%E3%81%AF%E3%81%98%E3%82%81%E3%82%8B%E6%A9%9F%E6%A2%B0%E5%AD%A6%E7%BF%92-%E2%80%95scikit-learn%E3%81%A7%E5%AD%A6%E3%81%B6%E7%89%B9%E5%BE%B4%E9%87%8F%E3%82%A8%E3%83%B3%E3%82%B8%E3%83%8B%E3%82%A2%E3%83%AA%E3%83%B3%E3%82%B0%E3%81%A8%E6%A9%9F%E6%A2%B0%E5%AD%A6%E7%BF%92%E3%81%AE%E5%9F%BA%E7%A4%8E-Andreas-C-Muller/dp/4873117984/)"
   ]
  }
 ],
 "metadata": {
  "kernelspec": {
   "display_name": "Python 3",
   "language": "python",
   "name": "python3"
  },
  "language_info": {
   "codemirror_mode": {
    "name": "ipython",
    "version": 3
   },
   "file_extension": ".py",
   "mimetype": "text/x-python",
   "name": "python",
   "nbconvert_exporter": "python",
   "pygments_lexer": "ipython3",
   "version": "3.8.3"
  },
  "toc": {
   "base_numbering": 1,
   "nav_menu": {},
   "number_sections": true,
   "sideBar": true,
   "skip_h1_title": true,
   "title_cell": "Table of Contents",
   "title_sidebar": "Contents",
   "toc_cell": false,
   "toc_position": {},
   "toc_section_display": true,
   "toc_window_display": true
  },
  "varInspector": {
   "cols": {
    "lenName": 16,
    "lenType": 16,
    "lenVar": 40
   },
   "kernels_config": {
    "python": {
     "delete_cmd_postfix": "",
     "delete_cmd_prefix": "del ",
     "library": "var_list.py",
     "varRefreshCmd": "print(var_dic_list())"
    },
    "r": {
     "delete_cmd_postfix": ") ",
     "delete_cmd_prefix": "rm(",
     "library": "var_list.r",
     "varRefreshCmd": "cat(var_dic_list()) "
    }
   },
   "types_to_exclude": [
    "module",
    "function",
    "builtin_function_or_method",
    "instance",
    "_Feature"
   ],
   "window_display": false
  },
  "widgets": {
   "application/vnd.jupyter.widget-state+json": {
    "state": {
     "23b8d168672c4edbbafc03162fc991b3": {
      "model_module": "@jupyter-widgets/controls",
      "model_module_version": "1.5.0",
      "model_name": "IntSliderModel",
      "state": {
       "continuous_update": false,
       "description": "k",
       "layout": "IPY_MODEL_7e51cd82b4384824b522ddc548b0a333",
       "max": 5,
       "min": 2,
       "style": "IPY_MODEL_e72333b60125413ba346cd31952fe8a0",
       "value": 3
      }
     },
     "2f7d3171632c47af93d31785ae277e2d": {
      "model_module": "@jupyter-widgets/controls",
      "model_module_version": "1.5.0",
      "model_name": "VBoxModel",
      "state": {
       "_dom_classes": [
        "widget-interact"
       ],
       "children": [
        "IPY_MODEL_23b8d168672c4edbbafc03162fc991b3",
        "IPY_MODEL_40e734a394d445fe888d84043efd724a"
       ],
       "layout": "IPY_MODEL_b48e0059ffc6492fac5a26a93ad8543b"
      }
     },
     "40e734a394d445fe888d84043efd724a": {
      "model_module": "@jupyter-widgets/output",
      "model_module_version": "1.0.0",
      "model_name": "OutputModel",
      "state": {
       "layout": "IPY_MODEL_f139820f5cd54c9d91eb97ef8c1eb0aa",
       "outputs": [
        {
         "data": {
          "image/png": "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\n",
          "text/plain": "<Figure size 288x288 with 1 Axes>"
         },
         "metadata": {},
         "output_type": "display_data"
        }
       ]
      }
     },
     "7e51cd82b4384824b522ddc548b0a333": {
      "model_module": "@jupyter-widgets/base",
      "model_module_version": "1.2.0",
      "model_name": "LayoutModel",
      "state": {}
     },
     "b48e0059ffc6492fac5a26a93ad8543b": {
      "model_module": "@jupyter-widgets/base",
      "model_module_version": "1.2.0",
      "model_name": "LayoutModel",
      "state": {}
     },
     "e72333b60125413ba346cd31952fe8a0": {
      "model_module": "@jupyter-widgets/controls",
      "model_module_version": "1.5.0",
      "model_name": "SliderStyleModel",
      "state": {
       "description_width": ""
      }
     },
     "f139820f5cd54c9d91eb97ef8c1eb0aa": {
      "model_module": "@jupyter-widgets/base",
      "model_module_version": "1.2.0",
      "model_name": "LayoutModel",
      "state": {}
     }
    },
    "version_major": 2,
    "version_minor": 0
   }
  }
 },
 "nbformat": 4,
 "nbformat_minor": 4
}
