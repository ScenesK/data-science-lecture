{
 "cells": [
  {
   "cell_type": "code",
   "execution_count": 1,
   "metadata": {},
   "outputs": [],
   "source": [
    "import numpy as np\n",
    "from scipy import stats\n",
    "import pandas as pd\n",
    "from IPython.display import display\n",
    "pd.set_option('max_rows', 6)\n",
    "%matplotlib inline"
   ]
  },
  {
   "cell_type": "markdown",
   "metadata": {},
   "source": [
    "## 考えてみる\n",
    "---\n",
    "複数の変数 (データフレームのカラム) 間に関係がある (連動して動いていそう) かどうかを数値で表すとしたら、どのようなものがありそうか。"
   ]
  },
  {
   "cell_type": "markdown",
   "metadata": {},
   "source": [
    "## GUIで実行してみる"
   ]
  },
  {
   "cell_type": "markdown",
   "metadata": {},
   "source": [
    "### 質的データ (特に名義尺度) の場合\n",
    "---\n",
    "RStudio の Console に`library(Rcmdr)`と入力して、 R commander を起動。\n",
    "\n",
    "- `データ` -> `データのインポート` -> `テキストファイルまたはクリップボード, URLから`\n",
    "\n",
    "として、`フィールドの区切り記号`を`カンマ`にし、`OK`をクリック。\n",
    "\n",
    "`workspace/beginner/data/Titanic.csv`を読み込む。  \n",
    "`データセットを表示`をクリックし、内容を確認。\n",
    "\n",
    "- `統計量` -> `分割表` -> `2元表`\n",
    "\n",
    "として`行の変数`に`Sex`、`列の変数`に`Survived`を選択して、`OK`をクリック。 \n",
    "\n",
    "RStudio の Console に戻って、集計できていることを確かめる。"
   ]
  },
  {
   "cell_type": "markdown",
   "metadata": {},
   "source": [
    "### 量的データ (順序尺度含む) の場合\n",
    "---\n",
    "RStudio の Console に`library(Rcmdr)`と入力して、 R commander を起動。\n",
    "\n",
    "- データ -> データのインポート -> テキストファイルまたはクリップボード, URLから\n",
    "\n",
    "として、`フィールドの区切り記号`を`カンマ`にし、`OK`をクリック。\n",
    "\n",
    "`workspace/beginner/data/swiss.csv`を読み込む。  \n",
    "`データセットを表示`をクリックし、内容を確認。\n",
    "\n",
    "- `データ` -> `アクティブデータセット` -> `ケース名の設定`\n",
    "\n",
    "として、`X`を選択し、再度データの内容を確認。\n",
    "\n",
    "- `統計量` -> `要約` -> `相関行列`\n",
    "\n",
    "として、全ての変数を選択し、`OK`をクリック。 \n",
    "\n",
    "RStudio の Console から結果を確認。"
   ]
  },
  {
   "cell_type": "markdown",
   "metadata": {},
   "source": [
    "## 変動係数 (coefficient of variation)\n",
    "---\n",
    "複数変数間での標準偏差の大きさを比較するために用いる。  \n",
    "一般に平均が大きい変数は、小さい変数より標準偏差が大きくなるため、標準偏差を平均で割った変動係数で比較することがある。\n",
    "\n",
    "変数 $x$ の変動係数は $\\displaystyle CV( x) =\\frac{S_{x}}{\\overline{x}}$ で表される。\n",
    "\n",
    "変動係数では、値同士の除算 (割り算) があるので、比率尺度の変数でなければ算出できない。"
   ]
  },
  {
   "cell_type": "markdown",
   "metadata": {},
   "source": [
    "## クロス集計表 (cross-tabulation)\n",
    "---\n",
    "分割表ともいう。  \n",
    "主に名義尺度のデータに対して用い、カテゴリごとのデータの偏りなどを確認する。"
   ]
  },
  {
   "cell_type": "markdown",
   "metadata": {},
   "source": [
    "###### 練習問題\n",
    "\n",
    "データフレームの任意のカラムを行・列に持つクロス集計表を作成する関数`cross_tabulation`を完成させる。"
   ]
  },
  {
   "cell_type": "code",
   "execution_count": 2,
   "metadata": {},
   "outputs": [
    {
     "data": {
      "text/html": [
       "<div>\n",
       "<style scoped>\n",
       "    .dataframe tbody tr th:only-of-type {\n",
       "        vertical-align: middle;\n",
       "    }\n",
       "\n",
       "    .dataframe tbody tr th {\n",
       "        vertical-align: top;\n",
       "    }\n",
       "\n",
       "    .dataframe thead th {\n",
       "        text-align: right;\n",
       "    }\n",
       "</style>\n",
       "<table border=\"1\" class=\"dataframe\">\n",
       "  <thead>\n",
       "    <tr style=\"text-align: right;\">\n",
       "      <th></th>\n",
       "      <th>Class</th>\n",
       "      <th>Sex</th>\n",
       "      <th>Age</th>\n",
       "      <th>Survived</th>\n",
       "    </tr>\n",
       "  </thead>\n",
       "  <tbody>\n",
       "    <tr>\n",
       "      <th>1</th>\n",
       "      <td>3rd</td>\n",
       "      <td>Male</td>\n",
       "      <td>Child</td>\n",
       "      <td>No</td>\n",
       "    </tr>\n",
       "    <tr>\n",
       "      <th>2</th>\n",
       "      <td>3rd</td>\n",
       "      <td>Male</td>\n",
       "      <td>Child</td>\n",
       "      <td>No</td>\n",
       "    </tr>\n",
       "    <tr>\n",
       "      <th>3</th>\n",
       "      <td>3rd</td>\n",
       "      <td>Male</td>\n",
       "      <td>Child</td>\n",
       "      <td>No</td>\n",
       "    </tr>\n",
       "    <tr>\n",
       "      <th>...</th>\n",
       "      <td>...</td>\n",
       "      <td>...</td>\n",
       "      <td>...</td>\n",
       "      <td>...</td>\n",
       "    </tr>\n",
       "    <tr>\n",
       "      <th>2199</th>\n",
       "      <td>Crew</td>\n",
       "      <td>Female</td>\n",
       "      <td>Adult</td>\n",
       "      <td>Yes</td>\n",
       "    </tr>\n",
       "    <tr>\n",
       "      <th>2200</th>\n",
       "      <td>Crew</td>\n",
       "      <td>Female</td>\n",
       "      <td>Adult</td>\n",
       "      <td>Yes</td>\n",
       "    </tr>\n",
       "    <tr>\n",
       "      <th>2201</th>\n",
       "      <td>Crew</td>\n",
       "      <td>Female</td>\n",
       "      <td>Adult</td>\n",
       "      <td>Yes</td>\n",
       "    </tr>\n",
       "  </tbody>\n",
       "</table>\n",
       "<p>2201 rows × 4 columns</p>\n",
       "</div>"
      ],
      "text/plain": [
       "     Class     Sex    Age Survived\n",
       "1      3rd    Male  Child       No\n",
       "2      3rd    Male  Child       No\n",
       "3      3rd    Male  Child       No\n",
       "...    ...     ...    ...      ...\n",
       "2199  Crew  Female  Adult      Yes\n",
       "2200  Crew  Female  Adult      Yes\n",
       "2201  Crew  Female  Adult      Yes\n",
       "\n",
       "[2201 rows x 4 columns]"
      ]
     },
     "execution_count": 2,
     "metadata": {},
     "output_type": "execute_result"
    }
   ],
   "source": [
    "titanic = pd.read_csv('data/Titanic.csv')\n",
    "titanic"
   ]
  },
  {
   "cell_type": "code",
   "execution_count": 3,
   "metadata": {
    "solution2": "hidden",
    "solution2_first": true
   },
   "outputs": [],
   "source": [
    "def cross_tabulation(index=None, columns=None, data=None):\n",
    "    '''\n",
    "    index: str\n",
    "    columns: str\n",
    "    data: Pandas DataFrame\n",
    "    '''\n",
    "    return"
   ]
  },
  {
   "cell_type": "code",
   "execution_count": 4,
   "metadata": {
    "solution2": "hidden"
   },
   "outputs": [],
   "source": [
    "def cross_tabulation(index=None, columns=None, data=None):\n",
    "    rows = np.sort(data[index].unique())\n",
    "    cols = np.sort(data[columns].unique())\n",
    "    result = pd.DataFrame(index=rows, columns=cols)\n",
    "    for r in rows:\n",
    "        for c in cols:\n",
    "            result.loc[r, c] = ((data[index] == r) & (data[columns] == c)).sum()\n",
    "    return result"
   ]
  },
  {
   "cell_type": "code",
   "execution_count": 5,
   "metadata": {},
   "outputs": [
    {
     "name": "stdout",
     "output_type": "stream",
     "text": [
      "結果\n"
     ]
    },
    {
     "data": {
      "text/html": [
       "<div>\n",
       "<style scoped>\n",
       "    .dataframe tbody tr th:only-of-type {\n",
       "        vertical-align: middle;\n",
       "    }\n",
       "\n",
       "    .dataframe tbody tr th {\n",
       "        vertical-align: top;\n",
       "    }\n",
       "\n",
       "    .dataframe thead th {\n",
       "        text-align: right;\n",
       "    }\n",
       "</style>\n",
       "<table border=\"1\" class=\"dataframe\">\n",
       "  <thead>\n",
       "    <tr style=\"text-align: right;\">\n",
       "      <th></th>\n",
       "      <th>Adult</th>\n",
       "      <th>Child</th>\n",
       "    </tr>\n",
       "  </thead>\n",
       "  <tbody>\n",
       "    <tr>\n",
       "      <th>1st</th>\n",
       "      <td>319</td>\n",
       "      <td>6</td>\n",
       "    </tr>\n",
       "    <tr>\n",
       "      <th>2nd</th>\n",
       "      <td>261</td>\n",
       "      <td>24</td>\n",
       "    </tr>\n",
       "    <tr>\n",
       "      <th>3rd</th>\n",
       "      <td>627</td>\n",
       "      <td>79</td>\n",
       "    </tr>\n",
       "    <tr>\n",
       "      <th>Crew</th>\n",
       "      <td>885</td>\n",
       "      <td>0</td>\n",
       "    </tr>\n",
       "  </tbody>\n",
       "</table>\n",
       "</div>"
      ],
      "text/plain": [
       "      Adult  Child\n",
       "1st     319      6\n",
       "2nd     261     24\n",
       "3rd     627     79\n",
       "Crew    885      0"
      ]
     },
     "metadata": {},
     "output_type": "display_data"
    },
    {
     "name": "stdout",
     "output_type": "stream",
     "text": [
      "正解\n"
     ]
    },
    {
     "data": {
      "text/html": [
       "<div>\n",
       "<style scoped>\n",
       "    .dataframe tbody tr th:only-of-type {\n",
       "        vertical-align: middle;\n",
       "    }\n",
       "\n",
       "    .dataframe tbody tr th {\n",
       "        vertical-align: top;\n",
       "    }\n",
       "\n",
       "    .dataframe thead th {\n",
       "        text-align: right;\n",
       "    }\n",
       "</style>\n",
       "<table border=\"1\" class=\"dataframe\">\n",
       "  <thead>\n",
       "    <tr style=\"text-align: right;\">\n",
       "      <th>Age</th>\n",
       "      <th>Adult</th>\n",
       "      <th>Child</th>\n",
       "    </tr>\n",
       "    <tr>\n",
       "      <th>Class</th>\n",
       "      <th></th>\n",
       "      <th></th>\n",
       "    </tr>\n",
       "  </thead>\n",
       "  <tbody>\n",
       "    <tr>\n",
       "      <th>1st</th>\n",
       "      <td>319</td>\n",
       "      <td>6</td>\n",
       "    </tr>\n",
       "    <tr>\n",
       "      <th>2nd</th>\n",
       "      <td>261</td>\n",
       "      <td>24</td>\n",
       "    </tr>\n",
       "    <tr>\n",
       "      <th>3rd</th>\n",
       "      <td>627</td>\n",
       "      <td>79</td>\n",
       "    </tr>\n",
       "    <tr>\n",
       "      <th>Crew</th>\n",
       "      <td>885</td>\n",
       "      <td>0</td>\n",
       "    </tr>\n",
       "  </tbody>\n",
       "</table>\n",
       "</div>"
      ],
      "text/plain": [
       "Age    Adult  Child\n",
       "Class              \n",
       "1st      319      6\n",
       "2nd      261     24\n",
       "3rd      627     79\n",
       "Crew     885      0"
      ]
     },
     "metadata": {},
     "output_type": "display_data"
    }
   ],
   "source": [
    "print('結果')\n",
    "display(cross_tabulation(index='Class', columns='Age', data=titanic))\n",
    "print('正解')\n",
    "display(pd.crosstab(index=titanic['Class'], columns=titanic['Age']))"
   ]
  },
  {
   "cell_type": "markdown",
   "metadata": {},
   "source": [
    "### Pythonでのクロス集計表作成\n",
    "---\n",
    "`pandas.crosstab`を用いる。"
   ]
  },
  {
   "cell_type": "code",
   "execution_count": 6,
   "metadata": {},
   "outputs": [],
   "source": [
    "pd.crosstab??"
   ]
  },
  {
   "cell_type": "markdown",
   "metadata": {},
   "source": [
    "`margins`引数で集計、`normalize`引数で行方向・列方向ごとの割合を表示できる。"
   ]
  },
  {
   "cell_type": "code",
   "execution_count": 7,
   "metadata": {},
   "outputs": [
    {
     "data": {
      "text/html": [
       "<div>\n",
       "<style scoped>\n",
       "    .dataframe tbody tr th:only-of-type {\n",
       "        vertical-align: middle;\n",
       "    }\n",
       "\n",
       "    .dataframe tbody tr th {\n",
       "        vertical-align: top;\n",
       "    }\n",
       "\n",
       "    .dataframe thead th {\n",
       "        text-align: right;\n",
       "    }\n",
       "</style>\n",
       "<table border=\"1\" class=\"dataframe\">\n",
       "  <thead>\n",
       "    <tr style=\"text-align: right;\">\n",
       "      <th>Age</th>\n",
       "      <th>Adult</th>\n",
       "      <th>Child</th>\n",
       "      <th>All</th>\n",
       "    </tr>\n",
       "    <tr>\n",
       "      <th>Class</th>\n",
       "      <th></th>\n",
       "      <th></th>\n",
       "      <th></th>\n",
       "    </tr>\n",
       "  </thead>\n",
       "  <tbody>\n",
       "    <tr>\n",
       "      <th>1st</th>\n",
       "      <td>319</td>\n",
       "      <td>6</td>\n",
       "      <td>325</td>\n",
       "    </tr>\n",
       "    <tr>\n",
       "      <th>2nd</th>\n",
       "      <td>261</td>\n",
       "      <td>24</td>\n",
       "      <td>285</td>\n",
       "    </tr>\n",
       "    <tr>\n",
       "      <th>3rd</th>\n",
       "      <td>627</td>\n",
       "      <td>79</td>\n",
       "      <td>706</td>\n",
       "    </tr>\n",
       "    <tr>\n",
       "      <th>Crew</th>\n",
       "      <td>885</td>\n",
       "      <td>0</td>\n",
       "      <td>885</td>\n",
       "    </tr>\n",
       "    <tr>\n",
       "      <th>All</th>\n",
       "      <td>2092</td>\n",
       "      <td>109</td>\n",
       "      <td>2201</td>\n",
       "    </tr>\n",
       "  </tbody>\n",
       "</table>\n",
       "</div>"
      ],
      "text/plain": [
       "Age    Adult  Child   All\n",
       "Class                    \n",
       "1st      319      6   325\n",
       "2nd      261     24   285\n",
       "3rd      627     79   706\n",
       "Crew     885      0   885\n",
       "All     2092    109  2201"
      ]
     },
     "execution_count": 7,
     "metadata": {},
     "output_type": "execute_result"
    }
   ],
   "source": [
    "pd.crosstab(titanic['Class'], titanic['Age'], margins=True)"
   ]
  },
  {
   "cell_type": "code",
   "execution_count": 8,
   "metadata": {},
   "outputs": [
    {
     "data": {
      "text/html": [
       "<div>\n",
       "<style scoped>\n",
       "    .dataframe tbody tr th:only-of-type {\n",
       "        vertical-align: middle;\n",
       "    }\n",
       "\n",
       "    .dataframe tbody tr th {\n",
       "        vertical-align: top;\n",
       "    }\n",
       "\n",
       "    .dataframe thead th {\n",
       "        text-align: right;\n",
       "    }\n",
       "</style>\n",
       "<table border=\"1\" class=\"dataframe\">\n",
       "  <thead>\n",
       "    <tr style=\"text-align: right;\">\n",
       "      <th>Age</th>\n",
       "      <th>Adult</th>\n",
       "      <th>Child</th>\n",
       "    </tr>\n",
       "    <tr>\n",
       "      <th>Class</th>\n",
       "      <th></th>\n",
       "      <th></th>\n",
       "    </tr>\n",
       "  </thead>\n",
       "  <tbody>\n",
       "    <tr>\n",
       "      <th>1st</th>\n",
       "      <td>0.981538</td>\n",
       "      <td>0.018462</td>\n",
       "    </tr>\n",
       "    <tr>\n",
       "      <th>2nd</th>\n",
       "      <td>0.915789</td>\n",
       "      <td>0.084211</td>\n",
       "    </tr>\n",
       "    <tr>\n",
       "      <th>3rd</th>\n",
       "      <td>0.888102</td>\n",
       "      <td>0.111898</td>\n",
       "    </tr>\n",
       "    <tr>\n",
       "      <th>Crew</th>\n",
       "      <td>1.000000</td>\n",
       "      <td>0.000000</td>\n",
       "    </tr>\n",
       "    <tr>\n",
       "      <th>All</th>\n",
       "      <td>0.950477</td>\n",
       "      <td>0.049523</td>\n",
       "    </tr>\n",
       "  </tbody>\n",
       "</table>\n",
       "</div>"
      ],
      "text/plain": [
       "Age       Adult     Child\n",
       "Class                    \n",
       "1st    0.981538  0.018462\n",
       "2nd    0.915789  0.084211\n",
       "3rd    0.888102  0.111898\n",
       "Crew   1.000000  0.000000\n",
       "All    0.950477  0.049523"
      ]
     },
     "execution_count": 8,
     "metadata": {},
     "output_type": "execute_result"
    }
   ],
   "source": [
    "pd.crosstab(titanic['Class'], titanic['Age'], margins=True, normalize='index')"
   ]
  },
  {
   "cell_type": "markdown",
   "metadata": {},
   "source": [
    "## 相関係数 (correlation coefficient)\n",
    "---\n",
    "変数同士の**線形 (単純比例) な関係の度合い**を数値化したもの。 $-1\\sim 1$ の間の値をとる。"
   ]
  },
  {
   "cell_type": "code",
   "execution_count": 9,
   "metadata": {
    "hide_input": true
   },
   "outputs": [
    {
     "data": {
      "application/vnd.jupyter.widget-view+json": {
       "model_id": "99b1ff5a864f4d86a30425a57498d19f",
       "version_major": 2,
       "version_minor": 0
      },
      "text/plain": [
       "interactive(children=(FloatSlider(value=0.0, continuous_update=False, description='相関係数 (目安)', max=1.0, min=-1…"
      ]
     },
     "metadata": {},
     "output_type": "display_data"
    }
   ],
   "source": [
    "from helpers.correlation_coefficient import correlation\n",
    "correlation.show()"
   ]
  },
  {
   "cell_type": "markdown",
   "metadata": {},
   "source": [
    "相関係数はあくまで線形な関係のみを捉えるので、変数同士に関係があっても、その関係が**非線形な場合は捉えられない**。"
   ]
  },
  {
   "cell_type": "code",
   "execution_count": 10,
   "metadata": {
    "hide_input": true
   },
   "outputs": [
    {
     "data": {
      "image/png": "[encoded data removed]",
      "text/plain": [
       "<Figure size 288x288 with 1 Axes>"
      ]
     },
     "metadata": {},
     "output_type": "display_data"
    }
   ],
   "source": [
    "from helpers.correlation_coefficient import non_linear\n",
    "non_linear.show()"
   ]
  },
  {
   "cell_type": "markdown",
   "metadata": {},
   "source": [
    "### ピアソンの積率相関係数\n",
    "---\n",
    "相関係数というと一般にこれを指す。  \n",
    "**量的変数 (間隔尺度・比率尺度) 同士**の相関関係を表すのに用いる。\n",
    "\n",
    "以下のようなデータがあるとする。\n",
    "\n",
    "|変数$x$|変数$y$|\n",
    "|:-:|:-:|\n",
    "|$x_{1}$|$y_{1}$|\n",
    "|$x_{2}$|$y_{2}$|\n",
    "|$\\vdots$|$\\vdots$|\n",
    "|$x_{n}$|$y_{n}$|\n",
    "\n",
    "変数 $x,y$ の相関係数 $r_{xy}$ は、共分散 $\n",
    "\\displaystyle Cov( x,y) =\\frac\n",
    "    {1}\n",
    "    {n}\n",
    "\\sum ^{n}_{i=1}\\left( x_{i} -\\overline{x}\\right)\\left( y_{i} -\\overline{y}\\right)\n",
    "$ 、標準偏差 $\n",
    "\\displaystyle S( x) =\\sqrt{\n",
    "    {\\displaystyle \\frac\n",
    "        {1}\n",
    "        {n}\n",
    "    \\sum ^{n}_{i=1}\\left( x_{i} -\\overline{x}\\right)^{2}}\n",
    "} ,S( y) =\\sqrt{\n",
    "    {\\displaystyle \\frac\n",
    "        {1}\n",
    "        {n}\n",
    "    \\sum ^{n}_{i=1}\\left( y_{i} -\\overline{y}\\right)^{2}}\n",
    "}\n",
    "$ とすると\n",
    "\n",
    "$\n",
    "\\begin{align}\n",
    "    r_{xy} & =\\frac\n",
    "        {Cov( x,y)}\n",
    "        {S( x) S( y)}\\\\\n",
    "     & \\\\\n",
    "     & =\\frac\n",
    "         {1}\n",
    "         {n}\n",
    "     \\sum ^{n}_{i=1}\\left(\\frac\n",
    "         {x_{i} -\\overline{x}}\n",
    "         {S( x)}\n",
    "     \\right)\\left(\\frac\n",
    "         {y_{i} -\\overline{y}}\n",
    "         {S( y)}\n",
    "     \\right)\\\\\n",
    "     & \\\\\n",
    "     & =\\frac\n",
    "         {{\\displaystyle \\sum ^{n}_{i=1}\\left( x_{i} -\\overline{x}\\right)\\left( y_{i} -\\overline{y}\\right)}}\n",
    "         {\\sqrt\n",
    "             {{\\displaystyle \\sum ^{n}_{i=1}\\left( x_{i} -\\overline{x}\\right)^{2}}}\n",
    "         \\sqrt\n",
    "             {{\\displaystyle \\sum ^{n}_{i=1}\\left( y_{i} -\\overline{y}\\right)^{2}}}\n",
    "         }\n",
    "\\end{align}\n",
    "$\n",
    "\n",
    "で表される。"
   ]
  },
  {
   "cell_type": "markdown",
   "metadata": {
    "solution2": "hidden",
    "solution2_first": true
   },
   "source": [
    "###### 導出"
   ]
  },
  {
   "cell_type": "markdown",
   "metadata": {
    "solution2": "hidden"
   },
   "source": [
    "$\n",
    "\\begin{align}\n",
    "    r_{xy} & =\\frac\n",
    "        {Cov( x,y)}\n",
    "        {S( x) S( y)}\\\\\n",
    "     & \\\\\n",
    "     & =\\frac\n",
    "         {{\\displaystyle \\frac\n",
    "             {1}\n",
    "             {n}\n",
    "         \\sum ^{n}_{i=1}\\left( x_{i} -\\overline{x}\\right)\\left( y_{i} -\\overline{y}\\right)}}\n",
    "         {S( x) S( y)}\\\\\n",
    "     & \\\\\n",
    "     & =\\frac\n",
    "         {1}\n",
    "         {n}\n",
    "     \\sum ^{n}_{i=1}\\left(\\frac\n",
    "         {x_{i} -\\overline{x}}\n",
    "         {S( x)}\n",
    "     \\right)\\left(\\frac\n",
    "         {y_{i} -\\overline{y}}\n",
    "         {S( y)}\n",
    "     \\right)\\\\\n",
    "     & \\\\\n",
    "     & =\\frac\n",
    "         {{\\displaystyle \\frac\n",
    "             {1}\n",
    "             {n}\n",
    "         \\sum ^{n}_{i=1}\\left( x_{i} -\\overline{x}\\right)\\left( y_{i} -\\overline{y}\\right)}}\n",
    "         {\\sqrt\n",
    "             {{\\displaystyle \\frac\n",
    "                 {1}\n",
    "                 {n}\n",
    "             \\sum ^{n}_{i=1}\\left( x_{i} -\\overline{x}\\right)^{2}\n",
    "             }}\n",
    "         \\sqrt\n",
    "             {{\\displaystyle \\frac\n",
    "                 {1}\n",
    "                 {n}\n",
    "             \\sum ^{n}_{i=1}\\left( y_{i} -\\overline{y}\\right)^{2}}}\n",
    "         }\\\\\n",
    "     & \\\\\n",
    "     & =\\frac\n",
    "         {{\\displaystyle \\sum ^{n}_{i=1}\\left( x_{i} -\\overline{x}\\right)\\left( y_{i} -\\overline{y}\\right)}}\n",
    "         {\\sqrt\n",
    "             {{\\displaystyle \\sum ^{n}_{i=1}\\left( x_{i} -\\overline{x}\\right)^{2}}}\n",
    "         \\sqrt\n",
    "             {{\\displaystyle \\sum ^{n}_{i=1}\\left( y_{i} -\\overline{y}\\right)^{2}}}\n",
    "         }\n",
    "\\end{align}\n",
    "$"
   ]
  },
  {
   "cell_type": "markdown",
   "metadata": {},
   "source": [
    "#### 共分散\n",
    "---\n",
    "1変数 $x$ の分散は\n",
    "\n",
    "$\n",
    "\\begin{align}\n",
    "    V( x) & =\\frac\n",
    "        {1}\n",
    "        {n}\n",
    "    \\sum ^{n}_{i=1}\\left( x_{i} -\\overline{x}\\right)^{2}\\\\\n",
    "     & =\\frac\n",
    "         {1}\n",
    "         {n}\n",
    "     \\sum ^{n}_{i=1}\\left( x_{i} -\\overline{x}\\right)\\left( x_{i} -\\overline{x}\\right)\n",
    "\\end{align}\n",
    "$\n",
    "\n",
    "で表される。  \n",
    "これを2変数 $x,y$ に拡張したのが共分散で\n",
    "\n",
    "$\n",
    "\\displaystyle Cov( x,y) =\\frac\n",
    "    {1}\n",
    "    {n}\n",
    "\\sum ^{n}_{i=1}\\left( x_{i} -\\overline{x}\\right)\\left( y_{i} -\\overline{y}\\right)\n",
    "$\n",
    "\n",
    "で表される。"
   ]
  },
  {
   "cell_type": "markdown",
   "metadata": {},
   "source": [
    "###### 練習問題\n",
    "\n",
    "2変数の相関係数を算出する`correlation_coefficient`を完成させる。"
   ]
  },
  {
   "cell_type": "code",
   "execution_count": 11,
   "metadata": {},
   "outputs": [
    {
     "data": {
      "text/html": [
       "<div>\n",
       "<style scoped>\n",
       "    .dataframe tbody tr th:only-of-type {\n",
       "        vertical-align: middle;\n",
       "    }\n",
       "\n",
       "    .dataframe tbody tr th {\n",
       "        vertical-align: top;\n",
       "    }\n",
       "\n",
       "    .dataframe thead th {\n",
       "        text-align: right;\n",
       "    }\n",
       "</style>\n",
       "<table border=\"1\" class=\"dataframe\">\n",
       "  <thead>\n",
       "    <tr style=\"text-align: right;\">\n",
       "      <th></th>\n",
       "      <th>x</th>\n",
       "      <th>y</th>\n",
       "    </tr>\n",
       "  </thead>\n",
       "  <tbody>\n",
       "    <tr>\n",
       "      <th>0</th>\n",
       "      <td>0.026621</td>\n",
       "      <td>-0.895905</td>\n",
       "    </tr>\n",
       "    <tr>\n",
       "      <th>1</th>\n",
       "      <td>-1.199801</td>\n",
       "      <td>-1.441980</td>\n",
       "    </tr>\n",
       "    <tr>\n",
       "      <th>2</th>\n",
       "      <td>0.320753</td>\n",
       "      <td>1.007947</td>\n",
       "    </tr>\n",
       "    <tr>\n",
       "      <th>...</th>\n",
       "      <td>...</td>\n",
       "      <td>...</td>\n",
       "    </tr>\n",
       "    <tr>\n",
       "      <th>97</th>\n",
       "      <td>-0.851023</td>\n",
       "      <td>-1.185300</td>\n",
       "    </tr>\n",
       "    <tr>\n",
       "      <th>98</th>\n",
       "      <td>-0.195808</td>\n",
       "      <td>0.492930</td>\n",
       "    </tr>\n",
       "    <tr>\n",
       "      <th>99</th>\n",
       "      <td>0.141389</td>\n",
       "      <td>-0.673130</td>\n",
       "    </tr>\n",
       "  </tbody>\n",
       "</table>\n",
       "<p>100 rows × 2 columns</p>\n",
       "</div>"
      ],
      "text/plain": [
       "           x         y\n",
       "0   0.026621 -0.895905\n",
       "1  -1.199801 -1.441980\n",
       "2   0.320753  1.007947\n",
       "..       ...       ...\n",
       "97 -0.851023 -1.185300\n",
       "98 -0.195808  0.492930\n",
       "99  0.141389 -0.673130\n",
       "\n",
       "[100 rows x 2 columns]"
      ]
     },
     "execution_count": 11,
     "metadata": {},
     "output_type": "execute_result"
    }
   ],
   "source": [
    "np.random.seed(1234)\n",
    "r = 0.7\n",
    "mat = np.array([[1.0, r], [r, 1.0]])\n",
    "data = pd.DataFrame(\n",
    "    np.random.multivariate_normal(np.zeros(2), mat, size=100),\n",
    "    columns=['x', 'y'])\n",
    "data"
   ]
  },
  {
   "cell_type": "code",
   "execution_count": 12,
   "metadata": {
    "solution2": "hidden",
    "solution2_first": true
   },
   "outputs": [],
   "source": [
    "def correlation_coefficient(x, y):\n",
    "    return"
   ]
  },
  {
   "cell_type": "code",
   "execution_count": 13,
   "metadata": {
    "solution2": "hidden"
   },
   "outputs": [],
   "source": [
    "def correlation_coefficient(x, y):\n",
    "    cov = ((x - x.mean()) * (y - y.mean())).mean()\n",
    "    sx = np.sqrt(((x - x.mean()) ** 2).mean())\n",
    "    sy = np.sqrt(((y - y.mean()) ** 2).mean())\n",
    "    return cov / sx / sy"
   ]
  },
  {
   "cell_type": "code",
   "execution_count": 14,
   "metadata": {},
   "outputs": [
    {
     "name": "stdout",
     "output_type": "stream",
     "text": [
      "結果: 0.60\n",
      "正解\n"
     ]
    }
   ],
   "source": [
    "x, y = data['x'], data['y']\n",
    "print(f'結果: {correlation_coefficient(x, y):.2f}')\n",
    "print('正解' if np.isclose(\n",
    "    np.corrcoef(x, y)[0, 1], correlation_coefficient(x, y)) else '不正解')"
   ]
  },
  {
   "cell_type": "markdown",
   "metadata": {},
   "source": [
    "#### Pythonでのピアソンの相関係数算出\n",
    "---\n",
    "`numpy.corrcoef`、`scipy.stats.pearsonr`、`pandas.DataFrame.corr`のいずれかを用いる。"
   ]
  },
  {
   "cell_type": "code",
   "execution_count": 15,
   "metadata": {},
   "outputs": [],
   "source": [
    "np.corrcoef??"
   ]
  },
  {
   "cell_type": "code",
   "execution_count": 16,
   "metadata": {},
   "outputs": [
    {
     "data": {
      "text/plain": [
       "0.5991408981594614"
      ]
     },
     "execution_count": 16,
     "metadata": {},
     "output_type": "execute_result"
    }
   ],
   "source": [
    "np.corrcoef(x, y)[0, 1]"
   ]
  },
  {
   "cell_type": "code",
   "execution_count": 17,
   "metadata": {},
   "outputs": [],
   "source": [
    "stats.pearsonr??"
   ]
  },
  {
   "cell_type": "code",
   "execution_count": 18,
   "metadata": {},
   "outputs": [
    {
     "data": {
      "text/plain": [
       "0.5991408981594613"
      ]
     },
     "execution_count": 18,
     "metadata": {},
     "output_type": "execute_result"
    }
   ],
   "source": [
    "stats.pearsonr(x, y)[0]"
   ]
  },
  {
   "cell_type": "code",
   "execution_count": 19,
   "metadata": {},
   "outputs": [],
   "source": [
    "pd.DataFrame.corr??"
   ]
  },
  {
   "cell_type": "code",
   "execution_count": 20,
   "metadata": {},
   "outputs": [
    {
     "data": {
      "text/plain": [
       "0.5991408981594615"
      ]
     },
     "execution_count": 20,
     "metadata": {},
     "output_type": "execute_result"
    }
   ],
   "source": [
    "data.corr().iloc[0, 1]"
   ]
  },
  {
   "cell_type": "markdown",
   "metadata": {},
   "source": [
    "### スピアマンの順位相関係数\n",
    "---\n",
    "**順序尺度**の変数に対して用いる。\n",
    "\n",
    "変数 $x$ の値 $x_{1},x_{2},\\cdots ,x_{n}$ それぞれの変数内での順位を $j_{1},j_{2},\\cdots ,j_{n}$ 、同様に変数 $y$ の値の変数内での順位を $k_{1},k_{2},\\cdots ,k_{n}$ とすると、\n",
    "\n",
    "$\n",
    "\\begin{align}\n",
    "    r_{jk} & =1-\\frac\n",
    "         {{\\displaystyle 6\\sum ^{n}_{i=1}( j_{i} -k_{i})^{2}}}\n",
    "         {n\\left( n^{2} -1\\right)}\n",
    "\\end{align}\n",
    "$\n",
    "\n",
    "で表される。"
   ]
  },
  {
   "cell_type": "markdown",
   "metadata": {
    "solution2": "hidden",
    "solution2_first": true
   },
   "source": [
    "###### 導出"
   ]
  },
  {
   "cell_type": "markdown",
   "metadata": {
    "solution2": "hidden"
   },
   "source": [
    "$\n",
    "\\displaystyle \\sum ^{n}_{i=1} j_{i} =\\sum ^{n}_{i=1} k_{i} =\\frac\n",
    "    {n( n+1)}\n",
    "    {2}\n",
    "$\n",
    "\n",
    "$\n",
    "\\displaystyle \\sum ^{n}_{i=1} j^{2}_{i} =\\sum ^{n}_{i=1} k^{2}_{i} =\\frac\n",
    "    {n( n+1)( 2n+1)}\n",
    "    {6}\n",
    "$\n",
    "\n",
    "$\n",
    "\\displaystyle \\overline{j} =\\overline{k} =\\frac\n",
    "    {n+1}\n",
    "    {2}\n",
    "$\n",
    "\n",
    "より、\n",
    "\n",
    "$\n",
    "\\begin{align}\n",
    "    r_{jk} & =\\frac\n",
    "        {{\\displaystyle \\sum ^{n}_{i=1}\\left( j_{i} -\\overline{j}\\right)\\left( k_{i} -\\overline{k}\\right)}}\n",
    "        {\\sqrt{\n",
    "            {\\displaystyle \\sum ^{n}_{i=1}\\left( j_{i} -\\overline{j}\\right)^{2}}\n",
    "        }\\sqrt{\n",
    "            {\\displaystyle \\sum ^{n}_{i=1}\\left( k_{i} -\\overline{k}\\right)^{2}}\n",
    "        }}\\\\\n",
    "     & \\\\\n",
    "     & =\\frac\n",
    "         {{\\displaystyle \\sum ^{n}_{i=1}\\left( j_{i} -\\overline{j}\\right)\\left( k_{i} -\\overline{k}\\right) +\\frac\n",
    "             {1}\n",
    "             {2}\n",
    "         \\sum ^{n}_{i=1}( j_{i} -k_{i})^{2} -\\frac\n",
    "             {1}\n",
    "             {2}\n",
    "         \\sum ^{n}_{i=1}( j_{i} -k_{i})^{2}}}\n",
    "         {\\sqrt{\n",
    "             {\\displaystyle \\sum ^{n}_{i=1} j^{2}_{i} -2\\overline{j}\\sum ^{n}_{i=1} j_{i} +\\sum ^{n}_{i=1}\\overline{j}^{2}}\n",
    "         }\\sqrt{\n",
    "             {\\displaystyle \\sum ^{n}_{i=1} k^{2}_{i} -2\\overline{k}\\sum ^{n}_{i=1} k_{i} +\\sum ^{n}_{i=1}\\overline{k}^{2}}\n",
    "         }}\\\\\n",
    "     & \\\\\n",
    "     & =\\frac\n",
    "         {{\\displaystyle \\sum ^{n}_{i=1} j_{i} k_{i} -\\overline{k}\\sum ^{n}_{i=1} j_{i} -\\overline{j}\\sum ^{n}_{i=1} k_{i} +n\\left(\\frac\n",
    "             {n+1}\n",
    "             {2}\n",
    "         \\right)^{2} +\\frac\n",
    "             {1}\n",
    "             {2}\n",
    "         \\sum ^{n}_{i=1} j^{2}_{i} -\\sum ^{n}_{i=1} j_{i} k_{i} +\\frac\n",
    "             {1}\n",
    "             {2}\n",
    "         \\sum ^{n}_{i=1} k^{2}_{i} -\\frac\n",
    "             {1}\n",
    "             {2}\n",
    "         \\sum ^{n}_{i=1}( j_{i} -k_{i})^{2}}}\n",
    "         {{\\displaystyle \\frac\n",
    "             {n( n+1)( 2n+1)}\n",
    "             {6}\n",
    "         -2\\cdot \\frac\n",
    "             {n+1}\n",
    "             {2}\n",
    "         \\cdot \\frac\n",
    "             {n( n+1)}\n",
    "             {2}\n",
    "         +n\\left(\\frac\n",
    "             {n+1}\n",
    "             {2}\n",
    "         \\right)^{2}}}\\\\\n",
    "     & \\\\\n",
    "     & =\\frac\n",
    "         {{\\displaystyle n\\left( n^{2} -1\\right) -6\\sum ^{n}_{i=1}( j_{i} -k_{i})^{2}}}\n",
    "         {n\\left( n^{2} -1\\right)}\\\\\n",
    "     & \\\\\n",
    "     & =1-\\frac\n",
    "         {{\\displaystyle 6\\sum ^{n}_{i=1}( j_{i} -k_{i})^{2}}}\n",
    "         {n\\left( n^{2} -1\\right)}\n",
    "\\end{align}\n",
    "$"
   ]
  },
  {
   "cell_type": "markdown",
   "metadata": {
    "solution2": "hidden"
   },
   "source": [
    "###### *参考*\n",
    "\n",
    "$\n",
    "\\displaystyle \\sum ^{n}_{i=1} i^{2} =\\frac\n",
    "    {1}\n",
    "    {6}\n",
    "n( n+1)( 2n+1)\n",
    "$ の求め方\n",
    "\n",
    "$\\displaystyle ( i+1)^{3} -i^{3} =3i^{2} +3i+1$ より\n",
    "\n",
    "$\n",
    "\\begin{align}\n",
    "2^{3} -1^{3} & =3*1^{2} +3*1+1\\\\\n",
    "3^{3} -2^{3} & =3*2^{2} +3*2+1\\\\\n",
    " & \\vdots \\\\\n",
    "( n+1)^{3} -n^{3} & =3*n^{2} +3*n+1\n",
    "\\end{align}\n",
    "$\n",
    "\n",
    "全てを足し合わせて\n",
    "\n",
    "$\n",
    "\\begin{align}\n",
    "    ( n+1)^{3} -1 & =3\\sum ^{n}_{i=1} i^{2} +3\\sum ^{n}_{i=1} i+n\\\\\n",
    "    ( n+1)^{3} -1 & =3\\sum ^{n}_{i=1} i^{2} +3\\times \\frac\n",
    "        {n( n+1)}\n",
    "        {2}\n",
    "    +n\\\\\n",
    "    \\sum ^{n}_{i=1} i^{2} & =\\frac\n",
    "        {1}\n",
    "        {6}\n",
    "    n( n+1)( 2n+1)\n",
    "\\end{align}\n",
    "$"
   ]
  },
  {
   "cell_type": "markdown",
   "metadata": {},
   "source": [
    "#### Pythonでのスピアマンの順位相関係数算出\n",
    "---\n",
    "`scipy.stats.spearmanr`または`pandas.DataFrame.corr`を用いる。"
   ]
  },
  {
   "cell_type": "code",
   "execution_count": 21,
   "metadata": {},
   "outputs": [],
   "source": [
    "stats.spearmanr??"
   ]
  },
  {
   "cell_type": "code",
   "execution_count": 22,
   "metadata": {},
   "outputs": [
    {
     "data": {
      "text/plain": [
       "0.5648604860486047"
      ]
     },
     "execution_count": 22,
     "metadata": {},
     "output_type": "execute_result"
    }
   ],
   "source": [
    "stats.spearmanr(x, y)[0]"
   ]
  },
  {
   "cell_type": "code",
   "execution_count": 23,
   "metadata": {},
   "outputs": [],
   "source": [
    "pd.DataFrame.corr??"
   ]
  },
  {
   "cell_type": "code",
   "execution_count": 24,
   "metadata": {},
   "outputs": [
    {
     "data": {
      "text/plain": [
       "0.5648604860486048"
      ]
     },
     "execution_count": 24,
     "metadata": {},
     "output_type": "execute_result"
    }
   ],
   "source": [
    "data.corr(method='spearman').iloc[0, 1]"
   ]
  },
  {
   "cell_type": "markdown",
   "metadata": {},
   "source": [
    "### その他の相関係数\n",
    "---\n",
    "他にもケンドールの順位相関係数やポリコリック相関係数・ポリシリアル相関係数などがあるが、まずは上記2つを押さえておけばよい。"
   ]
  }
 ],
 "metadata": {
  "kernelspec": {
   "display_name": "Python 3",
   "language": "python",
   "name": "python3"
  },
  "language_info": {
   "codemirror_mode": {
    "name": "ipython",
    "version": 3
   },
   "file_extension": ".py",
   "mimetype": "text/x-python",
   "name": "python",
   "nbconvert_exporter": "python",
   "pygments_lexer": "ipython3",
   "version": "3.7.4"
  },
  "toc": {
   "base_numbering": 1,
   "nav_menu": {},
   "number_sections": true,
   "sideBar": true,
   "skip_h1_title": true,
   "title_cell": "Table of Contents",
   "title_sidebar": "Contents",
   "toc_cell": false,
   "toc_position": {},
   "toc_section_display": true,
   "toc_window_display": true
  },
  "varInspector": {
   "cols": {
    "lenName": 16,
    "lenType": 16,
    "lenVar": 40
   },
   "kernels_config": {
    "python": {
     "delete_cmd_postfix": "",
     "delete_cmd_prefix": "del ",
     "library": "var_list.py",
     "varRefreshCmd": "print(var_dic_list())"
    },
    "r": {
     "delete_cmd_postfix": ") ",
     "delete_cmd_prefix": "rm(",
     "library": "var_list.r",
     "varRefreshCmd": "cat(var_dic_list()) "
    }
   },
   "types_to_exclude": [
    "module",
    "function",
    "builtin_function_or_method",
    "instance",
    "_Feature"
   ],
   "window_display": false
  }
 },
 "nbformat": 4,
 "nbformat_minor": 2
}
