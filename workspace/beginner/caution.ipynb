{
 "cells": [
  {
   "cell_type": "markdown",
   "metadata": {},
   "source": [
    "# データ分析を実施するにあたっての注意点\n",
    "---\n",
    "教材では扱いにくいが、データ分析を仕事とする上で重要なことを以下に一部挙げる。  \n",
    "課題などを考える際に、一緒に意識する。"
   ]
  },
  {
   "cell_type": "markdown",
   "metadata": {},
   "source": [
    "## データを見る前に考えること\n",
    "---\n",
    "- データの背景を理解する\n",
    " - 対象となる業界について理解する\n",
    " - 必要であれば現場に赴いてヒアリングしたり、自らユーザーになってみたりする\n",
    "- 分析の目的を設定する\n",
    " - 目的を決めないままデータを見ても有益な情報はほとんど得られない\n",
    " - 目的を決めるためには前述の理解が重要\n",
    " - 最初の仮説は常識・当然と思っていることの確認でもよい"
   ]
  },
  {
   "cell_type": "markdown",
   "metadata": {},
   "source": [
    "## データを分析した後\n",
    "---\n",
    "- 分析結果を実行に移すまで責任を持つ\n",
    "- 仮説と反する結果は、重要な気づきである可能性がある\n",
    " - ただし常識的な仮説が確かめられることのほうが多いので、その重要性 (経験知の定量化・再現性確保と属人性の低減など) も理解しておく"
   ]
  },
  {
   "cell_type": "markdown",
   "metadata": {},
   "source": [
    "## 推薦図書\n",
    "---\n",
    "- [会社を変える分析の力](https://www.amazon.co.jp/%E4%BC%9A%E7%A4%BE%E3%82%92%E5%A4%89%E3%81%88%E3%82%8B%E5%88%86%E6%9E%90%E3%81%AE%E5%8A%9B-%E8%AC%9B%E8%AB%87%E7%A4%BE%E7%8F%BE%E4%BB%A3%E6%96%B0%E6%9B%B8-%E6%B2%B3%E6%9C%AC-%E8%96%AB/dp/4062882183/)\n",
    "- [統計学が最強の学問である[ビジネス編]](https://www.amazon.co.jp/%E7%B5%B1%E8%A8%88%E5%AD%A6%E3%81%8C%E6%9C%80%E5%BC%B7%E3%81%AE%E5%AD%A6%E5%95%8F%E3%81%A7%E3%81%82%E3%82%8B-%E3%83%93%E3%82%B8%E3%83%8D%E3%82%B9%E7%B7%A8-%E2%80%95%E2%80%95%E3%83%87%E3%83%BC%E3%82%BF%E3%82%92%E5%88%A9%E7%9B%8A%E3%81%AB%E5%A4%89%E3%81%88%E3%82%8B%E7%9F%A5%E6%81%B5%E3%81%A8%E3%83%87%E3%82%B6%E3%82%A4%E3%83%B3-%E8%A5%BF%E5%86%85-%E5%95%93/dp/4478100764/)\n",
    "- [本物のデータ分析力が身に付く本](https://www.amazon.co.jp/%E6%9C%AC%E7%89%A9%E3%81%AE%E3%83%87%E3%83%BC%E3%82%BF%E5%88%86%E6%9E%90%E5%8A%9B%E3%81%8C%E8%BA%AB%E3%81%AB%E4%BB%98%E3%81%8F%E6%9C%AC-%E6%97%A5%E7%B5%8CBP%E3%83%A0%E3%83%83%E3%82%AF-%E6%B2%B3%E6%9D%91-%E7%9C%9F%E4%B8%80/dp/4822237729/)"
   ]
  }
 ],
 "metadata": {
  "kernelspec": {
   "display_name": "Python 3",
   "language": "python",
   "name": "python3"
  },
  "language_info": {
   "codemirror_mode": {
    "name": "ipython",
    "version": 3
   },
   "file_extension": ".py",
   "mimetype": "text/x-python",
   "name": "python",
   "nbconvert_exporter": "python",
   "pygments_lexer": "ipython3",
   "version": "3.8.3"
  },
  "toc": {
   "base_numbering": 1,
   "nav_menu": {},
   "number_sections": true,
   "sideBar": true,
   "skip_h1_title": true,
   "title_cell": "Table of Contents",
   "title_sidebar": "Contents",
   "toc_cell": false,
   "toc_position": {},
   "toc_section_display": true,
   "toc_window_display": true
  },
  "varInspector": {
   "cols": {
    "lenName": 16,
    "lenType": 16,
    "lenVar": 40
   },
   "kernels_config": {
    "python": {
     "delete_cmd_postfix": "",
     "delete_cmd_prefix": "del ",
     "library": "var_list.py",
     "varRefreshCmd": "print(var_dic_list())"
    },
    "r": {
     "delete_cmd_postfix": ") ",
     "delete_cmd_prefix": "rm(",
     "library": "var_list.r",
     "varRefreshCmd": "cat(var_dic_list()) "
    }
   },
   "types_to_exclude": [
    "module",
    "function",
    "builtin_function_or_method",
    "instance",
    "_Feature"
   ],
   "window_display": false
  },
  "widgets": {
   "application/vnd.jupyter.widget-state+json": {
    "state": {},
    "version_major": 2,
    "version_minor": 0
   }
  }
 },
 "nbformat": 4,
 "nbformat_minor": 4
}
