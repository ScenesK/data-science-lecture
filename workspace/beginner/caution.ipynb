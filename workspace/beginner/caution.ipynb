{
 "cells": [
  {
   "cell_type": "markdown",
   "metadata": {},
   "source": [
    "教材では扱いにくいが、データ分析を仕事とする上で重要なことを以下に一部挙げる。  \n",
    "課題などを考える際に、一緒に意識する。"
   ]
  },
  {
   "cell_type": "markdown",
   "metadata": {},
   "source": [
    "## データを見る前に考えること\n",
    "---\n",
    "- データの背景を理解する\n",
    " - 対象となる業界について理解する\n",
    " - 必要であれば現場に赴いてヒアリングしたり、自らユーザーになってみたりする\n",
    "- 分析の目的を設定する\n",
    " - 目的を決めないままデータを見ても有益な情報はほとんど得られない\n",
    " - 目的を決めるためには前述の理解が重要\n",
    " - 最初の仮説は常識・当然と思っていることの確認でもよい"
   ]
  },
  {
   "cell_type": "markdown",
   "metadata": {},
   "source": [
    "## データを分析した後\n",
    "---\n",
    "- 分析結果を実行に移すまで責任を持つ\n",
    "- 仮説と反する結果は、重要な気づきである可能性がある\n",
    " - ただし常識的な仮説が確かめられることのほうが多いので、その重要性 (経験知の定量化・再現性確保と属人性の低減など) も理解しておく"
   ]
  }
 ],
 "metadata": {
  "kernelspec": {
   "display_name": "Python 3",
   "language": "python",
   "name": "python3"
  },
  "language_info": {
   "codemirror_mode": {
    "name": "ipython",
    "version": 3
   },
   "file_extension": ".py",
   "mimetype": "text/x-python",
   "name": "python",
   "nbconvert_exporter": "python",
   "pygments_lexer": "ipython3",
   "version": "3.7.4"
  },
  "toc": {
   "base_numbering": 1,
   "nav_menu": {},
   "number_sections": true,
   "sideBar": true,
   "skip_h1_title": true,
   "title_cell": "Table of Contents",
   "title_sidebar": "Contents",
   "toc_cell": false,
   "toc_position": {},
   "toc_section_display": true,
   "toc_window_display": true
  },
  "varInspector": {
   "cols": {
    "lenName": 16,
    "lenType": 16,
    "lenVar": 40
   },
   "kernels_config": {
    "python": {
     "delete_cmd_postfix": "",
     "delete_cmd_prefix": "del ",
     "library": "var_list.py",
     "varRefreshCmd": "print(var_dic_list())"
    },
    "r": {
     "delete_cmd_postfix": ") ",
     "delete_cmd_prefix": "rm(",
     "library": "var_list.r",
     "varRefreshCmd": "cat(var_dic_list()) "
    }
   },
   "types_to_exclude": [
    "module",
    "function",
    "builtin_function_or_method",
    "instance",
    "_Feature"
   ],
   "window_display": false
  }
 },
 "nbformat": 4,
 "nbformat_minor": 2
}
