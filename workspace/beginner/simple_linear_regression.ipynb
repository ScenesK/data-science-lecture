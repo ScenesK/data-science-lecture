{
 "cells": [
  {
   "cell_type": "code",
   "execution_count": 1,
   "metadata": {},
   "outputs": [],
   "source": [
    "import numpy as np\n",
    "import pandas as pd\n",
    "from sklearn.datasets import make_regression\n",
    "from sklearn.linear_model import LinearRegression\n",
    "from IPython.display import display\n",
    "import matplotlib.pyplot as plt\n",
    "pd.set_option('max_rows', 5)\n",
    "%matplotlib inline"
   ]
  },
  {
   "cell_type": "markdown",
   "metadata": {},
   "source": [
    "# 単回帰分析 (simple linear regression analysis)\n",
    "---\n",
    "ある変数 $x$ によって別の変数 $y$ を $y=ax+b$ という形で説明・予測しようとする手法。  \n",
    "データ中に存在する変数 $x$ の係数 $a$ を回帰係数 (coefficient) 、 $b$ を切片項 (intercept) という。 ( $b$ を含めて回帰係数と呼ぶこともある)"
   ]
  },
  {
   "cell_type": "code",
   "execution_count": 2,
   "metadata": {
    "hide_input": true,
    "jupyter": {
     "source_hidden": true
    }
   },
   "outputs": [
    {
     "data": {
      "image/png": "[encoded data removed]",
      "text/plain": [
       "<Figure size 288x288 with 1 Axes>"
      ]
     },
     "metadata": {
      "needs_background": "light"
     },
     "output_type": "display_data"
    }
   ],
   "source": [
    "from my_functions.simple_linear_regression_analysis import regression_line\n",
    "regression_line.show()"
   ]
  },
  {
   "cell_type": "markdown",
   "metadata": {},
   "source": [
    "## 最小二乗法 (ordinary least squares)\n",
    "---\n",
    "データから回帰直線 $y=ax+b$ を求めるにあたって、データ中の正解 $y$ と予測値 $\\hat{y}$ の差が小さくなるように $a,b$ を決めたい。このとき、正解と予測の差の二乗 $(y-\\hat{y})^{2}$ が最小になるように $a,b$ を決めるのが最小二乗法。"
   ]
  },
  {
   "cell_type": "code",
   "execution_count": 3,
   "metadata": {
    "hide_input": true,
    "jupyter": {
     "source_hidden": true
    }
   },
   "outputs": [
    {
     "data": {
      "image/png": "[encoded data removed]",
      "text/plain": [
       "<Figure size 288x288 with 1 Axes>"
      ]
     },
     "metadata": {},
     "output_type": "display_data"
    }
   ],
   "source": [
    "from my_functions.simple_linear_regression_analysis import ols\n",
    "ols.show()"
   ]
  },
  {
   "cell_type": "markdown",
   "metadata": {},
   "source": [
    "練習問題\n",
    "\n",
    "---\n",
    "$b=0$ として、$a$ を横軸、 $\\displaystyle \\sum ^{n}_{i=1}\\left( y-\\hat{y}\\right)^{2}$ の値を縦軸にとり、 $a$ の値を変化させたときのグラフを表示する。"
   ]
  },
  {
   "cell_type": "code",
   "execution_count": 4,
   "metadata": {
    "hide_input": true,
    "jupyter": {
     "source_hidden": true
    }
   },
   "outputs": [
    {
     "name": "stdout",
     "output_type": "stream",
     "text": [
      "reg\n"
     ]
    },
    {
     "data": {
      "text/html": [
       "<div>\n",
       "<style scoped>\n",
       "    .dataframe tbody tr th:only-of-type {\n",
       "        vertical-align: middle;\n",
       "    }\n",
       "\n",
       "    .dataframe tbody tr th {\n",
       "        vertical-align: top;\n",
       "    }\n",
       "\n",
       "    .dataframe thead th {\n",
       "        text-align: right;\n",
       "    }\n",
       "</style>\n",
       "<table border=\"1\" class=\"dataframe\">\n",
       "  <thead>\n",
       "    <tr style=\"text-align: right;\">\n",
       "      <th></th>\n",
       "      <th>x</th>\n",
       "      <th>y</th>\n",
       "    </tr>\n",
       "  </thead>\n",
       "  <tbody>\n",
       "    <tr>\n",
       "      <th>0</th>\n",
       "      <td>1.058969</td>\n",
       "      <td>95.497423</td>\n",
       "    </tr>\n",
       "    <tr>\n",
       "      <th>1</th>\n",
       "      <td>0.462060</td>\n",
       "      <td>41.668365</td>\n",
       "    </tr>\n",
       "    <tr>\n",
       "      <th>...</th>\n",
       "      <td>...</td>\n",
       "      <td>...</td>\n",
       "    </tr>\n",
       "    <tr>\n",
       "      <th>98</th>\n",
       "      <td>0.354020</td>\n",
       "      <td>31.925414</td>\n",
       "    </tr>\n",
       "    <tr>\n",
       "      <th>99</th>\n",
       "      <td>-0.469305</td>\n",
       "      <td>-42.321765</td>\n",
       "    </tr>\n",
       "  </tbody>\n",
       "</table>\n",
       "<p>100 rows × 2 columns</p>\n",
       "</div>"
      ],
      "text/plain": [
       "           x          y\n",
       "0   1.058969  95.497423\n",
       "1   0.462060  41.668365\n",
       "..       ...        ...\n",
       "98  0.354020  31.925414\n",
       "99 -0.469305 -42.321765\n",
       "\n",
       "[100 rows x 2 columns]"
      ]
     },
     "metadata": {},
     "output_type": "display_data"
    }
   ],
   "source": [
    "x, y = make_regression(n_features=1, random_state=1234)\n",
    "reg = pd.DataFrame(dict(x=x.ravel(), y=y))\n",
    "print('reg')\n",
    "display(reg)"
   ]
  },
  {
   "cell_type": "code",
   "execution_count": null,
   "metadata": {},
   "outputs": [],
   "source": []
  },
  {
   "cell_type": "markdown",
   "metadata": {
    "solution2": "hidden",
    "solution2_first": true
   },
   "source": [
    "解答例\n",
    "\n",
    "---"
   ]
  },
  {
   "cell_type": "code",
   "execution_count": 5,
   "metadata": {
    "collapsed": true,
    "jupyter": {
     "outputs_hidden": true,
     "source_hidden": true
    },
    "solution2": "hidden"
   },
   "outputs": [
    {
     "data": {
      "image/png": "[encoded data removed]",
      "text/plain": [
       "<Figure size 432x288 with 1 Axes>"
      ]
     },
     "metadata": {
      "needs_background": "light"
     },
     "output_type": "display_data"
    }
   ],
   "source": [
    "x = reg['x'].values.reshape((1, -1))\n",
    "y = reg['y'].values\n",
    "a = np.linspace(-500, 500, 20).reshape((-1, 1))\n",
    "e = ((y - a * x)**2).sum(axis=1)\n",
    "plt.plot(a, e)\n",
    "plt.xlabel('a')\n",
    "plt.show()"
   ]
  },
  {
   "cell_type": "markdown",
   "metadata": {},
   "source": [
    "---"
   ]
  },
  {
   "cell_type": "markdown",
   "metadata": {},
   "source": [
    "## 回帰係数の標準誤差\n",
    "---\n",
    "回帰直線はサンプリングされたデータを元に求めるので、サンプリングを繰り返すと毎回異なる回帰直線が得られる。つまり、回帰係数も何らかの確率分布に従う確率変数である。その分布の標準偏差 (の推定量) を回帰係数の標準誤差という。"
   ]
  },
  {
   "cell_type": "code",
   "execution_count": 6,
   "metadata": {
    "hide_input": true,
    "jupyter": {
     "source_hidden": true
    }
   },
   "outputs": [
    {
     "data": {
      "application/vnd.jupyter.widget-view+json": {
       "model_id": "3306d60bb9e144e38e4a95e0fdc8a935",
       "version_major": 2,
       "version_minor": 0
      },
      "text/plain": [
       "HBox(children=(Play(value=1, interval=1000, max=20, min=1), IntSlider(value=1, continuous_update=False, max=20…"
      ]
     },
     "metadata": {},
     "output_type": "display_data"
    },
    {
     "data": {
      "application/vnd.jupyter.widget-view+json": {
       "model_id": "28046234e31641df9062b9c0114dea2e",
       "version_major": 2,
       "version_minor": 0
      },
      "text/plain": [
       "Output()"
      ]
     },
     "metadata": {},
     "output_type": "display_data"
    }
   ],
   "source": [
    "from my_functions.simple_linear_regression_analysis import standard_error\n",
    "standard_error.show()"
   ]
  },
  {
   "cell_type": "markdown",
   "metadata": {},
   "source": [
    "## Pythonでの回帰直線の求め方\n",
    "---\n",
    "`sklearn.linear_model.LinearRegression`を用いる。"
   ]
  },
  {
   "cell_type": "code",
   "execution_count": 7,
   "metadata": {
    "hide_input": true,
    "jupyter": {
     "source_hidden": true
    }
   },
   "outputs": [
    {
     "name": "stdout",
     "output_type": "stream",
     "text": [
      "reg\n"
     ]
    },
    {
     "data": {
      "text/html": [
       "<div>\n",
       "<style scoped>\n",
       "    .dataframe tbody tr th:only-of-type {\n",
       "        vertical-align: middle;\n",
       "    }\n",
       "\n",
       "    .dataframe tbody tr th {\n",
       "        vertical-align: top;\n",
       "    }\n",
       "\n",
       "    .dataframe thead th {\n",
       "        text-align: right;\n",
       "    }\n",
       "</style>\n",
       "<table border=\"1\" class=\"dataframe\">\n",
       "  <thead>\n",
       "    <tr style=\"text-align: right;\">\n",
       "      <th></th>\n",
       "      <th>x</th>\n",
       "      <th>y</th>\n",
       "    </tr>\n",
       "  </thead>\n",
       "  <tbody>\n",
       "    <tr>\n",
       "      <th>0</th>\n",
       "      <td>1.058969</td>\n",
       "      <td>95.497423</td>\n",
       "    </tr>\n",
       "    <tr>\n",
       "      <th>1</th>\n",
       "      <td>0.462060</td>\n",
       "      <td>41.668365</td>\n",
       "    </tr>\n",
       "    <tr>\n",
       "      <th>...</th>\n",
       "      <td>...</td>\n",
       "      <td>...</td>\n",
       "    </tr>\n",
       "    <tr>\n",
       "      <th>98</th>\n",
       "      <td>0.354020</td>\n",
       "      <td>31.925414</td>\n",
       "    </tr>\n",
       "    <tr>\n",
       "      <th>99</th>\n",
       "      <td>-0.469305</td>\n",
       "      <td>-42.321765</td>\n",
       "    </tr>\n",
       "  </tbody>\n",
       "</table>\n",
       "<p>100 rows × 2 columns</p>\n",
       "</div>"
      ],
      "text/plain": [
       "           x          y\n",
       "0   1.058969  95.497423\n",
       "1   0.462060  41.668365\n",
       "..       ...        ...\n",
       "98  0.354020  31.925414\n",
       "99 -0.469305 -42.321765\n",
       "\n",
       "[100 rows x 2 columns]"
      ]
     },
     "metadata": {},
     "output_type": "display_data"
    }
   ],
   "source": [
    "print('reg')\n",
    "display(reg)"
   ]
  },
  {
   "cell_type": "code",
   "execution_count": 8,
   "metadata": {
    "collapsed": true,
    "jupyter": {
     "outputs_hidden": true
    }
   },
   "outputs": [
    {
     "name": "stdout",
     "output_type": "stream",
     "text": [
      "Help on class LinearRegression in module sklearn.linear_model._base:\n",
      "\n",
      "class LinearRegression(sklearn.base.MultiOutputMixin, sklearn.base.RegressorMixin, LinearModel)\n",
      " |  LinearRegression(*, fit_intercept=True, normalize=False, copy_X=True, n_jobs=None)\n",
      " |  \n",
      " |  Ordinary least squares Linear Regression.\n",
      " |  \n",
      " |  LinearRegression fits a linear model with coefficients w = (w1, ..., wp)\n",
      " |  to minimize the residual sum of squares between the observed targets in\n",
      " |  the dataset, and the targets predicted by the linear approximation.\n",
      " |  \n",
      " |  Parameters\n",
      " |  ----------\n",
      " |  fit_intercept : bool, default=True\n",
      " |      Whether to calculate the intercept for this model. If set\n",
      " |      to False, no intercept will be used in calculations\n",
      " |      (i.e. data is expected to be centered).\n",
      " |  \n",
      " |  normalize : bool, default=False\n",
      " |      This parameter is ignored when ``fit_intercept`` is set to False.\n",
      " |      If True, the regressors X will be normalized before regression by\n",
      " |      subtracting the mean and dividing by the l2-norm.\n",
      " |      If you wish to standardize, please use\n",
      " |      :class:`sklearn.preprocessing.StandardScaler` before calling ``fit`` on\n",
      " |      an estimator with ``normalize=False``.\n",
      " |  \n",
      " |  copy_X : bool, default=True\n",
      " |      If True, X will be copied; else, it may be overwritten.\n",
      " |  \n",
      " |  n_jobs : int, default=None\n",
      " |      The number of jobs to use for the computation. This will only provide\n",
      " |      speedup for n_targets > 1 and sufficient large problems.\n",
      " |      ``None`` means 1 unless in a :obj:`joblib.parallel_backend` context.\n",
      " |      ``-1`` means using all processors. See :term:`Glossary <n_jobs>`\n",
      " |      for more details.\n",
      " |  \n",
      " |  Attributes\n",
      " |  ----------\n",
      " |  coef_ : array of shape (n_features, ) or (n_targets, n_features)\n",
      " |      Estimated coefficients for the linear regression problem.\n",
      " |      If multiple targets are passed during the fit (y 2D), this\n",
      " |      is a 2D array of shape (n_targets, n_features), while if only\n",
      " |      one target is passed, this is a 1D array of length n_features.\n",
      " |  \n",
      " |  rank_ : int\n",
      " |      Rank of matrix `X`. Only available when `X` is dense.\n",
      " |  \n",
      " |  singular_ : array of shape (min(X, y),)\n",
      " |      Singular values of `X`. Only available when `X` is dense.\n",
      " |  \n",
      " |  intercept_ : float or array of shape (n_targets,)\n",
      " |      Independent term in the linear model. Set to 0.0 if\n",
      " |      `fit_intercept = False`.\n",
      " |  \n",
      " |  See Also\n",
      " |  --------\n",
      " |  sklearn.linear_model.Ridge : Ridge regression addresses some of the\n",
      " |      problems of Ordinary Least Squares by imposing a penalty on the\n",
      " |      size of the coefficients with l2 regularization.\n",
      " |  sklearn.linear_model.Lasso : The Lasso is a linear model that estimates\n",
      " |      sparse coefficients with l1 regularization.\n",
      " |  sklearn.linear_model.ElasticNet : Elastic-Net is a linear regression\n",
      " |      model trained with both l1 and l2 -norm regularization of the\n",
      " |      coefficients.\n",
      " |  \n",
      " |  Notes\n",
      " |  -----\n",
      " |  From the implementation point of view, this is just plain Ordinary\n",
      " |  Least Squares (scipy.linalg.lstsq) wrapped as a predictor object.\n",
      " |  \n",
      " |  Examples\n",
      " |  --------\n",
      " |  >>> import numpy as np\n",
      " |  >>> from sklearn.linear_model import LinearRegression\n",
      " |  >>> X = np.array([[1, 1], [1, 2], [2, 2], [2, 3]])\n",
      " |  >>> # y = 1 * x_0 + 2 * x_1 + 3\n",
      " |  >>> y = np.dot(X, np.array([1, 2])) + 3\n",
      " |  >>> reg = LinearRegression().fit(X, y)\n",
      " |  >>> reg.score(X, y)\n",
      " |  1.0\n",
      " |  >>> reg.coef_\n",
      " |  array([1., 2.])\n",
      " |  >>> reg.intercept_\n",
      " |  3.0000...\n",
      " |  >>> reg.predict(np.array([[3, 5]]))\n",
      " |  array([16.])\n",
      " |  \n",
      " |  Method resolution order:\n",
      " |      LinearRegression\n",
      " |      sklearn.base.MultiOutputMixin\n",
      " |      sklearn.base.RegressorMixin\n",
      " |      LinearModel\n",
      " |      sklearn.base.BaseEstimator\n",
      " |      builtins.object\n",
      " |  \n",
      " |  Methods defined here:\n",
      " |  \n",
      " |  __init__(self, *, fit_intercept=True, normalize=False, copy_X=True, n_jobs=None)\n",
      " |      Initialize self.  See help(type(self)) for accurate signature.\n",
      " |  \n",
      " |  fit(self, X, y, sample_weight=None)\n",
      " |      Fit linear model.\n",
      " |      \n",
      " |      Parameters\n",
      " |      ----------\n",
      " |      X : {array-like, sparse matrix} of shape (n_samples, n_features)\n",
      " |          Training data\n",
      " |      \n",
      " |      y : array-like of shape (n_samples,) or (n_samples, n_targets)\n",
      " |          Target values. Will be cast to X's dtype if necessary\n",
      " |      \n",
      " |      sample_weight : array-like of shape (n_samples,), default=None\n",
      " |          Individual weights for each sample\n",
      " |      \n",
      " |          .. versionadded:: 0.17\n",
      " |             parameter *sample_weight* support to LinearRegression.\n",
      " |      \n",
      " |      Returns\n",
      " |      -------\n",
      " |      self : returns an instance of self.\n",
      " |  \n",
      " |  ----------------------------------------------------------------------\n",
      " |  Data and other attributes defined here:\n",
      " |  \n",
      " |  __abstractmethods__ = frozenset()\n",
      " |  \n",
      " |  ----------------------------------------------------------------------\n",
      " |  Data descriptors inherited from sklearn.base.MultiOutputMixin:\n",
      " |  \n",
      " |  __dict__\n",
      " |      dictionary for instance variables (if defined)\n",
      " |  \n",
      " |  __weakref__\n",
      " |      list of weak references to the object (if defined)\n",
      " |  \n",
      " |  ----------------------------------------------------------------------\n",
      " |  Methods inherited from sklearn.base.RegressorMixin:\n",
      " |  \n",
      " |  score(self, X, y, sample_weight=None)\n",
      " |      Return the coefficient of determination R^2 of the prediction.\n",
      " |      \n",
      " |      The coefficient R^2 is defined as (1 - u/v), where u is the residual\n",
      " |      sum of squares ((y_true - y_pred) ** 2).sum() and v is the total\n",
      " |      sum of squares ((y_true - y_true.mean()) ** 2).sum().\n",
      " |      The best possible score is 1.0 and it can be negative (because the\n",
      " |      model can be arbitrarily worse). A constant model that always\n",
      " |      predicts the expected value of y, disregarding the input features,\n",
      " |      would get a R^2 score of 0.0.\n",
      " |      \n",
      " |      Parameters\n",
      " |      ----------\n",
      " |      X : array-like of shape (n_samples, n_features)\n",
      " |          Test samples. For some estimators this may be a\n",
      " |          precomputed kernel matrix or a list of generic objects instead,\n",
      " |          shape = (n_samples, n_samples_fitted),\n",
      " |          where n_samples_fitted is the number of\n",
      " |          samples used in the fitting for the estimator.\n",
      " |      \n",
      " |      y : array-like of shape (n_samples,) or (n_samples, n_outputs)\n",
      " |          True values for X.\n",
      " |      \n",
      " |      sample_weight : array-like of shape (n_samples,), default=None\n",
      " |          Sample weights.\n",
      " |      \n",
      " |      Returns\n",
      " |      -------\n",
      " |      score : float\n",
      " |          R^2 of self.predict(X) wrt. y.\n",
      " |      \n",
      " |      Notes\n",
      " |      -----\n",
      " |      The R2 score used when calling ``score`` on a regressor uses\n",
      " |      ``multioutput='uniform_average'`` from version 0.23 to keep consistent\n",
      " |      with default value of :func:`~sklearn.metrics.r2_score`.\n",
      " |      This influences the ``score`` method of all the multioutput\n",
      " |      regressors (except for\n",
      " |      :class:`~sklearn.multioutput.MultiOutputRegressor`).\n",
      " |  \n",
      " |  ----------------------------------------------------------------------\n",
      " |  Methods inherited from LinearModel:\n",
      " |  \n",
      " |  predict(self, X)\n",
      " |      Predict using the linear model.\n",
      " |      \n",
      " |      Parameters\n",
      " |      ----------\n",
      " |      X : array_like or sparse matrix, shape (n_samples, n_features)\n",
      " |          Samples.\n",
      " |      \n",
      " |      Returns\n",
      " |      -------\n",
      " |      C : array, shape (n_samples,)\n",
      " |          Returns predicted values.\n",
      " |  \n",
      " |  ----------------------------------------------------------------------\n",
      " |  Methods inherited from sklearn.base.BaseEstimator:\n",
      " |  \n",
      " |  __getstate__(self)\n",
      " |  \n",
      " |  __repr__(self, N_CHAR_MAX=700)\n",
      " |      Return repr(self).\n",
      " |  \n",
      " |  __setstate__(self, state)\n",
      " |  \n",
      " |  get_params(self, deep=True)\n",
      " |      Get parameters for this estimator.\n",
      " |      \n",
      " |      Parameters\n",
      " |      ----------\n",
      " |      deep : bool, default=True\n",
      " |          If True, will return the parameters for this estimator and\n",
      " |          contained subobjects that are estimators.\n",
      " |      \n",
      " |      Returns\n",
      " |      -------\n",
      " |      params : mapping of string to any\n",
      " |          Parameter names mapped to their values.\n",
      " |  \n",
      " |  set_params(self, **params)\n",
      " |      Set the parameters of this estimator.\n",
      " |      \n",
      " |      The method works on simple estimators as well as on nested objects\n",
      " |      (such as pipelines). The latter have parameters of the form\n",
      " |      ``<component>__<parameter>`` so that it's possible to update each\n",
      " |      component of a nested object.\n",
      " |      \n",
      " |      Parameters\n",
      " |      ----------\n",
      " |      **params : dict\n",
      " |          Estimator parameters.\n",
      " |      \n",
      " |      Returns\n",
      " |      -------\n",
      " |      self : object\n",
      " |          Estimator instance.\n",
      "\n"
     ]
    }
   ],
   "source": [
    "help(LinearRegression)"
   ]
  },
  {
   "cell_type": "code",
   "execution_count": 9,
   "metadata": {},
   "outputs": [
    {
     "name": "stdout",
     "output_type": "stream",
     "text": [
      "回帰係数 [90.17960514]\n",
      "切片 3.552713678800501e-15\n"
     ]
    }
   ],
   "source": [
    "# 最初にインスタンスを作成\n",
    "model = LinearRegression()\n",
    "# fitメソッドで回帰直線を求める\n",
    "# xはサイズが(サンプルサイズ × 変数の数)の行列でなければならない\n",
    "x = reg['x'].values.reshape((-1, 1))\n",
    "y = reg['y']\n",
    "model.fit(x, y)\n",
    "# 回帰係数はcoef_に格納\n",
    "print('回帰係数', model.coef_)\n",
    "# 切片はintercept_に格納\n",
    "print('切片', model.intercept_)"
   ]
  },
  {
   "cell_type": "markdown",
   "metadata": {},
   "source": [
    "練習問題\n",
    "\n",
    "---\n",
    "同一の母集団からサンプリングを行う関数`sampling`を用いて、 30 個のサンプルを取得して回帰直線を求める操作を 10,000 回繰り返し、得られた回帰係数から標準誤差を推定する。"
   ]
  },
  {
   "cell_type": "code",
   "execution_count": 10,
   "metadata": {
    "hide_input": true,
    "jupyter": {
     "source_hidden": true
    }
   },
   "outputs": [
    {
     "name": "stdout",
     "output_type": "stream",
     "text": [
      "samplingの使用例\n",
      "sampling(30)\n"
     ]
    },
    {
     "data": {
      "text/html": [
       "<div>\n",
       "<style scoped>\n",
       "    .dataframe tbody tr th:only-of-type {\n",
       "        vertical-align: middle;\n",
       "    }\n",
       "\n",
       "    .dataframe tbody tr th {\n",
       "        vertical-align: top;\n",
       "    }\n",
       "\n",
       "    .dataframe thead th {\n",
       "        text-align: right;\n",
       "    }\n",
       "</style>\n",
       "<table border=\"1\" class=\"dataframe\">\n",
       "  <thead>\n",
       "    <tr style=\"text-align: right;\">\n",
       "      <th></th>\n",
       "      <th>x</th>\n",
       "      <th>y</th>\n",
       "    </tr>\n",
       "  </thead>\n",
       "  <tbody>\n",
       "    <tr>\n",
       "      <th>0</th>\n",
       "      <td>0.471435</td>\n",
       "      <td>0.823518</td>\n",
       "    </tr>\n",
       "    <tr>\n",
       "      <th>1</th>\n",
       "      <td>-1.190976</td>\n",
       "      <td>-2.280720</td>\n",
       "    </tr>\n",
       "    <tr>\n",
       "      <th>...</th>\n",
       "      <td>...</td>\n",
       "      <td>...</td>\n",
       "    </tr>\n",
       "    <tr>\n",
       "      <th>28</th>\n",
       "      <td>-0.183109</td>\n",
       "      <td>-0.196496</td>\n",
       "    </tr>\n",
       "    <tr>\n",
       "      <th>29</th>\n",
       "      <td>1.058969</td>\n",
       "      <td>2.581636</td>\n",
       "    </tr>\n",
       "  </tbody>\n",
       "</table>\n",
       "<p>30 rows × 2 columns</p>\n",
       "</div>"
      ],
      "text/plain": [
       "           x         y\n",
       "0   0.471435  0.823518\n",
       "1  -1.190976 -2.280720\n",
       "..       ...       ...\n",
       "28 -0.183109 -0.196496\n",
       "29  1.058969  2.581636\n",
       "\n",
       "[30 rows x 2 columns]"
      ]
     },
     "metadata": {},
     "output_type": "display_data"
    }
   ],
   "source": [
    "def sampling(size):\n",
    "    x = np.random.normal(size=size)\n",
    "    y = 2 * x + np.random.normal(scale=0.3, size=size)\n",
    "    return pd.DataFrame(dict(x=x, y=y))\n",
    "\n",
    "\n",
    "print('samplingの使用例')\n",
    "print('sampling(30)')\n",
    "np.random.seed(1234)\n",
    "display(sampling(30))"
   ]
  },
  {
   "cell_type": "code",
   "execution_count": null,
   "metadata": {},
   "outputs": [],
   "source": []
  },
  {
   "cell_type": "markdown",
   "metadata": {
    "solution2": "hidden",
    "solution2_first": true
   },
   "source": [
    "解答例\n",
    "\n",
    "---"
   ]
  },
  {
   "cell_type": "code",
   "execution_count": 11,
   "metadata": {
    "collapsed": true,
    "jupyter": {
     "outputs_hidden": true,
     "source_hidden": true
    },
    "solution2": "hidden"
   },
   "outputs": [
    {
     "name": "stdout",
     "output_type": "stream",
     "text": [
      "標準誤差 : 0.058\n"
     ]
    }
   ],
   "source": [
    "coef = np.zeros(10000)\n",
    "for i in range(10000):\n",
    "    data = sampling(30)\n",
    "    model = LinearRegression().fit(data['x'].values.reshape((-1, 1)), data['y'])\n",
    "    coef[i] = model.coef_\n",
    "print(f'標準誤差 : {np.std(coef, ddof=1):.3f}')"
   ]
  },
  {
   "cell_type": "markdown",
   "metadata": {},
   "source": [
    "---"
   ]
  },
  {
   "cell_type": "markdown",
   "metadata": {},
   "source": [
    "## 推薦図書\n",
    "---\n",
    "- [Rによるやさしい統計学](https://www.amazon.co.jp/R%E3%81%AB%E3%82%88%E3%82%8B%E3%82%84%E3%81%95%E3%81%97%E3%81%84%E7%B5%B1%E8%A8%88%E5%AD%A6-%E5%B1%B1%E7%94%B0-%E5%89%9B%E5%8F%B2/dp/4274067106/)\n",
    "- [心理統計学の基礎―統合的理解のために](https://www.amazon.co.jp/%E5%BF%83%E7%90%86%E7%B5%B1%E8%A8%88%E5%AD%A6%E3%81%AE%E5%9F%BA%E7%A4%8E%E2%80%95%E7%B5%B1%E5%90%88%E7%9A%84%E7%90%86%E8%A7%A3%E3%81%AE%E3%81%9F%E3%82%81%E3%81%AB-%E6%9C%89%E6%96%90%E9%96%A3%E3%82%A2%E3%83%AB%E3%83%9E-%E5%8D%97%E9%A2%A8%E5%8E%9F-%E6%9C%9D%E5%92%8C/dp/4641121605/)"
   ]
  }
 ],
 "metadata": {
  "kernelspec": {
   "display_name": "Python 3",
   "language": "python",
   "name": "python3"
  },
  "language_info": {
   "codemirror_mode": {
    "name": "ipython",
    "version": 3
   },
   "file_extension": ".py",
   "mimetype": "text/x-python",
   "name": "python",
   "nbconvert_exporter": "python",
   "pygments_lexer": "ipython3",
   "version": "3.8.3"
  },
  "toc": {
   "base_numbering": 1,
   "nav_menu": {},
   "number_sections": true,
   "sideBar": true,
   "skip_h1_title": true,
   "title_cell": "Table of Contents",
   "title_sidebar": "Contents",
   "toc_cell": false,
   "toc_position": {},
   "toc_section_display": true,
   "toc_window_display": true
  },
  "varInspector": {
   "cols": {
    "lenName": 16,
    "lenType": 16,
    "lenVar": 40
   },
   "kernels_config": {
    "python": {
     "delete_cmd_postfix": "",
     "delete_cmd_prefix": "del ",
     "library": "var_list.py",
     "varRefreshCmd": "print(var_dic_list())"
    },
    "r": {
     "delete_cmd_postfix": ") ",
     "delete_cmd_prefix": "rm(",
     "library": "var_list.r",
     "varRefreshCmd": "cat(var_dic_list()) "
    }
   },
   "types_to_exclude": [
    "module",
    "function",
    "builtin_function_or_method",
    "instance",
    "_Feature"
   ],
   "window_display": false
  },
  "widgets": {
   "application/vnd.jupyter.widget-state+json": {
    "state": {
     "060f18501bed433d8609cdbb61a959f5": {
      "model_module": "@jupyter-widgets/base",
      "model_module_version": "1.2.0",
      "model_name": "LayoutModel",
      "state": {}
     },
     "0b6f809351ca44748a8089b1ffffc3ed": {
      "model_module": "@jupyter-widgets/controls",
      "model_module_version": "1.5.0",
      "model_name": "DescriptionStyleModel",
      "state": {
       "description_width": ""
      }
     },
     "0d53bc7626a44162927a8ab2a377f45d": {
      "model_module": "@jupyter-widgets/controls",
      "model_module_version": "1.5.0",
      "model_name": "IntSliderModel",
      "state": {
       "continuous_update": false,
       "layout": "IPY_MODEL_d665d95320174e3da415ae65482de4b2",
       "max": 20,
       "min": 1,
       "style": "IPY_MODEL_82ed64390b2841ed99e0d5fb9bad2053",
       "value": 1
      }
     },
     "28046234e31641df9062b9c0114dea2e": {
      "model_module": "@jupyter-widgets/output",
      "model_module_version": "1.0.0",
      "model_name": "OutputModel",
      "state": {
       "layout": "IPY_MODEL_f35ef1e503cb401dbdbfddcce8adf8d8",
       "outputs": [
        {
         "data": {
          "image/png": "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\n",
          "text/plain": "<Figure size 288x288 with 1 Axes>"
         },
         "metadata": {},
         "output_type": "display_data"
        }
       ]
      }
     },
     "3306d60bb9e144e38e4a95e0fdc8a935": {
      "model_module": "@jupyter-widgets/controls",
      "model_module_version": "1.5.0",
      "model_name": "HBoxModel",
      "state": {
       "children": [
        "IPY_MODEL_a3cb9338af3e4cb79e969afa72fd1429",
        "IPY_MODEL_0d53bc7626a44162927a8ab2a377f45d"
       ],
       "layout": "IPY_MODEL_060f18501bed433d8609cdbb61a959f5"
      }
     },
     "82ed64390b2841ed99e0d5fb9bad2053": {
      "model_module": "@jupyter-widgets/controls",
      "model_module_version": "1.5.0",
      "model_name": "SliderStyleModel",
      "state": {
       "description_width": ""
      }
     },
     "90f6ca721f8949e38ed97484898c4e43": {
      "model_module": "@jupyter-widgets/base",
      "model_module_version": "1.2.0",
      "model_name": "LayoutModel",
      "state": {}
     },
     "a3cb9338af3e4cb79e969afa72fd1429": {
      "model_module": "@jupyter-widgets/controls",
      "model_module_version": "1.5.0",
      "model_name": "PlayModel",
      "state": {
       "interval": 1000,
       "layout": "IPY_MODEL_90f6ca721f8949e38ed97484898c4e43",
       "max": 20,
       "min": 1,
       "style": "IPY_MODEL_0b6f809351ca44748a8089b1ffffc3ed",
       "value": 1
      }
     },
     "cca9f223aa944a37bd87ef918c21ca49": {
      "model_module": "@jupyter-widgets/controls",
      "model_module_version": "1.5.0",
      "model_name": "LinkModel",
      "state": {
       "source": [
        "IPY_MODEL_a3cb9338af3e4cb79e969afa72fd1429",
        "value"
       ],
       "target": [
        "IPY_MODEL_0d53bc7626a44162927a8ab2a377f45d",
        "value"
       ]
      }
     },
     "d665d95320174e3da415ae65482de4b2": {
      "model_module": "@jupyter-widgets/base",
      "model_module_version": "1.2.0",
      "model_name": "LayoutModel",
      "state": {}
     },
     "f35ef1e503cb401dbdbfddcce8adf8d8": {
      "model_module": "@jupyter-widgets/base",
      "model_module_version": "1.2.0",
      "model_name": "LayoutModel",
      "state": {}
     }
    },
    "version_major": 2,
    "version_minor": 0
   }
  }
 },
 "nbformat": 4,
 "nbformat_minor": 4
}
