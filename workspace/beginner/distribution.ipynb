{
 "cells": [
  {
   "cell_type": "code",
   "execution_count": 1,
   "metadata": {},
   "outputs": [],
   "source": [
    "import numpy as np\n",
    "from scipy import stats\n",
    "import matplotlib.pyplot as plt\n",
    "%matplotlib inline"
   ]
  },
  {
   "cell_type": "markdown",
   "metadata": {},
   "source": [
    "## ケーススタディ\n",
    "---\n",
    "データセンターの管理者として、以下の問題を考える。\n",
    "\n",
    "- サーバーや HDD などの機材が壊れた場合にはすぐに入れ替えたいので、一定数の予備を用意しておきたい\n",
    "- ただし、予備を過剰に持つのは避けたい\n",
    "- **何が**わかれば購入すべき機材の数を意思決定できそうか考える"
   ]
  },
  {
   "cell_type": "markdown",
   "metadata": {},
   "source": [
    "## 数学的確率と統計的確率"
   ]
  },
  {
   "cell_type": "markdown",
   "metadata": {},
   "source": [
    "### 数学的確率 (場合の数)\n",
    "---\n",
    "サイコロを振ったときに起こりうる全ての出来事は以下の通り。全ての目の場合の数 (6通り)を分母に、それぞれの目が出る場合の数 (1通り) を分子に取ると、それぞれの目の出る確率になる。 $\n",
    "\\left({\\displaystyle\n",
    "    1の確率\\ =\\ 2の確率\\ =\\ 3の確率\\ =\\ 4の確率\\ =\\ 5の確率\\ =\\ 6の確率\\ =\\ \\frac\n",
    "        {1}\n",
    "        {6}\n",
    "}\\right)\n",
    "$\n",
    "\n",
    "<table class=\"border\">\n",
    "    <tr>\n",
    "        <td>1</td>\n",
    "        <td>2</td>\n",
    "        <td>3</td>\n",
    "    </tr>\n",
    "    <tr>\n",
    "        <td>4</td>\n",
    "        <td>5</td>\n",
    "        <td>6</td>\n",
    "    </tr>\n",
    "</table>\n",
    "\n",
    "\n",
    "コイン投げで表が裏の2倍出やすいコインを使ったとすると、場合の数は以下の通り。\n",
    "\n",
    "<table class=\"border\">\n",
    "    <tr>\n",
    "        <td>表</td>\n",
    "        <td>表</td>\n",
    "        <td>裏</td>\n",
    "    </tr>\n",
    "</table>\n",
    "\n",
    "\n",
    "表全体の面積を1とすると、表に占める面積がそれぞれの出来事の起こる確率 ${\\displaystyle \\left(表=\\frac{2}{3},\\ 裏=\\frac{1}{3}\\right)}$ と考えられる。"
   ]
  },
  {
   "cell_type": "code",
   "execution_count": 2,
   "metadata": {
    "hide_input": true
   },
   "outputs": [
    {
     "data": {
      "image/png": "[encoded data removed]",
      "text/plain": [
       "<Figure size 288x288 with 1 Axes>"
      ]
     },
     "metadata": {
      "needs_background": "light"
     },
     "output_type": "display_data"
    }
   ],
   "source": [
    "from helpers.distribution import mathematical_probability\n",
    "mathematical_probability.show()"
   ]
  },
  {
   "cell_type": "markdown",
   "metadata": {},
   "source": [
    "### 統計的確率 (観測割合)\n",
    "---\n",
    "実際に試行を繰り返して得られた結果の割合から推測される確率。"
   ]
  },
  {
   "cell_type": "markdown",
   "metadata": {},
   "source": [
    "###### 練習問題\n",
    "\n",
    "`numpy.random.randint`を用いて、サイコロを10回振ったデータ`dice`(配列) をシミュレーションし、統計的確率のグラフを表示する。"
   ]
  },
  {
   "cell_type": "code",
   "execution_count": 3,
   "metadata": {},
   "outputs": [],
   "source": [
    "np.random.randint??"
   ]
  },
  {
   "cell_type": "code",
   "execution_count": null,
   "metadata": {
    "solution2": "hidden",
    "solution2_first": true
   },
   "outputs": [],
   "source": []
  },
  {
   "cell_type": "code",
   "execution_count": 4,
   "metadata": {
    "solution2": "hidden"
   },
   "outputs": [
    {
     "data": {
      "image/png": "[encoded data removed]",
      "text/plain": [
       "<Figure size 432x288 with 1 Axes>"
      ]
     },
     "metadata": {
      "needs_background": "light"
     },
     "output_type": "display_data"
    }
   ],
   "source": [
    "np.random.seed(1234)\n",
    "dice = np.random.randint(1, 7, 10)\n",
    "prob = dice / dice.size\n",
    "plt.vlines(np.arange(1, 7), 0, prob)\n",
    "plt.ylim((0, prob.max() * 1.1))\n",
    "plt.show()"
   ]
  },
  {
   "cell_type": "markdown",
   "metadata": {},
   "source": [
    "### 数学的確率と統計的確率の関係"
   ]
  },
  {
   "cell_type": "markdown",
   "metadata": {},
   "source": [
    "#### 大数の法則 (law of large numbers)\n",
    "---\n",
    "試行回数を増やすにつれ、統計的確率はある値 (期待値 = 数学的確率) に収束していく。これを大数の法則と呼ぶ。"
   ]
  },
  {
   "cell_type": "markdown",
   "metadata": {},
   "source": [
    "###### 練習問題\n",
    "\n",
    "表裏が同じ確率で出るコインを1回・2回…1,000回投げ、それぞれで表が出た回数の平均を表すデータ`coin`(配列) を作成し、回数が増えていくにつれて確率 (観測された表の割合) がどのように変化していったかを表す折れ線グラフを表示する。"
   ]
  },
  {
   "cell_type": "code",
   "execution_count": null,
   "metadata": {
    "solution2": "hidden",
    "solution2_first": true
   },
   "outputs": [],
   "source": []
  },
  {
   "cell_type": "code",
   "execution_count": 5,
   "metadata": {
    "hide_input": true,
    "solution2": "hidden"
   },
   "outputs": [
    {
     "data": {
      "image/png": "[encoded data removed]",
      "text/plain": [
       "<Figure size 432x288 with 1 Axes>"
      ]
     },
     "metadata": {
      "needs_background": "light"
     },
     "output_type": "display_data"
    }
   ],
   "source": [
    "np.random.seed(1234)\n",
    "size = int(1e4)\n",
    "data = np.random.randint(low=0, high=2, size=size)\n",
    "coin = [data[:i + 1].mean() for i in range(size)]\n",
    "plt.plot(np.arange(size), coin)\n",
    "plt.axhline(0.5, color='gray', alpha=0.3)\n",
    "plt.show()"
   ]
  },
  {
   "cell_type": "markdown",
   "metadata": {},
   "source": [
    "#### 参考"
   ]
  },
  {
   "cell_type": "markdown",
   "metadata": {},
   "source": [
    "##### モンティ・ホール問題"
   ]
  },
  {
   "cell_type": "markdown",
   "metadata": {
    "solution2": "hidden",
    "solution2_first": true
   },
   "source": [
    "###### 練習問題\n",
    "\n",
    "テレビ番組であるゲームを行う。そのゲームとは、3つの扉のうち1つが当たりで、参加者は扉1つを選びその扉が当たりなら豪華景品をもらえるというもの。ただし、参加者が扉を選んだ後に司会者が外れの扉 (参加者が選んだものは除く) を1つ開け、参加者は最初に選んだ扉のままでいるか残った扉に乗り換えるかを選択できる。  \n",
    "このとき、残った扉に乗り換えた場合の当たりの確率を予想し、場合の数を全て書き出して予想が当たっているかどうか確認する。"
   ]
  },
  {
   "cell_type": "markdown",
   "metadata": {
    "solution2": "hidden"
   },
   "source": [
    "<table class=\"border background-default text-center\">\n",
    "    <tr class=\"background-dark\">\n",
    "        <th>正解</th>\n",
    "        <th>最初の選択</th>\n",
    "        <th>開ける扉</th>\n",
    "        <th>最終選択</th>\n",
    "        <th>結果</th>\n",
    "        <th>場合の数</th>\n",
    "    </tr>\n",
    "    <tr>\n",
    "        <td rowspan=\"12\">1</td>\n",
    "        <td rowspan=\"4\">1</td>\n",
    "        <td rowspan=\"2\">2</td>\n",
    "        <td>そのまま (1)</td>\n",
    "        <td>あたり</td>\n",
    "        <td>　</td>\n",
    "    </tr>\n",
    "    <tr class=\"background-lightblue\">\n",
    "        <td>乗り換え (3)</td>\n",
    "        <td>はずれ</td>\n",
    "        <td>　</td>\n",
    "    </tr>\n",
    "    <tr>\n",
    "        <td rowspan=\"2\">3</td>\n",
    "        <td>そのまま (1)</td>\n",
    "        <td>あたり</td>\n",
    "        <td>　</td>\n",
    "    </tr>\n",
    "    <tr class=\"background-lightblue\">\n",
    "        <td>乗り換え (2)</td>\n",
    "        <td>はずれ</td>\n",
    "        <td>　</td>\n",
    "    </tr>\n",
    "    <tr>\n",
    "        <td rowspan=\"4\">2</td>\n",
    "        <td rowspan=\"4\">3</td>\n",
    "        <td rowspan=\"2\">そのまま (2)</td>\n",
    "        <td rowspan=\"2\">はずれ</td>\n",
    "        <td>　</td>\n",
    "    </tr>\n",
    "    <tr>\n",
    "        <td>　</td>\n",
    "    </tr>\n",
    "    <tr class=\"background-lightblue\">\n",
    "        <td rowspan=\"2\">乗り換え (1)</td>\n",
    "        <td rowspan=\"2\">あたり</td>\n",
    "        <td>　</td>\n",
    "    </tr>\n",
    "    <tr class=\"background-lightblue\"><td>　</td></tr>\n",
    "    <tr>\n",
    "        <td rowspan=\"4\">3</td>\n",
    "        <td rowspan=\"4\">2</td>\n",
    "        <td rowspan=\"2\">そのまま (3)</td>\n",
    "        <td rowspan=\"2\">はずれ</td>\n",
    "        <td>　</td>\n",
    "    </tr>\n",
    "    <tr>\n",
    "        <td>　</td>\n",
    "    </tr>\n",
    "    <tr class=\"background-lightblue\">\n",
    "        <td rowspan=\"2\">乗り換え (1)</td>\n",
    "        <td rowspan=\"2\">あたり</td>\n",
    "        <td>　</td>\n",
    "    </tr>\n",
    "    <tr class=\"background-lightblue\">\n",
    "        <td>　</td>\n",
    "    </tr>\n",
    "    <tr>\n",
    "        <td rowspan=\"12\">2</td>\n",
    "        <td rowspan=\"4\">1</td>\n",
    "        <td rowspan=\"4\">3</td>\n",
    "        <td rowspan=\"2\">そのまま (1)</td>\n",
    "        <td rowspan=\"2\">はずれ</td>\n",
    "        <td>　</td>\n",
    "    </tr>\n",
    "    <tr>\n",
    "        <td>　</td>\n",
    "    </tr>\n",
    "    <tr class=\"background-lightblue\">\n",
    "        <td rowspan=\"2\">乗り換え (2)</td>\n",
    "        <td rowspan=\"2\">あたり</td>\n",
    "        <td>　</td>\n",
    "    </tr>\n",
    "    <tr class=\"background-lightblue\">\n",
    "        <td>　</td>\n",
    "    </tr>\n",
    "    <tr>\n",
    "        <td rowspan=\"4\">2</td>\n",
    "        <td rowspan=\"2\">1</td>\n",
    "        <td>そのまま (2)</td>\n",
    "        <td>あたり</td>\n",
    "        <td>　</td>\n",
    "    </tr>\n",
    "    <tr class=\"background-lightblue\">\n",
    "        <td>乗り換え (3)</td>\n",
    "        <td>はずれ</td>\n",
    "        <td>　</td>\n",
    "    </tr>\n",
    "    <tr>\n",
    "        <td rowspan=\"2\">3</td>\n",
    "        <td>そのまま (2)</td>\n",
    "        <td>あたり</td>\n",
    "        <td>　</td>\n",
    "    </tr>\n",
    "    <tr class=\"background-lightblue\">\n",
    "        <td>乗り換え (1)</td>\n",
    "        <td>はずれ</td>\n",
    "        <td>　</td>\n",
    "    </tr>\n",
    "    <tr>\n",
    "        <td rowspan=\"4\">3</td>\n",
    "        <td rowspan=\"4\">1</td>\n",
    "        <td rowspan=\"2\">そのまま (3)</td>\n",
    "        <td rowspan=\"2\">はずれ</td>\n",
    "        <td>　</td>\n",
    "    </tr>\n",
    "    <tr>\n",
    "        <td>　</td>\n",
    "    </tr>\n",
    "    <tr class=\"background-lightblue\">\n",
    "        <td rowspan=\"2\">乗り換え (2)</td>\n",
    "        <td rowspan=\"2\">あたり</td>\n",
    "        <td>　</td>\n",
    "    </tr>\n",
    "    <tr class=\"background-lightblue\">\n",
    "        <td>　</td>\n",
    "    </tr>\n",
    "    <tr>\n",
    "        <td rowspan=\"12\">3</td>\n",
    "        <td rowspan=\"4\">1</td>\n",
    "        <td rowspan=\"4\">2</td>\n",
    "        <td rowspan=\"2\">そのまま (1)</td>\n",
    "        <td rowspan=\"2\">はずれ</td>\n",
    "        <td>　</td>\n",
    "    </tr>\n",
    "    <tr>\n",
    "        <td>　</td>\n",
    "    </tr>\n",
    "    <tr class=\"background-lightblue\">\n",
    "        <td rowspan=\"2\">乗り換え (3)</td>\n",
    "        <td rowspan=\"2\">あたり</td>\n",
    "        <td>　</td>\n",
    "    </tr>\n",
    "    <tr class=\"background-lightblue\">\n",
    "        <td>　</td>\n",
    "    </tr>\n",
    "    <tr>\n",
    "        <td rowspan=\"4\">2</td>\n",
    "        <td rowspan=\"4\">1</td>\n",
    "        <td rowspan=\"2\">そのまま (2)</td>\n",
    "        <td rowspan=\"2\">はずれ</td>\n",
    "        <td>　</td>\n",
    "    </tr>\n",
    "    <tr>\n",
    "        <td>　</td>\n",
    "    </tr>\n",
    "    <tr class=\"background-lightblue\">\n",
    "        <td rowspan=\"2\">乗り換え (3)</td>\n",
    "        <td rowspan=\"2\">あたり</td>\n",
    "        <td>　</td>\n",
    "    </tr>\n",
    "    <tr class=\"background-lightblue\">\n",
    "        <td>　</td>\n",
    "    </tr>\n",
    "    <tr>\n",
    "        <td rowspan=\"4\">3</td>\n",
    "        <td rowspan=\"2\">1</td>\n",
    "        <td>そのまま (3)</td>\n",
    "        <td>あたり</td>\n",
    "        <td>　</td>\n",
    "    </tr>\n",
    "    <tr class=\"background-lightblue\">\n",
    "        <td>乗り換え (2)</td>\n",
    "        <td>はずれ</td>\n",
    "        <td>　</td>\n",
    "    </tr>\n",
    "    <tr>\n",
    "        <td rowspan=\"2\">2</td>\n",
    "        <td>そのまま (3)</td>\n",
    "        <td>あたり</td>\n",
    "        <td>　</td>\n",
    "    </tr>\n",
    "    <tr class=\"background-lightblue\">\n",
    "        <td>乗り換え (1)</td>\n",
    "        <td>はずれ</td>\n",
    "        <td>　</td>\n",
    "    </tr>\n",
    "</table>\n",
    "\n",
    "乗り換えた場合に当たる確率 $\\displaystyle \\frac{12}{18} =\\frac{2}{3}$"
   ]
  },
  {
   "cell_type": "markdown",
   "metadata": {},
   "source": [
    "###### 練習問題\n",
    "\n",
    "上のゲームをプログラムで 10,000 回シミュレーションして、確率を表示する。"
   ]
  },
  {
   "cell_type": "code",
   "execution_count": null,
   "metadata": {
    "solution2": "hidden",
    "solution2_first": true
   },
   "outputs": [],
   "source": []
  },
  {
   "cell_type": "code",
   "execution_count": 6,
   "metadata": {
    "solution2": "hidden"
   },
   "outputs": [
    {
     "name": "stdout",
     "output_type": "stream",
     "text": [
      "確率 : 0.66\n"
     ]
    }
   ],
   "source": [
    "total = 10000\n",
    "success = 0\n",
    "doors = np.arange(1, 4)\n",
    "np.random.seed(1234)\n",
    "for _ in range(total):\n",
    "    answer = np.random.randint(1, 4)\n",
    "    choice = np.random.randint(1, 4)\n",
    "    if answer != choice:\n",
    "        success += 1\n",
    "print(f'確率 : {success/total:.2f}')"
   ]
  },
  {
   "cell_type": "markdown",
   "metadata": {},
   "source": [
    "## 確率分布\n",
    "---\n",
    "一定の値を取りうる変数 $X$ があり、 $X$ のそれぞれの値に対応する確率との関係を確率分布という。グラフでは横軸に $X$ の取りうる値を並べ、それに対応する確率を表すものになる。"
   ]
  },
  {
   "cell_type": "code",
   "execution_count": 7,
   "metadata": {
    "hide_input": true
   },
   "outputs": [
    {
     "data": {
      "image/png": "[encoded data removed]",
      "text/plain": [
       "<Figure size 288x288 with 1 Axes>"
      ]
     },
     "metadata": {
      "needs_background": "light"
     },
     "output_type": "display_data"
    }
   ],
   "source": [
    "mathematical_probability.show()"
   ]
  },
  {
   "cell_type": "markdown",
   "metadata": {},
   "source": [
    "### 離散型の確率分布\n",
    "---\n",
    "変数 $X$ の取りうる値が離散値 (とびとびの値) の場合、その確率分布は離散型の確率分布という。\n",
    "\n",
    "以下では実際の現象にそのまま適用できるものを主に扱い、統計量などとともに出てくる特殊な分布はその都度扱う。"
   ]
  },
  {
   "cell_type": "markdown",
   "metadata": {},
   "source": [
    "###### 練習問題\n",
    "\n",
    "サイコロを 10,000 回振ったデータ`dice10000`をシミュレーションし、確率分布をグラフで表現する。"
   ]
  },
  {
   "cell_type": "code",
   "execution_count": null,
   "metadata": {
    "solution2": "hidden",
    "solution2_first": true
   },
   "outputs": [],
   "source": []
  },
  {
   "cell_type": "code",
   "execution_count": 8,
   "metadata": {
    "solution2": "hidden"
   },
   "outputs": [
    {
     "data": {
      "image/png": "[encoded data removed]",
      "text/plain": [
       "<Figure size 432x288 with 1 Axes>"
      ]
     },
     "metadata": {
      "needs_background": "light"
     },
     "output_type": "display_data"
    }
   ],
   "source": [
    "np.random.seed(1234)\n",
    "size = int(1e4)\n",
    "events = np.arange(1, 7)\n",
    "dice10000 = np.random.randint(events[0], events[-1] + 1, size)\n",
    "probs = [np.sum(dice10000 == i) / size for i in events]\n",
    "plt.vlines(events, 0, probs)\n",
    "plt.ylim((0, max(probs) * 1.1))\n",
    "plt.show()"
   ]
  },
  {
   "cell_type": "markdown",
   "metadata": {},
   "source": [
    "離散型の確率分布では、縦軸に取りうる値に対応する割合をとり、その長さで確率を表す。"
   ]
  },
  {
   "cell_type": "markdown",
   "metadata": {},
   "source": [
    "#### 離散一様分布 (discrete uniform distribution)\n",
    "---\n",
    "> サイコロのように取りうる値のそれぞれに同じ確率が割り当てられている確率分布を離散一様分布という。"
   ]
  },
  {
   "cell_type": "code",
   "execution_count": 9,
   "metadata": {
    "hide_input": true
   },
   "outputs": [
    {
     "data": {
      "application/vnd.jupyter.widget-view+json": {
       "model_id": "35af20463b0c48b3aafb6eb926f7ef68",
       "version_major": 2,
       "version_minor": 0
      },
      "text/plain": [
       "interactive(children=(IntRangeSlider(value=(1, 6), continuous_update=False, description='$事象の範囲$：', max=10, mi…"
      ]
     },
     "metadata": {},
     "output_type": "display_data"
    }
   ],
   "source": [
    "from helpers.distribution import discrete_uniform\n",
    "discrete_uniform.show()"
   ]
  },
  {
   "cell_type": "markdown",
   "metadata": {},
   "source": [
    "#### ベルヌーイ分布 (bernoulli distribution)"
   ]
  },
  {
   "cell_type": "markdown",
   "metadata": {},
   "source": [
    "###### 練習問題\n",
    "\n",
    "表が $60\\%$ の確率で出るコインで 1,000 回コイントスを行った結果をシミュレーションし、確率分布をグラフで表現する。"
   ]
  },
  {
   "cell_type": "code",
   "execution_count": null,
   "metadata": {
    "solution2": "hidden",
    "solution2_first": true
   },
   "outputs": [],
   "source": []
  },
  {
   "cell_type": "code",
   "execution_count": 10,
   "metadata": {
    "solution2": "hidden"
   },
   "outputs": [
    {
     "data": {
      "image/png": "[encoded data removed]",
      "text/plain": [
       "<Figure size 432x288 with 1 Axes>"
      ]
     },
     "metadata": {
      "needs_background": "light"
     },
     "output_type": "display_data"
    }
   ],
   "source": [
    "np.random.seed(1234)\n",
    "events = ['裏', '表']\n",
    "size = 1000\n",
    "p = 0.6\n",
    "data = np.random.choice(events, size, p=[1 - p, p])\n",
    "probs = [np.sum(data == e) / size for e in events]\n",
    "plt.vlines(events, 0, prob)\n",
    "plt.xticks(events)\n",
    "plt.ylim((0, max(probs) * 1.1))\n",
    "plt.show()"
   ]
  },
  {
   "cell_type": "markdown",
   "metadata": {},
   "source": [
    "> コイントスのように成功 (1) と失敗 (0) の二者択一 (ベルヌーイ試行) の結果の確率分布をベルヌーイ分布という。"
   ]
  },
  {
   "cell_type": "code",
   "execution_count": 11,
   "metadata": {
    "hide_input": true
   },
   "outputs": [
    {
     "data": {
      "application/vnd.jupyter.widget-view+json": {
       "model_id": "ad8d1daced454e7c9d35329c402e5442",
       "version_major": 2,
       "version_minor": 0
      },
      "text/plain": [
       "interactive(children=(FloatSlider(value=0.5, continuous_update=False, description='成功確率：', max=1.0, readout_fo…"
      ]
     },
     "metadata": {},
     "output_type": "display_data"
    }
   ],
   "source": [
    "from helpers.distribution import bernoulli\n",
    "bernoulli.show()"
   ]
  },
  {
   "cell_type": "markdown",
   "metadata": {},
   "source": [
    "#### 二項分布 (binomial distribution)"
   ]
  },
  {
   "cell_type": "markdown",
   "metadata": {},
   "source": [
    "###### 練習問題\n",
    "\n",
    "偏りのないコインでコイントスを 10 回中の成功数を記録する。これを 10,000 回繰り返した結果をシミュレーションし、確率分布をグラフで表現する。 (10 回投げて記録する×10,000 回 = 合計 100,000 回投げる)"
   ]
  },
  {
   "cell_type": "code",
   "execution_count": null,
   "metadata": {
    "solution2": "hidden",
    "solution2_first": true
   },
   "outputs": [],
   "source": []
  },
  {
   "cell_type": "code",
   "execution_count": 12,
   "metadata": {
    "hide_input": false,
    "solution2": "hidden"
   },
   "outputs": [
    {
     "data": {
      "image/png": "[encoded data removed]",
      "text/plain": [
       "<Figure size 432x288 with 1 Axes>"
      ]
     },
     "metadata": {
      "needs_background": "light"
     },
     "output_type": "display_data"
    }
   ],
   "source": [
    "np.random.seed(1234)\n",
    "reputation = 10\n",
    "sample = int(1e4)\n",
    "events = np.arange(0, 11)\n",
    "data = np.random.randint(0, 2, (sample, reputation)).sum(axis=1)\n",
    "probs = [np.sum(data == e) / sample for e in events]\n",
    "plt.vlines(events, 0, probs)\n",
    "plt.ylim((0, max(probs) * 1.1))\n",
    "plt.show()"
   ]
  },
  {
   "cell_type": "markdown",
   "metadata": {},
   "source": [
    "> コイントスのようなベルヌーイ試行を $n$ 回行ったときの成功数の確率分布を二項分布という。"
   ]
  },
  {
   "cell_type": "code",
   "execution_count": 13,
   "metadata": {
    "hide_input": true
   },
   "outputs": [
    {
     "data": {
      "application/vnd.jupyter.widget-view+json": {
       "model_id": "58f9004e253742d489e627aae08f83e7",
       "version_major": 2,
       "version_minor": 0
      },
      "text/plain": [
       "interactive(children=(IntSlider(value=3, continuous_update=False, description='回数：', max=10, min=1), FloatSlid…"
      ]
     },
     "metadata": {},
     "output_type": "display_data"
    }
   ],
   "source": [
    "from helpers.distribution import binomial\n",
    "binomial.show()"
   ]
  },
  {
   "cell_type": "markdown",
   "metadata": {},
   "source": [
    "#### ポアソン分布 (poisson distribution)\n",
    "---\n",
    "> 起きる確率が稀な事象を表す確率分布をポアソン分布という。東京都内の1日あたり交通事故死者数など、 $n$ が大きく $p$ が小さい (期待値 $\\mu =np$ が小さい) ときの二項分布の近似。 (二項分布は $n$ が大きいと $p^{x}( 1-p)^{n-x}$ を求めないといけない都合上計算が大変で、近似できると便利なため)"
   ]
  },
  {
   "cell_type": "code",
   "execution_count": 14,
   "metadata": {
    "hide_input": true
   },
   "outputs": [
    {
     "data": {
      "application/vnd.jupyter.widget-view+json": {
       "model_id": "ae9e731fe23f4f16b06ced6553c3a562",
       "version_major": 2,
       "version_minor": 0
      },
      "text/plain": [
       "interactive(children=(FloatSlider(value=1.0, continuous_update=False, description='期待値 (平均) $( p\\\\times n)$：',…"
      ]
     },
     "metadata": {},
     "output_type": "display_data"
    }
   ],
   "source": [
    "from helpers.distribution import poisson\n",
    "poisson.show()"
   ]
  },
  {
   "cell_type": "markdown",
   "metadata": {},
   "source": [
    "#### *幾何分布 (geometric distribution)*"
   ]
  },
  {
   "cell_type": "markdown",
   "metadata": {},
   "source": [
    "###### 練習問題\n",
    "\n",
    "偏りのないコインでコイントスを行い、初めて表が出たときの試行回数を記録する。これを 10,000 回繰り返した結果をシミュレーションし、1~10 の範囲での確率分布をグラフで表現する。 (試行回数は10で打ち切ってよい)"
   ]
  },
  {
   "cell_type": "code",
   "execution_count": null,
   "metadata": {
    "solution2": "hidden",
    "solution2_first": true
   },
   "outputs": [],
   "source": []
  },
  {
   "cell_type": "code",
   "execution_count": 15,
   "metadata": {
    "solution2": "hidden"
   },
   "outputs": [
    {
     "data": {
      "image/png": "[encoded data removed]",
      "text/plain": [
       "<Figure size 432x288 with 1 Axes>"
      ]
     },
     "metadata": {
      "needs_background": "light"
     },
     "output_type": "display_data"
    }
   ],
   "source": [
    "reputation = 10\n",
    "sample = int(1e4)\n",
    "events = ['裏', '表']\n",
    "data = np.full((sample, reputation + 1), '表')\n",
    "data[:, :reputation] = np.random.choice(events, size=(sample, reputation))\n",
    "first = np.argsort(data != '表', kind='mergesort')[:, 0] + 1\n",
    "x = np.arange(1, 11)\n",
    "probs = [np.sum(first == i) / sample for i in x]\n",
    "plt.vlines(x, 0, probs)\n",
    "plt.ylim((0, 1.1))\n",
    "plt.show()"
   ]
  },
  {
   "cell_type": "markdown",
   "metadata": {},
   "source": [
    "> ベルヌーイ試行で、初めて成功するまでの回数を表す確率分布を幾何分布という。ある出来事が起きてから、次に同じことが起きるまでの期間を求める。"
   ]
  },
  {
   "cell_type": "code",
   "execution_count": 16,
   "metadata": {
    "hide_input": true
   },
   "outputs": [
    {
     "data": {
      "application/vnd.jupyter.widget-view+json": {
       "model_id": "88c54c47d95744019959e6031c7840a1",
       "version_major": 2,
       "version_minor": 0
      },
      "text/plain": [
       "interactive(children=(FloatSlider(value=0.5, continuous_update=False, description='確率／回', max=1.0, min=0.1, re…"
      ]
     },
     "metadata": {},
     "output_type": "display_data"
    }
   ],
   "source": [
    "from helpers.distribution import geometric\n",
    "geometric.show()"
   ]
  },
  {
   "cell_type": "markdown",
   "metadata": {},
   "source": [
    "### 連続型の確率分布\n",
    "---\n",
    "変数 $X$ の取りうる値が連続値 (実数) の場合、その確率分布は連続型の確率分布という。\n",
    "\n",
    "以下では実際の現象にそのまま適用できるものを主に扱い、統計量などとともに出てくる特殊な分布はその都度扱う。"
   ]
  },
  {
   "cell_type": "markdown",
   "metadata": {},
   "source": [
    "###### 練習問題\n",
    "\n",
    "`numpy.random.rand`と`numpy.unique`を用いて、 10,000 個の乱数 (0~1 の範囲の実数) を作成し、その中の重複する値の数を求める。"
   ]
  },
  {
   "cell_type": "code",
   "execution_count": 17,
   "metadata": {},
   "outputs": [],
   "source": [
    "np.random.rand??"
   ]
  },
  {
   "cell_type": "code",
   "execution_count": 18,
   "metadata": {},
   "outputs": [],
   "source": [
    "np.unique??"
   ]
  },
  {
   "cell_type": "code",
   "execution_count": null,
   "metadata": {
    "solution2": "hidden",
    "solution2_first": true
   },
   "outputs": [],
   "source": []
  },
  {
   "cell_type": "code",
   "execution_count": 19,
   "metadata": {
    "solution2": "hidden"
   },
   "outputs": [
    {
     "name": "stdout",
     "output_type": "stream",
     "text": [
      "重複数 : 0\n"
     ]
    }
   ],
   "source": [
    "np.random.seed(1234)\n",
    "size = int(1e4)\n",
    "data = np.random.rand(size)\n",
    "print(f'重複数 : {size-np.unique(data).size}')"
   ]
  },
  {
   "cell_type": "markdown",
   "metadata": {},
   "source": [
    "###### 練習問題\n",
    "\n",
    "上で作成したデータを離散化し、それぞれの階級に含まれるカウント数を元に棒グラフでヒストグラムを自作する。ただし、棒と棒の間の間隔を開けず、棒の面積の合計が1になるように高さを調整する。"
   ]
  },
  {
   "cell_type": "code",
   "execution_count": null,
   "metadata": {
    "solution2": "hidden",
    "solution2_first": true
   },
   "outputs": [],
   "source": []
  },
  {
   "cell_type": "code",
   "execution_count": 20,
   "metadata": {
    "solution2": "hidden"
   },
   "outputs": [
    {
     "data": {
      "image/png": "[encoded data removed]",
      "text/plain": [
       "<Figure size 432x288 with 1 Axes>"
      ]
     },
     "metadata": {
      "needs_background": "light"
     },
     "output_type": "display_data"
    }
   ],
   "source": [
    "np.random.seed(1234)\n",
    "xmin, xmax = 0, 1\n",
    "size = int(1e4)\n",
    "data = np.random.rand(size)\n",
    "bins = 10\n",
    "division = np.linspace(0, 1, bins + 1)\n",
    "counts = [\n",
    "    np.sum((division[i] <= data) & (data < division[i + 1]))\n",
    "    for i in range(bins)\n",
    "]\n",
    "width = (xmax - xmin) / bins\n",
    "height = [1 / width / sample * count for count in counts]\n",
    "plt.bar(division[:-1], height, width, align='edge', edgecolor='black')\n",
    "plt.show()"
   ]
  },
  {
   "cell_type": "markdown",
   "metadata": {},
   "source": [
    "連続値のとりうる値の種類は無限に存在するので、場合の数で考えるとある値 $x$ に対応する**確率は $0$** $\n",
    "{\\displaystyle \\left(\n",
    "    \\frac\n",
    "        {1}\n",
    "        {\\infty }\n",
    "    \\rightarrow 0\n",
    "\\right)}\n",
    "$ となる。そこで、上のヒストグラムのように一定区間の面積で確率を表す。  \n",
    "このとき縦軸は確率密度になる。面積 $\\displaystyle 1m^{2}$ あたりの質量、つまり密度が $\\displaystyle kg/m^{2}$ であるように、確率密度は $\\displaystyle 確率/変数Xの単位$ である。"
   ]
  },
  {
   "cell_type": "markdown",
   "metadata": {},
   "source": [
    "#### 一様分布 (uniform distribution)\n",
    "---\n",
    "> 離散一様分布のように最小値 $a$ と最大値 $b$ の間で、同じ長さの区間の確率がどこを取っても等しいような連続値の確率分布を一様分布という。"
   ]
  },
  {
   "cell_type": "code",
   "execution_count": 21,
   "metadata": {
    "hide_input": true
   },
   "outputs": [
    {
     "data": {
      "application/vnd.jupyter.widget-view+json": {
       "model_id": "5ccd2c43b119475caf042eb1fd59a158",
       "version_major": 2,
       "version_minor": 0
      },
      "text/plain": [
       "interactive(children=(FloatRangeSlider(value=(0.0, 5.0), continuous_update=False, description='事象の範囲：', max=10…"
      ]
     },
     "metadata": {},
     "output_type": "display_data"
    }
   ],
   "source": [
    "from helpers.distribution import uniform\n",
    "uniform.show()"
   ]
  },
  {
   "cell_type": "markdown",
   "metadata": {},
   "source": [
    "#### 指数分布 (exponential distribution)\n",
    "---\n",
    "> 幾何分布のようにベルヌーイ試行で、初めて成功するまでを表す確率分布を指数分布という。幾何分布が離散時間 (回数など) を表すのに対して、指数分布は連続時間 (通常の時間など) を表す。"
   ]
  },
  {
   "cell_type": "code",
   "execution_count": 22,
   "metadata": {
    "hide_input": true
   },
   "outputs": [
    {
     "data": {
      "application/vnd.jupyter.widget-view+json": {
       "model_id": "cfdda7c27f0d4cc282ceab580881466c",
       "version_major": 2,
       "version_minor": 0
      },
      "text/plain": [
       "interactive(children=(FloatLogSlider(value=0.5, continuous_update=False, description='単位時間あたり平均回数：', max=1.0, …"
      ]
     },
     "metadata": {},
     "output_type": "display_data"
    }
   ],
   "source": [
    "from helpers.distribution import exponential\n",
    "exponential.show()"
   ]
  },
  {
   "cell_type": "markdown",
   "metadata": {},
   "source": [
    "#### 正規分布 (normal distribution)\n",
    "---\n",
    "> 色々な現象に対してよく現れる左右対称な山型の連続確率分布。 $-\\infty $ から $\\infty $ まで全ての実数に対して確率 (密度) を割り当てる。  \n",
    "他の確率分布を近似するのに用いられることもある。"
   ]
  },
  {
   "cell_type": "code",
   "execution_count": 23,
   "metadata": {
    "hide_input": true
   },
   "outputs": [
    {
     "data": {
      "application/vnd.jupyter.widget-view+json": {
       "model_id": "df9da02155804939af3c56035e8f7db2",
       "version_major": 2,
       "version_minor": 0
      },
      "text/plain": [
       "interactive(children=(FloatSlider(value=0.0, continuous_update=False, description='平均：', max=1.0, min=-1.0, re…"
      ]
     },
     "metadata": {},
     "output_type": "display_data"
    }
   ],
   "source": [
    "from helpers.distribution import normal\n",
    "normal.show()"
   ]
  },
  {
   "cell_type": "markdown",
   "metadata": {},
   "source": [
    "### 確率分布まとめ\n",
    "---\n",
    "<table class=\"text-center border\">\n",
    "    <tr class=\"background-dark\">\n",
    "        <th>名称</th>\n",
    "        <th>離散・連続</th>\n",
    "        <th>特徴</th>\n",
    "    </tr>\n",
    "    <tr class=\"background-bright\">\n",
    "        <td>離散一様分布</td>\n",
    "        <td class=\"text-red\">離散</td>\n",
    "        <td rowspan=\"2\">確率一定</td>\n",
    "    </tr>\n",
    "    <tr class=\"background-bright\">\n",
    "        <td>一様分布</td>\n",
    "        <td class=\"text-blue\">連続</td>\n",
    "    </tr>\n",
    "    <tr class=\"background-dark\">\n",
    "        <td>ベルヌーイ分布</td>\n",
    "        <td class=\"text-red\">離散</td>\n",
    "        <td rowspan=\"5\">ベルヌーイ試行を対象</td>\n",
    "    </tr>\n",
    "    <tr class=\"background-dark\">\n",
    "        <td>二項分布</td>\n",
    "        <td class=\"text-red\">離散</td>\n",
    "    </tr>\n",
    "    <tr class=\"background-dark\">\n",
    "        <td>ポアソン分布</td>\n",
    "        <td class=\"text-red\">離散</td>\n",
    "    </tr>\n",
    "    <tr class=\"background-dark\">\n",
    "        <td>幾何分布</td>\n",
    "        <td class=\"text-red\">離散</td>\n",
    "    </tr>\n",
    "    <tr class=\"background-dark\">\n",
    "        <td>指数分布</td>\n",
    "        <td class=\"text-blue\">連続</td>\n",
    "    </tr>\n",
    "    <tr class=\"background-bright\">\n",
    "        <td>正規分布</td>\n",
    "        <td class=\"text-blue\">連続</td>\n",
    "        <td>左右対称の山型</td>\n",
    "    </tr>\n",
    "</table>\n",
    "\n",
    "<table class=\"border background-bright\">\n",
    "    <tr class=\"background-dark text-center\">\n",
    "        <th colspan=\"3\">ベルヌーイ試行に関連する分布間の関係</th>\n",
    "        <th>分布</th>\n",
    "    </tr>\n",
    "    <tr>\n",
    "        <td class=\"border-right-none text-left\">ベルヌーイ試行を複数回</td>\n",
    "        <td class=\"border-left-none\" colspan=\"2\"></td>\n",
    "        <td class=\"text-center\">二項分布</td>\n",
    "    </tr>\n",
    "    <tr>\n",
    "        <td class=\"text-left\" rowspan=\"2\">回数が多いときの二項分布の近似</td>\n",
    "        <td class=\"border-right-none text-left\">期待値 $\\displaystyle ( \\mu =np)$ が小さい</td>\n",
    "        <td class=\"border-left-none\"></td>\n",
    "        <td class=\"text-center\">ポアソン分布</td>\n",
    "    </tr>\n",
    "    <tr>\n",
    "        <td class=\"border-right-none text-left\">期待値 $\\displaystyle ( \\mu =np)$ が大きい</td>\n",
    "        <td class=\"border-left-none\"></td>\n",
    "        <td class=\"text-center\">正規分布</td>\n",
    "    </tr>\n",
    "    <tr>\n",
    "        <td class=\"text-left\" rowspan=\"4\">ベルヌーイ試行の時間と回数の関係</td>\n",
    "        <td class=\"text-left\" rowspan=\"2\">一定時間内の回数</td>\n",
    "        <td class=\"text-left\">離散時間</td>\n",
    "        <td class=\"text-center\">二項分布</td>\n",
    "    </tr>\n",
    "    <tr>\n",
    "        <td class=\"text-left\">連続時間</td>\n",
    "        <td class=\"text-center\">ポアソン分布</td>\n",
    "    </tr>\n",
    "    <tr>\n",
    "        <td class=\"text-left\" rowspan=\"2\">初めて成功するまでの時間</td>\n",
    "        <td class=\"text-left\">離散時間</td>\n",
    "        <td class=\"text-center\">幾何分布</td>\n",
    "    </tr>\n",
    "    <tr>\n",
    "        <td class=\"text-left\">連続時間</td>\n",
    "        <td class=\"text-center\">指数分布</td>\n",
    "    </tr>\n",
    "</table>"
   ]
  },
  {
   "cell_type": "markdown",
   "metadata": {},
   "source": [
    "## 確率分布に関連する関数\n",
    "---\n",
    "`scipy.stats` の中に、それぞれの確率分布に対応するクラスがある。\n",
    "\n",
    "<table class=\"text-center border\">\n",
    "    <tr>\n",
    "        <th>確率分布</th>\n",
    "        <th>クラス</th>\n",
    "    </tr>\n",
    "    <tr>\n",
    "        <td>一様分布</td>\n",
    "        <td class=\"text-left\"><a href=\"https://docs.scipy.org/doc/scipy/reference/generated/scipy.stats.uniform.html\">scipy.stats.uniform</a></td>\n",
    "    </tr>\n",
    "    <tr>\n",
    "        <td>ベルヌーイ分布</td>\n",
    "        <td class=\"text-left\"><a href=\"https://docs.scipy.org/doc/scipy/reference/generated/scipy.stats.bernoulli.html\">scipy.stats.bernoulli</a></td>\n",
    "    </tr>\n",
    "    <tr>\n",
    "        <td>二項分布</td>\n",
    "        <td class=\"text-left\"><a href=\"https://docs.scipy.org/doc/scipy/reference/generated/scipy.stats.binom.html\">scipy.stats.binom</a></td>\n",
    "    </tr>\n",
    "    <tr>\n",
    "        <td>ポアソン分布</td>\n",
    "        <td class=\"text-left\"><a href=\"https://docs.scipy.org/doc/scipy/reference/generated/scipy.stats.poisson.html\">scipy.stats.poisson</a></td>\n",
    "    </tr>\n",
    "    <tr>\n",
    "        <td>幾何分布</td>\n",
    "        <td class=\"text-left\"><a href=\"https://docs.scipy.org/doc/scipy/reference/generated/scipy.stats.geom.html\">scipy.stats.geom</a></td>\n",
    "    </tr>\n",
    "    <tr>\n",
    "        <td>指数分布</td>\n",
    "        <td class=\"text-left\"><a href=\"https://docs.scipy.org/doc/scipy/reference/generated/scipy.stats.expon.html\">scipy.stats.expon</a></td>\n",
    "    </tr>\n",
    "    <tr>\n",
    "        <td>正規分布</td>\n",
    "        <td class=\"text-left\"><a href=\"https://docs.scipy.org/doc/scipy/reference/generated/scipy.stats.norm.html\">scipy.stats.norm</a></td>\n",
    "    </tr>\n",
    "</table>\n",
    "\n",
    "他にも様々な[離散型](https://docs.scipy.org/doc/scipy/reference/stats.html#discrete-distributions)・[連続型](https://docs.scipy.org/doc/scipy/reference/stats.html#continuous-distributions)の確率分布がある。\n",
    "\n",
    "これらのクラスはほとんど共通するメソッドを持つので、以下では各メソッドを見ていく。"
   ]
  },
  {
   "cell_type": "markdown",
   "metadata": {},
   "source": [
    "### 確率質量関数 (pmf, Probability Mass Function)\n",
    "---\n",
    "> 離散型の分布で、ある **$X$ に対応する確率**を求める関数。"
   ]
  },
  {
   "cell_type": "markdown",
   "metadata": {},
   "source": [
    "###### 練習問題\n",
    "\n",
    "`scipy.stats.binom.pmf`を用いて、二項分布の確率質量関数を表すグラフを表示し、これと二項分布をシミュレーション (二項分布からサンプリング) した結果を重ねて比較する。"
   ]
  },
  {
   "cell_type": "code",
   "execution_count": 24,
   "metadata": {},
   "outputs": [],
   "source": [
    "stats.binom??"
   ]
  },
  {
   "cell_type": "code",
   "execution_count": 25,
   "metadata": {},
   "outputs": [],
   "source": [
    "stats.binom.pmf??"
   ]
  },
  {
   "cell_type": "code",
   "execution_count": null,
   "metadata": {
    "solution2": "hidden",
    "solution2_first": true
   },
   "outputs": [],
   "source": []
  },
  {
   "cell_type": "code",
   "execution_count": 26,
   "metadata": {
    "solution2": "hidden"
   },
   "outputs": [
    {
     "data": {
      "image/png": "[encoded data removed]",
      "text/plain": [
       "<Figure size 432x288 with 1 Axes>"
      ]
     },
     "metadata": {
      "needs_background": "light"
     },
     "output_type": "display_data"
    }
   ],
   "source": [
    "np.random.seed(1234)\n",
    "n = 10\n",
    "p = 0.5\n",
    "sample = int(1e3)\n",
    "x = np.arange(n + 1)\n",
    "probs = stats.binom.pmf(x, n=n, p=p)\n",
    "data = np.random.binomial(n, p, sample)\n",
    "simulation = [np.sum(data == i) / sample for i in x]\n",
    "plt.vlines(x, 0, probs, color='red', label='二項分布')\n",
    "plt.vlines(x + 0.1, 0, simulation, color='blue', label='シミュレーション')\n",
    "plt.legend()\n",
    "plt.ylim((0, plt.ylim()[1]))\n",
    "plt.show()"
   ]
  },
  {
   "cell_type": "markdown",
   "metadata": {},
   "source": [
    "###### 練習問題\n",
    "\n",
    "$\\displaystyle n=1,000,\\ p=0.001$ として、二項分布とポアソン分布の確率質量関数のグラフを並べて比較する。"
   ]
  },
  {
   "cell_type": "code",
   "execution_count": null,
   "metadata": {
    "solution2": "hidden",
    "solution2_first": true
   },
   "outputs": [],
   "source": []
  },
  {
   "cell_type": "code",
   "execution_count": 27,
   "metadata": {
    "solution2": "hidden"
   },
   "outputs": [
    {
     "data": {
      "image/png": "[encoded data removed]",
      "text/plain": [
       "<Figure size 432x288 with 1 Axes>"
      ]
     },
     "metadata": {
      "needs_background": "light"
     },
     "output_type": "display_data"
    }
   ],
   "source": [
    "n = int(1e3)\n",
    "p = 1e-3\n",
    "mu = n * p\n",
    "x = np.arange(10)\n",
    "binomial = stats.binom.pmf(x, n=n, p=p)\n",
    "poisson = stats.poisson.pmf(x, mu=mu)\n",
    "plt.vlines(x, 0, binomial, color='red', label='二項分布')\n",
    "plt.vlines(x + 0.1, 0, poisson, color='blue', label='ポアソン分布')\n",
    "plt.legend()\n",
    "plt.ylim((0, plt.ylim()[1]))\n",
    "plt.show()"
   ]
  },
  {
   "cell_type": "markdown",
   "metadata": {},
   "source": [
    "### 確率密度関数 (pdf, Probability Density Function)\n",
    "---\n",
    "> 連続型の分布で、ある **$X$ に対応する確率密度**を求める関数。"
   ]
  },
  {
   "cell_type": "markdown",
   "metadata": {},
   "source": [
    "###### 練習問題\n",
    "\n",
    "`scipy.stats.expon.pdf`を用いて、指数分布の確率密度関数を表すグラフを表示 (`matplotlib.pyplot.plot`または`matplotlib.pyplot.fill_between`を使用) し、これを`numpy.random.exponential`を用いて指数分布からサンプリングした結果 (面積が1になるように正規化されたヒストグラム) を重ねて比較する。"
   ]
  },
  {
   "cell_type": "code",
   "execution_count": 28,
   "metadata": {},
   "outputs": [],
   "source": [
    "stats.expon??"
   ]
  },
  {
   "cell_type": "code",
   "execution_count": 29,
   "metadata": {},
   "outputs": [],
   "source": [
    "stats.expon.pdf??"
   ]
  },
  {
   "cell_type": "code",
   "execution_count": 30,
   "metadata": {},
   "outputs": [],
   "source": [
    "np.random.exponential??"
   ]
  },
  {
   "cell_type": "code",
   "execution_count": null,
   "metadata": {
    "solution2": "hidden",
    "solution2_first": true
   },
   "outputs": [],
   "source": []
  },
  {
   "cell_type": "code",
   "execution_count": 31,
   "metadata": {
    "solution2": "hidden"
   },
   "outputs": [
    {
     "data": {
      "image/png": "[encoded data removed]",
      "text/plain": [
       "<Figure size 432x288 with 1 Axes>"
      ]
     },
     "metadata": {
      "needs_background": "light"
     },
     "output_type": "display_data"
    }
   ],
   "source": [
    "np.random.seed(1234)\n",
    "scale = 0.5\n",
    "sample = int(1e4)\n",
    "x = np.linspace(0, 5, 200)\n",
    "xmin, xmax = x.min(), x.max()\n",
    "density = stats.expon.pdf(x, scale=scale)\n",
    "data = np.random.exponential(scale, size=sample)\n",
    "bins = 30\n",
    "division = np.linspace(xmin, xmax, bins + 1)\n",
    "counts = [\n",
    "    np.sum((division[i] <= data) & (data < division[i + 1]))\n",
    "    for i in range(bins)\n",
    "]\n",
    "width = (xmax - xmin) / bins\n",
    "height = [1 / width / sample * count for count in counts]\n",
    "plt.fill_between(x, density, alpha=0.3, label='指数分布')\n",
    "plt.bar(\n",
    "    division[:-1],\n",
    "    height,\n",
    "    width,\n",
    "    align='edge',\n",
    "    edgecolor='black',\n",
    "    alpha=0.3,\n",
    "    label='シミュレーション')\n",
    "plt.xlim((x.min(), x.max()))\n",
    "plt.legend()\n",
    "plt.show()"
   ]
  },
  {
   "cell_type": "markdown",
   "metadata": {},
   "source": [
    "###### 練習問題\n",
    "\n",
    "平均 0 ・標準偏差 1 の正規分布 (標準正規分布) の確率密度関数を表すグラフを表示する。"
   ]
  },
  {
   "cell_type": "code",
   "execution_count": null,
   "metadata": {
    "solution2": "hidden",
    "solution2_first": true
   },
   "outputs": [],
   "source": []
  },
  {
   "cell_type": "code",
   "execution_count": 32,
   "metadata": {
    "solution2": "hidden"
   },
   "outputs": [
    {
     "data": {
      "image/png": "[encoded data removed]",
      "text/plain": [
       "<Figure size 432x288 with 1 Axes>"
      ]
     },
     "metadata": {
      "needs_background": "light"
     },
     "output_type": "display_data"
    }
   ],
   "source": [
    "x = np.linspace(-3, 3, 200)\n",
    "dens = stats.norm.pdf(x, loc=0, scale=1)\n",
    "plt.plot(x, dens)\n",
    "plt.xlim((x.min(), x.max()))\n",
    "plt.ylim((0, plt.ylim()[1]))\n",
    "plt.show()"
   ]
  },
  {
   "cell_type": "markdown",
   "metadata": {},
   "source": [
    "### 累積分布関数 (cdf, Cumulative Distribution Function)"
   ]
  },
  {
   "cell_type": "markdown",
   "metadata": {},
   "source": [
    "###### 練習問題\n",
    "\n",
    "指数分布からサンプリングし、離散化して棒グラフで表示する。ただし、各階級がそれ以下の階級の合計値になっている累積積み上げ棒グラフを用いる。"
   ]
  },
  {
   "cell_type": "code",
   "execution_count": null,
   "metadata": {
    "solution2": "hidden",
    "solution2_first": true
   },
   "outputs": [],
   "source": []
  },
  {
   "cell_type": "code",
   "execution_count": 33,
   "metadata": {
    "solution2": "hidden"
   },
   "outputs": [
    {
     "data": {
      "image/png": "[encoded data removed]",
      "text/plain": [
       "<Figure size 432x288 with 1 Axes>"
      ]
     },
     "metadata": {
      "needs_background": "light"
     },
     "output_type": "display_data"
    }
   ],
   "source": [
    "np.random.seed(1234)\n",
    "scale = 0.5\n",
    "sample = int(1e4)\n",
    "data = np.random.exponential(scale, size=sample)\n",
    "bins = 30\n",
    "xmin, xmax = 0, 5\n",
    "division = np.linspace(xmin, xmax, bins + 1)\n",
    "counts = [\n",
    "    np.sum((division[i] <= data) & (data < division[i + 1]))\n",
    "    for i in range(bins)\n",
    "]\n",
    "width = (xmax - xmin) / bins\n",
    "cumulation = [sum(counts[:i + 1]) for i in range(bins)]\n",
    "plt.bar(division[:-1], cumulation, width, align='edge', edgecolor='black')\n",
    "plt.xlim((xmin, xmax))\n",
    "plt.show()"
   ]
  },
  {
   "cell_type": "markdown",
   "metadata": {},
   "source": [
    "###### 練習問題\n",
    "\n",
    "上のグラフを全体の合計が1になるように正規化する。"
   ]
  },
  {
   "cell_type": "code",
   "execution_count": null,
   "metadata": {
    "solution2": "hidden",
    "solution2_first": true
   },
   "outputs": [],
   "source": []
  },
  {
   "cell_type": "code",
   "execution_count": 34,
   "metadata": {
    "solution2": "hidden"
   },
   "outputs": [
    {
     "data": {
      "image/png": "[encoded data removed]",
      "text/plain": [
       "<Figure size 432x288 with 1 Axes>"
      ]
     },
     "metadata": {
      "needs_background": "light"
     },
     "output_type": "display_data"
    }
   ],
   "source": [
    "np.random.seed(1234)\n",
    "scale = 0.5\n",
    "sample = int(1e4)\n",
    "data = np.random.exponential(scale, size=sample)\n",
    "bins = 30\n",
    "xmin, xmax = 0, 5\n",
    "division = np.linspace(xmin, xmax, bins + 1)\n",
    "counts = [\n",
    "    np.sum((division[i] <= data) & (data < division[i + 1]))\n",
    "    for i in range(bins)\n",
    "]\n",
    "width = (xmax - xmin) / bins\n",
    "cumulation = [sum(counts[:i + 1]) / sample for i in range(bins)]\n",
    "plt.bar(division[:-1], cumulation, width, align='edge', edgecolor='black')\n",
    "plt.axhline(1, color='gray', linestyle='dashed', alpha=0.3)\n",
    "plt.xlim((xmin, xmax))\n",
    "plt.show()"
   ]
  },
  {
   "cell_type": "markdown",
   "metadata": {},
   "source": [
    "> 取りうる**値の下限から $X$ までの確率の合計**を表す関数を累積分布関数という。"
   ]
  },
  {
   "cell_type": "code",
   "execution_count": 35,
   "metadata": {
    "hide_input": true
   },
   "outputs": [
    {
     "data": {
      "application/vnd.jupyter.widget-view+json": {
       "model_id": "3da9e309fba44c5ea7412cbad859db83",
       "version_major": 2,
       "version_minor": 0
      },
      "text/plain": [
       "interactive(children=(FloatSlider(value=1.0, continuous_update=False, description='入力：', max=3.0, min=-3.0, re…"
      ]
     },
     "metadata": {},
     "output_type": "display_data"
    }
   ],
   "source": [
    "from helpers.distribution import methods\n",
    "methods.cdf()"
   ]
  },
  {
   "cell_type": "markdown",
   "metadata": {},
   "source": [
    "###### 練習問題\n",
    "\n",
    "震度 7 の地震が年平均 0.2 回起きることがわかっているとして、今後 5 年以内に震度 7 の地震が起きる確率を求める。"
   ]
  },
  {
   "cell_type": "code",
   "execution_count": null,
   "metadata": {
    "solution2": "hidden",
    "solution2_first": true
   },
   "outputs": [],
   "source": []
  },
  {
   "cell_type": "code",
   "execution_count": 36,
   "metadata": {
    "solution2": "hidden"
   },
   "outputs": [
    {
     "name": "stdout",
     "output_type": "stream",
     "text": [
      "5年以内に震度7の地震が起きる確率 : 0.632\n"
     ]
    }
   ],
   "source": [
    "lambda_ = 0.2\n",
    "print(f'5年以内に震度7の地震が起きる確率 : {stats.expon.cdf(5, scale=1/lambda_):.3f}')"
   ]
  },
  {
   "cell_type": "markdown",
   "metadata": {},
   "source": [
    "### 生存関数 (sf, Survival Function)"
   ]
  },
  {
   "cell_type": "markdown",
   "metadata": {},
   "source": [
    "###### 練習問題\n",
    "\n",
    "正規分布からサンプリングし、離散化して棒グラフで表示する。ただし、各階級がそれ以上の階級の合計値になるようにする。"
   ]
  },
  {
   "cell_type": "code",
   "execution_count": null,
   "metadata": {
    "solution2": "hidden",
    "solution2_first": true
   },
   "outputs": [],
   "source": []
  },
  {
   "cell_type": "code",
   "execution_count": 37,
   "metadata": {
    "solution2": "hidden"
   },
   "outputs": [
    {
     "data": {
      "image/png": "[encoded data removed]",
      "text/plain": [
       "<Figure size 432x288 with 1 Axes>"
      ]
     },
     "metadata": {
      "needs_background": "light"
     },
     "output_type": "display_data"
    }
   ],
   "source": [
    "np.random.seed(1234)\n",
    "mu = 0\n",
    "sigma = 1\n",
    "sample = int(1e4)\n",
    "data = np.random.normal(mu, sigma, size=sample)\n",
    "bins = 30\n",
    "xmin, xmax = mu - sigma * 3, mu + sigma * 3\n",
    "division = np.linspace(xmin, xmax, bins + 1)\n",
    "counts = [\n",
    "    np.sum((division[i] <= data) & (data < division[i + 1]))\n",
    "    for i in range(bins)\n",
    "]\n",
    "width = (xmax - xmin) / bins\n",
    "cumulation = [sum(counts[i:]) for i in range(bins)]\n",
    "plt.bar(division[:-1], cumulation, width, align='edge', edgecolor='black')\n",
    "plt.xlim((xmin, xmax))\n",
    "plt.show()"
   ]
  },
  {
   "cell_type": "markdown",
   "metadata": {},
   "source": [
    "###### 練習問題\n",
    "\n",
    "上のグラフを全体の合計が1になるように正規化する。"
   ]
  },
  {
   "cell_type": "code",
   "execution_count": null,
   "metadata": {
    "solution2": "hidden",
    "solution2_first": true
   },
   "outputs": [],
   "source": []
  },
  {
   "cell_type": "code",
   "execution_count": 38,
   "metadata": {
    "solution2": "hidden"
   },
   "outputs": [
    {
     "data": {
      "image/png": "[encoded data removed]",
      "text/plain": [
       "<Figure size 432x288 with 1 Axes>"
      ]
     },
     "metadata": {
      "needs_background": "light"
     },
     "output_type": "display_data"
    }
   ],
   "source": [
    "np.random.seed(1234)\n",
    "mu = 0\n",
    "sigma = 1\n",
    "sample = int(1e4)\n",
    "data = np.random.normal(mu, sigma, size=sample)\n",
    "bins = 30\n",
    "xmin, xmax = mu - sigma * 3, mu + sigma * 3\n",
    "division = np.linspace(xmin, xmax, bins + 1)\n",
    "counts = [\n",
    "    np.sum((division[i] <= data) & (data < division[i + 1]))\n",
    "    for i in range(bins)\n",
    "]\n",
    "width = (xmax - xmin) / bins\n",
    "cumulation = [sum(counts[i:]) / sample for i in range(bins)]\n",
    "plt.bar(division[:-1], cumulation, width, align='edge', edgecolor='black')\n",
    "plt.xlim((xmin, xmax))\n",
    "plt.show()"
   ]
  },
  {
   "cell_type": "markdown",
   "metadata": {},
   "source": [
    "> 取りうる**値の上限から  𝑋  までの確率の合計**を表す関数を生存関数という。"
   ]
  },
  {
   "cell_type": "code",
   "execution_count": 39,
   "metadata": {
    "hide_input": true
   },
   "outputs": [
    {
     "data": {
      "application/vnd.jupyter.widget-view+json": {
       "model_id": "d3a6e24170b243348a04a595638d827b",
       "version_major": 2,
       "version_minor": 0
      },
      "text/plain": [
       "interactive(children=(FloatSlider(value=1.0, continuous_update=False, description='入力：', max=3.0, min=-3.0, re…"
      ]
     },
     "metadata": {},
     "output_type": "display_data"
    }
   ],
   "source": [
    "methods.sf()"
   ]
  },
  {
   "cell_type": "markdown",
   "metadata": {},
   "source": [
    "###### 練習問題\n",
    "\n",
    "指数分布の`生存関数`と`1-累積分布関数`を重ねて表示し、比較する。"
   ]
  },
  {
   "cell_type": "code",
   "execution_count": null,
   "metadata": {
    "solution2": "hidden",
    "solution2_first": true
   },
   "outputs": [],
   "source": []
  },
  {
   "cell_type": "code",
   "execution_count": 40,
   "metadata": {
    "solution2": "hidden"
   },
   "outputs": [
    {
     "data": {
      "image/png": "[encoded data removed]",
      "text/plain": [
       "<Figure size 432x288 with 1 Axes>"
      ]
     },
     "metadata": {
      "needs_background": "light"
     },
     "output_type": "display_data"
    }
   ],
   "source": [
    "xmax = 3\n",
    "x = np.linspace(0, xmax, 200)\n",
    "expon = stats.expon()\n",
    "sf = expon.sf(x)\n",
    "cdf = expon.cdf(x)\n",
    "plt.plot(x, sf, alpha=0.5, label='生存関数')\n",
    "plt.plot(x, 1 - cdf, alpha=0.5, label='1-累積分布関数')\n",
    "plt.legend()\n",
    "plt.xlim((0, xmax))\n",
    "plt.show()"
   ]
  },
  {
   "cell_type": "markdown",
   "metadata": {},
   "source": [
    "### パーセント点 (ppf, Percent Point Function)"
   ]
  },
  {
   "cell_type": "markdown",
   "metadata": {},
   "source": [
    "###### 練習問題\n",
    "\n",
    "指数分布からサンプリングし、 $0\\% \\sim 100\\%$ まで $1\\%$ 刻みで分位点を求め、横軸に分位点、縦軸に $\\%$ の値をとった散布図を表示する。"
   ]
  },
  {
   "cell_type": "code",
   "execution_count": null,
   "metadata": {
    "solution2": "hidden",
    "solution2_first": true
   },
   "outputs": [],
   "source": []
  },
  {
   "cell_type": "code",
   "execution_count": 41,
   "metadata": {
    "solution2": "hidden"
   },
   "outputs": [
    {
     "data": {
      "image/png": "[encoded data removed]",
      "text/plain": [
       "<Figure size 432x288 with 1 Axes>"
      ]
     },
     "metadata": {
      "needs_background": "light"
     },
     "output_type": "display_data"
    }
   ],
   "source": [
    "np.random.seed(1234)\n",
    "sample = int(1e4)\n",
    "data = np.random.exponential(size=sample)\n",
    "step = 0.01\n",
    "quantile = np.arange(0, 1 + step, step)\n",
    "x = np.quantile(data, quantile)\n",
    "plt.scatter(x, quantile)\n",
    "plt.ylim((0, plt.ylim()[1]))\n",
    "plt.show()"
   ]
  },
  {
   "cell_type": "markdown",
   "metadata": {},
   "source": [
    "> ある累積確率に対応する $X$ をパーセント点という。パーセント点を求める関数は、**累積分布関数の逆関数**になっている。"
   ]
  },
  {
   "cell_type": "code",
   "execution_count": 42,
   "metadata": {
    "hide_input": true
   },
   "outputs": [
    {
     "data": {
      "application/vnd.jupyter.widget-view+json": {
       "model_id": "d4c943a9956042d88f658008971871b9",
       "version_major": 2,
       "version_minor": 0
      },
      "text/plain": [
       "interactive(children=(FloatSlider(value=0.55, continuous_update=False, description='入力：', max=0.95, min=0.05, …"
      ]
     },
     "metadata": {},
     "output_type": "display_data"
    }
   ],
   "source": [
    "methods.ppf()"
   ]
  },
  {
   "cell_type": "markdown",
   "metadata": {},
   "source": [
    "###### 練習問題\n",
    "\n",
    "指数分布からサンプリングし、 $0\\% \\sim 100\\%$ まで $1\\%$ 刻みで分位点を求め、横軸に分位点、縦軸に $\\%$ の値をとった散布図と指数分布の累積分布関数を重ねて表示し、比較する。"
   ]
  },
  {
   "cell_type": "code",
   "execution_count": null,
   "metadata": {
    "solution2": "hidden",
    "solution2_first": true
   },
   "outputs": [],
   "source": []
  },
  {
   "cell_type": "code",
   "execution_count": 43,
   "metadata": {
    "solution2": "hidden"
   },
   "outputs": [
    {
     "data": {
      "image/png": "[encoded data removed]",
      "text/plain": [
       "<Figure size 432x288 with 1 Axes>"
      ]
     },
     "metadata": {
      "needs_background": "light"
     },
     "output_type": "display_data"
    }
   ],
   "source": [
    "np.random.seed(1234)\n",
    "sample = int(1e4)\n",
    "scale = 1.0\n",
    "data = np.random.exponential(scale, size=sample)\n",
    "step = 0.01\n",
    "quantile = np.arange(0, 1 + step, step)\n",
    "ppt = np.quantile(data, quantile)\n",
    "xmax = ppt.max()\n",
    "x = np.linspace(0, xmax, 200)\n",
    "cdf = stats.expon.cdf(x, scale=scale)\n",
    "plt.scatter(ppt, quantile, label='パーセント点')\n",
    "plt.plot(x, cdf, label='累積分布関数')\n",
    "plt.legend()\n",
    "plt.xlim((0, xmax))\n",
    "plt.ylim((0, plt.ylim()[1]))\n",
    "plt.show()"
   ]
  },
  {
   "cell_type": "markdown",
   "metadata": {},
   "source": [
    "### 逆生存関数 (isf, Inverse Survival Function)"
   ]
  },
  {
   "cell_type": "markdown",
   "metadata": {},
   "source": [
    "###### 練習問題\n",
    "\n",
    "正規分布からサンプリングし、 $0\\% \\sim 100\\%$ まで $1\\%$ 刻みで分位点を求め、横軸に分位点、縦軸に $\\left( 100-p\\right) \\%$ の値をとった散布図を表示する。"
   ]
  },
  {
   "cell_type": "code",
   "execution_count": null,
   "metadata": {
    "solution2": "hidden",
    "solution2_first": true
   },
   "outputs": [],
   "source": []
  },
  {
   "cell_type": "code",
   "execution_count": 44,
   "metadata": {
    "solution2": "hidden"
   },
   "outputs": [
    {
     "data": {
      "image/png": "[encoded data removed]",
      "text/plain": [
       "<Figure size 432x288 with 1 Axes>"
      ]
     },
     "metadata": {
      "needs_background": "light"
     },
     "output_type": "display_data"
    }
   ],
   "source": [
    "np.random.seed(1234)\n",
    "sample = int(1e4)\n",
    "data = np.random.normal(size=sample)\n",
    "step = 0.01\n",
    "quantile = np.arange(0, 1 + step, step)\n",
    "x = np.quantile(data, 1-quantile)\n",
    "plt.scatter(x, quantile)\n",
    "plt.ylim((0, plt.ylim()[1]))\n",
    "plt.show()"
   ]
  },
  {
   "cell_type": "markdown",
   "metadata": {},
   "source": [
    "> ある生存確率に対応する $X$ を求める関数を逆生存関数という。逆生存関数は生存関数の逆関数になっている。  \n",
    "**教科書等では逆生存関数の出力をパーセント点と呼ぶ**ことが多い。"
   ]
  },
  {
   "cell_type": "code",
   "execution_count": 45,
   "metadata": {
    "hide_input": true
   },
   "outputs": [
    {
     "data": {
      "application/vnd.jupyter.widget-view+json": {
       "model_id": "d4ce8ab48860410f9f9b46555faba260",
       "version_major": 2,
       "version_minor": 0
      },
      "text/plain": [
       "interactive(children=(FloatSlider(value=0.55, continuous_update=False, description='入力：', max=0.95, min=0.05, …"
      ]
     },
     "metadata": {},
     "output_type": "display_data"
    }
   ],
   "source": [
    "methods.isf()"
   ]
  },
  {
   "cell_type": "markdown",
   "metadata": {},
   "source": [
    "###### 練習問題\n",
    "\n",
    "正規分布からサンプリングし、 $0\\% \\sim 100\\%$ まで $1\\%$ 刻みで分位点を求め、横軸に分位点、縦軸に $\\left( 100-p\\right) \\%$ の値をとった散布図と正規分布の生存関数を重ねて表示し、比較する。"
   ]
  },
  {
   "cell_type": "code",
   "execution_count": null,
   "metadata": {
    "solution2": "hidden",
    "solution2_first": true
   },
   "outputs": [],
   "source": []
  },
  {
   "cell_type": "code",
   "execution_count": 46,
   "metadata": {
    "solution2": "hidden"
   },
   "outputs": [
    {
     "data": {
      "image/png": "[encoded data removed]",
      "text/plain": [
       "<Figure size 432x288 with 1 Axes>"
      ]
     },
     "metadata": {
      "needs_background": "light"
     },
     "output_type": "display_data"
    }
   ],
   "source": [
    "np.random.seed(1234)\n",
    "sample = int(1e4)\n",
    "mean = 0\n",
    "sigma = 1.0\n",
    "data = np.random.normal(mean, sigma, size=sample)\n",
    "step = 0.01\n",
    "quantile = np.arange(0, 1 + step, step)\n",
    "isf = np.quantile(data, 1-quantile)\n",
    "xmin = isf.min()\n",
    "xmax = isf.max()\n",
    "x = np.linspace(xmin, xmax, 200)\n",
    "sf = stats.norm.sf(x, loc=mean, scale=sigma)\n",
    "plt.scatter(isf, quantile, label='逆生存関数')\n",
    "plt.plot(x, sf, label='生存関数関数')\n",
    "plt.legend()\n",
    "plt.xlim((xmin, xmax))\n",
    "plt.ylim((0, plt.ylim()[1]))\n",
    "plt.show()"
   ]
  },
  {
   "cell_type": "markdown",
   "metadata": {},
   "source": [
    "## 正規分布の性質"
   ]
  },
  {
   "cell_type": "markdown",
   "metadata": {},
   "source": [
    "###### 練習問題\n",
    "\n",
    "二項分布と正規分布の質量関数・密度関数を重ねて表示し、比較する。"
   ]
  },
  {
   "cell_type": "code",
   "execution_count": null,
   "metadata": {
    "solution2": "hidden",
    "solution2_first": true
   },
   "outputs": [],
   "source": []
  },
  {
   "cell_type": "code",
   "execution_count": 47,
   "metadata": {
    "solution2": "hidden"
   },
   "outputs": [
    {
     "data": {
      "image/png": "[encoded data removed]",
      "text/plain": [
       "<Figure size 432x288 with 1 Axes>"
      ]
     },
     "metadata": {
      "needs_background": "light"
     },
     "output_type": "display_data"
    }
   ],
   "source": [
    "n = 100\n",
    "p = 0.5\n",
    "binom = stats.binom(n=n, p=p)\n",
    "mu = binom.mean()\n",
    "sigma = binom.std()\n",
    "norm = stats.norm(loc=mu, scale=sigma)\n",
    "xmin = mu-sigma*3\n",
    "xmax = mu+sigma*3\n",
    "division = np.arange(xmin, xmax)\n",
    "x = np.linspace(xmin, xmax, 200)\n",
    "p_binom = binom.pmf(division)\n",
    "p_norm = norm.pdf(x)\n",
    "plt.vlines(division, 0, p_binom)\n",
    "plt.plot(x, p_norm)\n",
    "plt.ylim((0, plt.ylim()[1]))\n",
    "plt.show()"
   ]
  },
  {
   "cell_type": "markdown",
   "metadata": {},
   "source": [
    "###### 練習問題\n",
    "\n",
    "平均 $0$ ・分散 $\\sigma ^{2}$ (標準偏差 $\\sigma$) の正規分布 $\\displaystyle N\\left( 0 ,\\sigma ^{2}\\right)$ で $-\\sigma \\sim \\sigma, -2\\sigma \\sim 2\\sigma, -3\\sigma \\sim 3\\sigma$ の範囲に含まれる確率をそれぞれ求める。"
   ]
  },
  {
   "cell_type": "code",
   "execution_count": null,
   "metadata": {
    "solution2": "hidden",
    "solution2_first": true
   },
   "outputs": [],
   "source": []
  },
  {
   "cell_type": "code",
   "execution_count": 48,
   "metadata": {
    "solution2": "hidden"
   },
   "outputs": [
    {
     "name": "stdout",
     "output_type": "stream",
     "text": [
      "1シグマ範囲の確率 : 0.683\n",
      "2シグマ範囲の確率 : 0.954\n",
      "3シグマ範囲の確率 : 0.997\n"
     ]
    }
   ],
   "source": [
    "mu = 0\n",
    "sigma = 1\n",
    "norm = stats.norm(loc=mu, scale=sigma)\n",
    "for i in range(3):\n",
    "    print(f'{i + 1}シグマ範囲の確率 : {1 - norm.cdf(mu - (i + 1) * sigma) * 2:.3f}')"
   ]
  },
  {
   "cell_type": "markdown",
   "metadata": {},
   "source": [
    "###### 練習問題\n",
    "\n",
    "標準正規分布 $\\displaystyle N( 0,1)$ について以下の値を求める。\n",
    "\n",
    "- 上側 $5\\%$ 点 (上側確率 $5\\%$ になるような $X$)\n",
    "- 両側 $5\\%$ 点 (上側確率 $2.5\\%$ ・下側確率 $2.5\\%$ になるようなそれぞれの $X$)\n",
    "- 上側 $1\\%$ 点 (上側確率 $1\\%$ になるような $X$)\n",
    "- 両側 $1\\%$ 点 (上側確率 $0.5\\%$ ・下側確率 $0.5\\%$ になるようなそれぞれの $X$)"
   ]
  },
  {
   "cell_type": "code",
   "execution_count": null,
   "metadata": {
    "solution2": "hidden",
    "solution2_first": true
   },
   "outputs": [],
   "source": []
  },
  {
   "cell_type": "code",
   "execution_count": 49,
   "metadata": {
    "solution2": "hidden"
   },
   "outputs": [
    {
     "name": "stdout",
     "output_type": "stream",
     "text": [
      "上側5%点 :  1.64\n",
      "両側5%点 :  -1.96, 1.96\n",
      "上側1%点 :  2.33\n",
      "両側1%点 :  -2.58, 2.58\n"
     ]
    }
   ],
   "source": [
    "for p in [0.05, 0.01]:\n",
    "    for side in ['上側', '両側']:\n",
    "        head = f'{side}{int(100 * p)}%点 : '\n",
    "        pp = [p] if side is '上側' else [1 - p / 2, p / 2]\n",
    "        tail = ', '.join([f'{stats.norm.isf(i):.2f}' for i in pp])\n",
    "        print(head, tail)"
   ]
  }
 ],
 "metadata": {
  "kernelspec": {
   "display_name": "Python 3",
   "language": "python",
   "name": "python3"
  },
  "language_info": {
   "codemirror_mode": {
    "name": "ipython",
    "version": 3
   },
   "file_extension": ".py",
   "mimetype": "text/x-python",
   "name": "python",
   "nbconvert_exporter": "python",
   "pygments_lexer": "ipython3",
   "version": "3.6.8"
  },
  "toc": {
   "base_numbering": 1,
   "nav_menu": {},
   "number_sections": true,
   "sideBar": true,
   "skip_h1_title": true,
   "title_cell": "Table of Contents",
   "title_sidebar": "Contents",
   "toc_cell": false,
   "toc_position": {},
   "toc_section_display": true,
   "toc_window_display": true
  },
  "varInspector": {
   "cols": {
    "lenName": 16,
    "lenType": 16,
    "lenVar": 40
   },
   "kernels_config": {
    "python": {
     "delete_cmd_postfix": "",
     "delete_cmd_prefix": "del ",
     "library": "var_list.py",
     "varRefreshCmd": "print(var_dic_list())"
    },
    "r": {
     "delete_cmd_postfix": ") ",
     "delete_cmd_prefix": "rm(",
     "library": "var_list.r",
     "varRefreshCmd": "cat(var_dic_list()) "
    }
   },
   "types_to_exclude": [
    "module",
    "function",
    "builtin_function_or_method",
    "instance",
    "_Feature"
   ],
   "window_display": false
  }
 },
 "nbformat": 4,
 "nbformat_minor": 2
}
