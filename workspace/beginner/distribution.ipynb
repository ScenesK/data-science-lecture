{
 "cells": [
  {
   "cell_type": "code",
   "execution_count": 1,
   "metadata": {},
   "outputs": [],
   "source": [
    "import numpy as np\n",
    "from scipy import stats\n",
    "import matplotlib.pyplot as plt\n",
    "%matplotlib inline"
   ]
  },
  {
   "cell_type": "markdown",
   "metadata": {},
   "source": [
    "# 確率分布を理解する"
   ]
  },
  {
   "cell_type": "markdown",
   "metadata": {},
   "source": [
    "## ケーススタディ\n",
    "---\n",
    "データセンターの管理者として、以下の問題を考える。\n",
    "\n",
    "- サーバーや HDD などの機材が壊れた場合にはすぐに入れ替えたいので、一定数の予備を用意しておきたい\n",
    "- ただし、予備を過剰に持つのは避けたい\n",
    "- **何が**わかれば購入すべき機材の数を意思決定できそうか考える"
   ]
  },
  {
   "cell_type": "markdown",
   "metadata": {},
   "source": [
    "## 数学的確率と統計的確率"
   ]
  },
  {
   "cell_type": "markdown",
   "metadata": {},
   "source": [
    "### 数学的確率 (場合の数)\n",
    "---\n",
    "サイコロを振ったときに起こりうる全ての出来事は以下の通り。全ての目の場合の数 (6通り)を分母に、それぞれの目が出る場合の数 (1通り) を分子に取ると、それぞれの目の出る確率になる。 $\n",
    "\\left({\\displaystyle\n",
    "    1の確率\\ =\\ 2の確率\\ =\\ 3の確率\\ =\\ 4の確率\\ =\\ 5の確率\\ =\\ 6の確率\\ =\\ \\frac\n",
    "        {1}\n",
    "        {6}\n",
    "}\\right)\n",
    "$\n",
    "\n",
    "<table class=\"border\">\n",
    "    <tr>\n",
    "        <td>1</td>\n",
    "        <td>2</td>\n",
    "        <td>3</td>\n",
    "    </tr>\n",
    "    <tr>\n",
    "        <td>4</td>\n",
    "        <td>5</td>\n",
    "        <td>6</td>\n",
    "    </tr>\n",
    "</table>\n",
    "\n",
    "\n",
    "コイン投げで表が裏の2倍出やすいコインを使ったとすると、場合の数は以下の通り。\n",
    "\n",
    "<table class=\"border\">\n",
    "    <tr>\n",
    "        <td>表</td>\n",
    "        <td>表</td>\n",
    "        <td>裏</td>\n",
    "    </tr>\n",
    "</table>\n",
    "\n",
    "\n",
    "表全体の面積を1とすると、表に占める面積がそれぞれの出来事の起こる確率 ${\\displaystyle \\left(表=\\frac{2}{3},\\ 裏=\\frac{1}{3}\\right)}$ と考えられる。"
   ]
  },
  {
   "cell_type": "code",
   "execution_count": 2,
   "metadata": {
    "hide_input": true,
    "jupyter": {
     "source_hidden": true
    }
   },
   "outputs": [
    {
     "data": {
      "image/png": "[encoded data removed]",
      "text/plain": [
       "<Figure size 288x288 with 1 Axes>"
      ]
     },
     "metadata": {
      "needs_background": "light"
     },
     "output_type": "display_data"
    }
   ],
   "source": [
    "from my_functions.distribution import mathematical_probability\n",
    "mathematical_probability.show()"
   ]
  },
  {
   "cell_type": "markdown",
   "metadata": {},
   "source": [
    "### 統計的確率 (観測割合)\n",
    "---\n",
    "実際に試行を繰り返して得られた結果の割合から推測される確率。"
   ]
  },
  {
   "cell_type": "markdown",
   "metadata": {},
   "source": [
    "練習問題\n",
    "\n",
    "---\n",
    "`numpy.random.randint`を用いて、サイコロを10回振ったデータ`dice`(配列) をシミュレーションし、統計的確率のグラフを表示する。"
   ]
  },
  {
   "cell_type": "code",
   "execution_count": 3,
   "metadata": {
    "collapsed": true,
    "jupyter": {
     "outputs_hidden": true
    }
   },
   "outputs": [
    {
     "name": "stdout",
     "output_type": "stream",
     "text": [
      "Help on built-in function randint:\n",
      "\n",
      "randint(...) method of numpy.random.mtrand.RandomState instance\n",
      "    randint(low, high=None, size=None, dtype=int)\n",
      "    \n",
      "    Return random integers from `low` (inclusive) to `high` (exclusive).\n",
      "    \n",
      "    Return random integers from the \"discrete uniform\" distribution of\n",
      "    the specified dtype in the \"half-open\" interval [`low`, `high`). If\n",
      "    `high` is None (the default), then results are from [0, `low`).\n",
      "    \n",
      "    .. note::\n",
      "        New code should use the ``integers`` method of a ``default_rng()``\n",
      "        instance instead; see `random-quick-start`.\n",
      "    \n",
      "    Parameters\n",
      "    ----------\n",
      "    low : int or array-like of ints\n",
      "        Lowest (signed) integers to be drawn from the distribution (unless\n",
      "        ``high=None``, in which case this parameter is one above the\n",
      "        *highest* such integer).\n",
      "    high : int or array-like of ints, optional\n",
      "        If provided, one above the largest (signed) integer to be drawn\n",
      "        from the distribution (see above for behavior if ``high=None``).\n",
      "        If array-like, must contain integer values\n",
      "    size : int or tuple of ints, optional\n",
      "        Output shape.  If the given shape is, e.g., ``(m, n, k)``, then\n",
      "        ``m * n * k`` samples are drawn.  Default is None, in which case a\n",
      "        single value is returned.\n",
      "    dtype : dtype, optional\n",
      "        Desired dtype of the result. Byteorder must be native.\n",
      "        The default value is int.\n",
      "    \n",
      "        .. versionadded:: 1.11.0\n",
      "    \n",
      "    Returns\n",
      "    -------\n",
      "    out : int or ndarray of ints\n",
      "        `size`-shaped array of random integers from the appropriate\n",
      "        distribution, or a single such random int if `size` not provided.\n",
      "    \n",
      "    See Also\n",
      "    --------\n",
      "    random_integers : similar to `randint`, only for the closed\n",
      "        interval [`low`, `high`], and 1 is the lowest value if `high` is\n",
      "        omitted.\n",
      "    Generator.integers: which should be used for new code.\n",
      "    \n",
      "    Examples\n",
      "    --------\n",
      "    >>> np.random.randint(2, size=10)\n",
      "    array([1, 0, 0, 0, 1, 1, 0, 0, 1, 0]) # random\n",
      "    >>> np.random.randint(1, size=10)\n",
      "    array([0, 0, 0, 0, 0, 0, 0, 0, 0, 0])\n",
      "    \n",
      "    Generate a 2 x 4 array of ints between 0 and 4, inclusive:\n",
      "    \n",
      "    >>> np.random.randint(5, size=(2, 4))\n",
      "    array([[4, 0, 2, 1], # random\n",
      "           [3, 2, 2, 0]])\n",
      "    \n",
      "    Generate a 1 x 3 array with 3 different upper bounds\n",
      "    \n",
      "    >>> np.random.randint(1, [3, 5, 10])\n",
      "    array([2, 2, 9]) # random\n",
      "    \n",
      "    Generate a 1 by 3 array with 3 different lower bounds\n",
      "    \n",
      "    >>> np.random.randint([1, 5, 7], 10)\n",
      "    array([9, 8, 7]) # random\n",
      "    \n",
      "    Generate a 2 by 4 array using broadcasting with dtype of uint8\n",
      "    \n",
      "    >>> np.random.randint([1, 3, 5, 7], [[10], [20]], dtype=np.uint8)\n",
      "    array([[ 8,  6,  9,  7], # random\n",
      "           [ 1, 16,  9, 12]], dtype=uint8)\n",
      "\n"
     ]
    }
   ],
   "source": [
    "help(np.random.randint)"
   ]
  },
  {
   "cell_type": "code",
   "execution_count": null,
   "metadata": {},
   "outputs": [],
   "source": []
  },
  {
   "cell_type": "markdown",
   "metadata": {
    "solution2": "hidden",
    "solution2_first": true
   },
   "source": [
    "解答例\n",
    "\n",
    "---"
   ]
  },
  {
   "cell_type": "code",
   "execution_count": 4,
   "metadata": {
    "collapsed": true,
    "jupyter": {
     "outputs_hidden": true,
     "source_hidden": true
    },
    "solution2": "hidden"
   },
   "outputs": [
    {
     "data": {
      "image/png": "[encoded data removed]",
      "text/plain": [
       "<Figure size 432x288 with 1 Axes>"
      ]
     },
     "metadata": {
      "needs_background": "light"
     },
     "output_type": "display_data"
    }
   ],
   "source": [
    "np.random.seed(1234)\n",
    "dice = np.random.randint(1, 7, 10)\n",
    "unique, counts = np.unique(dice, return_counts=True)\n",
    "prob = counts / counts.sum()\n",
    "plt.vlines(unique, 0, prob)\n",
    "plt.ylim((0, prob.max() * 1.1))\n",
    "plt.show()"
   ]
  },
  {
   "cell_type": "markdown",
   "metadata": {},
   "source": [
    "---"
   ]
  },
  {
   "cell_type": "markdown",
   "metadata": {},
   "source": [
    "### 数学的確率と統計的確率の関係"
   ]
  },
  {
   "cell_type": "markdown",
   "metadata": {},
   "source": [
    "#### 大数の法則 (law of large numbers)\n",
    "---\n",
    "試行回数を増やすにつれ、統計的確率はある値 (期待値 = 数学的確率) に収束していく。これを大数の法則と呼ぶ。"
   ]
  },
  {
   "cell_type": "markdown",
   "metadata": {},
   "source": [
    "練習問題\n",
    "\n",
    "---\n",
    "表裏が同じ確率で出るコインを1回・2回…1,000回投げ、それぞれの回までに表が出た回数の平均を表すデータ`coin`(配列) を作成し、回数が増えていくにつれて確率 (観測された表の割合) がどのように変化していったかを表す折れ線グラフを表示する。"
   ]
  },
  {
   "cell_type": "code",
   "execution_count": null,
   "metadata": {},
   "outputs": [],
   "source": []
  },
  {
   "cell_type": "markdown",
   "metadata": {
    "solution2": "hidden",
    "solution2_first": true
   },
   "source": [
    "解答例\n",
    "\n",
    "---"
   ]
  },
  {
   "cell_type": "code",
   "execution_count": 5,
   "metadata": {
    "collapsed": true,
    "hide_input": true,
    "jupyter": {
     "outputs_hidden": true,
     "source_hidden": true
    },
    "solution2": "hidden"
   },
   "outputs": [
    {
     "data": {
      "image/png": "[encoded data removed]",
      "text/plain": [
       "<Figure size 432x288 with 1 Axes>"
      ]
     },
     "metadata": {
      "needs_background": "light"
     },
     "output_type": "display_data"
    }
   ],
   "source": [
    "np.random.seed(1234)\n",
    "size = int(1e4)\n",
    "data = np.random.randint(low=0, high=2, size=size)\n",
    "coin = data.cumsum() / (np.arange(size) + 1)\n",
    "plt.plot(np.arange(size), coin)\n",
    "plt.axhline(0.5, color='gray', alpha=0.3)\n",
    "plt.show()"
   ]
  },
  {
   "cell_type": "markdown",
   "metadata": {},
   "source": [
    "---"
   ]
  },
  {
   "cell_type": "markdown",
   "metadata": {},
   "source": [
    "#### 参考"
   ]
  },
  {
   "cell_type": "markdown",
   "metadata": {},
   "source": [
    "##### モンティ・ホール問題"
   ]
  },
  {
   "cell_type": "markdown",
   "metadata": {},
   "source": [
    "練習問題\n",
    "\n",
    "---\n",
    "テレビ番組であるゲームを行う。そのゲームとは、3つの扉のうち1つが当たりで、参加者は扉1つを選びその扉が当たりなら豪華景品をもらえるというもの。ただし、参加者が扉を選んだ後に司会者が外れの扉 (参加者が選んだものは除く) を1つ開け、参加者は最初に選んだ扉のままでいるか残った扉に乗り換えるかを選択できる。  \n",
    "このとき、残った扉に乗り換えた場合の当たりの確率を予想し、場合の数を全て書き出して予想が当たっているかどうか確認する。"
   ]
  },
  {
   "cell_type": "markdown",
   "metadata": {
    "solution2": "hidden",
    "solution2_first": true
   },
   "source": [
    "解答例\n",
    "\n",
    "---"
   ]
  },
  {
   "cell_type": "markdown",
   "metadata": {
    "jupyter": {
     "source_hidden": true
    },
    "solution2": "hidden"
   },
   "source": [
    "<table class=\"border background-default text-center\">\n",
    "    <tr class=\"background-dark\">\n",
    "        <th>正解</th>\n",
    "        <th>最初の選択</th>\n",
    "        <th>開ける扉</th>\n",
    "        <th>最終選択</th>\n",
    "        <th>結果</th>\n",
    "        <th>場合の数</th>\n",
    "    </tr>\n",
    "    <tr>\n",
    "        <td rowspan=\"12\">1</td>\n",
    "        <td rowspan=\"4\">1</td>\n",
    "        <td rowspan=\"2\">2</td>\n",
    "        <td>そのまま (1)</td>\n",
    "        <td>あたり</td>\n",
    "        <td>　</td>\n",
    "    </tr>\n",
    "    <tr class=\"background-lightblue\">\n",
    "        <td>乗り換え (3)</td>\n",
    "        <td>はずれ</td>\n",
    "        <td>　</td>\n",
    "    </tr>\n",
    "    <tr>\n",
    "        <td rowspan=\"2\">3</td>\n",
    "        <td>そのまま (1)</td>\n",
    "        <td>あたり</td>\n",
    "        <td>　</td>\n",
    "    </tr>\n",
    "    <tr class=\"background-lightblue\">\n",
    "        <td>乗り換え (2)</td>\n",
    "        <td>はずれ</td>\n",
    "        <td>　</td>\n",
    "    </tr>\n",
    "    <tr>\n",
    "        <td rowspan=\"4\">2</td>\n",
    "        <td rowspan=\"4\">3</td>\n",
    "        <td rowspan=\"2\">そのまま (2)</td>\n",
    "        <td rowspan=\"2\">はずれ</td>\n",
    "        <td>　</td>\n",
    "    </tr>\n",
    "    <tr>\n",
    "        <td>　</td>\n",
    "    </tr>\n",
    "    <tr class=\"background-lightblue\">\n",
    "        <td rowspan=\"2\">乗り換え (1)</td>\n",
    "        <td rowspan=\"2\">あたり</td>\n",
    "        <td>　</td>\n",
    "    </tr>\n",
    "    <tr class=\"background-lightblue\"><td>　</td></tr>\n",
    "    <tr>\n",
    "        <td rowspan=\"4\">3</td>\n",
    "        <td rowspan=\"4\">2</td>\n",
    "        <td rowspan=\"2\">そのまま (3)</td>\n",
    "        <td rowspan=\"2\">はずれ</td>\n",
    "        <td>　</td>\n",
    "    </tr>\n",
    "    <tr>\n",
    "        <td>　</td>\n",
    "    </tr>\n",
    "    <tr class=\"background-lightblue\">\n",
    "        <td rowspan=\"2\">乗り換え (1)</td>\n",
    "        <td rowspan=\"2\">あたり</td>\n",
    "        <td>　</td>\n",
    "    </tr>\n",
    "    <tr class=\"background-lightblue\">\n",
    "        <td>　</td>\n",
    "    </tr>\n",
    "    <tr>\n",
    "        <td rowspan=\"12\">2</td>\n",
    "        <td rowspan=\"4\">1</td>\n",
    "        <td rowspan=\"4\">3</td>\n",
    "        <td rowspan=\"2\">そのまま (1)</td>\n",
    "        <td rowspan=\"2\">はずれ</td>\n",
    "        <td>　</td>\n",
    "    </tr>\n",
    "    <tr>\n",
    "        <td>　</td>\n",
    "    </tr>\n",
    "    <tr class=\"background-lightblue\">\n",
    "        <td rowspan=\"2\">乗り換え (2)</td>\n",
    "        <td rowspan=\"2\">あたり</td>\n",
    "        <td>　</td>\n",
    "    </tr>\n",
    "    <tr class=\"background-lightblue\">\n",
    "        <td>　</td>\n",
    "    </tr>\n",
    "    <tr>\n",
    "        <td rowspan=\"4\">2</td>\n",
    "        <td rowspan=\"2\">1</td>\n",
    "        <td>そのまま (2)</td>\n",
    "        <td>あたり</td>\n",
    "        <td>　</td>\n",
    "    </tr>\n",
    "    <tr class=\"background-lightblue\">\n",
    "        <td>乗り換え (3)</td>\n",
    "        <td>はずれ</td>\n",
    "        <td>　</td>\n",
    "    </tr>\n",
    "    <tr>\n",
    "        <td rowspan=\"2\">3</td>\n",
    "        <td>そのまま (2)</td>\n",
    "        <td>あたり</td>\n",
    "        <td>　</td>\n",
    "    </tr>\n",
    "    <tr class=\"background-lightblue\">\n",
    "        <td>乗り換え (1)</td>\n",
    "        <td>はずれ</td>\n",
    "        <td>　</td>\n",
    "    </tr>\n",
    "    <tr>\n",
    "        <td rowspan=\"4\">3</td>\n",
    "        <td rowspan=\"4\">1</td>\n",
    "        <td rowspan=\"2\">そのまま (3)</td>\n",
    "        <td rowspan=\"2\">はずれ</td>\n",
    "        <td>　</td>\n",
    "    </tr>\n",
    "    <tr>\n",
    "        <td>　</td>\n",
    "    </tr>\n",
    "    <tr class=\"background-lightblue\">\n",
    "        <td rowspan=\"2\">乗り換え (2)</td>\n",
    "        <td rowspan=\"2\">あたり</td>\n",
    "        <td>　</td>\n",
    "    </tr>\n",
    "    <tr class=\"background-lightblue\">\n",
    "        <td>　</td>\n",
    "    </tr>\n",
    "    <tr>\n",
    "        <td rowspan=\"12\">3</td>\n",
    "        <td rowspan=\"4\">1</td>\n",
    "        <td rowspan=\"4\">2</td>\n",
    "        <td rowspan=\"2\">そのまま (1)</td>\n",
    "        <td rowspan=\"2\">はずれ</td>\n",
    "        <td>　</td>\n",
    "    </tr>\n",
    "    <tr>\n",
    "        <td>　</td>\n",
    "    </tr>\n",
    "    <tr class=\"background-lightblue\">\n",
    "        <td rowspan=\"2\">乗り換え (3)</td>\n",
    "        <td rowspan=\"2\">あたり</td>\n",
    "        <td>　</td>\n",
    "    </tr>\n",
    "    <tr class=\"background-lightblue\">\n",
    "        <td>　</td>\n",
    "    </tr>\n",
    "    <tr>\n",
    "        <td rowspan=\"4\">2</td>\n",
    "        <td rowspan=\"4\">1</td>\n",
    "        <td rowspan=\"2\">そのまま (2)</td>\n",
    "        <td rowspan=\"2\">はずれ</td>\n",
    "        <td>　</td>\n",
    "    </tr>\n",
    "    <tr>\n",
    "        <td>　</td>\n",
    "    </tr>\n",
    "    <tr class=\"background-lightblue\">\n",
    "        <td rowspan=\"2\">乗り換え (3)</td>\n",
    "        <td rowspan=\"2\">あたり</td>\n",
    "        <td>　</td>\n",
    "    </tr>\n",
    "    <tr class=\"background-lightblue\">\n",
    "        <td>　</td>\n",
    "    </tr>\n",
    "    <tr>\n",
    "        <td rowspan=\"4\">3</td>\n",
    "        <td rowspan=\"2\">1</td>\n",
    "        <td>そのまま (3)</td>\n",
    "        <td>あたり</td>\n",
    "        <td>　</td>\n",
    "    </tr>\n",
    "    <tr class=\"background-lightblue\">\n",
    "        <td>乗り換え (2)</td>\n",
    "        <td>はずれ</td>\n",
    "        <td>　</td>\n",
    "    </tr>\n",
    "    <tr>\n",
    "        <td rowspan=\"2\">2</td>\n",
    "        <td>そのまま (3)</td>\n",
    "        <td>あたり</td>\n",
    "        <td>　</td>\n",
    "    </tr>\n",
    "    <tr class=\"background-lightblue\">\n",
    "        <td>乗り換え (1)</td>\n",
    "        <td>はずれ</td>\n",
    "        <td>　</td>\n",
    "    </tr>\n",
    "</table>\n",
    "\n",
    "乗り換えた場合に当たる確率 $\\displaystyle \\frac{12}{18} =\\frac{2}{3}$"
   ]
  },
  {
   "cell_type": "markdown",
   "metadata": {},
   "source": [
    "---"
   ]
  },
  {
   "cell_type": "markdown",
   "metadata": {},
   "source": [
    "練習問題\n",
    "\n",
    "---\n",
    "上のゲームをプログラムで 10,000 回シミュレーションして、確率を表示する。"
   ]
  },
  {
   "cell_type": "code",
   "execution_count": null,
   "metadata": {},
   "outputs": [],
   "source": []
  },
  {
   "cell_type": "markdown",
   "metadata": {
    "solution2": "hidden",
    "solution2_first": true
   },
   "source": [
    "解答例\n",
    "\n",
    "---"
   ]
  },
  {
   "cell_type": "code",
   "execution_count": 6,
   "metadata": {
    "collapsed": true,
    "jupyter": {
     "outputs_hidden": true,
     "source_hidden": true
    },
    "solution2": "hidden"
   },
   "outputs": [
    {
     "name": "stdout",
     "output_type": "stream",
     "text": [
      "確率 : 0.66\n"
     ]
    }
   ],
   "source": [
    "total = 10000\n",
    "success = 0\n",
    "doors = np.arange(1, 4)\n",
    "np.random.seed(1234)\n",
    "for _ in range(total):\n",
    "    answer = np.random.randint(1, 4)\n",
    "    choice = np.random.randint(1, 4)\n",
    "    if answer != choice:\n",
    "        success += 1\n",
    "print(f'確率 : {success/total:.2f}')"
   ]
  },
  {
   "cell_type": "markdown",
   "metadata": {},
   "source": [
    "---"
   ]
  },
  {
   "cell_type": "markdown",
   "metadata": {},
   "source": [
    "## 確率分布\n",
    "---\n",
    "一定の値を取りうる変数 $X$ があり、 $X$ のそれぞれの値に対応する確率との関係を確率分布という。グラフでは横軸に $X$ の取りうる値を並べ、それに対応する確率を表すものになる。"
   ]
  },
  {
   "cell_type": "code",
   "execution_count": 7,
   "metadata": {
    "hide_input": true,
    "jupyter": {
     "source_hidden": true
    }
   },
   "outputs": [
    {
     "data": {
      "image/png": "[encoded data removed]",
      "text/plain": [
       "<Figure size 288x288 with 1 Axes>"
      ]
     },
     "metadata": {
      "needs_background": "light"
     },
     "output_type": "display_data"
    }
   ],
   "source": [
    "mathematical_probability.show()"
   ]
  },
  {
   "cell_type": "markdown",
   "metadata": {},
   "source": [
    "### 離散型の確率分布\n",
    "---\n",
    "変数 $X$ の取りうる値が離散値 (とびとびの値) の場合、その確率分布は離散型の確率分布という。\n",
    "\n",
    "以下では実際の現象にそのまま適用できるものを主に扱い、統計量などとともに出てくる特殊な分布はその都度扱う。"
   ]
  },
  {
   "cell_type": "markdown",
   "metadata": {},
   "source": [
    "練習問題\n",
    "\n",
    "---\n",
    "サイコロを 10,000 回振ったデータ`dice10000`をシミュレーションし、確率分布をグラフで表現する。"
   ]
  },
  {
   "cell_type": "code",
   "execution_count": null,
   "metadata": {},
   "outputs": [],
   "source": []
  },
  {
   "cell_type": "markdown",
   "metadata": {
    "solution2": "hidden",
    "solution2_first": true
   },
   "source": [
    "解答例\n",
    "\n",
    "---"
   ]
  },
  {
   "cell_type": "code",
   "execution_count": 8,
   "metadata": {
    "collapsed": true,
    "jupyter": {
     "outputs_hidden": true,
     "source_hidden": true
    },
    "solution2": "hidden"
   },
   "outputs": [
    {
     "data": {
      "image/png": "[encoded data removed]",
      "text/plain": [
       "<Figure size 432x288 with 1 Axes>"
      ]
     },
     "metadata": {
      "needs_background": "light"
     },
     "output_type": "display_data"
    }
   ],
   "source": [
    "np.random.seed(1234)\n",
    "size = int(1e4)\n",
    "events = np.arange(6) + 1\n",
    "dice10000 = np.random.randint(6, size=size) + 1\n",
    "probs = [np.sum(dice10000 == i) / size for i in events]\n",
    "plt.vlines(events, 0, probs)\n",
    "plt.ylim((0, max(probs) * 1.1))\n",
    "plt.show()"
   ]
  },
  {
   "cell_type": "markdown",
   "metadata": {},
   "source": [
    "---"
   ]
  },
  {
   "cell_type": "markdown",
   "metadata": {},
   "source": [
    "離散型の確率分布では、縦軸に取りうる値に対応する割合をとり、その長さで確率を表す。"
   ]
  },
  {
   "cell_type": "markdown",
   "metadata": {},
   "source": [
    "#### 離散一様分布 (discrete uniform distribution)\n",
    "---\n",
    "> サイコロのように取りうる値のそれぞれに同じ確率が割り当てられている確率分布を離散一様分布という。"
   ]
  },
  {
   "cell_type": "code",
   "execution_count": 9,
   "metadata": {
    "hide_input": true,
    "jupyter": {
     "source_hidden": true
    }
   },
   "outputs": [
    {
     "data": {
      "application/vnd.jupyter.widget-view+json": {
       "model_id": "1dd40eaab77f45469e40d0944fd1b0e4",
       "version_major": 2,
       "version_minor": 0
      },
      "text/plain": [
       "interactive(children=(IntRangeSlider(value=(1, 6), continuous_update=False, description='$事象の範囲$：', max=10, mi…"
      ]
     },
     "metadata": {},
     "output_type": "display_data"
    }
   ],
   "source": [
    "from my_functions.distribution import discrete_uniform\n",
    "discrete_uniform.show()"
   ]
  },
  {
   "cell_type": "markdown",
   "metadata": {},
   "source": [
    "#### ベルヌーイ分布 (bernoulli distribution)"
   ]
  },
  {
   "cell_type": "markdown",
   "metadata": {},
   "source": [
    "練習問題\n",
    "\n",
    "---\n",
    "表が $60\\%$ の確率で出るコインで 1,000 回コイントスを行った結果をシミュレーションし、確率分布をグラフで表現する。"
   ]
  },
  {
   "cell_type": "code",
   "execution_count": null,
   "metadata": {},
   "outputs": [],
   "source": []
  },
  {
   "cell_type": "markdown",
   "metadata": {
    "solution2": "hidden",
    "solution2_first": true
   },
   "source": [
    "解答例\n",
    "\n",
    "---"
   ]
  },
  {
   "cell_type": "code",
   "execution_count": 10,
   "metadata": {
    "collapsed": true,
    "jupyter": {
     "outputs_hidden": true,
     "source_hidden": true
    },
    "solution2": "hidden"
   },
   "outputs": [
    {
     "data": {
      "image/png": "[encoded data removed]",
      "text/plain": [
       "<Figure size 432x288 with 1 Axes>"
      ]
     },
     "metadata": {
      "needs_background": "light"
     },
     "output_type": "display_data"
    }
   ],
   "source": [
    "np.random.seed(1234)\n",
    "events = ['裏', '表']\n",
    "size = 1000\n",
    "p = 0.6\n",
    "data = np.random.choice(events, size, p=[1 - p, p])\n",
    "probs = [np.sum(data == e) / size for e in events]\n",
    "plt.vlines(events, 0, prob)\n",
    "plt.xticks(events)\n",
    "plt.ylim((0, max(probs) * 1.1))\n",
    "plt.show()"
   ]
  },
  {
   "cell_type": "markdown",
   "metadata": {},
   "source": [
    "---"
   ]
  },
  {
   "cell_type": "markdown",
   "metadata": {},
   "source": [
    "> コイントスのように成功 (1) と失敗 (0) の二者択一 (ベルヌーイ試行) の結果の確率分布をベルヌーイ分布という。"
   ]
  },
  {
   "cell_type": "code",
   "execution_count": 11,
   "metadata": {
    "hide_input": true,
    "jupyter": {
     "source_hidden": true
    }
   },
   "outputs": [
    {
     "data": {
      "application/vnd.jupyter.widget-view+json": {
       "model_id": "681ff937685145a492a04bb18c14b190",
       "version_major": 2,
       "version_minor": 0
      },
      "text/plain": [
       "interactive(children=(FloatSlider(value=0.5, continuous_update=False, description='成功確率：', max=1.0, readout_fo…"
      ]
     },
     "metadata": {},
     "output_type": "display_data"
    }
   ],
   "source": [
    "from my_functions.distribution import bernoulli\n",
    "bernoulli.show()"
   ]
  },
  {
   "cell_type": "markdown",
   "metadata": {},
   "source": [
    "#### 二項分布 (binomial distribution)"
   ]
  },
  {
   "cell_type": "markdown",
   "metadata": {},
   "source": [
    "練習問題\n",
    "\n",
    "---\n",
    "偏りのないコインでコイントスを 10 回中の成功数を記録する。これを 10,000 回繰り返した結果をシミュレーションし、確率分布をグラフで表現する。 (10 回投げて記録する×10,000 回 = 合計 100,000 回投げる)"
   ]
  },
  {
   "cell_type": "code",
   "execution_count": null,
   "metadata": {},
   "outputs": [],
   "source": []
  },
  {
   "cell_type": "markdown",
   "metadata": {},
   "source": [
    "解答例\n",
    "\n",
    "---"
   ]
  },
  {
   "cell_type": "code",
   "execution_count": 12,
   "metadata": {
    "collapsed": true,
    "hide_input": false,
    "jupyter": {
     "outputs_hidden": true,
     "source_hidden": true
    },
    "solution2": "hidden",
    "solution2_first": true
   },
   "outputs": [
    {
     "data": {
      "image/png": "[encoded data removed]",
      "text/plain": [
       "<Figure size 432x288 with 1 Axes>"
      ]
     },
     "metadata": {
      "needs_background": "light"
     },
     "output_type": "display_data"
    }
   ],
   "source": [
    "np.random.seed(1234)\n",
    "reputation = 10\n",
    "sample = int(1e4)\n",
    "events = np.arange(0, 11)\n",
    "data = np.random.randint(0, 2, (sample, reputation)).sum(axis=1)\n",
    "probs = [np.sum(data == e) / sample for e in events]\n",
    "plt.vlines(events, 0, probs)\n",
    "plt.ylim((0, max(probs) * 1.1))\n",
    "plt.show()"
   ]
  },
  {
   "cell_type": "markdown",
   "metadata": {},
   "source": [
    "---"
   ]
  },
  {
   "cell_type": "markdown",
   "metadata": {},
   "source": [
    "> コイントスのようなベルヌーイ試行を $n$ 回行ったときの成功数の確率分布を二項分布という。"
   ]
  },
  {
   "cell_type": "code",
   "execution_count": 13,
   "metadata": {
    "hide_input": true,
    "jupyter": {
     "source_hidden": true
    }
   },
   "outputs": [
    {
     "data": {
      "application/vnd.jupyter.widget-view+json": {
       "model_id": "f03bcddcceca4e4e86a8754103b1b35a",
       "version_major": 2,
       "version_minor": 0
      },
      "text/plain": [
       "interactive(children=(IntSlider(value=3, continuous_update=False, description='回数：', max=10, min=1), FloatSlid…"
      ]
     },
     "metadata": {},
     "output_type": "display_data"
    }
   ],
   "source": [
    "from my_functions.distribution import binomial\n",
    "binomial.show()"
   ]
  },
  {
   "cell_type": "markdown",
   "metadata": {},
   "source": [
    "#### ポアソン分布 (poisson distribution)\n",
    "---\n",
    "> 起きる確率が稀な事象を表す確率分布をポアソン分布という。東京都内の1日あたり交通事故死者数など、 $n$ が大きく $p$ が小さい (期待値 $\\mu =np$ が小さい) ときの二項分布の近似。 (二項分布は $n$ が大きいと $p^{x}( 1-p)^{n-x}$ を求めないといけない都合上計算が大変で、近似できると便利なため)"
   ]
  },
  {
   "cell_type": "code",
   "execution_count": 14,
   "metadata": {
    "hide_input": true,
    "jupyter": {
     "source_hidden": true
    }
   },
   "outputs": [
    {
     "data": {
      "application/vnd.jupyter.widget-view+json": {
       "model_id": "72338cdea3264e49adc9cacf817ea1e3",
       "version_major": 2,
       "version_minor": 0
      },
      "text/plain": [
       "interactive(children=(FloatSlider(value=1.0, continuous_update=False, description='期待値 (平均) $( p\\\\times n)$：',…"
      ]
     },
     "metadata": {},
     "output_type": "display_data"
    }
   ],
   "source": [
    "from my_functions.distribution import poisson\n",
    "poisson.show()"
   ]
  },
  {
   "cell_type": "markdown",
   "metadata": {},
   "source": [
    "#### *幾何分布 (geometric distribution)*"
   ]
  },
  {
   "cell_type": "markdown",
   "metadata": {},
   "source": [
    "練習問題\n",
    "\n",
    "---\n",
    "偏りのないコインでコイントスを行い、初めて表が出たときの試行回数を記録する。これを 10,000 回繰り返した結果をシミュレーションし、1~10 の範囲での確率分布をグラフで表現する。 (試行回数は10で打ち切ってよい)"
   ]
  },
  {
   "cell_type": "code",
   "execution_count": null,
   "metadata": {},
   "outputs": [],
   "source": []
  },
  {
   "cell_type": "markdown",
   "metadata": {
    "solution2": "hidden",
    "solution2_first": true
   },
   "source": [
    "解答例\n",
    "\n",
    "---"
   ]
  },
  {
   "cell_type": "code",
   "execution_count": 15,
   "metadata": {
    "collapsed": true,
    "jupyter": {
     "outputs_hidden": true,
     "source_hidden": true
    },
    "solution2": "hidden"
   },
   "outputs": [
    {
     "data": {
      "image/png": "[encoded data removed]",
      "text/plain": [
       "<Figure size 432x288 with 1 Axes>"
      ]
     },
     "metadata": {
      "needs_background": "light"
     },
     "output_type": "display_data"
    }
   ],
   "source": [
    "reputation = 10\n",
    "sample = int(1e4)\n",
    "events = ['裏', '表']\n",
    "data = np.full((sample, reputation + 1), '表')\n",
    "data[:, :reputation] = np.random.choice(events, size=(sample, reputation))\n",
    "first = np.argsort(data != '表', kind='mergesort')[:, 0] + 1\n",
    "x = np.arange(1, 11)\n",
    "probs = [np.sum(first == i) / sample for i in x]\n",
    "plt.vlines(x, 0, probs)\n",
    "plt.ylim((0, 1.1))\n",
    "plt.show()"
   ]
  },
  {
   "cell_type": "markdown",
   "metadata": {},
   "source": [
    "---"
   ]
  },
  {
   "cell_type": "markdown",
   "metadata": {},
   "source": [
    "> ベルヌーイ試行で、初めて成功するまでの回数を表す確率分布を幾何分布という。ある出来事が起きてから、次に同じことが起きるまでの期間を求める。"
   ]
  },
  {
   "cell_type": "code",
   "execution_count": 16,
   "metadata": {
    "hide_input": true,
    "jupyter": {
     "source_hidden": true
    }
   },
   "outputs": [
    {
     "data": {
      "application/vnd.jupyter.widget-view+json": {
       "model_id": "5a1537396a744e2ea95ba43f6c754097",
       "version_major": 2,
       "version_minor": 0
      },
      "text/plain": [
       "interactive(children=(FloatSlider(value=0.5, continuous_update=False, description='確率／回', max=1.0, min=0.1, re…"
      ]
     },
     "metadata": {},
     "output_type": "display_data"
    }
   ],
   "source": [
    "from my_functions.distribution import geometric\n",
    "geometric.show()"
   ]
  },
  {
   "cell_type": "markdown",
   "metadata": {},
   "source": [
    "### 連続型の確率分布\n",
    "---\n",
    "変数 $X$ の取りうる値が連続値 (実数) の場合、その確率分布は連続型の確率分布という。\n",
    "\n",
    "以下では実際の現象にそのまま適用できるものを主に扱い、統計量などとともに出てくる特殊な分布はその都度扱う。"
   ]
  },
  {
   "cell_type": "markdown",
   "metadata": {},
   "source": [
    "練習問題\n",
    "\n",
    "---\n",
    "`numpy.random.rand`と`numpy.unique`を用いて、 10,000 個の乱数 (0~1 の範囲の実数) を作成し、その中の重複する値の数を求める。"
   ]
  },
  {
   "cell_type": "code",
   "execution_count": 17,
   "metadata": {
    "collapsed": true,
    "jupyter": {
     "outputs_hidden": true
    }
   },
   "outputs": [
    {
     "name": "stdout",
     "output_type": "stream",
     "text": [
      "Help on built-in function rand:\n",
      "\n",
      "rand(...) method of numpy.random.mtrand.RandomState instance\n",
      "    rand(d0, d1, ..., dn)\n",
      "    \n",
      "    Random values in a given shape.\n",
      "    \n",
      "    .. note::\n",
      "        This is a convenience function for users porting code from Matlab,\n",
      "        and wraps `random_sample`. That function takes a\n",
      "        tuple to specify the size of the output, which is consistent with\n",
      "        other NumPy functions like `numpy.zeros` and `numpy.ones`.\n",
      "    \n",
      "    Create an array of the given shape and populate it with\n",
      "    random samples from a uniform distribution\n",
      "    over ``[0, 1)``.\n",
      "    \n",
      "    Parameters\n",
      "    ----------\n",
      "    d0, d1, ..., dn : int, optional\n",
      "        The dimensions of the returned array, must be non-negative.\n",
      "        If no argument is given a single Python float is returned.\n",
      "    \n",
      "    Returns\n",
      "    -------\n",
      "    out : ndarray, shape ``(d0, d1, ..., dn)``\n",
      "        Random values.\n",
      "    \n",
      "    See Also\n",
      "    --------\n",
      "    random\n",
      "    \n",
      "    Examples\n",
      "    --------\n",
      "    >>> np.random.rand(3,2)\n",
      "    array([[ 0.14022471,  0.96360618],  #random\n",
      "           [ 0.37601032,  0.25528411],  #random\n",
      "           [ 0.49313049,  0.94909878]]) #random\n",
      "\n"
     ]
    }
   ],
   "source": [
    "help(np.random.rand)"
   ]
  },
  {
   "cell_type": "code",
   "execution_count": 18,
   "metadata": {
    "collapsed": true,
    "jupyter": {
     "outputs_hidden": true
    }
   },
   "outputs": [
    {
     "name": "stdout",
     "output_type": "stream",
     "text": [
      "Help on function unique in module numpy:\n",
      "\n",
      "unique(ar, return_index=False, return_inverse=False, return_counts=False, axis=None)\n",
      "    Find the unique elements of an array.\n",
      "    \n",
      "    Returns the sorted unique elements of an array. There are three optional\n",
      "    outputs in addition to the unique elements:\n",
      "    \n",
      "    * the indices of the input array that give the unique values\n",
      "    * the indices of the unique array that reconstruct the input array\n",
      "    * the number of times each unique value comes up in the input array\n",
      "    \n",
      "    Parameters\n",
      "    ----------\n",
      "    ar : array_like\n",
      "        Input array. Unless `axis` is specified, this will be flattened if it\n",
      "        is not already 1-D.\n",
      "    return_index : bool, optional\n",
      "        If True, also return the indices of `ar` (along the specified axis,\n",
      "        if provided, or in the flattened array) that result in the unique array.\n",
      "    return_inverse : bool, optional\n",
      "        If True, also return the indices of the unique array (for the specified\n",
      "        axis, if provided) that can be used to reconstruct `ar`.\n",
      "    return_counts : bool, optional\n",
      "        If True, also return the number of times each unique item appears\n",
      "        in `ar`.\n",
      "    \n",
      "        .. versionadded:: 1.9.0\n",
      "    \n",
      "    axis : int or None, optional\n",
      "        The axis to operate on. If None, `ar` will be flattened. If an integer,\n",
      "        the subarrays indexed by the given axis will be flattened and treated\n",
      "        as the elements of a 1-D array with the dimension of the given axis,\n",
      "        see the notes for more details.  Object arrays or structured arrays\n",
      "        that contain objects are not supported if the `axis` kwarg is used. The\n",
      "        default is None.\n",
      "    \n",
      "        .. versionadded:: 1.13.0\n",
      "    \n",
      "    Returns\n",
      "    -------\n",
      "    unique : ndarray\n",
      "        The sorted unique values.\n",
      "    unique_indices : ndarray, optional\n",
      "        The indices of the first occurrences of the unique values in the\n",
      "        original array. Only provided if `return_index` is True.\n",
      "    unique_inverse : ndarray, optional\n",
      "        The indices to reconstruct the original array from the\n",
      "        unique array. Only provided if `return_inverse` is True.\n",
      "    unique_counts : ndarray, optional\n",
      "        The number of times each of the unique values comes up in the\n",
      "        original array. Only provided if `return_counts` is True.\n",
      "    \n",
      "        .. versionadded:: 1.9.0\n",
      "    \n",
      "    See Also\n",
      "    --------\n",
      "    numpy.lib.arraysetops : Module with a number of other functions for\n",
      "                            performing set operations on arrays.\n",
      "    \n",
      "    Notes\n",
      "    -----\n",
      "    When an axis is specified the subarrays indexed by the axis are sorted.\n",
      "    This is done by making the specified axis the first dimension of the array\n",
      "    (move the axis to the first dimension to keep the order of the other axes)\n",
      "    and then flattening the subarrays in C order. The flattened subarrays are\n",
      "    then viewed as a structured type with each element given a label, with the\n",
      "    effect that we end up with a 1-D array of structured types that can be\n",
      "    treated in the same way as any other 1-D array. The result is that the\n",
      "    flattened subarrays are sorted in lexicographic order starting with the\n",
      "    first element.\n",
      "    \n",
      "    Examples\n",
      "    --------\n",
      "    >>> np.unique([1, 1, 2, 2, 3, 3])\n",
      "    array([1, 2, 3])\n",
      "    >>> a = np.array([[1, 1], [2, 3]])\n",
      "    >>> np.unique(a)\n",
      "    array([1, 2, 3])\n",
      "    \n",
      "    Return the unique rows of a 2D array\n",
      "    \n",
      "    >>> a = np.array([[1, 0, 0], [1, 0, 0], [2, 3, 4]])\n",
      "    >>> np.unique(a, axis=0)\n",
      "    array([[1, 0, 0], [2, 3, 4]])\n",
      "    \n",
      "    Return the indices of the original array that give the unique values:\n",
      "    \n",
      "    >>> a = np.array(['a', 'b', 'b', 'c', 'a'])\n",
      "    >>> u, indices = np.unique(a, return_index=True)\n",
      "    >>> u\n",
      "    array(['a', 'b', 'c'], dtype='<U1')\n",
      "    >>> indices\n",
      "    array([0, 1, 3])\n",
      "    >>> a[indices]\n",
      "    array(['a', 'b', 'c'], dtype='<U1')\n",
      "    \n",
      "    Reconstruct the input array from the unique values:\n",
      "    \n",
      "    >>> a = np.array([1, 2, 6, 4, 2, 3, 2])\n",
      "    >>> u, indices = np.unique(a, return_inverse=True)\n",
      "    >>> u\n",
      "    array([1, 2, 3, 4, 6])\n",
      "    >>> indices\n",
      "    array([0, 1, 4, ..., 1, 2, 1])\n",
      "    >>> u[indices]\n",
      "    array([1, 2, 6, ..., 2, 3, 2])\n",
      "\n"
     ]
    }
   ],
   "source": [
    "help(np.unique)"
   ]
  },
  {
   "cell_type": "code",
   "execution_count": null,
   "metadata": {},
   "outputs": [],
   "source": []
  },
  {
   "cell_type": "markdown",
   "metadata": {
    "solution2": "hidden",
    "solution2_first": true
   },
   "source": [
    "解答例\n",
    "\n",
    "---"
   ]
  },
  {
   "cell_type": "code",
   "execution_count": 19,
   "metadata": {
    "collapsed": true,
    "jupyter": {
     "outputs_hidden": true,
     "source_hidden": true
    },
    "solution2": "hidden"
   },
   "outputs": [
    {
     "name": "stdout",
     "output_type": "stream",
     "text": [
      "重複数 : 0\n"
     ]
    }
   ],
   "source": [
    "np.random.seed(1234)\n",
    "size = int(1e4)\n",
    "data = np.random.rand(size)\n",
    "print(f'重複数 : {size-np.unique(data).size}')"
   ]
  },
  {
   "cell_type": "markdown",
   "metadata": {},
   "source": [
    "---"
   ]
  },
  {
   "cell_type": "markdown",
   "metadata": {},
   "source": [
    "練習問題\n",
    "\n",
    "---\n",
    "上で作成したデータを離散化し、それぞれの階級に含まれるカウント数を元に棒グラフでヒストグラムを自作する。ただし、棒と棒の間の間隔を開けず、棒の面積の合計が1になるように高さを調整する。"
   ]
  },
  {
   "cell_type": "code",
   "execution_count": null,
   "metadata": {},
   "outputs": [],
   "source": []
  },
  {
   "cell_type": "markdown",
   "metadata": {
    "solution2": "hidden",
    "solution2_first": true
   },
   "source": [
    "解答例\n",
    "\n",
    "---"
   ]
  },
  {
   "cell_type": "code",
   "execution_count": 20,
   "metadata": {
    "collapsed": true,
    "jupyter": {
     "outputs_hidden": true,
     "source_hidden": true
    },
    "solution2": "hidden"
   },
   "outputs": [
    {
     "data": {
      "image/png": "[encoded data removed]",
      "text/plain": [
       "<Figure size 432x288 with 1 Axes>"
      ]
     },
     "metadata": {
      "needs_background": "light"
     },
     "output_type": "display_data"
    }
   ],
   "source": [
    "np.random.seed(1234)\n",
    "xmin, xmax = 0, 1\n",
    "size = int(1e4)\n",
    "data = np.random.rand(size)\n",
    "bins = 10\n",
    "division = np.linspace(0, 1, bins + 1)\n",
    "counts = [\n",
    "    np.sum((division[i] <= data) & (data < division[i + 1]))\n",
    "    for i in range(bins)\n",
    "]\n",
    "width = (xmax - xmin) / bins\n",
    "height = [1 / width / sample * count for count in counts]\n",
    "plt.bar(division[:-1], height, width, align='edge', edgecolor='black')\n",
    "plt.show()"
   ]
  },
  {
   "cell_type": "markdown",
   "metadata": {},
   "source": [
    "連続値のとりうる値の種類は無限に存在するので、場合の数で考えるとある値 $x$ に対応する**確率は $0$** $\n",
    "{\\displaystyle \\left(\n",
    "    \\frac\n",
    "        {1}\n",
    "        {\\infty }\n",
    "    \\rightarrow 0\n",
    "\\right)}\n",
    "$ となる。そこで、上のヒストグラムのように一定区間の面積で確率を表す。  \n",
    "このとき縦軸は確率密度になる。面積 $\\displaystyle 1m^{2}$ あたりの質量、つまり密度が $\\displaystyle kg/m^{2}$ であるように、確率密度は $\\displaystyle 確率/変数Xの単位$ である。"
   ]
  },
  {
   "cell_type": "markdown",
   "metadata": {},
   "source": [
    "#### 一様分布 (uniform distribution)\n",
    "---\n",
    "> 離散一様分布のように最小値 $a$ と最大値 $b$ の間で、同じ長さの区間の確率がどこを取っても等しいような連続値の確率分布を一様分布という。"
   ]
  },
  {
   "cell_type": "code",
   "execution_count": 21,
   "metadata": {
    "hide_input": true,
    "jupyter": {
     "source_hidden": true
    }
   },
   "outputs": [
    {
     "data": {
      "application/vnd.jupyter.widget-view+json": {
       "model_id": "34843d2b8c054653818d8048f51c1e33",
       "version_major": 2,
       "version_minor": 0
      },
      "text/plain": [
       "interactive(children=(FloatRangeSlider(value=(0.0, 5.0), continuous_update=False, description='事象の範囲：', max=10…"
      ]
     },
     "metadata": {},
     "output_type": "display_data"
    }
   ],
   "source": [
    "from my_functions.distribution import uniform\n",
    "uniform.show()"
   ]
  },
  {
   "cell_type": "markdown",
   "metadata": {},
   "source": [
    "#### 指数分布 (exponential distribution)\n",
    "---\n",
    "> 幾何分布のようにベルヌーイ試行で、初めて成功するまでを表す確率分布を指数分布という。幾何分布が離散時間 (回数など) を表すのに対して、指数分布は連続時間 (通常の時間など) を表す。"
   ]
  },
  {
   "cell_type": "code",
   "execution_count": 22,
   "metadata": {
    "hide_input": true,
    "jupyter": {
     "source_hidden": true
    }
   },
   "outputs": [
    {
     "data": {
      "application/vnd.jupyter.widget-view+json": {
       "model_id": "b0dfb32006ad4908be682cf9026c90ec",
       "version_major": 2,
       "version_minor": 0
      },
      "text/plain": [
       "interactive(children=(FloatLogSlider(value=0.5, continuous_update=False, description='単位時間あたり平均回数：', max=1.0, …"
      ]
     },
     "metadata": {},
     "output_type": "display_data"
    }
   ],
   "source": [
    "from my_functions.distribution import exponential\n",
    "exponential.show()"
   ]
  },
  {
   "cell_type": "markdown",
   "metadata": {},
   "source": [
    "#### 正規分布 (normal distribution)\n",
    "---\n",
    "> 色々な現象に対してよく現れる左右対称な山型の連続確率分布。 $-\\infty $ から $\\infty $ まで全ての実数に対して確率 (密度) を割り当てる。  \n",
    "他の確率分布を近似するのに用いられることもある。"
   ]
  },
  {
   "cell_type": "code",
   "execution_count": 23,
   "metadata": {
    "hide_input": true,
    "jupyter": {
     "source_hidden": true
    }
   },
   "outputs": [
    {
     "data": {
      "application/vnd.jupyter.widget-view+json": {
       "model_id": "88cc86e9cbe14619b55553dff4b6e21e",
       "version_major": 2,
       "version_minor": 0
      },
      "text/plain": [
       "interactive(children=(FloatSlider(value=0.0, continuous_update=False, description='平均：', max=1.0, min=-1.0, re…"
      ]
     },
     "metadata": {},
     "output_type": "display_data"
    }
   ],
   "source": [
    "from my_functions.distribution import normal\n",
    "normal.show()"
   ]
  },
  {
   "cell_type": "markdown",
   "metadata": {},
   "source": [
    "### 確率分布まとめ\n",
    "---\n",
    "<table class=\"text-center border\">\n",
    "    <tr class=\"background-dark\">\n",
    "        <th>名称</th>\n",
    "        <th>離散・連続</th>\n",
    "        <th>特徴</th>\n",
    "    </tr>\n",
    "    <tr class=\"background-bright\">\n",
    "        <td>離散一様分布</td>\n",
    "        <td class=\"text-red\">離散</td>\n",
    "        <td rowspan=\"2\">確率一定</td>\n",
    "    </tr>\n",
    "    <tr class=\"background-bright\">\n",
    "        <td>一様分布</td>\n",
    "        <td class=\"text-blue\">連続</td>\n",
    "    </tr>\n",
    "    <tr class=\"background-dark\">\n",
    "        <td>ベルヌーイ分布</td>\n",
    "        <td class=\"text-red\">離散</td>\n",
    "        <td rowspan=\"5\">ベルヌーイ試行を対象</td>\n",
    "    </tr>\n",
    "    <tr class=\"background-dark\">\n",
    "        <td>二項分布</td>\n",
    "        <td class=\"text-red\">離散</td>\n",
    "    </tr>\n",
    "    <tr class=\"background-dark\">\n",
    "        <td>ポアソン分布</td>\n",
    "        <td class=\"text-red\">離散</td>\n",
    "    </tr>\n",
    "    <tr class=\"background-dark\">\n",
    "        <td>幾何分布</td>\n",
    "        <td class=\"text-red\">離散</td>\n",
    "    </tr>\n",
    "    <tr class=\"background-dark\">\n",
    "        <td>指数分布</td>\n",
    "        <td class=\"text-blue\">連続</td>\n",
    "    </tr>\n",
    "    <tr class=\"background-bright\">\n",
    "        <td>正規分布</td>\n",
    "        <td class=\"text-blue\">連続</td>\n",
    "        <td>左右対称の山型</td>\n",
    "    </tr>\n",
    "</table>\n",
    "\n",
    "<table class=\"border background-bright\">\n",
    "    <tr class=\"background-dark text-center\">\n",
    "        <th colspan=\"3\">ベルヌーイ試行に関連する分布間の関係</th>\n",
    "        <th>分布</th>\n",
    "    </tr>\n",
    "    <tr>\n",
    "        <td class=\"border-right-none text-left\">ベルヌーイ試行を複数回</td>\n",
    "        <td class=\"border-left-none\" colspan=\"2\"></td>\n",
    "        <td class=\"text-center\">二項分布</td>\n",
    "    </tr>\n",
    "    <tr>\n",
    "        <td class=\"text-left\" rowspan=\"2\">回数が多いときの二項分布の近似</td>\n",
    "        <td class=\"border-right-none text-left\">期待値 $\\displaystyle ( \\mu =np)$ が小さい</td>\n",
    "        <td class=\"border-left-none\"></td>\n",
    "        <td class=\"text-center\">ポアソン分布</td>\n",
    "    </tr>\n",
    "    <tr>\n",
    "        <td class=\"border-right-none text-left\">期待値 $\\displaystyle ( \\mu =np)$ が大きい</td>\n",
    "        <td class=\"border-left-none\"></td>\n",
    "        <td class=\"text-center\">正規分布</td>\n",
    "    </tr>\n",
    "    <tr>\n",
    "        <td class=\"text-left\" rowspan=\"4\">ベルヌーイ試行の時間と回数の関係</td>\n",
    "        <td class=\"text-left\" rowspan=\"2\">一定時間内の回数</td>\n",
    "        <td class=\"text-left\">離散時間</td>\n",
    "        <td class=\"text-center\">二項分布</td>\n",
    "    </tr>\n",
    "    <tr>\n",
    "        <td class=\"text-left\">連続時間</td>\n",
    "        <td class=\"text-center\">ポアソン分布</td>\n",
    "    </tr>\n",
    "    <tr>\n",
    "        <td class=\"text-left\" rowspan=\"2\">初めて成功するまでの時間</td>\n",
    "        <td class=\"text-left\">離散時間</td>\n",
    "        <td class=\"text-center\">幾何分布</td>\n",
    "    </tr>\n",
    "    <tr>\n",
    "        <td class=\"text-left\">連続時間</td>\n",
    "        <td class=\"text-center\">指数分布</td>\n",
    "    </tr>\n",
    "</table>"
   ]
  },
  {
   "cell_type": "markdown",
   "metadata": {},
   "source": [
    "## 確率分布に関連する関数\n",
    "---\n",
    "`scipy.stats` の中に、それぞれの確率分布に対応するクラスがある。\n",
    "\n",
    "<table class=\"text-center border\">\n",
    "    <tr>\n",
    "        <th>確率分布</th>\n",
    "        <th>クラス</th>\n",
    "    </tr>\n",
    "    <tr>\n",
    "        <td>一様分布</td>\n",
    "        <td class=\"text-left\"><a href=\"https://docs.scipy.org/doc/scipy/reference/generated/scipy.stats.uniform.html\">scipy.stats.uniform</a></td>\n",
    "    </tr>\n",
    "    <tr>\n",
    "        <td>ベルヌーイ分布</td>\n",
    "        <td class=\"text-left\"><a href=\"https://docs.scipy.org/doc/scipy/reference/generated/scipy.stats.bernoulli.html\">scipy.stats.bernoulli</a></td>\n",
    "    </tr>\n",
    "    <tr>\n",
    "        <td>二項分布</td>\n",
    "        <td class=\"text-left\"><a href=\"https://docs.scipy.org/doc/scipy/reference/generated/scipy.stats.binom.html\">scipy.stats.binom</a></td>\n",
    "    </tr>\n",
    "    <tr>\n",
    "        <td>ポアソン分布</td>\n",
    "        <td class=\"text-left\"><a href=\"https://docs.scipy.org/doc/scipy/reference/generated/scipy.stats.poisson.html\">scipy.stats.poisson</a></td>\n",
    "    </tr>\n",
    "    <tr>\n",
    "        <td>幾何分布</td>\n",
    "        <td class=\"text-left\"><a href=\"https://docs.scipy.org/doc/scipy/reference/generated/scipy.stats.geom.html\">scipy.stats.geom</a></td>\n",
    "    </tr>\n",
    "    <tr>\n",
    "        <td>指数分布</td>\n",
    "        <td class=\"text-left\"><a href=\"https://docs.scipy.org/doc/scipy/reference/generated/scipy.stats.expon.html\">scipy.stats.expon</a></td>\n",
    "    </tr>\n",
    "    <tr>\n",
    "        <td>正規分布</td>\n",
    "        <td class=\"text-left\"><a href=\"https://docs.scipy.org/doc/scipy/reference/generated/scipy.stats.norm.html\">scipy.stats.norm</a></td>\n",
    "    </tr>\n",
    "</table>\n",
    "\n",
    "他にも様々な[離散型](https://docs.scipy.org/doc/scipy/reference/stats.html#discrete-distributions)・[連続型](https://docs.scipy.org/doc/scipy/reference/stats.html#continuous-distributions)の確率分布がある。\n",
    "\n",
    "これらのクラスはほとんど共通するメソッドを持つので、以下では各メソッドを見ていく。"
   ]
  },
  {
   "cell_type": "markdown",
   "metadata": {},
   "source": [
    "### 確率質量関数 (pmf, Probability Mass Function)\n",
    "---\n",
    "> 離散型の分布で、ある **$X$ に対応する確率**を求める関数。"
   ]
  },
  {
   "cell_type": "markdown",
   "metadata": {},
   "source": [
    "練習問題\n",
    "\n",
    "---\n",
    "`scipy.stats.binom.pmf`を用いて、二項分布の確率質量関数を表すグラフを表示し、これと二項分布をシミュレーション (二項分布からサンプリング) した結果を重ねて比較する。"
   ]
  },
  {
   "cell_type": "code",
   "execution_count": 24,
   "metadata": {
    "collapsed": true,
    "jupyter": {
     "outputs_hidden": true
    }
   },
   "outputs": [
    {
     "name": "stdout",
     "output_type": "stream",
     "text": [
      "Help on binom_gen in module scipy.stats._discrete_distns object:\n",
      "\n",
      "class binom_gen(scipy.stats._distn_infrastructure.rv_discrete)\n",
      " |  binom_gen(a=0, b=inf, name=None, badvalue=None, moment_tol=1e-08, values=None, inc=1, longname=None, shapes=None, extradoc=None, seed=None)\n",
      " |  \n",
      " |  A binomial discrete random variable.\n",
      " |  \n",
      " |  %(before_notes)s\n",
      " |  \n",
      " |  Notes\n",
      " |  -----\n",
      " |  The probability mass function for `binom` is:\n",
      " |  \n",
      " |  .. math::\n",
      " |  \n",
      " |     f(k) = \\binom{n}{k} p^k (1-p)^{n-k}\n",
      " |  \n",
      " |  for ``k`` in ``{0, 1,..., n}``.\n",
      " |  \n",
      " |  `binom` takes ``n`` and ``p`` as shape parameters.\n",
      " |  \n",
      " |  %(after_notes)s\n",
      " |  \n",
      " |  %(example)s\n",
      " |  \n",
      " |  Method resolution order:\n",
      " |      binom_gen\n",
      " |      scipy.stats._distn_infrastructure.rv_discrete\n",
      " |      scipy.stats._distn_infrastructure.rv_generic\n",
      " |      builtins.object\n",
      " |  \n",
      " |  Methods inherited from scipy.stats._distn_infrastructure.rv_discrete:\n",
      " |  \n",
      " |  __init__(self, a=0, b=inf, name=None, badvalue=None, moment_tol=1e-08, values=None, inc=1, longname=None, shapes=None, extradoc=None, seed=None)\n",
      " |      Initialize self.  See help(type(self)) for accurate signature.\n",
      " |  \n",
      " |  cdf(self, k, *args, **kwds)\n",
      " |      Cumulative distribution function of the given RV.\n",
      " |      \n",
      " |      Parameters\n",
      " |      ----------\n",
      " |      k : array_like, int\n",
      " |          Quantiles.\n",
      " |      arg1, arg2, arg3,... : array_like\n",
      " |          The shape parameter(s) for the distribution (see docstring of the\n",
      " |          instance object for more information).\n",
      " |      loc : array_like, optional\n",
      " |          Location parameter (default=0).\n",
      " |      \n",
      " |      Returns\n",
      " |      -------\n",
      " |      cdf : ndarray\n",
      " |          Cumulative distribution function evaluated at `k`.\n",
      " |  \n",
      " |  expect(self, func=None, args=(), loc=0, lb=None, ub=None, conditional=False, maxcount=1000, tolerance=1e-10, chunksize=32)\n",
      " |      Calculate expected value of a function with respect to the distribution\n",
      " |      for discrete distribution by numerical summation.\n",
      " |      \n",
      " |      Parameters\n",
      " |      ----------\n",
      " |      func : callable, optional\n",
      " |          Function for which the expectation value is calculated.\n",
      " |          Takes only one argument.\n",
      " |          The default is the identity mapping f(k) = k.\n",
      " |      args : tuple, optional\n",
      " |          Shape parameters of the distribution.\n",
      " |      loc : float, optional\n",
      " |          Location parameter.\n",
      " |          Default is 0.\n",
      " |      lb, ub : int, optional\n",
      " |          Lower and upper bound for the summation, default is set to the\n",
      " |          support of the distribution, inclusive (``ul <= k <= ub``).\n",
      " |      conditional : bool, optional\n",
      " |          If true then the expectation is corrected by the conditional\n",
      " |          probability of the summation interval. The return value is the\n",
      " |          expectation of the function, `func`, conditional on being in\n",
      " |          the given interval (k such that ``ul <= k <= ub``).\n",
      " |          Default is False.\n",
      " |      maxcount : int, optional\n",
      " |          Maximal number of terms to evaluate (to avoid an endless loop for\n",
      " |          an infinite sum). Default is 1000.\n",
      " |      tolerance : float, optional\n",
      " |          Absolute tolerance for the summation. Default is 1e-10.\n",
      " |      chunksize : int, optional\n",
      " |          Iterate over the support of a distributions in chunks of this size.\n",
      " |          Default is 32.\n",
      " |      \n",
      " |      Returns\n",
      " |      -------\n",
      " |      expect : float\n",
      " |          Expected value.\n",
      " |      \n",
      " |      Notes\n",
      " |      -----\n",
      " |      For heavy-tailed distributions, the expected value may or may not exist,\n",
      " |      depending on the function, `func`. If it does exist, but the sum converges\n",
      " |      slowly, the accuracy of the result may be rather low. For instance, for\n",
      " |      ``zipf(4)``, accuracy for mean, variance in example is only 1e-5.\n",
      " |      increasing `maxcount` and/or `chunksize` may improve the result, but may\n",
      " |      also make zipf very slow.\n",
      " |      \n",
      " |      The function is not vectorized.\n",
      " |  \n",
      " |  isf(self, q, *args, **kwds)\n",
      " |      Inverse survival function (inverse of `sf`) at q of the given RV.\n",
      " |      \n",
      " |      Parameters\n",
      " |      ----------\n",
      " |      q : array_like\n",
      " |          Upper tail probability.\n",
      " |      arg1, arg2, arg3,... : array_like\n",
      " |          The shape parameter(s) for the distribution (see docstring of the\n",
      " |          instance object for more information).\n",
      " |      loc : array_like, optional\n",
      " |          Location parameter (default=0).\n",
      " |      \n",
      " |      Returns\n",
      " |      -------\n",
      " |      k : ndarray or scalar\n",
      " |          Quantile corresponding to the upper tail probability, q.\n",
      " |  \n",
      " |  logcdf(self, k, *args, **kwds)\n",
      " |      Log of the cumulative distribution function at k of the given RV.\n",
      " |      \n",
      " |      Parameters\n",
      " |      ----------\n",
      " |      k : array_like, int\n",
      " |          Quantiles.\n",
      " |      arg1, arg2, arg3,... : array_like\n",
      " |          The shape parameter(s) for the distribution (see docstring of the\n",
      " |          instance object for more information).\n",
      " |      loc : array_like, optional\n",
      " |          Location parameter (default=0).\n",
      " |      \n",
      " |      Returns\n",
      " |      -------\n",
      " |      logcdf : array_like\n",
      " |          Log of the cumulative distribution function evaluated at k.\n",
      " |  \n",
      " |  logpmf(self, k, *args, **kwds)\n",
      " |      Log of the probability mass function at k of the given RV.\n",
      " |      \n",
      " |      Parameters\n",
      " |      ----------\n",
      " |      k : array_like\n",
      " |          Quantiles.\n",
      " |      arg1, arg2, arg3,... : array_like\n",
      " |          The shape parameter(s) for the distribution (see docstring of the\n",
      " |          instance object for more information).\n",
      " |      loc : array_like, optional\n",
      " |          Location parameter. Default is 0.\n",
      " |      \n",
      " |      Returns\n",
      " |      -------\n",
      " |      logpmf : array_like\n",
      " |          Log of the probability mass function evaluated at k.\n",
      " |  \n",
      " |  logsf(self, k, *args, **kwds)\n",
      " |      Log of the survival function of the given RV.\n",
      " |      \n",
      " |      Returns the log of the \"survival function,\" defined as 1 - `cdf`,\n",
      " |      evaluated at `k`.\n",
      " |      \n",
      " |      Parameters\n",
      " |      ----------\n",
      " |      k : array_like\n",
      " |          Quantiles.\n",
      " |      arg1, arg2, arg3,... : array_like\n",
      " |          The shape parameter(s) for the distribution (see docstring of the\n",
      " |          instance object for more information).\n",
      " |      loc : array_like, optional\n",
      " |          Location parameter (default=0).\n",
      " |      \n",
      " |      Returns\n",
      " |      -------\n",
      " |      logsf : ndarray\n",
      " |          Log of the survival function evaluated at `k`.\n",
      " |  \n",
      " |  pmf(self, k, *args, **kwds)\n",
      " |      Probability mass function at k of the given RV.\n",
      " |      \n",
      " |      Parameters\n",
      " |      ----------\n",
      " |      k : array_like\n",
      " |          Quantiles.\n",
      " |      arg1, arg2, arg3,... : array_like\n",
      " |          The shape parameter(s) for the distribution (see docstring of the\n",
      " |          instance object for more information)\n",
      " |      loc : array_like, optional\n",
      " |          Location parameter (default=0).\n",
      " |      \n",
      " |      Returns\n",
      " |      -------\n",
      " |      pmf : array_like\n",
      " |          Probability mass function evaluated at k\n",
      " |  \n",
      " |  ppf(self, q, *args, **kwds)\n",
      " |      Percent point function (inverse of `cdf`) at q of the given RV.\n",
      " |      \n",
      " |      Parameters\n",
      " |      ----------\n",
      " |      q : array_like\n",
      " |          Lower tail probability.\n",
      " |      arg1, arg2, arg3,... : array_like\n",
      " |          The shape parameter(s) for the distribution (see docstring of the\n",
      " |          instance object for more information).\n",
      " |      loc : array_like, optional\n",
      " |          Location parameter (default=0).\n",
      " |      \n",
      " |      Returns\n",
      " |      -------\n",
      " |      k : array_like\n",
      " |          Quantile corresponding to the lower tail probability, q.\n",
      " |  \n",
      " |  rvs(self, *args, **kwargs)\n",
      " |      Random variates of given type.\n",
      " |      \n",
      " |      Parameters\n",
      " |      ----------\n",
      " |      arg1, arg2, arg3,... : array_like\n",
      " |          The shape parameter(s) for the distribution (see docstring of the\n",
      " |          instance object for more information).\n",
      " |      loc : array_like, optional\n",
      " |          Location parameter (default=0).\n",
      " |      size : int or tuple of ints, optional\n",
      " |          Defining number of random variates (Default is 1).  Note that `size`\n",
      " |          has to be given as keyword, not as positional argument.\n",
      " |      random_state : None or int or ``np.random.RandomState`` instance, optional\n",
      " |          If int or RandomState, use it for drawing the random variates.\n",
      " |          If None, rely on ``self.random_state``.\n",
      " |          Default is None.\n",
      " |      \n",
      " |      Returns\n",
      " |      -------\n",
      " |      rvs : ndarray or scalar\n",
      " |          Random variates of given `size`.\n",
      " |  \n",
      " |  sf(self, k, *args, **kwds)\n",
      " |      Survival function (1 - `cdf`) at k of the given RV.\n",
      " |      \n",
      " |      Parameters\n",
      " |      ----------\n",
      " |      k : array_like\n",
      " |          Quantiles.\n",
      " |      arg1, arg2, arg3,... : array_like\n",
      " |          The shape parameter(s) for the distribution (see docstring of the\n",
      " |          instance object for more information).\n",
      " |      loc : array_like, optional\n",
      " |          Location parameter (default=0).\n",
      " |      \n",
      " |      Returns\n",
      " |      -------\n",
      " |      sf : array_like\n",
      " |          Survival function evaluated at k.\n",
      " |  \n",
      " |  ----------------------------------------------------------------------\n",
      " |  Static methods inherited from scipy.stats._distn_infrastructure.rv_discrete:\n",
      " |  \n",
      " |  __new__(cls, a=0, b=inf, name=None, badvalue=None, moment_tol=1e-08, values=None, inc=1, longname=None, shapes=None, extradoc=None, seed=None)\n",
      " |      Create and return a new object.  See help(type) for accurate signature.\n",
      " |  \n",
      " |  ----------------------------------------------------------------------\n",
      " |  Methods inherited from scipy.stats._distn_infrastructure.rv_generic:\n",
      " |  \n",
      " |  __call__(self, *args, **kwds)\n",
      " |      Freeze the distribution for the given arguments.\n",
      " |      \n",
      " |      Parameters\n",
      " |      ----------\n",
      " |      arg1, arg2, arg3,... : array_like\n",
      " |          The shape parameter(s) for the distribution.  Should include all\n",
      " |          the non-optional arguments, may include ``loc`` and ``scale``.\n",
      " |      \n",
      " |      Returns\n",
      " |      -------\n",
      " |      rv_frozen : rv_frozen instance\n",
      " |          The frozen distribution.\n",
      " |  \n",
      " |  __getstate__(self)\n",
      " |  \n",
      " |  __setstate__(self, state)\n",
      " |  \n",
      " |  entropy(self, *args, **kwds)\n",
      " |      Differential entropy of the RV.\n",
      " |      \n",
      " |      Parameters\n",
      " |      ----------\n",
      " |      arg1, arg2, arg3,... : array_like\n",
      " |          The shape parameter(s) for the distribution (see docstring of the\n",
      " |          instance object for more information).\n",
      " |      loc : array_like, optional\n",
      " |          Location parameter (default=0).\n",
      " |      scale : array_like, optional  (continuous distributions only).\n",
      " |          Scale parameter (default=1).\n",
      " |      \n",
      " |      Notes\n",
      " |      -----\n",
      " |      Entropy is defined base `e`:\n",
      " |      \n",
      " |      >>> drv = rv_discrete(values=((0, 1), (0.5, 0.5)))\n",
      " |      >>> np.allclose(drv.entropy(), np.log(2.0))\n",
      " |      True\n",
      " |  \n",
      " |  freeze(self, *args, **kwds)\n",
      " |      Freeze the distribution for the given arguments.\n",
      " |      \n",
      " |      Parameters\n",
      " |      ----------\n",
      " |      arg1, arg2, arg3,... : array_like\n",
      " |          The shape parameter(s) for the distribution.  Should include all\n",
      " |          the non-optional arguments, may include ``loc`` and ``scale``.\n",
      " |      \n",
      " |      Returns\n",
      " |      -------\n",
      " |      rv_frozen : rv_frozen instance\n",
      " |          The frozen distribution.\n",
      " |  \n",
      " |  interval(self, alpha, *args, **kwds)\n",
      " |      Confidence interval with equal areas around the median.\n",
      " |      \n",
      " |      Parameters\n",
      " |      ----------\n",
      " |      alpha : array_like of float\n",
      " |          Probability that an rv will be drawn from the returned range.\n",
      " |          Each value should be in the range [0, 1].\n",
      " |      arg1, arg2, ... : array_like\n",
      " |          The shape parameter(s) for the distribution (see docstring of the\n",
      " |          instance object for more information).\n",
      " |      loc : array_like, optional\n",
      " |          location parameter, Default is 0.\n",
      " |      scale : array_like, optional\n",
      " |          scale parameter, Default is 1.\n",
      " |      \n",
      " |      Returns\n",
      " |      -------\n",
      " |      a, b : ndarray of float\n",
      " |          end-points of range that contain ``100 * alpha %`` of the rv's\n",
      " |          possible values.\n",
      " |  \n",
      " |  mean(self, *args, **kwds)\n",
      " |      Mean of the distribution.\n",
      " |      \n",
      " |      Parameters\n",
      " |      ----------\n",
      " |      arg1, arg2, arg3,... : array_like\n",
      " |          The shape parameter(s) for the distribution (see docstring of the\n",
      " |          instance object for more information)\n",
      " |      loc : array_like, optional\n",
      " |          location parameter (default=0)\n",
      " |      scale : array_like, optional\n",
      " |          scale parameter (default=1)\n",
      " |      \n",
      " |      Returns\n",
      " |      -------\n",
      " |      mean : float\n",
      " |          the mean of the distribution\n",
      " |  \n",
      " |  median(self, *args, **kwds)\n",
      " |      Median of the distribution.\n",
      " |      \n",
      " |      Parameters\n",
      " |      ----------\n",
      " |      arg1, arg2, arg3,... : array_like\n",
      " |          The shape parameter(s) for the distribution (see docstring of the\n",
      " |          instance object for more information)\n",
      " |      loc : array_like, optional\n",
      " |          Location parameter, Default is 0.\n",
      " |      scale : array_like, optional\n",
      " |          Scale parameter, Default is 1.\n",
      " |      \n",
      " |      Returns\n",
      " |      -------\n",
      " |      median : float\n",
      " |          The median of the distribution.\n",
      " |      \n",
      " |      See Also\n",
      " |      --------\n",
      " |      rv_discrete.ppf\n",
      " |          Inverse of the CDF\n",
      " |  \n",
      " |  moment(self, n, *args, **kwds)\n",
      " |      n-th order non-central moment of distribution.\n",
      " |      \n",
      " |      Parameters\n",
      " |      ----------\n",
      " |      n : int, n >= 1\n",
      " |          Order of moment.\n",
      " |      arg1, arg2, arg3,... : float\n",
      " |          The shape parameter(s) for the distribution (see docstring of the\n",
      " |          instance object for more information).\n",
      " |      loc : array_like, optional\n",
      " |          location parameter (default=0)\n",
      " |      scale : array_like, optional\n",
      " |          scale parameter (default=1)\n",
      " |  \n",
      " |  stats(self, *args, **kwds)\n",
      " |      Some statistics of the given RV.\n",
      " |      \n",
      " |      Parameters\n",
      " |      ----------\n",
      " |      arg1, arg2, arg3,... : array_like\n",
      " |          The shape parameter(s) for the distribution (see docstring of the\n",
      " |          instance object for more information)\n",
      " |      loc : array_like, optional\n",
      " |          location parameter (default=0)\n",
      " |      scale : array_like, optional (continuous RVs only)\n",
      " |          scale parameter (default=1)\n",
      " |      moments : str, optional\n",
      " |          composed of letters ['mvsk'] defining which moments to compute:\n",
      " |          'm' = mean,\n",
      " |          'v' = variance,\n",
      " |          's' = (Fisher's) skew,\n",
      " |          'k' = (Fisher's) kurtosis.\n",
      " |          (default is 'mv')\n",
      " |      \n",
      " |      Returns\n",
      " |      -------\n",
      " |      stats : sequence\n",
      " |          of requested moments.\n",
      " |  \n",
      " |  std(self, *args, **kwds)\n",
      " |      Standard deviation of the distribution.\n",
      " |      \n",
      " |      Parameters\n",
      " |      ----------\n",
      " |      arg1, arg2, arg3,... : array_like\n",
      " |          The shape parameter(s) for the distribution (see docstring of the\n",
      " |          instance object for more information)\n",
      " |      loc : array_like, optional\n",
      " |          location parameter (default=0)\n",
      " |      scale : array_like, optional\n",
      " |          scale parameter (default=1)\n",
      " |      \n",
      " |      Returns\n",
      " |      -------\n",
      " |      std : float\n",
      " |          standard deviation of the distribution\n",
      " |  \n",
      " |  support(self, *args, **kwargs)\n",
      " |      Return the support of the distribution.\n",
      " |      \n",
      " |      Parameters\n",
      " |      ----------\n",
      " |      arg1, arg2, ... : array_like\n",
      " |          The shape parameter(s) for the distribution (see docstring of the\n",
      " |          instance object for more information).\n",
      " |      loc : array_like, optional\n",
      " |          location parameter, Default is 0.\n",
      " |      scale : array_like, optional\n",
      " |          scale parameter, Default is 1.\n",
      " |      Returns\n",
      " |      -------\n",
      " |      a, b : float\n",
      " |          end-points of the distribution's support.\n",
      " |  \n",
      " |  var(self, *args, **kwds)\n",
      " |      Variance of the distribution.\n",
      " |      \n",
      " |      Parameters\n",
      " |      ----------\n",
      " |      arg1, arg2, arg3,... : array_like\n",
      " |          The shape parameter(s) for the distribution (see docstring of the\n",
      " |          instance object for more information)\n",
      " |      loc : array_like, optional\n",
      " |          location parameter (default=0)\n",
      " |      scale : array_like, optional\n",
      " |          scale parameter (default=1)\n",
      " |      \n",
      " |      Returns\n",
      " |      -------\n",
      " |      var : float\n",
      " |          the variance of the distribution\n",
      " |  \n",
      " |  ----------------------------------------------------------------------\n",
      " |  Data descriptors inherited from scipy.stats._distn_infrastructure.rv_generic:\n",
      " |  \n",
      " |  __dict__\n",
      " |      dictionary for instance variables (if defined)\n",
      " |  \n",
      " |  __weakref__\n",
      " |      list of weak references to the object (if defined)\n",
      " |  \n",
      " |  random_state\n",
      " |      Get or set the RandomState object for generating random variates.\n",
      " |      \n",
      " |      This can be either None or an existing RandomState object.\n",
      " |      \n",
      " |      If None (or np.random), use the RandomState singleton used by np.random.\n",
      " |      If already a RandomState instance, use it.\n",
      " |      If an int, use a new RandomState instance seeded with seed.\n",
      "\n"
     ]
    }
   ],
   "source": [
    "help(stats.binom)"
   ]
  },
  {
   "cell_type": "code",
   "execution_count": 25,
   "metadata": {
    "collapsed": true,
    "jupyter": {
     "outputs_hidden": true
    }
   },
   "outputs": [
    {
     "name": "stdout",
     "output_type": "stream",
     "text": [
      "Help on method pmf in module scipy.stats._distn_infrastructure:\n",
      "\n",
      "pmf(k, *args, **kwds) method of scipy.stats._discrete_distns.binom_gen instance\n",
      "    Probability mass function at k of the given RV.\n",
      "    \n",
      "    Parameters\n",
      "    ----------\n",
      "    k : array_like\n",
      "        Quantiles.\n",
      "    arg1, arg2, arg3,... : array_like\n",
      "        The shape parameter(s) for the distribution (see docstring of the\n",
      "        instance object for more information)\n",
      "    loc : array_like, optional\n",
      "        Location parameter (default=0).\n",
      "    \n",
      "    Returns\n",
      "    -------\n",
      "    pmf : array_like\n",
      "        Probability mass function evaluated at k\n",
      "\n"
     ]
    }
   ],
   "source": [
    "help(stats.binom.pmf)"
   ]
  },
  {
   "cell_type": "code",
   "execution_count": null,
   "metadata": {},
   "outputs": [],
   "source": []
  },
  {
   "cell_type": "markdown",
   "metadata": {
    "solution2": "hidden",
    "solution2_first": true
   },
   "source": [
    "解答例\n",
    "\n",
    "---"
   ]
  },
  {
   "cell_type": "code",
   "execution_count": 26,
   "metadata": {
    "collapsed": true,
    "jupyter": {
     "outputs_hidden": true,
     "source_hidden": true
    },
    "solution2": "hidden"
   },
   "outputs": [
    {
     "data": {
      "image/png": "[encoded data removed]",
      "text/plain": [
       "<Figure size 432x288 with 1 Axes>"
      ]
     },
     "metadata": {
      "needs_background": "light"
     },
     "output_type": "display_data"
    }
   ],
   "source": [
    "np.random.seed(1234)\n",
    "n = 10\n",
    "p = 0.5\n",
    "sample = int(1e3)\n",
    "x = np.arange(n + 1)\n",
    "probs = stats.binom.pmf(x, n=n, p=p)\n",
    "data = np.random.binomial(n, p, sample)\n",
    "simulation = [np.sum(data == i) / sample for i in x]\n",
    "plt.vlines(x, 0, probs, color='red', label='二項分布')\n",
    "plt.vlines(x + 0.1, 0, simulation, color='blue', label='シミュレーション')\n",
    "plt.legend()\n",
    "plt.ylim((0, plt.ylim()[1]))\n",
    "plt.show()"
   ]
  },
  {
   "cell_type": "markdown",
   "metadata": {},
   "source": [
    "---"
   ]
  },
  {
   "cell_type": "markdown",
   "metadata": {},
   "source": [
    "練習問題\n",
    "\n",
    "$n=1,000, p=0.001$ として、二項分布とポアソン分布の確率質量関数のグラフを並べて比較する。"
   ]
  },
  {
   "cell_type": "code",
   "execution_count": null,
   "metadata": {},
   "outputs": [],
   "source": []
  },
  {
   "cell_type": "markdown",
   "metadata": {
    "solution2": "hidden",
    "solution2_first": true
   },
   "source": [
    "解答例\n",
    "\n",
    "---"
   ]
  },
  {
   "cell_type": "code",
   "execution_count": 27,
   "metadata": {
    "collapsed": true,
    "jupyter": {
     "outputs_hidden": true,
     "source_hidden": true
    },
    "solution2": "hidden"
   },
   "outputs": [
    {
     "data": {
      "image/png": "[encoded data removed]",
      "text/plain": [
       "<Figure size 432x288 with 1 Axes>"
      ]
     },
     "metadata": {
      "needs_background": "light"
     },
     "output_type": "display_data"
    }
   ],
   "source": [
    "n = int(1e3)\n",
    "p = 1e-3\n",
    "mu = n * p\n",
    "x = np.arange(10)\n",
    "binomial = stats.binom.pmf(x, n=n, p=p)\n",
    "poisson = stats.poisson.pmf(x, mu=mu)\n",
    "plt.vlines(x, 0, binomial, color='red', label='二項分布')\n",
    "plt.vlines(x + 0.1, 0, poisson, color='blue', label='ポアソン分布')\n",
    "plt.legend()\n",
    "plt.ylim((0, plt.ylim()[1]))\n",
    "plt.show()"
   ]
  },
  {
   "cell_type": "markdown",
   "metadata": {},
   "source": [
    "---"
   ]
  },
  {
   "cell_type": "markdown",
   "metadata": {},
   "source": [
    "### 確率密度関数 (pdf, Probability Density Function)\n",
    "---\n",
    "> 連続型の分布で、ある **$X$ に対応する確率密度**を求める関数。"
   ]
  },
  {
   "cell_type": "markdown",
   "metadata": {},
   "source": [
    "練習問題\n",
    "\n",
    "---\n",
    "`scipy.stats.expon.pdf`を用いて、指数分布の確率密度関数を表すグラフを表示 (`matplotlib.pyplot.plot`または`matplotlib.pyplot.fill_between`を使用) し、これを`numpy.random.exponential`を用いて指数分布からサンプリングした結果 (面積が1になるように正規化されたヒストグラム) を重ねて比較する。"
   ]
  },
  {
   "cell_type": "code",
   "execution_count": 28,
   "metadata": {
    "collapsed": true,
    "jupyter": {
     "outputs_hidden": true
    }
   },
   "outputs": [
    {
     "name": "stdout",
     "output_type": "stream",
     "text": [
      "Help on expon_gen in module scipy.stats._continuous_distns object:\n",
      "\n",
      "class expon_gen(scipy.stats._distn_infrastructure.rv_continuous)\n",
      " |  expon_gen(momtype=1, a=None, b=None, xtol=1e-14, badvalue=None, name=None, longname=None, shapes=None, extradoc=None, seed=None)\n",
      " |  \n",
      " |  An exponential continuous random variable.\n",
      " |  \n",
      " |  %(before_notes)s\n",
      " |  \n",
      " |  Notes\n",
      " |  -----\n",
      " |  The probability density function for `expon` is:\n",
      " |  \n",
      " |  .. math::\n",
      " |  \n",
      " |      f(x) = \\exp(-x)\n",
      " |  \n",
      " |  for :math:`x \\ge 0`.\n",
      " |  \n",
      " |  %(after_notes)s\n",
      " |  \n",
      " |  A common parameterization for `expon` is in terms of the rate parameter\n",
      " |  ``lambda``, such that ``pdf = lambda * exp(-lambda * x)``. This\n",
      " |  parameterization corresponds to using ``scale = 1 / lambda``.\n",
      " |  \n",
      " |  %(example)s\n",
      " |  \n",
      " |  Method resolution order:\n",
      " |      expon_gen\n",
      " |      scipy.stats._distn_infrastructure.rv_continuous\n",
      " |      scipy.stats._distn_infrastructure.rv_generic\n",
      " |      builtins.object\n",
      " |  \n",
      " |  Methods defined here:\n",
      " |  \n",
      " |  fit(self, data, *args, **kwds)\n",
      " |      Return MLEs for shape (if applicable), location, and scale\n",
      " |      parameters from data.\n",
      " |      \n",
      " |      MLE stands for Maximum Likelihood Estimate.  Starting estimates for\n",
      " |      the fit are given by input arguments; for any arguments not provided\n",
      " |      with starting estimates, ``self._fitstart(data)`` is called to generate\n",
      " |      such.\n",
      " |      \n",
      " |      One can hold some parameters fixed to specific values by passing in\n",
      " |      keyword arguments ``f0``, ``f1``, ..., ``fn`` (for shape parameters)\n",
      " |      and ``floc`` and ``fscale`` (for location and scale parameters,\n",
      " |      respectively).\n",
      " |      \n",
      " |      Parameters\n",
      " |      ----------\n",
      " |      data : array_like\n",
      " |          Data to use in calculating the MLEs.\n",
      " |      args : floats, optional\n",
      " |          Starting value(s) for any shape-characterizing arguments (those not\n",
      " |          provided will be determined by a call to ``_fitstart(data)``).\n",
      " |          No default value.\n",
      " |      kwds : floats, optional\n",
      " |          Starting values for the location and scale parameters; no default.\n",
      " |          Special keyword arguments are recognized as holding certain\n",
      " |          parameters fixed:\n",
      " |      \n",
      " |          - f0...fn : hold respective shape parameters fixed.\n",
      " |            Alternatively, shape parameters to fix can be specified by name.\n",
      " |            For example, if ``self.shapes == \"a, b\"``, ``fa``and ``fix_a``\n",
      " |            are equivalent to ``f0``, and ``fb`` and ``fix_b`` are\n",
      " |            equivalent to ``f1``.\n",
      " |      \n",
      " |          - floc : hold location parameter fixed to specified value.\n",
      " |      \n",
      " |          - fscale : hold scale parameter fixed to specified value.\n",
      " |      \n",
      " |          - optimizer : The optimizer to use.  The optimizer must take ``func``,\n",
      " |            and starting position as the first two arguments,\n",
      " |            plus ``args`` (for extra arguments to pass to the\n",
      " |            function to be optimized) and ``disp=0`` to suppress\n",
      " |            output as keyword arguments.\n",
      " |      \n",
      " |      Returns\n",
      " |      -------\n",
      " |      mle_tuple : tuple of floats\n",
      " |          MLEs for any shape parameters (if applicable), followed by those\n",
      " |          for location and scale. For most random variables, shape statistics\n",
      " |          will be returned, but there are exceptions (e.g. ``norm``).\n",
      " |      \n",
      " |      Notes\n",
      " |      -----\n",
      " |      This function uses explicit formulas for the maximum likelihood\n",
      " |      estimation of the exponential distribution parameters, so the\n",
      " |      `optimizer`, `loc` and `scale` keyword arguments are ignored.\n",
      " |      \n",
      " |      Examples\n",
      " |      --------\n",
      " |      \n",
      " |      Generate some data to fit: draw random variates from the `beta`\n",
      " |      distribution\n",
      " |      \n",
      " |      >>> from scipy.stats import beta\n",
      " |      >>> a, b = 1., 2.\n",
      " |      >>> x = beta.rvs(a, b, size=1000)\n",
      " |      \n",
      " |      Now we can fit all four parameters (``a``, ``b``, ``loc`` and ``scale``):\n",
      " |      \n",
      " |      >>> a1, b1, loc1, scale1 = beta.fit(x)\n",
      " |      \n",
      " |      We can also use some prior knowledge about the dataset: let's keep\n",
      " |      ``loc`` and ``scale`` fixed:\n",
      " |      \n",
      " |      >>> a1, b1, loc1, scale1 = beta.fit(x, floc=0, fscale=1)\n",
      " |      >>> loc1, scale1\n",
      " |      (0, 1)\n",
      " |      \n",
      " |      We can also keep shape parameters fixed by using ``f``-keywords. To\n",
      " |      keep the zero-th shape parameter ``a`` equal 1, use ``f0=1`` or,\n",
      " |      equivalently, ``fa=1``:\n",
      " |      \n",
      " |      >>> a1, b1, loc1, scale1 = beta.fit(x, fa=1, floc=0, fscale=1)\n",
      " |      >>> a1\n",
      " |      1\n",
      " |      \n",
      " |      Not all distributions return estimates for the shape parameters.\n",
      " |      ``norm`` for example just returns estimates for location and scale:\n",
      " |      \n",
      " |      >>> from scipy.stats import norm\n",
      " |      >>> x = norm.rvs(a, b, size=1000, random_state=123)\n",
      " |      >>> loc1, scale1 = norm.fit(x)\n",
      " |      >>> loc1, scale1\n",
      " |      (0.92087172783841631, 2.0015750750324668)\n",
      " |  \n",
      " |  ----------------------------------------------------------------------\n",
      " |  Methods inherited from scipy.stats._distn_infrastructure.rv_continuous:\n",
      " |  \n",
      " |  __init__(self, momtype=1, a=None, b=None, xtol=1e-14, badvalue=None, name=None, longname=None, shapes=None, extradoc=None, seed=None)\n",
      " |      Initialize self.  See help(type(self)) for accurate signature.\n",
      " |  \n",
      " |  cdf(self, x, *args, **kwds)\n",
      " |      Cumulative distribution function of the given RV.\n",
      " |      \n",
      " |      Parameters\n",
      " |      ----------\n",
      " |      x : array_like\n",
      " |          quantiles\n",
      " |      arg1, arg2, arg3,... : array_like\n",
      " |          The shape parameter(s) for the distribution (see docstring of the\n",
      " |          instance object for more information)\n",
      " |      loc : array_like, optional\n",
      " |          location parameter (default=0)\n",
      " |      scale : array_like, optional\n",
      " |          scale parameter (default=1)\n",
      " |      \n",
      " |      Returns\n",
      " |      -------\n",
      " |      cdf : ndarray\n",
      " |          Cumulative distribution function evaluated at `x`\n",
      " |  \n",
      " |  expect(self, func=None, args=(), loc=0, scale=1, lb=None, ub=None, conditional=False, **kwds)\n",
      " |      Calculate expected value of a function with respect to the\n",
      " |      distribution by numerical integration.\n",
      " |      \n",
      " |      The expected value of a function ``f(x)`` with respect to a\n",
      " |      distribution ``dist`` is defined as::\n",
      " |      \n",
      " |                  ub\n",
      " |          E[f(x)] = Integral(f(x) * dist.pdf(x)),\n",
      " |                  lb\n",
      " |      \n",
      " |      where ``ub`` and ``lb`` are arguments and ``x`` has the ``dist.pdf(x)``\n",
      " |      distribution. If the bounds ``lb`` and ``ub`` correspond to the\n",
      " |      support of the distribution, e.g. ``[-inf, inf]`` in the default\n",
      " |      case, then the integral is the unrestricted expectation of ``f(x)``.\n",
      " |      Also, the function ``f(x)`` may be defined such that ``f(x)`` is ``0``\n",
      " |      outside a finite interval in which case the expectation is\n",
      " |      calculated within the finite range ``[lb, ub]``.\n",
      " |      \n",
      " |      Parameters\n",
      " |      ----------\n",
      " |      func : callable, optional\n",
      " |          Function for which integral is calculated. Takes only one argument.\n",
      " |          The default is the identity mapping f(x) = x.\n",
      " |      args : tuple, optional\n",
      " |          Shape parameters of the distribution.\n",
      " |      loc : float, optional\n",
      " |          Location parameter (default=0).\n",
      " |      scale : float, optional\n",
      " |          Scale parameter (default=1).\n",
      " |      lb, ub : scalar, optional\n",
      " |          Lower and upper bound for integration. Default is set to the\n",
      " |          support of the distribution.\n",
      " |      conditional : bool, optional\n",
      " |          If True, the integral is corrected by the conditional probability\n",
      " |          of the integration interval.  The return value is the expectation\n",
      " |          of the function, conditional on being in the given interval.\n",
      " |          Default is False.\n",
      " |      \n",
      " |      Additional keyword arguments are passed to the integration routine.\n",
      " |      \n",
      " |      Returns\n",
      " |      -------\n",
      " |      expect : float\n",
      " |          The calculated expected value.\n",
      " |      \n",
      " |      Notes\n",
      " |      -----\n",
      " |      The integration behavior of this function is inherited from\n",
      " |      `scipy.integrate.quad`. Neither this function nor\n",
      " |      `scipy.integrate.quad` can verify whether the integral exists or is\n",
      " |      finite. For example ``cauchy(0).mean()`` returns ``np.nan`` and\n",
      " |      ``cauchy(0).expect()`` returns ``0.0``.\n",
      " |      \n",
      " |      Examples\n",
      " |      --------\n",
      " |      \n",
      " |      To understand the effect of the bounds of integration consider\n",
      " |      \n",
      " |      >>> from scipy.stats import expon\n",
      " |      >>> expon(1).expect(lambda x: 1, lb=0.0, ub=2.0)\n",
      " |      0.6321205588285578\n",
      " |      \n",
      " |      This is close to\n",
      " |      \n",
      " |      >>> expon(1).cdf(2.0) - expon(1).cdf(0.0)\n",
      " |      0.6321205588285577\n",
      " |      \n",
      " |      If ``conditional=True``\n",
      " |      \n",
      " |      >>> expon(1).expect(lambda x: 1, lb=0.0, ub=2.0, conditional=True)\n",
      " |      1.0000000000000002\n",
      " |      \n",
      " |      The slight deviation from 1 is due to numerical integration.\n",
      " |  \n",
      " |  fit_loc_scale(self, data, *args)\n",
      " |      Estimate loc and scale parameters from data using 1st and 2nd moments.\n",
      " |      \n",
      " |      Parameters\n",
      " |      ----------\n",
      " |      data : array_like\n",
      " |          Data to fit.\n",
      " |      arg1, arg2, arg3,... : array_like\n",
      " |          The shape parameter(s) for the distribution (see docstring of the\n",
      " |          instance object for more information).\n",
      " |      \n",
      " |      Returns\n",
      " |      -------\n",
      " |      Lhat : float\n",
      " |          Estimated location parameter for the data.\n",
      " |      Shat : float\n",
      " |          Estimated scale parameter for the data.\n",
      " |  \n",
      " |  isf(self, q, *args, **kwds)\n",
      " |      Inverse survival function (inverse of `sf`) at q of the given RV.\n",
      " |      \n",
      " |      Parameters\n",
      " |      ----------\n",
      " |      q : array_like\n",
      " |          upper tail probability\n",
      " |      arg1, arg2, arg3,... : array_like\n",
      " |          The shape parameter(s) for the distribution (see docstring of the\n",
      " |          instance object for more information)\n",
      " |      loc : array_like, optional\n",
      " |          location parameter (default=0)\n",
      " |      scale : array_like, optional\n",
      " |          scale parameter (default=1)\n",
      " |      \n",
      " |      Returns\n",
      " |      -------\n",
      " |      x : ndarray or scalar\n",
      " |          Quantile corresponding to the upper tail probability q.\n",
      " |  \n",
      " |  logcdf(self, x, *args, **kwds)\n",
      " |      Log of the cumulative distribution function at x of the given RV.\n",
      " |      \n",
      " |      Parameters\n",
      " |      ----------\n",
      " |      x : array_like\n",
      " |          quantiles\n",
      " |      arg1, arg2, arg3,... : array_like\n",
      " |          The shape parameter(s) for the distribution (see docstring of the\n",
      " |          instance object for more information)\n",
      " |      loc : array_like, optional\n",
      " |          location parameter (default=0)\n",
      " |      scale : array_like, optional\n",
      " |          scale parameter (default=1)\n",
      " |      \n",
      " |      Returns\n",
      " |      -------\n",
      " |      logcdf : array_like\n",
      " |          Log of the cumulative distribution function evaluated at x\n",
      " |  \n",
      " |  logpdf(self, x, *args, **kwds)\n",
      " |      Log of the probability density function at x of the given RV.\n",
      " |      \n",
      " |      This uses a more numerically accurate calculation if available.\n",
      " |      \n",
      " |      Parameters\n",
      " |      ----------\n",
      " |      x : array_like\n",
      " |          quantiles\n",
      " |      arg1, arg2, arg3,... : array_like\n",
      " |          The shape parameter(s) for the distribution (see docstring of the\n",
      " |          instance object for more information)\n",
      " |      loc : array_like, optional\n",
      " |          location parameter (default=0)\n",
      " |      scale : array_like, optional\n",
      " |          scale parameter (default=1)\n",
      " |      \n",
      " |      Returns\n",
      " |      -------\n",
      " |      logpdf : array_like\n",
      " |          Log of the probability density function evaluated at x\n",
      " |  \n",
      " |  logsf(self, x, *args, **kwds)\n",
      " |      Log of the survival function of the given RV.\n",
      " |      \n",
      " |      Returns the log of the \"survival function,\" defined as (1 - `cdf`),\n",
      " |      evaluated at `x`.\n",
      " |      \n",
      " |      Parameters\n",
      " |      ----------\n",
      " |      x : array_like\n",
      " |          quantiles\n",
      " |      arg1, arg2, arg3,... : array_like\n",
      " |          The shape parameter(s) for the distribution (see docstring of the\n",
      " |          instance object for more information)\n",
      " |      loc : array_like, optional\n",
      " |          location parameter (default=0)\n",
      " |      scale : array_like, optional\n",
      " |          scale parameter (default=1)\n",
      " |      \n",
      " |      Returns\n",
      " |      -------\n",
      " |      logsf : ndarray\n",
      " |          Log of the survival function evaluated at `x`.\n",
      " |  \n",
      " |  nnlf(self, theta, x)\n",
      " |      Return negative loglikelihood function.\n",
      " |      \n",
      " |      Notes\n",
      " |      -----\n",
      " |      This is ``-sum(log pdf(x, theta), axis=0)`` where `theta` are the\n",
      " |      parameters (including loc and scale).\n",
      " |  \n",
      " |  pdf(self, x, *args, **kwds)\n",
      " |      Probability density function at x of the given RV.\n",
      " |      \n",
      " |      Parameters\n",
      " |      ----------\n",
      " |      x : array_like\n",
      " |          quantiles\n",
      " |      arg1, arg2, arg3,... : array_like\n",
      " |          The shape parameter(s) for the distribution (see docstring of the\n",
      " |          instance object for more information)\n",
      " |      loc : array_like, optional\n",
      " |          location parameter (default=0)\n",
      " |      scale : array_like, optional\n",
      " |          scale parameter (default=1)\n",
      " |      \n",
      " |      Returns\n",
      " |      -------\n",
      " |      pdf : ndarray\n",
      " |          Probability density function evaluated at x\n",
      " |  \n",
      " |  ppf(self, q, *args, **kwds)\n",
      " |      Percent point function (inverse of `cdf`) at q of the given RV.\n",
      " |      \n",
      " |      Parameters\n",
      " |      ----------\n",
      " |      q : array_like\n",
      " |          lower tail probability\n",
      " |      arg1, arg2, arg3,... : array_like\n",
      " |          The shape parameter(s) for the distribution (see docstring of the\n",
      " |          instance object for more information)\n",
      " |      loc : array_like, optional\n",
      " |          location parameter (default=0)\n",
      " |      scale : array_like, optional\n",
      " |          scale parameter (default=1)\n",
      " |      \n",
      " |      Returns\n",
      " |      -------\n",
      " |      x : array_like\n",
      " |          quantile corresponding to the lower tail probability q.\n",
      " |  \n",
      " |  sf(self, x, *args, **kwds)\n",
      " |      Survival function (1 - `cdf`) at x of the given RV.\n",
      " |      \n",
      " |      Parameters\n",
      " |      ----------\n",
      " |      x : array_like\n",
      " |          quantiles\n",
      " |      arg1, arg2, arg3,... : array_like\n",
      " |          The shape parameter(s) for the distribution (see docstring of the\n",
      " |          instance object for more information)\n",
      " |      loc : array_like, optional\n",
      " |          location parameter (default=0)\n",
      " |      scale : array_like, optional\n",
      " |          scale parameter (default=1)\n",
      " |      \n",
      " |      Returns\n",
      " |      -------\n",
      " |      sf : array_like\n",
      " |          Survival function evaluated at x\n",
      " |  \n",
      " |  ----------------------------------------------------------------------\n",
      " |  Methods inherited from scipy.stats._distn_infrastructure.rv_generic:\n",
      " |  \n",
      " |  __call__(self, *args, **kwds)\n",
      " |      Freeze the distribution for the given arguments.\n",
      " |      \n",
      " |      Parameters\n",
      " |      ----------\n",
      " |      arg1, arg2, arg3,... : array_like\n",
      " |          The shape parameter(s) for the distribution.  Should include all\n",
      " |          the non-optional arguments, may include ``loc`` and ``scale``.\n",
      " |      \n",
      " |      Returns\n",
      " |      -------\n",
      " |      rv_frozen : rv_frozen instance\n",
      " |          The frozen distribution.\n",
      " |  \n",
      " |  __getstate__(self)\n",
      " |  \n",
      " |  __setstate__(self, state)\n",
      " |  \n",
      " |  entropy(self, *args, **kwds)\n",
      " |      Differential entropy of the RV.\n",
      " |      \n",
      " |      Parameters\n",
      " |      ----------\n",
      " |      arg1, arg2, arg3,... : array_like\n",
      " |          The shape parameter(s) for the distribution (see docstring of the\n",
      " |          instance object for more information).\n",
      " |      loc : array_like, optional\n",
      " |          Location parameter (default=0).\n",
      " |      scale : array_like, optional  (continuous distributions only).\n",
      " |          Scale parameter (default=1).\n",
      " |      \n",
      " |      Notes\n",
      " |      -----\n",
      " |      Entropy is defined base `e`:\n",
      " |      \n",
      " |      >>> drv = rv_discrete(values=((0, 1), (0.5, 0.5)))\n",
      " |      >>> np.allclose(drv.entropy(), np.log(2.0))\n",
      " |      True\n",
      " |  \n",
      " |  freeze(self, *args, **kwds)\n",
      " |      Freeze the distribution for the given arguments.\n",
      " |      \n",
      " |      Parameters\n",
      " |      ----------\n",
      " |      arg1, arg2, arg3,... : array_like\n",
      " |          The shape parameter(s) for the distribution.  Should include all\n",
      " |          the non-optional arguments, may include ``loc`` and ``scale``.\n",
      " |      \n",
      " |      Returns\n",
      " |      -------\n",
      " |      rv_frozen : rv_frozen instance\n",
      " |          The frozen distribution.\n",
      " |  \n",
      " |  interval(self, alpha, *args, **kwds)\n",
      " |      Confidence interval with equal areas around the median.\n",
      " |      \n",
      " |      Parameters\n",
      " |      ----------\n",
      " |      alpha : array_like of float\n",
      " |          Probability that an rv will be drawn from the returned range.\n",
      " |          Each value should be in the range [0, 1].\n",
      " |      arg1, arg2, ... : array_like\n",
      " |          The shape parameter(s) for the distribution (see docstring of the\n",
      " |          instance object for more information).\n",
      " |      loc : array_like, optional\n",
      " |          location parameter, Default is 0.\n",
      " |      scale : array_like, optional\n",
      " |          scale parameter, Default is 1.\n",
      " |      \n",
      " |      Returns\n",
      " |      -------\n",
      " |      a, b : ndarray of float\n",
      " |          end-points of range that contain ``100 * alpha %`` of the rv's\n",
      " |          possible values.\n",
      " |  \n",
      " |  mean(self, *args, **kwds)\n",
      " |      Mean of the distribution.\n",
      " |      \n",
      " |      Parameters\n",
      " |      ----------\n",
      " |      arg1, arg2, arg3,... : array_like\n",
      " |          The shape parameter(s) for the distribution (see docstring of the\n",
      " |          instance object for more information)\n",
      " |      loc : array_like, optional\n",
      " |          location parameter (default=0)\n",
      " |      scale : array_like, optional\n",
      " |          scale parameter (default=1)\n",
      " |      \n",
      " |      Returns\n",
      " |      -------\n",
      " |      mean : float\n",
      " |          the mean of the distribution\n",
      " |  \n",
      " |  median(self, *args, **kwds)\n",
      " |      Median of the distribution.\n",
      " |      \n",
      " |      Parameters\n",
      " |      ----------\n",
      " |      arg1, arg2, arg3,... : array_like\n",
      " |          The shape parameter(s) for the distribution (see docstring of the\n",
      " |          instance object for more information)\n",
      " |      loc : array_like, optional\n",
      " |          Location parameter, Default is 0.\n",
      " |      scale : array_like, optional\n",
      " |          Scale parameter, Default is 1.\n",
      " |      \n",
      " |      Returns\n",
      " |      -------\n",
      " |      median : float\n",
      " |          The median of the distribution.\n",
      " |      \n",
      " |      See Also\n",
      " |      --------\n",
      " |      rv_discrete.ppf\n",
      " |          Inverse of the CDF\n",
      " |  \n",
      " |  moment(self, n, *args, **kwds)\n",
      " |      n-th order non-central moment of distribution.\n",
      " |      \n",
      " |      Parameters\n",
      " |      ----------\n",
      " |      n : int, n >= 1\n",
      " |          Order of moment.\n",
      " |      arg1, arg2, arg3,... : float\n",
      " |          The shape parameter(s) for the distribution (see docstring of the\n",
      " |          instance object for more information).\n",
      " |      loc : array_like, optional\n",
      " |          location parameter (default=0)\n",
      " |      scale : array_like, optional\n",
      " |          scale parameter (default=1)\n",
      " |  \n",
      " |  rvs(self, *args, **kwds)\n",
      " |      Random variates of given type.\n",
      " |      \n",
      " |      Parameters\n",
      " |      ----------\n",
      " |      arg1, arg2, arg3,... : array_like\n",
      " |          The shape parameter(s) for the distribution (see docstring of the\n",
      " |          instance object for more information).\n",
      " |      loc : array_like, optional\n",
      " |          Location parameter (default=0).\n",
      " |      scale : array_like, optional\n",
      " |          Scale parameter (default=1).\n",
      " |      size : int or tuple of ints, optional\n",
      " |          Defining number of random variates (default is 1).\n",
      " |      random_state : None or int or ``np.random.RandomState`` instance, optional\n",
      " |          If int or RandomState, use it for drawing the random variates.\n",
      " |          If None, rely on ``self.random_state``.\n",
      " |          Default is None.\n",
      " |      \n",
      " |      Returns\n",
      " |      -------\n",
      " |      rvs : ndarray or scalar\n",
      " |          Random variates of given `size`.\n",
      " |  \n",
      " |  stats(self, *args, **kwds)\n",
      " |      Some statistics of the given RV.\n",
      " |      \n",
      " |      Parameters\n",
      " |      ----------\n",
      " |      arg1, arg2, arg3,... : array_like\n",
      " |          The shape parameter(s) for the distribution (see docstring of the\n",
      " |          instance object for more information)\n",
      " |      loc : array_like, optional\n",
      " |          location parameter (default=0)\n",
      " |      scale : array_like, optional (continuous RVs only)\n",
      " |          scale parameter (default=1)\n",
      " |      moments : str, optional\n",
      " |          composed of letters ['mvsk'] defining which moments to compute:\n",
      " |          'm' = mean,\n",
      " |          'v' = variance,\n",
      " |          's' = (Fisher's) skew,\n",
      " |          'k' = (Fisher's) kurtosis.\n",
      " |          (default is 'mv')\n",
      " |      \n",
      " |      Returns\n",
      " |      -------\n",
      " |      stats : sequence\n",
      " |          of requested moments.\n",
      " |  \n",
      " |  std(self, *args, **kwds)\n",
      " |      Standard deviation of the distribution.\n",
      " |      \n",
      " |      Parameters\n",
      " |      ----------\n",
      " |      arg1, arg2, arg3,... : array_like\n",
      " |          The shape parameter(s) for the distribution (see docstring of the\n",
      " |          instance object for more information)\n",
      " |      loc : array_like, optional\n",
      " |          location parameter (default=0)\n",
      " |      scale : array_like, optional\n",
      " |          scale parameter (default=1)\n",
      " |      \n",
      " |      Returns\n",
      " |      -------\n",
      " |      std : float\n",
      " |          standard deviation of the distribution\n",
      " |  \n",
      " |  support(self, *args, **kwargs)\n",
      " |      Return the support of the distribution.\n",
      " |      \n",
      " |      Parameters\n",
      " |      ----------\n",
      " |      arg1, arg2, ... : array_like\n",
      " |          The shape parameter(s) for the distribution (see docstring of the\n",
      " |          instance object for more information).\n",
      " |      loc : array_like, optional\n",
      " |          location parameter, Default is 0.\n",
      " |      scale : array_like, optional\n",
      " |          scale parameter, Default is 1.\n",
      " |      Returns\n",
      " |      -------\n",
      " |      a, b : float\n",
      " |          end-points of the distribution's support.\n",
      " |  \n",
      " |  var(self, *args, **kwds)\n",
      " |      Variance of the distribution.\n",
      " |      \n",
      " |      Parameters\n",
      " |      ----------\n",
      " |      arg1, arg2, arg3,... : array_like\n",
      " |          The shape parameter(s) for the distribution (see docstring of the\n",
      " |          instance object for more information)\n",
      " |      loc : array_like, optional\n",
      " |          location parameter (default=0)\n",
      " |      scale : array_like, optional\n",
      " |          scale parameter (default=1)\n",
      " |      \n",
      " |      Returns\n",
      " |      -------\n",
      " |      var : float\n",
      " |          the variance of the distribution\n",
      " |  \n",
      " |  ----------------------------------------------------------------------\n",
      " |  Data descriptors inherited from scipy.stats._distn_infrastructure.rv_generic:\n",
      " |  \n",
      " |  __dict__\n",
      " |      dictionary for instance variables (if defined)\n",
      " |  \n",
      " |  __weakref__\n",
      " |      list of weak references to the object (if defined)\n",
      " |  \n",
      " |  random_state\n",
      " |      Get or set the RandomState object for generating random variates.\n",
      " |      \n",
      " |      This can be either None or an existing RandomState object.\n",
      " |      \n",
      " |      If None (or np.random), use the RandomState singleton used by np.random.\n",
      " |      If already a RandomState instance, use it.\n",
      " |      If an int, use a new RandomState instance seeded with seed.\n",
      "\n"
     ]
    }
   ],
   "source": [
    "help(stats.expon)"
   ]
  },
  {
   "cell_type": "code",
   "execution_count": 29,
   "metadata": {
    "collapsed": true,
    "jupyter": {
     "outputs_hidden": true
    }
   },
   "outputs": [
    {
     "name": "stdout",
     "output_type": "stream",
     "text": [
      "Help on method pdf in module scipy.stats._distn_infrastructure:\n",
      "\n",
      "pdf(x, *args, **kwds) method of scipy.stats._continuous_distns.expon_gen instance\n",
      "    Probability density function at x of the given RV.\n",
      "    \n",
      "    Parameters\n",
      "    ----------\n",
      "    x : array_like\n",
      "        quantiles\n",
      "    arg1, arg2, arg3,... : array_like\n",
      "        The shape parameter(s) for the distribution (see docstring of the\n",
      "        instance object for more information)\n",
      "    loc : array_like, optional\n",
      "        location parameter (default=0)\n",
      "    scale : array_like, optional\n",
      "        scale parameter (default=1)\n",
      "    \n",
      "    Returns\n",
      "    -------\n",
      "    pdf : ndarray\n",
      "        Probability density function evaluated at x\n",
      "\n"
     ]
    }
   ],
   "source": [
    "help(stats.expon.pdf)"
   ]
  },
  {
   "cell_type": "code",
   "execution_count": 30,
   "metadata": {
    "collapsed": true,
    "jupyter": {
     "outputs_hidden": true
    }
   },
   "outputs": [
    {
     "name": "stdout",
     "output_type": "stream",
     "text": [
      "Help on built-in function exponential:\n",
      "\n",
      "exponential(...) method of numpy.random.mtrand.RandomState instance\n",
      "    exponential(scale=1.0, size=None)\n",
      "    \n",
      "    Draw samples from an exponential distribution.\n",
      "    \n",
      "    Its probability density function is\n",
      "    \n",
      "    .. math:: f(x; \\frac{1}{\\beta}) = \\frac{1}{\\beta} \\exp(-\\frac{x}{\\beta}),\n",
      "    \n",
      "    for ``x > 0`` and 0 elsewhere. :math:`\\beta` is the scale parameter,\n",
      "    which is the inverse of the rate parameter :math:`\\lambda = 1/\\beta`.\n",
      "    The rate parameter is an alternative, widely used parameterization\n",
      "    of the exponential distribution [3]_.\n",
      "    \n",
      "    The exponential distribution is a continuous analogue of the\n",
      "    geometric distribution.  It describes many common situations, such as\n",
      "    the size of raindrops measured over many rainstorms [1]_, or the time\n",
      "    between page requests to Wikipedia [2]_.\n",
      "    \n",
      "    .. note::\n",
      "        New code should use the ``exponential`` method of a ``default_rng()``\n",
      "        instance instead; see `random-quick-start`.\n",
      "    \n",
      "    Parameters\n",
      "    ----------\n",
      "    scale : float or array_like of floats\n",
      "        The scale parameter, :math:`\\beta = 1/\\lambda`. Must be\n",
      "        non-negative.\n",
      "    size : int or tuple of ints, optional\n",
      "        Output shape.  If the given shape is, e.g., ``(m, n, k)``, then\n",
      "        ``m * n * k`` samples are drawn.  If size is ``None`` (default),\n",
      "        a single value is returned if ``scale`` is a scalar.  Otherwise,\n",
      "        ``np.array(scale).size`` samples are drawn.\n",
      "    \n",
      "    Returns\n",
      "    -------\n",
      "    out : ndarray or scalar\n",
      "        Drawn samples from the parameterized exponential distribution.\n",
      "    \n",
      "    See Also\n",
      "    --------\n",
      "    Generator.exponential: which should be used for new code.\n",
      "    \n",
      "    References\n",
      "    ----------\n",
      "    .. [1] Peyton Z. Peebles Jr., \"Probability, Random Variables and\n",
      "           Random Signal Principles\", 4th ed, 2001, p. 57.\n",
      "    .. [2] Wikipedia, \"Poisson process\",\n",
      "           https://en.wikipedia.org/wiki/Poisson_process\n",
      "    .. [3] Wikipedia, \"Exponential distribution\",\n",
      "           https://en.wikipedia.org/wiki/Exponential_distribution\n",
      "\n"
     ]
    }
   ],
   "source": [
    "help(np.random.exponential)"
   ]
  },
  {
   "cell_type": "code",
   "execution_count": null,
   "metadata": {},
   "outputs": [],
   "source": []
  },
  {
   "cell_type": "markdown",
   "metadata": {
    "solution2": "hidden",
    "solution2_first": true
   },
   "source": [
    "解答例\n",
    "\n",
    "---"
   ]
  },
  {
   "cell_type": "code",
   "execution_count": 31,
   "metadata": {
    "collapsed": true,
    "jupyter": {
     "outputs_hidden": true,
     "source_hidden": true
    },
    "solution2": "hidden"
   },
   "outputs": [
    {
     "data": {
      "image/png": "[encoded data removed]",
      "text/plain": [
       "<Figure size 432x288 with 1 Axes>"
      ]
     },
     "metadata": {
      "needs_background": "light"
     },
     "output_type": "display_data"
    }
   ],
   "source": [
    "np.random.seed(1234)\n",
    "scale = 0.5\n",
    "sample = int(1e4)\n",
    "x = np.linspace(0, 5, 200)\n",
    "xmin, xmax = x.min(), x.max()\n",
    "density = stats.expon.pdf(x, scale=scale)\n",
    "data = np.random.exponential(scale, size=sample)\n",
    "bins = 30\n",
    "division = np.linspace(xmin, xmax, bins + 1)\n",
    "counts = [\n",
    "    np.sum((division[i] <= data) & (data < division[i + 1]))\n",
    "    for i in range(bins)\n",
    "]\n",
    "width = (xmax - xmin) / bins\n",
    "height = [1 / width / sample * count for count in counts]\n",
    "plt.fill_between(x, density, alpha=0.3, label='指数分布')\n",
    "plt.bar(division[:-1],\n",
    "        height,\n",
    "        width,\n",
    "        align='edge',\n",
    "        edgecolor='black',\n",
    "        alpha=0.3,\n",
    "        label='シミュレーション')\n",
    "plt.xlim((x.min(), x.max()))\n",
    "plt.legend()\n",
    "plt.show()"
   ]
  },
  {
   "cell_type": "markdown",
   "metadata": {},
   "source": [
    "---"
   ]
  },
  {
   "cell_type": "markdown",
   "metadata": {},
   "source": [
    "練習問題\n",
    "\n",
    "---\n",
    "平均 0 ・標準偏差 1 の正規分布 (標準正規分布) の確率密度関数を表すグラフを表示する。"
   ]
  },
  {
   "cell_type": "code",
   "execution_count": null,
   "metadata": {},
   "outputs": [],
   "source": []
  },
  {
   "cell_type": "markdown",
   "metadata": {
    "solution2": "hidden",
    "solution2_first": true
   },
   "source": [
    "解答例\n",
    "\n",
    "---"
   ]
  },
  {
   "cell_type": "code",
   "execution_count": 32,
   "metadata": {
    "collapsed": true,
    "jupyter": {
     "outputs_hidden": true,
     "source_hidden": true
    },
    "solution2": "hidden"
   },
   "outputs": [
    {
     "data": {
      "image/png": "[encoded data removed]",
      "text/plain": [
       "<Figure size 432x288 with 1 Axes>"
      ]
     },
     "metadata": {
      "needs_background": "light"
     },
     "output_type": "display_data"
    }
   ],
   "source": [
    "x = np.linspace(-3, 3, 200)\n",
    "dens = stats.norm.pdf(x, loc=0, scale=1)\n",
    "plt.plot(x, dens)\n",
    "plt.xlim((x.min(), x.max()))\n",
    "plt.ylim((0, plt.ylim()[1]))\n",
    "plt.show()"
   ]
  },
  {
   "cell_type": "markdown",
   "metadata": {},
   "source": [
    "---"
   ]
  },
  {
   "cell_type": "markdown",
   "metadata": {},
   "source": [
    "### 累積分布関数 (cdf, Cumulative Distribution Function)"
   ]
  },
  {
   "cell_type": "markdown",
   "metadata": {},
   "source": [
    "練習問題\n",
    "\n",
    "---\n",
    "指数分布からサンプリングし、離散化して棒グラフで表示する。ただし、各階級がそれ以下の階級の合計値になっている累積積み上げ棒グラフを用いる。"
   ]
  },
  {
   "cell_type": "code",
   "execution_count": null,
   "metadata": {},
   "outputs": [],
   "source": []
  },
  {
   "cell_type": "markdown",
   "metadata": {
    "solution2": "hidden",
    "solution2_first": true
   },
   "source": [
    "解答例\n",
    "\n",
    "---"
   ]
  },
  {
   "cell_type": "code",
   "execution_count": 33,
   "metadata": {
    "collapsed": true,
    "jupyter": {
     "outputs_hidden": true,
     "source_hidden": true
    },
    "solution2": "hidden"
   },
   "outputs": [
    {
     "data": {
      "image/png": "[encoded data removed]",
      "text/plain": [
       "<Figure size 432x288 with 1 Axes>"
      ]
     },
     "metadata": {
      "needs_background": "light"
     },
     "output_type": "display_data"
    }
   ],
   "source": [
    "np.random.seed(1234)\n",
    "scale = 0.5\n",
    "sample = int(1e4)\n",
    "data = np.random.exponential(scale, size=sample)\n",
    "bins = 30\n",
    "xmin, xmax = 0, 5\n",
    "division = np.linspace(xmin, xmax, bins + 1)\n",
    "counts = [\n",
    "    np.sum((division[i] <= data) & (data < division[i + 1]))\n",
    "    for i in range(bins)\n",
    "]\n",
    "width = (xmax - xmin) / bins\n",
    "cumulation = [sum(counts[:i + 1]) for i in range(bins)]\n",
    "plt.bar(division[:-1], cumulation, width, align='edge', edgecolor='black')\n",
    "plt.xlim((xmin, xmax))\n",
    "plt.show()"
   ]
  },
  {
   "cell_type": "markdown",
   "metadata": {},
   "source": [
    "---"
   ]
  },
  {
   "cell_type": "markdown",
   "metadata": {},
   "source": [
    "練習問題\n",
    "\n",
    "---\n",
    "上のグラフを全体の合計が1になるように正規化する。"
   ]
  },
  {
   "cell_type": "code",
   "execution_count": null,
   "metadata": {},
   "outputs": [],
   "source": []
  },
  {
   "cell_type": "markdown",
   "metadata": {
    "solution2": "hidden",
    "solution2_first": true
   },
   "source": [
    "解答例\n",
    "\n",
    "---"
   ]
  },
  {
   "cell_type": "code",
   "execution_count": 34,
   "metadata": {
    "collapsed": true,
    "jupyter": {
     "outputs_hidden": true,
     "source_hidden": true
    },
    "solution2": "hidden"
   },
   "outputs": [
    {
     "data": {
      "image/png": "[encoded data removed]",
      "text/plain": [
       "<Figure size 432x288 with 1 Axes>"
      ]
     },
     "metadata": {
      "needs_background": "light"
     },
     "output_type": "display_data"
    }
   ],
   "source": [
    "np.random.seed(1234)\n",
    "scale = 0.5\n",
    "sample = int(1e4)\n",
    "data = np.random.exponential(scale, size=sample)\n",
    "bins = 30\n",
    "xmin, xmax = 0, 5\n",
    "division = np.linspace(xmin, xmax, bins + 1)\n",
    "counts = [\n",
    "    np.sum((division[i] <= data) & (data < division[i + 1]))\n",
    "    for i in range(bins)\n",
    "]\n",
    "width = (xmax - xmin) / bins\n",
    "cumulation = [sum(counts[:i + 1]) / sample for i in range(bins)]\n",
    "plt.bar(division[:-1], cumulation, width, align='edge', edgecolor='black')\n",
    "plt.axhline(1, color='gray', linestyle='dashed', alpha=0.3)\n",
    "plt.xlim((xmin, xmax))\n",
    "plt.show()"
   ]
  },
  {
   "cell_type": "markdown",
   "metadata": {},
   "source": [
    "---"
   ]
  },
  {
   "cell_type": "markdown",
   "metadata": {},
   "source": [
    "> 取りうる**値の下限から $X$ までの確率の合計**を表す関数を累積分布関数という。"
   ]
  },
  {
   "cell_type": "code",
   "execution_count": 35,
   "metadata": {
    "hide_input": true,
    "jupyter": {
     "source_hidden": true
    }
   },
   "outputs": [
    {
     "data": {
      "application/vnd.jupyter.widget-view+json": {
       "model_id": "6395efaf7d094a55ad8793932966e8ce",
       "version_major": 2,
       "version_minor": 0
      },
      "text/plain": [
       "interactive(children=(FloatSlider(value=1.0, continuous_update=False, description='入力：', max=3.0, min=-3.0, re…"
      ]
     },
     "metadata": {},
     "output_type": "display_data"
    }
   ],
   "source": [
    "from my_functions.distribution import methods\n",
    "methods.cdf()"
   ]
  },
  {
   "cell_type": "markdown",
   "metadata": {},
   "source": [
    "練習問題\n",
    "\n",
    "---\n",
    "震度 7 の地震が年平均 0.2 回起きることがわかっているとして、今後 5 年以内に震度 7 の地震が起きる確率を求める。"
   ]
  },
  {
   "cell_type": "code",
   "execution_count": null,
   "metadata": {},
   "outputs": [],
   "source": []
  },
  {
   "cell_type": "markdown",
   "metadata": {
    "solution2": "hidden",
    "solution2_first": true
   },
   "source": [
    "解答例\n",
    "\n",
    "---"
   ]
  },
  {
   "cell_type": "code",
   "execution_count": 36,
   "metadata": {
    "collapsed": true,
    "jupyter": {
     "outputs_hidden": true,
     "source_hidden": true
    },
    "solution2": "hidden"
   },
   "outputs": [
    {
     "name": "stdout",
     "output_type": "stream",
     "text": [
      "5年以内に震度7の地震が起きる確率 : 0.632\n"
     ]
    }
   ],
   "source": [
    "lambda_ = 0.2\n",
    "print(f'5年以内に震度7の地震が起きる確率 : {stats.expon.cdf(5, scale=1/lambda_):.3f}')"
   ]
  },
  {
   "cell_type": "markdown",
   "metadata": {},
   "source": [
    "---"
   ]
  },
  {
   "cell_type": "markdown",
   "metadata": {},
   "source": [
    "### 生存関数 (sf, Survival Function)"
   ]
  },
  {
   "cell_type": "markdown",
   "metadata": {},
   "source": [
    "練習問題\n",
    "\n",
    "---\n",
    "正規分布からサンプリングし、離散化して棒グラフで表示する。ただし、各階級がそれ以上の階級の合計値になるようにする。"
   ]
  },
  {
   "cell_type": "code",
   "execution_count": null,
   "metadata": {},
   "outputs": [],
   "source": []
  },
  {
   "cell_type": "markdown",
   "metadata": {
    "solution2": "hidden",
    "solution2_first": true
   },
   "source": [
    "解答例\n",
    "\n",
    "---"
   ]
  },
  {
   "cell_type": "code",
   "execution_count": 37,
   "metadata": {
    "collapsed": true,
    "jupyter": {
     "outputs_hidden": true,
     "source_hidden": true
    },
    "solution2": "hidden"
   },
   "outputs": [
    {
     "data": {
      "image/png": "[encoded data removed]",
      "text/plain": [
       "<Figure size 432x288 with 1 Axes>"
      ]
     },
     "metadata": {
      "needs_background": "light"
     },
     "output_type": "display_data"
    }
   ],
   "source": [
    "np.random.seed(1234)\n",
    "mu = 0\n",
    "sigma = 1\n",
    "sample = int(1e4)\n",
    "data = np.random.normal(mu, sigma, size=sample)\n",
    "bins = 30\n",
    "xmin, xmax = mu - sigma * 3, mu + sigma * 3\n",
    "division = np.linspace(xmin, xmax, bins + 1)\n",
    "counts = [\n",
    "    np.sum((division[i] <= data) & (data < division[i + 1]))\n",
    "    for i in range(bins)\n",
    "]\n",
    "width = (xmax - xmin) / bins\n",
    "cumulation = [sum(counts[i:]) for i in range(bins)]\n",
    "plt.bar(division[:-1], cumulation, width, align='edge', edgecolor='black')\n",
    "plt.xlim((xmin, xmax))\n",
    "plt.show()"
   ]
  },
  {
   "cell_type": "markdown",
   "metadata": {},
   "source": [
    "---"
   ]
  },
  {
   "cell_type": "markdown",
   "metadata": {},
   "source": [
    "練習問題\n",
    "\n",
    "---\n",
    "上のグラフを全体の合計が1になるように正規化する。"
   ]
  },
  {
   "cell_type": "code",
   "execution_count": null,
   "metadata": {},
   "outputs": [],
   "source": []
  },
  {
   "cell_type": "markdown",
   "metadata": {
    "solution2": "hidden",
    "solution2_first": true
   },
   "source": [
    "解答例\n",
    "\n",
    "---"
   ]
  },
  {
   "cell_type": "code",
   "execution_count": 38,
   "metadata": {
    "collapsed": true,
    "jupyter": {
     "outputs_hidden": true,
     "source_hidden": true
    },
    "solution2": "hidden"
   },
   "outputs": [
    {
     "data": {
      "image/png": "[encoded data removed]",
      "text/plain": [
       "<Figure size 432x288 with 1 Axes>"
      ]
     },
     "metadata": {
      "needs_background": "light"
     },
     "output_type": "display_data"
    }
   ],
   "source": [
    "np.random.seed(1234)\n",
    "mu = 0\n",
    "sigma = 1\n",
    "sample = int(1e4)\n",
    "data = np.random.normal(mu, sigma, size=sample)\n",
    "bins = 30\n",
    "xmin, xmax = mu - sigma * 3, mu + sigma * 3\n",
    "division = np.linspace(xmin, xmax, bins + 1)\n",
    "counts = [\n",
    "    np.sum((division[i] <= data) & (data < division[i + 1]))\n",
    "    for i in range(bins)\n",
    "]\n",
    "width = (xmax - xmin) / bins\n",
    "cumulation = [sum(counts[i:]) / sample for i in range(bins)]\n",
    "plt.bar(division[:-1], cumulation, width, align='edge', edgecolor='black')\n",
    "plt.xlim((xmin, xmax))\n",
    "plt.show()"
   ]
  },
  {
   "cell_type": "markdown",
   "metadata": {},
   "source": [
    "---"
   ]
  },
  {
   "cell_type": "markdown",
   "metadata": {},
   "source": [
    "> 取りうる**値の上限から  𝑋  までの確率の合計**を表す関数を生存関数という。"
   ]
  },
  {
   "cell_type": "code",
   "execution_count": 39,
   "metadata": {
    "hide_input": true,
    "jupyter": {
     "source_hidden": true
    }
   },
   "outputs": [
    {
     "data": {
      "application/vnd.jupyter.widget-view+json": {
       "model_id": "22e5cbb8cfd1405ea3fb2873c5efa14f",
       "version_major": 2,
       "version_minor": 0
      },
      "text/plain": [
       "interactive(children=(FloatSlider(value=1.0, continuous_update=False, description='入力：', max=3.0, min=-3.0, re…"
      ]
     },
     "metadata": {},
     "output_type": "display_data"
    }
   ],
   "source": [
    "methods.sf()"
   ]
  },
  {
   "cell_type": "markdown",
   "metadata": {},
   "source": [
    "練習問題\n",
    "\n",
    "---\n",
    "指数分布の`生存関数`と`1-累積分布関数`を重ねて表示し、比較する。"
   ]
  },
  {
   "cell_type": "code",
   "execution_count": null,
   "metadata": {},
   "outputs": [],
   "source": []
  },
  {
   "cell_type": "markdown",
   "metadata": {
    "solution2": "hidden",
    "solution2_first": true
   },
   "source": [
    "解答例\n",
    "\n",
    "---"
   ]
  },
  {
   "cell_type": "code",
   "execution_count": 40,
   "metadata": {
    "collapsed": true,
    "jupyter": {
     "outputs_hidden": true,
     "source_hidden": true
    },
    "solution2": "hidden"
   },
   "outputs": [
    {
     "data": {
      "image/png": "[encoded data removed]",
      "text/plain": [
       "<Figure size 432x288 with 1 Axes>"
      ]
     },
     "metadata": {
      "needs_background": "light"
     },
     "output_type": "display_data"
    }
   ],
   "source": [
    "xmax = 3\n",
    "x = np.linspace(0, xmax, 200)\n",
    "expon = stats.expon()\n",
    "sf = expon.sf(x)\n",
    "cdf = expon.cdf(x)\n",
    "plt.plot(x, sf, alpha=0.5, label='生存関数')\n",
    "plt.plot(x, 1 - cdf, alpha=0.5, label='1-累積分布関数')\n",
    "plt.legend()\n",
    "plt.xlim((0, xmax))\n",
    "plt.show()"
   ]
  },
  {
   "cell_type": "markdown",
   "metadata": {},
   "source": [
    "---"
   ]
  },
  {
   "cell_type": "markdown",
   "metadata": {},
   "source": [
    "### パーセント点 (ppf, Percent Point Function)"
   ]
  },
  {
   "cell_type": "markdown",
   "metadata": {},
   "source": [
    "練習問題\n",
    "\n",
    "---\n",
    "指数分布からサンプリングし、 $0\\% \\sim 100\\%$ まで $1\\%$ 刻みで分位点を求め、横軸に分位点、縦軸に $\\%$ の値をとった散布図を表示する。"
   ]
  },
  {
   "cell_type": "code",
   "execution_count": null,
   "metadata": {},
   "outputs": [],
   "source": []
  },
  {
   "cell_type": "markdown",
   "metadata": {
    "solution2": "hidden",
    "solution2_first": true
   },
   "source": [
    "解答例\n",
    "\n",
    "---"
   ]
  },
  {
   "cell_type": "code",
   "execution_count": 41,
   "metadata": {
    "collapsed": true,
    "jupyter": {
     "outputs_hidden": true,
     "source_hidden": true
    },
    "solution2": "hidden"
   },
   "outputs": [
    {
     "data": {
      "image/png": "[encoded data removed]",
      "text/plain": [
       "<Figure size 432x288 with 1 Axes>"
      ]
     },
     "metadata": {
      "needs_background": "light"
     },
     "output_type": "display_data"
    }
   ],
   "source": [
    "np.random.seed(1234)\n",
    "sample = int(1e4)\n",
    "data = np.random.exponential(size=sample)\n",
    "step = 0.01\n",
    "quantile = np.arange(0, 1 + step, step)\n",
    "x = np.quantile(data, quantile)\n",
    "plt.scatter(x, quantile)\n",
    "plt.ylim((0, plt.ylim()[1]))\n",
    "plt.show()"
   ]
  },
  {
   "cell_type": "markdown",
   "metadata": {},
   "source": [
    "---"
   ]
  },
  {
   "cell_type": "markdown",
   "metadata": {},
   "source": [
    "> ある累積確率に対応する $X$ をパーセント点という。パーセント点を求める関数は、**累積分布関数の逆関数**になっている。"
   ]
  },
  {
   "cell_type": "code",
   "execution_count": 42,
   "metadata": {
    "hide_input": true,
    "jupyter": {
     "source_hidden": true
    }
   },
   "outputs": [
    {
     "data": {
      "application/vnd.jupyter.widget-view+json": {
       "model_id": "a7b0df12dbf145749b32198f77164f28",
       "version_major": 2,
       "version_minor": 0
      },
      "text/plain": [
       "interactive(children=(FloatSlider(value=0.55, continuous_update=False, description='入力：', max=0.95, min=0.05, …"
      ]
     },
     "metadata": {},
     "output_type": "display_data"
    }
   ],
   "source": [
    "methods.ppf()"
   ]
  },
  {
   "cell_type": "markdown",
   "metadata": {},
   "source": [
    "練習問題\n",
    "\n",
    "---\n",
    "指数分布からサンプリングし、 $0\\% \\sim 100\\%$ まで $1\\%$ 刻みで分位点を求め、横軸に分位点、縦軸に $\\%$ の値をとった散布図と指数分布の累積分布関数を重ねて表示し、比較する。"
   ]
  },
  {
   "cell_type": "code",
   "execution_count": null,
   "metadata": {},
   "outputs": [],
   "source": []
  },
  {
   "cell_type": "markdown",
   "metadata": {
    "solution2": "hidden",
    "solution2_first": true
   },
   "source": [
    "解答例\n",
    "\n",
    "---"
   ]
  },
  {
   "cell_type": "code",
   "execution_count": 43,
   "metadata": {
    "collapsed": true,
    "jupyter": {
     "outputs_hidden": true,
     "source_hidden": true
    },
    "solution2": "hidden"
   },
   "outputs": [
    {
     "data": {
      "image/png": "[encoded data removed]",
      "text/plain": [
       "<Figure size 432x288 with 1 Axes>"
      ]
     },
     "metadata": {
      "needs_background": "light"
     },
     "output_type": "display_data"
    }
   ],
   "source": [
    "np.random.seed(1234)\n",
    "sample = int(1e4)\n",
    "scale = 1.0\n",
    "data = np.random.exponential(scale, size=sample)\n",
    "step = 0.01\n",
    "quantile = np.arange(0, 1 + step, step)\n",
    "ppt = np.quantile(data, quantile)\n",
    "xmax = ppt.max()\n",
    "x = np.linspace(0, xmax, 200)\n",
    "cdf = stats.expon.cdf(x, scale=scale)\n",
    "plt.scatter(ppt, quantile, label='パーセント点')\n",
    "plt.plot(x, cdf, label='累積分布関数')\n",
    "plt.legend()\n",
    "plt.xlim((0, xmax))\n",
    "plt.ylim((0, plt.ylim()[1]))\n",
    "plt.show()"
   ]
  },
  {
   "cell_type": "markdown",
   "metadata": {},
   "source": [
    "---"
   ]
  },
  {
   "cell_type": "markdown",
   "metadata": {},
   "source": [
    "### 逆生存関数 (isf, Inverse Survival Function)"
   ]
  },
  {
   "cell_type": "markdown",
   "metadata": {},
   "source": [
    "練習問題\n",
    "\n",
    "---\n",
    "正規分布からサンプリングし、 $0\\% \\sim 100\\%$ まで $1\\%$ 刻みで分位点を求め、横軸に分位点、縦軸に $\\left( 100-p\\right) \\%$ の値をとった散布図を表示する。"
   ]
  },
  {
   "cell_type": "code",
   "execution_count": null,
   "metadata": {},
   "outputs": [],
   "source": []
  },
  {
   "cell_type": "markdown",
   "metadata": {
    "solution2": "hidden",
    "solution2_first": true
   },
   "source": [
    "解答例\n",
    "\n",
    "---"
   ]
  },
  {
   "cell_type": "code",
   "execution_count": 44,
   "metadata": {
    "collapsed": true,
    "jupyter": {
     "outputs_hidden": true,
     "source_hidden": true
    },
    "solution2": "hidden"
   },
   "outputs": [
    {
     "data": {
      "image/png": "[encoded data removed]",
      "text/plain": [
       "<Figure size 432x288 with 1 Axes>"
      ]
     },
     "metadata": {
      "needs_background": "light"
     },
     "output_type": "display_data"
    }
   ],
   "source": [
    "np.random.seed(1234)\n",
    "sample = int(1e4)\n",
    "data = np.random.normal(size=sample)\n",
    "step = 0.01\n",
    "quantile = np.arange(0, 1 + step, step)\n",
    "x = np.quantile(data, 1 - quantile)\n",
    "plt.scatter(x, quantile)\n",
    "plt.ylim((0, plt.ylim()[1]))\n",
    "plt.show()"
   ]
  },
  {
   "cell_type": "markdown",
   "metadata": {},
   "source": [
    "---"
   ]
  },
  {
   "cell_type": "markdown",
   "metadata": {},
   "source": [
    "> ある生存確率に対応する $X$ を求める関数を逆生存関数という。逆生存関数は生存関数の逆関数になっている。  \n",
    "**教科書等では逆生存関数の出力をパーセント点と呼ぶ**ことが多い。"
   ]
  },
  {
   "cell_type": "code",
   "execution_count": 45,
   "metadata": {
    "hide_input": true,
    "jupyter": {
     "source_hidden": true
    }
   },
   "outputs": [
    {
     "data": {
      "application/vnd.jupyter.widget-view+json": {
       "model_id": "ce97d7ba7ce049ec8fde5bf94747e5da",
       "version_major": 2,
       "version_minor": 0
      },
      "text/plain": [
       "interactive(children=(FloatSlider(value=0.55, continuous_update=False, description='入力：', max=0.95, min=0.05, …"
      ]
     },
     "metadata": {},
     "output_type": "display_data"
    }
   ],
   "source": [
    "methods.isf()"
   ]
  },
  {
   "cell_type": "markdown",
   "metadata": {},
   "source": [
    "練習問題\n",
    "\n",
    "---\n",
    "正規分布からサンプリングし、 $0\\% \\sim 100\\%$ まで $1\\%$ 刻みで分位点を求め、横軸に分位点、縦軸に $\\left( 100-p\\right) \\%$ の値をとった散布図と正規分布の生存関数を重ねて表示し、比較する。"
   ]
  },
  {
   "cell_type": "code",
   "execution_count": null,
   "metadata": {},
   "outputs": [],
   "source": []
  },
  {
   "cell_type": "markdown",
   "metadata": {
    "solution2": "hidden",
    "solution2_first": true
   },
   "source": [
    "解答例\n",
    "\n",
    "---"
   ]
  },
  {
   "cell_type": "code",
   "execution_count": 46,
   "metadata": {
    "collapsed": true,
    "jupyter": {
     "outputs_hidden": true,
     "source_hidden": true
    },
    "solution2": "hidden"
   },
   "outputs": [
    {
     "data": {
      "image/png": "[encoded data removed]",
      "text/plain": [
       "<Figure size 432x288 with 1 Axes>"
      ]
     },
     "metadata": {
      "needs_background": "light"
     },
     "output_type": "display_data"
    }
   ],
   "source": [
    "np.random.seed(1234)\n",
    "sample = int(1e4)\n",
    "mean = 0\n",
    "sigma = 1.0\n",
    "data = np.random.normal(mean, sigma, size=sample)\n",
    "step = 0.01\n",
    "quantile = np.arange(0, 1 + step, step)\n",
    "isf = np.quantile(data, 1 - quantile)\n",
    "xmin = isf.min()\n",
    "xmax = isf.max()\n",
    "x = np.linspace(xmin, xmax, 200)\n",
    "sf = stats.norm.sf(x, loc=mean, scale=sigma)\n",
    "plt.scatter(isf, quantile, label='逆生存関数')\n",
    "plt.plot(x, sf, label='生存関数関数')\n",
    "plt.legend()\n",
    "plt.xlim((xmin, xmax))\n",
    "plt.ylim((0, plt.ylim()[1]))\n",
    "plt.show()"
   ]
  },
  {
   "cell_type": "markdown",
   "metadata": {},
   "source": [
    "---"
   ]
  },
  {
   "cell_type": "markdown",
   "metadata": {},
   "source": [
    "## 正規分布の性質"
   ]
  },
  {
   "cell_type": "markdown",
   "metadata": {},
   "source": [
    "練習問題\n",
    "\n",
    "---\n",
    "二項分布と正規分布の質量関数・密度関数を重ねて表示し、比較する。"
   ]
  },
  {
   "cell_type": "code",
   "execution_count": null,
   "metadata": {},
   "outputs": [],
   "source": []
  },
  {
   "cell_type": "markdown",
   "metadata": {
    "solution2": "hidden",
    "solution2_first": true
   },
   "source": [
    "解答例\n",
    "\n",
    "---"
   ]
  },
  {
   "cell_type": "code",
   "execution_count": 47,
   "metadata": {
    "collapsed": true,
    "jupyter": {
     "outputs_hidden": true,
     "source_hidden": true
    },
    "solution2": "hidden"
   },
   "outputs": [
    {
     "data": {
      "image/png": "[encoded data removed]",
      "text/plain": [
       "<Figure size 432x288 with 1 Axes>"
      ]
     },
     "metadata": {
      "needs_background": "light"
     },
     "output_type": "display_data"
    }
   ],
   "source": [
    "n = 100\n",
    "p = 0.5\n",
    "binom = stats.binom(n=n, p=p)\n",
    "mu = binom.mean()\n",
    "sigma = binom.std()\n",
    "norm = stats.norm(loc=mu, scale=sigma)\n",
    "xmin = mu - sigma * 3\n",
    "xmax = mu + sigma * 3\n",
    "division = np.arange(xmin, xmax)\n",
    "x = np.linspace(xmin, xmax, 200)\n",
    "p_binom = binom.pmf(division)\n",
    "p_norm = norm.pdf(x)\n",
    "plt.vlines(division, 0, p_binom)\n",
    "plt.plot(x, p_norm)\n",
    "plt.ylim((0, plt.ylim()[1]))\n",
    "plt.show()"
   ]
  },
  {
   "cell_type": "markdown",
   "metadata": {},
   "source": [
    "---"
   ]
  },
  {
   "cell_type": "markdown",
   "metadata": {},
   "source": [
    "練習問題\n",
    "\n",
    "---\n",
    "平均 $0$ ・分散 $\\sigma ^{2}$ (標準偏差 $\\sigma$) の正規分布 $\\displaystyle N\\left( 0 ,\\sigma ^{2}\\right)$ で $-\\sigma \\sim \\sigma, -2\\sigma \\sim 2\\sigma, -3\\sigma \\sim 3\\sigma$ の範囲に含まれる確率をそれぞれ求める。"
   ]
  },
  {
   "cell_type": "code",
   "execution_count": null,
   "metadata": {},
   "outputs": [],
   "source": []
  },
  {
   "cell_type": "markdown",
   "metadata": {
    "solution2": "hidden",
    "solution2_first": true
   },
   "source": [
    "解答例\n",
    "\n",
    "---"
   ]
  },
  {
   "cell_type": "code",
   "execution_count": 48,
   "metadata": {
    "collapsed": true,
    "jupyter": {
     "outputs_hidden": true,
     "source_hidden": true
    },
    "solution2": "hidden"
   },
   "outputs": [
    {
     "name": "stdout",
     "output_type": "stream",
     "text": [
      "1シグマ範囲の確率 : 0.683\n",
      "2シグマ範囲の確率 : 0.954\n",
      "3シグマ範囲の確率 : 0.997\n"
     ]
    }
   ],
   "source": [
    "mu = 0\n",
    "sigma = 1\n",
    "norm = stats.norm(loc=mu, scale=sigma)\n",
    "for i in range(3):\n",
    "    print(f'{i + 1}シグマ範囲の確率 : {1 - norm.cdf(mu - (i + 1) * sigma) * 2:.3f}')"
   ]
  },
  {
   "cell_type": "markdown",
   "metadata": {},
   "source": [
    "---"
   ]
  },
  {
   "cell_type": "markdown",
   "metadata": {},
   "source": [
    "練習問題\n",
    "\n",
    "---\n",
    "標準正規分布 $\\displaystyle N( 0,1)$ について以下の値を求める。\n",
    "\n",
    "- 上側 $5\\%$ 点 (上側確率 $5\\%$ になるような $X$)\n",
    "- 両側 $5\\%$ 点 (上側確率 $2.5\\%$ ・下側確率 $2.5\\%$ になるようなそれぞれの $X$)\n",
    "- 上側 $1\\%$ 点 (上側確率 $1\\%$ になるような $X$)\n",
    "- 両側 $1\\%$ 点 (上側確率 $0.5\\%$ ・下側確率 $0.5\\%$ になるようなそれぞれの $X$)"
   ]
  },
  {
   "cell_type": "code",
   "execution_count": null,
   "metadata": {},
   "outputs": [],
   "source": []
  },
  {
   "cell_type": "markdown",
   "metadata": {
    "solution2": "hidden",
    "solution2_first": true
   },
   "source": [
    "解答例\n",
    "\n",
    "---"
   ]
  },
  {
   "cell_type": "code",
   "execution_count": 49,
   "metadata": {
    "collapsed": true,
    "jupyter": {
     "outputs_hidden": true,
     "source_hidden": true
    },
    "solution2": "hidden"
   },
   "outputs": [
    {
     "name": "stdout",
     "output_type": "stream",
     "text": [
      "上側5%点 :  1.64\n",
      "両側5%点 :  -1.96, 1.96\n",
      "上側1%点 :  2.33\n",
      "両側1%点 :  -2.58, 2.58\n"
     ]
    }
   ],
   "source": [
    "for p in [0.05, 0.01]:\n",
    "    for side in ['上側', '両側']:\n",
    "        head = f'{side}{int(100 * p)}%点 : '\n",
    "        pp = [p] if side == '上側' else [1 - p / 2, p / 2]\n",
    "        tail = ', '.join([f'{stats.norm.isf(i):.2f}' for i in pp])\n",
    "        print(head, tail)"
   ]
  },
  {
   "cell_type": "markdown",
   "metadata": {},
   "source": [
    "---"
   ]
  },
  {
   "cell_type": "markdown",
   "metadata": {},
   "source": [
    "## 推薦図書\n",
    "---\n",
    "- [統計解析がわかる](https://www.amazon.co.jp/%E7%B5%B1%E8%A8%88%E8%A7%A3%E6%9E%90%E3%81%8C%E3%82%8F%E3%81%8B%E3%82%8B-%E3%83%95%E3%82%A1%E3%83%BC%E3%82%B9%E3%83%88%E3%83%96%E3%83%83%E3%82%AF-%E6%B6%8C%E4%BA%95-%E8%B2%9E%E7%BE%8E/dp/4774142700/)\n",
    "- [StanとRでベイズ統計モデリング](https://www.amazon.co.jp/Stan%E3%81%A8R%E3%81%A7%E3%83%99%E3%82%A4%E3%82%BA%E7%B5%B1%E8%A8%88%E3%83%A2%E3%83%87%E3%83%AA%E3%83%B3%E3%82%B0-Wonderful-R-%E6%9D%BE%E6%B5%A6-%E5%81%A5%E5%A4%AA%E9%83%8E/dp/4320112423/)\n",
    "- [RとStanではじめる ベイズ統計モデリングによるデータ分析](https://www.amazon.co.jp/%E5%AE%9F%E8%B7%B5Data-Science%E3%82%B7%E3%83%AA%E3%83%BC%E3%82%BA-R%E3%81%A8Stan%E3%81%A7%E3%81%AF%E3%81%98%E3%82%81%E3%82%8B-%E3%83%99%E3%82%A4%E3%82%BA%E7%B5%B1%E8%A8%88%E3%83%A2%E3%83%87%E3%83%AA%E3%83%B3%E3%82%B0%E3%81%AB%E3%82%88%E3%82%8B%E3%83%87%E3%83%BC%E3%82%BF%E5%88%86%E6%9E%90%E5%85%A5%E9%96%80-%E9%A6%AC%E5%A0%B4/dp/4065165369/)"
   ]
  }
 ],
 "metadata": {
  "kernelspec": {
   "display_name": "Python 3",
   "language": "python",
   "name": "python3"
  },
  "language_info": {
   "codemirror_mode": {
    "name": "ipython",
    "version": 3
   },
   "file_extension": ".py",
   "mimetype": "text/x-python",
   "name": "python",
   "nbconvert_exporter": "python",
   "pygments_lexer": "ipython3",
   "version": "3.8.3"
  },
  "nteract": {
   "version": "nteract-on-jupyter@2.1.3"
  },
  "toc": {
   "base_numbering": 1,
   "nav_menu": {},
   "number_sections": true,
   "sideBar": true,
   "skip_h1_title": true,
   "title_cell": "Table of Contents",
   "title_sidebar": "Contents",
   "toc_cell": false,
   "toc_position": {},
   "toc_section_display": true,
   "toc_window_display": true
  },
  "varInspector": {
   "cols": {
    "lenName": 16,
    "lenType": 16,
    "lenVar": 40
   },
   "kernels_config": {
    "python": {
     "delete_cmd_postfix": "",
     "delete_cmd_prefix": "del ",
     "library": "var_list.py",
     "varRefreshCmd": "print(var_dic_list())"
    },
    "r": {
     "delete_cmd_postfix": ") ",
     "delete_cmd_prefix": "rm(",
     "library": "var_list.r",
     "varRefreshCmd": "cat(var_dic_list()) "
    }
   },
   "types_to_exclude": [
    "module",
    "function",
    "builtin_function_or_method",
    "instance",
    "_Feature"
   ],
   "window_display": false
  },
  "widgets": {
   "application/vnd.jupyter.widget-state+json": {
    "state": {
     "04a0e13a4102435bbcce3cb6cd1b3c58": {
      "model_module": "@jupyter-widgets/base",
      "model_module_version": "1.2.0",
      "model_name": "LayoutModel",
      "state": {}
     },
     "0a0f8521dd7f4ab083e9788371c5c63d": {
      "model_module": "@jupyter-widgets/base",
      "model_module_version": "1.2.0",
      "model_name": "LayoutModel",
      "state": {}
     },
     "0ada22cbecc2453e9c106485815b9921": {
      "model_module": "@jupyter-widgets/base",
      "model_module_version": "1.2.0",
      "model_name": "LayoutModel",
      "state": {}
     },
     "0cc84a8c5f6844e3842e64487601d628": {
      "model_module": "@jupyter-widgets/base",
      "model_module_version": "1.2.0",
      "model_name": "LayoutModel",
      "state": {}
     },
     "0e8c7f74dae4401b905e8da6c64cd65f": {
      "model_module": "@jupyter-widgets/controls",
      "model_module_version": "1.5.0",
      "model_name": "SliderStyleModel",
      "state": {
       "description_width": ""
      }
     },
     "134d1e0c37f04e9a98115559add773ef": {
      "model_module": "@jupyter-widgets/controls",
      "model_module_version": "1.5.0",
      "model_name": "FloatRangeSliderModel",
      "state": {
       "_model_name": "FloatRangeSliderModel",
       "_view_name": "FloatRangeSliderView",
       "continuous_update": false,
       "description": "事象の範囲：",
       "layout": "IPY_MODEL_58e3568663ba4b9abe59603ce9aca957",
       "max": 10,
       "min": -5,
       "readout_format": ".1f",
       "step": 0.1,
       "style": "IPY_MODEL_7fa6674077534de2a6253352f30d2c06",
       "value": [
        0,
        5
       ]
      }
     },
     "1a191e040a6b4c6bbd48f307775fb87e": {
      "model_module": "@jupyter-widgets/output",
      "model_module_version": "1.0.0",
      "model_name": "OutputModel",
      "state": {
       "layout": "IPY_MODEL_41109e786a8146eaa2738cab62b3c259",
       "outputs": [
        {
         "data": {
          "image/png": "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\n",
          "text/plain": "<Figure size 288x288 with 1 Axes>"
         },
         "metadata": {
          "needs_background": "light"
         },
         "output_type": "display_data"
        }
       ]
      }
     },
     "1a56579f366a4f3e849f40edc95bb7cd": {
      "model_module": "@jupyter-widgets/output",
      "model_module_version": "1.0.0",
      "model_name": "OutputModel",
      "state": {
       "layout": "IPY_MODEL_a2866685347045fd94677df0d3b39781",
       "outputs": [
        {
         "data": {
          "image/png": "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\n",
          "text/plain": "<Figure size 576x288 with 2 Axes>"
         },
         "metadata": {
          "needs_background": "light"
         },
         "output_type": "display_data"
        }
       ]
      }
     },
     "1cb6a99cba6c49f88696758e30428ece": {
      "model_module": "@jupyter-widgets/base",
      "model_module_version": "1.2.0",
      "model_name": "LayoutModel",
      "state": {}
     },
     "1dd40eaab77f45469e40d0944fd1b0e4": {
      "model_module": "@jupyter-widgets/controls",
      "model_module_version": "1.5.0",
      "model_name": "VBoxModel",
      "state": {
       "_dom_classes": [
        "widget-interact"
       ],
       "children": [
        "IPY_MODEL_ea69eecdf33242fdad0b1e37a5c8b53f",
        "IPY_MODEL_f71c6b3a7e474ca79e76218f3f0de045"
       ],
       "layout": "IPY_MODEL_66cc20b7cb1f4e9a92d49d897adf66bc"
      }
     },
     "1fdb137a869a4ec9bcfa66f89b1ddbc7": {
      "model_module": "@jupyter-widgets/output",
      "model_module_version": "1.0.0",
      "model_name": "OutputModel",
      "state": {
       "layout": "IPY_MODEL_3e11210e1d264f43aa56c064ea0f766c",
       "outputs": [
        {
         "data": {
          "image/png": "iVBORw0KGgoAAAANSUhEUgAAAecAAAEVCAYAAADaVy1GAAAABHNCSVQICAgIfAhkiAAAAAlwSFlzAAALEgAACxIB0t1+/AAAADh0RVh0U29mdHdhcmUAbWF0cGxvdGxpYiB2ZXJzaW9uMy4yLjEsIGh0dHA6Ly9tYXRwbG90bGliLm9yZy+j8jraAAAgAElEQVR4nOzdd3gUVdvH8e8hCR0RpPci4IMoRVQiLWCQohCaFAGlBhGFKCCCdJCOhtCkdwUFFBAIiEovLwhBeBSUKi089Bog5bx/zCQGpLO7Z8v9ua5cZHdnZ34Jmb3nnDlzRmmtEUIIIYT7SGE6gBBCCCFuJcVZCCGEcDNSnIUQQgg3I8VZCCGEcDNSnIUQQgg3I8VZCCGEcDNSnIUQwo0ppYqZziBcT4qzD1FK5VFK1VNKTVNKtUj2/BtKqX73eW+qZN9nf8DtzVVKPfHIgf+9vjJKqWCl1FClVJBSqp9SKpVSqoNSqrGjtiOEqymlsiqlGib7Km4/nxqY9IDr6KWUevchttlPKdX2IZZvqZQa+qDLP8D6Giul8iultiilnlRKdbefn6mUyu+o7Xgqf9MBBCilNJBVa33G3hnnAHmAvVrrlrctmxFoq7UepZR6EjgC7LZfTg9kBw7YjzMCa7XW7yulUgCjgCzAVuBnpdRqe7kswBNKqQr24zFa68XJtpkC2KGUqgGcAtYqpWpprQ/e42d6Diiutb50j2UigSeB64AfcBWYAgwFjtmLPQ+U0VofBs4CXwCbgf8AhbTWN5RSpYDlSqkc9nuu2j9TkNZ6+t22L4SjKaWCgLFa6xL246eBmYACvtZaj7lt+dJAAWC7/W8nIALIrpSaBKQB8iilNiR7W0OtdbRSagu3fobnBOJuK7g3tNbl7W19C+RN9loe4MZty+/RWre1l28BdEz2WlYgtf0zJvpDa93KXv4CEGU//xQw195GOeCK/Xw+rXUh+3s/oL39fWOs/RugjP1zJO7P54HXgYNa68T1ez0pzu6nCZBGa11OKeV3h9enAkOSPU7AKm4AAUB8ssdpki2ngTbAO1j/72eBRUA+oDDWjr3dXnbpbdtsirXTHgVQSn0MTFdKvaq1jktcSCk1HShtP3waOKmUutPO9KXW+stk2zoLpAJq2s/tAH62v8+a7H1zsT7kmgEXgItKqWbAi0B+oKf9c3ymtZ6olPpcKbXTl3Zo4XZ6Ad9rrUfcvj8rpdIB44HXtNaXlVJTgDpa65F2AVyNtR+9jVXkzgAfAqntVbwFnNVaX7R7tlYBbwDXtNbx9jq2JNtkaa310/a2CwBh9vq6Ar8CvwPfJ1s+N9a+OkMp1QpYajcgXgZSaa3X3fazXgXm2d8/l+z5SP452O5ib780VuHXQHGghf38n1j7/FSsz6WrQAfgR2CV/Zlz7V+/ZS8kxdn95AcOAWit45O/oJQqB6TTWv+a7OldWutg+/WyWK3qd+3HQUBDe7lsWEfwRYEYoAFWYQfrKDcD1hEuQA/gM3sdOYCBQPXEDWqtlyilqgETlVJttT0HbLIj6LzAL1g7aBPgR6318bv8vDWxDiYU1g58FSiYLHdSF7rWuoJSqhFW63kP9o4OfKi1rqGUCgFKaq0n2s+PAAYDte6ybSGcLT/wA/x7fwY+ABZrrS/bj6sCP9nf/4FVhF/VWv9XKTUCaItVzE/by7wIfKqU+ggYjfX3PgDYavfGvYe1nycerPdTSvUG9gNFsIp9T6z9/hSQFhh5W8bedlf500AnpdQNrOKZQil1CjiqtX7TXjYt/+y3abH20TRAFeCm/XwK+3exEyivlPocqxdsGRAOhABfaa0/Ukp9AXyntd4MoJRaCrwPDL/TL9rbSHF2ErtQfo7VdRMA9NdaL1NKKazCVxs4DqxI9p5mWK1bf7urto3Wel+y1TYFvkv2OM5+3xr7cTHgz2SPSVxea30KqKGUWovVvfalvY0St0W/qLVeaq/3Saydpp/W+q/blvsQWAjMtwt08u7riUBfrfV1pdQbWF1ddyvOzbXWh5VSocCvWutflVINgS5a6wt21zdKqQCgN1YLYjZWIV8ArAGK2q8/A/yZuGKt9SalVEmlVGat9bm7bF+Ie7ILXUusffMprBbkJ/ZrmbHOCefHKprbkr1vJFYX7UClVKjW+rXbVt0UeDPZ42bACaVUGNbf9ptAfrtL+zngG3u5agBa6/lKqetY+8LXWAfCN4D+wEdAda319WTrX4rVuh6BVSR3YrWa38I6vfQVyQ7CbQO01jOVUvOwCv9BrFZuKq312NuWPZWsoRAOzMD67MuX7MB9r/1vNmCcnecvYC8w386VWJdu2Z+xPsu+wkeKswwIcwL7vPBioLd9vqcu1hEhQCusI8myWusaQFIXjdZ6LjANWKS1rnBbYQbrSHlnsuWvAHWwzjEvAtYCrwHfAhuAelrr0cly5QFKAWH2ztEE6zzX9WRfve1l/e31rQM+UkpFKaXi7H+jsI6+jwIXgebJtjEIqzX8qb1cMFYBj1JK7VdKJXZnJ/99tcM6WJmglBqP1TXXTymVO9liCfbP2c7+GZYBFbA+FL/BanW8xD/nvBL9Brxw+zaFeEgltdaVsPbBqkqplvbz4cDfWusXsf6GCyS+QWvdFWt/7X17YVZKpQQKa63/tB+XAOph7U+BWH/ndYFpWusKwE77M6GC1jrGfo/C+vvvA0wHMgP9sIqYPzBDKZX8tFBnrPEsYLVwm2Ltq3mweqGGYRXuRP5Yp8nA6lbuZP+8L2C1iu9IKTUMqIx1Gmo28LxSashti/ljfdatBK5qrb/D+jyKB1LZBz15tdbRyX6ff2AdiKe827a9ibScneMV4LjWei2A1voEEGq/VhOYrrW+YT+eygOOxsQa5HQ++RNa60tKqdlYR6lNsLpxU2IdPX+jlBqmtU4c+NWLf45OJ2N1nTXA+kBIlMZeb5w96Os4gFIqH1aLoZT9uC3WEXGfxDfahfllrIL+jt0iXgAM0lpHKaWC+afbK7kfsLrB/4N1VF7efv50smX8sD6wPsDq9p5tPx+JdZ5sAuCvtd5727rP2b83IR7HSACt9TWl1DSsUyUzsPbn8vZr8UqpmTzYwWAWrHETiZph/S2vwTpILgd0B3rZp6dK2T1iu7XWH9jv+c5exxysxkBWrP3gJvB/wAn7tcTW8DSsVndnIIe9nXVYp7R6aK0X3TbwLB3gd9tziQYppQZrrZff4bWJWJ8vLbE+rxbzT5FPlBf4FOu0VfJtDME6wPkK6zPhdhewei9O3uE1ryLF2XkS7vK85tYei4fpvbiMtcMASd3ZWYFYrD/a2VjnhhKwzs0ABCqlqmANunoaa8CGP1aXdBdgI3A42TaaJgW99TxxFawdPlEmIKkr2+5WDsBqPSQfVPIgvk22zoxYH3pgfZgkZrmplKqEdU7uP1hH5kW01oPt7V/E6hq7XfrkOYV4RAl3+f5R9+db9mVgENapokQjsc45b8HaZwdhtVrPJlumk9b6b/v75UqpXljnkecDV7TWsUqpcZA0+KwB0AiobB98v491QBtuL1M78ZSWLT+w3B7rMQ1YrbX+SilVHuuU3drbfyh7oFfiiPQCWAf+9ezXEg8q0FpvtcePzNJaB9s559qnolJhdaHf3m0OPrQ/S7e2c2wEciulqgIopTIopaYo6zKpJUBbpVRae9le3L2Q324v1oAuALTWQVrrZ7GK4WCsluVcrOL7g/3cM1gt5JNYrc7E957GKuovATWSff3rBt/2zvIp1mVOibJjtUoT1xerte5+2zmu5Ot4AusI/V/rT+yuwxqhfRLrPHwNrfW02xbNgbVjRgAfY3XloZR6EcgFVFdKVb7tPUW4c9EW4mG0h6R9oSWQ2GJcgtXdm3hN8kcPsjJ7ENjVxG5nrfVV+6VXsA4+E10BorFaw9HYxVkpVR9YpJTanviFNaq5B1YX9Gb7uW1KqRCt9VX7FNdTya+wuM2I2x6/DPw32c9fXim1EOuSzNeTZU7+c+209+UqWOfCTwBfAhXtQWDJPY3Vah6Ldapqs/18O6zTU0OUUrkSF1bW/AqX7rRdbyTF2QnswVEhQF+l1CasneVHrfV1rfUcrIEZW5VSm7EK3Om7r+0Wi7HOKQOglCqslFqCNagr6bpke/R0I6xiuBzIobWOsc/ZJDce67zxeKwPnHTATLsVnLiNTFjndxdgXeus7JdKcfdBXncyDuto+F9dVUqpYkqpCVgt50CsD6SVyrr0JPnlJ6exuu0KA38D05RSTbB6DBphHaFPV/ZEDMoaNZ6gtT6AEI/nqlJqJdblhr9orWfYz38EZFJK7cDaz5c8xDqXkGx/TuZb/jmn+xpWK7qw/e8kpVRFrfUirXXZ5F9Y+8aQ25/XyeYsAEg2buQToFuyxymTLfMG1mCsK0qpl+yfsxTWnArHsQ4MPrNbv9y2/spYnzszsQa1lQfG2J8dyWtOFNZAtkCsg48B9qmxRljXNffCOsgITPa7eJjfr2fTWsuXh3xhFaptWEe/YA0ua5vs9SBgzm3vqQGkTfa4LfAu1o62CwhJ9lp6rJGQ7ezHr2IVwW724zJYxfwE1gjLJx8g8wKg1F1ei8Tq+qoF1L3ttUxYR+2/Aqnt54bYX7ntx1mwCn7eZO/LjXWUDlZLoInp/zf58uwvrN6eLE5Yb0GsSYISH/cCgpM9roF1pcSDrq8X8O59ltn7IK8BhbDmLGiD1b0cgjVCO/H17FijvENvfz9WC770beuujtWDNcV+nBLrIKQz1rwOYB2ADE3c3+3nKtr7tALWA/lN/z246kvZvwDhIexzOu9orcMcsK4UWuu7dqnbI7af0B54GZJSqiDQS2vdxnQW4dlUshn8nLDuUKzzw185et3eRCnVHKtoT7nvwl7CacVZKdUAa0q2clrrfE7ZiI9SSvnpf09oIG4jvyfhCeTv9P7u15DwRs4853wKq3vDJ65JcyXZkR+M/J6EJ5C/0/vztcIMTmw5J21AqWitdY77LymEEEIIMHyds32+JRQgICDjC1myPJ30Wq5cd3uXEJ5Ja01sbCxxcXHExsYmfcXHxxMXF0dcXBzx8fHEx8eTkJCQ9G9Cwr8aDWe01lnvtA13kCVLFl2gQAHTMYRwe7/++utd92W3aTkrVVb/c1MkkHFqwhNprTl27Bh79uxhz5497Nu3j0OHDnHo0CGOHj1KXNy/LzFNly4dmTJlInPmzDz55JM88cQTpE+fngwZMpAuXTrSpk1LmjRpkr46duz4q7YunXFLZcuW1du3b7//gkL4OKXUXfdlmSFMiMdw5swZNm/ezKZNm9i0aRNRUVFcuvTPBEbZsmWjUKFCvPzyyzRp0oT8+fOTM2dOcuTIQc6cOcmWLRupUqV6qG127Njx/gsJITyaFGchHkJsbCwbNmxg2bJlLFu2jL17rcnHAgICKFOmDM2bN+e5556jRIkSPPvss2TKlMlwYiGEJ3J6cZbBYMLTxcXFsXLlSmbPns2KFSu4dOkSKVOmpHLlyrRs2ZLy5cvzwgsvkCZNGtNRhRBeQlrOQtzFH3/8wfTp05k9ezbR0dFkyZKFN998kzfeeIPg4GDSp09vOqIQXi02NpZjx45x/fodp+z3GKlTpyZPnjwEBATcf2GbFGchbrN+/XqGDBnCihUr8PPz4/XXX6dVq1bUqlWLlCnlsn0hXOXYsWNkyJCBAgUK8M+0/p5Fa83Zs2c5duwYBQsWfOD3SXEWAmsHWrlyJZ999hkbNmwga9asfPbZZ7Rp04bs2bObjieET7p+/bpHF2YApRRPPfUUp08/6P2NLFKchc/bvXs3nTp1Ys2aNeTNm5eIiAjatGlD2rRp7/9mIYRTeXJhTvQoP4PcMlL4rAsXLtCpUydKly7Nb7/9xvjx49m/fz8ffPCBFGYh3FCOHKCU475yOHi48vr16x22LinOwifNnz+fokWLMm7cOEJDQ/nzzz/p0KGDnFMWwo2dOuXe62vRooXD1iXFWfiUK1eu0KpVK5o0aUKhQoXYvn0748eP56mnnjIdTQjhhoYPH065cuUIDAzks88+Y82aNTRp0iTp9QoVKnD48GH69u1LdHQ0QUFBREVFPfZ2pTgLn7Fjxw7KlCnDzJkz6dWrFxs2bKB06dKmYwkh3NTPP//M6tWr2bhxIxs3bmTLli13vayrf//+5MiRgzVr1lCqVKnH3rYUZ+ETxo8fT7ly5YiJieGXX35h4MCB+PvLeEghxN3t2LGD6tWr4+fnR4oUKahRowaumjdeirPwagkJCXz00Ud07NiR6tWrExUVReXKlU3HEkJ4gFKlSvHLL7+gtUZrzapVq9Bac8o+WX348GF27dqVtHxsbKzDti1NB+G1YmJiaN68OYsWLaJTp058/vnn+Pn5mY4lhPAQwcHBbNu2jfLlywNQvXp1evXqxX//+1/Kly9P0aJFbzk1Vrx4cSpWrMjkyZN55plnHmvbTr9l5IOSW0YKRzp9+jR16tRh69atfP7554SFhZmO5DD3us2cO5BbRgpH+eOPP/jPf/6T9DhHDseOsM6eHaKjHbe+e7n9ZwG5ZaTwMadOnaJy5cocOXKEBQsWUL9+fdORhBAO4KpC6g6kOAuvcubMGYKDgzl69CirVq2iYsWKpiMJIcRDk+IsvMaFCxd47bXX+Ouvv1i2bJkUZiGEx5LiLLzC5cuXqVmzJnv27GHx4sW8+uqrpiMJIRxAa+3x82s/ytguuZRKeLwbN25Qu3Zttm3bxvz586lZs6bpSEIIB0idOjVnz559pOLmLhJvGZk6deqHep+0nIVH01rz3nvvsXbtWubMmUO9evVMRxJCOEiePHk4duzYQ99u0d2kTp2aPHnyPNR7pDgLjzZ69GimTZtGr169aNasmek4QggHCggIoGDBgqZjGCHd2sJjrVy5ki5dulCvXj369+9vOo4QQjiMFGfhkfbt20fjxo0pUaIEs2bNIkUK+VMWQngP+UQTHufy5cvUqVOHgIAAFi9eTPr06U1HEkIIh5JzzsLjvP/+++zfv5+ff/6ZAgUKmI4jhBAOJy1n4VHmzZvHrFmz6NWrl9xdSgjhtaQ4C49x5MgR3n33XQIDA+ndu7fpOEII4TRSnIVHiIuLo3nz5iQkJDB37lz8/eWMjBDCe8knnPAIQ4YMYcOGDcyePdtnr3sUQvgOaTkLt7d9+3b69+/PW2+9RfPmzU3HEUIIp5PiLNxaXFwc7dq1I1u2bIwbN850HCGEcAm3Lc5BQUHMmTMHgGvXrhEUFMT8+fMBuHjxIkFBQSxatAiw7uEbFBTE0qVLAYiOjiYoKIjIyEgAjh49SlBQEKtXrwbg4MGDBAUFsXbtWsCa0CIoKIhNmzYBsGfPHoKCgti2bRsAUVFRBAUFERUVBcC2bdsICgpiz549AGzatImgoCD27dsHwNq1awkKCuLgwYMArF69mqCgII4ePQpAZGQkQUFBRNt3Dl+6dClBQUGcOXMGgEWLFhEUFMTFixcBmD9/PkFBQVy7dg2AOXPmEBQURGxsLAAzZswgKCgo6Xc3efJkgoODkx6PHz/+lptBjB49mjp16iQ9HjlyJA0aNEh6PHToUJo0aZL0eODAgbe0WPv06UOrVq2SHvfo0YPQ0NCkx127dqVjx45Jj8PCwggLC0t63LFjR7p27Zr0ODQ0lB49eiQ9btWqFX369EnKGhUVRUREBE8++SRCCOELjJ5zVkqFAqEAfn55eeONKEqVKkV8fDzr15tMJtzB4cOH6d27N8HBwbccPAghhLdT7nIrrrJly+rt27ebjiHchNaa119/nXXr1vH777+TL18+05HchlLqV611WdM57kb2ZSEezL32Zbft1ha+7ZtvvmHFihU0a9aM33//3XQcIYRwKSnOwu2cP3+ezp07U7ZsWfbu3cvQoUNNRxJCCJeS65yF2xkwYACnT59mxYoV5MyZ03QcIYRwOSnOwq38+eefjB07lrZt21K6dGnTcYQQwgjp1hZu5eOPPyZ16tQMGDAAsC4zS7xETgghfIW0nIXb+OWXX1i8eDGDBw8me/bsAIwaNQqA2rVrm4wmhBAuJcVZuIX4+Hg++ugj8uXLd8uEJQsWLDCYSgghzJDiLNzC7NmziYqK4uuvvyZNmjRJz2fJksVgKiGEMEPOOQvjrl69Ss+ePSlXrhyNGze+5bVFixYlTdMqhBC+QlrOwrjPP/+ckydPsnDhQpRSt7wWEREBQP369U1EE0III6Q4C6POnz/PqFGjqFu3LoGBgf96ffHixQZSCSGEWVKchVGjRo3i4sWL9O/f/46vZ8yY0cWJhBDCPDnnLIw5c+YMo0ePplGjRjz//PN3XGb+/PlJtwoVQghfIS1nYcyIESO4evUqffv2vesyEyZMAPjXQDEhhPBmUpyFEadOnWLs2LG89dZbFC9e/K7LLV++3IWphBDCPUhxFkYMHTqUGzdu3LPVDJA2bVoXJRJCCPch55yFy504cYIJEybQokULihQpcs9l58yZw5w5c1yUTAgh3IO0nIXLDR06lPj4ePr06XPfZadMmQJA8+bNnR1LCCHchhRn4VL/+9//mDx5Mi1atKBgwYL3Xf7HH390QSohhHAvUpyFS40ePZobN27QvXv3B1o+ICDAyYmEEML9yDln4TKXLl1i3Lhx1K9fn2LFij3Qe2bMmMGMGTOcG0wIIdyMFGfhMl9++SUXL17kk08+eeD3SHEWQvgi6dYWLnH9+nW++OILgoODKVu27AO/b82aNc4LJYQQbkqKs3CJmTNnEh0dLZdFCSHEA5BubeF0cXFxDB8+nLJly1K1atWHeu/kyZOZPHmyk5IJIYR7kuIsnG7BggUcPHiQHj16/Ot+zfcjN74QQvgi6dYWTqW1Zvjw4RQrVoy6des+9PtXr17thFRCCOHepDgLp1q3bh07d+5k4sSJpEghHTVCCPEg5NNSONUXX3zBU089RYsWLR7p/ePHj2f8+PEOTiWEEO5NirNwmgMHDrBkyRLat29PmjRpHmkdS5cuZenSpQ5OJoQQ7k26tYXTRERE4O/vT8eOHR95HStWrHBgIiGE8AzSchZOcfHiRaZNm0bjxo3JlSuX6ThCCOFRpDgLp5g6dSpXrlwhLCzssdYzevRoRo8e7aBUQgjhGaQ4C4eLi4sjIiKCihUr8sILLzzWun766Sd++uknByUTQgjPIOechcMtXryYI0eO8MUXXzz2upYsWeKAREII4Vmk5SwcLjw8nIIFC1KnTh3TUYQQwiNJcRYOFRUVxYYNG3j//ffx8/N77PWNHDmSkSNHOiCZEEJ4DunWFg41btw40qRJQ6tWrRyyvs2bNztkPUII4UmkOAuHuXDhAnPnzqVZs2ZkypTJIetcuHChQ9YjhBCeRLq1hcPMmDGDmJgY3nvvPdNRhBDCo0lxFg6RkJDA+PHjCQwMpHTp0g5b79ChQxk6dKjD1ieEEJ5AurWFQ6xevZq//vqLvn37OnS9UVFRDl2fEEJ4AinOwiHGjRtH1qxZadiwoUPXO2/ePIeuTwghPIF0a4vHduTIEX744QfatWtHqlSpTMcRQgiPJ8VZPLaJEycC0L59e4eve+DAgQwcONDh6xVCCHcm3drisdy4cYMpU6ZQu3Zt8uXL5/D179u3z+HrFEIIdyfFWTyWRYsWcfr0aaddPjVnzhynrFcIIdyZdGuLxzJp0iQKFSpEcHCw6ShCCOE1pDiLR7Zv3z7WrFlDu3btSJHCOX9Kffr0oU+fPk5ZtxBCuCvp1haPbNKkSfj7+ztsHu07OXr0qNPWLYQQ7kqKs3gk169fZ8aMGdSrV4/s2bM7bTvTp0932rqFEMJdSbe2eCQLFy7k3LlzhIaGmo4ihBBeR4qzeCQTJ06kcOHCVK1a1anb6dGjBz169HDqNoQQwt1It7Z4aL///jvr169n2LBhThsIlujs2bNOXb8QQrijexZnpVQOrXW0/X0AEAc001rLxac+bNKkSQQEBNCyZUuXbEuYpZTKoLW+fIfn02qtr5nIJIS3u1+zZ5ZSqpb9/SCgIvC2cyMJdxYTE8OsWbOoX78+2bJlMx1HOJFSKrtSqjOw+E6vAeNdn0oI33C/4qyAAkqpUCAnsN5+TviohQsXcv78eZcNBOvatStdu3Z1ybbEHfkBfkqpNEopf6XUOqVUUaAM8H+GswnhtR7knPNCrMIcDFQHtFMTCbc2efJknn76aapUqeKS7cXExLhkO+KuSgJFgFnAL0BaoD+QGnjXYC4hvNpdi7NSqgFWKzkIKA8cA3IA2ZRS9QG01otckFG4iT///JN169YxZMgQlHJNB8q4ceNcsh1xR12BHUBeoDtQE7gEDAbmaa1PGcwmhFe7V7d2FqAAVov5KeBVoDCQEshqfwkfMmXKFPz8/FwyEEy4hU1Adqz9P7GrJB3wCTBPKRVoKpgQ3u6uLWet9USlVENgjf3UVmAD8LLWeqILsgk3cvPmTWbOnEnt2rXJkSOHy7YbFhYGQHh4uMu2KZJsAioAAUAs1v7fE2gMnAf6AJuNpRPCi91vQJgGdgP5gfJa6x3OjyTc0dKlS/nf//5Hu3btTEcRrvU3EK21nqW13gcM1Fof1lpfxDr/LIRwgvsNCFNAPaxLJqorpZo5P5JwR1OmTCFPnjxUr17dpduVFrNR17FOa11VSiVeTpVCKfUmsBMYbiyZEF7ufsX5ba31SQCl1FyslrZM+eljjhw5wsqVK+nduzd+fn6m4wgXsVvHte/0mlKqAvAMcMiloYTwEfcrtP9RSgUqpZ7Slnit9WylVIhL0gm3MG3aNABat27t8m137NiRjh07uny7wqKUyqyUetL+PulgXmu9QWu9wlwyIbzb/YrzWKxrnJsopSKVUk8rpeoCnZ0fTbiD+Ph4pk2bRvXq1cmfP7/Lt58mTRrSpEnj8u2KJL8DQ5RSrwIrlVIBSqlqSqn6iZdUCiEc737d2qewLqHIDOQDGgB5sK53Fj5g1apVHDt2zNi535EjRxrZrkjyBzAC6Ab0tZ9LhzWd71BToYTwdndsOSulCiilBmNdQtEZiMYaHHIcOG1/L3zAlClTyJo1K7Vr3/HUo/B+aYCRwBCgGvCl1vp74JTWepbRZEJ4sTsWZ631YeBboCCwAI2YuV4AACAASURBVGuGoHT241xAOnu+beHFTp06xZIlS2jZsiUpU6Y0kiE0NNRl83iLWyml3gGuYRXnCUAEEJhsrn0hhJPcaxKSnUqpm8A2rFmCrgBrsS6v+to18YRJs2bNIi4uzshAsERPPfWUsW0LwJpD+wOsWcE+458etBsmQwnh7e41t3YTIBRrQEhZoB9Wgb4OTNda/+GKgMIMrTVTpkyhQoUKPPPMM8ZyDBkyxNi2fZ3WeqZSqiUwAxiA1YP2u9Z6mVKqi8lsQni7e43Wzg9UBlJh3ZXmVay70ayxHwsvtmHDBv7880/atm1rOoowS2P1nu0AQgCtlPocKGL/K4RwgvuN1j6G1Xp+HWsyggNYxTqFUqqu1tpcf6dwqilTpvDEE0/QsGFDozlatWoFwPTp043m8GElgS+xRmb3A6ZjfQ6MNphJCK93r+K8DDihtT6nlBqANWp7rtb6b9dEE6ZcuHCBb7/9lnfeeYd06dIZzZI3b16j2/d1WuvkJ/3bKaX8tNbxxgIJ4SPuVZwzaa33KKVaaa2nY11KkUQp9ZrWepVz4wkTvv76a2JiYtyiS3vAgAGmI/g0pVQOrXW0/X0AEKeUaq61nmM4mhBe7V7nnPsrpToBLZRS3ZRSW5VSy+x/3wdKuyijcLGpU6dSqlQpypQpYzqKMG+WUqqW/f0goCLwtsE8QviEexVnlez7a/bXN/a/L2Bd+yi8zM6dO/n1119p27YtSqn7v8HJmjdvTvPmzU3H8GUKKJDs2ub13PrZIIRwgnt1axcHMmBN17kAa9Qm9r/t5byTd5oyZQqpUqXirbfeMh0FgGLFipmOIGAhVmEOBqrzz2eBEMJJ7lWcfwe+B+ryz5Gytr9fqJTqprXe6+R8woWuXbvG3LlzefPNN8mUKZPpOAD07t3bdASfpZRqgLW/BwHlsa7eyAFkS7zphdZ6kbGAQnix+11KdQarIF8GjmDdBOMw1kxBU7GugxZeYsGCBVy8eNEtBoIJt5AFKIDVYk4LlACuAimBrOZiCeH97lWc+2qt1yml2mqtZyml8gHfa633ANiDxYQXmTx5MkWKFKFSpUqmoyRp0qQJAPPmzTOcxPdorScqpRpiTTwEsBXYALystZ5oLJgQPuBexbmLUqo5UEgp9T2QG8hnDxJSWC1quSOBl9i7dy8bNmxg2LBhbjEQLFGpUqVMR/B1GtgNvAGU1FpHuNPfhxDe6l7FOQXwIRBpfz0HbAQWuyCXcLEpU6bg7+/PO++8YzrKLT755BPTEXydAuoB44HqSqlmhvMI4RPuVZxHa62vKqW+1FrPBVBKdce6vnk3cMkVAYXz3bx5k5kzZxISEkL27NlNxxHuZRawH0jQWs9RSvlhTd8borWWA3UhnORe1znXsie2f0Ep1UEplR5oBBzFurRCJiHxEosXL+bMmTNuORCsQYMGNGjQwHQMX9YD6zKqJkqpSKx7ul/Gms5XCOEk92o5B2LNr/0j1tSd0VjXPbcBlmqtdzg/nnCFyZMnky9fPqpVq2Y6yr8EBgaajuDrTmFdpZEZyAc0wJr7IIfJUEJ4u3sV5+vAOaxrG/2AcliXVm3RWi93QTbhAocOHeLHH3+kX79++Pn5mY7zL127djUdwScppQpgDfgMwGolj8D6TDiOdWe666ayCeEL7tWtnRUoBdQE4oH/A54Bsiil3lZKyfy6XmDatGkopWjdWu7+Kf6htT4MfIvVjb0AyAuksx/nAtLZU3oKIZzgfpOQgDVaszhwk38Ggcm1FF4gNjaWqVOnUrNmTbe9NWOdOnUAWLJkieEkvkdrvVMpdRPYBmQHrgBrsfb/r01mE8Lb3as4nwaigOXAW0BLIA6rSP+itT7l9HTCqZYtW8bJkyf58ssvTUe5q1dffdV0BJ+llGqC1bX9O1AW6IdVoK8D07XWf5hLJ4R3u1dx9sOapi+N/Xg9kB7rvHOkUqqy1loup/JgEydOJHfu3NSqVev+CxvSubMMCjYoP9aUnQeAIsCrWK3ml+3HUpyFcJJ7FecDQEn7a4XWOlwpVR1rIpKxWPd2lSk8PdThw4dZuXIlffr0wd//Qc5uCB91DKv1/DpQG+tzIRXWtc51tdYyWEEIJ7jrp7LWutUdnh4IXNdaT1VKZXBeLOFskydPRilFmzZtTEe5p5o1awKwYsUKw0l80jLghNb6nFKqPxAGzNVa/204lxBe76GaTFrrTcm+v+z4OMIVYmNjmTZtGrVq1XLbgWCJateubTqCz0q8yY39fQzWfAfCA2it2b17N8uXL+f8+fO3vFa0aFFq165NtmzZDKUTD0L6M33QkiVLiI6Opn379qaj3Nd7771nOoIQHmPjxo0sWLCAxYsXc+jQIQBSp06d9HpCQgI3b95EKUX58uUJCQmhcePGbn+Q7ovudZ2z8FITJ04kb968SV3GQgjPdujQIerUqUOFChUYP348xYsXZ/LkyURHRxMTE5P0df36dXbu3Enfvn25cuUK3bp1o2jRogwcOJDr12VeGXcixdnHHDhwgB9//JG2bdu65YxgtwsODiY4ONh0DCHc0o0bNxg8eDDPPvssP/30E8OGDePMmTP88MMPtG3b9l83slFKUapUKfr27cvOnTvZv38/derUoU+fPjz//POsWrXK0E8ibifF2cdMnjwZPz8/tx8Ilqhx48Y0btzYdAwh3M7u3bspWbIkn376KbVq1WLv3r18/PHHZMjw4GN1CxcuzPz581m5ciVaa6pXr06zZs24du2aE5OLByHnnH3IjRs3mDZtGm+88Qa5c+c2HeeBtGvXznQEIdzOTz/9RP369UmfPj3Lly9/7FNUr732Grt372bo0KEMGDCAAwcOsHTpUrJmzeqgxOJhScvZhyxYsIDTp0/TsWNH01GEEI9o9uzZ1KhRg3z58rFlyxaHjR1JnTo1/fr1Y+HChezatYvAwED++usvh6xbPDwpzj5k3LhxFClSxKOmxAwKCiIoKMh0DCGM01rz2Wef8fbbb1OxYkXWr1/vlFHW9erV4+eff+bChQu88sorbNmyxeHbEPcnxdlH7Ny5k82bN/Pee++RIoXn/Le3bNmSli1bmo4hhHGffvopvXr1olmzZkRGRvLkk086bVuBgYFs3ryZjBkzUrVqVTZt2nT/NwmH8pxPafFYxo0bR9q0aT2u0ElxFgLGjBnDkCFDCA0NZfbs2aRMmdLp2yxSpAgbN24kT5481K5dmz/+kKnUXUmKsw84f/48X331Fc2aNXPq0bYzxMbGEhsbazqGEMZ8++23dO7cmZCQEMaPH49Srrtjb/bs2YmMjCQgIIAaNWpw/Phxl23b10lx9gEzZswgJibGIweCVatWjWrVqpmOIYQRa9asoXnz5gQGBvL1118bmZugUKFCrFixgvPnz1OzZk0uXLjg8gy+SIqzl0tISGD8+PGUL1+ekiVLmo7z0Nq2bUvbtm1NxxDC5Xbv3k1ISAiFCxdm6dKlpEmT5v5vcpLSpUuzaNEi9u7dS0hICDdu3DCWxVdIcfZyP/74I/v37/fYOaqbN29O8+bNTccQwqUuXLhA3bp1SZ8+PZGRkWTOnNl0JIKDg5k5cybr1q3jww8/NB3H68kkJF5u3LhxZMuWjQYNGpiO8kgSZypKmzat4SRCuEZCQgLvvPMOf//9N+vWrSNfvnymIyVp2rQpO3fuZMSIEbzyyity4OxE0nL2YgcOHOCHH34gNDSUVKlSmY7zSGrVqkWtWrVMxxDCZUaMGMGSJUsYOXIkgYGBpuP8y+DBg6lUqRKhoaHs2bPn/m8Qj0Razl4sIiICf39/j+3SBujQoYPpCEK4zJo1a+jZsyeNGjWiU6dOpuPckb+/P/PmzaN06dI0aNCAbdu28cQTT5iO5XWk5eylLl68yLRp02jSpAk5c+Y0HeeRyY0vhK84efIkTZo0oUiRIkyZMsWll0w9rJw5czJ//nwOHDhAmzZt0FqbjuR1pDh7qalTp3LlyhXCwsJMR3ksFy9e5OLFi6ZjCOFUCQkJNGvWjMuXL7Nw4cKHurOUKZUrV2bw4MEsWLCACRMmmI7jdaQ4e6G4uDgiIiKoVKkSZcqUMR3nsYSEhBASEmI6hhBOFR4ezi+//EJERATPPvus6TgPrFu3btSoUYOuXbuyb98+03G8ipxz9kLff/89R44c4YsvvjAd5bG563k3IRxlz5499OjRg7p169K6dWvTcR6KUoqpU6fy3HPP0aJFCzZu3EhAQIDpWF5BWs5e6IsvvqBQoULUqVPHdJTHVr9+ferXr286hhBOcePGjaRpdSdNmuTW55nvJleuXEyaNIlt27YxaNAg03G8hhRnL/N///d/bNq0iU6dOhmZ6s/Rzpw5w5kzZ0zHEMIp+vTpw2+//cbUqVPJmjWr6TiPrEGDBrz99tt89tlncotJB5Hi7GXCw8PJkCEDrVq1Mh3FIRo2bEjDhg1NxxDC4datW8eIESMIDQ3ljTfeMB3nsUVERJA7d25atGjB1atXTcfxeFKcvcjff//Nt99+S9u2bb3musMuXbrQpUsX0zGEcKgrV67wzjvvUKhQIUaNGmU6jkNkzJiRWbNmceDAAbp37246jseTAWFeJHEn9/TLp5KrXbu26QhCOFzPnj05cuQI69atI3369KbjOEzlypXp3Lkz4eHhNGrUiEqVKpmO5LGk5ewlzpw5w+TJk2nWrJlbzcX7uKKjo4mOjjYdQwiHWb9+PWPGjOGDDz6gQoUKpuM43KBBgyhUqBCtW7dOmhtfPDwpzl5izJgxxMTE8PHHH5uO4lBNmjShSZMmpmMI4RDXrl2jdevWFCxYkMGDB5uO4xTp0qVj6tSpHDhwgN69e5uO47GkW9sLXL58mTFjxlC3bl2KFy9uOo5DffLJJ6YjCOEwffv2Zf/+/fz888+kS5fOdBynCQoKokOHDnzxxRe8+eablCtXznQkjyMtZy8wefJkzp8/75WFrEaNGtSoUcN0DCEe29atW/n888959913qVKliuk4Tjds2DDy5s1Lq1atuH79uuk4HkeKs4e7ceMGo0aNokqVKrz88sum4zjc0aNHOXr0qOkYQjyWGzdu0Lp1a3Lnzs2wYcNMx3GJDBkyMGnSJPbu3cuAAQNMx/E4Upw93Ny5czlx4oRXtpoBWrRoQYsWLUzHEOKxDB48mN9//51JkyZ5zWWOD6J69eq0atWK4cOHExUVZTqOR1HucquvsmXL6u3bt5uO4VHi4+MpXrw46dOnZ/v27R459d/9rF69GoDg4GDDSdyHUupXrXVZ0znuRvblW+3Zs4cyZcrQuHFjZs+ebTqOy507d47ixYuTO3dutm7dir+/DHVKdK99WVrOHuzbb7/lzz//5JNPPvHKwgxWUZbCLDxVfHw8bdu2JWPGjF5xI5pHkTlzZsaMGcOOHTsIDw83HcdjSHH2UHFxcfTr14/nnnuOBg0amI7jNAcPHuTgwYOmYwjxSMaMGcPWrVuJiIggS5YspuMY07BhQ0JCQujTpw8HDhwwHccjSHH2UF999RX79u2jf//+pEjhvf+NrVu39rjb6AkBcOjQIT799FNq1arl89fqK6UYN24cfn4BvPpqKO5yOtWdee+nuheLjY2lf//+lC5dmrp165qO41T9+/enf//+pmMI8VC01rz77rukSJGCCRMmeO1pp4eRO3duGjcewZEjP9OlyzTTcdyeFGcPNGvWLA4ePMiAAQO8fqevXLkylStXNh1DiIcya9YsVq1axdChQ71qOt3HVaVKW6Ay4eFd+OuvE6bjuDUpzh7m5s2bDBw4kJdeeonXX3/ddByn27dvH/v27TMdQ4gHFh0dzYcffkiFChXo0KGD6ThuJUWKFKRLNxmtb1C9ekfp3r4HKc4eZurUqRw5csQnWs0A7du3p3379qZjCPHA3n//fa5du8aUKVO8ejzIo0qRoggwgEOHvmfIkAWm47gtueDMg1y/fp3PPvuM8uXL89prr5mO4xLeenMA4Z0WLlzIwoULGTJkCMWKFTMdx419CHxD797v07JlVXLlesp0ILcjxdmDjBs3juPHjzN79myfaDUDvPLKK6YjCPFAzp07R8eOHSlTpgxdu3Y1HcfN+QNTSUh4gerVP2T37lmmA7kd6XPxEGfOnGHgwIHUqlXLJybNT7Rnzx727NljOoYQ99WlSxfOnj3L1KlTZRasB/I80IM9e2YzfvwK02HcjhRnD9G/f3+uXLnCiBEjTEdxqffff5/333/fdAwh7ikyMpIZM2bQvXt3SpUqZTqOB/kUKE7nzqGcPXvRdBi3Iod3HmDv3r1MmDCB9u3be939mu/H1w5GhOe5cOECbdu2pXjx4vTq1ct0HA+TCphOXFwgr732Eb/+OtV0ILchLWcP0LVrV9KlS0e/fv1MR3G5F198kRdffNF0DCHuKiwsjOjoaGbNmkXq1KlNx/FALwHd2bFjGhMmLDMdxm1IcXZzP/74I8uWLaNXr15kzZrVdByXi4qKklvNCbe1ZMkSZs6cSc+ePXnhhRdMx/FgfYHn6NSpHf/73znTYdyCFGc3Fh8fT5cuXShYsCAffPCB6ThGhIWFERYWZjqGEP9y9uxZ2rdvT8mSJaU7+7GlAmYQF3eaatU6mw7jFuScsxubMmUKu3fv5ptvvvHZ7jK5xZxwVx988AFnzpwhMjKSlClTmo7jBcoAn/Lbb/354osGfPihd9834H6k5eymoqOj+eSTTwgKCqJhw4am4xhTqlQpGf0q3M63337L119/TZ8+fShZsqTpOF7kU6A03bq15+jR/5kOY5QUZzcVFhbGtWvX+PLLL31mwpE72bZtG9u2bTMdQ4gkR48eJTQ0lJdeeolPPvnEdBwvEwDMIj7+IpUqtfLpubelOLuhFStWMH/+fHr16uXzUwB269aNbt26mY4hBGCNA2nevDlxcXF89dVXBAQEmI7khUoAIzl8eDlhYWNNhzFGzjm7matXr9KhQwf+85//0L17d9NxjBs71nd3TuF+hg4dyrp165g5cyaFCxc2HceLdQQiiYjoRqNGQZQv/5zpQC4nxdnN9O3blyNHjrB+/XoZZAKUKFHCdAQhANiyZQt9+/aladOmtGjRwnQcL6eA6cDz1KzZlOjobaRNm8Z0KJeSbm03snPnTsLDwwkNDaVChQqm47iFTZs2sWnTJtMxhI+7dOkSb731Fnny5GHChAk+PQ7EdbICM7l8+b+8/rrvndqS4uwmrl+/zttvv02WLFkYOnSo6Thuo2fPnvTs2dN0DOHDtNaEhoZy5MgR5s6dS8aMGU1H8iGvAR+xZs04wsMXmg7jUtKt7Sa6d+/Onj17WL58OZkyZTIdx21MnDjRdATh40aPHs38+fMZPHgw5cuXNx3HBw0GNvLRR62oVOlZypR5xnQgl5CWsxtYsWIFERERdOrUiZo1a5qO41aKFSvm8yPWhTnr16+nW7du1K1bVy6bMiYVsACtUxMUVJ/Ll6+YDuQSUpwNO3XqFC1btuS5555j2LBhpuO4nbVr17J27VrTMYQPOnnyJI0aNaJgwYLMmDFDzjMblQeYx+XL+wgKauMT1z9LcTZIa03r1q25ePEiX331lc9O0Xkvffv2pW/fvqZjCB8TGxtLo0aNuHTpEosWLZLzzG6hKjCEHTu+ISzM+6f1lXPOBo0ZM4bly5czZswYuWToLqZNm2Y6gvBBH330ERs2bOCrr76SfdOtdAO2EBHRjfLlS9KoUVXTgZxGWs6GrFmzhi5duvDGG2/QsWNH03HcVqFChShUqJDpGMKHhIeHM3bsWLp06ULTpk1NxxG3UMAMoBhNm9Znx47fDedxHinOBhw8eJCGDRvy9NNPM2fOHDmXdQ+rV69m9erVpmMIH/Hdd9/x0UcfUb9+fYYPH246jrijJ4DlJCSkoUKFWpw4EW06kFNIcXaxy5cvExISQkJCAkuWLJFzWfcxaNAgBg0aZDqG8AFbt27lrbfe4qWXXmL27NmkSCEfj+4rP/ADMTGnKVPmDa5evWo6kMPJOWcXio+Pp1mzZvzxxx9ERkZSpEgR05Hc3uzZs01HED7gwIED1K5dm1y5crFkyRLSpk1rOpK4rxeA+Zw6FUJgYFN27vwOPz8/06EcRg4NXejTTz9l6dKlhIeHExwcbDqOR8ibNy958+Y1HUN4sePHj1OjRg3i4+NZvnw52bJlMx1JPLA3gDHs3r2U6tVDSUhIMB3IYaQ4u8jw4cMZNmwY7du3lwFgDyEyMpLIyEjTMYSXOnnyJFWrViU6OpoffvhBJrzxSO8Bffjpp2nUrv2u1xRo6dZ2gYiICLp3706TJk0YN26cDAB7CInzjNeoUcNwEuFtoqOjqVKlCsePH2flypUEBgaajiQeWT8gjuXLB1O/vh/ffTfe4z9npTg72aRJk+jcuTP16tVj1qxZXnVOxBXmzZtnOoLwQqdOnaJq1aocO3aMFStWyJzZHk8Bg4AEFi8eSoMGKVi4cKxHF2jp1nai2bNn8+6771KrVi2+/vprAgICTEfyODly5CBHjhymYwgv8vfff1O1alWOHDnCsmXLqFixoulIwiEU1k0yuvHdd+OpU+dd4uLiTId6ZFKcnWT06NG88847VK1alYULF5IqVSrTkTzS0qVLWbp0qekYwkvs3LmTcuXKcezYMZYvX07lypVNRxIOpYBhQA9++GESgYF1uXLFM2+UIcXZweLj4/nwww8JCwsjJCSEJUuWyJzZj2HUqFGMGjXKdAzhBVasWEHFihXx9/dn48aNUpi9VmILegLbt6/g2Wcrc/LkSdOhHpoUZwe6du0ab775JuHh4XTu3JkFCxbI9ZKPacGCBSxYsMB0DOHhJk2aRO3atSlatChbtmyR+bJ9wrvAEv7+ex/FipVj9+7/mg70UKQ4O8ixY8d49dVX+f777wkPDyc8PFwGfzlAlixZyJIli+kYwkNdvXqVNm3a0L59e6pVq8batWvJlSuX6VjCZV4H1nL58k1Kl36ZSZM8Z1IjKc4O8P3331OyZEl2797NggUL6Ny5s+lIXmPRokUsWrTIdAzhgXbv3s2LL77I9OnTkyYAypAhg+lYwuVeALaRkPAC7du/Td26LT3iPLQU58cQExPDe++9R7169ShQoAA7duygfv36pmN5lYiICCIiIkzHEB5Ea82kSZN46aWXOHfuHKtWrWLQoEH4+8uVo74rD1r/BPRh8eJZPP10WaKidpkOdU9SnB/R1q1befHFF5kwYQJdunRh8+bNFC1a1HQsr7N48WIWL15sOobwEPv27aNatWq0b9+eihUrsmvXLpkqV9j8gf7AT/zvf5coU6YsH3zQg2vXrpkOdkdSnB/SqVOnaN26NeXKlePcuXNERkYycuRIUqZMaTqaV8qYMaPcuUvcV0xMDL179+b5559n+/btjB07lsjISLJnz246mnA7VdD6N6A5Y8cOJV++4ixevMR0qH+R4vyAYmNjCQ8Pp2jRosyZM4ePP/6Yffv2Ub16ddPRvNr8+fOZP3++6RjCTcXHxzNv3jxKlCjBoEGDaNSoEXv37qVjx45yy0dxD1nQejqwjnPn0lO3bgiVKtXmt99+Mx0sifz13kdMTAxjx47l6aef5sMPPyQwMJDdu3czbNgwGVziAhMmTGDChAmmYwg3k1iUn3vuOZo2bUqaNGn4+eefmT17tswoJx5CRbTeCQxn/fp1lCxZkpo1G7Brl/nz0VKc7+L8+fMMHTqUAgUK8MEHH5A3b16WL1/OihUr5M41LrR8+XKWL19uOoZwE1euXGHq1KlJRTlFihR88803/Pbbb1SpUsV0POGRAoBuwGGU6ktk5GpKlSpF9er1+eWXX9BaG0klxTmZ+Ph4Vq5cSdOmTcmZMyc9evSgTJkyrFu3jg0bNlCzZk2PnkjdE6VNm1YmchHs3LmTDh06kCtXLtq2bYu/v39SUX7zzTelC1s4QCa07kdikV61ag1Vq1YlX75iDB8+gtOnT7s0jc9fWxAbG8vGjRv54YcfmDdvHsePHydz5sy0a9eONm3aUKpUKdMRfdqcOXMAaN68ueEkwpW01kRFRfHdd9/x3XffsWfPHlKnTk3jxo0JDQ0lMDBQDpSFkyQW6e7AQk6cmEj37h/Ts+enVKz4Kk2a1CUkJMTpp098rjhrrfnzzz/ZuHEjK1euZOXKlVy8eJGAgACqVatGeHg4tWvXlhtVuIkpU6YAUpx9wcmTJ1m3bh1r165l+fLlHDlyhBQpUlChQgXGjBlDs2bNyJQpk+mYwmekAZqTkNAc+B2Yzpo137Fmzbt06NCBUqXKUafOa1SqVIly5co5vIfPacVZKdUI6Ar4AWu01l2cta27SUhI4PDhw+zZs4fdu3ezZcsWNm/ezNmzZwHrdoQNGzbk9ddfJzg4WAZ4uaEff/zRdAThBOfOnWPXrl3s2rWLqKgoNm7cyP79+wFInz49QUFB9OnTh9q1a5M1a1bDaYUoTnz8CGA48F/8/L4nKmoxO3cOBBLw8wugZMmyVKz4MqVKlaRkyZIUL178sRp5TinOSqn8wEDgJeASME8p1UBrvdCR20lISODs2bOcPHmSEydOcPjwYQ4dOsShQ4c4ePAgf/zxxy0XmD/zzDOEhITwyiuv8Morr1CsWDE5V+Xm5B7YnikmJiZpvzx+/DgHDhxI+tq/fz/Hjx9PWjZ79uyUK1eODh06UKlSJUqVKiWzeQk3pYASxMWVAHoBF4FN+PmtIypqHTt2TAKsmuPn50++fIV55pmnKVKkMIULF6ZgwYLkypWLXLlykS1btntvyRkj0ZRS7YH8Wuue9uOqQCutdYu7vado0aJ65MiRxMTEEBMTw7Vr17hy5QqXL1/mypUrXLp0iXPnznH+/HnOnTvH2bNnOXXqFPHx8besJ2XKlOTPn58CBQrw7LPPUqJECUqUKEHx4sWlZeyBZsyYAUDLli2N5nAnSqlftdZlTee4G39/9OWoyAAABDpJREFUf337fglWT1XhwtaHVIkSJShZ0mphyEQhvuPrr6F9e7h82XQSZ4kH9qPULgICdhEfv4/4+P0odQCtb53PO0WKFCQkpPld6yvP3mlNzjo8fQqITvb4JHDPw4S//vqLkJCQfz2vlCJ9+vQ88cQTZM6cmUyZMlG4cGFefPFFcubMSY4cOZK+ChQoQK5cuaQ17EWkOHuezJkzExYWltRCyJUrFwUKFCB9+vSmowk3cIfjNi/iBxRD62LcvNko6VmrEXwaOAycJEWKE2h9AlhR/G5rclbLuQ1QUGvdy35cBavl/PZty4UCofbDYsA+h4cR3iALcMZ0CDeSX2vttidilVKngSOmcwh3lCEtZCgCT3l1iX5wx/y1PnfHRrKzinNOYDVQTmt9WSk1G/je0eechW9QSm13525cIcSDk/35wTilW1trfVIpNRhYp5S6CayXwiyEEEI8GKcNidRazwXmOmv9QgghhLeSkVPCE0wyHUAI4TCyPz8Ap5xzFkIIIcSjk5azEEII4WakOAu3pJR6Wik1y3QOIcTjkX350Ui3thBCCOFmpOUs3JJSqoBSaotSqqVSarpSaqlSapdSqofpbEKIByf78qOR2eWFJygBlMc6mDwIDDEbRwjxiGRffkBSnIUn+ElrfRNAKZVgOowQ4pHJvvyApFtbCCGEcDNSnIUQQgg3I6O1hRBCCDcjLWchhBDCzUhxFkIIIdyMFGchhBDCzUhxFkIIIdyMFGchhBDCzcgkJAIApdS7wBmt9YLbng8DrgD/AwoDEcBUrXVLl4cUQtyX7MveQYqzj1JKpQaOA7tve/59+9vngNxARqy/k2zAb0AR/r+d+we1MYzjAP55EsqEMtySMikWrKJQSq4MJMpA/g3KIqsyymAzYtIdhGKjyEIWEYtMyqBkvLpd9TO8761b13zO6T3fz/a87xme4XzP9z3P8/SyqbU223/uQ1X9GMmkI2KFZHmYUs7T7W1VzUJr7YLuaftpP36OE9iPXfiOQ3iJXziA3bii+2GIiPFJlgcm5Ty9FnCxtfa6H89gsV/6gtP4jS26ZbDVeIXDuIU1+FpVX0Y56YhYIVkeoJTzlKqqaq3NYK6/tEe3H/WxH2/GNrzABjzAPHbioC7s70Y45Yj4j2R5mPL6zinVWjuC68suzWBRt8y15B6uYR3+6J6wT+Eq1uJM5QsUMVbJ8jClnGPpQMkj/MWNqvq07N59PNPtSc1V1ef+NOg57KuqhXHMOSJWSpaHI+U8xVprG3WHQc7jJr7hri7YT3QHRlbhMbbqQgyX8BCXcbaqfo525hGxXLI8PNlznlKttfW4gzc4XlXz/a2TrbUdOIr3uK1bEnuMvTimC/F8a20B25FAR4xJsjxM+eccERExYfL6zoiIiAmTco6IiJgwKeeIiIgJk3KOiIiYMCnniIiICZNyjoiImDD/AOl99ShXerkQAAAAAElFTkSuQmCC\n",
          "text/plain": "<Figure size 576x288 with 2 Axes>"
         },
         "metadata": {
          "needs_background": "light"
         },
         "output_type": "display_data"
        }
       ]
      }
     },
     "22e5cbb8cfd1405ea3fb2873c5efa14f": {
      "model_module": "@jupyter-widgets/controls",
      "model_module_version": "1.5.0",
      "model_name": "VBoxModel",
      "state": {
       "_dom_classes": [
        "widget-interact"
       ],
       "children": [
        "IPY_MODEL_86ac258c32de4e76862fb779106fd571",
        "IPY_MODEL_1fdb137a869a4ec9bcfa66f89b1ddbc7"
       ],
       "layout": "IPY_MODEL_2d001bf84b8e4d3c96c8f923ce9d9d15"
      }
     },
     "25b172cc612c4f689435cd6bc2b72fc8": {
      "model_module": "@jupyter-widgets/output",
      "model_module_version": "1.0.0",
      "model_name": "OutputModel",
      "state": {
       "layout": "IPY_MODEL_ebd9df9ddd3f419cb285abf70d927159",
       "outputs": [
        {
         "data": {
          "image/png": "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\n",
          "text/plain": "<Figure size 576x288 with 2 Axes>"
         },
         "metadata": {
          "needs_background": "light"
         },
         "output_type": "display_data"
        }
       ]
      }
     },
     "2b7a6a6abdd0492c84a204e8c063886b": {
      "model_module": "@jupyter-widgets/controls",
      "model_module_version": "1.5.0",
      "model_name": "SliderStyleModel",
      "state": {
       "description_width": ""
      }
     },
     "2d001bf84b8e4d3c96c8f923ce9d9d15": {
      "model_module": "@jupyter-widgets/base",
      "model_module_version": "1.2.0",
      "model_name": "LayoutModel",
      "state": {}
     },
     "2f21b9c3830546c6ab84980d909e03db": {
      "model_module": "@jupyter-widgets/controls",
      "model_module_version": "1.5.0",
      "model_name": "SliderStyleModel",
      "state": {
       "description_width": ""
      }
     },
     "34843d2b8c054653818d8048f51c1e33": {
      "model_module": "@jupyter-widgets/controls",
      "model_module_version": "1.5.0",
      "model_name": "VBoxModel",
      "state": {
       "_dom_classes": [
        "widget-interact"
       ],
       "children": [
        "IPY_MODEL_134d1e0c37f04e9a98115559add773ef",
        "IPY_MODEL_826ca127f4324426bd2618256b81ed0a"
       ],
       "layout": "IPY_MODEL_54443d626f764b81bbaef291323d7cda"
      }
     },
     "38e6aa67b72d44b188151e0769a01be8": {
      "model_module": "@jupyter-widgets/controls",
      "model_module_version": "1.5.0",
      "model_name": "FloatSliderModel",
      "state": {
       "continuous_update": false,
       "description": "入力：",
       "layout": "IPY_MODEL_69c2f21e28bc48daaedc87e85fc016a0",
       "max": 0.95,
       "min": 0.05,
       "readout": false,
       "step": 0.1,
       "style": "IPY_MODEL_f17adf74001348c6a5a82736624d044a",
       "value": 0.55
      }
     },
     "3be88bd93e634fd8b8c0395ac1806942": {
      "model_module": "@jupyter-widgets/controls",
      "model_module_version": "1.5.0",
      "model_name": "FloatSliderModel",
      "state": {
       "continuous_update": false,
       "description": "期待値 (平均) $( p\\times n)$：",
       "layout": "IPY_MODEL_73029a2e06344ec8b7a40ab028d55db1",
       "max": 5,
       "min": 0.1,
       "readout_format": ".1f",
       "step": 0.1,
       "style": "IPY_MODEL_ada29ad365ec4abe9ed40ab9373abfba",
       "value": 1
      }
     },
     "3c12d057908e4931b3021b4fb33387e3": {
      "model_module": "@jupyter-widgets/controls",
      "model_module_version": "1.5.0",
      "model_name": "SliderStyleModel",
      "state": {
       "description_width": ""
      }
     },
     "3e11210e1d264f43aa56c064ea0f766c": {
      "model_module": "@jupyter-widgets/base",
      "model_module_version": "1.2.0",
      "model_name": "LayoutModel",
      "state": {}
     },
     "41109e786a8146eaa2738cab62b3c259": {
      "model_module": "@jupyter-widgets/base",
      "model_module_version": "1.2.0",
      "model_name": "LayoutModel",
      "state": {}
     },
     "45ee660d7cb24107906f3cbec1fb3ddf": {
      "model_module": "@jupyter-widgets/base",
      "model_module_version": "1.2.0",
      "model_name": "LayoutModel",
      "state": {}
     },
     "54443d626f764b81bbaef291323d7cda": {
      "model_module": "@jupyter-widgets/base",
      "model_module_version": "1.2.0",
      "model_name": "LayoutModel",
      "state": {}
     },
     "58e3568663ba4b9abe59603ce9aca957": {
      "model_module": "@jupyter-widgets/base",
      "model_module_version": "1.2.0",
      "model_name": "LayoutModel",
      "state": {}
     },
     "5a1537396a744e2ea95ba43f6c754097": {
      "model_module": "@jupyter-widgets/controls",
      "model_module_version": "1.5.0",
      "model_name": "VBoxModel",
      "state": {
       "_dom_classes": [
        "widget-interact"
       ],
       "children": [
        "IPY_MODEL_ab052b9b02a84095803d3f4516bc8b7e",
        "IPY_MODEL_ebc62204fd2a403d99261e59621c5652"
       ],
       "layout": "IPY_MODEL_f70616ad8af44a3d8809e6ecca15ae7c"
      }
     },
     "61a758a463b04a0395fff4be0aa30129": {
      "model_module": "@jupyter-widgets/base",
      "model_module_version": "1.2.0",
      "model_name": "LayoutModel",
      "state": {}
     },
     "6395efaf7d094a55ad8793932966e8ce": {
      "model_module": "@jupyter-widgets/controls",
      "model_module_version": "1.5.0",
      "model_name": "VBoxModel",
      "state": {
       "_dom_classes": [
        "widget-interact"
       ],
       "children": [
        "IPY_MODEL_b3c9137ca03e4b66abff160c58829fce",
        "IPY_MODEL_cde0de23fbf8425f8213f414be970736"
       ],
       "layout": "IPY_MODEL_774958d3a303426f9275b8d95395231d"
      }
     },
     "66cc20b7cb1f4e9a92d49d897adf66bc": {
      "model_module": "@jupyter-widgets/base",
      "model_module_version": "1.2.0",
      "model_name": "LayoutModel",
      "state": {}
     },
     "67e5028ea38b4e6186d0a379bd3627fb": {
      "model_module": "@jupyter-widgets/base",
      "model_module_version": "1.2.0",
      "model_name": "LayoutModel",
      "state": {}
     },
     "68159916e5d14257869492eea940d38a": {
      "model_module": "@jupyter-widgets/base",
      "model_module_version": "1.2.0",
      "model_name": "LayoutModel",
      "state": {}
     },
     "681ff937685145a492a04bb18c14b190": {
      "model_module": "@jupyter-widgets/controls",
      "model_module_version": "1.5.0",
      "model_name": "VBoxModel",
      "state": {
       "_dom_classes": [
        "widget-interact"
       ],
       "children": [
        "IPY_MODEL_fd4f1052cc044808ab85d9a18835885a",
        "IPY_MODEL_1a191e040a6b4c6bbd48f307775fb87e"
       ],
       "layout": "IPY_MODEL_bd016af239554bbbaf958781ca341083"
      }
     },
     "6844c824776f47f18a182c0a65d3aca7": {
      "model_module": "@jupyter-widgets/controls",
      "model_module_version": "1.5.0",
      "model_name": "SliderStyleModel",
      "state": {
       "description_width": "initial"
      }
     },
     "69c2f21e28bc48daaedc87e85fc016a0": {
      "model_module": "@jupyter-widgets/base",
      "model_module_version": "1.2.0",
      "model_name": "LayoutModel",
      "state": {}
     },
     "72338cdea3264e49adc9cacf817ea1e3": {
      "model_module": "@jupyter-widgets/controls",
      "model_module_version": "1.5.0",
      "model_name": "VBoxModel",
      "state": {
       "_dom_classes": [
        "widget-interact"
       ],
       "children": [
        "IPY_MODEL_3be88bd93e634fd8b8c0395ac1806942",
        "IPY_MODEL_ee06a8a1e629409c88aa7a0e13f25c70"
       ],
       "layout": "IPY_MODEL_0a0f8521dd7f4ab083e9788371c5c63d"
      }
     },
     "73029a2e06344ec8b7a40ab028d55db1": {
      "model_module": "@jupyter-widgets/base",
      "model_module_version": "1.2.0",
      "model_name": "LayoutModel",
      "state": {}
     },
     "77424a024210489ab6c556a4efc1fc4a": {
      "model_module": "@jupyter-widgets/controls",
      "model_module_version": "1.5.0",
      "model_name": "SliderStyleModel",
      "state": {
       "description_width": ""
      }
     },
     "774958d3a303426f9275b8d95395231d": {
      "model_module": "@jupyter-widgets/base",
      "model_module_version": "1.2.0",
      "model_name": "LayoutModel",
      "state": {}
     },
     "7b62d5258ea34375b6f86093b8a486a4": {
      "model_module": "@jupyter-widgets/controls",
      "model_module_version": "1.5.0",
      "model_name": "FloatSliderModel",
      "state": {
       "continuous_update": false,
       "description": "確率：",
       "layout": "IPY_MODEL_bdbd19034a54461a88aa5bf0cae01cf0",
       "max": 1,
       "readout_format": ".1f",
       "step": 0.1,
       "style": "IPY_MODEL_77424a024210489ab6c556a4efc1fc4a",
       "value": 0.5
      }
     },
     "7b9442ac8c2644328747e4cef477e5ae": {
      "model_module": "@jupyter-widgets/base",
      "model_module_version": "1.2.0",
      "model_name": "LayoutModel",
      "state": {}
     },
     "7c73edd1a1d84d54a041d6babd737066": {
      "model_module": "@jupyter-widgets/controls",
      "model_module_version": "1.5.0",
      "model_name": "FloatLogSliderModel",
      "state": {
       "continuous_update": false,
       "description": "単位時間あたり平均回数：",
       "layout": "IPY_MODEL_0ada22cbecc2453e9c106485815b9921",
       "max": 1,
       "min": -1,
       "readout_format": ".1f",
       "step": 0.25,
       "style": "IPY_MODEL_6844c824776f47f18a182c0a65d3aca7",
       "value": 0.5
      }
     },
     "7cb02cebb14d43b0adfc1d18224efb60": {
      "model_module": "@jupyter-widgets/base",
      "model_module_version": "1.2.0",
      "model_name": "LayoutModel",
      "state": {}
     },
     "7fa6674077534de2a6253352f30d2c06": {
      "model_module": "@jupyter-widgets/controls",
      "model_module_version": "1.5.0",
      "model_name": "SliderStyleModel",
      "state": {
       "description_width": ""
      }
     },
     "826ca127f4324426bd2618256b81ed0a": {
      "model_module": "@jupyter-widgets/output",
      "model_module_version": "1.0.0",
      "model_name": "OutputModel",
      "state": {
       "layout": "IPY_MODEL_0cc84a8c5f6844e3842e64487601d628",
       "outputs": [
        {
         "data": {
          "image/png": "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\n",
          "text/plain": "<Figure size 288x288 with 1 Axes>"
         },
         "metadata": {
          "needs_background": "light"
         },
         "output_type": "display_data"
        }
       ]
      }
     },
     "84589749c9dc487c98b6d15182522809": {
      "model_module": "@jupyter-widgets/base",
      "model_module_version": "1.2.0",
      "model_name": "LayoutModel",
      "state": {}
     },
     "86ac258c32de4e76862fb779106fd571": {
      "model_module": "@jupyter-widgets/controls",
      "model_module_version": "1.5.0",
      "model_name": "FloatSliderModel",
      "state": {
       "continuous_update": false,
       "description": "入力：",
       "layout": "IPY_MODEL_68159916e5d14257869492eea940d38a",
       "max": 3,
       "min": -3,
       "readout": false,
       "step": 0.5,
       "style": "IPY_MODEL_f63fbcc8d0fe4b0fbff3c0968fd44c0a",
       "value": 1
      }
     },
     "882e0f7539394c0c81020fb60deaeef3": {
      "model_module": "@jupyter-widgets/controls",
      "model_module_version": "1.5.0",
      "model_name": "SliderStyleModel",
      "state": {
       "description_width": ""
      }
     },
     "88cc86e9cbe14619b55553dff4b6e21e": {
      "model_module": "@jupyter-widgets/controls",
      "model_module_version": "1.5.0",
      "model_name": "VBoxModel",
      "state": {
       "_dom_classes": [
        "widget-interact"
       ],
       "children": [
        "IPY_MODEL_ecb03fb34ec748f7bea815f375ce35ce",
        "IPY_MODEL_cf59a88f1f3342319afc7b16e80a153b",
        "IPY_MODEL_a13e20897bce406299c1a61148764c36"
       ],
       "layout": "IPY_MODEL_9b7904a8af0f4ba5b1d03eff87edeaaf"
      }
     },
     "89f37bd2979c40df9e8459eb28e07b13": {
      "model_module": "@jupyter-widgets/controls",
      "model_module_version": "1.5.0",
      "model_name": "SliderStyleModel",
      "state": {
       "description_width": ""
      }
     },
     "91406b8699e3415eb9b73fe47d4181d5": {
      "model_module": "@jupyter-widgets/controls",
      "model_module_version": "1.5.0",
      "model_name": "FloatSliderModel",
      "state": {
       "continuous_update": false,
       "description": "入力：",
       "layout": "IPY_MODEL_67e5028ea38b4e6186d0a379bd3627fb",
       "max": 0.95,
       "min": 0.05,
       "readout": false,
       "step": 0.1,
       "style": "IPY_MODEL_2f21b9c3830546c6ab84980d909e03db",
       "value": 0.55
      }
     },
     "9b7904a8af0f4ba5b1d03eff87edeaaf": {
      "model_module": "@jupyter-widgets/base",
      "model_module_version": "1.2.0",
      "model_name": "LayoutModel",
      "state": {}
     },
     "9d907dcc18254d8888e484aa7af1fe6b": {
      "model_module": "@jupyter-widgets/base",
      "model_module_version": "1.2.0",
      "model_name": "LayoutModel",
      "state": {}
     },
     "a13e20897bce406299c1a61148764c36": {
      "model_module": "@jupyter-widgets/output",
      "model_module_version": "1.0.0",
      "model_name": "OutputModel",
      "state": {
       "layout": "IPY_MODEL_84589749c9dc487c98b6d15182522809",
       "outputs": [
        {
         "data": {
          "image/png": "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\n",
          "text/plain": "<Figure size 288x288 with 1 Axes>"
         },
         "metadata": {
          "needs_background": "light"
         },
         "output_type": "display_data"
        }
       ]
      }
     },
     "a2866685347045fd94677df0d3b39781": {
      "model_module": "@jupyter-widgets/base",
      "model_module_version": "1.2.0",
      "model_name": "LayoutModel",
      "state": {}
     },
     "a5cfe50feff040908305d57db2a0e138": {
      "model_module": "@jupyter-widgets/controls",
      "model_module_version": "1.5.0",
      "model_name": "SliderStyleModel",
      "state": {
       "description_width": ""
      }
     },
     "a7b0df12dbf145749b32198f77164f28": {
      "model_module": "@jupyter-widgets/controls",
      "model_module_version": "1.5.0",
      "model_name": "VBoxModel",
      "state": {
       "_dom_classes": [
        "widget-interact"
       ],
       "children": [
        "IPY_MODEL_91406b8699e3415eb9b73fe47d4181d5",
        "IPY_MODEL_25b172cc612c4f689435cd6bc2b72fc8"
       ],
       "layout": "IPY_MODEL_04a0e13a4102435bbcce3cb6cd1b3c58"
      }
     },
     "a8acefdd5b004ce1ba15e70f3fbc6dfd": {
      "model_module": "@jupyter-widgets/controls",
      "model_module_version": "1.5.0",
      "model_name": "SliderStyleModel",
      "state": {
       "description_width": ""
      }
     },
     "ab052b9b02a84095803d3f4516bc8b7e": {
      "model_module": "@jupyter-widgets/controls",
      "model_module_version": "1.5.0",
      "model_name": "FloatSliderModel",
      "state": {
       "continuous_update": false,
       "description": "確率／回",
       "layout": "IPY_MODEL_1cb6a99cba6c49f88696758e30428ece",
       "max": 1,
       "min": 0.1,
       "readout_format": ".1f",
       "step": 0.1,
       "style": "IPY_MODEL_0e8c7f74dae4401b905e8da6c64cd65f",
       "value": 0.5
      }
     },
     "ada29ad365ec4abe9ed40ab9373abfba": {
      "model_module": "@jupyter-widgets/controls",
      "model_module_version": "1.5.0",
      "model_name": "SliderStyleModel",
      "state": {
       "description_width": "initial"
      }
     },
     "b0dfb32006ad4908be682cf9026c90ec": {
      "model_module": "@jupyter-widgets/controls",
      "model_module_version": "1.5.0",
      "model_name": "VBoxModel",
      "state": {
       "_dom_classes": [
        "widget-interact"
       ],
       "children": [
        "IPY_MODEL_7c73edd1a1d84d54a041d6babd737066",
        "IPY_MODEL_fbcbce5e5732494abc3dedf66bd2327e"
       ],
       "layout": "IPY_MODEL_c2fba5c5198e4f7bb83146360ef43a06"
      }
     },
     "b3c9137ca03e4b66abff160c58829fce": {
      "model_module": "@jupyter-widgets/controls",
      "model_module_version": "1.5.0",
      "model_name": "FloatSliderModel",
      "state": {
       "continuous_update": false,
       "description": "入力：",
       "layout": "IPY_MODEL_7b9442ac8c2644328747e4cef477e5ae",
       "max": 3,
       "min": -3,
       "readout": false,
       "step": 0.5,
       "style": "IPY_MODEL_a5cfe50feff040908305d57db2a0e138",
       "value": 1
      }
     },
     "b80ba67b4b55433d95b41615a73c59e7": {
      "model_module": "@jupyter-widgets/base",
      "model_module_version": "1.2.0",
      "model_name": "LayoutModel",
      "state": {}
     },
     "bab1b512b51c47b59a8421809187000d": {
      "model_module": "@jupyter-widgets/controls",
      "model_module_version": "1.5.0",
      "model_name": "IntSliderModel",
      "state": {
       "continuous_update": false,
       "description": "回数：",
       "layout": "IPY_MODEL_9d907dcc18254d8888e484aa7af1fe6b",
       "max": 10,
       "min": 1,
       "style": "IPY_MODEL_89f37bd2979c40df9e8459eb28e07b13",
       "value": 3
      }
     },
     "bd016af239554bbbaf958781ca341083": {
      "model_module": "@jupyter-widgets/base",
      "model_module_version": "1.2.0",
      "model_name": "LayoutModel",
      "state": {}
     },
     "bdbd19034a54461a88aa5bf0cae01cf0": {
      "model_module": "@jupyter-widgets/base",
      "model_module_version": "1.2.0",
      "model_name": "LayoutModel",
      "state": {}
     },
     "c2fba5c5198e4f7bb83146360ef43a06": {
      "model_module": "@jupyter-widgets/base",
      "model_module_version": "1.2.0",
      "model_name": "LayoutModel",
      "state": {}
     },
     "c7c8533b554541009b64554e4ee778d3": {
      "model_module": "@jupyter-widgets/base",
      "model_module_version": "1.2.0",
      "model_name": "LayoutModel",
      "state": {}
     },
     "ca284a2836b64b95b81797e4c8a4b7a5": {
      "model_module": "@jupyter-widgets/base",
      "model_module_version": "1.2.0",
      "model_name": "LayoutModel",
      "state": {}
     },
     "cde0de23fbf8425f8213f414be970736": {
      "model_module": "@jupyter-widgets/output",
      "model_module_version": "1.0.0",
      "model_name": "OutputModel",
      "state": {
       "layout": "IPY_MODEL_7cb02cebb14d43b0adfc1d18224efb60",
       "outputs": [
        {
         "data": {
          "image/png": "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\n",
          "text/plain": "<Figure size 576x288 with 2 Axes>"
         },
         "metadata": {
          "needs_background": "light"
         },
         "output_type": "display_data"
        }
       ]
      }
     },
     "ce97d7ba7ce049ec8fde5bf94747e5da": {
      "model_module": "@jupyter-widgets/controls",
      "model_module_version": "1.5.0",
      "model_name": "VBoxModel",
      "state": {
       "_dom_classes": [
        "widget-interact"
       ],
       "children": [
        "IPY_MODEL_38e6aa67b72d44b188151e0769a01be8",
        "IPY_MODEL_1a56579f366a4f3e849f40edc95bb7cd"
       ],
       "layout": "IPY_MODEL_d81b717272b64bbd8a103f3eaa813ced"
      }
     },
     "cf59a88f1f3342319afc7b16e80a153b": {
      "model_module": "@jupyter-widgets/controls",
      "model_module_version": "1.5.0",
      "model_name": "FloatLogSliderModel",
      "state": {
       "continuous_update": false,
       "description": "標準偏差：",
       "layout": "IPY_MODEL_61a758a463b04a0395fff4be0aa30129",
       "max": 0.25,
       "min": -0.25,
       "readout_format": ".1f",
       "step": 0.125,
       "style": "IPY_MODEL_2b7a6a6abdd0492c84a204e8c063886b"
      }
     },
     "d03d39e871d745518bead545f1109c6a": {
      "model_module": "@jupyter-widgets/base",
      "model_module_version": "1.2.0",
      "model_name": "LayoutModel",
      "state": {}
     },
     "d81b717272b64bbd8a103f3eaa813ced": {
      "model_module": "@jupyter-widgets/base",
      "model_module_version": "1.2.0",
      "model_name": "LayoutModel",
      "state": {}
     },
     "dd60857e7b444d87b37d3e230ab85fd6": {
      "model_module": "@jupyter-widgets/base",
      "model_module_version": "1.2.0",
      "model_name": "LayoutModel",
      "state": {}
     },
     "de990b23565640559b0c2927ec2d1658": {
      "model_module": "@jupyter-widgets/output",
      "model_module_version": "1.0.0",
      "model_name": "OutputModel",
      "state": {
       "layout": "IPY_MODEL_ca284a2836b64b95b81797e4c8a4b7a5",
       "outputs": [
        {
         "data": {
          "image/png": "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\n",
          "text/plain": "<Figure size 288x288 with 1 Axes>"
         },
         "metadata": {
          "needs_background": "light"
         },
         "output_type": "display_data"
        }
       ]
      }
     },
     "e19f793e6a854d23868b6af9f34b8f7d": {
      "model_module": "@jupyter-widgets/base",
      "model_module_version": "1.2.0",
      "model_name": "LayoutModel",
      "state": {}
     },
     "ea69eecdf33242fdad0b1e37a5c8b53f": {
      "model_module": "@jupyter-widgets/controls",
      "model_module_version": "1.5.0",
      "model_name": "IntRangeSliderModel",
      "state": {
       "_model_name": "IntRangeSliderModel",
       "_view_name": "IntRangeSliderView",
       "continuous_update": false,
       "description": "$事象の範囲$：",
       "layout": "IPY_MODEL_d03d39e871d745518bead545f1109c6a",
       "max": 10,
       "min": -5,
       "style": "IPY_MODEL_3c12d057908e4931b3021b4fb33387e3",
       "value": [
        1,
        6
       ]
      }
     },
     "ebc62204fd2a403d99261e59621c5652": {
      "model_module": "@jupyter-widgets/output",
      "model_module_version": "1.0.0",
      "model_name": "OutputModel",
      "state": {
       "layout": "IPY_MODEL_dd60857e7b444d87b37d3e230ab85fd6",
       "outputs": [
        {
         "data": {
          "image/png": "iVBORw0KGgoAAAANSUhEUgAAAS8AAAEZCAYAAADG/aNoAAAABHNCSVQICAgIfAhkiAAAAAlwSFlzAAALEgAACxIB0t1+/AAAADh0RVh0U29mdHdhcmUAbWF0cGxvdGxpYiB2ZXJzaW9uMy4yLjEsIGh0dHA6Ly9tYXRwbG90bGliLm9yZy+j8jraAAAWdUlEQVR4nO3de5hdVX3G8e8L4U6U24QogYBCi3JpkEFFkA4iElqUYGiIWhXTNgWqFVu0iK1VqLFaotBqhWi9UOONBBOLWBFKuAgJTizFSqtICyqGNCQSAbn79o+9RzfHSTL3M+vM+3meeeasfVn7tycPL3vts886sk1ERGm2ancBERFDkfCKiCIlvCKiSAmviChSwisiipTwiogiJbxiXJF0iKS316+/KKm7fn2+pOe0bPtMSZcM4Rjb1b8lqWsA2z9b0qWDPU6MrkntLiCij6Q3AnOA90k6B3gcmCbpFOC5wFGSdrT9n/UuxwHPk3TbZrp9t+2vNI4xHfiqpEOA5wGfl3S47Sc308ds4OdDP7MYDQmvGE9+AuwGvBG4GtgfMHAw8A3gDcAXG9u/FljYDKc+dfg92c+6vwQ+6urp7DskXQucD5zX2HdrYHVjn0OB2zcRkn9ou3dQZxkjIsPGGDdsfwO4HtgGmA6sB3YBzgL+Ang/8BYASXsDrwRuH2j/ko4DXgj8U2PxO4HjJZ3eqOMp2zNszwD+Briifn153/LGT4KrTRJeMS7U95/OAX4feAD4U+BZVGHztXrZ64E/lrQj8NfAtvW+p0v6X0krJa2XtH8//R8KfAaYa/vxvuW2HwNeBZwn6Z2Stmrssxvwt1TBCfCmkT7vGLqEV4wL9TBuNfB7wD9QXVXdDDwD6AauBK6lCrPDgCOAbzW6WGj7xcB1rX1LOqDefynVPa47JT0g6bZ6KPgdYCHwO8Ah9T7bAZcD+wBL6+327ttH0n2S5o703yEGLve8YlyQdDLwdmAHoAv4ISCq4Nqv3qwHOAO4BDgV+PhA+rZ9p6Qjbd9bH+sNwOG231q3PwvcafuldXtnYAmwEtirHjIi6QeN138z3HOO4Ul4xbhgezmwvA6xM4FX2/65pMuAT1NdAc2wfXbfPpKaXfy5pN8HpgJP9dP/vY3mscA1jfauwM8a7T2A62x/QNLsYZ1YjJqEV4w3M4F7gV5J84H3AVcAjwA9dZhcY3tjy34LbX+kr9ESbDSW/yZwIvAnjcV7Ahv6GrbvBj6wif23BrYHdqZ6JzTaJOEV44akGVRDwxnAgcBkqschtqJ6zmpPqpvn3wSa4fVVfv3+7fbAQy39HwR8BfgD4Ml62Y5Uj2SsGWCZ29THfxL42AD3iVGQ8IpxoX5n73LgtbYfk/R84F3AJ6luoh8DfB540PZ9zX1tr2v08yHgdVTh9XuN5ecCpwNvsX2VpDfX725OBq61/Uh/ddk+sKX9KFW4RpspM6nGeCFpsu0H69c7A4/ZfmKE+t6NKvhGpL9ov457VELSbElfkvTDTayfI+lWSaslLRzr+mLT+oKrfv3QSAaN7Q0Jrs7SceEFrKV6t2rb1hX159ouAI6negt+Wt5NiihTx4WX7Ztsr9/E6pnAUtsb64ciLwVmjV11ETFSJtoN+92B5s3eNcCU/jas36afD7DTTjsdfuCBB/a3WUSMstWrV99v+9emLppo4bWWXz2tDdUDjWv729D2ImARQHd3t3t78/nbiHaQdE9/yztu2LgFVwGnSJpct+cBy9tYT0QM0YQIL0lfkDTD9hpgAXCDpFXAWttL21xeRAxBxw4bbU9tvJ7beL0YWNyWoiJixEyIK6+I6DwJr4goUsIrIoqU8IqIIiW8IqJICa+IKFLCKyKKlPCKiCIlvCKiSAmviChSwisiipTwiogiJbwiokgJr4goUsIrIoqU8IqIIiW8IqJICa+IKFLCKyKKlPCKiCIlvCKiSAmviChSwisiipTwiogiJbwiokgJr4goUsIrIoqU8IqIIiW8IqJICa+IKFLCKyKKlPCKiCIlvCKiSAmviChSwisiitSR4SVpjqRbJa2WtLBl3VaSLpJ0s6RVkj4maZt21RoRQ9Nx4SVpOnABcDzQDUyTNLuxyYnAFNsvsf0iYDdg1thXGhHD0XHhBcwEltreaNvApTw9nNYB0yXtIWlXYFfgjjbUGRHD0InhtTtwX6O9BpjS17B9K7AE+D5wF7DM9nfHtMKIGLZODK+1NMIKmFovA6r7YcBhwD7A/sAxkua1diJpvqReSb3r1q0b5ZIjYrA6MbyuAk6RNLluzwOWN9Z3A9+2/ZDtDcBK4IDWTmwvst1tu7urq2vUi46Iwem48LK9BlgA3CBpFbDW9lJJKyRNBRYCx9ZXVd8EjgEubGPJETEEk9pdwGiwvRhY3LKsp9E8eUwLiogR13FXXhExMSS8IqJICa+IKFLCKyKKlPCKiCIlvCKiSAmviChSwisiipTwiogiJbwiokgJr4goUsIrIoqU8IqIIiW8IqJICa+IKFLCKyKKlPCKiCIlvCKiSAmviChSwisiipTwiogiJbwiokgJr4goUsIrIoqU8IqIIiW8IqJICa+IKFLCKyKKlPCKiCIlvCKiSAmviChSwisiipTwiogiJbwiokgJr4goUsIrIorUkeElaY6kWyWtlrSwn/WHSPq6pGslXSlp73bUGRFDN6ndBYw0SdOBC4AXAj8DviBptu2l9fqtgY8Ap9peJ+nZ9XYRUZBOvPKaCSy1vdG2gUuBWY31RwBrgAWSbgLOAh4Z+zIjYjg6Mbx2B+5rtNcAUxrtfYAjgfOBY+r2G1s7kTRfUq+k3nXr1o1iuRExFJ0YXmt5elhNrZf1eQC43vaPbP8CuBw4vLUT24tsd9vu7urqGtWCI2LwOjG8rgJOkTS5bs8DljfW3wIcKmmPun0CcNsY1hcRI6Djwsv2GmABcIOkVcBa20slrZA01faDwNuAL0u6GdgO+FQbS46IIei4dxsBbC8GFrcs62m8vg546RiXFREjqOOuvCJiYkh4RUSREl4RUaSEV0QUKeEVEUVKeEVEkQYdXqrsNxrFREQM1Gaf85J0CPC7dfOHtj8HzADmAO/cxD5nAPfbXrKFvk8HsP3pftbtAmxfN19S/1zYt972fa37RMTEsqWHVH8CbAT2BtZLuhvYFrhb0gqqzw0uAN7Q2Gc/4J46xPq8wfZPJG0Abq+XbQc8JulMqlkdngccZPt+4LPANVQfmn4M+DHwQeA/gKckXVzPGBERE9Rmw8v2ekn7Ah8HHgUWUc2TdSpwEdW8WGuAbwJfBg4GjqUKnhXAbOBu2z+pu/w34AygG3gT8PfA24Fz6t+/aBx+FlU4PgGsBw6kCsanqD7Os3GI5xwRHWBLw8YdqYaN64HvA3tShckHgd2owuV64E7gj4B7gB2Ao4D/Bp6wfWWjy/dTzZ/1AuDdwAeAM4FzgSW2N9Tb2XZPPbTcBriu3vaNth8a3ilHRCfY0g37s4GfAp8E3gM8E/gt4GVUAfQqqmA7gepe2B7AIcCTwHnASyX9naTt6v7OrPvaG3gz8HqqWR8+B5wnaduW46+kGl7OpAqwx4Z4nhHRYbZ0z2sx8Bv165uAJcD/1j97AUupAtDAacBhVAF2F3A18K9UH4B+QtIk4PPA3wLfoxp+3gisqn9m2n68Ppbqe2F/BdwLPAxMBuYCRw/rjCOiI2zpntc99dXQi6jueQE8u/7dBRwEvJjqhv3p9fK9qIaW/wf8Wb3sMtuXSbqL6p3IsyWdBEyzfYmkU6gC6mpJAnay/TFJXwfeRzXcPI/q6i8iYkBT4mxFdd/pU1SBdSzwc6pHGQ4GLrb98r6NB/CoxKmSZlBN17ydpLlU987+sl5/NPDv9esNwH8BX6C6r/ZcSQ/kUYmIGEh4PWp7GYCkHuBDti8ZxjGX2D67uaDvma/aM4CPSrqE6hGKJbbPl/Qs4NXAaZLOyo37iIlNeVxqy7q7u93b29vuMiImJEmrbXe3Ls9nG0dQT08PPT097S4jYkJIeEVEkRJeEVGkhFdEFCnhFRFFSnhFRJESXhFRpIRXRBQp4RURRUp4RUSREl4RUaSEV0QUKeEVEUVKeEVEkRJeEVGkhFdEFCnhFRFFSnhFRJE6MrwkzZF0q6TVkhZuZrt/kvTpMSwtIkZIx4WXpOnABcDxQDcwTdLsfrabBbR+yW1EFKLjwovq27WX2t7o6ttFLgVmNTeQtCdwDtV3QkZEgToxvHYHmt/ruAaY0rLNpVTh9SgRUaRODK+1PD2sptbLAJD0x8AdtldurhNJ8yX1Supdt27d6FQaEUPWieF1FXCKpMl1ex6wvLH+BOC3JC0DFgEvk/Th1k5sL7Ldbbu7q6tr1IuOiMEZyDdmF8X2GkkLgBskPQ7caHuppBXAXNuv7ttW0r7Ae2y/rS3FRsSQdVx4AdheDCxuWdbTz3Z3A6ePSVERMaI6cdgYERNAwisiipTwiogiJbwiokgJr4goUsIrIoqU8IqIIiW8IqJICa+IKFLCKyKKlPCKiCIlvCKiSAmviChSwisiipTwiogiJbwiokgJr4goUsIrIoqU8IqIIiW8IqJICa+IKFLCKyKKlPCKiCIlvCKiSAmviChSwisiipTwiogiJbwiokgJr8L09PTQ09PT7jIi2i7hFRFFSnhFRJESXhFRpIRXRBQp4RURRUp4RUSREl4RUaSODC9JcyTdKmm1pIX9rH+LpJWSbpH0j5I68u8Q0ck67j9aSdOBC4DjgW5gmqTZjfUHAa8EjrJ9JNAFnNSOWiNi6DouvICZwFLbG20buBSY1bfS9neBV9l+ql40CXhk7MuMiOHoxPDaHbiv0V4DTGluYPtRSbtI+hxwm+1vtHYiab6kXkm969atG92KI2LQOjG81vL0sJpaL/slSQcDXwQutv3e/jqxvch2t+3urq6uUSs2IoamE8PrKuAUSZPr9jxged9KSV3ARcAc26vaUF9EjICOCy/ba4AFwA2SVgFrbS+VtELSVOA0YD9geb1shaT57aw5IgZvUrsLGA22FwOLW5b11C8/Uv9ERME67sorIiaGhFdEFCnhFRFFSnhFRJESXhFRpIRXRBQp4RURRUp4RUSREl4RUaSEV0QUKeEVEUVKeEVEkRJe8Wt6enro6elpdxkRm5XwiogiJbwiokgJr4goUsIrIoqU8IqIIiW8IqJICa+IKFLCKyKKlPCKiCIlvCKiSAmviChSwisiipTwirbJB8BjOBJeEVGkhFdEFCnhFRFFSnhFRJESXhFRpIRXRBQp4RUdLY9jdK6EV0QUKeEVEUXqyPCSNEfSrZJWS1rYz/o/rdffJumcdtQYnSND0/bouPCSNB24ADge6AamSZrdWH8U8BrgaOCFwCxJ3e2oNSKGruPCC5gJLLW90baBS4FZjfUnAZ+y/bjtx4FPAie3oc6IQckV3tN1YnjtDtzXaK8BpgxifcSENVYBORLHmTQypYwra4H9Gu2p9bLm+imbWQ+ApPnA/Lr5kKTvDbQASQMudoj2kHT/aB9kDM4DOudcxuQ8YEKey/R+961GVp1D0rOAa4AX235Q0j8Dy2wvrdd3Ax8CjgN+AVwLnGO7t101D5akXtsdcZ+uU86lU84DyjmXjhs22l4DLABukLQKWGt7qaQVkqbWIfUV4FZgJfAvJQVXRFQ67sprIijl/4wD0Snn0innAeWcS8ddeU0Qi9pdwAjqlHPplPOAQs4lV14RUaRceUVEkRJehak/+nSLpBslfUnSju2uaTgk/ZWkFe2uYzgk7SNpmaRrJV0t6dB21zRUks6VtFLSTZIulzS53TVtSsKrIJJ2A94BvMz2S4F7gD9sb1VDVz+2st8WNxz/Pga8w/ZxVB89+3Gb6xkSSQcBrwSOtH008D/AGe2tatMSXgWxvQE42vYj9aJJwCOb2WXckrQD8GHg3HbXMhySpgI7AvMl3Uj1udoi/02AjcAzgb3rf5/pwG3tLWnTEl6Fsf2opO0lXQzsQPXZzBL9HXCx7f9rdyHDtA9wGHBZfTW8AXhne0saGts/Bt4LfIfqqv4uqge+x6WEV2EkTQO+DPyr7TNsP9XumgZL0gnArraXtLuWEfAAcLvt2+v2F4HD21jPkEl6CXA68FxgX6oryve2saTNSngVRNL2wKeB+ba/1uZyhuMkoKu+yb0MOFjS4nYXNUQ/AHaU9Ny6fQLjeKi1BTOAO23fb/vnwPXAAW2uaZPynFdBJJ1ENcXPnY3F/2b7/DaVNCIkrbDd0+46hqp+d/EiYBuqGUv+wPbP2lvV4EnaGfgocCjwENW9u/m2725nXZuS8IqIImXYGBFFSnhFRJESXhFRpIRXRBQp4RURRUp4RUSREl4RUaSEV4wrknYa5v5HSZrUaL9i+FXFeJTwimGT9ApJP5J0vaR/l/Tf9RxXk+qfrRrbnidp/0b7rZKa0668RlKvpHf0N5eUpJ0kTZN0hKQZ/ZTzbmAvSTPq9e/ue11/vKq1vx3qureu2zMlfU/SDySN2owXkraVdEMzaGNwEl4xbLavBpYDs6lmVLgauJnqW5qWUc1S0OdI4LFG+6fAL0PF9ieAo6g+mvKs5nHqkLsC+Guqj0m9qWX9/sD3gd8AjgZeTvWRnaPrn/4mbpwHXGH7qTrAPgqcCDyfKkifP8A/w6DU39Z+LXDaaPQ/ESS8YiQtBz4I3AF8girI5lJNrdJnV2B9o/0IdXhJmiLpTVRfAPEq4LS+KyIA25fYPgH4JnC57be2HP+1wLdtfwNYTTUx4M5UAbFtPR9aq9fVdQO8EPiB7f+pw+ULwMmD+xMMyrL6+DEECa8YSSdTzfQK1Xdi9gAvAm5qbDMJeEzSEXX7KWCbepbYrwF7AO+nCq+9gDnNA0g6G3gz0C1piaTT6uW7Am8DLOldwE5UoXQa1QSBzW9J7+trW+A5jQ8e7wX8qLHJj+tlgybpREnXSbpA0rH10HRhy2b/CRzR3/6xZRlvx0haDkwG/hG4kWqW1IOpZlzo8wBwJrAL8C2qK6OH66uip82DVc9Mulf9ehvgI8BU4M+orqyeAXxc0oNUQ8y++cEOA1ZRBdb+9BNctT3qegZM0guohqtP8KsvLz4KeND2ysamx9k+VtI7qEL15dTDUNt3ANRD1cclTbb94GDqiIRXjKyTgW5gX9sP199Y3mP7u41tvga8Gvidun0A8O1N9Hcov7pq66YKrG8Bvw3cY/ueeh6wGcAHqIajuzT2P54qPLcHVvTT/y+HrLV7gb0b7Wn1sqY/Aj5LNV3yPKph8s3Ae1q2U/17A1VAb10vU8t22wGP9lNbbEHCK4ZN0t7Ac4AFVFc6X6pXPUw1jNuhb9592xcDF9f77Uo1LLyonz4PAo4D3lXvdwtwi6RrqL4UYqGkC4GzgLPqq5hmFw9QXRndRTWEfLj1GLZ/KmlrSdvbfpQqGA+QtB9VaM2luo/W3OfMRvOqzfxZrpF0LdXEhO+hehPjP2x/pnGOuwP3235iM/3EJiS8YiTsQjX98QrgecC+kk4EfhM4H1giaW5zaCTpYKqb+hfaXt9Yvi/VsPIY4FTbT7Yca3W93w5Uj0X8ue3vtGyzG3Bh/fqX95Qk3d/P1NNXU70TeY3tJyW9Gfg61ZXSJ1uuGgesnum2OdvtMf1sdizw1aH0H5mMMEaYpJnA71INv15XDx9fA2y0fVVju08Ay2xf2bL/nlQ3+a+0/YtBHnsWVZCeZPvUAe7zAuBttl8/mGONBElXAOfa/v5YH7sTJLxiVEjaarDh0y6S5gGfGcsvM6nf6Zxr+7KxOmanSXhFRJHynFdEFCnhFRFFSnhFRJESXhFRpIRXRBQp4RURRUp4RUSR/h8CJTXGhFhJ5QAAAABJRU5ErkJggg==\n",
          "text/plain": "<Figure size 288x288 with 1 Axes>"
         },
         "metadata": {
          "needs_background": "light"
         },
         "output_type": "display_data"
        }
       ]
      }
     },
     "ebd9df9ddd3f419cb285abf70d927159": {
      "model_module": "@jupyter-widgets/base",
      "model_module_version": "1.2.0",
      "model_name": "LayoutModel",
      "state": {}
     },
     "ecb03fb34ec748f7bea815f375ce35ce": {
      "model_module": "@jupyter-widgets/controls",
      "model_module_version": "1.5.0",
      "model_name": "FloatSliderModel",
      "state": {
       "continuous_update": false,
       "description": "平均：",
       "layout": "IPY_MODEL_45ee660d7cb24107906f3cbec1fb3ddf",
       "max": 1,
       "min": -1,
       "readout_format": ".1f",
       "step": 0.5,
       "style": "IPY_MODEL_a8acefdd5b004ce1ba15e70f3fbc6dfd"
      }
     },
     "ee06a8a1e629409c88aa7a0e13f25c70": {
      "model_module": "@jupyter-widgets/output",
      "model_module_version": "1.0.0",
      "model_name": "OutputModel",
      "state": {
       "layout": "IPY_MODEL_c7c8533b554541009b64554e4ee778d3",
       "outputs": [
        {
         "data": {
          "image/png": "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\n",
          "text/plain": "<Figure size 288x288 with 1 Axes>"
         },
         "metadata": {
          "needs_background": "light"
         },
         "output_type": "display_data"
        }
       ]
      }
     },
     "f03bcddcceca4e4e86a8754103b1b35a": {
      "model_module": "@jupyter-widgets/controls",
      "model_module_version": "1.5.0",
      "model_name": "VBoxModel",
      "state": {
       "_dom_classes": [
        "widget-interact"
       ],
       "children": [
        "IPY_MODEL_bab1b512b51c47b59a8421809187000d",
        "IPY_MODEL_7b62d5258ea34375b6f86093b8a486a4",
        "IPY_MODEL_de990b23565640559b0c2927ec2d1658"
       ],
       "layout": "IPY_MODEL_f6e872e893b343439630a45fe6140607"
      }
     },
     "f17adf74001348c6a5a82736624d044a": {
      "model_module": "@jupyter-widgets/controls",
      "model_module_version": "1.5.0",
      "model_name": "SliderStyleModel",
      "state": {
       "description_width": ""
      }
     },
     "f63fbcc8d0fe4b0fbff3c0968fd44c0a": {
      "model_module": "@jupyter-widgets/controls",
      "model_module_version": "1.5.0",
      "model_name": "SliderStyleModel",
      "state": {
       "description_width": ""
      }
     },
     "f6e872e893b343439630a45fe6140607": {
      "model_module": "@jupyter-widgets/base",
      "model_module_version": "1.2.0",
      "model_name": "LayoutModel",
      "state": {}
     },
     "f70616ad8af44a3d8809e6ecca15ae7c": {
      "model_module": "@jupyter-widgets/base",
      "model_module_version": "1.2.0",
      "model_name": "LayoutModel",
      "state": {}
     },
     "f71c6b3a7e474ca79e76218f3f0de045": {
      "model_module": "@jupyter-widgets/output",
      "model_module_version": "1.0.0",
      "model_name": "OutputModel",
      "state": {
       "layout": "IPY_MODEL_b80ba67b4b55433d95b41615a73c59e7",
       "outputs": [
        {
         "data": {
          "image/png": "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\n",
          "text/plain": "<Figure size 288x288 with 1 Axes>"
         },
         "metadata": {
          "needs_background": "light"
         },
         "output_type": "display_data"
        }
       ]
      }
     },
     "fbcbce5e5732494abc3dedf66bd2327e": {
      "model_module": "@jupyter-widgets/output",
      "model_module_version": "1.0.0",
      "model_name": "OutputModel",
      "state": {
       "layout": "IPY_MODEL_fbdbbd3700214b8090f4b4e36f08fed6",
       "outputs": [
        {
         "data": {
          "image/png": "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\n",
          "text/plain": "<Figure size 288x288 with 1 Axes>"
         },
         "metadata": {
          "needs_background": "light"
         },
         "output_type": "display_data"
        }
       ]
      }
     },
     "fbdbbd3700214b8090f4b4e36f08fed6": {
      "model_module": "@jupyter-widgets/base",
      "model_module_version": "1.2.0",
      "model_name": "LayoutModel",
      "state": {}
     },
     "fd4f1052cc044808ab85d9a18835885a": {
      "model_module": "@jupyter-widgets/controls",
      "model_module_version": "1.5.0",
      "model_name": "FloatSliderModel",
      "state": {
       "continuous_update": false,
       "description": "成功確率：",
       "layout": "IPY_MODEL_e19f793e6a854d23868b6af9f34b8f7d",
       "max": 1,
       "readout_format": ".1f",
       "step": 0.1,
       "style": "IPY_MODEL_882e0f7539394c0c81020fb60deaeef3",
       "value": 0.5
      }
     }
    },
    "version_major": 2,
    "version_minor": 0
   }
  }
 },
 "nbformat": 4,
 "nbformat_minor": 4
}
