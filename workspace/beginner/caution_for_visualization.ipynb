{
 "cells": [
  {
   "cell_type": "code",
   "execution_count": 1,
   "metadata": {},
   "outputs": [
    {
     "name": "stderr",
     "output_type": "stream",
     "text": [
      "/root/local/python-3.8.3/lib/python3.8/site-packages/pandas_datareader/compat/__init__.py:7: FutureWarning: pandas.util.testing is deprecated. Use the functions in the public API at pandas.testing instead.\n",
      "  from pandas.util.testing import assert_frame_equal\n"
     ]
    }
   ],
   "source": [
    "import datetime\n",
    "import numpy as np\n",
    "import pandas as pd\n",
    "from pandas_datareader import wb\n",
    "import pandas_datareader.data as web\n",
    "from sklearn.datasets import make_blobs\n",
    "from IPython.display import display\n",
    "import matplotlib.pyplot as plt\n",
    "import seaborn as sns\n",
    "pd.set_option('max_rows', 5)\n",
    "pd.set_option('precision', 3)\n",
    "%matplotlib inline"
   ]
  },
  {
   "cell_type": "markdown",
   "metadata": {},
   "source": [
    "# グラフ表示の注意点"
   ]
  },
  {
   "cell_type": "markdown",
   "metadata": {},
   "source": [
    "## グラフの種類\n",
    "---\n",
    "目的に応じて適切なものを選ぶ。"
   ]
  },
  {
   "cell_type": "markdown",
   "metadata": {},
   "source": [
    "### 分布の確認\n",
    "---\n",
    "棒グラフ・ヒストグラム・散布図を用いる。\n",
    "<table class=\"border text-center background-bright\">\n",
    "    <tr class=\"background-dark\">\n",
    "        <th>変数の数</th>\n",
    "        <th>変数の種類</th>\n",
    "        <th>グラフの種類</th>\n",
    "    </tr>\n",
    "    <tr>\n",
    "        <td rowspan=\"2\">1変数</td>\n",
    "        <td>離散値</td>\n",
    "        <td>棒グラフ</td>\n",
    "    </tr>\n",
    "    <tr>\n",
    "        <td>連続値</td>\n",
    "        <td>ヒストグラム</td>\n",
    "    </tr>\n",
    "    <tr>\n",
    "        <td>2変数</td>\n",
    "        <td></td>\n",
    "        <td>散布図</td>\n",
    "    </tr>\n",
    "</table>"
   ]
  },
  {
   "cell_type": "markdown",
   "metadata": {},
   "source": [
    "### 構成の確認\n",
    "---\n",
    "積み上げ棒グラフを用いる。\n",
    "\n",
    "円グラフで構成を表現することもあるが、一般にデータ分析では**円グラフは好まれない**。人間の目は長さに比べて角度や面積で定量的に比較するのに弱いため。"
   ]
  },
  {
   "cell_type": "markdown",
   "metadata": {},
   "source": [
    "### グループ間の比較\n",
    "---\n",
    "層別グラフを用いる。"
   ]
  },
  {
   "cell_type": "markdown",
   "metadata": {},
   "source": [
    "### 時系列での変化\n",
    "---\n",
    "折れ線グラフや積み上げ棒グラフを用いる。"
   ]
  },
  {
   "cell_type": "markdown",
   "metadata": {},
   "source": [
    "## 強調表現\n",
    "---\n",
    "他人に伝えるためのグラフでは、適切な強調表現を用いることでデータから得られる意味が伝わりやすくなる。グラフの調整はプログラミングで行うより、表計算ソフトなどを使うほうがやりやすい。  \n",
    "自分がデータを理解するためのグラフでは、一部を強調すると他に目が行かなくなるので、不必要に強調表現を使わない。"
   ]
  },
  {
   "cell_type": "markdown",
   "metadata": {},
   "source": [
    "### 情報の集中・不要な情報の除去\n",
    "---\n",
    "伝えたい情報を絞り込み、**不要な情報は削除**する。例えば、具体的な値を伝えたいのでなければ軸は不要、特定の値だけが必要な場合は軸を省略してグラフ上にその値だけを表示してもよい。  \n",
    "見慣れないグラフを用いて、グラフからの情報の読み取り方に**不必要な集中力**を割かせない。"
   ]
  },
  {
   "cell_type": "markdown",
   "metadata": {},
   "source": [
    "練習問題\n",
    "\n",
    "---\n",
    "economics データセットの`unemploy`列を折れ線グラフで表示し、期間中の最大値とその日付が伝わるように表現してみる。"
   ]
  },
  {
   "cell_type": "code",
   "execution_count": 2,
   "metadata": {
    "hide_input": true,
    "jupyter": {
     "source_hidden": true
    }
   },
   "outputs": [
    {
     "name": "stdout",
     "output_type": "stream",
     "text": [
      "economics\n"
     ]
    },
    {
     "data": {
      "text/html": [
       "<div>\n",
       "<style scoped>\n",
       "    .dataframe tbody tr th:only-of-type {\n",
       "        vertical-align: middle;\n",
       "    }\n",
       "\n",
       "    .dataframe tbody tr th {\n",
       "        vertical-align: top;\n",
       "    }\n",
       "\n",
       "    .dataframe thead th {\n",
       "        text-align: right;\n",
       "    }\n",
       "</style>\n",
       "<table border=\"1\" class=\"dataframe\">\n",
       "  <thead>\n",
       "    <tr style=\"text-align: right;\">\n",
       "      <th></th>\n",
       "      <th>date</th>\n",
       "      <th>pce</th>\n",
       "      <th>pop</th>\n",
       "      <th>psavert</th>\n",
       "      <th>uempmed</th>\n",
       "      <th>unemploy</th>\n",
       "    </tr>\n",
       "  </thead>\n",
       "  <tbody>\n",
       "    <tr>\n",
       "      <th>0</th>\n",
       "      <td>1967-07-01</td>\n",
       "      <td>507.4</td>\n",
       "      <td>198712</td>\n",
       "      <td>12.5</td>\n",
       "      <td>4.5</td>\n",
       "      <td>2944</td>\n",
       "    </tr>\n",
       "    <tr>\n",
       "      <th>1</th>\n",
       "      <td>1967-08-01</td>\n",
       "      <td>510.5</td>\n",
       "      <td>198911</td>\n",
       "      <td>12.5</td>\n",
       "      <td>4.7</td>\n",
       "      <td>2945</td>\n",
       "    </tr>\n",
       "    <tr>\n",
       "      <th>...</th>\n",
       "      <td>...</td>\n",
       "      <td>...</td>\n",
       "      <td>...</td>\n",
       "      <td>...</td>\n",
       "      <td>...</td>\n",
       "      <td>...</td>\n",
       "    </tr>\n",
       "    <tr>\n",
       "      <th>572</th>\n",
       "      <td>2015-03-01</td>\n",
       "      <td>12161.5</td>\n",
       "      <td>320707</td>\n",
       "      <td>5.2</td>\n",
       "      <td>12.2</td>\n",
       "      <td>8575</td>\n",
       "    </tr>\n",
       "    <tr>\n",
       "      <th>573</th>\n",
       "      <td>2015-04-01</td>\n",
       "      <td>12158.9</td>\n",
       "      <td>320887</td>\n",
       "      <td>5.6</td>\n",
       "      <td>11.7</td>\n",
       "      <td>8549</td>\n",
       "    </tr>\n",
       "  </tbody>\n",
       "</table>\n",
       "<p>574 rows × 6 columns</p>\n",
       "</div>"
      ],
      "text/plain": [
       "           date      pce     pop  psavert  uempmed  unemploy\n",
       "0    1967-07-01    507.4  198712     12.5      4.5      2944\n",
       "1    1967-08-01    510.5  198911     12.5      4.7      2945\n",
       "..          ...      ...     ...      ...      ...       ...\n",
       "572  2015-03-01  12161.5  320707      5.2     12.2      8575\n",
       "573  2015-04-01  12158.9  320887      5.6     11.7      8549\n",
       "\n",
       "[574 rows x 6 columns]"
      ]
     },
     "metadata": {},
     "output_type": "display_data"
    }
   ],
   "source": [
    "economics = pd.read_csv('data/economics.csv')\n",
    "print('economics')\n",
    "display(economics)"
   ]
  },
  {
   "cell_type": "code",
   "execution_count": null,
   "metadata": {},
   "outputs": [],
   "source": []
  },
  {
   "cell_type": "markdown",
   "metadata": {
    "solution2": "hidden",
    "solution2_first": true
   },
   "source": [
    "解答例\n",
    "\n",
    "---"
   ]
  },
  {
   "cell_type": "code",
   "execution_count": 3,
   "metadata": {
    "collapsed": true,
    "hide_input": false,
    "jupyter": {
     "outputs_hidden": true,
     "source_hidden": true
    },
    "solution2": "hidden"
   },
   "outputs": [
    {
     "data": {
      "image/png": "[encoded data removed]",
      "text/plain": [
       "<Figure size 432x288 with 1 Axes>"
      ]
     },
     "metadata": {
      "needs_background": "light"
     },
     "output_type": "display_data"
    }
   ],
   "source": [
    "x = economics['unemploy'].values.argmax()\n",
    "y = economics['unemploy'].max()\n",
    "economics['unemploy'].plot()\n",
    "plt.text(x,\n",
    "         y * 1.01,\n",
    "         y,\n",
    "         horizontalalignment='center',\n",
    "         verticalalignment='bottom')\n",
    "plt.box(False)\n",
    "xmin, xmax = plt.xlim()\n",
    "plt.axhline(xmin=xmin, xmax=xmax, color='black')\n",
    "plt.ylim((0, y * 1.05))\n",
    "plt.xticks((x,), (economics['date'][x],))\n",
    "plt.yticks(())\n",
    "plt.show()"
   ]
  },
  {
   "cell_type": "markdown",
   "metadata": {},
   "source": [
    "---"
   ]
  },
  {
   "cell_type": "markdown",
   "metadata": {},
   "source": [
    "### 色\n",
    "---\n",
    "彩度の低い (黒に近い) ものより**彩度の高い** (鮮やかな) ものが目立つ。  \n",
    "背景との**明度差**が大きいものほど目立つ。透明度で調整してもよい。  \n",
    "色数は多くなるとどこに注目してよいかわからなくなる。注目してほしいものだけ色をつけ、他は枠で囲ったりマーカーの形を変えるなどして区別する。"
   ]
  },
  {
   "cell_type": "markdown",
   "metadata": {},
   "source": [
    "練習問題\n",
    "\n",
    "---\n",
    "blobsデータセットで、4つのグループがあることがわかるようにし、 $\\displaystyle x >0,y >0$ のグループを色によって目立たせる。"
   ]
  },
  {
   "cell_type": "code",
   "execution_count": 4,
   "metadata": {
    "hide_input": true,
    "jupyter": {
     "source_hidden": true
    }
   },
   "outputs": [
    {
     "name": "stdout",
     "output_type": "stream",
     "text": [
      "blobs\n"
     ]
    },
    {
     "data": {
      "text/html": [
       "<div>\n",
       "<style scoped>\n",
       "    .dataframe tbody tr th:only-of-type {\n",
       "        vertical-align: middle;\n",
       "    }\n",
       "\n",
       "    .dataframe tbody tr th {\n",
       "        vertical-align: top;\n",
       "    }\n",
       "\n",
       "    .dataframe thead th {\n",
       "        text-align: right;\n",
       "    }\n",
       "</style>\n",
       "<table border=\"1\" class=\"dataframe\">\n",
       "  <thead>\n",
       "    <tr style=\"text-align: right;\">\n",
       "      <th></th>\n",
       "      <th>x</th>\n",
       "      <th>y</th>\n",
       "    </tr>\n",
       "  </thead>\n",
       "  <tbody>\n",
       "    <tr>\n",
       "      <th>0</th>\n",
       "      <td>-7.085</td>\n",
       "      <td>6.930</td>\n",
       "    </tr>\n",
       "    <tr>\n",
       "      <th>1</th>\n",
       "      <td>-4.595</td>\n",
       "      <td>-4.711</td>\n",
       "    </tr>\n",
       "    <tr>\n",
       "      <th>...</th>\n",
       "      <td>...</td>\n",
       "      <td>...</td>\n",
       "    </tr>\n",
       "    <tr>\n",
       "      <th>98</th>\n",
       "      <td>-4.125</td>\n",
       "      <td>3.289</td>\n",
       "    </tr>\n",
       "    <tr>\n",
       "      <th>99</th>\n",
       "      <td>3.972</td>\n",
       "      <td>-5.585</td>\n",
       "    </tr>\n",
       "  </tbody>\n",
       "</table>\n",
       "<p>100 rows × 2 columns</p>\n",
       "</div>"
      ],
      "text/plain": [
       "        x      y\n",
       "0  -7.085  6.930\n",
       "1  -4.595 -4.711\n",
       "..    ...    ...\n",
       "98 -4.125  3.289\n",
       "99  3.972 -5.585\n",
       "\n",
       "[100 rows x 2 columns]"
      ]
     },
     "metadata": {},
     "output_type": "display_data"
    },
    {
     "data": {
      "image/png": "[encoded data removed]",
      "text/plain": [
       "<Figure size 432x288 with 1 Axes>"
      ]
     },
     "metadata": {
      "needs_background": "light"
     },
     "output_type": "display_data"
    }
   ],
   "source": [
    "ticks = (-5, 5)\n",
    "xx, yy = np.meshgrid(ticks, ticks)\n",
    "centers = np.c_[xx.ravel(), yy.ravel()]\n",
    "data, _ = make_blobs(centers=centers, random_state=1234)\n",
    "blobs = pd.DataFrame(data, columns=['x', 'y'])\n",
    "print('blobs')\n",
    "display(blobs)\n",
    "blobs.plot.scatter('x', 'y')\n",
    "plt.show()"
   ]
  },
  {
   "cell_type": "code",
   "execution_count": null,
   "metadata": {},
   "outputs": [],
   "source": []
  },
  {
   "cell_type": "markdown",
   "metadata": {
    "solution2": "hidden",
    "solution2_first": true
   },
   "source": [
    "解答例\n",
    "\n",
    "---"
   ]
  },
  {
   "cell_type": "code",
   "execution_count": 5,
   "metadata": {
    "collapsed": true,
    "jupyter": {
     "outputs_hidden": true,
     "source_hidden": true
    },
    "solution2": "hidden"
   },
   "outputs": [
    {
     "data": {
      "image/png": "[encoded data removed]",
      "text/plain": [
       "<Figure size 432x288 with 1 Axes>"
      ]
     },
     "metadata": {
      "needs_background": "light"
     },
     "output_type": "display_data"
    }
   ],
   "source": [
    "from matplotlib.patches import Circle\n",
    "\n",
    "x_positive = blobs['x'].values > 0\n",
    "y_positive = blobs['y'].values > 0\n",
    "ax = plt.gca()\n",
    "for i, x_condition in enumerate([x_positive, ~x_positive]):\n",
    "    for j, y_condition in enumerate([y_positive, ~y_positive]):\n",
    "        if i + j == 0:\n",
    "            kwargs = dict(color='blue')\n",
    "        else:\n",
    "            kwargs = dict(color='lightgray')\n",
    "        plt.scatter('x',\n",
    "                    'y',\n",
    "                    data=blobs.loc[x_condition & y_condition],\n",
    "                    **kwargs)\n",
    "        ax.add_patch(\n",
    "            Circle(xy=(5 if i else -5, 5 if j else -5),\n",
    "                   radius=4,\n",
    "                   fill=None,\n",
    "                   alpha=0.3))\n",
    "plt.gca().axis('off')\n",
    "plt.show()"
   ]
  },
  {
   "cell_type": "markdown",
   "metadata": {},
   "source": [
    "---"
   ]
  },
  {
   "cell_type": "markdown",
   "metadata": {},
   "source": [
    "### 大きさ\n",
    "---\n",
    "サイズの**大きい**もの・線の**太い**ものが目立つ。"
   ]
  },
  {
   "cell_type": "markdown",
   "metadata": {},
   "source": [
    "練習問題\n",
    "\n",
    "---\n",
    "sizeデータセットのそれぞれの値を、値に応じたフォントサイズで順に並べて表示する。"
   ]
  },
  {
   "cell_type": "code",
   "execution_count": 6,
   "metadata": {
    "hide_input": true,
    "jupyter": {
     "source_hidden": true
    }
   },
   "outputs": [
    {
     "data": {
      "text/html": [
       "<div>\n",
       "<style scoped>\n",
       "    .dataframe tbody tr th:only-of-type {\n",
       "        vertical-align: middle;\n",
       "    }\n",
       "\n",
       "    .dataframe tbody tr th {\n",
       "        vertical-align: top;\n",
       "    }\n",
       "\n",
       "    .dataframe thead th {\n",
       "        text-align: right;\n",
       "    }\n",
       "</style>\n",
       "<table border=\"1\" class=\"dataframe\">\n",
       "  <thead>\n",
       "    <tr style=\"text-align: right;\">\n",
       "      <th></th>\n",
       "      <th>size</th>\n",
       "    </tr>\n",
       "  </thead>\n",
       "  <tbody>\n",
       "    <tr>\n",
       "      <th>0</th>\n",
       "      <td>48</td>\n",
       "    </tr>\n",
       "    <tr>\n",
       "      <th>1</th>\n",
       "      <td>84</td>\n",
       "    </tr>\n",
       "    <tr>\n",
       "      <th>2</th>\n",
       "      <td>39</td>\n",
       "    </tr>\n",
       "    <tr>\n",
       "      <th>3</th>\n",
       "      <td>54</td>\n",
       "    </tr>\n",
       "  </tbody>\n",
       "</table>\n",
       "</div>"
      ],
      "text/plain": [
       "   size\n",
       "0    48\n",
       "1    84\n",
       "2    39\n",
       "3    54"
      ]
     },
     "metadata": {},
     "output_type": "display_data"
    }
   ],
   "source": [
    "np.random.seed(1234)\n",
    "size = pd.DataFrame(dict(size=np.random.randint(low=1, high=100, size=4)))\n",
    "display(size)"
   ]
  },
  {
   "cell_type": "code",
   "execution_count": null,
   "metadata": {},
   "outputs": [],
   "source": []
  },
  {
   "cell_type": "markdown",
   "metadata": {
    "solution2": "hidden",
    "solution2_first": true
   },
   "source": [
    "解答例\n",
    "\n",
    "---"
   ]
  },
  {
   "cell_type": "code",
   "execution_count": 7,
   "metadata": {
    "collapsed": true,
    "jupyter": {
     "outputs_hidden": true,
     "source_hidden": true
    },
    "solution2": "hidden"
   },
   "outputs": [
    {
     "data": {
      "image/png": "[encoded data removed]",
      "text/plain": [
       "<Figure size 432x288 with 1 Axes>"
      ]
     },
     "metadata": {
      "needs_background": "light"
     },
     "output_type": "display_data"
    }
   ],
   "source": [
    "for i, row in size.iterrows():\n",
    "    plt.text(i,\n",
    "             0,\n",
    "             row['size'],\n",
    "             fontdict=dict(fontsize=row['size']),\n",
    "             horizontalalignment='center')\n",
    "plt.gca().axis('off')\n",
    "plt.show()"
   ]
  },
  {
   "cell_type": "markdown",
   "metadata": {},
   "source": [
    "---"
   ]
  },
  {
   "cell_type": "markdown",
   "metadata": {},
   "source": [
    "### 不適切な強調表現"
   ]
  },
  {
   "cell_type": "markdown",
   "metadata": {},
   "source": [
    "#### 軸の開始地点\n",
    "---\n",
    "原点 $0$ に意味のある (量・比率が問題になる) 場合は、軸の開始地点を原点以外にすると誤った印象を与える。"
   ]
  },
  {
   "cell_type": "markdown",
   "metadata": {},
   "source": [
    "練習問題\n",
    "\n",
    "---\n",
    "lowvarデータセットの縦軸を原点から開始した折れ線グラフを表示し、原点から始まっていないグラフから受ける印象と比較してみる。"
   ]
  },
  {
   "cell_type": "code",
   "execution_count": 8,
   "metadata": {
    "hide_input": true,
    "jupyter": {
     "source_hidden": true
    }
   },
   "outputs": [
    {
     "name": "stdout",
     "output_type": "stream",
     "text": [
      "lowvar\n"
     ]
    },
    {
     "data": {
      "text/html": [
       "<div>\n",
       "<style scoped>\n",
       "    .dataframe tbody tr th:only-of-type {\n",
       "        vertical-align: middle;\n",
       "    }\n",
       "\n",
       "    .dataframe tbody tr th {\n",
       "        vertical-align: top;\n",
       "    }\n",
       "\n",
       "    .dataframe thead th {\n",
       "        text-align: right;\n",
       "    }\n",
       "</style>\n",
       "<table border=\"1\" class=\"dataframe\">\n",
       "  <thead>\n",
       "    <tr style=\"text-align: right;\">\n",
       "      <th></th>\n",
       "      <th>value</th>\n",
       "    </tr>\n",
       "  </thead>\n",
       "  <tbody>\n",
       "    <tr>\n",
       "      <th>0</th>\n",
       "      <td>100.471</td>\n",
       "    </tr>\n",
       "    <tr>\n",
       "      <th>1</th>\n",
       "      <td>98.809</td>\n",
       "    </tr>\n",
       "    <tr>\n",
       "      <th>...</th>\n",
       "      <td>...</td>\n",
       "    </tr>\n",
       "    <tr>\n",
       "      <th>8</th>\n",
       "      <td>100.016</td>\n",
       "    </tr>\n",
       "    <tr>\n",
       "      <th>9</th>\n",
       "      <td>97.757</td>\n",
       "    </tr>\n",
       "  </tbody>\n",
       "</table>\n",
       "<p>10 rows × 1 columns</p>\n",
       "</div>"
      ],
      "text/plain": [
       "      value\n",
       "0   100.471\n",
       "1    98.809\n",
       "..      ...\n",
       "8   100.016\n",
       "9    97.757\n",
       "\n",
       "[10 rows x 1 columns]"
      ]
     },
     "metadata": {},
     "output_type": "display_data"
    },
    {
     "data": {
      "image/png": "[encoded data removed]",
      "text/plain": [
       "<Figure size 432x288 with 1 Axes>"
      ]
     },
     "metadata": {
      "needs_background": "light"
     },
     "output_type": "display_data"
    }
   ],
   "source": [
    "np.random.seed(1234)\n",
    "lowvar = pd.DataFrame(dict(value=np.random.normal(loc=1e2, scale=1, size=10)))\n",
    "print('lowvar')\n",
    "display(lowvar)\n",
    "lowvar.plot()\n",
    "plt.show()"
   ]
  },
  {
   "cell_type": "code",
   "execution_count": null,
   "metadata": {},
   "outputs": [],
   "source": []
  },
  {
   "cell_type": "markdown",
   "metadata": {
    "solution2": "hidden",
    "solution2_first": true
   },
   "source": [
    "解答例\n",
    "\n",
    "---"
   ]
  },
  {
   "cell_type": "code",
   "execution_count": 9,
   "metadata": {
    "collapsed": true,
    "jupyter": {
     "outputs_hidden": true,
     "source_hidden": true
    },
    "solution2": "hidden"
   },
   "outputs": [
    {
     "data": {
      "image/png": "[encoded data removed]",
      "text/plain": [
       "<Figure size 432x288 with 1 Axes>"
      ]
     },
     "metadata": {
      "needs_background": "light"
     },
     "output_type": "display_data"
    }
   ],
   "source": [
    "lowvar.plot()\n",
    "plt.ylim((0, lowvar['value'].max() * 1.1))\n",
    "plt.show()"
   ]
  },
  {
   "cell_type": "markdown",
   "metadata": {},
   "source": [
    "---"
   ]
  },
  {
   "cell_type": "markdown",
   "metadata": {},
   "source": [
    "#### ユニバーサルデザインへの配慮を欠く\n",
    "---\n",
    "色覚障害者に識別しづらい色表現を用いたり、過度に文化的コンテキストに依存した意味づけ (何色は〇〇という意味を持つなど) を用いたりするのは、今日では避けたほうがよい。"
   ]
  },
  {
   "cell_type": "markdown",
   "metadata": {},
   "source": [
    "## データの加工"
   ]
  },
  {
   "cell_type": "markdown",
   "metadata": {},
   "source": [
    "### カテゴリカル変数の順序\n",
    "---\n",
    "棒グラフなどカテゴリカル変数ごとの値を表示する場合は、カテゴリカル変数に順序がない場合は値の大きい順にソートして表示すると理解しやすい。  \n",
    "変数に順序がある場合には、変数の順序に従ったほうがよい場合もある。例えば、日本の都道府県コードは概ね北から順に並んでいるため、都道府県コード順に並べると棒グラフと地理的位置関係が対応してわかりやすくなる。"
   ]
  },
  {
   "cell_type": "markdown",
   "metadata": {},
   "source": [
    "練習問題\n",
    "\n",
    "---\n",
    "car_crashesデータセットを`pandas.DataFrame.sort_values`関数を用いて`total`列でソートし、値の大きい順に10件のデータだけに絞ったデータフレーム`limited`を作成し、棒グラフを表示する。"
   ]
  },
  {
   "cell_type": "code",
   "execution_count": 10,
   "metadata": {
    "hide_input": true,
    "jupyter": {
     "source_hidden": true
    }
   },
   "outputs": [
    {
     "name": "stdout",
     "output_type": "stream",
     "text": [
      "car_crashes\n"
     ]
    },
    {
     "data": {
      "text/html": [
       "<div>\n",
       "<style scoped>\n",
       "    .dataframe tbody tr th:only-of-type {\n",
       "        vertical-align: middle;\n",
       "    }\n",
       "\n",
       "    .dataframe tbody tr th {\n",
       "        vertical-align: top;\n",
       "    }\n",
       "\n",
       "    .dataframe thead th {\n",
       "        text-align: right;\n",
       "    }\n",
       "</style>\n",
       "<table border=\"1\" class=\"dataframe\">\n",
       "  <thead>\n",
       "    <tr style=\"text-align: right;\">\n",
       "      <th></th>\n",
       "      <th>total</th>\n",
       "      <th>abbrev</th>\n",
       "    </tr>\n",
       "  </thead>\n",
       "  <tbody>\n",
       "    <tr>\n",
       "      <th>0</th>\n",
       "      <td>18.8</td>\n",
       "      <td>AL</td>\n",
       "    </tr>\n",
       "    <tr>\n",
       "      <th>1</th>\n",
       "      <td>18.1</td>\n",
       "      <td>AK</td>\n",
       "    </tr>\n",
       "    <tr>\n",
       "      <th>...</th>\n",
       "      <td>...</td>\n",
       "      <td>...</td>\n",
       "    </tr>\n",
       "    <tr>\n",
       "      <th>49</th>\n",
       "      <td>13.8</td>\n",
       "      <td>WI</td>\n",
       "    </tr>\n",
       "    <tr>\n",
       "      <th>50</th>\n",
       "      <td>17.4</td>\n",
       "      <td>WY</td>\n",
       "    </tr>\n",
       "  </tbody>\n",
       "</table>\n",
       "<p>51 rows × 2 columns</p>\n",
       "</div>"
      ],
      "text/plain": [
       "    total abbrev\n",
       "0    18.8     AL\n",
       "1    18.1     AK\n",
       "..    ...    ...\n",
       "49   13.8     WI\n",
       "50   17.4     WY\n",
       "\n",
       "[51 rows x 2 columns]"
      ]
     },
     "metadata": {},
     "output_type": "display_data"
    }
   ],
   "source": [
    "car_crashes = sns.load_dataset('car_crashes')[['total', 'abbrev']]\n",
    "print('car_crashes')\n",
    "display(car_crashes)"
   ]
  },
  {
   "cell_type": "code",
   "execution_count": 11,
   "metadata": {
    "collapsed": true,
    "jupyter": {
     "outputs_hidden": true
    }
   },
   "outputs": [
    {
     "name": "stdout",
     "output_type": "stream",
     "text": [
      "Help on function sort_values in module pandas.core.frame:\n",
      "\n",
      "sort_values(self, by, axis=0, ascending=True, inplace=False, kind='quicksort', na_position='last', ignore_index=False)\n",
      "    Sort by the values along either axis.\n",
      "    \n",
      "    Parameters\n",
      "    ----------\n",
      "            by : str or list of str\n",
      "                Name or list of names to sort by.\n",
      "    \n",
      "                - if `axis` is 0 or `'index'` then `by` may contain index\n",
      "                  levels and/or column labels.\n",
      "                - if `axis` is 1 or `'columns'` then `by` may contain column\n",
      "                  levels and/or index labels.\n",
      "    \n",
      "                .. versionchanged:: 0.23.0\n",
      "    \n",
      "                   Allow specifying index or column level names.\n",
      "    axis : {0 or 'index', 1 or 'columns'}, default 0\n",
      "         Axis to be sorted.\n",
      "    ascending : bool or list of bool, default True\n",
      "         Sort ascending vs. descending. Specify list for multiple sort\n",
      "         orders.  If this is a list of bools, must match the length of\n",
      "         the by.\n",
      "    inplace : bool, default False\n",
      "         If True, perform operation in-place.\n",
      "    kind : {'quicksort', 'mergesort', 'heapsort'}, default 'quicksort'\n",
      "         Choice of sorting algorithm. See also ndarray.np.sort for more\n",
      "         information.  `mergesort` is the only stable algorithm. For\n",
      "         DataFrames, this option is only applied when sorting on a single\n",
      "         column or label.\n",
      "    na_position : {'first', 'last'}, default 'last'\n",
      "         Puts NaNs at the beginning if `first`; `last` puts NaNs at the\n",
      "         end.\n",
      "    ignore_index : bool, default False\n",
      "         If True, the resulting axis will be labeled 0, 1, …, n - 1.\n",
      "    \n",
      "         .. versionadded:: 1.0.0\n",
      "    \n",
      "    Returns\n",
      "    -------\n",
      "    sorted_obj : DataFrame or None\n",
      "        DataFrame with sorted values if inplace=False, None otherwise.\n",
      "    \n",
      "    Examples\n",
      "    --------\n",
      "    >>> df = pd.DataFrame({\n",
      "    ...     'col1': ['A', 'A', 'B', np.nan, 'D', 'C'],\n",
      "    ...     'col2': [2, 1, 9, 8, 7, 4],\n",
      "    ...     'col3': [0, 1, 9, 4, 2, 3],\n",
      "    ... })\n",
      "    >>> df\n",
      "        col1 col2 col3\n",
      "    0   A    2    0\n",
      "    1   A    1    1\n",
      "    2   B    9    9\n",
      "    3   NaN  8    4\n",
      "    4   D    7    2\n",
      "    5   C    4    3\n",
      "    \n",
      "    Sort by col1\n",
      "    \n",
      "    >>> df.sort_values(by=['col1'])\n",
      "        col1 col2 col3\n",
      "    0   A    2    0\n",
      "    1   A    1    1\n",
      "    2   B    9    9\n",
      "    5   C    4    3\n",
      "    4   D    7    2\n",
      "    3   NaN  8    4\n",
      "    \n",
      "    Sort by multiple columns\n",
      "    \n",
      "    >>> df.sort_values(by=['col1', 'col2'])\n",
      "        col1 col2 col3\n",
      "    1   A    1    1\n",
      "    0   A    2    0\n",
      "    2   B    9    9\n",
      "    5   C    4    3\n",
      "    4   D    7    2\n",
      "    3   NaN  8    4\n",
      "    \n",
      "    Sort Descending\n",
      "    \n",
      "    >>> df.sort_values(by='col1', ascending=False)\n",
      "        col1 col2 col3\n",
      "    4   D    7    2\n",
      "    5   C    4    3\n",
      "    2   B    9    9\n",
      "    0   A    2    0\n",
      "    1   A    1    1\n",
      "    3   NaN  8    4\n",
      "    \n",
      "    Putting NAs first\n",
      "    \n",
      "    >>> df.sort_values(by='col1', ascending=False, na_position='first')\n",
      "        col1 col2 col3\n",
      "    3   NaN  8    4\n",
      "    4   D    7    2\n",
      "    5   C    4    3\n",
      "    2   B    9    9\n",
      "    0   A    2    0\n",
      "    1   A    1    1\n",
      "\n"
     ]
    }
   ],
   "source": [
    "help(pd.DataFrame.sort_values)"
   ]
  },
  {
   "cell_type": "code",
   "execution_count": null,
   "metadata": {},
   "outputs": [],
   "source": []
  },
  {
   "cell_type": "markdown",
   "metadata": {
    "solution2": "hidden",
    "solution2_first": true
   },
   "source": [
    "解答例\n",
    "\n",
    "---"
   ]
  },
  {
   "cell_type": "code",
   "execution_count": 12,
   "metadata": {
    "jupyter": {
     "source_hidden": true
    },
    "solution2": "hidden"
   },
   "outputs": [],
   "source": [
    "limited = car_crashes.sort_values('total', ascending=False).iloc[:10]"
   ]
  },
  {
   "cell_type": "code",
   "execution_count": 13,
   "metadata": {
    "collapsed": true,
    "hide_input": false,
    "jupyter": {
     "outputs_hidden": true,
     "source_hidden": true
    },
    "solution2": "hidden"
   },
   "outputs": [
    {
     "data": {
      "image/png": "[encoded data removed]",
      "text/plain": [
       "<Figure size 432x288 with 1 Axes>"
      ]
     },
     "metadata": {
      "needs_background": "light"
     },
     "output_type": "display_data"
    }
   ],
   "source": [
    "limited.plot.bar('abbrev', 'total', color='gray')\n",
    "plt.show()"
   ]
  },
  {
   "cell_type": "markdown",
   "metadata": {},
   "source": [
    "---"
   ]
  },
  {
   "cell_type": "markdown",
   "metadata": {},
   "source": [
    "### 時系列データの値\n",
    "---\n",
    "時系列データを折れ線グラフで表現する場合には、そのままの値ではなく何らかの加工を施したほうが理解しやすくなる場合がある。"
   ]
  },
  {
   "cell_type": "markdown",
   "metadata": {},
   "source": [
    "#### 指数化\n",
    "---\n",
    "先進国と途上国のGDP推移比較など、スケール (値の大きさ) の異なる系列同士の場合にはある時点の値を基準 (100など) とした指数に直してスケールを揃えたほうが比較しやすい。"
   ]
  },
  {
   "cell_type": "markdown",
   "metadata": {},
   "source": [
    "練習問題\n",
    "\n",
    "---\n",
    "stocksデータセットの各列を`pandas.DataFrame.apply`を用いて`2018-01-02`時点の値を基準に指数化したデータフレーム`scaled`を作成し、複数系列折れ線グラフで表示する。 ([Tiingo](https://api.tiingo.com/)のAPIキーが必要)"
   ]
  },
  {
   "cell_type": "code",
   "execution_count": 14,
   "metadata": {},
   "outputs": [],
   "source": [
    "try:\n",
    "    import json\n",
    "\n",
    "    with open('../api_key/keys.json', 'r') as f:\n",
    "        tiingo_access_key = json.load(f)['tiingo']\n",
    "except:\n",
    "    # APIキーを取得してYOUR_API_KEYと置換\n",
    "    tiingo_access_key = 'YOUR_API_KEY'"
   ]
  },
  {
   "cell_type": "code",
   "execution_count": 15,
   "metadata": {
    "hide_input": true,
    "jupyter": {
     "source_hidden": true
    }
   },
   "outputs": [
    {
     "name": "stdout",
     "output_type": "stream",
     "text": [
      "stocks\n"
     ]
    },
    {
     "data": {
      "text/html": [
       "<div>\n",
       "<style scoped>\n",
       "    .dataframe tbody tr th:only-of-type {\n",
       "        vertical-align: middle;\n",
       "    }\n",
       "\n",
       "    .dataframe tbody tr th {\n",
       "        vertical-align: top;\n",
       "    }\n",
       "\n",
       "    .dataframe thead th {\n",
       "        text-align: right;\n",
       "    }\n",
       "</style>\n",
       "<table border=\"1\" class=\"dataframe\">\n",
       "  <thead>\n",
       "    <tr style=\"text-align: right;\">\n",
       "      <th></th>\n",
       "      <th>Apple</th>\n",
       "      <th>Amazon</th>\n",
       "      <th>Facebook</th>\n",
       "      <th>Google</th>\n",
       "    </tr>\n",
       "    <tr>\n",
       "      <th>date</th>\n",
       "      <th></th>\n",
       "      <th></th>\n",
       "      <th></th>\n",
       "      <th></th>\n",
       "    </tr>\n",
       "  </thead>\n",
       "  <tbody>\n",
       "    <tr>\n",
       "      <th>2018-01-02 00:00:00+00:00</th>\n",
       "      <td>172.26</td>\n",
       "      <td>1189.01</td>\n",
       "      <td>181.42</td>\n",
       "      <td>1073.21</td>\n",
       "    </tr>\n",
       "    <tr>\n",
       "      <th>2018-01-03 00:00:00+00:00</th>\n",
       "      <td>172.23</td>\n",
       "      <td>1204.20</td>\n",
       "      <td>184.67</td>\n",
       "      <td>1091.52</td>\n",
       "    </tr>\n",
       "    <tr>\n",
       "      <th>...</th>\n",
       "      <td>...</td>\n",
       "      <td>...</td>\n",
       "      <td>...</td>\n",
       "      <td>...</td>\n",
       "    </tr>\n",
       "    <tr>\n",
       "      <th>2018-12-28 00:00:00+00:00</th>\n",
       "      <td>156.23</td>\n",
       "      <td>1478.02</td>\n",
       "      <td>133.20</td>\n",
       "      <td>1046.68</td>\n",
       "    </tr>\n",
       "    <tr>\n",
       "      <th>2018-12-31 00:00:00+00:00</th>\n",
       "      <td>157.74</td>\n",
       "      <td>1501.97</td>\n",
       "      <td>131.09</td>\n",
       "      <td>1044.96</td>\n",
       "    </tr>\n",
       "  </tbody>\n",
       "</table>\n",
       "<p>251 rows × 4 columns</p>\n",
       "</div>"
      ],
      "text/plain": [
       "                            Apple   Amazon  Facebook   Google\n",
       "date                                                         \n",
       "2018-01-02 00:00:00+00:00  172.26  1189.01    181.42  1073.21\n",
       "2018-01-03 00:00:00+00:00  172.23  1204.20    184.67  1091.52\n",
       "...                           ...      ...       ...      ...\n",
       "2018-12-28 00:00:00+00:00  156.23  1478.02    133.20  1046.68\n",
       "2018-12-31 00:00:00+00:00  157.74  1501.97    131.09  1044.96\n",
       "\n",
       "[251 rows x 4 columns]"
      ]
     },
     "metadata": {},
     "output_type": "display_data"
    }
   ],
   "source": [
    "start = datetime.datetime(2018, 1, 1)\n",
    "end = datetime.datetime(2018, 12, 31)\n",
    "column_map = dict(GOOGL='Google', AAPL='Apple', FB='Facebook', AMZN='Amazon')\n",
    "stocks = web.DataReader(['GOOGL', 'AAPL', 'FB', 'AMZN'],\n",
    "                        'tiingo',\n",
    "                        start,\n",
    "                        end,\n",
    "                        api_key=tiingo_access_key)['close'].unstack(level=0)\n",
    "stocks.columns = [column_map[k] for k in stocks.columns]\n",
    "print('stocks')\n",
    "display(stocks)"
   ]
  },
  {
   "cell_type": "code",
   "execution_count": 16,
   "metadata": {
    "collapsed": true,
    "jupyter": {
     "outputs_hidden": true
    }
   },
   "outputs": [
    {
     "name": "stdout",
     "output_type": "stream",
     "text": [
      "Help on function apply in module pandas.core.frame:\n",
      "\n",
      "apply(self, func, axis=0, raw=False, result_type=None, args=(), **kwds)\n",
      "    Apply a function along an axis of the DataFrame.\n",
      "    \n",
      "    Objects passed to the function are Series objects whose index is\n",
      "    either the DataFrame's index (``axis=0``) or the DataFrame's columns\n",
      "    (``axis=1``). By default (``result_type=None``), the final return type\n",
      "    is inferred from the return type of the applied function. Otherwise,\n",
      "    it depends on the `result_type` argument.\n",
      "    \n",
      "    Parameters\n",
      "    ----------\n",
      "    func : function\n",
      "        Function to apply to each column or row.\n",
      "    axis : {0 or 'index', 1 or 'columns'}, default 0\n",
      "        Axis along which the function is applied:\n",
      "    \n",
      "        * 0 or 'index': apply function to each column.\n",
      "        * 1 or 'columns': apply function to each row.\n",
      "    \n",
      "    raw : bool, default False\n",
      "        Determines if row or column is passed as a Series or ndarray object:\n",
      "    \n",
      "        * ``False`` : passes each row or column as a Series to the\n",
      "          function.\n",
      "        * ``True`` : the passed function will receive ndarray objects\n",
      "          instead.\n",
      "          If you are just applying a NumPy reduction function this will\n",
      "          achieve much better performance.\n",
      "    \n",
      "    result_type : {'expand', 'reduce', 'broadcast', None}, default None\n",
      "        These only act when ``axis=1`` (columns):\n",
      "    \n",
      "        * 'expand' : list-like results will be turned into columns.\n",
      "        * 'reduce' : returns a Series if possible rather than expanding\n",
      "          list-like results. This is the opposite of 'expand'.\n",
      "        * 'broadcast' : results will be broadcast to the original shape\n",
      "          of the DataFrame, the original index and columns will be\n",
      "          retained.\n",
      "    \n",
      "        The default behaviour (None) depends on the return value of the\n",
      "        applied function: list-like results will be returned as a Series\n",
      "        of those. However if the apply function returns a Series these\n",
      "        are expanded to columns.\n",
      "    \n",
      "        .. versionadded:: 0.23.0\n",
      "    \n",
      "    args : tuple\n",
      "        Positional arguments to pass to `func` in addition to the\n",
      "        array/series.\n",
      "    **kwds\n",
      "        Additional keyword arguments to pass as keywords arguments to\n",
      "        `func`.\n",
      "    \n",
      "    Returns\n",
      "    -------\n",
      "    Series or DataFrame\n",
      "        Result of applying ``func`` along the given axis of the\n",
      "        DataFrame.\n",
      "    \n",
      "    See Also\n",
      "    --------\n",
      "    DataFrame.applymap: For elementwise operations.\n",
      "    DataFrame.aggregate: Only perform aggregating type operations.\n",
      "    DataFrame.transform: Only perform transforming type operations.\n",
      "    \n",
      "    Examples\n",
      "    --------\n",
      "    \n",
      "    >>> df = pd.DataFrame([[4, 9]] * 3, columns=['A', 'B'])\n",
      "    >>> df\n",
      "       A  B\n",
      "    0  4  9\n",
      "    1  4  9\n",
      "    2  4  9\n",
      "    \n",
      "    Using a numpy universal function (in this case the same as\n",
      "    ``np.sqrt(df)``):\n",
      "    \n",
      "    >>> df.apply(np.sqrt)\n",
      "         A    B\n",
      "    0  2.0  3.0\n",
      "    1  2.0  3.0\n",
      "    2  2.0  3.0\n",
      "    \n",
      "    Using a reducing function on either axis\n",
      "    \n",
      "    >>> df.apply(np.sum, axis=0)\n",
      "    A    12\n",
      "    B    27\n",
      "    dtype: int64\n",
      "    \n",
      "    >>> df.apply(np.sum, axis=1)\n",
      "    0    13\n",
      "    1    13\n",
      "    2    13\n",
      "    dtype: int64\n",
      "    \n",
      "    Returning a list-like will result in a Series\n",
      "    \n",
      "    >>> df.apply(lambda x: [1, 2], axis=1)\n",
      "    0    [1, 2]\n",
      "    1    [1, 2]\n",
      "    2    [1, 2]\n",
      "    dtype: object\n",
      "    \n",
      "    Passing result_type='expand' will expand list-like results\n",
      "    to columns of a Dataframe\n",
      "    \n",
      "    >>> df.apply(lambda x: [1, 2], axis=1, result_type='expand')\n",
      "       0  1\n",
      "    0  1  2\n",
      "    1  1  2\n",
      "    2  1  2\n",
      "    \n",
      "    Returning a Series inside the function is similar to passing\n",
      "    ``result_type='expand'``. The resulting column names\n",
      "    will be the Series index.\n",
      "    \n",
      "    >>> df.apply(lambda x: pd.Series([1, 2], index=['foo', 'bar']), axis=1)\n",
      "       foo  bar\n",
      "    0    1    2\n",
      "    1    1    2\n",
      "    2    1    2\n",
      "    \n",
      "    Passing ``result_type='broadcast'`` will ensure the same shape\n",
      "    result, whether list-like or scalar is returned by the function,\n",
      "    and broadcast it along the axis. The resulting column names will\n",
      "    be the originals.\n",
      "    \n",
      "    >>> df.apply(lambda x: [1, 2], axis=1, result_type='broadcast')\n",
      "       A  B\n",
      "    0  1  2\n",
      "    1  1  2\n",
      "    2  1  2\n",
      "\n"
     ]
    }
   ],
   "source": [
    "help(pd.DataFrame.apply)"
   ]
  },
  {
   "cell_type": "code",
   "execution_count": null,
   "metadata": {},
   "outputs": [],
   "source": []
  },
  {
   "cell_type": "markdown",
   "metadata": {
    "solution2": "hidden",
    "solution2_first": true
   },
   "source": [
    "解答例\n",
    "\n",
    "---"
   ]
  },
  {
   "cell_type": "code",
   "execution_count": 17,
   "metadata": {
    "jupyter": {
     "source_hidden": true
    },
    "solution2": "hidden"
   },
   "outputs": [],
   "source": [
    "scaled = stocks.apply(lambda s: s / s.loc['2018-01-02'] * 100)"
   ]
  },
  {
   "cell_type": "code",
   "execution_count": 18,
   "metadata": {
    "collapsed": true,
    "jupyter": {
     "outputs_hidden": true,
     "source_hidden": true
    },
    "solution2": "hidden"
   },
   "outputs": [
    {
     "data": {
      "image/png": "[encoded data removed]",
      "text/plain": [
       "<Figure size 432x288 with 1 Axes>"
      ]
     },
     "metadata": {
      "needs_background": "light"
     },
     "output_type": "display_data"
    }
   ],
   "source": [
    "scaled.plot()\n",
    "plt.show()"
   ]
  },
  {
   "cell_type": "markdown",
   "metadata": {},
   "source": [
    "---"
   ]
  },
  {
   "cell_type": "markdown",
   "metadata": {},
   "source": [
    "#### 移動平均\n",
    "---\n",
    "小さい変動の影響を除いた、大きな傾向を把握したい場合には前後のデータとの平均である移動平均を用いる。"
   ]
  },
  {
   "cell_type": "markdown",
   "metadata": {},
   "source": [
    "練習問題\n",
    "\n",
    "---\n",
    "stocksデータセットの各列を`pandas.DataFrame.rolling`関数を用いて、前後2件ずつの移動平均に変換したデータセット`moving_average`を作成し、折れ線グラフを表示する。"
   ]
  },
  {
   "cell_type": "code",
   "execution_count": 19,
   "metadata": {
    "hide_input": true,
    "jupyter": {
     "source_hidden": true
    }
   },
   "outputs": [
    {
     "name": "stdout",
     "output_type": "stream",
     "text": [
      "stocks\n"
     ]
    },
    {
     "data": {
      "text/html": [
       "<div>\n",
       "<style scoped>\n",
       "    .dataframe tbody tr th:only-of-type {\n",
       "        vertical-align: middle;\n",
       "    }\n",
       "\n",
       "    .dataframe tbody tr th {\n",
       "        vertical-align: top;\n",
       "    }\n",
       "\n",
       "    .dataframe thead th {\n",
       "        text-align: right;\n",
       "    }\n",
       "</style>\n",
       "<table border=\"1\" class=\"dataframe\">\n",
       "  <thead>\n",
       "    <tr style=\"text-align: right;\">\n",
       "      <th></th>\n",
       "      <th>Apple</th>\n",
       "      <th>Amazon</th>\n",
       "      <th>Facebook</th>\n",
       "      <th>Google</th>\n",
       "    </tr>\n",
       "    <tr>\n",
       "      <th>date</th>\n",
       "      <th></th>\n",
       "      <th></th>\n",
       "      <th></th>\n",
       "      <th></th>\n",
       "    </tr>\n",
       "  </thead>\n",
       "  <tbody>\n",
       "    <tr>\n",
       "      <th>2018-01-02 00:00:00+00:00</th>\n",
       "      <td>172.26</td>\n",
       "      <td>1189.01</td>\n",
       "      <td>181.42</td>\n",
       "      <td>1073.21</td>\n",
       "    </tr>\n",
       "    <tr>\n",
       "      <th>2018-01-03 00:00:00+00:00</th>\n",
       "      <td>172.23</td>\n",
       "      <td>1204.20</td>\n",
       "      <td>184.67</td>\n",
       "      <td>1091.52</td>\n",
       "    </tr>\n",
       "    <tr>\n",
       "      <th>...</th>\n",
       "      <td>...</td>\n",
       "      <td>...</td>\n",
       "      <td>...</td>\n",
       "      <td>...</td>\n",
       "    </tr>\n",
       "    <tr>\n",
       "      <th>2018-12-28 00:00:00+00:00</th>\n",
       "      <td>156.23</td>\n",
       "      <td>1478.02</td>\n",
       "      <td>133.20</td>\n",
       "      <td>1046.68</td>\n",
       "    </tr>\n",
       "    <tr>\n",
       "      <th>2018-12-31 00:00:00+00:00</th>\n",
       "      <td>157.74</td>\n",
       "      <td>1501.97</td>\n",
       "      <td>131.09</td>\n",
       "      <td>1044.96</td>\n",
       "    </tr>\n",
       "  </tbody>\n",
       "</table>\n",
       "<p>251 rows × 4 columns</p>\n",
       "</div>"
      ],
      "text/plain": [
       "                            Apple   Amazon  Facebook   Google\n",
       "date                                                         \n",
       "2018-01-02 00:00:00+00:00  172.26  1189.01    181.42  1073.21\n",
       "2018-01-03 00:00:00+00:00  172.23  1204.20    184.67  1091.52\n",
       "...                           ...      ...       ...      ...\n",
       "2018-12-28 00:00:00+00:00  156.23  1478.02    133.20  1046.68\n",
       "2018-12-31 00:00:00+00:00  157.74  1501.97    131.09  1044.96\n",
       "\n",
       "[251 rows x 4 columns]"
      ]
     },
     "metadata": {},
     "output_type": "display_data"
    }
   ],
   "source": [
    "print('stocks')\n",
    "display(stocks)"
   ]
  },
  {
   "cell_type": "code",
   "execution_count": 20,
   "metadata": {
    "collapsed": true,
    "jupyter": {
     "outputs_hidden": true
    }
   },
   "outputs": [
    {
     "name": "stdout",
     "output_type": "stream",
     "text": [
      "Help on function rolling in module pandas.core.generic:\n",
      "\n",
      "rolling(self, window, min_periods=None, center=False, win_type=None, on=None, axis=0, closed=None)\n",
      "    Provide rolling window calculations.\n",
      "    \n",
      "    Parameters\n",
      "    ----------\n",
      "    window : int, offset, or BaseIndexer subclass\n",
      "        Size of the moving window. This is the number of observations used for\n",
      "        calculating the statistic. Each window will be a fixed size.\n",
      "    \n",
      "        If its an offset then this will be the time period of each window. Each\n",
      "        window will be a variable sized based on the observations included in\n",
      "        the time-period. This is only valid for datetimelike indexes.\n",
      "    \n",
      "        If a BaseIndexer subclass is passed, calculates the window boundaries\n",
      "        based on the defined ``get_window_bounds`` method. Additional rolling\n",
      "        keyword arguments, namely `min_periods`, `center`, and\n",
      "        `closed` will be passed to `get_window_bounds`.\n",
      "    min_periods : int, default None\n",
      "        Minimum number of observations in window required to have a value\n",
      "        (otherwise result is NA). For a window that is specified by an offset,\n",
      "        `min_periods` will default to 1. Otherwise, `min_periods` will default\n",
      "        to the size of the window.\n",
      "    center : bool, default False\n",
      "        Set the labels at the center of the window.\n",
      "    win_type : str, default None\n",
      "        Provide a window type. If ``None``, all points are evenly weighted.\n",
      "        See the notes below for further information.\n",
      "    on : str, optional\n",
      "        For a DataFrame, a datetime-like column or MultiIndex level on which\n",
      "        to calculate the rolling window, rather than the DataFrame's index.\n",
      "        Provided integer column is ignored and excluded from result since\n",
      "        an integer index is not used to calculate the rolling window.\n",
      "    axis : int or str, default 0\n",
      "    closed : str, default None\n",
      "        Make the interval closed on the 'right', 'left', 'both' or\n",
      "        'neither' endpoints.\n",
      "        For offset-based windows, it defaults to 'right'.\n",
      "        For fixed windows, defaults to 'both'. Remaining cases not implemented\n",
      "        for fixed windows.\n",
      "    \n",
      "    Returns\n",
      "    -------\n",
      "    a Window or Rolling sub-classed for the particular operation\n",
      "    \n",
      "    See Also\n",
      "    --------\n",
      "    expanding : Provides expanding transformations.\n",
      "    ewm : Provides exponential weighted functions.\n",
      "    \n",
      "    Notes\n",
      "    -----\n",
      "    By default, the result is set to the right edge of the window. This can be\n",
      "    changed to the center of the window by setting ``center=True``.\n",
      "    \n",
      "    To learn more about the offsets & frequency strings, please see `this link\n",
      "    <https://pandas.pydata.org/pandas-docs/stable/user_guide/timeseries.html#offset-aliases>`__.\n",
      "    \n",
      "    The recognized win_types are:\n",
      "    \n",
      "    * ``boxcar``\n",
      "    * ``triang``\n",
      "    * ``blackman``\n",
      "    * ``hamming``\n",
      "    * ``bartlett``\n",
      "    * ``parzen``\n",
      "    * ``bohman``\n",
      "    * ``blackmanharris``\n",
      "    * ``nuttall``\n",
      "    * ``barthann``\n",
      "    * ``kaiser`` (needs beta)\n",
      "    * ``gaussian`` (needs std)\n",
      "    * ``general_gaussian`` (needs power, width)\n",
      "    * ``slepian`` (needs width)\n",
      "    * ``exponential`` (needs tau), center is set to None.\n",
      "    \n",
      "    If ``win_type=None`` all points are evenly weighted. To learn more about\n",
      "    different window types see `scipy.signal window functions\n",
      "    <https://docs.scipy.org/doc/scipy/reference/signal.html#window-functions>`__.\n",
      "    \n",
      "    Examples\n",
      "    --------\n",
      "    \n",
      "    >>> df = pd.DataFrame({'B': [0, 1, 2, np.nan, 4]})\n",
      "    >>> df\n",
      "         B\n",
      "    0  0.0\n",
      "    1  1.0\n",
      "    2  2.0\n",
      "    3  NaN\n",
      "    4  4.0\n",
      "    \n",
      "    Rolling sum with a window length of 2, using the 'triang'\n",
      "    window type.\n",
      "    \n",
      "    >>> df.rolling(2, win_type='triang').sum()\n",
      "         B\n",
      "    0  NaN\n",
      "    1  0.5\n",
      "    2  1.5\n",
      "    3  NaN\n",
      "    4  NaN\n",
      "    \n",
      "    Rolling sum with a window length of 2, using the 'gaussian'\n",
      "    window type (note how we need to specify std).\n",
      "    \n",
      "    >>> df.rolling(2, win_type='gaussian').sum(std=3)\n",
      "              B\n",
      "    0       NaN\n",
      "    1  0.986207\n",
      "    2  2.958621\n",
      "    3       NaN\n",
      "    4       NaN\n",
      "    \n",
      "    Rolling sum with a window length of 2, min_periods defaults\n",
      "    to the window length.\n",
      "    \n",
      "    >>> df.rolling(2).sum()\n",
      "         B\n",
      "    0  NaN\n",
      "    1  1.0\n",
      "    2  3.0\n",
      "    3  NaN\n",
      "    4  NaN\n",
      "    \n",
      "    Same as above, but explicitly set the min_periods\n",
      "    \n",
      "    >>> df.rolling(2, min_periods=1).sum()\n",
      "         B\n",
      "    0  0.0\n",
      "    1  1.0\n",
      "    2  3.0\n",
      "    3  2.0\n",
      "    4  4.0\n",
      "    \n",
      "    A ragged (meaning not-a-regular frequency), time-indexed DataFrame\n",
      "    \n",
      "    >>> df = pd.DataFrame({'B': [0, 1, 2, np.nan, 4]},\n",
      "    ...                   index = [pd.Timestamp('20130101 09:00:00'),\n",
      "    ...                            pd.Timestamp('20130101 09:00:02'),\n",
      "    ...                            pd.Timestamp('20130101 09:00:03'),\n",
      "    ...                            pd.Timestamp('20130101 09:00:05'),\n",
      "    ...                            pd.Timestamp('20130101 09:00:06')])\n",
      "    \n",
      "    >>> df\n",
      "                           B\n",
      "    2013-01-01 09:00:00  0.0\n",
      "    2013-01-01 09:00:02  1.0\n",
      "    2013-01-01 09:00:03  2.0\n",
      "    2013-01-01 09:00:05  NaN\n",
      "    2013-01-01 09:00:06  4.0\n",
      "    \n",
      "    Contrasting to an integer rolling window, this will roll a variable\n",
      "    length window corresponding to the time period.\n",
      "    The default for min_periods is 1.\n",
      "    \n",
      "    >>> df.rolling('2s').sum()\n",
      "                           B\n",
      "    2013-01-01 09:00:00  0.0\n",
      "    2013-01-01 09:00:02  1.0\n",
      "    2013-01-01 09:00:03  3.0\n",
      "    2013-01-01 09:00:05  NaN\n",
      "    2013-01-01 09:00:06  4.0\n",
      "\n"
     ]
    }
   ],
   "source": [
    "help(pd.DataFrame.rolling)"
   ]
  },
  {
   "cell_type": "code",
   "execution_count": null,
   "metadata": {},
   "outputs": [],
   "source": []
  },
  {
   "cell_type": "markdown",
   "metadata": {
    "solution2": "hidden",
    "solution2_first": true
   },
   "source": [
    "解答例\n",
    "\n",
    "---"
   ]
  },
  {
   "cell_type": "code",
   "execution_count": 21,
   "metadata": {
    "jupyter": {
     "source_hidden": true
    },
    "solution2": "hidden"
   },
   "outputs": [],
   "source": [
    "moving_average = stocks.rolling(5, center=True).mean()"
   ]
  },
  {
   "cell_type": "code",
   "execution_count": 22,
   "metadata": {
    "collapsed": true,
    "jupyter": {
     "outputs_hidden": true,
     "source_hidden": true
    },
    "solution2": "hidden"
   },
   "outputs": [
    {
     "data": {
      "image/png": "[encoded data removed]",
      "text/plain": [
       "<Figure size 432x288 with 1 Axes>"
      ]
     },
     "metadata": {
      "needs_background": "light"
     },
     "output_type": "display_data"
    }
   ],
   "source": [
    "moving_average.plot()\n",
    "plt.show()"
   ]
  },
  {
   "cell_type": "markdown",
   "metadata": {},
   "source": [
    "---"
   ]
  },
  {
   "cell_type": "markdown",
   "metadata": {},
   "source": [
    "#### 対数化\n",
    "---\n",
    "複利効果がある場合など、時間の経過とともに値の大きさや振れ幅が大きくなるようなデータでは、対数 log の折れ線グラフを用いると傾向を把握しやすい。  \n",
    "対数をとった場合はグラフの傾きが成長率を表すため、傾きが一定ならば成長率が一定と解釈する。"
   ]
  },
  {
   "cell_type": "markdown",
   "metadata": {},
   "source": [
    "練習問題\n",
    "\n",
    "---\n",
    "gdpデータセットの対数をとったデータセット`log_gdp`を作成し、複数系列折れ線グラフを表示する。"
   ]
  },
  {
   "cell_type": "code",
   "execution_count": 23,
   "metadata": {
    "hide_input": true,
    "jupyter": {
     "source_hidden": true
    }
   },
   "outputs": [
    {
     "name": "stdout",
     "output_type": "stream",
     "text": [
      "gdp\n"
     ]
    },
    {
     "data": {
      "text/html": [
       "<div>\n",
       "<style scoped>\n",
       "    .dataframe tbody tr th:only-of-type {\n",
       "        vertical-align: middle;\n",
       "    }\n",
       "\n",
       "    .dataframe tbody tr th {\n",
       "        vertical-align: top;\n",
       "    }\n",
       "\n",
       "    .dataframe thead th {\n",
       "        text-align: right;\n",
       "    }\n",
       "</style>\n",
       "<table border=\"1\" class=\"dataframe\">\n",
       "  <thead>\n",
       "    <tr style=\"text-align: right;\">\n",
       "      <th>country</th>\n",
       "      <th>China</th>\n",
       "      <th>Japan</th>\n",
       "      <th>United States</th>\n",
       "    </tr>\n",
       "    <tr>\n",
       "      <th>year</th>\n",
       "      <th></th>\n",
       "      <th></th>\n",
       "      <th></th>\n",
       "    </tr>\n",
       "  </thead>\n",
       "  <tbody>\n",
       "    <tr>\n",
       "      <th>1960</th>\n",
       "      <td>59716467625</td>\n",
       "      <td>44307342950</td>\n",
       "      <td>543300000000</td>\n",
       "    </tr>\n",
       "    <tr>\n",
       "      <th>1961</th>\n",
       "      <td>50056868957</td>\n",
       "      <td>53508617739</td>\n",
       "      <td>563300000000</td>\n",
       "    </tr>\n",
       "    <tr>\n",
       "      <th>...</th>\n",
       "      <td>...</td>\n",
       "      <td>...</td>\n",
       "      <td>...</td>\n",
       "    </tr>\n",
       "    <tr>\n",
       "      <th>2016</th>\n",
       "      <td>11137945669350</td>\n",
       "      <td>4926667087367</td>\n",
       "      <td>18707188235000</td>\n",
       "    </tr>\n",
       "    <tr>\n",
       "      <th>2017</th>\n",
       "      <td>12143491448186</td>\n",
       "      <td>4859950558538</td>\n",
       "      <td>19485393853000</td>\n",
       "    </tr>\n",
       "  </tbody>\n",
       "</table>\n",
       "<p>58 rows × 3 columns</p>\n",
       "</div>"
      ],
      "text/plain": [
       "country           China          Japan   United States\n",
       "year                                                  \n",
       "1960        59716467625    44307342950    543300000000\n",
       "1961        50056868957    53508617739    563300000000\n",
       "...                 ...            ...             ...\n",
       "2016     11137945669350  4926667087367  18707188235000\n",
       "2017     12143491448186  4859950558538  19485393853000\n",
       "\n",
       "[58 rows x 3 columns]"
      ]
     },
     "metadata": {},
     "output_type": "display_data"
    },
    {
     "data": {
      "image/png": "[encoded data removed]",
      "text/plain": [
       "<Figure size 432x288 with 1 Axes>"
      ]
     },
     "metadata": {
      "needs_background": "light"
     },
     "output_type": "display_data"
    }
   ],
   "source": [
    "gdp = wb.download(indicator='NY.GDP.MKTP.CD',\n",
    "                  country=['JP', 'US', 'CN'],\n",
    "                  start=1960,\n",
    "                  end=2017).unstack(level=0).astype(int)\n",
    "gdp.columns = gdp.columns.levels[1]\n",
    "print('gdp')\n",
    "display(gdp)\n",
    "gdp.plot()\n",
    "plt.show()"
   ]
  },
  {
   "cell_type": "code",
   "execution_count": null,
   "metadata": {},
   "outputs": [],
   "source": []
  },
  {
   "cell_type": "markdown",
   "metadata": {
    "solution2": "hidden",
    "solution2_first": true
   },
   "source": [
    "解答例\n",
    "\n",
    "---"
   ]
  },
  {
   "cell_type": "code",
   "execution_count": 24,
   "metadata": {
    "jupyter": {
     "source_hidden": true
    },
    "solution2": "hidden"
   },
   "outputs": [],
   "source": [
    "log_gdp = gdp.apply(np.log)"
   ]
  },
  {
   "cell_type": "code",
   "execution_count": 25,
   "metadata": {
    "collapsed": true,
    "jupyter": {
     "outputs_hidden": true,
     "source_hidden": true
    },
    "solution2": "hidden"
   },
   "outputs": [
    {
     "data": {
      "image/png": "[encoded data removed]",
      "text/plain": [
       "<Figure size 432x288 with 1 Axes>"
      ]
     },
     "metadata": {
      "needs_background": "light"
     },
     "output_type": "display_data"
    }
   ],
   "source": [
    "log_gdp.plot()\n",
    "plt.show()"
   ]
  },
  {
   "cell_type": "markdown",
   "metadata": {},
   "source": [
    "---"
   ]
  },
  {
   "cell_type": "markdown",
   "metadata": {},
   "source": [
    "#### 変化率\n",
    "---\n",
    "周期性のあるデータや成長率が重要なデータなどでは、一定期間前との比率を用いる。  \n",
    "対数の差分は、経済成長率など成長率が小さい値の場合には近似値として利用可能。"
   ]
  },
  {
   "cell_type": "markdown",
   "metadata": {},
   "source": [
    "練習問題\n",
    "\n",
    "---\n",
    "passengersデータセットを`pandas.DataFrame.shift`関数や`pandas.DataFrame.diff`関数を用いて、前年同期との成長率・対数差分を表す`成長率`列・`対数差分`列を作成し、複数系列折れ線グラフで重ねて表示する。"
   ]
  },
  {
   "cell_type": "code",
   "execution_count": 26,
   "metadata": {
    "hide_input": true,
    "jupyter": {
     "source_hidden": true
    }
   },
   "outputs": [
    {
     "name": "stdout",
     "output_type": "stream",
     "text": [
      "flights\n"
     ]
    },
    {
     "data": {
      "text/html": [
       "<div>\n",
       "<style scoped>\n",
       "    .dataframe tbody tr th:only-of-type {\n",
       "        vertical-align: middle;\n",
       "    }\n",
       "\n",
       "    .dataframe tbody tr th {\n",
       "        vertical-align: top;\n",
       "    }\n",
       "\n",
       "    .dataframe thead th {\n",
       "        text-align: right;\n",
       "    }\n",
       "</style>\n",
       "<table border=\"1\" class=\"dataframe\">\n",
       "  <thead>\n",
       "    <tr style=\"text-align: right;\">\n",
       "      <th></th>\n",
       "      <th>year</th>\n",
       "      <th>month</th>\n",
       "      <th>passengers</th>\n",
       "    </tr>\n",
       "  </thead>\n",
       "  <tbody>\n",
       "    <tr>\n",
       "      <th>0</th>\n",
       "      <td>1949</td>\n",
       "      <td>January</td>\n",
       "      <td>112</td>\n",
       "    </tr>\n",
       "    <tr>\n",
       "      <th>1</th>\n",
       "      <td>1949</td>\n",
       "      <td>February</td>\n",
       "      <td>118</td>\n",
       "    </tr>\n",
       "    <tr>\n",
       "      <th>...</th>\n",
       "      <td>...</td>\n",
       "      <td>...</td>\n",
       "      <td>...</td>\n",
       "    </tr>\n",
       "    <tr>\n",
       "      <th>142</th>\n",
       "      <td>1960</td>\n",
       "      <td>November</td>\n",
       "      <td>390</td>\n",
       "    </tr>\n",
       "    <tr>\n",
       "      <th>143</th>\n",
       "      <td>1960</td>\n",
       "      <td>December</td>\n",
       "      <td>432</td>\n",
       "    </tr>\n",
       "  </tbody>\n",
       "</table>\n",
       "<p>144 rows × 3 columns</p>\n",
       "</div>"
      ],
      "text/plain": [
       "     year     month  passengers\n",
       "0    1949   January         112\n",
       "1    1949  February         118\n",
       "..    ...       ...         ...\n",
       "142  1960  November         390\n",
       "143  1960  December         432\n",
       "\n",
       "[144 rows x 3 columns]"
      ]
     },
     "metadata": {},
     "output_type": "display_data"
    },
    {
     "data": {
      "image/png": "[encoded data removed]",
      "text/plain": [
       "<Figure size 432x288 with 1 Axes>"
      ]
     },
     "metadata": {
      "needs_background": "light"
     },
     "output_type": "display_data"
    }
   ],
   "source": [
    "flights = sns.load_dataset('flights')\n",
    "print('flights')\n",
    "display(flights)\n",
    "flights.plot(y='passengers')\n",
    "plt.show()"
   ]
  },
  {
   "cell_type": "code",
   "execution_count": 27,
   "metadata": {
    "collapsed": true,
    "jupyter": {
     "outputs_hidden": true
    }
   },
   "outputs": [
    {
     "name": "stdout",
     "output_type": "stream",
     "text": [
      "Help on function shift in module pandas.core.frame:\n",
      "\n",
      "shift(self, periods=1, freq=None, axis=0, fill_value=None) -> 'DataFrame'\n",
      "    Shift index by desired number of periods with an optional time `freq`.\n",
      "    \n",
      "    When `freq` is not passed, shift the index without realigning the data.\n",
      "    If `freq` is passed (in this case, the index must be date or datetime,\n",
      "    or it will raise a `NotImplementedError`), the index will be\n",
      "    increased using the periods and the `freq`.\n",
      "    \n",
      "    Parameters\n",
      "    ----------\n",
      "    periods : int\n",
      "        Number of periods to shift. Can be positive or negative.\n",
      "    freq : DateOffset, tseries.offsets, timedelta, or str, optional\n",
      "        Offset to use from the tseries module or time rule (e.g. 'EOM').\n",
      "        If `freq` is specified then the index values are shifted but the\n",
      "        data is not realigned. That is, use `freq` if you would like to\n",
      "        extend the index when shifting and preserve the original data.\n",
      "    axis : {0 or 'index', 1 or 'columns', None}, default None\n",
      "        Shift direction.\n",
      "    fill_value : object, optional\n",
      "        The scalar value to use for newly introduced missing values.\n",
      "        the default depends on the dtype of `self`.\n",
      "        For numeric data, ``np.nan`` is used.\n",
      "        For datetime, timedelta, or period data, etc. :attr:`NaT` is used.\n",
      "        For extension dtypes, ``self.dtype.na_value`` is used.\n",
      "    \n",
      "        .. versionchanged:: 0.24.0\n",
      "    \n",
      "    Returns\n",
      "    -------\n",
      "    DataFrame\n",
      "        Copy of input object, shifted.\n",
      "    \n",
      "    See Also\n",
      "    --------\n",
      "    Index.shift : Shift values of Index.\n",
      "    DatetimeIndex.shift : Shift values of DatetimeIndex.\n",
      "    PeriodIndex.shift : Shift values of PeriodIndex.\n",
      "    tshift : Shift the time index, using the index's frequency if\n",
      "        available.\n",
      "    \n",
      "    Examples\n",
      "    --------\n",
      "    >>> df = pd.DataFrame({'Col1': [10, 20, 15, 30, 45],\n",
      "    ...                    'Col2': [13, 23, 18, 33, 48],\n",
      "    ...                    'Col3': [17, 27, 22, 37, 52]})\n",
      "    \n",
      "    >>> df.shift(periods=3)\n",
      "       Col1  Col2  Col3\n",
      "    0   NaN   NaN   NaN\n",
      "    1   NaN   NaN   NaN\n",
      "    2   NaN   NaN   NaN\n",
      "    3  10.0  13.0  17.0\n",
      "    4  20.0  23.0  27.0\n",
      "    \n",
      "    >>> df.shift(periods=1, axis='columns')\n",
      "       Col1  Col2  Col3\n",
      "    0   NaN  10.0  13.0\n",
      "    1   NaN  20.0  23.0\n",
      "    2   NaN  15.0  18.0\n",
      "    3   NaN  30.0  33.0\n",
      "    4   NaN  45.0  48.0\n",
      "    \n",
      "    >>> df.shift(periods=3, fill_value=0)\n",
      "       Col1  Col2  Col3\n",
      "    0     0     0     0\n",
      "    1     0     0     0\n",
      "    2     0     0     0\n",
      "    3    10    13    17\n",
      "    4    20    23    27\n",
      "\n"
     ]
    }
   ],
   "source": [
    "help(pd.DataFrame.shift)"
   ]
  },
  {
   "cell_type": "code",
   "execution_count": 28,
   "metadata": {
    "collapsed": true,
    "jupyter": {
     "outputs_hidden": true
    }
   },
   "outputs": [
    {
     "name": "stdout",
     "output_type": "stream",
     "text": [
      "Help on function diff in module pandas.core.frame:\n",
      "\n",
      "diff(self, periods=1, axis=0) -> 'DataFrame'\n",
      "    First discrete difference of element.\n",
      "    \n",
      "    Calculates the difference of a DataFrame element compared with another\n",
      "    element in the DataFrame (default is the element in the same column\n",
      "    of the previous row).\n",
      "    \n",
      "    Parameters\n",
      "    ----------\n",
      "    periods : int, default 1\n",
      "        Periods to shift for calculating difference, accepts negative\n",
      "        values.\n",
      "    axis : {0 or 'index', 1 or 'columns'}, default 0\n",
      "        Take difference over rows (0) or columns (1).\n",
      "    \n",
      "    Returns\n",
      "    -------\n",
      "    DataFrame\n",
      "    \n",
      "    See Also\n",
      "    --------\n",
      "    Series.diff: First discrete difference for a Series.\n",
      "    DataFrame.pct_change: Percent change over given number of periods.\n",
      "    DataFrame.shift: Shift index by desired number of periods with an\n",
      "        optional time freq.\n",
      "    \n",
      "    Notes\n",
      "    -----\n",
      "    For boolean dtypes, this uses :meth:`operator.xor` rather than\n",
      "    :meth:`operator.sub`.\n",
      "    \n",
      "    Examples\n",
      "    --------\n",
      "    Difference with previous row\n",
      "    \n",
      "    >>> df = pd.DataFrame({'a': [1, 2, 3, 4, 5, 6],\n",
      "    ...                    'b': [1, 1, 2, 3, 5, 8],\n",
      "    ...                    'c': [1, 4, 9, 16, 25, 36]})\n",
      "    >>> df\n",
      "       a  b   c\n",
      "    0  1  1   1\n",
      "    1  2  1   4\n",
      "    2  3  2   9\n",
      "    3  4  3  16\n",
      "    4  5  5  25\n",
      "    5  6  8  36\n",
      "    \n",
      "    >>> df.diff()\n",
      "         a    b     c\n",
      "    0  NaN  NaN   NaN\n",
      "    1  1.0  0.0   3.0\n",
      "    2  1.0  1.0   5.0\n",
      "    3  1.0  1.0   7.0\n",
      "    4  1.0  2.0   9.0\n",
      "    5  1.0  3.0  11.0\n",
      "    \n",
      "    Difference with previous column\n",
      "    \n",
      "    >>> df.diff(axis=1)\n",
      "        a    b     c\n",
      "    0 NaN  0.0   0.0\n",
      "    1 NaN -1.0   3.0\n",
      "    2 NaN -1.0   7.0\n",
      "    3 NaN -1.0  13.0\n",
      "    4 NaN  0.0  20.0\n",
      "    5 NaN  2.0  28.0\n",
      "    \n",
      "    Difference with 3rd previous row\n",
      "    \n",
      "    >>> df.diff(periods=3)\n",
      "         a    b     c\n",
      "    0  NaN  NaN   NaN\n",
      "    1  NaN  NaN   NaN\n",
      "    2  NaN  NaN   NaN\n",
      "    3  3.0  2.0  15.0\n",
      "    4  3.0  4.0  21.0\n",
      "    5  3.0  6.0  27.0\n",
      "    \n",
      "    Difference with following row\n",
      "    \n",
      "    >>> df.diff(periods=-1)\n",
      "         a    b     c\n",
      "    0 -1.0  0.0  -3.0\n",
      "    1 -1.0 -1.0  -5.0\n",
      "    2 -1.0 -1.0  -7.0\n",
      "    3 -1.0 -2.0  -9.0\n",
      "    4 -1.0 -3.0 -11.0\n",
      "    5  NaN  NaN   NaN\n",
      "\n"
     ]
    }
   ],
   "source": [
    "help(pd.DataFrame.diff)"
   ]
  },
  {
   "cell_type": "code",
   "execution_count": null,
   "metadata": {},
   "outputs": [],
   "source": []
  },
  {
   "cell_type": "markdown",
   "metadata": {
    "solution2": "hidden",
    "solution2_first": true
   },
   "source": [
    "解答例\n",
    "\n",
    "---"
   ]
  },
  {
   "cell_type": "code",
   "execution_count": 29,
   "metadata": {
    "collapsed": true,
    "jupyter": {
     "outputs_hidden": true,
     "source_hidden": true
    },
    "solution2": "hidden"
   },
   "outputs": [
    {
     "data": {
      "image/png": "[encoded data removed]",
      "text/plain": [
       "<Figure size 432x288 with 1 Axes>"
      ]
     },
     "metadata": {
      "needs_background": "light"
     },
     "output_type": "display_data"
    }
   ],
   "source": [
    "flights['成長率'] = flights['passengers'] / flights['passengers'].shift(12) - 1\n",
    "flights['対数差分'] = flights['passengers'].apply(np.log).diff(12)\n",
    "flights[['成長率', '対数差分']].plot()\n",
    "plt.show()"
   ]
  },
  {
   "cell_type": "markdown",
   "metadata": {},
   "source": [
    "---"
   ]
  }
 ],
 "metadata": {
  "kernelspec": {
   "display_name": "Python 3",
   "language": "python",
   "name": "python3"
  },
  "language_info": {
   "codemirror_mode": {
    "name": "ipython",
    "version": 3
   },
   "file_extension": ".py",
   "mimetype": "text/x-python",
   "name": "python",
   "nbconvert_exporter": "python",
   "pygments_lexer": "ipython3",
   "version": "3.8.3"
  },
  "toc": {
   "base_numbering": 1,
   "nav_menu": {},
   "number_sections": true,
   "sideBar": true,
   "skip_h1_title": true,
   "title_cell": "Table of Contents",
   "title_sidebar": "Contents",
   "toc_cell": false,
   "toc_position": {},
   "toc_section_display": true,
   "toc_window_display": true
  },
  "varInspector": {
   "cols": {
    "lenName": 16,
    "lenType": 16,
    "lenVar": 40
   },
   "kernels_config": {
    "python": {
     "delete_cmd_postfix": "",
     "delete_cmd_prefix": "del ",
     "library": "var_list.py",
     "varRefreshCmd": "print(var_dic_list())"
    },
    "r": {
     "delete_cmd_postfix": ") ",
     "delete_cmd_prefix": "rm(",
     "library": "var_list.r",
     "varRefreshCmd": "cat(var_dic_list()) "
    }
   },
   "types_to_exclude": [
    "module",
    "function",
    "builtin_function_or_method",
    "instance",
    "_Feature"
   ],
   "window_display": false
  },
  "widgets": {
   "application/vnd.jupyter.widget-state+json": {
    "state": {},
    "version_major": 2,
    "version_minor": 0
   }
  }
 },
 "nbformat": 4,
 "nbformat_minor": 4
}
