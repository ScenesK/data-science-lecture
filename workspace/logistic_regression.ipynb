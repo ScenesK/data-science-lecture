{
 "cells": [
  {
   "cell_type": "code",
   "execution_count": 1,
   "metadata": {},
   "outputs": [],
   "source": [
    "import numpy as np\n",
    "import pandas as pd\n",
    "from sklearn.datasets import make_classification\n",
    "from sklearn.linear_model import LogisticRegression\n",
    "import matplotlib.pyplot as plt\n",
    "pd.set_option('max_rows', 5)\n",
    "%matplotlib inline"
   ]
  },
  {
   "cell_type": "markdown",
   "metadata": {},
   "source": [
    "## ロジスティック回帰\n",
    "---\n",
    "2 値変数 ( 2 種類の値をとる) を目的変数として、対応するカテゴリにそのデータが属する確率を推定する手法の 1 つ。\n",
    "\n",
    "<table class=\"border text-center background-bright\">\n",
    "    <tr class=\"background-dark\">\n",
    "        <th></th>\n",
    "        <th>$x$</th>\n",
    "        <th>正解</th>\n",
    "        <th class=\"border-right-double\">$y$</th>\n",
    "        <th>$\\hat{y}$</th>\n",
    "        <th>Aである確率</th>\n",
    "        <th>Bである確率</th>\n",
    "        <th>予測</th>\n",
    "    </tr>\n",
    "    <tr>\n",
    "        <td>1</td>\n",
    "        <td class=\"text-right\">1.1</td>\n",
    "        <td>A</td>\n",
    "        <td class=\"border-right-double\">1</td>\n",
    "        <td>0.98</td>\n",
    "        <td class=\"text-right\">98%</td>\n",
    "        <td class=\"text-right\">2%</td>\n",
    "        <td>A</td>\n",
    "    </tr>\n",
    "    <tr>\n",
    "        <td>2</td>\n",
    "        <td class=\"text-right\">0.5</td>\n",
    "        <td>B</td>\n",
    "        <td class=\"border-right-double\">0</td>\n",
    "        <td>0.55</td>\n",
    "        <td class=\"text-right\">55%</td>\n",
    "        <td class=\"text-right\">45%</td>\n",
    "        <td>A</td>\n",
    "    </tr>\n",
    "    <tr>\n",
    "        <td colspan=\"8\">$\\vdots$</td>\n",
    "    </tr>\n",
    "    <tr>\n",
    "        <td>n</td>\n",
    "        <td class=\"text-right\">-2.5</td>\n",
    "        <td>B</td>\n",
    "        <td class=\"border-right-double\">0</td>\n",
    "        <td>0.04</td>\n",
    "        <td class=\"text-right\">4%</td>\n",
    "        <td class=\"text-right\">96%</td>\n",
    "        <td>B</td>\n",
    "    </tr>\n",
    "</table>\n",
    "\n"
   ]
  },
  {
   "cell_type": "markdown",
   "metadata": {},
   "source": [
    "### ダミー変数\n",
    "---\n",
    "カテゴリ変数 (主に名義尺度) を 0 または 1 の値をとる 2 値変数に変換して数値計算可能にする手法。  \n",
    "One-hot エンコーディングとも呼ぶ。\n",
    "\n",
    "<table class=\"background-bright border text-center\">\n",
    "    <tr>\n",
    "        <th class=\"background-default border-top-none border-left-none border-bottom\" rowspan=\"2\"></th>\n",
    "        <th class=\"background-dark\">カテゴリ変数</th>\n",
    "        <td class=\"background-default border-top-none border-bottom-none\" rowspan=\"2\"></td>\n",
    "        <th class=\"background-dark\" colspan=\"3\">ダミー変数</th>\n",
    "    </tr>\n",
    "    <tr class=\"background-dark border-bottom\">\n",
    "        <th>色</th>\n",
    "        <th>赤</th>\n",
    "        <th>緑</th>\n",
    "        <th>青</th>\n",
    "    </tr>\n",
    "    <tr>\n",
    "        <td>1</td>\n",
    "        <td>赤</td>\n",
    "        <td class=\"background-default border-top-none border-bottom-none\" rowspan=\"3\">→</td>\n",
    "        <td>1</td>\n",
    "        <td>0</td>\n",
    "        <td>0</td>\n",
    "    </tr>\n",
    "    <tr>\n",
    "        <td>2</td>\n",
    "        <td>緑</td>\n",
    "        <td>0</td>\n",
    "        <td>1</td>\n",
    "        <td>0</td>\n",
    "    </tr>\n",
    "    <tr>\n",
    "        <td>3</td>\n",
    "        <td>青</td>\n",
    "        <td>0</td>\n",
    "        <td>0</td>\n",
    "        <td>1</td>\n",
    "    </tr>\n",
    "</table>\n",
    "\n",
    "ダミー変数は 1 列削っても情報は失われない (その他の変数から削除された列の値がわかる) ので、特にカテゴリの水準 (カテゴリ数) が 2 つしかない場合には 1 列だけで表現することが多い。\n",
    "\n",
    "<table class=\"background-bright border text-center\">\n",
    "    <tr>\n",
    "        <th class=\"background-default border-top-none border-left-none border-bottom\" rowspan=\"2\"></th>\n",
    "        <th class=\"background-dark\">カテゴリ変数</th>\n",
    "        <th class=\"background-default border-top-none border-bottom-none\" rowspan=\"2\"></th>\n",
    "        <th class=\"background-dark\" colspan=\"2\">ダミー変数</th>\n",
    "    </tr>\n",
    "    <tr class=\"background-dark border-bottom\">\n",
    "        <th>性別</th>\n",
    "        <th>男</th>\n",
    "    </tr>\n",
    "    <tr>\n",
    "        <td>1</td>\n",
    "        <td>男</td>\n",
    "        <td class=\"background-default border-top-none border-bottom-none\" rowspan=\"2\">→</td>\n",
    "        <td>1</td>\n",
    "    </tr>\n",
    "    <tr>\n",
    "        <td>2</td>\n",
    "        <td>女</td>\n",
    "        <td>0</td>\n",
    "    </tr>\n",
    "</table>\n",
    "\n",
    "ダミー変数を用いずに各カテゴリに $1,\\ 2,\\ 3,\\ \\cdots $ のような数値を割り振ると、カテゴリ間に順序が生じてしまうので行ってはいけない。  \n",
    "例えば、名義尺度の変数に赤 = 1 ・緑 = 2 ・青 = 3 のように割り振ると、赤 < 緑 < 青という順序尺度の変数になってしまう。"
   ]
  },
  {
   "cell_type": "markdown",
   "metadata": {},
   "source": [
    "### 確率の推定方法\n",
    "---\n",
    "回帰分析を利用すると、データから実数値 $(-\\infty \\sim \\infty)$ を推定できるので、実数値→確率 $(0\\sim 1)$ に変換できると便利。そこで、累積分布関数を使って実数を確率に変換することが考えられる。  \n",
    "その分布 (累積分布関数) にロジスティック分布 (ロジスティック関数) を使うのがロジスティック回帰。\n",
    "\n",
    "$\\displaystyle ロジスティック関数\\ f( x) =\\frac{e^{x}}{1+e^{x}} =\\frac{1}{1+e^{-x}}$"
   ]
  },
  {
   "cell_type": "markdown",
   "metadata": {},
   "source": [
    "###### 練習問題\n",
    "\n",
    "ロジスティック分布の累積分布関数のグラフを表示する。"
   ]
  },
  {
   "cell_type": "code",
   "execution_count": null,
   "metadata": {
    "solution2": "hidden",
    "solution2_first": true
   },
   "outputs": [],
   "source": []
  },
  {
   "cell_type": "code",
   "execution_count": 2,
   "metadata": {
    "solution2": "hidden"
   },
   "outputs": [
    {
     "data": {
      "image/png": "[encoded data removed]",
      "text/plain": [
       "<Figure size 432x288 with 1 Axes>"
      ]
     },
     "metadata": {
      "needs_background": "light"
     },
     "output_type": "display_data"
    }
   ],
   "source": [
    "x = np.linspace(-6, 6, 100)\n",
    "y = 1 / (1 + np.exp(-x))\n",
    "plt.plot(x, y)\n",
    "plt.show()"
   ]
  },
  {
   "cell_type": "markdown",
   "metadata": {},
   "source": [
    "ロジスティック分布は正規分布に似ているが、正規分布より計算しやすいのが特徴。"
   ]
  },
  {
   "cell_type": "markdown",
   "metadata": {},
   "source": [
    "###### 練習問題\n",
    "\n",
    "ロジスティック分布の確率密度関数のグラフを表示する。確率密度関数 $f'( x)$ は累積分布関数を $f( x)$ とすると、以下で表される。\n",
    "\n",
    "$\\displaystyle f'( x) =f( x) \\times ( 1-f( x))$"
   ]
  },
  {
   "cell_type": "code",
   "execution_count": null,
   "metadata": {
    "solution2": "hidden",
    "solution2_first": true
   },
   "outputs": [],
   "source": []
  },
  {
   "cell_type": "code",
   "execution_count": 3,
   "metadata": {
    "solution2": "hidden"
   },
   "outputs": [
    {
     "data": {
      "image/png": "[encoded data removed]",
      "text/plain": [
       "<Figure size 432x288 with 1 Axes>"
      ]
     },
     "metadata": {
      "needs_background": "light"
     },
     "output_type": "display_data"
    }
   ],
   "source": [
    "x = np.linspace(-6, 6, 100)\n",
    "f = lambda x: 1 / (1 + np.exp(-x))\n",
    "plt.plot(x, f(x) * (1 - f(x)))\n",
    "plt.show()"
   ]
  },
  {
   "cell_type": "markdown",
   "metadata": {},
   "source": [
    "### Pythonでのロジスティック回帰の実行\n",
    "---\n",
    "`sklearn.linear_model.LogisticRegression`を用いる。 scikit-learn の実装は厳密には上の説明と異なるが、引数 $C\\rightarrow \\infty $ で両者は一致する。"
   ]
  },
  {
   "cell_type": "code",
   "execution_count": 4,
   "metadata": {
    "hide_input": true
   },
   "outputs": [
    {
     "name": "stdout",
     "output_type": "stream",
     "text": [
      "clf\n"
     ]
    },
    {
     "data": {
      "text/html": [
       "<div>\n",
       "<style scoped>\n",
       "    .dataframe tbody tr th:only-of-type {\n",
       "        vertical-align: middle;\n",
       "    }\n",
       "\n",
       "    .dataframe tbody tr th {\n",
       "        vertical-align: top;\n",
       "    }\n",
       "\n",
       "    .dataframe thead th {\n",
       "        text-align: right;\n",
       "    }\n",
       "</style>\n",
       "<table border=\"1\" class=\"dataframe\">\n",
       "  <thead>\n",
       "    <tr style=\"text-align: right;\">\n",
       "      <th></th>\n",
       "      <th>x</th>\n",
       "      <th>y</th>\n",
       "    </tr>\n",
       "  </thead>\n",
       "  <tbody>\n",
       "    <tr>\n",
       "      <th>0</th>\n",
       "      <td>-0.158174</td>\n",
       "      <td>0</td>\n",
       "    </tr>\n",
       "    <tr>\n",
       "      <th>1</th>\n",
       "      <td>-2.460149</td>\n",
       "      <td>0</td>\n",
       "    </tr>\n",
       "    <tr>\n",
       "      <th>...</th>\n",
       "      <td>...</td>\n",
       "      <td>...</td>\n",
       "    </tr>\n",
       "    <tr>\n",
       "      <th>98</th>\n",
       "      <td>-1.377130</td>\n",
       "      <td>0</td>\n",
       "    </tr>\n",
       "    <tr>\n",
       "      <th>99</th>\n",
       "      <td>-0.998298</td>\n",
       "      <td>0</td>\n",
       "    </tr>\n",
       "  </tbody>\n",
       "</table>\n",
       "<p>100 rows × 2 columns</p>\n",
       "</div>"
      ],
      "text/plain": [
       "           x  y\n",
       "0  -0.158174  0\n",
       "1  -2.460149  0\n",
       "..       ... ..\n",
       "98 -1.377130  0\n",
       "99 -0.998298  0\n",
       "\n",
       "[100 rows x 2 columns]"
      ]
     },
     "metadata": {},
     "output_type": "display_data"
    }
   ],
   "source": [
    "x, y = make_classification(\n",
    "    n_features=1,\n",
    "    n_informative=1,\n",
    "    n_redundant=0,\n",
    "    n_clusters_per_class=1,\n",
    "    random_state=1234)\n",
    "clf = pd.DataFrame(dict(x=x.ravel(), y=y))\n",
    "print('clf')\n",
    "display(clf)"
   ]
  },
  {
   "cell_type": "code",
   "execution_count": 5,
   "metadata": {},
   "outputs": [],
   "source": [
    "LogisticRegression??"
   ]
  },
  {
   "cell_type": "code",
   "execution_count": 6,
   "metadata": {
    "scrolled": true
   },
   "outputs": [
    {
     "name": "stdout",
     "output_type": "stream",
     "text": [
      "予測結果\n",
      "[[6.72882972e-01 3.27117028e-01]\n",
      " [9.99232139e-01 7.67860511e-04]\n",
      " [9.08356037e-02 9.09164396e-01]\n",
      " [2.36540823e-02 9.76345918e-01]\n",
      " [9.89154917e-01 1.08450832e-02]\n",
      " [9.71701262e-01 2.82987378e-02]\n",
      " [7.99953011e-02 9.20004699e-01]\n",
      " [8.09891126e-02 9.19010887e-01]\n",
      " [7.11238109e-02 9.28876189e-01]\n",
      " [4.18986599e-02 9.58101340e-01]\n",
      " [9.93940048e-01 6.05995164e-03]\n",
      " [9.99570273e-01 4.29727491e-04]\n",
      " [3.02102094e-02 9.69789791e-01]\n",
      " [1.89719497e-01 8.10280503e-01]\n",
      " [9.33668356e-01 6.63316435e-02]\n",
      " [1.36212955e-01 8.63787045e-01]\n",
      " [5.53429584e-02 9.44657042e-01]\n",
      " [9.70466176e-01 2.95338236e-02]\n",
      " [7.58536916e-03 9.92414631e-01]\n",
      " [8.97251114e-01 1.02748886e-01]\n",
      " [9.10535459e-01 8.94645415e-02]\n",
      " [1.57533559e-02 9.84246644e-01]\n",
      " [5.90200536e-02 9.40979946e-01]\n",
      " [7.78625996e-03 9.92213740e-01]\n",
      " [2.08456809e-01 7.91543191e-01]\n",
      " [9.89614686e-01 1.03853142e-02]\n",
      " [9.48259538e-01 5.17404620e-02]\n",
      " [9.54549505e-01 4.54504953e-02]\n",
      " [9.99515045e-01 4.84955433e-04]\n",
      " [6.99835450e-01 3.00164550e-01]\n",
      " [9.78796517e-01 2.12034825e-02]\n",
      " [5.63238029e-01 4.36761971e-01]\n",
      " [1.06708446e-01 8.93291554e-01]\n",
      " [5.26292680e-01 4.73707320e-01]\n",
      " [3.99800106e-02 9.60019989e-01]\n",
      " [6.67212977e-01 3.32787023e-01]\n",
      " [9.96863577e-01 3.13642282e-03]\n",
      " [4.48483510e-02 9.55151649e-01]\n",
      " [9.99705382e-01 2.94618230e-04]\n",
      " [5.27980113e-01 4.72019887e-01]\n",
      " [8.62219375e-01 1.37780625e-01]\n",
      " [6.20239112e-01 3.79760888e-01]\n",
      " [7.70782632e-02 9.22921737e-01]\n",
      " [9.87324829e-01 1.26751707e-02]\n",
      " [5.05200020e-02 9.49479998e-01]\n",
      " [7.56803022e-01 2.43196978e-01]\n",
      " [7.58509974e-01 2.41490026e-01]\n",
      " [5.80582708e-02 9.41941729e-01]\n",
      " [8.26384050e-02 9.17361595e-01]\n",
      " [9.77771858e-01 2.22281417e-02]\n",
      " [2.88790423e-01 7.11209577e-01]\n",
      " [7.65820852e-01 2.34179148e-01]\n",
      " [1.65921987e-01 8.34078013e-01]\n",
      " [5.31386582e-02 9.46861342e-01]\n",
      " [9.66263492e-01 3.37365084e-02]\n",
      " [4.63591344e-01 5.36408656e-01]\n",
      " [1.32205470e-02 9.86779453e-01]\n",
      " [6.29456897e-02 9.37054310e-01]\n",
      " [3.42620484e-02 9.65737952e-01]\n",
      " [7.98843933e-01 2.01156067e-01]\n",
      " [4.47328505e-02 9.55267149e-01]\n",
      " [9.52509981e-01 4.74900190e-02]\n",
      " [1.16494097e-01 8.83505903e-01]\n",
      " [9.25672131e-01 7.43278690e-02]\n",
      " [8.32070332e-01 1.67929668e-01]\n",
      " [9.98590253e-01 1.40974665e-03]\n",
      " [8.65544572e-02 9.13445543e-01]\n",
      " [6.81012682e-02 9.31898732e-01]\n",
      " [9.30556128e-01 6.94438717e-02]\n",
      " [1.12952689e-01 8.87047311e-01]\n",
      " [6.73695390e-01 3.26304610e-01]\n",
      " [7.17779672e-01 2.82220328e-01]\n",
      " [9.25810265e-02 9.07418974e-01]\n",
      " [1.31321843e-01 8.68678157e-01]\n",
      " [7.46955756e-01 2.53044244e-01]\n",
      " [9.42630229e-01 5.73697715e-02]\n",
      " [3.71391247e-02 9.62860875e-01]\n",
      " [9.91008278e-01 8.99172222e-03]\n",
      " [3.19247208e-02 9.68075279e-01]\n",
      " [2.99321294e-01 7.00678706e-01]\n",
      " [2.49963965e-02 9.75003604e-01]\n",
      " [9.54295554e-01 4.57044457e-02]\n",
      " [1.98403522e-01 8.01596478e-01]\n",
      " [8.26194773e-01 1.73805227e-01]\n",
      " [9.81579979e-01 1.84200208e-02]\n",
      " [1.70771340e-02 9.82922866e-01]\n",
      " [9.78262832e-01 2.17371678e-02]\n",
      " [2.31224053e-01 7.68775947e-01]\n",
      " [8.82724238e-01 1.17275762e-01]\n",
      " [9.19015453e-01 8.09845468e-02]\n",
      " [9.67326177e-01 3.26738234e-02]\n",
      " [2.33293487e-01 7.66706513e-01]\n",
      " [4.16771385e-02 9.58322861e-01]\n",
      " [1.26595291e-01 8.73404709e-01]\n",
      " [2.93932687e-02 9.70606731e-01]\n",
      " [3.42431974e-02 9.65756803e-01]\n",
      " [2.16421777e-01 7.83578223e-01]\n",
      " [6.21382903e-02 9.37861710e-01]\n",
      " [9.84274704e-01 1.57252957e-02]\n",
      " [9.55857581e-01 4.41424193e-02]]\n",
      "クラス1の確率\n",
      "[3.27117028e-01 7.67860511e-04 9.09164396e-01 9.76345918e-01\n",
      " 1.08450832e-02 2.82987378e-02 9.20004699e-01 9.19010887e-01\n",
      " 9.28876189e-01 9.58101340e-01 6.05995164e-03 4.29727491e-04\n",
      " 9.69789791e-01 8.10280503e-01 6.63316435e-02 8.63787045e-01\n",
      " 9.44657042e-01 2.95338236e-02 9.92414631e-01 1.02748886e-01\n",
      " 8.94645415e-02 9.84246644e-01 9.40979946e-01 9.92213740e-01\n",
      " 7.91543191e-01 1.03853142e-02 5.17404620e-02 4.54504953e-02\n",
      " 4.84955433e-04 3.00164550e-01 2.12034825e-02 4.36761971e-01\n",
      " 8.93291554e-01 4.73707320e-01 9.60019989e-01 3.32787023e-01\n",
      " 3.13642282e-03 9.55151649e-01 2.94618230e-04 4.72019887e-01\n",
      " 1.37780625e-01 3.79760888e-01 9.22921737e-01 1.26751707e-02\n",
      " 9.49479998e-01 2.43196978e-01 2.41490026e-01 9.41941729e-01\n",
      " 9.17361595e-01 2.22281417e-02 7.11209577e-01 2.34179148e-01\n",
      " 8.34078013e-01 9.46861342e-01 3.37365084e-02 5.36408656e-01\n",
      " 9.86779453e-01 9.37054310e-01 9.65737952e-01 2.01156067e-01\n",
      " 9.55267149e-01 4.74900190e-02 8.83505903e-01 7.43278690e-02\n",
      " 1.67929668e-01 1.40974665e-03 9.13445543e-01 9.31898732e-01\n",
      " 6.94438717e-02 8.87047311e-01 3.26304610e-01 2.82220328e-01\n",
      " 9.07418974e-01 8.68678157e-01 2.53044244e-01 5.73697715e-02\n",
      " 9.62860875e-01 8.99172222e-03 9.68075279e-01 7.00678706e-01\n",
      " 9.75003604e-01 4.57044457e-02 8.01596478e-01 1.73805227e-01\n",
      " 1.84200208e-02 9.82922866e-01 2.17371678e-02 7.68775947e-01\n",
      " 1.17275762e-01 8.09845468e-02 3.26738234e-02 7.66706513e-01\n",
      " 9.58322861e-01 8.73404709e-01 9.70606731e-01 9.65756803e-01\n",
      " 7.83578223e-01 9.37861710e-01 1.57252957e-02 4.41424193e-02]\n"
     ]
    },
    {
     "name": "stderr",
     "output_type": "stream",
     "text": [
      "/root/local/python-3.6.8/lib/python3.6/site-packages/sklearn/linear_model/logistic.py:433: FutureWarning: Default solver will be changed to 'lbfgs' in 0.22. Specify a solver to silence this warning.\n",
      "  FutureWarning)\n"
     ]
    }
   ],
   "source": [
    "# 最初にインスタンスを作成\n",
    "model = LogisticRegression()\n",
    "# fitメソッドで分布関数を求める\n",
    "# xはサイズが(サンプル数 × 変数の数)の行列でなければならない\n",
    "x = clf['x'].values.reshape((-1, 1))\n",
    "y = clf['y']\n",
    "model.fit(x, y)\n",
    "# 予測した確率はpredict_probaで得られる\n",
    "# 予測結果は[クラス0の確率, クラス1の確率]の配列\n",
    "print('予測結果')\n",
    "print(model.predict_proba(x))\n",
    "# クラス1の確率のみ得るには列を取り出す\n",
    "print('クラス1の確率')\n",
    "print(model.predict_proba(x)[:, 1])"
   ]
  },
  {
   "cell_type": "markdown",
   "metadata": {},
   "source": [
    "###### 練習問題\n",
    "\n",
    "clfデータセットの散布図とclfデータセットから学習したロジスティック回帰の予測曲線 (累積分布関数) を表示する。"
   ]
  },
  {
   "cell_type": "code",
   "execution_count": null,
   "metadata": {
    "solution2": "hidden",
    "solution2_first": true
   },
   "outputs": [],
   "source": []
  },
  {
   "cell_type": "code",
   "execution_count": 7,
   "metadata": {
    "solution2": "hidden"
   },
   "outputs": [
    {
     "name": "stderr",
     "output_type": "stream",
     "text": [
      "/root/local/python-3.6.8/lib/python3.6/site-packages/sklearn/linear_model/logistic.py:433: FutureWarning: Default solver will be changed to 'lbfgs' in 0.22. Specify a solver to silence this warning.\n",
      "  FutureWarning)\n"
     ]
    },
    {
     "data": {
      "image/png": "[encoded data removed]",
      "text/plain": [
       "<Figure size 432x288 with 1 Axes>"
      ]
     },
     "metadata": {
      "needs_background": "light"
     },
     "output_type": "display_data"
    }
   ],
   "source": [
    "x = clf['x'].values.reshape((-1, 1))\n",
    "y = clf['y']\n",
    "model = LogisticRegression()\n",
    "model.fit(x, y)\n",
    "xx = np.linspace(x.min(), x.max(), 100).reshape((-1, 1))\n",
    "plt.scatter(x, y)\n",
    "plt.plot(xx, model.predict_proba(xx)[:, 1])\n",
    "plt.show()"
   ]
  }
 ],
 "metadata": {
  "kernelspec": {
   "display_name": "Python 3",
   "language": "python",
   "name": "python3"
  },
  "language_info": {
   "codemirror_mode": {
    "name": "ipython",
    "version": 3
   },
   "file_extension": ".py",
   "mimetype": "text/x-python",
   "name": "python",
   "nbconvert_exporter": "python",
   "pygments_lexer": "ipython3",
   "version": "3.6.8"
  },
  "toc": {
   "base_numbering": 1,
   "nav_menu": {},
   "number_sections": true,
   "sideBar": true,
   "skip_h1_title": true,
   "title_cell": "Table of Contents",
   "title_sidebar": "Contents",
   "toc_cell": false,
   "toc_position": {},
   "toc_section_display": true,
   "toc_window_display": true
  },
  "varInspector": {
   "cols": {
    "lenName": 16,
    "lenType": 16,
    "lenVar": 40
   },
   "kernels_config": {
    "python": {
     "delete_cmd_postfix": "",
     "delete_cmd_prefix": "del ",
     "library": "var_list.py",
     "varRefreshCmd": "print(var_dic_list())"
    },
    "r": {
     "delete_cmd_postfix": ") ",
     "delete_cmd_prefix": "rm(",
     "library": "var_list.r",
     "varRefreshCmd": "cat(var_dic_list()) "
    }
   },
   "types_to_exclude": [
    "module",
    "function",
    "builtin_function_or_method",
    "instance",
    "_Feature"
   ],
   "window_display": false
  }
 },
 "nbformat": 4,
 "nbformat_minor": 2
}
