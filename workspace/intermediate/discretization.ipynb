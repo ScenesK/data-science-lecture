{
 "cells": [
  {
   "cell_type": "code",
   "execution_count": 1,
   "metadata": {},
   "outputs": [],
   "source": [
    "import numpy as np\n",
    "import pandas as pd\n",
    "from sklearn.preprocessing import KBinsDiscretizer\n",
    "import seaborn as sns\n",
    "from IPython.display import display\n",
    "pd.set_option('max_rows', 5)"
   ]
  },
  {
   "cell_type": "markdown",
   "metadata": {},
   "source": [
    "# 離散化"
   ]
  },
  {
   "cell_type": "markdown",
   "metadata": {},
   "source": [
    "## 離散化の効果\n",
    "---\n",
    "連続変数をカテゴリ変数化することを離散化という。  \n",
    "連続変数のほうが含まれる情報は多いが、例えば年齢を 10 歳ごとの階級に分割するなどしたほうがデータの理解がしやすかったり、単純な線形でない関係を捉えられたりするため、離散化することがある。"
   ]
  },
  {
   "cell_type": "markdown",
   "metadata": {},
   "source": [
    "## 等間隔に分割\n",
    "---\n",
    "年齢を 10 歳ごとの階級に分割するなど、各階級の幅が等しくなるように分割。"
   ]
  },
  {
   "cell_type": "markdown",
   "metadata": {},
   "source": [
    "### Pythonでの等間隔階級への分割の実行方法\n",
    "---\n",
    "`pandas.cut`または`sklearn.preprocessing.KBinsDiscretizer`を使用する。"
   ]
  },
  {
   "cell_type": "code",
   "execution_count": 2,
   "metadata": {
    "hide_input": true,
    "jupyter": {
     "source_hidden": true
    }
   },
   "outputs": [
    {
     "name": "stdout",
     "output_type": "stream",
     "text": [
      "fare\n"
     ]
    },
    {
     "data": {
      "text/plain": [
       "0       7.2500\n",
       "1      71.2833\n",
       "        ...   \n",
       "889    30.0000\n",
       "890     7.7500\n",
       "Name: fare, Length: 891, dtype: float64"
      ]
     },
     "metadata": {},
     "output_type": "display_data"
    }
   ],
   "source": [
    "fare = sns.load_dataset('titanic')['fare']\n",
    "print('fare')\n",
    "display(fare)"
   ]
  },
  {
   "cell_type": "code",
   "execution_count": 3,
   "metadata": {
    "collapsed": true,
    "jupyter": {
     "outputs_hidden": true
    }
   },
   "outputs": [
    {
     "name": "stdout",
     "output_type": "stream",
     "text": [
      "Help on function cut in module pandas.core.reshape.tile:\n",
      "\n",
      "cut(x, bins, right: bool = True, labels=None, retbins: bool = False, precision: int = 3, include_lowest: bool = False, duplicates: str = 'raise')\n",
      "    Bin values into discrete intervals.\n",
      "    \n",
      "    Use `cut` when you need to segment and sort data values into bins. This\n",
      "    function is also useful for going from a continuous variable to a\n",
      "    categorical variable. For example, `cut` could convert ages to groups of\n",
      "    age ranges. Supports binning into an equal number of bins, or a\n",
      "    pre-specified array of bins.\n",
      "    \n",
      "    Parameters\n",
      "    ----------\n",
      "    x : array-like\n",
      "        The input array to be binned. Must be 1-dimensional.\n",
      "    bins : int, sequence of scalars, or IntervalIndex\n",
      "        The criteria to bin by.\n",
      "    \n",
      "        * int : Defines the number of equal-width bins in the range of `x`. The\n",
      "          range of `x` is extended by .1% on each side to include the minimum\n",
      "          and maximum values of `x`.\n",
      "        * sequence of scalars : Defines the bin edges allowing for non-uniform\n",
      "          width. No extension of the range of `x` is done.\n",
      "        * IntervalIndex : Defines the exact bins to be used. Note that\n",
      "          IntervalIndex for `bins` must be non-overlapping.\n",
      "    \n",
      "    right : bool, default True\n",
      "        Indicates whether `bins` includes the rightmost edge or not. If\n",
      "        ``right == True`` (the default), then the `bins` ``[1, 2, 3, 4]``\n",
      "        indicate (1,2], (2,3], (3,4]. This argument is ignored when\n",
      "        `bins` is an IntervalIndex.\n",
      "    labels : array or False, default None\n",
      "        Specifies the labels for the returned bins. Must be the same length as\n",
      "        the resulting bins. If False, returns only integer indicators of the\n",
      "        bins. This affects the type of the output container (see below).\n",
      "        This argument is ignored when `bins` is an IntervalIndex. If True,\n",
      "        raises an error.\n",
      "    retbins : bool, default False\n",
      "        Whether to return the bins or not. Useful when bins is provided\n",
      "        as a scalar.\n",
      "    precision : int, default 3\n",
      "        The precision at which to store and display the bins labels.\n",
      "    include_lowest : bool, default False\n",
      "        Whether the first interval should be left-inclusive or not.\n",
      "    duplicates : {default 'raise', 'drop'}, optional\n",
      "        If bin edges are not unique, raise ValueError or drop non-uniques.\n",
      "    \n",
      "        .. versionadded:: 0.23.0\n",
      "    \n",
      "    Returns\n",
      "    -------\n",
      "    out : Categorical, Series, or ndarray\n",
      "        An array-like object representing the respective bin for each value\n",
      "        of `x`. The type depends on the value of `labels`.\n",
      "    \n",
      "        * True (default) : returns a Series for Series `x` or a\n",
      "          Categorical for all other inputs. The values stored within\n",
      "          are Interval dtype.\n",
      "    \n",
      "        * sequence of scalars : returns a Series for Series `x` or a\n",
      "          Categorical for all other inputs. The values stored within\n",
      "          are whatever the type in the sequence is.\n",
      "    \n",
      "        * False : returns an ndarray of integers.\n",
      "    \n",
      "    bins : numpy.ndarray or IntervalIndex.\n",
      "        The computed or specified bins. Only returned when `retbins=True`.\n",
      "        For scalar or sequence `bins`, this is an ndarray with the computed\n",
      "        bins. If set `duplicates=drop`, `bins` will drop non-unique bin. For\n",
      "        an IntervalIndex `bins`, this is equal to `bins`.\n",
      "    \n",
      "    See Also\n",
      "    --------\n",
      "    qcut : Discretize variable into equal-sized buckets based on rank\n",
      "        or based on sample quantiles.\n",
      "    Categorical : Array type for storing data that come from a\n",
      "        fixed set of values.\n",
      "    Series : One-dimensional array with axis labels (including time series).\n",
      "    IntervalIndex : Immutable Index implementing an ordered, sliceable set.\n",
      "    \n",
      "    Notes\n",
      "    -----\n",
      "    Any NA values will be NA in the result. Out of bounds values will be NA in\n",
      "    the resulting Series or Categorical object.\n",
      "    \n",
      "    Examples\n",
      "    --------\n",
      "    Discretize into three equal-sized bins.\n",
      "    \n",
      "    >>> pd.cut(np.array([1, 7, 5, 4, 6, 3]), 3)\n",
      "    ... # doctest: +ELLIPSIS\n",
      "    [(0.994, 3.0], (5.0, 7.0], (3.0, 5.0], (3.0, 5.0], (5.0, 7.0], ...\n",
      "    Categories (3, interval[float64]): [(0.994, 3.0] < (3.0, 5.0] ...\n",
      "    \n",
      "    >>> pd.cut(np.array([1, 7, 5, 4, 6, 3]), 3, retbins=True)\n",
      "    ... # doctest: +ELLIPSIS\n",
      "    ([(0.994, 3.0], (5.0, 7.0], (3.0, 5.0], (3.0, 5.0], (5.0, 7.0], ...\n",
      "    Categories (3, interval[float64]): [(0.994, 3.0] < (3.0, 5.0] ...\n",
      "    array([0.994, 3.   , 5.   , 7.   ]))\n",
      "    \n",
      "    Discovers the same bins, but assign them specific labels. Notice that\n",
      "    the returned Categorical's categories are `labels` and is ordered.\n",
      "    \n",
      "    >>> pd.cut(np.array([1, 7, 5, 4, 6, 3]),\n",
      "    ...        3, labels=[\"bad\", \"medium\", \"good\"])\n",
      "    [bad, good, medium, medium, good, bad]\n",
      "    Categories (3, object): [bad < medium < good]\n",
      "    \n",
      "    ``labels=False`` implies you just want the bins back.\n",
      "    \n",
      "    >>> pd.cut([0, 1, 1, 2], bins=4, labels=False)\n",
      "    array([0, 1, 1, 3])\n",
      "    \n",
      "    Passing a Series as an input returns a Series with categorical dtype:\n",
      "    \n",
      "    >>> s = pd.Series(np.array([2, 4, 6, 8, 10]),\n",
      "    ...               index=['a', 'b', 'c', 'd', 'e'])\n",
      "    >>> pd.cut(s, 3)\n",
      "    ... # doctest: +ELLIPSIS\n",
      "    a    (1.992, 4.667]\n",
      "    b    (1.992, 4.667]\n",
      "    c    (4.667, 7.333]\n",
      "    d     (7.333, 10.0]\n",
      "    e     (7.333, 10.0]\n",
      "    dtype: category\n",
      "    Categories (3, interval[float64]): [(1.992, 4.667] < (4.667, ...\n",
      "    \n",
      "    Passing a Series as an input returns a Series with mapping value.\n",
      "    It is used to map numerically to intervals based on bins.\n",
      "    \n",
      "    >>> s = pd.Series(np.array([2, 4, 6, 8, 10]),\n",
      "    ...               index=['a', 'b', 'c', 'd', 'e'])\n",
      "    >>> pd.cut(s, [0, 2, 4, 6, 8, 10], labels=False, retbins=True, right=False)\n",
      "    ... # doctest: +ELLIPSIS\n",
      "    (a    0.0\n",
      "     b    1.0\n",
      "     c    2.0\n",
      "     d    3.0\n",
      "     e    4.0\n",
      "     dtype: float64, array([0, 2, 4, 6, 8]))\n",
      "    \n",
      "    Use `drop` optional when bins is not unique\n",
      "    \n",
      "    >>> pd.cut(s, [0, 2, 4, 6, 10, 10], labels=False, retbins=True,\n",
      "    ...        right=False, duplicates='drop')\n",
      "    ... # doctest: +ELLIPSIS\n",
      "    (a    0.0\n",
      "     b    1.0\n",
      "     c    2.0\n",
      "     d    3.0\n",
      "     e    3.0\n",
      "     dtype: float64, array([0, 2, 4, 6, 8]))\n",
      "    \n",
      "    Passing an IntervalIndex for `bins` results in those categories exactly.\n",
      "    Notice that values not covered by the IntervalIndex are set to NaN. 0\n",
      "    is to the left of the first bin (which is closed on the right), and 1.5\n",
      "    falls between two bins.\n",
      "    \n",
      "    >>> bins = pd.IntervalIndex.from_tuples([(0, 1), (2, 3), (4, 5)])\n",
      "    >>> pd.cut([0, 0.5, 1.5, 2.5, 4.5], bins)\n",
      "    [NaN, (0, 1], NaN, (2, 3], (4, 5]]\n",
      "    Categories (3, interval[int64]): [(0, 1] < (2, 3] < (4, 5]]\n",
      "\n"
     ]
    }
   ],
   "source": [
    "help(pd.cut)"
   ]
  },
  {
   "cell_type": "code",
   "execution_count": 4,
   "metadata": {},
   "outputs": [
    {
     "data": {
      "text/plain": [
       "0      (-0.512, 102.466]\n",
       "1      (-0.512, 102.466]\n",
       "             ...        \n",
       "889    (-0.512, 102.466]\n",
       "890    (-0.512, 102.466]\n",
       "Name: fare, Length: 891, dtype: category\n",
       "Categories (5, interval[float64]): [(-0.512, 102.466] < (102.466, 204.932] < (204.932, 307.398] < (307.398, 409.863] < (409.863, 512.329]]"
      ]
     },
     "execution_count": 4,
     "metadata": {},
     "output_type": "execute_result"
    }
   ],
   "source": [
    "pd.cut(fare, 5)"
   ]
  },
  {
   "cell_type": "code",
   "execution_count": 5,
   "metadata": {
    "collapsed": true,
    "jupyter": {
     "outputs_hidden": true
    }
   },
   "outputs": [
    {
     "name": "stdout",
     "output_type": "stream",
     "text": [
      "Help on class KBinsDiscretizer in module sklearn.preprocessing._discretization:\n",
      "\n",
      "class KBinsDiscretizer(sklearn.base.TransformerMixin, sklearn.base.BaseEstimator)\n",
      " |  KBinsDiscretizer(n_bins=5, *, encode='onehot', strategy='quantile')\n",
      " |  \n",
      " |  Bin continuous data into intervals.\n",
      " |  \n",
      " |  Read more in the :ref:`User Guide <preprocessing_discretization>`.\n",
      " |  \n",
      " |  .. versionadded:: 0.20\n",
      " |  \n",
      " |  Parameters\n",
      " |  ----------\n",
      " |  n_bins : int or array-like, shape (n_features,) (default=5)\n",
      " |      The number of bins to produce. Raises ValueError if ``n_bins < 2``.\n",
      " |  \n",
      " |  encode : {'onehot', 'onehot-dense', 'ordinal'}, (default='onehot')\n",
      " |      Method used to encode the transformed result.\n",
      " |  \n",
      " |      onehot\n",
      " |          Encode the transformed result with one-hot encoding\n",
      " |          and return a sparse matrix. Ignored features are always\n",
      " |          stacked to the right.\n",
      " |      onehot-dense\n",
      " |          Encode the transformed result with one-hot encoding\n",
      " |          and return a dense array. Ignored features are always\n",
      " |          stacked to the right.\n",
      " |      ordinal\n",
      " |          Return the bin identifier encoded as an integer value.\n",
      " |  \n",
      " |  strategy : {'uniform', 'quantile', 'kmeans'}, (default='quantile')\n",
      " |      Strategy used to define the widths of the bins.\n",
      " |  \n",
      " |      uniform\n",
      " |          All bins in each feature have identical widths.\n",
      " |      quantile\n",
      " |          All bins in each feature have the same number of points.\n",
      " |      kmeans\n",
      " |          Values in each bin have the same nearest center of a 1D k-means\n",
      " |          cluster.\n",
      " |  \n",
      " |  Attributes\n",
      " |  ----------\n",
      " |  n_bins_ : int array, shape (n_features,)\n",
      " |      Number of bins per feature. Bins whose width are too small\n",
      " |      (i.e., <= 1e-8) are removed with a warning.\n",
      " |  \n",
      " |  bin_edges_ : array of arrays, shape (n_features, )\n",
      " |      The edges of each bin. Contain arrays of varying shapes ``(n_bins_, )``\n",
      " |      Ignored features will have empty arrays.\n",
      " |  \n",
      " |  See Also\n",
      " |  --------\n",
      " |   sklearn.preprocessing.Binarizer : Class used to bin values as ``0`` or\n",
      " |      ``1`` based on a parameter ``threshold``.\n",
      " |  \n",
      " |  Notes\n",
      " |  -----\n",
      " |  In bin edges for feature ``i``, the first and last values are used only for\n",
      " |  ``inverse_transform``. During transform, bin edges are extended to::\n",
      " |  \n",
      " |    np.concatenate([-np.inf, bin_edges_[i][1:-1], np.inf])\n",
      " |  \n",
      " |  You can combine ``KBinsDiscretizer`` with\n",
      " |  :class:`sklearn.compose.ColumnTransformer` if you only want to preprocess\n",
      " |  part of the features.\n",
      " |  \n",
      " |  ``KBinsDiscretizer`` might produce constant features (e.g., when\n",
      " |  ``encode = 'onehot'`` and certain bins do not contain any data).\n",
      " |  These features can be removed with feature selection algorithms\n",
      " |  (e.g., :class:`sklearn.feature_selection.VarianceThreshold`).\n",
      " |  \n",
      " |  Examples\n",
      " |  --------\n",
      " |  >>> X = [[-2, 1, -4,   -1],\n",
      " |  ...      [-1, 2, -3, -0.5],\n",
      " |  ...      [ 0, 3, -2,  0.5],\n",
      " |  ...      [ 1, 4, -1,    2]]\n",
      " |  >>> est = KBinsDiscretizer(n_bins=3, encode='ordinal', strategy='uniform')\n",
      " |  >>> est.fit(X)\n",
      " |  KBinsDiscretizer(...)\n",
      " |  >>> Xt = est.transform(X)\n",
      " |  >>> Xt  # doctest: +SKIP\n",
      " |  array([[ 0., 0., 0., 0.],\n",
      " |         [ 1., 1., 1., 0.],\n",
      " |         [ 2., 2., 2., 1.],\n",
      " |         [ 2., 2., 2., 2.]])\n",
      " |  \n",
      " |  Sometimes it may be useful to convert the data back into the original\n",
      " |  feature space. The ``inverse_transform`` function converts the binned\n",
      " |  data into the original feature space. Each value will be equal to the mean\n",
      " |  of the two bin edges.\n",
      " |  \n",
      " |  >>> est.bin_edges_[0]\n",
      " |  array([-2., -1.,  0.,  1.])\n",
      " |  >>> est.inverse_transform(Xt)\n",
      " |  array([[-1.5,  1.5, -3.5, -0.5],\n",
      " |         [-0.5,  2.5, -2.5, -0.5],\n",
      " |         [ 0.5,  3.5, -1.5,  0.5],\n",
      " |         [ 0.5,  3.5, -1.5,  1.5]])\n",
      " |  \n",
      " |  Method resolution order:\n",
      " |      KBinsDiscretizer\n",
      " |      sklearn.base.TransformerMixin\n",
      " |      sklearn.base.BaseEstimator\n",
      " |      builtins.object\n",
      " |  \n",
      " |  Methods defined here:\n",
      " |  \n",
      " |  __init__(self, n_bins=5, *, encode='onehot', strategy='quantile')\n",
      " |      Initialize self.  See help(type(self)) for accurate signature.\n",
      " |  \n",
      " |  fit(self, X, y=None)\n",
      " |      Fit the estimator.\n",
      " |      \n",
      " |      Parameters\n",
      " |      ----------\n",
      " |      X : numeric array-like, shape (n_samples, n_features)\n",
      " |          Data to be discretized.\n",
      " |      \n",
      " |      y : None\n",
      " |          Ignored. This parameter exists only for compatibility with\n",
      " |          :class:`sklearn.pipeline.Pipeline`.\n",
      " |      \n",
      " |      Returns\n",
      " |      -------\n",
      " |      self\n",
      " |  \n",
      " |  inverse_transform(self, Xt)\n",
      " |      Transform discretized data back to original feature space.\n",
      " |      \n",
      " |      Note that this function does not regenerate the original data\n",
      " |      due to discretization rounding.\n",
      " |      \n",
      " |      Parameters\n",
      " |      ----------\n",
      " |      Xt : numeric array-like, shape (n_sample, n_features)\n",
      " |          Transformed data in the binned space.\n",
      " |      \n",
      " |      Returns\n",
      " |      -------\n",
      " |      Xinv : numeric array-like\n",
      " |          Data in the original feature space.\n",
      " |  \n",
      " |  transform(self, X)\n",
      " |      Discretize the data.\n",
      " |      \n",
      " |      Parameters\n",
      " |      ----------\n",
      " |      X : numeric array-like, shape (n_samples, n_features)\n",
      " |          Data to be discretized.\n",
      " |      \n",
      " |      Returns\n",
      " |      -------\n",
      " |      Xt : numeric array-like or sparse matrix\n",
      " |          Data in the binned space.\n",
      " |  \n",
      " |  ----------------------------------------------------------------------\n",
      " |  Methods inherited from sklearn.base.TransformerMixin:\n",
      " |  \n",
      " |  fit_transform(self, X, y=None, **fit_params)\n",
      " |      Fit to data, then transform it.\n",
      " |      \n",
      " |      Fits transformer to X and y with optional parameters fit_params\n",
      " |      and returns a transformed version of X.\n",
      " |      \n",
      " |      Parameters\n",
      " |      ----------\n",
      " |      X : {array-like, sparse matrix, dataframe} of shape                 (n_samples, n_features)\n",
      " |      \n",
      " |      y : ndarray of shape (n_samples,), default=None\n",
      " |          Target values.\n",
      " |      \n",
      " |      **fit_params : dict\n",
      " |          Additional fit parameters.\n",
      " |      \n",
      " |      Returns\n",
      " |      -------\n",
      " |      X_new : ndarray array of shape (n_samples, n_features_new)\n",
      " |          Transformed array.\n",
      " |  \n",
      " |  ----------------------------------------------------------------------\n",
      " |  Data descriptors inherited from sklearn.base.TransformerMixin:\n",
      " |  \n",
      " |  __dict__\n",
      " |      dictionary for instance variables (if defined)\n",
      " |  \n",
      " |  __weakref__\n",
      " |      list of weak references to the object (if defined)\n",
      " |  \n",
      " |  ----------------------------------------------------------------------\n",
      " |  Methods inherited from sklearn.base.BaseEstimator:\n",
      " |  \n",
      " |  __getstate__(self)\n",
      " |  \n",
      " |  __repr__(self, N_CHAR_MAX=700)\n",
      " |      Return repr(self).\n",
      " |  \n",
      " |  __setstate__(self, state)\n",
      " |  \n",
      " |  get_params(self, deep=True)\n",
      " |      Get parameters for this estimator.\n",
      " |      \n",
      " |      Parameters\n",
      " |      ----------\n",
      " |      deep : bool, default=True\n",
      " |          If True, will return the parameters for this estimator and\n",
      " |          contained subobjects that are estimators.\n",
      " |      \n",
      " |      Returns\n",
      " |      -------\n",
      " |      params : mapping of string to any\n",
      " |          Parameter names mapped to their values.\n",
      " |  \n",
      " |  set_params(self, **params)\n",
      " |      Set the parameters of this estimator.\n",
      " |      \n",
      " |      The method works on simple estimators as well as on nested objects\n",
      " |      (such as pipelines). The latter have parameters of the form\n",
      " |      ``<component>__<parameter>`` so that it's possible to update each\n",
      " |      component of a nested object.\n",
      " |      \n",
      " |      Parameters\n",
      " |      ----------\n",
      " |      **params : dict\n",
      " |          Estimator parameters.\n",
      " |      \n",
      " |      Returns\n",
      " |      -------\n",
      " |      self : object\n",
      " |          Estimator instance.\n",
      "\n"
     ]
    }
   ],
   "source": [
    "help(KBinsDiscretizer)"
   ]
  },
  {
   "cell_type": "code",
   "execution_count": 6,
   "metadata": {},
   "outputs": [
    {
     "name": "stdout",
     "output_type": "stream",
     "text": [
      "interval: ['0.0~102.46584', '102.46584~204.93168', '204.93168~307.39752', '307.39752~409.86336', '409.86336~512.3292']\n"
     ]
    },
    {
     "data": {
      "text/plain": [
       "0      0.0\n",
       "1      0.0\n",
       "      ... \n",
       "889    0.0\n",
       "890    0.0\n",
       "Length: 891, dtype: float64"
      ]
     },
     "metadata": {},
     "output_type": "display_data"
    }
   ],
   "source": [
    "range_transformer = KBinsDiscretizer(n_bins=5,\n",
    "                                     encode='ordinal',\n",
    "                                     strategy='uniform')\n",
    "range_transformer.fit(fare.values.reshape((-1, 1)))\n",
    "edges = range_transformer.bin_edges_[0]\n",
    "interval = [f'{edges[i]}~{edges[i+1]}' for i in range(edges.size - 1)]\n",
    "print(f'interval: {interval}')\n",
    "display(\n",
    "    pd.Series(\n",
    "        range_transformer.transform(fare.values.reshape((-1, 1))).ravel()))"
   ]
  },
  {
   "cell_type": "markdown",
   "metadata": {},
   "source": [
    "練習問題\n",
    "\n",
    "---\n",
    "`age`データセットを 0 歳 ~ 80 歳 まで 10 歳刻みで離散化する。 (`sklearn.preprocessing.KBinsDiscretizer`は間隔を指定できないので、`pandas.cut`を使用する)"
   ]
  },
  {
   "cell_type": "code",
   "execution_count": 7,
   "metadata": {
    "hide_input": true,
    "jupyter": {
     "source_hidden": true
    }
   },
   "outputs": [
    {
     "name": "stdout",
     "output_type": "stream",
     "text": [
      "age\n"
     ]
    },
    {
     "data": {
      "text/plain": [
       "0      22.0\n",
       "1      38.0\n",
       "       ... \n",
       "889    26.0\n",
       "890    32.0\n",
       "Name: age, Length: 891, dtype: float64"
      ]
     },
     "metadata": {},
     "output_type": "display_data"
    }
   ],
   "source": [
    "age = sns.load_dataset('titanic')['age']\n",
    "age.fillna(0.0, inplace=True)\n",
    "print('age')\n",
    "display(age)"
   ]
  },
  {
   "cell_type": "code",
   "execution_count": null,
   "metadata": {},
   "outputs": [],
   "source": []
  },
  {
   "cell_type": "markdown",
   "metadata": {
    "solution2": "hidden",
    "solution2_first": true
   },
   "source": [
    "解答例\n",
    "\n",
    "---"
   ]
  },
  {
   "cell_type": "code",
   "execution_count": 8,
   "metadata": {
    "collapsed": true,
    "jupyter": {
     "outputs_hidden": true,
     "source_hidden": true
    },
    "solution2": "hidden"
   },
   "outputs": [
    {
     "data": {
      "text/plain": [
       "0      (20, 30]\n",
       "1      (30, 40]\n",
       "         ...   \n",
       "889    (20, 30]\n",
       "890    (30, 40]\n",
       "Name: age, Length: 891, dtype: category\n",
       "Categories (8, interval[int64]): [(0, 10] < (10, 20] < (20, 30] < (30, 40] < (40, 50] < (50, 60] < (60, 70] < (70, 80]]"
      ]
     },
     "execution_count": 8,
     "metadata": {},
     "output_type": "execute_result"
    }
   ],
   "source": [
    "pd.cut(age, bins=np.arange(0, 90, 10))"
   ]
  },
  {
   "cell_type": "markdown",
   "metadata": {},
   "source": [
    "---"
   ]
  },
  {
   "cell_type": "markdown",
   "metadata": {},
   "source": [
    "## 頻度で分割\n",
    "---\n",
    "各階級に含まれるサンプルの数が等しくなるように分割。"
   ]
  },
  {
   "cell_type": "markdown",
   "metadata": {},
   "source": [
    "### Pythonでの等頻度階級への分割の実行方法\n",
    "---\n",
    "`pandas.qcut`または`sklearn.preprocessing.KBinsDiscretizer`を使用する。"
   ]
  },
  {
   "cell_type": "code",
   "execution_count": 9,
   "metadata": {
    "collapsed": true,
    "jupyter": {
     "outputs_hidden": true
    }
   },
   "outputs": [
    {
     "name": "stdout",
     "output_type": "stream",
     "text": [
      "Help on function qcut in module pandas.core.reshape.tile:\n",
      "\n",
      "qcut(x, q, labels=None, retbins: bool = False, precision: int = 3, duplicates: str = 'raise')\n",
      "    Quantile-based discretization function.\n",
      "    \n",
      "    Discretize variable into equal-sized buckets based on rank or based\n",
      "    on sample quantiles. For example 1000 values for 10 quantiles would\n",
      "    produce a Categorical object indicating quantile membership for each data point.\n",
      "    \n",
      "    Parameters\n",
      "    ----------\n",
      "    x : 1d ndarray or Series\n",
      "    q : int or list-like of int\n",
      "        Number of quantiles. 10 for deciles, 4 for quartiles, etc. Alternately\n",
      "        array of quantiles, e.g. [0, .25, .5, .75, 1.] for quartiles.\n",
      "    labels : array or False, default None\n",
      "        Used as labels for the resulting bins. Must be of the same length as\n",
      "        the resulting bins. If False, return only integer indicators of the\n",
      "        bins. If True, raises an error.\n",
      "    retbins : bool, optional\n",
      "        Whether to return the (bins, labels) or not. Can be useful if bins\n",
      "        is given as a scalar.\n",
      "    precision : int, optional\n",
      "        The precision at which to store and display the bins labels.\n",
      "    duplicates : {default 'raise', 'drop'}, optional\n",
      "        If bin edges are not unique, raise ValueError or drop non-uniques.\n",
      "    \n",
      "    Returns\n",
      "    -------\n",
      "    out : Categorical or Series or array of integers if labels is False\n",
      "        The return type (Categorical or Series) depends on the input: a Series\n",
      "        of type category if input is a Series else Categorical. Bins are\n",
      "        represented as categories when categorical data is returned.\n",
      "    bins : ndarray of floats\n",
      "        Returned only if `retbins` is True.\n",
      "    \n",
      "    Notes\n",
      "    -----\n",
      "    Out of bounds values will be NA in the resulting Categorical object\n",
      "    \n",
      "    Examples\n",
      "    --------\n",
      "    >>> pd.qcut(range(5), 4)\n",
      "    ... # doctest: +ELLIPSIS\n",
      "    [(-0.001, 1.0], (-0.001, 1.0], (1.0, 2.0], (2.0, 3.0], (3.0, 4.0]]\n",
      "    Categories (4, interval[float64]): [(-0.001, 1.0] < (1.0, 2.0] ...\n",
      "    \n",
      "    >>> pd.qcut(range(5), 3, labels=[\"good\", \"medium\", \"bad\"])\n",
      "    ... # doctest: +SKIP\n",
      "    [good, good, medium, bad, bad]\n",
      "    Categories (3, object): [good < medium < bad]\n",
      "    \n",
      "    >>> pd.qcut(range(5), 4, labels=False)\n",
      "    array([0, 0, 1, 2, 3])\n",
      "\n"
     ]
    }
   ],
   "source": [
    "help(pd.qcut)"
   ]
  },
  {
   "cell_type": "code",
   "execution_count": 10,
   "metadata": {},
   "outputs": [
    {
     "data": {
      "text/plain": [
       "0       (-0.001, 7.91]\n",
       "1      (31.0, 512.329]\n",
       "            ...       \n",
       "889     (14.454, 31.0]\n",
       "890     (-0.001, 7.91]\n",
       "Name: fare, Length: 891, dtype: category\n",
       "Categories (4, interval[float64]): [(-0.001, 7.91] < (7.91, 14.454] < (14.454, 31.0] < (31.0, 512.329]]"
      ]
     },
     "execution_count": 10,
     "metadata": {},
     "output_type": "execute_result"
    }
   ],
   "source": [
    "# 四分位範囲で分割\n",
    "pd.qcut(fare, 4, duplicates='drop')"
   ]
  },
  {
   "cell_type": "code",
   "execution_count": 11,
   "metadata": {
    "collapsed": true,
    "jupyter": {
     "outputs_hidden": true
    }
   },
   "outputs": [
    {
     "name": "stdout",
     "output_type": "stream",
     "text": [
      "Help on class KBinsDiscretizer in module sklearn.preprocessing._discretization:\n",
      "\n",
      "class KBinsDiscretizer(sklearn.base.TransformerMixin, sklearn.base.BaseEstimator)\n",
      " |  KBinsDiscretizer(n_bins=5, *, encode='onehot', strategy='quantile')\n",
      " |  \n",
      " |  Bin continuous data into intervals.\n",
      " |  \n",
      " |  Read more in the :ref:`User Guide <preprocessing_discretization>`.\n",
      " |  \n",
      " |  .. versionadded:: 0.20\n",
      " |  \n",
      " |  Parameters\n",
      " |  ----------\n",
      " |  n_bins : int or array-like, shape (n_features,) (default=5)\n",
      " |      The number of bins to produce. Raises ValueError if ``n_bins < 2``.\n",
      " |  \n",
      " |  encode : {'onehot', 'onehot-dense', 'ordinal'}, (default='onehot')\n",
      " |      Method used to encode the transformed result.\n",
      " |  \n",
      " |      onehot\n",
      " |          Encode the transformed result with one-hot encoding\n",
      " |          and return a sparse matrix. Ignored features are always\n",
      " |          stacked to the right.\n",
      " |      onehot-dense\n",
      " |          Encode the transformed result with one-hot encoding\n",
      " |          and return a dense array. Ignored features are always\n",
      " |          stacked to the right.\n",
      " |      ordinal\n",
      " |          Return the bin identifier encoded as an integer value.\n",
      " |  \n",
      " |  strategy : {'uniform', 'quantile', 'kmeans'}, (default='quantile')\n",
      " |      Strategy used to define the widths of the bins.\n",
      " |  \n",
      " |      uniform\n",
      " |          All bins in each feature have identical widths.\n",
      " |      quantile\n",
      " |          All bins in each feature have the same number of points.\n",
      " |      kmeans\n",
      " |          Values in each bin have the same nearest center of a 1D k-means\n",
      " |          cluster.\n",
      " |  \n",
      " |  Attributes\n",
      " |  ----------\n",
      " |  n_bins_ : int array, shape (n_features,)\n",
      " |      Number of bins per feature. Bins whose width are too small\n",
      " |      (i.e., <= 1e-8) are removed with a warning.\n",
      " |  \n",
      " |  bin_edges_ : array of arrays, shape (n_features, )\n",
      " |      The edges of each bin. Contain arrays of varying shapes ``(n_bins_, )``\n",
      " |      Ignored features will have empty arrays.\n",
      " |  \n",
      " |  See Also\n",
      " |  --------\n",
      " |   sklearn.preprocessing.Binarizer : Class used to bin values as ``0`` or\n",
      " |      ``1`` based on a parameter ``threshold``.\n",
      " |  \n",
      " |  Notes\n",
      " |  -----\n",
      " |  In bin edges for feature ``i``, the first and last values are used only for\n",
      " |  ``inverse_transform``. During transform, bin edges are extended to::\n",
      " |  \n",
      " |    np.concatenate([-np.inf, bin_edges_[i][1:-1], np.inf])\n",
      " |  \n",
      " |  You can combine ``KBinsDiscretizer`` with\n",
      " |  :class:`sklearn.compose.ColumnTransformer` if you only want to preprocess\n",
      " |  part of the features.\n",
      " |  \n",
      " |  ``KBinsDiscretizer`` might produce constant features (e.g., when\n",
      " |  ``encode = 'onehot'`` and certain bins do not contain any data).\n",
      " |  These features can be removed with feature selection algorithms\n",
      " |  (e.g., :class:`sklearn.feature_selection.VarianceThreshold`).\n",
      " |  \n",
      " |  Examples\n",
      " |  --------\n",
      " |  >>> X = [[-2, 1, -4,   -1],\n",
      " |  ...      [-1, 2, -3, -0.5],\n",
      " |  ...      [ 0, 3, -2,  0.5],\n",
      " |  ...      [ 1, 4, -1,    2]]\n",
      " |  >>> est = KBinsDiscretizer(n_bins=3, encode='ordinal', strategy='uniform')\n",
      " |  >>> est.fit(X)\n",
      " |  KBinsDiscretizer(...)\n",
      " |  >>> Xt = est.transform(X)\n",
      " |  >>> Xt  # doctest: +SKIP\n",
      " |  array([[ 0., 0., 0., 0.],\n",
      " |         [ 1., 1., 1., 0.],\n",
      " |         [ 2., 2., 2., 1.],\n",
      " |         [ 2., 2., 2., 2.]])\n",
      " |  \n",
      " |  Sometimes it may be useful to convert the data back into the original\n",
      " |  feature space. The ``inverse_transform`` function converts the binned\n",
      " |  data into the original feature space. Each value will be equal to the mean\n",
      " |  of the two bin edges.\n",
      " |  \n",
      " |  >>> est.bin_edges_[0]\n",
      " |  array([-2., -1.,  0.,  1.])\n",
      " |  >>> est.inverse_transform(Xt)\n",
      " |  array([[-1.5,  1.5, -3.5, -0.5],\n",
      " |         [-0.5,  2.5, -2.5, -0.5],\n",
      " |         [ 0.5,  3.5, -1.5,  0.5],\n",
      " |         [ 0.5,  3.5, -1.5,  1.5]])\n",
      " |  \n",
      " |  Method resolution order:\n",
      " |      KBinsDiscretizer\n",
      " |      sklearn.base.TransformerMixin\n",
      " |      sklearn.base.BaseEstimator\n",
      " |      builtins.object\n",
      " |  \n",
      " |  Methods defined here:\n",
      " |  \n",
      " |  __init__(self, n_bins=5, *, encode='onehot', strategy='quantile')\n",
      " |      Initialize self.  See help(type(self)) for accurate signature.\n",
      " |  \n",
      " |  fit(self, X, y=None)\n",
      " |      Fit the estimator.\n",
      " |      \n",
      " |      Parameters\n",
      " |      ----------\n",
      " |      X : numeric array-like, shape (n_samples, n_features)\n",
      " |          Data to be discretized.\n",
      " |      \n",
      " |      y : None\n",
      " |          Ignored. This parameter exists only for compatibility with\n",
      " |          :class:`sklearn.pipeline.Pipeline`.\n",
      " |      \n",
      " |      Returns\n",
      " |      -------\n",
      " |      self\n",
      " |  \n",
      " |  inverse_transform(self, Xt)\n",
      " |      Transform discretized data back to original feature space.\n",
      " |      \n",
      " |      Note that this function does not regenerate the original data\n",
      " |      due to discretization rounding.\n",
      " |      \n",
      " |      Parameters\n",
      " |      ----------\n",
      " |      Xt : numeric array-like, shape (n_sample, n_features)\n",
      " |          Transformed data in the binned space.\n",
      " |      \n",
      " |      Returns\n",
      " |      -------\n",
      " |      Xinv : numeric array-like\n",
      " |          Data in the original feature space.\n",
      " |  \n",
      " |  transform(self, X)\n",
      " |      Discretize the data.\n",
      " |      \n",
      " |      Parameters\n",
      " |      ----------\n",
      " |      X : numeric array-like, shape (n_samples, n_features)\n",
      " |          Data to be discretized.\n",
      " |      \n",
      " |      Returns\n",
      " |      -------\n",
      " |      Xt : numeric array-like or sparse matrix\n",
      " |          Data in the binned space.\n",
      " |  \n",
      " |  ----------------------------------------------------------------------\n",
      " |  Methods inherited from sklearn.base.TransformerMixin:\n",
      " |  \n",
      " |  fit_transform(self, X, y=None, **fit_params)\n",
      " |      Fit to data, then transform it.\n",
      " |      \n",
      " |      Fits transformer to X and y with optional parameters fit_params\n",
      " |      and returns a transformed version of X.\n",
      " |      \n",
      " |      Parameters\n",
      " |      ----------\n",
      " |      X : {array-like, sparse matrix, dataframe} of shape                 (n_samples, n_features)\n",
      " |      \n",
      " |      y : ndarray of shape (n_samples,), default=None\n",
      " |          Target values.\n",
      " |      \n",
      " |      **fit_params : dict\n",
      " |          Additional fit parameters.\n",
      " |      \n",
      " |      Returns\n",
      " |      -------\n",
      " |      X_new : ndarray array of shape (n_samples, n_features_new)\n",
      " |          Transformed array.\n",
      " |  \n",
      " |  ----------------------------------------------------------------------\n",
      " |  Data descriptors inherited from sklearn.base.TransformerMixin:\n",
      " |  \n",
      " |  __dict__\n",
      " |      dictionary for instance variables (if defined)\n",
      " |  \n",
      " |  __weakref__\n",
      " |      list of weak references to the object (if defined)\n",
      " |  \n",
      " |  ----------------------------------------------------------------------\n",
      " |  Methods inherited from sklearn.base.BaseEstimator:\n",
      " |  \n",
      " |  __getstate__(self)\n",
      " |  \n",
      " |  __repr__(self, N_CHAR_MAX=700)\n",
      " |      Return repr(self).\n",
      " |  \n",
      " |  __setstate__(self, state)\n",
      " |  \n",
      " |  get_params(self, deep=True)\n",
      " |      Get parameters for this estimator.\n",
      " |      \n",
      " |      Parameters\n",
      " |      ----------\n",
      " |      deep : bool, default=True\n",
      " |          If True, will return the parameters for this estimator and\n",
      " |          contained subobjects that are estimators.\n",
      " |      \n",
      " |      Returns\n",
      " |      -------\n",
      " |      params : mapping of string to any\n",
      " |          Parameter names mapped to their values.\n",
      " |  \n",
      " |  set_params(self, **params)\n",
      " |      Set the parameters of this estimator.\n",
      " |      \n",
      " |      The method works on simple estimators as well as on nested objects\n",
      " |      (such as pipelines). The latter have parameters of the form\n",
      " |      ``<component>__<parameter>`` so that it's possible to update each\n",
      " |      component of a nested object.\n",
      " |      \n",
      " |      Parameters\n",
      " |      ----------\n",
      " |      **params : dict\n",
      " |          Estimator parameters.\n",
      " |      \n",
      " |      Returns\n",
      " |      -------\n",
      " |      self : object\n",
      " |          Estimator instance.\n",
      "\n"
     ]
    }
   ],
   "source": [
    "help(KBinsDiscretizer)"
   ]
  },
  {
   "cell_type": "code",
   "execution_count": 12,
   "metadata": {},
   "outputs": [
    {
     "name": "stdout",
     "output_type": "stream",
     "text": [
      "interval: ['0.0~7.9104', '7.9104~14.4542', '14.4542~31.0', '31.0~512.3292']\n"
     ]
    },
    {
     "data": {
      "text/plain": [
       "0      0.0\n",
       "1      3.0\n",
       "      ... \n",
       "889    2.0\n",
       "890    0.0\n",
       "Length: 891, dtype: float64"
      ]
     },
     "metadata": {},
     "output_type": "display_data"
    }
   ],
   "source": [
    "quantile_transformer = KBinsDiscretizer(n_bins=4,\n",
    "                                        encode='ordinal',\n",
    "                                        strategy='quantile')\n",
    "quantile_transformer.fit(fare.values.reshape((-1, 1)))\n",
    "edges = quantile_transformer.bin_edges_[0]\n",
    "interval = [f'{edges[i]}~{edges[i+1]}' for i in range(edges.size - 1)]\n",
    "print(f'interval: {interval}')\n",
    "display(\n",
    "    pd.Series(\n",
    "        quantile_transformer.transform(fare.values.reshape((-1, 1))).ravel()))"
   ]
  },
  {
   "cell_type": "markdown",
   "metadata": {},
   "source": [
    "練習問題\n",
    "\n",
    "---\n",
    "`age`データセットを四分位範囲で分割する。"
   ]
  },
  {
   "cell_type": "code",
   "execution_count": null,
   "metadata": {},
   "outputs": [],
   "source": []
  },
  {
   "cell_type": "markdown",
   "metadata": {
    "solution2": "hidden",
    "solution2_first": true
   },
   "source": [
    "解答例\n",
    "\n",
    "---"
   ]
  },
  {
   "cell_type": "code",
   "execution_count": 13,
   "metadata": {
    "collapsed": true,
    "jupyter": {
     "outputs_hidden": true,
     "source_hidden": true
    },
    "solution2": "hidden"
   },
   "outputs": [
    {
     "data": {
      "text/plain": [
       "0       (6.0, 24.0]\n",
       "1      (35.0, 80.0]\n",
       "           ...     \n",
       "889    (24.0, 35.0]\n",
       "890    (24.0, 35.0]\n",
       "Name: age, Length: 891, dtype: category\n",
       "Categories (4, interval[float64]): [(-0.001, 6.0] < (6.0, 24.0] < (24.0, 35.0] < (35.0, 80.0]]"
      ]
     },
     "execution_count": 13,
     "metadata": {},
     "output_type": "execute_result"
    }
   ],
   "source": [
    "pd.qcut(age, 4)"
   ]
  },
  {
   "cell_type": "code",
   "execution_count": 14,
   "metadata": {
    "collapsed": true,
    "jupyter": {
     "outputs_hidden": true,
     "source_hidden": true
    },
    "solution2": "hidden"
   },
   "outputs": [
    {
     "data": {
      "text/plain": [
       "0      1.0\n",
       "1      3.0\n",
       "      ... \n",
       "889    2.0\n",
       "890    2.0\n",
       "Length: 891, dtype: float64"
      ]
     },
     "execution_count": 14,
     "metadata": {},
     "output_type": "execute_result"
    }
   ],
   "source": [
    "pd.Series(\n",
    "    KBinsDiscretizer(n_bins=4, encode='ordinal',\n",
    "                     strategy='quantile').fit_transform(\n",
    "                         age.values.reshape((-1, 1))).ravel())"
   ]
  },
  {
   "cell_type": "markdown",
   "metadata": {},
   "source": [
    "---"
   ]
  },
  {
   "cell_type": "markdown",
   "metadata": {},
   "source": [
    "## クラスタリングを利用して分割\n",
    "---\n",
    "対象の変数にクラスタリングを適用し、その結果を利用して分割。"
   ]
  },
  {
   "cell_type": "markdown",
   "metadata": {},
   "source": [
    "### Pythonでのクラスタリングを利用した分割の実行方法\n",
    "---\n",
    "`sklearn.preprocessing.KBinsDiscretizer`を使用する。 (使用されるクラスタリングは k-means)"
   ]
  },
  {
   "cell_type": "code",
   "execution_count": 15,
   "metadata": {
    "collapsed": true,
    "jupyter": {
     "outputs_hidden": true
    }
   },
   "outputs": [
    {
     "name": "stdout",
     "output_type": "stream",
     "text": [
      "Help on class KBinsDiscretizer in module sklearn.preprocessing._discretization:\n",
      "\n",
      "class KBinsDiscretizer(sklearn.base.TransformerMixin, sklearn.base.BaseEstimator)\n",
      " |  KBinsDiscretizer(n_bins=5, *, encode='onehot', strategy='quantile')\n",
      " |  \n",
      " |  Bin continuous data into intervals.\n",
      " |  \n",
      " |  Read more in the :ref:`User Guide <preprocessing_discretization>`.\n",
      " |  \n",
      " |  .. versionadded:: 0.20\n",
      " |  \n",
      " |  Parameters\n",
      " |  ----------\n",
      " |  n_bins : int or array-like, shape (n_features,) (default=5)\n",
      " |      The number of bins to produce. Raises ValueError if ``n_bins < 2``.\n",
      " |  \n",
      " |  encode : {'onehot', 'onehot-dense', 'ordinal'}, (default='onehot')\n",
      " |      Method used to encode the transformed result.\n",
      " |  \n",
      " |      onehot\n",
      " |          Encode the transformed result with one-hot encoding\n",
      " |          and return a sparse matrix. Ignored features are always\n",
      " |          stacked to the right.\n",
      " |      onehot-dense\n",
      " |          Encode the transformed result with one-hot encoding\n",
      " |          and return a dense array. Ignored features are always\n",
      " |          stacked to the right.\n",
      " |      ordinal\n",
      " |          Return the bin identifier encoded as an integer value.\n",
      " |  \n",
      " |  strategy : {'uniform', 'quantile', 'kmeans'}, (default='quantile')\n",
      " |      Strategy used to define the widths of the bins.\n",
      " |  \n",
      " |      uniform\n",
      " |          All bins in each feature have identical widths.\n",
      " |      quantile\n",
      " |          All bins in each feature have the same number of points.\n",
      " |      kmeans\n",
      " |          Values in each bin have the same nearest center of a 1D k-means\n",
      " |          cluster.\n",
      " |  \n",
      " |  Attributes\n",
      " |  ----------\n",
      " |  n_bins_ : int array, shape (n_features,)\n",
      " |      Number of bins per feature. Bins whose width are too small\n",
      " |      (i.e., <= 1e-8) are removed with a warning.\n",
      " |  \n",
      " |  bin_edges_ : array of arrays, shape (n_features, )\n",
      " |      The edges of each bin. Contain arrays of varying shapes ``(n_bins_, )``\n",
      " |      Ignored features will have empty arrays.\n",
      " |  \n",
      " |  See Also\n",
      " |  --------\n",
      " |   sklearn.preprocessing.Binarizer : Class used to bin values as ``0`` or\n",
      " |      ``1`` based on a parameter ``threshold``.\n",
      " |  \n",
      " |  Notes\n",
      " |  -----\n",
      " |  In bin edges for feature ``i``, the first and last values are used only for\n",
      " |  ``inverse_transform``. During transform, bin edges are extended to::\n",
      " |  \n",
      " |    np.concatenate([-np.inf, bin_edges_[i][1:-1], np.inf])\n",
      " |  \n",
      " |  You can combine ``KBinsDiscretizer`` with\n",
      " |  :class:`sklearn.compose.ColumnTransformer` if you only want to preprocess\n",
      " |  part of the features.\n",
      " |  \n",
      " |  ``KBinsDiscretizer`` might produce constant features (e.g., when\n",
      " |  ``encode = 'onehot'`` and certain bins do not contain any data).\n",
      " |  These features can be removed with feature selection algorithms\n",
      " |  (e.g., :class:`sklearn.feature_selection.VarianceThreshold`).\n",
      " |  \n",
      " |  Examples\n",
      " |  --------\n",
      " |  >>> X = [[-2, 1, -4,   -1],\n",
      " |  ...      [-1, 2, -3, -0.5],\n",
      " |  ...      [ 0, 3, -2,  0.5],\n",
      " |  ...      [ 1, 4, -1,    2]]\n",
      " |  >>> est = KBinsDiscretizer(n_bins=3, encode='ordinal', strategy='uniform')\n",
      " |  >>> est.fit(X)\n",
      " |  KBinsDiscretizer(...)\n",
      " |  >>> Xt = est.transform(X)\n",
      " |  >>> Xt  # doctest: +SKIP\n",
      " |  array([[ 0., 0., 0., 0.],\n",
      " |         [ 1., 1., 1., 0.],\n",
      " |         [ 2., 2., 2., 1.],\n",
      " |         [ 2., 2., 2., 2.]])\n",
      " |  \n",
      " |  Sometimes it may be useful to convert the data back into the original\n",
      " |  feature space. The ``inverse_transform`` function converts the binned\n",
      " |  data into the original feature space. Each value will be equal to the mean\n",
      " |  of the two bin edges.\n",
      " |  \n",
      " |  >>> est.bin_edges_[0]\n",
      " |  array([-2., -1.,  0.,  1.])\n",
      " |  >>> est.inverse_transform(Xt)\n",
      " |  array([[-1.5,  1.5, -3.5, -0.5],\n",
      " |         [-0.5,  2.5, -2.5, -0.5],\n",
      " |         [ 0.5,  3.5, -1.5,  0.5],\n",
      " |         [ 0.5,  3.5, -1.5,  1.5]])\n",
      " |  \n",
      " |  Method resolution order:\n",
      " |      KBinsDiscretizer\n",
      " |      sklearn.base.TransformerMixin\n",
      " |      sklearn.base.BaseEstimator\n",
      " |      builtins.object\n",
      " |  \n",
      " |  Methods defined here:\n",
      " |  \n",
      " |  __init__(self, n_bins=5, *, encode='onehot', strategy='quantile')\n",
      " |      Initialize self.  See help(type(self)) for accurate signature.\n",
      " |  \n",
      " |  fit(self, X, y=None)\n",
      " |      Fit the estimator.\n",
      " |      \n",
      " |      Parameters\n",
      " |      ----------\n",
      " |      X : numeric array-like, shape (n_samples, n_features)\n",
      " |          Data to be discretized.\n",
      " |      \n",
      " |      y : None\n",
      " |          Ignored. This parameter exists only for compatibility with\n",
      " |          :class:`sklearn.pipeline.Pipeline`.\n",
      " |      \n",
      " |      Returns\n",
      " |      -------\n",
      " |      self\n",
      " |  \n",
      " |  inverse_transform(self, Xt)\n",
      " |      Transform discretized data back to original feature space.\n",
      " |      \n",
      " |      Note that this function does not regenerate the original data\n",
      " |      due to discretization rounding.\n",
      " |      \n",
      " |      Parameters\n",
      " |      ----------\n",
      " |      Xt : numeric array-like, shape (n_sample, n_features)\n",
      " |          Transformed data in the binned space.\n",
      " |      \n",
      " |      Returns\n",
      " |      -------\n",
      " |      Xinv : numeric array-like\n",
      " |          Data in the original feature space.\n",
      " |  \n",
      " |  transform(self, X)\n",
      " |      Discretize the data.\n",
      " |      \n",
      " |      Parameters\n",
      " |      ----------\n",
      " |      X : numeric array-like, shape (n_samples, n_features)\n",
      " |          Data to be discretized.\n",
      " |      \n",
      " |      Returns\n",
      " |      -------\n",
      " |      Xt : numeric array-like or sparse matrix\n",
      " |          Data in the binned space.\n",
      " |  \n",
      " |  ----------------------------------------------------------------------\n",
      " |  Methods inherited from sklearn.base.TransformerMixin:\n",
      " |  \n",
      " |  fit_transform(self, X, y=None, **fit_params)\n",
      " |      Fit to data, then transform it.\n",
      " |      \n",
      " |      Fits transformer to X and y with optional parameters fit_params\n",
      " |      and returns a transformed version of X.\n",
      " |      \n",
      " |      Parameters\n",
      " |      ----------\n",
      " |      X : {array-like, sparse matrix, dataframe} of shape                 (n_samples, n_features)\n",
      " |      \n",
      " |      y : ndarray of shape (n_samples,), default=None\n",
      " |          Target values.\n",
      " |      \n",
      " |      **fit_params : dict\n",
      " |          Additional fit parameters.\n",
      " |      \n",
      " |      Returns\n",
      " |      -------\n",
      " |      X_new : ndarray array of shape (n_samples, n_features_new)\n",
      " |          Transformed array.\n",
      " |  \n",
      " |  ----------------------------------------------------------------------\n",
      " |  Data descriptors inherited from sklearn.base.TransformerMixin:\n",
      " |  \n",
      " |  __dict__\n",
      " |      dictionary for instance variables (if defined)\n",
      " |  \n",
      " |  __weakref__\n",
      " |      list of weak references to the object (if defined)\n",
      " |  \n",
      " |  ----------------------------------------------------------------------\n",
      " |  Methods inherited from sklearn.base.BaseEstimator:\n",
      " |  \n",
      " |  __getstate__(self)\n",
      " |  \n",
      " |  __repr__(self, N_CHAR_MAX=700)\n",
      " |      Return repr(self).\n",
      " |  \n",
      " |  __setstate__(self, state)\n",
      " |  \n",
      " |  get_params(self, deep=True)\n",
      " |      Get parameters for this estimator.\n",
      " |      \n",
      " |      Parameters\n",
      " |      ----------\n",
      " |      deep : bool, default=True\n",
      " |          If True, will return the parameters for this estimator and\n",
      " |          contained subobjects that are estimators.\n",
      " |      \n",
      " |      Returns\n",
      " |      -------\n",
      " |      params : mapping of string to any\n",
      " |          Parameter names mapped to their values.\n",
      " |  \n",
      " |  set_params(self, **params)\n",
      " |      Set the parameters of this estimator.\n",
      " |      \n",
      " |      The method works on simple estimators as well as on nested objects\n",
      " |      (such as pipelines). The latter have parameters of the form\n",
      " |      ``<component>__<parameter>`` so that it's possible to update each\n",
      " |      component of a nested object.\n",
      " |      \n",
      " |      Parameters\n",
      " |      ----------\n",
      " |      **params : dict\n",
      " |          Estimator parameters.\n",
      " |      \n",
      " |      Returns\n",
      " |      -------\n",
      " |      self : object\n",
      " |          Estimator instance.\n",
      "\n"
     ]
    }
   ],
   "source": [
    "help(KBinsDiscretizer)"
   ]
  },
  {
   "cell_type": "code",
   "execution_count": 16,
   "metadata": {},
   "outputs": [
    {
     "name": "stdout",
     "output_type": "stream",
     "text": [
      "interval: ['0.0~94.96351024105013', '94.96351024105013~339.922139', '339.922139~512.3292']\n"
     ]
    },
    {
     "data": {
      "text/plain": [
       "0      0.0\n",
       "1      0.0\n",
       "      ... \n",
       "889    0.0\n",
       "890    0.0\n",
       "Length: 891, dtype: float64"
      ]
     },
     "metadata": {},
     "output_type": "display_data"
    }
   ],
   "source": [
    "cluster_transformer = KBinsDiscretizer(n_bins=3,\n",
    "                                       encode='ordinal',\n",
    "                                       strategy='kmeans')\n",
    "cluster_transformer.fit(fare.values.reshape((-1, 1)))\n",
    "edges = cluster_transformer.bin_edges_[0]\n",
    "interval = [f'{edges[i]}~{edges[i+1]}' for i in range(edges.size - 1)]\n",
    "print(f'interval: {interval}')\n",
    "display(\n",
    "    pd.Series(\n",
    "        cluster_transformer.transform(fare.values.reshape((-1, 1))).ravel()))"
   ]
  },
  {
   "cell_type": "markdown",
   "metadata": {},
   "source": [
    "練習問題\n",
    "\n",
    "---\n",
    "`age`データセットを k-means クラスタリングで 3 分割する。"
   ]
  },
  {
   "cell_type": "code",
   "execution_count": null,
   "metadata": {},
   "outputs": [],
   "source": []
  },
  {
   "cell_type": "markdown",
   "metadata": {
    "solution2": "hidden",
    "solution2_first": true
   },
   "source": [
    "解答例\n",
    "\n",
    "---"
   ]
  },
  {
   "cell_type": "code",
   "execution_count": 17,
   "metadata": {
    "collapsed": true,
    "jupyter": {
     "outputs_hidden": true,
     "source_hidden": true
    },
    "solution2": "hidden"
   },
   "outputs": [
    {
     "data": {
      "text/plain": [
       "0      1.0\n",
       "1      2.0\n",
       "      ... \n",
       "889    1.0\n",
       "890    1.0\n",
       "Length: 891, dtype: float64"
      ]
     },
     "execution_count": 17,
     "metadata": {},
     "output_type": "execute_result"
    }
   ],
   "source": [
    "pd.Series(\n",
    "    KBinsDiscretizer(n_bins=3, encode='ordinal',\n",
    "                     strategy='kmeans').fit_transform(\n",
    "                         age.values.reshape((-1, 1))).ravel())"
   ]
  },
  {
   "cell_type": "markdown",
   "metadata": {},
   "source": [
    "---"
   ]
  }
 ],
 "metadata": {
  "kernelspec": {
   "display_name": "Python 3",
   "language": "python",
   "name": "python3"
  },
  "language_info": {
   "codemirror_mode": {
    "name": "ipython",
    "version": 3
   },
   "file_extension": ".py",
   "mimetype": "text/x-python",
   "name": "python",
   "nbconvert_exporter": "python",
   "pygments_lexer": "ipython3",
   "version": "3.8.3"
  },
  "toc": {
   "base_numbering": 1,
   "nav_menu": {},
   "number_sections": true,
   "sideBar": true,
   "skip_h1_title": true,
   "title_cell": "Table of Contents",
   "title_sidebar": "Contents",
   "toc_cell": false,
   "toc_position": {},
   "toc_section_display": true,
   "toc_window_display": true
  },
  "varInspector": {
   "cols": {
    "lenName": 16,
    "lenType": 16,
    "lenVar": 40
   },
   "kernels_config": {
    "python": {
     "delete_cmd_postfix": "",
     "delete_cmd_prefix": "del ",
     "library": "var_list.py",
     "varRefreshCmd": "print(var_dic_list())"
    },
    "r": {
     "delete_cmd_postfix": ") ",
     "delete_cmd_prefix": "rm(",
     "library": "var_list.r",
     "varRefreshCmd": "cat(var_dic_list()) "
    }
   },
   "types_to_exclude": [
    "module",
    "function",
    "builtin_function_or_method",
    "instance",
    "_Feature"
   ],
   "window_display": false
  },
  "widgets": {
   "application/vnd.jupyter.widget-state+json": {
    "state": {},
    "version_major": 2,
    "version_minor": 0
   }
  }
 },
 "nbformat": 4,
 "nbformat_minor": 4
}
