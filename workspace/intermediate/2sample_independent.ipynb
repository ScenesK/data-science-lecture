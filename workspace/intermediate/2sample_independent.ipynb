{
 "cells": [
  {
   "cell_type": "code",
   "execution_count": 1,
   "metadata": {},
   "outputs": [],
   "source": [
    "import numpy as np\n",
    "from scipy import stats\n",
    "from statsmodels.stats import weightstats\n",
    "from statsmodels.stats.proportion import proportions_ztest\n",
    "import pandas as pd\n",
    "import matplotlib.pyplot as plt\n",
    "import seaborn as sns\n",
    "from IPython.display import display\n",
    "pd.set_option('max_rows', 5)\n",
    "%matplotlib inline"
   ]
  },
  {
   "cell_type": "markdown",
   "metadata": {},
   "source": [
    "# 対応のない2群の検定"
   ]
  },
  {
   "cell_type": "markdown",
   "metadata": {},
   "source": [
    "## 対応のない2群の平均の差の検定\n",
    "---\n",
    "対応のない 2 群のデータ $X,Y$ で、それぞれの平均 $\\overline{X},\\overline{Y}$ の差に対して $t$ 検定を行う。\n",
    "\n",
    "母集団分布が共に正規分布に従う、またはサンプルサイズが大きく $\\overline{X},\\overline{Y}$ のどちらにも[中心極限定理](../beginner/population_mean_estimation.ipynb#%E4%B8%AD%E5%BF%83%E6%A5%B5%E9%99%90%E5%AE%9A%E7%90%86-(central-limit-theorem))が成り立つような場合には、変数それぞれの平均の差に対して $t$ 検定を使用する。ただし、自由度の計算がこれまでと異なる。\n",
    "\n",
    "<table class=\"border\">\n",
    "    <tr>\n",
    "        <th class=\"border-bottom border-right-bold\">対応のある 2 群</th>\n",
    "        <td>「2 群の差」の平均に対して $t$ 検定</td>\n",
    "    </tr>\n",
    "    <tr>\n",
    "        <th class=\"border-bottom border-right-bold\">対応のない 2 群</th>\n",
    "        <td>「2 群の平均」の差に対して $t$ 検定</td>\n",
    "    </tr>\n",
    "</table>\n",
    "\n",
    "ここでは 2 標本について以下のように定義する。\n",
    "\n",
    "<table class=\"border text-center\">\n",
    "    <tr class=\"background-dark\">\n",
    "        <th></th>\n",
    "        <th>母平均</th>\n",
    "        <th>母分散</th>\n",
    "        <th>標本</th>\n",
    "        <th>サンプルサイズ</th>\n",
    "        <th>標本平均</th>\n",
    "    </tr>\n",
    "    <tr class=\"background-bright\">\n",
    "        <th class=\"border-bottom background-dark\">母集団 $1$</th>\n",
    "        <td>$\\mu _{X}$</td>\n",
    "        <td>$\\sigma ^{2}_{X}$</td>\n",
    "        <td>$X$</td>\n",
    "        <td>$n_{X}$</td>\n",
    "        <td style=\"min-width: 11em;\">${\\displaystyle \\overline{X}\\sim \\mathcal{N}\\left(\\mu _{X},\\ \\frac\n",
    "            {\\sigma ^{2}_{X}}\n",
    "            {n_{X}}\n",
    "        \\right)}$</td>\n",
    "    </tr>\n",
    "    <tr class=\"background-bright\">\n",
    "        <th class=\"border-bottom background-dark\">母集団 $2$</th>\n",
    "        <td>$\\mu _{Y}$</td>\n",
    "        <td>$\\sigma ^{2}_{Y}$</td>\n",
    "        <td>$Y$</td>\n",
    "        <td>$n_{Y}$</td>\n",
    "        <td style=\"min-width: 11em;\">${\\displaystyle \\overline{Y}\\sim \\mathcal{N}\\left(\\mu _{Y},\\ \\frac\n",
    "            {\\sigma ^{2}_{Y}}\n",
    "            {n_{Y}}\n",
    "        \\right)}$</td>\n",
    "    </tr>\n",
    "</table>"
   ]
  },
  {
   "cell_type": "markdown",
   "metadata": {},
   "source": [
    "### 等分散の場合\n",
    "---\n",
    "2 群 $(X,Y)$ の分散が等しい $\\sigma ^{2}_{X} =\\sigma ^{2}_{Y}$ 場合、 2 群の平均の差 $D=\\overline{X}-\\overline{Y}$ の分散は\n",
    "$\n",
    "\\displaystyle \\frac\n",
    "    {\\sigma ^{2}_{X}}\n",
    "    {n_{X}}\n",
    "+\\frac\n",
    "    {\\sigma ^{2}_{Y}}\n",
    "    {n_{Y}}\n",
    "=\\left(\\frac\n",
    "    {1}\n",
    "    {n_{X}}\n",
    "+\\frac\n",
    "    {1}\n",
    "    {n_{Y}}\n",
    "\\right) \\sigma ^{2}\n",
    "$\n",
    "であり、その推定量はそれぞれの不偏推定量の加重平均\n",
    "\n",
    "$\n",
    "\\begin{align}\n",
    "    s^{2}_{D} & =\\frac\n",
    "        {( n_{X} -1) s_{X} +( n_{Y} -1) s_{Y}}\n",
    "        {( n_{X} -1) +( n_{Y} -1)}\\\\\n",
    "     & \\\\\n",
    "     & =\\frac\n",
    "         {( n_{X} -1){\\displaystyle \\frac\n",
    "             {{\\displaystyle \\sum ^{n_{X}}_{i=1}\\left( X_{i} -\\overline{X}\\right) ^{2}}}\n",
    "             {n_{X} -1}\n",
    "         +( n_{Y} -1){\\displaystyle \\frac\n",
    "             {{\\displaystyle \\sum ^{n_{Y}}_{i=1}\\left( Y_{i} -\\overline{Y}\\right) ^{2}}}\n",
    "             {n_{Y} -1}\n",
    "         }}}\n",
    "         {n_{X} +n_{Y} -2}\\\\\n",
    "     & \\\\\n",
    "     & =\\frac\n",
    "         {{\\displaystyle \\sum ^{n_{X}}_{i=1}\\left( X_{i} -\\overline{X}\\right) ^{2}+\\sum ^{n_{Y}}_{i=1}\\left( Y_{i} -\\overline{Y}\\right) ^{2}}}\n",
    "         {n_{X} +n_{Y} -2}\n",
    "\\end{align}\n",
    "$\n",
    "\n",
    "で表される。 (プールした分散)\n",
    "\n",
    "これらを用いて、以下の統計量 $t$ が自由度 $n_{X}+n_{Y}-2$ の $t$ 分布に従うことを利用して検定する。\n",
    "\n",
    "$\n",
    "\\begin{align}\n",
    "    t & =\\frac\n",
    "        {\\overline{D} -\\mu _{D}}\n",
    "        {\\sqrt{\n",
    "            \\displaystyle \\left(\\frac\n",
    "                {1}\n",
    "                {n_{X}}\n",
    "            +\\frac\n",
    "                {1}\n",
    "                {n_{Y}}\n",
    "            \\right) s^{2}_{D}\n",
    "        }}\\\\\n",
    "     & \\\\\n",
    "     & =\\frac\n",
    "         {\\overline{X} -\\overline{Y} -\\mu _{D}}\n",
    "         {s_{D}\\sqrt{\n",
    "             \\displaystyle \\left(\\frac\n",
    "                 {1}\n",
    "                 {n_{X}}\n",
    "             +\\frac\n",
    "                 {1}\n",
    "                 {n_{Y}}\n",
    "             \\right)\n",
    "         }}\n",
    "\\end{align}\n",
    "$"
   ]
  },
  {
   "cell_type": "markdown",
   "metadata": {},
   "source": [
    "練習問題\n",
    "\n",
    "---\n",
    "以下のデータセットの`A`グループと`B`グループの平均に差があるかを検定するための統計量 $t$ を求める。両グループの分散は等しいと仮定して良い。"
   ]
  },
  {
   "cell_type": "code",
   "execution_count": 2,
   "metadata": {
    "hide_input": true,
    "jupyter": {
     "source_hidden": true
    }
   },
   "outputs": [
    {
     "name": "stdout",
     "output_type": "stream",
     "text": [
      "data\n"
     ]
    },
    {
     "data": {
      "text/html": [
       "<div>\n",
       "<style scoped>\n",
       "    .dataframe tbody tr th:only-of-type {\n",
       "        vertical-align: middle;\n",
       "    }\n",
       "\n",
       "    .dataframe tbody tr th {\n",
       "        vertical-align: top;\n",
       "    }\n",
       "\n",
       "    .dataframe thead th {\n",
       "        text-align: right;\n",
       "    }\n",
       "</style>\n",
       "<table border=\"1\" class=\"dataframe\">\n",
       "  <thead>\n",
       "    <tr style=\"text-align: right;\">\n",
       "      <th></th>\n",
       "      <th>score</th>\n",
       "      <th>group</th>\n",
       "    </tr>\n",
       "  </thead>\n",
       "  <tbody>\n",
       "    <tr>\n",
       "      <th>0</th>\n",
       "      <td>47.072824</td>\n",
       "      <td>B</td>\n",
       "    </tr>\n",
       "    <tr>\n",
       "      <th>1</th>\n",
       "      <td>49.316026</td>\n",
       "      <td>A</td>\n",
       "    </tr>\n",
       "    <tr>\n",
       "      <th>...</th>\n",
       "      <td>...</td>\n",
       "      <td>...</td>\n",
       "    </tr>\n",
       "    <tr>\n",
       "      <th>88</th>\n",
       "      <td>48.986768</td>\n",
       "      <td>A</td>\n",
       "    </tr>\n",
       "    <tr>\n",
       "      <th>89</th>\n",
       "      <td>50.010592</td>\n",
       "      <td>A</td>\n",
       "    </tr>\n",
       "  </tbody>\n",
       "</table>\n",
       "<p>90 rows × 2 columns</p>\n",
       "</div>"
      ],
      "text/plain": [
       "        score group\n",
       "0   47.072824     B\n",
       "1   49.316026     A\n",
       "..        ...   ...\n",
       "88  48.986768     A\n",
       "89  50.010592     A\n",
       "\n",
       "[90 rows x 2 columns]"
      ]
     },
     "metadata": {},
     "output_type": "display_data"
    }
   ],
   "source": [
    "np.random.seed(1234)\n",
    "A = pd.DataFrame(dict(score=np.random.normal(50, 5, size=50), group=['A'] * 50),\n",
    "                 dtype=int)\n",
    "B = pd.DataFrame(dict(score=np.random.normal(51, 5, size=40), group=['B'] * 40),\n",
    "                 dtype=int)\n",
    "data = pd.concat([A, B]).sample(frac=1).reset_index(drop=True)\n",
    "print('data')\n",
    "display(data)"
   ]
  },
  {
   "cell_type": "code",
   "execution_count": null,
   "metadata": {},
   "outputs": [],
   "source": []
  },
  {
   "cell_type": "markdown",
   "metadata": {
    "solution2": "hidden",
    "solution2_first": true
   },
   "source": [
    "解答例\n",
    "\n",
    "---"
   ]
  },
  {
   "cell_type": "code",
   "execution_count": 3,
   "metadata": {
    "collapsed": true,
    "jupyter": {
     "outputs_hidden": true,
     "source_hidden": true
    },
    "solution2": "hidden"
   },
   "outputs": [
    {
     "data": {
      "text/plain": [
       "-0.8396879421853141"
      ]
     },
     "execution_count": 3,
     "metadata": {},
     "output_type": "execute_result"
    }
   ],
   "source": [
    "A = data.query('group == \"A\"')['score']\n",
    "B = data.query('group == \"B\"')['score']\n",
    "na = A.count()\n",
    "nb = B.count()\n",
    "mua = A.mean()\n",
    "mub = B.mean()\n",
    "sd = np.sqrt((((A - mua)**2).sum() + ((B - mub)**2).sum()) / (na + nb - 2))\n",
    "t = (mua - mub) / (sd * np.sqrt(1 / na + 1 / nb))\n",
    "t"
   ]
  },
  {
   "cell_type": "markdown",
   "metadata": {},
   "source": [
    "---"
   ]
  },
  {
   "cell_type": "markdown",
   "metadata": {},
   "source": [
    "練習問題\n",
    "\n",
    "---\n",
    "この検定に対応する帰無分布の確率密度関数と、上で求めた $t$ 統計量の位置をグラフ表示する。"
   ]
  },
  {
   "cell_type": "code",
   "execution_count": null,
   "metadata": {},
   "outputs": [],
   "source": []
  },
  {
   "cell_type": "markdown",
   "metadata": {
    "solution2": "hidden",
    "solution2_first": true
   },
   "source": [
    "解答例\n",
    "\n",
    "---"
   ]
  },
  {
   "cell_type": "code",
   "execution_count": 4,
   "metadata": {
    "collapsed": true,
    "jupyter": {
     "outputs_hidden": true,
     "source_hidden": true
    },
    "solution2": "hidden"
   },
   "outputs": [
    {
     "data": {
      "image/png": "[encoded data removed]",
      "text/plain": [
       "<Figure size 432x288 with 1 Axes>"
      ]
     },
     "metadata": {
      "needs_background": "light"
     },
     "output_type": "display_data"
    }
   ],
   "source": [
    "x = np.linspace(-3, 3, 100)\n",
    "null_dist = stats.t(na + nb - 2)\n",
    "plt.plot(x, null_dist.pdf(x))\n",
    "sns.rugplot([t])\n",
    "plt.xticks([t])\n",
    "plt.show()"
   ]
  },
  {
   "cell_type": "markdown",
   "metadata": {},
   "source": [
    "---"
   ]
  },
  {
   "cell_type": "markdown",
   "metadata": {},
   "source": [
    "練習問題\n",
    "\n",
    "---\n",
    "上で求めた検定統計量 $𝑡$ に対応した $𝑝$ 値を求める。"
   ]
  },
  {
   "cell_type": "code",
   "execution_count": null,
   "metadata": {},
   "outputs": [],
   "source": []
  },
  {
   "cell_type": "markdown",
   "metadata": {},
   "source": [
    "解答例\n",
    "\n",
    "---"
   ]
  },
  {
   "cell_type": "code",
   "execution_count": 5,
   "metadata": {
    "collapsed": true,
    "jupyter": {
     "outputs_hidden": true,
     "source_hidden": true
    },
    "solution2": "hidden"
   },
   "outputs": [
    {
     "data": {
      "text/plain": [
       "0.4033588329742739"
      ]
     },
     "execution_count": 5,
     "metadata": {},
     "output_type": "execute_result"
    }
   ],
   "source": [
    "p = null_dist.sf(np.abs(t)) * 2\n",
    "p"
   ]
  },
  {
   "cell_type": "markdown",
   "metadata": {},
   "source": [
    "---"
   ]
  },
  {
   "cell_type": "markdown",
   "metadata": {},
   "source": [
    "### 不等分散の場合\n",
    "---\n",
    "2 群の平均の差 $\n",
    "\\displaystyle D=\\overline{X} -\\overline{Y} \\sim \\mathcal{N}\\left( \\mu _{X} -\\mu _{Y} ,\\frac\n",
    "    {\\sigma ^{2}_{X}}\n",
    "    {n_{X}}\n",
    "+\\frac\n",
    "    {\\sigma ^{2}_{Y}}\n",
    "    {n_{Y}}\n",
    "\\right)\n",
    "$ なので検定統計量 $t$ は\n",
    "\n",
    "$\n",
    "\\begin{align}\n",
    "    t & =\\frac\n",
    "        {\\left(\\overline{X} -\\overline{Y}\\right) -( \\mu _{X} -\\mu _{Y})}\n",
    "        {s_{D}}\\\\\n",
    "     & \\\\\n",
    "     & =\\frac\n",
    "         {\\left(\\overline{X} -\\overline{Y}\\right) -( \\mu _{X} -\\mu _{Y})}\n",
    "         {\\sqrt{\n",
    "             \\displaystyle \\frac\n",
    "                 {s^{2}_{X}}\n",
    "                 {n_{X}}\n",
    "             +\\frac\n",
    "                 {s^{2}_{Y}}\n",
    "                 {n_{Y}}\n",
    "         }}\n",
    "\\end{align}\n",
    "$\n",
    "\n",
    "この $t$ は自由度 $\n",
    "\\displaystyle \\nu =\\frac\n",
    "    {\\left(\\displaystyle \\frac\n",
    "        {s^{2}_{X}}\n",
    "        {n_{X}}\n",
    "    +\\frac\n",
    "        {s^{2}_{Y}}\n",
    "        {n_{Y}}\n",
    "    \\right)^{2}}\n",
    "    {\\displaystyle \\frac\n",
    "        {1}\n",
    "        {n_{X} -1}\n",
    "    \\left(\\frac\n",
    "        {s^{2}_{X}}\n",
    "        {n_{X}}\n",
    "    \\right)^{2} +\\frac\n",
    "        {1}\n",
    "        {n_{Y} -1}\n",
    "    \\left(\\frac\n",
    "        {s^{2}_{Y}}\n",
    "        {n_{Y}}\n",
    "    \\right)^{2}}\n",
    "$ の $t$ 分布に近似的に従うことがわかっているので、これを利用して検定する。 (ウェルチの $t$ 検定)"
   ]
  },
  {
   "cell_type": "markdown",
   "metadata": {},
   "source": [
    "練習問題\n",
    "\n",
    "---\n",
    "以下のデータセットの`A`グループと`B`グループの平均に差があるかを検定するための統計量 $t$ を求める。両グループの分散は等しくないものと仮定する。"
   ]
  },
  {
   "cell_type": "code",
   "execution_count": 6,
   "metadata": {
    "hide_input": true,
    "jupyter": {
     "source_hidden": true
    }
   },
   "outputs": [
    {
     "name": "stdout",
     "output_type": "stream",
     "text": [
      "data\n"
     ]
    },
    {
     "data": {
      "text/html": [
       "<div>\n",
       "<style scoped>\n",
       "    .dataframe tbody tr th:only-of-type {\n",
       "        vertical-align: middle;\n",
       "    }\n",
       "\n",
       "    .dataframe tbody tr th {\n",
       "        vertical-align: top;\n",
       "    }\n",
       "\n",
       "    .dataframe thead th {\n",
       "        text-align: right;\n",
       "    }\n",
       "</style>\n",
       "<table border=\"1\" class=\"dataframe\">\n",
       "  <thead>\n",
       "    <tr style=\"text-align: right;\">\n",
       "      <th></th>\n",
       "      <th>score</th>\n",
       "      <th>group</th>\n",
       "    </tr>\n",
       "  </thead>\n",
       "  <tbody>\n",
       "    <tr>\n",
       "      <th>0</th>\n",
       "      <td>47.072824</td>\n",
       "      <td>B</td>\n",
       "    </tr>\n",
       "    <tr>\n",
       "      <th>1</th>\n",
       "      <td>49.316026</td>\n",
       "      <td>A</td>\n",
       "    </tr>\n",
       "    <tr>\n",
       "      <th>...</th>\n",
       "      <td>...</td>\n",
       "      <td>...</td>\n",
       "    </tr>\n",
       "    <tr>\n",
       "      <th>88</th>\n",
       "      <td>48.986768</td>\n",
       "      <td>A</td>\n",
       "    </tr>\n",
       "    <tr>\n",
       "      <th>89</th>\n",
       "      <td>50.010592</td>\n",
       "      <td>A</td>\n",
       "    </tr>\n",
       "  </tbody>\n",
       "</table>\n",
       "<p>90 rows × 2 columns</p>\n",
       "</div>"
      ],
      "text/plain": [
       "        score group\n",
       "0   47.072824     B\n",
       "1   49.316026     A\n",
       "..        ...   ...\n",
       "88  48.986768     A\n",
       "89  50.010592     A\n",
       "\n",
       "[90 rows x 2 columns]"
      ]
     },
     "metadata": {},
     "output_type": "display_data"
    }
   ],
   "source": [
    "print('data')\n",
    "display(data)"
   ]
  },
  {
   "cell_type": "code",
   "execution_count": null,
   "metadata": {},
   "outputs": [],
   "source": []
  },
  {
   "cell_type": "markdown",
   "metadata": {
    "solution2": "hidden",
    "solution2_first": true
   },
   "source": [
    "解答例\n",
    "\n",
    "---"
   ]
  },
  {
   "cell_type": "code",
   "execution_count": 7,
   "metadata": {
    "collapsed": true,
    "jupyter": {
     "outputs_hidden": true,
     "source_hidden": true
    },
    "solution2": "hidden"
   },
   "outputs": [
    {
     "data": {
      "text/plain": [
       "-0.8270628321291595"
      ]
     },
     "execution_count": 7,
     "metadata": {},
     "output_type": "execute_result"
    }
   ],
   "source": [
    "A = data.query('group == \"A\"')['score']\n",
    "B = data.query('group == \"B\"')['score']\n",
    "sx2 = A.var(ddof=1) / A.count()\n",
    "sy2 = B.var(ddof=1) / B.count()\n",
    "t = (A.mean() - B.mean()) / np.sqrt(sx2 + sy2)\n",
    "t"
   ]
  },
  {
   "cell_type": "markdown",
   "metadata": {},
   "source": [
    "---"
   ]
  },
  {
   "cell_type": "markdown",
   "metadata": {},
   "source": [
    "練習問題\n",
    "\n",
    "---\n",
    "この検定に対応する帰無分布の確率密度関数と、上で求めた $t$ 統計量の位置をグラフ表示する。"
   ]
  },
  {
   "cell_type": "code",
   "execution_count": null,
   "metadata": {},
   "outputs": [],
   "source": []
  },
  {
   "cell_type": "markdown",
   "metadata": {
    "solution2": "hidden",
    "solution2_first": true
   },
   "source": [
    "解答例\n",
    "\n",
    "---"
   ]
  },
  {
   "cell_type": "code",
   "execution_count": 8,
   "metadata": {
    "collapsed": true,
    "jupyter": {
     "outputs_hidden": true,
     "source_hidden": true
    },
    "solution2": "hidden"
   },
   "outputs": [
    {
     "data": {
      "image/png": "[encoded data removed]",
      "text/plain": [
       "<Figure size 432x288 with 1 Axes>"
      ]
     },
     "metadata": {
      "needs_background": "light"
     },
     "output_type": "display_data"
    }
   ],
   "source": [
    "x = np.linspace(-3, 3, 100)\n",
    "nu = (sx2 + sy2)**2 / (sx2**2 / (A.count() - 1) + sy2**2 / (B.count() - 1))\n",
    "null_dist = stats.t(nu)\n",
    "plt.plot(x, null_dist.pdf(x))\n",
    "sns.rugplot([t])\n",
    "plt.xticks([t])\n",
    "plt.show()"
   ]
  },
  {
   "cell_type": "markdown",
   "metadata": {},
   "source": [
    "---"
   ]
  },
  {
   "cell_type": "markdown",
   "metadata": {},
   "source": [
    "練習問題\n",
    "\n",
    "---\n",
    "上で求めた検定統計量 $𝑡$ に対応した $𝑝$ 値を求める。"
   ]
  },
  {
   "cell_type": "code",
   "execution_count": null,
   "metadata": {},
   "outputs": [],
   "source": []
  },
  {
   "cell_type": "markdown",
   "metadata": {
    "solution2": "hidden",
    "solution2_first": true
   },
   "source": [
    "解答例\n",
    "\n",
    "---"
   ]
  },
  {
   "cell_type": "code",
   "execution_count": 9,
   "metadata": {
    "collapsed": true,
    "jupyter": {
     "outputs_hidden": true,
     "source_hidden": true
    },
    "solution2": "hidden"
   },
   "outputs": [
    {
     "data": {
      "text/plain": [
       "0.4107247758044176"
      ]
     },
     "execution_count": 9,
     "metadata": {},
     "output_type": "execute_result"
    }
   ],
   "source": [
    "p = null_dist.sf(np.abs(t)) * 2\n",
    "p"
   ]
  },
  {
   "cell_type": "markdown",
   "metadata": {},
   "source": [
    "---"
   ]
  },
  {
   "cell_type": "markdown",
   "metadata": {},
   "source": [
    "## Pythonでの対応のない2群の平均の差の検定の実行方法\n",
    "---"
   ]
  },
  {
   "cell_type": "markdown",
   "metadata": {},
   "source": [
    "### 等分散の場合\n",
    "---\n",
    "`scipy.stats.ttest_ind`または`statsmodels.stats.weightstats.ttest_ind`を使用する。"
   ]
  },
  {
   "cell_type": "code",
   "execution_count": 10,
   "metadata": {
    "collapsed": true,
    "jupyter": {
     "outputs_hidden": true
    }
   },
   "outputs": [
    {
     "name": "stdout",
     "output_type": "stream",
     "text": [
      "Help on function ttest_ind in module scipy.stats.stats:\n",
      "\n",
      "ttest_ind(a, b, axis=0, equal_var=True, nan_policy='propagate')\n",
      "    Calculate the T-test for the means of *two independent* samples of scores.\n",
      "    \n",
      "    This is a two-sided test for the null hypothesis that 2 independent samples\n",
      "    have identical average (expected) values. This test assumes that the\n",
      "    populations have identical variances by default.\n",
      "    \n",
      "    Parameters\n",
      "    ----------\n",
      "    a, b : array_like\n",
      "        The arrays must have the same shape, except in the dimension\n",
      "        corresponding to `axis` (the first, by default).\n",
      "    axis : int or None, optional\n",
      "        Axis along which to compute test. If None, compute over the whole\n",
      "        arrays, `a`, and `b`.\n",
      "    equal_var : bool, optional\n",
      "        If True (default), perform a standard independent 2 sample test\n",
      "        that assumes equal population variances [1]_.\n",
      "        If False, perform Welch's t-test, which does not assume equal\n",
      "        population variance [2]_.\n",
      "    \n",
      "        .. versionadded:: 0.11.0\n",
      "    nan_policy : {'propagate', 'raise', 'omit'}, optional\n",
      "        Defines how to handle when input contains nan.\n",
      "        The following options are available (default is 'propagate'):\n",
      "    \n",
      "          * 'propagate': returns nan\n",
      "          * 'raise': throws an error\n",
      "          * 'omit': performs the calculations ignoring nan values\n",
      "    \n",
      "    \n",
      "    Returns\n",
      "    -------\n",
      "    statistic : float or array\n",
      "        The calculated t-statistic.\n",
      "    pvalue : float or array\n",
      "        The two-tailed p-value.\n",
      "    \n",
      "    Notes\n",
      "    -----\n",
      "    We can use this test, if we observe two independent samples from\n",
      "    the same or different population, e.g. exam scores of boys and\n",
      "    girls or of two ethnic groups. The test measures whether the\n",
      "    average (expected) value differs significantly across samples. If\n",
      "    we observe a large p-value, for example larger than 0.05 or 0.1,\n",
      "    then we cannot reject the null hypothesis of identical average scores.\n",
      "    If the p-value is smaller than the threshold, e.g. 1%, 5% or 10%,\n",
      "    then we reject the null hypothesis of equal averages.\n",
      "    \n",
      "    References\n",
      "    ----------\n",
      "    .. [1] https://en.wikipedia.org/wiki/T-test#Independent_two-sample_t-test\n",
      "    \n",
      "    .. [2] https://en.wikipedia.org/wiki/Welch%27s_t-test\n",
      "    \n",
      "    Examples\n",
      "    --------\n",
      "    >>> from scipy import stats\n",
      "    >>> np.random.seed(12345678)\n",
      "    \n",
      "    Test with sample with identical means:\n",
      "    \n",
      "    >>> rvs1 = stats.norm.rvs(loc=5,scale=10,size=500)\n",
      "    >>> rvs2 = stats.norm.rvs(loc=5,scale=10,size=500)\n",
      "    >>> stats.ttest_ind(rvs1,rvs2)\n",
      "    (0.26833823296239279, 0.78849443369564776)\n",
      "    >>> stats.ttest_ind(rvs1,rvs2, equal_var = False)\n",
      "    (0.26833823296239279, 0.78849452749500748)\n",
      "    \n",
      "    `ttest_ind` underestimates p for unequal variances:\n",
      "    \n",
      "    >>> rvs3 = stats.norm.rvs(loc=5, scale=20, size=500)\n",
      "    >>> stats.ttest_ind(rvs1, rvs3)\n",
      "    (-0.46580283298287162, 0.64145827413436174)\n",
      "    >>> stats.ttest_ind(rvs1, rvs3, equal_var = False)\n",
      "    (-0.46580283298287162, 0.64149646246569292)\n",
      "    \n",
      "    When n1 != n2, the equal variance t-statistic is no longer equal to the\n",
      "    unequal variance t-statistic:\n",
      "    \n",
      "    >>> rvs4 = stats.norm.rvs(loc=5, scale=20, size=100)\n",
      "    >>> stats.ttest_ind(rvs1, rvs4)\n",
      "    (-0.99882539442782481, 0.3182832709103896)\n",
      "    >>> stats.ttest_ind(rvs1, rvs4, equal_var = False)\n",
      "    (-0.69712570584654099, 0.48716927725402048)\n",
      "    \n",
      "    T-test with different means, variance, and n:\n",
      "    \n",
      "    >>> rvs5 = stats.norm.rvs(loc=8, scale=20, size=100)\n",
      "    >>> stats.ttest_ind(rvs1, rvs5)\n",
      "    (-1.4679669854490653, 0.14263895620529152)\n",
      "    >>> stats.ttest_ind(rvs1, rvs5, equal_var = False)\n",
      "    (-0.94365973617132992, 0.34744170334794122)\n",
      "\n"
     ]
    }
   ],
   "source": [
    "help(stats.ttest_ind)"
   ]
  },
  {
   "cell_type": "code",
   "execution_count": 11,
   "metadata": {},
   "outputs": [
    {
     "data": {
      "text/plain": [
       "Ttest_indResult(statistic=-0.8396879421853143, pvalue=0.4033588329742739)"
      ]
     },
     "execution_count": 11,
     "metadata": {},
     "output_type": "execute_result"
    }
   ],
   "source": [
    "stats.ttest_ind(\n",
    "    data.query('group == \"A\"')['score'],\n",
    "    data.query('group == \"B\"')['score'])"
   ]
  },
  {
   "cell_type": "code",
   "execution_count": 12,
   "metadata": {
    "collapsed": true,
    "jupyter": {
     "outputs_hidden": true
    }
   },
   "outputs": [
    {
     "name": "stdout",
     "output_type": "stream",
     "text": [
      "Help on function ttest_ind in module statsmodels.stats.weightstats:\n",
      "\n",
      "ttest_ind(x1, x2, alternative='two-sided', usevar='pooled', weights=(None, None), value=0)\n",
      "    ttest independent sample\n",
      "    \n",
      "    Convenience function that uses the classes and throws away the intermediate\n",
      "    results,\n",
      "    compared to scipy stats: drops axis option, adds alternative, usevar, and\n",
      "    weights option.\n",
      "    \n",
      "    Parameters\n",
      "    ----------\n",
      "    x1 : array_like, 1-D or 2-D\n",
      "        first of the two independent samples, see notes for 2-D case\n",
      "    x2 : array_like, 1-D or 2-D\n",
      "        second of the two independent samples, see notes for 2-D case\n",
      "    alternative : str\n",
      "        The alternative hypothesis, H1, has to be one of the following\n",
      "    \n",
      "           * 'two-sided' (default): H1: difference in means not equal to value\n",
      "           * 'larger' :   H1: difference in means larger than value\n",
      "           * 'smaller' :  H1: difference in means smaller than value\n",
      "    \n",
      "    usevar : str, 'pooled' or 'unequal'\n",
      "        If ``pooled``, then the standard deviation of the samples is assumed to be\n",
      "        the same. If ``unequal``, then Welsh ttest with Satterthwait degrees\n",
      "        of freedom is used\n",
      "    weights : tuple of None or ndarrays\n",
      "        Case weights for the two samples. For details on weights see\n",
      "        ``DescrStatsW``\n",
      "    value : float\n",
      "        difference between the means under the Null hypothesis.\n",
      "    \n",
      "    \n",
      "    Returns\n",
      "    -------\n",
      "    tstat : float\n",
      "        test statistic\n",
      "    pvalue : float\n",
      "        pvalue of the t-test\n",
      "    df : int or float\n",
      "        degrees of freedom used in the t-test\n",
      "\n"
     ]
    }
   ],
   "source": [
    "help(weightstats.ttest_ind)"
   ]
  },
  {
   "cell_type": "code",
   "execution_count": 13,
   "metadata": {},
   "outputs": [
    {
     "data": {
      "text/plain": [
       "(-0.8396879421853077, 0.40335883297427755, 88.0)"
      ]
     },
     "execution_count": 13,
     "metadata": {},
     "output_type": "execute_result"
    }
   ],
   "source": [
    "weightstats.ttest_ind(\n",
    "    data.query('group == \"A\"')['score'],\n",
    "    data.query('group == \"B\"')['score'])"
   ]
  },
  {
   "cell_type": "markdown",
   "metadata": {},
   "source": [
    "### 不等分散の場合\n",
    "---\n",
    "等分散の場合と同じく`scipy.stats.ttest_ind`または`statsmodels.stats.weightstats.ttest_ind`を使用し、`equal_var=False`や`usevar=\"unequal\"`にする。"
   ]
  },
  {
   "cell_type": "code",
   "execution_count": 14,
   "metadata": {
    "collapsed": true,
    "jupyter": {
     "outputs_hidden": true
    }
   },
   "outputs": [
    {
     "name": "stdout",
     "output_type": "stream",
     "text": [
      "Help on function ttest_ind in module scipy.stats.stats:\n",
      "\n",
      "ttest_ind(a, b, axis=0, equal_var=True, nan_policy='propagate')\n",
      "    Calculate the T-test for the means of *two independent* samples of scores.\n",
      "    \n",
      "    This is a two-sided test for the null hypothesis that 2 independent samples\n",
      "    have identical average (expected) values. This test assumes that the\n",
      "    populations have identical variances by default.\n",
      "    \n",
      "    Parameters\n",
      "    ----------\n",
      "    a, b : array_like\n",
      "        The arrays must have the same shape, except in the dimension\n",
      "        corresponding to `axis` (the first, by default).\n",
      "    axis : int or None, optional\n",
      "        Axis along which to compute test. If None, compute over the whole\n",
      "        arrays, `a`, and `b`.\n",
      "    equal_var : bool, optional\n",
      "        If True (default), perform a standard independent 2 sample test\n",
      "        that assumes equal population variances [1]_.\n",
      "        If False, perform Welch's t-test, which does not assume equal\n",
      "        population variance [2]_.\n",
      "    \n",
      "        .. versionadded:: 0.11.0\n",
      "    nan_policy : {'propagate', 'raise', 'omit'}, optional\n",
      "        Defines how to handle when input contains nan.\n",
      "        The following options are available (default is 'propagate'):\n",
      "    \n",
      "          * 'propagate': returns nan\n",
      "          * 'raise': throws an error\n",
      "          * 'omit': performs the calculations ignoring nan values\n",
      "    \n",
      "    \n",
      "    Returns\n",
      "    -------\n",
      "    statistic : float or array\n",
      "        The calculated t-statistic.\n",
      "    pvalue : float or array\n",
      "        The two-tailed p-value.\n",
      "    \n",
      "    Notes\n",
      "    -----\n",
      "    We can use this test, if we observe two independent samples from\n",
      "    the same or different population, e.g. exam scores of boys and\n",
      "    girls or of two ethnic groups. The test measures whether the\n",
      "    average (expected) value differs significantly across samples. If\n",
      "    we observe a large p-value, for example larger than 0.05 or 0.1,\n",
      "    then we cannot reject the null hypothesis of identical average scores.\n",
      "    If the p-value is smaller than the threshold, e.g. 1%, 5% or 10%,\n",
      "    then we reject the null hypothesis of equal averages.\n",
      "    \n",
      "    References\n",
      "    ----------\n",
      "    .. [1] https://en.wikipedia.org/wiki/T-test#Independent_two-sample_t-test\n",
      "    \n",
      "    .. [2] https://en.wikipedia.org/wiki/Welch%27s_t-test\n",
      "    \n",
      "    Examples\n",
      "    --------\n",
      "    >>> from scipy import stats\n",
      "    >>> np.random.seed(12345678)\n",
      "    \n",
      "    Test with sample with identical means:\n",
      "    \n",
      "    >>> rvs1 = stats.norm.rvs(loc=5,scale=10,size=500)\n",
      "    >>> rvs2 = stats.norm.rvs(loc=5,scale=10,size=500)\n",
      "    >>> stats.ttest_ind(rvs1,rvs2)\n",
      "    (0.26833823296239279, 0.78849443369564776)\n",
      "    >>> stats.ttest_ind(rvs1,rvs2, equal_var = False)\n",
      "    (0.26833823296239279, 0.78849452749500748)\n",
      "    \n",
      "    `ttest_ind` underestimates p for unequal variances:\n",
      "    \n",
      "    >>> rvs3 = stats.norm.rvs(loc=5, scale=20, size=500)\n",
      "    >>> stats.ttest_ind(rvs1, rvs3)\n",
      "    (-0.46580283298287162, 0.64145827413436174)\n",
      "    >>> stats.ttest_ind(rvs1, rvs3, equal_var = False)\n",
      "    (-0.46580283298287162, 0.64149646246569292)\n",
      "    \n",
      "    When n1 != n2, the equal variance t-statistic is no longer equal to the\n",
      "    unequal variance t-statistic:\n",
      "    \n",
      "    >>> rvs4 = stats.norm.rvs(loc=5, scale=20, size=100)\n",
      "    >>> stats.ttest_ind(rvs1, rvs4)\n",
      "    (-0.99882539442782481, 0.3182832709103896)\n",
      "    >>> stats.ttest_ind(rvs1, rvs4, equal_var = False)\n",
      "    (-0.69712570584654099, 0.48716927725402048)\n",
      "    \n",
      "    T-test with different means, variance, and n:\n",
      "    \n",
      "    >>> rvs5 = stats.norm.rvs(loc=8, scale=20, size=100)\n",
      "    >>> stats.ttest_ind(rvs1, rvs5)\n",
      "    (-1.4679669854490653, 0.14263895620529152)\n",
      "    >>> stats.ttest_ind(rvs1, rvs5, equal_var = False)\n",
      "    (-0.94365973617132992, 0.34744170334794122)\n",
      "\n"
     ]
    }
   ],
   "source": [
    "help(stats.ttest_ind)"
   ]
  },
  {
   "cell_type": "code",
   "execution_count": 15,
   "metadata": {},
   "outputs": [
    {
     "data": {
      "text/plain": [
       "Ttest_indResult(statistic=-0.8270628321291595, pvalue=0.4107247758044176)"
      ]
     },
     "execution_count": 15,
     "metadata": {},
     "output_type": "execute_result"
    }
   ],
   "source": [
    "stats.ttest_ind(data.query('group == \"A\"')['score'],\n",
    "                data.query('group == \"B\"')['score'],\n",
    "                equal_var=False)"
   ]
  },
  {
   "cell_type": "code",
   "execution_count": 16,
   "metadata": {
    "collapsed": true,
    "jupyter": {
     "outputs_hidden": true
    }
   },
   "outputs": [
    {
     "name": "stdout",
     "output_type": "stream",
     "text": [
      "Help on function ttest_ind in module statsmodels.stats.weightstats:\n",
      "\n",
      "ttest_ind(x1, x2, alternative='two-sided', usevar='pooled', weights=(None, None), value=0)\n",
      "    ttest independent sample\n",
      "    \n",
      "    Convenience function that uses the classes and throws away the intermediate\n",
      "    results,\n",
      "    compared to scipy stats: drops axis option, adds alternative, usevar, and\n",
      "    weights option.\n",
      "    \n",
      "    Parameters\n",
      "    ----------\n",
      "    x1 : array_like, 1-D or 2-D\n",
      "        first of the two independent samples, see notes for 2-D case\n",
      "    x2 : array_like, 1-D or 2-D\n",
      "        second of the two independent samples, see notes for 2-D case\n",
      "    alternative : str\n",
      "        The alternative hypothesis, H1, has to be one of the following\n",
      "    \n",
      "           * 'two-sided' (default): H1: difference in means not equal to value\n",
      "           * 'larger' :   H1: difference in means larger than value\n",
      "           * 'smaller' :  H1: difference in means smaller than value\n",
      "    \n",
      "    usevar : str, 'pooled' or 'unequal'\n",
      "        If ``pooled``, then the standard deviation of the samples is assumed to be\n",
      "        the same. If ``unequal``, then Welsh ttest with Satterthwait degrees\n",
      "        of freedom is used\n",
      "    weights : tuple of None or ndarrays\n",
      "        Case weights for the two samples. For details on weights see\n",
      "        ``DescrStatsW``\n",
      "    value : float\n",
      "        difference between the means under the Null hypothesis.\n",
      "    \n",
      "    \n",
      "    Returns\n",
      "    -------\n",
      "    tstat : float\n",
      "        test statistic\n",
      "    pvalue : float\n",
      "        pvalue of the t-test\n",
      "    df : int or float\n",
      "        degrees of freedom used in the t-test\n",
      "\n"
     ]
    }
   ],
   "source": [
    "help(weightstats.ttest_ind)"
   ]
  },
  {
   "cell_type": "code",
   "execution_count": 17,
   "metadata": {},
   "outputs": [
    {
     "data": {
      "text/plain": [
       "(-0.8270628321291532, 0.41072477580442124, 77.99187789833141)"
      ]
     },
     "execution_count": 17,
     "metadata": {},
     "output_type": "execute_result"
    }
   ],
   "source": [
    "weightstats.ttest_ind(data.query('group == \"A\"')['score'],\n",
    "                      data.query('group == \"B\"')['score'],\n",
    "                      usevar='unequal')"
   ]
  },
  {
   "cell_type": "markdown",
   "metadata": {},
   "source": [
    "## 注意点"
   ]
  },
  {
   "cell_type": "markdown",
   "metadata": {},
   "source": [
    "### 等分散性の判断\n",
    "---\n",
    "対応のない 2 群の $t$ 検定 (等分散) かウェルチの $t$ 検定 (不等分散) のどちらを使用するか判断するために等分散性の検定 ($F$ 検定) を実施することがある。 (サンプルサイズが小さく中心極限定理が利用できない場合には $F$ 検定の前に正規分布かどうかの検定を実施している場合もある)  \n",
    "これには以下の問題がある。"
   ]
  },
  {
   "cell_type": "markdown",
   "metadata": {},
   "source": [
    "#### $F$ 検定の結果の解釈\n",
    "---\n",
    "$F$ 検定は等分散を帰無仮説として、対立仮説である不等分散かどうかを判断するものだが、[検定結果の解釈](hypothesis_testing.ipynb#%E7%B5%90%E8%AB%96%E3%81%AE%E6%84%8F%E5%91%B3)としては帰無仮説を棄却した場合に不等分散であるのが確からしいことは主張できるが、帰無仮説が採択されたからといって等分散であることを積極的には主張できない。したがって、 $F$ 検定の結果をもって対応のない 2 群の $t$ 検定を使用すると判断することには問題がある。"
   ]
  },
  {
   "cell_type": "markdown",
   "metadata": {},
   "source": [
    "####  検定の多重性\n",
    "---\n",
    "複数の検定を併用した場合、検定の多重性という帰無仮説が正しいのに棄却してしまう第一種の誤りの可能性が高くなる問題が生じる。例えば有意水準 $\\alpha =0.05$ で 2 回検定すると $1-0.95^{2} \\fallingdotseq 0.098$ 、 3 回検定すると $1-0.95^{3} \\fallingdotseq 0.143$ と第一種の誤りの可能性は上昇していく。"
   ]
  },
  {
   "cell_type": "markdown",
   "metadata": {},
   "source": [
    "### 常に不等分散を前提とすることの問題\n",
    "---\n",
    "上記の問題があるため、対応のない 2 群の平均の差の検定では常にウェルチの検定を使うべきという立場も有力である。  \n",
    "しかし、ウェルチの検定は自由度を近似しているので、実際に等分散の場合には対応のない 2 群の $t$ 検定より結果が不正確になる。"
   ]
  },
  {
   "cell_type": "markdown",
   "metadata": {},
   "source": [
    "## 対応のない2群の比率の差の検定\n",
    "---\n",
    "[母比率の検定](z_test.ipynb)と同様に、標本分布が二項分布で**期待値 $np$ (および分散 $np(1-p)$) が大きいとき**には[正規分布 $\\mathcal{N}(np,np(1-p))$ で近似できる](../beginner/distribution.ipynb#%E7%A2%BA%E7%8E%87%E5%88%86%E5%B8%83%E3%81%BE%E3%81%A8%E3%82%81)ことを利用して検定する。\n",
    "\n",
    "2 標本について以下のように定義する。\n",
    "\n",
    "<table class=\"border text-center\">\n",
    "    <tr class=\"background-dark\">\n",
    "        <th></th>\n",
    "        <th>母比率</th>\n",
    "        <th>標本比率</th>\n",
    "        <th>サンプルサイズ</th>\n",
    "        <th>標本比率の推定量</th>\n",
    "    </tr>\n",
    "    <tr class=\"background-bright\">\n",
    "        <th class=\"border-bottom background-dark\">母集団 $1$</th>\n",
    "        <td>$\\mu _{X}$</td>\n",
    "        <td>$p_{X}$</td>\n",
    "        <td>$n_{X}$</td>\n",
    "        <td style=\"min-width: 13.5em;\">$\\overline{X}\\sim \\mathcal{N}(p_{X},\\ p_{X}(1-p_{X}))$</td>\n",
    "    </tr>\n",
    "    <tr class=\"background-bright\">\n",
    "        <th class=\"border-bottom background-dark\">母集団 $2$</th>\n",
    "        <td>$\\mu _{Y}$</td>\n",
    "        <td>$p_{Y}$</td>\n",
    "        <td>$n_{Y}$</td>\n",
    "        <td style=\"min-width: 13.5em;\">$\\overline{Y}\\sim \\mathcal{N}(p_{Y},\\ p_{Y}(1-p_{Y}))$</td>\n",
    "    </tr>\n",
    "</table>\n",
    "\n",
    "2 群の比率の差 $D=\\overline{X} -\\overline{Y}$ の分散の推定量はプールされた標本比率 $\\displaystyle \\hat{p} =\\frac{n_{X} p_{X} +n_{Y} p_{Y}}{n_{X} +n_{Y}}$ を使って、以下のように表される。\n",
    "\n",
    "$\n",
    "\\begin{align}\n",
    "    \\sigma ^{2}_{D} & =\\frac\n",
    "        {\\hat{p}\\left( 1-\\hat{p}\\right)}\n",
    "        {n_{X}}\n",
    "    +\\frac\n",
    "        {\\hat{p}\\left( 1-\\hat{p}\\right)}\n",
    "        {n_{Y}}\\\\\n",
    "     & \\\\\n",
    "     & =\\hat{p}\\left( 1-\\hat{p}\\right)\\left(\\frac\n",
    "         {1}\n",
    "         {n_{X}}\n",
    "     +\\frac\n",
    "         {1}\n",
    "         {n_{Y}}\n",
    "     \\right)\n",
    "\\end{align}\n",
    "$\n",
    "\n",
    "そこで、以下の統計量 $z$ が標準正規分布に従うことを利用して検定する。 (帰無仮説は $\\mu _{X}=\\mu _{Y}$)\n",
    "\n",
    "$\n",
    "\\begin{align}\n",
    "    z & =\\frac\n",
    "        {\\overline{D} -\\mu _{D}}\n",
    "        {\\sigma _{D}}\\\\\n",
    "     & \\\\\n",
    "     & =\\frac\n",
    "         {( p_{X} -p_{Y}) -( \\mu _{X} -\\mu _{Y})}\n",
    "         {\\sqrt{\n",
    "             \\hat{p}\\left( 1-\\hat{p}\\right)\\left(\\frac\n",
    "                 {1}\n",
    "                 {n_{X}}\n",
    "             +\\frac\n",
    "                 {1}\n",
    "                 {n_{Y}}\n",
    "             \\right)\n",
    "         }}\\\\\n",
    "     & \\\\\n",
    "     & =\\frac\n",
    "         {p_{X} -p_{Y}}\n",
    "         {\\sqrt{\n",
    "             \\hat{p}\\left( 1-\\hat{p}\\right)\\left(\\frac\n",
    "                 {1}\n",
    "                 {n_{X}}\n",
    "             +\\frac\n",
    "                 {1}\n",
    "                 {n_{Y}}\n",
    "             \\right)\n",
    "         }}\n",
    "\\end{align}\n",
    "$\n",
    "\n",
    "プールされた標本比率を使わず、 $\n",
    "\\displaystyle z=\\frac\n",
    "    {p_{X} -p_{Y}}\n",
    "    {\\sqrt{\n",
    "        \\displaystyle \\frac\n",
    "            {p_{X}( 1-p_{X})}\n",
    "            {n_{X}}\n",
    "        +\\frac\n",
    "            {p_{Y}( 1-p_{Y})}\n",
    "            {n_{Y}}\n",
    "    }}\n",
    "$ を利用してもよい。"
   ]
  },
  {
   "cell_type": "markdown",
   "metadata": {},
   "source": [
    "練習問題\n",
    "\n",
    "---\n",
    "東京と大阪の視聴率を調査した以下のデータセット`ratings`で、母比率に差があるかどうかを検定するための統計量 $z$ を求める。"
   ]
  },
  {
   "cell_type": "code",
   "execution_count": 18,
   "metadata": {
    "hide_input": true,
    "jupyter": {
     "source_hidden": true
    }
   },
   "outputs": [
    {
     "name": "stdout",
     "output_type": "stream",
     "text": [
      "ratings\n"
     ]
    },
    {
     "data": {
      "text/html": [
       "<div>\n",
       "<style scoped>\n",
       "    .dataframe tbody tr th:only-of-type {\n",
       "        vertical-align: middle;\n",
       "    }\n",
       "\n",
       "    .dataframe tbody tr th {\n",
       "        vertical-align: top;\n",
       "    }\n",
       "\n",
       "    .dataframe thead th {\n",
       "        text-align: right;\n",
       "    }\n",
       "</style>\n",
       "<table border=\"1\" class=\"dataframe\">\n",
       "  <thead>\n",
       "    <tr style=\"text-align: right;\">\n",
       "      <th></th>\n",
       "      <th>view</th>\n",
       "      <th>region</th>\n",
       "    </tr>\n",
       "  </thead>\n",
       "  <tbody>\n",
       "    <tr>\n",
       "      <th>0</th>\n",
       "      <td>0</td>\n",
       "      <td>東京</td>\n",
       "    </tr>\n",
       "    <tr>\n",
       "      <th>1</th>\n",
       "      <td>0</td>\n",
       "      <td>東京</td>\n",
       "    </tr>\n",
       "    <tr>\n",
       "      <th>...</th>\n",
       "      <td>...</td>\n",
       "      <td>...</td>\n",
       "    </tr>\n",
       "    <tr>\n",
       "      <th>598</th>\n",
       "      <td>0</td>\n",
       "      <td>大阪</td>\n",
       "    </tr>\n",
       "    <tr>\n",
       "      <th>599</th>\n",
       "      <td>0</td>\n",
       "      <td>大阪</td>\n",
       "    </tr>\n",
       "  </tbody>\n",
       "</table>\n",
       "<p>600 rows × 2 columns</p>\n",
       "</div>"
      ],
      "text/plain": [
       "     view region\n",
       "0       0     東京\n",
       "1       0     東京\n",
       "..    ...    ...\n",
       "598     0     大阪\n",
       "599     0     大阪\n",
       "\n",
       "[600 rows x 2 columns]"
      ]
     },
     "metadata": {},
     "output_type": "display_data"
    }
   ],
   "source": [
    "np.random.seed(1234)\n",
    "tokyo = stats.bernoulli.rvs(0.08, size=400)\n",
    "osaka = stats.bernoulli.rvs(0.12, size=200)\n",
    "ratings = pd.DataFrame(\n",
    "    dict(view=np.hstack([tokyo, osaka]),\n",
    "         region=['東京'] * tokyo.size + ['大阪'] * osaka.size))\n",
    "print('ratings')\n",
    "display(ratings)"
   ]
  },
  {
   "cell_type": "code",
   "execution_count": null,
   "metadata": {},
   "outputs": [],
   "source": []
  },
  {
   "cell_type": "markdown",
   "metadata": {
    "solution2": "hidden",
    "solution2_first": true
   },
   "source": [
    "解答例\n",
    "\n",
    "---"
   ]
  },
  {
   "cell_type": "code",
   "execution_count": 19,
   "metadata": {
    "collapsed": true,
    "jupyter": {
     "outputs_hidden": true,
     "source_hidden": true
    },
    "solution2": "hidden"
   },
   "outputs": [
    {
     "data": {
      "text/plain": [
       "-1.6950234656435301"
      ]
     },
     "execution_count": 19,
     "metadata": {},
     "output_type": "execute_result"
    }
   ],
   "source": [
    "tokyo = ratings.query('region == \"東京\"')['view']\n",
    "osaka = ratings.query('region == \"大阪\"')['view']\n",
    "p_t = tokyo.mean()\n",
    "p_o = osaka.mean()\n",
    "n_t = tokyo.count()\n",
    "n_o = osaka.count()\n",
    "p_hat = (n_t * p_t + n_o * p_o) / (n_t + n_o)\n",
    "z = (p_t - p_o) / np.sqrt(p_hat * (1 - p_hat) * (1 / n_t + 1 / n_o))\n",
    "z"
   ]
  },
  {
   "cell_type": "markdown",
   "metadata": {},
   "source": [
    "---"
   ]
  },
  {
   "cell_type": "markdown",
   "metadata": {},
   "source": [
    "練習問題\n",
    "\n",
    "---\n",
    "この検定に対応する帰無分布の確率密度関数と、上で求めた $z$ 統計量の位置をグラフ表示する。"
   ]
  },
  {
   "cell_type": "code",
   "execution_count": null,
   "metadata": {},
   "outputs": [],
   "source": []
  },
  {
   "cell_type": "markdown",
   "metadata": {
    "solution2": "hidden",
    "solution2_first": true
   },
   "source": [
    "解答例\n",
    "\n",
    "---"
   ]
  },
  {
   "cell_type": "code",
   "execution_count": 20,
   "metadata": {
    "collapsed": true,
    "jupyter": {
     "outputs_hidden": true,
     "source_hidden": true
    },
    "solution2": "hidden"
   },
   "outputs": [
    {
     "data": {
      "image/png": "[encoded data removed]",
      "text/plain": [
       "<Figure size 432x288 with 1 Axes>"
      ]
     },
     "metadata": {
      "needs_background": "light"
     },
     "output_type": "display_data"
    }
   ],
   "source": [
    "x = np.linspace(-3, 3, 100)\n",
    "null_dist = stats.norm()\n",
    "plt.plot(x, null_dist.pdf(x))\n",
    "sns.rugplot([z])\n",
    "plt.xticks([z])\n",
    "plt.show()"
   ]
  },
  {
   "cell_type": "markdown",
   "metadata": {},
   "source": [
    "---"
   ]
  },
  {
   "cell_type": "markdown",
   "metadata": {},
   "source": [
    "練習問題\n",
    "\n",
    "---\n",
    "上で求めた検定統計量 $z$ に対応した $p$ 値を求める。"
   ]
  },
  {
   "cell_type": "code",
   "execution_count": null,
   "metadata": {},
   "outputs": [],
   "source": []
  },
  {
   "cell_type": "markdown",
   "metadata": {
    "solution2": "hidden",
    "solution2_first": true
   },
   "source": [
    "解答例\n",
    "\n",
    "---"
   ]
  },
  {
   "cell_type": "code",
   "execution_count": 21,
   "metadata": {
    "collapsed": true,
    "jupyter": {
     "outputs_hidden": true,
     "source_hidden": true
    },
    "solution2": "hidden"
   },
   "outputs": [
    {
     "data": {
      "text/plain": [
       "0.09007096940440563"
      ]
     },
     "execution_count": 21,
     "metadata": {},
     "output_type": "execute_result"
    }
   ],
   "source": [
    "p = null_dist.sf(np.abs(z)) * 2\n",
    "p"
   ]
  },
  {
   "cell_type": "markdown",
   "metadata": {},
   "source": [
    "---"
   ]
  },
  {
   "cell_type": "markdown",
   "metadata": {},
   "source": [
    "## Pythonでの対応のない2群の比率の差の検定の実行方法\n",
    "---\n",
    "`statsmodels.stats.proportion.proportions_ztest`を使用する。"
   ]
  },
  {
   "cell_type": "code",
   "execution_count": 22,
   "metadata": {
    "collapsed": true,
    "jupyter": {
     "outputs_hidden": true
    }
   },
   "outputs": [
    {
     "name": "stdout",
     "output_type": "stream",
     "text": [
      "Help on function proportions_ztest in module statsmodels.stats.proportion:\n",
      "\n",
      "proportions_ztest(count, nobs, value=None, alternative='two-sided', prop_var=False)\n",
      "    Test for proportions based on normal (z) test\n",
      "    \n",
      "    Parameters\n",
      "    ----------\n",
      "    count : {int, array_like}\n",
      "        the number of successes in nobs trials. If this is array_like, then\n",
      "        the assumption is that this represents the number of successes for\n",
      "        each independent sample\n",
      "    nobs : {int, array_like}\n",
      "        the number of trials or observations, with the same length as\n",
      "        count.\n",
      "    value : float, array_like or None, optional\n",
      "        This is the value of the null hypothesis equal to the proportion in the\n",
      "        case of a one sample test. In the case of a two-sample test, the\n",
      "        null hypothesis is that prop[0] - prop[1] = value, where prop is the\n",
      "        proportion in the two samples. If not provided value = 0 and the null\n",
      "        is prop[0] = prop[1]\n",
      "    alternative : str in ['two-sided', 'smaller', 'larger']\n",
      "        The alternative hypothesis can be either two-sided or one of the one-\n",
      "        sided tests, smaller means that the alternative hypothesis is\n",
      "        ``prop < value`` and larger means ``prop > value``. In the two sample\n",
      "        test, smaller means that the alternative hypothesis is ``p1 < p2`` and\n",
      "        larger means ``p1 > p2`` where ``p1`` is the proportion of the first\n",
      "        sample and ``p2`` of the second one.\n",
      "    prop_var : False or float in (0, 1)\n",
      "        If prop_var is false, then the variance of the proportion estimate is\n",
      "        calculated based on the sample proportion. Alternatively, a proportion\n",
      "        can be specified to calculate this variance. Common use case is to\n",
      "        use the proportion under the Null hypothesis to specify the variance\n",
      "        of the proportion estimate.\n",
      "    \n",
      "    Returns\n",
      "    -------\n",
      "    zstat : float\n",
      "        test statistic for the z-test\n",
      "    p-value : float\n",
      "        p-value for the z-test\n",
      "    \n",
      "    Examples\n",
      "    --------\n",
      "    >>> count = 5\n",
      "    >>> nobs = 83\n",
      "    >>> value = .05\n",
      "    >>> stat, pval = proportions_ztest(count, nobs, value)\n",
      "    >>> print('{0:0.3f}'.format(pval))\n",
      "    0.695\n",
      "    \n",
      "    >>> import numpy as np\n",
      "    >>> from statsmodels.stats.proportion import proportions_ztest\n",
      "    >>> count = np.array([5, 12])\n",
      "    >>> nobs = np.array([83, 99])\n",
      "    >>> stat, pval = proportions_ztest(count, nobs)\n",
      "    >>> print('{0:0.3f}'.format(pval))\n",
      "    0.159\n",
      "    \n",
      "    Notes\n",
      "    -----\n",
      "    This uses a simple normal test for proportions. It should be the same as\n",
      "    running the mean z-test on the data encoded 1 for event and 0 for no event\n",
      "    so that the sum corresponds to the count.\n",
      "    \n",
      "    In the one and two sample cases with two-sided alternative, this test\n",
      "    produces the same p-value as ``proportions_chisquare``, since the\n",
      "    chisquare is the distribution of the square of a standard normal\n",
      "    distribution.\n",
      "\n"
     ]
    }
   ],
   "source": [
    "help(proportions_ztest)"
   ]
  },
  {
   "cell_type": "code",
   "execution_count": 23,
   "metadata": {},
   "outputs": [
    {
     "data": {
      "text/plain": [
       "(-1.6950234656435301, 0.09007096940440563)"
      ]
     },
     "execution_count": 23,
     "metadata": {},
     "output_type": "execute_result"
    }
   ],
   "source": [
    "proportions_ztest([tokyo.sum(), osaka.sum()], [tokyo.count(), osaka.count()])"
   ]
  },
  {
   "cell_type": "markdown",
   "metadata": {},
   "source": [
    "## 推薦図書\n",
    "---\n",
    "- [Rによるやさしい統計学](https://www.amazon.co.jp/R%E3%81%AB%E3%82%88%E3%82%8B%E3%82%84%E3%81%95%E3%81%97%E3%81%84%E7%B5%B1%E8%A8%88%E5%AD%A6-%E5%B1%B1%E7%94%B0-%E5%89%9B%E5%8F%B2/dp/4274067106/)\n",
    "- [心理統計学の基礎―統合的理解のために](https://www.amazon.co.jp/%E5%BF%83%E7%90%86%E7%B5%B1%E8%A8%88%E5%AD%A6%E3%81%AE%E5%9F%BA%E7%A4%8E%E2%80%95%E7%B5%B1%E5%90%88%E7%9A%84%E7%90%86%E8%A7%A3%E3%81%AE%E3%81%9F%E3%82%81%E3%81%AB-%E6%9C%89%E6%96%90%E9%96%A3%E3%82%A2%E3%83%AB%E3%83%9E-%E5%8D%97%E9%A2%A8%E5%8E%9F-%E6%9C%9D%E5%92%8C/dp/4641121605/)"
   ]
  }
 ],
 "metadata": {
  "kernelspec": {
   "display_name": "Python 3",
   "language": "python",
   "name": "python3"
  },
  "language_info": {
   "codemirror_mode": {
    "name": "ipython",
    "version": 3
   },
   "file_extension": ".py",
   "mimetype": "text/x-python",
   "name": "python",
   "nbconvert_exporter": "python",
   "pygments_lexer": "ipython3",
   "version": "3.8.3"
  },
  "toc": {
   "base_numbering": 1,
   "nav_menu": {},
   "number_sections": true,
   "sideBar": true,
   "skip_h1_title": true,
   "title_cell": "Table of Contents",
   "title_sidebar": "Contents",
   "toc_cell": false,
   "toc_position": {},
   "toc_section_display": true,
   "toc_window_display": true
  },
  "varInspector": {
   "cols": {
    "lenName": 16,
    "lenType": 16,
    "lenVar": 40
   },
   "kernels_config": {
    "python": {
     "delete_cmd_postfix": "",
     "delete_cmd_prefix": "del ",
     "library": "var_list.py",
     "varRefreshCmd": "print(var_dic_list())"
    },
    "r": {
     "delete_cmd_postfix": ") ",
     "delete_cmd_prefix": "rm(",
     "library": "var_list.r",
     "varRefreshCmd": "cat(var_dic_list()) "
    }
   },
   "types_to_exclude": [
    "module",
    "function",
    "builtin_function_or_method",
    "instance",
    "_Feature"
   ],
   "window_display": false
  },
  "widgets": {
   "application/vnd.jupyter.widget-state+json": {
    "state": {},
    "version_major": 2,
    "version_minor": 0
   }
  }
 },
 "nbformat": 4,
 "nbformat_minor": 4
}
