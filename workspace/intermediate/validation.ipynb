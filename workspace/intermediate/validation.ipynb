{
 "cells": [
  {
   "cell_type": "code",
   "execution_count": 1,
   "metadata": {},
   "outputs": [],
   "source": [
    "import numpy as np\n",
    "import pandas as pd\n",
    "from sklearn.datasets import load_breast_cancer, load_wine\n",
    "from sklearn.tree import DecisionTreeClassifier\n",
    "from sklearn.model_selection import cross_validate\n",
    "from sklearn.model_selection import ParameterGrid, GridSearchCV, RandomizedSearchCV\n",
    "from IPython.display import display\n",
    "pd.set_option('max_rows', 5)\n",
    "pd.set_option('max_columns', 9)"
   ]
  },
  {
   "cell_type": "markdown",
   "metadata": {},
   "source": [
    "## バリデーション (validation)\n",
    "---\n",
    "ハイパーパラメーター調整のために、学習に使用していないデータを用いてモデルを評価すること。\n",
    "\n",
    "機械学習ではモデルのパラメーターはデータから自動的に学習するものとユーザーが設定するもの (クラス引数に与える値) がある。後者を特にハイパーパラメーターと呼ぶ。\n",
    "\n",
    "<table class=\"border text-center\">\n",
    "    <tr class=\"background-dark\">\n",
    "        <th>種類</th>\n",
    "        <th>名称</th>\n",
    "        <th>具体例</th>\n",
    "    </tr>\n",
    "    <tr class=\"background-bright\">\n",
    "        <td>データから自動的に学習するもの</td>\n",
    "        <td>パラメータ</td>\n",
    "        <td>$w$ (ウェイト) や $b$ (バイアス)</td>\n",
    "    </tr>\n",
    "    <tr class=\"background-bright\">\n",
    "        <td>ユーザーが設定するもの</td>\n",
    "        <td>ハイパーパラメーター</td>\n",
    "        <td>L1 ・ L2正則化の $\\alpha$</td>\n",
    "    </tr>\n",
    "</table>\n",
    "\n",
    "ハイパーパラメーターの値をチューニング (調整) することで精度を向上できる。"
   ]
  },
  {
   "cell_type": "markdown",
   "metadata": {},
   "source": [
    "## バリデーションの必要性\n",
    "---\n",
    "テストデータでの精度向上を目指してチューニングすると、ハイパーパラメーターの値にテストデータの情報が盛り込まれてしまう。  \n",
    "= 手動でテストデータの情報をモデルに与え、**テストデータに対して過学習**を起こし、本当に未知のデータに対する汎化性能が測定できなくなる。\n",
    "\n",
    " 1. あるハイパーパラメーターの値 $( \\theta _{1})$ を使ってトレーニングデータ $( x_{train} ,y_{train})$ で学習\n",
    " 1. テストデータ $( x_{test} ,y_{test})$ での精度 $( L_{\\theta _{1}})$ を見る\n",
    " 1. 別のハイパーパラメーターの値 $( \\theta _{2} ,\\theta _{3} ,\\cdots )$ を試す\n",
    " 1. テストデータで精度がよかったハイパーパラメーター $( \\theta _{best})$ を採用\n",
    " 1. 採用したハイパーパラメーター $( \\theta _{best})$ はテストデータで精度が出るように調整されたものなので、実際に運用してみると期待した精度が出ない\n",
    "\n",
    "そこで、ハイパーパラメーターのチューニングには、データセットをトレーニングデータ・バリデーションデータ・テストデータに分割し、\n",
    "\n",
    " - トレーニングデータで学習 → バリデーションデータでハイパーパラメータをチューニング → テストデータで汎化能力確認\n",
    "\n",
    "<table class=\"text-center\">\n",
    "    <tr>\n",
    "        <th colspan=\"5\">データセット</th>\n",
    "    </tr>\n",
    "    <tr class=\"border-bottom\">\n",
    "        <th>トレーニングデータ</th>\n",
    "        <th></th>\n",
    "        <th>バリデーションデータ</th>\n",
    "        <th></th>\n",
    "        <th>テストデータ</th>\n",
    "    </tr>\n",
    "    <tr>\n",
    "        <td>学習</td>\n",
    "        <td>→</td>\n",
    "        <td>ハイパーパラメーターのチューニング</td>\n",
    "        <td>→</td>\n",
    "        <td>汎化性能の確認</td>\n",
    "    </tr>\n",
    "</table>\n",
    "\n",
    "という手順を踏む。\n",
    "\n",
    "バリデーションデータを使ってハイパーパラメーターを決定した後は、そのハイパーパラメーターとデータセット全体 (トレーニングデータ+バリデーションデータ) を使ってパラメーターを学習させる。\n",
    "\n",
    " 1. あるハイパーパラメーターの値 $( \\theta _{1})$ を使ってトレーニングデータ $( x_{train} ,y_{train})$ で学習\n",
    " 1. バリデーションデータ $( x_{valid} ,y_{valid})$ での精度 $( L_{\\theta _{1}})$ を見る\n",
    " 1. 別のハイパーパラメーターの値 $( \\theta _{2} ,\\theta _{3} ,\\cdots )$ を試す\n",
    " 1. バリデーションデータで精度がよかったハイパーパラメーター $( \\theta _{best})$ を採用\n",
    " 1. 採用したハイパーパラメーター $( \\theta_{best})$ を使って学習用の全データ $( x_{train}+x_{valid} ,y_{train}+y_{valid})$ で学習\n",
    " 1. テストデータ $( x_{test} ,y_{test})$ で汎化性能を確認"
   ]
  },
  {
   "cell_type": "markdown",
   "metadata": {},
   "source": [
    "## バリデーションの種類"
   ]
  },
  {
   "cell_type": "markdown",
   "metadata": {},
   "source": [
    "### ホールドアウト法\n",
    "---\n",
    "テストと同様にデータセットの一部からバリデーション用のデータを取り出し、トレーニングデータで学習、バリデーションデータでハイパーパラメーターの性能を評価する方法。\n",
    "\n",
    "トレーニングデータ・バリデーションデータ・テストデータの割合は、 $6:2:2$ や $8:1:1$ などバリデーションデータとテストデータの割合を同程度にすることが多い。"
   ]
  },
  {
   "cell_type": "markdown",
   "metadata": {},
   "source": [
    "#### Pythonでのホールドアウト法の実行方法\n",
    "---\n",
    "テストデータと同様に`sklearn.model_selection.train_test_split`を使用する。"
   ]
  },
  {
   "cell_type": "markdown",
   "metadata": {},
   "source": [
    "### 交差検証法 (cross-validation)\n",
    "---\n",
    "訓練データを $k$ 個に分割し、1個をバリデーションデータ・残りを訓練データとして利用し性能評価、それを全ての組で行って、平均性能をそのハイパーパラメーターの性能とする。\n",
    "\n",
    "<table class=\"border text-center\">\n",
    "    <tr class=\"background-dark\">\n",
    "        <th colspan=\"6\">パラメータ $\\theta _{1}$ の学習</th>\n",
    "    </tr>\n",
    "    <tr class=\"background-dark\">\n",
    "        <td></td>\n",
    "        <td>データセット1</td>\n",
    "        <td>データセット2</td>\n",
    "        <td>…</td>\n",
    "        <td>データセットk</td>\n",
    "        <td>平均</td>\n",
    "    </tr>\n",
    "    <tr class=\"background-bright\">\n",
    "        <td>1回目</td>\n",
    "        <td>バリデーションデータ</td>\n",
    "        <td>トレーニングデータ</td>\n",
    "        <td>…</td>\n",
    "        <td>トレーニングデータ</td>\n",
    "        <td rowspan=\"4\">$\\theta _{1}$ の性能</td>\n",
    "    </tr>\n",
    "    <tr class=\"background-bright\">\n",
    "        <td>2回目</td>\n",
    "        <td>トレーニングデータ</td>\n",
    "        <td>バリデーションデータ</td>\n",
    "        <td>…</td>\n",
    "        <td>トレーニングデータ</td>\n",
    "    </tr>\n",
    "    <tr class=\"background-bright\">\n",
    "        <td colspan=\"5\">$\\vdots$</td>\n",
    "    </tr>\n",
    "    <tr class=\"background-bright\">\n",
    "        <td>k回目</td>\n",
    "        <td>トレーニングデータ</td>\n",
    "        <td>トレーニングデータ</td>\n",
    "        <td>…</td>\n",
    "        <td>バリデーションデータ</td>\n",
    "    </tr>\n",
    "    <tr class=\"border-none background-default\">\n",
    "        <td colspan=\"6\"></td>\n",
    "    </tr>\n",
    "    <tr class=\"background-dark\">\n",
    "        <th colspan=\"6\">パラメータ $\\theta _{2}$ の学習</th>\n",
    "    </tr>\n",
    "    <tr class=\"background-dark\">\n",
    "        <td></td>\n",
    "        <td>データセット1</td>\n",
    "        <td>データセット2</td>\n",
    "        <td>…</td>\n",
    "        <td>データセットk</td>\n",
    "        <td>平均</td>\n",
    "    </tr>\n",
    "    <tr class=\"background-bright\">\n",
    "        <td>1回目</td>\n",
    "        <td>バリデーションデータ</td>\n",
    "        <td>トレーニングデータ</td>\n",
    "        <td>…</td>\n",
    "        <td>トレーニングデータ</td>\n",
    "        <td rowspan=\"4\">$\\theta _{2}$ の性能</td>\n",
    "    </tr>\n",
    "    <tr class=\"background-bright\">\n",
    "        <td>2回目</td>\n",
    "        <td>トレーニングデータ</td>\n",
    "        <td>バリデーションデータ</td>\n",
    "        <td>…</td>\n",
    "        <td>トレーニングデータ</td>\n",
    "    </tr>\n",
    "    <tr class=\"background-bright\">\n",
    "        <td colspan=\"5\">$\\vdots$</td>\n",
    "    </tr>\n",
    "    <tr class=\"background-bright\">\n",
    "        <td>k回目</td>\n",
    "        <td>トレーニングデータ</td>\n",
    "        <td>トレーニングデータ</td>\n",
    "        <td>…</td>\n",
    "        <td>バリデーションデータ</td>\n",
    "    </tr>\n",
    "    <tr class=\"border-none background-default\">\n",
    "        <td colspan=\"6\">$\\vdots$</td>\n",
    "    </tr>\n",
    "</table>\n",
    "\n",
    " - トレーニングデータとバリデーションデータの分け方による誤差に強い\n",
    " - 各ハイパーパラメーターごとに $k$ 回学習を行うので、実行にかかる時間が長くなる\n",
    "\n",
    "特に分類問題で完全にランダムにデータを分割すると、各グループでクラスの偏りが発生する可能性があるので、元データのクラス比率を維持しながら分割する層化 k 分割交差検証 (stratified k-fold cross-validation) を用いることも多い。\n",
    "\n",
    "極端にデータが少ない場合にはバリデーションデータとして 1 サンプルのみを使用する LOO (Leave One Out) も使われることがある。"
   ]
  },
  {
   "cell_type": "markdown",
   "metadata": {},
   "source": [
    "#### クロスバリデーションとテスト\n",
    "---\n",
    "クロスバリデーションを実施する際もテストを行うのが望ましいが、計算コストの高いクロスバリデーションは**データが少ない場合に使われることが多く**、テストデータを十分に確保できない。また、 1 つのハイパーパラメーターに対して複数のデータ分割で評価しているので、ホールドアウト法より過学習を起こしにくい。  \n",
    "そのため、クロスバリデーションを実施する場合にはテストは行わないことも多い。"
   ]
  },
  {
   "cell_type": "markdown",
   "metadata": {},
   "source": [
    "#### Pythonでのクロスバリデーションの実行方法\n",
    "---\n",
    "`sklearn.model_selection.cross_validate`や各モデル名の後に CV のついたもの (`RidgeCV`など) を使用する。"
   ]
  },
  {
   "cell_type": "code",
   "execution_count": 2,
   "metadata": {
    "hide_input": true
   },
   "outputs": [
    {
     "name": "stdout",
     "output_type": "stream",
     "text": [
      "wine\n"
     ]
    },
    {
     "data": {
      "text/html": [
       "<div>\n",
       "<style scoped>\n",
       "    .dataframe tbody tr th:only-of-type {\n",
       "        vertical-align: middle;\n",
       "    }\n",
       "\n",
       "    .dataframe tbody tr th {\n",
       "        vertical-align: top;\n",
       "    }\n",
       "\n",
       "    .dataframe thead th {\n",
       "        text-align: right;\n",
       "    }\n",
       "</style>\n",
       "<table border=\"1\" class=\"dataframe\">\n",
       "  <thead>\n",
       "    <tr style=\"text-align: right;\">\n",
       "      <th></th>\n",
       "      <th>alcohol</th>\n",
       "      <th>malic_acid</th>\n",
       "      <th>ash</th>\n",
       "      <th>alcalinity_of_ash</th>\n",
       "      <th>...</th>\n",
       "      <th>hue</th>\n",
       "      <th>od280/od315_of_diluted_wines</th>\n",
       "      <th>proline</th>\n",
       "      <th>target</th>\n",
       "    </tr>\n",
       "  </thead>\n",
       "  <tbody>\n",
       "    <tr>\n",
       "      <th>0</th>\n",
       "      <td>14.23</td>\n",
       "      <td>1.71</td>\n",
       "      <td>2.43</td>\n",
       "      <td>15.6</td>\n",
       "      <td>...</td>\n",
       "      <td>1.04</td>\n",
       "      <td>3.92</td>\n",
       "      <td>1065.0</td>\n",
       "      <td>0.0</td>\n",
       "    </tr>\n",
       "    <tr>\n",
       "      <th>1</th>\n",
       "      <td>13.20</td>\n",
       "      <td>1.78</td>\n",
       "      <td>2.14</td>\n",
       "      <td>11.2</td>\n",
       "      <td>...</td>\n",
       "      <td>1.05</td>\n",
       "      <td>3.40</td>\n",
       "      <td>1050.0</td>\n",
       "      <td>0.0</td>\n",
       "    </tr>\n",
       "    <tr>\n",
       "      <th>...</th>\n",
       "      <td>...</td>\n",
       "      <td>...</td>\n",
       "      <td>...</td>\n",
       "      <td>...</td>\n",
       "      <td>...</td>\n",
       "      <td>...</td>\n",
       "      <td>...</td>\n",
       "      <td>...</td>\n",
       "      <td>...</td>\n",
       "    </tr>\n",
       "    <tr>\n",
       "      <th>176</th>\n",
       "      <td>13.17</td>\n",
       "      <td>2.59</td>\n",
       "      <td>2.37</td>\n",
       "      <td>20.0</td>\n",
       "      <td>...</td>\n",
       "      <td>0.60</td>\n",
       "      <td>1.62</td>\n",
       "      <td>840.0</td>\n",
       "      <td>2.0</td>\n",
       "    </tr>\n",
       "    <tr>\n",
       "      <th>177</th>\n",
       "      <td>14.13</td>\n",
       "      <td>4.10</td>\n",
       "      <td>2.74</td>\n",
       "      <td>24.5</td>\n",
       "      <td>...</td>\n",
       "      <td>0.61</td>\n",
       "      <td>1.60</td>\n",
       "      <td>560.0</td>\n",
       "      <td>2.0</td>\n",
       "    </tr>\n",
       "  </tbody>\n",
       "</table>\n",
       "<p>178 rows × 14 columns</p>\n",
       "</div>"
      ],
      "text/plain": [
       "     alcohol  malic_acid   ash  alcalinity_of_ash  ...   hue  \\\n",
       "0      14.23        1.71  2.43               15.6  ...  1.04   \n",
       "1      13.20        1.78  2.14               11.2  ...  1.05   \n",
       "..       ...         ...   ...                ...  ...   ...   \n",
       "176    13.17        2.59  2.37               20.0  ...  0.60   \n",
       "177    14.13        4.10  2.74               24.5  ...  0.61   \n",
       "\n",
       "     od280/od315_of_diluted_wines  proline  target  \n",
       "0                            3.92   1065.0     0.0  \n",
       "1                            3.40   1050.0     0.0  \n",
       "..                            ...      ...     ...  \n",
       "176                          1.62    840.0     2.0  \n",
       "177                          1.60    560.0     2.0  \n",
       "\n",
       "[178 rows x 14 columns]"
      ]
     },
     "metadata": {},
     "output_type": "display_data"
    }
   ],
   "source": [
    "loader = load_wine()\n",
    "wine = pd.DataFrame(np.column_stack([loader.data, loader.target]), columns=list(loader.feature_names)+['target'])\n",
    "print('wine')\n",
    "display(wine)"
   ]
  },
  {
   "cell_type": "code",
   "execution_count": 3,
   "metadata": {},
   "outputs": [],
   "source": [
    "cross_validate??"
   ]
  },
  {
   "cell_type": "code",
   "execution_count": 4,
   "metadata": {},
   "outputs": [
    {
     "data": {
      "text/plain": [
       "{'fit_time': array([0.00326562, 0.00321031, 0.03324509, 0.00886345, 0.00340986]),\n",
       " 'score_time': array([0.00169373, 0.00252652, 0.00148702, 0.00944495, 0.00138354]),\n",
       " 'test_score': array([0.86486486, 0.86111111, 0.94444444, 0.91428571, 0.82352941])}"
      ]
     },
     "execution_count": 4,
     "metadata": {},
     "output_type": "execute_result"
    }
   ],
   "source": [
    "x = wine.iloc[:, :-1]\n",
    "y = wine.iloc[:, -1]\n",
    "model = DecisionTreeClassifier()\n",
    "cross_validate(model, x, y, cv=5, n_jobs=-1)"
   ]
  },
  {
   "cell_type": "markdown",
   "metadata": {},
   "source": [
    "## ハイパーパラメーターサーチ\n",
    "---\n",
    "様々なハイパーパラメーターを試して、精度のいいものを探すこと。"
   ]
  },
  {
   "cell_type": "markdown",
   "metadata": {},
   "source": [
    "### グリッドサーチ\n",
    "---\n",
    "与えられたハイパーパラメーターの値候補の全組み合わせを試して、最も精度のよい組み合わせを探す方法。"
   ]
  },
  {
   "cell_type": "markdown",
   "metadata": {},
   "source": [
    "#### Pythonでのグリッドサーチの実行方法\n",
    "---\n",
    "`sklearn.model_selection.GridSearchCV`を使用する。`sklearn.model_selection.ParameterGrid`で探索するハイパーパラメーターの全組み合わせを作成しておく必要がある。"
   ]
  },
  {
   "cell_type": "code",
   "execution_count": 5,
   "metadata": {},
   "outputs": [],
   "source": [
    "ParameterGrid??"
   ]
  },
  {
   "cell_type": "code",
   "execution_count": 6,
   "metadata": {},
   "outputs": [
    {
     "data": {
      "text/plain": [
       "[{'criterion': 'gini', 'max_depth': 3},\n",
       " {'criterion': 'gini', 'max_depth': 4},\n",
       " {'criterion': 'gini', 'max_depth': 5},\n",
       " {'criterion': 'entropy', 'max_depth': 3},\n",
       " {'criterion': 'entropy', 'max_depth': 4},\n",
       " {'criterion': 'entropy', 'max_depth': 5}]"
      ]
     },
     "execution_count": 6,
     "metadata": {},
     "output_type": "execute_result"
    }
   ],
   "source": [
    "params = dict(criterion=['gini', 'entropy'], max_depth=[3, 4, 5])\n",
    "grid = ParameterGrid(params)\n",
    "list(grid)"
   ]
  },
  {
   "cell_type": "code",
   "execution_count": 7,
   "metadata": {},
   "outputs": [],
   "source": [
    "GridSearchCV??"
   ]
  },
  {
   "cell_type": "code",
   "execution_count": 8,
   "metadata": {},
   "outputs": [
    {
     "name": "stderr",
     "output_type": "stream",
     "text": [
      "/root/local/python-3.7.4/lib/python3.7/site-packages/sklearn/model_selection/_search.py:814: DeprecationWarning: The default of the `iid` parameter will change from True to False in version 0.22 and will be removed in 0.24. This will change numeric results when test-set sizes are unequal.\n",
      "  DeprecationWarning)\n"
     ]
    },
    {
     "data": {
      "text/plain": [
       "{'mean_fit_time': array([0.00338502, 0.00492487, 0.00315108, 0.00726948, 0.00485044,\n",
       "        0.00324054]),\n",
       " 'std_fit_time': array([0.0003883 , 0.00181055, 0.00035019, 0.00870925, 0.00194904,\n",
       "        0.00027113]),\n",
       " 'mean_score_time': array([0.00163679, 0.00237145, 0.00164824, 0.00259037, 0.00174861,\n",
       "        0.00170245]),\n",
       " 'std_score_time': array([0.00015081, 0.00157183, 0.00024042, 0.00219463, 0.00066622,\n",
       "        0.00041292]),\n",
       " 'param_criterion': masked_array(data=['gini', 'gini', 'gini', 'entropy', 'entropy',\n",
       "                    'entropy'],\n",
       "              mask=[False, False, False, False, False, False],\n",
       "        fill_value='?',\n",
       "             dtype=object),\n",
       " 'param_max_depth': masked_array(data=[3, 4, 5, 3, 4, 5],\n",
       "              mask=[False, False, False, False, False, False],\n",
       "        fill_value='?',\n",
       "             dtype=object),\n",
       " 'params': [{'criterion': 'gini', 'max_depth': 3},\n",
       "  {'criterion': 'gini', 'max_depth': 4},\n",
       "  {'criterion': 'gini', 'max_depth': 5},\n",
       "  {'criterion': 'entropy', 'max_depth': 3},\n",
       "  {'criterion': 'entropy', 'max_depth': 4},\n",
       "  {'criterion': 'entropy', 'max_depth': 5}],\n",
       " 'split0_test_score': array([0.78378378, 0.86486486, 0.81081081, 0.78378378, 0.81081081,\n",
       "        0.81081081]),\n",
       " 'split1_test_score': array([0.88888889, 0.80555556, 0.80555556, 0.91666667, 0.91666667,\n",
       "        0.91666667]),\n",
       " 'split2_test_score': array([0.83333333, 0.86111111, 0.91666667, 0.94444444, 0.88888889,\n",
       "        0.94444444]),\n",
       " 'split3_test_score': array([0.8       , 0.91428571, 0.91428571, 0.97142857, 0.94285714,\n",
       "        0.97142857]),\n",
       " 'split4_test_score': array([0.94117647, 0.97058824, 0.85294118, 0.88235294, 0.88235294,\n",
       "        0.88235294]),\n",
       " 'mean_test_score': array([0.84831461, 0.88202247, 0.85955056, 0.8988764 , 0.88764045,\n",
       "        0.90449438]),\n",
       " 'std_test_score': array([0.05787994, 0.05509225, 0.04838031, 0.06576156, 0.04474972,\n",
       "        0.05613985]),\n",
       " 'rank_test_score': array([6, 4, 5, 2, 3, 1], dtype=int32)}"
      ]
     },
     "execution_count": 8,
     "metadata": {},
     "output_type": "execute_result"
    }
   ],
   "source": [
    "gs = GridSearchCV(model, params, n_jobs=-1, cv=5)\n",
    "gs.fit(x, y)\n",
    "gs.cv_results_"
   ]
  },
  {
   "cell_type": "code",
   "execution_count": 9,
   "metadata": {},
   "outputs": [
    {
     "data": {
      "text/plain": [
       "{'criterion': 'entropy', 'max_depth': 5}"
      ]
     },
     "execution_count": 9,
     "metadata": {},
     "output_type": "execute_result"
    }
   ],
   "source": [
    "gs.best_params_"
   ]
  },
  {
   "cell_type": "markdown",
   "metadata": {},
   "source": [
    "### ランダムサーチ\n",
    "---\n",
    "与えられたハイパーパラメーターの値候補からランダムに組み合わせて、精度のよい組み合わせを探す方法。  \n",
    "複数のハイパーパラメーターのうち、精度に大きく影響するものは少数であったり、どのハイパーパラメーターをどのくらいの範囲で探索するのが効率的かわからなかったりするので、グリッドサーチを実施する前に絞り込みに利用したりする。"
   ]
  },
  {
   "cell_type": "markdown",
   "metadata": {},
   "source": [
    "#### Pythonでのランダムサーチの実行方法\n",
    "---\n",
    "`sklearn.model_selection.RandomizedSearchCV`を使用する。"
   ]
  },
  {
   "cell_type": "code",
   "execution_count": 10,
   "metadata": {},
   "outputs": [],
   "source": [
    "RandomizedSearchCV??"
   ]
  },
  {
   "cell_type": "code",
   "execution_count": 11,
   "metadata": {},
   "outputs": [
    {
     "name": "stderr",
     "output_type": "stream",
     "text": [
      "/root/local/python-3.7.4/lib/python3.7/site-packages/sklearn/model_selection/_search.py:814: DeprecationWarning: The default of the `iid` parameter will change from True to False in version 0.22 and will be removed in 0.24. This will change numeric results when test-set sizes are unequal.\n",
      "  DeprecationWarning)\n"
     ]
    },
    {
     "data": {
      "text/plain": [
       "{'mean_fit_time': array([0.00629029, 0.0054584 , 0.00372019]),\n",
       " 'std_fit_time': array([0.00213839, 0.0007098 , 0.00036564]),\n",
       " 'mean_score_time': array([0.00295606, 0.00226474, 0.00140395]),\n",
       " 'std_score_time': array([0.00170592, 0.00069231, 0.0001398 ]),\n",
       " 'param_max_depth': masked_array(data=[5, 4, 5],\n",
       "              mask=[False, False, False],\n",
       "        fill_value='?',\n",
       "             dtype=object),\n",
       " 'param_criterion': masked_array(data=['gini', 'gini', 'entropy'],\n",
       "              mask=[False, False, False],\n",
       "        fill_value='?',\n",
       "             dtype=object),\n",
       " 'params': [{'max_depth': 5, 'criterion': 'gini'},\n",
       "  {'max_depth': 4, 'criterion': 'gini'},\n",
       "  {'max_depth': 5, 'criterion': 'entropy'}],\n",
       " 'split0_test_score': array([0.78378378, 0.81081081, 0.81081081]),\n",
       " 'split1_test_score': array([0.80555556, 0.83333333, 0.91666667]),\n",
       " 'split2_test_score': array([0.88888889, 0.94444444, 0.88888889]),\n",
       " 'split3_test_score': array([0.91428571, 0.91428571, 0.97142857]),\n",
       " 'split4_test_score': array([0.82352941, 0.97058824, 0.88235294]),\n",
       " 'mean_test_score': array([0.84269663, 0.89325843, 0.89325843]),\n",
       " 'std_test_score': array([0.05009863, 0.06243649, 0.05245857]),\n",
       " 'rank_test_score': array([3, 1, 1], dtype=int32)}"
      ]
     },
     "execution_count": 11,
     "metadata": {},
     "output_type": "execute_result"
    }
   ],
   "source": [
    "rs = RandomizedSearchCV(model, params, n_iter=3, n_jobs=-1, cv=5, random_state=1234)\n",
    "rs.fit(x, y)\n",
    "rs.cv_results_"
   ]
  },
  {
   "cell_type": "code",
   "execution_count": 12,
   "metadata": {},
   "outputs": [
    {
     "data": {
      "text/plain": [
       "{'max_depth': 4, 'criterion': 'gini'}"
      ]
     },
     "execution_count": 12,
     "metadata": {},
     "output_type": "execute_result"
    }
   ],
   "source": [
    "rs.best_params_"
   ]
  }
 ],
 "metadata": {
  "kernelspec": {
   "display_name": "Python 3",
   "language": "python",
   "name": "python3"
  },
  "language_info": {
   "codemirror_mode": {
    "name": "ipython",
    "version": 3
   },
   "file_extension": ".py",
   "mimetype": "text/x-python",
   "name": "python",
   "nbconvert_exporter": "python",
   "pygments_lexer": "ipython3",
   "version": "3.7.4"
  },
  "toc": {
   "base_numbering": 1,
   "nav_menu": {},
   "number_sections": true,
   "sideBar": true,
   "skip_h1_title": true,
   "title_cell": "Table of Contents",
   "title_sidebar": "Contents",
   "toc_cell": false,
   "toc_position": {},
   "toc_section_display": true,
   "toc_window_display": true
  },
  "varInspector": {
   "cols": {
    "lenName": 16,
    "lenType": 16,
    "lenVar": 40
   },
   "kernels_config": {
    "python": {
     "delete_cmd_postfix": "",
     "delete_cmd_prefix": "del ",
     "library": "var_list.py",
     "varRefreshCmd": "print(var_dic_list())"
    },
    "r": {
     "delete_cmd_postfix": ") ",
     "delete_cmd_prefix": "rm(",
     "library": "var_list.r",
     "varRefreshCmd": "cat(var_dic_list()) "
    }
   },
   "types_to_exclude": [
    "module",
    "function",
    "builtin_function_or_method",
    "instance",
    "_Feature"
   ],
   "window_display": false
  }
 },
 "nbformat": 4,
 "nbformat_minor": 2
}
