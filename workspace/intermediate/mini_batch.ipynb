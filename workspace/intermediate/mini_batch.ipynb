{
 "cells": [
  {
   "cell_type": "code",
   "execution_count": 1,
   "metadata": {},
   "outputs": [],
   "source": [
    "import random\n",
    "from math import ceil\n",
    "import numpy as np\n",
    "from sklearn.datasets import make_blobs, make_classification, make_regression\n",
    "from sklearn.cluster import MiniBatchKMeans\n",
    "from sklearn.linear_model import SGDClassifier, SGDRegressor"
   ]
  },
  {
   "cell_type": "markdown",
   "metadata": {},
   "source": [
    "## ミニバッチ学習\n",
    "---\n",
    "確率的勾配降下法のように、データセットのミニバッチを使って少しずつ学習させていく手法。"
   ]
  },
  {
   "cell_type": "markdown",
   "metadata": {},
   "source": [
    "## Pythonでのミニバッチ作成\n",
    "---\n",
    "`yield`を使用してジェネレーターを作成する。  \n",
    "DB からの読み込みと組み合わせると、サイズの大きいデータセットでも学習可能。"
   ]
  },
  {
   "cell_type": "code",
   "execution_count": 2,
   "metadata": {},
   "outputs": [],
   "source": [
    "class BatchGenerator(object):\n",
    "    def __init__(self, x, y=None, batch_size=10, random_state=None):\n",
    "        self.x = x\n",
    "        self.y = y\n",
    "        self.batch_size = batch_size\n",
    "        self.n_data = len(x)\n",
    "        self.step = 0\n",
    "        self.step_per_epoch = ceil(self.n_data / self.batch_size)\n",
    "        self.index = np.arange(self.n_data)\n",
    "        if random_state:\n",
    "            random.seed(random_state)\n",
    "\n",
    "    def __iter__(self):\n",
    "        return self\n",
    "\n",
    "    def __next__(self):\n",
    "        if self.step is 0:\n",
    "            random.shuffle(self.index)\n",
    "        begin = self.batch_size * self.step\n",
    "        end = min(begin + self.batch_size, self.n_data)\n",
    "        batch_x = self.x[begin:end]\n",
    "        if self.y is None:\n",
    "            batch = batch_x\n",
    "        else:\n",
    "            batch_y = self.y[begin:end]\n",
    "            batch = (batch_x, batch_y)\n",
    "        self.step = (self.step + 1) % self.step_per_epoch\n",
    "\n",
    "        return batch"
   ]
  },
  {
   "cell_type": "code",
   "execution_count": 3,
   "metadata": {},
   "outputs": [
    {
     "name": "stdout",
     "output_type": "stream",
     "text": [
      "[[ 0.85958841 -0.6365235 ]\n",
      " [-0.33407737  0.00211836]\n",
      " [-0.20393287 -0.18217541]] [-9.7636448  -3.49365597 -7.584586  ]\n",
      "[[ 0.01569637 -2.24268495]\n",
      " [-0.8596683   0.22598549]\n",
      " [ 1.03380073 -2.40045363]] [-66.47629433  -2.43671178 -60.32574025]\n"
     ]
    }
   ],
   "source": [
    "x, y = make_regression(n_samples=100, n_features=2, random_state=1234)\n",
    "gen = BatchGenerator(x, y, batch_size=3, random_state=1234)\n",
    "for _ in range(2):\n",
    "    x, y = next(gen)\n",
    "    print(x, y)"
   ]
  },
  {
   "cell_type": "markdown",
   "metadata": {},
   "source": [
    "## scikit-learnのミニバッチ学習実装\n",
    "---\n",
    "`partial_fit`メソッドにミニバッチを与えて学習する。"
   ]
  },
  {
   "cell_type": "markdown",
   "metadata": {},
   "source": [
    "### Mini-Batch K-Means\n",
    "---\n",
    "ミニバッチ学習による K-Means クラスタリング。  \n",
    "`sklearn.cluster.MiniBatchKMeans`を使用する。"
   ]
  },
  {
   "cell_type": "code",
   "execution_count": 4,
   "metadata": {},
   "outputs": [],
   "source": [
    "MiniBatchKMeans??"
   ]
  },
  {
   "cell_type": "code",
   "execution_count": 5,
   "metadata": {},
   "outputs": [],
   "source": [
    "x_cluster, _ = make_blobs(n_samples=100000, n_features=2, random_state=1234)\n",
    "gen_cluster = BatchGenerator(x_cluster, batch_size=1000, random_state=1234)\n",
    "km = MiniBatchKMeans(n_clusters=3, random_state=1234)\n",
    "tol = 100\n",
    "best_score = np.inf\n",
    "early_stopping = 10\n",
    "no_improvement = 0\n",
    "while(best_score > tol):\n",
    "    batch = next(gen_cluster)\n",
    "    km.partial_fit(batch)\n",
    "    if best_score <= km.inertia_:\n",
    "        no_improvement += 1\n",
    "    else:\n",
    "        no_improvement = 0\n",
    "        best_score = km.inertia_\n",
    "    if no_improvement is early_stopping:\n",
    "        break"
   ]
  },
  {
   "cell_type": "markdown",
   "metadata": {},
   "source": [
    "### SGD Classifier\n",
    "---\n",
    "確率的勾配降下法 (SGD) による分類。`loss='hinge'`で SVM ・`loss='log'`でロジスティック回帰の SGD 版になる。  \n",
    "`sklearn.linear_model.SGDClassifier`を使用する。"
   ]
  },
  {
   "cell_type": "code",
   "execution_count": 6,
   "metadata": {},
   "outputs": [],
   "source": [
    "SGDClassifier??"
   ]
  },
  {
   "cell_type": "code",
   "execution_count": 7,
   "metadata": {},
   "outputs": [],
   "source": [
    "x_clf, y_clf = make_classification(n_samples=100000, random_state=1234)\n",
    "gen_clf = BatchGenerator(x_clf, y_clf, batch_size=100, random_state=1234)\n",
    "clf = SGDClassifier(loss='log', n_jobs=-1, random_state=1234)\n",
    "classes = np.unique(y_clf)\n",
    "for _ in range(10000):\n",
    "    batch_x, batch_y = next(gen_clf)\n",
    "    clf.partial_fit(batch_x, batch_y, classes=classes)"
   ]
  },
  {
   "cell_type": "markdown",
   "metadata": {},
   "source": [
    "### SGD Regressor\n",
    "---\n",
    "確率的勾配降下法 (SGD) による回帰。  \n",
    "`sklearn.linear_model.SGDRegressor`を使用する。"
   ]
  },
  {
   "cell_type": "code",
   "execution_count": 8,
   "metadata": {},
   "outputs": [],
   "source": [
    "SGDRegressor??"
   ]
  },
  {
   "cell_type": "code",
   "execution_count": 9,
   "metadata": {},
   "outputs": [],
   "source": [
    "x_reg, y_reg = make_regression(n_samples=100000, random_state=1234)\n",
    "gen_reg = BatchGenerator(x_reg, y_reg, batch_size=100, random_state=1234)\n",
    "reg = SGDRegressor(random_state=1234)\n",
    "for _ in range(10000):\n",
    "    batch_x, batch_y = next(gen_reg)\n",
    "    reg.partial_fit(batch_x, batch_y)"
   ]
  }
 ],
 "metadata": {
  "kernelspec": {
   "display_name": "Python 3",
   "language": "python",
   "name": "python3"
  },
  "language_info": {
   "codemirror_mode": {
    "name": "ipython",
    "version": 3
   },
   "file_extension": ".py",
   "mimetype": "text/x-python",
   "name": "python",
   "nbconvert_exporter": "python",
   "pygments_lexer": "ipython3",
   "version": "3.7.4"
  },
  "toc": {
   "base_numbering": 1,
   "nav_menu": {},
   "number_sections": true,
   "sideBar": true,
   "skip_h1_title": true,
   "title_cell": "Table of Contents",
   "title_sidebar": "Contents",
   "toc_cell": false,
   "toc_position": {},
   "toc_section_display": true,
   "toc_window_display": true
  },
  "varInspector": {
   "cols": {
    "lenName": 16,
    "lenType": 16,
    "lenVar": 40
   },
   "kernels_config": {
    "python": {
     "delete_cmd_postfix": "",
     "delete_cmd_prefix": "del ",
     "library": "var_list.py",
     "varRefreshCmd": "print(var_dic_list())"
    },
    "r": {
     "delete_cmd_postfix": ") ",
     "delete_cmd_prefix": "rm(",
     "library": "var_list.r",
     "varRefreshCmd": "cat(var_dic_list()) "
    }
   },
   "types_to_exclude": [
    "module",
    "function",
    "builtin_function_or_method",
    "instance",
    "_Feature"
   ],
   "window_display": false
  }
 },
 "nbformat": 4,
 "nbformat_minor": 2
}
