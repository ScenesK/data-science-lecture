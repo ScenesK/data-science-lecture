{
 "cells": [
  {
   "cell_type": "code",
   "execution_count": 1,
   "metadata": {},
   "outputs": [],
   "source": [
    "import numpy as np\n",
    "from scipy.stats import norm\n",
    "import pandas as pd\n",
    "from sklearn.datasets import make_classification, make_regression\n",
    "from sklearn.model_selection import train_test_split\n",
    "from sklearn.linear_model import LogisticRegression, LinearRegression\n",
    "from sklearn.metrics import accuracy_score, r2_score, mean_squared_error, mean_absolute_error\n",
    "from sklearn.calibration import calibration_curve\n",
    "import statsmodels.api as sm\n",
    "import matplotlib.pyplot as plt\n",
    "from IPython.display import display\n",
    "pd.set_option('max_rows', 5)\n",
    "%matplotlib inline"
   ]
  },
  {
   "cell_type": "markdown",
   "metadata": {},
   "source": [
    "# 評価指標"
   ]
  },
  {
   "cell_type": "markdown",
   "metadata": {},
   "source": [
    "## 分類の評価指標"
   ]
  },
  {
   "cell_type": "code",
   "execution_count": 2,
   "metadata": {
    "hide_input": true,
    "jupyter": {
     "source_hidden": true
    }
   },
   "outputs": [
    {
     "name": "stdout",
     "output_type": "stream",
     "text": [
      "clf_train\n"
     ]
    },
    {
     "data": {
      "text/html": [
       "<div>\n",
       "<style scoped>\n",
       "    .dataframe tbody tr th:only-of-type {\n",
       "        vertical-align: middle;\n",
       "    }\n",
       "\n",
       "    .dataframe tbody tr th {\n",
       "        vertical-align: top;\n",
       "    }\n",
       "\n",
       "    .dataframe thead th {\n",
       "        text-align: right;\n",
       "    }\n",
       "</style>\n",
       "<table border=\"1\" class=\"dataframe\">\n",
       "  <thead>\n",
       "    <tr style=\"text-align: right;\">\n",
       "      <th></th>\n",
       "      <th>$x_1$</th>\n",
       "      <th>$x_2$</th>\n",
       "      <th>$x_3$</th>\n",
       "      <th>$x_4$</th>\n",
       "      <th>$x_5$</th>\n",
       "      <th>$y_{true}$</th>\n",
       "    </tr>\n",
       "  </thead>\n",
       "  <tbody>\n",
       "    <tr>\n",
       "      <th>0</th>\n",
       "      <td>-1.264517</td>\n",
       "      <td>-0.317810</td>\n",
       "      <td>1.192785</td>\n",
       "      <td>2.276830</td>\n",
       "      <td>1.431184</td>\n",
       "      <td>1.0</td>\n",
       "    </tr>\n",
       "    <tr>\n",
       "      <th>1</th>\n",
       "      <td>0.909403</td>\n",
       "      <td>0.073113</td>\n",
       "      <td>-0.960346</td>\n",
       "      <td>-1.714961</td>\n",
       "      <td>0.298984</td>\n",
       "      <td>0.0</td>\n",
       "    </tr>\n",
       "    <tr>\n",
       "      <th>...</th>\n",
       "      <td>...</td>\n",
       "      <td>...</td>\n",
       "      <td>...</td>\n",
       "      <td>...</td>\n",
       "      <td>...</td>\n",
       "      <td>...</td>\n",
       "    </tr>\n",
       "    <tr>\n",
       "      <th>73</th>\n",
       "      <td>-0.948686</td>\n",
       "      <td>-0.893450</td>\n",
       "      <td>0.462831</td>\n",
       "      <td>1.381451</td>\n",
       "      <td>-1.268994</td>\n",
       "      <td>1.0</td>\n",
       "    </tr>\n",
       "    <tr>\n",
       "      <th>74</th>\n",
       "      <td>-1.250956</td>\n",
       "      <td>-1.747812</td>\n",
       "      <td>0.234538</td>\n",
       "      <td>1.537458</td>\n",
       "      <td>1.076541</td>\n",
       "      <td>1.0</td>\n",
       "    </tr>\n",
       "  </tbody>\n",
       "</table>\n",
       "<p>75 rows × 6 columns</p>\n",
       "</div>"
      ],
      "text/plain": [
       "       $x_1$     $x_2$     $x_3$     $x_4$     $x_5$  $y_{true}$\n",
       "0  -1.264517 -0.317810  1.192785  2.276830  1.431184         1.0\n",
       "1   0.909403  0.073113 -0.960346 -1.714961  0.298984         0.0\n",
       "..       ...       ...       ...       ...       ...         ...\n",
       "73 -0.948686 -0.893450  0.462831  1.381451 -1.268994         1.0\n",
       "74 -1.250956 -1.747812  0.234538  1.537458  1.076541         1.0\n",
       "\n",
       "[75 rows x 6 columns]"
      ]
     },
     "metadata": {},
     "output_type": "display_data"
    },
    {
     "name": "stdout",
     "output_type": "stream",
     "text": [
      "clf_test\n"
     ]
    },
    {
     "data": {
      "text/html": [
       "<div>\n",
       "<style scoped>\n",
       "    .dataframe tbody tr th:only-of-type {\n",
       "        vertical-align: middle;\n",
       "    }\n",
       "\n",
       "    .dataframe tbody tr th {\n",
       "        vertical-align: top;\n",
       "    }\n",
       "\n",
       "    .dataframe thead th {\n",
       "        text-align: right;\n",
       "    }\n",
       "</style>\n",
       "<table border=\"1\" class=\"dataframe\">\n",
       "  <thead>\n",
       "    <tr style=\"text-align: right;\">\n",
       "      <th></th>\n",
       "      <th>$x_1$</th>\n",
       "      <th>$x_2$</th>\n",
       "      <th>$x_3$</th>\n",
       "      <th>$x_4$</th>\n",
       "      <th>$x_5$</th>\n",
       "      <th>$y_{true}$</th>\n",
       "    </tr>\n",
       "  </thead>\n",
       "  <tbody>\n",
       "    <tr>\n",
       "      <th>0</th>\n",
       "      <td>0.439331</td>\n",
       "      <td>0.839825</td>\n",
       "      <td>0.066697</td>\n",
       "      <td>-0.427226</td>\n",
       "      <td>-0.660230</td>\n",
       "      <td>0.0</td>\n",
       "    </tr>\n",
       "    <tr>\n",
       "      <th>1</th>\n",
       "      <td>-0.397057</td>\n",
       "      <td>0.581005</td>\n",
       "      <td>0.823577</td>\n",
       "      <td>1.054490</td>\n",
       "      <td>-0.061246</td>\n",
       "      <td>1.0</td>\n",
       "    </tr>\n",
       "    <tr>\n",
       "      <th>...</th>\n",
       "      <td>...</td>\n",
       "      <td>...</td>\n",
       "      <td>...</td>\n",
       "      <td>...</td>\n",
       "      <td>...</td>\n",
       "      <td>...</td>\n",
       "    </tr>\n",
       "    <tr>\n",
       "      <th>23</th>\n",
       "      <td>0.998859</td>\n",
       "      <td>1.101113</td>\n",
       "      <td>-0.381504</td>\n",
       "      <td>-1.374502</td>\n",
       "      <td>0.387674</td>\n",
       "      <td>0.0</td>\n",
       "    </tr>\n",
       "    <tr>\n",
       "      <th>24</th>\n",
       "      <td>-0.116642</td>\n",
       "      <td>-1.791178</td>\n",
       "      <td>-1.052071</td>\n",
       "      <td>-0.668758</td>\n",
       "      <td>-0.157099</td>\n",
       "      <td>0.0</td>\n",
       "    </tr>\n",
       "  </tbody>\n",
       "</table>\n",
       "<p>25 rows × 6 columns</p>\n",
       "</div>"
      ],
      "text/plain": [
       "       $x_1$     $x_2$     $x_3$     $x_4$     $x_5$  $y_{true}$\n",
       "0   0.439331  0.839825  0.066697 -0.427226 -0.660230         0.0\n",
       "1  -0.397057  0.581005  0.823577  1.054490 -0.061246         1.0\n",
       "..       ...       ...       ...       ...       ...         ...\n",
       "23  0.998859  1.101113 -0.381504 -1.374502  0.387674         0.0\n",
       "24 -0.116642 -1.791178 -1.052071 -0.668758 -0.157099         0.0\n",
       "\n",
       "[25 rows x 6 columns]"
      ]
     },
     "metadata": {},
     "output_type": "display_data"
    },
    {
     "name": "stdout",
     "output_type": "stream",
     "text": [
      "reg_train\n"
     ]
    },
    {
     "data": {
      "text/html": [
       "<div>\n",
       "<style scoped>\n",
       "    .dataframe tbody tr th:only-of-type {\n",
       "        vertical-align: middle;\n",
       "    }\n",
       "\n",
       "    .dataframe tbody tr th {\n",
       "        vertical-align: top;\n",
       "    }\n",
       "\n",
       "    .dataframe thead th {\n",
       "        text-align: right;\n",
       "    }\n",
       "</style>\n",
       "<table border=\"1\" class=\"dataframe\">\n",
       "  <thead>\n",
       "    <tr style=\"text-align: right;\">\n",
       "      <th></th>\n",
       "      <th>$x_1$</th>\n",
       "      <th>$x_2$</th>\n",
       "      <th>$x_3$</th>\n",
       "      <th>$x_4$</th>\n",
       "      <th>$x_5$</th>\n",
       "      <th>$y_{true}$</th>\n",
       "    </tr>\n",
       "  </thead>\n",
       "  <tbody>\n",
       "    <tr>\n",
       "      <th>0</th>\n",
       "      <td>1.384580</td>\n",
       "      <td>1.951103</td>\n",
       "      <td>-0.286425</td>\n",
       "      <td>0.500070</td>\n",
       "      <td>-0.278367</td>\n",
       "      <td>98.163942</td>\n",
       "    </tr>\n",
       "    <tr>\n",
       "      <th>1</th>\n",
       "      <td>-0.684128</td>\n",
       "      <td>0.331527</td>\n",
       "      <td>0.599962</td>\n",
       "      <td>-0.217199</td>\n",
       "      <td>-0.383365</td>\n",
       "      <td>-47.749979</td>\n",
       "    </tr>\n",
       "    <tr>\n",
       "      <th>...</th>\n",
       "      <td>...</td>\n",
       "      <td>...</td>\n",
       "      <td>...</td>\n",
       "      <td>...</td>\n",
       "      <td>...</td>\n",
       "      <td>...</td>\n",
       "    </tr>\n",
       "    <tr>\n",
       "      <th>73</th>\n",
       "      <td>1.015405</td>\n",
       "      <td>0.440266</td>\n",
       "      <td>0.749185</td>\n",
       "      <td>-0.675521</td>\n",
       "      <td>0.688972</td>\n",
       "      <td>162.855411</td>\n",
       "    </tr>\n",
       "    <tr>\n",
       "      <th>74</th>\n",
       "      <td>-0.897157</td>\n",
       "      <td>0.755414</td>\n",
       "      <td>-0.136795</td>\n",
       "      <td>0.018289</td>\n",
       "      <td>0.215269</td>\n",
       "      <td>-66.752940</td>\n",
       "    </tr>\n",
       "  </tbody>\n",
       "</table>\n",
       "<p>75 rows × 6 columns</p>\n",
       "</div>"
      ],
      "text/plain": [
       "       $x_1$     $x_2$     $x_3$     $x_4$     $x_5$  $y_{true}$\n",
       "0   1.384580  1.951103 -0.286425  0.500070 -0.278367   98.163942\n",
       "1  -0.684128  0.331527  0.599962 -0.217199 -0.383365  -47.749979\n",
       "..       ...       ...       ...       ...       ...         ...\n",
       "73  1.015405  0.440266  0.749185 -0.675521  0.688972  162.855411\n",
       "74 -0.897157  0.755414 -0.136795  0.018289  0.215269  -66.752940\n",
       "\n",
       "[75 rows x 6 columns]"
      ]
     },
     "metadata": {},
     "output_type": "display_data"
    },
    {
     "name": "stdout",
     "output_type": "stream",
     "text": [
      "reg_test\n"
     ]
    },
    {
     "data": {
      "text/html": [
       "<div>\n",
       "<style scoped>\n",
       "    .dataframe tbody tr th:only-of-type {\n",
       "        vertical-align: middle;\n",
       "    }\n",
       "\n",
       "    .dataframe tbody tr th {\n",
       "        vertical-align: top;\n",
       "    }\n",
       "\n",
       "    .dataframe thead th {\n",
       "        text-align: right;\n",
       "    }\n",
       "</style>\n",
       "<table border=\"1\" class=\"dataframe\">\n",
       "  <thead>\n",
       "    <tr style=\"text-align: right;\">\n",
       "      <th></th>\n",
       "      <th>$x_1$</th>\n",
       "      <th>$x_2$</th>\n",
       "      <th>$x_3$</th>\n",
       "      <th>$x_4$</th>\n",
       "      <th>$x_5$</th>\n",
       "      <th>$y_{true}$</th>\n",
       "    </tr>\n",
       "  </thead>\n",
       "  <tbody>\n",
       "    <tr>\n",
       "      <th>0</th>\n",
       "      <td>1.343182</td>\n",
       "      <td>-1.553342</td>\n",
       "      <td>-0.050540</td>\n",
       "      <td>-0.364010</td>\n",
       "      <td>-0.319298</td>\n",
       "      <td>69.510039</td>\n",
       "    </tr>\n",
       "    <tr>\n",
       "      <th>1</th>\n",
       "      <td>0.264534</td>\n",
       "      <td>-0.174298</td>\n",
       "      <td>0.565658</td>\n",
       "      <td>0.585084</td>\n",
       "      <td>-1.071369</td>\n",
       "      <td>8.398147</td>\n",
       "    </tr>\n",
       "    <tr>\n",
       "      <th>...</th>\n",
       "      <td>...</td>\n",
       "      <td>...</td>\n",
       "      <td>...</td>\n",
       "      <td>...</td>\n",
       "      <td>...</td>\n",
       "      <td>...</td>\n",
       "    </tr>\n",
       "    <tr>\n",
       "      <th>23</th>\n",
       "      <td>-0.240483</td>\n",
       "      <td>-1.815558</td>\n",
       "      <td>0.585599</td>\n",
       "      <td>0.352801</td>\n",
       "      <td>-0.910124</td>\n",
       "      <td>-33.476320</td>\n",
       "    </tr>\n",
       "    <tr>\n",
       "      <th>24</th>\n",
       "      <td>0.023558</td>\n",
       "      <td>-0.722662</td>\n",
       "      <td>-0.660230</td>\n",
       "      <td>-0.318685</td>\n",
       "      <td>0.177387</td>\n",
       "      <td>-45.749417</td>\n",
       "    </tr>\n",
       "  </tbody>\n",
       "</table>\n",
       "<p>25 rows × 6 columns</p>\n",
       "</div>"
      ],
      "text/plain": [
       "       $x_1$     $x_2$     $x_3$     $x_4$     $x_5$  $y_{true}$\n",
       "0   1.343182 -1.553342 -0.050540 -0.364010 -0.319298   69.510039\n",
       "1   0.264534 -0.174298  0.565658  0.585084 -1.071369    8.398147\n",
       "..       ...       ...       ...       ...       ...         ...\n",
       "23 -0.240483 -1.815558  0.585599  0.352801 -0.910124  -33.476320\n",
       "24  0.023558 -0.722662 -0.660230 -0.318685  0.177387  -45.749417\n",
       "\n",
       "[25 rows x 6 columns]"
      ]
     },
     "metadata": {},
     "output_type": "display_data"
    }
   ],
   "source": [
    "n_features = 5\n",
    "x_clf, y_clf = make_classification(n_features=n_features, random_state=1234)\n",
    "x_reg, y_reg = make_regression(n_features=n_features,\n",
    "                               noise=0.1,\n",
    "                               random_state=1234)\n",
    "\n",
    "\n",
    "def to_dataframe(x, y):\n",
    "    return pd.DataFrame(np.column_stack([x, y]),\n",
    "                        columns=[f'$x_{i+1}$' for i in range(x.shape[1])] +\n",
    "                        ['$y_{true}$'])\n",
    "\n",
    "\n",
    "x_clf_train, x_clf_test, y_clf_train, y_clf_test = train_test_split(\n",
    "    x_clf, y_clf, random_state=1234)\n",
    "clf_train = to_dataframe(x_clf_train, y_clf_train)\n",
    "print('clf_train')\n",
    "display(clf_train)\n",
    "clf_test = to_dataframe(x_clf_test, y_clf_test)\n",
    "print('clf_test')\n",
    "display(clf_test)\n",
    "\n",
    "x_reg_train, x_reg_test, y_reg_train, y_reg_test = train_test_split(\n",
    "    x_reg, y_reg, random_state=1234)\n",
    "reg_train = to_dataframe(x_reg_train, y_reg_train)\n",
    "print('reg_train')\n",
    "display(reg_train)\n",
    "reg_test = to_dataframe(x_reg_test, y_reg_test)\n",
    "print('reg_test')\n",
    "display(reg_test)"
   ]
  },
  {
   "cell_type": "markdown",
   "metadata": {},
   "source": [
    "### 正確度 (accuracy)\n",
    "---\n",
    "正解率のこと。\n",
    "\n",
    "$\n",
    "{\\displaystyle 正確度=\\frac\n",
    "    {正解数}\n",
    "    {サンプルサイズ}\n",
    "}\n",
    "$"
   ]
  },
  {
   "cell_type": "markdown",
   "metadata": {},
   "source": [
    "練習問題\n",
    "\n",
    "---\n",
    "`clf_pred`データセットを元に、正確度を算出する。"
   ]
  },
  {
   "cell_type": "code",
   "execution_count": 3,
   "metadata": {
    "hide_input": true,
    "jupyter": {
     "source_hidden": true
    }
   },
   "outputs": [
    {
     "name": "stdout",
     "output_type": "stream",
     "text": [
      "clf_pred\n"
     ]
    },
    {
     "data": {
      "text/html": [
       "<div>\n",
       "<style scoped>\n",
       "    .dataframe tbody tr th:only-of-type {\n",
       "        vertical-align: middle;\n",
       "    }\n",
       "\n",
       "    .dataframe tbody tr th {\n",
       "        vertical-align: top;\n",
       "    }\n",
       "\n",
       "    .dataframe thead th {\n",
       "        text-align: right;\n",
       "    }\n",
       "</style>\n",
       "<table border=\"1\" class=\"dataframe\">\n",
       "  <thead>\n",
       "    <tr style=\"text-align: right;\">\n",
       "      <th></th>\n",
       "      <th>正解</th>\n",
       "      <th>予測</th>\n",
       "    </tr>\n",
       "  </thead>\n",
       "  <tbody>\n",
       "    <tr>\n",
       "      <th>0</th>\n",
       "      <td>1</td>\n",
       "      <td>1</td>\n",
       "    </tr>\n",
       "    <tr>\n",
       "      <th>1</th>\n",
       "      <td>0</td>\n",
       "      <td>0</td>\n",
       "    </tr>\n",
       "    <tr>\n",
       "      <th>...</th>\n",
       "      <td>...</td>\n",
       "      <td>...</td>\n",
       "    </tr>\n",
       "    <tr>\n",
       "      <th>98</th>\n",
       "      <td>0</td>\n",
       "      <td>0</td>\n",
       "    </tr>\n",
       "    <tr>\n",
       "      <th>99</th>\n",
       "      <td>1</td>\n",
       "      <td>1</td>\n",
       "    </tr>\n",
       "  </tbody>\n",
       "</table>\n",
       "<p>100 rows × 2 columns</p>\n",
       "</div>"
      ],
      "text/plain": [
       "    正解  予測\n",
       "0    1   1\n",
       "1    0   0\n",
       "..  ..  ..\n",
       "98   0   0\n",
       "99   1   1\n",
       "\n",
       "[100 rows x 2 columns]"
      ]
     },
     "metadata": {},
     "output_type": "display_data"
    }
   ],
   "source": [
    "model = LogisticRegression().fit(x_clf, y_clf)\n",
    "clf_pred = pd.DataFrame({'正解': y_clf, '予測': model.predict(x_clf)})\n",
    "print('clf_pred')\n",
    "display(clf_pred)"
   ]
  },
  {
   "cell_type": "code",
   "execution_count": null,
   "metadata": {},
   "outputs": [],
   "source": []
  },
  {
   "cell_type": "markdown",
   "metadata": {
    "solution2": "hidden",
    "solution2_first": true
   },
   "source": [
    "解答例\n",
    "\n",
    "---"
   ]
  },
  {
   "cell_type": "code",
   "execution_count": 4,
   "metadata": {
    "collapsed": true,
    "jupyter": {
     "outputs_hidden": true,
     "source_hidden": true
    },
    "solution2": "hidden"
   },
   "outputs": [
    {
     "data": {
      "text/plain": [
       "0.93"
      ]
     },
     "execution_count": 4,
     "metadata": {},
     "output_type": "execute_result"
    }
   ],
   "source": [
    "sum(clf_pred['正解'] == clf_pred['予測']) / clf_pred['正解'].count()"
   ]
  },
  {
   "cell_type": "markdown",
   "metadata": {},
   "source": [
    "---"
   ]
  },
  {
   "cell_type": "markdown",
   "metadata": {},
   "source": [
    "#### Pythonでの正確度算出方法\n",
    "---\n",
    "学習済み分類モデルの`score`メソッドか、`sklearn.metrics.accuracy_score`を使用する。引数に渡す値がそれぞれ異なる。"
   ]
  },
  {
   "cell_type": "code",
   "execution_count": 5,
   "metadata": {},
   "outputs": [
    {
     "data": {
      "text/plain": [
       "LogisticRegression()"
      ]
     },
     "execution_count": 5,
     "metadata": {},
     "output_type": "execute_result"
    }
   ],
   "source": [
    "model_clf = LogisticRegression()\n",
    "model_clf.fit(x_clf_train, y_clf_train)"
   ]
  },
  {
   "cell_type": "code",
   "execution_count": 6,
   "metadata": {
    "collapsed": true,
    "jupyter": {
     "outputs_hidden": true
    }
   },
   "outputs": [
    {
     "name": "stdout",
     "output_type": "stream",
     "text": [
      "Help on function score in module sklearn.base:\n",
      "\n",
      "score(self, X, y, sample_weight=None)\n",
      "    Return the mean accuracy on the given test data and labels.\n",
      "    \n",
      "    In multi-label classification, this is the subset accuracy\n",
      "    which is a harsh metric since you require for each sample that\n",
      "    each label set be correctly predicted.\n",
      "    \n",
      "    Parameters\n",
      "    ----------\n",
      "    X : array-like of shape (n_samples, n_features)\n",
      "        Test samples.\n",
      "    \n",
      "    y : array-like of shape (n_samples,) or (n_samples, n_outputs)\n",
      "        True labels for X.\n",
      "    \n",
      "    sample_weight : array-like of shape (n_samples,), default=None\n",
      "        Sample weights.\n",
      "    \n",
      "    Returns\n",
      "    -------\n",
      "    score : float\n",
      "        Mean accuracy of self.predict(X) wrt. y.\n",
      "\n"
     ]
    }
   ],
   "source": [
    "help(LogisticRegression.score)"
   ]
  },
  {
   "cell_type": "code",
   "execution_count": 7,
   "metadata": {},
   "outputs": [
    {
     "data": {
      "text/plain": [
       "0.88"
      ]
     },
     "execution_count": 7,
     "metadata": {},
     "output_type": "execute_result"
    }
   ],
   "source": [
    "model_clf.score(x_clf_test, y_clf_test)"
   ]
  },
  {
   "cell_type": "code",
   "execution_count": 8,
   "metadata": {
    "collapsed": true,
    "jupyter": {
     "outputs_hidden": true
    }
   },
   "outputs": [
    {
     "name": "stdout",
     "output_type": "stream",
     "text": [
      "Help on function accuracy_score in module sklearn.metrics._classification:\n",
      "\n",
      "accuracy_score(y_true, y_pred, *, normalize=True, sample_weight=None)\n",
      "    Accuracy classification score.\n",
      "    \n",
      "    In multilabel classification, this function computes subset accuracy:\n",
      "    the set of labels predicted for a sample must *exactly* match the\n",
      "    corresponding set of labels in y_true.\n",
      "    \n",
      "    Read more in the :ref:`User Guide <accuracy_score>`.\n",
      "    \n",
      "    Parameters\n",
      "    ----------\n",
      "    y_true : 1d array-like, or label indicator array / sparse matrix\n",
      "        Ground truth (correct) labels.\n",
      "    \n",
      "    y_pred : 1d array-like, or label indicator array / sparse matrix\n",
      "        Predicted labels, as returned by a classifier.\n",
      "    \n",
      "    normalize : bool, optional (default=True)\n",
      "        If ``False``, return the number of correctly classified samples.\n",
      "        Otherwise, return the fraction of correctly classified samples.\n",
      "    \n",
      "    sample_weight : array-like of shape (n_samples,), default=None\n",
      "        Sample weights.\n",
      "    \n",
      "    Returns\n",
      "    -------\n",
      "    score : float\n",
      "        If ``normalize == True``, return the fraction of correctly\n",
      "        classified samples (float), else returns the number of correctly\n",
      "        classified samples (int).\n",
      "    \n",
      "        The best performance is 1 with ``normalize == True`` and the number\n",
      "        of samples with ``normalize == False``.\n",
      "    \n",
      "    See also\n",
      "    --------\n",
      "    jaccard_score, hamming_loss, zero_one_loss\n",
      "    \n",
      "    Notes\n",
      "    -----\n",
      "    In binary and multiclass classification, this function is equal\n",
      "    to the ``jaccard_score`` function.\n",
      "    \n",
      "    Examples\n",
      "    --------\n",
      "    >>> from sklearn.metrics import accuracy_score\n",
      "    >>> y_pred = [0, 2, 1, 3]\n",
      "    >>> y_true = [0, 1, 2, 3]\n",
      "    >>> accuracy_score(y_true, y_pred)\n",
      "    0.5\n",
      "    >>> accuracy_score(y_true, y_pred, normalize=False)\n",
      "    2\n",
      "    \n",
      "    In the multilabel case with binary label indicators:\n",
      "    \n",
      "    >>> import numpy as np\n",
      "    >>> accuracy_score(np.array([[0, 1], [1, 1]]), np.ones((2, 2)))\n",
      "    0.5\n",
      "\n"
     ]
    }
   ],
   "source": [
    "help(accuracy_score)"
   ]
  },
  {
   "cell_type": "code",
   "execution_count": 9,
   "metadata": {},
   "outputs": [
    {
     "data": {
      "text/plain": [
       "0.88"
      ]
     },
     "execution_count": 9,
     "metadata": {},
     "output_type": "execute_result"
    }
   ],
   "source": [
    "y_clf_hat = model_clf.predict(x_clf_test)\n",
    "accuracy_score(y_clf_test, y_clf_hat)"
   ]
  },
  {
   "cell_type": "markdown",
   "metadata": {},
   "source": [
    "## 回帰の評価指標\n",
    "---\n",
    "分類モデルに比べると問題ごとに異なる指標を選んだり、自分で設計する必要性が高い。"
   ]
  },
  {
   "cell_type": "markdown",
   "metadata": {},
   "source": [
    "### 決定係数 $\\left( R^{2}\\right)$\n",
    "---\n",
    "$\n",
    "\\displaystyle R^{2} =1-\\frac\n",
    "    {\\displaystyle \\sum ^{n}_{i=1}\\left( y_{i} -\\hat{y}_{i}\\right)^{2}}\n",
    "    {\\displaystyle \\sum ^{n}_{i=1}\\left( y_{i} -\\overline{y}\\right)^{2}}\n",
    "$\n",
    "\n",
    "回帰分析では決定係数 $R^2$ は (重) 相関係数の二乗と一致していたが、それ以外のモデルではそのような一致は見られない。この場合、単に**正解ラベルの分散をどれくらいうまく捕捉できているかの指標**に過ぎず、値がマイナスになることもある。"
   ]
  },
  {
   "cell_type": "markdown",
   "metadata": {},
   "source": [
    "#### Pythonでの決定係数算出方法\n",
    "---\n",
    "学習済み回帰モデルの`score`メソッドか、`sklearn.metrics.r2_score`を使用する。"
   ]
  },
  {
   "cell_type": "code",
   "execution_count": 10,
   "metadata": {},
   "outputs": [
    {
     "data": {
      "text/plain": [
       "LinearRegression()"
      ]
     },
     "execution_count": 10,
     "metadata": {},
     "output_type": "execute_result"
    }
   ],
   "source": [
    "model_reg = LinearRegression()\n",
    "model_reg.fit(x_reg_train, y_reg_train)"
   ]
  },
  {
   "cell_type": "code",
   "execution_count": 11,
   "metadata": {
    "collapsed": true,
    "jupyter": {
     "outputs_hidden": true
    }
   },
   "outputs": [
    {
     "name": "stdout",
     "output_type": "stream",
     "text": [
      "Help on function score in module sklearn.base:\n",
      "\n",
      "score(self, X, y, sample_weight=None)\n",
      "    Return the coefficient of determination R^2 of the prediction.\n",
      "    \n",
      "    The coefficient R^2 is defined as (1 - u/v), where u is the residual\n",
      "    sum of squares ((y_true - y_pred) ** 2).sum() and v is the total\n",
      "    sum of squares ((y_true - y_true.mean()) ** 2).sum().\n",
      "    The best possible score is 1.0 and it can be negative (because the\n",
      "    model can be arbitrarily worse). A constant model that always\n",
      "    predicts the expected value of y, disregarding the input features,\n",
      "    would get a R^2 score of 0.0.\n",
      "    \n",
      "    Parameters\n",
      "    ----------\n",
      "    X : array-like of shape (n_samples, n_features)\n",
      "        Test samples. For some estimators this may be a\n",
      "        precomputed kernel matrix or a list of generic objects instead,\n",
      "        shape = (n_samples, n_samples_fitted),\n",
      "        where n_samples_fitted is the number of\n",
      "        samples used in the fitting for the estimator.\n",
      "    \n",
      "    y : array-like of shape (n_samples,) or (n_samples, n_outputs)\n",
      "        True values for X.\n",
      "    \n",
      "    sample_weight : array-like of shape (n_samples,), default=None\n",
      "        Sample weights.\n",
      "    \n",
      "    Returns\n",
      "    -------\n",
      "    score : float\n",
      "        R^2 of self.predict(X) wrt. y.\n",
      "    \n",
      "    Notes\n",
      "    -----\n",
      "    The R2 score used when calling ``score`` on a regressor uses\n",
      "    ``multioutput='uniform_average'`` from version 0.23 to keep consistent\n",
      "    with default value of :func:`~sklearn.metrics.r2_score`.\n",
      "    This influences the ``score`` method of all the multioutput\n",
      "    regressors (except for\n",
      "    :class:`~sklearn.multioutput.MultiOutputRegressor`).\n",
      "\n"
     ]
    }
   ],
   "source": [
    "help(LinearRegression.score)"
   ]
  },
  {
   "cell_type": "code",
   "execution_count": 12,
   "metadata": {},
   "outputs": [
    {
     "data": {
      "text/plain": [
       "0.9999988051140659"
      ]
     },
     "execution_count": 12,
     "metadata": {},
     "output_type": "execute_result"
    }
   ],
   "source": [
    "model_reg.score(x_reg_test, y_reg_test)"
   ]
  },
  {
   "cell_type": "code",
   "execution_count": 13,
   "metadata": {
    "collapsed": true,
    "jupyter": {
     "outputs_hidden": true
    }
   },
   "outputs": [
    {
     "name": "stdout",
     "output_type": "stream",
     "text": [
      "Help on function r2_score in module sklearn.metrics._regression:\n",
      "\n",
      "r2_score(y_true, y_pred, *, sample_weight=None, multioutput='uniform_average')\n",
      "    R^2 (coefficient of determination) regression score function.\n",
      "    \n",
      "    Best possible score is 1.0 and it can be negative (because the\n",
      "    model can be arbitrarily worse). A constant model that always\n",
      "    predicts the expected value of y, disregarding the input features,\n",
      "    would get a R^2 score of 0.0.\n",
      "    \n",
      "    Read more in the :ref:`User Guide <r2_score>`.\n",
      "    \n",
      "    Parameters\n",
      "    ----------\n",
      "    y_true : array-like of shape (n_samples,) or (n_samples, n_outputs)\n",
      "        Ground truth (correct) target values.\n",
      "    \n",
      "    y_pred : array-like of shape (n_samples,) or (n_samples, n_outputs)\n",
      "        Estimated target values.\n",
      "    \n",
      "    sample_weight : array-like of shape (n_samples,), optional\n",
      "        Sample weights.\n",
      "    \n",
      "    multioutput : string in ['raw_values', 'uniform_average', 'variance_weighted'] or None or array-like of shape (n_outputs)\n",
      "    \n",
      "        Defines aggregating of multiple output scores.\n",
      "        Array-like value defines weights used to average scores.\n",
      "        Default is \"uniform_average\".\n",
      "    \n",
      "        'raw_values' :\n",
      "            Returns a full set of scores in case of multioutput input.\n",
      "    \n",
      "        'uniform_average' :\n",
      "            Scores of all outputs are averaged with uniform weight.\n",
      "    \n",
      "        'variance_weighted' :\n",
      "            Scores of all outputs are averaged, weighted by the variances\n",
      "            of each individual output.\n",
      "    \n",
      "        .. versionchanged:: 0.19\n",
      "            Default value of multioutput is 'uniform_average'.\n",
      "    \n",
      "    Returns\n",
      "    -------\n",
      "    z : float or ndarray of floats\n",
      "        The R^2 score or ndarray of scores if 'multioutput' is\n",
      "        'raw_values'.\n",
      "    \n",
      "    Notes\n",
      "    -----\n",
      "    This is not a symmetric function.\n",
      "    \n",
      "    Unlike most other scores, R^2 score may be negative (it need not actually\n",
      "    be the square of a quantity R).\n",
      "    \n",
      "    This metric is not well-defined for single samples and will return a NaN\n",
      "    value if n_samples is less than two.\n",
      "    \n",
      "    References\n",
      "    ----------\n",
      "    .. [1] `Wikipedia entry on the Coefficient of determination\n",
      "            <https://en.wikipedia.org/wiki/Coefficient_of_determination>`_\n",
      "    \n",
      "    Examples\n",
      "    --------\n",
      "    >>> from sklearn.metrics import r2_score\n",
      "    >>> y_true = [3, -0.5, 2, 7]\n",
      "    >>> y_pred = [2.5, 0.0, 2, 8]\n",
      "    >>> r2_score(y_true, y_pred)\n",
      "    0.948...\n",
      "    >>> y_true = [[0.5, 1], [-1, 1], [7, -6]]\n",
      "    >>> y_pred = [[0, 2], [-1, 2], [8, -5]]\n",
      "    >>> r2_score(y_true, y_pred,\n",
      "    ...          multioutput='variance_weighted')\n",
      "    0.938...\n",
      "    >>> y_true = [1, 2, 3]\n",
      "    >>> y_pred = [1, 2, 3]\n",
      "    >>> r2_score(y_true, y_pred)\n",
      "    1.0\n",
      "    >>> y_true = [1, 2, 3]\n",
      "    >>> y_pred = [2, 2, 2]\n",
      "    >>> r2_score(y_true, y_pred)\n",
      "    0.0\n",
      "    >>> y_true = [1, 2, 3]\n",
      "    >>> y_pred = [3, 2, 1]\n",
      "    >>> r2_score(y_true, y_pred)\n",
      "    -3.0\n",
      "\n"
     ]
    }
   ],
   "source": [
    "help(r2_score)"
   ]
  },
  {
   "cell_type": "code",
   "execution_count": 14,
   "metadata": {},
   "outputs": [
    {
     "data": {
      "text/plain": [
       "0.9999988051140659"
      ]
     },
     "execution_count": 14,
     "metadata": {},
     "output_type": "execute_result"
    }
   ],
   "source": [
    "y_reg_hat = model_reg.predict(x_reg_test)\n",
    "r2_score(y_reg_test, y_reg_hat)"
   ]
  },
  {
   "cell_type": "markdown",
   "metadata": {},
   "source": [
    "### 平均二乗誤差 (MSE, Mean Squared Error)\n",
    "---\n",
    "残差の二乗の平均。  \n",
    "最小二乗法の場合、 $\\overline{e} =0$ より残差の分散に等しい。\n",
    "\n",
    "$\n",
    "\\displaystyle \\begin{aligned}\n",
    "    MSE & =\\frac\n",
    "        {\\displaystyle \\sum ^{n}_{i=1} e^{2}_{i}}\n",
    "        {n}\n",
    "    \\\\\n",
    "     & \\\\\n",
    "     & =\\frac\n",
    "         {\\displaystyle \\sum ^{n}_{i=1}\\left( y_{i} -\\hat{y}_{i}\\right)^{2}}\n",
    "         {n}\n",
    "\\end{aligned}\n",
    "$\n",
    "\n",
    "元の $y$ とスケールを揃える場合、平均二乗誤差の平方根 (RMSE, Root Mean Squared Error) を使用することもある。  \n",
    "最小二乗法の場合、残差の標準偏差に等しい。\n",
    "\n",
    "$\\displaystyle RMSE=\\sqrt{MSE}$"
   ]
  },
  {
   "cell_type": "markdown",
   "metadata": {},
   "source": [
    "練習問題\n",
    "\n",
    "---\n",
    "`reg_pred`データセットを元に、平均二乗誤差を算出する。"
   ]
  },
  {
   "cell_type": "code",
   "execution_count": 15,
   "metadata": {
    "hide_input": true,
    "jupyter": {
     "source_hidden": true
    }
   },
   "outputs": [
    {
     "name": "stdout",
     "output_type": "stream",
     "text": [
      "reg_pred\n"
     ]
    },
    {
     "data": {
      "text/html": [
       "<div>\n",
       "<style scoped>\n",
       "    .dataframe tbody tr th:only-of-type {\n",
       "        vertical-align: middle;\n",
       "    }\n",
       "\n",
       "    .dataframe tbody tr th {\n",
       "        vertical-align: top;\n",
       "    }\n",
       "\n",
       "    .dataframe thead th {\n",
       "        text-align: right;\n",
       "    }\n",
       "</style>\n",
       "<table border=\"1\" class=\"dataframe\">\n",
       "  <thead>\n",
       "    <tr style=\"text-align: right;\">\n",
       "      <th></th>\n",
       "      <th>正解</th>\n",
       "      <th>予測</th>\n",
       "    </tr>\n",
       "  </thead>\n",
       "  <tbody>\n",
       "    <tr>\n",
       "      <th>0</th>\n",
       "      <td>-88.673382</td>\n",
       "      <td>-88.683914</td>\n",
       "    </tr>\n",
       "    <tr>\n",
       "      <th>1</th>\n",
       "      <td>151.441869</td>\n",
       "      <td>151.389445</td>\n",
       "    </tr>\n",
       "    <tr>\n",
       "      <th>...</th>\n",
       "      <td>...</td>\n",
       "      <td>...</td>\n",
       "    </tr>\n",
       "    <tr>\n",
       "      <th>98</th>\n",
       "      <td>-332.315818</td>\n",
       "      <td>-332.225865</td>\n",
       "    </tr>\n",
       "    <tr>\n",
       "      <th>99</th>\n",
       "      <td>100.990582</td>\n",
       "      <td>100.988929</td>\n",
       "    </tr>\n",
       "  </tbody>\n",
       "</table>\n",
       "<p>100 rows × 2 columns</p>\n",
       "</div>"
      ],
      "text/plain": [
       "            正解          予測\n",
       "0   -88.673382  -88.683914\n",
       "1   151.441869  151.389445\n",
       "..         ...         ...\n",
       "98 -332.315818 -332.225865\n",
       "99  100.990582  100.988929\n",
       "\n",
       "[100 rows x 2 columns]"
      ]
     },
     "metadata": {},
     "output_type": "display_data"
    }
   ],
   "source": [
    "model = LinearRegression().fit(x_reg, y_reg)\n",
    "reg_pred = pd.DataFrame({'正解': y_reg, '予測': model.predict(x_reg)})\n",
    "print('reg_pred')\n",
    "display(reg_pred)"
   ]
  },
  {
   "cell_type": "code",
   "execution_count": null,
   "metadata": {},
   "outputs": [],
   "source": []
  },
  {
   "cell_type": "markdown",
   "metadata": {
    "solution2": "hidden",
    "solution2_first": true
   },
   "source": [
    "解答例\n",
    "\n",
    "---"
   ]
  },
  {
   "cell_type": "code",
   "execution_count": 16,
   "metadata": {
    "collapsed": true,
    "jupyter": {
     "outputs_hidden": true,
     "source_hidden": true
    },
    "solution2": "hidden"
   },
   "outputs": [
    {
     "data": {
      "text/plain": [
       "0.010575141915502967"
      ]
     },
     "execution_count": 16,
     "metadata": {},
     "output_type": "execute_result"
    }
   ],
   "source": [
    "np.mean((reg_pred['正解'] - reg_pred['予測'])**2)"
   ]
  },
  {
   "cell_type": "markdown",
   "metadata": {},
   "source": [
    "---"
   ]
  },
  {
   "cell_type": "markdown",
   "metadata": {},
   "source": [
    "#### Pythonでの平均二乗誤差算出方法\n",
    "---\n",
    "`sklearn.metrics.mean_squared_error`を使用する。"
   ]
  },
  {
   "cell_type": "code",
   "execution_count": 17,
   "metadata": {
    "collapsed": true,
    "jupyter": {
     "outputs_hidden": true
    }
   },
   "outputs": [
    {
     "name": "stdout",
     "output_type": "stream",
     "text": [
      "Help on function mean_squared_error in module sklearn.metrics._regression:\n",
      "\n",
      "mean_squared_error(y_true, y_pred, *, sample_weight=None, multioutput='uniform_average', squared=True)\n",
      "    Mean squared error regression loss\n",
      "    \n",
      "    Read more in the :ref:`User Guide <mean_squared_error>`.\n",
      "    \n",
      "    Parameters\n",
      "    ----------\n",
      "    y_true : array-like of shape (n_samples,) or (n_samples, n_outputs)\n",
      "        Ground truth (correct) target values.\n",
      "    \n",
      "    y_pred : array-like of shape (n_samples,) or (n_samples, n_outputs)\n",
      "        Estimated target values.\n",
      "    \n",
      "    sample_weight : array-like of shape (n_samples,), optional\n",
      "        Sample weights.\n",
      "    \n",
      "    multioutput : string in ['raw_values', 'uniform_average']\n",
      "        or array-like of shape (n_outputs)\n",
      "        Defines aggregating of multiple output values.\n",
      "        Array-like value defines weights used to average errors.\n",
      "    \n",
      "        'raw_values' :\n",
      "            Returns a full set of errors in case of multioutput input.\n",
      "    \n",
      "        'uniform_average' :\n",
      "            Errors of all outputs are averaged with uniform weight.\n",
      "    \n",
      "    squared : boolean value, optional (default = True)\n",
      "        If True returns MSE value, if False returns RMSE value.\n",
      "    \n",
      "    Returns\n",
      "    -------\n",
      "    loss : float or ndarray of floats\n",
      "        A non-negative floating point value (the best value is 0.0), or an\n",
      "        array of floating point values, one for each individual target.\n",
      "    \n",
      "    Examples\n",
      "    --------\n",
      "    >>> from sklearn.metrics import mean_squared_error\n",
      "    >>> y_true = [3, -0.5, 2, 7]\n",
      "    >>> y_pred = [2.5, 0.0, 2, 8]\n",
      "    >>> mean_squared_error(y_true, y_pred)\n",
      "    0.375\n",
      "    >>> y_true = [3, -0.5, 2, 7]\n",
      "    >>> y_pred = [2.5, 0.0, 2, 8]\n",
      "    >>> mean_squared_error(y_true, y_pred, squared=False)\n",
      "    0.612...\n",
      "    >>> y_true = [[0.5, 1],[-1, 1],[7, -6]]\n",
      "    >>> y_pred = [[0, 2],[-1, 2],[8, -5]]\n",
      "    >>> mean_squared_error(y_true, y_pred)\n",
      "    0.708...\n",
      "    >>> mean_squared_error(y_true, y_pred, multioutput='raw_values')\n",
      "    array([0.41666667, 1.        ])\n",
      "    >>> mean_squared_error(y_true, y_pred, multioutput=[0.3, 0.7])\n",
      "    0.825...\n",
      "\n"
     ]
    }
   ],
   "source": [
    "help(mean_squared_error)"
   ]
  },
  {
   "cell_type": "code",
   "execution_count": 18,
   "metadata": {},
   "outputs": [
    {
     "data": {
      "text/plain": [
       "0.01642733446295104"
      ]
     },
     "execution_count": 18,
     "metadata": {},
     "output_type": "execute_result"
    }
   ],
   "source": [
    "mean_squared_error(y_reg_test, y_reg_hat)"
   ]
  },
  {
   "cell_type": "markdown",
   "metadata": {},
   "source": [
    "### 平均絶対誤差 (MAE, Mean Absolute Error)\n",
    "---\n",
    "残差の絶対値の平均。平均二乗誤差より外れ値に影響されにくい。\n",
    "\n",
    "$\n",
    "\\displaystyle \\begin{aligned}\n",
    "    MAE & =\\frac\n",
    "        {\\displaystyle \\sum ^{n}_{i=1} |e|}\n",
    "        {n}\\\\\n",
    "     & \\\\\n",
    "     & =\\frac\n",
    "         {\\displaystyle \\sum ^{n}_{i=1}\\left| y_{i} -\\hat{y}_{i}\\right|}\n",
    "         {n}\n",
    "\\end{aligned}\n",
    "$"
   ]
  },
  {
   "cell_type": "markdown",
   "metadata": {},
   "source": [
    "練習問題\n",
    "\n",
    "---\n",
    "`reg_pred`データセットを元に、平均絶対誤差を算出する。"
   ]
  },
  {
   "cell_type": "code",
   "execution_count": null,
   "metadata": {},
   "outputs": [],
   "source": []
  },
  {
   "cell_type": "markdown",
   "metadata": {
    "solution2": "hidden",
    "solution2_first": true
   },
   "source": [
    "解答例\n",
    "\n",
    "---"
   ]
  },
  {
   "cell_type": "code",
   "execution_count": 19,
   "metadata": {
    "collapsed": true,
    "jupyter": {
     "outputs_hidden": true,
     "source_hidden": true
    },
    "solution2": "hidden"
   },
   "outputs": [
    {
     "data": {
      "text/plain": [
       "0.07835245094121417"
      ]
     },
     "execution_count": 19,
     "metadata": {},
     "output_type": "execute_result"
    }
   ],
   "source": [
    "np.abs(reg_pred['正解'] - reg_pred['予測']).mean()"
   ]
  },
  {
   "cell_type": "markdown",
   "metadata": {},
   "source": [
    "---"
   ]
  },
  {
   "cell_type": "markdown",
   "metadata": {},
   "source": [
    "#### Pythonでの平均絶対誤差算出方法\n",
    "---\n",
    "`sklearn.metrics.mean_absolute_error`を使用する。"
   ]
  },
  {
   "cell_type": "code",
   "execution_count": 20,
   "metadata": {
    "collapsed": true,
    "jupyter": {
     "outputs_hidden": true
    }
   },
   "outputs": [
    {
     "name": "stdout",
     "output_type": "stream",
     "text": [
      "Help on function mean_absolute_error in module sklearn.metrics._regression:\n",
      "\n",
      "mean_absolute_error(y_true, y_pred, *, sample_weight=None, multioutput='uniform_average')\n",
      "    Mean absolute error regression loss\n",
      "    \n",
      "    Read more in the :ref:`User Guide <mean_absolute_error>`.\n",
      "    \n",
      "    Parameters\n",
      "    ----------\n",
      "    y_true : array-like of shape (n_samples,) or (n_samples, n_outputs)\n",
      "        Ground truth (correct) target values.\n",
      "    \n",
      "    y_pred : array-like of shape (n_samples,) or (n_samples, n_outputs)\n",
      "        Estimated target values.\n",
      "    \n",
      "    sample_weight : array-like of shape (n_samples,), optional\n",
      "        Sample weights.\n",
      "    \n",
      "    multioutput : string in ['raw_values', 'uniform_average']\n",
      "        or array-like of shape (n_outputs)\n",
      "        Defines aggregating of multiple output values.\n",
      "        Array-like value defines weights used to average errors.\n",
      "    \n",
      "        'raw_values' :\n",
      "            Returns a full set of errors in case of multioutput input.\n",
      "    \n",
      "        'uniform_average' :\n",
      "            Errors of all outputs are averaged with uniform weight.\n",
      "    \n",
      "    \n",
      "    Returns\n",
      "    -------\n",
      "    loss : float or ndarray of floats\n",
      "        If multioutput is 'raw_values', then mean absolute error is returned\n",
      "        for each output separately.\n",
      "        If multioutput is 'uniform_average' or an ndarray of weights, then the\n",
      "        weighted average of all output errors is returned.\n",
      "    \n",
      "        MAE output is non-negative floating point. The best value is 0.0.\n",
      "    \n",
      "    Examples\n",
      "    --------\n",
      "    >>> from sklearn.metrics import mean_absolute_error\n",
      "    >>> y_true = [3, -0.5, 2, 7]\n",
      "    >>> y_pred = [2.5, 0.0, 2, 8]\n",
      "    >>> mean_absolute_error(y_true, y_pred)\n",
      "    0.5\n",
      "    >>> y_true = [[0.5, 1], [-1, 1], [7, -6]]\n",
      "    >>> y_pred = [[0, 2], [-1, 2], [8, -5]]\n",
      "    >>> mean_absolute_error(y_true, y_pred)\n",
      "    0.75\n",
      "    >>> mean_absolute_error(y_true, y_pred, multioutput='raw_values')\n",
      "    array([0.5, 1. ])\n",
      "    >>> mean_absolute_error(y_true, y_pred, multioutput=[0.3, 0.7])\n",
      "    0.85...\n",
      "\n"
     ]
    }
   ],
   "source": [
    "help(mean_absolute_error)"
   ]
  },
  {
   "cell_type": "code",
   "execution_count": 21,
   "metadata": {},
   "outputs": [
    {
     "data": {
      "text/plain": [
       "0.11062328717271676"
      ]
     },
     "execution_count": 21,
     "metadata": {},
     "output_type": "execute_result"
    }
   ],
   "source": [
    "mean_absolute_error(y_reg_test, y_reg_hat)"
   ]
  },
  {
   "cell_type": "markdown",
   "metadata": {},
   "source": [
    "## グラフによる評価"
   ]
  },
  {
   "cell_type": "markdown",
   "metadata": {},
   "source": [
    "### 残差プロット\n",
    "---\n",
    "視覚的にモデルが捉えきれていない特徴がないか確認する手法。  \n",
    "横軸に予測値・縦軸に残差をとった散布図。  \n",
    "正解 (縦軸が0の水平線) の周辺にランダムに予測値が分布しているのが理想的。誤差に規則性がある場合は、何らかの特徴を補足しきれていない可能性がある。\n",
    "\n",
    "下図は $y=x^{3}$ の分布からサンプリングしたデータに線形回帰を実行したときの残差プロット。"
   ]
  },
  {
   "cell_type": "code",
   "execution_count": 22,
   "metadata": {
    "hide_input": true,
    "jupyter": {
     "source_hidden": true
    }
   },
   "outputs": [
    {
     "data": {
      "image/png": "[encoded data removed]",
      "text/plain": [
       "<Figure size 288x288 with 1 Axes>"
      ]
     },
     "metadata": {},
     "output_type": "display_data"
    }
   ],
   "source": [
    "from my_functions.metrics import residual_plot\n",
    "residual_plot.show()"
   ]
  },
  {
   "cell_type": "markdown",
   "metadata": {},
   "source": [
    "練習問題\n",
    "\n",
    "---\n",
    "`reg_train`データセットに線形回帰を適用し、残差プロットを表示する。"
   ]
  },
  {
   "cell_type": "code",
   "execution_count": null,
   "metadata": {},
   "outputs": [],
   "source": []
  },
  {
   "cell_type": "markdown",
   "metadata": {
    "solution2": "hidden",
    "solution2_first": true
   },
   "source": [
    "解答例\n",
    "\n",
    "---"
   ]
  },
  {
   "cell_type": "code",
   "execution_count": 23,
   "metadata": {
    "collapsed": true,
    "jupyter": {
     "outputs_hidden": true,
     "source_hidden": true
    },
    "solution2": "hidden"
   },
   "outputs": [
    {
     "data": {
      "image/png": "[encoded data removed]",
      "text/plain": [
       "<Figure size 432x288 with 1 Axes>"
      ]
     },
     "metadata": {
      "needs_background": "light"
     },
     "output_type": "display_data"
    }
   ],
   "source": [
    "dataset = reg_train.values\n",
    "y_reg_hat_train = LinearRegression().fit(dataset[:, :-1],\n",
    "                                         dataset[:,\n",
    "                                                 -1]).predict(dataset[:, :-1])\n",
    "plt.scatter(y_reg_hat_train, y_reg_train - y_reg_hat_train)\n",
    "plt.show()"
   ]
  },
  {
   "cell_type": "markdown",
   "metadata": {},
   "source": [
    "---"
   ]
  },
  {
   "cell_type": "markdown",
   "metadata": {},
   "source": [
    "#### Pythonでの残差プロット表示方法"
   ]
  },
  {
   "cell_type": "markdown",
   "metadata": {},
   "source": [
    "##### 残差\n",
    "---\n",
    "自分で残差を算出・描画するか、`yellowbrick.regressor.ResidualsPlot`を使用する。 (yellowbrickはインポートするとmatplotlibの設定を書き換えて日本語が文字化けするので注意)\n",
    "\n",
    "使用例\n",
    "\n",
    "```python\n",
    "from yellowbrick.regressor import ResidualsPlot\n",
    "\n",
    "visualizer = ResidualsPlot(LinearRegression())\n",
    "visualizer.fit(x_reg_train, y_reg_train)\n",
    "visualizer.score(x_reg_test, y_reg_test)\n",
    "```"
   ]
  },
  {
   "cell_type": "markdown",
   "metadata": {},
   "source": [
    "##### 逸脱残差(deviance residuals)\n",
    "---\n",
    "一般化線形モデルでは、 (対数) 尤度を利用した逸脱残差を利用する。  \n",
    "逸脱残差は`statsmodels.genmod.generalized_linear_model.GLM`で推定したモデルの`resid_deviance`プロパティで取得可能。"
   ]
  },
  {
   "cell_type": "code",
   "execution_count": 24,
   "metadata": {
    "hide_input": true,
    "jupyter": {
     "source_hidden": true
    }
   },
   "outputs": [
    {
     "name": "stdout",
     "output_type": "stream",
     "text": [
      "star98\n"
     ]
    },
    {
     "data": {
      "text/html": [
       "<div>\n",
       "<style scoped>\n",
       "    .dataframe tbody tr th:only-of-type {\n",
       "        vertical-align: middle;\n",
       "    }\n",
       "\n",
       "    .dataframe tbody tr th {\n",
       "        vertical-align: top;\n",
       "    }\n",
       "\n",
       "    .dataframe thead th {\n",
       "        text-align: right;\n",
       "    }\n",
       "</style>\n",
       "<table border=\"1\" class=\"dataframe\">\n",
       "  <thead>\n",
       "    <tr style=\"text-align: right;\">\n",
       "      <th></th>\n",
       "      <th>NABOVE</th>\n",
       "      <th>NBELOW</th>\n",
       "      <th>LOWINC</th>\n",
       "      <th>PERASIAN</th>\n",
       "      <th>PERBLACK</th>\n",
       "      <th>PERHISP</th>\n",
       "      <th>PERMINTE</th>\n",
       "      <th>AVYRSEXP</th>\n",
       "      <th>AVSALK</th>\n",
       "      <th>PERSPENK</th>\n",
       "      <th>...</th>\n",
       "      <th>PCTCHRT</th>\n",
       "      <th>PCTYRRND</th>\n",
       "      <th>PERMINTE_AVYRSEXP</th>\n",
       "      <th>PERMINTE_AVSAL</th>\n",
       "      <th>AVYRSEXP_AVSAL</th>\n",
       "      <th>PERSPEN_PTRATIO</th>\n",
       "      <th>PERSPEN_PCTAF</th>\n",
       "      <th>PTRATIO_PCTAF</th>\n",
       "      <th>PERMINTE_AVYRSEXP_AVSAL</th>\n",
       "      <th>PERSPEN_PTRATIO_PCTAF</th>\n",
       "    </tr>\n",
       "  </thead>\n",
       "  <tbody>\n",
       "    <tr>\n",
       "      <th>0</th>\n",
       "      <td>452.0</td>\n",
       "      <td>355.0</td>\n",
       "      <td>34.39730</td>\n",
       "      <td>23.299300</td>\n",
       "      <td>14.235280</td>\n",
       "      <td>11.411120</td>\n",
       "      <td>15.918370</td>\n",
       "      <td>14.70646</td>\n",
       "      <td>59.15732</td>\n",
       "      <td>4.445207</td>\n",
       "      <td>...</td>\n",
       "      <td>0.0</td>\n",
       "      <td>22.22222</td>\n",
       "      <td>234.102872</td>\n",
       "      <td>941.68811</td>\n",
       "      <td>869.9948</td>\n",
       "      <td>96.50656</td>\n",
       "      <td>253.52242</td>\n",
       "      <td>1238.1955</td>\n",
       "      <td>13848.8985</td>\n",
       "      <td>5504.0352</td>\n",
       "    </tr>\n",
       "    <tr>\n",
       "      <th>1</th>\n",
       "      <td>144.0</td>\n",
       "      <td>40.0</td>\n",
       "      <td>17.36507</td>\n",
       "      <td>29.328380</td>\n",
       "      <td>8.234897</td>\n",
       "      <td>9.314884</td>\n",
       "      <td>13.636360</td>\n",
       "      <td>16.08324</td>\n",
       "      <td>59.50397</td>\n",
       "      <td>5.267598</td>\n",
       "      <td>...</td>\n",
       "      <td>0.0</td>\n",
       "      <td>0.00000</td>\n",
       "      <td>219.316851</td>\n",
       "      <td>811.41756</td>\n",
       "      <td>957.0166</td>\n",
       "      <td>107.68435</td>\n",
       "      <td>340.40609</td>\n",
       "      <td>1321.0664</td>\n",
       "      <td>13050.2233</td>\n",
       "      <td>6958.8468</td>\n",
       "    </tr>\n",
       "    <tr>\n",
       "      <th>...</th>\n",
       "      <td>...</td>\n",
       "      <td>...</td>\n",
       "      <td>...</td>\n",
       "      <td>...</td>\n",
       "      <td>...</td>\n",
       "      <td>...</td>\n",
       "      <td>...</td>\n",
       "      <td>...</td>\n",
       "      <td>...</td>\n",
       "      <td>...</td>\n",
       "      <td>...</td>\n",
       "      <td>...</td>\n",
       "      <td>...</td>\n",
       "      <td>...</td>\n",
       "      <td>...</td>\n",
       "      <td>...</td>\n",
       "      <td>...</td>\n",
       "      <td>...</td>\n",
       "      <td>...</td>\n",
       "      <td>...</td>\n",
       "      <td>...</td>\n",
       "    </tr>\n",
       "    <tr>\n",
       "      <th>301</th>\n",
       "      <td>199.0</td>\n",
       "      <td>510.0</td>\n",
       "      <td>70.62104</td>\n",
       "      <td>20.461720</td>\n",
       "      <td>2.989345</td>\n",
       "      <td>17.423050</td>\n",
       "      <td>11.032860</td>\n",
       "      <td>16.56420</td>\n",
       "      <td>61.70566</td>\n",
       "      <td>3.970984</td>\n",
       "      <td>...</td>\n",
       "      <td>0.0</td>\n",
       "      <td>13.63636</td>\n",
       "      <td>182.750500</td>\n",
       "      <td>680.78991</td>\n",
       "      <td>1022.1049</td>\n",
       "      <td>98.82377</td>\n",
       "      <td>60.13205</td>\n",
       "      <td>376.8523</td>\n",
       "      <td>11276.7402</td>\n",
       "      <td>1496.4746</td>\n",
       "    </tr>\n",
       "    <tr>\n",
       "      <th>302</th>\n",
       "      <td>72.0</td>\n",
       "      <td>84.0</td>\n",
       "      <td>77.74827</td>\n",
       "      <td>5.998899</td>\n",
       "      <td>9.576225</td>\n",
       "      <td>11.117230</td>\n",
       "      <td>7.874016</td>\n",
       "      <td>16.91871</td>\n",
       "      <td>65.09957</td>\n",
       "      <td>6.913397</td>\n",
       "      <td>...</td>\n",
       "      <td>0.0</td>\n",
       "      <td>0.00000</td>\n",
       "      <td>133.218193</td>\n",
       "      <td>512.59506</td>\n",
       "      <td>1101.4007</td>\n",
       "      <td>138.49276</td>\n",
       "      <td>162.66815</td>\n",
       "      <td>471.3534</td>\n",
       "      <td>8672.4471</td>\n",
       "      <td>3258.6530</td>\n",
       "    </tr>\n",
       "  </tbody>\n",
       "</table>\n",
       "<p>303 rows × 22 columns</p>\n",
       "</div>"
      ],
      "text/plain": [
       "     NABOVE  NBELOW    LOWINC   PERASIAN   PERBLACK    PERHISP   PERMINTE  \\\n",
       "0     452.0   355.0  34.39730  23.299300  14.235280  11.411120  15.918370   \n",
       "1     144.0    40.0  17.36507  29.328380   8.234897   9.314884  13.636360   \n",
       "..      ...     ...       ...        ...        ...        ...        ...   \n",
       "301   199.0   510.0  70.62104  20.461720   2.989345  17.423050  11.032860   \n",
       "302    72.0    84.0  77.74827   5.998899   9.576225  11.117230   7.874016   \n",
       "\n",
       "     AVYRSEXP    AVSALK  PERSPENK  ...  PCTCHRT  PCTYRRND  PERMINTE_AVYRSEXP  \\\n",
       "0    14.70646  59.15732  4.445207  ...      0.0  22.22222         234.102872   \n",
       "1    16.08324  59.50397  5.267598  ...      0.0   0.00000         219.316851   \n",
       "..        ...       ...       ...  ...      ...       ...                ...   \n",
       "301  16.56420  61.70566  3.970984  ...      0.0  13.63636         182.750500   \n",
       "302  16.91871  65.09957  6.913397  ...      0.0   0.00000         133.218193   \n",
       "\n",
       "     PERMINTE_AVSAL  AVYRSEXP_AVSAL  PERSPEN_PTRATIO  PERSPEN_PCTAF  \\\n",
       "0         941.68811        869.9948         96.50656      253.52242   \n",
       "1         811.41756        957.0166        107.68435      340.40609   \n",
       "..              ...             ...              ...            ...   \n",
       "301       680.78991       1022.1049         98.82377       60.13205   \n",
       "302       512.59506       1101.4007        138.49276      162.66815   \n",
       "\n",
       "     PTRATIO_PCTAF  PERMINTE_AVYRSEXP_AVSAL  PERSPEN_PTRATIO_PCTAF  \n",
       "0        1238.1955               13848.8985              5504.0352  \n",
       "1        1321.0664               13050.2233              6958.8468  \n",
       "..             ...                      ...                    ...  \n",
       "301       376.8523               11276.7402              1496.4746  \n",
       "302       471.3534                8672.4471              3258.6530  \n",
       "\n",
       "[303 rows x 22 columns]"
      ]
     },
     "metadata": {},
     "output_type": "display_data"
    },
    {
     "name": "stdout",
     "output_type": "stream",
     "text": [
      "\n",
      "This data is on the California education policy and outcomes (STAR program\n",
      "results for 1998.  The data measured standardized testing by the California\n",
      "Department of Education that required evaluation of 2nd - 11th grade students\n",
      "by the the Stanford 9 test on a variety of subjects.  This dataset is at\n",
      "the level of the unified school district and consists of 303 cases.  The\n",
      "binary response variable represents the number of 9th graders scoring\n",
      "over the national median value on the mathematics exam.\n",
      "\n",
      "The data used in this example is only a subset of the original source.\n",
      "\n",
      "::\n",
      "\n",
      "    Number of Observations - 303 (counties in California).\n",
      "\n",
      "    Number of Variables - 13 and 8 interaction terms.\n",
      "\n",
      "    Definition of variables names::\n",
      "\n",
      "        NABOVE   - Total number of students above the national median for the\n",
      "                   math section.\n",
      "        NBELOW   - Total number of students below the national median for the\n",
      "                   math section.\n",
      "        LOWINC   - Percentage of low income students\n",
      "        PERASIAN - Percentage of Asian student\n",
      "        PERBLACK - Percentage of black students\n",
      "        PERHISP  - Percentage of Hispanic students\n",
      "        PERMINTE - Percentage of minority teachers\n",
      "        AVYRSEXP - Sum of teachers' years in educational service divided by the\n",
      "                number of teachers.\n",
      "        AVSALK   - Total salary budget including benefits divided by the number\n",
      "                   of full-time teachers (in thousands)\n",
      "        PERSPENK - Per-pupil spending (in thousands)\n",
      "        PTRATIO  - Pupil-teacher ratio.\n",
      "        PCTAF    - Percentage of students taking UC/CSU prep courses\n",
      "        PCTCHRT  - Percentage of charter schools\n",
      "        PCTYRRND - Percentage of year-round schools\n",
      "\n",
      "        The below variables are interaction terms of the variables defined\n",
      "        above.\n",
      "\n",
      "        PERMINTE_AVYRSEXP\n",
      "        PEMINTE_AVSAL\n",
      "        AVYRSEXP_AVSAL\n",
      "        PERSPEN_PTRATIO\n",
      "        PERSPEN_PCTAF\n",
      "        PTRATIO_PCTAF\n",
      "        PERMINTE_AVTRSEXP_AVSAL\n",
      "        PERSPEN_PTRATIO_PCTAF\n",
      "\n"
     ]
    }
   ],
   "source": [
    "dataset = sm.datasets.star98\n",
    "star98 = dataset.load(as_pandas=True).data\n",
    "print('star98')\n",
    "display(star98)\n",
    "print(dataset.DESCRLONG)\n",
    "print(dataset.NOTE)"
   ]
  },
  {
   "cell_type": "code",
   "execution_count": 25,
   "metadata": {},
   "outputs": [
    {
     "data": {
      "image/png": "[encoded data removed]",
      "text/plain": [
       "<Figure size 432x288 with 1 Axes>"
      ]
     },
     "metadata": {
      "needs_background": "light"
     },
     "output_type": "display_data"
    },
    {
     "data": {
      "image/png": "[encoded data removed]",
      "text/plain": [
       "<Figure size 432x288 with 1 Axes>"
      ]
     },
     "metadata": {
      "needs_background": "light"
     },
     "output_type": "display_data"
    }
   ],
   "source": [
    "logit_model = sm.GLM(star98[['NABOVE', 'NBELOW']],\n",
    "                     sm.add_constant(star98['LOWINC']),\n",
    "                     family=sm.families.Binomial()).fit()\n",
    "z = logit_model.family.link(logit_model.mu)\n",
    "xx = np.linspace(z.min(), z.max(), 20)\n",
    "yy = logit_model.family.link.inverse(xx)\n",
    "# 線形予測子と目的変数の関係\n",
    "plt.plot(xx, yy)\n",
    "plt.scatter(z, star98['NABOVE'] / (star98['NABOVE'] + star98['NBELOW']))\n",
    "plt.xlabel('線形予測子$z$')\n",
    "plt.ylabel('$y$')\n",
    "plt.show()\n",
    "# 予測値と逸脱残差の関係\n",
    "plt.title('逸脱残差のプロット')\n",
    "plt.scatter(logit_model.mu, logit_model.resid_deviance)\n",
    "plt.xlabel(r'予測値$\\hat{y}$')\n",
    "plt.ylabel('逸脱残差')\n",
    "plt.show()"
   ]
  },
  {
   "cell_type": "markdown",
   "metadata": {},
   "source": [
    "練習問題\n",
    "\n",
    "---\n",
    "`road`データセットに対して、`deaths`を目的変数・その他を説明変数にしてポアソン回帰を適用し、逸脱残差のプロットを表示する。"
   ]
  },
  {
   "cell_type": "code",
   "execution_count": 26,
   "metadata": {
    "hide_input": true,
    "jupyter": {
     "source_hidden": true
    }
   },
   "outputs": [
    {
     "name": "stdout",
     "output_type": "stream",
     "text": [
      "road\n"
     ]
    },
    {
     "data": {
      "text/html": [
       "<div>\n",
       "<style scoped>\n",
       "    .dataframe tbody tr th:only-of-type {\n",
       "        vertical-align: middle;\n",
       "    }\n",
       "\n",
       "    .dataframe tbody tr th {\n",
       "        vertical-align: top;\n",
       "    }\n",
       "\n",
       "    .dataframe thead th {\n",
       "        text-align: right;\n",
       "    }\n",
       "</style>\n",
       "<table border=\"1\" class=\"dataframe\">\n",
       "  <thead>\n",
       "    <tr style=\"text-align: right;\">\n",
       "      <th></th>\n",
       "      <th>deaths</th>\n",
       "      <th>drivers</th>\n",
       "      <th>popden</th>\n",
       "      <th>rural</th>\n",
       "      <th>temp</th>\n",
       "      <th>fuel</th>\n",
       "    </tr>\n",
       "  </thead>\n",
       "  <tbody>\n",
       "    <tr>\n",
       "      <th>Alabama</th>\n",
       "      <td>968</td>\n",
       "      <td>158</td>\n",
       "      <td>64.0</td>\n",
       "      <td>66.0</td>\n",
       "      <td>62</td>\n",
       "      <td>119.0</td>\n",
       "    </tr>\n",
       "    <tr>\n",
       "      <th>Alaska</th>\n",
       "      <td>43</td>\n",
       "      <td>11</td>\n",
       "      <td>0.4</td>\n",
       "      <td>5.9</td>\n",
       "      <td>30</td>\n",
       "      <td>6.2</td>\n",
       "    </tr>\n",
       "    <tr>\n",
       "      <th>...</th>\n",
       "      <td>...</td>\n",
       "      <td>...</td>\n",
       "      <td>...</td>\n",
       "      <td>...</td>\n",
       "      <td>...</td>\n",
       "      <td>...</td>\n",
       "    </tr>\n",
       "    <tr>\n",
       "      <th>Mo</th>\n",
       "      <td>1289</td>\n",
       "      <td>234</td>\n",
       "      <td>63.0</td>\n",
       "      <td>100.0</td>\n",
       "      <td>40</td>\n",
       "      <td>180.0</td>\n",
       "    </tr>\n",
       "    <tr>\n",
       "      <th>Mont</th>\n",
       "      <td>259</td>\n",
       "      <td>38</td>\n",
       "      <td>4.6</td>\n",
       "      <td>72.0</td>\n",
       "      <td>29</td>\n",
       "      <td>31.0</td>\n",
       "    </tr>\n",
       "  </tbody>\n",
       "</table>\n",
       "<p>26 rows × 6 columns</p>\n",
       "</div>"
      ],
      "text/plain": [
       "         deaths  drivers  popden  rural  temp   fuel\n",
       "Alabama     968      158    64.0   66.0    62  119.0\n",
       "Alaska       43       11     0.4    5.9    30    6.2\n",
       "...         ...      ...     ...    ...   ...    ...\n",
       "Mo         1289      234    63.0  100.0    40  180.0\n",
       "Mont        259       38     4.6   72.0    29   31.0\n",
       "\n",
       "[26 rows x 6 columns]"
      ]
     },
     "metadata": {},
     "output_type": "display_data"
    }
   ],
   "source": [
    "road = sm.datasets.get_rdataset('road', 'MASS').data\n",
    "print('road')\n",
    "display(road)"
   ]
  },
  {
   "cell_type": "code",
   "execution_count": null,
   "metadata": {},
   "outputs": [],
   "source": []
  },
  {
   "cell_type": "markdown",
   "metadata": {
    "solution2": "hidden",
    "solution2_first": true
   },
   "source": [
    "解答例\n",
    "\n",
    "---"
   ]
  },
  {
   "cell_type": "code",
   "execution_count": 27,
   "metadata": {
    "collapsed": true,
    "jupyter": {
     "outputs_hidden": true,
     "source_hidden": true
    },
    "solution2": "hidden"
   },
   "outputs": [
    {
     "data": {
      "image/png": "[encoded data removed]",
      "text/plain": [
       "<Figure size 432x288 with 1 Axes>"
      ]
     },
     "metadata": {
      "needs_background": "light"
     },
     "output_type": "display_data"
    }
   ],
   "source": [
    "poisson = sm.GLM(road['deaths'],\n",
    "                 road[[c for c in road.columns if c != 'deatths']],\n",
    "                 family=sm.families.Poisson()).fit()\n",
    "plt.scatter(poisson.mu, poisson.resid_deviance)\n",
    "plt.show()"
   ]
  },
  {
   "cell_type": "markdown",
   "metadata": {},
   "source": [
    "---"
   ]
  },
  {
   "cell_type": "markdown",
   "metadata": {},
   "source": [
    "### Q-Qプロット\n",
    "---\n",
    "ある変数に何らかの分布を仮定している場合に、実際にその分布に適合しているか確認する手法。  \n",
    "横軸に想定する分布からの分位点 (パーセント点) 、縦軸に変数からのサンプルの分位点をとった散布図。  \n",
    "主に残差が正規分布に従っているかを確認するのに利用する。  \n",
    "左下から右上へ一直線に並ぶのが理想的。\n",
    "\n",
    "下図は横軸が正規分布、縦軸が指数分布の場合の Q-Q プロット。"
   ]
  },
  {
   "cell_type": "code",
   "execution_count": 28,
   "metadata": {
    "hide_input": true,
    "jupyter": {
     "source_hidden": true
    }
   },
   "outputs": [
    {
     "data": {
      "image/png": "[encoded data removed]",
      "text/plain": [
       "<Figure size 288x288 with 1 Axes>"
      ]
     },
     "metadata": {
      "needs_background": "light"
     },
     "output_type": "display_data"
    }
   ],
   "source": [
    "from my_functions.metrics import qqplot\n",
    "qqplot.show()"
   ]
  },
  {
   "cell_type": "markdown",
   "metadata": {},
   "source": [
    "練習問題\n",
    "\n",
    "---\n",
    "`reg_train`に線形回帰を適用し、`reg_train`・`reg_test`に対する予測との残差と正規分布をそれぞれ比較した Q-Q プロットを表示する。"
   ]
  },
  {
   "cell_type": "code",
   "execution_count": null,
   "metadata": {},
   "outputs": [],
   "source": []
  },
  {
   "cell_type": "markdown",
   "metadata": {
    "solution2": "hidden",
    "solution2_first": true
   },
   "source": [
    "解答例\n",
    "\n",
    "---"
   ]
  },
  {
   "cell_type": "code",
   "execution_count": 29,
   "metadata": {
    "collapsed": true,
    "jupyter": {
     "outputs_hidden": true,
     "source_hidden": true
    },
    "solution2": "hidden"
   },
   "outputs": [
    {
     "data": {
      "image/png": "[encoded data removed]",
      "text/plain": [
       "<Figure size 432x288 with 1 Axes>"
      ]
     },
     "metadata": {
      "needs_background": "light"
     },
     "output_type": "display_data"
    },
    {
     "data": {
      "image/png": "[encoded data removed]",
      "text/plain": [
       "<Figure size 432x288 with 1 Axes>"
      ]
     },
     "metadata": {
      "needs_background": "light"
     },
     "output_type": "display_data"
    }
   ],
   "source": [
    "model_reg = LinearRegression()\n",
    "model_reg.fit(x_reg_train, y_reg_train)\n",
    "\n",
    "p = np.linspace(0.01, 0.99, 20)\n",
    "resid_train = y_reg_train - model_reg.predict(x_reg_train)\n",
    "plt.scatter(norm.ppf(p), np.percentile(resid_train, p), label='train')\n",
    "plt.legend()\n",
    "plt.show()\n",
    "resid_test = y_reg_test - model_reg.predict(x_reg_test)\n",
    "plt.scatter(norm.ppf(p), np.percentile(resid_test, p), label='test')\n",
    "plt.legend()\n",
    "plt.show()"
   ]
  },
  {
   "cell_type": "markdown",
   "metadata": {},
   "source": [
    "---"
   ]
  },
  {
   "cell_type": "markdown",
   "metadata": {},
   "source": [
    "#### PythonでのQ-Qプロット表示方法\n",
    "---\n",
    "`statsmodels.graphics.gofplots.qqplot`を使用する。"
   ]
  },
  {
   "cell_type": "code",
   "execution_count": 30,
   "metadata": {
    "hide_input": true,
    "jupyter": {
     "source_hidden": true
    }
   },
   "outputs": [
    {
     "name": "stdout",
     "output_type": "stream",
     "text": [
      "longley\n"
     ]
    },
    {
     "data": {
      "text/html": [
       "<div>\n",
       "<style scoped>\n",
       "    .dataframe tbody tr th:only-of-type {\n",
       "        vertical-align: middle;\n",
       "    }\n",
       "\n",
       "    .dataframe tbody tr th {\n",
       "        vertical-align: top;\n",
       "    }\n",
       "\n",
       "    .dataframe thead th {\n",
       "        text-align: right;\n",
       "    }\n",
       "</style>\n",
       "<table border=\"1\" class=\"dataframe\">\n",
       "  <thead>\n",
       "    <tr style=\"text-align: right;\">\n",
       "      <th></th>\n",
       "      <th>TOTEMP</th>\n",
       "      <th>GNPDEFL</th>\n",
       "      <th>GNP</th>\n",
       "      <th>UNEMP</th>\n",
       "      <th>ARMED</th>\n",
       "      <th>POP</th>\n",
       "      <th>YEAR</th>\n",
       "    </tr>\n",
       "  </thead>\n",
       "  <tbody>\n",
       "    <tr>\n",
       "      <th>0</th>\n",
       "      <td>60323.0</td>\n",
       "      <td>83.0</td>\n",
       "      <td>234289.0</td>\n",
       "      <td>2356.0</td>\n",
       "      <td>1590.0</td>\n",
       "      <td>107608.0</td>\n",
       "      <td>1947.0</td>\n",
       "    </tr>\n",
       "    <tr>\n",
       "      <th>1</th>\n",
       "      <td>61122.0</td>\n",
       "      <td>88.5</td>\n",
       "      <td>259426.0</td>\n",
       "      <td>2325.0</td>\n",
       "      <td>1456.0</td>\n",
       "      <td>108632.0</td>\n",
       "      <td>1948.0</td>\n",
       "    </tr>\n",
       "    <tr>\n",
       "      <th>...</th>\n",
       "      <td>...</td>\n",
       "      <td>...</td>\n",
       "      <td>...</td>\n",
       "      <td>...</td>\n",
       "      <td>...</td>\n",
       "      <td>...</td>\n",
       "      <td>...</td>\n",
       "    </tr>\n",
       "    <tr>\n",
       "      <th>14</th>\n",
       "      <td>69331.0</td>\n",
       "      <td>115.7</td>\n",
       "      <td>518173.0</td>\n",
       "      <td>4806.0</td>\n",
       "      <td>2572.0</td>\n",
       "      <td>127852.0</td>\n",
       "      <td>1961.0</td>\n",
       "    </tr>\n",
       "    <tr>\n",
       "      <th>15</th>\n",
       "      <td>70551.0</td>\n",
       "      <td>116.9</td>\n",
       "      <td>554894.0</td>\n",
       "      <td>4007.0</td>\n",
       "      <td>2827.0</td>\n",
       "      <td>130081.0</td>\n",
       "      <td>1962.0</td>\n",
       "    </tr>\n",
       "  </tbody>\n",
       "</table>\n",
       "<p>16 rows × 7 columns</p>\n",
       "</div>"
      ],
      "text/plain": [
       "     TOTEMP  GNPDEFL       GNP   UNEMP   ARMED       POP    YEAR\n",
       "0   60323.0     83.0  234289.0  2356.0  1590.0  107608.0  1947.0\n",
       "1   61122.0     88.5  259426.0  2325.0  1456.0  108632.0  1948.0\n",
       "..      ...      ...       ...     ...     ...       ...     ...\n",
       "14  69331.0    115.7  518173.0  4806.0  2572.0  127852.0  1961.0\n",
       "15  70551.0    116.9  554894.0  4007.0  2827.0  130081.0  1962.0\n",
       "\n",
       "[16 rows x 7 columns]"
      ]
     },
     "metadata": {},
     "output_type": "display_data"
    }
   ],
   "source": [
    "longley = sm.datasets.longley.load_pandas().data\n",
    "print('longley')\n",
    "display(longley)"
   ]
  },
  {
   "cell_type": "code",
   "execution_count": 31,
   "metadata": {
    "collapsed": true,
    "jupyter": {
     "outputs_hidden": true
    }
   },
   "outputs": [
    {
     "name": "stdout",
     "output_type": "stream",
     "text": [
      "Help on function qqplot in module statsmodels.graphics.gofplots:\n",
      "\n",
      "qqplot(data, dist=<scipy.stats._continuous_distns.norm_gen object at 0x7f5db6a523a0>, distargs=(), a=0, loc=0, scale=1, fit=False, line=None, ax=None, **plotkwargs)\n",
      "    Q-Q plot of the quantiles of x versus the quantiles/ppf of a distribution.\n",
      "    \n",
      "    Can take arguments specifying the parameters for dist or fit them\n",
      "    automatically. (See fit under Parameters.)\n",
      "    \n",
      "    Parameters\n",
      "    ----------\n",
      "    data : array_like\n",
      "        A 1d data array.\n",
      "    dist : callable\n",
      "        Comparison distribution. The default is\n",
      "        scipy.stats.distributions.norm (a standard normal).\n",
      "    distargs : tuple\n",
      "        A tuple of arguments passed to dist to specify it fully\n",
      "        so dist.ppf may be called.\n",
      "    a : float\n",
      "        Offset for the plotting position of an expected order statistic, for\n",
      "        example. The plotting positions are given by (i - a)/(nobs - 2*a + 1)\n",
      "        for i in range(0,nobs+1)\n",
      "    loc : float\n",
      "        Location parameter for dist\n",
      "    scale : float\n",
      "        Scale parameter for dist\n",
      "    fit : bool\n",
      "        If fit is false, loc, scale, and distargs are passed to the\n",
      "        distribution. If fit is True then the parameters for dist\n",
      "        are fit automatically using dist.fit. The quantiles are formed\n",
      "        from the standardized data, after subtracting the fitted loc\n",
      "        and dividing by the fitted scale.\n",
      "    line : {None, '45', 's', 'r', q'}\n",
      "        Options for the reference line to which the data is compared:\n",
      "    \n",
      "        - '45' - 45-degree line\n",
      "        - 's' - standardized line, the expected order statistics are scaled\n",
      "          by the standard deviation of the given sample and have the mean\n",
      "          added to them\n",
      "        - 'r' - A regression line is fit\n",
      "        - 'q' - A line is fit through the quartiles.\n",
      "        - None - by default no reference line is added to the plot.\n",
      "    \n",
      "    ax : AxesSubplot, optional\n",
      "        If given, this subplot is used to plot in instead of a new figure being\n",
      "        created.\n",
      "    **plotkwargs\n",
      "        Additional matplotlib arguments to be passed to the `plot` command.\n",
      "    \n",
      "    Returns\n",
      "    -------\n",
      "    Figure\n",
      "        If `ax` is None, the created figure.  Otherwise the figure to which\n",
      "        `ax` is connected.\n",
      "    \n",
      "    See Also\n",
      "    --------\n",
      "    scipy.stats.probplot\n",
      "    \n",
      "    Notes\n",
      "    -----\n",
      "    Depends on matplotlib. If `fit` is True then the parameters are fit using\n",
      "    the distribution's fit() method.\n",
      "    \n",
      "    Examples\n",
      "    --------\n",
      "    >>> import statsmodels.api as sm\n",
      "    >>> from matplotlib import pyplot as plt\n",
      "    >>> data = sm.datasets.longley.load(as_pandas=False)\n",
      "    >>> data.exog = sm.add_constant(data.exog)\n",
      "    >>> mod_fit = sm.OLS(data.endog, data.exog).fit()\n",
      "    >>> res = mod_fit.resid # residuals\n",
      "    >>> fig = sm.qqplot(res)\n",
      "    >>> plt.show()\n",
      "    \n",
      "    qqplot of the residuals against quantiles of t-distribution with 4 degrees\n",
      "    of freedom:\n",
      "    \n",
      "    >>> import scipy.stats as stats\n",
      "    >>> fig = sm.qqplot(res, stats.t, distargs=(4,))\n",
      "    >>> plt.show()\n",
      "    \n",
      "    qqplot against same as above, but with mean 3 and std 10:\n",
      "    \n",
      "    >>> fig = sm.qqplot(res, stats.t, distargs=(4,), loc=3, scale=10)\n",
      "    >>> plt.show()\n",
      "    \n",
      "    Automatically determine parameters for t distribution including the\n",
      "    loc and scale:\n",
      "    \n",
      "    >>> fig = sm.qqplot(res, stats.t, fit=True, line='45')\n",
      "    >>> plt.show()\n",
      "    \n",
      "    The following plot displays some options, follow the link to see the code.\n",
      "    \n",
      "    .. plot:: plots/graphics_gofplots_qqplot.py\n",
      "\n"
     ]
    }
   ],
   "source": [
    "help(sm.qqplot)"
   ]
  },
  {
   "cell_type": "code",
   "execution_count": 32,
   "metadata": {},
   "outputs": [
    {
     "data": {
      "image/png": "[encoded data removed]",
      "text/plain": [
       "<Figure size 432x288 with 1 Axes>"
      ]
     },
     "metadata": {
      "needs_background": "light"
     },
     "output_type": "display_data"
    }
   ],
   "source": [
    "fitted_model = sm.OLS(longley['TOTEMP'], sm.add_constant(longley.iloc[:, 1:])).fit()\n",
    "sm.qqplot(fitted_model.resid, line='r')\n",
    "plt.show()"
   ]
  },
  {
   "cell_type": "markdown",
   "metadata": {},
   "source": [
    "### calibration curve\n",
    "---\n",
    "モデルが出力した0~1の範囲の値を、確率として扱って良いか確認する手法。  \n",
    "予測値 $\\hat{y}$ を横軸にとって複数の区間に分割し、それぞれの区間で正解ラベル $y$ の割合を縦軸にとった折れ線グラフ。  \n",
    "予測値が正解ラベルに属する確率を表しているとすると、理想的には左下から右上を結ぶ直線になる。"
   ]
  },
  {
   "cell_type": "code",
   "execution_count": 33,
   "metadata": {
    "hide_input": true,
    "jupyter": {
     "source_hidden": true
    }
   },
   "outputs": [
    {
     "data": {
      "image/png": "[encoded data removed]",
      "text/plain": [
       "<Figure size 288x288 with 1 Axes>"
      ]
     },
     "metadata": {
      "needs_background": "light"
     },
     "output_type": "display_data"
    }
   ],
   "source": [
    "from my_functions.metrics import plot_calibration_curve\n",
    "plot_calibration_curve.show()"
   ]
  },
  {
   "cell_type": "markdown",
   "metadata": {},
   "source": [
    "練習問題\n",
    "\n",
    "---\n",
    "`clf_train`データセットにロジスティック回帰を適用し、 calibration curve を表示する。"
   ]
  },
  {
   "cell_type": "code",
   "execution_count": 34,
   "metadata": {
    "hide_input": true,
    "jupyter": {
     "source_hidden": true
    }
   },
   "outputs": [
    {
     "name": "stdout",
     "output_type": "stream",
     "text": [
      "clf_train\n"
     ]
    },
    {
     "data": {
      "text/html": [
       "<div>\n",
       "<style scoped>\n",
       "    .dataframe tbody tr th:only-of-type {\n",
       "        vertical-align: middle;\n",
       "    }\n",
       "\n",
       "    .dataframe tbody tr th {\n",
       "        vertical-align: top;\n",
       "    }\n",
       "\n",
       "    .dataframe thead th {\n",
       "        text-align: right;\n",
       "    }\n",
       "</style>\n",
       "<table border=\"1\" class=\"dataframe\">\n",
       "  <thead>\n",
       "    <tr style=\"text-align: right;\">\n",
       "      <th></th>\n",
       "      <th>$x_1$</th>\n",
       "      <th>$x_2$</th>\n",
       "      <th>$x_3$</th>\n",
       "      <th>$x_4$</th>\n",
       "      <th>$x_5$</th>\n",
       "      <th>$y_{true}$</th>\n",
       "    </tr>\n",
       "  </thead>\n",
       "  <tbody>\n",
       "    <tr>\n",
       "      <th>0</th>\n",
       "      <td>-1.264517</td>\n",
       "      <td>-0.317810</td>\n",
       "      <td>1.192785</td>\n",
       "      <td>2.276830</td>\n",
       "      <td>1.431184</td>\n",
       "      <td>1.0</td>\n",
       "    </tr>\n",
       "    <tr>\n",
       "      <th>1</th>\n",
       "      <td>0.909403</td>\n",
       "      <td>0.073113</td>\n",
       "      <td>-0.960346</td>\n",
       "      <td>-1.714961</td>\n",
       "      <td>0.298984</td>\n",
       "      <td>0.0</td>\n",
       "    </tr>\n",
       "    <tr>\n",
       "      <th>...</th>\n",
       "      <td>...</td>\n",
       "      <td>...</td>\n",
       "      <td>...</td>\n",
       "      <td>...</td>\n",
       "      <td>...</td>\n",
       "      <td>...</td>\n",
       "    </tr>\n",
       "    <tr>\n",
       "      <th>73</th>\n",
       "      <td>-0.948686</td>\n",
       "      <td>-0.893450</td>\n",
       "      <td>0.462831</td>\n",
       "      <td>1.381451</td>\n",
       "      <td>-1.268994</td>\n",
       "      <td>1.0</td>\n",
       "    </tr>\n",
       "    <tr>\n",
       "      <th>74</th>\n",
       "      <td>-1.250956</td>\n",
       "      <td>-1.747812</td>\n",
       "      <td>0.234538</td>\n",
       "      <td>1.537458</td>\n",
       "      <td>1.076541</td>\n",
       "      <td>1.0</td>\n",
       "    </tr>\n",
       "  </tbody>\n",
       "</table>\n",
       "<p>75 rows × 6 columns</p>\n",
       "</div>"
      ],
      "text/plain": [
       "       $x_1$     $x_2$     $x_3$     $x_4$     $x_5$  $y_{true}$\n",
       "0  -1.264517 -0.317810  1.192785  2.276830  1.431184         1.0\n",
       "1   0.909403  0.073113 -0.960346 -1.714961  0.298984         0.0\n",
       "..       ...       ...       ...       ...       ...         ...\n",
       "73 -0.948686 -0.893450  0.462831  1.381451 -1.268994         1.0\n",
       "74 -1.250956 -1.747812  0.234538  1.537458  1.076541         1.0\n",
       "\n",
       "[75 rows x 6 columns]"
      ]
     },
     "metadata": {},
     "output_type": "display_data"
    }
   ],
   "source": [
    "print('clf_train')\n",
    "display(clf_train)"
   ]
  },
  {
   "cell_type": "code",
   "execution_count": null,
   "metadata": {},
   "outputs": [],
   "source": []
  },
  {
   "cell_type": "markdown",
   "metadata": {
    "solution2": "hidden",
    "solution2_first": true
   },
   "source": [
    "解答例\n",
    "\n",
    "---"
   ]
  },
  {
   "cell_type": "code",
   "execution_count": 35,
   "metadata": {
    "collapsed": true,
    "jupyter": {
     "outputs_hidden": true,
     "source_hidden": true
    },
    "solution2": "hidden"
   },
   "outputs": [
    {
     "data": {
      "image/png": "[encoded data removed]",
      "text/plain": [
       "<Figure size 432x288 with 1 Axes>"
      ]
     },
     "metadata": {
      "needs_background": "light"
     },
     "output_type": "display_data"
    }
   ],
   "source": [
    "model_clf = LogisticRegression().fit(x_clf_train, y_clf_train)\n",
    "y_hat = model_clf.predict_proba(x_clf_train)[:, 1]\n",
    "idx = np.argsort(y_hat)\n",
    "y_true = y_clf_train[idx]\n",
    "y_pred = y_hat[idx]\n",
    "x = []\n",
    "y = []\n",
    "for thresh in np.arange(0, 1, 0.1):\n",
    "    condition = (thresh <= y_pred) & (y_pred < thresh+0.1)\n",
    "    x.append(np.mean(y_pred[condition]))\n",
    "    y.append(np.mean(y_true[condition]))\n",
    "plt.plot(x, y)\n",
    "plt.show()"
   ]
  },
  {
   "cell_type": "markdown",
   "metadata": {},
   "source": [
    "---"
   ]
  },
  {
   "cell_type": "markdown",
   "metadata": {},
   "source": [
    "#### Pythonでのcalibration curve表示方法\n",
    "---\n",
    "`sklearn.calibration.calibration_curve`を使用する。"
   ]
  },
  {
   "cell_type": "code",
   "execution_count": 36,
   "metadata": {
    "collapsed": true,
    "jupyter": {
     "outputs_hidden": true
    }
   },
   "outputs": [
    {
     "name": "stdout",
     "output_type": "stream",
     "text": [
      "Help on function calibration_curve in module sklearn.calibration:\n",
      "\n",
      "calibration_curve(y_true, y_prob, normalize=False, n_bins=5, strategy='uniform')\n",
      "    Compute true and predicted probabilities for a calibration curve.\n",
      "    \n",
      "    The method assumes the inputs come from a binary classifier, and\n",
      "    discretize the [0, 1] interval into bins.\n",
      "    \n",
      "    Calibration curves may also be referred to as reliability diagrams.\n",
      "    \n",
      "    Read more in the :ref:`User Guide <calibration>`.\n",
      "    \n",
      "    Parameters\n",
      "    ----------\n",
      "    y_true : array-like of shape (n_samples,)\n",
      "        True targets.\n",
      "    \n",
      "    y_prob : array-like of shape (n_samples,)\n",
      "        Probabilities of the positive class.\n",
      "    \n",
      "    normalize : bool, default=False\n",
      "        Whether y_prob needs to be normalized into the [0, 1] interval, i.e.\n",
      "        is not a proper probability. If True, the smallest value in y_prob\n",
      "        is linearly mapped onto 0 and the largest one onto 1.\n",
      "    \n",
      "    n_bins : int, default=5\n",
      "        Number of bins to discretize the [0, 1] interval. A bigger number\n",
      "        requires more data. Bins with no samples (i.e. without\n",
      "        corresponding values in `y_prob`) will not be returned, thus the\n",
      "        returned arrays may have less than `n_bins` values.\n",
      "    \n",
      "    strategy : {'uniform', 'quantile'}, default='uniform'\n",
      "        Strategy used to define the widths of the bins.\n",
      "    \n",
      "        uniform\n",
      "            The bins have identical widths.\n",
      "        quantile\n",
      "            The bins have the same number of samples and depend on `y_prob`.\n",
      "    \n",
      "    Returns\n",
      "    -------\n",
      "    prob_true : ndarray of shape (n_bins,) or smaller\n",
      "        The proportion of samples whose class is the positive class, in each\n",
      "        bin (fraction of positives).\n",
      "    \n",
      "    prob_pred : ndarray of shape (n_bins,) or smaller\n",
      "        The mean predicted probability in each bin.\n",
      "    \n",
      "    References\n",
      "    ----------\n",
      "    Alexandru Niculescu-Mizil and Rich Caruana (2005) Predicting Good\n",
      "    Probabilities With Supervised Learning, in Proceedings of the 22nd\n",
      "    International Conference on Machine Learning (ICML).\n",
      "    See section 4 (Qualitative Analysis of Predictions).\n",
      "\n"
     ]
    }
   ],
   "source": [
    "help(calibration_curve)"
   ]
  },
  {
   "cell_type": "code",
   "execution_count": 37,
   "metadata": {},
   "outputs": [
    {
     "data": {
      "image/png": "[encoded data removed]",
      "text/plain": [
       "<Figure size 432x288 with 1 Axes>"
      ]
     },
     "metadata": {
      "needs_background": "light"
     },
     "output_type": "display_data"
    }
   ],
   "source": [
    "model_clf = LogisticRegression().fit(x_clf_train, y_clf_train)\n",
    "y_hat = model_clf.predict_proba(x_clf_train)[:, 1]\n",
    "yy, xx = calibration_curve(y_clf_train, y_hat, n_bins=10)\n",
    "plt.plot(xx, yy, marker='o')\n",
    "plt.show()"
   ]
  },
  {
   "cell_type": "markdown",
   "metadata": {},
   "source": [
    "## 推薦図書\n",
    "---\n",
    "- [Kaggleで勝つデータ分析の技術](https://www.amazon.co.jp/Kaggle%E3%81%A7%E5%8B%9D%E3%81%A4%E3%83%87%E3%83%BC%E3%82%BF%E5%88%86%E6%9E%90%E3%81%AE%E6%8A%80%E8%A1%93-%E9%96%80%E8%84%87-%E5%A4%A7%E8%BC%94/dp/4297108437/)\n",
    "- [Python 機械学習プログラミング 達人データサイエンティストによる理論と実践](https://www.amazon.co.jp/Python-%E6%A9%9F%E6%A2%B0%E5%AD%A6%E7%BF%92%E3%83%97%E3%83%AD%E3%82%B0%E3%83%A9%E3%83%9F%E3%83%B3%E3%82%B0-%E9%81%94%E4%BA%BA%E3%83%87%E3%83%BC%E3%82%BF%E3%82%B5%E3%82%A4%E3%82%A8%E3%83%B3%E3%83%86%E3%82%A3%E3%82%B9%E3%83%88%E3%81%AB%E3%82%88%E3%82%8B%E7%90%86%E8%AB%96%E3%81%A8%E5%AE%9F%E8%B7%B5-impress-gear/dp/4295003379/)"
   ]
  }
 ],
 "metadata": {
  "kernelspec": {
   "display_name": "Python 3",
   "language": "python",
   "name": "python3"
  },
  "language_info": {
   "codemirror_mode": {
    "name": "ipython",
    "version": 3
   },
   "file_extension": ".py",
   "mimetype": "text/x-python",
   "name": "python",
   "nbconvert_exporter": "python",
   "pygments_lexer": "ipython3",
   "version": "3.8.3"
  },
  "toc": {
   "base_numbering": 1,
   "nav_menu": {},
   "number_sections": true,
   "sideBar": true,
   "skip_h1_title": true,
   "title_cell": "Table of Contents",
   "title_sidebar": "Contents",
   "toc_cell": false,
   "toc_position": {},
   "toc_section_display": true,
   "toc_window_display": true
  },
  "varInspector": {
   "cols": {
    "lenName": 16,
    "lenType": 16,
    "lenVar": 40
   },
   "kernels_config": {
    "python": {
     "delete_cmd_postfix": "",
     "delete_cmd_prefix": "del ",
     "library": "var_list.py",
     "varRefreshCmd": "print(var_dic_list())"
    },
    "r": {
     "delete_cmd_postfix": ") ",
     "delete_cmd_prefix": "rm(",
     "library": "var_list.r",
     "varRefreshCmd": "cat(var_dic_list()) "
    }
   },
   "types_to_exclude": [
    "module",
    "function",
    "builtin_function_or_method",
    "instance",
    "_Feature"
   ],
   "window_display": false
  }
 },
 "nbformat": 4,
 "nbformat_minor": 4
}
