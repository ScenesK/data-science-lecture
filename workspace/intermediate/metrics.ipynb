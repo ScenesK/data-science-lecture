{
 "cells": [
  {
   "cell_type": "code",
   "execution_count": 1,
   "metadata": {},
   "outputs": [],
   "source": [
    "import numpy as np\n",
    "import pandas as pd\n",
    "from sklearn.datasets import make_classification, make_regression\n",
    "from sklearn.model_selection import train_test_split\n",
    "from sklearn.linear_model import LogisticRegression, LinearRegression\n",
    "from sklearn.metrics import accuracy_score, r2_score, mean_squared_error, mean_absolute_error\n",
    "import matplotlib.pyplot as plt\n",
    "from yellowbrick.regressor import ResidualsPlot\n",
    "from IPython.display import display\n",
    "pd.set_option('max_rows', 5)\n",
    "%matplotlib inline"
   ]
  },
  {
   "cell_type": "markdown",
   "metadata": {},
   "source": [
    "## 分類の評価指標"
   ]
  },
  {
   "cell_type": "code",
   "execution_count": 2,
   "metadata": {
    "hide_input": true
   },
   "outputs": [
    {
     "name": "stdout",
     "output_type": "stream",
     "text": [
      "clf_train\n"
     ]
    },
    {
     "data": {
      "text/html": [
       "<div>\n",
       "<style scoped>\n",
       "    .dataframe tbody tr th:only-of-type {\n",
       "        vertical-align: middle;\n",
       "    }\n",
       "\n",
       "    .dataframe tbody tr th {\n",
       "        vertical-align: top;\n",
       "    }\n",
       "\n",
       "    .dataframe thead th {\n",
       "        text-align: right;\n",
       "    }\n",
       "</style>\n",
       "<table border=\"1\" class=\"dataframe\">\n",
       "  <thead>\n",
       "    <tr style=\"text-align: right;\">\n",
       "      <th></th>\n",
       "      <th>$x_1$</th>\n",
       "      <th>$x_2$</th>\n",
       "      <th>$x_3$</th>\n",
       "      <th>$x_4$</th>\n",
       "      <th>$x_5$</th>\n",
       "      <th>$y_{true}$</th>\n",
       "    </tr>\n",
       "  </thead>\n",
       "  <tbody>\n",
       "    <tr>\n",
       "      <th>0</th>\n",
       "      <td>-1.264517</td>\n",
       "      <td>-0.317810</td>\n",
       "      <td>1.192785</td>\n",
       "      <td>2.276830</td>\n",
       "      <td>1.431184</td>\n",
       "      <td>1.0</td>\n",
       "    </tr>\n",
       "    <tr>\n",
       "      <th>1</th>\n",
       "      <td>0.909403</td>\n",
       "      <td>0.073113</td>\n",
       "      <td>-0.960346</td>\n",
       "      <td>-1.714961</td>\n",
       "      <td>0.298984</td>\n",
       "      <td>0.0</td>\n",
       "    </tr>\n",
       "    <tr>\n",
       "      <th>...</th>\n",
       "      <td>...</td>\n",
       "      <td>...</td>\n",
       "      <td>...</td>\n",
       "      <td>...</td>\n",
       "      <td>...</td>\n",
       "      <td>...</td>\n",
       "    </tr>\n",
       "    <tr>\n",
       "      <th>73</th>\n",
       "      <td>-0.948686</td>\n",
       "      <td>-0.893450</td>\n",
       "      <td>0.462831</td>\n",
       "      <td>1.381451</td>\n",
       "      <td>-1.268994</td>\n",
       "      <td>1.0</td>\n",
       "    </tr>\n",
       "    <tr>\n",
       "      <th>74</th>\n",
       "      <td>-1.250956</td>\n",
       "      <td>-1.747812</td>\n",
       "      <td>0.234538</td>\n",
       "      <td>1.537458</td>\n",
       "      <td>1.076541</td>\n",
       "      <td>1.0</td>\n",
       "    </tr>\n",
       "  </tbody>\n",
       "</table>\n",
       "<p>75 rows × 6 columns</p>\n",
       "</div>"
      ],
      "text/plain": [
       "       $x_1$     $x_2$     $x_3$     $x_4$     $x_5$  $y_{true}$\n",
       "0  -1.264517 -0.317810  1.192785  2.276830  1.431184         1.0\n",
       "1   0.909403  0.073113 -0.960346 -1.714961  0.298984         0.0\n",
       "..       ...       ...       ...       ...       ...         ...\n",
       "73 -0.948686 -0.893450  0.462831  1.381451 -1.268994         1.0\n",
       "74 -1.250956 -1.747812  0.234538  1.537458  1.076541         1.0\n",
       "\n",
       "[75 rows x 6 columns]"
      ]
     },
     "metadata": {},
     "output_type": "display_data"
    },
    {
     "name": "stdout",
     "output_type": "stream",
     "text": [
      "clf_test\n"
     ]
    },
    {
     "data": {
      "text/html": [
       "<div>\n",
       "<style scoped>\n",
       "    .dataframe tbody tr th:only-of-type {\n",
       "        vertical-align: middle;\n",
       "    }\n",
       "\n",
       "    .dataframe tbody tr th {\n",
       "        vertical-align: top;\n",
       "    }\n",
       "\n",
       "    .dataframe thead th {\n",
       "        text-align: right;\n",
       "    }\n",
       "</style>\n",
       "<table border=\"1\" class=\"dataframe\">\n",
       "  <thead>\n",
       "    <tr style=\"text-align: right;\">\n",
       "      <th></th>\n",
       "      <th>$x_1$</th>\n",
       "      <th>$x_2$</th>\n",
       "      <th>$x_3$</th>\n",
       "      <th>$x_4$</th>\n",
       "      <th>$x_5$</th>\n",
       "      <th>$y_{true}$</th>\n",
       "    </tr>\n",
       "  </thead>\n",
       "  <tbody>\n",
       "    <tr>\n",
       "      <th>0</th>\n",
       "      <td>0.439331</td>\n",
       "      <td>0.839825</td>\n",
       "      <td>0.066697</td>\n",
       "      <td>-0.427226</td>\n",
       "      <td>-0.660230</td>\n",
       "      <td>0.0</td>\n",
       "    </tr>\n",
       "    <tr>\n",
       "      <th>1</th>\n",
       "      <td>-0.397057</td>\n",
       "      <td>0.581005</td>\n",
       "      <td>0.823577</td>\n",
       "      <td>1.054490</td>\n",
       "      <td>-0.061246</td>\n",
       "      <td>1.0</td>\n",
       "    </tr>\n",
       "    <tr>\n",
       "      <th>...</th>\n",
       "      <td>...</td>\n",
       "      <td>...</td>\n",
       "      <td>...</td>\n",
       "      <td>...</td>\n",
       "      <td>...</td>\n",
       "      <td>...</td>\n",
       "    </tr>\n",
       "    <tr>\n",
       "      <th>23</th>\n",
       "      <td>0.998859</td>\n",
       "      <td>1.101113</td>\n",
       "      <td>-0.381504</td>\n",
       "      <td>-1.374502</td>\n",
       "      <td>0.387674</td>\n",
       "      <td>0.0</td>\n",
       "    </tr>\n",
       "    <tr>\n",
       "      <th>24</th>\n",
       "      <td>-0.116642</td>\n",
       "      <td>-1.791178</td>\n",
       "      <td>-1.052071</td>\n",
       "      <td>-0.668758</td>\n",
       "      <td>-0.157099</td>\n",
       "      <td>0.0</td>\n",
       "    </tr>\n",
       "  </tbody>\n",
       "</table>\n",
       "<p>25 rows × 6 columns</p>\n",
       "</div>"
      ],
      "text/plain": [
       "       $x_1$     $x_2$     $x_3$     $x_4$     $x_5$  $y_{true}$\n",
       "0   0.439331  0.839825  0.066697 -0.427226 -0.660230         0.0\n",
       "1  -0.397057  0.581005  0.823577  1.054490 -0.061246         1.0\n",
       "..       ...       ...       ...       ...       ...         ...\n",
       "23  0.998859  1.101113 -0.381504 -1.374502  0.387674         0.0\n",
       "24 -0.116642 -1.791178 -1.052071 -0.668758 -0.157099         0.0\n",
       "\n",
       "[25 rows x 6 columns]"
      ]
     },
     "metadata": {},
     "output_type": "display_data"
    },
    {
     "name": "stdout",
     "output_type": "stream",
     "text": [
      "reg_train\n"
     ]
    },
    {
     "data": {
      "text/html": [
       "<div>\n",
       "<style scoped>\n",
       "    .dataframe tbody tr th:only-of-type {\n",
       "        vertical-align: middle;\n",
       "    }\n",
       "\n",
       "    .dataframe tbody tr th {\n",
       "        vertical-align: top;\n",
       "    }\n",
       "\n",
       "    .dataframe thead th {\n",
       "        text-align: right;\n",
       "    }\n",
       "</style>\n",
       "<table border=\"1\" class=\"dataframe\">\n",
       "  <thead>\n",
       "    <tr style=\"text-align: right;\">\n",
       "      <th></th>\n",
       "      <th>$x_1$</th>\n",
       "      <th>$x_2$</th>\n",
       "      <th>$x_3$</th>\n",
       "      <th>$x_4$</th>\n",
       "      <th>$x_5$</th>\n",
       "      <th>$y_{true}$</th>\n",
       "    </tr>\n",
       "  </thead>\n",
       "  <tbody>\n",
       "    <tr>\n",
       "      <th>0</th>\n",
       "      <td>1.384580</td>\n",
       "      <td>1.951103</td>\n",
       "      <td>-0.286425</td>\n",
       "      <td>0.500070</td>\n",
       "      <td>-0.278367</td>\n",
       "      <td>98.163942</td>\n",
       "    </tr>\n",
       "    <tr>\n",
       "      <th>1</th>\n",
       "      <td>-0.684128</td>\n",
       "      <td>0.331527</td>\n",
       "      <td>0.599962</td>\n",
       "      <td>-0.217199</td>\n",
       "      <td>-0.383365</td>\n",
       "      <td>-47.749979</td>\n",
       "    </tr>\n",
       "    <tr>\n",
       "      <th>...</th>\n",
       "      <td>...</td>\n",
       "      <td>...</td>\n",
       "      <td>...</td>\n",
       "      <td>...</td>\n",
       "      <td>...</td>\n",
       "      <td>...</td>\n",
       "    </tr>\n",
       "    <tr>\n",
       "      <th>73</th>\n",
       "      <td>1.015405</td>\n",
       "      <td>0.440266</td>\n",
       "      <td>0.749185</td>\n",
       "      <td>-0.675521</td>\n",
       "      <td>0.688972</td>\n",
       "      <td>162.855411</td>\n",
       "    </tr>\n",
       "    <tr>\n",
       "      <th>74</th>\n",
       "      <td>-0.897157</td>\n",
       "      <td>0.755414</td>\n",
       "      <td>-0.136795</td>\n",
       "      <td>0.018289</td>\n",
       "      <td>0.215269</td>\n",
       "      <td>-66.752940</td>\n",
       "    </tr>\n",
       "  </tbody>\n",
       "</table>\n",
       "<p>75 rows × 6 columns</p>\n",
       "</div>"
      ],
      "text/plain": [
       "       $x_1$     $x_2$     $x_3$     $x_4$     $x_5$  $y_{true}$\n",
       "0   1.384580  1.951103 -0.286425  0.500070 -0.278367   98.163942\n",
       "1  -0.684128  0.331527  0.599962 -0.217199 -0.383365  -47.749979\n",
       "..       ...       ...       ...       ...       ...         ...\n",
       "73  1.015405  0.440266  0.749185 -0.675521  0.688972  162.855411\n",
       "74 -0.897157  0.755414 -0.136795  0.018289  0.215269  -66.752940\n",
       "\n",
       "[75 rows x 6 columns]"
      ]
     },
     "metadata": {},
     "output_type": "display_data"
    },
    {
     "name": "stdout",
     "output_type": "stream",
     "text": [
      "reg_test\n"
     ]
    },
    {
     "data": {
      "text/html": [
       "<div>\n",
       "<style scoped>\n",
       "    .dataframe tbody tr th:only-of-type {\n",
       "        vertical-align: middle;\n",
       "    }\n",
       "\n",
       "    .dataframe tbody tr th {\n",
       "        vertical-align: top;\n",
       "    }\n",
       "\n",
       "    .dataframe thead th {\n",
       "        text-align: right;\n",
       "    }\n",
       "</style>\n",
       "<table border=\"1\" class=\"dataframe\">\n",
       "  <thead>\n",
       "    <tr style=\"text-align: right;\">\n",
       "      <th></th>\n",
       "      <th>$x_1$</th>\n",
       "      <th>$x_2$</th>\n",
       "      <th>$x_3$</th>\n",
       "      <th>$x_4$</th>\n",
       "      <th>$x_5$</th>\n",
       "      <th>$y_{true}$</th>\n",
       "    </tr>\n",
       "  </thead>\n",
       "  <tbody>\n",
       "    <tr>\n",
       "      <th>0</th>\n",
       "      <td>1.343182</td>\n",
       "      <td>-1.553342</td>\n",
       "      <td>-0.050540</td>\n",
       "      <td>-0.364010</td>\n",
       "      <td>-0.319298</td>\n",
       "      <td>69.510039</td>\n",
       "    </tr>\n",
       "    <tr>\n",
       "      <th>1</th>\n",
       "      <td>0.264534</td>\n",
       "      <td>-0.174298</td>\n",
       "      <td>0.565658</td>\n",
       "      <td>0.585084</td>\n",
       "      <td>-1.071369</td>\n",
       "      <td>8.398147</td>\n",
       "    </tr>\n",
       "    <tr>\n",
       "      <th>...</th>\n",
       "      <td>...</td>\n",
       "      <td>...</td>\n",
       "      <td>...</td>\n",
       "      <td>...</td>\n",
       "      <td>...</td>\n",
       "      <td>...</td>\n",
       "    </tr>\n",
       "    <tr>\n",
       "      <th>23</th>\n",
       "      <td>-0.240483</td>\n",
       "      <td>-1.815558</td>\n",
       "      <td>0.585599</td>\n",
       "      <td>0.352801</td>\n",
       "      <td>-0.910124</td>\n",
       "      <td>-33.476320</td>\n",
       "    </tr>\n",
       "    <tr>\n",
       "      <th>24</th>\n",
       "      <td>0.023558</td>\n",
       "      <td>-0.722662</td>\n",
       "      <td>-0.660230</td>\n",
       "      <td>-0.318685</td>\n",
       "      <td>0.177387</td>\n",
       "      <td>-45.749417</td>\n",
       "    </tr>\n",
       "  </tbody>\n",
       "</table>\n",
       "<p>25 rows × 6 columns</p>\n",
       "</div>"
      ],
      "text/plain": [
       "       $x_1$     $x_2$     $x_3$     $x_4$     $x_5$  $y_{true}$\n",
       "0   1.343182 -1.553342 -0.050540 -0.364010 -0.319298   69.510039\n",
       "1   0.264534 -0.174298  0.565658  0.585084 -1.071369    8.398147\n",
       "..       ...       ...       ...       ...       ...         ...\n",
       "23 -0.240483 -1.815558  0.585599  0.352801 -0.910124  -33.476320\n",
       "24  0.023558 -0.722662 -0.660230 -0.318685  0.177387  -45.749417\n",
       "\n",
       "[25 rows x 6 columns]"
      ]
     },
     "metadata": {},
     "output_type": "display_data"
    }
   ],
   "source": [
    "n_features = 5\n",
    "x_clf, y_clf = make_classification(n_features=n_features, random_state=1234)\n",
    "x_reg, y_reg = make_regression(n_features=n_features, noise=0.1, random_state=1234)\n",
    "\n",
    "def to_dataframe(x, y):\n",
    "    return pd.DataFrame(np.column_stack([x, y]), columns=[f'$x_{i+1}$' for i in range(x.shape[1])]+['$y_{true}$'])\n",
    "\n",
    "x_clf_train, x_clf_test, y_clf_train, y_clf_test = train_test_split(x_clf, y_clf, random_state=1234)\n",
    "clf_train = to_dataframe(x_clf_train, y_clf_train)\n",
    "print('clf_train')\n",
    "display(clf_train)\n",
    "clf_test = to_dataframe(x_clf_test, y_clf_test)\n",
    "print('clf_test')\n",
    "display(clf_test)\n",
    "\n",
    "x_reg_train, x_reg_test, y_reg_train, y_reg_test = train_test_split(x_reg, y_reg, random_state=1234)\n",
    "reg_train = to_dataframe(x_reg_train, y_reg_train)\n",
    "print('reg_train')\n",
    "display(reg_train)\n",
    "reg_test = to_dataframe(x_reg_test, y_reg_test)\n",
    "print('reg_test')\n",
    "display(reg_test)"
   ]
  },
  {
   "cell_type": "markdown",
   "metadata": {},
   "source": [
    "### 正確度 (accuracy)\n",
    "---\n",
    "正解率のこと。\n",
    "\n",
    "$\n",
    "{\\displaystyle 正確度=\\frac\n",
    "    {正解数}\n",
    "    {サンプルサイズ}\n",
    "}\n",
    "$"
   ]
  },
  {
   "cell_type": "markdown",
   "metadata": {},
   "source": [
    "###### 練習問題\n",
    "\n",
    "`clf_pred`データセットを元に、正確度を算出する。"
   ]
  },
  {
   "cell_type": "code",
   "execution_count": 3,
   "metadata": {
    "hide_input": true
   },
   "outputs": [
    {
     "name": "stdout",
     "output_type": "stream",
     "text": [
      "clf_pred\n"
     ]
    },
    {
     "name": "stderr",
     "output_type": "stream",
     "text": [
      "/root/local/python-3.7.4/lib/python3.7/site-packages/sklearn/linear_model/logistic.py:432: FutureWarning: Default solver will be changed to 'lbfgs' in 0.22. Specify a solver to silence this warning.\n",
      "  FutureWarning)\n"
     ]
    },
    {
     "data": {
      "text/html": [
       "<div>\n",
       "<style scoped>\n",
       "    .dataframe tbody tr th:only-of-type {\n",
       "        vertical-align: middle;\n",
       "    }\n",
       "\n",
       "    .dataframe tbody tr th {\n",
       "        vertical-align: top;\n",
       "    }\n",
       "\n",
       "    .dataframe thead th {\n",
       "        text-align: right;\n",
       "    }\n",
       "</style>\n",
       "<table border=\"1\" class=\"dataframe\">\n",
       "  <thead>\n",
       "    <tr style=\"text-align: right;\">\n",
       "      <th></th>\n",
       "      <th>正解</th>\n",
       "      <th>予測</th>\n",
       "    </tr>\n",
       "  </thead>\n",
       "  <tbody>\n",
       "    <tr>\n",
       "      <th>0</th>\n",
       "      <td>1</td>\n",
       "      <td>1</td>\n",
       "    </tr>\n",
       "    <tr>\n",
       "      <th>1</th>\n",
       "      <td>0</td>\n",
       "      <td>0</td>\n",
       "    </tr>\n",
       "    <tr>\n",
       "      <th>...</th>\n",
       "      <td>...</td>\n",
       "      <td>...</td>\n",
       "    </tr>\n",
       "    <tr>\n",
       "      <th>98</th>\n",
       "      <td>0</td>\n",
       "      <td>0</td>\n",
       "    </tr>\n",
       "    <tr>\n",
       "      <th>99</th>\n",
       "      <td>1</td>\n",
       "      <td>1</td>\n",
       "    </tr>\n",
       "  </tbody>\n",
       "</table>\n",
       "<p>100 rows × 2 columns</p>\n",
       "</div>"
      ],
      "text/plain": [
       "    正解  予測\n",
       "0    1   1\n",
       "1    0   0\n",
       "..  ..  ..\n",
       "98   0   0\n",
       "99   1   1\n",
       "\n",
       "[100 rows x 2 columns]"
      ]
     },
     "metadata": {},
     "output_type": "display_data"
    }
   ],
   "source": [
    "model = LogisticRegression().fit(x_clf, y_clf)\n",
    "clf_pred = pd.DataFrame({'正解':y_clf, '予測':model.predict(x_clf)})\n",
    "print('clf_pred')\n",
    "display(clf_pred)"
   ]
  },
  {
   "cell_type": "code",
   "execution_count": null,
   "metadata": {
    "solution2": "hidden",
    "solution2_first": true
   },
   "outputs": [],
   "source": []
  },
  {
   "cell_type": "code",
   "execution_count": 4,
   "metadata": {
    "solution2": "hidden"
   },
   "outputs": [
    {
     "data": {
      "text/plain": [
       "0.93"
      ]
     },
     "execution_count": 4,
     "metadata": {},
     "output_type": "execute_result"
    }
   ],
   "source": [
    "sum(clf_pred['正解'] == clf_pred['予測']) / clf_pred['正解'].count()"
   ]
  },
  {
   "cell_type": "markdown",
   "metadata": {},
   "source": [
    "#### Pythonでの正確度算出方法\n",
    "---\n",
    "学習済み分類モデルの`score`メソッドか、`sklearn.metrics.accuracy_score`を使用する。引数に渡す値がそれぞれ異なる。"
   ]
  },
  {
   "cell_type": "code",
   "execution_count": 5,
   "metadata": {},
   "outputs": [
    {
     "name": "stderr",
     "output_type": "stream",
     "text": [
      "/root/local/python-3.7.4/lib/python3.7/site-packages/sklearn/linear_model/logistic.py:432: FutureWarning: Default solver will be changed to 'lbfgs' in 0.22. Specify a solver to silence this warning.\n",
      "  FutureWarning)\n"
     ]
    },
    {
     "data": {
      "text/plain": [
       "LogisticRegression(C=1.0, class_weight=None, dual=False, fit_intercept=True,\n",
       "                   intercept_scaling=1, l1_ratio=None, max_iter=100,\n",
       "                   multi_class='warn', n_jobs=None, penalty='l2',\n",
       "                   random_state=None, solver='warn', tol=0.0001, verbose=0,\n",
       "                   warm_start=False)"
      ]
     },
     "execution_count": 5,
     "metadata": {},
     "output_type": "execute_result"
    }
   ],
   "source": [
    "model_clf = LogisticRegression()\n",
    "model_clf.fit(x_clf_train, y_clf_train)"
   ]
  },
  {
   "cell_type": "code",
   "execution_count": 6,
   "metadata": {},
   "outputs": [],
   "source": [
    "LogisticRegression.score??"
   ]
  },
  {
   "cell_type": "code",
   "execution_count": 7,
   "metadata": {},
   "outputs": [
    {
     "data": {
      "text/plain": [
       "0.88"
      ]
     },
     "execution_count": 7,
     "metadata": {},
     "output_type": "execute_result"
    }
   ],
   "source": [
    "model_clf.score(x_clf_test, y_clf_test)"
   ]
  },
  {
   "cell_type": "code",
   "execution_count": 8,
   "metadata": {},
   "outputs": [],
   "source": [
    "accuracy_score??"
   ]
  },
  {
   "cell_type": "code",
   "execution_count": 9,
   "metadata": {},
   "outputs": [
    {
     "data": {
      "text/plain": [
       "0.88"
      ]
     },
     "execution_count": 9,
     "metadata": {},
     "output_type": "execute_result"
    }
   ],
   "source": [
    "y_clf_hat = model_clf.predict(x_clf_test)\n",
    "accuracy_score(y_clf_test, y_clf_hat)"
   ]
  },
  {
   "cell_type": "markdown",
   "metadata": {},
   "source": [
    "## 回帰の評価指標\n",
    "---\n",
    "分類モデルに比べると問題ごとに異なる指標を選んだり、自分で設計する必要性が高い。"
   ]
  },
  {
   "cell_type": "markdown",
   "metadata": {},
   "source": [
    "### 決定係数 $\\left( R^{2}\\right)$\n",
    "---\n",
    "$\n",
    "\\displaystyle R^{2} =1-\\frac\n",
    "    {\\displaystyle \\sum ^{n}_{i=1}\\left( y_{i} -\\hat{y}_{i}\\right)^{2}}\n",
    "    {\\displaystyle \\sum ^{n}_{i=1}\\left( y_{i} -\\overline{y}\\right)^{2}}\n",
    "$\n",
    "\n",
    "回帰分析では決定係数 $R^2$ は (重) 相関係数の二乗と一致していたが、それ以外のモデルではそのような一致は見られない。この場合、単に**正解ラベルの分散をどれくらいうまく捕捉できているかの指標**に過ぎず、値がマイナスになることもある。"
   ]
  },
  {
   "cell_type": "markdown",
   "metadata": {},
   "source": [
    "#### Pythonでの決定係数算出方法\n",
    "---\n",
    "学習済み回帰モデルの`score`メソッドか、`sklearn.metrics.r2_score`を使用する。"
   ]
  },
  {
   "cell_type": "code",
   "execution_count": 10,
   "metadata": {},
   "outputs": [
    {
     "data": {
      "text/plain": [
       "LinearRegression(copy_X=True, fit_intercept=True, n_jobs=None, normalize=False)"
      ]
     },
     "execution_count": 10,
     "metadata": {},
     "output_type": "execute_result"
    }
   ],
   "source": [
    "model_reg = LinearRegression()\n",
    "model_reg.fit(x_reg_train, y_reg_train)"
   ]
  },
  {
   "cell_type": "code",
   "execution_count": 11,
   "metadata": {},
   "outputs": [],
   "source": [
    "LinearRegression.score??"
   ]
  },
  {
   "cell_type": "code",
   "execution_count": 12,
   "metadata": {},
   "outputs": [
    {
     "data": {
      "text/plain": [
       "0.9999988051140659"
      ]
     },
     "execution_count": 12,
     "metadata": {},
     "output_type": "execute_result"
    }
   ],
   "source": [
    "model_reg.score(x_reg_test, y_reg_test)"
   ]
  },
  {
   "cell_type": "code",
   "execution_count": 13,
   "metadata": {},
   "outputs": [],
   "source": [
    "r2_score??"
   ]
  },
  {
   "cell_type": "code",
   "execution_count": 14,
   "metadata": {},
   "outputs": [
    {
     "data": {
      "text/plain": [
       "0.9999988051140659"
      ]
     },
     "execution_count": 14,
     "metadata": {},
     "output_type": "execute_result"
    }
   ],
   "source": [
    "y_reg_hat = model_reg.predict(x_reg_test)\n",
    "r2_score(y_reg_test, y_reg_hat)"
   ]
  },
  {
   "cell_type": "markdown",
   "metadata": {},
   "source": [
    "### 平均二乗誤差 (MSE, Mean Squared Error)\n",
    "---\n",
    "残差の二乗の平均。  \n",
    "最小二乗法の場合、 $\\overline{e} =0$ より残差の分散に等しい。\n",
    "\n",
    "$\n",
    "\\displaystyle \\begin{aligned}\n",
    "    MSE & =\\frac\n",
    "        {\\displaystyle \\sum ^{n}_{i=1} e^{2}_{i}}\n",
    "        {n}\n",
    "    \\\\\n",
    "     & \\\\\n",
    "     & =\\frac\n",
    "         {\\displaystyle \\sum ^{n}_{i=1}\\left( y_{i} -\\hat{y}_{i}\\right)^{2}}\n",
    "         {n}\n",
    "\\end{aligned}\n",
    "$\n",
    "\n",
    "元の $y$ とスケールを揃える場合、平均二乗誤差の平方根 (RMSE, Root Mean Squared Error) を使用することもある。  \n",
    "最小二乗法の場合、残差の標準偏差に等しい。\n",
    "\n",
    "$\\displaystyle RMSE=\\sqrt{MSE}$"
   ]
  },
  {
   "cell_type": "markdown",
   "metadata": {},
   "source": [
    "###### 練習問題\n",
    "\n",
    "`reg_pred`データセットを元に、平均二乗誤差を算出する。"
   ]
  },
  {
   "cell_type": "code",
   "execution_count": 15,
   "metadata": {
    "hide_input": true
   },
   "outputs": [
    {
     "name": "stdout",
     "output_type": "stream",
     "text": [
      "reg_pred\n"
     ]
    },
    {
     "data": {
      "text/html": [
       "<div>\n",
       "<style scoped>\n",
       "    .dataframe tbody tr th:only-of-type {\n",
       "        vertical-align: middle;\n",
       "    }\n",
       "\n",
       "    .dataframe tbody tr th {\n",
       "        vertical-align: top;\n",
       "    }\n",
       "\n",
       "    .dataframe thead th {\n",
       "        text-align: right;\n",
       "    }\n",
       "</style>\n",
       "<table border=\"1\" class=\"dataframe\">\n",
       "  <thead>\n",
       "    <tr style=\"text-align: right;\">\n",
       "      <th></th>\n",
       "      <th>正解</th>\n",
       "      <th>予測</th>\n",
       "    </tr>\n",
       "  </thead>\n",
       "  <tbody>\n",
       "    <tr>\n",
       "      <th>0</th>\n",
       "      <td>-88.673382</td>\n",
       "      <td>-88.683914</td>\n",
       "    </tr>\n",
       "    <tr>\n",
       "      <th>1</th>\n",
       "      <td>151.441869</td>\n",
       "      <td>151.389445</td>\n",
       "    </tr>\n",
       "    <tr>\n",
       "      <th>...</th>\n",
       "      <td>...</td>\n",
       "      <td>...</td>\n",
       "    </tr>\n",
       "    <tr>\n",
       "      <th>98</th>\n",
       "      <td>-332.315818</td>\n",
       "      <td>-332.225865</td>\n",
       "    </tr>\n",
       "    <tr>\n",
       "      <th>99</th>\n",
       "      <td>100.990582</td>\n",
       "      <td>100.988929</td>\n",
       "    </tr>\n",
       "  </tbody>\n",
       "</table>\n",
       "<p>100 rows × 2 columns</p>\n",
       "</div>"
      ],
      "text/plain": [
       "            正解          予測\n",
       "0   -88.673382  -88.683914\n",
       "1   151.441869  151.389445\n",
       "..         ...         ...\n",
       "98 -332.315818 -332.225865\n",
       "99  100.990582  100.988929\n",
       "\n",
       "[100 rows x 2 columns]"
      ]
     },
     "metadata": {},
     "output_type": "display_data"
    }
   ],
   "source": [
    "model = LinearRegression().fit(x_reg, y_reg)\n",
    "reg_pred = pd.DataFrame({'正解':y_reg, '予測':model.predict(x_reg)})\n",
    "print('reg_pred')\n",
    "display(reg_pred)"
   ]
  },
  {
   "cell_type": "code",
   "execution_count": null,
   "metadata": {
    "solution2": "hidden",
    "solution2_first": true
   },
   "outputs": [],
   "source": []
  },
  {
   "cell_type": "code",
   "execution_count": 16,
   "metadata": {
    "solution2": "hidden"
   },
   "outputs": [
    {
     "data": {
      "text/plain": [
       "0.010575141915502967"
      ]
     },
     "execution_count": 16,
     "metadata": {},
     "output_type": "execute_result"
    }
   ],
   "source": [
    "np.mean((reg_pred['正解'] - reg_pred['予測'])**2)"
   ]
  },
  {
   "cell_type": "markdown",
   "metadata": {},
   "source": [
    "#### Pythonでの平均二乗誤差算出方法\n",
    "---\n",
    "`sklearn.metrics.mean_squared_error`を使用する。"
   ]
  },
  {
   "cell_type": "code",
   "execution_count": 17,
   "metadata": {},
   "outputs": [],
   "source": [
    "mean_squared_error??"
   ]
  },
  {
   "cell_type": "code",
   "execution_count": 18,
   "metadata": {},
   "outputs": [
    {
     "data": {
      "text/plain": [
       "0.01642733446295104"
      ]
     },
     "execution_count": 18,
     "metadata": {},
     "output_type": "execute_result"
    }
   ],
   "source": [
    "mean_squared_error(y_reg_test, y_reg_hat)"
   ]
  },
  {
   "cell_type": "markdown",
   "metadata": {},
   "source": [
    "### 平均絶対誤差 (MAE, Mean Absolute Error)\n",
    "---\n",
    "残差の絶対値の平均。\n",
    "\n",
    "$\n",
    "\\displaystyle \\begin{aligned}\n",
    "    MAE & =\\frac\n",
    "        {\\displaystyle \\sum ^{n}_{i=1} |e|}\n",
    "        {n}\\\\\n",
    "     & \\\\\n",
    "     & =\\frac\n",
    "         {\\displaystyle \\sum ^{n}_{i=1}\\left| y_{i} -\\hat{y}_{i}\\right|}\n",
    "         {n}\n",
    "\\end{aligned}\n",
    "$"
   ]
  },
  {
   "cell_type": "markdown",
   "metadata": {},
   "source": [
    "###### 練習問題\n",
    "\n",
    "`reg_pred`データセットを元に、平均絶対誤差を算出する。"
   ]
  },
  {
   "cell_type": "code",
   "execution_count": null,
   "metadata": {
    "solution2": "hidden",
    "solution2_first": true
   },
   "outputs": [],
   "source": []
  },
  {
   "cell_type": "code",
   "execution_count": 19,
   "metadata": {
    "solution2": "hidden"
   },
   "outputs": [
    {
     "data": {
      "text/plain": [
       "0.07835245094121417"
      ]
     },
     "execution_count": 19,
     "metadata": {},
     "output_type": "execute_result"
    }
   ],
   "source": [
    "np.abs(reg_pred['正解'] - reg_pred['予測']).mean()"
   ]
  },
  {
   "cell_type": "markdown",
   "metadata": {},
   "source": [
    "#### Pythonでの平均絶対誤差算出方法\n",
    "---\n",
    "`sklearn.metrics.mean_absolute_error`を使用する。"
   ]
  },
  {
   "cell_type": "code",
   "execution_count": 20,
   "metadata": {},
   "outputs": [],
   "source": [
    "mean_absolute_error??"
   ]
  },
  {
   "cell_type": "code",
   "execution_count": 21,
   "metadata": {},
   "outputs": [
    {
     "data": {
      "text/plain": [
       "0.11062328717271676"
      ]
     },
     "execution_count": 21,
     "metadata": {},
     "output_type": "execute_result"
    }
   ],
   "source": [
    "mean_absolute_error(y_reg_test, y_reg_hat)"
   ]
  },
  {
   "cell_type": "markdown",
   "metadata": {},
   "source": [
    "### 残差プロット\n",
    "---\n",
    "視覚的にモデルが捉えきれていない特徴がないか確認する手法。  \n",
    "横軸に予測値・縦軸に残差をとった散布図。\n",
    "\n",
    "下図は $y=x^{3}$ の分布からサンプリングしたデータに線形回帰を実行したときの残差プロット。"
   ]
  },
  {
   "cell_type": "code",
   "execution_count": 22,
   "metadata": {
    "hide_input": true
   },
   "outputs": [
    {
     "data": {
      "image/png": "[encoded data removed]",
      "text/plain": [
       "<Figure size 288x288 with 1 Axes>"
      ]
     },
     "metadata": {},
     "output_type": "display_data"
    }
   ],
   "source": [
    "from my_functions.metrics import residual_plot\n",
    "residual_plot.show()"
   ]
  },
  {
   "cell_type": "markdown",
   "metadata": {},
   "source": [
    "###### 練習問題\n",
    "\n",
    "`reg_train`データセットに線形回帰を適用し、残差プロットを表示する。"
   ]
  },
  {
   "cell_type": "code",
   "execution_count": null,
   "metadata": {
    "solution2": "hidden",
    "solution2_first": true
   },
   "outputs": [],
   "source": []
  },
  {
   "cell_type": "code",
   "execution_count": 23,
   "metadata": {
    "solution2": "hidden"
   },
   "outputs": [
    {
     "data": {
      "image/png": "[encoded data removed]",
      "text/plain": [
       "<Figure size 432x288 with 1 Axes>"
      ]
     },
     "metadata": {
      "needs_background": "light"
     },
     "output_type": "display_data"
    }
   ],
   "source": [
    "dataset = reg_train.values\n",
    "y_reg_hat_train = LinearRegression().fit(\n",
    "    dataset[:, :-1], dataset[:, -1]).predict(dataset[:, :-1])\n",
    "plt.scatter(y_reg_hat_train, y_reg_train - y_reg_hat_train)\n",
    "plt.show()"
   ]
  },
  {
   "cell_type": "markdown",
   "metadata": {},
   "source": [
    "#### Pythonでの残差プロット表示方法\n",
    "---\n",
    "`yellowbrick.regressor.ResidualsPlot`を使用する。 (yellowbrickはインポートするとmatplotlibの設定を書き換えるので注意)"
   ]
  },
  {
   "cell_type": "code",
   "execution_count": 24,
   "metadata": {},
   "outputs": [],
   "source": [
    "ResidualsPlot??"
   ]
  },
  {
   "cell_type": "code",
   "execution_count": 25,
   "metadata": {},
   "outputs": [
    {
     "data": {
      "text/plain": [
       "0.9999988051140659"
      ]
     },
     "execution_count": 25,
     "metadata": {},
     "output_type": "execute_result"
    },
    {
     "data": {
      "image/png": "[encoded data removed]",
      "text/plain": [
       "<Figure size 432x288 with 2 Axes>"
      ]
     },
     "metadata": {
      "needs_background": "light"
     },
     "output_type": "display_data"
    }
   ],
   "source": [
    "visualizer = ResidualsPlot(LinearRegression())\n",
    "visualizer.fit(x_reg_train, y_reg_train)\n",
    "visualizer.score(x_reg_test, y_reg_test)"
   ]
  }
 ],
 "metadata": {
  "kernelspec": {
   "display_name": "Python 3",
   "language": "python",
   "name": "python3"
  },
  "language_info": {
   "codemirror_mode": {
    "name": "ipython",
    "version": 3
   },
   "file_extension": ".py",
   "mimetype": "text/x-python",
   "name": "python",
   "nbconvert_exporter": "python",
   "pygments_lexer": "ipython3",
   "version": "3.7.4"
  },
  "toc": {
   "base_numbering": 1,
   "nav_menu": {},
   "number_sections": true,
   "sideBar": true,
   "skip_h1_title": true,
   "title_cell": "Table of Contents",
   "title_sidebar": "Contents",
   "toc_cell": false,
   "toc_position": {},
   "toc_section_display": true,
   "toc_window_display": true
  },
  "varInspector": {
   "cols": {
    "lenName": 16,
    "lenType": 16,
    "lenVar": 40
   },
   "kernels_config": {
    "python": {
     "delete_cmd_postfix": "",
     "delete_cmd_prefix": "del ",
     "library": "var_list.py",
     "varRefreshCmd": "print(var_dic_list())"
    },
    "r": {
     "delete_cmd_postfix": ") ",
     "delete_cmd_prefix": "rm(",
     "library": "var_list.r",
     "varRefreshCmd": "cat(var_dic_list()) "
    }
   },
   "types_to_exclude": [
    "module",
    "function",
    "builtin_function_or_method",
    "instance",
    "_Feature"
   ],
   "window_display": false
  }
 },
 "nbformat": 4,
 "nbformat_minor": 2
}
