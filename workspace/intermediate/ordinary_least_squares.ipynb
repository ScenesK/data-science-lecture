{
 "cells": [
  {
   "cell_type": "code",
   "execution_count": 1,
   "metadata": {},
   "outputs": [],
   "source": [
    "import numpy as np\n",
    "import pandas as pd\n",
    "from sklearn.datasets import load_boston\n",
    "from sklearn.linear_model import LinearRegression\n",
    "from IPython.display import display, Image\n",
    "pd.set_option('max_rows', 5)\n",
    "%matplotlib inline"
   ]
  },
  {
   "cell_type": "markdown",
   "metadata": {},
   "source": [
    "# 最小二乗法\n",
    "---\n",
    "残差の二乗和 $\\displaystyle \\sum ^{n}_{i=1} e^{2}_{i} =\\sum ^{n}_{i=1}\\left( y_{i} -\\hat{y}_{i}\\right)^{2}$ が最小になるように係数を決める方法。  \n",
    "いくつかの重要な性質を持つ。"
   ]
  },
  {
   "cell_type": "markdown",
   "metadata": {},
   "source": [
    "## 単回帰方程式の解とデータの重心\n",
    "---\n",
    "単回帰方程式 $\\boldsymbol{y} =a+b\\boldsymbol{x}$ の回帰係数 $a,b$ の解は、 $x$ の分散 $V( x)$ と $x,y$ の共分散 $Cov( x,y)$ を用いて $\\displaystyle a=\\overline{\\boldsymbol{y}} +b\\overline{\\boldsymbol{x}} ,b=\\frac{Cov( x,y)}{V( x)}$ と表される。\n",
    "\n",
    "$a=\\overline{y} -b\\overline{x}$ を $\\hat{y} =a+bx$ に代入して整理すると、$\\hat{y} -\\overline{y} =b\\left( x-\\overline{x}\\right)$ となる。つまり、最小二乗法で決定された回帰直線 $\\hat{y} =a+bx$ は**データセットの中心 (平均) である $\\left(\\overline{x} ,\\overline{y}\\right)$ を通る**傾き $b$ の直線。"
   ]
  },
  {
   "cell_type": "markdown",
   "metadata": {
    "solution2": "hidden",
    "solution2_first": true
   },
   "source": [
    "証明\n",
    "\n",
    "---"
   ]
  },
  {
   "cell_type": "markdown",
   "metadata": {
    "jupyter": {
     "source_hidden": true
    },
    "solution2": "hidden"
   },
   "source": [
    "残差二乗和 ${\\displaystyle S=\\sum_{i=1}^{n}e_{i}^2}$ を最小化するための回帰係数 $a, b$ を求めるには $S$ を $a, b$ で偏微分した\n",
    "\n",
    "$\n",
    "\\begin{cases}\n",
    "    \\displaystyle \\frac\n",
    "        {\\partial S}\n",
    "        {\\partial a}\n",
    "    & \\displaystyle =\\sum ^{n}_{i=1}\\{2a-2( y_{i} -bx_{i})\\} & \\displaystyle =-2\\sum ^{n}_{i=1}( y_{i} -a-bx_{i}) & =0 & \\cdots ( 1)\\\\\n",
    "    \\displaystyle \\frac\n",
    "        {\\partial S}\n",
    "        {\\partial b}\n",
    "    & \\displaystyle =\\sum ^{n}_{i=1}\\left\\{2x^{2}_{i} b-2( y_{i} -a) x_{i}\\right\\} & \\displaystyle =-2\\sum ^{n}_{i=1}( y_{i} -a-bx_{i}) x_{i} & =0 & \\cdots ( 2)\n",
    "\\end{cases}\n",
    "$\n",
    "\n",
    "を解けば良い。\n",
    "\n",
    "$(1)$ より\n",
    "\n",
    "$\n",
    "\\displaystyle \\begin{aligned}\n",
    "    -2\\sum ^{n}_{i=1}( y_{i} -a-bx_{i}) & =0\\\\\n",
    "    \\sum ^{n}_{i=1} y_{i} -\\sum ^{n}_{i=1} a-b\\sum ^{n}_{i=1} x_{i} & =0\\\\\n",
    "    n\\overline{y} -na-nb\\overline{x} & =0\\\\\n",
    "    a & =\\overline{y} -b\\overline{x}\n",
    "\\end{aligned}\n",
    "$\n",
    "\n",
    "これを $(2)$ に代入して\n",
    "\n",
    "$\n",
    "\\displaystyle \\begin{aligned}\n",
    "    -2\\sum ^{n}_{i=1}\\left\\{y_{i} -\\left(\\overline{y} -b\\overline{x}\\right) -bx_{i}\\right\\} x_{i} & =0\\\\\n",
    "     & \\\\\n",
    "    \\sum ^{n}_{i=1}\\left\\{\\left( y_{i} -\\overline{y}\\right) -b\\left( x_{i} -\\overline{x}\\right)\\right\\} x_{i} & =0\\\\\n",
    "     & \\\\\n",
    "    b\\sum ^{n}_{i=1}\\left( x_{i} -\\overline{x}\\right) x_{i} & =\\sum ^{n}_{i=1}\\left( y_{i} -\\overline{y}\\right) x_{i}\\\\\n",
    "     & \\\\\n",
    "    b & =\\frac\n",
    "        {\\displaystyle \\sum ^{n}_{i=1}\\left( y_{i} -\\overline{y}\\right) x_{i}}\n",
    "        {\\displaystyle \\sum ^{n}_{i=1}\\left( x_{i} -\\overline{x}\\right) x_{i}}\n",
    "\\end{aligned}\n",
    "$\n",
    "\n",
    "ここで、 $\n",
    "\\displaystyle \\overline{x} =\\frac\n",
    "    {\\displaystyle \\sum ^{n}_{i=1} x_{i}}\n",
    "    {n}\n",
    ",\\overline{y} =\\frac\n",
    "    {\\displaystyle \\sum ^{n}_{i=1} y_{i}}\n",
    "    {n}\n",
    "$ より\n",
    "\n",
    "$\n",
    "\\displaystyle \\begin{aligned}\n",
    "    b & =\\frac\n",
    "        {\\displaystyle \\sum ^{n}_{i=1}\\left( y_{i} -\\overline{y}\\right) x_{i} -\\overline{x}\\left(\\sum ^{n}_{i=1} y_{i} -n\\overline{y}\\right)}\n",
    "        {\\displaystyle \\sum ^{n}_{i=1}\\left( x_{i} -\\overline{x}\\right) x_{i} -\\overline{x}\\left(\\sum ^{n}_{i=1} x_{i} -n\\overline{x}\\right)}\n",
    "    \\\\\n",
    "     & \\\\\n",
    "     & =\\frac\n",
    "         {\\displaystyle \\sum ^{n}_{i=1}\\left( y_{i} -\\overline{y}\\right) x_{i} -\\overline{x}\\sum ^{n}_{i=1}\\left( y_{i} -\\overline{y}\\right)}\n",
    "         {\\displaystyle \\sum ^{n}_{i=1}\\left( x_{i} -\\overline{x}\\right) x_{i} -\\overline{x}\\sum ^{n}_{i=1}\\left( x_{i} -\\overline{x}\\right)}\n",
    "     \\\\\n",
    "     & \\\\\n",
    "     & =\\frac\n",
    "         {\\displaystyle \\sum ^{n}_{i=1}\\left( x_{i} -\\overline{x}\\right)\\left( y_{i} -\\overline{y}\\right)}\n",
    "         {\\displaystyle \\sum ^{n}_{i=1}\\left( x_{i} -\\overline{x}\\right)^{2}}\n",
    "     \\\\\n",
    "     & \\\\\n",
    "     & =\\frac\n",
    "         {Cov( x,y)}\n",
    "         {V( x)}\n",
    "\\end{aligned}\n",
    "$"
   ]
  },
  {
   "cell_type": "markdown",
   "metadata": {},
   "source": [
    "---"
   ]
  },
  {
   "cell_type": "markdown",
   "metadata": {},
   "source": [
    "また $x,y$ を標準化した場合、回帰方程式は $y=r_{xy}x$ となり回帰係数と相関係数が一致する。"
   ]
  },
  {
   "cell_type": "markdown",
   "metadata": {
    "solution2": "hidden",
    "solution2_first": true
   },
   "source": [
    "証明\n",
    "\n",
    "---"
   ]
  },
  {
   "cell_type": "markdown",
   "metadata": {
    "jupyter": {
     "source_hidden": true
    },
    "solution2": "hidden"
   },
   "source": [
    "$\n",
    "\\displaystyle r=\\frac\n",
    "    {Cov( x,y)}\n",
    "    {\\sqrt{\n",
    "        V( x) V( y)\n",
    "    }}\n",
    "$ より\n",
    "\n",
    "$\n",
    "\\displaystyle \\begin{aligned}\n",
    "    b & =\\frac\n",
    "        {Cov( x,y)}\n",
    "        {V( x)}\n",
    "    \\\\\n",
    "     & \\\\\n",
    "     & =\\frac\n",
    "         {r\\sqrt{\n",
    "             V( x) V( y)\n",
    "         }}\n",
    "         {V( x)}\n",
    "     \\\\\n",
    "     & \\\\\n",
    "     & =r\\frac\n",
    "         {S( y)}\n",
    "         {S( x)}\n",
    "\\end{aligned}\n",
    "$\n",
    "\n",
    "さらに\n",
    "\n",
    "$\n",
    "\\displaystyle \\begin{aligned}\n",
    "    \\hat{y} -\\overline{y} & =b\\left( x-\\overline{x}\\right)\\\\\n",
    "     & \\\\\n",
    "    \\hat{y} -\\overline{y} & =r\\frac\n",
    "        {S( y)}\n",
    "        {S( x)}\n",
    "    \\left( x-\\overline{x}\\right)\\\\\n",
    "     & \\\\\n",
    "    \\frac\n",
    "        {\\hat{y} -\\overline{y}}\n",
    "        {S( y)}\n",
    "    & =r\\frac\n",
    "        {x-\\overline{x}}\n",
    "        {S( x)}\n",
    "\\end{aligned}\n",
    "$\n",
    "\n",
    "$x,y$ は標準化されているので、 $\\overline{x} =\\overline{y} =0,S( x) =S( y) =1$ より、 $\\hat{y} =rx$ となり回帰係数と相関係数が一致する。"
   ]
  },
  {
   "cell_type": "markdown",
   "metadata": {},
   "source": [
    "---"
   ]
  },
  {
   "cell_type": "markdown",
   "metadata": {},
   "source": [
    "## 重回帰方程式の解\n",
    "---\n",
    "複数の変数 (特徴) を持つデータ $x_{1} ,x_{2} ,\\cdots ,x_{k}$ に対して、 $y=a+b_{1} x_{1} +b_{2} x_{2} +\\cdots +b_{k} x_{k}$ で予測値を導くものを重回帰分析という。\n",
    "\n",
    "$\n",
    "\\displaystyle X=\\begin{pmatrix}\n",
    "    1, & x_{11} , & x_{12} , & \\cdots , & x_{1k}\\\\\n",
    "    1, & x_{21} , & x_{22} , & \\cdots , & x_{2k}\\\\\n",
    "    \\vdots  & \\vdots  & \\vdots  & \\ddots  & \\vdots \\\\\n",
    "    1, & x_{n1} , & x_{n2} , & \\cdots , & x_{nk}\n",
    "    \\end{pmatrix} ,y=\\begin{pmatrix}\n",
    "    y_{1}\\\\\n",
    "    y_{2}\\\\\n",
    "    \\vdots \\\\\n",
    "    y_{n}\n",
    "    \\end{pmatrix} ,b=\\begin{pmatrix}\n",
    "    a\\\\\n",
    "    b_{1}\\\\\n",
    "    b_{2}\\\\\n",
    "    \\vdots \\\\\n",
    "    b_{k}\n",
    "\\end{pmatrix}\n",
    "$ とすると、重回帰方程式 $\\displaystyle y=Xb$ の解は $b=\\left( X^{T} X\\right)^{-1} X^{T} y$ と表される。"
   ]
  },
  {
   "cell_type": "markdown",
   "metadata": {
    "solution2": "hidden",
    "solution2_first": true
   },
   "source": [
    "証明\n",
    "\n",
    "---"
   ]
  },
  {
   "cell_type": "markdown",
   "metadata": {
    "jupyter": {
     "source_hidden": true
    },
    "solution2": "hidden"
   },
   "source": [
    "残差平方和 ${\\displaystyle S=\\sum_{i=1}^{n}e^2_i}$ を回帰係数で偏微分して0となるように置いた以下の連立方程式の解として求められる。\n",
    "\n",
    "$\n",
    "\\left\\{\\begin{aligned}\n",
    "    \\frac\n",
    "        {\\partial S}\n",
    "        {\\partial a}\n",
    "    & =\\sum ^{n}_{i=1}\\{2a-2( y-b_{1} x_{i1} -b_{2} x_{i2} -\\dots -b_{k} x_{ik})\\} & = & -2\\sum ^{n}_{i=1}( y_{i} -a-b_{1} x_{i1} -b_{2} x_{i2} -\\dots -b_{k} x_{ik}) & = & 0\\\\\n",
    "    \\frac\n",
    "        {\\partial S}\n",
    "        {\\partial b_{1}}\n",
    "    & =\\sum ^{n}_{i=1}\\left\\{2b_{1} x^{2}_{i1} -2x_{i1}( y-a-b_{2} x_{i2} -\\dots -b_{k} x_{ik})\\right\\} & = & -2\\sum ^{n}_{i=1}( y_{i} -a-b_{1} x_{i1} -b_{2} x_{i2} -\\dots -b_{k} x_{ik}) x_{i1} & = & 0\\\\\n",
    "    \\frac\n",
    "        {\\partial S}\n",
    "        {\\partial b_{2}}\n",
    "    & =\\sum ^{n}_{i=1}\\left\\{2b_{2} x^{2}_{i2} -2x_{i2}( y-a-b_{1} x_{i1} -\\dots -b_{k} x_{ik})\\right\\} & = & -2\\sum ^{n}_{i=1}( y_{i} -a-b_{1} x_{i1} -b_{2} x_{i2} -\\dots -b_{k} x_{ik}) x_{i2} & = & 0\\\\\n",
    "    \\vdots  &  &  &  &  & \\\\\n",
    "    \\frac\n",
    "        {\\partial S}\n",
    "        {\\partial b_{k}}\n",
    "    & =\\sum ^{n}_{i=1}\\left\\{2b_{k} x^{2}_{ik} -2x_{ik}( y-a-b_{1} x_{i1} -\\dots -b_{k-1} x_{ik-1})\\right\\} & = & -2\\sum ^{n}_{i=1}( y_{i} -a-b_{1} x_{i1} -b_{2} x_{i2} -\\dots -b_{k} x_{ik}) x_{ik} & = & 0\n",
    "\\end{aligned}\\right. \n",
    "$\n",
    "\n",
    "これを整理すると以下の式が得られる。\n",
    "\n",
    "$\n",
    "\\left\\{\\begin{aligned}\n",
    "     & \\sum ^{n}_{i=1} y_{i} & = & \\sum ^{n}_{i=1}( a+b_{1} x_{i1} +b_{2} x_{i2} +\\dots b_{k} x_{ik})\\\\\n",
    "     & \\sum ^{n}_{i=1} x_{i1} y_{i} & = & \\sum ^{n}_{i=1}( a+b_{1} x_{i1} +b_{2} x_{i2} +\\dots b_{k} x_{ik}) x_{i1}\\\\\n",
    "     & \\sum ^{n}_{i=1} x_{i2} y_{i} & = & \\sum ^{n}_{i=1}( a+b_{1} x_{i1} +b_{2} x_{i2} +\\dots b_{k} x_{ik}) x_{i2}\\\\\n",
    "     & \\vdots  &  & \\vdots \\\\\n",
    "     & \\sum ^{n}_{i=1} x_{ik} y_{i} & = & \\sum ^{n}_{i=1}( a+b_{1} x_{i1} +b_{2} x_{i2} +\\dots b_{k} x_{ik}) x_{ik}\n",
    "\\end{aligned}\\right.\n",
    "$\n",
    "\n",
    "これをベクトル化すると $X^{T} y=X^{T} Xb$ (正規方程式) となる。\n",
    "\n",
    "したがって、 $b=\\left( X^{T} X\\right)^{-1} X^{T} y$"
   ]
  },
  {
   "cell_type": "markdown",
   "metadata": {},
   "source": [
    "---"
   ]
  },
  {
   "cell_type": "markdown",
   "metadata": {},
   "source": [
    "重回帰の場合も単回帰と同様、回帰方程式が表す予測超平面はデータセットの中心を通る。"
   ]
  },
  {
   "cell_type": "markdown",
   "metadata": {},
   "source": [
    "## 偏差平方和分解\n",
    "---\n",
    "目的変数の偏差平方和 (総変動) $\\displaystyle \\sum ^{n}_{i=1}\\left( y_{i} -\\overline{y}\\right)^{2}$ は $\\displaystyle \\sum ^{n}_{i=1}\\left( y_{i} -\\overline{y}\\right)^{2} =\\sum ^{n}_{i=1}\\left(\\hat{y}_{i} -\\overline{y}\\right)^{2} +\\sum ^{n}_{i=1} e^{2}_{i}$ と、予測値の偏差平方和と残差の偏差平方和に分解できる。"
   ]
  },
  {
   "cell_type": "markdown",
   "metadata": {
    "solution2": "hidden",
    "solution2_first": true
   },
   "source": [
    "証明\n",
    "\n",
    "---"
   ]
  },
  {
   "cell_type": "markdown",
   "metadata": {
    "jupyter": {
     "source_hidden": true
    },
    "solution2": "hidden"
   },
   "source": [
    "$\n",
    "\\displaystyle \\begin{array}{ c l }\n",
    "    \\displaystyle \\sum ^{n}_{i=1}( y_{i} -\\overline{y})^{2} & =\\displaystyle \\sum ^{n}_{i=1}\\{( y_{i} -\\hat{y}_{i}) -(\\overline{y} -\\hat{y}_{i})\\}^{2}\\\\\n",
    "     & \\\\\n",
    "     & =\\displaystyle \\sum ^{n}_{i=1}\\{\\hat{e}_{i} -(\\overline{y} -\\hat{y}_{i})\\}^{2}\\\\\n",
    "     & \\\\\n",
    "     & =\\displaystyle \\sum ^{n}_{i=1}\\hat{e}^{2}_{i} -2\\sum ^{n}_{i=1}(\\overline{y} -\\hat{y}_{i})\\hat{e}_{i} +\\sum ^{n}_{i=1}(\\overline{y} -\\hat{y}_{i})^{2}\\\\\n",
    "     & \\\\\n",
    "     & =\\displaystyle \\sum ^{n}_{i=1}\\hat{e}^{2}_{i} -2\\sum ^{n}_{i=1}(\\overline{y} -a-b_{1} x_{i1} -b_{2} x_{i2} -\\cdots -b_{k} x_{ik})\\hat{e}_{i} +\\sum ^{n}_{i=1}(\\overline{y} -\\hat{y}_{i})^{2}\\\\\n",
    "     & \\\\\n",
    "     & =\\displaystyle \\sum ^{n}_{i=1}\\hat{e}^{2}_{i} -2\\sum ^{n}_{i=1}\\left(\\overline{y} -a-\\sum ^{k}_{j=1} b_{j} x_{ij}\\right)\\hat{e}_{i} +\\sum ^{n}_{i=1}(\\overline{y} -\\hat{y}_{i})^{2}\\\\\n",
    "     & \\\\\n",
    "     & =\\displaystyle \\sum ^{n}_{i=1}\\hat{e}^{2}_{i} -2(\\overline{y} -a)\\sum ^{n}_{i=1}\\hat{e}_{i} +2\\sum ^{n}_{i=1}\\sum ^{k}_{j=1} b_{j} x_{ij}\\hat{e}_{i} +\\sum ^{n}_{i=1}(\\overline{y} -\\hat{y}_{i})^{2}\n",
    "\\end{array}\n",
    "$\n",
    "\n",
    "ここで、 $a ,b_{j}$ は\n",
    "\n",
    "$\n",
    "\\begin{cases}\n",
    "    \\displaystyle \\frac\n",
    "        {\\partial S}\n",
    "        {\\partial a}\n",
    "    & =\\displaystyle \\sum ^{n}_{i=1}\\{2a-2( y_{i} -b_{1} x_{i1} -b_{2} x_{i2} -\\cdots -b_{k} x_{ik})\\} & =\\displaystyle -2\\sum ^{n}_{i=1}\\left( y_{i} -a-\\sum ^{k}_{j=1} b_{j} x_{ij}\\right) & =0\\\\\n",
    "    \\displaystyle \\frac\n",
    "        {\\partial S}\n",
    "        {\\partial b_{j}}\n",
    "    & =\\displaystyle \\sum ^{n}_{i=1}\\left\\{2b_{j} x^{2}_{ij} -2x_{ij}( y_{i} -a-b_{1} x_{i1} -b_{2} x_{i2} \\cdots -b_{k} x_{ik} +b_{j} x_{ij})\\right\\} & =\\displaystyle -2\\sum ^{n}_{i=1}\\left( y_{i} -a-\\sum ^{k}_{j=1} b_{j} x_{ij}\\right) x_{ij} & =0\n",
    "\\end{cases}\n",
    "$\n",
    "\n",
    "の解なので、\n",
    "\n",
    "$\n",
    "\\begin{cases}\n",
    "    \\displaystyle \\sum ^{n}_{i=1}\\hat{e}_{i} & =\\displaystyle \\sum ^{n}_{i=1}\\left( y_{i} -a-\\sum ^{k}_{j=1} b_{j} x_{ij}\\right) & =0\\\\\n",
    "    \\displaystyle \\sum ^{n}_{i=1}\\sum ^{k}_{j=1} b_{j} x_{ij}\\hat{e}_{i} & =\\displaystyle \\sum ^{k}_{j=1} b_{j}\\left\\{\\sum ^{n}_{i=1} x_{ij}\\left( y_{i} -a-\\sum ^{k}_{j=1} b_{j} x_{ij}\\right)\\right\\} & =0\n",
    "\\end{cases}\n",
    "$\n",
    "\n",
    "したがって、 ${\\displaystyle \\sum ^{n}_{i=1}\\left( y_{i} -\\overline{y}\\right)^{2} =\\sum ^{n}_{i=1}\\hat{e}^{2}_{i} +\\sum ^{n}_{i=1}\\left(\\hat{y}_{i} -\\overline{y}\\right)^{2}}$\n",
    "\n",
    "また、 $\n",
    "\\displaystyle V( x) =\\frac\n",
    "    {1}\n",
    "    {n}\n",
    "\\sum ^{n}_{i=1}\\left( x_{i} -\\overline{x}\\right)^{2}\n",
    "$ より $\\displaystyle V( y) =V\\left(\\hat{y}\\right) +V( e)$"
   ]
  },
  {
   "cell_type": "markdown",
   "metadata": {},
   "source": [
    "---"
   ]
  },
  {
   "cell_type": "markdown",
   "metadata": {},
   "source": [
    "### 最小二乗法の幾何的意味と平方和分解\n",
    "---\n",
    "説明変数・目的変数・予測値のベクトルをそれぞれ \n",
    "$\\boldsymbol{x} =\\left( x_{1} -\\overline{x} ,x_{2} -\\overline{x} ,\\dotsc ,x_{n} -\\overline{x}\\right) ,\\boldsymbol{y} =\\left( y_{1} -\\overline{y} ,y_{2} -\\overline{y} ,\\dotsc ,y_{n} -\\overline{y}\\right) ,\\boldsymbol{\\hat{y}} =\\left(\\hat{y}_{1} -\\overline{y} ,\\hat{y}_{2} -\\overline{y} ,\\dotsc ,\\hat{y}_{n} -\\overline{y}\\right)$ \n",
    "とすると、ベクトル $\\boldsymbol{e}$ とベクトル $\\boldsymbol{\\hat{y}}$ は直交する。"
   ]
  },
  {
   "cell_type": "code",
   "execution_count": 2,
   "metadata": {
    "hide_input": true,
    "jupyter": {
     "source_hidden": true
    }
   },
   "outputs": [
    {
     "data": {
      "image/png": "[encoded data removed]",
      "text/plain": [
       "<Figure size 288x288 with 1 Axes>"
      ]
     },
     "metadata": {},
     "output_type": "display_data"
    }
   ],
   "source": [
    "from my_functions.ordinary_least_squares import orthogonal\n",
    "orthogonal.show()"
   ]
  },
  {
   "cell_type": "markdown",
   "metadata": {
    "solution2": "hidden",
    "solution2_first": true
   },
   "source": [
    "証明\n",
    "\n",
    "---"
   ]
  },
  {
   "cell_type": "markdown",
   "metadata": {
    "jupyter": {
     "source_hidden": true
    },
    "solution2": "hidden"
   },
   "source": [
    "最小二乗法で決定された回帰直線はデータセットの中心を通るので、 $\\displaystyle \\boldsymbol{\\hat{y}} =b\\boldsymbol{x}$  。  \n",
    "したがって、 $\\boldsymbol{x}$ と $\\boldsymbol{\\hat{y}}$ は同じ向きのベクトル。  \n",
    "また、残差のベクトル $\\displaystyle \\boldsymbol{e} =y-\\boldsymbol{\\hat{y}}$ の長さは\n",
    "\n",
    "$\n",
    "\\displaystyle \\begin{aligned}\n",
    "    \\| \\boldsymbol{e} \\|  & =\\sqrt{\n",
    "        \\sum ^{n}_{i=1} e^{2}_{i}\n",
    "    }\\\\\n",
    "     & =\\sqrt{\n",
    "         \\sum ^{n}_{i=1}\\left( y_{i} -\\hat{y}_{i}\\right)^{2}\n",
    "     }\n",
    "\\end{aligned}\n",
    "$\n",
    "\n",
    "なので、最小二乗法はベクトル $\\boldsymbol{x}$ の線上で残差ベクトル $\\boldsymbol{e}$ の長さが最小になるように係数を決定していると見ることができる。  \n",
    "この条件で残差ベクトル $\\boldsymbol{e}$ の長さが最小になるのは $\\boldsymbol{e}$ と $\\boldsymbol{\\hat{y}}$ が直交するとき。"
   ]
  },
  {
   "cell_type": "markdown",
   "metadata": {},
   "source": [
    "---"
   ]
  },
  {
   "cell_type": "markdown",
   "metadata": {},
   "source": [
    "上の図より、三平方の定理を用いて平方和分解が導ける。\n",
    "\n",
    "$\n",
    "\\displaystyle \\begin{aligned}\n",
    "    \\| \\boldsymbol{y} \\| ^{2} & =\\| \\hat{\\boldsymbol{y}} \\| ^{2} & + & \\| \\boldsymbol{e} \\| ^{2}\\\\\n",
    "    \\sum ^{n}_{i=1}\\left( y_{i} -\\overline{y}\\right)^{2} & =\\sum ^{n}_{i=1}\\left(\\hat{y}_{i} -\\overline{y}\\right)^{2} & + & \\sum ^{n}_{i=1} e^{2}_{i}\\\\\n",
    "    V( y) & =V\\left(\\hat{y}\\right) & + & V( e)\n",
    "\\end{aligned}\n",
    "$\n",
    "\n",
    "また、 2 つのベクトル $\\hat{y}$ と $e$ が直交する (無相関である) ことを前提とすれば、[分散の性質](mean_and_variance.ipynb#%E5%B9%B3%E5%9D%87-(%E6%9C%9F%E5%BE%85%E5%80%A4)-%E3%81%A8%E5%88%86%E6%95%A3%E3%81%AE%E6%80%A7%E8%B3%AA)からも\n",
    "\n",
    "$\n",
    "\\displaystyle \\begin{aligned}\n",
    "    V( y) & =V\\left(\\hat{y} +e\\right)\\\\\n",
    "     & =V\\left(\\hat{y}\\right) +2Cov\\left(\\hat{y} ,e\\right) +V( e)\\\\\n",
    "     & =V\\left(\\hat{y}\\right) +V( e)\n",
    "\\end{aligned}\n",
    "$\n",
    "\n",
    "と分散 (平方和) の分解が導ける。"
   ]
  },
  {
   "cell_type": "markdown",
   "metadata": {},
   "source": [
    "練習問題\n",
    "\n",
    "---\n",
    "`boston`データセットのうち`LSTAT`列を用いて単回帰分析を実施し、説明変数と残差の相関係数を確認する。"
   ]
  },
  {
   "cell_type": "code",
   "execution_count": 3,
   "metadata": {
    "hide_input": true,
    "jupyter": {
     "source_hidden": true
    }
   },
   "outputs": [
    {
     "name": "stdout",
     "output_type": "stream",
     "text": [
      "boston\n"
     ]
    },
    {
     "data": {
      "text/html": [
       "<div>\n",
       "<style scoped>\n",
       "    .dataframe tbody tr th:only-of-type {\n",
       "        vertical-align: middle;\n",
       "    }\n",
       "\n",
       "    .dataframe tbody tr th {\n",
       "        vertical-align: top;\n",
       "    }\n",
       "\n",
       "    .dataframe thead th {\n",
       "        text-align: right;\n",
       "    }\n",
       "</style>\n",
       "<table border=\"1\" class=\"dataframe\">\n",
       "  <thead>\n",
       "    <tr style=\"text-align: right;\">\n",
       "      <th></th>\n",
       "      <th>CRIM</th>\n",
       "      <th>ZN</th>\n",
       "      <th>INDUS</th>\n",
       "      <th>CHAS</th>\n",
       "      <th>NOX</th>\n",
       "      <th>RM</th>\n",
       "      <th>AGE</th>\n",
       "      <th>DIS</th>\n",
       "      <th>RAD</th>\n",
       "      <th>TAX</th>\n",
       "      <th>PTRATIO</th>\n",
       "      <th>B</th>\n",
       "      <th>LSTAT</th>\n",
       "      <th>target</th>\n",
       "    </tr>\n",
       "  </thead>\n",
       "  <tbody>\n",
       "    <tr>\n",
       "      <th>0</th>\n",
       "      <td>0.00632</td>\n",
       "      <td>18.0</td>\n",
       "      <td>2.31</td>\n",
       "      <td>0.0</td>\n",
       "      <td>0.538</td>\n",
       "      <td>6.575</td>\n",
       "      <td>65.2</td>\n",
       "      <td>4.0900</td>\n",
       "      <td>1.0</td>\n",
       "      <td>296.0</td>\n",
       "      <td>15.3</td>\n",
       "      <td>396.90</td>\n",
       "      <td>4.98</td>\n",
       "      <td>24.0</td>\n",
       "    </tr>\n",
       "    <tr>\n",
       "      <th>1</th>\n",
       "      <td>0.02731</td>\n",
       "      <td>0.0</td>\n",
       "      <td>7.07</td>\n",
       "      <td>0.0</td>\n",
       "      <td>0.469</td>\n",
       "      <td>6.421</td>\n",
       "      <td>78.9</td>\n",
       "      <td>4.9671</td>\n",
       "      <td>2.0</td>\n",
       "      <td>242.0</td>\n",
       "      <td>17.8</td>\n",
       "      <td>396.90</td>\n",
       "      <td>9.14</td>\n",
       "      <td>21.6</td>\n",
       "    </tr>\n",
       "    <tr>\n",
       "      <th>...</th>\n",
       "      <td>...</td>\n",
       "      <td>...</td>\n",
       "      <td>...</td>\n",
       "      <td>...</td>\n",
       "      <td>...</td>\n",
       "      <td>...</td>\n",
       "      <td>...</td>\n",
       "      <td>...</td>\n",
       "      <td>...</td>\n",
       "      <td>...</td>\n",
       "      <td>...</td>\n",
       "      <td>...</td>\n",
       "      <td>...</td>\n",
       "      <td>...</td>\n",
       "    </tr>\n",
       "    <tr>\n",
       "      <th>504</th>\n",
       "      <td>0.10959</td>\n",
       "      <td>0.0</td>\n",
       "      <td>11.93</td>\n",
       "      <td>0.0</td>\n",
       "      <td>0.573</td>\n",
       "      <td>6.794</td>\n",
       "      <td>89.3</td>\n",
       "      <td>2.3889</td>\n",
       "      <td>1.0</td>\n",
       "      <td>273.0</td>\n",
       "      <td>21.0</td>\n",
       "      <td>393.45</td>\n",
       "      <td>6.48</td>\n",
       "      <td>22.0</td>\n",
       "    </tr>\n",
       "    <tr>\n",
       "      <th>505</th>\n",
       "      <td>0.04741</td>\n",
       "      <td>0.0</td>\n",
       "      <td>11.93</td>\n",
       "      <td>0.0</td>\n",
       "      <td>0.573</td>\n",
       "      <td>6.030</td>\n",
       "      <td>80.8</td>\n",
       "      <td>2.5050</td>\n",
       "      <td>1.0</td>\n",
       "      <td>273.0</td>\n",
       "      <td>21.0</td>\n",
       "      <td>396.90</td>\n",
       "      <td>7.88</td>\n",
       "      <td>11.9</td>\n",
       "    </tr>\n",
       "  </tbody>\n",
       "</table>\n",
       "<p>506 rows × 14 columns</p>\n",
       "</div>"
      ],
      "text/plain": [
       "        CRIM    ZN  INDUS  CHAS    NOX     RM   AGE     DIS  RAD    TAX  \\\n",
       "0    0.00632  18.0   2.31   0.0  0.538  6.575  65.2  4.0900  1.0  296.0   \n",
       "1    0.02731   0.0   7.07   0.0  0.469  6.421  78.9  4.9671  2.0  242.0   \n",
       "..       ...   ...    ...   ...    ...    ...   ...     ...  ...    ...   \n",
       "504  0.10959   0.0  11.93   0.0  0.573  6.794  89.3  2.3889  1.0  273.0   \n",
       "505  0.04741   0.0  11.93   0.0  0.573  6.030  80.8  2.5050  1.0  273.0   \n",
       "\n",
       "     PTRATIO       B  LSTAT  target  \n",
       "0       15.3  396.90   4.98    24.0  \n",
       "1       17.8  396.90   9.14    21.6  \n",
       "..       ...     ...    ...     ...  \n",
       "504     21.0  393.45   6.48    22.0  \n",
       "505     21.0  396.90   7.88    11.9  \n",
       "\n",
       "[506 rows x 14 columns]"
      ]
     },
     "metadata": {},
     "output_type": "display_data"
    }
   ],
   "source": [
    "loader = load_boston()\n",
    "boston = pd.DataFrame(np.column_stack([loader.data, loader.target]),\n",
    "                      columns=list(loader.feature_names) + ['target'])\n",
    "print('boston')\n",
    "display(boston)"
   ]
  },
  {
   "cell_type": "code",
   "execution_count": null,
   "metadata": {},
   "outputs": [],
   "source": []
  },
  {
   "cell_type": "markdown",
   "metadata": {
    "solution2": "hidden",
    "solution2_first": true
   },
   "source": [
    "解答例\n",
    "\n",
    "---"
   ]
  },
  {
   "cell_type": "code",
   "execution_count": 4,
   "metadata": {
    "collapsed": true,
    "jupyter": {
     "outputs_hidden": true,
     "source_hidden": true
    },
    "solution2": "hidden"
   },
   "outputs": [
    {
     "name": "stdout",
     "output_type": "stream",
     "text": [
      "相関係数 : -0.000\n"
     ]
    }
   ],
   "source": [
    "x = boston['LSTAT'].values.reshape(-1, 1)\n",
    "y = boston['target']\n",
    "model = LinearRegression().fit(x, y)\n",
    "y_hat = model.predict(x)\n",
    "e = y - y_hat\n",
    "cor = np.corrcoef(x.ravel(), e)[0, 1]\n",
    "print(f'相関係数 : {cor:.3f}')"
   ]
  },
  {
   "cell_type": "markdown",
   "metadata": {},
   "source": [
    "---"
   ]
  },
  {
   "cell_type": "markdown",
   "metadata": {},
   "source": [
    "練習問題\n",
    "\n",
    "---\n",
    "`boston`データセットに対して重回帰分析を実施し、予測値と残差の相関係数を確認する。"
   ]
  },
  {
   "cell_type": "code",
   "execution_count": null,
   "metadata": {},
   "outputs": [],
   "source": []
  },
  {
   "cell_type": "markdown",
   "metadata": {
    "solution2": "hidden",
    "solution2_first": true
   },
   "source": [
    "解答例\n",
    "\n",
    "---"
   ]
  },
  {
   "cell_type": "code",
   "execution_count": 5,
   "metadata": {
    "collapsed": true,
    "jupyter": {
     "outputs_hidden": true,
     "source_hidden": true
    },
    "solution2": "hidden"
   },
   "outputs": [
    {
     "name": "stdout",
     "output_type": "stream",
     "text": [
      "相関係数 : -0.000\n"
     ]
    }
   ],
   "source": [
    "x = boston.iloc[:, :-1]\n",
    "y = boston.iloc[:, -1]\n",
    "model = LinearRegression().fit(x, y)\n",
    "y_hat = model.predict(x)\n",
    "e = y - y_hat\n",
    "cor = np.corrcoef(y_hat, e)[0, 1]\n",
    "print(f'相関係数 : {cor:.3f}')"
   ]
  },
  {
   "cell_type": "markdown",
   "metadata": {},
   "source": [
    "---"
   ]
  },
  {
   "cell_type": "markdown",
   "metadata": {},
   "source": [
    "## 決定係数 ($R^{2}$, coefficient of determination)\n",
    "---\n",
    "回帰モデルのあてはまりの良さを表す指標の 1 つ。説明変数と目的変数の重相関係数 $R$ を用いて $R^{2}$ で表すことが多い。  \n",
    "重相関係数とは、 3 以上の変数があるときの、 1 つの変数と他の全ての変数 (の線型結合) との相関係数。つまり、 $y$ と $\\hat{y}$ の相関係数。\n",
    "\n",
    "決定係数 $\n",
    "\\displaystyle \\eta ^{2} =1-\\frac\n",
    "    {\\displaystyle \\sum ^{n}_{i=1}\\left( y_{i} -\\hat{y}_{i}\\right)^{2}}\n",
    "    {\\displaystyle \\sum ^{n}_{i=1}\\left( y_{i} -\\overline{y}\\right)^{2}}\n",
    "$\n",
    "\n",
    "**最小二乗法を用いた場合**、上で定義した**決定係数と重相関係数の二乗は一致**する。 (単回帰分析の場合は相関係数)"
   ]
  },
  {
   "cell_type": "markdown",
   "metadata": {
    "solution2": "hidden",
    "solution2_first": true
   },
   "source": [
    "証明\n",
    "\n",
    "---"
   ]
  },
  {
   "cell_type": "markdown",
   "metadata": {
    "jupyter": {
     "source_hidden": true
    },
    "solution2": "hidden"
   },
   "source": [
    "$\n",
    "\\begin{align}\n",
    "    R^{2} & =S^{2}_{\\hat{y} y}\\\\\n",
    "     & =\\frac\n",
    "         {\\left\\{ {\\displaystyle\n",
    "             \\sum ^{n}_{i=1}\\left(\\hat{y}_{i} -\\overline{y}\\right)\\left( y_{i} -\\overline{y}\\right)\n",
    "         }\\right\\} ^{2}}\n",
    "         {{\\displaystyle\n",
    "             \\sum ^{n}_{i=1}\\left(\\hat{y}_{i} -\\overline{y}\\right)^{2}\\sum ^{n}_{i=1}\\left( y_{i} -\\overline{y}\\right)^{2}\n",
    "         }}\n",
    "\\end{align}\n",
    "$\n",
    "\n",
    "ここで\n",
    "\n",
    "$\n",
    "\\begin{align}\n",
    "    \\sum ^{n}_{i=1}\\left( y_{i} -\\overline{y}\\right)\\left(\\hat{y}_{i} -\\overline{y}\\right) & =\\sum ^{n}_{i=1}\\left(\\hat{y}_{i} +\\hat{e}_{i} -\\overline{y}\\right)\\left(\\hat{y}_{i} -\\overline{y}\\right)\\\\\n",
    "     & =\\sum ^{n}_{i=1}\\left(\\hat{y} -\\overline{y}\\right)^{2} +\\sum ^{n}_{i=1}\\hat{e}_{i}\\left(\\hat{y}_{i} -\\overline{y}\\right)\n",
    "\\end{align}\n",
    "$\n",
    "\n",
    "最小二乗法では残差ベクトルと予測値のベクトルは直交するので、 $\\displaystyle \\sum ^{n}_{i=1}\\hat{e}_{i}\\left(\\hat{y}_{i} -\\overline{y}\\right) =0$ より\n",
    "\n",
    "$\n",
    "{\\displaystyle\n",
    "    \\sum ^{n}_{i=1}\\left( y_{i} -\\overline{y}\\right)\\left(\\hat{y}_{i} -\\overline{y}\\right) =\\sum ^{n}_{i=1}\\left(\\hat{y} -\\overline{y}\\right)^{2}\n",
    "}\n",
    "$\n",
    "\n",
    "したがって\n",
    "\n",
    "$\n",
    "\\displaystyle \\begin{aligned}\n",
    "    R^{2} & =\\frac\n",
    "        {\\left\\{ {\\displaystyle \\sum ^{n}_{i=1}\\left(\\hat{y}_{i} -\\overline{y}\\right)\\left( y_{i} -\\overline{y}\\right) }\\right\\} ^{2}}\n",
    "        {{\\displaystyle \\sum ^{n}_{i=1}\\left(\\hat{y}_{i} -\\overline{y}\\right)^{2}\\sum ^{n}_{i=1}\\left( y_{i} -\\overline{y}\\right)^{2}}}\n",
    "    \\\\\n",
    "     & =\\frac\n",
    "         {\\left\\{ {\\displaystyle\n",
    "             \\sum ^{n}_{i=1}\\left(\\hat{y} -\\overline{y}\\right)^{2}\n",
    "         }\\right\\} ^{2}}\n",
    "         {{\\displaystyle\n",
    "             \\sum ^{n}_{i=1}\\left(\\hat{y}_{i} -\\overline{y}\\right)^{2}\\sum ^{n}_{i=1}\\left( y_{i} -\\overline{y}\\right)^{2}\n",
    "         }}\\\\\n",
    "     & =\\frac\n",
    "         {{\\displaystyle\n",
    "             \\sum ^{n}_{i=1}\\left(\\hat{y} -\\overline{y}\\right)^{2}\n",
    "         }}\n",
    "         {{\\displaystyle\n",
    "             \\sum ^{n}_{i=1}\\left( y_{i} -\\overline{y}\\right)^{2}\n",
    "         }}\n",
    "\\end{aligned}\n",
    "$\n",
    "\n",
    "また、偏差平方和分解 $\\displaystyle \\sum ^{n}_{i=1}\\left( y_{i} -\\overline{y}\\right)^{2} =\\sum ^{n}_{i=1}\\left(\\hat{y}_{i} -\\overline{y}\\right)^{2} +\\sum ^{n}_{i=1} e^{2}_{i}$ より\n",
    "\n",
    "$\n",
    "\\displaystyle \\begin{aligned}\n",
    "    R^{2} & =\\frac\n",
    "        {\\displaystyle \\sum ^{n}_{i=1}\\left( y_{i} -\\overline{y}\\right)^{2} -\\sum ^{n}_{i=1} e^{2}_{i}}\n",
    "        {\\displaystyle \\sum ^{n}_{i=1}\\left( y_{i} -\\overline{y}\\right)^{2}}\n",
    "    \\\\\n",
    "     & \\\\\n",
    "     & =1-\\frac\n",
    "         {\\displaystyle \\sum ^{n}_{i=1}\\left( y_{i} -\\hat{y}_{i}\\right)^{2}}\n",
    "         {\\displaystyle \\sum ^{n}_{i=1}\\left( y_{i} -\\overline{y}\\right)^{2}}\n",
    "     \\\\\n",
    "     & \\\\\n",
    "     & =\\eta ^{2}\n",
    "\\end{aligned}\n",
    "$"
   ]
  },
  {
   "cell_type": "markdown",
   "metadata": {},
   "source": [
    "---"
   ]
  },
  {
   "cell_type": "markdown",
   "metadata": {},
   "source": [
    "### 寄与率\n",
    "---\n",
    "偏差平方和分解を利用すると、**最小二乗法を用いた場合**、**決定係数は目的変数の分散のうち予測値 (説明変数) で説明できる割合 (寄与率)** を表すことがわかる。\n",
    "\n",
    "決定係数 $\\displaystyle \\begin{aligned}\n",
    "    \\eta ^{2} & =\\frac\n",
    "        {V\\left(\\hat{y}\\right)}\n",
    "        {V( y)}\n",
    "\\end{aligned}$"
   ]
  },
  {
   "cell_type": "markdown",
   "metadata": {
    "solution2": "hidden",
    "solution2_first": true
   },
   "source": [
    "証明\n",
    "\n",
    "---"
   ]
  },
  {
   "cell_type": "markdown",
   "metadata": {
    "jupyter": {
     "source_hidden": true
    },
    "solution2": "hidden"
   },
   "source": [
    "$\n",
    "\\begin{aligned}\n",
    "    \\eta ^{2} & =1-\\frac\n",
    "        {\\displaystyle \\sum ^{n}_{i=1}\\left( y_{i} -\\hat{y}_{i}\\right)^{2}}\n",
    "        {\\displaystyle \\sum ^{n}_{i=1}\\left( y_{i} -\\overline{y}\\right)^{2}}\n",
    "    \\\\\n",
    "     & \\\\\n",
    "     & =\\frac\n",
    "         {\\displaystyle \\sum ^{n}_{i=1}\\left( y_{i} -\\overline{y}\\right)^{2} -\\sum ^{n}_{i=1}\\left( y_{i} -\\hat{y}_{i}\\right)^{2}}\n",
    "         {\\displaystyle \\sum ^{n}_{i=1}\\left( y_{i} -\\overline{y}\\right)^{2}}\n",
    "     \\\\\n",
    "     & \\\\\n",
    "     & =\\frac\n",
    "         {\\displaystyle \\sum ^{n}_{i=1}\\left(\\hat{y}_{i} -\\overline{y}\\right)^{2}}\n",
    "         {\\displaystyle \\sum ^{n}_{i=1}\\left( y_{i} -\\overline{y}\\right)^{2}}\n",
    "     \\\\\n",
    "     & \\\\\n",
    "     & =\\frac\n",
    "         {V\\left(\\hat{y}\\right)}\n",
    "         {V( y)}\n",
    "\\end{aligned}\n",
    "$"
   ]
  },
  {
   "cell_type": "markdown",
   "metadata": {},
   "source": [
    "---"
   ]
  },
  {
   "cell_type": "code",
   "execution_count": 6,
   "metadata": {
    "hide_input": true,
    "jupyter": {
     "source_hidden": true
    }
   },
   "outputs": [
    {
     "data": {
      "application/vnd.jupyter.widget-view+json": {
       "model_id": "6e1e689de9f9411ea98060a30fb19b2f",
       "version_major": 2,
       "version_minor": 0
      },
      "text/plain": [
       "interactive(children=(FloatSlider(value=0.8, continuous_update=False, description='相関係数 (目安)', max=1.0, min=0.…"
      ]
     },
     "metadata": {},
     "output_type": "display_data"
    }
   ],
   "source": [
    "from my_functions.ordinary_least_squares import explained_variance\n",
    "explained_variance.show()"
   ]
  },
  {
   "cell_type": "markdown",
   "metadata": {},
   "source": [
    "## 相関分析への応用"
   ]
  },
  {
   "cell_type": "markdown",
   "metadata": {},
   "source": [
    "### 偏相関係数 (partial correlation coefficient)\n",
    "---\n",
    "2 変数 $x,y$ の相関を考えるときに、両者に共通して影響を与える交絡因子 $z$ があるとする。この $z$ の影響を取り除いたとしても $x,y$ に相関があるか知りたい。  \n",
    "このとき、 $z$ の影響を取り除いた後の $x',y'$ の相関係数を偏相関係数といい、 $\n",
    "\\displaystyle r_{x'y'} =\\frac\n",
    "    {r_{xy} -r_{xz} r_{yz}}\n",
    "    {\\sqrt{\n",
    "        1-r^{2}_{xz}\n",
    "    }\\sqrt{\n",
    "        1-r^{2}_{yz}\n",
    "    }}\n",
    "$ で表される。\n",
    "\n",
    "単回帰分析で、目的変数から説明変数による影響を取り除けることを利用する。"
   ]
  },
  {
   "cell_type": "markdown",
   "metadata": {
    "solution2": "hidden",
    "solution2_first": true
   },
   "source": [
    "証明\n",
    "\n",
    "---"
   ]
  },
  {
   "cell_type": "markdown",
   "metadata": {
    "jupyter": {
     "source_hidden": true
    },
    "solution2": "hidden"
   },
   "source": [
    "$x,y$ から $z$ で説明できる部分を取り除けばよいので、 $x,z$ ・ $y,z$ の回帰方程式 $\\hat{x} =a_{1} +b_{1} z,\\hat{y} =a_{2} +b_{2} z$ を考える。それぞれから $z$ で説明できる部分を取り除いたものは残差 $e_{x} ,e_{y}$ で表されるので、その相関係数が求める $r_{x'y'}$ 。\n",
    "\n",
    "$\n",
    "\\displaystyle \\hat{x} =\\overline{x} +\\frac\n",
    "    {Cov( x,z)}\n",
    "    {V( z)}\n",
    "\\left( z-\\overline{z}\\right)\n",
    "$ より、 $\\displaystyle e_{x} =x-\\hat{x} =x-\\overline{x} -\\frac{Cov( x,z)}{V( z)}\\left( z-\\overline{z}\\right)$  \n",
    "$y$ についても同様に $\\displaystyle e_{y} =y-\\hat{y} =y-\\overline{y} -\\frac{Cov( y,z)}{V( z)}\\left( z-\\overline{z}\\right)$\n",
    "\n",
    "したがって\n",
    "\n",
    "$\n",
    "\\begin{aligned}\n",
    "    r_{e_{x} e_{y}} & =\\frac\n",
    "        {Cov( e_{x} ,e_{y})}\n",
    "        {S( e_{x}) S( e_{y})}\\\\\n",
    "     & =\\frac\n",
    "         {\\displaystyle \\frac\n",
    "             {1}\n",
    "             {n}\n",
    "         \\sum ^{n}_{i=1}\\left( e_{x} -\\overline{e}_{x}\\right)\\left( e_{y} -\\overline{e}_{y}\\right)}\n",
    "         {\\sqrt{\n",
    "             \\displaystyle \\frac\n",
    "                 {1}\n",
    "                 {n}\n",
    "             \\sum ^{n}_{i=1}\\left( e_{x} -\\overline{e}_{x}\\right)^{2}\n",
    "         }\\sqrt{\n",
    "             \\displaystyle \\frac\n",
    "                 {1}\n",
    "                 {n}\n",
    "             \\sum ^{n}_{i=1}\\left( e_{y} -\\overline{e}_{y}\\right)^{2}\n",
    "         }}\n",
    "\\end{aligned}\n",
    "$\n",
    "\n",
    "$\\overline{e}_{x} =0,\\overline{e}_{y} =0$ より\n",
    "\n",
    "$\n",
    "\\displaystyle \\begin{aligned}\n",
    "    r_{e_{x} e_{y}} & =\\frac\n",
    "        {\\displaystyle \\sum ^{n}_{i=1} e_{x} e_{y}}\n",
    "        {\\sqrt{\n",
    "            \\displaystyle \\sum ^{n}_{i=1} e^{2}_{x}\n",
    "        }\\sqrt{\n",
    "            \\displaystyle \\sum ^{n}_{i=1} e^{2}_{y}\n",
    "        }}\\\\\n",
    "     & =\\frac\n",
    "         {\\displaystyle \\sum ^{n}_{i=1}\\left\\{\\left( x_{i} -\\overline{x}\\right) -\\frac\n",
    "             {Cov( x,z)}\n",
    "             {V( z)}\n",
    "         \\left( z_{i} -\\overline{z}\\right)\\right\\}\\left\\{\\left( y_{i} -\\overline{y}\\right) -\\frac\n",
    "             {Cov( y,z)}\n",
    "             {V( z)}\n",
    "         \\left( z_{i} -\\overline{z}\\right)\\right\\}}\n",
    "         {\\sqrt{\n",
    "             \\displaystyle \\sum ^{n}_{i=1}\\left\\{\\left( x_{i} -\\overline{x}\\right) -\\frac\n",
    "                 {Cov( x,z)}\n",
    "                 {V( z)}\n",
    "             \\left( z_{i} -\\overline{z}\\right)\\right\\}^{2}\n",
    "         }\\sqrt{\n",
    "             \\displaystyle \\sum ^{n}_{i=1}\\left\\{\\left( y_{i} -\\overline{y}\\right) -\\frac\n",
    "                 {Cov( y,z)}\n",
    "                 {V( z)}\n",
    "             \\left( z_{i} -\\overline{z}\\right)\\right\\}^{2}\n",
    "         }}\\\\\n",
    "     & =\\frac\n",
    "         {\\displaystyle \\sum ^{n}_{i=1}\\left( x_{i} -\\overline{x}\\right)\\left( y_{i} -\\overline{y}\\right) -\\frac\n",
    "             {Cov( y,z)}\n",
    "             {V( z)}\n",
    "         \\sum ^{n}_{i=1}\\left( x_{i} -\\overline{x}\\right)\\left( z_{i} -\\overline{z}\\right) -\\frac\n",
    "             {Cov( x,z)}\n",
    "             {V( z)}\n",
    "         \\sum ^{n}_{i=1}\\left( y_{i} -\\overline{y}\\right)\\left( z_{i} -\\overline{z}\\right) +\\frac\n",
    "             {Cov( x,z) Cov( y,z)}\n",
    "             {V( z)^{2}}\n",
    "         \\sum ^{n}_{i=1}\\left( z_{i} -\\overline{z}\\right)^{2}}\n",
    "         {\\sqrt{\n",
    "             \\displaystyle \\sum ^{n}_{i=1}\\left( x_{i} -\\overline{x}\\right)^{2} -2\\frac\n",
    "                 {Cov( x,z)}\n",
    "                 {V( z)}\n",
    "             \\sum ^{n}_{i=1}\\left( x_{i} -\\overline{x}\\right)\\left( z_{i} -\\overline{z}\\right) +\\frac\n",
    "                 {Cov( x,z)^{2}}\n",
    "                 {V( z)^{2}}\n",
    "             \\sum ^{n}_{i=1}\\left( z_{i} -\\overline{z}\\right)^{2}\n",
    "         }\\sqrt{\n",
    "             \\displaystyle \\sum ^{n}_{i=1}\\left( y_{i} -\\overline{y}\\right)^{2} -2\\frac\n",
    "                 {Cov( y,z)}\n",
    "                 {V( z)}\n",
    "             \\sum ^{n}_{i=1}\\left( y_{i} -\\overline{y}\\right)\\left( z_{i} -\\overline{z}\\right) +\\frac\n",
    "                 {Cov( y,z)^{2}}\n",
    "                 {V( z)^{2}}\n",
    "             \\sum ^{n}_{i=1}\\left( z_{i} -\\overline{z}\\right)^{2}\n",
    "         }}\\\\\n",
    "     & =\\frac\n",
    "         {\\displaystyle nCov( x,y) -\\frac\n",
    "             {Cov( y,z)}\n",
    "             {V( z)}\n",
    "         \\cdot nCov( x,z) -\\frac\n",
    "             {Cov( x,z)}\n",
    "             {V( z)}\n",
    "         \\cdot nCov( y,z) +\\frac\n",
    "             {Cov( x,z) Cov( y,z)}\n",
    "             {V( z)^{2}}\n",
    "         \\cdot nV( z)}\n",
    "         {\\sqrt{\n",
    "             \\displaystyle nV( x) -2\\frac\n",
    "                 {Cov( x,z)}\n",
    "                 {V( z)}\n",
    "             \\cdot nCov( x,z) +\\frac\n",
    "                 {Cov( x,z)^{2}}\n",
    "                 {V( z)^{2}}\n",
    "             \\cdot nV( z)\n",
    "         }\\sqrt{\n",
    "             \\displaystyle nV( y) -2\\frac\n",
    "                 {Cov( y,z)}\n",
    "                 {V( z)}\n",
    "             \\cdot nCov( y,z) +\\frac\n",
    "                 {Cov( y,z)^{2}}\n",
    "                 {V( z)^{2}}\n",
    "             \\cdot nV( z)\n",
    "         }}\\\\\n",
    "     & =\\frac\n",
    "         {\\displaystyle Cov( x,y) -\\frac\n",
    "             {Cov( x,z) Cov( y,z)}\n",
    "             {V( z)}\n",
    "         }\n",
    "         {\\sqrt{\n",
    "             \\displaystyle V( x) -\\frac\n",
    "                 {Cov( x,z)^{2}}\n",
    "                 {V( z)}\n",
    "         }\\sqrt{\n",
    "             \\displaystyle V( y) -\\frac\n",
    "                 {Cov( y,z)^{2}}\n",
    "                 {V( z)}\n",
    "         }}\\\\\n",
    "     & =\\frac\n",
    "         {\\displaystyle \\frac\n",
    "             {Cov( x,y)}\n",
    "             {\\sqrt{\n",
    "                 V( x) V( y)\n",
    "             }}\n",
    "         -\\frac\n",
    "             {Cov( x,z)}\n",
    "             {\\sqrt{\n",
    "                 V( x) V( z)\n",
    "             }}\n",
    "         \\cdot \\frac\n",
    "             {Cov( y,z)}\n",
    "             {\\sqrt{\n",
    "                 V( y) V( z)\n",
    "             }}\n",
    "         }\n",
    "         {\\sqrt{\n",
    "             \\displaystyle 1-\\frac\n",
    "                 {Cov( x,z)^{2}}\n",
    "                 {V( x) V( z)}\n",
    "         }\\sqrt{\n",
    "             \\displaystyle 1-\\frac\n",
    "                 {Cov( y,z)^{2}}\n",
    "                 {V( y) V( z)}\n",
    "         }}\\\\\n",
    "     & =\\frac\n",
    "         {r_{xy} -r_{xz} r_{yz}}\n",
    "         {\\sqrt{\n",
    "             1-r^{2}_{xz}\n",
    "         }\\sqrt{\n",
    "             1-r^{2}_{yz}\n",
    "         }}\n",
    "\\end{aligned}\n",
    "$"
   ]
  },
  {
   "cell_type": "markdown",
   "metadata": {},
   "source": [
    "---"
   ]
  },
  {
   "cell_type": "markdown",
   "metadata": {},
   "source": [
    "## 単回帰分析への応用"
   ]
  },
  {
   "cell_type": "markdown",
   "metadata": {},
   "source": [
    "### 問題の背景\n",
    "---\n",
    "回帰分析を用いる目的は、目的変数 $y$ と説明変数 $x$ の因果関係を解き明かすことだが、**相関関係があるからといって因果関係があるわけではない。**\n",
    "\n",
    "特に因果関係はないのに偶然相関が現われることもある。  \n",
    "交絡因子と呼ばれる $x$ と $y$ の両方に影響を与える因子 $z$ の存在によって、 $xy$ 間に直接の因果関係がないのに相関が発生してしまう疑似相関という現象もある。例えば、小学生の体力測定と学力テストの結果に相関が見られるときに、体力→学力または学力→体力という因果関係があるとは通常考えられない。この場合、学年 (年齢) という別の因子が両者に影響を与えているだけである。"
   ]
  },
  {
   "cell_type": "code",
   "execution_count": 7,
   "metadata": {
    "hide_input": true,
    "jupyter": {
     "source_hidden": true
    }
   },
   "outputs": [
    {
     "data": {
      "image/png": "[encoded data removed]",
      "text/plain": [
       "<IPython.core.display.Image object>"
      ]
     },
     "execution_count": 7,
     "metadata": {},
     "output_type": "execute_result"
    }
   ],
   "source": [
    "from my_functions.ordinary_least_squares import confounding\n",
    "Image(confounding.get())"
   ]
  },
  {
   "cell_type": "markdown",
   "metadata": {},
   "source": [
    "また、複数変数のうちどちらが原因 $x$ と結果 $y$ になるのかはドメイン知識をもとに推測しなくてはならない。\n",
    "\n",
    "ただし、分析の目的として予測結果が得られればいいのであれば因果関係をそれほど重視しなくていい場合もある。  \n",
    "これは統計解析と機械学習の基本的なスタンスの違いにも関係する。\n",
    "\n",
    "統計解析の関心 (目的) は主に手元のデータの理解 (ある変数を他の変数で説明できるか) にある。 (例えば学力に影響を与える要因を理解し、学力を上げる施策を考えるなど)  \n",
    "機械学習の関心 (目的) は主に未知のデータの予測にある。 (例えば各広告のクリック率を予測し、最もクリックされる可能性の高い広告を表示するなど)\n",
    "\n",
    "<table class=\"border background-bright text-center\">\n",
    "    <tr class=\"background-dark\">\n",
    "        <th></th>\n",
    "        <th>目的</th>\n",
    "        <th>重視する点</th>\n",
    "        <th>次のステップ</th>\n",
    "    </tr>\n",
    "    <tr>\n",
    "        <th class=\"border-bottom background-dark\">統計解析</th>\n",
    "        <td>どの変数が目的変数を説明できるか解明<br />$\\hat{y}=a+bx$ の $b$</td>\n",
    "        <td>結論に至った理由を人間が理解できるか<br />(現状の理解)</td>\n",
    "        <td>処方箋<br />(未来の変更)</td>\n",
    "    </tr>\n",
    "    <tr>\n",
    "        <th class=\"border-bottom background-dark\">機械学習</th>\n",
    "        <td>未知のデータをできるだけ正確に予測<br />$\\hat{y}=a+bx$ の $\\hat{y}$</td>\n",
    "        <td>予測の精度<br />(未来の理解)</td>\n",
    "        <td>自動化<br />(現状の変更)</td>\n",
    "    </tr>\n",
    "</table>\n",
    "\n",
    "上のように統計解析の最終目的は、説明変数を操作して目的変数に影響を与えるという場合が多いので、以下のような特徴がある。\n",
    "- 説明変数と目的変数の間に因果関係があることを求める\n",
    "- 説明変数が操作可能であることが重要\n",
    "- 説明変数同士が独立である (ある説明変数が変わるような施策を実行したときに他の変数がつられて動かない) ことを求める\n",
    "- 数個程度の少ない変数に絞り込む (それほど多数の変数に介入することは難しいし、多数の変数が全て独立であることはほとんどない)\n",
    "\n",
    "これに対して機械学習の最終目的は、予測の正確さである場合が多いので、以下のような特徴がある。\n",
    "- 交絡は比較的気にしない\n",
    "- 変数はできるだけ多く使用する\n",
    "\n",
    "もちろん、これらの中間的な部分はどちらにも存在し、程度問題であるので、実用上は分野の違いではなく自分の分析目的や求められる要件に応じて重視する点を変えればよい。"
   ]
  },
  {
   "cell_type": "markdown",
   "metadata": {},
   "source": [
    "### 偏回帰係数 (partial regression coefficient)\n",
    "---\n",
    "変数 $x$ (および $y$) から $z$ の影響を取り除いた残差 $e_{x}$ (および $e_{y}$) を用いた回帰方程式 $y=a+be_{x}$ (または $e_{y}=a+be_{x}$) の回帰係数 $b$ を偏回帰係数といい、 $\n",
    "\\displaystyle \\frac\n",
    "    {( r_{xy} -r_{xz} r_{yz}) S( y)}\n",
    "    {\\left( 1-r^{2}_{xz}\\right) S( x)}\n",
    "$ で表される。\n",
    "\n",
    "説明変数 $x$ と目的変数 $y$ を標準化して得た回帰方程式の偏回帰係数は標準偏回帰係数といい、 $\n",
    "\\displaystyle \\frac\n",
    "    {r_{xy} -r_{xz} r_{yz}}\n",
    "    {1-r^{2}_{xz}}\n",
    "$ で表される。"
   ]
  },
  {
   "cell_type": "markdown",
   "metadata": {
    "solution2": "hidden",
    "solution2_first": true
   },
   "source": [
    "証明\n",
    "\n",
    "---"
   ]
  },
  {
   "cell_type": "markdown",
   "metadata": {
    "solution2": "hidden"
   },
   "source": [
    "回帰方程式 $y=a+bx$ の係数 $\n",
    "\\displaystyle b=r_{xy}\\frac\n",
    "    {S( y)}\n",
    "    {S( x)}\n",
    "$ より、偏回帰係数は $\n",
    "\\displaystyle r_{e_{x} e_{y}}\\frac\n",
    "    {S( e_{y})}\n",
    "    {S( e_{x})}\n",
    "$\n",
    "\n",
    "ここで平方和分解より\n",
    "\n",
    "$\n",
    "\\displaystyle \\begin{aligned}\n",
    "    S( e) & =\\sqrt{\n",
    "        V( e)\n",
    "    } & \\\\\n",
    "     &  & \\\\\n",
    "     & =\\sqrt{\n",
    "         V( y) -V\\left(\\hat{y}\\right)\n",
    "     } & \\\\\n",
    "     &  & \\\\\n",
    "     & =\\sqrt{\n",
    "         V( y) -b^{2} V( x)\n",
    "     } & \\\\\n",
    "     &  & \\\\\n",
    "     & =\\sqrt{\n",
    "         V( y) -\\left(\\frac\n",
    "             {Cov( x,y)}\n",
    "             {V( x)}\n",
    "         \\right)^{2} V( x)\n",
    "     } & \\\\\n",
    "     &  & \\\\\n",
    "     & =\\sqrt{\n",
    "         V( y) -\\left(\\frac\n",
    "             {r_{xy} S( x) S( y)}\n",
    "             {V( x)}\n",
    "         \\right)^{2} V( x)\n",
    "     } & \\because r_{xy} =\\frac\n",
    "         {Cov( x,y)}\n",
    "         {S( x) S( y)}\n",
    "     \\\\\n",
    "     &  & \\\\\n",
    "     & =\\sqrt{\n",
    "         V( y) -\\left( r_{xy}\\frac\n",
    "             {S( y)}\n",
    "             {S( x)}\n",
    "         \\right)^{2} V( x)\n",
    "     } & \\\\\n",
    "     &  & \\\\\n",
    "     & =\\sqrt{\n",
    "         V( y) -r^{2}_{xy} V( y)\n",
    "     } & \\\\\n",
    "     &  & \\\\\n",
    "     & =S( y)\\sqrt{\n",
    "         1-r^{2}_{xy}\n",
    "     } & \n",
    "\\end{aligned}\n",
    "$\n",
    "\n",
    "$e_{x},e_{y}$ はそれぞれの回帰方程式 $\\hat{x} =a+bz,\\hat{y} =a+bz$ の残差なので\n",
    "\n",
    "$\n",
    "\\begin{cases}\n",
    "    S( e_{x}) & =S( x)\\sqrt{\n",
    "        1-r^{2}_{xz}\n",
    "    }\\\\\n",
    "    S( e_{y}) & =S( y)\\sqrt{\n",
    "        1-r^{2}_{yz}\n",
    "    }\n",
    "\\end{cases}\n",
    "$\n",
    "\n",
    "したがって\n",
    "\n",
    "$\n",
    "\\begin{aligned}\n",
    "    r_{e_{x} e_{y}}\\frac\n",
    "        {S( e_{y})}\n",
    "        {S( e_{x})}\n",
    "    & =\\frac\n",
    "        {r_{xy} -r_{xz} r_{yz}}\n",
    "        {\\sqrt{\n",
    "            1-r^{2}_{xz}\n",
    "        }\\sqrt{\n",
    "            1-r^{2}_{yz}\n",
    "        }}\n",
    "    \\cdot \\frac\n",
    "        {S( y)\\sqrt{\n",
    "            1-r^{2}_{yz}\n",
    "        }}\n",
    "        {S( x)\\sqrt{\n",
    "            1-r^{2}_{xz}\n",
    "        }}\\\\\n",
    "     & =\\frac\n",
    "         {( r_{xy} -r_{xz} r_{yz}) S( y)}\n",
    "         {\\left( 1-r^{2}_{xz}\\right) S( x)}\n",
    "\\end{aligned}\n",
    "$\n",
    "\n",
    "標準偏回帰係数は $S( x) =S( y) =1$ とした場合なので、 $\\displaystyle \\frac{r_{xy} -r_{xz} r_{yz}}{1-r^{2}_{xz}}$"
   ]
  },
  {
   "cell_type": "markdown",
   "metadata": {},
   "source": [
    "---"
   ]
  },
  {
   "cell_type": "markdown",
   "metadata": {},
   "source": [
    "## 推薦図書\n",
    "---\n",
    "- [心理統計学の基礎―統合的理解のために](https://www.amazon.co.jp/%E5%BF%83%E7%90%86%E7%B5%B1%E8%A8%88%E5%AD%A6%E3%81%AE%E5%9F%BA%E7%A4%8E%E2%80%95%E7%B5%B1%E5%90%88%E7%9A%84%E7%90%86%E8%A7%A3%E3%81%AE%E3%81%9F%E3%82%81%E3%81%AB-%E6%9C%89%E6%96%90%E9%96%A3%E3%82%A2%E3%83%AB%E3%83%9E-%E5%8D%97%E9%A2%A8%E5%8E%9F-%E6%9C%9D%E5%92%8C/dp/4641121605/)"
   ]
  }
 ],
 "metadata": {
  "kernelspec": {
   "display_name": "Python 3",
   "language": "python",
   "name": "python3"
  },
  "language_info": {
   "codemirror_mode": {
    "name": "ipython",
    "version": 3
   },
   "file_extension": ".py",
   "mimetype": "text/x-python",
   "name": "python",
   "nbconvert_exporter": "python",
   "pygments_lexer": "ipython3",
   "version": "3.8.3"
  },
  "toc": {
   "base_numbering": 1,
   "nav_menu": {},
   "number_sections": true,
   "sideBar": true,
   "skip_h1_title": true,
   "title_cell": "Table of Contents",
   "title_sidebar": "Contents",
   "toc_cell": false,
   "toc_position": {},
   "toc_section_display": true,
   "toc_window_display": true
  },
  "varInspector": {
   "cols": {
    "lenName": 16,
    "lenType": 16,
    "lenVar": 40
   },
   "kernels_config": {
    "python": {
     "delete_cmd_postfix": "",
     "delete_cmd_prefix": "del ",
     "library": "var_list.py",
     "varRefreshCmd": "print(var_dic_list())"
    },
    "r": {
     "delete_cmd_postfix": ") ",
     "delete_cmd_prefix": "rm(",
     "library": "var_list.r",
     "varRefreshCmd": "cat(var_dic_list()) "
    }
   },
   "types_to_exclude": [
    "module",
    "function",
    "builtin_function_or_method",
    "instance",
    "_Feature"
   ],
   "window_display": false
  },
  "widgets": {
   "application/vnd.jupyter.widget-state+json": {
    "state": {
     "26397c89790b41a5b7dfb764e7cd52a3": {
      "model_module": "@jupyter-widgets/controls",
      "model_module_version": "1.5.0",
      "model_name": "IntSliderModel",
      "state": {
       "continuous_update": false,
       "description": "乱数",
       "layout": "IPY_MODEL_6fab7a13afec4ed6a1238ad1cb826d11",
       "max": 256,
       "min": 1,
       "style": "IPY_MODEL_5a704bea6c564299954bf22f3e911c5e",
       "value": 1
      }
     },
     "265709247fbb405cb6ec1e1b2ae2fad2": {
      "model_module": "@jupyter-widgets/base",
      "model_module_version": "1.2.0",
      "model_name": "LayoutModel",
      "state": {}
     },
     "5a704bea6c564299954bf22f3e911c5e": {
      "model_module": "@jupyter-widgets/controls",
      "model_module_version": "1.5.0",
      "model_name": "SliderStyleModel",
      "state": {
       "description_width": "7em"
      }
     },
     "6e1e689de9f9411ea98060a30fb19b2f": {
      "model_module": "@jupyter-widgets/controls",
      "model_module_version": "1.5.0",
      "model_name": "VBoxModel",
      "state": {
       "_dom_classes": [
        "widget-interact"
       ],
       "children": [
        "IPY_MODEL_a47ba6ebf655474cbdfb03f87f644587",
        "IPY_MODEL_26397c89790b41a5b7dfb764e7cd52a3",
        "IPY_MODEL_ef87c18905b04de9863968c65e4b10b9"
       ],
       "layout": "IPY_MODEL_73363ea6da694c309308da5c9b9175e9"
      }
     },
     "6fab7a13afec4ed6a1238ad1cb826d11": {
      "model_module": "@jupyter-widgets/base",
      "model_module_version": "1.2.0",
      "model_name": "LayoutModel",
      "state": {}
     },
     "73363ea6da694c309308da5c9b9175e9": {
      "model_module": "@jupyter-widgets/base",
      "model_module_version": "1.2.0",
      "model_name": "LayoutModel",
      "state": {}
     },
     "a47ba6ebf655474cbdfb03f87f644587": {
      "model_module": "@jupyter-widgets/controls",
      "model_module_version": "1.5.0",
      "model_name": "FloatSliderModel",
      "state": {
       "continuous_update": false,
       "description": "相関係数 (目安)",
       "layout": "IPY_MODEL_265709247fbb405cb6ec1e1b2ae2fad2",
       "max": 1,
       "min": 0.1,
       "readout_format": ".1f",
       "step": 0.1,
       "style": "IPY_MODEL_fe5c4f64fd904221b4dd96df468fefff",
       "value": 0.8
      }
     },
     "ef87c18905b04de9863968c65e4b10b9": {
      "model_module": "@jupyter-widgets/output",
      "model_module_version": "1.0.0",
      "model_name": "OutputModel",
      "state": {
       "layout": "IPY_MODEL_f4590f16575342fdb690ea4e6b5614d4",
       "outputs": [
        {
         "name": "stdout",
         "output_type": "stream",
         "text": "回帰係数 : 1.57\nR^2 : 0.597\n"
        },
        {
         "data": {
          "image/png": "iVBORw0KGgoAAAANSUhEUgAAAPwAAAHUCAYAAAAeI0WIAAAABHNCSVQICAgIfAhkiAAAAAlwSFlzAAALEgAACxIB0t1+/AAAADh0RVh0U29mdHdhcmUAbWF0cGxvdGxpYiB2ZXJzaW9uMy4yLjEsIGh0dHA6Ly9tYXRwbG90bGliLm9yZy+j8jraAAAgAElEQVR4nO3dd1hT59sH8O8BQQRU3LturdY60VrbKm6tWvtKQHHvrdW6qrY42qJ1VK2zOOoWEbU2jqIIKIIWwap14UIERFTCEBBCyHn/iMlPZIUkZyTn/lwXV0xIzrklufM855kMy7IghEiDldABEEL4QwlPiIRQwhMiIZTwhEgIJTwhEkIJT4iElOLqwJUrV2br1avH1eEJIUWIjIx8xbJslfcf5yzh69Wrh4iICK4OTwgpAsMwMQU9TlV6QiSEEp4QCaGEJ0RCKOEJkRBKeEIkhBKeEAmhhCdEQijhCZEQSnhCJIQSnhAJoYQnREIo4QmREEp4QiSEEp4QCaGEJ0RCKOEJkRBKeEJMJDImGZuDHiIyJlnoUArF2Yo3hEhJZEwyhu24AqVKDdtSVjgwviPa1a0gdFj5UAlPiAlceZwEpUoNNQvkqNS48jhJ6JAKRAlPiAl0bFAJtqWsYM0ANqWs0LFBJaFDKhBV6QkxgXZ1K+DA+I648jgJHRtUEmV1HqCEJ8Rk2tWtINpE16IqPSEcEWOrPZXwhHBArK32VMITwgGxttpTwhPCAbG22lOVnhAOiLXVnkp4Ih0HDgD16gFWVprbAwc4PV27uhUwrWsj0SQ7QCU8kYoDB4CJE4HMTM39mBjNfQAYNky4uHhGJTzJK04OpN3X/JtVv73/QHNfrdLcf/1Icz9XqbmfHv32fpbmfsbbjUtVmW/vx2ru56Rr7mfGv72fprn/JkFzX5ny9n6i5n62QnM/6+Xb+0ma+9lvG8CyXr69r9Dcf5Ooua9MeXs/QXM/Jw1YvBgonQm0eef/mpmpeVxCKOHJ/wS4ADcWCR0FN54+1dzWBdCigMclgmFZlpMDOzs7s7Q/vJkJcNHc9ggWMgpu1KunqcbXeXv/baUDdesCT54IExOHGIaJZFnW+f3HqYQn0vDzz4C9vSbRtclub695XEIo4Yk0DBsGeHtrSnSG0dx6e0uqwQ6gVnoiJcOGAV0ra/5ds7ewsQiEEp5Ii30toSMQFCU8kRanFsU/x4LRNTwhIsTV1Foq4Ym0PDujua3ZV9g4isDl1Foq4Ym0ONTV/IgYl1NrqYQn0lK+udARFEs7tTZHpTb51FpKeEIEEBmTXOjUWS6n1lLCE2mJP6W5rdVPsBD0uUbnakFMuoYn0uLYUPMjICGXv6ISnkhL+Q+FjoDTa/TiUMITwjMhl7+ihCfSEifX3NYeIGgYQm1aQQlPpKVcU6EjMFhRLfv6ooQnZsMUH3iUa2LaoHhiqtF3lPDELJhsuCmr1twy3HRQGfKlpM9rCmrZp4QnFstUH3hdPzwH1/CGfCnp+xpTtexTwhOzYLKurHLcdcsZ8qWk72tM1bJPCU/Mgsm6sso1Nm1g7zDkS6kkr9GnZZ9lWfzwww+F/p5WrSX/Y8mr1mqpVZpbK27KOq6u4fX166+/Ys6cOQBQ4Kq1VMITadHOh+eoH96Q/nVT9clfunQJ8+fPx6BBg3Ds2LECn0Nj6Ym0lG8u6imyhq508+LFCwwePBj169fHrl27Cn0elfBEWsoKO3GmKIZ2Pebm5sLDwwMKhQKnT59G+fLlC30ulfBEWnKVmh8RMnQW3dKlSxEYGIgtW7agVatWRT6XEp5IS4K/5keEtC321gz0buU/ffo0fvrpJ4wbNw5jxowp9vlUpSfSIuJlqkva9RgTE4Phw4ejdevW2Lhxo17noIQn0uJYX+gIiqRvi312djZkMhnUajX8/PxQpkwZvY5PCU+kJTdLc2ttx9kpTNmvXphvv/0WEREROH78OBo21L8hkhKeSEvCOc0tR/3wXK4pr3Xw4EFs2bIFc+fOxddff12i11KjHZGWCi01Pxzher26O3fuYMKECfjiiy/g5eVV4tdTCU+kheNNKLhcry49PR2urq5wdHSEj48PbGxsSnwMSngiLapMzW0pe04Oz9V6dSzLYsKECbh//z4CAgJQs2ZNg45DCU+k5fl5zS2Ha9pxsV7dli1b4OPjAy8vL3Tt2tXg41DCE7NlUGt4hdbcBsWB8PBwzJ49G/369cOCBQuMOhYlPBGEsV1XBreGO9QxIFrhJCUlwc3NDbVq1cLevXthZWVcOzslPOGdKbquDF7yKiddc2vjaEDk/FKr1RgxYgSeP3+O0NBQVKxY0ehjUrcc4Z0puq4MGXcOAEgM0vyYAS8vL5w5cwYbNmyAs3O+tSwMQiU84dz71XdTdF0Z3BpesW2JzyWEgIAAeHp6YtiwYZg0aZLJjksJTzhVWPX9wPiOOHYtDsYssFaS1nA+hruaSlxcHDw8PNC8eXP8/vvvYBjGZMemhCecKupa++i1OChVahy7FsfJEFStyJhkeGy/ghyVGk62Wdg1yhltGnI7AMdQOTk5GDx4MLKysuDn5wcHBweTHp+u4QmnCrvW5nPL5GNvv1hYAG1L38Ctf//i7FzGWrBgAcLCwrBjxw58+KHpl9SmEp5wqrBrbT63TH73suHmm8ZoZFWLs3MZ4+jRo1i3bh1mzJiBwYMHc3IOSnjCuYKutfncMtm1bW34RcQiJ5dFKlsJvdq14exc7ypJu8GDBw8wZswYfPLJJ1izZg1nMVHCE8HwtWVyu7oVcGjip7jyOAmffVAKrWuYrhGsMCUZa5CZmQlXV1fY2trC19cXtra2nMVFCU/MirbUrGBvi+RMpd61A92XS5wceAHO94fXd2AQy7KYOnUqbt26hdOnT+ODDz7gNC5KeGI23i011SzAAChtU8KRepU6cBqjlr5tFLt27cKePXvg6emJPn36cB4XJTwxiBD92u+WmoCmMa7EO8mWqcZZfO/Sp43i33//xbRp09CzZ094enryEhclPCkxPpZxKoi21NQmvRVKOKwWALIVmtvSxo9LL05RbRQpKSmQyWSoXLkyDhw4AGtra87jASjhiQFMtld7Cb1bapb0Gl7nZajmluNr+KKwLIvRo0fj6dOnuHjxIqpUqcLbuSnhSYnx2Yf+PqNb9it3NF0wBlqzZg1OnDiB9evX49NPP+X13JTwpMT47EM3OTv+StOCXLx4EQsXLoSbmxtmzpzJ+/kp4YlB+OpDN7nst0N4S/NXK9F6/vw5Bg8ejIYNG2LHjh0mnRSjL0p4Ii0vwzS3PF/Dq1QqeHh4IDU1FWfPnkW5cuV4Pb8WJTyRliqdBDmtp6cngoODsWfPHnz88ceCxABQwhOpEaAqL5fLsWLFCkycOBEjR47k/fzvoumxxCQiY5KxOeghImOShQ6laFkvNT88iY6OxsiRI9GmTRts2LCBt/MWhkp4YjShBuIY5NUVzS0P1/BZWVmQyWQAAD8/P9jZcbeBpb4o4YnRhBqIY5Aqn/F2qlmzZuHatWs4ceIEGjRowNt5i0IJT4wm5ECcEuNhSC0A7Nu3D7///jsWLFiAr776ipdz6oMSnhiN64E4Jp2o8yZRc8vhJJpbt25h8uTJ6NKlC3766SfOzmMISnhiElwNxDF5+0BSuOaWo2v4169fQyaToVy5cvDx8UGpUuJKMXFFQ8h7TN4+UPUL0wX3HpZlMX78eDx48ACBgYGoXr06Z+cyFCU8ETWTtw/YOpkmsAJs3LgRvr6+WLlyJbp06cLZeYxBCU9EzeTtA28SNLdlahgf3DsuX76MOXPm4KuvvsK8efNMemxTooQnomfS9oGkCM2tCa/hX716BXd3d9SpUwe7d+82eodXLlHCE2mpZtqqdm5uLoYNG4aXL18iLCwMFSqIdPzBW5TwRFpsTDtL7aeffsLZs2fh7e2Ntm3Fv1GleOsehHAhM17zYwJnz57FsmXLMHLkSIwfP94kx+QalfBEWhTXNLf2xm03FRsbi6FDh6JFixbYunWrIItZGIISnkhLta5GH0KpVMLd3R1KpRJ+fn6wt7c3QWD8oIQn0mLjaPQh5s+fjytXruDIkSNo0qSJCYLiD13DE2nJiNX8GMjX1xcbNmzArFmzdFNfzQmV8ERakq9rbh3qlPilUVFRGDduHD799FP88ssvJg6MH5TwRFqqdzfoZRkZGXB1dYWdnR3nO7xyiRKeSEupkjewsSyLyZMn486dO/D390ft2rU5CIwflPBEWjJiNLcOdfV+yfbt27F//34sW7YMPXv25CgwflDCE2lJvqm51TPhIyMjMWPGDPTu3Rvff/89h4HxgxKeSEsN/Uvo5ORkyGQyVKtWDfv37xf1pBh9UcITabHWb+VYtVqNkSNHIj4+HiEhIahcuTLHgfGDEp5IS3q05taxfpFPW7VqFU6ePImNGzfik08+4SEwflDCE7Nk8MKWKbc0t0UkfHBwMBYvXozBgwdj2rRpRkYqLpTwhBMmXWm2gGMbvLBljd5F/johIQFDhgxBkyZNsH37drOZFKMvSnhiclzvRGPUwpbWhQ+YUalUGDJkCF6/fo3z58+jbNmyJopYPMy/2ZEUSMi93gpKSFPSLmxpzaDkC1u+fqT5KcDixYtx8eJFeHt746OPPjJRtOJCJbwFEnqvN653ojFqYcvUO5rbsg3zPHzixAmsWrUKkydPxrBhw0wYrbhQwlsgofd643onGu05DDpuzb75Hnr06BFGjRoFZ2dnrF+/3gTR5cVle0ZJUcJbIDHs9cbVTjRGs8r7kX/z5g1kMhmsrKxw5MgRlC5d2qSnE7q29T5KeAvERwlrttIeaG7LNQYAzJw5E9evX8fJkydRr149k59O6NrW+yjhLZRoS1ihpd3T3JZrjN27d2PHjh1YtGgR+vXrx8npxFDbehclPJGWWprEvnnzJqZOnYquXbti2bJlnJ1ObLUtSngiLYwVUlNTIZPJ4OTkhEOHDum9w6uhjW9iqm1RwhNJYVOjMG7kN3j8+DGCgoJQrZp++8SLrfHNUDTwhuTxKikJ9+/fB6CZMSaXy/HggaahS6VSQS6X49EjzcAVpVIJuVyO6GjNhJSsrCzI5XLExGgWmcjMzIRcLkdsrGbRyPT0dMjlcsTHazaCSEtLg1wuR0KCZoPHlJQUyOVyJCYmAgAUCgXkcjlevnwJAEhKSoJcLkdSkmYgz8uXLyGXy6FQKAAAZyOiMPnn3xF88wkAzTBZuVyOtLQ0AEB8fDy+nT0DR//yx8qVK/HFF/pvHc31YCK+UMITHZc4oGuc0FEYJjImGVMPROLPf+MxYd/VAkcYXr16FRv3BmLgwIGYM2dOiY5v1Og+EWFYluXkwM7OzmxERAQnxybccNntAgAIHh0saByG2Bz0EGvPRkHNAtYM8G2vppjWtZHu9y9evEDbtm2Ra52LX/1+hUd7jxKfQ0wDaIrDMEwky7LO7z9O1/DEIhTV/aXd4TUpKQm+f/uiecPmBp1DTI1vhqKEJxahqO6vZcuWISAgADt37sSALqbbF94cUcITi1FQCXzmzBn8+OOPGDNmDMaOHQtlrhIAYFvENFlLRo12xGLFxMRg+PDhaNmyJTZt2gQA8H/oD/+H/gJHJhwq4YlFys7Ohru7O1QqVZ4dXltUbVHsa82pca6kKOEtiCV/UEtq7ty5CA8Px9GjR9G4cWPd4/UrFL14pbEDbMT+HlDCWwhLGQlmCj4+Pti0aRO+/fZbDBo0KM/vslRZAAC7UgUvV23M7DZzeA/oGt5CWMpIMGPdvXsX48ePx2effYaVK1fm+/25R+dw7tG5Ql9vzAAbc3gPqIS3EGKbhimE9PR0uLq6wsHBAYcPH4aNjU2+57Ss1rLIYxgzu62o90AsVX1KeAshtmmYfGNZFpMmTUJUVBTOnj2LWrVqFfi8uk7F7yln6ACbwt4DMVX1KeEtiCWMBDPUtm3bcPDgQfz000/o3r3wPeAzczIBAPY2Jd82Wh8FvQdiWvWGruGJ2bt69SpmzZqFL7/8EgsXLizyuecfn8f5x+d5ikxDTBNvqIQnZi0pKQlubm6oUaMG9u3bV+wOr62rt+Ypsv8R0+UWJTwRtaIau7Q7vD579gyhoaGoWLFiscerU74OV6EWSSyXW5TwRLSKa+xasWIFTp8+jc2bN6N9+/Z6HTNdmQ4AcLR15CRmsaNreCJaRfVrnz9/Hp6enhg6dCimTJmi9zGDooMQFB3ERbhmgUp4IlqF9WvHx8dj6NChaNq0KX7//fcS7fDatkZbrsI1C5TwIiaWwRpCKaixKycnB4MHD0ZGRgaCg4Ph6FiyqnmtcgX3z0sFJbxIiWmwhpDeb+xauHAhQkNDcejQITRr1qzEx0vL1ixoWa50OZPFaE7oGl6kjBmXLeRW0Vw6duwY1q5di2nTpmHIkCEGHePCkwu48OSCiSMzH1TCi5ShY+MttWbw4MEDjBkzBh06dMDatWsNPo5zzXzrOkoKJbxIGTpYQ0zDOE1Fu8NrqVKl4Ovra9QOrzXK1jBhZOaHEl7EDBmsYYmz5qZPn47//vsPp06dQt26xU9+KUpKVgoAwMnOyRShmR1KeAsjpmGcprBr1y7s2rULP/zwA/r27Wv08UJiQgAAA5pKc/VaSngLJJZhnMa6fv06pk2bhu7du2PJkiUmOWaHWh1MchxzRQlPOGXoWIKUlBTIZDJUqlQJBw8ehLW1tUniqeao3+aRlooSnnDG0B4DlmUxZswYxMTEIDg4GFWrVjVZTIo3mo0nK5YpfqKNJaJ+eMIZQ8cS/Prrr/jzzz+xatUqfPbZZyaNKfRpKEKfhpr0mOaESnjCGUN6DEJCQrBgwQK4urpi1qxZBp23qMuIjrU7GnRMS0EJLzF8js8vaY9BYmIiBg8ejAYNGmDXrl0lmhSjVdxlRBWHKiU+Jh/4el8o4SVEiFF4+vYY5ObmwsPDA8nJyfj7779RrpxhY92LG3iUlKm5rKhkL57xCXy+L3QNLyFiXjfd09MTQUFB2Lp1K1q2LHop6aIUt35cWGwYwmLDjA3XpPh8X6iElxCxjsI7deoUvLy8MH78eIwePdqoYxV3GdGpTiejjs+Fgt4Xrqr4DMuyJjvYu5ydndmIiAhOjk0MV9QHyWW3CwAgeHQwb/E8efIEbdu2Rd26dREWFoYyZcrwdm4xefd9AWB0FZ9hmEiWZfPNFKIS3gIVldRiGoWXnZ0NNzc3qNVq+Pn58ZLsLzNeAhBf492778vmoIecTYCihLcw5jQ9dvbs2YiIiMCff/6Jhg0b8nLOK3FXAIh7LD2Xl16U8BbGXKbHHjhwAFu3bsW8efMwcOBA3s772QemHcjDBS4nQFHCWxixNsy96/bt25g4cSI6d+4MLy8vXs9tLkNqubr0ooS3MGKfHvv69Wu4urqibNmy8PHxQalS/H4EE9MTAUh3Eg0lvAUSU8Pcu1iWxYQJE/DgwQOcP38eNWrwv/pMeHw4AHFfw3OJEp7wZvPmzTh8+DBWrFgBFxcXQWL4ou4XgpxXLCjhCS/++ecffPvtt+jfvz/mz58vWBxSXdpKi4bWEs69evUKbm5uqFWrFvbu3VvsDq9cSnidgITXCYKdX2hUwhNOqdVqDB8+HImJiQgLC0OFCsK2LUQ804z+pGt4Qjjw888/w9/fH9u2bUO7du2EDgdd6nUROgRBUcITzpw7dw5LlizB8OHDMXHiRKHDASDdLaa06BreSJa6rZOx4uLiMHToUDRv3hzbtm0zaDELLsSnxSM+LV7oMARDJbwRzGncOp9ycnLg7u6OrKwsHD16FA4ODkKHpHMt4RoA6e4iSwlvBHMZt863+fPn4/Llyzh8+DCaNm0qdDh5dK3fVegQBEUJbwRzGLfONz8/P6xfvx4zZ86Eu7u70OHk42hbsv3kLQ0lvBHEPm6db/fv38fYsWPRsWNHrF69WuhwChSbGgsAqFO+jsCRCIMS3khiHbfOt8zMTLi6usLW1ha+vr6wtbUVOqQCXX9+HQAlPDFjfC49XRCWZTFlyhTcvn0bZ86cQZ064k2m7g26Cx2CoCjhzZwYegp27NiBvXv3YsmSJejduzev5y4pext73s8p9BfyuyjhzZzQPQXXrl3DjBkz0KtXL/zwww+8nddQMSkxAIC6TsbtM68vMXwhv4sG3uhJrANsiluHnUvJycmQyWSoUqUK9u/fb7IdXrl0M/Embibe5O18YtsLgEp4PYjtW/pdQvUUqNVqjB49GrGxsbh48SKqVBHXKrCF6dmwJ6/nE1vXLSW8HoSuNhdHiJ6CNWvW4K+//sKGDRvw6aef8npuY9iVsuP1fGLruqWE14PYvqWFduHCBSxatAju7u6YMWOG0OGUSHRyNACgfoX6vJ1TTF23lPB6ENu3tJASEhIwZMgQNGrUCDt27BDNpBh93XpxCwC/CS8mlPB6EtO3tFBUKhU8PDyQmpqKc+fOoWzZskKHVGK9G4m725BrlPBEb99//z0uXLiAvXv3okWLFkKHYxBba3GOAOSL5BJeTIMgzEVkTDK89/nC+5dfMGnSJIwYMULokAz2SPEIANCwYt6traTyuZBUwou5e02sImOS4bb6OGJ2zEHp6o0wcvYSoUMCYHiC3nl5B0DehJfS50JSCS/27jUxCrn3DPF+mu2gqn79Hf59loFOAk9xNyZB+zbum+8xKX0uJDXSTshRaebq4p7VUCY+QpX+38K+ck1R/M2MGb1WyqoUSlnlLeek9LmQVAlP3Wsls3fvXhw/tAejp8yCs9tI0fzNjBkX8SDpAQCgcaXGusek9LnQO+EZhgkBUBaAimVZZ+5C4hZ1r+nnv//+w+TJk+Hi4oLtv63mfdPHohiToPde3QOQN+G1x5TC50Lvd5FlWWlvyiUhaWlpcHV1Rfny5XHo0CFRJbuWoQnar0k/DqIxH+J7J4mgWJbF+PHj8fjxYwQGBqJ69epCh2RSVoykmq3yKfZ/zzBMC4Zhwt6535ZhmPPchkWEEn8uHkeOHIGXlxc6d+4sdDgm8e7U5vtJ93E/6b7QIQlGn6+7OwAaMAyjnez8K4B5xb0oNTUV9+9r/rBqtRpyuRwPHmgaTFQqFeRyOR490gyCUCqVkMvliI7WTGzIysqCXC5HTIxmsYLMzEzI5XLExmoWIExPT4dcLkd8vGZDgbS0NMjlciQkaDYJTElJgVwuR2JiIgBAoVBALpfj5cuXAICkpCTI5XIkJWlad1++fAm5XA6FQgEASExMhFwuR0pKCgDN+HG5XI60tDQAQHx8PORyOdLT0wEAsbGxkMvlyMzMBADExMRALpcjKysLABAdHQ25XA6lUgkAePToEeRyOVQqFQDgwYMHkMvlUKvVADSLQcrlct3f8t69ezh16tT/3pA7d3DmzBnd/Vu3bsHf3193/+bNmzh37pzu/vXr13H+/P++o69du4bAwEDd/YiICAQHByP1YSoeHX6E7n27Y968eVCzasij5LqGLpVaBXmUXDd4RZmrhDxKrpuQkqXKgjxKrltkIjMnE/IouW7hyHRlOuRRct1GEGnZaZBHyXWbO6ZkpUAeJUdi+tv37Y0C8ig5Xma8fd8ykyCPkiMp8+37lvES8ig5FG/evm/piZBHyZGS9fZ9e52AdZcOYciOQKw9GwX3HSex6qI3ol5FQaqKrdKzLKtmGOY2gI8YhmkMIIZl2WsFPZdhmIkAJgIwm/nRRCMlJQVxv8fBqbITVm5aCYZhwLKs0GEZLep5GnJUFQEWYFVqlMptLNmNJAGA0edNZRjmZwBxAKYC6MOybLF79Tg7O7MRERHGR0g4l5ubi759++LChQs4cuQIvvrqK6FDMhntIB1tF54lj6J7F8MwkQX1punbaHcFwG4Am/VJdmJefvzxR5w7dw7bt2+3qGQHpNXHrg99E/4egGwAv3AYCxHA33//jeXLl2PUqFEYMWIElEqlaNeUN5RU+tj1oW8fxTcAFrIsm8FlMHwSalFKMS2G+fTpUwwfPhwtWrTAli1bcPbs2TyNf8TyFFnCMwzTEMApAKEsy+7hJyTuCTU7SkyzspRKJdzd3aFUKuHn5wd7e3uzneNO9FdkwrMs+wjAhzzFwhuhZkeJaVbW3Llz8c8//+DIkSNo0qQJAKB+fWku+yQlkhx2JNTsKLHMyjp8+DA2btyI2bNnQyaT6R7PysrSjR2QKjFdcnFBr245Q4i9W06oFU6EXlnl3r17aN++PVq2bIng4GDY2Njofqcd7DNggDT7qcV0yWUsY7vlLI5QLbdcnFffL5GMjAzIZDLY2dnh8OHDeZIdAFq2bGnSuMyNmC65uCLZhLcU+pZKLMti0qRJuHPnDs6ePYvatWvne07duvzstyZWUth/gBLezOlbKnl7e+PAgQNYvnw5evToUeCxtHMB7O3532GVa/rUgqQwSIcS3szpUypFRERg5syZ6NOnDxYvXlzosbQTbCztGr4k1+aWPkiHEt7MFVcqKRQKyGQyVKtWDfv374eVVeEdM61bt+Y6XEFI4dpcX5TwFqCwUkmtVmPkyJF49uwZLl26hEqVir4mrVOnDlchCkoK1+b6ooS3YL/88gtOnTqFTZs2oUOHDsU+Xzu/39HRkevQDGZIt6YUrs31RQlvgSJjkrH36Cls+v57DBkyBFOnTtXrdUFBQQDEew1vTD+5pV+b64sS3sJExiRj8LpTiN4+A6Uq1MLUH1bpvcNr27ZtOY4uv5KU2HQtbjxKeAsTev854o6uAJvzBlWHeuFmYja+aK7fa2vVqsVtcO8paYlN1+LGo4S3MBFHtyI77g6qDpgLh+r1SpQU2jX7ypUrx1V4eZS0xKZrceNRwluQP//8E/t+3wjZ8LFwGTupxElx4cIFAPxdwxtSYtO1uHEkO3nG0jx69Aht27ZFkyZNcOnSJZQuXbrEx9Cu+lujRg1Th1cooScTWSqaPGPB3rx5A5lMBmtraxw5csSgZAf4TXQtKrH5RQlvAWbMmIHr16/j5MmTqFevnsHH0a7D7+TkZKLIiNhIcgEMS/LHH39g586dWLx4Mfr1M27ftJCQEISEhJgoMiJGVMKbsRs3bmDq1Kno1q0bli1bZvTx9BmNpw+6LhcvSngzlZqaCplMhgtsyiwAACAASURBVIoVK+LQoUOwtrYu/kXFqFatmtHHsKRVYywRVenNEMuyGDt2LKKjo3H48GFUrVrVJMdVKBS6/fUMVVDfOhEPSngztG7dOhw7dgy//PILPv/8c5MdNzQ0FKGhoUYdQywLdZKCUT+8mbl06RJcXFzw1Vdf4ejRo3qPk9eHdnddYzcCpWt44RXWD08Jb0ZevHiBNm3aoEyZMoiMjET58uWFDomIFA28MXO5ubkYOnQoFAoFrly5wkmyJyVprreLWyiDmC+6hn9L7BsQLF26FOfPn8eWLVvQqlUrTs4RFhaGsLAwTo5NxIFKeIi/K+nMmTP46aefMHbsWIwZM4az83Tq1Mkkx6FrePGihIe4F1aIiYnB8OHD0apVK2zatInTc5miKm/qL0/68jAtSniId2GF7OxsuLm5QaVSwc/PD2XKlOH0fKZopTfll6fYa17miBIe4l1YYc6cObh69SqOHTuGRo0acX6+K1euADBuPrwpvzzFXPMyV5Twb/ExTbMk1dODBw9i8+bNmDNnDv7v//6P07i0PvvsM6OPYcovT7HWvMwZ9cPzpCTV0zt37qBDhw5o06YNAgMD8236KCV0DW8Y6ocXmL7V0/T0dMhkMjg4OBS4wyuXEhMTAZhmEo2p0AIZpkX98DzRZ4w5y7KYMGECoqKi4OPjg5o1a/IaY3h4OMLDw3k9J+EXlfA80efaduvWrfDx8cHPP/+Mrl278h7jF198wfs5Cb/oGl4kwsPD8fnnn6NXr17466+/itz0kZDiFHYNT58qEUhKSoKbmxtq1qyJvXv3CpbsCQkJupVriWWiKr3A1Go1RowYgefPnyM0NBQVK1YULJaIiAg8fJEO2wbtqVXcQlHCC8zLywtnzpzBli1b4OycrwbGq3L1W2JLSARyH0bRyDYLJbkqvZhmxQUEBMDT0xPDhg3D5MmThQ4Ht17mINfajpansmCiL+FNOfBCTGOz4+PjMXToUDRr1gzbtm0z6co1hmpgnw0mUwFr+4o0ss1CiSrh309uUyeoWMZm5+TkYPDgwcjMzISfnx8cHR15j6EgqhePMb1lKdg2aErX8BZK8ITXJnkFe1ssP3k7T3KbOkHFMjb7u+++Q2hoKA4dOoRmzZqZ/PiG1oq6du2KroBovoCI6Qma8O+W4FYMAzXL5kluUyeoGGbFHT16FL/++iumT5+OIUOGmPz4xtSKKNEtn6AJ/24JDpaFlRUDBqwuublIUCHHZj948ABjxozBJ598grVr13JyDmNqRbGxsQCAOnXqcBIbEZ6gCf9+Ce7Z/yMkZyrzJLelTJ7IzMyETCaDjY0NfH19YWtry8l5jKkVXb9+HQAlvCUTNOHFUMXmA8uymDZtGv777z+cPn0aH3zwAWfnMuZv2r17d87iIuIgeKOdpZTgRdm1axd2794NT09P9OnTh/PzGfo3tbe35yAaIiaSG3jDt+vXr2PatGno0aMHPD09hQ6nSDExMYiJiRE6DMIhwUt4c1LS7q6UlBS4urqicuXKOHjwoEl2eOXSzZs3AQB169YVOBLCFUp4PZW0u4tlWYwePRpPnz7FhQsXjN6vjQ89e/YUOgTCMarS66mk2yCvXbsWJ06cwOrVq022wQPX7OzsYGdnJ3QYhEOU8HoqyTbIFy9exHfffQeZTIZvvvmGxyiNEx0djejoaKHDIByiKr2e9O3uev78OQYPHowGDRpg586dopgUo69bt24BAOrXry9wJIQrlPAlUFx3l0qlgoeHB1JTU3H27FmUK1eOx+iM17t3b6FDIByjhDchT09PBAcHY/fu3fj444+FDqfEuBr9R8TDrK7hxbR4xftOnjyJFStWYMKECRg1apTQ4Rjk0aNHePTokdBhEA6ZTQkvpsUr3hcdHY0RI0agTZs2+O2334QOx2B37twBADRs2FDgSAhXzCbhxbJ4xfuysrIgk8nAsiz8/PzMulurb9++QodAOGY2CS+WxSveN3v2bFy7dg0nTpxAgwYNhA7HKKVKmc3HgRjIbN5hMc6s279/P7Zt24b58+fjq6++Ejocoz148AAA0LhxY4EjIVwxm4QHxDWz7tatW5g0aRI6d+6Mn3/+WehwTOLevXsAKOEtmVklvFi8fv0aMpkMZcuWhY+Pj8VUhfv16yd0CIRjlvFJ5RHLshg/fjwePHiA8+fPo0aNGkKHZDK0n53lk+w7bGif/qZNm+Dr6wsvLy+4uLhwE5xA7t+/j/v37wsdBuGQJEt4Q/v0r1y5gjlz5mDAgAGYN28eD5HyKyoqCgDQpEkTgSMhXJFcwkfGJGN9wH1k56jBQv8+/VevXsHd3R21a9fGnj17LLL6O2DAAKFDIByTVMK/W7Kz0FzP6NOnn5ubi2HDhuHFixcICwtDhQrG9xSYcgstIc9BzIukEv7d0XpWDPBZo8qY1aNJscnw008/4ezZs/j999/Rtm1bo+PgY5iwIefQdst9+OGHJo2FiIfl1UuL8O4iFralrPRK9rNnz2LZsmUYMWIEJkyYYJI4Srp6Dl/noMkzls+iSvjiqrAlHa0XGxuLoUOH4qOPPsLWrVtNtpgFH8OEDTkH9cNbPoZlWU4O7OzszEZERHBy7IKYupqsVCrRpUsX3L59G1evXkXTpk1NGC1dwxNuMQwTybKs8/uPW0wJb+rZdPPnz8eVK1fg6+tr8mQH+BkmXNJzaKfHNm/enKuQiMAs5hq+JItMFufIkSPYsGEDvvnmG7i5uZkwSv4YMrCoJBtRiHkxElI4i6nSA6apwkZFRcHZ2Rkff/wxgoODBV32ydD/D9e9AAf/eQrPE7egZlnRLUZCNCy+Sg8YX03OyMiAq6sr7OzscPjwYcGT3dCk5XKxkMiYZHieuAWVWlNQKEW0GAkpnsVU6bUMrWqyLIspU6bgzp07OHDggOBbJhvTdWfo5c2tW7d0S1UXFVeu+n+1QiuGEc1iJKR4FlXCG1Mqbt++Hfv27cPSpUvRq1cvjiMtnjFdd4YuFhIfHw8AaNGiRZFxlbaxgjJHDSsrBssHtqDS3YxY1DX85qCHWHs2CmoWsGaAb3s1xbSujYp9XWRkJDp16oSuXbvi9OnTohknL9ZuNbHGRf5HEtfwhpSKycnJkMlkqFq1Kvbv3y+aZAe46bozRbKKaeUhUjIWlfAlrcqq1WqMHDkS8fHxuHjxIipXrsxTpMIo7pJHu110y5YthQqRcMyiEh4oWemzevVqnDx5Er/99hs6duzIcWTCK671PjExUcDoCB8sLuH1FRwcjEWLFsHd3R3Tp08XOhxeFHfJQ/vDWz6LarTTV0JCAtq0aQMnJydcvXoVZcuWFTok3lCDmzRIotFOHyqVCkOGDMHr169x/vx5SSU7UPQlz/Xr1wEArVu35jMkwiPJJfzixYtx8eJF7Nu3Dx999JHQ4YhKUpLp5+UTcZFUwp84cQKrVq3C5MmTMXz4cKHDEZ3u3bsLHQLhmHg6nY2gz3Dax48fY9SoUWjXrh3WrVvHY3SEiIfZl/D6DKfV7vBqZWWFI0eOmPUOr1y6du0aAJhk3T4iTmZfwuszyWTmzJn4999/sXfvXtSvX1+AKAsnpnnlKSkpSElJEToMwiGzL+GL61ves2cPtm/fjoULF6J///4CRVkwPlavLYlu3boJdm7CD7NP+KKG0968eRNTpkxB165dsXz5cgGjLBiX89YJKYjZJzxQcN9yWloaZDIZnJyccPDgQVHu8MrH6rUloR0o5eycb7wGsRDiywITYFkWY8eOxePHjxEYGIjq1asLHVKBDJ23zpX09HRBz0+4Z5EJv2HDBhw9ehSrVq1C586dhQ6nSGKaamppu+GS/My+lf59YWFhmDdvHr7++mvMnTtX6HAIERXBE96U3VIvXryAu7s76tatiz/++MNkO8UYSkxdbvoIDw9HeHi40GEQDglapTdlt5R2h9dXr17hypUrcHJyMnG0JSO2Ljd9ZGVlCR0C4ZigCW/Kbqnly5cjICAAO3bsEMVsL3PschN7ewcxnqBVelPtFvP333/jxx9/xOjRozF27FgTR2kYU+6EQ4ipCL4AhrELMjx9+hRt2rRB7dq1cfnyZdjb2xsSLifMbbGJK1euAIAklvuydKJdAMOYbimlUgk3Nzfk5OTAz89PVMkOiKvLTR8qlUroEAjHBE94Y8yZMwfh4eE4evQoGjduLHQ4Zu/zzz8XOgTCMcG75Qzl4+ODTZs24dtvv8WgQYOEDocQs2CWCX/37l2MHz8enTp1wsqVK4UOx2KEhYUhLCxM6DAIh8wu4dPT0+Hq6gp7e3v4+vrCxsZG6JAIMRtmdQ3PsiwmT56Me/fu4dy5c6hVq5bQIVmUTp06CR0C4ZhZJfy2bdtw4MAB/Pjjj7TgIiEGMJsq/dWrVzFr1iz07dsXixYtEjoci3Tp0iVcunRJ6DAIh8yihFcoFHBzc0P16tWxb98+Ue3wWhhzG3QDQJSLhBDTEv07rFarMWLECDx79gyXLl1CpUriH6JqjhNnABphJwWiLypXrlyJ06dPY/369ejQoYPQ4ehFn5V0CRGCqBM+MDAQP/zwAzw8PDBlyhShw9GbuU6cuXjxIi5evCh0GIRDoq3Sx8fHw8PDA02bNoW3t7fgi1mUhNjWqtMXbdBh+USZ8Dk5ORgyZAgyMjIQHBwMR0dHoUMqMVNMnOG74c9cLpmI4USZ8AsXLsSlS5dw4MABNGvWTOhwBGGuDX9E3ER3DX/s2DGsXbsWU6dOxdChQ4UORzBCNPwFBwcjODiY8/MQ4YiqhH/48CHGjBmD9u3b49dffxU6HEEJsUmFOV46kZIRfMUbrTdv3uDTTz/F06dP8e+//6Ju3bqcxGVOzHHwDhEH0a54ozV9+nTcuHEDp06domR/y9xWzCHiJ4pr+F27dmHXrl34/vvv8eWXXwodjmQFBgYiMDBQ6DAIhwQv4a9fv45p06ahe/fuWLp0qdDhSJrQa/kT7gma8KmpqZDJZKhYsSIOHjwIa2trIcORvLZt2wodAuGYYAnPsizGjBmDJ0+e4MKFC6hatapQoRAiGYIl/K+//orjx49j7dq1+Oyzz4QKg7zj/PnzAECLi1gwQRL+0qVLWLBgAQYNGoTZs2cLEQIpgDlMPSbG4T3hExMT4e7ujvr162PXrl1mNSnG0olhTz7CLV4TPjc3Fx4eHkhOTsaZM2dQvnx5Pk9PiOTxmvBLlixBUFAQ/vjjD7Rq1YrPUxM9nDt3DgDQs2dPgSMhXOEt4U+dOoWff/4Z48aNw+jRo/k6LSmBatWqCR0C4RgvY+mfPHmCtm3bom7duggLC0OZMmU4OSchRKOwsfScD63Nzs6Gm5sb1Go1/Pz8KNkJERDnVfrZs2cjIiICx48fR8OGDbk+ndkR04w4f39/AEDv3r0FjYNwh9OEP3DgALZu3Yq5c+fi66+/5vJUZklsq9rQ1l2Wj7OEz8rKwsSJE/HFF1/Ay8uLq9OYhcJK8YJWtREy4Vu0aCHYuQk/OEv4R48eoXz58vDx8ZH0Dq9FleJCrGpDpI2zhM/OzsahQ4dQs2ZNrk5hFooqxcW2nPWZM2cAAH379hU0DsIdzhL+448/RteuXbk6vNkorhQX06o2tNKQ5eMs4cVQjRdDC7jYSvGiNG/eXOgQCMcEX/GGK2JqARdTKU6kTRRr2nGBNnQsuVOnTuHUqVNCh0E4ZLElPLWAlxwNjLJ8Fpvw5nTtLBYffvih0CEQjllswgPmuaEjIVyy6IQ3lpga/vggl8sBAAMGDBA4EsIVSvgiiG3oK9eaNm0qdAiEYxaZ8Kaqhkut4a9JkyZCh0A4ZnEJb8pquNQa/tRqNQDAyspie2slz+IS3tTVcCkNmtH2wdM1vOWyuISXWjXclKhbzvJZXMJLrRpuSo0bNxY6BMIxi0t4wLBqOPW3AyqVCgBQqpRFfiwILDThS0pq/e2F0c6Hp2t4y0UJD+n1txeGpsdaPkp4UEOfFk2esXyU8KCGPi2lUgkAsLW1FTgSwhVK+Lek1N9eGO269HQNb7ko4YkOLVNt+SjhiU79+vWFDoFwjAZNE52srCxkZWUJHQbhECU80Tl37pxuj3himahKT3RatmwpdAiEY5TwRIc2orB8VKUnOpmZmcjMzBQ6DMIhSniic/78eZw/f17oMAiHqEpPdFq3bi10CIRjlPBEp06dOkKHQDhGVXqik56ejvT0dKHDIByihCc6QUFBCAoKEjoMwiGq0hdCiivgtG3bVugQCMco4Qsg1RVwatWqJXQIhGNUpS+AVLeaTktLQ1pamtBhEA5RwhdAuwKONQNJrYBz4cIFXLhwQegwCIeoSl8Aqa6A4+zsLHQIhGOU8IWQ4go4NWrUEDoEwjGq0hOdlJQUpKSkCB0G4RAlPNEJCQlBSEiI0GEQDplNlV6K/eJ869Chg9AhEI6ZRcJLtV+cb9WqVRM6BMIxs6jSS7VfnG8KhQIKhULoMAiHzCLhpdovzrfQ0FCEhoYKHQbhkFlU6aXaL863jh07Ch0C4ZhZJDwgzX5xvlWpUkXoEAjHzKJKT/iRlJSEpCRqH7FklPBEJywsDGFhYUKHQThkNlV6Y1E/fvE6deokdAiEYxaZ8O8nN/Xj66dSJer9sHS8JnxOTg7i4uI43b9MqVIjJT0bTUsDKc/ScCPtGXJVudjUtxpYAAyAXEUs7mY+5ywGc5WbmwsAsLa2FjgS4dnZ2aF27dqwsbEROhST4jXh4+LiULZsWdSrVw8Mw3ByjhdpWbBKy9Ild7VydnAoXQrRrzLAsiwYhkH9yg5wKG2RlRujaCfOODk5CRyJsFiWRVJSEuLi4ixuR11eP/VZWVmcJjsAOJQupTn+2+R2KF0KDqVLoX5lB2Rkq3T3SX6Ojo5ChyAKDMOgUqVKePnypdChmBzvn3wukx1AoclNiV68UqXo76PF9edUKBbZLedQuhSqvq3Ki0V2drag2zhlZGQA0Kw9//x5we0XOTk5yMnJMfpcfO5Pp70Mefr0KW/nNGcWmfBFqVKlCnr06FHgT/PmzXXP69+/PwDAxcVF99OxY0fMmjWrwOOuX78ePj4++R5/+PAh+vXrh0aNGiEgIAD79+9H8+bNdcccNGhQobGOHj0ajx49wowZM3QNaoVJSUnBrVu3dM8bMmQIXFxcdPF+/fXXePPmDQ4ePIjjx4/n+X9qYwkICEDfvn11f4+aNWsWuSDG69evcffu3XwJPmnSJNy9exfXr1/PN79epVJBoVDg3r17CAwMLHDji++//x63bt0CoGn3Wb9+PdavX48TJ07keV5UVBTGjRsHAPD29oafn1+RfyNiod1yRWnVqhUCAgIK/F2PHj0AaBJNa+bMmbrSQ6FQ6FZ1/fvvv7Fy5Urd8+Li4mBra4tt27bpHvP09ISLiwuOHTuGwYMHY8WKFfjzzz/h6emJIUOGAIDutiDly5dHZmYmunbtimvXrqF9+/YICQnBmTNn8OzZM6jVatjY2ODYsWNo2LAhOnTogNWrV+PZs2d59ol7+vQpRo8ejdu3b+PUqVM4ePCg7nelSpVCcHAwdu/ejczMTDg4OOgSS/t3uHHjBo4ePYr4+HgolUrY2dnh9OnTKF++PDp16oRly5bB3t4eBw8exOXLlxEXF4fu3btDJpNhzJgxusbSnJwcdOvWDTVq1EC5cuXw999/49y5c2jWrBkAYNOmTVixYgXq16+P06dPIyMjA4sXL4ZSqUS3bt2wZ88eDBw4UBf7okWLsGjRIt2/e/fuDWdnZ9SrV6/Qv6nUSS7hAeD58+cYMmSI7po1Jycnz2qt2m5DpVKJ3377Lc/j2gkmffr0QZ8+fQAAV69ehZ+fH3755Zd85zp79ixWrVqFmzdvokePHvjiiy8QGxurKzm1JfL169fz1R6ePn2KoKAgVKxYEYCmFlG9enW4urriww8/hLW1NUaMGAFfX1+4uLjgl19+QWZmpq4Wo3X9+nVs374dTk5OSExMRPfu3eHr64sPPvggz/msra2hVCoxefJkAMDly5cBAJUrV8aXX36JZs2aoWzZspgwYQLWrFkDV1dXeHt760r4Ll26oFu3bqhatSrc3NzQtGlTrFixAu3atcOCBQtgY2ODkJAQKBQKTJ8+HSEhIXlawadPn44HDx5g3rx5OHr0KD7++GNYWVlBoVBALpdj2rRpuudu3boVjRo1Qrt27QAA9vb28Pb2hpubG3x8fNCwYcNC338pEzThXXa7mPR4waOD9XpeVlYWWrRogU2bNgH4X/X9XQzD4O7du5g7d26+3z19+jRPsrx+/Rq+vr74559/dI/t3bsXH3zwAXr16oUmTZqgZ8+eCAgIgEKhwJ07d3TP69KlCwDNzq3BwXnj37VrF2xsbDBixIgC/x8LFizA2LFj0bNnT0yZMgWdO3dGUFAQ3N3dsWbNGjx//hytW7dGjx49MHr0aF2JPXfuXCiVSgCaLwMXFxc8f/4cP/74I2xsbHQ1l6lTpwLQbFCh3aRi69atcHZ2hoeHB5YvX446deogMDAQjRs3xpIlSxAVFYXSpUujXr162Lp1KwICAlC9enVdzLGxsXB1dUX9+vUxffp0NG7cGN999x2qV6+OnTt34smTJ5g9ezZu376NgQMHwsnJCaVLl8bFixd178XWrVuxc+dO2NnZwcXFJc/fRFuzCAkJoV6HAkiyhC+OtbU1GIbBunXr0L9/f1hbW2Pz5s2YNWsWbty4gbi4OF0pCGg+xL/99hsGDBgAABg1ahTUarXu9wcPHsSbN28wf/58KBQKPHz4EM+fP9clwqpVq9ChQwdMmzYNN2/exOPHj9GsWTN8+eWXSE1NLTTOwMBAXa1i5cqViI6O1lXle/XqhbS0NN3gEX9/fyQkJECpVOL27du6wTWtW7fGn3/+id27d0OpVCI3Nxd2dna6v8P7/Pz8dG0ACxcuxNWrV3VDcr29vWFlpWkWSkpKwo4dOyCXyzFhwgQAQHh4OMaPH49x48Zh0KBBqFq1Kvz9/eHq6orQ0FAMHjwYrq6uec4XHh6OO3fuYOnSpZg/fz62bt2KTz75BGPHjkXp0qWxefNmVKhQAUOHDsXhw4eRlJSE8PBwixswYyqCJry+JTIXTpw4gXv37gHQXKO+68CBA+jduzeGDBmCbdu2QaFQ4P79+1i9ejVq1qyJ7777Ls/zr1y5gmXLlunuZ2Zm6koXhUKBqKgoODs7o0yZMli1ahUqVqwImUyWr5Fp8+bNiIuLw9KlS7Fjxw4olUp8/fXXhf4fUlNTkZOTAxsbG5QvX16X7Lm5udi7dy8AoHr16vDx8YFCoQDDMPDx8cGZM2cKPF6ZMmWQkZGRr0r/rpycHKSmpqJcuXKwsbHJM/7+yZMnSEpKQvv27fH8+XM8efIEfn5+GDt2LKytrXH8+HGcPHkS/v7+CA8Px6BBg/DVV19h8eLFADTjAD744AM0aNAAAODg4IB58+YB0NSEtM97dw+8yMhIzJ49G4Bm5xxHR0dK9iJIrpUeAOrVq4fY2FgEBAQgICAg3wCLp0+fomzZsujTpw/s7Oxw9uxZ9OnTB/7+/nBwcECrVq10z01KSkJmZiaqVq2qe0yhUOhGqx07dkyXQMuWLcPOnTvh4uKCCxcu6FrHC6JSqRAbGwsnJyc8fPgQMTExiIuLy/OcQYMGYfr06UhOTs7zOMuyqF27NoKDg3XtFGFhYbrLEJZldV8I0dHR6NGjB/bv34/KlSvDxsYGu3fvxu7du/H555/ni2vo0KGYPn06EhIS8v2udOnSWL58Od68eYOPPvoIW7duxdWrV3U1hRUrVkAul6N06dLIzs7GokWLsH37dnz88ce6Y3To0AHBwcEIDg5GmTJlAAAvXrzA0qVL8/VUKBQK3LhxQ/f6pKQkyY8SLI7kqvQ3btzI06D1rmfPngHQJOawYcPy/E6lUqFPnz7o2rVrnsemT5+uK3kATTK9fv1al2ijR4/OM6Bl3rx5mDdvXr4SPjk5GTt27EBkZCQiIiIwatQo9OzZEwsWLMDMmTPx5ZdfomrVqnB3d9e9xsvLC2vWrEHnzp2Rk5ODwMBA1KxZEwBw7tw5uLi4IDk5GXK5HAEBAVi3bh0ATc3A398fI0eOzFO72bt3Lzp37pzn//K+yZMnw8bGBv3790daWhoOHTqk27GmVq1aGDFiBHr37g2VSgWGYfDjjz+iW7duutd369YNU6ZMgZWVFV69egU3Nzf88ccfut9fvnxZ9yWovbSoWrUqRo0aladmlZ2djWHDhsHLy0v32KNHj/K8P6QALMty8tOuXTv2fXfu3Mn3GN+6d+9e5O9SUlJYmUzGqtVqlmVZ9sWLF+ybN2/YUaNG5XluTk4O26tXL/b48eMsy7KsUqlkP/roI7Zp06bs7Nmz8x174MCBbFxcHNulS5d8Pzt27GCzs7PZ48ePs0+ePMn32j179rANGjRgU1NTC409MzOTValUutiGDRum+92MGTPYsLAwlmVZ9v/+7//YFi1asFu2bMn3+o4dO7JxcXHs7du32datW7OtWrVic3JyCj1ndnY2m52dXejvc3NzC/1dYVxdXfP8OygoiF23bl2e5yQkJLBt27Zl9+3bx7Isy06YMIFt27Yt26hRIzY9Pb3E5yyMGD6vhgIQwRaQlwxbwLe4KTg7O7MRERF5Hrt7966uz1XM2Lf9xsVJS0tDuXLleIiIH1lZWbCxsRF0tlxWVpauZAc07RHa8QbvSklJ4bz6bi6f14IwDBPJsmy+zQJFWaXPyFYJOtFF33HUlpTsAPIkmlhisLa2LvALiK7VDSO6hE9Kz8azlCywYGFFU1l5pe2bt7W1FTgSwhVRtdJnZKt0yQ5oqtYZ2SqBo5KOzMxMXie+EP6JLuGBd9sUGIsp3c1htlzZsmVRtmxZo88lxi+NtLQ0sCyLnJycQv//UiCqhNcuXsEAYMCgppPpp7jSbLnCZ8tdvnwZ/fr143S2J6U8nwAABghJREFUHACcPn06zwQeQ6lUKshkMt19Pz8/rF+/Hhs2bMiX1FOnTsWNGzeQkpICDw+PYv+elkpUxScfK9PQbLnCZ8slJCTA1tYWf//9d56/g6lmy2mdOXMG7dq1w8WLF9G5c2dcu3ZNN3ru1atX2L59OxYuXJjnb5GUlKRbZDM9PR1dunRBRkYGKlWqhBo1amDKlCm4du0a9u/fj3HjxmHw4MG61167dg2ZmZm6v8moUaOwYMECrFmzptC/vaUSVcID/KxMQ7PlCp4tp1QqkZmZydlsuQ0bNsDPzw/37t1DmTJl4OTkBJVKhdWrV6NJkyZYtmwZVCoVLl68mCfh09PT0a1bNwQEBKBKlSpwdHSEv78/Fi9ejC1btsDNzQ2enp74+uuvoVarUb58ed08heTkZMycOTNP7Wv06NGYMmUKlixZgqVLl1rs6jYFETbhA1xMe7wewXo9jWbLFTxbzsvLCw4ODpzNlvvmm29Qv359XLt2DUuXLgUAbN++Hb///jvmzp2LmzdvokGDBnj9+nWe/6ejoyM8PT0xc+ZMHDp0CNHR0di5cyeCg4MxdepUvHz5EitWrACg+YLVTrl9+fIlBgwYAAcHBwwfPjzPMe3s7GBtbY1Vq1ZhwYIFBf59LZHoSngxkOpsOSsrKzAMw9lsuZycHHh5eeGvv/7SHS80NBRffvklvL29dY8VtAqOq6srVq9ejaioKDRs2BBz587N82VsZWWFf/75B66urujfvz9iYmJQq1YtbNy4Ee3btwcAfPbZZ7rdcbt06YJNmzaZZEkvcyJswutZInOBZsvll5OTg+TkZM5myy1atAgDBw5E1apVsXHjRgQEBODOnTt4/PixrgYBABUrVoRCoYCtrS3++usvDB06FICmhnDy5EnMmTMH3t7e8PX1haOjI549e6Ybj88wDMaMGYM///wT33zzjS7Znz59mmdevvYLWWoz60TVSs8Xmi1X8Gw5e3t7WFlZcTZbrk+fPpg7dy6CgoLw8OFD7N69G+3bt8eoUaMwZ84cXduJm5sbvL29sX379jyt7R4eHpgzZw4ATcJu27ZNV63XDhE/dOgQjhw5km8XnW3btuVp0VeppDm+Q3JVepotV/hsuf379+f52xQ0z8KY2XLdu3cHoCmFs7KyYGtri6SkJJw/fx5r1qzBlStX4OLigokTJ2LcuHG64xdm0qRJKFu2LOLi4rB7924Amqp/z549UblyZd3z/P39ERERgeXLlwMA4uPjpTs0t6AZNab4odlyeZnDbLnPP/+cTU9P52W2nLe3N9u/f3/2hx9+KPQ5RVmxYgV79epVlmVZdt26dWxISAg7cODAfM/z8vJi+/Xrx7548YK9ceMG26JFC7ZBgwb5ZuAVRAyfV0OBZsvpj5XobLnXr1/DxsZGFJNoipOTkwNra2tdIyGQf6YdYNysOnP5vBaksNlykryGL45UZ8vl5uZyutGnKdnY2ORJdqDg2X6SrboXQnLX8KRw5cuXFzoEwjHeS3iuLiGI8RiGkdSos6JY6ueU14S3s7NDUlKSxf4xzV1WVpbZVOm5xL7dLtoc2jJKitcqfe3atREXF2eR2/BaAu2YeHt7e4EjEZ6dnR1q164tdBgmx2vC29jY5NlaiIiLdvTZ+41hxHJQox3RoUS3fPQOE5379+/j/v37QodBOEQlPNGJiooCADRp0kTgSAhXOBtpxzDMSwAxnByccKkygFdCB0GMVpdl2SrvP8hZwhPzxDBMREFDMolloGt4QiSEEp4QCaGEJ+/zLv4pxFzRNTwhEkIlPCESQv3wRIdhmBAAZQGoqKXeMlGVnhAJoSo9IRJCCU8AAAzDBDEM0/Ptv39iGGaj0DER06NreKK1BMByhmGqAmgD4CuB4yEcoGt4osMwzAUAjgBcWJZ9XdzzifmhKj0BADAM8zGAGgCUlOyWixKegGGYGgAOABgIIJ1hmD4Ch0Q4QgkvcQzD2AM4BmAOy7J3AfwIzfU8sUB0DU+IhFAJT4iEUMITIiGU8IRICCU8IRJCCU+IhFDCEyIhlPCESAglPCESQglPiIT8P9HuF4A/oEpYAAAAAElFTkSuQmCC\n",
          "text/plain": "<Figure size 288x576 with 1 Axes>"
         },
         "metadata": {
          "needs_background": "light"
         },
         "output_type": "display_data"
        }
       ]
      }
     },
     "f4590f16575342fdb690ea4e6b5614d4": {
      "model_module": "@jupyter-widgets/base",
      "model_module_version": "1.2.0",
      "model_name": "LayoutModel",
      "state": {}
     },
     "fe5c4f64fd904221b4dd96df468fefff": {
      "model_module": "@jupyter-widgets/controls",
      "model_module_version": "1.5.0",
      "model_name": "SliderStyleModel",
      "state": {
       "description_width": "7em"
      }
     }
    },
    "version_major": 2,
    "version_minor": 0
   }
  }
 },
 "nbformat": 4,
 "nbformat_minor": 4
}
