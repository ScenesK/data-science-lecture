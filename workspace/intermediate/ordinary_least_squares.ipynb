{
 "cells": [
  {
   "cell_type": "code",
   "execution_count": 1,
   "metadata": {},
   "outputs": [],
   "source": [
    "import numpy as np\n",
    "import pandas as pd\n",
    "from sklearn.datasets import load_boston\n",
    "from sklearn.linear_model import LinearRegression\n",
    "from IPython.display import display\n",
    "pd.set_option('max_rows', 5)\n",
    "%matplotlib inline"
   ]
  },
  {
   "cell_type": "markdown",
   "metadata": {},
   "source": [
    "## 最小二乗法\n",
    "---\n",
    "残差の二乗和 $\\displaystyle \\sum ^{n}_{i=1} e^{2}_{i} =\\sum ^{n}_{i=1}\\left( y_{i} -\\hat{y}_{i}\\right)^{2}$ が最小になるように係数を決める方法。  \n",
    "いくつかの重要な性質を持つ。"
   ]
  },
  {
   "cell_type": "markdown",
   "metadata": {},
   "source": [
    "## 単回帰方程式の解\n",
    "---\n",
    "単回帰方程式 $\\boldsymbol{y} =a+b\\boldsymbol{x}$ の回帰係数 $a,b$ の解は、 $x$ の分散 $V( x)$ と $x,y$ の共分散 $Cov( x,y)$ を用いて $\\displaystyle a=\\overline{\\boldsymbol{y}} +b\\overline{\\boldsymbol{x}} ,b=\\frac{Cov( x,y)}{V( x)}$ と表される。\n",
    "\n",
    "$a=\\overline{y} -b\\overline{x}$ を $\\hat{y} =a+bx$ に代入して整理すると、$\\hat{y} -\\overline{y} =b\\left( x-\\overline{x}\\right)$ となる。つまり、最小二乗法で決定された回帰直線 $\\hat{y} =a+bx$ は**データセットの中心 (平均) である $\\left(\\overline{x} ,\\overline{y}\\right)$ を通る**傾き $b$ の直線。"
   ]
  },
  {
   "cell_type": "markdown",
   "metadata": {
    "solution2": "hidden",
    "solution2_first": true
   },
   "source": [
    "###### 証明"
   ]
  },
  {
   "cell_type": "markdown",
   "metadata": {
    "solution2": "hidden"
   },
   "source": [
    "残差二乗和 ${\\displaystyle S=\\sum_{i=1}^{n}e_{i}^2}$ を最小化するための回帰係数 $a, b$ を求めるには $S$ を $a, b$ で偏微分した\n",
    "\n",
    "$\n",
    "\\begin{cases}\n",
    "    \\displaystyle \\frac\n",
    "        {\\partial S}\n",
    "        {\\partial a}\n",
    "    & \\displaystyle =\\sum ^{n}_{i=1}\\{2a-2( y_{i} -bx_{i})\\} & \\displaystyle =-2\\sum ^{n}_{i=1}( y_{i} -a-bx_{i}) & =0 & \\cdots ( 1)\\\\\n",
    "    \\displaystyle \\frac\n",
    "        {\\partial S}\n",
    "        {\\partial b}\n",
    "    & \\displaystyle =\\sum ^{n}_{i=1}\\left\\{2x^{2}_{i} b-2( y_{i} -a) x_{i}\\right\\} & \\displaystyle =-2\\sum ^{n}_{i=1}( y_{i} -a-bx_{i}) x_{i} & =0 & \\cdots ( 2)\n",
    "\\end{cases}\n",
    "$\n",
    "\n",
    "を解けば良い。\n",
    "\n",
    "$(1)$ より\n",
    "\n",
    "$\n",
    "\\displaystyle \\begin{aligned}\n",
    "    -2\\sum ^{n}_{i=1}( y_{i} -a-bx_{i}) & =0\\\\\n",
    "    \\sum ^{n}_{i=1} y_{i} -\\sum ^{n}_{i=1} a-b\\sum ^{n}_{i=1} x_{i} & =0\\\\\n",
    "    n\\overline{y} -na-nb\\overline{x} & =0\\\\\n",
    "    a & =\\overline{y} -b\\overline{x}\n",
    "\\end{aligned}\n",
    "$\n",
    "\n",
    "これを $(2)$ に代入して\n",
    "\n",
    "$\n",
    "\\displaystyle \\begin{aligned}\n",
    "    -2\\sum ^{n}_{i=1}\\left\\{y_{i} -\\left(\\overline{y} -b\\overline{x}\\right) -bx_{i}\\right\\} x_{i} & =0\\\\\n",
    "     & \\\\\n",
    "    \\sum ^{n}_{i=1}\\left\\{\\left( y_{i} -\\overline{y}\\right) -b\\left( x_{i} -\\overline{x}\\right)\\right\\} x_{i} & =0\\\\\n",
    "     & \\\\\n",
    "    b\\sum ^{n}_{i=1}\\left( x_{i} -\\overline{x}\\right) x_{i} & =\\sum ^{n}_{i=1}\\left( y_{i} -\\overline{y}\\right) x_{i}\\\\\n",
    "     & \\\\\n",
    "    b & =\\frac\n",
    "        {\\displaystyle \\sum ^{n}_{i=1}\\left( y_{i} -\\overline{y}\\right) x_{i}}\n",
    "        {\\displaystyle \\sum ^{n}_{i=1}\\left( x_{i} -\\overline{x}\\right) x_{i}}\n",
    "\\end{aligned}\n",
    "$\n",
    "\n",
    "ここで、 $\n",
    "\\displaystyle \\overline{x} =\\frac\n",
    "    {\\displaystyle \\sum ^{n}_{i=1} x_{i}}\n",
    "    {n}\n",
    ",\\overline{y} =\\frac\n",
    "    {\\displaystyle \\sum ^{n}_{i=1} y_{i}}\n",
    "    {n}\n",
    "$ より\n",
    "\n",
    "$\n",
    "\\displaystyle \\begin{aligned}\n",
    "    b & =\\frac\n",
    "        {\\displaystyle \\sum ^{n}_{i=1}\\left( y_{i} -\\overline{y}\\right) x_{i} -\\overline{x}\\left(\\sum ^{n}_{i=1} y_{i} -n\\overline{y}\\right)}\n",
    "        {\\displaystyle \\sum ^{n}_{i=1}\\left( x_{i} -\\overline{x}\\right) x_{i} -\\overline{x}\\left(\\sum ^{n}_{i=1} x_{i} -n\\overline{x}\\right)}\n",
    "    \\\\\n",
    "     & \\\\\n",
    "     & =\\frac\n",
    "         {\\displaystyle \\sum ^{n}_{i=1}\\left( y_{i} -\\overline{y}\\right) x_{i} -\\overline{x}\\sum ^{n}_{i=1}\\left( y_{i} -\\overline{y}\\right)}\n",
    "         {\\displaystyle \\sum ^{n}_{i=1}\\left( x_{i} -\\overline{x}\\right) x_{i} -\\overline{x}\\sum ^{n}_{i=1}\\left( x_{i} -\\overline{x}\\right)}\n",
    "     \\\\\n",
    "     & \\\\\n",
    "     & =\\frac\n",
    "         {\\displaystyle \\sum ^{n}_{i=1}\\left( x_{i} -\\overline{x}\\right)\\left( y_{i} -\\overline{y}\\right)}\n",
    "         {\\displaystyle \\sum ^{n}_{i=1}\\left( x_{i} -\\overline{x}\\right)^{2}}\n",
    "     \\\\\n",
    "     & \\\\\n",
    "     & =\\frac\n",
    "         {Cov( x,y)}\n",
    "         {V( x)}\n",
    "\\end{aligned}\n",
    "$"
   ]
  },
  {
   "cell_type": "markdown",
   "metadata": {},
   "source": [
    "また $x,y$ を標準化した場合、回帰方程式は $y=r_{xy}x$ となり回帰係数と相関係数が一致する。"
   ]
  },
  {
   "cell_type": "markdown",
   "metadata": {
    "solution2": "hidden",
    "solution2_first": true
   },
   "source": [
    "###### 証明"
   ]
  },
  {
   "cell_type": "markdown",
   "metadata": {
    "solution2": "hidden"
   },
   "source": [
    "$\n",
    "\\displaystyle r=\\frac\n",
    "    {Cov( x,y)}\n",
    "    {\\sqrt{\n",
    "        V( x) V( y)\n",
    "    }}\n",
    "$ より\n",
    "\n",
    "$\n",
    "\\displaystyle \\begin{aligned}\n",
    "    b & =\\frac\n",
    "        {Cov( x,y)}\n",
    "        {V( x)}\n",
    "    \\\\\n",
    "     & \\\\\n",
    "     & =\\frac\n",
    "         {r\\sqrt{\n",
    "             V( x) V( y)\n",
    "         }}\n",
    "         {V( x)}\n",
    "     \\\\\n",
    "     & \\\\\n",
    "     & =r\\frac\n",
    "         {S( y)}\n",
    "         {S( x)}\n",
    "\\end{aligned}\n",
    "$\n",
    "\n",
    "さらに\n",
    "\n",
    "$\n",
    "\\displaystyle \\begin{aligned}\n",
    "    \\hat{y} -\\overline{y} & =b\\left( x-\\overline{x}\\right)\\\\\n",
    "     & \\\\\n",
    "    \\hat{y} -\\overline{y} & =r\\frac\n",
    "        {S( y)}\n",
    "        {S( x)}\n",
    "    \\left( x-\\overline{x}\\right)\\\\\n",
    "     & \\\\\n",
    "    \\frac\n",
    "        {\\hat{y} -\\overline{y}}\n",
    "        {S( y)}\n",
    "    & =r\\frac\n",
    "        {x-\\overline{x}}\n",
    "        {S( x)}\n",
    "\\end{aligned}\n",
    "$"
   ]
  },
  {
   "cell_type": "markdown",
   "metadata": {},
   "source": [
    "## 重回帰方程式の解\n",
    "---\n",
    "複数の変数 (特徴) を持つデータ $x_{1} ,x_{2} ,\\cdots ,x_{k}$ に対して、 $y=a+b_{1} x_{1} +b_{2} x_{2} +\\cdots +b_{k} x_{k}$ で予測値を導くものを重回帰分析という。\n",
    "\n",
    "$\n",
    "\\displaystyle X=\\begin{pmatrix}\n",
    "    1, & x_{11} , & x_{12} , & \\cdots , & x_{1k}\\\\\n",
    "    1, & x_{21} , & x_{22} , & \\cdots , & x_{2k}\\\\\n",
    "    \\vdots  & \\vdots  & \\vdots  & \\ddots  & \\vdots \\\\\n",
    "    1, & x_{n1} , & x_{n2} , & \\cdots , & x_{nk}\n",
    "    \\end{pmatrix} ,y=\\begin{pmatrix}\n",
    "    y_{1}\\\\\n",
    "    y_{2}\\\\\n",
    "    \\vdots \\\\\n",
    "    y_{n}\n",
    "    \\end{pmatrix} ,b=\\begin{pmatrix}\n",
    "    a\\\\\n",
    "    b_{1}\\\\\n",
    "    b_{2}\\\\\n",
    "    \\vdots \\\\\n",
    "    b_{k}\n",
    "\\end{pmatrix}\n",
    "$ とすると、重回帰方程式 $\\displaystyle y=Xb$ の解は $b=\\left( X^{T} X\\right)^{-1} X^{T} y$ と表される。\n",
    "\n",
    "重回帰の場合も単回帰と同様、回帰方程式が表す予測超平面はデータセットの中心を通る。"
   ]
  },
  {
   "cell_type": "markdown",
   "metadata": {
    "solution2": "hidden",
    "solution2_first": true
   },
   "source": [
    "###### 証明"
   ]
  },
  {
   "cell_type": "markdown",
   "metadata": {
    "solution2": "hidden"
   },
   "source": [
    "残差平方和 ${\\displaystyle S=\\sum_{i=1}^{n}e^2_i}$ を回帰係数で偏微分して0となるように置いた以下の連立方程式の解として求められる。\n",
    "\n",
    "$\n",
    "\\left\\{\\begin{aligned}\n",
    "    \\frac\n",
    "        {\\partial S}\n",
    "        {\\partial a}\n",
    "    & =\\sum ^{n}_{i=1}\\{2a-2( y-b_{1} x_{i1} -b_{2} x_{i2} -\\dots -b_{k} x_{ik})\\} & = & -2\\sum ^{n}_{i=1}( y_{i} -a-b_{1} x_{i1} -b_{2} x_{i2} -\\dots -b_{k} x_{ik}) & = & 0\\\\\n",
    "    \\frac\n",
    "        {\\partial S}\n",
    "        {\\partial b_{1}}\n",
    "    & =\\sum ^{n}_{i=1}\\left\\{2b_{1} x^{2}_{i1} -2x_{i1}( y-a-b_{2} x_{i2} -\\dots -b_{k} x_{ik})\\right\\} & = & -2\\sum ^{n}_{i=1}( y_{i} -a-b_{1} x_{i1} -b_{2} x_{i2} -\\dots -b_{k} x_{ik}) x_{i1} & = & 0\\\\\n",
    "    \\frac\n",
    "        {\\partial S}\n",
    "        {\\partial b_{2}}\n",
    "    & =\\sum ^{n}_{i=1}\\left\\{2b_{2} x^{2}_{i2} -2x_{i2}( y-a-b_{1} x_{i1} -\\dots -b_{k} x_{ik})\\right\\} & = & -2\\sum ^{n}_{i=1}( y_{i} -a-b_{1} x_{i1} -b_{2} x_{i2} -\\dots -b_{k} x_{ik}) x_{i2} & = & 0\\\\\n",
    "    \\vdots  &  &  &  &  & \\\\\n",
    "    \\frac\n",
    "        {\\partial S}\n",
    "        {\\partial b_{k}}\n",
    "    & =\\sum ^{n}_{i=1}\\left\\{2b_{k} x^{2}_{ik} -2x_{ik}( y-a-b_{1} x_{i1} -\\dots -b_{k-1} x_{ik-1})\\right\\} & = & -2\\sum ^{n}_{i=1}( y_{i} -a-b_{1} x_{i1} -b_{2} x_{i2} -\\dots -b_{k} x_{ik}) x_{ik} & = & 0\n",
    "\\end{aligned}\\right. \n",
    "$\n",
    "\n",
    "これを整理すると以下の式が得られる。\n",
    "\n",
    "$\n",
    "\\left\\{\\begin{aligned}\n",
    "     & \\sum ^{n}_{i=1} y_{i} & = & \\sum ^{n}_{i=1}( a+b_{1} x_{i1} +b_{2} x_{i2} +\\dots b_{k} x_{ik})\\\\\n",
    "     & \\sum ^{n}_{i=1} x_{i1} y_{i} & = & \\sum ^{n}_{i=1}( a+b_{1} x_{i1} +b_{2} x_{i2} +\\dots b_{k} x_{ik}) x_{i1}\\\\\n",
    "     & \\sum ^{n}_{i=1} x_{i2} y_{i} & = & \\sum ^{n}_{i=1}( a+b_{1} x_{i1} +b_{2} x_{i2} +\\dots b_{k} x_{ik}) x_{i2}\\\\\n",
    "     & \\vdots  &  & \\vdots \\\\\n",
    "     & \\sum ^{n}_{i=1} x_{ik} y_{i} & = & \\sum ^{n}_{i=1}( a+b_{1} x_{i1} +b_{2} x_{i2} +\\dots b_{k} x_{ik}) x_{ik}\n",
    "\\end{aligned}\\right.\n",
    "$\n",
    "\n",
    "これをベクトル化すると $X^{T} y=X^{T} Xb$ (正規方程式) となる。\n",
    "\n",
    "したがって、 $b=\\left( X^{T} X\\right)^{-1} X^{T} y$"
   ]
  },
  {
   "cell_type": "markdown",
   "metadata": {},
   "source": [
    "## 偏差平方和分解\n",
    "---\n",
    "目的変数の偏差平方和 (総変動) $\\displaystyle \\sum ^{n}_{i=1}\\left( y_{i} -\\overline{y}\\right)^{2}$ は $\\displaystyle \\sum ^{n}_{i=1}\\left( y_{i} -\\overline{y}\\right)^{2} =\\sum ^{n}_{i=1}\\left(\\hat{y}_{i} -\\overline{y}\\right)^{2} +\\sum ^{n}_{i=1} e^{2}_{i}$ と、予測値の偏差平方和と残差の偏差平方和に分解できる。"
   ]
  },
  {
   "cell_type": "markdown",
   "metadata": {
    "solution2": "hidden",
    "solution2_first": true
   },
   "source": [
    "###### 証明"
   ]
  },
  {
   "cell_type": "markdown",
   "metadata": {
    "solution2": "hidden"
   },
   "source": [
    "$\n",
    "\\displaystyle \\begin{aligned}\n",
    "    \\sum ^{n}_{i=1}\\left( y_{i} -\\overline{y}\\right)^{2} & =\\sum ^{n}_{i=1}\\left\\{\\left( y_{i} -\\hat{y}_{i}\\right) -\\left(\\overline{y} -\\hat{y}_{i}\\right)\\right\\}^{2}\\\\\n",
    "     & \\\\\n",
    "     & =\\sum ^{n}_{i=1}\\left\\{\\hat{e}_{i} -\\left(\\overline{y} -\\hat{y}_{i}\\right)\\right\\}^{2}\\\\\n",
    "     & \\\\\n",
    "     & =\\sum ^{n}_{i=1}\\hat{e}^{2}_{i} -2\\sum ^{n}_{i=1}\\hat{e}_{i}\\left(\\overline{y} -\\hat{y}_{i}\\right) +\\sum ^{n}_{i=1}\\left(\\overline{y} -\\hat{y}_{i}\\right)^{2}\\\\\n",
    "     & \\\\\n",
    "     & =\\sum ^{n}_{i=1}\\hat{e}^{2}_{i} -2\\sum ^{n}_{i=1}\\left(\\overline{y} -\\hat{a} -\\hat{b} x_{i}\\right)\\hat{e}_{i} +\\sum ^{n}_{i=1}\\left(\\overline{y} -\\hat{y}_{i}\\right)^{2}\\\\\n",
    "     & \\\\\n",
    "     & =\\sum ^{n}_{i=1}\\hat{e}^{2}_{i} -2\\left(\\overline{y} -\\hat{a}\\right)\\sum ^{n}_{i=1}\\hat{e}_{i} +2\\hat{b}\\sum ^{n}_{i=1}\\hat{e}_{i} x_{i} +\\sum ^{n}_{i=1}\\left(\\overline{y} -\\hat{y}_{i}\\right)^{2}\n",
    "\\end{aligned}\n",
    "$\n",
    "\n",
    "ここで、 $\\hat{a} ,\\hat{b}$ は\n",
    "\n",
    "$\n",
    "\\begin{cases}\n",
    "    \\displaystyle \\frac\n",
    "        {\\partial S}\n",
    "        {\\partial a}\n",
    "    & \\displaystyle =\\sum ^{n}_{i=1}\\{2a-2( y_{i} -bx_{i})\\} & \\displaystyle =-2\\sum ^{n}_{i=1}( y_{i} -a-bx_{i}) & =0\\\\\n",
    "    \\displaystyle \\frac\n",
    "        {\\partial S}\n",
    "        {\\partial b}\n",
    "    & \\displaystyle =\\sum ^{n}_{i=1}\\left\\{2x^{2}_{i} b-2( y_{i} -a) x_{i}\\right\\} & \\displaystyle =-2\\sum ^{n}_{i=1}( y_{i} -a-bx_{i}) x_{i} & =0\n",
    "\\end{cases}\n",
    "$\n",
    "\n",
    "の解なので、 ${\\displaystyle \\sum ^{n}_{i=1}\\hat{e}_{i} =\\sum ^{n}_{i=1}\\left( y_{i} -\\hat{a} -\\hat{b} x_{i}\\right) =0,\\ \\sum ^{n}_{i=1}\\hat{e}_{i} x_{i} =\\sum ^{n}_{i=1}\\left( y_{i} -\\hat{a} -\\hat{b} x_{i}\\right) x_{i} =0}$\n",
    "\n",
    "したがって、 ${\\displaystyle \\sum ^{n}_{i=1}\\left( y_{i} -\\overline{y}\\right)^{2} =\\sum ^{n}_{i=1}\\hat{e}^{2}_{i} +\\sum ^{n}_{i=1}\\left(\\hat{y}_{i} -\\overline{y}\\right)^{2}}$\n",
    "\n",
    "また、 $\n",
    "\\displaystyle V( x) =\\frac\n",
    "    {1}\n",
    "    {n}\n",
    "\\sum ^{n}_{i=1}\\left( x_{i} -\\overline{x}\\right)^{2}\n",
    "$ より $\\displaystyle V( y) =V\\left(\\hat{y}\\right) +V( e)$"
   ]
  },
  {
   "cell_type": "markdown",
   "metadata": {},
   "source": [
    "### 最小二乗法の幾何的意味と平方和分解\n",
    "---\n",
    "説明変数・目的変数・予測値のベクトルをそれぞれ $\\displaystyle \\boldsymbol{x} =\\left( x_{1} -\\overline{x} ,x_{2} -\\overline{x} ,\\dotsc ,x_{n} -\\overline{x}\\right) ,\\boldsymbol{y} =\\left( y_{1} -\\overline{y} ,y_{2} -\\overline{y} ,\\dotsc ,y_{n} -\\overline{y}\\right) ,\\boldsymbol{\\hat{y}} =\\left(\\hat{y}_{1} -\\overline{y} ,\\hat{y}_{2} -\\overline{y} ,\\dotsc ,\\hat{y}_{n} -\\overline{y}\\right)$ とすると、最小二乗法で決定された回帰直線はデータセットの中心を通るので、 $\\displaystyle \\boldsymbol{\\hat{y}} =b\\boldsymbol{x}$  。  \n",
    "したがって、 $\\boldsymbol{x}$ と $\\boldsymbol{\\hat{y}}$ は同じ向きのベクトル。  \n",
    "また、残差のベクトル $\\displaystyle \\boldsymbol{e} =y-\\boldsymbol{\\hat{y}}$ の長さは\n",
    "\n",
    "$\n",
    "\\displaystyle \\begin{aligned}\n",
    "    \\| \\boldsymbol{e} \\|  & =\\sqrt{\n",
    "        \\sum ^{n}_{i=1} e^{2}_{i}\n",
    "    }\\\\\n",
    "     & =\\sqrt{\n",
    "         \\sum ^{n}_{i=1}\\left( y_{i} -\\hat{y}_{i}\\right)^{2}\n",
    "     }\n",
    "\\end{aligned}\n",
    "$\n",
    "\n",
    "なので、最小二乗法はベクトル $\\boldsymbol{x}$ の線上で残差ベクトル $\\boldsymbol{e}$ の長さが最小になるように係数を決定していると見ることができる。  \n",
    "この条件で残差ベクトル $\\boldsymbol{e}$ の長さが最小になるのは $\\boldsymbol{e}$ と $\\boldsymbol{\\hat{y}}$ が直交するとき。"
   ]
  },
  {
   "cell_type": "code",
   "execution_count": 2,
   "metadata": {
    "hide_input": true
   },
   "outputs": [
    {
     "data": {
      "image/png": "[encoded data removed]",
      "text/plain": [
       "<Figure size 288x288 with 1 Axes>"
      ]
     },
     "metadata": {},
     "output_type": "display_data"
    }
   ],
   "source": [
    "from my_functions.ordinary_least_squares import orthogonal\n",
    "orthogonal.show()"
   ]
  },
  {
   "cell_type": "markdown",
   "metadata": {},
   "source": [
    "上の図より、三平方の定理を用いて平方和分解が導ける。\n",
    "\n",
    "$\n",
    "\\displaystyle \\begin{aligned}\n",
    "    \\| \\boldsymbol{y} \\| ^{2} & =\\| \\hat{\\boldsymbol{y}} \\| ^{2} & + & \\| \\boldsymbol{e} \\| ^{2}\\\\\n",
    "    \\sum ^{n}_{i=1}\\left( y_{i} -\\overline{y}\\right)^{2} & =\\sum ^{n}_{i=1}\\left(\\hat{y}_{i} -\\overline{y}\\right)^{2} & + & \\sum ^{n}_{i=1} e^{2}_{i}\\\\\n",
    "    V( y) & =V\\left(\\hat{y}\\right) & + & V( e)\n",
    "\\end{aligned}\n",
    "$"
   ]
  },
  {
   "cell_type": "markdown",
   "metadata": {},
   "source": [
    "###### 練習問題\n",
    "\n",
    "`boston`データセットのうち`LSTAT`列を用いて単回帰分析を実施し、説明変数と残差の相関係数を確認する。"
   ]
  },
  {
   "cell_type": "code",
   "execution_count": 3,
   "metadata": {
    "hide_input": true
   },
   "outputs": [
    {
     "name": "stdout",
     "output_type": "stream",
     "text": [
      "boston\n"
     ]
    },
    {
     "data": {
      "text/html": [
       "<div>\n",
       "<style scoped>\n",
       "    .dataframe tbody tr th:only-of-type {\n",
       "        vertical-align: middle;\n",
       "    }\n",
       "\n",
       "    .dataframe tbody tr th {\n",
       "        vertical-align: top;\n",
       "    }\n",
       "\n",
       "    .dataframe thead th {\n",
       "        text-align: right;\n",
       "    }\n",
       "</style>\n",
       "<table border=\"1\" class=\"dataframe\">\n",
       "  <thead>\n",
       "    <tr style=\"text-align: right;\">\n",
       "      <th></th>\n",
       "      <th>CRIM</th>\n",
       "      <th>ZN</th>\n",
       "      <th>INDUS</th>\n",
       "      <th>CHAS</th>\n",
       "      <th>NOX</th>\n",
       "      <th>RM</th>\n",
       "      <th>AGE</th>\n",
       "      <th>DIS</th>\n",
       "      <th>RAD</th>\n",
       "      <th>TAX</th>\n",
       "      <th>PTRATIO</th>\n",
       "      <th>B</th>\n",
       "      <th>LSTAT</th>\n",
       "      <th>target</th>\n",
       "    </tr>\n",
       "  </thead>\n",
       "  <tbody>\n",
       "    <tr>\n",
       "      <th>0</th>\n",
       "      <td>0.00632</td>\n",
       "      <td>18.0</td>\n",
       "      <td>2.31</td>\n",
       "      <td>0.0</td>\n",
       "      <td>0.538</td>\n",
       "      <td>6.575</td>\n",
       "      <td>65.2</td>\n",
       "      <td>4.0900</td>\n",
       "      <td>1.0</td>\n",
       "      <td>296.0</td>\n",
       "      <td>15.3</td>\n",
       "      <td>396.90</td>\n",
       "      <td>4.98</td>\n",
       "      <td>24.0</td>\n",
       "    </tr>\n",
       "    <tr>\n",
       "      <th>1</th>\n",
       "      <td>0.02731</td>\n",
       "      <td>0.0</td>\n",
       "      <td>7.07</td>\n",
       "      <td>0.0</td>\n",
       "      <td>0.469</td>\n",
       "      <td>6.421</td>\n",
       "      <td>78.9</td>\n",
       "      <td>4.9671</td>\n",
       "      <td>2.0</td>\n",
       "      <td>242.0</td>\n",
       "      <td>17.8</td>\n",
       "      <td>396.90</td>\n",
       "      <td>9.14</td>\n",
       "      <td>21.6</td>\n",
       "    </tr>\n",
       "    <tr>\n",
       "      <th>...</th>\n",
       "      <td>...</td>\n",
       "      <td>...</td>\n",
       "      <td>...</td>\n",
       "      <td>...</td>\n",
       "      <td>...</td>\n",
       "      <td>...</td>\n",
       "      <td>...</td>\n",
       "      <td>...</td>\n",
       "      <td>...</td>\n",
       "      <td>...</td>\n",
       "      <td>...</td>\n",
       "      <td>...</td>\n",
       "      <td>...</td>\n",
       "      <td>...</td>\n",
       "    </tr>\n",
       "    <tr>\n",
       "      <th>504</th>\n",
       "      <td>0.10959</td>\n",
       "      <td>0.0</td>\n",
       "      <td>11.93</td>\n",
       "      <td>0.0</td>\n",
       "      <td>0.573</td>\n",
       "      <td>6.794</td>\n",
       "      <td>89.3</td>\n",
       "      <td>2.3889</td>\n",
       "      <td>1.0</td>\n",
       "      <td>273.0</td>\n",
       "      <td>21.0</td>\n",
       "      <td>393.45</td>\n",
       "      <td>6.48</td>\n",
       "      <td>22.0</td>\n",
       "    </tr>\n",
       "    <tr>\n",
       "      <th>505</th>\n",
       "      <td>0.04741</td>\n",
       "      <td>0.0</td>\n",
       "      <td>11.93</td>\n",
       "      <td>0.0</td>\n",
       "      <td>0.573</td>\n",
       "      <td>6.030</td>\n",
       "      <td>80.8</td>\n",
       "      <td>2.5050</td>\n",
       "      <td>1.0</td>\n",
       "      <td>273.0</td>\n",
       "      <td>21.0</td>\n",
       "      <td>396.90</td>\n",
       "      <td>7.88</td>\n",
       "      <td>11.9</td>\n",
       "    </tr>\n",
       "  </tbody>\n",
       "</table>\n",
       "<p>506 rows × 14 columns</p>\n",
       "</div>"
      ],
      "text/plain": [
       "        CRIM    ZN  INDUS  CHAS    NOX     RM   AGE     DIS  RAD    TAX  \\\n",
       "0    0.00632  18.0   2.31   0.0  0.538  6.575  65.2  4.0900  1.0  296.0   \n",
       "1    0.02731   0.0   7.07   0.0  0.469  6.421  78.9  4.9671  2.0  242.0   \n",
       "..       ...   ...    ...   ...    ...    ...   ...     ...  ...    ...   \n",
       "504  0.10959   0.0  11.93   0.0  0.573  6.794  89.3  2.3889  1.0  273.0   \n",
       "505  0.04741   0.0  11.93   0.0  0.573  6.030  80.8  2.5050  1.0  273.0   \n",
       "\n",
       "     PTRATIO       B  LSTAT  target  \n",
       "0       15.3  396.90   4.98    24.0  \n",
       "1       17.8  396.90   9.14    21.6  \n",
       "..       ...     ...    ...     ...  \n",
       "504     21.0  393.45   6.48    22.0  \n",
       "505     21.0  396.90   7.88    11.9  \n",
       "\n",
       "[506 rows x 14 columns]"
      ]
     },
     "metadata": {},
     "output_type": "display_data"
    }
   ],
   "source": [
    "loader = load_boston()\n",
    "boston = pd.DataFrame(np.column_stack([loader.data, loader.target]), columns=list(loader.feature_names)+['target'])\n",
    "print('boston')\n",
    "display(boston)"
   ]
  },
  {
   "cell_type": "code",
   "execution_count": null,
   "metadata": {
    "solution2": "hidden",
    "solution2_first": true
   },
   "outputs": [],
   "source": []
  },
  {
   "cell_type": "code",
   "execution_count": 4,
   "metadata": {
    "solution2": "hidden"
   },
   "outputs": [
    {
     "name": "stdout",
     "output_type": "stream",
     "text": [
      "相関係数 : -0.000\n"
     ]
    }
   ],
   "source": [
    "x = boston['LSTAT'].values.reshape(-1, 1)\n",
    "y = boston['target']\n",
    "model = LinearRegression().fit(x, y)\n",
    "y_hat = model.predict(x)\n",
    "e = y - y_hat\n",
    "cor = np.corrcoef(x.ravel(), e)[0, 1]\n",
    "print(f'相関係数 : {cor:.3f}')"
   ]
  },
  {
   "cell_type": "markdown",
   "metadata": {},
   "source": [
    "###### 練習問題\n",
    "\n",
    "`boston`データセットに対して重回帰分析を実施し、予測値と残差の相関係数を確認する。"
   ]
  },
  {
   "cell_type": "code",
   "execution_count": null,
   "metadata": {
    "solution2": "hidden",
    "solution2_first": true
   },
   "outputs": [],
   "source": []
  },
  {
   "cell_type": "code",
   "execution_count": 5,
   "metadata": {
    "solution2": "hidden"
   },
   "outputs": [
    {
     "name": "stdout",
     "output_type": "stream",
     "text": [
      "相関係数 : -0.000\n"
     ]
    }
   ],
   "source": [
    "x = boston.iloc[:, :-1]\n",
    "y = boston.iloc[:, -1]\n",
    "model = LinearRegression().fit(x, y)\n",
    "y_hat = model.predict(x)\n",
    "e = y - y_hat\n",
    "cor = np.corrcoef(y_hat, e)[0, 1]\n",
    "print(f'相関係数 : {cor:.3f}')"
   ]
  },
  {
   "cell_type": "markdown",
   "metadata": {},
   "source": [
    "また、 2 つのベクトル $\\hat{y}$ と $e$ が直交する (無相関である) ことを前提とすれば、[分散の性質](mean_and_variance.ipynb#%E5%B9%B3%E5%9D%87-(%E6%9C%9F%E5%BE%85%E5%80%A4)-%E3%81%A8%E5%88%86%E6%95%A3%E3%81%AE%E6%80%A7%E8%B3%AA)からも\n",
    "\n",
    "$\n",
    "\\displaystyle \\begin{aligned}\n",
    "    V( y) & =V\\left(\\hat{y} +e\\right)\\\\\n",
    "     & =V\\left(\\hat{y}\\right) +2Cov\\left(\\hat{y} ,e\\right) +V( e)\\\\\n",
    "     & =V\\left(\\hat{y}\\right) +V( e)\n",
    "\\end{aligned}\n",
    "$\n",
    "\n",
    "と分散 (平方和) の分解が導ける。"
   ]
  }
 ],
 "metadata": {
  "kernelspec": {
   "display_name": "Python 3",
   "language": "python",
   "name": "python3"
  },
  "language_info": {
   "codemirror_mode": {
    "name": "ipython",
    "version": 3
   },
   "file_extension": ".py",
   "mimetype": "text/x-python",
   "name": "python",
   "nbconvert_exporter": "python",
   "pygments_lexer": "ipython3",
   "version": "3.7.4"
  },
  "toc": {
   "base_numbering": 1,
   "nav_menu": {},
   "number_sections": true,
   "sideBar": true,
   "skip_h1_title": true,
   "title_cell": "Table of Contents",
   "title_sidebar": "Contents",
   "toc_cell": false,
   "toc_position": {},
   "toc_section_display": true,
   "toc_window_display": true
  },
  "varInspector": {
   "cols": {
    "lenName": 16,
    "lenType": 16,
    "lenVar": 40
   },
   "kernels_config": {
    "python": {
     "delete_cmd_postfix": "",
     "delete_cmd_prefix": "del ",
     "library": "var_list.py",
     "varRefreshCmd": "print(var_dic_list())"
    },
    "r": {
     "delete_cmd_postfix": ") ",
     "delete_cmd_prefix": "rm(",
     "library": "var_list.r",
     "varRefreshCmd": "cat(var_dic_list()) "
    }
   },
   "types_to_exclude": [
    "module",
    "function",
    "builtin_function_or_method",
    "instance",
    "_Feature"
   ],
   "window_display": false
  }
 },
 "nbformat": 4,
 "nbformat_minor": 2
}
