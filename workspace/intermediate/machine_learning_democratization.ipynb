{
 "cells": [
  {
   "cell_type": "markdown",
   "metadata": {},
   "source": [
    "# データ分析・機械学習の民主化\n",
    "---\n",
    "コードを書かずにGUIで完結したり、少量のコードだけで後のプロセスは自動化され、誰でも簡単に機械学習を実行できることを目的とした、機械学習の民主化という流れがある。このようなツールが利用可能な場面では、積極的に使っていくべきなので、以下に紹介する。"
   ]
  },
  {
   "cell_type": "markdown",
   "metadata": {},
   "source": [
    "## 統計解析\n",
    "---\n",
    "最終的に解釈が必要なので完全に自動化されるわけではないが、GUIで簡単に実行できるものはある。\n",
    "\n",
    "- [KNIME](https://knime-infocom.jp/)"
   ]
  },
  {
   "cell_type": "markdown",
   "metadata": {},
   "source": [
    "## 機械学習"
   ]
  },
  {
   "cell_type": "markdown",
   "metadata": {},
   "source": [
    "### AutoML\n",
    "---\n",
    "- [Google Cloud AutoML](https://cloud.google.com/automl?hl=ja)\n",
    "- [Amazon SageMaker Autopilot](https://aws.amazon.com/jp/sagemaker/autopilot/)\n",
    "- [IBM AutoAI](https://www.ibm.com/jp-ja/cloud/watson-studio/autoai)\n",
    "- [H2O Driverless AI](https://www.h2o.ai/products/h2o-driverless-ai/)\n",
    "- [DataRobot](https://www.datarobot.com/jp/)"
   ]
  },
  {
   "cell_type": "markdown",
   "metadata": {},
   "source": [
    "### GUIで構築"
   ]
  },
  {
   "cell_type": "markdown",
   "metadata": {},
   "source": [
    "#### クラウドサービス\n",
    "---\n",
    "- [Azure Machine Learning](https://azure.microsoft.com/ja-jp/services/machine-learning/)\n",
    "- [Neural Network Console](https://dl.sony.com/ja/)\n",
    "- [MAGELLAN BLOCKS](https://www.magellanic-clouds.com/blocks/)\n",
    "- [MatrixFlow](https://www.matrixflow.net/)"
   ]
  },
  {
   "cell_type": "markdown",
   "metadata": {},
   "source": [
    "#### スタンドアローンアプリ\n",
    "---\n",
    "- [RapidMiner](https://www.rapidminer.jp/)\n",
    "- [Orange](https://orange.biolab.si/)\n",
    "- [SONY Prediction One](https://predictionone.sony.biz/)"
   ]
  }
 ],
 "metadata": {
  "kernelspec": {
   "display_name": "Python 3",
   "language": "python",
   "name": "python3"
  },
  "language_info": {
   "codemirror_mode": {
    "name": "ipython",
    "version": 3
   },
   "file_extension": ".py",
   "mimetype": "text/x-python",
   "name": "python",
   "nbconvert_exporter": "python",
   "pygments_lexer": "ipython3",
   "version": "3.8.3"
  }
 },
 "nbformat": 4,
 "nbformat_minor": 4
}
