{
 "cells": [
  {
   "cell_type": "code",
   "execution_count": 1,
   "metadata": {},
   "outputs": [],
   "source": [
    "import numpy as np\n",
    "import pandas as pd\n",
    "from sklearn.datasets import load_boston, load_breast_cancer\n",
    "from sklearn.linear_model import LinearRegression\n",
    "from sklearn.ensemble import RandomForestClassifier\n",
    "from sklearn.inspection import permutation_importance\n",
    "from sklearn.feature_selection import RFE\n",
    "from mlxtend.feature_selection import SequentialFeatureSelector\n",
    "import lightgbm\n",
    "from IPython.display import display\n",
    "pd.set_option('max_rows', 5)\n",
    "pd.set_option('max_columns', 9)\n",
    "%matplotlib inline"
   ]
  },
  {
   "cell_type": "markdown",
   "metadata": {},
   "source": [
    "## 特徴選択\n",
    "---\n",
    "データセットに存在する特徴から、モデル構築に使用する特徴を一部に絞り込むこと。  \n",
    "利用する特徴を減らすことで、ストレージ・メモリの使用量を減らしたり、モデルを早く動かせる。また、データ理解という観点からは同程度の精度ならばより少ない特徴で記述したほうが理解しやすくなる。\n",
    "\n",
    "正則化が適用できないモデルでは過学習の防止に役立つが、正則化が適用できるモデルでは**過学習防止には正則化**を用いる。"
   ]
  },
  {
   "cell_type": "markdown",
   "metadata": {},
   "source": [
    "## 評価指標に基づくもの"
   ]
  },
  {
   "cell_type": "markdown",
   "metadata": {},
   "source": [
    "### ステップワイズ法\n",
    "---\n",
    "評価指標が改善する特徴を追加・削除していく。\n",
    "\n",
    "評価指標には AIC (Akaike's Information Criterion, 赤池情報量規準) や BIC (Bayesian Information Criterion, ベイズ情報量規準) を用いることが多い。 (モデルの複雑さと精度のバランスをとるため)  \n",
    "絞り込みたい特徴の数が決まっている場合には他の一般的な評価指標 (accuracy や MSE など) も利用される。"
   ]
  },
  {
   "cell_type": "markdown",
   "metadata": {},
   "source": [
    "#### forward stepwise selection\n",
    "---\n",
    "最も評価指標を改善する特徴を 1 つずつ追加。"
   ]
  },
  {
   "cell_type": "markdown",
   "metadata": {},
   "source": [
    "##### Pythonによるforward stepwise selectionの実行方法\n",
    "---\n",
    "`mlxtend.feature_selection.SequentialFeatureSelector`を使用する。"
   ]
  },
  {
   "cell_type": "code",
   "execution_count": 2,
   "metadata": {
    "hide_input": true
   },
   "outputs": [
    {
     "name": "stdout",
     "output_type": "stream",
     "text": [
      "boston\n"
     ]
    },
    {
     "data": {
      "text/html": [
       "<div>\n",
       "<style scoped>\n",
       "    .dataframe tbody tr th:only-of-type {\n",
       "        vertical-align: middle;\n",
       "    }\n",
       "\n",
       "    .dataframe tbody tr th {\n",
       "        vertical-align: top;\n",
       "    }\n",
       "\n",
       "    .dataframe thead th {\n",
       "        text-align: right;\n",
       "    }\n",
       "</style>\n",
       "<table border=\"1\" class=\"dataframe\">\n",
       "  <thead>\n",
       "    <tr style=\"text-align: right;\">\n",
       "      <th></th>\n",
       "      <th>CRIM</th>\n",
       "      <th>ZN</th>\n",
       "      <th>INDUS</th>\n",
       "      <th>CHAS</th>\n",
       "      <th>...</th>\n",
       "      <th>PTRATIO</th>\n",
       "      <th>B</th>\n",
       "      <th>LSTAT</th>\n",
       "      <th>target</th>\n",
       "    </tr>\n",
       "  </thead>\n",
       "  <tbody>\n",
       "    <tr>\n",
       "      <th>0</th>\n",
       "      <td>0.00632</td>\n",
       "      <td>18.0</td>\n",
       "      <td>2.31</td>\n",
       "      <td>0.0</td>\n",
       "      <td>...</td>\n",
       "      <td>15.3</td>\n",
       "      <td>396.90</td>\n",
       "      <td>4.98</td>\n",
       "      <td>24.0</td>\n",
       "    </tr>\n",
       "    <tr>\n",
       "      <th>1</th>\n",
       "      <td>0.02731</td>\n",
       "      <td>0.0</td>\n",
       "      <td>7.07</td>\n",
       "      <td>0.0</td>\n",
       "      <td>...</td>\n",
       "      <td>17.8</td>\n",
       "      <td>396.90</td>\n",
       "      <td>9.14</td>\n",
       "      <td>21.6</td>\n",
       "    </tr>\n",
       "    <tr>\n",
       "      <th>...</th>\n",
       "      <td>...</td>\n",
       "      <td>...</td>\n",
       "      <td>...</td>\n",
       "      <td>...</td>\n",
       "      <td>...</td>\n",
       "      <td>...</td>\n",
       "      <td>...</td>\n",
       "      <td>...</td>\n",
       "      <td>...</td>\n",
       "    </tr>\n",
       "    <tr>\n",
       "      <th>504</th>\n",
       "      <td>0.10959</td>\n",
       "      <td>0.0</td>\n",
       "      <td>11.93</td>\n",
       "      <td>0.0</td>\n",
       "      <td>...</td>\n",
       "      <td>21.0</td>\n",
       "      <td>393.45</td>\n",
       "      <td>6.48</td>\n",
       "      <td>22.0</td>\n",
       "    </tr>\n",
       "    <tr>\n",
       "      <th>505</th>\n",
       "      <td>0.04741</td>\n",
       "      <td>0.0</td>\n",
       "      <td>11.93</td>\n",
       "      <td>0.0</td>\n",
       "      <td>...</td>\n",
       "      <td>21.0</td>\n",
       "      <td>396.90</td>\n",
       "      <td>7.88</td>\n",
       "      <td>11.9</td>\n",
       "    </tr>\n",
       "  </tbody>\n",
       "</table>\n",
       "<p>506 rows × 14 columns</p>\n",
       "</div>"
      ],
      "text/plain": [
       "        CRIM    ZN  INDUS  CHAS  ...  PTRATIO       B  LSTAT  target\n",
       "0    0.00632  18.0   2.31   0.0  ...     15.3  396.90   4.98    24.0\n",
       "1    0.02731   0.0   7.07   0.0  ...     17.8  396.90   9.14    21.6\n",
       "..       ...   ...    ...   ...  ...      ...     ...    ...     ...\n",
       "504  0.10959   0.0  11.93   0.0  ...     21.0  393.45   6.48    22.0\n",
       "505  0.04741   0.0  11.93   0.0  ...     21.0  396.90   7.88    11.9\n",
       "\n",
       "[506 rows x 14 columns]"
      ]
     },
     "metadata": {},
     "output_type": "display_data"
    }
   ],
   "source": [
    "loader = load_boston()\n",
    "boston = pd.DataFrame(np.column_stack([loader.data, loader.target]), columns=list(loader.feature_names)+['target'])\n",
    "print('boston')\n",
    "display(boston)"
   ]
  },
  {
   "cell_type": "code",
   "execution_count": 3,
   "metadata": {},
   "outputs": [],
   "source": [
    "x = boston.iloc[:, :-1]\n",
    "y = boston.iloc[:, -1]\n",
    "model = LinearRegression()"
   ]
  },
  {
   "cell_type": "code",
   "execution_count": 4,
   "metadata": {},
   "outputs": [],
   "source": [
    "SequentialFeatureSelector??"
   ]
  },
  {
   "cell_type": "code",
   "execution_count": 5,
   "metadata": {},
   "outputs": [
    {
     "data": {
      "text/plain": [
       "('CRIM', 'CHAS', 'RM', 'PTRATIO', 'LSTAT')"
      ]
     },
     "execution_count": 5,
     "metadata": {},
     "output_type": "execute_result"
    }
   ],
   "source": [
    "fs = SequentialFeatureSelector(model, k_features=5, n_jobs=-1)\n",
    "fs.fit(x, y)\n",
    "fs.k_feature_names_"
   ]
  },
  {
   "cell_type": "code",
   "execution_count": 6,
   "metadata": {},
   "outputs": [
    {
     "data": {
      "text/plain": [
       "{1: {'feature_idx': (12,),\n",
       "  'cv_scores': array([0.31784807, 0.5406078 , 0.07608699, 0.42423767, 0.1267687 ]),\n",
       "  'avg_score': 0.2971098460066865,\n",
       "  'feature_names': ('LSTAT',)},\n",
       " 2: {'feature_idx': (10, 12),\n",
       "  'cv_scores': array([0.47872024, 0.55896066, 0.29416107, 0.44039936, 0.37716673]),\n",
       "  'avg_score': 0.4298816135857271,\n",
       "  'feature_names': ('PTRATIO', 'LSTAT')},\n",
       " 3: {'feature_idx': (3, 10, 12),\n",
       "  'cv_scores': array([0.5125899 , 0.52887883, 0.31209504, 0.47271838, 0.37935597]),\n",
       "  'avg_score': 0.4411276233882674,\n",
       "  'feature_names': ('CHAS', 'PTRATIO', 'LSTAT')},\n",
       " 4: {'feature_idx': (3, 5, 10, 12),\n",
       "  'cv_scores': array([0.74342797, 0.68528955, 0.55392829, 0.20544105, 0.02541525]),\n",
       "  'avg_score': 0.4427004222330956,\n",
       "  'feature_names': ('CHAS', 'RM', 'PTRATIO', 'LSTAT')},\n",
       " 5: {'feature_idx': (0, 3, 5, 10, 12),\n",
       "  'cv_scores': array([0.74205803, 0.69167982, 0.55264435, 0.19713656, 0.06081025]),\n",
       "  'avg_score': 0.4488658019850355,\n",
       "  'feature_names': ('CRIM', 'CHAS', 'RM', 'PTRATIO', 'LSTAT')}}"
      ]
     },
     "execution_count": 6,
     "metadata": {},
     "output_type": "execute_result"
    }
   ],
   "source": [
    "fs.subsets_"
   ]
  },
  {
   "cell_type": "markdown",
   "metadata": {},
   "source": [
    "#### backward stepwise selection\n",
    "---\n",
    "最も評価指標に影響しない特徴を 1 つずつ削除。"
   ]
  },
  {
   "cell_type": "markdown",
   "metadata": {},
   "source": [
    "##### Pythonによるbackward stepwise selectionの実行方法\n",
    "---\n",
    "`mlxtend.feature_selection.SequentialFeatureSelector`の`forward`引数を`False`にする。"
   ]
  },
  {
   "cell_type": "code",
   "execution_count": 7,
   "metadata": {},
   "outputs": [
    {
     "data": {
      "text/plain": [
       "('CRIM',\n",
       " 'ZN',\n",
       " 'CHAS',\n",
       " 'NOX',\n",
       " 'AGE',\n",
       " 'DIS',\n",
       " 'RAD',\n",
       " 'TAX',\n",
       " 'PTRATIO',\n",
       " 'B',\n",
       " 'LSTAT')"
      ]
     },
     "execution_count": 7,
     "metadata": {},
     "output_type": "execute_result"
    }
   ],
   "source": [
    "bs = SequentialFeatureSelector(model,\n",
    "                               k_features=x.columns.size - 2,\n",
    "                               forward=False,\n",
    "                               n_jobs=-1)\n",
    "bs.fit(x, y)\n",
    "bs.k_feature_names_"
   ]
  },
  {
   "cell_type": "code",
   "execution_count": 8,
   "metadata": {},
   "outputs": [
    {
     "data": {
      "text/plain": [
       "{13: {'feature_idx': (0, 1, 2, 3, 4, 5, 6, 7, 8, 9, 10, 11, 12),\n",
       "  'cv_scores': array([ 0.63919994,  0.71386698,  0.58702344,  0.07923081, -0.25294154]),\n",
       "  'avg_score': 0.3532759243958797,\n",
       "  'feature_names': ('CRIM',\n",
       "   'ZN',\n",
       "   'INDUS',\n",
       "   'CHAS',\n",
       "   'NOX',\n",
       "   'RM',\n",
       "   'AGE',\n",
       "   'DIS',\n",
       "   'RAD',\n",
       "   'TAX',\n",
       "   'PTRATIO',\n",
       "   'B',\n",
       "   'LSTAT')},\n",
       " 12: {'feature_idx': (0, 1, 2, 3, 4, 6, 7, 8, 9, 10, 11, 12),\n",
       "  'cv_scores': array([0.46450601, 0.61522064, 0.43616681, 0.57879898, 0.37296639]),\n",
       "  'avg_score': 0.4935317652178909,\n",
       "  'feature_names': ('CRIM',\n",
       "   'ZN',\n",
       "   'INDUS',\n",
       "   'CHAS',\n",
       "   'NOX',\n",
       "   'AGE',\n",
       "   'DIS',\n",
       "   'RAD',\n",
       "   'TAX',\n",
       "   'PTRATIO',\n",
       "   'B',\n",
       "   'LSTAT')},\n",
       " 11: {'feature_idx': (0, 1, 3, 4, 6, 7, 8, 9, 10, 11, 12),\n",
       "  'cv_scores': array([0.46910347, 0.66682374, 0.43729546, 0.5814138 , 0.37173933]),\n",
       "  'avg_score': 0.5052751616354444,\n",
       "  'feature_names': ('CRIM',\n",
       "   'ZN',\n",
       "   'CHAS',\n",
       "   'NOX',\n",
       "   'AGE',\n",
       "   'DIS',\n",
       "   'RAD',\n",
       "   'TAX',\n",
       "   'PTRATIO',\n",
       "   'B',\n",
       "   'LSTAT')}}"
      ]
     },
     "execution_count": 8,
     "metadata": {},
     "output_type": "execute_result"
    }
   ],
   "source": [
    "bs.subsets_"
   ]
  },
  {
   "cell_type": "markdown",
   "metadata": {},
   "source": [
    "### permutation importance\n",
    "---\n",
    "ある特徴の値をランダムに並べ替えて、元のデータでの評価指標と並べ替えたデータでの評価指標の差によって特徴の重要度を決定する。"
   ]
  },
  {
   "cell_type": "markdown",
   "metadata": {},
   "source": [
    "#### Pythonによるpermutation importanceの実行方法\n",
    "---\n",
    "`sklearn.inspection.permutation_importance`を使用する。"
   ]
  },
  {
   "cell_type": "code",
   "execution_count": 9,
   "metadata": {},
   "outputs": [],
   "source": [
    "permutation_importance??"
   ]
  },
  {
   "cell_type": "code",
   "execution_count": 10,
   "metadata": {},
   "outputs": [
    {
     "data": {
      "text/plain": [
       "{'importances_mean': array([ 1.96611776e-02,  2.88784136e-02,  5.17942896e-04,  1.16984535e-02,\n",
       "         9.51127766e-02,  1.65389569e-01, -3.92127478e-05,  2.22342246e-01,\n",
       "         1.68006784e-01,  9.81300283e-02,  1.05044328e-01,  1.44056929e-02,\n",
       "         3.33326050e-01]),\n",
       " 'importances_std': array([2.82530773e-03, 3.24397080e-03, 3.71467778e-04, 3.73854063e-03,\n",
       "        7.05170892e-03, 1.46838030e-02, 5.54020404e-05, 1.58087709e-02,\n",
       "        1.38840358e-02, 8.67227171e-03, 1.26760553e-02, 4.40860777e-03,\n",
       "        2.45306602e-02]),\n",
       " 'importances': array([[ 2.02354023e-02,  2.03645514e-02,  2.34847108e-02,\n",
       "          1.47171653e-02,  1.95040583e-02],\n",
       "        [ 2.45676015e-02,  2.85112681e-02,  3.46400809e-02,\n",
       "          2.85761550e-02,  2.80969625e-02],\n",
       "        [ 8.86440184e-04,  4.26798509e-04, -5.70749560e-05,\n",
       "          9.59090491e-04,  3.74460251e-04],\n",
       "        [ 9.26068758e-03,  1.35827993e-02,  1.81064411e-02,\n",
       "          7.72482256e-03,  9.81751722e-03],\n",
       "        [ 8.34655791e-02,  1.04692003e-01,  9.39349143e-02,\n",
       "          9.40376271e-02,  9.94337593e-02],\n",
       "        [ 1.73182033e-01,  1.42242401e-01,  1.83044354e-01,\n",
       "          1.55095683e-01,  1.73383376e-01],\n",
       "        [-1.55078752e-05, -9.01451034e-05,  5.20097966e-05,\n",
       "         -4.10302519e-05, -1.01390305e-04],\n",
       "        [ 2.46958056e-01,  2.12682842e-01,  2.16851654e-01,\n",
       "          2.33026807e-01,  2.02191872e-01],\n",
       "        [ 1.85250619e-01,  1.71108782e-01,  1.57892051e-01,\n",
       "          1.78737599e-01,  1.47044871e-01],\n",
       "        [ 8.98333186e-02,  9.25512997e-02,  1.08659365e-01,\n",
       "          9.08694699e-02,  1.08736688e-01],\n",
       "        [ 1.09861573e-01,  8.93544697e-02,  1.22730248e-01,\n",
       "          9.16869956e-02,  1.11588355e-01],\n",
       "        [ 1.10004417e-02,  1.69244258e-02,  2.19459460e-02,\n",
       "          1.14308567e-02,  1.07267943e-02],\n",
       "        [ 3.35093025e-01,  3.11988491e-01,  3.48083057e-01,\n",
       "          3.01666738e-01,  3.69798938e-01]])}"
      ]
     },
     "execution_count": 10,
     "metadata": {},
     "output_type": "execute_result"
    }
   ],
   "source": [
    "model.fit(x, y)\n",
    "permutation_importance(model, x, y, n_jobs=-1, random_state=1234)"
   ]
  },
  {
   "cell_type": "markdown",
   "metadata": {},
   "source": [
    "## モデルの性質に基づくもの\n",
    "---\n",
    "モデルによっては学習後に特徴の重要性を表す情報が得られるので、それを活用して特徴を選択する。"
   ]
  },
  {
   "cell_type": "markdown",
   "metadata": {},
   "source": [
    "### Lasso回帰\n",
    "---\n",
    "L1 正則化を用いる Lasso 回帰は、係数が 0 になった特徴は重要でないと考えられるので、特徴選択に利用可能。"
   ]
  },
  {
   "cell_type": "markdown",
   "metadata": {},
   "source": [
    "### ランダム・フォレスト (random forest)\n",
    "---\n",
    "一部の特徴のみ (サンプルも一部のみの場合あり) を使って学習した複数の決定木の多数決や平均値で予測する手法。集団学習 (アンサンブル学習) の中のバギング (bagging) の代表的手法。\n",
    "\n",
    "<table class=\"border text-center\">\n",
    "        <tr class=\"border-none background-default\">\n",
    "        <th colspan=\"4\">決定木1</th>\n",
    "        <td rowspan=\"5\"></td>\n",
    "        <th colspan=\"4\">決定木2</th>\n",
    "        <td rowspan=\"5\"></td>\n",
    "        <th colspan=\"4\">決定木3</th>\n",
    "    </tr>\n",
    "    <tr>\n",
    "        <th class=\"border-top-none border-left-none border-right-bold background-default\"></th>\n",
    "        <th class=\"background-dark text-red\">特徴A</th>\n",
    "        <th class=\"background-dark text-red\">特徴B</th>\n",
    "        <th class=\"background-dark\">特徴C</th>\n",
    "        <th class=\"border-top-none border-left-none border-right-bold\"></th>\n",
    "        <th class=\"background-dark\">特徴A</th>\n",
    "        <th class=\"background-dark text-red\">特徴B</th>\n",
    "        <th class=\"background-dark text-red\">特徴C</th>\n",
    "        <th class=\"border-top-none border-left-none border-right-bold background-default\"></th>\n",
    "        <th class=\"background-dark text-red\">特徴A</th>\n",
    "        <th class=\"background-dark\">特徴B</th>\n",
    "        <th class=\"background-dark text-red\">特徴C</th>\n",
    "    </tr>\n",
    "    <tr class=\"background-bright\">\n",
    "        <th class=\"border-bottom border-right-bold text-red background-dark\">サンプル1</th>\n",
    "        <td class=\"text-red\">利用</td>\n",
    "        <td class=\"text-red\">利用</td>\n",
    "        <td>不使用</td>\n",
    "        <th class=\"border-bottom border-right-bold text-red background-dark\">サンプル1</th>\n",
    "        <td>不使用</td>\n",
    "        <td class=\"text-red\">利用</td>\n",
    "        <td class=\"text-red\">利用</td>\n",
    "        <th class=\"border-bottom border-right-bold background-dark\">サンプル1</th>\n",
    "        <td>不使用</td>\n",
    "        <td>不使用</td>\n",
    "        <td>不使用</td>\n",
    "    </tr>\n",
    "    <tr class=\"background-bright\">\n",
    "        <th class=\"border-bottom border-right-bold text-red background-dark\">サンプル2</th>\n",
    "        <td class=\"text-red\">利用</td>\n",
    "        <td class=\"text-red\">利用</td>\n",
    "        <td>不使用</td>\n",
    "        <th class=\"border-bottom border-right-bold background-dark\">サンプル2</th>\n",
    "        <td>不使用</td>\n",
    "        <td>不使用</td>\n",
    "        <td>不使用</td>\n",
    "        <th class=\"border-bottom border-right-bold text-red background-dark\">サンプル2</th>\n",
    "        <td class=\"text-red\">利用</td>\n",
    "        <td>不使用</td>\n",
    "        <td class=\"text-red\">利用</td>\n",
    "    </tr>\n",
    "    <tr class=\"background-bright\">\n",
    "        <th class=\"border-bottom border-right-bold background-dark\">サンプル3</th>\n",
    "        <td>不使用</td>\n",
    "        <td>不使用</td>\n",
    "        <td>不使用</td>\n",
    "        <th class=\"border-bottom border-right-bold text-red background-dark\">サンプル3</th>\n",
    "        <td>不使用</td>\n",
    "        <td class=\"text-red\">利用</td>\n",
    "        <td class=\"text-red\">利用</td>\n",
    "        <th class=\"border-bottom border-right-bold text-red background-dark\">サンプル3</th>\n",
    "        <td class=\"text-red\">利用</td>\n",
    "        <td>不使用</td>\n",
    "        <td class=\"text-red\">利用</td>\n",
    "    </tr>\n",
    "</table>"
   ]
  },
  {
   "cell_type": "markdown",
   "metadata": {},
   "source": [
    "#### 他の手法との比較\n",
    "---\n",
    "決定木は、十分な深さがあればほぼ全てのサンプルを完璧に分類できる代わりに汎化性能が著しく低くなる高バリアンスなモデル。ランダムフォレストは、一部の特徴・一部のサンプルだけを使った決定木を多数構築し、それらの決定木の多数決で予測することで汎化性能を高める。ただし、決定木のような結果に対する説明力はない。\n",
    "\n",
    "Lasso 回帰は説明変数と目的変数の関係が線形であることを前提にしているが、ランダム・フォレストは決定木を用いるので線形な関係でなくともよい。"
   ]
  },
  {
   "cell_type": "markdown",
   "metadata": {},
   "source": [
    "#### 仕組み\n",
    "---\n",
    "scikit-learn の実装では、その特徴が分岐条件に使われた際の (そのノードに到達するサンプルの割合で加重された) 不純度の平均的な減少量によって特徴の重要度を決定する。\n",
    "\n",
    "多重共線性 (特徴の相関が高い) などの場合には、一方の重要度が高く、他方が低くなることもあるが、特徴選択に用いるだけならそれほど問題ない。"
   ]
  },
  {
   "cell_type": "code",
   "execution_count": 11,
   "metadata": {
    "hide_input": true
   },
   "outputs": [
    {
     "data": {
      "image/png": "[encoded data removed]",
      "text/plain": [
       "<Figure size 864x288 with 1 Axes>"
      ]
     },
     "metadata": {
      "needs_background": "light"
     },
     "output_type": "display_data"
    }
   ],
   "source": [
    "from my_functions.feature_selection import rf_feature_importance\n",
    "rf_feature_importance.show()"
   ]
  },
  {
   "cell_type": "markdown",
   "metadata": {},
   "source": [
    "#### Pythonでのランダム・フォレストによる特徴選択の実行方法\n",
    "---\n",
    "`sklearn.ensemble.RandomForestClassifier`や`sklearn.ensemble.RandomForestRegressor`を学習させた後、`feature_importances_`属性を参照する。"
   ]
  },
  {
   "cell_type": "code",
   "execution_count": 12,
   "metadata": {
    "hide_input": true
   },
   "outputs": [
    {
     "name": "stdout",
     "output_type": "stream",
     "text": [
      "cancer\n"
     ]
    },
    {
     "data": {
      "text/html": [
       "<div>\n",
       "<style scoped>\n",
       "    .dataframe tbody tr th:only-of-type {\n",
       "        vertical-align: middle;\n",
       "    }\n",
       "\n",
       "    .dataframe tbody tr th {\n",
       "        vertical-align: top;\n",
       "    }\n",
       "\n",
       "    .dataframe thead th {\n",
       "        text-align: right;\n",
       "    }\n",
       "</style>\n",
       "<table border=\"1\" class=\"dataframe\">\n",
       "  <thead>\n",
       "    <tr style=\"text-align: right;\">\n",
       "      <th></th>\n",
       "      <th>mean radius</th>\n",
       "      <th>mean texture</th>\n",
       "      <th>mean perimeter</th>\n",
       "      <th>mean area</th>\n",
       "      <th>...</th>\n",
       "      <th>worst concave points</th>\n",
       "      <th>worst symmetry</th>\n",
       "      <th>worst fractal dimension</th>\n",
       "      <th>target</th>\n",
       "    </tr>\n",
       "  </thead>\n",
       "  <tbody>\n",
       "    <tr>\n",
       "      <th>0</th>\n",
       "      <td>17.99</td>\n",
       "      <td>10.38</td>\n",
       "      <td>122.80</td>\n",
       "      <td>1001.0</td>\n",
       "      <td>...</td>\n",
       "      <td>0.2654</td>\n",
       "      <td>0.4601</td>\n",
       "      <td>0.11890</td>\n",
       "      <td>0.0</td>\n",
       "    </tr>\n",
       "    <tr>\n",
       "      <th>1</th>\n",
       "      <td>20.57</td>\n",
       "      <td>17.77</td>\n",
       "      <td>132.90</td>\n",
       "      <td>1326.0</td>\n",
       "      <td>...</td>\n",
       "      <td>0.1860</td>\n",
       "      <td>0.2750</td>\n",
       "      <td>0.08902</td>\n",
       "      <td>0.0</td>\n",
       "    </tr>\n",
       "    <tr>\n",
       "      <th>...</th>\n",
       "      <td>...</td>\n",
       "      <td>...</td>\n",
       "      <td>...</td>\n",
       "      <td>...</td>\n",
       "      <td>...</td>\n",
       "      <td>...</td>\n",
       "      <td>...</td>\n",
       "      <td>...</td>\n",
       "      <td>...</td>\n",
       "    </tr>\n",
       "    <tr>\n",
       "      <th>567</th>\n",
       "      <td>20.60</td>\n",
       "      <td>29.33</td>\n",
       "      <td>140.10</td>\n",
       "      <td>1265.0</td>\n",
       "      <td>...</td>\n",
       "      <td>0.2650</td>\n",
       "      <td>0.4087</td>\n",
       "      <td>0.12400</td>\n",
       "      <td>0.0</td>\n",
       "    </tr>\n",
       "    <tr>\n",
       "      <th>568</th>\n",
       "      <td>7.76</td>\n",
       "      <td>24.54</td>\n",
       "      <td>47.92</td>\n",
       "      <td>181.0</td>\n",
       "      <td>...</td>\n",
       "      <td>0.0000</td>\n",
       "      <td>0.2871</td>\n",
       "      <td>0.07039</td>\n",
       "      <td>1.0</td>\n",
       "    </tr>\n",
       "  </tbody>\n",
       "</table>\n",
       "<p>569 rows × 31 columns</p>\n",
       "</div>"
      ],
      "text/plain": [
       "     mean radius  mean texture  mean perimeter  mean area  ...  \\\n",
       "0          17.99         10.38          122.80     1001.0  ...   \n",
       "1          20.57         17.77          132.90     1326.0  ...   \n",
       "..           ...           ...             ...        ...  ...   \n",
       "567        20.60         29.33          140.10     1265.0  ...   \n",
       "568         7.76         24.54           47.92      181.0  ...   \n",
       "\n",
       "     worst concave points  worst symmetry  worst fractal dimension  target  \n",
       "0                  0.2654          0.4601                  0.11890     0.0  \n",
       "1                  0.1860          0.2750                  0.08902     0.0  \n",
       "..                    ...             ...                      ...     ...  \n",
       "567                0.2650          0.4087                  0.12400     0.0  \n",
       "568                0.0000          0.2871                  0.07039     1.0  \n",
       "\n",
       "[569 rows x 31 columns]"
      ]
     },
     "metadata": {},
     "output_type": "display_data"
    }
   ],
   "source": [
    "loader = load_breast_cancer()\n",
    "cancer = pd.DataFrame(np.column_stack([loader.data, loader.target]), columns=list(loader.feature_names)+['target'])\n",
    "print('cancer')\n",
    "display(cancer)"
   ]
  },
  {
   "cell_type": "code",
   "execution_count": 13,
   "metadata": {},
   "outputs": [],
   "source": [
    "RandomForestClassifier??"
   ]
  },
  {
   "cell_type": "code",
   "execution_count": 14,
   "metadata": {},
   "outputs": [
    {
     "data": {
      "text/plain": [
       "array([0.0572391 , 0.01818295, 0.04976017, 0.03476067, 0.00546018,\n",
       "       0.00846855, 0.05699552, 0.08295488, 0.00533678, 0.00325888,\n",
       "       0.00600567, 0.005381  , 0.00951609, 0.03304585, 0.00503519,\n",
       "       0.00529307, 0.00619566, 0.00701214, 0.00314792, 0.00486091,\n",
       "       0.11535804, 0.01681525, 0.16187602, 0.10815229, 0.01282889,\n",
       "       0.01485554, 0.02634281, 0.11694055, 0.01228586, 0.00663357])"
      ]
     },
     "execution_count": 14,
     "metadata": {},
     "output_type": "execute_result"
    }
   ],
   "source": [
    "x = cancer.iloc[:, :-1]\n",
    "y = cancer.iloc[:, -1]\n",
    "rf = RandomForestClassifier(n_estimators=100, n_jobs=-1, random_state=1234)\n",
    "rf.fit(x, y)\n",
    "rf.feature_importances_"
   ]
  },
  {
   "cell_type": "code",
   "execution_count": 15,
   "metadata": {},
   "outputs": [
    {
     "data": {
      "text/plain": [
       "Index(['worst perimeter', 'worst concave points', 'worst radius', 'worst area',\n",
       "       'mean concave points', 'mean radius', 'mean concavity',\n",
       "       'mean perimeter', 'mean area', 'area error', 'worst concavity',\n",
       "       'mean texture', 'worst texture', 'worst compactness',\n",
       "       'worst smoothness', 'worst symmetry', 'perimeter error',\n",
       "       'mean compactness', 'concave points error', 'worst fractal dimension',\n",
       "       'concavity error', 'radius error', 'mean smoothness', 'texture error',\n",
       "       'mean symmetry', 'compactness error', 'smoothness error',\n",
       "       'fractal dimension error', 'mean fractal dimension', 'symmetry error'],\n",
       "      dtype='object')"
      ]
     },
     "execution_count": 15,
     "metadata": {},
     "output_type": "execute_result"
    }
   ],
   "source": [
    "x.columns[np.argsort(rf.feature_importances_)[::-1]]"
   ]
  },
  {
   "cell_type": "markdown",
   "metadata": {},
   "source": [
    "### recursive feature elimination\n",
    "---\n",
    "重み (パラメーター) の大きさが変数の重要度を表すモデルや`feature_importances_`属性を持つモデルを学習させ、重要度の小さい特徴から 1 つずつ削除。"
   ]
  },
  {
   "cell_type": "markdown",
   "metadata": {},
   "source": [
    "#### Pythonでのrecursive feature eliminationの実行方法\n",
    "---\n",
    "`sklearn.feature_selection.RFE`を使用する。利用可能なモデルは`coef_`または`feature_importances_`属性を持つもの。"
   ]
  },
  {
   "cell_type": "code",
   "execution_count": 16,
   "metadata": {
    "hide_input": true
   },
   "outputs": [
    {
     "name": "stdout",
     "output_type": "stream",
     "text": [
      "boston\n"
     ]
    },
    {
     "data": {
      "text/html": [
       "<div>\n",
       "<style scoped>\n",
       "    .dataframe tbody tr th:only-of-type {\n",
       "        vertical-align: middle;\n",
       "    }\n",
       "\n",
       "    .dataframe tbody tr th {\n",
       "        vertical-align: top;\n",
       "    }\n",
       "\n",
       "    .dataframe thead th {\n",
       "        text-align: right;\n",
       "    }\n",
       "</style>\n",
       "<table border=\"1\" class=\"dataframe\">\n",
       "  <thead>\n",
       "    <tr style=\"text-align: right;\">\n",
       "      <th></th>\n",
       "      <th>CRIM</th>\n",
       "      <th>ZN</th>\n",
       "      <th>INDUS</th>\n",
       "      <th>CHAS</th>\n",
       "      <th>...</th>\n",
       "      <th>PTRATIO</th>\n",
       "      <th>B</th>\n",
       "      <th>LSTAT</th>\n",
       "      <th>target</th>\n",
       "    </tr>\n",
       "  </thead>\n",
       "  <tbody>\n",
       "    <tr>\n",
       "      <th>0</th>\n",
       "      <td>0.00632</td>\n",
       "      <td>18.0</td>\n",
       "      <td>2.31</td>\n",
       "      <td>0.0</td>\n",
       "      <td>...</td>\n",
       "      <td>15.3</td>\n",
       "      <td>396.90</td>\n",
       "      <td>4.98</td>\n",
       "      <td>24.0</td>\n",
       "    </tr>\n",
       "    <tr>\n",
       "      <th>1</th>\n",
       "      <td>0.02731</td>\n",
       "      <td>0.0</td>\n",
       "      <td>7.07</td>\n",
       "      <td>0.0</td>\n",
       "      <td>...</td>\n",
       "      <td>17.8</td>\n",
       "      <td>396.90</td>\n",
       "      <td>9.14</td>\n",
       "      <td>21.6</td>\n",
       "    </tr>\n",
       "    <tr>\n",
       "      <th>...</th>\n",
       "      <td>...</td>\n",
       "      <td>...</td>\n",
       "      <td>...</td>\n",
       "      <td>...</td>\n",
       "      <td>...</td>\n",
       "      <td>...</td>\n",
       "      <td>...</td>\n",
       "      <td>...</td>\n",
       "      <td>...</td>\n",
       "    </tr>\n",
       "    <tr>\n",
       "      <th>504</th>\n",
       "      <td>0.10959</td>\n",
       "      <td>0.0</td>\n",
       "      <td>11.93</td>\n",
       "      <td>0.0</td>\n",
       "      <td>...</td>\n",
       "      <td>21.0</td>\n",
       "      <td>393.45</td>\n",
       "      <td>6.48</td>\n",
       "      <td>22.0</td>\n",
       "    </tr>\n",
       "    <tr>\n",
       "      <th>505</th>\n",
       "      <td>0.04741</td>\n",
       "      <td>0.0</td>\n",
       "      <td>11.93</td>\n",
       "      <td>0.0</td>\n",
       "      <td>...</td>\n",
       "      <td>21.0</td>\n",
       "      <td>396.90</td>\n",
       "      <td>7.88</td>\n",
       "      <td>11.9</td>\n",
       "    </tr>\n",
       "  </tbody>\n",
       "</table>\n",
       "<p>506 rows × 14 columns</p>\n",
       "</div>"
      ],
      "text/plain": [
       "        CRIM    ZN  INDUS  CHAS  ...  PTRATIO       B  LSTAT  target\n",
       "0    0.00632  18.0   2.31   0.0  ...     15.3  396.90   4.98    24.0\n",
       "1    0.02731   0.0   7.07   0.0  ...     17.8  396.90   9.14    21.6\n",
       "..       ...   ...    ...   ...  ...      ...     ...    ...     ...\n",
       "504  0.10959   0.0  11.93   0.0  ...     21.0  393.45   6.48    22.0\n",
       "505  0.04741   0.0  11.93   0.0  ...     21.0  396.90   7.88    11.9\n",
       "\n",
       "[506 rows x 14 columns]"
      ]
     },
     "metadata": {},
     "output_type": "display_data"
    }
   ],
   "source": [
    "print('boston')\n",
    "display(boston)"
   ]
  },
  {
   "cell_type": "code",
   "execution_count": 17,
   "metadata": {},
   "outputs": [],
   "source": [
    "RFE??"
   ]
  },
  {
   "cell_type": "code",
   "execution_count": 18,
   "metadata": {},
   "outputs": [
    {
     "data": {
      "text/plain": [
       "array([ 8, 10,  9,  3,  1,  2, 13,  5,  7, 11,  4, 12,  6])"
      ]
     },
     "execution_count": 18,
     "metadata": {},
     "output_type": "execute_result"
    }
   ],
   "source": [
    "x = boston.iloc[:, :-1]\n",
    "y = boston.iloc[:, -1]\n",
    "model = LinearRegression()\n",
    "rfe = RFE(model, n_features_to_select=1)\n",
    "rfe.fit(x, y)\n",
    "rfe.ranking_"
   ]
  },
  {
   "cell_type": "code",
   "execution_count": 19,
   "metadata": {},
   "outputs": [
    {
     "data": {
      "text/plain": [
       "Index(['NOX', 'RM', 'CHAS', 'PTRATIO', 'DIS', 'LSTAT', 'RAD', 'CRIM', 'INDUS',\n",
       "       'ZN', 'TAX', 'B', 'AGE'],\n",
       "      dtype='object')"
      ]
     },
     "execution_count": 19,
     "metadata": {},
     "output_type": "execute_result"
    }
   ],
   "source": [
    "x.columns[np.argsort(rfe.ranking_)]"
   ]
  },
  {
   "cell_type": "markdown",
   "metadata": {},
   "source": [
    "### その他の手法\n",
    "---\n",
    "勾配ブースティングという手法を実装した[LightGBM](https://lightgbm.readthedocs.io/en/latest/)は欠損値があっても動作し、ランダム・フォレストのように`feature_importances_`で特徴の重要度が参照できる。"
   ]
  },
  {
   "cell_type": "code",
   "execution_count": 20,
   "metadata": {},
   "outputs": [
    {
     "data": {
      "text/plain": [
       "array([207,  14,  69,  11, 138, 269, 216, 253,  49,  79,  99, 185, 293])"
      ]
     },
     "execution_count": 20,
     "metadata": {},
     "output_type": "execute_result"
    }
   ],
   "source": [
    "model = lightgbm.LGBMRegressor(random_state=1234)\n",
    "model.fit(x, y)\n",
    "model.feature_importances_"
   ]
  },
  {
   "cell_type": "code",
   "execution_count": 21,
   "metadata": {},
   "outputs": [
    {
     "data": {
      "text/plain": [
       "Index(['LSTAT', 'RM', 'DIS', 'AGE', 'CRIM', 'B', 'NOX', 'PTRATIO', 'TAX',\n",
       "       'INDUS', 'RAD', 'ZN', 'CHAS'],\n",
       "      dtype='object')"
      ]
     },
     "execution_count": 21,
     "metadata": {},
     "output_type": "execute_result"
    }
   ],
   "source": [
    "x.columns[np.argsort(model.feature_importances_)[::-1]]"
   ]
  }
 ],
 "metadata": {
  "kernelspec": {
   "display_name": "Python 3",
   "language": "python",
   "name": "python3"
  },
  "language_info": {
   "codemirror_mode": {
    "name": "ipython",
    "version": 3
   },
   "file_extension": ".py",
   "mimetype": "text/x-python",
   "name": "python",
   "nbconvert_exporter": "python",
   "pygments_lexer": "ipython3",
   "version": "3.7.4"
  },
  "toc": {
   "base_numbering": 1,
   "nav_menu": {},
   "number_sections": true,
   "sideBar": true,
   "skip_h1_title": true,
   "title_cell": "Table of Contents",
   "title_sidebar": "Contents",
   "toc_cell": false,
   "toc_position": {},
   "toc_section_display": true,
   "toc_window_display": true
  },
  "varInspector": {
   "cols": {
    "lenName": 16,
    "lenType": 16,
    "lenVar": 40
   },
   "kernels_config": {
    "python": {
     "delete_cmd_postfix": "",
     "delete_cmd_prefix": "del ",
     "library": "var_list.py",
     "varRefreshCmd": "print(var_dic_list())"
    },
    "r": {
     "delete_cmd_postfix": ") ",
     "delete_cmd_prefix": "rm(",
     "library": "var_list.r",
     "varRefreshCmd": "cat(var_dic_list()) "
    }
   },
   "types_to_exclude": [
    "module",
    "function",
    "builtin_function_or_method",
    "instance",
    "_Feature"
   ],
   "window_display": false
  }
 },
 "nbformat": 4,
 "nbformat_minor": 2
}
