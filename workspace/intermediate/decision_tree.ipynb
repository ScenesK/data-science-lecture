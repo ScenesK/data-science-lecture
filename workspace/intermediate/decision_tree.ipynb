{
 "cells": [
  {
   "cell_type": "code",
   "execution_count": 1,
   "metadata": {},
   "outputs": [],
   "source": [
    "import numpy as np\n",
    "import pandas as pd\n",
    "from sklearn.datasets import load_wine\n",
    "from sklearn.tree import DecisionTreeClassifier, plot_tree\n",
    "import matplotlib.pyplot as plt\n",
    "import seaborn as sns\n",
    "from IPython.display import display\n",
    "pd.set_option('max_rows', 5)\n",
    "pd.set_option('max_columns', 9)\n",
    "%matplotlib inline"
   ]
  },
  {
   "cell_type": "markdown",
   "metadata": {},
   "source": [
    "# 決定木 (decision tree)\n",
    "---\n",
    "IF文の連続で結果を予測するモデル。精度は低いが、結果に対する説明力 (理由の理解しやすさ) が高い。  \n",
    "元のデータを根 (root) ・分類の最終点を葉 (leaf) ・根から葉に至る途中を枝 (branch) と呼ぶ。"
   ]
  },
  {
   "cell_type": "code",
   "execution_count": 2,
   "metadata": {
    "hide_input": true,
    "jupyter": {
     "source_hidden": true
    }
   },
   "outputs": [
    {
     "data": {
      "application/vnd.jupyter.widget-view+json": {
       "model_id": "96ac84723c73489ca024e74b8efc138d",
       "version_major": 2,
       "version_minor": 0
      },
      "text/plain": [
       "Play(value=1, interval=1000, max=5, min=1)"
      ]
     },
     "metadata": {},
     "output_type": "display_data"
    },
    {
     "data": {
      "application/vnd.jupyter.widget-view+json": {
       "model_id": "ebada3bdf8084ded8918a0f006f90f9a",
       "version_major": 2,
       "version_minor": 0
      },
      "text/plain": [
       "Output()"
      ]
     },
     "metadata": {},
     "output_type": "display_data"
    }
   ],
   "source": [
    "from my_functions.decision_tree import algorithm\n",
    "algorithm.show()"
   ]
  },
  {
   "cell_type": "markdown",
   "metadata": {},
   "source": [
    "## 分割指標\n",
    "---\n",
    "決定木は、情報の不純度 (Impurity) が最も下がる条件で枝を分岐していく。分類の場合、1つのクラスだけで葉が構築されていれば不純度は低く、様々なクラスが混じっていると不純度は高くなる。\n",
    "\n",
    "不純度の指標には以下のような種類がある。"
   ]
  },
  {
   "cell_type": "markdown",
   "metadata": {},
   "source": [
    "### ジニ不純度\n",
    "---\n",
    "サンプルに含まれるクラスの数を $c$、枝候補中でクラス $i$ に属するサンプルの割合を $p_{i}$ とすると、  \n",
    "ジニ不純度 ${\\displaystyle I=1-\\sum ^{c}_{i=1} p^{2}_{i}}$"
   ]
  },
  {
   "cell_type": "code",
   "execution_count": 3,
   "metadata": {
    "hide_input": true,
    "jupyter": {
     "source_hidden": true
    }
   },
   "outputs": [
    {
     "data": {
      "image/png": "[encoded data removed]",
      "text/plain": [
       "<Figure size 288x288 with 1 Axes>"
      ]
     },
     "metadata": {
      "needs_background": "light"
     },
     "output_type": "display_data"
    }
   ],
   "source": [
    "from my_functions.decision_tree import criteria\n",
    "criteria.show('gini')"
   ]
  },
  {
   "cell_type": "markdown",
   "metadata": {},
   "source": [
    "練習問題\n",
    "\n",
    "---\n",
    "`leaf`データセットのジニ不純度を算出する。"
   ]
  },
  {
   "cell_type": "code",
   "execution_count": 4,
   "metadata": {
    "hide_input": true,
    "jupyter": {
     "source_hidden": true
    }
   },
   "outputs": [
    {
     "name": "stdout",
     "output_type": "stream",
     "text": [
      "leaf\n"
     ]
    },
    {
     "data": {
      "text/plain": [
       "0    A\n",
       "1    C\n",
       "    ..\n",
       "8    C\n",
       "9    C\n",
       "Name: leaf, Length: 10, dtype: category\n",
       "Categories (3, object): [A, B, C]"
      ]
     },
     "metadata": {},
     "output_type": "display_data"
    }
   ],
   "source": [
    "np.random.seed(1234)\n",
    "leaf = pd.Series(pd.Categorical(\n",
    "    np.random.choice(('A', 'B', 'C'), size=10, p=(0.2, 0.3, 0.5))),\n",
    "                 name='leaf')\n",
    "print('leaf')\n",
    "display(leaf)"
   ]
  },
  {
   "cell_type": "code",
   "execution_count": null,
   "metadata": {},
   "outputs": [],
   "source": []
  },
  {
   "cell_type": "markdown",
   "metadata": {
    "solution2": "hidden",
    "solution2_first": true
   },
   "source": [
    "解答例\n",
    "\n",
    "---"
   ]
  },
  {
   "cell_type": "code",
   "execution_count": 5,
   "metadata": {
    "collapsed": true,
    "jupyter": {
     "outputs_hidden": true,
     "source_hidden": true
    },
    "solution2": "hidden"
   },
   "outputs": [
    {
     "data": {
      "text/plain": [
       "0.54"
      ]
     },
     "execution_count": 5,
     "metadata": {},
     "output_type": "execute_result"
    }
   ],
   "source": [
    "p = leaf.groupby(leaf).count() / leaf.count()\n",
    "1 - np.sum(p**2)"
   ]
  },
  {
   "cell_type": "markdown",
   "metadata": {},
   "source": [
    "---"
   ]
  },
  {
   "cell_type": "markdown",
   "metadata": {},
   "source": [
    "### エントロピー\n",
    "---\n",
    "サンプルに含まれるクラスの数を $c$、枝候補中でクラス $i$ に属するサンプルの割合を $p_{i}$ とすると、  \n",
    "エントロピー ${\\displaystyle I=-\\sum ^{c}_{i=1} p_{i} \\cdot log( p_{i})}$"
   ]
  },
  {
   "cell_type": "code",
   "execution_count": 6,
   "metadata": {
    "hide_input": true,
    "jupyter": {
     "source_hidden": true
    }
   },
   "outputs": [
    {
     "data": {
      "image/png": "[encoded data removed]",
      "text/plain": [
       "<Figure size 288x288 with 1 Axes>"
      ]
     },
     "metadata": {
      "needs_background": "light"
     },
     "output_type": "display_data"
    }
   ],
   "source": [
    "from my_functions.decision_tree import criteria\n",
    "criteria.show('entropy')"
   ]
  },
  {
   "cell_type": "markdown",
   "metadata": {},
   "source": [
    "対数の底は何でもよいが、クラス数 $c$ にするとエントロピーの最大値が 1 となる。"
   ]
  },
  {
   "cell_type": "markdown",
   "metadata": {},
   "source": [
    "練習問題\n",
    "\n",
    "---\n",
    "`leaf`データセットのエントロピーを算出する。"
   ]
  },
  {
   "cell_type": "code",
   "execution_count": null,
   "metadata": {},
   "outputs": [],
   "source": []
  },
  {
   "cell_type": "markdown",
   "metadata": {
    "solution2": "hidden",
    "solution2_first": true
   },
   "source": [
    "解答例\n",
    "\n",
    "---"
   ]
  },
  {
   "cell_type": "code",
   "execution_count": 7,
   "metadata": {
    "collapsed": true,
    "jupyter": {
     "outputs_hidden": true,
     "source_hidden": true
    },
    "solution2": "hidden"
   },
   "outputs": [
    {
     "data": {
      "text/plain": [
       "0.8979457248567797"
      ]
     },
     "execution_count": 7,
     "metadata": {},
     "output_type": "execute_result"
    }
   ],
   "source": [
    "p = leaf.groupby(leaf).count() / leaf.count()\n",
    "-np.sum(p * np.log(p))"
   ]
  },
  {
   "cell_type": "markdown",
   "metadata": {},
   "source": [
    "---"
   ]
  },
  {
   "cell_type": "markdown",
   "metadata": {},
   "source": [
    "### $\\chi ^{2}$ (カイ二乗) 統計量\n",
    "---\n",
    "説明変数 $x$ ・目的変数 $y$ のクロス集計表におけるセル $\\left( x_{i},y_{j}\\right)$ の観測度数を $o_{ij}$ ・期待度数 $e_{ij}$ とすると  \n",
    "カイ二乗統計量 $\\displaystyle \\chi ^{2} =\\sum ^{k}_{i=1}\\sum ^{c}_{j=1}\\frac{( o_{ij} -e_{ij})^{2}}{e_{ij}}$\n",
    "\n",
    "[$\\chi ^{2}$ (カイ二乗) 検定](crosstab_test.ipynb#%E3%82%AB%E3%82%A4%E4%BA%8C%E4%B9%97%E6%A4%9C%E5%AE%9A)を参照。"
   ]
  },
  {
   "cell_type": "markdown",
   "metadata": {},
   "source": [
    "## 分割アルゴリズム"
   ]
  },
  {
   "cell_type": "markdown",
   "metadata": {},
   "source": [
    "### CART\n",
    "---\n",
    "2 分岐のみで構築するアルゴリズム。  \n",
    "親ノードを $p$ ・子ノード (枝) 候補を $c$ とすると、親ノードの不純度から子ノードの不純度の加重平均を引いた情報利得 (Information Gain) $\\displaystyle G=I( p) -\\sum ^{2}_{i=1}\\frac{N_{c_{i}}}{N_{p}} I( c_{i})$ が最大になる (分割後の不純度が最小になる) 値で分割する。 (回帰木の場合は不純度にノード内分散を用いる)  \n",
    "本来の CART アルゴリズムは分割指標 $I$ にジニ不純度を使用しているが、エントロピーなどを使ってもよい。 (エントロピーを使った場合はC4.5・C5.0アルゴリズムを 2 分岐に制限したものに近い)\n",
    "\n",
    "<table class=\"text-center\">\n",
    "    <tr>\n",
    "        <th>分岐</th>\n",
    "        <td>二分木のみ</td>\n",
    "    </tr>\n",
    "    <tr>\n",
    "        <th>分割指標</th>\n",
    "        <td>ジニ不純度 (エントロピーなども使用可)</td>\n",
    "    </tr>\n",
    "    <tr>\n",
    "        <th>目的変数</th>\n",
    "        <td>質的変数 (分類) ・量的変数 (回帰)</td>\n",
    "    </tr>\n",
    "    <tr>\n",
    "        <th>説明変数</th>\n",
    "        <td>質的変数 (ダミー変数化する) ・量的変数</td>\n",
    "    </tr>\n",
    "</table>\n",
    "\n",
    "scikit-learn は CART アルゴリズムで実装されている。"
   ]
  },
  {
   "cell_type": "markdown",
   "metadata": {},
   "source": [
    "練習問題\n",
    "\n",
    "---\n",
    "`iris`データセットをジニ不純度を基準に`petal_width`が1.75以上かどうかで分けたときの情報利得を算出する。"
   ]
  },
  {
   "cell_type": "code",
   "execution_count": 8,
   "metadata": {
    "hide_input": true,
    "jupyter": {
     "source_hidden": true
    }
   },
   "outputs": [
    {
     "name": "stdout",
     "output_type": "stream",
     "text": [
      "iris\n"
     ]
    },
    {
     "data": {
      "text/html": [
       "<div>\n",
       "<style scoped>\n",
       "    .dataframe tbody tr th:only-of-type {\n",
       "        vertical-align: middle;\n",
       "    }\n",
       "\n",
       "    .dataframe tbody tr th {\n",
       "        vertical-align: top;\n",
       "    }\n",
       "\n",
       "    .dataframe thead th {\n",
       "        text-align: right;\n",
       "    }\n",
       "</style>\n",
       "<table border=\"1\" class=\"dataframe\">\n",
       "  <thead>\n",
       "    <tr style=\"text-align: right;\">\n",
       "      <th></th>\n",
       "      <th>sepal_length</th>\n",
       "      <th>sepal_width</th>\n",
       "      <th>petal_length</th>\n",
       "      <th>petal_width</th>\n",
       "      <th>species</th>\n",
       "    </tr>\n",
       "  </thead>\n",
       "  <tbody>\n",
       "    <tr>\n",
       "      <th>0</th>\n",
       "      <td>5.1</td>\n",
       "      <td>3.5</td>\n",
       "      <td>1.4</td>\n",
       "      <td>0.2</td>\n",
       "      <td>setosa</td>\n",
       "    </tr>\n",
       "    <tr>\n",
       "      <th>1</th>\n",
       "      <td>4.9</td>\n",
       "      <td>3.0</td>\n",
       "      <td>1.4</td>\n",
       "      <td>0.2</td>\n",
       "      <td>setosa</td>\n",
       "    </tr>\n",
       "    <tr>\n",
       "      <th>...</th>\n",
       "      <td>...</td>\n",
       "      <td>...</td>\n",
       "      <td>...</td>\n",
       "      <td>...</td>\n",
       "      <td>...</td>\n",
       "    </tr>\n",
       "    <tr>\n",
       "      <th>148</th>\n",
       "      <td>6.2</td>\n",
       "      <td>3.4</td>\n",
       "      <td>5.4</td>\n",
       "      <td>2.3</td>\n",
       "      <td>virginica</td>\n",
       "    </tr>\n",
       "    <tr>\n",
       "      <th>149</th>\n",
       "      <td>5.9</td>\n",
       "      <td>3.0</td>\n",
       "      <td>5.1</td>\n",
       "      <td>1.8</td>\n",
       "      <td>virginica</td>\n",
       "    </tr>\n",
       "  </tbody>\n",
       "</table>\n",
       "<p>150 rows × 5 columns</p>\n",
       "</div>"
      ],
      "text/plain": [
       "     sepal_length  sepal_width  petal_length  petal_width    species\n",
       "0             5.1          3.5           1.4          0.2     setosa\n",
       "1             4.9          3.0           1.4          0.2     setosa\n",
       "..            ...          ...           ...          ...        ...\n",
       "148           6.2          3.4           5.4          2.3  virginica\n",
       "149           5.9          3.0           5.1          1.8  virginica\n",
       "\n",
       "[150 rows x 5 columns]"
      ]
     },
     "metadata": {},
     "output_type": "display_data"
    }
   ],
   "source": [
    "iris = sns.load_dataset('iris')\n",
    "print('iris')\n",
    "display(iris)"
   ]
  },
  {
   "cell_type": "code",
   "execution_count": null,
   "metadata": {},
   "outputs": [],
   "source": []
  },
  {
   "cell_type": "markdown",
   "metadata": {
    "solution2": "hidden",
    "solution2_first": true
   },
   "source": [
    "解答例\n",
    "\n",
    "---"
   ]
  },
  {
   "cell_type": "code",
   "execution_count": 9,
   "metadata": {
    "collapsed": true,
    "jupyter": {
     "outputs_hidden": true,
     "source_hidden": true
    },
    "solution2": "hidden"
   },
   "outputs": [
    {
     "name": "stdout",
     "output_type": "stream",
     "text": [
      "Information Gain : 0.276\n"
     ]
    }
   ],
   "source": [
    "def gini(x):\n",
    "    return 1 - np.sum((x.groupby(x).count() / x.count())**2)\n",
    "\n",
    "\n",
    "division = 1.75\n",
    "parent = iris['species']\n",
    "left = iris.query('petal_width >= @division')['species']\n",
    "right = iris.query('petal_width < @division')['species']\n",
    "gain = gini(parent) - sum(\n",
    "    [c.size / parent.size * gini(c) for c in (left, right)])\n",
    "print(f'Information Gain : {gain:.3f}')"
   ]
  },
  {
   "cell_type": "markdown",
   "metadata": {},
   "source": [
    "---"
   ]
  },
  {
   "cell_type": "markdown",
   "metadata": {},
   "source": [
    "### C4.5・C5.0\n",
    "---\n",
    "多分岐も構築できるアルゴリズム。  \n",
    "CART アルゴリズムと同じく、情報利得 (Information Gain) $\\displaystyle G=I( p) -\\sum ^{2}_{i=1}\\frac{N_{c_{i}}}{N_{p}} I( c_{i})$ が最大になる値で分割するが、不純度にエントロピーを使用する。\n",
    "\n",
    "<table class=\"text-center\">\n",
    "    <tr>\n",
    "        <th>分岐</th>\n",
    "        <td>多分岐可能</td>\n",
    "    </tr>\n",
    "    <tr>\n",
    "        <th>分割指標</th>\n",
    "        <td>エントロピー</td>\n",
    "    </tr>\n",
    "    <tr>\n",
    "        <th>目的変数</th>\n",
    "        <td>質的変数 (分類)</td>\n",
    "    </tr>\n",
    "    <tr>\n",
    "        <th>説明変数</th>\n",
    "        <td>質的変数・量的変数</td>\n",
    "    </tr>\n",
    "</table>"
   ]
  },
  {
   "cell_type": "markdown",
   "metadata": {},
   "source": [
    "練習問題\n",
    "\n",
    "---\n",
    "`iris`データセットをエントロピーを基準に`petal_width`が1.75以上かどうかで分けたときの情報獲得量を算出する。"
   ]
  },
  {
   "cell_type": "code",
   "execution_count": null,
   "metadata": {},
   "outputs": [],
   "source": []
  },
  {
   "cell_type": "markdown",
   "metadata": {
    "solution2": "hidden",
    "solution2_first": true
   },
   "source": [
    "解答例\n",
    "\n",
    "---"
   ]
  },
  {
   "cell_type": "code",
   "execution_count": 10,
   "metadata": {
    "collapsed": true,
    "jupyter": {
     "outputs_hidden": true,
     "source_hidden": true
    },
    "solution2": "hidden"
   },
   "outputs": [
    {
     "name": "stdout",
     "output_type": "stream",
     "text": [
      "Information Gain : 0.475\n"
     ]
    }
   ],
   "source": [
    "def entropy(x):\n",
    "    p = x.groupby(x).count() / x.count()\n",
    "    return -np.sum(p * np.log(p))\n",
    "\n",
    "\n",
    "division = 1.75\n",
    "parent = iris['species']\n",
    "left = iris.query('petal_width >= @division')['species']\n",
    "right = iris.query('petal_width < @division')['species']\n",
    "gain = entropy(parent) - sum(\n",
    "    [c.size / parent.size * entropy(c) for c in (left, right)])\n",
    "print(f'Information Gain : {gain:.3f}')"
   ]
  },
  {
   "cell_type": "markdown",
   "metadata": {},
   "source": [
    "---"
   ]
  },
  {
   "cell_type": "markdown",
   "metadata": {},
   "source": [
    "### CHAID\n",
    "---\n",
    "多分岐も構築できるアルゴリズム。  \n",
    "$\\chi ^{2}$ 統計量の $p$ 値が最も低くなる値で分割する。 (ただし、$p$ 値が有意水準を上回っている場合はそれ以上の分岐を止める)\n",
    "\n",
    "<table class=\"text-center\">\n",
    "    <tr>\n",
    "        <th>分岐</th>\n",
    "        <td>多分岐可能</td>\n",
    "    </tr>\n",
    "    <tr>\n",
    "        <th>分割指標</th>\n",
    "        <td>$\\chi ^{2}$ 統計量 ($p$ 値)</td>\n",
    "    </tr>\n",
    "    <tr>\n",
    "        <th>目的変数</th>\n",
    "        <td>質的変数 (分類)</td>\n",
    "    </tr>\n",
    "    <tr>\n",
    "        <th>説明変数</th>\n",
    "        <td>質的変数・量的変数 (内部的に離散化して質的変数として扱う)</td>\n",
    "    </tr>\n",
    "</table>"
   ]
  },
  {
   "cell_type": "markdown",
   "metadata": {},
   "source": [
    "## Pythonでの決定木の実行方法\n",
    "---\n",
    "`sklearn.tree.DecisionTreeClassifier`を使用する。"
   ]
  },
  {
   "cell_type": "code",
   "execution_count": 11,
   "metadata": {
    "collapsed": true,
    "jupyter": {
     "outputs_hidden": true
    }
   },
   "outputs": [
    {
     "name": "stdout",
     "output_type": "stream",
     "text": [
      "Help on class DecisionTreeClassifier in module sklearn.tree._classes:\n",
      "\n",
      "class DecisionTreeClassifier(sklearn.base.ClassifierMixin, BaseDecisionTree)\n",
      " |  DecisionTreeClassifier(*, criterion='gini', splitter='best', max_depth=None, min_samples_split=2, min_samples_leaf=1, min_weight_fraction_leaf=0.0, max_features=None, random_state=None, max_leaf_nodes=None, min_impurity_decrease=0.0, min_impurity_split=None, class_weight=None, presort='deprecated', ccp_alpha=0.0)\n",
      " |  \n",
      " |  A decision tree classifier.\n",
      " |  \n",
      " |  Read more in the :ref:`User Guide <tree>`.\n",
      " |  \n",
      " |  Parameters\n",
      " |  ----------\n",
      " |  criterion : {\"gini\", \"entropy\"}, default=\"gini\"\n",
      " |      The function to measure the quality of a split. Supported criteria are\n",
      " |      \"gini\" for the Gini impurity and \"entropy\" for the information gain.\n",
      " |  \n",
      " |  splitter : {\"best\", \"random\"}, default=\"best\"\n",
      " |      The strategy used to choose the split at each node. Supported\n",
      " |      strategies are \"best\" to choose the best split and \"random\" to choose\n",
      " |      the best random split.\n",
      " |  \n",
      " |  max_depth : int, default=None\n",
      " |      The maximum depth of the tree. If None, then nodes are expanded until\n",
      " |      all leaves are pure or until all leaves contain less than\n",
      " |      min_samples_split samples.\n",
      " |  \n",
      " |  min_samples_split : int or float, default=2\n",
      " |      The minimum number of samples required to split an internal node:\n",
      " |  \n",
      " |      - If int, then consider `min_samples_split` as the minimum number.\n",
      " |      - If float, then `min_samples_split` is a fraction and\n",
      " |        `ceil(min_samples_split * n_samples)` are the minimum\n",
      " |        number of samples for each split.\n",
      " |  \n",
      " |      .. versionchanged:: 0.18\n",
      " |         Added float values for fractions.\n",
      " |  \n",
      " |  min_samples_leaf : int or float, default=1\n",
      " |      The minimum number of samples required to be at a leaf node.\n",
      " |      A split point at any depth will only be considered if it leaves at\n",
      " |      least ``min_samples_leaf`` training samples in each of the left and\n",
      " |      right branches.  This may have the effect of smoothing the model,\n",
      " |      especially in regression.\n",
      " |  \n",
      " |      - If int, then consider `min_samples_leaf` as the minimum number.\n",
      " |      - If float, then `min_samples_leaf` is a fraction and\n",
      " |        `ceil(min_samples_leaf * n_samples)` are the minimum\n",
      " |        number of samples for each node.\n",
      " |  \n",
      " |      .. versionchanged:: 0.18\n",
      " |         Added float values for fractions.\n",
      " |  \n",
      " |  min_weight_fraction_leaf : float, default=0.0\n",
      " |      The minimum weighted fraction of the sum total of weights (of all\n",
      " |      the input samples) required to be at a leaf node. Samples have\n",
      " |      equal weight when sample_weight is not provided.\n",
      " |  \n",
      " |  max_features : int, float or {\"auto\", \"sqrt\", \"log2\"}, default=None\n",
      " |      The number of features to consider when looking for the best split:\n",
      " |  \n",
      " |          - If int, then consider `max_features` features at each split.\n",
      " |          - If float, then `max_features` is a fraction and\n",
      " |            `int(max_features * n_features)` features are considered at each\n",
      " |            split.\n",
      " |          - If \"auto\", then `max_features=sqrt(n_features)`.\n",
      " |          - If \"sqrt\", then `max_features=sqrt(n_features)`.\n",
      " |          - If \"log2\", then `max_features=log2(n_features)`.\n",
      " |          - If None, then `max_features=n_features`.\n",
      " |  \n",
      " |      Note: the search for a split does not stop until at least one\n",
      " |      valid partition of the node samples is found, even if it requires to\n",
      " |      effectively inspect more than ``max_features`` features.\n",
      " |  \n",
      " |  random_state : int, RandomState instance, default=None\n",
      " |      Controls the randomness of the estimator. The features are always\n",
      " |      randomly permuted at each split, even if ``splitter`` is set to\n",
      " |      ``\"best\"``. When ``max_features < n_features``, the algorithm will\n",
      " |      select ``max_features`` at random at each split before finding the best\n",
      " |      split among them. But the best found split may vary across different\n",
      " |      runs, even if ``max_features=n_features``. That is the case, if the\n",
      " |      improvement of the criterion is identical for several splits and one\n",
      " |      split has to be selected at random. To obtain a deterministic behaviour\n",
      " |      during fitting, ``random_state`` has to be fixed to an integer.\n",
      " |      See :term:`Glossary <random_state>` for details.\n",
      " |  \n",
      " |  max_leaf_nodes : int, default=None\n",
      " |      Grow a tree with ``max_leaf_nodes`` in best-first fashion.\n",
      " |      Best nodes are defined as relative reduction in impurity.\n",
      " |      If None then unlimited number of leaf nodes.\n",
      " |  \n",
      " |  min_impurity_decrease : float, default=0.0\n",
      " |      A node will be split if this split induces a decrease of the impurity\n",
      " |      greater than or equal to this value.\n",
      " |  \n",
      " |      The weighted impurity decrease equation is the following::\n",
      " |  \n",
      " |          N_t / N * (impurity - N_t_R / N_t * right_impurity\n",
      " |                              - N_t_L / N_t * left_impurity)\n",
      " |  \n",
      " |      where ``N`` is the total number of samples, ``N_t`` is the number of\n",
      " |      samples at the current node, ``N_t_L`` is the number of samples in the\n",
      " |      left child, and ``N_t_R`` is the number of samples in the right child.\n",
      " |  \n",
      " |      ``N``, ``N_t``, ``N_t_R`` and ``N_t_L`` all refer to the weighted sum,\n",
      " |      if ``sample_weight`` is passed.\n",
      " |  \n",
      " |      .. versionadded:: 0.19\n",
      " |  \n",
      " |  min_impurity_split : float, default=0\n",
      " |      Threshold for early stopping in tree growth. A node will split\n",
      " |      if its impurity is above the threshold, otherwise it is a leaf.\n",
      " |  \n",
      " |      .. deprecated:: 0.19\n",
      " |         ``min_impurity_split`` has been deprecated in favor of\n",
      " |         ``min_impurity_decrease`` in 0.19. The default value of\n",
      " |         ``min_impurity_split`` has changed from 1e-7 to 0 in 0.23 and it\n",
      " |         will be removed in 0.25. Use ``min_impurity_decrease`` instead.\n",
      " |  \n",
      " |  class_weight : dict, list of dict or \"balanced\", default=None\n",
      " |      Weights associated with classes in the form ``{class_label: weight}``.\n",
      " |      If None, all classes are supposed to have weight one. For\n",
      " |      multi-output problems, a list of dicts can be provided in the same\n",
      " |      order as the columns of y.\n",
      " |  \n",
      " |      Note that for multioutput (including multilabel) weights should be\n",
      " |      defined for each class of every column in its own dict. For example,\n",
      " |      for four-class multilabel classification weights should be\n",
      " |      [{0: 1, 1: 1}, {0: 1, 1: 5}, {0: 1, 1: 1}, {0: 1, 1: 1}] instead of\n",
      " |      [{1:1}, {2:5}, {3:1}, {4:1}].\n",
      " |  \n",
      " |      The \"balanced\" mode uses the values of y to automatically adjust\n",
      " |      weights inversely proportional to class frequencies in the input data\n",
      " |      as ``n_samples / (n_classes * np.bincount(y))``\n",
      " |  \n",
      " |      For multi-output, the weights of each column of y will be multiplied.\n",
      " |  \n",
      " |      Note that these weights will be multiplied with sample_weight (passed\n",
      " |      through the fit method) if sample_weight is specified.\n",
      " |  \n",
      " |  presort : deprecated, default='deprecated'\n",
      " |      This parameter is deprecated and will be removed in v0.24.\n",
      " |  \n",
      " |      .. deprecated:: 0.22\n",
      " |  \n",
      " |  ccp_alpha : non-negative float, default=0.0\n",
      " |      Complexity parameter used for Minimal Cost-Complexity Pruning. The\n",
      " |      subtree with the largest cost complexity that is smaller than\n",
      " |      ``ccp_alpha`` will be chosen. By default, no pruning is performed. See\n",
      " |      :ref:`minimal_cost_complexity_pruning` for details.\n",
      " |  \n",
      " |      .. versionadded:: 0.22\n",
      " |  \n",
      " |  Attributes\n",
      " |  ----------\n",
      " |  classes_ : ndarray of shape (n_classes,) or list of ndarray\n",
      " |      The classes labels (single output problem),\n",
      " |      or a list of arrays of class labels (multi-output problem).\n",
      " |  \n",
      " |  feature_importances_ : ndarray of shape (n_features,)\n",
      " |      The impurity-based feature importances.\n",
      " |      The higher, the more important the feature.\n",
      " |      The importance of a feature is computed as the (normalized)\n",
      " |      total reduction of the criterion brought by that feature.  It is also\n",
      " |      known as the Gini importance [4]_.\n",
      " |  \n",
      " |      Warning: impurity-based feature importances can be misleading for\n",
      " |      high cardinality features (many unique values). See\n",
      " |      :func:`sklearn.inspection.permutation_importance` as an alternative.\n",
      " |  \n",
      " |  max_features_ : int\n",
      " |      The inferred value of max_features.\n",
      " |  \n",
      " |  n_classes_ : int or list of int\n",
      " |      The number of classes (for single output problems),\n",
      " |      or a list containing the number of classes for each\n",
      " |      output (for multi-output problems).\n",
      " |  \n",
      " |  n_features_ : int\n",
      " |      The number of features when ``fit`` is performed.\n",
      " |  \n",
      " |  n_outputs_ : int\n",
      " |      The number of outputs when ``fit`` is performed.\n",
      " |  \n",
      " |  tree_ : Tree\n",
      " |      The underlying Tree object. Please refer to\n",
      " |      ``help(sklearn.tree._tree.Tree)`` for attributes of Tree object and\n",
      " |      :ref:`sphx_glr_auto_examples_tree_plot_unveil_tree_structure.py`\n",
      " |      for basic usage of these attributes.\n",
      " |  \n",
      " |  See Also\n",
      " |  --------\n",
      " |  DecisionTreeRegressor : A decision tree regressor.\n",
      " |  \n",
      " |  Notes\n",
      " |  -----\n",
      " |  The default values for the parameters controlling the size of the trees\n",
      " |  (e.g. ``max_depth``, ``min_samples_leaf``, etc.) lead to fully grown and\n",
      " |  unpruned trees which can potentially be very large on some data sets. To\n",
      " |  reduce memory consumption, the complexity and size of the trees should be\n",
      " |  controlled by setting those parameter values.\n",
      " |  \n",
      " |  References\n",
      " |  ----------\n",
      " |  \n",
      " |  .. [1] https://en.wikipedia.org/wiki/Decision_tree_learning\n",
      " |  \n",
      " |  .. [2] L. Breiman, J. Friedman, R. Olshen, and C. Stone, \"Classification\n",
      " |         and Regression Trees\", Wadsworth, Belmont, CA, 1984.\n",
      " |  \n",
      " |  .. [3] T. Hastie, R. Tibshirani and J. Friedman. \"Elements of Statistical\n",
      " |         Learning\", Springer, 2009.\n",
      " |  \n",
      " |  .. [4] L. Breiman, and A. Cutler, \"Random Forests\",\n",
      " |         https://www.stat.berkeley.edu/~breiman/RandomForests/cc_home.htm\n",
      " |  \n",
      " |  Examples\n",
      " |  --------\n",
      " |  >>> from sklearn.datasets import load_iris\n",
      " |  >>> from sklearn.model_selection import cross_val_score\n",
      " |  >>> from sklearn.tree import DecisionTreeClassifier\n",
      " |  >>> clf = DecisionTreeClassifier(random_state=0)\n",
      " |  >>> iris = load_iris()\n",
      " |  >>> cross_val_score(clf, iris.data, iris.target, cv=10)\n",
      " |  ...                             # doctest: +SKIP\n",
      " |  ...\n",
      " |  array([ 1.     ,  0.93...,  0.86...,  0.93...,  0.93...,\n",
      " |          0.93...,  0.93...,  1.     ,  0.93...,  1.      ])\n",
      " |  \n",
      " |  Method resolution order:\n",
      " |      DecisionTreeClassifier\n",
      " |      sklearn.base.ClassifierMixin\n",
      " |      BaseDecisionTree\n",
      " |      sklearn.base.MultiOutputMixin\n",
      " |      sklearn.base.BaseEstimator\n",
      " |      builtins.object\n",
      " |  \n",
      " |  Methods defined here:\n",
      " |  \n",
      " |  __init__(self, *, criterion='gini', splitter='best', max_depth=None, min_samples_split=2, min_samples_leaf=1, min_weight_fraction_leaf=0.0, max_features=None, random_state=None, max_leaf_nodes=None, min_impurity_decrease=0.0, min_impurity_split=None, class_weight=None, presort='deprecated', ccp_alpha=0.0)\n",
      " |      Initialize self.  See help(type(self)) for accurate signature.\n",
      " |  \n",
      " |  fit(self, X, y, sample_weight=None, check_input=True, X_idx_sorted=None)\n",
      " |      Build a decision tree classifier from the training set (X, y).\n",
      " |      \n",
      " |      Parameters\n",
      " |      ----------\n",
      " |      X : {array-like, sparse matrix} of shape (n_samples, n_features)\n",
      " |          The training input samples. Internally, it will be converted to\n",
      " |          ``dtype=np.float32`` and if a sparse matrix is provided\n",
      " |          to a sparse ``csc_matrix``.\n",
      " |      \n",
      " |      y : array-like of shape (n_samples,) or (n_samples, n_outputs)\n",
      " |          The target values (class labels) as integers or strings.\n",
      " |      \n",
      " |      sample_weight : array-like of shape (n_samples,), default=None\n",
      " |          Sample weights. If None, then samples are equally weighted. Splits\n",
      " |          that would create child nodes with net zero or negative weight are\n",
      " |          ignored while searching for a split in each node. Splits are also\n",
      " |          ignored if they would result in any single class carrying a\n",
      " |          negative weight in either child node.\n",
      " |      \n",
      " |      check_input : bool, default=True\n",
      " |          Allow to bypass several input checking.\n",
      " |          Don't use this parameter unless you know what you do.\n",
      " |      \n",
      " |      X_idx_sorted : array-like of shape (n_samples, n_features),                 default=None\n",
      " |          The indexes of the sorted training input samples. If many tree\n",
      " |          are grown on the same dataset, this allows the ordering to be\n",
      " |          cached between trees. If None, the data will be sorted here.\n",
      " |          Don't use this parameter unless you know what to do.\n",
      " |      \n",
      " |      Returns\n",
      " |      -------\n",
      " |      self : DecisionTreeClassifier\n",
      " |          Fitted estimator.\n",
      " |  \n",
      " |  predict_log_proba(self, X)\n",
      " |      Predict class log-probabilities of the input samples X.\n",
      " |      \n",
      " |      Parameters\n",
      " |      ----------\n",
      " |      X : {array-like, sparse matrix} of shape (n_samples, n_features)\n",
      " |          The input samples. Internally, it will be converted to\n",
      " |          ``dtype=np.float32`` and if a sparse matrix is provided\n",
      " |          to a sparse ``csr_matrix``.\n",
      " |      \n",
      " |      Returns\n",
      " |      -------\n",
      " |      proba : ndarray of shape (n_samples, n_classes) or list of n_outputs             such arrays if n_outputs > 1\n",
      " |          The class log-probabilities of the input samples. The order of the\n",
      " |          classes corresponds to that in the attribute :term:`classes_`.\n",
      " |  \n",
      " |  predict_proba(self, X, check_input=True)\n",
      " |      Predict class probabilities of the input samples X.\n",
      " |      \n",
      " |      The predicted class probability is the fraction of samples of the same\n",
      " |      class in a leaf.\n",
      " |      \n",
      " |      Parameters\n",
      " |      ----------\n",
      " |      X : {array-like, sparse matrix} of shape (n_samples, n_features)\n",
      " |          The input samples. Internally, it will be converted to\n",
      " |          ``dtype=np.float32`` and if a sparse matrix is provided\n",
      " |          to a sparse ``csr_matrix``.\n",
      " |      \n",
      " |      check_input : bool, default=True\n",
      " |          Allow to bypass several input checking.\n",
      " |          Don't use this parameter unless you know what you do.\n",
      " |      \n",
      " |      Returns\n",
      " |      -------\n",
      " |      proba : ndarray of shape (n_samples, n_classes) or list of n_outputs             such arrays if n_outputs > 1\n",
      " |          The class probabilities of the input samples. The order of the\n",
      " |          classes corresponds to that in the attribute :term:`classes_`.\n",
      " |  \n",
      " |  ----------------------------------------------------------------------\n",
      " |  Data and other attributes defined here:\n",
      " |  \n",
      " |  __abstractmethods__ = frozenset()\n",
      " |  \n",
      " |  ----------------------------------------------------------------------\n",
      " |  Methods inherited from sklearn.base.ClassifierMixin:\n",
      " |  \n",
      " |  score(self, X, y, sample_weight=None)\n",
      " |      Return the mean accuracy on the given test data and labels.\n",
      " |      \n",
      " |      In multi-label classification, this is the subset accuracy\n",
      " |      which is a harsh metric since you require for each sample that\n",
      " |      each label set be correctly predicted.\n",
      " |      \n",
      " |      Parameters\n",
      " |      ----------\n",
      " |      X : array-like of shape (n_samples, n_features)\n",
      " |          Test samples.\n",
      " |      \n",
      " |      y : array-like of shape (n_samples,) or (n_samples, n_outputs)\n",
      " |          True labels for X.\n",
      " |      \n",
      " |      sample_weight : array-like of shape (n_samples,), default=None\n",
      " |          Sample weights.\n",
      " |      \n",
      " |      Returns\n",
      " |      -------\n",
      " |      score : float\n",
      " |          Mean accuracy of self.predict(X) wrt. y.\n",
      " |  \n",
      " |  ----------------------------------------------------------------------\n",
      " |  Data descriptors inherited from sklearn.base.ClassifierMixin:\n",
      " |  \n",
      " |  __dict__\n",
      " |      dictionary for instance variables (if defined)\n",
      " |  \n",
      " |  __weakref__\n",
      " |      list of weak references to the object (if defined)\n",
      " |  \n",
      " |  ----------------------------------------------------------------------\n",
      " |  Methods inherited from BaseDecisionTree:\n",
      " |  \n",
      " |  apply(self, X, check_input=True)\n",
      " |      Return the index of the leaf that each sample is predicted as.\n",
      " |      \n",
      " |      .. versionadded:: 0.17\n",
      " |      \n",
      " |      Parameters\n",
      " |      ----------\n",
      " |      X : {array-like, sparse matrix} of shape (n_samples, n_features)\n",
      " |          The input samples. Internally, it will be converted to\n",
      " |          ``dtype=np.float32`` and if a sparse matrix is provided\n",
      " |          to a sparse ``csr_matrix``.\n",
      " |      \n",
      " |      check_input : bool, default=True\n",
      " |          Allow to bypass several input checking.\n",
      " |          Don't use this parameter unless you know what you do.\n",
      " |      \n",
      " |      Returns\n",
      " |      -------\n",
      " |      X_leaves : array-like of shape (n_samples,)\n",
      " |          For each datapoint x in X, return the index of the leaf x\n",
      " |          ends up in. Leaves are numbered within\n",
      " |          ``[0; self.tree_.node_count)``, possibly with gaps in the\n",
      " |          numbering.\n",
      " |  \n",
      " |  cost_complexity_pruning_path(self, X, y, sample_weight=None)\n",
      " |      Compute the pruning path during Minimal Cost-Complexity Pruning.\n",
      " |      \n",
      " |      See :ref:`minimal_cost_complexity_pruning` for details on the pruning\n",
      " |      process.\n",
      " |      \n",
      " |      Parameters\n",
      " |      ----------\n",
      " |      X : {array-like, sparse matrix} of shape (n_samples, n_features)\n",
      " |          The training input samples. Internally, it will be converted to\n",
      " |          ``dtype=np.float32`` and if a sparse matrix is provided\n",
      " |          to a sparse ``csc_matrix``.\n",
      " |      \n",
      " |      y : array-like of shape (n_samples,) or (n_samples, n_outputs)\n",
      " |          The target values (class labels) as integers or strings.\n",
      " |      \n",
      " |      sample_weight : array-like of shape (n_samples,), default=None\n",
      " |          Sample weights. If None, then samples are equally weighted. Splits\n",
      " |          that would create child nodes with net zero or negative weight are\n",
      " |          ignored while searching for a split in each node. Splits are also\n",
      " |          ignored if they would result in any single class carrying a\n",
      " |          negative weight in either child node.\n",
      " |      \n",
      " |      Returns\n",
      " |      -------\n",
      " |      ccp_path : :class:`~sklearn.utils.Bunch`\n",
      " |          Dictionary-like object, with the following attributes.\n",
      " |      \n",
      " |          ccp_alphas : ndarray\n",
      " |              Effective alphas of subtree during pruning.\n",
      " |      \n",
      " |          impurities : ndarray\n",
      " |              Sum of the impurities of the subtree leaves for the\n",
      " |              corresponding alpha value in ``ccp_alphas``.\n",
      " |  \n",
      " |  decision_path(self, X, check_input=True)\n",
      " |      Return the decision path in the tree.\n",
      " |      \n",
      " |      .. versionadded:: 0.18\n",
      " |      \n",
      " |      Parameters\n",
      " |      ----------\n",
      " |      X : {array-like, sparse matrix} of shape (n_samples, n_features)\n",
      " |          The input samples. Internally, it will be converted to\n",
      " |          ``dtype=np.float32`` and if a sparse matrix is provided\n",
      " |          to a sparse ``csr_matrix``.\n",
      " |      \n",
      " |      check_input : bool, default=True\n",
      " |          Allow to bypass several input checking.\n",
      " |          Don't use this parameter unless you know what you do.\n",
      " |      \n",
      " |      Returns\n",
      " |      -------\n",
      " |      indicator : sparse matrix of shape (n_samples, n_nodes)\n",
      " |          Return a node indicator CSR matrix where non zero elements\n",
      " |          indicates that the samples goes through the nodes.\n",
      " |  \n",
      " |  get_depth(self)\n",
      " |      Return the depth of the decision tree.\n",
      " |      \n",
      " |      The depth of a tree is the maximum distance between the root\n",
      " |      and any leaf.\n",
      " |      \n",
      " |      Returns\n",
      " |      -------\n",
      " |      self.tree_.max_depth : int\n",
      " |          The maximum depth of the tree.\n",
      " |  \n",
      " |  get_n_leaves(self)\n",
      " |      Return the number of leaves of the decision tree.\n",
      " |      \n",
      " |      Returns\n",
      " |      -------\n",
      " |      self.tree_.n_leaves : int\n",
      " |          Number of leaves.\n",
      " |  \n",
      " |  predict(self, X, check_input=True)\n",
      " |      Predict class or regression value for X.\n",
      " |      \n",
      " |      For a classification model, the predicted class for each sample in X is\n",
      " |      returned. For a regression model, the predicted value based on X is\n",
      " |      returned.\n",
      " |      \n",
      " |      Parameters\n",
      " |      ----------\n",
      " |      X : {array-like, sparse matrix} of shape (n_samples, n_features)\n",
      " |          The input samples. Internally, it will be converted to\n",
      " |          ``dtype=np.float32`` and if a sparse matrix is provided\n",
      " |          to a sparse ``csr_matrix``.\n",
      " |      \n",
      " |      check_input : bool, default=True\n",
      " |          Allow to bypass several input checking.\n",
      " |          Don't use this parameter unless you know what you do.\n",
      " |      \n",
      " |      Returns\n",
      " |      -------\n",
      " |      y : array-like of shape (n_samples,) or (n_samples, n_outputs)\n",
      " |          The predicted classes, or the predict values.\n",
      " |  \n",
      " |  ----------------------------------------------------------------------\n",
      " |  Readonly properties inherited from BaseDecisionTree:\n",
      " |  \n",
      " |  feature_importances_\n",
      " |      Return the feature importances.\n",
      " |      \n",
      " |      The importance of a feature is computed as the (normalized) total\n",
      " |      reduction of the criterion brought by that feature.\n",
      " |      It is also known as the Gini importance.\n",
      " |      \n",
      " |      Warning: impurity-based feature importances can be misleading for\n",
      " |      high cardinality features (many unique values). See\n",
      " |      :func:`sklearn.inspection.permutation_importance` as an alternative.\n",
      " |      \n",
      " |      Returns\n",
      " |      -------\n",
      " |      feature_importances_ : ndarray of shape (n_features,)\n",
      " |          Normalized total reduction of criteria by feature\n",
      " |          (Gini importance).\n",
      " |  \n",
      " |  ----------------------------------------------------------------------\n",
      " |  Methods inherited from sklearn.base.BaseEstimator:\n",
      " |  \n",
      " |  __getstate__(self)\n",
      " |  \n",
      " |  __repr__(self, N_CHAR_MAX=700)\n",
      " |      Return repr(self).\n",
      " |  \n",
      " |  __setstate__(self, state)\n",
      " |  \n",
      " |  get_params(self, deep=True)\n",
      " |      Get parameters for this estimator.\n",
      " |      \n",
      " |      Parameters\n",
      " |      ----------\n",
      " |      deep : bool, default=True\n",
      " |          If True, will return the parameters for this estimator and\n",
      " |          contained subobjects that are estimators.\n",
      " |      \n",
      " |      Returns\n",
      " |      -------\n",
      " |      params : mapping of string to any\n",
      " |          Parameter names mapped to their values.\n",
      " |  \n",
      " |  set_params(self, **params)\n",
      " |      Set the parameters of this estimator.\n",
      " |      \n",
      " |      The method works on simple estimators as well as on nested objects\n",
      " |      (such as pipelines). The latter have parameters of the form\n",
      " |      ``<component>__<parameter>`` so that it's possible to update each\n",
      " |      component of a nested object.\n",
      " |      \n",
      " |      Parameters\n",
      " |      ----------\n",
      " |      **params : dict\n",
      " |          Estimator parameters.\n",
      " |      \n",
      " |      Returns\n",
      " |      -------\n",
      " |      self : object\n",
      " |          Estimator instance.\n",
      "\n"
     ]
    }
   ],
   "source": [
    "help(DecisionTreeClassifier)"
   ]
  },
  {
   "cell_type": "code",
   "execution_count": 12,
   "metadata": {},
   "outputs": [
    {
     "data": {
      "text/plain": [
       "DecisionTreeClassifier()"
      ]
     },
     "execution_count": 12,
     "metadata": {},
     "output_type": "execute_result"
    }
   ],
   "source": [
    "model = DecisionTreeClassifier()\n",
    "model.fit(iris.iloc[:, :-1], iris.iloc[:, -1])"
   ]
  },
  {
   "cell_type": "markdown",
   "metadata": {},
   "source": [
    "構築された木の可視化には`sklearn.tree.export.plot_tree`を使用する。"
   ]
  },
  {
   "cell_type": "code",
   "execution_count": 13,
   "metadata": {
    "collapsed": true,
    "jupyter": {
     "outputs_hidden": true
    }
   },
   "outputs": [
    {
     "name": "stdout",
     "output_type": "stream",
     "text": [
      "Help on function plot_tree in module sklearn.tree._export:\n",
      "\n",
      "plot_tree(decision_tree, *, max_depth=None, feature_names=None, class_names=None, label='all', filled=False, impurity=True, node_ids=False, proportion=False, rotate='deprecated', rounded=False, precision=3, ax=None, fontsize=None)\n",
      "    Plot a decision tree.\n",
      "    \n",
      "    The sample counts that are shown are weighted with any sample_weights that\n",
      "    might be present.\n",
      "    \n",
      "    The visualization is fit automatically to the size of the axis.\n",
      "    Use the ``figsize`` or ``dpi`` arguments of ``plt.figure``  to control\n",
      "    the size of the rendering.\n",
      "    \n",
      "    Read more in the :ref:`User Guide <tree>`.\n",
      "    \n",
      "    .. versionadded:: 0.21\n",
      "    \n",
      "    Parameters\n",
      "    ----------\n",
      "    decision_tree : decision tree regressor or classifier\n",
      "        The decision tree to be plotted.\n",
      "    \n",
      "    max_depth : int, optional (default=None)\n",
      "        The maximum depth of the representation. If None, the tree is fully\n",
      "        generated.\n",
      "    \n",
      "    feature_names : list of strings, optional (default=None)\n",
      "        Names of each of the features.\n",
      "    \n",
      "    class_names : list of strings, bool or None, optional (default=None)\n",
      "        Names of each of the target classes in ascending numerical order.\n",
      "        Only relevant for classification and not supported for multi-output.\n",
      "        If ``True``, shows a symbolic representation of the class name.\n",
      "    \n",
      "    label : {'all', 'root', 'none'}, optional (default='all')\n",
      "        Whether to show informative labels for impurity, etc.\n",
      "        Options include 'all' to show at every node, 'root' to show only at\n",
      "        the top root node, or 'none' to not show at any node.\n",
      "    \n",
      "    filled : bool, optional (default=False)\n",
      "        When set to ``True``, paint nodes to indicate majority class for\n",
      "        classification, extremity of values for regression, or purity of node\n",
      "        for multi-output.\n",
      "    \n",
      "    impurity : bool, optional (default=True)\n",
      "        When set to ``True``, show the impurity at each node.\n",
      "    \n",
      "    node_ids : bool, optional (default=False)\n",
      "        When set to ``True``, show the ID number on each node.\n",
      "    \n",
      "    proportion : bool, optional (default=False)\n",
      "        When set to ``True``, change the display of 'values' and/or 'samples'\n",
      "        to be proportions and percentages respectively.\n",
      "    \n",
      "    rotate : bool, optional (default=False)\n",
      "        This parameter has no effect on the matplotlib tree visualisation and\n",
      "        it is kept here for backward compatibility.\n",
      "    \n",
      "        .. deprecated:: 0.23\n",
      "           ``rotate`` is deprecated in 0.23 and will be removed in 0.25.\n",
      "    \n",
      "    \n",
      "    rounded : bool, optional (default=False)\n",
      "        When set to ``True``, draw node boxes with rounded corners and use\n",
      "        Helvetica fonts instead of Times-Roman.\n",
      "    \n",
      "    precision : int, optional (default=3)\n",
      "        Number of digits of precision for floating point in the values of\n",
      "        impurity, threshold and value attributes of each node.\n",
      "    \n",
      "    ax : matplotlib axis, optional (default=None)\n",
      "        Axes to plot to. If None, use current axis. Any previous content\n",
      "        is cleared.\n",
      "    \n",
      "    fontsize : int, optional (default=None)\n",
      "        Size of text font. If None, determined automatically to fit figure.\n",
      "    \n",
      "    Returns\n",
      "    -------\n",
      "    annotations : list of artists\n",
      "        List containing the artists for the annotation boxes making up the\n",
      "        tree.\n",
      "    \n",
      "    Examples\n",
      "    --------\n",
      "    >>> from sklearn.datasets import load_iris\n",
      "    >>> from sklearn import tree\n",
      "    \n",
      "    >>> clf = tree.DecisionTreeClassifier(random_state=0)\n",
      "    >>> iris = load_iris()\n",
      "    \n",
      "    >>> clf = clf.fit(iris.data, iris.target)\n",
      "    >>> tree.plot_tree(clf)  # doctest: +SKIP\n",
      "    [Text(251.5,345.217,'X[3] <= 0.8...\n",
      "\n"
     ]
    }
   ],
   "source": [
    "help(plot_tree)"
   ]
  },
  {
   "cell_type": "code",
   "execution_count": 14,
   "metadata": {},
   "outputs": [
    {
     "data": {
      "image/png": "[encoded data removed]",
      "text/plain": [
       "<Figure size 432x288 with 1 Axes>"
      ]
     },
     "metadata": {
      "needs_background": "light"
     },
     "output_type": "display_data"
    }
   ],
   "source": [
    "plot_tree(model, feature_names=iris.columns[:-1], filled=True)\n",
    "plt.show()"
   ]
  },
  {
   "cell_type": "markdown",
   "metadata": {},
   "source": [
    "Python 3.6 以上なら[dtreeviz](https://github.com/parrt/dtreeviz)を使ってみてもいい。"
   ]
  },
  {
   "cell_type": "markdown",
   "metadata": {},
   "source": [
    "練習問題\n",
    "\n",
    "---\n",
    "`wine`データセットから深さ 3 の決定木 (分類木) を構築し、可視化する。"
   ]
  },
  {
   "cell_type": "code",
   "execution_count": 15,
   "metadata": {
    "hide_input": true,
    "jupyter": {
     "source_hidden": true
    }
   },
   "outputs": [
    {
     "name": "stdout",
     "output_type": "stream",
     "text": [
      "wine\n"
     ]
    },
    {
     "data": {
      "text/html": [
       "<div>\n",
       "<style scoped>\n",
       "    .dataframe tbody tr th:only-of-type {\n",
       "        vertical-align: middle;\n",
       "    }\n",
       "\n",
       "    .dataframe tbody tr th {\n",
       "        vertical-align: top;\n",
       "    }\n",
       "\n",
       "    .dataframe thead th {\n",
       "        text-align: right;\n",
       "    }\n",
       "</style>\n",
       "<table border=\"1\" class=\"dataframe\">\n",
       "  <thead>\n",
       "    <tr style=\"text-align: right;\">\n",
       "      <th></th>\n",
       "      <th>alcohol</th>\n",
       "      <th>malic_acid</th>\n",
       "      <th>ash</th>\n",
       "      <th>alcalinity_of_ash</th>\n",
       "      <th>...</th>\n",
       "      <th>hue</th>\n",
       "      <th>od280/od315_of_diluted_wines</th>\n",
       "      <th>proline</th>\n",
       "      <th>target</th>\n",
       "    </tr>\n",
       "  </thead>\n",
       "  <tbody>\n",
       "    <tr>\n",
       "      <th>0</th>\n",
       "      <td>14.23</td>\n",
       "      <td>1.71</td>\n",
       "      <td>2.43</td>\n",
       "      <td>15.6</td>\n",
       "      <td>...</td>\n",
       "      <td>1.04</td>\n",
       "      <td>3.92</td>\n",
       "      <td>1065.0</td>\n",
       "      <td>0.0</td>\n",
       "    </tr>\n",
       "    <tr>\n",
       "      <th>1</th>\n",
       "      <td>13.20</td>\n",
       "      <td>1.78</td>\n",
       "      <td>2.14</td>\n",
       "      <td>11.2</td>\n",
       "      <td>...</td>\n",
       "      <td>1.05</td>\n",
       "      <td>3.40</td>\n",
       "      <td>1050.0</td>\n",
       "      <td>0.0</td>\n",
       "    </tr>\n",
       "    <tr>\n",
       "      <th>...</th>\n",
       "      <td>...</td>\n",
       "      <td>...</td>\n",
       "      <td>...</td>\n",
       "      <td>...</td>\n",
       "      <td>...</td>\n",
       "      <td>...</td>\n",
       "      <td>...</td>\n",
       "      <td>...</td>\n",
       "      <td>...</td>\n",
       "    </tr>\n",
       "    <tr>\n",
       "      <th>176</th>\n",
       "      <td>13.17</td>\n",
       "      <td>2.59</td>\n",
       "      <td>2.37</td>\n",
       "      <td>20.0</td>\n",
       "      <td>...</td>\n",
       "      <td>0.60</td>\n",
       "      <td>1.62</td>\n",
       "      <td>840.0</td>\n",
       "      <td>2.0</td>\n",
       "    </tr>\n",
       "    <tr>\n",
       "      <th>177</th>\n",
       "      <td>14.13</td>\n",
       "      <td>4.10</td>\n",
       "      <td>2.74</td>\n",
       "      <td>24.5</td>\n",
       "      <td>...</td>\n",
       "      <td>0.61</td>\n",
       "      <td>1.60</td>\n",
       "      <td>560.0</td>\n",
       "      <td>2.0</td>\n",
       "    </tr>\n",
       "  </tbody>\n",
       "</table>\n",
       "<p>178 rows × 14 columns</p>\n",
       "</div>"
      ],
      "text/plain": [
       "     alcohol  malic_acid   ash  alcalinity_of_ash  ...   hue  \\\n",
       "0      14.23        1.71  2.43               15.6  ...  1.04   \n",
       "1      13.20        1.78  2.14               11.2  ...  1.05   \n",
       "..       ...         ...   ...                ...  ...   ...   \n",
       "176    13.17        2.59  2.37               20.0  ...  0.60   \n",
       "177    14.13        4.10  2.74               24.5  ...  0.61   \n",
       "\n",
       "     od280/od315_of_diluted_wines  proline  target  \n",
       "0                            3.92   1065.0     0.0  \n",
       "1                            3.40   1050.0     0.0  \n",
       "..                            ...      ...     ...  \n",
       "176                          1.62    840.0     2.0  \n",
       "177                          1.60    560.0     2.0  \n",
       "\n",
       "[178 rows x 14 columns]"
      ]
     },
     "metadata": {},
     "output_type": "display_data"
    }
   ],
   "source": [
    "loader = load_wine()\n",
    "wine = pd.DataFrame(np.column_stack([loader.data, loader.target]),\n",
    "                    columns=loader.feature_names + ['target'])\n",
    "print('wine')\n",
    "display(wine)"
   ]
  },
  {
   "cell_type": "code",
   "execution_count": null,
   "metadata": {},
   "outputs": [],
   "source": []
  },
  {
   "cell_type": "markdown",
   "metadata": {
    "solution2": "hidden",
    "solution2_first": true
   },
   "source": [
    "解答例\n",
    "\n",
    "---"
   ]
  },
  {
   "cell_type": "code",
   "execution_count": 16,
   "metadata": {
    "collapsed": true,
    "jupyter": {
     "outputs_hidden": true,
     "source_hidden": true
    },
    "solution2": "hidden"
   },
   "outputs": [
    {
     "data": {
      "image/png": "[encoded data removed]",
      "text/plain": [
       "<Figure size 1080x504 with 1 Axes>"
      ]
     },
     "metadata": {
      "needs_background": "light"
     },
     "output_type": "display_data"
    }
   ],
   "source": [
    "model = DecisionTreeClassifier(max_depth=3).fit(wine.iloc[:, :-1],\n",
    "                                                wine['target'])\n",
    "plt.figure(figsize=(15, 7))\n",
    "plot_tree(model, feature_names=wine.columns[:-1], filled=True, fontsize='large')\n",
    "plt.show()"
   ]
  },
  {
   "cell_type": "markdown",
   "metadata": {},
   "source": [
    "---"
   ]
  },
  {
   "cell_type": "markdown",
   "metadata": {},
   "source": [
    "## 推薦図書\n",
    "---\n",
    "- [Python 機械学習プログラミング 達人データサイエンティストによる理論と実践](https://www.amazon.co.jp/Python-%E6%A9%9F%E6%A2%B0%E5%AD%A6%E7%BF%92%E3%83%97%E3%83%AD%E3%82%B0%E3%83%A9%E3%83%9F%E3%83%B3%E3%82%B0-%E9%81%94%E4%BA%BA%E3%83%87%E3%83%BC%E3%82%BF%E3%82%B5%E3%82%A4%E3%82%A8%E3%83%B3%E3%83%86%E3%82%A3%E3%82%B9%E3%83%88%E3%81%AB%E3%82%88%E3%82%8B%E7%90%86%E8%AB%96%E3%81%A8%E5%AE%9F%E8%B7%B5-impress-gear/dp/4295003379/)"
   ]
  }
 ],
 "metadata": {
  "kernelspec": {
   "display_name": "Python 3",
   "language": "python",
   "name": "python3"
  },
  "language_info": {
   "codemirror_mode": {
    "name": "ipython",
    "version": 3
   },
   "file_extension": ".py",
   "mimetype": "text/x-python",
   "name": "python",
   "nbconvert_exporter": "python",
   "pygments_lexer": "ipython3",
   "version": "3.8.3"
  },
  "toc": {
   "base_numbering": 1,
   "nav_menu": {},
   "number_sections": true,
   "sideBar": true,
   "skip_h1_title": true,
   "title_cell": "Table of Contents",
   "title_sidebar": "Contents",
   "toc_cell": false,
   "toc_position": {},
   "toc_section_display": true,
   "toc_window_display": true
  },
  "toc-autonumbering": true,
  "varInspector": {
   "cols": {
    "lenName": 16,
    "lenType": 16,
    "lenVar": 40
   },
   "kernels_config": {
    "python": {
     "delete_cmd_postfix": "",
     "delete_cmd_prefix": "del ",
     "library": "var_list.py",
     "varRefreshCmd": "print(var_dic_list())"
    },
    "r": {
     "delete_cmd_postfix": ") ",
     "delete_cmd_prefix": "rm(",
     "library": "var_list.r",
     "varRefreshCmd": "cat(var_dic_list()) "
    }
   },
   "types_to_exclude": [
    "module",
    "function",
    "builtin_function_or_method",
    "instance",
    "_Feature"
   ],
   "window_display": false
  },
  "widgets": {
   "application/vnd.jupyter.widget-state+json": {
    "state": {
     "0059fd2bbb61403ba8ff3587bbff5d96": {
      "model_module": "@jupyter-widgets/controls",
      "model_module_version": "1.5.0",
      "model_name": "PlayModel",
      "state": {
       "interval": 1000,
       "layout": "IPY_MODEL_ad8a6abf76f64b7aba0f3f559e7a49f4",
       "max": 5,
       "min": 1,
       "style": "IPY_MODEL_400fa1dd47a2493184af9c279cedf24c",
       "value": 1
      }
     },
     "12b8e01a5b7b4298803b2cb68bd13755": {
      "model_module": "@jupyter-widgets/controls",
      "model_module_version": "1.5.0",
      "model_name": "PlayModel",
      "state": {
       "interval": 1000,
       "layout": "IPY_MODEL_5fe68345b1fa45a0a9e0c8c15442c624",
       "max": 5,
       "min": 1,
       "style": "IPY_MODEL_4916d53926784dce92cb8bd857376949",
       "value": 1
      }
     },
     "12f3a6bd39bb4bd88a17ac367611901a": {
      "model_module": "@jupyter-widgets/base",
      "model_module_version": "1.2.0",
      "model_name": "LayoutModel",
      "state": {}
     },
     "26b9c4a88eb9495f81112b3c65b21ed9": {
      "model_module": "@jupyter-widgets/controls",
      "model_module_version": "1.5.0",
      "model_name": "IntSliderModel",
      "state": {
       "continuous_update": false,
       "layout": "IPY_MODEL_ec0bd020b1b24a2fbf2b1684886126a5",
       "max": 5,
       "min": 1,
       "style": "IPY_MODEL_4fe40d02144443408e0ef3e877da4469",
       "value": 1
      }
     },
     "400fa1dd47a2493184af9c279cedf24c": {
      "model_module": "@jupyter-widgets/controls",
      "model_module_version": "1.5.0",
      "model_name": "DescriptionStyleModel",
      "state": {
       "description_width": ""
      }
     },
     "4916d53926784dce92cb8bd857376949": {
      "model_module": "@jupyter-widgets/controls",
      "model_module_version": "1.5.0",
      "model_name": "DescriptionStyleModel",
      "state": {
       "description_width": ""
      }
     },
     "4fe40d02144443408e0ef3e877da4469": {
      "model_module": "@jupyter-widgets/controls",
      "model_module_version": "1.5.0",
      "model_name": "SliderStyleModel",
      "state": {
       "description_width": ""
      }
     },
     "5b18bb12f1264631871f309feaeac1c9": {
      "model_module": "@jupyter-widgets/output",
      "model_module_version": "1.0.0",
      "model_name": "OutputModel",
      "state": {
       "layout": "IPY_MODEL_70874baea03f4ee2acb08811f8429216",
       "outputs": [
        {
         "data": {
          "image/png": "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\n",
          "text/plain": "<Figure size 384x288 with 1 Axes>"
         },
         "metadata": {
          "needs_background": "light"
         },
         "output_type": "display_data"
        },
        {
         "name": "stdout",
         "output_type": "stream",
         "text": "|--- petal_width <= 0.80\n|   |--- class: setosa\n|--- petal_width >  0.80\n|   |--- class: versicolor\n\n"
        }
       ]
      }
     },
     "5fe68345b1fa45a0a9e0c8c15442c624": {
      "model_module": "@jupyter-widgets/base",
      "model_module_version": "1.2.0",
      "model_name": "LayoutModel",
      "state": {}
     },
     "64a7b44f4b7f494584bdd12257df434a": {
      "model_module": "@jupyter-widgets/controls",
      "model_module_version": "1.5.0",
      "model_name": "IntSliderModel",
      "state": {
       "continuous_update": false,
       "layout": "IPY_MODEL_12f3a6bd39bb4bd88a17ac367611901a",
       "max": 5,
       "min": 1,
       "style": "IPY_MODEL_66ee96737f2947f5994f64705568055a",
       "value": 1
      }
     },
     "66ee96737f2947f5994f64705568055a": {
      "model_module": "@jupyter-widgets/controls",
      "model_module_version": "1.5.0",
      "model_name": "SliderStyleModel",
      "state": {
       "description_width": ""
      }
     },
     "70874baea03f4ee2acb08811f8429216": {
      "model_module": "@jupyter-widgets/base",
      "model_module_version": "1.2.0",
      "model_name": "LayoutModel",
      "state": {}
     },
     "9eac49b5ae3343f59b8ec13df8e51207": {
      "model_module": "@jupyter-widgets/base",
      "model_module_version": "1.2.0",
      "model_name": "LayoutModel",
      "state": {}
     },
     "ad8a6abf76f64b7aba0f3f559e7a49f4": {
      "model_module": "@jupyter-widgets/base",
      "model_module_version": "1.2.0",
      "model_name": "LayoutModel",
      "state": {}
     },
     "b06afbc006e644929b18a798ecf1b26b": {
      "model_module": "@jupyter-widgets/output",
      "model_module_version": "1.0.0",
      "model_name": "OutputModel",
      "state": {
       "layout": "IPY_MODEL_9eac49b5ae3343f59b8ec13df8e51207",
       "outputs": [
        {
         "data": {
          "image/png": "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\n",
          "text/plain": "<Figure size 384x288 with 1 Axes>"
         },
         "metadata": {
          "needs_background": "light"
         },
         "output_type": "display_data"
        },
        {
         "name": "stdout",
         "output_type": "stream",
         "text": "|--- petal_length <= 2.45\n|   |--- class: setosa\n|--- petal_length >  2.45\n|   |--- class: versicolor\n\n"
        }
       ]
      }
     },
     "be780064db0d465a849d5d1cb960ffb6": {
      "model_module": "@jupyter-widgets/controls",
      "model_module_version": "1.5.0",
      "model_name": "LinkModel",
      "state": {
       "source": [
        "IPY_MODEL_0059fd2bbb61403ba8ff3587bbff5d96",
        "value"
       ],
       "target": [
        "IPY_MODEL_64a7b44f4b7f494584bdd12257df434a",
        "value"
       ]
      }
     },
     "e3c090b6147a4259b1b1e67a3b07e9fd": {
      "model_module": "@jupyter-widgets/controls",
      "model_module_version": "1.5.0",
      "model_name": "LinkModel",
      "state": {
       "source": [
        "IPY_MODEL_12b8e01a5b7b4298803b2cb68bd13755",
        "value"
       ],
       "target": [
        "IPY_MODEL_26b9c4a88eb9495f81112b3c65b21ed9",
        "value"
       ]
      }
     },
     "ec0bd020b1b24a2fbf2b1684886126a5": {
      "model_module": "@jupyter-widgets/base",
      "model_module_version": "1.2.0",
      "model_name": "LayoutModel",
      "state": {}
     }
    },
    "version_major": 2,
    "version_minor": 0
   }
  }
 },
 "nbformat": 4,
 "nbformat_minor": 4
}
