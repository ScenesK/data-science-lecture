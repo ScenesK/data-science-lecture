{
 "cells": [
  {
   "cell_type": "code",
   "execution_count": 1,
   "metadata": {},
   "outputs": [],
   "source": [
    "import numpy as np\n",
    "from scipy import stats\n",
    "import matplotlib.pyplot as plt\n",
    "%matplotlib inline"
   ]
  },
  {
   "cell_type": "markdown",
   "metadata": {},
   "source": [
    "# 統計的仮説検定の概要"
   ]
  },
  {
   "cell_type": "markdown",
   "metadata": {},
   "source": [
    "## 統計的仮説検定\n",
    "---\n",
    "得られたデータから何か証明したい条件があるときに、間違うリスクを一定以下に抑えるリスクコントロールの手段。"
   ]
  },
  {
   "cell_type": "markdown",
   "metadata": {},
   "source": [
    "### 標本分布と区間推定"
   ]
  },
  {
   "cell_type": "markdown",
   "metadata": {},
   "source": [
    "練習問題\n",
    "\n",
    "---\n",
    "平均が $10$ ・標準偏差が $3$ の任意の確率分布から、 $50$ サンプル抽出して標本平均を求めたときの標本分布をグラフで表示する。 ([中心極限定理](../beginner/population_mean_estimation.ipynb#%E4%B8%AD%E5%BF%83%E6%A5%B5%E9%99%90%E5%AE%9A%E7%90%86-(central-limit-theorem))を利用する)"
   ]
  },
  {
   "cell_type": "code",
   "execution_count": null,
   "metadata": {},
   "outputs": [],
   "source": []
  },
  {
   "cell_type": "markdown",
   "metadata": {
    "solution2": "hidden",
    "solution2_first": true
   },
   "source": [
    "解答例\n",
    "\n",
    "---"
   ]
  },
  {
   "cell_type": "code",
   "execution_count": 2,
   "metadata": {
    "collapsed": true,
    "jupyter": {
     "outputs_hidden": true,
     "source_hidden": true
    },
    "solution2": "hidden"
   },
   "outputs": [
    {
     "data": {
      "image/png": "[encoded data removed]",
      "text/plain": [
       "<Figure size 432x288 with 1 Axes>"
      ]
     },
     "metadata": {
      "needs_background": "light"
     },
     "output_type": "display_data"
    }
   ],
   "source": [
    "mu = 10\n",
    "sigma = 3\n",
    "n = 50\n",
    "x = np.linspace(mu - 3 * sigma, mu + 3 * sigma, 200)\n",
    "plt.plot(x, stats.norm(10, sigma / np.sqrt(n)).pdf(x))\n",
    "plt.xlim((x.min(), x.max()))\n",
    "plt.ylim((0, plt.ylim()[1]))\n",
    "plt.show()"
   ]
  },
  {
   "cell_type": "markdown",
   "metadata": {},
   "source": [
    "---"
   ]
  },
  {
   "cell_type": "markdown",
   "metadata": {},
   "source": [
    "練習問題\n",
    "\n",
    "---\n",
    "上の標本分布からサンプリングした場合に、平均を中心に $95\\%$ のサンプルが含まれる範囲を求める。 ([区間推定](../beginner/population_mean_estimation.ipynb#%E5%8C%BA%E9%96%93%E6%8E%A8%E5%AE%9A-(interval-estimation))を参考に)"
   ]
  },
  {
   "cell_type": "code",
   "execution_count": null,
   "metadata": {},
   "outputs": [],
   "source": []
  },
  {
   "cell_type": "markdown",
   "metadata": {
    "solution2": "hidden",
    "solution2_first": true
   },
   "source": [
    "解答例\n",
    "\n",
    "---"
   ]
  },
  {
   "cell_type": "code",
   "execution_count": 3,
   "metadata": {
    "collapsed": true,
    "jupyter": {
     "outputs_hidden": true,
     "source_hidden": true
    },
    "solution2": "hidden"
   },
   "outputs": [
    {
     "data": {
      "text/plain": [
       "(9.168457705390193, 10.831542294609807)"
      ]
     },
     "execution_count": 3,
     "metadata": {},
     "output_type": "execute_result"
    }
   ],
   "source": [
    "mu = 10\n",
    "sigma = 3\n",
    "n = 50\n",
    "stats.norm(10, sigma / np.sqrt(n)).interval(0.95)"
   ]
  },
  {
   "cell_type": "markdown",
   "metadata": {},
   "source": [
    "---"
   ]
  },
  {
   "cell_type": "markdown",
   "metadata": {},
   "source": [
    "### 統計的仮説検定の考え方\n",
    "---\n",
    "上の例では母平均 $10$ ・母標準偏差 $3$ が与えられていたが、通常は母分布のパラメーター (母数) はわからない。  \n",
    "そこで、母数を仮定 (帰無仮説) し、標本分布 (帰無分布) を求める。その分布とサンプリングによって得られたパラメーターの推定値を比較し、**その分布から推定値が得られにくいものだった場合は元の仮定が間違っていた**可能性が高いと判断するのが統計的仮説検定。数学の背理法に似た論法。"
   ]
  },
  {
   "cell_type": "markdown",
   "metadata": {},
   "source": [
    "#### 具体例\n",
    "---\n",
    "コイントスで使用するコインの不正を確かめる。\n",
    "1. 仮に表の出る確率 ${\\displaystyle p=\\frac{1}{2}} $ である (コインに不正はない) として標本分布を求める (帰無分布)\n",
    "1. 実際にコイントスを行ってみて標本平均 $\\bar{x}$ を得る (サンプリング)\n",
    "1. 帰無分布から生じにくい値の範囲とサンプリングで得られた値を比較する\n",
    "1. サンプリングで得られた値が帰無分布から生じにくい範囲に含まれていればコインに不正がある疑いが濃厚になる"
   ]
  },
  {
   "cell_type": "code",
   "execution_count": 4,
   "metadata": {
    "hide_input": true,
    "jupyter": {
     "source_hidden": true
    }
   },
   "outputs": [
    {
     "data": {
      "image/png": "[encoded data removed]",
      "text/plain": [
       "<Figure size 288x576 with 2 Axes>"
      ]
     },
     "metadata": {
      "needs_background": "light"
     },
     "output_type": "display_data"
    }
   ],
   "source": [
    "from my_functions.hypothesis_testing import concept\n",
    "concept.show()"
   ]
  },
  {
   "cell_type": "markdown",
   "metadata": {},
   "source": [
    "## GUIで実行してみる\n",
    "---\n",
    "RStudio の Console に`library(Rcmdr)`と入力して、 R commander を起動。\n",
    "\n",
    "- `データ`->`データのインポート`->`テキストファイルまたはクリップボード, URLから`\n",
    "\n",
    "として、`フィールドの区切り記号`を`カンマ`にし、`OK`をクリック。`workspace/intermediate/data/coin.csv`を読み込む。`データセットを表示`をクリックし、内容を確認。\n",
    "\n",
    "- `データ`->`アクティブデータセット`->`ケース名の設定`\n",
    "\n",
    "として、`X`を選択し、`OK`をクリック。再度データセットを確認。\n",
    "\n",
    "- `統計量`->`平均`->`1標本t検定`\n",
    "\n",
    "として、`帰無仮説： μ=μ0 ： μ0=`を $0.5$ (表が出るはずの確率) にして、`OK`をクリック。\n",
    "\n",
    "RStudio の Console に戻って、p-valueの値 (上のグラフの赤い部分の面積に相当) を確認。p-valueの値が小さければ不正があると判断。"
   ]
  },
  {
   "cell_type": "markdown",
   "metadata": {},
   "source": [
    "## 用語の整理\n",
    "---\n",
    "上で仮置きした条件のことを「帰無仮説 (null hypothesis) 」といい、通常 $H_{0}$ で表す。また、最終的に主張したいことを「対立仮説 (alternative hypothesis) 」といい、通常 $H_{1}$ で表す。\n",
    "\n",
    "帰無仮説が疑わしいとして否定することを「棄却 (reject) 」といい、帰無仮説または対立仮説を受け入れることを「採択 (accept)」という。\n",
    "\n",
    "帰無仮説を前提とした確率分布からは発生しにくい、つまり帰無仮説が間違っていると疑う十分な理由があることを「有意 (significant) 」という。\n",
    "\n",
    "どれくらい発生しにくければ有意であると判断するかの水準を「有意水準 (significance level) 」 (または危険率) といい、通常 $\\alpha$ で表す。有意水準には $5\\%(\\alpha =0.05)$ や $1\\%(\\alpha =0.01)$ がよく使われる。\n",
    "\n",
    "帰無仮説が正しいのに、それを棄却してしまうことを「第一種の誤り (error of the first kind) 」、帰無仮説が間違っているのに、それを採択してしまうことを「第二種の誤り (error of the second kind) 」という。\n",
    "\n",
    "<table class=\"text-center background-white\">\n",
    "    <tr>\n",
    "        <td rowspan=\"2\" colspan=\"2\" class=\"border-none\"></td>\n",
    "        <th colspan=\"2\" class=\"border border-bottom background-dark\">真の分布 (母数に基づく標本分布)</th>\n",
    "    </tr>\n",
    "    <tr class=\"border\">\n",
    "        <td>$H_{1}$ (対立仮説) が正しい<br />(自分の主張が正しい)</td>\n",
    "        <td>$H_{0}$ (帰無仮説) が正しい<br />(自分の主張が誤り)</td>\n",
    "    </tr>\n",
    "    <tr class=\"border\">\n",
    "        <th rowspan=\"2\" class=\"border-bottom background-dark\">判断</th>\n",
    "        <td>$H_{0}$ (帰無仮説) を棄却<br />(自分の主張が正しかったと結論)</td>\n",
    "        <td class=\"text-blue\">正解</td>\n",
    "        <td class=\"text-red\">第一種の誤り</td>\n",
    "        <td rowspan=\"2\" class=\"background-dark\">↑<br />−−− 有意水準 $\\alpha$ −−−<br />↓</td>\n",
    "    </tr>\n",
    "    <tr class=\"border\">\n",
    "        <td>$H_{0}$ (帰無仮説) を採択<br />(自分の主張が誤っていたと結論)</td>\n",
    "        <td class=\"text-red\">第二種の誤り</td>\n",
    "        <td class=\"text-blue\">正解</td>\n",
    "    </tr>\n",
    "    <tr>\n",
    "        <td colspan=\"2\" class=\"border-none\"></td>\n",
    "        <td colspan=\"2\" class=\"border background-dark\">コントロール不能</td>\n",
    "    </tr>\n",
    "</table>\n",
    "\n",
    "<table class=\"border\">\n",
    "    <tr>\n",
    "        <th class=\"text-center border-bottom border-right-bold\">帰無仮説</th>\n",
    "        <td class=\"text-left\">仮置きした条件</td>\n",
    "        <td class=\"text-left\">コインに偏りはない ${\\displaystyle \\left( p=\\frac{1}{2}\\right) }$</td>\n",
    "    </tr>\n",
    "    <tr>\n",
    "        <th class=\"text-center border-bottom border-right-bold\">対立仮説</th>\n",
    "        <td class=\"text-left\">最終的に主張したいこと</td>\n",
    "        <td class=\"text-left\">コインは偏っている ${\\displaystyle \\left( p\\neq \\frac{1}{2}\\right) }$</td>\n",
    "    </tr>\n",
    "    <tr>\n",
    "        <th class=\"text-center border-bottom border-right-bold\">有意水準</th>\n",
    "        <td class=\"text-left\">発生しにくいと判断する水準</td>\n",
    "        <td class=\"text-left\">帰無分布の両端 $5\\% (2.5\\% +2.5\\% )$ の範囲の値が得られたら帰無仮説を疑う</td>\n",
    "    </tr>\n",
    "    <tr>\n",
    "        <th class=\"text-center border-bottom border-right-bold\">有意</th>\n",
    "        <td class=\"text-left\">帰無仮説が間違っていると疑う十分な理由があること</td>\n",
    "        <td class=\"text-left\">帰無分布からは $3\\%$ 程度の確率でしか発生しない領域の値が得られた</td>\n",
    "    </tr>\n",
    "    <tr>\n",
    "        <th class=\"text-center border-bottom border-right-bold\">棄却</th>\n",
    "        <td class=\"text-left\">帰無仮説を否定すること</td>\n",
    "        <td class=\"text-left\">コインは偏っている ${\\displaystyle \\left( p=\\frac{1}{2}\\right) }$ と結論づける</td>\n",
    "    </tr>\n",
    "    <tr>\n",
    "        <th class=\"text-center border-bottom border-right-bold\">採択</th>\n",
    "        <td class=\"text-left\">帰無仮説または対立仮説を受け入れること</td>\n",
    "        <td class=\"text-left\"></td>\n",
    "    </tr>\n",
    "    <tr>\n",
    "        <th class=\"text-center border-bottom border-right-bold\">第一種の誤り</th>\n",
    "        <td class=\"text-left\">帰無仮説が正しいのに棄却してしまうこと</td>\n",
    "        <td class=\"text-left\">コインは偏っていないのに、偏っていると結論づけてしまう</td>\n",
    "    </tr>\n",
    "    <tr>\n",
    "        <th class=\"text-center border-bottom border-right-bold\">第二種の誤り</th>\n",
    "        <td class=\"text-left\">帰無仮説が誤っているのに採択してしまうこと</td>\n",
    "        <td class=\"text-left\">コインは偏っているのに、偏っていないと結論づけてしまう</td>\n",
    "    </tr>\n",
    "</table>"
   ]
  },
  {
   "cell_type": "markdown",
   "metadata": {},
   "source": [
    "## 検定の手順\n",
    "---\n",
    "1. 最終的に主張したい対立仮説を考える\n",
    "1. 対応する帰無仮説を設定する\n",
    "1. 有意水準を設定する\n",
    "1. サンプリングする\n",
    "1. p 値 (得られた統計量より外側の値が得られる確率) を求める\n",
    "1. p 値を有意水準と比較して帰無仮説を棄却するかどうか決める"
   ]
  },
  {
   "cell_type": "markdown",
   "metadata": {},
   "source": [
    "## 検定の種類"
   ]
  },
  {
   "cell_type": "markdown",
   "metadata": {},
   "source": [
    "### 両側検定 (two-sided test)\n",
    "---\n",
    "帰無分布の両端に棄却域 (rejection region) を設けるものを両側検定という。"
   ]
  },
  {
   "cell_type": "code",
   "execution_count": 5,
   "metadata": {
    "hide_input": true,
    "jupyter": {
     "source_hidden": true
    }
   },
   "outputs": [
    {
     "data": {
      "application/vnd.jupyter.widget-view+json": {
       "model_id": "f60cff564f964cbf8a2dd5272700cbe6",
       "version_major": 2,
       "version_minor": 0
      },
      "text/plain": [
       "interactive(children=(FloatSlider(value=0.05, continuous_update=False, description='有意水準', max=0.3, min=0.01, …"
      ]
     },
     "metadata": {},
     "output_type": "display_data"
    }
   ],
   "source": [
    "from my_functions.hypothesis_testing import two_sided\n",
    "two_sided.show()"
   ]
  },
  {
   "cell_type": "markdown",
   "metadata": {},
   "source": [
    "練習問題\n",
    "\n",
    "---\n",
    "正規分布から任意の数のサンプルを抽出し、標本平均を求めるとする。帰無分布を標準正規分布 $\\mathcal{N}( 0,1)$ とし、両側検定を行う。  \n",
    "サンプリングにより検定統計量 (ここでは標本平均) $2.5$ が得られた場合の p 値を求める。"
   ]
  },
  {
   "cell_type": "code",
   "execution_count": null,
   "metadata": {},
   "outputs": [],
   "source": []
  },
  {
   "cell_type": "markdown",
   "metadata": {
    "solution2": "hidden",
    "solution2_first": true
   },
   "source": [
    "解答例\n",
    "\n",
    "---"
   ]
  },
  {
   "cell_type": "code",
   "execution_count": 6,
   "metadata": {
    "collapsed": true,
    "jupyter": {
     "outputs_hidden": true,
     "source_hidden": true
    },
    "solution2": "hidden"
   },
   "outputs": [
    {
     "data": {
      "text/plain": [
       "0.012419330651552265"
      ]
     },
     "execution_count": 6,
     "metadata": {},
     "output_type": "execute_result"
    }
   ],
   "source": [
    "mean = 0\n",
    "std = 1\n",
    "null_dist = stats.norm(mean, std)\n",
    "upper = 2.5\n",
    "lower = mean - (upper - mean)\n",
    "p = null_dist.cdf(lower) + null_dist.sf(upper)\n",
    "p"
   ]
  },
  {
   "cell_type": "code",
   "execution_count": 7,
   "metadata": {
    "collapsed": true,
    "jupyter": {
     "outputs_hidden": true,
     "source_hidden": true
    },
    "solution2": "hidden"
   },
   "outputs": [
    {
     "data": {
      "text/plain": [
       "0.012419330651552265"
      ]
     },
     "execution_count": 7,
     "metadata": {},
     "output_type": "execute_result"
    }
   ],
   "source": [
    "# 帰無分布が左右対称なので、片側だけ求めて2倍にしても同じ\n",
    "p = null_dist.sf(upper) * 2\n",
    "p"
   ]
  },
  {
   "cell_type": "markdown",
   "metadata": {},
   "source": [
    "---"
   ]
  },
  {
   "cell_type": "markdown",
   "metadata": {},
   "source": [
    "### 片側検定 (one-sided test)\n",
    "---\n",
    "帰無分布の片側にしか棄却域を設けないものを片側検定という。  \n",
    "片側検定は分布のどちら側に棄却域を設けるかでさらに左側検定と右側検定に分かれる。"
   ]
  },
  {
   "cell_type": "code",
   "execution_count": 8,
   "metadata": {
    "hide_input": true,
    "jupyter": {
     "source_hidden": true
    }
   },
   "outputs": [
    {
     "data": {
      "application/vnd.jupyter.widget-view+json": {
       "model_id": "cedc0ca03b5449d6b8c6fd239ad435ad",
       "version_major": 2,
       "version_minor": 0
      },
      "text/plain": [
       "interactive(children=(FloatSlider(value=0.05, continuous_update=False, description='有意水準', max=0.3, min=0.01, …"
      ]
     },
     "metadata": {},
     "output_type": "display_data"
    }
   ],
   "source": [
    "from my_functions.hypothesis_testing import one_sided\n",
    "one_sided.show()"
   ]
  },
  {
   "cell_type": "markdown",
   "metadata": {},
   "source": [
    "練習問題\n",
    "\n",
    "---\n",
    "正規分布から任意の数のサンプルを抽出し、標本平均を求めるとする。帰無分布を標準正規分布 $\\mathcal{N}( 0,1)$ とし、左側検定を行う。  \n",
    "サンプリングにより検定統計量 (ここでは標本平均) $-1.2$ が得られた場合の p 値を求める。"
   ]
  },
  {
   "cell_type": "code",
   "execution_count": null,
   "metadata": {},
   "outputs": [],
   "source": []
  },
  {
   "cell_type": "markdown",
   "metadata": {
    "solution2": "hidden",
    "solution2_first": true
   },
   "source": [
    "解答例\n",
    "\n",
    "---"
   ]
  },
  {
   "cell_type": "code",
   "execution_count": 9,
   "metadata": {
    "collapsed": true,
    "jupyter": {
     "outputs_hidden": true,
     "source_hidden": true
    },
    "solution2": "hidden"
   },
   "outputs": [
    {
     "data": {
      "text/plain": [
       "0.11506967022170822"
      ]
     },
     "execution_count": 9,
     "metadata": {},
     "output_type": "execute_result"
    }
   ],
   "source": [
    "mean = 0\n",
    "std = 1\n",
    "null_dist = stats.norm(mean, std)\n",
    "stat = -1.2\n",
    "p = null_dist.cdf(stat)\n",
    "p"
   ]
  },
  {
   "cell_type": "markdown",
   "metadata": {},
   "source": [
    "---"
   ]
  },
  {
   "cell_type": "markdown",
   "metadata": {},
   "source": [
    "練習問題\n",
    "\n",
    "---\n",
    "正規分布から任意の数のサンプルを抽出し、標本平均を求めるとする。帰無分布を標準正規分布 $\\mathcal{N}( 0,1)$ とし、右側検定を行う。  \n",
    "サンプリングにより検定統計量 (ここでは標本平均) $2.5$ が得られた場合の p 値を求める。"
   ]
  },
  {
   "cell_type": "code",
   "execution_count": null,
   "metadata": {},
   "outputs": [],
   "source": []
  },
  {
   "cell_type": "markdown",
   "metadata": {
    "solution2": "hidden",
    "solution2_first": true
   },
   "source": [
    "解答例\n",
    "\n",
    "---"
   ]
  },
  {
   "cell_type": "code",
   "execution_count": 10,
   "metadata": {
    "collapsed": true,
    "jupyter": {
     "outputs_hidden": true,
     "source_hidden": true
    },
    "solution2": "hidden"
   },
   "outputs": [
    {
     "data": {
      "text/plain": [
       "0.006209665325776132"
      ]
     },
     "execution_count": 10,
     "metadata": {},
     "output_type": "execute_result"
    }
   ],
   "source": [
    "mean = 0\n",
    "std = 1\n",
    "null_dist = stats.norm(mean, std)\n",
    "stat = 2.5\n",
    "p = null_dist.sf(stat)\n",
    "p"
   ]
  },
  {
   "cell_type": "markdown",
   "metadata": {},
   "source": [
    "---"
   ]
  },
  {
   "cell_type": "markdown",
   "metadata": {},
   "source": [
    "### 棄却域の位置の使い分け\n",
    "---\n",
    "<table class=\"text-center border\">\n",
    "    <tr class=\"background-dark\">\n",
    "        <th>主張したいこと</th>\n",
    "        <th>対立仮説 $H_1$</th>\n",
    "        <th>検定の種類</th>\n",
    "        <th>棄却域</th>\n",
    "        <th>帰無仮説 $H_0$</th>\n",
    "    </tr>\n",
    "    <tr class=\"background-bright\">\n",
    "        <td>対象とする統計量 ($\\phi$) の値 ($a$) がある値 ($b$) と異なる</td>\n",
    "        <td>$a\\neq b$</td>\n",
    "        <td>両側検定</td>\n",
    "        <td style=\"min-width: 12em;\">$\\phi<\\phi_{1-\\frac{\\alpha}{2}},\\ \\phi_{\\frac{\\alpha}{2}}<\\phi$</td>\n",
    "        <td rowspan=\"3\">$a=b$</td>\n",
    "    </tr>\n",
    "    <tr class=\"background-bright\">\n",
    "        <td class=\"text-left\">対象とする統計量 ($\\phi$) の値 ($a$) がある値 ($b$) より大きい</td>\n",
    "        <td>$a>b$</td>\n",
    "        <td>右側検定</td>\n",
    "        <td>$\\phi_{\\alpha}<\\phi$</td>\n",
    "    </tr>\n",
    "    <tr class=\"background-bright\">\n",
    "        <td class=\"text-left\">対象とする統計量 ($\\phi$) の値 ($a$) がある値 ($b$) より小さい</td>\n",
    "        <td>$a<b$</td>\n",
    "        <td>左側検定</td>\n",
    "        <td>$\\phi<\\phi_{\\alpha}$</td>\n",
    "    </tr>\n",
    "</table>"
   ]
  },
  {
   "cell_type": "markdown",
   "metadata": {},
   "source": [
    "## 注意点"
   ]
  },
  {
   "cell_type": "markdown",
   "metadata": {},
   "source": [
    "### 結論の意味\n",
    "---\n",
    "帰無仮説が棄却された場合には、対立仮説が確からしいことが確認されるが、帰無仮説が採択された場合には、**帰無仮説が確からしいことが確認されるわけではない**。 (このことから帰無仮説を「採択」するとは言わない立場が多い)\n",
    "\n",
    "- 帰無仮説を棄却 → 対立仮説が正しそう\n",
    "- 帰無仮説を採択 → 結論はグレー (何も積極的には主張できない)\n",
    "\n",
    "帰無仮説を棄却した場合も**対立仮説が証明されたわけではなく**、有意水準 $\\alpha$ の下で対立仮説が確からしいことが保証されるだけ。"
   ]
  },
  {
   "cell_type": "markdown",
   "metadata": {},
   "source": [
    "### 有意水準の意味\n",
    "---\n",
    "有意水準 $\\alpha $ が表しているのは、帰無仮説が正しい (自分の主張が誤っていた) ときに帰無仮説を棄却する第一種の誤りを犯す危険性。  \n",
    "**帰無仮説が誤っているときに正しく棄却できる確率ではない**。\n",
    "\n",
    "下のグラフでは、標本分布 (実際には確認不可能) を点線、帰無分布 (確認可能) を実線、標本分布からその値が得られる確率 (実際に存在する) を色つき、採択域・棄却域 (実際にサンプルが得られる確率とは無関係) を白黒で表現。"
   ]
  },
  {
   "cell_type": "code",
   "execution_count": 11,
   "metadata": {
    "hide_input": true,
    "jupyter": {
     "source_hidden": true
    }
   },
   "outputs": [
    {
     "data": {
      "application/vnd.jupyter.widget-view+json": {
       "model_id": "d2edf64283764fe099eb1fff75185dab",
       "version_major": 2,
       "version_minor": 0
      },
      "text/plain": [
       "interactive(children=(FloatSlider(value=0.0, continuous_update=False, description='母平均と標本平均の差', max=3.0, min=-…"
      ]
     },
     "metadata": {},
     "output_type": "display_data"
    }
   ],
   "source": [
    "from my_functions.hypothesis_testing import alpha\n",
    "alpha.show()"
   ]
  },
  {
   "cell_type": "markdown",
   "metadata": {},
   "source": [
    "練習問題\n",
    "\n",
    "---\n",
    "平均 $5$ 、標準偏差 $10$ の正規分布 (母分布) から $100$ 個のサンプルを抽出して平均を求めるとすると、その標本分布は平均 $5$ 、標準偏差 $1$ の正規分布になる。  \n",
    "このとき、帰無分布を仮に平均 $4.5$ 、標準偏差 $1$ の正規分布とし、有意水準を $\\alpha =0.05$ にして両側検定を行った場合に、正しく帰無仮説を棄却できる確率を求める。"
   ]
  },
  {
   "cell_type": "code",
   "execution_count": null,
   "metadata": {},
   "outputs": [],
   "source": []
  },
  {
   "cell_type": "markdown",
   "metadata": {
    "solution2": "hidden",
    "solution2_first": true
   },
   "source": [
    "解答例\n",
    "\n",
    "---"
   ]
  },
  {
   "cell_type": "code",
   "execution_count": 12,
   "metadata": {
    "collapsed": true,
    "jupyter": {
     "outputs_hidden": true,
     "source_hidden": true
    },
    "solution2": "hidden"
   },
   "outputs": [
    {
     "data": {
      "text/plain": [
       "0.07909753416059649"
      ]
     },
     "execution_count": 12,
     "metadata": {},
     "output_type": "execute_result"
    }
   ],
   "source": [
    "std = 1\n",
    "sample_dist = stats.norm(5, std)\n",
    "null_dist = stats.norm(4.5, std)\n",
    "lower, upper = null_dist.interval(1 - 0.05)\n",
    "sample_dist.cdf(lower) + sample_dist.sf(upper)"
   ]
  },
  {
   "cell_type": "markdown",
   "metadata": {},
   "source": [
    "---"
   ]
  },
  {
   "cell_type": "markdown",
   "metadata": {},
   "source": [
    "練習問題\n",
    "\n",
    "---\n",
    "上と同じ条件で、帰無仮説を平均 $4$ 、$5.1$ とした場合の確率をそれぞれ求める。"
   ]
  },
  {
   "cell_type": "code",
   "execution_count": null,
   "metadata": {},
   "outputs": [],
   "source": []
  },
  {
   "cell_type": "markdown",
   "metadata": {
    "solution2": "hidden",
    "solution2_first": true
   },
   "source": [
    "解答例\n",
    "\n",
    "---"
   ]
  },
  {
   "cell_type": "code",
   "execution_count": 13,
   "metadata": {
    "collapsed": true,
    "jupyter": {
     "outputs_hidden": true,
     "source_hidden": true
    },
    "solution2": "hidden"
   },
   "outputs": [
    {
     "name": "stdout",
     "output_type": "stream",
     "text": [
      "平均4.0の場合 : 0.17\n",
      "平均5.1の場合 : 0.05\n"
     ]
    }
   ],
   "source": [
    "std = 1\n",
    "sample_dist = stats.norm(5, std)\n",
    "\n",
    "\n",
    "def prob(null_hypothesis):\n",
    "    null_dist = stats.norm(null_hypothesis, std)\n",
    "    lower, upper = null_dist.interval(1 - 0.05)\n",
    "    return sample_dist.cdf(lower) + sample_dist.sf(upper)\n",
    "\n",
    "\n",
    "for null_hypothesis in [4, 5.1]:\n",
    "    print(f'平均{null_hypothesis:<.1f}の場合 : {prob(null_hypothesis):.2f}')"
   ]
  },
  {
   "cell_type": "markdown",
   "metadata": {},
   "source": [
    "---"
   ]
  },
  {
   "cell_type": "markdown",
   "metadata": {},
   "source": [
    "### 安易なp値の利用に対する警告\n",
    "---\n",
    "アメリカ統計協会から統計的有意と p 値について[声明](https://amstat.tandfonline.com/doi/full/10.1080/00031305.2016.1154108#.XM-c95P7RN0)が発表されている。\n",
    "\n",
    "1. P-values can indicate how incompatible the data are with a specified statistical model.\n",
    " - p 値が指し示すのは特定の統計モデルとどれくらい矛盾するかである\n",
    "1. P-values do not measure the probability that the studied hypothesis is true, or the probability that the data were produced by random chance alone.\n",
    " - p 値は得られた結論が正しい確率を測るものでも、データが純粋にランダムに生成された確率を測るものでもない\n",
    "1. Scientific conclusions and business or policy decisions should not be based only on whether a p-value passes a specific threshold.\n",
    " - 科学的結論もビジネスあるいは政策上の決定も p 値がある閾値を超えたかどうかで下されるべきではない\n",
    "1. Proper inference requires full reporting and transparency.\n",
    " - 適切な推論には完全な報告と透明性が必要である (都合の良いものだけを選んではならない)\n",
    "1. A p-value, or statistical significance, does not measure the size of an effect or the importance of a result.\n",
    " - p 値や統計的有意は結果の影響や重要性の大きさを測るものではない\n",
    "1. By itself, a p-value does not provide a good measure of evidence regarding a model or hypothesis. \n",
    " - p 値だけではモデルや仮説に関するエビデンス (証明) の良い指標にはならない"
   ]
  },
  {
   "cell_type": "markdown",
   "metadata": {},
   "source": [
    "#### 対策\n",
    "---\n",
    "以下のような手法 (の併用、あるいは代替) が紹介されている。\n",
    "\n",
    "- 検定よりも予測を重視する手法\n",
    "- ベイズ統計学的な手法\n",
    "- 尤度比やベイズ因子などの代替的なエビデンスの指標\n",
    "- 決定理論的モデリングや False Discovery Rate など\n",
    "\n",
    "いずれも銀の弾丸になるわけではないので、**まずは通常の統計的検定の枠組みとその限界を理解**し、必要に応じて他の手法を理解していく。"
   ]
  },
  {
   "cell_type": "markdown",
   "metadata": {},
   "source": [
    "## 推薦図書\n",
    "---\n",
    "- [Rによるやさしい統計学](https://www.amazon.co.jp/R%E3%81%AB%E3%82%88%E3%82%8B%E3%82%84%E3%81%95%E3%81%97%E3%81%84%E7%B5%B1%E8%A8%88%E5%AD%A6-%E5%B1%B1%E7%94%B0-%E5%89%9B%E5%8F%B2/dp/4274067106/)\n",
    "- [心理統計学の基礎―統合的理解のために](https://www.amazon.co.jp/%E5%BF%83%E7%90%86%E7%B5%B1%E8%A8%88%E5%AD%A6%E3%81%AE%E5%9F%BA%E7%A4%8E%E2%80%95%E7%B5%B1%E5%90%88%E7%9A%84%E7%90%86%E8%A7%A3%E3%81%AE%E3%81%9F%E3%82%81%E3%81%AB-%E6%9C%89%E6%96%90%E9%96%A3%E3%82%A2%E3%83%AB%E3%83%9E-%E5%8D%97%E9%A2%A8%E5%8E%9F-%E6%9C%9D%E5%92%8C/dp/4641121605/)"
   ]
  }
 ],
 "metadata": {
  "kernelspec": {
   "display_name": "Python 3",
   "language": "python",
   "name": "python3"
  },
  "language_info": {
   "codemirror_mode": {
    "name": "ipython",
    "version": 3
   },
   "file_extension": ".py",
   "mimetype": "text/x-python",
   "name": "python",
   "nbconvert_exporter": "python",
   "pygments_lexer": "ipython3",
   "version": "3.8.3"
  },
  "toc": {
   "base_numbering": 1,
   "nav_menu": {},
   "number_sections": true,
   "sideBar": true,
   "skip_h1_title": true,
   "title_cell": "Table of Contents",
   "title_sidebar": "Contents",
   "toc_cell": false,
   "toc_position": {},
   "toc_section_display": true,
   "toc_window_display": true
  },
  "varInspector": {
   "cols": {
    "lenName": 16,
    "lenType": 16,
    "lenVar": 40
   },
   "kernels_config": {
    "python": {
     "delete_cmd_postfix": "",
     "delete_cmd_prefix": "del ",
     "library": "var_list.py",
     "varRefreshCmd": "print(var_dic_list())"
    },
    "r": {
     "delete_cmd_postfix": ") ",
     "delete_cmd_prefix": "rm(",
     "library": "var_list.r",
     "varRefreshCmd": "cat(var_dic_list()) "
    }
   },
   "types_to_exclude": [
    "module",
    "function",
    "builtin_function_or_method",
    "instance",
    "_Feature"
   ],
   "window_display": false
  },
  "widgets": {
   "application/vnd.jupyter.widget-state+json": {
    "state": {
     "291772e20afd45f590ed92eea1e1fc6a": {
      "model_module": "@jupyter-widgets/controls",
      "model_module_version": "1.5.0",
      "model_name": "SliderStyleModel",
      "state": {
       "description_width": "10em"
      }
     },
     "412e01d12fa542adbc15bf8d8d278577": {
      "model_module": "@jupyter-widgets/base",
      "model_module_version": "1.2.0",
      "model_name": "LayoutModel",
      "state": {}
     },
     "44dffb476aec424aa27f5dd238037f62": {
      "model_module": "@jupyter-widgets/output",
      "model_module_version": "1.0.0",
      "model_name": "OutputModel",
      "state": {
       "layout": "IPY_MODEL_412e01d12fa542adbc15bf8d8d278577",
       "outputs": [
        {
         "data": {
          "image/png": "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\n",
          "text/plain": "<Figure size 288x288 with 1 Axes>"
         },
         "metadata": {},
         "output_type": "display_data"
        }
       ]
      }
     },
     "470c0ca38a154f3881de0a220f9bcff2": {
      "model_module": "@jupyter-widgets/base",
      "model_module_version": "1.2.0",
      "model_name": "LayoutModel",
      "state": {}
     },
     "49165f86f4de4143af9feba9193a7542": {
      "model_module": "@jupyter-widgets/base",
      "model_module_version": "1.2.0",
      "model_name": "LayoutModel",
      "state": {}
     },
     "573f3c635c84459f881997bd901c37e3": {
      "model_module": "@jupyter-widgets/output",
      "model_module_version": "1.0.0",
      "model_name": "OutputModel",
      "state": {
       "layout": "IPY_MODEL_49165f86f4de4143af9feba9193a7542",
       "outputs": [
        {
         "data": {
          "image/png": "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\n",
          "text/plain": "<Figure size 576x288 with 1 Axes>"
         },
         "metadata": {},
         "output_type": "display_data"
        }
       ]
      }
     },
     "5da5a520dec449298308fb8714c7ec37": {
      "model_module": "@jupyter-widgets/base",
      "model_module_version": "1.2.0",
      "model_name": "LayoutModel",
      "state": {}
     },
     "66599c4679fe4ba49e55a5886098db03": {
      "model_module": "@jupyter-widgets/base",
      "model_module_version": "1.2.0",
      "model_name": "LayoutModel",
      "state": {}
     },
     "6f7e4d6348f144eda9636b4fb40a72e9": {
      "model_module": "@jupyter-widgets/controls",
      "model_module_version": "1.5.0",
      "model_name": "SliderStyleModel",
      "state": {
       "description_width": ""
      }
     },
     "742479e891214a9e96649ccf9ca0d8f9": {
      "model_module": "@jupyter-widgets/controls",
      "model_module_version": "1.5.0",
      "model_name": "FloatSliderModel",
      "state": {
       "continuous_update": false,
       "description": "有意水準",
       "layout": "IPY_MODEL_81c110ac172f4291b073da09c3c442bd",
       "max": 0.3,
       "min": 0.01,
       "step": 0.01,
       "style": "IPY_MODEL_83e6f900fbcc40028bf80cb94d098e43",
       "value": 0.05
      }
     },
     "743cc000518a407ca1ddfbd87e2fded9": {
      "model_module": "@jupyter-widgets/base",
      "model_module_version": "1.2.0",
      "model_name": "LayoutModel",
      "state": {}
     },
     "81c110ac172f4291b073da09c3c442bd": {
      "model_module": "@jupyter-widgets/base",
      "model_module_version": "1.2.0",
      "model_name": "LayoutModel",
      "state": {}
     },
     "82778c36e0bd42c1a33c76370892fa2c": {
      "model_module": "@jupyter-widgets/output",
      "model_module_version": "1.0.0",
      "model_name": "OutputModel",
      "state": {
       "layout": "IPY_MODEL_ec3c664660df4c50a20d17090f435428",
       "outputs": [
        {
         "data": {
          "image/png": "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\n",
          "text/plain": "<Figure size 576x288 with 2 Axes>"
         },
         "metadata": {},
         "output_type": "display_data"
        }
       ]
      }
     },
     "83e6f900fbcc40028bf80cb94d098e43": {
      "model_module": "@jupyter-widgets/controls",
      "model_module_version": "1.5.0",
      "model_name": "SliderStyleModel",
      "state": {
       "description_width": ""
      }
     },
     "a0a65af525104e80a9460a52066ab13c": {
      "model_module": "@jupyter-widgets/controls",
      "model_module_version": "1.5.0",
      "model_name": "SliderStyleModel",
      "state": {
       "description_width": "10em"
      }
     },
     "a996282bb3554a4a8f451b76dc8c286a": {
      "model_module": "@jupyter-widgets/base",
      "model_module_version": "1.2.0",
      "model_name": "LayoutModel",
      "state": {}
     },
     "c4e84b17bf7d4e21a5e173baf4dbfc65": {
      "model_module": "@jupyter-widgets/controls",
      "model_module_version": "1.5.0",
      "model_name": "FloatSliderModel",
      "state": {
       "continuous_update": false,
       "description": "有意水準",
       "layout": "IPY_MODEL_743cc000518a407ca1ddfbd87e2fded9",
       "max": 0.3,
       "min": 0.01,
       "step": 0.01,
       "style": "IPY_MODEL_6f7e4d6348f144eda9636b4fb40a72e9",
       "value": 0.05
      }
     },
     "cedc0ca03b5449d6b8c6fd239ad435ad": {
      "model_module": "@jupyter-widgets/controls",
      "model_module_version": "1.5.0",
      "model_name": "VBoxModel",
      "state": {
       "_dom_classes": [
        "widget-interact"
       ],
       "children": [
        "IPY_MODEL_742479e891214a9e96649ccf9ca0d8f9",
        "IPY_MODEL_82778c36e0bd42c1a33c76370892fa2c"
       ],
       "layout": "IPY_MODEL_470c0ca38a154f3881de0a220f9bcff2"
      }
     },
     "d2edf64283764fe099eb1fff75185dab": {
      "model_module": "@jupyter-widgets/controls",
      "model_module_version": "1.5.0",
      "model_name": "VBoxModel",
      "state": {
       "_dom_classes": [
        "widget-interact"
       ],
       "children": [
        "IPY_MODEL_f8bf555e7ab94d9a98308e1921800f55",
        "IPY_MODEL_ef8dad705cbe414593ca4b861a1d70d0",
        "IPY_MODEL_573f3c635c84459f881997bd901c37e3"
       ],
       "layout": "IPY_MODEL_e70c721a2f494d37ba9fe59e97db0607"
      }
     },
     "e70c721a2f494d37ba9fe59e97db0607": {
      "model_module": "@jupyter-widgets/base",
      "model_module_version": "1.2.0",
      "model_name": "LayoutModel",
      "state": {}
     },
     "ec3c664660df4c50a20d17090f435428": {
      "model_module": "@jupyter-widgets/base",
      "model_module_version": "1.2.0",
      "model_name": "LayoutModel",
      "state": {}
     },
     "ef8dad705cbe414593ca4b861a1d70d0": {
      "model_module": "@jupyter-widgets/controls",
      "model_module_version": "1.5.0",
      "model_name": "FloatSliderModel",
      "state": {
       "continuous_update": false,
       "description": "有意水準",
       "layout": "IPY_MODEL_66599c4679fe4ba49e55a5886098db03",
       "max": 0.3,
       "min": 0.01,
       "step": 0.01,
       "style": "IPY_MODEL_a0a65af525104e80a9460a52066ab13c",
       "value": 0.05
      }
     },
     "f60cff564f964cbf8a2dd5272700cbe6": {
      "model_module": "@jupyter-widgets/controls",
      "model_module_version": "1.5.0",
      "model_name": "VBoxModel",
      "state": {
       "_dom_classes": [
        "widget-interact"
       ],
       "children": [
        "IPY_MODEL_c4e84b17bf7d4e21a5e173baf4dbfc65",
        "IPY_MODEL_44dffb476aec424aa27f5dd238037f62"
       ],
       "layout": "IPY_MODEL_5da5a520dec449298308fb8714c7ec37"
      }
     },
     "f8bf555e7ab94d9a98308e1921800f55": {
      "model_module": "@jupyter-widgets/controls",
      "model_module_version": "1.5.0",
      "model_name": "FloatSliderModel",
      "state": {
       "continuous_update": false,
       "description": "母平均と標本平均の差",
       "layout": "IPY_MODEL_a996282bb3554a4a8f451b76dc8c286a",
       "max": 3,
       "min": -3,
       "readout_format": ".1f",
       "step": 0.5,
       "style": "IPY_MODEL_291772e20afd45f590ed92eea1e1fc6a"
      }
     }
    },
    "version_major": 2,
    "version_minor": 0
   }
  }
 },
 "nbformat": 4,
 "nbformat_minor": 4
}
