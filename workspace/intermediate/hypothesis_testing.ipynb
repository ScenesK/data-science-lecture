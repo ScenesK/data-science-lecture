{
 "cells": [
  {
   "cell_type": "code",
   "execution_count": 1,
   "metadata": {},
   "outputs": [],
   "source": [
    "import numpy as np\n",
    "from scipy import stats\n",
    "import matplotlib.pyplot as plt\n",
    "%matplotlib inline"
   ]
  },
  {
   "cell_type": "markdown",
   "metadata": {},
   "source": [
    "## 統計的仮説検定\n",
    "---\n",
    "得られたデータから何か証明したい条件があるときに、間違うリスクを一定以下に抑えるリスクコントロールの手段。"
   ]
  },
  {
   "cell_type": "markdown",
   "metadata": {},
   "source": [
    "### 標本分布と区間推定"
   ]
  },
  {
   "cell_type": "markdown",
   "metadata": {},
   "source": [
    "###### 練習問題\n",
    "\n",
    "平均が $10$ ・標準偏差が $3$ の任意の確率分布から、 $50$ サンプル抽出して標本平均を求めたときの標本分布をグラフで表示する。 ([中心極限定理](../beginner/population_mean_estimation.ipynb#%E4%B8%AD%E5%BF%83%E6%A5%B5%E9%99%90%E5%AE%9A%E7%90%86-(central-limit-theorem))を利用する)"
   ]
  },
  {
   "cell_type": "code",
   "execution_count": null,
   "metadata": {
    "solution2": "hidden",
    "solution2_first": true
   },
   "outputs": [],
   "source": []
  },
  {
   "cell_type": "code",
   "execution_count": 2,
   "metadata": {
    "solution2": "hidden"
   },
   "outputs": [
    {
     "data": {
      "image/png": "[encoded data removed]",
      "text/plain": [
       "<Figure size 432x288 with 1 Axes>"
      ]
     },
     "metadata": {
      "needs_background": "light"
     },
     "output_type": "display_data"
    }
   ],
   "source": [
    "mu = 10\n",
    "sigma = 3\n",
    "n = 50\n",
    "x = np.linspace(mu - 3 * sigma, mu + 3 * sigma, 200)\n",
    "plt.plot(x, stats.norm(10, sigma / np.sqrt(n)).pdf(x))\n",
    "plt.xlim((x.min(), x.max()))\n",
    "plt.ylim((0, plt.ylim()[1]))\n",
    "plt.show()"
   ]
  },
  {
   "cell_type": "markdown",
   "metadata": {},
   "source": [
    "###### 練習問題\n",
    "\n",
    "上の標本分布からサンプリングした場合に、平均を中心に $95\\%$ のサンプルが含まれる範囲を求める。 ([区間推定](../beginner/population_mean_estimation.ipynb#%E5%8C%BA%E9%96%93%E6%8E%A8%E5%AE%9A-(interval-estimation))を参考に)"
   ]
  },
  {
   "cell_type": "code",
   "execution_count": null,
   "metadata": {
    "solution2": "hidden",
    "solution2_first": true
   },
   "outputs": [],
   "source": []
  },
  {
   "cell_type": "code",
   "execution_count": 3,
   "metadata": {
    "solution2": "hidden"
   },
   "outputs": [
    {
     "data": {
      "text/plain": [
       "(9.168457705390193, 10.831542294609807)"
      ]
     },
     "execution_count": 3,
     "metadata": {},
     "output_type": "execute_result"
    }
   ],
   "source": [
    "mu = 10\n",
    "sigma = 3\n",
    "n = 50\n",
    "stats.norm(10, sigma / np.sqrt(n)).interval(0.95)"
   ]
  },
  {
   "cell_type": "markdown",
   "metadata": {},
   "source": [
    "### 統計的仮説検定の考え方\n",
    "---\n",
    "上の例では母平均 $10$ ・母標準偏差 $3$ が与えられていたが、通常は母分布のパラメーター (母数) はわからない。  \n",
    "そこで、母数を仮定 (帰無仮説) し、標本分布 (帰無分布) を求める。その分布とサンプリングによって得られたパラメーターの推定値を比較し、**その分布から推定値が得られにくいものだった場合は元の仮定が間違っていた**可能性が高いと判断するのが統計的仮説検定。数学の背理法に似た論法。"
   ]
  },
  {
   "cell_type": "markdown",
   "metadata": {},
   "source": [
    "#### 具体例\n",
    "---\n",
    "コイントスで使用するコインの不正を確かめる。\n",
    "1. 仮に表の出る確率 ${\\displaystyle p=\\frac{1}{2}} $ である (コインに不正はない) として標本分布を求める (帰無分布)\n",
    "1. 実際にコイントスを行ってみて標本平均 $\\bar{x}$ を得る (サンプリング)\n",
    "1. 帰無分布から生じにくい値の範囲とサンプリングで得られた値を比較する\n",
    "1. サンプリングで得られた値が帰無分布から生じにくい範囲に含まれていればコインに不正がある疑いが濃厚になる"
   ]
  },
  {
   "cell_type": "code",
   "execution_count": 4,
   "metadata": {
    "hide_input": true
   },
   "outputs": [
    {
     "data": {
      "image/png": "[encoded data removed]",
      "text/plain": [
       "<Figure size 288x576 with 2 Axes>"
      ]
     },
     "metadata": {
      "needs_background": "light"
     },
     "output_type": "display_data"
    }
   ],
   "source": [
    "from my_functions.hypothesis_testing import concept\n",
    "concept.show()"
   ]
  },
  {
   "cell_type": "markdown",
   "metadata": {},
   "source": [
    "## GUIで実行してみる\n",
    "---\n",
    "RStudio の Console に`library(Rcmdr)`と入力して、 R commander を起動。\n",
    "\n",
    "- `データ`->`データのインポート`->`テキストファイルまたはクリップボード, URLから`\n",
    "\n",
    "として、`フィールドの区切り記号`を`カンマ`にし、`OK`をクリック。`workspace/intermediate/data/coin.csv`を読み込む。`データセットを表示`をクリックし、内容を確認。\n",
    "\n",
    "- `データ`->`アクティブデータセット`->`ケース名の設定`\n",
    "\n",
    "として、`X`を選択し、`OK`をクリック。再度データセットを確認。\n",
    "\n",
    "- `統計量`->`平均`->`1標本t検定`\n",
    "\n",
    "として、`帰無仮説： μ=μ0 ： μ0=`を $0.5$ (表が出るはずの確率) にして、`OK`をクリック。\n",
    "\n",
    "RStudio の Console に戻って、p-valueの値 (上のグラフの赤い部分の面積に相当) を確認。p-valueの値が小さければ不正があると判断。"
   ]
  },
  {
   "cell_type": "markdown",
   "metadata": {},
   "source": [
    "## 用語の整理\n",
    "---\n",
    "上で仮置きした条件のことを「帰無仮説 (null hypothesis) 」といい、通常 $H_{0}$ で表す。また、最終的に主張したいことを「対立仮説 (alternative hypothesis) 」といい、通常 $H_{1}$ で表す。\n",
    "\n",
    "帰無仮説が疑わしいとして否定することを「棄却 (reject) 」といい、帰無仮説または対立仮説を受け入れることを「採択 (accept)」という。\n",
    "\n",
    "帰無仮説を前提とした確率分布からは発生しにくい、つまり帰無仮説が間違っていると疑う十分な理由があることを「有意 (significant) 」という。\n",
    "\n",
    "どれくらい発生しにくければ有意であると判断するかの水準を「有意水準 (significance level) 」 (または危険率) といい、通常 $\\alpha$ で表す。有意水準には $5\\%\\ (\\alpha =0.05)$ や $1\\%\\ (\\alpha =0.01)$ がよく使われる。\n",
    "\n",
    "帰無仮説が正しいのに、それを棄却してしまうことを「第一種の誤り (error of the first kind) 」、帰無仮説が間違っているのに、それを採択してしまうことを「第二種の誤り (error of the second kind) 」という。\n",
    "\n",
    "<table class=\"border text-center background-white\">\n",
    "    <tr>\n",
    "        <td rowspan=\"2\" colspan=\"2\" class=\"border-none\"></td>\n",
    "        <th colspan=\"2\" class=\"border-bottom background-dark\">真の分布 (母数に基づく標本分布)</th>\n",
    "    </tr>\n",
    "    <tr>\n",
    "        <td>$H_{1}$ (対立仮説) が正しい<br />(自分の主張が正しい)</td>\n",
    "        <td>$H_{0}$ (帰無仮説) が正しい<br />(自分の主張が誤り)</td>\n",
    "    </tr>\n",
    "    <tr>\n",
    "        <th rowspan=\"2\" class=\"border-bottom background-dark\">判断</th>\n",
    "        <td>$H_{0}$ (帰無仮説) を棄却<br />(自分の主張が正しかったと結論)</td>\n",
    "        <td class=\"text-blue\">正解</td>\n",
    "        <td class=\"text-red\">第一種の誤り</td>\n",
    "        <td rowspan=\"2\" class=\"background-dark\">↑<br />−−− 有意水準 $\\alpha$ −−−<br />↓</td>\n",
    "    </tr>\n",
    "    <tr>\n",
    "        <td>$H_{0}$ (帰無仮説) を採択<br />(自分の主張が誤っていたと結論)</td>\n",
    "        <td class=\"text-red\">第二種の誤り</td>\n",
    "        <td class=\"text-blue\">正解</td>\n",
    "    </tr>\n",
    "    <tr>\n",
    "        <td colspan=\"2\" class=\"border-none\"></td>\n",
    "        <td colspan=\"2\" class=\"background-dark\">コントロール不能</td>\n",
    "    </tr>\n",
    "</table>\n",
    "\n",
    "<table class=\"text-left\">\n",
    "    <tr>\n",
    "        <th>帰無仮説</th>\n",
    "        <td>仮置きした条件</td>\n",
    "        <td>コインに偏りはない ${\\displaystyle \\left( p=\\frac{1}{2}\\right) }$</td>\n",
    "    </tr>\n",
    "    <tr>\n",
    "        <th>対立仮説</th>\n",
    "        <td>最終的に主張したいこと</td>\n",
    "        <td>コインは偏っている ${\\displaystyle \\left( p\\neq \\frac{1}{2}\\right) }$</td>\n",
    "    </tr>\n",
    "    <tr>\n",
    "        <th>有意水準</th>\n",
    "        <td>発生しにくいと判断する水準</td>\n",
    "        <td>帰無分布の両端 $5\\% \\ (2.5\\% +2.5\\% )$ の範囲の値が得られたら帰無仮説を疑う</td>\n",
    "    </tr>\n",
    "    <tr>\n",
    "        <th>有意</th>\n",
    "        <td>帰無仮説が間違っていると疑う十分な理由があること</td>\n",
    "        <td>帰無分布からは $3\\%$ 程度の確率でしか発生しない領域の値が得られた</td>\n",
    "    </tr>\n",
    "    <tr>\n",
    "        <th>棄却</th>\n",
    "        <td>帰無仮説を否定すること</td>\n",
    "        <td>コインは偏っている ${\\displaystyle \\left( p=\\frac{1}{2}\\right) }$ と結論づける</td>\n",
    "    </tr>\n",
    "    <tr>\n",
    "        <th>採択</th>\n",
    "        <td>帰無仮説または対立仮説を受け入れること</td>\n",
    "        <td></td>\n",
    "    </tr>\n",
    "    <tr>\n",
    "        <th>第一種の誤り</th>\n",
    "        <td>帰無仮説が正しいのに棄却してしまうこと</td>\n",
    "        <td>コインは偏っていないのに、偏っていると結論づけてしまう</td>\n",
    "    </tr>\n",
    "    <tr>\n",
    "        <th>第二種の誤り</th>\n",
    "        <td>帰無仮説が誤っているのに採択してしまうこと</td>\n",
    "        <td>コインは偏っているのに、偏っていないと結論づけてしまう</td>\n",
    "    </tr>\n",
    "</table>"
   ]
  },
  {
   "cell_type": "markdown",
   "metadata": {},
   "source": [
    "## 検定の手順\n",
    "---\n",
    "1. 最終的に主張したい対立仮説を考える\n",
    "1. 対応する帰無仮説を設定する\n",
    "1. 有意水準を設定する\n",
    "1. サンプリングする\n",
    "1. p 値 (得られた統計量より外側の値が得られる確率) を求める\n",
    "1. p 値を有意水準と比較して帰無仮説を棄却するかどうか決める"
   ]
  },
  {
   "cell_type": "markdown",
   "metadata": {},
   "source": [
    "## 検定の種類"
   ]
  },
  {
   "cell_type": "markdown",
   "metadata": {},
   "source": [
    "### 両側検定 (two-sided test)\n",
    "---\n",
    "帰無分布の両端に棄却域 (rejection region) を設けるものを両側検定という。"
   ]
  },
  {
   "cell_type": "code",
   "execution_count": 5,
   "metadata": {
    "hide_input": true
   },
   "outputs": [
    {
     "data": {
      "application/vnd.jupyter.widget-view+json": {
       "model_id": "32690fefbce949b7ac94844fbea7d0a0",
       "version_major": 2,
       "version_minor": 0
      },
      "text/plain": [
       "interactive(children=(FloatSlider(value=0.05, continuous_update=False, description='有意水準', max=0.3, min=0.01, …"
      ]
     },
     "metadata": {},
     "output_type": "display_data"
    }
   ],
   "source": [
    "from my_functions.hypothesis_testing import two_sided\n",
    "two_sided.show()"
   ]
  },
  {
   "cell_type": "markdown",
   "metadata": {},
   "source": [
    "###### 練習問題\n",
    "\n",
    "正規分布から任意の数のサンプルを抽出し、標本平均を求めるとする。帰無分布を標準正規分布 $\\mathcal{N}( 0,1)$ とし、両側検定を行う。  \n",
    "サンプリングにより検定統計量 (ここでは標本平均) $2.5$ が得られた場合の p 値を求める。"
   ]
  },
  {
   "cell_type": "code",
   "execution_count": null,
   "metadata": {
    "solution2": "hidden",
    "solution2_first": true
   },
   "outputs": [],
   "source": []
  },
  {
   "cell_type": "code",
   "execution_count": 6,
   "metadata": {
    "solution2": "hidden"
   },
   "outputs": [
    {
     "data": {
      "text/plain": [
       "0.012419330651552265"
      ]
     },
     "execution_count": 6,
     "metadata": {},
     "output_type": "execute_result"
    }
   ],
   "source": [
    "mean = 0\n",
    "std = 1\n",
    "null_dist = stats.norm(mean, std)\n",
    "upper = 2.5\n",
    "lower = mean - (upper - mean)\n",
    "p = null_dist.cdf(lower) + null_dist.sf(upper)\n",
    "p"
   ]
  },
  {
   "cell_type": "code",
   "execution_count": 7,
   "metadata": {
    "solution2": "hidden"
   },
   "outputs": [
    {
     "data": {
      "text/plain": [
       "0.012419330651552265"
      ]
     },
     "execution_count": 7,
     "metadata": {},
     "output_type": "execute_result"
    }
   ],
   "source": [
    "# 帰無分布が左右対称なので、片側だけ求めて2倍にしても同じ\n",
    "p = null_dist.sf(upper) * 2\n",
    "p"
   ]
  },
  {
   "cell_type": "markdown",
   "metadata": {},
   "source": [
    "### 片側検定 (one-sided test)\n",
    "---\n",
    "帰無分布の片側にしか棄却域を設けないものを片側検定という。  \n",
    "片側検定は分布のどちら側に棄却域を設けるかでさらに左側検定と右側検定に分かれる。"
   ]
  },
  {
   "cell_type": "code",
   "execution_count": 8,
   "metadata": {
    "hide_input": true
   },
   "outputs": [
    {
     "data": {
      "application/vnd.jupyter.widget-view+json": {
       "model_id": "3fe95ff72a2c473a88c63d56958f0c51",
       "version_major": 2,
       "version_minor": 0
      },
      "text/plain": [
       "interactive(children=(FloatSlider(value=0.05, continuous_update=False, description='有意水準', max=0.3, min=0.01, …"
      ]
     },
     "metadata": {},
     "output_type": "display_data"
    }
   ],
   "source": [
    "from my_functions.hypothesis_testing import one_sided\n",
    "one_sided.show()"
   ]
  },
  {
   "cell_type": "markdown",
   "metadata": {},
   "source": [
    "###### 練習問題\n",
    "\n",
    "正規分布から任意の数のサンプルを抽出し、標本平均を求めるとする。帰無分布を標準正規分布 $\\mathcal{N}( 0,1)$ とし、左側検定を行う。  \n",
    "サンプリングにより検定統計量 (ここでは標本平均) $-1.2$ が得られた場合の p 値を求める。"
   ]
  },
  {
   "cell_type": "code",
   "execution_count": null,
   "metadata": {
    "solution2": "hidden",
    "solution2_first": true
   },
   "outputs": [],
   "source": []
  },
  {
   "cell_type": "code",
   "execution_count": 9,
   "metadata": {
    "solution2": "hidden"
   },
   "outputs": [
    {
     "data": {
      "text/plain": [
       "0.11506967022170822"
      ]
     },
     "execution_count": 9,
     "metadata": {},
     "output_type": "execute_result"
    }
   ],
   "source": [
    "mean = 0\n",
    "std = 1\n",
    "null_dist = stats.norm(mean, std)\n",
    "stat = -1.2\n",
    "p = null_dist.cdf(stat)\n",
    "p"
   ]
  },
  {
   "cell_type": "markdown",
   "metadata": {},
   "source": [
    "###### 練習問題\n",
    "\n",
    "正規分布から任意の数のサンプルを抽出し、標本平均を求めるとする。帰無分布を標準正規分布 $\\mathcal{N}( 0,1)$ とし、右側検定を行う。  \n",
    "サンプリングにより検定統計量 (ここでは標本平均) $2.5$ が得られた場合の p 値を求める。"
   ]
  },
  {
   "cell_type": "code",
   "execution_count": null,
   "metadata": {
    "solution2": "hidden",
    "solution2_first": true
   },
   "outputs": [],
   "source": []
  },
  {
   "cell_type": "code",
   "execution_count": 10,
   "metadata": {
    "solution2": "hidden"
   },
   "outputs": [
    {
     "data": {
      "text/plain": [
       "0.006209665325776132"
      ]
     },
     "execution_count": 10,
     "metadata": {},
     "output_type": "execute_result"
    }
   ],
   "source": [
    "mean = 0\n",
    "std = 1\n",
    "null_dist = stats.norm(mean, std)\n",
    "stat = 2.5\n",
    "p = null_dist.sf(stat)\n",
    "p"
   ]
  },
  {
   "cell_type": "markdown",
   "metadata": {},
   "source": [
    "### 棄却域の位置の使い分け\n",
    "---\n",
    "<table class=\"text-center border\">\n",
    "    <tr class=\"background-dark\">\n",
    "        <th>主張したいこと</th>\n",
    "        <th>対立仮説 $H_1$</th>\n",
    "        <th>検定の種類</th>\n",
    "        <th>棄却域</th>\n",
    "        <th>帰無仮説 $H_0$</th>\n",
    "    </tr>\n",
    "    <tr class=\"background-bright\">\n",
    "        <td>対象とする統計量 ($\\phi$) の値 ($a$) がある値 ($b$) と異なる</td>\n",
    "        <td>$a\\neq b$</td>\n",
    "        <td>両側検定</td>\n",
    "        <td style=\"min-width: 12em;\">$\\phi<\\phi_{1-\\frac{\\alpha}{2}},\\ \\phi_{\\frac{\\alpha}{2}}<\\phi$</td>\n",
    "        <td rowspan=\"3\">$a=b$</td>\n",
    "    </tr>\n",
    "    <tr class=\"background-bright\">\n",
    "        <td class=\"text-left\">対象とする統計量 ($\\phi$) の値 ($a$) がある値 ($b$) より大きい</td>\n",
    "        <td>$a>b$</td>\n",
    "        <td>右側検定</td>\n",
    "        <td>$\\phi_{\\alpha}<\\phi$</td>\n",
    "    </tr>\n",
    "    <tr class=\"background-bright\">\n",
    "        <td class=\"text-left\">対象とする統計量 ($\\phi$) の値 ($a$) がある値 ($b$) より小さい</td>\n",
    "        <td>$a<b$</td>\n",
    "        <td>左側検定</td>\n",
    "        <td>$\\phi<\\phi_{\\alpha}$</td>\n",
    "    </tr>\n",
    "</table>"
   ]
  },
  {
   "cell_type": "markdown",
   "metadata": {},
   "source": [
    "## 注意点"
   ]
  },
  {
   "cell_type": "markdown",
   "metadata": {},
   "source": [
    "### 結論の意味\n",
    "---\n",
    "帰無仮説が棄却された場合には、対立仮説が確からしいことが確認されるが、帰無仮説が採択された場合には、帰無仮説が確からしいことが確認されるわけではない。\n",
    "\n",
    "- 帰無仮説を棄却 → 対立仮説が正しそう\n",
    "- 帰無仮説を採択 → 結論はグレー (何も積極的には主張できない)\n",
    "\n",
    "帰無仮説を棄却した場合も対立仮説が証明されたわけではなく、有意水準 $\\alpha$ の下で対立仮説が確からしいことが保証されるだけ。"
   ]
  },
  {
   "cell_type": "markdown",
   "metadata": {},
   "source": [
    "### 有意水準の意味\n",
    "---\n",
    "有意水準 $\\alpha $ が表しているのは、帰無仮説が正しい (自分の主張が誤っていた) ときに帰無仮説を棄却する第一種の誤りを犯す危険性。  \n",
    "帰無仮説が誤っているときに正しく棄却できる確率ではない。\n",
    "\n",
    "下のグラフでは、標本分布 (実際には確認不可能) を点線、帰無分布 (確認可能) を実線、標本分布からその値が得られる確率 (実際に存在する) を色つき、採択域・棄却域 (実際にサンプルが得られる確率とは無関係) を白黒で表現。"
   ]
  },
  {
   "cell_type": "code",
   "execution_count": 11,
   "metadata": {
    "hide_input": true
   },
   "outputs": [
    {
     "data": {
      "application/vnd.jupyter.widget-view+json": {
       "model_id": "8f1a716bc92b492eb0017c212690f557",
       "version_major": 2,
       "version_minor": 0
      },
      "text/plain": [
       "interactive(children=(FloatSlider(value=0.0, continuous_update=False, description='母平均と標本平均の差', max=3.0, min=-…"
      ]
     },
     "metadata": {},
     "output_type": "display_data"
    }
   ],
   "source": [
    "from my_functions.hypothesis_testing import alpha\n",
    "alpha.show()"
   ]
  },
  {
   "cell_type": "markdown",
   "metadata": {},
   "source": [
    "###### 練習問題\n",
    "\n",
    "平均 $5$ 、標準偏差 $10$ の正規分布 (母分布) から $100$ 個のサンプルを抽出して平均を求めるとすると、その標本分布は平均 $5$ 、標準偏差 $1$ の正規分布になる。  \n",
    "このとき、帰無分布を仮に平均 $4.5$ 、標準偏差 $1$ の正規分布とし、有意水準を $\\alpha =0.05$ にして両側検定を行った場合に、正しく帰無仮説を棄却できる確率を求める。"
   ]
  },
  {
   "cell_type": "code",
   "execution_count": null,
   "metadata": {
    "solution2": "hidden",
    "solution2_first": true
   },
   "outputs": [],
   "source": []
  },
  {
   "cell_type": "code",
   "execution_count": 12,
   "metadata": {
    "solution2": "hidden"
   },
   "outputs": [
    {
     "data": {
      "text/plain": [
       "0.07909753416059649"
      ]
     },
     "execution_count": 12,
     "metadata": {},
     "output_type": "execute_result"
    }
   ],
   "source": [
    "std = 1\n",
    "sample_dist = stats.norm(5, std)\n",
    "null_dist = stats.norm(4.5, std)\n",
    "lower, upper = null_dist.interval(1 - 0.05)\n",
    "sample_dist.cdf(lower) + sample_dist.sf(upper)"
   ]
  },
  {
   "cell_type": "markdown",
   "metadata": {},
   "source": [
    "###### 練習問題\n",
    "\n",
    "上と同じ条件で、帰無仮説を平均 $4$ 、$5.1$ とした場合の確率をそれぞれ求める。"
   ]
  },
  {
   "cell_type": "code",
   "execution_count": null,
   "metadata": {
    "solution2": "hidden",
    "solution2_first": true
   },
   "outputs": [],
   "source": []
  },
  {
   "cell_type": "code",
   "execution_count": 13,
   "metadata": {
    "solution2": "hidden"
   },
   "outputs": [
    {
     "name": "stdout",
     "output_type": "stream",
     "text": [
      "平均4.0の場合 : 0.17\n",
      "平均5.1の場合 : 0.05\n"
     ]
    }
   ],
   "source": [
    "std = 1\n",
    "sample_dist = stats.norm(5, std)\n",
    "\n",
    "\n",
    "def prob(null_hypothesis):\n",
    "    null_dist = stats.norm(null_hypothesis, std)\n",
    "    lower, upper = null_dist.interval(1 - 0.05)\n",
    "    return sample_dist.cdf(lower) + sample_dist.sf(upper)\n",
    "\n",
    "\n",
    "for null_hypothesis in [4, 5.1]:\n",
    "    print(f'平均{null_hypothesis:<.1f}の場合 : {prob(null_hypothesis):.2f}')"
   ]
  },
  {
   "cell_type": "markdown",
   "metadata": {},
   "source": [
    "### 安易なp値の利用\n",
    "---\n",
    "アメリカ統計協会から統計的有意と p 値について[声明](https://amstat.tandfonline.com/doi/full/10.1080/00031305.2016.1154108#.XM-c95P7RN0)が発表されている。\n",
    "\n",
    "1. P-values can indicate how incompatible the data are with a specified statistical model.\n",
    " - p 値が指し示すのは特定の統計モデルとどれくらい矛盾するかである\n",
    "1. P-values do not measure the probability that the studied hypothesis is true, or the probability that the data were produced by random chance alone.\n",
    " - p 値は得られた結論が正しい確率を測るものでも、データが純粋にランダムに生成された確率を測るものでもない\n",
    "1. Scientific conclusions and business or policy decisions should not be based only on whether a p-value passes a specific threshold.\n",
    " - 科学的結論もビジネスあるいは政策上の決定も p 値がある閾値を超えたかどうかで下されるべきではない\n",
    "1. Proper inference requires full reporting and transparency.\n",
    " - 適切な推論には完全な報告と透明性が必要である (都合の良いものだけを選んではならない)\n",
    "1. A p-value, or statistical significance, does not measure the size of an effect or the importance of a result.\n",
    " - p 値や統計的有意は結果の影響や重要性の大きさを測るものではない\n",
    "1. By itself, a p-value does not provide a good measure of evidence regarding a model or hypothesis. \n",
    " - p 値だけではモデルや仮説に関するエビデンス (証明) の良い指標にはならない"
   ]
  },
  {
   "cell_type": "markdown",
   "metadata": {},
   "source": [
    "#### 対策\n",
    "---\n",
    "以下のような手法 (の併用、あるいは代替) が紹介されている。\n",
    "\n",
    "- 検定よりも予測を重視する手法\n",
    "- ベイズ統計学的な手法\n",
    "- 尤度比やベイズ因子などの代替的なエビデンスの指標\n",
    "- 決定理論的モデリングや False Discovery Rate など\n",
    "\n",
    "いずれも銀の弾丸になるわけではないので、**まずは通常の統計的検定の枠組みとその限界を理解**し、必要に応じて他の手法を理解していく。"
   ]
  }
 ],
 "metadata": {
  "kernelspec": {
   "display_name": "Python 3",
   "language": "python",
   "name": "python3"
  },
  "language_info": {
   "codemirror_mode": {
    "name": "ipython",
    "version": 3
   },
   "file_extension": ".py",
   "mimetype": "text/x-python",
   "name": "python",
   "nbconvert_exporter": "python",
   "pygments_lexer": "ipython3",
   "version": "3.7.4"
  },
  "toc": {
   "base_numbering": 1,
   "nav_menu": {},
   "number_sections": true,
   "sideBar": true,
   "skip_h1_title": true,
   "title_cell": "Table of Contents",
   "title_sidebar": "Contents",
   "toc_cell": false,
   "toc_position": {},
   "toc_section_display": true,
   "toc_window_display": true
  },
  "varInspector": {
   "cols": {
    "lenName": 16,
    "lenType": 16,
    "lenVar": 40
   },
   "kernels_config": {
    "python": {
     "delete_cmd_postfix": "",
     "delete_cmd_prefix": "del ",
     "library": "var_list.py",
     "varRefreshCmd": "print(var_dic_list())"
    },
    "r": {
     "delete_cmd_postfix": ") ",
     "delete_cmd_prefix": "rm(",
     "library": "var_list.r",
     "varRefreshCmd": "cat(var_dic_list()) "
    }
   },
   "types_to_exclude": [
    "module",
    "function",
    "builtin_function_or_method",
    "instance",
    "_Feature"
   ],
   "window_display": false
  }
 },
 "nbformat": 4,
 "nbformat_minor": 2
}
