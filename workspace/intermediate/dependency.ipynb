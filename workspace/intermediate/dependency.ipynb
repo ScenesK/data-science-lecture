{
 "cells": [
  {
   "cell_type": "code",
   "execution_count": 1,
   "metadata": {},
   "outputs": [],
   "source": [
    "import numpy as np\n",
    "from scipy import stats\n",
    "import pandas as pd\n",
    "import matplotlib.pyplot as plt\n",
    "from IPython.display import display\n",
    "import seaborn as sns\n",
    "pd.set_option('max_rows', 5)\n",
    "%matplotlib inline"
   ]
  },
  {
   "cell_type": "markdown",
   "metadata": {},
   "source": [
    "## 対応「あり」「なし」とは\n",
    "---\n",
    "同じ対象に対して異なる条件で取得したデータを「対応あり」、異なる対象に対して取得したデータを「対応なし」という。\n",
    "\n",
    "<table class=\"text-center border\">\n",
    "    <tr>\n",
    "        <th class=\"border-none background-default\" colspan=\"3\">対応あり</th>\n",
    "    </tr>\n",
    "    <tr>\n",
    "        <td></td>\n",
    "        <td>課外授業実施前の成績</td>\n",
    "        <td>課外授業実施後の成績</td>\n",
    "    </tr>\n",
    "    <tr>\n",
    "        <td>クラス1生徒A</td>\n",
    "        <td>80</td>\n",
    "        <td>85</td>\n",
    "    </tr>\n",
    "    <tr>\n",
    "        <td>クラス1生徒B</td>\n",
    "        <td>60</td>\n",
    "        <td>69</td>\n",
    "    </tr>\n",
    "    <tr>\n",
    "        <td>クラス1生徒C</td>\n",
    "        <td>90</td>\n",
    "        <td>87</td>\n",
    "    </tr>\n",
    "</table>\n",
    "\n",
    "<table class=\"text-center border\">\n",
    "    <tr>\n",
    "        <th class=\"border-none background-default\" colspan=\"4\">対応なし</th>\n",
    "    </tr>\n",
    "    <tr>\n",
    "        <td></td>\n",
    "        <td>課外授業実施後の成績</td>\n",
    "        <td></td>\n",
    "        <td>課外授業実施後の成績</td>\n",
    "    </tr>\n",
    "    <tr>\n",
    "        <td>クラス1生徒A</td>\n",
    "        <td>85</td>\n",
    "        <td>クラス2生徒D</td>\n",
    "        <td>75</td>\n",
    "    </tr>\n",
    "    <tr>\n",
    "        <td>クラス1生徒B</td>\n",
    "        <td>69</td>\n",
    "        <td>クラス2生徒E</td>\n",
    "        <td>95</td>\n",
    "    </tr>\n",
    "    <tr>\n",
    "        <td>クラス1生徒C</td>\n",
    "        <td>87</td>\n",
    "    </tr>\n",
    "</table>"
   ]
  },
  {
   "cell_type": "markdown",
   "metadata": {},
   "source": [
    "## サンプル数 (標本数) とは\n",
    "---\n",
    "性質 (例えば母平均など) の異なる 2 種のデータを 2 標本またはサンプル数が 2 であるという。 2 標本の比較を扱う問題を 2 標本問題という。  \n",
    "サンプル数はサンプルサイズ (データセットの大きさ) と間違いやすいが、複数の標本を扱う場合以外はサンプルサイズのことをサンプル数ということも多いので、文脈から判断する。"
   ]
  },
  {
   "cell_type": "markdown",
   "metadata": {},
   "source": [
    "## 対応のあるt検定 (対応のある2群の平均の差の検定)\n",
    "---\n",
    "対応ある 2 群のデータ $X,Y$ で、対応する値同士の差を表すデータ $D$ に対して [$t$ 検定](t_test.ipynb)を行う。\n",
    "\n",
    "2 つの確率分布 $X,Y$ の平均・分散をそれぞれ $\\mu _{X} ,\\mu _{Y}$ ・ $\\sigma ^{2}_{X} ,\\sigma ^{2}_{Y}$ とすると、 $X-Y$ の平均・分散は $\\mu _{X} -\\mu _{Y}$ ・ $\\sigma ^{2}_{X} +\\sigma ^{2}_{Y}$ になる。 ([平均と分散の性質](mean_and_variance.ipynb)参照)  \n",
    "さらに $X,Y$ が共に正規分布なら、正規分布の性質から $D$ も正規分布。 $X,Y$ が正規分布でなくても、サンプルサイズ $n$ が大きく[中心極限定理](../beginner/population_mean_estimation.ipynb#%E4%B8%AD%E5%BF%83%E6%A5%B5%E9%99%90%E5%AE%9A%E7%90%86-(central-limit-theorem))が成り立つ場合には $D$ の平均 $\\mu _{D}$ は正規分布で近似可能。\n",
    "そこで、この場合には統計量 $\n",
    "\\begin{align}\n",
    "    t & =\\frac\n",
    "        {\\overline{D} -\\mu _{D}}\n",
    "        {\\sqrt{\n",
    "            {\\displaystyle \\frac\n",
    "                {s^{2}_{D}}\n",
    "                {n}\n",
    "            }\n",
    "        }}\n",
    "\\end{align}\n",
    "$ が自由度 $n-1$ の $t$ 分布に従うことを利用して検定する。"
   ]
  },
  {
   "cell_type": "markdown",
   "metadata": {},
   "source": [
    "###### 練習問題\n",
    "\n",
    "データセット`data`の`before`と`after`の差を表すデータセット`diff`を作成し、施策の効果があるかどうかを検定するための統計量 $t$ を求める。"
   ]
  },
  {
   "cell_type": "code",
   "execution_count": 2,
   "metadata": {
    "hide_input": false
   },
   "outputs": [
    {
     "name": "stdout",
     "output_type": "stream",
     "text": [
      "data\n"
     ]
    },
    {
     "data": {
      "text/html": [
       "<div>\n",
       "<style scoped>\n",
       "    .dataframe tbody tr th:only-of-type {\n",
       "        vertical-align: middle;\n",
       "    }\n",
       "\n",
       "    .dataframe tbody tr th {\n",
       "        vertical-align: top;\n",
       "    }\n",
       "\n",
       "    .dataframe thead th {\n",
       "        text-align: right;\n",
       "    }\n",
       "</style>\n",
       "<table border=\"1\" class=\"dataframe\">\n",
       "  <thead>\n",
       "    <tr style=\"text-align: right;\">\n",
       "      <th></th>\n",
       "      <th>before</th>\n",
       "      <th>after</th>\n",
       "    </tr>\n",
       "  </thead>\n",
       "  <tbody>\n",
       "    <tr>\n",
       "      <th>0</th>\n",
       "      <td>72.423867</td>\n",
       "      <td>74.167243</td>\n",
       "    </tr>\n",
       "    <tr>\n",
       "      <th>1</th>\n",
       "      <td>78.817884</td>\n",
       "      <td>77.126414</td>\n",
       "    </tr>\n",
       "    <tr>\n",
       "      <th>...</th>\n",
       "      <td>...</td>\n",
       "      <td>...</td>\n",
       "    </tr>\n",
       "    <tr>\n",
       "      <th>48</th>\n",
       "      <td>74.256930</td>\n",
       "      <td>72.173378</td>\n",
       "    </tr>\n",
       "    <tr>\n",
       "      <th>49</th>\n",
       "      <td>76.791652</td>\n",
       "      <td>76.037498</td>\n",
       "    </tr>\n",
       "  </tbody>\n",
       "</table>\n",
       "<p>50 rows × 2 columns</p>\n",
       "</div>"
      ],
      "text/plain": [
       "       before      after\n",
       "0   72.423867  74.167243\n",
       "1   78.817884  77.126414\n",
       "..        ...        ...\n",
       "48  74.256930  72.173378\n",
       "49  76.791652  76.037498\n",
       "\n",
       "[50 rows x 2 columns]"
      ]
     },
     "metadata": {},
     "output_type": "display_data"
    }
   ],
   "source": [
    "size = 50\n",
    "np.random.seed(1234)\n",
    "X = stats.truncnorm(0, 100, loc=70, scale=10).rvs(size=size)\n",
    "Y = X + stats.norm(loc=1, scale=3).rvs(size=size)\n",
    "Y = np.where(np.where(Y <= 0, 0, Y) >= 100, 100, Y)\n",
    "data = pd.DataFrame(dict(before=X, after=Y), dtype=int)\n",
    "print('data')\n",
    "display(data)"
   ]
  },
  {
   "cell_type": "code",
   "execution_count": null,
   "metadata": {
    "solution2": "hidden",
    "solution2_first": true
   },
   "outputs": [],
   "source": []
  },
  {
   "cell_type": "code",
   "execution_count": 3,
   "metadata": {
    "solution2": "hidden"
   },
   "outputs": [
    {
     "data": {
      "text/plain": [
       "2.3857663966532603"
      ]
     },
     "execution_count": 3,
     "metadata": {},
     "output_type": "execute_result"
    }
   ],
   "source": [
    "diff = data['after'] - data['before']\n",
    "t = (diff.mean() - 0) / np.sqrt(diff.var(ddof=1) / diff.index.size)\n",
    "t"
   ]
  },
  {
   "cell_type": "markdown",
   "metadata": {},
   "source": [
    "###### 練習問題\n",
    "\n",
    "この検定に対応する帰無分布の確率密度関数と、上で求めた $t$ 統計量の位置をグラフ表示する。"
   ]
  },
  {
   "cell_type": "code",
   "execution_count": null,
   "metadata": {
    "solution2": "hidden",
    "solution2_first": true
   },
   "outputs": [],
   "source": []
  },
  {
   "cell_type": "code",
   "execution_count": 4,
   "metadata": {
    "solution2": "hidden"
   },
   "outputs": [
    {
     "data": {
      "image/png": "[encoded data removed]",
      "text/plain": [
       "<Figure size 432x288 with 1 Axes>"
      ]
     },
     "metadata": {
      "needs_background": "light"
     },
     "output_type": "display_data"
    }
   ],
   "source": [
    "x = np.linspace(-3, 3, 100)\n",
    "null_dist = stats.t(diff.index.size - 1)\n",
    "plt.plot(x, null_dist.pdf(x))\n",
    "sns.rugplot([t])\n",
    "plt.xticks([t])\n",
    "plt.show()"
   ]
  },
  {
   "cell_type": "markdown",
   "metadata": {},
   "source": [
    "###### 練習問題\n",
    "\n",
    "上で求めた検定統計量 $𝑡$ に対応した $p$ 値を求める。"
   ]
  },
  {
   "cell_type": "code",
   "execution_count": null,
   "metadata": {
    "solution2": "hidden",
    "solution2_first": true
   },
   "outputs": [],
   "source": []
  },
  {
   "cell_type": "code",
   "execution_count": 5,
   "metadata": {
    "solution2": "hidden"
   },
   "outputs": [
    {
     "data": {
      "text/plain": [
       "0.010476528585939763"
      ]
     },
     "execution_count": 5,
     "metadata": {},
     "output_type": "execute_result"
    }
   ],
   "source": [
    "# 施作の効果があると言えるためにはbefore<afterでなければならないので、右側検定を用いる\n",
    "p = null_dist.sf(t)\n",
    "p"
   ]
  },
  {
   "cell_type": "code",
   "execution_count": 6,
   "metadata": {
    "solution2": "hidden"
   },
   "outputs": [
    {
     "data": {
      "text/plain": [
       "0.010476528585939763"
      ]
     },
     "execution_count": 6,
     "metadata": {},
     "output_type": "execute_result"
    }
   ],
   "source": [
    "stats.ttest_1samp(diff, 0).pvalue / 2"
   ]
  },
  {
   "cell_type": "markdown",
   "metadata": {},
   "source": [
    "対応のある 2 群の比の差の検定には[マクネマー検定](https://www.statsmodels.org/stable/generated/statsmodels.sandbox.stats.runs.mcnemar.html)があるが、ここでは扱わない。"
   ]
  },
  {
   "cell_type": "markdown",
   "metadata": {},
   "source": [
    "## Pythonでの対応のある2群の平均の差の検定の実行方法\n",
    "---\n",
    "`scipy.stats.ttest_rel`を使用する。  \n",
    "常に両側検定になるので、片側検定は p 値を $\\displaystyle \\frac{1}{2}$ にする。"
   ]
  },
  {
   "cell_type": "code",
   "execution_count": 7,
   "metadata": {},
   "outputs": [],
   "source": [
    "stats.ttest_rel??"
   ]
  },
  {
   "cell_type": "code",
   "execution_count": 8,
   "metadata": {},
   "outputs": [
    {
     "data": {
      "text/plain": [
       "Ttest_relResult(statistic=2.3857663966532603, pvalue=0.020953057171879525)"
      ]
     },
     "execution_count": 8,
     "metadata": {},
     "output_type": "execute_result"
    }
   ],
   "source": [
    "stats.ttest_rel(data['after'], data['before'])"
   ]
  }
 ],
 "metadata": {
  "kernelspec": {
   "display_name": "Python 3",
   "language": "python",
   "name": "python3"
  },
  "language_info": {
   "codemirror_mode": {
    "name": "ipython",
    "version": 3
   },
   "file_extension": ".py",
   "mimetype": "text/x-python",
   "name": "python",
   "nbconvert_exporter": "python",
   "pygments_lexer": "ipython3",
   "version": "3.7.4"
  },
  "toc": {
   "base_numbering": 1,
   "nav_menu": {},
   "number_sections": true,
   "sideBar": true,
   "skip_h1_title": true,
   "title_cell": "Table of Contents",
   "title_sidebar": "Contents",
   "toc_cell": false,
   "toc_position": {},
   "toc_section_display": true,
   "toc_window_display": true
  },
  "varInspector": {
   "cols": {
    "lenName": 16,
    "lenType": 16,
    "lenVar": 40
   },
   "kernels_config": {
    "python": {
     "delete_cmd_postfix": "",
     "delete_cmd_prefix": "del ",
     "library": "var_list.py",
     "varRefreshCmd": "print(var_dic_list())"
    },
    "r": {
     "delete_cmd_postfix": ") ",
     "delete_cmd_prefix": "rm(",
     "library": "var_list.r",
     "varRefreshCmd": "cat(var_dic_list()) "
    }
   },
   "types_to_exclude": [
    "module",
    "function",
    "builtin_function_or_method",
    "instance",
    "_Feature"
   ],
   "window_display": false
  }
 },
 "nbformat": 4,
 "nbformat_minor": 2
}
