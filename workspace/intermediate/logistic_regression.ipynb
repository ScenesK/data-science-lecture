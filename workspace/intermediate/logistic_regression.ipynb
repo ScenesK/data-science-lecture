{
 "cells": [
  {
   "cell_type": "code",
   "execution_count": 1,
   "metadata": {},
   "outputs": [],
   "source": [
    "import numpy as np\n",
    "from scipy.stats import binom\n",
    "import pandas as pd\n",
    "from sklearn.datasets import make_classification\n",
    "from sklearn.linear_model import LogisticRegression\n",
    "import statsmodels.api as sm\n",
    "import matplotlib.pyplot as plt\n",
    "import seaborn as sns\n",
    "from IPython.display import display\n",
    "pd.set_option('max_rows', 5)\n",
    "%matplotlib inline"
   ]
  },
  {
   "cell_type": "markdown",
   "metadata": {},
   "source": [
    "## ロジスティック回帰の回帰方程式の意味"
   ]
  },
  {
   "cell_type": "markdown",
   "metadata": {},
   "source": [
    "### ロジスティック回帰の回帰方程式\n",
    "---\n",
    "$\\displaystyle z=a+b_{1} x_{1} +b_{2} x_{2} +\\cdots +b_{k} x_{k}$ とすると、ロジスティック回帰の回帰方程式は $\n",
    "\\displaystyle y=\\frac\n",
    "    {e^{z}}\n",
    "    {1+e^{z}}\n",
    "=\\frac\n",
    "    {1}\n",
    "    {1+e^{-z}}\n",
    "$ で表される。"
   ]
  },
  {
   "cell_type": "markdown",
   "metadata": {},
   "source": [
    "### オッズとオッズ比\n",
    "---\n",
    "ある事象が起きる確率を $p$ とすると、 $\n",
    "\\displaystyle o=\\frac\n",
    "    {p}\n",
    "    {1-p}\n",
    "$ をオッズという。オッズはある事象の起こりやすさを表す。  \n",
    "また、別々のグループでのオッズ $o_{1}, o_{2}$ の比 $\n",
    "\\displaystyle \\frac\n",
    "    {o_{1}}\n",
    "    {o_{2}}\n",
    "$ をオッズ比という。オッズ比は他のグループと比較したときの相対的な事象の起こりやすさを表す。"
   ]
  },
  {
   "cell_type": "markdown",
   "metadata": {},
   "source": [
    "###### 練習問題\n",
    "\n",
    "ある調査で、男性・女性で定期的に運動している人の割合がそれぞれ $20\\% ,30\\%$ だったときに、男女それぞれのオッズとオッズ比を算出する。"
   ]
  },
  {
   "cell_type": "code",
   "execution_count": null,
   "metadata": {
    "solution2": "hidden",
    "solution2_first": true
   },
   "outputs": [],
   "source": []
  },
  {
   "cell_type": "code",
   "execution_count": 2,
   "metadata": {
    "solution2": "hidden"
   },
   "outputs": [
    {
     "name": "stdout",
     "output_type": "stream",
     "text": [
      "男性のオッズ = 0.25\n",
      "女性のオッズ = 0.43\n",
      "オッズ比 = 0.58\n"
     ]
    }
   ],
   "source": [
    "p_male, p_female = 0.2, 0.3\n",
    "o_male = p_male / (1 - p_male)\n",
    "o_female = p_female / (1 - p_female)\n",
    "o_ratio = o_male / o_female\n",
    "for sex, odds in zip(['男性', '女性'], [o_male, o_female]):\n",
    "    print(f'{sex}のオッズ = {odds:.2f}')\n",
    "print(f'オッズ比 = {o_ratio:.2f}')"
   ]
  },
  {
   "cell_type": "markdown",
   "metadata": {},
   "source": [
    "### 回帰方程式とオッズ\n",
    "---\n",
    "オッズ $\n",
    "\\displaystyle o=\\frac\n",
    "    {p}\n",
    "    {1-p}\n",
    "$ を $p$ について整理すると、 $\n",
    "\\displaystyle p=\\frac\n",
    "    {o}\n",
    "    {1+o}\n",
    "$ となる。  \n",
    "これをロジスティック関数 (ロジスティック分布の累積分布関数) $\n",
    "\\displaystyle f( x) =\\frac\n",
    "    {e^{x}}\n",
    "    {1+e^{x}}\n",
    "$ と比較すると、 $p$ も $f( x)$ も確率を表しているので、ロジスティック回帰の回帰方程式中の $e^{z}$ は目的変数 $y$ についてのオッズを表していると解釈できる。"
   ]
  },
  {
   "cell_type": "markdown",
   "metadata": {},
   "source": [
    "### 回帰係数とオッズ比\n",
    "---\n",
    "説明変数 $x$ に対して回帰係数が $b$ のとき、 $x$ が 1 増加すると $z$ は $b$ 増加する。このとき $x$ の増加前後のオッズ比は $\\displaystyle \\frac{e^{z+b}}{e^{z}} =e^{b}$ なので、回帰係数 $b$ は $x$ についての対数オッズ比の推定量である。 $\\displaystyle \\left( loge^{b} =b\\right)$  \n",
    "例えば、 $x$ が男女を表すダミー変数 (男 = 1・女 = 0) だとすると、目的変数 $y$ に関して、男性のオッズは女性のオッズの $e^{b}$ 倍 (男性の対数オッズと女性の対数オッズの差は $b$) である。"
   ]
  },
  {
   "cell_type": "markdown",
   "metadata": {},
   "source": [
    "## 回帰方程式の求め方"
   ]
  },
  {
   "cell_type": "markdown",
   "metadata": {},
   "source": [
    "### 尤度"
   ]
  },
  {
   "cell_type": "markdown",
   "metadata": {},
   "source": [
    "###### 練習問題\n",
    "\n",
    "表の出る確率 $p$ が不明なコインを 10 回投げて、表が 3 回出たとする。このとき、横軸に確率 $p$ (0~1) ・縦軸に $p$ がその値のときに 10 回中 3 回表が得られる確率をとったグラフを表示する。"
   ]
  },
  {
   "cell_type": "code",
   "execution_count": null,
   "metadata": {
    "solution2": "hidden",
    "solution2_first": true
   },
   "outputs": [],
   "source": []
  },
  {
   "cell_type": "code",
   "execution_count": 3,
   "metadata": {
    "solution2": "hidden"
   },
   "outputs": [
    {
     "data": {
      "image/png": "[encoded data removed]",
      "text/plain": [
       "<Figure size 432x288 with 1 Axes>"
      ]
     },
     "metadata": {
      "needs_background": "light"
     },
     "output_type": "display_data"
    }
   ],
   "source": [
    "p = np.linspace(0, 1, 50)\n",
    "y = binom.pmf(3, 10, p)\n",
    "plt.plot(p, y)\n",
    "plt.show()"
   ]
  },
  {
   "cell_type": "markdown",
   "metadata": {},
   "source": [
    "ある観測値 (サンプル) が得られたときに、そのサンプルがどのようなパラメーター (母数) の分布から得られていそうか (もっともらしいか) を表す関数を尤度 (関数) という。  \n",
    "上の練習問題のグラフは尤度を表しており、 $p=0.3$ のときに尤度が最大になる。この尤度が最大になるパラメーターの推定量を最尤推定量という。"
   ]
  },
  {
   "cell_type": "markdown",
   "metadata": {},
   "source": [
    "### 最尤法 (Maximum Likelihood Method)\n",
    "---\n",
    "最尤法、または最尤推定 (maximum likelihood estimation) とは、最尤推定量 (尤度が最大になる母数) を母数の推定量とする方法。実際には尤度ではなく対数尤度を用いることが多い。\n",
    "\n",
    "詳細は[最尤法](maximum_likelihood_estimation.ipynb)を参照。\n",
    "\n",
    "ロジスティック回帰の場合、尤度は $\\displaystyle \\prod _{\\{i|y_{i} =1\\}}\\hat{y}_{i} \\cdot \\prod _{\\{i|y_{i} =0\\}}\\left( 1-\\hat{y}_{i}\\right)$ 、対数尤度は $\\displaystyle \\sum _{\\{i|y_{i} =1\\}} log\\hat{y}_{i} +\\sum _{\\{i|y_{i} =0\\}} log\\left( 1-\\hat{y}_{i}\\right)$ で表される。"
   ]
  },
  {
   "cell_type": "code",
   "execution_count": 4,
   "metadata": {
    "hide_input": true
   },
   "outputs": [
    {
     "data": {
      "application/vnd.jupyter.widget-view+json": {
       "model_id": "39860efc7eb3495691fcebf802f174c8",
       "version_major": 2,
       "version_minor": 0
      },
      "text/plain": [
       "interactive(children=(FloatSlider(value=0.0, continuous_update=False, description='$a$', max=10.0, min=-10.0),…"
      ]
     },
     "metadata": {},
     "output_type": "display_data"
    }
   ],
   "source": [
    "from my_functions.logistic_regression import log_likelihood\n",
    "log_likelihood.show()"
   ]
  },
  {
   "cell_type": "markdown",
   "metadata": {},
   "source": [
    "###### 練習問題\n",
    "\n",
    "`clf`データセットにロジスティック回帰を実行し、得られたモデルの対数尤度を算出する。"
   ]
  },
  {
   "cell_type": "code",
   "execution_count": 5,
   "metadata": {
    "hide_input": true
   },
   "outputs": [
    {
     "name": "stdout",
     "output_type": "stream",
     "text": [
      "clf\n"
     ]
    },
    {
     "data": {
      "text/html": [
       "<div>\n",
       "<style scoped>\n",
       "    .dataframe tbody tr th:only-of-type {\n",
       "        vertical-align: middle;\n",
       "    }\n",
       "\n",
       "    .dataframe tbody tr th {\n",
       "        vertical-align: top;\n",
       "    }\n",
       "\n",
       "    .dataframe thead th {\n",
       "        text-align: right;\n",
       "    }\n",
       "</style>\n",
       "<table border=\"1\" class=\"dataframe\">\n",
       "  <thead>\n",
       "    <tr style=\"text-align: right;\">\n",
       "      <th></th>\n",
       "      <th>x</th>\n",
       "      <th>y</th>\n",
       "    </tr>\n",
       "  </thead>\n",
       "  <tbody>\n",
       "    <tr>\n",
       "      <th>0</th>\n",
       "      <td>-0.158174</td>\n",
       "      <td>0</td>\n",
       "    </tr>\n",
       "    <tr>\n",
       "      <th>1</th>\n",
       "      <td>-2.460149</td>\n",
       "      <td>0</td>\n",
       "    </tr>\n",
       "    <tr>\n",
       "      <th>...</th>\n",
       "      <td>...</td>\n",
       "      <td>...</td>\n",
       "    </tr>\n",
       "    <tr>\n",
       "      <th>98</th>\n",
       "      <td>-1.377130</td>\n",
       "      <td>0</td>\n",
       "    </tr>\n",
       "    <tr>\n",
       "      <th>99</th>\n",
       "      <td>-0.998298</td>\n",
       "      <td>0</td>\n",
       "    </tr>\n",
       "  </tbody>\n",
       "</table>\n",
       "<p>100 rows × 2 columns</p>\n",
       "</div>"
      ],
      "text/plain": [
       "           x  y\n",
       "0  -0.158174  0\n",
       "1  -2.460149  0\n",
       "..       ... ..\n",
       "98 -1.377130  0\n",
       "99 -0.998298  0\n",
       "\n",
       "[100 rows x 2 columns]"
      ]
     },
     "metadata": {},
     "output_type": "display_data"
    }
   ],
   "source": [
    "x, y = make_classification(\n",
    "    n_features=1,\n",
    "    n_informative=1,\n",
    "    n_redundant=0,\n",
    "    n_clusters_per_class=1,\n",
    "    random_state=1234)\n",
    "clf = pd.DataFrame(dict(x=x.ravel(), y=y))\n",
    "print('clf')\n",
    "display(clf)"
   ]
  },
  {
   "cell_type": "code",
   "execution_count": null,
   "metadata": {
    "solution2": "hidden",
    "solution2_first": true
   },
   "outputs": [],
   "source": []
  },
  {
   "cell_type": "code",
   "execution_count": 6,
   "metadata": {
    "solution2": "hidden"
   },
   "outputs": [
    {
     "data": {
      "text/plain": [
       "-19.178769246079014"
      ]
     },
     "execution_count": 6,
     "metadata": {},
     "output_type": "execute_result"
    }
   ],
   "source": [
    "model = LogisticRegression(penalty='none', solver='newton-cg').fit(\n",
    "    clf['x'].values.reshape((-1, 1)), clf['y'])\n",
    "proba = model.predict_proba(clf['x'].values.reshape((-1, 1)))\n",
    "log_likelihood = np.sum(np.log(proba[clf['y'] == 1, 1])) + np.sum(\n",
    "    np.log(proba[clf['y'] == 0, 0]))\n",
    "log_likelihood"
   ]
  },
  {
   "cell_type": "markdown",
   "metadata": {},
   "source": [
    "## 検定\n",
    "---\n",
    "パラメーターの標本分布を求めるのは困難なので、通常は中心極限定理によって近似し、自由度 $n-(k+1)$ の $t$ 分布を利用して $t$ 検定を行う。"
   ]
  },
  {
   "cell_type": "markdown",
   "metadata": {},
   "source": [
    "### Pythonでの検定の実行方法\n",
    "---\n",
    "`statsmodels.discrete.discrete_model.Logit`または`statsmodels.genmod.generalized_linear_model.GLM`を使用する。`GLM`でロジスティック回帰を適用するには`family`引数に`statsmodels.genmod.families.family.Binomial`を渡す。  \n",
    "いずれも切片項は自動的に追加されないので`statsmodels.tools.tools.add_constant`を使用して定数項を追加する。"
   ]
  },
  {
   "cell_type": "code",
   "execution_count": 7,
   "metadata": {
    "hide_input": true
   },
   "outputs": [
    {
     "name": "stdout",
     "output_type": "stream",
     "text": [
      "titanic\n"
     ]
    },
    {
     "data": {
      "text/html": [
       "<div>\n",
       "<style scoped>\n",
       "    .dataframe tbody tr th:only-of-type {\n",
       "        vertical-align: middle;\n",
       "    }\n",
       "\n",
       "    .dataframe tbody tr th {\n",
       "        vertical-align: top;\n",
       "    }\n",
       "\n",
       "    .dataframe thead th {\n",
       "        text-align: right;\n",
       "    }\n",
       "</style>\n",
       "<table border=\"1\" class=\"dataframe\">\n",
       "  <thead>\n",
       "    <tr style=\"text-align: right;\">\n",
       "      <th></th>\n",
       "      <th>survived</th>\n",
       "      <th>pclass</th>\n",
       "      <th>sex</th>\n",
       "    </tr>\n",
       "  </thead>\n",
       "  <tbody>\n",
       "    <tr>\n",
       "      <th>0</th>\n",
       "      <td>0</td>\n",
       "      <td>3</td>\n",
       "      <td>1</td>\n",
       "    </tr>\n",
       "    <tr>\n",
       "      <th>1</th>\n",
       "      <td>1</td>\n",
       "      <td>1</td>\n",
       "      <td>0</td>\n",
       "    </tr>\n",
       "    <tr>\n",
       "      <th>...</th>\n",
       "      <td>...</td>\n",
       "      <td>...</td>\n",
       "      <td>...</td>\n",
       "    </tr>\n",
       "    <tr>\n",
       "      <th>889</th>\n",
       "      <td>1</td>\n",
       "      <td>1</td>\n",
       "      <td>1</td>\n",
       "    </tr>\n",
       "    <tr>\n",
       "      <th>890</th>\n",
       "      <td>0</td>\n",
       "      <td>3</td>\n",
       "      <td>1</td>\n",
       "    </tr>\n",
       "  </tbody>\n",
       "</table>\n",
       "<p>891 rows × 3 columns</p>\n",
       "</div>"
      ],
      "text/plain": [
       "     survived  pclass  sex\n",
       "0           0       3    1\n",
       "1           1       1    0\n",
       "..        ...     ...  ...\n",
       "889         1       1    1\n",
       "890         0       3    1\n",
       "\n",
       "[891 rows x 3 columns]"
      ]
     },
     "metadata": {},
     "output_type": "display_data"
    }
   ],
   "source": [
    "titanic = sns.load_dataset('titanic')[['survived', 'pclass', 'sex']]\n",
    "titanic['sex'] = pd.Categorical(titanic['sex']).codes\n",
    "print('titanic')\n",
    "display(titanic)"
   ]
  },
  {
   "cell_type": "code",
   "execution_count": 8,
   "metadata": {},
   "outputs": [],
   "source": [
    "sm.Logit??"
   ]
  },
  {
   "cell_type": "code",
   "execution_count": 9,
   "metadata": {},
   "outputs": [
    {
     "name": "stdout",
     "output_type": "stream",
     "text": [
      "Optimization terminated successfully.\n",
      "         Current function value: 0.464195\n",
      "         Iterations 6\n"
     ]
    },
    {
     "name": "stderr",
     "output_type": "stream",
     "text": [
      "/root/local/python-3.7.4/lib/python3.7/site-packages/numpy/core/fromnumeric.py:2495: FutureWarning: Method .ptp is deprecated and will be removed in a future version. Use numpy.ptp instead.\n",
      "  return ptp(axis=axis, out=out, **kwargs)\n"
     ]
    },
    {
     "data": {
      "text/html": [
       "<table class=\"simpletable\">\n",
       "<caption>Logit Regression Results</caption>\n",
       "<tr>\n",
       "  <th>Dep. Variable:</th>       <td>survived</td>     <th>  No. Observations:  </th>  <td>   891</td>  \n",
       "</tr>\n",
       "<tr>\n",
       "  <th>Model:</th>                 <td>Logit</td>      <th>  Df Residuals:      </th>  <td>   888</td>  \n",
       "</tr>\n",
       "<tr>\n",
       "  <th>Method:</th>                 <td>MLE</td>       <th>  Df Model:          </th>  <td>     2</td>  \n",
       "</tr>\n",
       "<tr>\n",
       "  <th>Date:</th>            <td>Tue, 21 Jan 2020</td> <th>  Pseudo R-squ.:     </th>  <td>0.3029</td>  \n",
       "</tr>\n",
       "<tr>\n",
       "  <th>Time:</th>                <td>03:34:08</td>     <th>  Log-Likelihood:    </th> <td> -413.60</td> \n",
       "</tr>\n",
       "<tr>\n",
       "  <th>converged:</th>             <td>True</td>       <th>  LL-Null:           </th> <td> -593.33</td> \n",
       "</tr>\n",
       "<tr>\n",
       "  <th>Covariance Type:</th>     <td>nonrobust</td>    <th>  LLR p-value:       </th> <td>8.798e-79</td>\n",
       "</tr>\n",
       "</table>\n",
       "<table class=\"simpletable\">\n",
       "<tr>\n",
       "     <td></td>       <th>coef</th>     <th>std err</th>      <th>z</th>      <th>P>|z|</th>  <th>[0.025</th>    <th>0.975]</th>  \n",
       "</tr>\n",
       "<tr>\n",
       "  <th>const</th>  <td>    3.2946</td> <td>    0.297</td> <td>   11.077</td> <td> 0.000</td> <td>    2.712</td> <td>    3.878</td>\n",
       "</tr>\n",
       "<tr>\n",
       "  <th>pclass</th> <td>   -0.9606</td> <td>    0.106</td> <td>   -9.057</td> <td> 0.000</td> <td>   -1.168</td> <td>   -0.753</td>\n",
       "</tr>\n",
       "<tr>\n",
       "  <th>sex</th>    <td>   -2.6434</td> <td>    0.184</td> <td>  -14.380</td> <td> 0.000</td> <td>   -3.004</td> <td>   -2.283</td>\n",
       "</tr>\n",
       "</table>"
      ],
      "text/plain": [
       "<class 'statsmodels.iolib.summary.Summary'>\n",
       "\"\"\"\n",
       "                           Logit Regression Results                           \n",
       "==============================================================================\n",
       "Dep. Variable:               survived   No. Observations:                  891\n",
       "Model:                          Logit   Df Residuals:                      888\n",
       "Method:                           MLE   Df Model:                            2\n",
       "Date:                Tue, 21 Jan 2020   Pseudo R-squ.:                  0.3029\n",
       "Time:                        03:34:08   Log-Likelihood:                -413.60\n",
       "converged:                       True   LL-Null:                       -593.33\n",
       "Covariance Type:            nonrobust   LLR p-value:                 8.798e-79\n",
       "==============================================================================\n",
       "                 coef    std err          z      P>|z|      [0.025      0.975]\n",
       "------------------------------------------------------------------------------\n",
       "const          3.2946      0.297     11.077      0.000       2.712       3.878\n",
       "pclass        -0.9606      0.106     -9.057      0.000      -1.168      -0.753\n",
       "sex           -2.6434      0.184    -14.380      0.000      -3.004      -2.283\n",
       "==============================================================================\n",
       "\"\"\""
      ]
     },
     "execution_count": 9,
     "metadata": {},
     "output_type": "execute_result"
    }
   ],
   "source": [
    "x = sm.add_constant(titanic[['pclass', 'sex']])\n",
    "model = sm.Logit(titanic['survived'], x).fit()\n",
    "model.summary()"
   ]
  },
  {
   "cell_type": "code",
   "execution_count": 10,
   "metadata": {},
   "outputs": [],
   "source": [
    "sm.GLM??"
   ]
  },
  {
   "cell_type": "code",
   "execution_count": 11,
   "metadata": {},
   "outputs": [
    {
     "data": {
      "text/html": [
       "<table class=\"simpletable\">\n",
       "<caption>Generalized Linear Model Regression Results</caption>\n",
       "<tr>\n",
       "  <th>Dep. Variable:</th>       <td>survived</td>     <th>  No. Observations:  </th>  <td>   891</td> \n",
       "</tr>\n",
       "<tr>\n",
       "  <th>Model:</th>                  <td>GLM</td>       <th>  Df Residuals:      </th>  <td>   888</td> \n",
       "</tr>\n",
       "<tr>\n",
       "  <th>Model Family:</th>        <td>Binomial</td>     <th>  Df Model:          </th>  <td>     2</td> \n",
       "</tr>\n",
       "<tr>\n",
       "  <th>Link Function:</th>         <td>logit</td>      <th>  Scale:             </th> <td>  1.0000</td>\n",
       "</tr>\n",
       "<tr>\n",
       "  <th>Method:</th>                <td>IRLS</td>       <th>  Log-Likelihood:    </th> <td> -413.60</td>\n",
       "</tr>\n",
       "<tr>\n",
       "  <th>Date:</th>            <td>Tue, 21 Jan 2020</td> <th>  Deviance:          </th> <td>  827.20</td>\n",
       "</tr>\n",
       "<tr>\n",
       "  <th>Time:</th>                <td>03:34:08</td>     <th>  Pearson chi2:      </th>  <td>  911.</td> \n",
       "</tr>\n",
       "<tr>\n",
       "  <th>No. Iterations:</th>          <td>5</td>        <th>                     </th>     <td> </td>   \n",
       "</tr>\n",
       "<tr>\n",
       "  <th>Covariance Type:</th>     <td>nonrobust</td>    <th>                     </th>     <td> </td>   \n",
       "</tr>\n",
       "</table>\n",
       "<table class=\"simpletable\">\n",
       "<tr>\n",
       "     <td></td>       <th>coef</th>     <th>std err</th>      <th>z</th>      <th>P>|z|</th>  <th>[0.025</th>    <th>0.975]</th>  \n",
       "</tr>\n",
       "<tr>\n",
       "  <th>const</th>  <td>    3.2946</td> <td>    0.297</td> <td>   11.077</td> <td> 0.000</td> <td>    2.712</td> <td>    3.878</td>\n",
       "</tr>\n",
       "<tr>\n",
       "  <th>pclass</th> <td>   -0.9606</td> <td>    0.106</td> <td>   -9.057</td> <td> 0.000</td> <td>   -1.168</td> <td>   -0.753</td>\n",
       "</tr>\n",
       "<tr>\n",
       "  <th>sex</th>    <td>   -2.6434</td> <td>    0.184</td> <td>  -14.380</td> <td> 0.000</td> <td>   -3.004</td> <td>   -2.283</td>\n",
       "</tr>\n",
       "</table>"
      ],
      "text/plain": [
       "<class 'statsmodels.iolib.summary.Summary'>\n",
       "\"\"\"\n",
       "                 Generalized Linear Model Regression Results                  \n",
       "==============================================================================\n",
       "Dep. Variable:               survived   No. Observations:                  891\n",
       "Model:                            GLM   Df Residuals:                      888\n",
       "Model Family:                Binomial   Df Model:                            2\n",
       "Link Function:                  logit   Scale:                          1.0000\n",
       "Method:                          IRLS   Log-Likelihood:                -413.60\n",
       "Date:                Tue, 21 Jan 2020   Deviance:                       827.20\n",
       "Time:                        03:34:08   Pearson chi2:                     911.\n",
       "No. Iterations:                     5                                         \n",
       "Covariance Type:            nonrobust                                         \n",
       "==============================================================================\n",
       "                 coef    std err          z      P>|z|      [0.025      0.975]\n",
       "------------------------------------------------------------------------------\n",
       "const          3.2946      0.297     11.077      0.000       2.712       3.878\n",
       "pclass        -0.9606      0.106     -9.057      0.000      -1.168      -0.753\n",
       "sex           -2.6434      0.184    -14.380      0.000      -3.004      -2.283\n",
       "==============================================================================\n",
       "\"\"\""
      ]
     },
     "execution_count": 11,
     "metadata": {},
     "output_type": "execute_result"
    }
   ],
   "source": [
    "model = sm.GLM(titanic['survived'], x, family=sm.families.Binomial()).fit()\n",
    "model.summary()"
   ]
  },
  {
   "cell_type": "markdown",
   "metadata": {},
   "source": [
    "## 多項ロジスティック回帰\n",
    "---\n",
    "目的変数のクラス数 (水準) が 3 以上の場合のロジスティック回帰。\n",
    "\n",
    "$k$ 個の特徴を持つサンプル $\\boldsymbol{x} =( x_{1} ,x_{2} ,\\cdots ,x_{k})^{T}$ に対して $c$ 個のクラスを持つ目的変数を予測する場合、サイズ $c\\times k$ の行列 $\\boldsymbol{W}$ を用いて、要素数 $c$ のベクトル $\\boldsymbol{z} =\\boldsymbol{Wx}$ を作成する。その $z$ に対してソフトマックス関数を適用して確率を算出する。"
   ]
  },
  {
   "cell_type": "markdown",
   "metadata": {},
   "source": [
    "### ソフトマックス関数\n",
    "---\n",
    "クラス数 $c$ 中の $i$ 番目のクラスに対応する確率を以下のように表すのがソフトマックス関数。\n",
    "\n",
    "$\n",
    "\\displaystyle \\begin{aligned}\n",
    "    \\hat{y}_{i} & =\\frac\n",
    "        {e^{z_{i}}}\n",
    "        {\\displaystyle \\sum ^{c}_{j=1} e^{z_{j}}}\\\\\n",
    "     & \\\\\n",
    "     & =\\frac\n",
    "         {e^{z_{i}}}\n",
    "         {e^{z_{1}} +e^{z_{2}} +\\cdots +e^{z_{c}}}\n",
    "\\end{aligned}\n",
    "$\n",
    "\n",
    "クラス数を $2$ とした場合、\n",
    "\n",
    "$\n",
    "\\displaystyle \\begin{aligned}\n",
    "    \\hat{y}_{1} & =\\frac\n",
    "        {e^{z_{1}}}\n",
    "        {e^{z_{1}} +e^{z_{2}}}\n",
    "    \\\\\n",
    "     & \\\\\n",
    "     & =\\frac\n",
    "         {1}\n",
    "         {1+e^{z_{2} -z_{1}}}\n",
    "\\end{aligned}\n",
    "$\n",
    "\n",
    "となり、ロジスティック関数 $\\displaystyle f( x) =\\frac{1}{1+e^{-x}}$ と一致する。つまり、ソフトマックス関数はロジスティック関数の多クラスへの拡張 (ロジスティック関数はクラス数 $2$ の場合のソフトマックス関数の特殊形) である。"
   ]
  },
  {
   "cell_type": "markdown",
   "metadata": {},
   "source": [
    "###### 練習問題\n",
    "\n",
    "`iris`データセットに対して、各クラスを予測するための重み行列`w`(値は乱数でよい) を作成し、ソフトマックス関数を適用して予測値を算出する。"
   ]
  },
  {
   "cell_type": "code",
   "execution_count": 12,
   "metadata": {
    "hide_input": true
   },
   "outputs": [
    {
     "name": "stdout",
     "output_type": "stream",
     "text": [
      "iris\n"
     ]
    },
    {
     "data": {
      "text/html": [
       "<div>\n",
       "<style scoped>\n",
       "    .dataframe tbody tr th:only-of-type {\n",
       "        vertical-align: middle;\n",
       "    }\n",
       "\n",
       "    .dataframe tbody tr th {\n",
       "        vertical-align: top;\n",
       "    }\n",
       "\n",
       "    .dataframe thead th {\n",
       "        text-align: right;\n",
       "    }\n",
       "</style>\n",
       "<table border=\"1\" class=\"dataframe\">\n",
       "  <thead>\n",
       "    <tr style=\"text-align: right;\">\n",
       "      <th></th>\n",
       "      <th>sepal_length</th>\n",
       "      <th>sepal_width</th>\n",
       "      <th>petal_length</th>\n",
       "      <th>petal_width</th>\n",
       "      <th>species</th>\n",
       "    </tr>\n",
       "  </thead>\n",
       "  <tbody>\n",
       "    <tr>\n",
       "      <th>0</th>\n",
       "      <td>5.1</td>\n",
       "      <td>3.5</td>\n",
       "      <td>1.4</td>\n",
       "      <td>0.2</td>\n",
       "      <td>setosa</td>\n",
       "    </tr>\n",
       "    <tr>\n",
       "      <th>1</th>\n",
       "      <td>4.9</td>\n",
       "      <td>3.0</td>\n",
       "      <td>1.4</td>\n",
       "      <td>0.2</td>\n",
       "      <td>setosa</td>\n",
       "    </tr>\n",
       "    <tr>\n",
       "      <th>...</th>\n",
       "      <td>...</td>\n",
       "      <td>...</td>\n",
       "      <td>...</td>\n",
       "      <td>...</td>\n",
       "      <td>...</td>\n",
       "    </tr>\n",
       "    <tr>\n",
       "      <th>148</th>\n",
       "      <td>6.2</td>\n",
       "      <td>3.4</td>\n",
       "      <td>5.4</td>\n",
       "      <td>2.3</td>\n",
       "      <td>virginica</td>\n",
       "    </tr>\n",
       "    <tr>\n",
       "      <th>149</th>\n",
       "      <td>5.9</td>\n",
       "      <td>3.0</td>\n",
       "      <td>5.1</td>\n",
       "      <td>1.8</td>\n",
       "      <td>virginica</td>\n",
       "    </tr>\n",
       "  </tbody>\n",
       "</table>\n",
       "<p>150 rows × 5 columns</p>\n",
       "</div>"
      ],
      "text/plain": [
       "     sepal_length  sepal_width  petal_length  petal_width    species\n",
       "0             5.1          3.5           1.4          0.2     setosa\n",
       "1             4.9          3.0           1.4          0.2     setosa\n",
       "..            ...          ...           ...          ...        ...\n",
       "148           6.2          3.4           5.4          2.3  virginica\n",
       "149           5.9          3.0           5.1          1.8  virginica\n",
       "\n",
       "[150 rows x 5 columns]"
      ]
     },
     "metadata": {},
     "output_type": "display_data"
    }
   ],
   "source": [
    "iris = sns.load_dataset('iris')\n",
    "print('iris')\n",
    "display(iris)"
   ]
  },
  {
   "cell_type": "code",
   "execution_count": null,
   "metadata": {
    "solution2": "hidden",
    "solution2_first": true
   },
   "outputs": [],
   "source": []
  },
  {
   "cell_type": "code",
   "execution_count": 13,
   "metadata": {
    "solution2": "hidden"
   },
   "outputs": [
    {
     "data": {
      "text/html": [
       "<div>\n",
       "<style scoped>\n",
       "    .dataframe tbody tr th:only-of-type {\n",
       "        vertical-align: middle;\n",
       "    }\n",
       "\n",
       "    .dataframe tbody tr th {\n",
       "        vertical-align: top;\n",
       "    }\n",
       "\n",
       "    .dataframe thead th {\n",
       "        text-align: right;\n",
       "    }\n",
       "</style>\n",
       "<table border=\"1\" class=\"dataframe\">\n",
       "  <thead>\n",
       "    <tr style=\"text-align: right;\">\n",
       "      <th></th>\n",
       "      <th>0</th>\n",
       "      <th>1</th>\n",
       "      <th>2</th>\n",
       "    </tr>\n",
       "  </thead>\n",
       "  <tbody>\n",
       "    <tr>\n",
       "      <th>0</th>\n",
       "      <td>0.000190</td>\n",
       "      <td>2.301758e-09</td>\n",
       "      <td>0.999810</td>\n",
       "    </tr>\n",
       "    <tr>\n",
       "      <th>1</th>\n",
       "      <td>0.000420</td>\n",
       "      <td>8.688983e-09</td>\n",
       "      <td>0.999580</td>\n",
       "    </tr>\n",
       "    <tr>\n",
       "      <th>...</th>\n",
       "      <td>...</td>\n",
       "      <td>...</td>\n",
       "      <td>...</td>\n",
       "    </tr>\n",
       "    <tr>\n",
       "      <th>148</th>\n",
       "      <td>0.000002</td>\n",
       "      <td>1.547846e-11</td>\n",
       "      <td>0.999998</td>\n",
       "    </tr>\n",
       "    <tr>\n",
       "      <th>149</th>\n",
       "      <td>0.000021</td>\n",
       "      <td>7.269393e-11</td>\n",
       "      <td>0.999979</td>\n",
       "    </tr>\n",
       "  </tbody>\n",
       "</table>\n",
       "<p>150 rows × 3 columns</p>\n",
       "</div>"
      ],
      "text/plain": [
       "            0             1         2\n",
       "0    0.000190  2.301758e-09  0.999810\n",
       "1    0.000420  8.688983e-09  0.999580\n",
       "..        ...           ...       ...\n",
       "148  0.000002  1.547846e-11  0.999998\n",
       "149  0.000021  7.269393e-11  0.999979\n",
       "\n",
       "[150 rows x 3 columns]"
      ]
     },
     "execution_count": 13,
     "metadata": {},
     "output_type": "execute_result"
    }
   ],
   "source": [
    "np.random.seed(1234)\n",
    "w = np.random.normal(size=(iris.iloc[:, :-1].shape[1],\n",
    "                           iris['species'].nunique()))\n",
    "z = iris.iloc[:, :-1].values.dot(w)\n",
    "e = np.exp(z)\n",
    "pd.DataFrame(e / e.sum(axis=1).reshape(-1, 1))"
   ]
  }
 ],
 "metadata": {
  "kernelspec": {
   "display_name": "Python 3",
   "language": "python",
   "name": "python3"
  },
  "language_info": {
   "codemirror_mode": {
    "name": "ipython",
    "version": 3
   },
   "file_extension": ".py",
   "mimetype": "text/x-python",
   "name": "python",
   "nbconvert_exporter": "python",
   "pygments_lexer": "ipython3",
   "version": "3.7.4"
  },
  "toc": {
   "base_numbering": 1,
   "nav_menu": {},
   "number_sections": true,
   "sideBar": true,
   "skip_h1_title": true,
   "title_cell": "Table of Contents",
   "title_sidebar": "Contents",
   "toc_cell": false,
   "toc_position": {},
   "toc_section_display": true,
   "toc_window_display": true
  },
  "varInspector": {
   "cols": {
    "lenName": 16,
    "lenType": 16,
    "lenVar": 40
   },
   "kernels_config": {
    "python": {
     "delete_cmd_postfix": "",
     "delete_cmd_prefix": "del ",
     "library": "var_list.py",
     "varRefreshCmd": "print(var_dic_list())"
    },
    "r": {
     "delete_cmd_postfix": ") ",
     "delete_cmd_prefix": "rm(",
     "library": "var_list.r",
     "varRefreshCmd": "cat(var_dic_list()) "
    }
   },
   "types_to_exclude": [
    "module",
    "function",
    "builtin_function_or_method",
    "instance",
    "_Feature"
   ],
   "window_display": false
  }
 },
 "nbformat": 4,
 "nbformat_minor": 2
}
