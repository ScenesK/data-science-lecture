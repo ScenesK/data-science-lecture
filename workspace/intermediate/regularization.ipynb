{
 "cells": [
  {
   "cell_type": "code",
   "execution_count": 1,
   "metadata": {},
   "outputs": [],
   "source": [
    "import numpy as np\n",
    "import pandas as pd\n",
    "from sklearn.datasets import load_boston\n",
    "from sklearn.linear_model import Ridge, Lasso, ElasticNet\n",
    "from IPython.display import display\n",
    "pd.set_option('max_rows', 5)\n",
    "%matplotlib inline"
   ]
  },
  {
   "cell_type": "markdown",
   "metadata": {},
   "source": [
    "# 正則化 (regularization)\n",
    "---\n",
    "モデルの複雑さに制限を加えて過学習を抑制する手法のこと。\n",
    "\n",
    "<table class=\"border text-center\">\n",
    "    <tr class=\"background-bright\">\n",
    "        <th>データとモデルの複雑さの関係</th>\n",
    "        <th>現象</th>\n",
    "        <th>対処法</th>\n",
    "        <th>具体例</th>\n",
    "    </tr>\n",
    "    <tr class=\"background-dark\">\n",
    "        <td rowspan=\"2\">データの複雑さ < モデルの複雑さ</td>\n",
    "        <td rowspan=\"2\">過学習</td>\n",
    "        <td>データの複雑さを上げる<br />(データに含まれる情報を増やす)</td>\n",
    "        <td class=\"text-left\">\n",
    "            <ul>\n",
    "                <li>学習データを増やす</li>\n",
    "            </ul>\n",
    "        </td>\n",
    "    </tr>\n",
    "    <tr class=\"background-dark\">\n",
    "        <td>モデルの複雑さを下げる</td>\n",
    "        <td class=\"text-left\">\n",
    "            <ul>\n",
    "                <li><span style=\"color: red;\">正則化</span></li>\n",
    "                <li>パラメータを減らす</li>\n",
    "                <li>高バイアスなモデルに変更する</li>\n",
    "            </ul>\n",
    "        </td>\n",
    "    </tr>\n",
    "    <tr class=\"background-dark\">\n",
    "        <td rowspan=\"2\">データの複雑さ > モデルの複雑さ</td>\n",
    "        <td rowspan=\"2\">未学習</td>\n",
    "        <td>データの複雑さを下げる<br />(モデルが理解しやすい形のデータにする)</td>\n",
    "        <td class=\"text-left\">\n",
    "            <ul>\n",
    "                <li>前処理 (特徴変形)</li>\n",
    "            </ul>\n",
    "        </td>\n",
    "    </tr>\n",
    "    <tr class=\"background-dark\">\n",
    "        <td>モデルの複雑さを上げる</td>\n",
    "        <td class=\"text-left\">\n",
    "            <ul>\n",
    "                <li>パラメータを増やす</li>\n",
    "                <li>高バリアンスなモデルに変更する</li>\n",
    "            </ul>\n",
    "        </td>\n",
    "    </tr>\n",
    "</table>\n",
    "\n",
    "**正則化は特徴のスケールに影響される**ものが多いので、実行する際は特徴の標準化 (変数が平均0・分散1になるような変換) $\n",
    "{\\displaystyle X'=\\frac\n",
    "    {X-\\mu }\n",
    "    {\\sigma }\n",
    "}\n",
    "$ が必要。\n",
    "\n",
    "以下では、回帰方程式を $y=w_{1} x_{1} +w_{2} x_{2} +\\cdots +w_{k} x_{k} +b$ として表している。"
   ]
  },
  {
   "cell_type": "markdown",
   "metadata": {},
   "source": [
    "## L2正則化\n",
    "---\n",
    "最も代表的な正則化手法。パラメータの値を小さく保つことでモデルに制限を加え、過学習を抑制。  \n",
    "損失関数に以下の正則化項を加える。\n",
    "\n",
    "$\n",
    "{\\displaystyle \\frac\n",
    "    {\\alpha }\n",
    "    {2} \n",
    "\\| w\\| ^{2} =\\frac\n",
    "    {\\alpha }\n",
    "    {2}\n",
    "\\sum ^{k}_{i=1} w^{2}_{i}}\n",
    "$\n",
    "\n",
    "重み (荷重) 減衰とも呼ばれ、線形回帰にL2正則化を適用したもの (最小化する対象を残差二乗和+L2正則化項にしたもの) をリッジ回帰 (Ridge Regression) という。  \n",
    "リッジ回帰の損失関数は $\n",
    "\\displaystyle \\frac\n",
    "    {1}\n",
    "    {2n}\n",
    "\\sum ^{n}_{i=1} e^{2}_{i} +\\frac\n",
    "    {\\alpha }\n",
    "    {2}\n",
    "\\sum ^{k}_{i=1} w^{2}_{i}\n",
    "$ で表される。 $\\displaystyle \\frac{1}{2}$ は微分したときに消えるようについているだけなので、気にする必要はない。"
   ]
  },
  {
   "cell_type": "code",
   "execution_count": 2,
   "metadata": {
    "hide_input": true,
    "jupyter": {
     "source_hidden": true
    }
   },
   "outputs": [
    {
     "data": {
      "application/vnd.jupyter.widget-view+json": {
       "model_id": "ec3908a4d461486da4098f990b5f0825",
       "version_major": 2,
       "version_minor": 0
      },
      "text/plain": [
       "interactive(children=(FloatLogSlider(value=1e-07, continuous_update=False, description='正則化の強さ $\\\\alpha$', min…"
      ]
     },
     "metadata": {},
     "output_type": "display_data"
    }
   ],
   "source": [
    "from my_functions.regularization import l2\n",
    "l2.show()"
   ]
  },
  {
   "cell_type": "markdown",
   "metadata": {},
   "source": [
    "L2正則化は多重共線性の問題に対応できる。"
   ]
  },
  {
   "cell_type": "markdown",
   "metadata": {},
   "source": [
    "### 多重共線性 (multicollinearity)\n",
    "---\n",
    "説明変数間、あるいは複数の説明変数の組み合わせと他の説明変数の間に高い相関がある状態。\n",
    "\n",
    "以下のような問題を引き起こす。\n",
    "\n",
    "- (統計解析) 得られた回帰係数 (パラメータ) の値がサンプリングのたびに安定せず、パラメーターの正負が逆転することも\n",
    "- (統計解析) 第二種の誤り (帰無仮説が誤っているのに採択) を起こしやすくなる\n",
    "- (機械学習) 過学習しやすくなる\n",
    "\n",
    "多重共線性は、元々のデータセットに存在することもあるが、自ら作り上げてしまう場合もある。以下のダミー変数化では最後の1列は他2列から完全に予測可能であり、多重共線性が生じている。\n",
    "\n",
    "<table class=\"border text-center\">\n",
    "    <tr>\n",
    "        <th class=\"border-top-none border-left-none background-default\" rowspan=\"2\"></th>\n",
    "        <th class=\"border-bottom background-dark\">カテゴリ変数</th>\n",
    "        <td class=\"border-none background-default\" rowspan=\"2\"></td>\n",
    "        <th class=\"border-bottom background-dark\" colspan=\"3\">ダミー変数</th>\n",
    "    </tr>\n",
    "    <tr class=\"background-dark\">\n",
    "        <th>色</th>\n",
    "        <th>赤</th>\n",
    "        <th>緑</th>\n",
    "        <th>青</th>\n",
    "    </tr>\n",
    "    <tr class=\"background-bright\">\n",
    "        <td>1</td>\n",
    "        <td>赤</td>\n",
    "        <td class=\"border-none background-default\" rowspan=\"3\">→</td>\n",
    "        <td class=\"text-blue\">1</td>\n",
    "        <td class=\"text-blue\">0</td>\n",
    "        <td class=\"text-red\">0</td>\n",
    "    </tr>\n",
    "    <tr class=\"background-bright\">\n",
    "        <td>2</td>\n",
    "        <td>緑</td>\n",
    "        <td class=\"text-blue\">0</td>\n",
    "        <td class=\"text-blue\">1</td>\n",
    "        <td class=\"text-red\">0</td>\n",
    "    </tr>\n",
    "    <tr class=\"background-bright\">\n",
    "        <td>3</td>\n",
    "        <td>青</td>\n",
    "        <td class=\"text-blue\">0</td>\n",
    "        <td class=\"text-blue\">0</td>\n",
    "        <td class=\"text-red\">1</td>\n",
    "    </tr>\n",
    "</table>\n",
    "\n",
    "多重共線性の問題は、説明変数 (特徴) が2つの線形回帰を例に以下のように考えるとわかりやすい。\n",
    "\n",
    "1. 線形回帰では説明変数同士は無相関だと仮定している (説明変数の分布が一様分布なら、データは平面上に偏りなく存在)\n",
    "1. 説明変数同士に高い相関があるとデータは平面ではなく直線上に分布している\n",
    "1. 被説明変数を加えた特徴空間では線形回帰は平面 (予測平面) を求めようとするが、説明変数が直線上に分布しているため平面が1つに定まらない (訓練データに含まれるノイズ (誤差) によって係数が安定しない)"
   ]
  },
  {
   "cell_type": "code",
   "execution_count": 3,
   "metadata": {
    "hide_input": true,
    "jupyter": {
     "source_hidden": true
    }
   },
   "outputs": [
    {
     "data": {
      "image/png": "[encoded data removed]",
      "text/plain": [
       "<Figure size 288x288 with 1 Axes>"
      ]
     },
     "metadata": {},
     "output_type": "display_data"
    },
    {
     "data": {
      "image/png": "[encoded data removed]",
      "text/plain": [
       "<Figure size 288x288 with 1 Axes>"
      ]
     },
     "metadata": {},
     "output_type": "display_data"
    },
    {
     "data": {
      "image/png": "[encoded data removed]",
      "text/plain": [
       "<Figure size 288x288 with 1 Axes>"
      ]
     },
     "metadata": {},
     "output_type": "display_data"
    }
   ],
   "source": [
    "from my_functions.regularization import multicollinearity\n",
    "multicollinearity.show()"
   ]
  },
  {
   "cell_type": "markdown",
   "metadata": {},
   "source": [
    "ただし、**予測を目的とする場合**は、ダミー変数化のように係数が変わっても予測値に影響しないときは問題ない。 (予測値に変化が生じる場合は過学習の危険があるので対処が必要)"
   ]
  },
  {
   "cell_type": "markdown",
   "metadata": {},
   "source": [
    "### 係数の変化\n",
    "---\n",
    "下のグラフでは、正則化を強める ( $\\alpha$ の値を大きくする) につれて係数の (相対的な) 大きさが安定していくのがわかる。"
   ]
  },
  {
   "cell_type": "code",
   "execution_count": 4,
   "metadata": {
    "hide_input": true,
    "jupyter": {
     "source_hidden": true
    }
   },
   "outputs": [
    {
     "data": {
      "image/png": "[encoded data removed]",
      "text/plain": [
       "<Figure size 288x288 with 1 Axes>"
      ]
     },
     "metadata": {
      "needs_background": "light"
     },
     "output_type": "display_data"
    }
   ],
   "source": [
    "from my_functions.regularization import l2_weights\n",
    "l2_weights.show()"
   ]
  },
  {
   "cell_type": "markdown",
   "metadata": {},
   "source": [
    "### 損失関数の変化\n",
    "---\n",
    "L2 正則化項の勾配を下ると原点に近づく = $w$ の最適解をパラメーター空間内の原点に近づける効果を持つ"
   ]
  },
  {
   "cell_type": "code",
   "execution_count": 5,
   "metadata": {},
   "outputs": [],
   "source": [
    "# 3Dグラフの表示に必要\n",
    "%matplotlib widget\n",
    "%matplotlib widget"
   ]
  },
  {
   "cell_type": "code",
   "execution_count": 6,
   "metadata": {
    "hide_input": true,
    "jupyter": {
     "source_hidden": true
    }
   },
   "outputs": [
    {
     "data": {
      "application/vnd.jupyter.widget-view+json": {
       "model_id": "4f4f2bf57a4d45d4bda361388f67be57",
       "version_major": 2,
       "version_minor": 0
      },
      "text/plain": [
       "Canvas(toolbar=Toolbar(toolitems=[('Home', 'Reset original view', 'home', 'home'), ('Back', 'Back to previous …"
      ]
     },
     "metadata": {},
     "output_type": "display_data"
    },
    {
     "data": {
      "application/vnd.jupyter.widget-view+json": {
       "model_id": "aaf1bc07929f4600b7bdad8ad7896be6",
       "version_major": 2,
       "version_minor": 0
      },
      "text/plain": [
       "interactive(children=(ToggleButtons(description='損失関数', options=(('MSE', 1), ('L2', 2), ('MSE+L2', 3)), value=…"
      ]
     },
     "metadata": {},
     "output_type": "display_data"
    }
   ],
   "source": [
    "from my_functions.regularization import l2_cost\n",
    "l2_cost.show()"
   ]
  },
  {
   "cell_type": "markdown",
   "metadata": {},
   "source": [
    "### Pythonでのリッジ回帰の実行方法\n",
    "---\n",
    "`sklearn.linear_model.Ridge`を使用する。"
   ]
  },
  {
   "cell_type": "code",
   "execution_count": 7,
   "metadata": {
    "hide_input": true,
    "jupyter": {
     "source_hidden": true
    }
   },
   "outputs": [
    {
     "name": "stdout",
     "output_type": "stream",
     "text": [
      "boston\n"
     ]
    },
    {
     "data": {
      "text/html": [
       "<div>\n",
       "<style scoped>\n",
       "    .dataframe tbody tr th:only-of-type {\n",
       "        vertical-align: middle;\n",
       "    }\n",
       "\n",
       "    .dataframe tbody tr th {\n",
       "        vertical-align: top;\n",
       "    }\n",
       "\n",
       "    .dataframe thead th {\n",
       "        text-align: right;\n",
       "    }\n",
       "</style>\n",
       "<table border=\"1\" class=\"dataframe\">\n",
       "  <thead>\n",
       "    <tr style=\"text-align: right;\">\n",
       "      <th></th>\n",
       "      <th>CRIM</th>\n",
       "      <th>ZN</th>\n",
       "      <th>INDUS</th>\n",
       "      <th>CHAS</th>\n",
       "      <th>NOX</th>\n",
       "      <th>RM</th>\n",
       "      <th>AGE</th>\n",
       "      <th>DIS</th>\n",
       "      <th>RAD</th>\n",
       "      <th>TAX</th>\n",
       "      <th>PTRATIO</th>\n",
       "      <th>B</th>\n",
       "      <th>LSTAT</th>\n",
       "      <th>target</th>\n",
       "    </tr>\n",
       "  </thead>\n",
       "  <tbody>\n",
       "    <tr>\n",
       "      <th>0</th>\n",
       "      <td>0.00632</td>\n",
       "      <td>18.0</td>\n",
       "      <td>2.31</td>\n",
       "      <td>0.0</td>\n",
       "      <td>0.538</td>\n",
       "      <td>6.575</td>\n",
       "      <td>65.2</td>\n",
       "      <td>4.0900</td>\n",
       "      <td>1.0</td>\n",
       "      <td>296.0</td>\n",
       "      <td>15.3</td>\n",
       "      <td>396.90</td>\n",
       "      <td>4.98</td>\n",
       "      <td>24.0</td>\n",
       "    </tr>\n",
       "    <tr>\n",
       "      <th>1</th>\n",
       "      <td>0.02731</td>\n",
       "      <td>0.0</td>\n",
       "      <td>7.07</td>\n",
       "      <td>0.0</td>\n",
       "      <td>0.469</td>\n",
       "      <td>6.421</td>\n",
       "      <td>78.9</td>\n",
       "      <td>4.9671</td>\n",
       "      <td>2.0</td>\n",
       "      <td>242.0</td>\n",
       "      <td>17.8</td>\n",
       "      <td>396.90</td>\n",
       "      <td>9.14</td>\n",
       "      <td>21.6</td>\n",
       "    </tr>\n",
       "    <tr>\n",
       "      <th>...</th>\n",
       "      <td>...</td>\n",
       "      <td>...</td>\n",
       "      <td>...</td>\n",
       "      <td>...</td>\n",
       "      <td>...</td>\n",
       "      <td>...</td>\n",
       "      <td>...</td>\n",
       "      <td>...</td>\n",
       "      <td>...</td>\n",
       "      <td>...</td>\n",
       "      <td>...</td>\n",
       "      <td>...</td>\n",
       "      <td>...</td>\n",
       "      <td>...</td>\n",
       "    </tr>\n",
       "    <tr>\n",
       "      <th>504</th>\n",
       "      <td>0.10959</td>\n",
       "      <td>0.0</td>\n",
       "      <td>11.93</td>\n",
       "      <td>0.0</td>\n",
       "      <td>0.573</td>\n",
       "      <td>6.794</td>\n",
       "      <td>89.3</td>\n",
       "      <td>2.3889</td>\n",
       "      <td>1.0</td>\n",
       "      <td>273.0</td>\n",
       "      <td>21.0</td>\n",
       "      <td>393.45</td>\n",
       "      <td>6.48</td>\n",
       "      <td>22.0</td>\n",
       "    </tr>\n",
       "    <tr>\n",
       "      <th>505</th>\n",
       "      <td>0.04741</td>\n",
       "      <td>0.0</td>\n",
       "      <td>11.93</td>\n",
       "      <td>0.0</td>\n",
       "      <td>0.573</td>\n",
       "      <td>6.030</td>\n",
       "      <td>80.8</td>\n",
       "      <td>2.5050</td>\n",
       "      <td>1.0</td>\n",
       "      <td>273.0</td>\n",
       "      <td>21.0</td>\n",
       "      <td>396.90</td>\n",
       "      <td>7.88</td>\n",
       "      <td>11.9</td>\n",
       "    </tr>\n",
       "  </tbody>\n",
       "</table>\n",
       "<p>506 rows × 14 columns</p>\n",
       "</div>"
      ],
      "text/plain": [
       "        CRIM    ZN  INDUS  CHAS    NOX     RM   AGE     DIS  RAD    TAX  \\\n",
       "0    0.00632  18.0   2.31   0.0  0.538  6.575  65.2  4.0900  1.0  296.0   \n",
       "1    0.02731   0.0   7.07   0.0  0.469  6.421  78.9  4.9671  2.0  242.0   \n",
       "..       ...   ...    ...   ...    ...    ...   ...     ...  ...    ...   \n",
       "504  0.10959   0.0  11.93   0.0  0.573  6.794  89.3  2.3889  1.0  273.0   \n",
       "505  0.04741   0.0  11.93   0.0  0.573  6.030  80.8  2.5050  1.0  273.0   \n",
       "\n",
       "     PTRATIO       B  LSTAT  target  \n",
       "0       15.3  396.90   4.98    24.0  \n",
       "1       17.8  396.90   9.14    21.6  \n",
       "..       ...     ...    ...     ...  \n",
       "504     21.0  393.45   6.48    22.0  \n",
       "505     21.0  396.90   7.88    11.9  \n",
       "\n",
       "[506 rows x 14 columns]"
      ]
     },
     "metadata": {},
     "output_type": "display_data"
    }
   ],
   "source": [
    "loader = load_boston()\n",
    "boston = pd.DataFrame(np.column_stack([loader.data, loader.target]),\n",
    "                      columns=list(loader.feature_names) + ['target'])\n",
    "print('boston')\n",
    "display(boston)"
   ]
  },
  {
   "cell_type": "code",
   "execution_count": 8,
   "metadata": {
    "collapsed": true,
    "jupyter": {
     "outputs_hidden": true
    }
   },
   "outputs": [
    {
     "name": "stdout",
     "output_type": "stream",
     "text": [
      "Help on class Ridge in module sklearn.linear_model._ridge:\n",
      "\n",
      "class Ridge(sklearn.base.MultiOutputMixin, sklearn.base.RegressorMixin, _BaseRidge)\n",
      " |  Ridge(alpha=1.0, *, fit_intercept=True, normalize=False, copy_X=True, max_iter=None, tol=0.001, solver='auto', random_state=None)\n",
      " |  \n",
      " |  Linear least squares with l2 regularization.\n",
      " |  \n",
      " |  Minimizes the objective function::\n",
      " |  \n",
      " |  ||y - Xw||^2_2 + alpha * ||w||^2_2\n",
      " |  \n",
      " |  This model solves a regression model where the loss function is\n",
      " |  the linear least squares function and regularization is given by\n",
      " |  the l2-norm. Also known as Ridge Regression or Tikhonov regularization.\n",
      " |  This estimator has built-in support for multi-variate regression\n",
      " |  (i.e., when y is a 2d-array of shape (n_samples, n_targets)).\n",
      " |  \n",
      " |  Read more in the :ref:`User Guide <ridge_regression>`.\n",
      " |  \n",
      " |  Parameters\n",
      " |  ----------\n",
      " |  alpha : {float, ndarray of shape (n_targets,)}, default=1.0\n",
      " |      Regularization strength; must be a positive float. Regularization\n",
      " |      improves the conditioning of the problem and reduces the variance of\n",
      " |      the estimates. Larger values specify stronger regularization.\n",
      " |      Alpha corresponds to ``1 / (2C)`` in other linear models such as\n",
      " |      :class:`~sklearn.linear_model.LogisticRegression` or\n",
      " |      :class:`sklearn.svm.LinearSVC`. If an array is passed, penalties are\n",
      " |      assumed to be specific to the targets. Hence they must correspond in\n",
      " |      number.\n",
      " |  \n",
      " |  fit_intercept : bool, default=True\n",
      " |      Whether to fit the intercept for this model. If set\n",
      " |      to false, no intercept will be used in calculations\n",
      " |      (i.e. ``X`` and ``y`` are expected to be centered).\n",
      " |  \n",
      " |  normalize : bool, default=False\n",
      " |      This parameter is ignored when ``fit_intercept`` is set to False.\n",
      " |      If True, the regressors X will be normalized before regression by\n",
      " |      subtracting the mean and dividing by the l2-norm.\n",
      " |      If you wish to standardize, please use\n",
      " |      :class:`sklearn.preprocessing.StandardScaler` before calling ``fit``\n",
      " |      on an estimator with ``normalize=False``.\n",
      " |  \n",
      " |  copy_X : bool, default=True\n",
      " |      If True, X will be copied; else, it may be overwritten.\n",
      " |  \n",
      " |  max_iter : int, default=None\n",
      " |      Maximum number of iterations for conjugate gradient solver.\n",
      " |      For 'sparse_cg' and 'lsqr' solvers, the default value is determined\n",
      " |      by scipy.sparse.linalg. For 'sag' solver, the default value is 1000.\n",
      " |  \n",
      " |  tol : float, default=1e-3\n",
      " |      Precision of the solution.\n",
      " |  \n",
      " |  solver : {'auto', 'svd', 'cholesky', 'lsqr', 'sparse_cg', 'sag', 'saga'},         default='auto'\n",
      " |      Solver to use in the computational routines:\n",
      " |  \n",
      " |      - 'auto' chooses the solver automatically based on the type of data.\n",
      " |  \n",
      " |      - 'svd' uses a Singular Value Decomposition of X to compute the Ridge\n",
      " |        coefficients. More stable for singular matrices than 'cholesky'.\n",
      " |  \n",
      " |      - 'cholesky' uses the standard scipy.linalg.solve function to\n",
      " |        obtain a closed-form solution.\n",
      " |  \n",
      " |      - 'sparse_cg' uses the conjugate gradient solver as found in\n",
      " |        scipy.sparse.linalg.cg. As an iterative algorithm, this solver is\n",
      " |        more appropriate than 'cholesky' for large-scale data\n",
      " |        (possibility to set `tol` and `max_iter`).\n",
      " |  \n",
      " |      - 'lsqr' uses the dedicated regularized least-squares routine\n",
      " |        scipy.sparse.linalg.lsqr. It is the fastest and uses an iterative\n",
      " |        procedure.\n",
      " |  \n",
      " |      - 'sag' uses a Stochastic Average Gradient descent, and 'saga' uses\n",
      " |        its improved, unbiased version named SAGA. Both methods also use an\n",
      " |        iterative procedure, and are often faster than other solvers when\n",
      " |        both n_samples and n_features are large. Note that 'sag' and\n",
      " |        'saga' fast convergence is only guaranteed on features with\n",
      " |        approximately the same scale. You can preprocess the data with a\n",
      " |        scaler from sklearn.preprocessing.\n",
      " |  \n",
      " |      All last five solvers support both dense and sparse data. However, only\n",
      " |      'sag' and 'sparse_cg' supports sparse input when `fit_intercept` is\n",
      " |      True.\n",
      " |  \n",
      " |      .. versionadded:: 0.17\n",
      " |         Stochastic Average Gradient descent solver.\n",
      " |      .. versionadded:: 0.19\n",
      " |         SAGA solver.\n",
      " |  \n",
      " |  random_state : int, RandomState instance, default=None\n",
      " |      Used when ``solver`` == 'sag' or 'saga' to shuffle the data.\n",
      " |      See :term:`Glossary <random_state>` for details.\n",
      " |  \n",
      " |      .. versionadded:: 0.17\n",
      " |         `random_state` to support Stochastic Average Gradient.\n",
      " |  \n",
      " |  Attributes\n",
      " |  ----------\n",
      " |  coef_ : ndarray of shape (n_features,) or (n_targets, n_features)\n",
      " |      Weight vector(s).\n",
      " |  \n",
      " |  intercept_ : float or ndarray of shape (n_targets,)\n",
      " |      Independent term in decision function. Set to 0.0 if\n",
      " |      ``fit_intercept = False``.\n",
      " |  \n",
      " |  n_iter_ : None or ndarray of shape (n_targets,)\n",
      " |      Actual number of iterations for each target. Available only for\n",
      " |      sag and lsqr solvers. Other solvers will return None.\n",
      " |  \n",
      " |      .. versionadded:: 0.17\n",
      " |  \n",
      " |  See also\n",
      " |  --------\n",
      " |  RidgeClassifier : Ridge classifier\n",
      " |  RidgeCV : Ridge regression with built-in cross validation\n",
      " |  :class:`sklearn.kernel_ridge.KernelRidge` : Kernel ridge regression\n",
      " |      combines ridge regression with the kernel trick\n",
      " |  \n",
      " |  Examples\n",
      " |  --------\n",
      " |  >>> from sklearn.linear_model import Ridge\n",
      " |  >>> import numpy as np\n",
      " |  >>> n_samples, n_features = 10, 5\n",
      " |  >>> rng = np.random.RandomState(0)\n",
      " |  >>> y = rng.randn(n_samples)\n",
      " |  >>> X = rng.randn(n_samples, n_features)\n",
      " |  >>> clf = Ridge(alpha=1.0)\n",
      " |  >>> clf.fit(X, y)\n",
      " |  Ridge()\n",
      " |  \n",
      " |  Method resolution order:\n",
      " |      Ridge\n",
      " |      sklearn.base.MultiOutputMixin\n",
      " |      sklearn.base.RegressorMixin\n",
      " |      _BaseRidge\n",
      " |      sklearn.linear_model._base.LinearModel\n",
      " |      sklearn.base.BaseEstimator\n",
      " |      builtins.object\n",
      " |  \n",
      " |  Methods defined here:\n",
      " |  \n",
      " |  __init__(self, alpha=1.0, *, fit_intercept=True, normalize=False, copy_X=True, max_iter=None, tol=0.001, solver='auto', random_state=None)\n",
      " |      Initialize self.  See help(type(self)) for accurate signature.\n",
      " |  \n",
      " |  fit(self, X, y, sample_weight=None)\n",
      " |      Fit Ridge regression model.\n",
      " |      \n",
      " |      Parameters\n",
      " |      ----------\n",
      " |      X : {ndarray, sparse matrix} of shape (n_samples, n_features)\n",
      " |          Training data\n",
      " |      \n",
      " |      y : ndarray of shape (n_samples,) or (n_samples, n_targets)\n",
      " |          Target values\n",
      " |      \n",
      " |      sample_weight : float or ndarray of shape (n_samples,), default=None\n",
      " |          Individual weights for each sample. If given a float, every sample\n",
      " |          will have the same weight.\n",
      " |      \n",
      " |      Returns\n",
      " |      -------\n",
      " |      self : returns an instance of self.\n",
      " |  \n",
      " |  ----------------------------------------------------------------------\n",
      " |  Data and other attributes defined here:\n",
      " |  \n",
      " |  __abstractmethods__ = frozenset()\n",
      " |  \n",
      " |  ----------------------------------------------------------------------\n",
      " |  Data descriptors inherited from sklearn.base.MultiOutputMixin:\n",
      " |  \n",
      " |  __dict__\n",
      " |      dictionary for instance variables (if defined)\n",
      " |  \n",
      " |  __weakref__\n",
      " |      list of weak references to the object (if defined)\n",
      " |  \n",
      " |  ----------------------------------------------------------------------\n",
      " |  Methods inherited from sklearn.base.RegressorMixin:\n",
      " |  \n",
      " |  score(self, X, y, sample_weight=None)\n",
      " |      Return the coefficient of determination R^2 of the prediction.\n",
      " |      \n",
      " |      The coefficient R^2 is defined as (1 - u/v), where u is the residual\n",
      " |      sum of squares ((y_true - y_pred) ** 2).sum() and v is the total\n",
      " |      sum of squares ((y_true - y_true.mean()) ** 2).sum().\n",
      " |      The best possible score is 1.0 and it can be negative (because the\n",
      " |      model can be arbitrarily worse). A constant model that always\n",
      " |      predicts the expected value of y, disregarding the input features,\n",
      " |      would get a R^2 score of 0.0.\n",
      " |      \n",
      " |      Parameters\n",
      " |      ----------\n",
      " |      X : array-like of shape (n_samples, n_features)\n",
      " |          Test samples. For some estimators this may be a\n",
      " |          precomputed kernel matrix or a list of generic objects instead,\n",
      " |          shape = (n_samples, n_samples_fitted),\n",
      " |          where n_samples_fitted is the number of\n",
      " |          samples used in the fitting for the estimator.\n",
      " |      \n",
      " |      y : array-like of shape (n_samples,) or (n_samples, n_outputs)\n",
      " |          True values for X.\n",
      " |      \n",
      " |      sample_weight : array-like of shape (n_samples,), default=None\n",
      " |          Sample weights.\n",
      " |      \n",
      " |      Returns\n",
      " |      -------\n",
      " |      score : float\n",
      " |          R^2 of self.predict(X) wrt. y.\n",
      " |      \n",
      " |      Notes\n",
      " |      -----\n",
      " |      The R2 score used when calling ``score`` on a regressor uses\n",
      " |      ``multioutput='uniform_average'`` from version 0.23 to keep consistent\n",
      " |      with default value of :func:`~sklearn.metrics.r2_score`.\n",
      " |      This influences the ``score`` method of all the multioutput\n",
      " |      regressors (except for\n",
      " |      :class:`~sklearn.multioutput.MultiOutputRegressor`).\n",
      " |  \n",
      " |  ----------------------------------------------------------------------\n",
      " |  Methods inherited from sklearn.linear_model._base.LinearModel:\n",
      " |  \n",
      " |  predict(self, X)\n",
      " |      Predict using the linear model.\n",
      " |      \n",
      " |      Parameters\n",
      " |      ----------\n",
      " |      X : array_like or sparse matrix, shape (n_samples, n_features)\n",
      " |          Samples.\n",
      " |      \n",
      " |      Returns\n",
      " |      -------\n",
      " |      C : array, shape (n_samples,)\n",
      " |          Returns predicted values.\n",
      " |  \n",
      " |  ----------------------------------------------------------------------\n",
      " |  Methods inherited from sklearn.base.BaseEstimator:\n",
      " |  \n",
      " |  __getstate__(self)\n",
      " |  \n",
      " |  __repr__(self, N_CHAR_MAX=700)\n",
      " |      Return repr(self).\n",
      " |  \n",
      " |  __setstate__(self, state)\n",
      " |  \n",
      " |  get_params(self, deep=True)\n",
      " |      Get parameters for this estimator.\n",
      " |      \n",
      " |      Parameters\n",
      " |      ----------\n",
      " |      deep : bool, default=True\n",
      " |          If True, will return the parameters for this estimator and\n",
      " |          contained subobjects that are estimators.\n",
      " |      \n",
      " |      Returns\n",
      " |      -------\n",
      " |      params : mapping of string to any\n",
      " |          Parameter names mapped to their values.\n",
      " |  \n",
      " |  set_params(self, **params)\n",
      " |      Set the parameters of this estimator.\n",
      " |      \n",
      " |      The method works on simple estimators as well as on nested objects\n",
      " |      (such as pipelines). The latter have parameters of the form\n",
      " |      ``<component>__<parameter>`` so that it's possible to update each\n",
      " |      component of a nested object.\n",
      " |      \n",
      " |      Parameters\n",
      " |      ----------\n",
      " |      **params : dict\n",
      " |          Estimator parameters.\n",
      " |      \n",
      " |      Returns\n",
      " |      -------\n",
      " |      self : object\n",
      " |          Estimator instance.\n",
      "\n"
     ]
    }
   ],
   "source": [
    "help(Ridge)"
   ]
  },
  {
   "cell_type": "code",
   "execution_count": 9,
   "metadata": {},
   "outputs": [
    {
     "data": {
      "text/plain": [
       "0.7403394824615863"
      ]
     },
     "execution_count": 9,
     "metadata": {},
     "output_type": "execute_result"
    }
   ],
   "source": [
    "ridge = Ridge(alpha=0.3)\n",
    "x = boston.iloc[:, :-1]\n",
    "y = boston.iloc[:, -1]\n",
    "ridge.fit(x, y)\n",
    "ridge.score(x, y)"
   ]
  },
  {
   "cell_type": "markdown",
   "metadata": {},
   "source": [
    "## L1正則化\n",
    "---\n",
    "影響の少ないパラメータの値を0にすることでモデルに制限を加え、過学習を抑制。重要な特徴を選択。  \n",
    "損失関数に以下の正則化項を加える。\n",
    "\n",
    "${\\displaystyle \\alpha \\| w\\| =\\alpha \\sum ^{k}_{i=1}| w_{i}| }$\n",
    "\n",
    "線形回帰にL1正則化を適用したもの (最小化する対象を残差二乗和+L1正則化項にしたもの) をラッソ回帰 (Lasso Regression) という。\n",
    "\n",
    "ラッソ回帰の損失関数は $\n",
    "\\displaystyle \\frac\n",
    "    {1}\n",
    "    {2n}\n",
    "\\sum ^{n}_{i=1} e^{2}_{i} +\\alpha \\sum ^{k}_{i=1}| w_{i}| \n",
    "$ で表される。"
   ]
  },
  {
   "cell_type": "code",
   "execution_count": 10,
   "metadata": {},
   "outputs": [],
   "source": [
    "# 通常表示に戻す\n",
    "%matplotlib inline"
   ]
  },
  {
   "cell_type": "code",
   "execution_count": 11,
   "metadata": {
    "hide_input": true,
    "jupyter": {
     "source_hidden": true
    }
   },
   "outputs": [
    {
     "data": {
      "application/vnd.jupyter.widget-view+json": {
       "model_id": "dab36db0b6cf4ee18f61bb34a7d1d3f0",
       "version_major": 2,
       "version_minor": 0
      },
      "text/plain": [
       "interactive(children=(FloatLogSlider(value=1e-05, continuous_update=False, description='正則化の強さ $\\\\alpha$', max…"
      ]
     },
     "metadata": {},
     "output_type": "display_data"
    }
   ],
   "source": [
    "from my_functions.regularization import l1\n",
    "l1.show()"
   ]
  },
  {
   "cell_type": "markdown",
   "metadata": {},
   "source": [
    "### 係数の変化\n",
    "---\n",
    "下のグラフでは、正則化を強める ( $\\alpha$ の値を大きくする) につれて係数の大きさが直線的に減少していくのがわかる。"
   ]
  },
  {
   "cell_type": "code",
   "execution_count": 12,
   "metadata": {
    "hide_input": true,
    "jupyter": {
     "source_hidden": true
    }
   },
   "outputs": [
    {
     "data": {
      "image/png": "[encoded data removed]",
      "text/plain": [
       "<Figure size 288x288 with 1 Axes>"
      ]
     },
     "metadata": {
      "needs_background": "light"
     },
     "output_type": "display_data"
    }
   ],
   "source": [
    "from my_functions.regularization import l1_weights\n",
    "l1_weights.show()"
   ]
  },
  {
   "cell_type": "markdown",
   "metadata": {},
   "source": [
    "### 損失関数の変化\n",
    "---\n",
    "L1 正則化項の勾配を下る (等高線に対して垂直に進む) と軸に近づく = $w$ の最適解をパラメーター空間内の軸に近づける効果を持つ"
   ]
  },
  {
   "cell_type": "code",
   "execution_count": 13,
   "metadata": {},
   "outputs": [],
   "source": [
    "# 3Dグラフの表示に必要\n",
    "%matplotlib widget\n",
    "%matplotlib widget"
   ]
  },
  {
   "cell_type": "code",
   "execution_count": 14,
   "metadata": {
    "hide_input": true,
    "jupyter": {
     "source_hidden": true
    }
   },
   "outputs": [
    {
     "data": {
      "application/vnd.jupyter.widget-view+json": {
       "model_id": "f7400c749b264035b90b12c5b62b2c3c",
       "version_major": 2,
       "version_minor": 0
      },
      "text/plain": [
       "Canvas(toolbar=Toolbar(toolitems=[('Home', 'Reset original view', 'home', 'home'), ('Back', 'Back to previous …"
      ]
     },
     "metadata": {},
     "output_type": "display_data"
    },
    {
     "data": {
      "application/vnd.jupyter.widget-view+json": {
       "model_id": "5162838128fb46d5a5d0cacc3596e076",
       "version_major": 2,
       "version_minor": 0
      },
      "text/plain": [
       "interactive(children=(ToggleButtons(description='損失関数', options=(('MSE', 1), ('L1', 2), ('MSE+L1', 3)), value=…"
      ]
     },
     "metadata": {},
     "output_type": "display_data"
    }
   ],
   "source": [
    "from my_functions.regularization import l1_cost\n",
    "l1_cost.show()"
   ]
  },
  {
   "cell_type": "markdown",
   "metadata": {},
   "source": [
    "### Pythonでのラッソ回帰の実行方法\n",
    "---\n",
    "`sklearn.linear_model.Lasso`を使用する。"
   ]
  },
  {
   "cell_type": "code",
   "execution_count": 15,
   "metadata": {},
   "outputs": [
    {
     "data": {
      "text/plain": [
       "0.7206350048380019"
      ]
     },
     "execution_count": 15,
     "metadata": {},
     "output_type": "execute_result"
    }
   ],
   "source": [
    "lasso = Lasso(alpha=0.3)\n",
    "lasso.fit(x, y)\n",
    "lasso.score(x, y)"
   ]
  },
  {
   "cell_type": "markdown",
   "metadata": {},
   "source": [
    "## Elastic-Net\n",
    "---\n",
    "L1 ・ L2 両方の正則化を適用した線形回帰。"
   ]
  },
  {
   "cell_type": "markdown",
   "metadata": {},
   "source": [
    "### PythonでのElastic-Netの実行方法\n",
    "---\n",
    "`sklearn.linear_model.ElasticNet`を使用する。"
   ]
  },
  {
   "cell_type": "code",
   "execution_count": 16,
   "metadata": {},
   "outputs": [
    {
     "data": {
      "text/plain": [
       "0.7129920748412979"
      ]
     },
     "execution_count": 16,
     "metadata": {},
     "output_type": "execute_result"
    }
   ],
   "source": [
    "en = ElasticNet(alpha=0.3, l1_ratio=0.2)\n",
    "en.fit(x, y)\n",
    "en.score(x, y)"
   ]
  },
  {
   "cell_type": "markdown",
   "metadata": {},
   "source": [
    "## 推薦図書\n",
    "---\n",
    "- [Python 機械学習プログラミング 達人データサイエンティストによる理論と実践](https://www.amazon.co.jp/Python-%E6%A9%9F%E6%A2%B0%E5%AD%A6%E7%BF%92%E3%83%97%E3%83%AD%E3%82%B0%E3%83%A9%E3%83%9F%E3%83%B3%E3%82%B0-%E9%81%94%E4%BA%BA%E3%83%87%E3%83%BC%E3%82%BF%E3%82%B5%E3%82%A4%E3%82%A8%E3%83%B3%E3%83%86%E3%82%A3%E3%82%B9%E3%83%88%E3%81%AB%E3%82%88%E3%82%8B%E7%90%86%E8%AB%96%E3%81%A8%E5%AE%9F%E8%B7%B5-impress-gear/dp/4295003379/)\n",
    "- [見て試してわかる機械学習アルゴリズムの仕組み 機械学習図鑑](https://www.amazon.co.jp/%E8%A6%8B%E3%81%A6%E8%A9%A6%E3%81%97%E3%81%A6%E3%82%8F%E3%81%8B%E3%82%8B%E6%A9%9F%E6%A2%B0%E5%AD%A6%E7%BF%92%E3%82%A2%E3%83%AB%E3%82%B4%E3%83%AA%E3%82%BA%E3%83%A0%E3%81%AE%E4%BB%95%E7%B5%84%E3%81%BF-%E6%A9%9F%E6%A2%B0%E5%AD%A6%E7%BF%92%E5%9B%B3%E9%91%91-%E7%A7%8B%E5%BA%AD-%E4%BC%B8%E4%B9%9F/dp/4798155659/)"
   ]
  }
 ],
 "metadata": {
  "kernelspec": {
   "display_name": "Python 3",
   "language": "python",
   "name": "python3"
  },
  "language_info": {
   "codemirror_mode": {
    "name": "ipython",
    "version": 3
   },
   "file_extension": ".py",
   "mimetype": "text/x-python",
   "name": "python",
   "nbconvert_exporter": "python",
   "pygments_lexer": "ipython3",
   "version": "3.8.3"
  },
  "toc": {
   "base_numbering": 1,
   "nav_menu": {},
   "number_sections": true,
   "sideBar": true,
   "skip_h1_title": true,
   "title_cell": "Table of Contents",
   "title_sidebar": "Contents",
   "toc_cell": false,
   "toc_position": {},
   "toc_section_display": true,
   "toc_window_display": true
  },
  "varInspector": {
   "cols": {
    "lenName": 16,
    "lenType": 16,
    "lenVar": 40
   },
   "kernels_config": {
    "python": {
     "delete_cmd_postfix": "",
     "delete_cmd_prefix": "del ",
     "library": "var_list.py",
     "varRefreshCmd": "print(var_dic_list())"
    },
    "r": {
     "delete_cmd_postfix": ") ",
     "delete_cmd_prefix": "rm(",
     "library": "var_list.r",
     "varRefreshCmd": "cat(var_dic_list()) "
    }
   },
   "types_to_exclude": [
    "module",
    "function",
    "builtin_function_or_method",
    "instance",
    "_Feature"
   ],
   "window_display": false
  },
  "widgets": {
   "application/vnd.jupyter.widget-state+json": {
    "state": {
     "0a9c05c3adc44010a54278092e791b2d": {
      "model_module": "@jupyter-widgets/controls",
      "model_module_version": "1.5.0",
      "model_name": "ToggleButtonsStyleModel",
      "state": {
       "button_width": "",
       "description_width": ""
      }
     },
     "266a617bc7a5461fa74d41a8e69b21c2": {
      "model_module": "@jupyter-widgets/base",
      "model_module_version": "1.2.0",
      "model_name": "LayoutModel",
      "state": {}
     },
     "2681b725bbe04d5fb9b0416d8326855e": {
      "model_module": "@jupyter-widgets/base",
      "model_module_version": "1.2.0",
      "model_name": "LayoutModel",
      "state": {}
     },
     "2b23c49a48b04dbc82d6b966a408a533": {
      "model_module": "@jupyter-widgets/base",
      "model_module_version": "1.2.0",
      "model_name": "LayoutModel",
      "state": {}
     },
     "31e12788f1334f2cacb0ea28b38b0540": {
      "model_module": "@jupyter-widgets/base",
      "model_module_version": "1.2.0",
      "model_name": "LayoutModel",
      "state": {}
     },
     "339f60346eb9480da329872960c0223d": {
      "model_module": "@jupyter-widgets/base",
      "model_module_version": "1.2.0",
      "model_name": "LayoutModel",
      "state": {}
     },
     "3ab734055e8c4202a35d459524c6af67": {
      "model_module": "@jupyter-widgets/output",
      "model_module_version": "1.0.0",
      "model_name": "OutputModel",
      "state": {
       "layout": "IPY_MODEL_9dc89dcdaeda4eaf8742fed7d2523b67",
       "outputs": [
        {
         "data": {
          "image/png": "iVBORw0KGgoAAAANSUhEUgAAAdAAAAD7CAYAAADaQcVBAAAABHNCSVQICAgIfAhkiAAAAAlwSFlzAAALEgAACxIB0t1+/AAAADh0RVh0U29mdHdhcmUAbWF0cGxvdGxpYiB2ZXJzaW9uMy4yLjEsIGh0dHA6Ly9tYXRwbG90bGliLm9yZy+j8jraAAAgAElEQVR4nO2dd5xcVfn/P8/MbO+bTbLZTW8bUkhCCQlFqgTEEkBUVFQUEQX5ihgFsaCAgOj3y1dpCurXH4ggLbRAACFSQiAJIaRuCAkpm7JJdjdbps+c3x/33tnJZuvcc2bPzHner9e+ZnfKuXeS+9znPJ2EEGAYhmEYZmB4BvsEGIZhGCYTYQXKMAzDMCnACpRhGIZhUoAVKMMwDMOkACtQhmEYhkkBVqAMwzAMkwJZp0CJaDgRvUJE+YqPcxsRfZWIvk1En5aw3lwi+j8JpyYdIqrt5jlfCutMJ6Ksu+aYzIaIyonoOiI63+U6m2Sdk0yIaEjX+yFZDEgWiYjknlnmk1U3MyKqBvAMgGIAS4loMxGt6fIeny0wzs9XiGil/bOHiD5K+vvYXg7XAqAcwD8AfJeICpOOsZSINhDR+z38bCCipT18h3FE9GaXn91EdFov37uMiK61f/8cEa3r8rO1y99PJX32NHv95fbPLiJaQETDiGis/bZ/d3PYm4joa0T06f4ofiLKA/CCECLex/tuJKIbe3l9HhGd29fxmOyBiM7qKi+2jJ01wHUKiejVbq6fvwDYD+A6+/5wIxHt6EV+3yeicC/Hea6L/G7s7Zq2P/NLIvISUU038vsREa3v8lx50mfbk+R3AxHdSUS5RDTLfsstAOZ2OeR8AA8QUTERfdzPf8JXiGgSEQ0lohOIqK6b7/E4EVV1eW4bEU2wf/82EY3q5/G0Z8BWhI7YO6MLAfwRwG+FEP9DRKUAXgLw4y5vLwFwLIDf2j+bYCmIUwHkAtgLIArgESHEKiIqA/B8N4cdAaAAwGX238uI6FNCiN32358VQmzp4XwnAngg6e/XnfMUQmwjooftc3G4sI9/gr8AuNX+/NMAnk5auxjAOiHE9F4+/7AQ4kf2+2+0nzsDwBQAN3Z9MxHlAFgA4Dew/t26vu5xFCURkbC6dZwG4EMi+gyAZiHEm2RZ7ov7UqpdeBfAq0S0JunfmmH6RAjhJ6KbAfyViH4rhLjHfukqAFcDmCeEiFu3E/xaCPFAT2sR0a6k328B8GLSy38GMD7p75m9nRcRfR9AqxAiBmA3gOldXl8J4PNCiI97WGKTEGKu/d7TYMlmJYA7Ycldd3wTwD3dvdBFfsfAup9EAEyDda/ZA2ANku4zSZwDy7hIpglAmf37EgAPEtHpIgu6+GSFAgVwLoDTYV0s99nWzoUAbhFCvJ78RiFEM6ydVBOAN4UQu4jo5wC+5FygSRchALQC6M5FeyaATwohrujppIjoB7AuVGe3mgfron25y1uTrdc6AF/u8vp49AARzQVQJIRYlfScB8AIIURDT5/rwpfsdQBgNKybSW98DcBaIUQbJXl17F3m7wGsBfBz++mbbKU5FsD7sBTus7YSvgjAtUR0gf3/0idCiBgR/QnAzwB8rz+fYbIb+3qfJISoJ6K/AviZEGI3ER0PoFIIsYQsb9JQIcSLRHQMAK/zeSHEHiJ6FkARgLakdecC+BuADvspD6zr/utdTiEveT1YCrkw6e8hALb3cO5FAL4PYFaX52sA7LOVal/UEdGb9u9l6N5jlLz2ZACnCCG+YG+wnedLYcnVTCI6TwgRFUJsd86NiLYKIT5BRCMAXC6EWN/NdwkIIaJdDukHkA8AQogdRLQZluz/qx/fTWuyQoEKIRYDWGz/B74E4FIAPwDwHSJ6RQjR3o9lHiOikP174iK0d0ldd1QgorWwlGNvlAP4jRDiEfsz3wBQ3cN7PQBiAIajG6sPgI+IqoQQB7o8fzGAp7o8V2mf/5Q+zs/hkW4s0G6xXUc343AhnURET8Cy7m8XQiReE0L8jIh+C0t5niuE8NvrfBfWjeb7AO7GkZuG3ngGwH8T0VUDtF6Z7MKxYKoBvGZvPj8EcCWAG2DdpPfCsnqKANxJRO8D+LYQoslZhIiGw7qZnwfLsnLIB/AfZ5NMVkjjvt5OiIhmwPJsdffaJCHEh12ePhvASkcukngJwFn2+fdFvRDiZPsYp6Fz898Tf4B1r3EoJKI/ApgDyzN2fVfFbW94K4noOQCTAQgiOg7A74UQS+235cBSliCizwohnrGfj+BwXfMUgMuRBQo042OgRJRHRJcQ0f8D8DosZfcpWBbQSFix0O1E9HgfS10khDjZvhC/3+UYV5EVE/2YrLjqSlhulrESv0oRgCAs989I++f+pN+vwpFxDAA4HsDqPtauocPjNyd0ef1LZMdr0MumwHaV/x+AR7q+BGChEOLsZOWZxJUAnuhyk/gygAohxG8AfKuP8z8Me0PUDGDCQD7HZBWlsDe2tiv/NQDnA3gIwEf2tfo52OEX2xM1G8AGdHqEQEQFsPIY7hZCHJYvMUByYCmlX8Ky2EYCuBaWEhxpP36nm8/1R34By0Bw5PfKLq/VJcnvH3tbhKxciQ1dnvYB+KcQ4gQhxP3dKM+JAJYCOAjL+xQAcDIsI+UuIjrZfms7gBIiugbAV5OWyId1b3N4D5ayzngy3gIVQoRsIbgT1u7xEgDLYLkYniaiXFiK9aZuPu4jopPs37u1QO1j3AXrQrkZVrzhIcCKXRBRjYRY3HwAn4R1ge5BZ1y1Kun3Q7B2cl2pgqVMemO3EGJWL6/3ywIVQggiug+WMFyW9NJmIcTW7j5ju6K+B2Bel5fCsOO8QohAH+cPIjoKwM4kb0ITrO/edUfPZB+bAPyv84etHEcD2Jn0nh8AaLJv/n8loosA7BBC1DtvsK+zXyetUw7gWVju1dtdnN+vAFTAkt8OAKfActuOhaU8T4YV26zv5rNVALqVnS58qpcY6EAs0PdhWaBfSHquVQixrLs3E9FQWLHOLwB4HJZ3b5EQYj+A/fY98VJY4bAoES23/z4jaZlRsL6/gyO7GU/GW6AAIIT4M6zEnw9g7TJ/CODndtzjSQD/m7y7JKKZAGph7arm20/3aIH2whLYCT5E3aZ47wWw0LZeV9rr7uvm/A8CmAHgQyHE6QB89nk4gvEcgPuFEEu6OUYbLOvVDV9NOsfL7ef2ADgiCUoI8WLX57pCRD8kovPsP++HtbvfRUSziOhJe6c8HV3iPjYhHJ5A5SRCPYbDLfBiWPFpJssRQuwSQiSHKc4CsF0I0Zj0nv2O5UREJ8LaUP+gpzWJ6EJYltBqAJf0EApoBzAnSTYeB/BRN+fXBqAOlvx+HdYG/CxYnprvA/gRrE3sz7t+FnLk96ikc/yT/VwIVsJd13P9txCiu414AiI6mYh+Zf95LYC77HhnJSyX881Jb+/qnv20EOJoJ9RERNPt4+5Kek/WyG7GW6AOQogPiGiufTE7Ae03AXxLCPFP531k1XrdAGtH+w87EeZ2AM8TURuszFoBy1XZHXV2/G4OgOsAvExE9wL4CRG9LIRIXLRCiPvQTczEdokk/+2BFa85IqO1H2yCFZNIyf0khFhKRHfCupHsB3ClEGLRAJfJ7fL3CehUvn+A5V4DLFfZJfZrTwO43XZHXSuEeM9+zwewEo9uE0K02nGWe2BZya8AABF5AdQA2DbA82QyHNsi+h90nx1eCMszshDAF7tJcqmB5da9BJaF+N0eNqUAACHESgDH9PPULoEVmx8om9D9RnIgfAbASQB+Byu++AshRCuOrEDoia7yOwNWPgNgZRA/QUTfhmVlf8NRwERUAeB6dCYMInkjQkSVsO6j/91l/UmwvnfGkzUK1LZSJtku2c/CcnkeI4TYmPw+eyfbNenmJfszn4cVk7gFtqVoW5aPAzgalpW7CsAuWOUy+4hoESyBngXLSnJ4hnquFcsF0Jj097UAVgkh9nTzvW6A5RK5oIe1noa1K3zMfv8SWO6tcUS0DpaXocb+PZmrhRCvEtEcWPHVo2G5gocT0ZVCiLuT3tvbdbIOwLFkpfUL+3hbAfwHALrcoAQ6hXWYfd7nwhL0L9nvf56ITgGwwd5Y1AP4eZd1TgTwbjeJF0wWQ0RfgpWgc5cQoruchudhWYgnCSF2dPP6g7AsnzthuSF7rOUE8AsiuqqX14clndeJsBRYd/kD58C6t9zZwzqLAVyTtNbNsFywE2Hlb0RhxfqXEFGy5figEOJ2IhoCa5P+bSFEgIj+DavU5KKk9/rQmXDVlQ4Am4hoNzoTizrQGcN8ElaS3wsAHoWVPHQarPvRebDugy90XZSIroClWB/u5rvPR2qbDf0QQmT8D6wklkdhWTjfA1AzgM/eAyveOT7pOce9e7r993RYpSLdfd5rH/elpOeWApjYyzEnAlia9Pe/AVQn/T3GflzZj/P3AlgBYEgK/25eWArqnKTnRsByuQJWssFeWMo9+XOnAXgoheNNhpXksQzArS7+v/8Fq2Zv0K89/knfDyxFdFwvr3skHedGAJf18Z5dSb//AcCZSX+Ptu9JvwNwWj+O9+dkGRzguf4dwM3J/wawSm9KYGXU7oZlDIzp6fxTOOYMWJZ8aS/vOQfArG6ez4PlOi8Z7OtJxg/ZX8pYiKhSJKW0Jz3vNABIxzkkCpdT/PxsAF8XQvQY8+nlsxWinzWYOmBn/M0X3ceTGCbtSJDfMlhK7yLRv7rP5M+WAziUrnuVW4joOgDvi37kUmQCxivQbIGIvAMVvkzESdbKlBsGw/QHg+TX1WZDN1iBMgzDMEwKZEUZC8MwDMOkG1agDMMwDJMCAypjqaqqEmPHju3x9XUNh1BVkofqUqWjOBlmwAhY1+fw0nwMK8lLaY3GthD2tQYxvaYMfU1GXLVq1QEhxNCUDpQG+pJl57vOqC3r8T0MM1gcaA9hz6Egpo4ohdeT2pjStQ2HMKwkD8P70Fe9yfKAFOjYsWOxcuXKHl+ffMML+ObJ43Dduf3tYc4w6SEQjuGoX7yI686dgitOTa2F7t2vbcEdS+qx7OZzkOfz9vpeIup2+oYu9CXLf/j3h/jvlzdj+S3nwudlRxWjF/cu/Qi3v7gJy359Dgpye5fFnpjw08W44tTxWDi/d33VmyzLlQwCRI/1ugwzeIRjVuJfjgRlYELenbOnN+CrMhlIJCHPqVmfgHWNu5VlqQrUqi+QuSLDyEGKwKX+0YzD+a4mbBaYzCMSi4MIKbtvAesad3t5y1WgBt1gmMwiGrNExY0FSrZdZoJScWYjsEeJ0ZFwLI4crydxnaYCgfSyQAE2QBk9iUhw4SasMoOuchM2C0zmEYkK5LoNx0gIOUp24RK4MQOjI2FJMRPADKXC3iRGZ6LxOHwuZBmQE3KU7sI14ebCZB5yLVCGYQaTiO3CdYN+MVDwzYXRE7kx0Oy/yk2K9zKZR1iCC1eGx1SyBcp+H0ZPpLhwDbJATYz3MpmDZYG6dOFK8JjKTyJieWM0JBLlOtCBYFK8l8k8pLhwoaULlyWO0Y9oXIIL1yAT1KCvymQgkZiQEAPVrYyFk4gYTZGahWuAWjEp3stkHlJcuNCujIVh9ESGC9ek7jyczsDojAwXrgyDj5OIGCOISMnCtTBAfyYw6bsymYOsGKhbFCQRscgx+hGNy8jCNc+tadBXZTKIcEwgxycjBqqTC1dCYSrDqCAs04Ur44Q0x6SEKSbziETjyJVRxuLyPORn4bLAMRoi1YVrwDVuUsIUk3lE45LKWHSLgbLAMToiY5wZDJpQYlLCFJN5SCtj4SxchumbhAJ1ETdJXN8GKBWWZUZnwlE5zeS1skAB3rEyeuK4cN30zzQxLGjSd2Uyh0gs7r4XrnYxUE4iYjTFsUB9bibYG9Rg3cSMYyZzkFIHqt9AbfcnxDAqiMbiIAK8bhSoQQ3WTbS2mcwhKiUGCri9wqVboCxyjI6EbYFz0+zDyCxcA74rk3mEY3Hk+LIsBsqJB4yuRGJx5LiwPhetbsBtL2wCAJx/z1tYtLpB1qnpiUEZx0zm4TYGumh1Aw60h/DIip046bZXU5ZnX8pn0AO8Y2V0JBKLp5yBu2h1A65/ci0CkRgAYF9rCNc/uRYAsGB2rbRz1AmTMo6ZzCIWF4gLwOdxJ8/2gCY0tARSlmf5SUQscIyGuKkbu2NJfUJ5OgQiMdyxpF7GqWkJt7VmdKWzJC21i1SmPEt24XIjBUZP3Lh8drcEBvR8NsHSzOiGM5pQB3lmC5Qxgkgs9cLrmvKCAT2fDZhUssNkFlGXbTllyjMnETFG4KZubOH8OhTkeA97riDHi4Xz62ScmpaYVLLDZBadbTkHX57lJxHJXpBhJBCOpu7CdRILfvXsejT7IxhekofrP3VU1iYQAVzGwuhL52Sl1Ew2R26vfWwNYnGB2vICLJxfl5I8S1Wg1nw1mSsyjBzczg9cMLsWAgLXPLoGj3xnHsZVFUk8O/3gRgqMrri1QAFLnn//cj2OG1OJ//nirJTXkd8Ll0WO0ZBwNIY81+OPzGlvZ9J3ZTILGaMJATvpVaeB2h4PeMvKaEkkJtx3LjHJKuNxZoymOC7cXBceJUDHZvIgxFniGA1xEwPtigmXOCcEMroSjlk1nK4VKHRr5cfTWBhNkTG9obOPbvZf5Z3TWAb5RBimC+Go48J161Ei3SxQFjhGT8LRuJQdK2DGNe7hMhZGU5xGCnlSLFCNYqAyNDrDqCAsaQAvYIL92fld4yZ8WSajSMRAvd4+3tkH+sVAOWuP0RM5Fqg5bk3OwmV0RVoSEeBag8otY+EYKKMpcmKg1qMJbk2TrG0ms+isA5URA9XJhQuwxDFawjHQ1DDpuzKZgUwLVJss3EWrG7D9oB/Pr93jakApw6jAzTgzBzKkNnLR6gbc+Mx6AMCX71/OssxoRSgmsQ7UpSxLaeXnDCiN2hkHbgaUMoxshBBWEpFLgXNs0Gx24XYdHt7Ylv3Dw5nMIhJ1N87MgSRUO0uxQE0cOMxkDk7rr1zXMRPrMZstUJZlRnfCkixQwP1mWIoCNXngMKM/sgTOhO48LMuM7oRlWaASXLhSFKiJA4eZzEGWy8cEWJYZ3QlH4/AQ4JMgz1rUgZo4cJjJHBwL1M04M8CM9nYsy4zuyChJA5Jbc6aOlCQiJ7lg4eNrEIm5G1DKMLKR5vKRcTKa48jsr5/dgCZ/GEOL83DDedk9PJzJLEISStIctMjCBSzBe+DNrRheko+/fON4WcsyjGtkJh0A2Z2FC1iyXJjrxeUPrsLfLj0e02vLBvuUGCZBOBZ33QcX6MypdwOPM2OyHqdzibReuAZc4ia4q5nMJBKV5cJ1fy48zozJehwXrqxGCibQObiNJZrRCzk13RZaZOE68DgzRkci0l242Y9J1jaTWYSj7icrAXIMPsnN5HmcGaMfIVkWqEETSjwkI0LEMPKR0dcasORZr3mgMOPmwmQWiU5EboXOpAkliXmgRnxbJoMISytjcX8u0mOgDKMbXMYycEycPMNkBrIsUEAzF66HiAWO0Q7pMVADrvHOInMDviyTUcgsY9EuiYhdPoxudGbhuh/Aa5H91zhboIyuyOpEJCNnR34ZCwscoxncTH7gkEnxXiajkJaFK+FcpDdS4LoxRjdkxUAdTNgkeriRAqMpUmOgOmXhgi1QRkNkxUBNssqc3TmHZBjdkFbGol0WLsy4uTCZhbRORCY5cbmRAqMp4ZiQU8Yi4Vzkl7GwwDGakXDhchZuv0k0jWCBZjQjHI1JycIFtMvC5Rgoox+OC9fncZuFaz2a0CzEoIRjJsOQ1QuXyL2+klsH6jFjd85kFiFb4NwO0DVJp3ArP0ZXIjHhuiQN0LIOlMeZMfoRiQo5GbgmhUC5lR+jIbG4QCwukOv1ul5LvyQiHmfGaEg4FpMW/wTM8LJwIwVGR3TLZ5BbxgIWOEY/IlFZLh9zEmtMKtlhMgeZClRGzo5kC5THmTH6IS/pQMLJZAzmjG5jModEVzEJG2IZfQuk14GyCcrohqzxRwkMuMTZAmV0RFZbTkDTOlAWOEY3ZPfONOEa97AGZTREegzU5ed5nBmT9YSiceTlyMjaM8eHy638GB1xarqlDdTWzYXLAsfoRjgaQ55EF64Jl3hn04jBPQ+GSUbmYAgNk4hY4Bj9CEfjyMuRl0RkRBYuuJECox+haAwAJHmUXC8hu4yFs3AZ/QjJjoEacJGb1LaQyRxCEcsCzc5euMQCx+iHTuOPMgXOIWJ0JBSTp0BlJL3KL2NhGM0IRePSdqyAGUqFuA6U0RDHApXVSMEtHANlsh55E+zNUSqcRMToSCIG6nMfAwXcy7L8MhYj9udMJhGKxqQIHLtwGWZwcbJws9OFS0CcJY7RDHkWqIUJl3inC3eQT4RhkghJVKCAbklEICPcW0xmISsGmjBADbjETSrZYTKHTgWqR2MUuWUs3MqP0Yx4XCAaF9Im2JuCh2OgjIYkXLgS6roB3Vy4AGtQRivCMXk7VgczrDJLg3JnMUYnnCQiaXXdOiUR8TgzRjfkpr1bmKBTDDK2mQwiFI0jx0vweNxfoPolEcGMFH8mcwjF7B2rxEYKJlziJm0WmMwhHI1L8ybxODOG6QOZrb9kFF5nCk681wx3NZMphKIxuRn1OmXh8jgzRjfCElt/OZhwiXMSEaMjoYi8rmIkoW8BjzNjshqpFqhBDdYpkUQ0yCfCMEmEYxIVqIQ15JexsMAxGuFYoDLdPiZg0maByRxCEclNUXRy4ZoUI2Iyg1BEbu9MwAwXroNJ35XRH1ltOQE5vdt5nBmT1ci0QI3Kwk2k4Q7qaTDMYch04cqYXy2/jEXmggzjEqnNpw3ysHAWLqMjMl24MmqdeZwZk9U4vTPlxkCz/yLnLFxGR6TP9tWpExGPM2N0w7FApbT+MkipcBYuoyNZ30iBBY7RicQA3hx580BNuMR5GgujIzIbKWiXRARwIwVGL6RaoCbFQO1HlmdGJ2S6cGXIs3QL1Iz9OZMphCSPPwIMUSoGWdtM5hCOxuXKsm6diIy4uTAZQ0hFDNQAteIxKeDLZAyhaBy53myuA5W5IMO4JCS1jMUcnO/KOQ2MToSiMWkWqIbjzIgbKTBaEY7Gkev1JOoaZWDCJZ6oAzXhyzIZQTwuEImJ7I2BetgCZTQjLDPpwKC4IDciYnRDRV9rrepAiQhx9vkwGiF3fqA5TlwOgTK60TlZSVJfa91cuADvWBm9CEflTm8AzHBrOu6t7P+mTKYQijmDIbJ0nBlxM1xGM6TWjZljgILsfzITNgtMZuBYoFI3xFpl4Urobs8wMpFpgZrUXMCk78pkBjIz6gEr5KiVC5fHmTG6IXd+oDkmKE9jYXSjc7KSvF64eiURgT24jF4EI3HkS+xcApihVNgCZXQjGJUcA+VxZgzTO0GZFqj9aMI1blLJDpMZBCPOYAiZrfzcwePMmKwmJNECNciDm2jlZ8JmgckMnCSifAmTlQA5rWfl+rZ4nBmjGcFoTMoos2RMUipxk74sozXOaMJ8iTkNmjWT51ZEjF6EIvLHH5lwiZtkbTOZQTBhgWZxHSi7cBmdCEVj8lw+BimVxGaBLVBGE5wYqCx5BjRz4fI4M0Y3gpG4NJePgwlKhVv5MbohXYGaPM5MCIFHV+zA+fe8hadW7zLipsYMHJnjjxxMuNK4mTyjG8GobBeue5eST8J5JEjnOLMn3mvAT55Yi4rCHFzz6BoQCAtm16bl2ExmELPHH8lLOrB/MUCrcBYuoxuJMhbJHiU3ZOQ4s1hc4J7XtmBaTSlW3HAWZo0qx6+f24BD/kgajs5kCp0uH3mtv0zB+arpysLtCEXx+5fq8d8v1aPFH07LMZnMIhiJI8dL8HrkyKGMznmSy1goLTvWpfWN2HqgA989bQJ8Xg9uXjAdTR1hPLpyh/qDMxmD7N6ZDiYkynW28lOPEAJfeeAd3PXaFvzxtS34ygPvJNq2MYxDMBKTms8go3Oe9CQiQH2SxWv1jSjK9WL+tGoAwPTaMhw/tgIPLd/B80iZBLKTDkzqRJQgDV/21U2NeH9nC35z/gzc+5VjsH53K+5ZukX5cZnMIiS5plvLVn6AeplbtuUg5oyrRI638/S/OncMdjT58fbWg2oPzmQMslt/GeTBBZC+pMD7/vMRRlYU4PPHjsQ500fg3OnV+Msb29Aeiqbh6EymILOrmINeWbhpKDTfcyiArQc6cNLEqsOeP3tqNQpyvFi8do/CozOZhOPClV7GInU1ffGkISTT1BHGio+bcdGxoxIb4ss/MR5toSgeW7lT7cGZjCIosaYbcMZvahQD7bRA1UndctvCnDdhyGHPF+R6cfqUoViyfh9i7MZloMKFa1ZmKkF9EtFbWw4AAE6Z3Lkhnj26ArNGleOf73JOA9OJ7MlKMoafqImByly0Cxv3tCHX50Hd8JIjXjtn+ggcaA/hvR3NCs+AyRTkD+CVskzGkA4X7psfHkBJvg9H15Yd9vwFx9Ri87521O9tU3wGTKYgPYlItxiox6N+h16/tw0ThxbD5z3y1E+dNBQeAt748IC6E2Ayhs4YqGwXrhkmqFXXrfYYy7YewLzxQ46Q50/NGAEPAc+u2a32BJiMIRiR68IFNMvCdVDp9qnf24a66iOtTwAoK8zBjJHlePPD/cqOz2QOqppPm+LCheLe1q3BCHY2BTBrdPkRr1UV52HehCF4cf1eZcdnMgvZLlxI2CAqiYGq4pA/gr2twR4VKACcMrEKa3YdQmuQmyqYTigquXOJaS5cQKkP13HPHlVd2u3rp9cNw5bGdjS0BNSdBJMxBKMxqV2ISMIFriYLV5HQbW60BK67+KfDSROrEIsLLP+Iy1lMJyTZAnUwxQD1ECn9rpv2tAJAjxvi0+qGAgD+U88eJcYeTSgziUjCGmqycBWJ3eZ9lgKdNLy4x/ccM6YcBTneRHYfYy7BqJosXFN8uERQ2phk4942lOb7MKIsv9vXJwwtRm15Af6zuVHZOTCZg5IYqFYuXPtR1f1lZ1MAOV7CiLKCHt+T5/NizrhKvMEK1HgcC1R2Fq4Z6lNOq7PeqN/bhikjSnvsMUxE+MTkoXhry0FEYtzaz3RCUbmjCWVkmSuyQNWwq09mdXwAACAASURBVNmPmvKCPpsJnzyxClv3d2A3x06MRlUrP1MghY0UhBDYvK8Nk3vxJgHAqZOHoj0UxXvbuTTNdCwLVKYL171EK4qBqpG6Xc0BjKzo2fp0cLoULeM4qNEEozF4CPBJmt7gYIgH17ZA1XzZQ4EI2oJRjKks6vV9J04cAp+H8J/NHAc1mWgsjmhcKHDh6pREpNwCDWBURWGf75tSXYLSfB9WbGtSdCZMJmD1zvRKG0OWmFBiiAaV0amlJ3Y2Wd6hUZW9b4hL83NwzJgKVqCGI3uYNqClC9e+wSgIVwQjMRxoD/XLAvV4CHPGVeLdj1mBmoz83plmYblw1WjQnc1+AMCoyr43xCdOGIINe1p53q/ByA7HALaHRcskIgU26K5ma8c6sh8WKADMGVeJbQc60NgalH4uTGYQisSlzwIFDEoiUtjKb2dT/xXovPFDIATwzjYOyZhKoquYRHmW4ZnKmHFmu+wda38sUACYM85qNs9WqLkEo3G5O1azqlik7NB7YkeTH2UFOSjNz+nzvbNGlyPP5+FRhQbT2VUsm2Og9qMKmXMs0Np+KtBpNaUozPXiXY6DGkswEpO7YzXMiUvkftxTT+xsDmB0P6xPwCpNO25sBd7mpEBj6bRAs7gXrsoki8a2EIiAocV5/Xp/jteDY8dUsAI1mGBE7gR7B0MMUHgUJhHtavL3mUCUzLzxQ7BpbxuaOsJqTojRmlCiKYrcJCK3wpwxWbj724IYUpTX7RSWnpgzthKb9rahxc9CZxqLVjfgna1NWLOzBSfd9ioWrW5wv2ga5t3qBUFFIyIhBBpaAqgtH4ACtef/vstxUONYtLoBl/+/VQCAHz22Ro4sQ8c60IQFKnNVi/1tIQwt6Z/16TBnXCUAYMXHXIRtEotWN+D6J9cibHevaWgJ4Pon17oWPBPngarYDrcGoghF4xhe2n0Lv+6YUWu16GQ3rlk4snzQ9jwcaA9LkWUHvVy49qMqF+6wASrQmaPKkev18K7VMO5YUo+AHTNxCERiuGNJvat1DdOfypKIGtuszPhhA1CguT6PFQflRCKjUCXLgFPnrFMSkVIX7sAt0PwcL2aNKuc4qGH01MJRVmtHUzy4qhop7GsNAcCAN8TzJgzB5n3tONAekn9SjJaolGX9prEoGmcWjwvsT8ECBSw37rrdrWgPReWeFKMtNT3E1np6vr8kQhSGpBER1GThOhboQFy4gJVIBADL2Qo1BlWy7KCXC1fROLOWQATRuBiwBQpYCjQWF9yMWiKLVjfgpNtexbjrnpeXoCORhfPrUNAl+7Ygx4uF8+tcrWuaC1dVFm6qFuiM2jIU5XpZgUrEVFkG5HhYMmKcWSJmUjKwHSsAHDOmAl4PsRtXEk5Qv6ElAAF5CToyWTC7FrecPz3xd215AW69YAYWzK6Vsr45Llw1WbiNbUEU5/lQlOcb0Od8Xg+OH1fJiUSSyBRZvvWCGSixr5WasnxpsiyjzjkjYqD726wdayoWaHGeD9NrSlmBSqKnoP6PHluDW1/YmPi/GmzOnT4CAPCTc6bgrevOkCRw1qMh+hOAGnd1KgmBDvPGD8FH+7lFpwx6kuVfPL0Oq7Y3a1OutWB2Lb54/CgU5nqx7PozpW2E9YuBKmqk0Jiiy8dhzrhKvL+zJdHNgkmdhh6C99G4wANvbMPpv1uKF9ftTfNZHYlzYyjQbH5gJiGj0Lw7GluDGFaaogK160E5G9c9PSXitAajuPDeZTj/nmXYuKc1zWfVPf5IDIW5CpqimODCdbLuqlJWoEMQjsWxZmeLzNMyjhfX7e2xFrK2vACv/PBUTBxWjCseWjXobiBHgRbmDsxN2B802ZgrR1UzecsCHXg4BgCm1ZShJN/HcVCXdISiKOhBIY0ozcdvzp+BXc0BXHjvMiytb0zz2R1JMCx3shIAQNtxZpKlrtkfQa7Xg6IUdyDHj60AAHbjpogQAne/tgVXPLQKoyoKj+gv6wT1x1UV4ZHL52Lu+Er86LE1WL1j8BK3AmG79ZfEXauqJDld8SgaZ9bYmroL1+shnDCuEsu3siynyscHOnDeH95AIBw7Yth8QY4XPzl3Cr58wmgsvvpkjKsqwhUPrRpUWQYAfzh2RDKRW0iCBs2IcWbNHWFUFOWkPH6mvDAXU6pLeDJLCsTjAj9btA53LKnHZ2fW4KVrPoHbLzwateUFIByZoJOf48WfLjkOw0vz8V+PvI+OQSofchSobKEDDLJAAelJRIFwDIFIDJXFuSmvMXf8EGw70IG9hzgOOlA27G7F5+97G4cCETxy+Vz87qKZPcrysNJ8/P2bczC0JA9XPbwahwKDN481oMCFK6OzmFT/lqpxT83+MCoKUxc4wIqDPr5qFyKxOHIG0E/XZOJxgRsWrcU/392JK06dgJ+cUwciwoLZtb0G8ssKcvA/X5yFL/zpbdyzdAsWzp+SxrO26IyByrdATcHKUpRLk92XekiROwUKAG9vPYDzZ4+Ucl4msGp7Ey792woU5fnwyOXzMHFYCQD0KstVxXn448XH4MJ7l+Hm5zbgjotmput0DyMQUeDChXtjLyOycJv9YZQX9j03sDfmjKuEPxzD+t16BMV1Jx4X+OlTlvK86vSJCeXZX+aMq8T5s2tx/+vbErNc00lCgebyZilVrFZ+8r1JAFxtiKeOKEVZQQ6XswyA1zfvx1cfeBeVRbl47IpO5dkfZo0qx2WnjMNjq3YNWh5JIKzAAoV2SURqsnCb/RFUutixAtZkFoCnOfQHR3k+smInvn/GRFx79uSU3OcL59dBQOBP/9mq4Cx7JxEDlWmBKrq+tUVBEpEzjsyNPHvsOChn4vaPxWv34Ft/X4GxVUV47IoTMbKif3NYk7nq9ImoKs7DbS9sUnCGfROIxHpMekoVGUlyGWGBtvjDKHfpwh1Wmo9xVUWcSNQH8bjA9U9ayvPqMybih59MTXkCVrutzx87Eo+u3JlohpEuggqycI1z4QLShdlRoBUuN8TzJgzBzqbAoHg3MolHV+zAVQ+/h6NHluORy+emVEsPACX5Obji1PF4e+tBrByEXJJAOIaCHLkZ9UaMMxNCoNkfQYVLFy5gWaHvbmtCXEV7lSzAUZ6PrtyJq8+chGtcKE+Hyz8xAeFoHI+8u1PSWfYPPycRucYjoVNLVxwF6iYGCnTGQTkbt2fuf30rfvLEWpw8aSge/NYclBW4u4d++YTRqCzKxb1LP5J0hv3HskDlh2P0msZiP8p0cbUGo4jFheskIsBKgW8NRjH+p4u17Ps4mMTiAj9+4gM8unIn/uvMSa4sz2TGVRXhlElVePidHYja8znTgZIkIvvREP0JIiAu+b+s2R+Gh4DSfHc38417WuEha8Ayy/LhCCHwuyX1uGXxRpw3YwQe+NpxUjwxhbk+fOWE0Xi1vhE7m9Jr+fvDUek13Ua4cGUkHQBW38cn3tuV+FvHvo+DRTgax9X/XI3HV+3CNWdNxjWfnCx1/a/OHYO9rUEsrd8vdd3ecFy4+RJ3rTI2FJmEimksTR1WRr3Hk/q/5aLVDbjhqXWJEhuW5U6isTh++tRa3PXaFnzp+FH4w8WzkeuTJwNfPmE0PET4xzs7pK3ZF/G4QDASl56Fq18rPwXjzJr97pMOAKvvYyh6+HZa1mDWTCYQjuHyB1fi+bV78LPzjsJ/nTVJ+jHOmDIMFYU5WPR++m5wgXAMHgJyFZQsmeLCVTEPtKkj7Dr+qXLIcibjD0dx+YOrEpnzt14wA14XG5XuGFFWgNPrhuHJ93YhlqZQWDDq5DPoF47RfpxZi98q3nVbxqJ6yHImcrA9hEv+8g7+s3k/br1gBi47ZbyS4+R4PfjMzBq8vGEfWoPpKca2Cq99Uq1GVY1CdEZFFq7bzTDL8pE0tgVx8Z+XY2l9I245fzp+NH9gZWcD4cJjatHYFsJbWw4oWb8rypqiSPj30b4XbpMkF67qwayZxqa9rfjc3W9hbcMh3HXxMbh4zmilx/vcrFqEonH8e+M+pcdx8CvonamqUYiuWK385K7Z7A+jkmVZKu9ua8J5f3gTm/e140+XHIevnDBG6fHOOGoYSvN9aXOZq0oIlJGzo30nIseF61aBLpxfh+ufXHuY60fWYFadWbS6AXcsqcfulgBqygvwo7MnIxCJ49fPrUdpfg7+9Z15mDmqXPl5zB5VjmEleViybl9auscEFWTtGRcDJfk1r00dYRw7Rr4s5/s8WS/LwOHyPKIsH0ePLMfLG/dhTGUhHvrWCair7n+DhFTJ83lx9rRqvLR+b1o6uwUTTVGyvpWfHQOV6PhpDURABJTkuztVp13Vb1/chN2HgsjP8UgdsqwjzsBc50bT0BLAtY+tQVwAp0yqwu8vmolhpalNxRgoHg9h/rRqPLZqp1XTpSCekUxAQfNpB0MMUOnTWGSVpDkye8eS+sR4vStPn5jVsgwcKc+7DwWx+9BeHDumAv936fEocZnZPBDOOmo4Hl+1Cys+bsKJE6qUHktlSRpgGXypKlPtXbitwShK8nyusvYcFsyuxbLrz8RX7Eyyc2dUSzhDfeku2SIugNJ8H/5+6Zy0KU+H+dOqEYzE0xI7CUTUKVBTfLgEudNYOsIxxOLCdT0iYMnyW9edgVU/OwseAiIG1HZ3J88AsPdQMK3KE7A24Lk+D/69Uf2os87RhAqmscDdJlH7RgqtgQhKJQhcMmceNQz+cAzvZHkRdk/Dr9uCUSkbkoFy/LgK5Od48GY6FKgiK9ckL65sC7TVnuYhQ4E6DCnOw7FjKvDKhvTE1geDYCSGF9ft6VGeByN5qijPh5MmDMErG/cpb23pTHQqypNfBwroFAO1H6W6cIMR10XXXZk3vgp5Pg9e3dSIT0weKnVtt3SNWS6cX9cv11QsLrD9YAc27W3Du9uaelVSg5Vskefz4oRxQ/D6h+rrQdtDUdSUq7Gws9/WsZDRbDuZQwoUKAB8cupw/GbxJuxq9qfU51UVqcpyIBzDxr2tWLGtCSs+bsLyrU1oD0Xhoe7Hyw2WPJ81dThueGodtjS2Y9JwdbHXDtuFW5SnXx2o9klErcEoSgvk7jwKcr04aWIVXt3UiF9+Zqo2ySHdxSyve+IDHGwPYXJ1CQ62h3GwI4zmjjCa/GE0tYfR2BbEvtYQGtuCiMSsf/j8HA+OH1uJmSPL8PwHexBMqn8d7MSpUyZV4ebnNyZuKqpQ0bkEkK9UdEb2ODPHApXtUTrrKEuB/ntjI75+4lipa6dKd7J8/ZNrAQCfm1WDFn8E25v82H6wAzsO+hO/bz/oR2NbKLHO+KoifGZmDc6bMQL7WoP42aJ12iRCnjllOG7AOry8cZ9aBarIAnVwc42rUaAS12wNRDCqUv6u8owpw/DqpkZ8tL8DE4cVS18/FbqLcQSjcdz0/MbDnvOQ1ViiojAXw0rzcMK4Sgwrzcf4oUWoG16CKSNKkOezdmunTBqa0i5YFSdPshIO3vzwAL5w/Chlx+kIx6TvWAGzMnFlZ+GqskDHDy3GhKFFeGXjPm0UaE/NHn78+Af4xdPr0Bo8fND88NI8jKkswqmTh2LMkEJMHFaMY8dUHtH83eshbeS5uiwfM2rL8OrGRnzvtInKjuMoUBWt/AB3G2LJLlz5457aglHpLlzAUqAA8PKGfYOuQIUQWL61qccYBwA8cvlcDCvJQ2VRLkrzc/odw+xr+HW6qRtegqEleXhji1oF6g+psUABcxopyLa2HaWhQp4/ObUaD7yxFQfbQxhSnNrEEZn0JMvhWBxfPH4UxgwpxOjKQoytKsKoisJ+x+t1k+eTJ1Xh/te3KvP4AEBHyHbhSi9j0a2RgiILVLYLF7DiBrNGleOZNbulrz0Q3vhwPxbc/RYuvn85etKJteUFmDt+CMYPLUa5yz6igw0R4ZSJVXhrywFlU3HicWFboOzCdQNJnsaiygIFgPNn1yIaF3h2kOV5d0sANzy1tsf4Wm15AW5aMB2XnTIeZ0+rxuThJcpLulQyd/wQROMCq7Y3KztGRziK/BwPfIrqTd1c44qycOUIXSwu0BZSY4ECwIJZNdi4pxWb97UpWb83djb5cdnfV+CSv7yLJn8Yt5w/HbddcPQRpReDHbNUwcmTqtDUEcaGPa1K1ndcZ7J3rID8zFSdUZVEVOyyprs76qpLMK2mFE8OUkP51mAENz23AafdsRT/WrkTc8ZVIq9LE/dslOXjxlTA5yG8/ZG64eYdoSiKFFm3gFYuXAtZQtfuuHwU7FgB4NMza3DT8xuxaHUDfnzOFCXH6IoQAo+t3IVfPbseAHDduVNw6UljEzHLXJ9HmxiHKuZNsGY5vrutCdNry6Sv3xG2YyZKLNDMtf4HiuxWfq2BCEryfdIbnDtccMxI3PTcBny4r01pUktXXli7B798Zj32t4dw0bEjcfWZkzCyojDlLNxMoijPh6NHlmH5VsUKVIUs69eJyHqUJXNO4/FSBTtWAKgqzsPJE6vw9Pu78aOz65S7RjtCUfz4iQ/w/Ad7MHd8JX530cwj0u51i3GoYERZAWrLC7BqRzO+iXHS1/cripk4mOLCBQFxmbN9A/JL0pL57Mwa/GbxRjzxXgOuO1f9htgfjuLGZ9bjXyt3YVpNKe7/2nGHtcU0QZYBy43759e3KlN0HeGYkkksMjbD2o4zW7S6ARfcswwAcOviTcoaFy+YXYOGlgBWKvThA8D2gx244J5leGHtHvz4nDo8fNlcrWrW0s0xYyrwnqJ/83ZFWXsAADIsiUjSWotWN2DxWqsZgKoB2ENL8nDq5KFYtLpB+fD2TXtb8dm73sJjq3bhytMn4OkrT0pLT2kdmTfBioOquod2hKIoVlTCArjTV2qSiFxqUKeGan+7VQ/V5A8rG5h79tRqFOZ68a+VO6Wv7bCu4RAuvHcZ9rUF8fdvzsH3TpuY0YlAMjh2dDn2HAoq6aLi9M5UIXQm/a+RJA3qyLNTj6xyAPYXjhuFva1BvKywM9GL6/Ziwd1vocUfwYPfPAEL509RluCSCRxrx0FVuXE7wjE14RgJ4zfV9MJ1uU46B+YW5flw/uxaPLNmd2J0mkyWbTmAL/15OfJ8Xjx+xYk4ZZJenY8Gi+PGVgKAkuy9zhioql64apbVDYKcLNx0yvMnpw7HyIoC/PWtbdLXFkLg/te34rv/WIUp1aVY/F8nJ+qaTaYw14eZo8rVKdBQFMUqarrtR20sUEgoTAXSPzD3a/PGIhyN45/v7pC67uK1e/CNv61ATXk+Hv/uvEGvN9WJKdUlKMjxKlGgnTFQNbtWQ/Sn3UjB/TrplGevh3DpSeOw4uNmrPhYXq/raCyOny1ah1sWb8S506vtuuz0DmPQmePGVGB9QytC0SOb3btFVRaujCQiqQrUI2mcWboH5tZVl+ATk4fir29ugz8c7fsD/eCh5dtx5cPvYcbIMvzrO/MwoszMYb894fN6MGtUuRoLNBED1TPxIFPwSGrll255/vKc0agqzsWdr2yWsl5bMIJv/X0l/vHODlxx6gTcdfEx0oe1ZzqzRpUjHItjw275pWmqkpMc9JnGYj+63bUunF+X9nrIq8+YiIMdYTy0fLurdYQQuPOVzfjZonU4o24YHvrWCSh3OQw8Wzl2TAU27GmVtmlxcFy4qhIPVE+f0AWSlIW7cH4d8tNYE1mQ68UVp07AW1sOYmm9u3Fbu1sCuOi+t/HmlgO49YIZuO7cKcbnL3TH7NEVAID3d7ZIXVcIoa4tp4TOeVqOM1swuxa3XjAjcQOsLS9QPvz6uLGVOGVSFe56dUvKsVDHzXPnKx/iwmNG4r5Ljs3oLiOqOXZMBWJxgTU7D0ld10kiUhEDleXWzBRkfNcFs2vxi89MTfydDnn+2ryxGFdVhF8/tyFlt+L7O1uw4O630NAcwP9dejwunjNa8llmD9Vl+aguzcfqHXIVaCgaRywu1AyGkFB2qagO1L3ULZhdi3e2HcQrGxvx1nVnuF6vP/z801Nx7v++gdtf2ITbP390n+9PLpSuLstHZVEu1u9uxRWnTsBPzqkzqvF4Ksyy0/4/2NWSaK4gg45QFD4PIVdBZqTM0g7dkTmNxRkb+NvPH40vHKeuB7JDrs+DGz87DV//67v4/Uub8dNPHdXnZ5LluawwB+3BKKrL8vHgt05AXXX6GjNkKrNHl0u3QJ1wjMoyFjdo6cJ1aAuqrf/pyuThJfj2KePx6MqdfQ7odVLzG1oCEAD2HApi/e5WfP6Ykbju3CmsPPtBRVEuRlYU4IMG+RZoYa5Xyf+BSf+vBEgTZqc2tySN8nzq5KH4ygmj8efXt+KFtXt6fW9XeW7xRxAXAlecOoGVZz+ZNaocO5r8ONge6vvN/cSfmAVqUh2opPWs4HF6XaDXfHISpo4oxTWPvt9rj9zuUvMB4G2FLa2ykRm1ZVgnWYG2q046MMQE9UjMOHbacqrog9sbP//0VMweXY4fPPo+Xt3U86a4O3mOC+DepR+pPsWsQUUc1Nl4qelr7V5hSfZxyW0m3xGKKW0i3B15Pi/u//pxyM/14uI/L+8xS7SncUWqSm2ylem1Zdh+0J9oNC4Df1idArVcuGZoUCKS1sqvTfFQ5J7Iz/Higa8dh0nDi3HZ31fi9hc34ZD/8Gtt455WlmcJzKgtg9dDUuOgToKhqslKbpF6Vh7JFmh7KIqa8vTXWtWWF+DRy+fi6397FxfdtwxfOG4UPjuzBtVl+djXGsLS+sYeY2GqUvOzlRl2M/n1DYdw4kQ5RenWxkuR58IcD67UaSyOBZpOF67DkOI8PHL5PPzqmfW4d+lH+Oub2zCjtgxFeT5sP9iBjw/6WZ4lUJDrxZTqEqkWaFtQ/cbLzYZYchKRXAtUtSuuN8YPLcbzV5+C3y2px6MrduKRFZ2t/rwewoyRZajf24ZQtLPnZjaOK1KNo0DXSlWg6ob7Aua4cGVmHCeSQdLswnUozvPhjotm4hsnjcUTqxqwruEQmv1h1FWX4OsnjkWez4Obntt4mBuX5XngzBxVjufW7IYQQkq+gKNAyxTMhO5sPZv6GlqPM1NdQNsXpfk5+PXnpuPas+uwZmcLmjrCqCjKxcyRZSgvzDViXJFqKopyUVtegLUS46BtwSjGDFHTqN8gAxSAvCzcdk2yKafVlGFaTfcj9ApzfSzPLpleU4aH39mBXc0BjKp0L4PORK4SBVN8ZLSeVVPGIsvto7gLf38pK8hJpOEnY8q4ItXITiRqC0aUCBxgWBYuyfMmJVxxac5pGAgsz+6ZXlsKwBqgIUOBOtdNiQLPhQxZVjPOTMJakVgcoWhcCwXKqGXGyDJ8fNCf2G26pS0YVSJwDqZ0IpLZcMfZDHMXn+xm8vAS+DyEdbvlbIhbAxH4PHREZzqZaNSJyHqUcYPpGKSsPSb9TLfjoDKs0HhcoD0cVTaE3ahm8pCXhdseTH9JGpN+8nO8mDS8BOsa5PTEdTbDamq6rUdteuE6yBC5zpgJC122M73GcvvIaETdFopCCDUxE0BuZqruyEwi0iUcw6hnek0p1jUckmJIKQ3H2I/aNFLwSOqFC1ilCABQnKfmH4/Rhzc+PAAPATc/vxEn3faqq0HLbYmkA1UWqDkuSJnWdnsoimJFN0JGL+JC4GBHGOOuX+xanluDUZQqyMAFIGWembYu3PaQdSNkt09247RQi9uXTENLANc/uTZloetMOlB3szamkQJIaknaYNSAMull0eoGPLums22ie3mOoESxEeVGnrVt5deesEBZ6LKZ7lqoBSIx3LGkPqX1VGbtAQa6cCWt1Z7mvtbM4HDHknqEY/HDnnMjz60BdRZowv7UxYXbOV/N/VqcRGQGPbVKS7WFmnoXrpJltYSI5MZAB6mJApM+VMizupI092soskBluHD1KLxm1NJTq7RUW6ilx4VrBpa1LasONMKybAAq5FllSRqgURauzE5EiekNLHRZzcL5dUfUeLlpoeZYoKrKWAB5VpnuyHLhCiE4C9cQZMpzLC7QFoqiVFkWrnuPqaKB2u5hF64ZOJ1f7lhSj4aWAPJ8Htx6wYyUO8K0KrZAjXLhQs5mOBSNIy6AQk4IzHocub3puQ042BHGkKJc/PzTU1OS58QMWcXhGG2SiGSOM+sIx5DjJeT6lJSqMhqxYHYt3rruDFwwuxYVhbmu2qm1BaPweQj5OSqvGzNMUCKSEo7p4HCMUSyYXYtXfngqAOA7p45PfTMccLxJautA3SC5DlTeWoGw2okajH5MGVGCva1BNHeEU17DSjpQ07kEMDALV8J39YetLGuWZ3OoKMpFTVk+1rtojuLkMyirA7XRppGCc9OS0f7LH46hUNVMR0ZLplRbHYk27nUndCoTiGR259EdkhTv7XCGIrM8G8XUmlJX3cXaFE5iATRs5SczicgfjqGABc4ojhphKdBNe9pSXsOxQFVBBg00kzWNxekqxvJsFlNHlOKj/e0Idqnz7i+HlLtw3YccFXUicr+WPxzVevQRI5+hJXmoKs7Fxj1uLVDVae9mmKAEOdHegO3C5YRAs5haU4a4ADbtTW1D3Oy3QjkVRYo8StrVgUocZ8YWqJlMqS5NWeAAoCUQQXlBrsQzOhyjXLiSvqvjwuWQjFlMczkkotlvWaAVherkGdAqBmo9ynD7cAzUTI4aUYLN+9oQ7dIOrL+0+MPqdqyQk7mXKXgkZeH6w/oP02bkM7KiACX5PmzYk9qYwmZ/GLk+jzI9oF0WroMcC5RduCYypboUoWgcHx/sGPBnhRBo8UdQrnrHqnR1fSBCosm/G5wYKNeBmgURYeqI0pQzcZs7wqgozFGXUS9hepjcMhaPvE4KAXbhGsmUESUAgA0pJBK1haKIxgUqClVm4ZrTiUhW1yW2QM1lak0pNu1pQyyFnVizP6LUfaudBeqckIwylg524RrJxGHF8HkI9SmUsrR0WDET1RaoKVgbdDnhGABHtHhjsp9pNWUIRGIpeZQs7k6s8wAAA3RJREFUC1S9LGvTiUhmK79AOMaF1waS5/NiwtDilEpZEll7yl24ZpigsppG+MMxFOR4Oz1UjDFMtUvTUnHjNqvOZ5BQNaLlOLNoLI5wLM4WqKFMGVGSUiZuS8DJ2lMsdGboT2nN5DtCURRx/NNIJg4rRo6XUsrEVZ3PkLXjzPwRp/UXC52JTKkuRUNLIFFI3V9abAtUtdAZoj+tLFxpGfXsTTKRXJ8Hk4eXYMMAa7vjcYFmfxiVaXHhpo6WnYj8Ie6daTJOIlH9AK1Qp4euUgvUoEIWgqws3Chvhg1m6ohSbNh9aECbsbZgFHEBlKdBlrXpRARJMVA/F14bzVFOT9wB7lqdwuuyAnVCB8gbMq07JMkCDUQ4IdBkptaU4kB7GPvbQv3+TFMa8hm064XrkdTLL5G1x0JnJMNL81BemINNA8zEbfGHUZrvg8+rbpSZSS5cQGYMlL1JpjKtpgwAsH4AG2InIbCySO+MekVlLO7WcRQo142ZCRHhqOpSbBxgJm6zP4IKxQJnjgNXXsIUdxUzm0Rt9wASiZxwjEoXroM+Wbjk3qcMdLpw2QI1lykjSlC/tw3xAezGmv3htNSAGuLBtVv5uaeDu4oZTWl+DkZXFg5IgTru3qEleapOK6nDkSYxUPenYxEIcxau6RxVXYpAJIYdTf5+f8bK2lO7YyVJSiUTsJKIJGThhmLcxs9wptWUDigTtzEdCtR+1MgCtR7dylwHu3CNx3H7DCQOur8tpFTgAPNcuLIaKbAsm83UEaXYdqAD7aFov96/rzWIisIc5PnUbbz0qwOVNM4swC5c45k0rAQeQr/joLG4wIH2MIaV5Cs+M8OycF1KcywuEIhwX2vTmWqPNtvUTyu0sS2UFlkGNMrCTZSxSMrCZReuuRTkejG2qqjfFmhTRxixuFBugcKgLFwZrfyC3BSFQWcmbn/duI1tIQwrVe1N0m0aiyT/FjefZgAMKBPXSToYlg4XriEaVEa8NxBhWWas0rTKolysb+ifAt3fGlQfjpHQOY8GYi0S0X4A21M+GsOYwxghxNDBPomeYFlmmH7ToywPSIEyDMMwDGOhrmULwzAMw2QxrEAZhmEYJgVYgTIMwzBMCrACZRiGYZgUYAXKMAzDMCnACpRhGIZhUoAVKMMwDMOkACtQhmEYhkkBVqAMwzAMkwL/HzFy1EgKtChRAAAAAElFTkSuQmCC\n",
          "text/plain": "<Figure size 576x288 with 2 Axes>"
         },
         "metadata": {},
         "output_type": "display_data"
        }
       ]
      }
     },
     "3ace457855204263b53e534bb58e6228": {
      "model_module": "@jupyter-widgets/base",
      "model_module_version": "1.2.0",
      "model_name": "LayoutModel",
      "state": {}
     },
     "3b6d0cf515714e748d49358d1b8f6042": {
      "model_module": "@jupyter-widgets/controls",
      "model_module_version": "1.5.0",
      "model_name": "ToggleButtonsStyleModel",
      "state": {
       "button_width": "",
       "description_width": ""
      }
     },
     "4080f77ccd154832b06c3f69aa591b6a": {
      "model_module": "@jupyter-widgets/base",
      "model_module_version": "1.2.0",
      "model_name": "LayoutModel",
      "state": {}
     },
     "450adaaa9a384b6cb338c4adc497bcf3": {
      "model_module": "@jupyter-widgets/controls",
      "model_module_version": "1.5.0",
      "model_name": "SliderStyleModel",
      "state": {
       "description_width": ""
      }
     },
     "4d9ec1cae734426681a52d21ae95994b": {
      "model_module": "@jupyter-widgets/controls",
      "model_module_version": "1.5.0",
      "model_name": "SliderStyleModel",
      "state": {
       "description_width": "initial"
      }
     },
     "514c303575614418812584ee5b4d4ec1": {
      "model_module": "@jupyter-widgets/base",
      "model_module_version": "1.2.0",
      "model_name": "LayoutModel",
      "state": {}
     },
     "5162838128fb46d5a5d0cacc3596e076": {
      "model_module": "@jupyter-widgets/controls",
      "model_module_version": "1.5.0",
      "model_name": "VBoxModel",
      "state": {
       "_dom_classes": [
        "widget-interact"
       ],
       "children": [
        "IPY_MODEL_7f1f0f60c5d24e428a26ff4e923d92d4",
        "IPY_MODEL_fdabeffd233847ae96af1ea096ccd85a",
        "IPY_MODEL_d4cbb460520f482f98f7ff5a319c29e5"
       ],
       "layout": "IPY_MODEL_a139101096514885b9cb1bc4172a08dc"
      }
     },
     "5ab490e2d0ce440eab857e59fe9d228c": {
      "model_module": "@jupyter-widgets/output",
      "model_module_version": "1.0.0",
      "model_name": "OutputModel",
      "state": {
       "layout": "IPY_MODEL_7a4095d11d2144daaa046926a4771526"
      }
     },
     "5ed64d5076834dd8b50af6f49fc594c4": {
      "model_module": "@jupyter-widgets/output",
      "model_module_version": "1.0.0",
      "model_name": "OutputModel",
      "state": {
       "layout": "IPY_MODEL_c60163f01963473d9e67bea69de013ce",
       "outputs": [
        {
         "data": {
          "image/png": "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\n",
          "text/plain": "<Figure size 576x288 with 2 Axes>"
         },
         "metadata": {},
         "output_type": "display_data"
        }
       ]
      }
     },
     "6c887d12edf64027a65a5c7180d7cf26": {
      "model_module": "@jupyter-widgets/controls",
      "model_module_version": "1.5.0",
      "model_name": "SliderStyleModel",
      "state": {
       "description_width": "initial"
      }
     },
     "712b847104474c589bc24e8a7545e662": {
      "model_module": "@jupyter-widgets/base",
      "model_module_version": "1.2.0",
      "model_name": "LayoutModel",
      "state": {}
     },
     "7a4095d11d2144daaa046926a4771526": {
      "model_module": "@jupyter-widgets/base",
      "model_module_version": "1.2.0",
      "model_name": "LayoutModel",
      "state": {}
     },
     "7f1f0f60c5d24e428a26ff4e923d92d4": {
      "model_module": "@jupyter-widgets/controls",
      "model_module_version": "1.5.0",
      "model_name": "ToggleButtonsModel",
      "state": {
       "_options_labels": [
        "MSE",
        "L1",
        "MSE+L1"
       ],
       "button_style": "",
       "description": "損失関数",
       "icons": [],
       "index": 0,
       "layout": "IPY_MODEL_2b23c49a48b04dbc82d6b966a408a533",
       "style": "IPY_MODEL_0a9c05c3adc44010a54278092e791b2d",
       "tooltips": []
      }
     },
     "833d353b673a474eb729c2f39b01c9c2": {
      "model_module": "@jupyter-widgets/controls",
      "model_module_version": "1.5.0",
      "model_name": "FloatLogSliderModel",
      "state": {
       "continuous_update": false,
       "description": "正則化の強さ $\\alpha$",
       "layout": "IPY_MODEL_bb0204416ddf41cd82d99f1292e24bb2",
       "max": -1,
       "min": -5,
       "step": 0.5,
       "style": "IPY_MODEL_6c887d12edf64027a65a5c7180d7cf26",
       "value": 1e-05
      }
     },
     "8839805295064d578eda599ad461058a": {
      "model_module": "@jupyter-widgets/base",
      "model_module_version": "1.2.0",
      "model_name": "LayoutModel",
      "state": {}
     },
     "8f359d0156e949d9ba4ea2760968b9e1": {
      "model_module": "jupyter-matplotlib",
      "model_module_version": "^0.7.2",
      "model_name": "ToolbarModel",
      "state": {
       "layout": "IPY_MODEL_712b847104474c589bc24e8a7545e662",
       "toolitems": [
        [
         "Home",
         "Reset original view",
         "home",
         "home"
        ],
        [
         "Back",
         "Back to previous view",
         "arrow-left",
         "back"
        ],
        [
         "Forward",
         "Forward to next view",
         "arrow-right",
         "forward"
        ],
        [
         "Pan",
         "Pan axes with left mouse, zoom with right",
         "arrows",
         "pan"
        ],
        [
         "Zoom",
         "Zoom to rectangle",
         "square-o",
         "zoom"
        ],
        [
         "Download",
         "Download plot",
         "floppy-o",
         "save_figure"
        ]
       ]
      }
     },
     "9235f11b8d3d4ce58eaa669bf438fbfd": {
      "model_module": "@jupyter-widgets/base",
      "model_module_version": "1.2.0",
      "model_name": "LayoutModel",
      "state": {}
     },
     "9dc89dcdaeda4eaf8742fed7d2523b67": {
      "model_module": "@jupyter-widgets/base",
      "model_module_version": "1.2.0",
      "model_name": "LayoutModel",
      "state": {}
     },
     "a139101096514885b9cb1bc4172a08dc": {
      "model_module": "@jupyter-widgets/base",
      "model_module_version": "1.2.0",
      "model_name": "LayoutModel",
      "state": {}
     },
     "a418c7469fc34948ac82305301d92506": {
      "model_module": "@jupyter-widgets/controls",
      "model_module_version": "1.5.0",
      "model_name": "SliderStyleModel",
      "state": {
       "description_width": ""
      }
     },
     "aaf1bc07929f4600b7bdad8ad7896be6": {
      "model_module": "@jupyter-widgets/controls",
      "model_module_version": "1.5.0",
      "model_name": "VBoxModel",
      "state": {
       "_dom_classes": [
        "widget-interact"
       ],
       "children": [
        "IPY_MODEL_c4fb3ffc58cb4cba97fb1b9249d2584c",
        "IPY_MODEL_c8a5b89e85464858a046c1612194ab48",
        "IPY_MODEL_5ab490e2d0ce440eab857e59fe9d228c"
       ],
       "layout": "IPY_MODEL_8839805295064d578eda599ad461058a"
      }
     },
     "bb0204416ddf41cd82d99f1292e24bb2": {
      "model_module": "@jupyter-widgets/base",
      "model_module_version": "1.2.0",
      "model_name": "LayoutModel",
      "state": {}
     },
     "c4fb3ffc58cb4cba97fb1b9249d2584c": {
      "model_module": "@jupyter-widgets/controls",
      "model_module_version": "1.5.0",
      "model_name": "ToggleButtonsModel",
      "state": {
       "_options_labels": [
        "MSE",
        "L2",
        "MSE+L2"
       ],
       "button_style": "",
       "description": "損失関数",
       "icons": [],
       "index": 0,
       "layout": "IPY_MODEL_d8d941b1f40548c3b2996f37c63db975",
       "style": "IPY_MODEL_3b6d0cf515714e748d49358d1b8f6042",
       "tooltips": []
      }
     },
     "c60163f01963473d9e67bea69de013ce": {
      "model_module": "@jupyter-widgets/base",
      "model_module_version": "1.2.0",
      "model_name": "LayoutModel",
      "state": {}
     },
     "c8a5b89e85464858a046c1612194ab48": {
      "model_module": "@jupyter-widgets/controls",
      "model_module_version": "1.5.0",
      "model_name": "FloatLogSliderModel",
      "state": {
       "continuous_update": false,
       "description": "$\\alpha$",
       "layout": "IPY_MODEL_9235f11b8d3d4ce58eaa669bf438fbfd",
       "max": 0,
       "min": -1,
       "step": 0.2,
       "style": "IPY_MODEL_a418c7469fc34948ac82305301d92506",
       "value": 0.1
      }
     },
     "d01591742d314266bcade572bd6c2f84": {
      "model_module": "@jupyter-widgets/base",
      "model_module_version": "1.2.0",
      "model_name": "LayoutModel",
      "state": {}
     },
     "d4cbb460520f482f98f7ff5a319c29e5": {
      "model_module": "@jupyter-widgets/output",
      "model_module_version": "1.0.0",
      "model_name": "OutputModel",
      "state": {
       "layout": "IPY_MODEL_d01591742d314266bcade572bd6c2f84"
      }
     },
     "d8d941b1f40548c3b2996f37c63db975": {
      "model_module": "@jupyter-widgets/base",
      "model_module_version": "1.2.0",
      "model_name": "LayoutModel",
      "state": {}
     },
     "dab36db0b6cf4ee18f61bb34a7d1d3f0": {
      "model_module": "@jupyter-widgets/controls",
      "model_module_version": "1.5.0",
      "model_name": "VBoxModel",
      "state": {
       "_dom_classes": [
        "widget-interact"
       ],
       "children": [
        "IPY_MODEL_833d353b673a474eb729c2f39b01c9c2",
        "IPY_MODEL_5ed64d5076834dd8b50af6f49fc594c4"
       ],
       "layout": "IPY_MODEL_339f60346eb9480da329872960c0223d"
      }
     },
     "ec3908a4d461486da4098f990b5f0825": {
      "model_module": "@jupyter-widgets/controls",
      "model_module_version": "1.5.0",
      "model_name": "VBoxModel",
      "state": {
       "_dom_classes": [
        "widget-interact"
       ],
       "children": [
        "IPY_MODEL_f1eba6d2ce4540b79009f99a732df561",
        "IPY_MODEL_3ab734055e8c4202a35d459524c6af67"
       ],
       "layout": "IPY_MODEL_31e12788f1334f2cacb0ea28b38b0540"
      }
     },
     "f1eba6d2ce4540b79009f99a732df561": {
      "model_module": "@jupyter-widgets/controls",
      "model_module_version": "1.5.0",
      "model_name": "FloatLogSliderModel",
      "state": {
       "continuous_update": false,
       "description": "正則化の強さ $\\alpha$",
       "layout": "IPY_MODEL_514c303575614418812584ee5b4d4ec1",
       "min": -7,
       "step": 1,
       "style": "IPY_MODEL_4d9ec1cae734426681a52d21ae95994b",
       "value": 1e-07
      }
     },
     "f7400c749b264035b90b12c5b62b2c3c": {
      "model_module": "jupyter-matplotlib",
      "model_module_version": "^0.7.2",
      "model_name": "MPLCanvasModel",
      "state": {
       "_cursor": "default",
       "_figure_label": "Figure 1",
       "_height": 288,
       "_width": 288,
       "layout": "IPY_MODEL_3ace457855204263b53e534bb58e6228",
       "toolbar": "IPY_MODEL_fcd03b99641a4ae4aab7b50696198462",
       "toolbar_position": "left"
      }
     },
     "fcd03b99641a4ae4aab7b50696198462": {
      "model_module": "jupyter-matplotlib",
      "model_module_version": "^0.7.2",
      "model_name": "ToolbarModel",
      "state": {
       "layout": "IPY_MODEL_266a617bc7a5461fa74d41a8e69b21c2",
       "toolitems": [
        [
         "Home",
         "Reset original view",
         "home",
         "home"
        ],
        [
         "Back",
         "Back to previous view",
         "arrow-left",
         "back"
        ],
        [
         "Forward",
         "Forward to next view",
         "arrow-right",
         "forward"
        ],
        [
         "Pan",
         "Pan axes with left mouse, zoom with right",
         "arrows",
         "pan"
        ],
        [
         "Zoom",
         "Zoom to rectangle",
         "square-o",
         "zoom"
        ],
        [
         "Download",
         "Download plot",
         "floppy-o",
         "save_figure"
        ]
       ]
      }
     },
     "fdabeffd233847ae96af1ea096ccd85a": {
      "model_module": "@jupyter-widgets/controls",
      "model_module_version": "1.5.0",
      "model_name": "IntSliderModel",
      "state": {
       "continuous_update": false,
       "description": "$\\alpha$",
       "layout": "IPY_MODEL_4080f77ccd154832b06c3f69aa591b6a",
       "step": 10,
       "style": "IPY_MODEL_450adaaa9a384b6cb338c4adc497bcf3",
       "value": 1
      }
     }
    },
    "version_major": 2,
    "version_minor": 0
   }
  }
 },
 "nbformat": 4,
 "nbformat_minor": 4
}
