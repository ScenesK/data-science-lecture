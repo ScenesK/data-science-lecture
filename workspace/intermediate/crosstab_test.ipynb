{
 "cells": [
  {
   "cell_type": "code",
   "execution_count": 1,
   "metadata": {},
   "outputs": [],
   "source": [
    "import numpy as np\n",
    "import pandas as pd\n",
    "from scipy import stats\n",
    "import statsmodels.api as sm\n",
    "import matplotlib.pyplot as plt\n",
    "import seaborn as sns\n",
    "from IPython.display import display\n",
    "pd.set_option('max_rows', 5)\n",
    "%matplotlib inline"
   ]
  },
  {
   "cell_type": "markdown",
   "metadata": {},
   "source": [
    "## 独立性の検定\n",
    "---\n",
    "2 変数が独立だとした場合の期待度数から実際の観測度数がどれくらい外れているかに基づいて検定を行う。"
   ]
  },
  {
   "cell_type": "markdown",
   "metadata": {},
   "source": [
    "### 周辺化\n",
    "---\n",
    "分割表で行または列方向にデータ数や確率などを集計することを周辺化という。  \n",
    "周辺化されたデータ数・確率をそれぞれ周辺度数・周辺確率と呼ぶ。\n",
    "\n",
    "<table class=\"text-center border background-default\">\n",
    "    <tr>\n",
    "        <td class=\"border-none\" colspan=\"5\">周辺度数</td>\n",
    "    </tr>\n",
    "    <tr>\n",
    "        <td class=\"border-none\" rowspan=\"2\" colspan=\"2\"></td>\n",
    "        <td colspan=\"2\">変数 $X$</td>\n",
    "        <th class=\"background-dark\" rowspan=\"2\">周辺度数</th>\n",
    "    </tr>\n",
    "    <tr>\n",
    "        <td class=\"border-bottom-bold\" style=\"min-width: 6.5em;\">カテゴリ $X_{1}$</td>\n",
    "        <td class=\"border-bottom-bold\" style=\"min-width: 6.5em;\">カテゴリ $X_{2}$</td>\n",
    "    </tr>\n",
    "    <tr>\n",
    "        <td rowspan=\"2\">変数 $Y$</td>\n",
    "        <td class=\"border-right-bold\">カテゴリ $Y_{1}$</td>\n",
    "        <td>$a$</td>\n",
    "        <td>$b$</td>\n",
    "        <td class=\"background-dark\">$a+b$</td>\n",
    "    </tr>\n",
    "    <tr>\n",
    "        <td class=\"border-right-bold\">カテゴリ $Y_{2}$</td>\n",
    "        <td>$c$</td>\n",
    "        <td>$d$</td>\n",
    "        <td class=\"background-dark\">$c+d$</td>\n",
    "    </tr>\n",
    "    <tr class=\"background-dark\">\n",
    "        <th class=\"border-bottom border-right-bold\" colspan=\"2\">周辺度数</th>\n",
    "        <td>$a+c$</td>\n",
    "        <td>$b+d$</td>\n",
    "    </tr>\n",
    "</table>\n",
    "\n",
    "<table class=\"text-center border background-default\">\n",
    "    <tr>\n",
    "        <td class=\"border-none\" colspan=\"5\">周辺確率</td>\n",
    "    </tr>\n",
    "    <tr>\n",
    "        <td class=\"border-none\" rowspan=\"2\" colspan=\"2\"></td>\n",
    "        <td colspan=\"2\">変数 $X$</td>\n",
    "        <th class=\"background-dark\" rowspan=\"2\">周辺確率</th>\n",
    "    </tr>\n",
    "    <tr>\n",
    "        <td class=\"border-bottom-bold\" style=\"min-width: 6.5em;\">カテゴリ $X_{1}$</td>\n",
    "        <td class=\"border-bottom-bold\" style=\"min-width: 6.5em;\">カテゴリ $X_{2}$</td>\n",
    "    </tr>\n",
    "    <tr>\n",
    "        <td rowspan=\"2\">変数 $Y$</td>\n",
    "        <td class=\"border-right-bold\">カテゴリ $Y_{1}$</td>\n",
    "        <td>$p(X_{1},Y{1})$</td>\n",
    "        <td>$p(X_{2},Y_{1})$</td>\n",
    "        <td class=\"background-dark\">$p(Y_{1})$</td>\n",
    "    </tr>\n",
    "    <tr>\n",
    "        <td class=\"border-right-bold\">カテゴリ $Y_{2}$</td>\n",
    "        <td>$p(X_{1},Y{2})$</td>\n",
    "        <td>$p(X_{2},Y_{2})$</td>\n",
    "        <td class=\"background-dark\">$p(Y_{2})$</td>\n",
    "    </tr>\n",
    "    <tr class=\"background-dark\">\n",
    "        <th class=\"border-bottom border-right-bold\" colspan=\"2\">周辺確率</th>\n",
    "        <td>$p(X_{1})$</td>\n",
    "        <td>$p(X_{2})$</td>\n",
    "    </tr>\n",
    "</table>"
   ]
  },
  {
   "cell_type": "markdown",
   "metadata": {},
   "source": [
    "###### 練習問題\n",
    "\n",
    "`titanic`データセットを行方向に`Survived`、列方向に`Class`をとって各セルが度数になっているものと確率 (= 全体に占める割合) になっているもの 2 種類の分割表を作成し、周辺度数・周辺確率を求める。"
   ]
  },
  {
   "cell_type": "code",
   "execution_count": 2,
   "metadata": {
    "hide_input": true
   },
   "outputs": [
    {
     "name": "stdout",
     "output_type": "stream",
     "text": [
      "titanic\n"
     ]
    },
    {
     "data": {
      "text/html": [
       "<div>\n",
       "<style scoped>\n",
       "    .dataframe tbody tr th:only-of-type {\n",
       "        vertical-align: middle;\n",
       "    }\n",
       "\n",
       "    .dataframe tbody tr th {\n",
       "        vertical-align: top;\n",
       "    }\n",
       "\n",
       "    .dataframe thead th {\n",
       "        text-align: right;\n",
       "    }\n",
       "</style>\n",
       "<table border=\"1\" class=\"dataframe\">\n",
       "  <thead>\n",
       "    <tr style=\"text-align: right;\">\n",
       "      <th></th>\n",
       "      <th>Class</th>\n",
       "      <th>Sex</th>\n",
       "      <th>Age</th>\n",
       "      <th>Survived</th>\n",
       "    </tr>\n",
       "  </thead>\n",
       "  <tbody>\n",
       "    <tr>\n",
       "      <th>1</th>\n",
       "      <td>3rd</td>\n",
       "      <td>Male</td>\n",
       "      <td>Child</td>\n",
       "      <td>No</td>\n",
       "    </tr>\n",
       "    <tr>\n",
       "      <th>2</th>\n",
       "      <td>3rd</td>\n",
       "      <td>Male</td>\n",
       "      <td>Child</td>\n",
       "      <td>No</td>\n",
       "    </tr>\n",
       "    <tr>\n",
       "      <th>...</th>\n",
       "      <td>...</td>\n",
       "      <td>...</td>\n",
       "      <td>...</td>\n",
       "      <td>...</td>\n",
       "    </tr>\n",
       "    <tr>\n",
       "      <th>2200</th>\n",
       "      <td>Crew</td>\n",
       "      <td>Female</td>\n",
       "      <td>Adult</td>\n",
       "      <td>Yes</td>\n",
       "    </tr>\n",
       "    <tr>\n",
       "      <th>2201</th>\n",
       "      <td>Crew</td>\n",
       "      <td>Female</td>\n",
       "      <td>Adult</td>\n",
       "      <td>Yes</td>\n",
       "    </tr>\n",
       "  </tbody>\n",
       "</table>\n",
       "<p>2201 rows × 4 columns</p>\n",
       "</div>"
      ],
      "text/plain": [
       "     Class     Sex    Age Survived\n",
       "1      3rd    Male  Child       No\n",
       "2      3rd    Male  Child       No\n",
       "...    ...     ...    ...      ...\n",
       "2200  Crew  Female  Adult      Yes\n",
       "2201  Crew  Female  Adult      Yes\n",
       "\n",
       "[2201 rows x 4 columns]"
      ]
     },
     "metadata": {},
     "output_type": "display_data"
    }
   ],
   "source": [
    "titanic = pd.read_csv('data/Titanic.csv')\n",
    "print('titanic')\n",
    "display(titanic)"
   ]
  },
  {
   "cell_type": "code",
   "execution_count": null,
   "metadata": {
    "solution2": "hidden",
    "solution2_first": true
   },
   "outputs": [],
   "source": []
  },
  {
   "cell_type": "code",
   "execution_count": 3,
   "metadata": {
    "solution2": "hidden"
   },
   "outputs": [
    {
     "data": {
      "text/html": [
       "<div>\n",
       "<style scoped>\n",
       "    .dataframe tbody tr th:only-of-type {\n",
       "        vertical-align: middle;\n",
       "    }\n",
       "\n",
       "    .dataframe tbody tr th {\n",
       "        vertical-align: top;\n",
       "    }\n",
       "\n",
       "    .dataframe thead th {\n",
       "        text-align: right;\n",
       "    }\n",
       "</style>\n",
       "<table border=\"1\" class=\"dataframe\">\n",
       "  <thead>\n",
       "    <tr style=\"text-align: right;\">\n",
       "      <th>Class</th>\n",
       "      <th>1st</th>\n",
       "      <th>2nd</th>\n",
       "      <th>3rd</th>\n",
       "      <th>Crew</th>\n",
       "      <th>All</th>\n",
       "    </tr>\n",
       "    <tr>\n",
       "      <th>Survived</th>\n",
       "      <th></th>\n",
       "      <th></th>\n",
       "      <th></th>\n",
       "      <th></th>\n",
       "      <th></th>\n",
       "    </tr>\n",
       "  </thead>\n",
       "  <tbody>\n",
       "    <tr>\n",
       "      <th>No</th>\n",
       "      <td>122</td>\n",
       "      <td>167</td>\n",
       "      <td>528</td>\n",
       "      <td>673</td>\n",
       "      <td>1490</td>\n",
       "    </tr>\n",
       "    <tr>\n",
       "      <th>Yes</th>\n",
       "      <td>203</td>\n",
       "      <td>118</td>\n",
       "      <td>178</td>\n",
       "      <td>212</td>\n",
       "      <td>711</td>\n",
       "    </tr>\n",
       "    <tr>\n",
       "      <th>All</th>\n",
       "      <td>325</td>\n",
       "      <td>285</td>\n",
       "      <td>706</td>\n",
       "      <td>885</td>\n",
       "      <td>2201</td>\n",
       "    </tr>\n",
       "  </tbody>\n",
       "</table>\n",
       "</div>"
      ],
      "text/plain": [
       "Class     1st  2nd  3rd  Crew   All\n",
       "Survived                           \n",
       "No        122  167  528   673  1490\n",
       "Yes       203  118  178   212   711\n",
       "All       325  285  706   885  2201"
      ]
     },
     "execution_count": 3,
     "metadata": {},
     "output_type": "execute_result"
    }
   ],
   "source": [
    "pd.crosstab(titanic['Survived'], titanic['Class'], margins=True)"
   ]
  },
  {
   "cell_type": "code",
   "execution_count": 4,
   "metadata": {
    "scrolled": true,
    "solution2": "hidden"
   },
   "outputs": [
    {
     "data": {
      "text/html": [
       "<div>\n",
       "<style scoped>\n",
       "    .dataframe tbody tr th:only-of-type {\n",
       "        vertical-align: middle;\n",
       "    }\n",
       "\n",
       "    .dataframe tbody tr th {\n",
       "        vertical-align: top;\n",
       "    }\n",
       "\n",
       "    .dataframe thead th {\n",
       "        text-align: right;\n",
       "    }\n",
       "</style>\n",
       "<table border=\"1\" class=\"dataframe\">\n",
       "  <thead>\n",
       "    <tr style=\"text-align: right;\">\n",
       "      <th>Class</th>\n",
       "      <th>1st</th>\n",
       "      <th>2nd</th>\n",
       "      <th>3rd</th>\n",
       "      <th>Crew</th>\n",
       "      <th>All</th>\n",
       "    </tr>\n",
       "    <tr>\n",
       "      <th>Survived</th>\n",
       "      <th></th>\n",
       "      <th></th>\n",
       "      <th></th>\n",
       "      <th></th>\n",
       "      <th></th>\n",
       "    </tr>\n",
       "  </thead>\n",
       "  <tbody>\n",
       "    <tr>\n",
       "      <th>No</th>\n",
       "      <td>0.055429</td>\n",
       "      <td>0.075875</td>\n",
       "      <td>0.239891</td>\n",
       "      <td>0.30577</td>\n",
       "      <td>0.676965</td>\n",
       "    </tr>\n",
       "    <tr>\n",
       "      <th>Yes</th>\n",
       "      <td>0.092231</td>\n",
       "      <td>0.053612</td>\n",
       "      <td>0.080872</td>\n",
       "      <td>0.09632</td>\n",
       "      <td>0.323035</td>\n",
       "    </tr>\n",
       "    <tr>\n",
       "      <th>All</th>\n",
       "      <td>0.147660</td>\n",
       "      <td>0.129487</td>\n",
       "      <td>0.320763</td>\n",
       "      <td>0.40209</td>\n",
       "      <td>1.000000</td>\n",
       "    </tr>\n",
       "  </tbody>\n",
       "</table>\n",
       "</div>"
      ],
      "text/plain": [
       "Class          1st       2nd       3rd     Crew       All\n",
       "Survived                                                 \n",
       "No        0.055429  0.075875  0.239891  0.30577  0.676965\n",
       "Yes       0.092231  0.053612  0.080872  0.09632  0.323035\n",
       "All       0.147660  0.129487  0.320763  0.40209  1.000000"
      ]
     },
     "execution_count": 4,
     "metadata": {},
     "output_type": "execute_result"
    }
   ],
   "source": [
    "pd.crosstab(titanic['Survived'], titanic['Class'], margins=True, normalize=True)"
   ]
  },
  {
   "cell_type": "markdown",
   "metadata": {},
   "source": [
    "### 確率的独立\n",
    "---\n",
    "確率変数 $X,Y$ について、 $X$ の値が高ければ $Y$ の値も高くなるなどの関係がなく、互いの値に無関係にそれぞれの値が決まることを独立という。  \n",
    "これは $p( x|y) =p( x) ,p( y|x) =p( y)$ ということであり、このとき $x,y$ の同時確率 (その値が同時に得られる確率) はそれぞれの確率の積になる。\n",
    "\n",
    "$$\n",
    "\\begin{align}\n",
    "    p( X,Y) & =p( X|Y) p( Y)\\\\\n",
    "     & \\\\\n",
    "     & =p( X) p( Y)\n",
    "\\end{align}\n",
    "$$"
   ]
  },
  {
   "cell_type": "markdown",
   "metadata": {
    "hide_input": false
   },
   "source": [
    "### 期待度数\n",
    "---\n",
    "2 変数が独立であるとした場合の各セルの度数の期待値。  \n",
    "セル $X_{i},Y_{j}$ の観測度数を $O_{ij}$ とすると期待度数 $E_{ij}$ は以下のように表される。\n",
    "\n",
    "<table class=\"text-center border background-default\">\n",
    "    <tr>\n",
    "        <td class=\"border-none\" colspan=\"7\">度数</td>\n",
    "    </tr>\n",
    "    <tr>\n",
    "        <td class=\"border-none\" rowspan=\"2\" colspan=\"2\"></td>\n",
    "        <td colspan=\"4\">変数 $X$</td>\n",
    "        <td class=\"border-bottom-bold\" rowspan=\"2\" style=\"min-width: 16em;\">周辺度数</td>\n",
    "    </tr>\n",
    "    <tr>\n",
    "        <td class=\"border-bottom-bold\" style=\"min-width: 11.5em;\">カテゴリ $X_{1}$</td>\n",
    "        <td class=\"border-bottom-bold\" style=\"min-width: 11.5em;\">カテゴリ $X_{2}$</td>\n",
    "        <td class=\"border-bottom-bold\">$\\cdots$</td>\n",
    "        <td class=\"border-bottom-bold\" style=\"min-width: 11.5em;\">カテゴリ $X_{k}$</td>\n",
    "    </tr>\n",
    "    <tr>\n",
    "        <td rowspan=\"4\">変数 $Y$</td>\n",
    "        <td class=\"border-right-bold\">カテゴリ $Y_{1}$</td>\n",
    "        <td>$O_{11}$</td>\n",
    "        <td>$O_{21}$</td>\n",
    "        <td>$\\cdots$</td>\n",
    "        <td>$O_{k1}$</td>\n",
    "        <td>$\\displaystyle \\sum ^{k}_{i=1} O_{i1}$</td>\n",
    "    </tr>\n",
    "    <tr>\n",
    "        <td class=\"border-right-bold\">カテゴリ $Y_{2}$</td>\n",
    "        <td>$O_{12}$</td>\n",
    "        <td>$O_{22}$</td>\n",
    "        <td></td>\n",
    "        <td>$O_{k2}$</td>\n",
    "        <td>$\\displaystyle \\sum ^{k}_{i=1} O_{i2}$</td>\n",
    "    </tr>\n",
    "    <tr>\n",
    "        <td class=\"border-right-bold\">$\\vdots$</td>\n",
    "        <td>$\\vdots$</td>\n",
    "        <td></td>\n",
    "        <td>$\\ddots$</td>\n",
    "        <td>$\\vdots$</td>\n",
    "        <td>$\\vdots$</td>\n",
    "    </tr>\n",
    "    <tr>\n",
    "        <td class=\"border-right-bold\">カテゴリ $Y_{l}$</td>\n",
    "        <td>$O_{1l}$</td>\n",
    "        <td>$O_{2l}$</td>\n",
    "        <td>$\\cdots$</td>\n",
    "        <td>$O_{kl}$</td>\n",
    "        <td>$\\displaystyle \\sum ^{k}_{i=1} O_{il}$</td>\n",
    "    </tr>\n",
    "    <tr>\n",
    "        <td class=\"border-right-bold\" colspan=\"2\">周辺度数</td>\n",
    "        <td>$\\displaystyle \\sum ^{l}_{j=1} O_{1j}$</td>\n",
    "        <td>$\\displaystyle \\sum ^{l}_{j=1} O_{2j}$</td>\n",
    "        <td>$\\cdots$</td>\n",
    "        <td>$\\displaystyle \\sum ^{l}_{j=1} O_{kj}$</td>\n",
    "        <td>$\\displaystyle N=\\sum ^{k}_{i=1}\\sum ^{l}_{j=1} O_{ij}$</td>\n",
    "    </tr>\n",
    "</table>\n",
    "\n",
    "<table class=\"text-center border background-default\">\n",
    "    <tr>\n",
    "        <td class=\"border-none\" colspan=\"7\">確率</td>\n",
    "    </tr>\n",
    "    <tr>\n",
    "        <td class=\"border-none\" rowspan=\"2\" colspan=\"2\"></td>\n",
    "        <td colspan=\"4\">変数 $X$</td>\n",
    "        <td class=\"border-bottom-bold\" rowspan=\"2\" style=\"min-width: 16em;\">周辺確率</td>\n",
    "    </tr>\n",
    "    <tr>\n",
    "        <td class=\"border-bottom-bold\" style=\"min-width: 11.5em;\">カテゴリ $X_{1}$</td>\n",
    "        <td class=\"border-bottom-bold\" style=\"min-width: 11.5em;\">カテゴリ $X_{2}$</td>\n",
    "        <td class=\"border-bottom-bold\">$\\cdots$</td>\n",
    "        <td class=\"border-bottom-bold\" style=\"min-width: 11.5em;\">カテゴリ $X_{k}$</td>\n",
    "    </tr>\n",
    "    <tr>\n",
    "        <td rowspan=\"4\">変数 $Y$</td>\n",
    "        <td class=\"border-right-bold\">カテゴリ $Y_{1}$</td>\n",
    "        <td>$p(X_{1},Y_{1})$</td>\n",
    "        <td>$p(X_{2},Y_{1})$</td>\n",
    "        <td>$\\cdots$</td>\n",
    "        <td>$p(X_{k},Y_{1})$</td>\n",
    "        <td>$\\displaystyle p( Y_{1}) =\\frac{\\sum ^{k}_{i=1} O_{i1}}{N}$</td>\n",
    "    </tr>\n",
    "    <tr>\n",
    "        <td class=\"border-right-bold\">カテゴリ $Y_{2}$</td>\n",
    "        <td>$p(X_{1},Y_{2})$</td>\n",
    "        <td>$p(X_{2},Y_{2})$</td>\n",
    "        <td>$\\cdots$</td>\n",
    "        <td>$p(X_{k},Y_{2})$</td>\n",
    "        <td>$\\displaystyle p( Y_{2}) =\\frac{\\sum ^{k}_{i=1} O_{i2}}{N}$</td>\n",
    "    </tr>\n",
    "    <tr>\n",
    "        <td class=\"border-right-bold\">$\\vdots$</td>\n",
    "        <td>$\\vdots$</td>\n",
    "        <td></td>\n",
    "        <td>$\\ddots$</td>\n",
    "        <td>$\\vdots$</td>\n",
    "        <td>$\\vdots$</td>\n",
    "    </tr>\n",
    "    <tr>\n",
    "        <td class=\"border-right-bold\">カテゴリ $Y_{l}$</td>\n",
    "        <td>$p(X_{1},Y_{l})$</td>\n",
    "        <td>$p(X_{2},Y_{l})$</td>\n",
    "        <td>$\\cdots$</td>\n",
    "        <td>$p(X_{k},Y_{l})$</td>\n",
    "        <td>$\\displaystyle p( Y_{l}) =\\frac{\\sum ^{k}_{i=1} O_{il}}{N}$</td>\n",
    "    </tr>\n",
    "    <tr>\n",
    "        <td class=\"border-right-bold\" colspan=\"2\">周辺確率</td>\n",
    "        <td>$\\displaystyle p( X_{1}) =\\frac{\\sum ^{l}_{j=1} O_{1j}}{N}$</td>\n",
    "        <td>$\\displaystyle p( X_{2}) =\\frac{\\sum ^{l}_{j=1} O_{2j}}{N}$</td>\n",
    "        <td>$\\cdots$</td>\n",
    "        <td>$\\displaystyle p( X_{k}) =\\frac{\\sum ^{l}_{j=1} O_{kj}}{N}$</td>\n",
    "        <td>$\\displaystyle \\sum ^{k}_{i=1} p( X_{i}) =\\sum ^{l}_{j=1} p( Y_{j}) =1$</td>\n",
    "    </tr>\n",
    "</table>\n",
    "\n",
    "<table class=\"text-center border background-default\">\n",
    "    <tr>\n",
    "        <td class=\"border-none\" colspan=\"7\">期待度数</td>\n",
    "    </tr>\n",
    "    <tr>\n",
    "        <td class=\"border-none\" rowspan=\"2\" colspan=\"2\"></td>\n",
    "        <td colspan=\"4\">変数 $X$</td>\n",
    "        <td class=\"border-bottom-bold\" rowspan=\"2\" style=\"min-width: 16em;\">周辺度数</td>\n",
    "    </tr>\n",
    "    <tr>\n",
    "        <td class=\"border-bottom-bold\" style=\"min-width: 11.5em;\">カテゴリ $X_{1}$</td>\n",
    "        <td class=\"border-bottom-bold\" style=\"min-width: 11.5em;\">カテゴリ $X_{2}$</td>\n",
    "        <td class=\"border-bottom-bold\">$\\cdots$</td>\n",
    "        <td class=\"border-bottom-bold\" style=\"min-width: 11.5em;\">カテゴリ $X_{k}$</td>\n",
    "    </tr>\n",
    "    <tr>\n",
    "        <td rowspan=\"4\">変数 $Y$</td>\n",
    "        <td class=\"border-right-bold\">カテゴリ $Y_{1}$</td>\n",
    "        <td>$\\displaystyle E_{11}=Np( X_{1}) p( Y_{1})$</td>\n",
    "        <td>$\\displaystyle E_{21}=Np( X_{2}) p( Y_{1})$</td>\n",
    "        <td>$\\cdots$</td>\n",
    "        <td>$\\displaystyle E_{k1}=Np( X_{k}) p( Y_{1})$</td>\n",
    "        <td>$\\displaystyle Np(Y_{1})=\\sum ^{k}_{i=1} O_{i1}$</td>\n",
    "    </tr>\n",
    "    <tr>\n",
    "        <td class=\"border-right-bold\">カテゴリ $Y_{2}$</td>\n",
    "        <td>$\\displaystyle E_{12}=Np( X_{1}) p( Y_{2})$</td>\n",
    "        <td>$\\displaystyle E_{22}=Np( X_{2}) p( Y_{2})$</td>\n",
    "        <td>$\\cdots$</td>\n",
    "        <td>$\\displaystyle E_{k2}=Np( X_{k}) p( Y_{2})$</td>\n",
    "        <td>$\\displaystyle Np(Y_{2})=\\sum ^{k}_{i=1} O_{i2}$</td>\n",
    "    </tr>\n",
    "    <tr>\n",
    "        <td class=\"border-right-bold\">$\\vdots$</td>\n",
    "        <td>$\\vdots$</td>\n",
    "        <td></td>\n",
    "        <td>$\\ddots$</td>\n",
    "        <td>$\\vdots$</td>\n",
    "        <td>$\\vdots$</td>\n",
    "    </tr>\n",
    "    <tr>\n",
    "        <td class=\"border-right-bold\">カテゴリ $Y_{l}$</td>\n",
    "        <td>$\\displaystyle E_{1l}=Np( X_{1}) p( Y_{l})$</td>\n",
    "        <td>$\\displaystyle E_{2l}=Np( X_{2}) p( Y_{l})$</td>\n",
    "        <td>$\\cdots$</td>\n",
    "        <td>$\\displaystyle E_{kl}=Np( X_{k}) p( Y_{l})$</td>\n",
    "        <td>$\\displaystyle Np(Y_{l})=\\sum ^{k}_{i=1} O_{il}$</td>\n",
    "    </tr>\n",
    "    <tr>\n",
    "        <td class=\"border-right-bold\" colspan=\"2\">周辺度数</td>\n",
    "        <td>$\\displaystyle Np(X_{1})=\\sum ^{l}_{j=1} O_{1j}$</td>\n",
    "        <td>$\\displaystyle Np(X_{2})=\\sum ^{l}_{j=1} O_{2j}$</td>\n",
    "        <td>$\\cdots$</td>\n",
    "        <td>$\\displaystyle Np(X_{k})=\\sum ^{l}_{j=1} O_{kj}$</td>\n",
    "        <td>$\\displaystyle \\sum ^{k}_{i=1} Np( X_{i}) =\\sum ^{l}_{j=1} Np( Y_{j}) =N$</td>\n",
    "    </tr>\n",
    "</table>"
   ]
  },
  {
   "cell_type": "markdown",
   "metadata": {},
   "source": [
    "### カイ二乗検定\n",
    "---\n",
    "統計量 $\\displaystyle \\chi ^{2} =\\sum ^{k}_{i=1}\\sum ^{l}_{j=1}\\frac{( O_{ij} -E_{ij})^{2}}{E_{ij}}$ が近似的に自由度 $(k-1)(l-1)$ の[カイ二乗分布](../beginner/population_mean_estimation.ipynb#$\\chi^2$-(%E3%82%AB%E3%82%A4%E4%BA%8C%E4%B9%97)-%E5%88%86%E5%B8%83)に従うことを利用して検定する。  \n",
    "自由度 $n-1$ のカイ二乗分布は $\\displaystyle X_{i} \\sim \\mathcal{N}\\left( \\mu _{i} ,\\sigma ^{2}_{i}\\right) ,Z_{i} =\\frac{X_{i} -\\mu _{i}}{\\sigma _{i}}$ とすると、 $\\displaystyle \\sum ^{n}_{i=1} Z^{2}_{i} =\\sum ^{n}_{i=1}\\frac{( X_{i} -\\mu _{i})^{2}}{\\sigma ^{2}_{i}}$ が従う分布。  \n",
    "二乗しているので、**常に両側検定**になる。"
   ]
  },
  {
   "cell_type": "markdown",
   "metadata": {},
   "source": [
    "### 注意点"
   ]
  },
  {
   "cell_type": "markdown",
   "metadata": {},
   "source": [
    "#### 2×2分割表の場合\n",
    "---\n",
    "$2\\times 2$ 分割表の場合には、対角の積 $\n",
    "\\displaystyle ( O_{11} O_{22} ,O_{12} O_{21})\n",
    "$ と周辺度数 $\n",
    "\\displaystyle \\left(\\sum ^{2}_{i=1} O_{i1} ,\\sum ^{2}_{i=1} O_{i2} ,\\sum ^{2}_{j=1} O_{1j} ,\\sum ^{2}_{j=1} O_{2j}\\right)\n",
    "$ を使って $\n",
    "\\displaystyle \\chi ^{2} =\\frac\n",
    "    {N( O_{12} O_{21} -O_{11} O_{22})^{2}}\n",
    "    {\\displaystyle \\sum ^{2}_{i=1} O_{i1}\\sum ^{2}_{i=1} O_{i2}\\sum ^{2}_{j=1} O_{1j}\\sum ^{2}_{j=1} O_{2j}}\n",
    "$ と表せる。 (下記参照)\n",
    "\n",
    "このとき、近似の精度が悪いのでイェーツの補正と呼ばれる修正を行った以下の値を検定統計量として使用する。\n",
    "\n",
    "$$\n",
    "\\displaystyle \\chi ^{2} =\\frac\n",
    "    {N\\left(\\displaystyle |O_{12} O_{21} -O_{11} O_{22} |-\\frac\n",
    "        {N}\n",
    "        {2}\n",
    "    \\right)^{2}}\n",
    "    {\\displaystyle \\sum ^{2}_{i=1} O_{i1}\\sum ^{2}_{i=1} O_{i2}\\sum ^{2}_{j=1} O_{1j}\\sum ^{2}_{j=1} O_{2j}}\n",
    "$$"
   ]
  },
  {
   "cell_type": "markdown",
   "metadata": {
    "solution2": "hidden",
    "solution2_first": true
   },
   "source": [
    "###### 参考"
   ]
  },
  {
   "cell_type": "markdown",
   "metadata": {
    "solution2": "hidden"
   },
   "source": [
    "$$\n",
    "\\begin{align}\n",
    "    \\chi ^{2} & =\\sum ^{2}_{i=1}\\sum ^{2}_{j=1}\\frac\n",
    "        {( O_{ij} -E_{ij})^{2}}\n",
    "        {E_{iJ}}\\\\\n",
    "     & \\\\\n",
    "     & =\\displaystyle \\sum ^{2}_{i=1}\\sum ^{2}_{j=1}\\frac\n",
    "         {\\left( \\displaystyle O_{ij} -\\frac\n",
    "             {\\displaystyle \\sum ^{2}_{l=1} O_{il}\\sum ^{2}_{k=1} O_{kj}}\n",
    "             {N}\n",
    "         \\right)^{2}}\n",
    "         {\\displaystyle \\frac\n",
    "             {\\displaystyle \\sum ^{2}_{l=1} O_{il}\\sum ^{2}_{k=1} O_{kj}}\n",
    "             {N}\n",
    "         }\\\\\n",
    "     & \\\\\n",
    "     & =\\displaystyle \\frac\n",
    "         {1}\n",
    "         {N}\n",
    "     \\sum ^{2}_{i=1}\\sum ^{2}_{j=1}\\frac\n",
    "         {{\\displaystyle \\left( NO_{ij} -\\sum ^{2}_{l=1} O_{il}\\sum ^{2}_{k=1} O_{kj}\\right)^{2}}}\n",
    "         {{\\displaystyle \\sum ^{2}_{l=1} O_{il}\\sum ^{2}_{k=1} O_{kj}}}\\\\\n",
    "     & \\\\\n",
    "     & =\\displaystyle \\frac\n",
    "         {1}\n",
    "         {N}\n",
    "     \\sum ^{2}_{i=1}\\sum ^{2}_{j=1}\\frac\n",
    "         {( NO_{ij} -( O_{i1} +O_{i2})( O_{1j} +O_{2j}))^{2}}\n",
    "         {\\displaystyle \\sum ^{2}_{l=1} O_{il}\\sum ^{2}_{k=1} O_{kj}}\\\\\n",
    "     & \\\\\n",
    "     & =\\displaystyle \\frac\n",
    "         {1}\n",
    "         {N}\n",
    "     \\left(\\frac\n",
    "         {( O_{12} O_{21} -O_{11} O_{22})^{2}}\n",
    "         {( O_{11} +O_{12})( O_{11} +O_{21})}\n",
    "     +\\frac\n",
    "         {( O_{12} O_{21} -O_{11} O_{22})^{2}}\n",
    "         {( O_{21} +O_{22})( O_{11} +O_{21})}\n",
    "     +\\frac\n",
    "         {( O_{12} O_{21} -O_{11} O_{22})^{2}}\n",
    "         {( O_{11} +O_{12})( O_{12} +O_{22})}\n",
    "     +\\frac\n",
    "         {( O_{12} O_{21} -O_{11} O_{22})^{2}}\n",
    "         {( O_{21} +O_{22})( O_{12} +O_{22})}\n",
    "     \\right)\\\\\n",
    "     & \\\\\n",
    "     & =\\displaystyle \\frac\n",
    "         {N^{2}( O_{12} O_{21} -O_{11} O_{22})^{2}}\n",
    "         {N( O_{11} +O_{12})( O_{11} +O_{21})( O_{21} +O_{22})( O_{12} +O_{22})}\\\\\n",
    "     & \\\\\n",
    "     & =\\displaystyle \\frac\n",
    "         {N( O_{12} O_{21} -O_{11} O_{22})^{2}}\n",
    "         {\\displaystyle \\sum ^{2}_{i=1} O_{i1}\\sum ^{2}_{i=1} O_{i2}\\sum ^{2}_{j=1} O_{1j}\\sum ^{2}_{j=1} O_{2j}}\n",
    "\\end{align}\n",
    "$$"
   ]
  },
  {
   "cell_type": "markdown",
   "metadata": {},
   "source": [
    "#### 期待度数・サンプルサイズが小さい場合\n",
    "---\n",
    "カイ二乗検定は近似を用いるため、以下の場合には近似の精度が悪く使用すべきでない。\n",
    "\n",
    "- サンプルサイズ $N$ が 20 以下\n",
    "- 期待度数 5 以下のセルが全体の 20% 以上ある\n",
    "- 期待度数 1 以下のセルが 1 つでもある\n",
    "\n",
    "以上の場合にはフィッシャーの正確確率検定など他の手段を検討する。"
   ]
  },
  {
   "cell_type": "markdown",
   "metadata": {},
   "source": [
    "###### 練習問題\n",
    "\n",
    "`titanic`データセットの`Class`と`Survived`を基準に分割表を作成する。"
   ]
  },
  {
   "cell_type": "code",
   "execution_count": 5,
   "metadata": {
    "hide_input": true
   },
   "outputs": [
    {
     "name": "stdout",
     "output_type": "stream",
     "text": [
      "titanic\n"
     ]
    },
    {
     "data": {
      "text/html": [
       "<div>\n",
       "<style scoped>\n",
       "    .dataframe tbody tr th:only-of-type {\n",
       "        vertical-align: middle;\n",
       "    }\n",
       "\n",
       "    .dataframe tbody tr th {\n",
       "        vertical-align: top;\n",
       "    }\n",
       "\n",
       "    .dataframe thead th {\n",
       "        text-align: right;\n",
       "    }\n",
       "</style>\n",
       "<table border=\"1\" class=\"dataframe\">\n",
       "  <thead>\n",
       "    <tr style=\"text-align: right;\">\n",
       "      <th></th>\n",
       "      <th>Class</th>\n",
       "      <th>Sex</th>\n",
       "      <th>Age</th>\n",
       "      <th>Survived</th>\n",
       "    </tr>\n",
       "  </thead>\n",
       "  <tbody>\n",
       "    <tr>\n",
       "      <th>1</th>\n",
       "      <td>3rd</td>\n",
       "      <td>Male</td>\n",
       "      <td>Child</td>\n",
       "      <td>No</td>\n",
       "    </tr>\n",
       "    <tr>\n",
       "      <th>2</th>\n",
       "      <td>3rd</td>\n",
       "      <td>Male</td>\n",
       "      <td>Child</td>\n",
       "      <td>No</td>\n",
       "    </tr>\n",
       "    <tr>\n",
       "      <th>...</th>\n",
       "      <td>...</td>\n",
       "      <td>...</td>\n",
       "      <td>...</td>\n",
       "      <td>...</td>\n",
       "    </tr>\n",
       "    <tr>\n",
       "      <th>2200</th>\n",
       "      <td>Crew</td>\n",
       "      <td>Female</td>\n",
       "      <td>Adult</td>\n",
       "      <td>Yes</td>\n",
       "    </tr>\n",
       "    <tr>\n",
       "      <th>2201</th>\n",
       "      <td>Crew</td>\n",
       "      <td>Female</td>\n",
       "      <td>Adult</td>\n",
       "      <td>Yes</td>\n",
       "    </tr>\n",
       "  </tbody>\n",
       "</table>\n",
       "<p>2201 rows × 4 columns</p>\n",
       "</div>"
      ],
      "text/plain": [
       "     Class     Sex    Age Survived\n",
       "1      3rd    Male  Child       No\n",
       "2      3rd    Male  Child       No\n",
       "...    ...     ...    ...      ...\n",
       "2200  Crew  Female  Adult      Yes\n",
       "2201  Crew  Female  Adult      Yes\n",
       "\n",
       "[2201 rows x 4 columns]"
      ]
     },
     "metadata": {},
     "output_type": "display_data"
    }
   ],
   "source": [
    "titanic = pd.read_csv('data/Titanic.csv')\n",
    "print('titanic')\n",
    "display(titanic)"
   ]
  },
  {
   "cell_type": "code",
   "execution_count": null,
   "metadata": {
    "solution2": "hidden",
    "solution2_first": true
   },
   "outputs": [],
   "source": []
  },
  {
   "cell_type": "code",
   "execution_count": 6,
   "metadata": {
    "solution2": "hidden"
   },
   "outputs": [
    {
     "data": {
      "text/html": [
       "<div>\n",
       "<style scoped>\n",
       "    .dataframe tbody tr th:only-of-type {\n",
       "        vertical-align: middle;\n",
       "    }\n",
       "\n",
       "    .dataframe tbody tr th {\n",
       "        vertical-align: top;\n",
       "    }\n",
       "\n",
       "    .dataframe thead th {\n",
       "        text-align: right;\n",
       "    }\n",
       "</style>\n",
       "<table border=\"1\" class=\"dataframe\">\n",
       "  <thead>\n",
       "    <tr style=\"text-align: right;\">\n",
       "      <th>Survived</th>\n",
       "      <th>No</th>\n",
       "      <th>Yes</th>\n",
       "    </tr>\n",
       "    <tr>\n",
       "      <th>Class</th>\n",
       "      <th></th>\n",
       "      <th></th>\n",
       "    </tr>\n",
       "  </thead>\n",
       "  <tbody>\n",
       "    <tr>\n",
       "      <th>1st</th>\n",
       "      <td>122</td>\n",
       "      <td>203</td>\n",
       "    </tr>\n",
       "    <tr>\n",
       "      <th>2nd</th>\n",
       "      <td>167</td>\n",
       "      <td>118</td>\n",
       "    </tr>\n",
       "    <tr>\n",
       "      <th>3rd</th>\n",
       "      <td>528</td>\n",
       "      <td>178</td>\n",
       "    </tr>\n",
       "    <tr>\n",
       "      <th>Crew</th>\n",
       "      <td>673</td>\n",
       "      <td>212</td>\n",
       "    </tr>\n",
       "  </tbody>\n",
       "</table>\n",
       "</div>"
      ],
      "text/plain": [
       "Survived   No  Yes\n",
       "Class             \n",
       "1st       122  203\n",
       "2nd       167  118\n",
       "3rd       528  178\n",
       "Crew      673  212"
      ]
     },
     "execution_count": 6,
     "metadata": {},
     "output_type": "execute_result"
    }
   ],
   "source": [
    "cross = pd.crosstab(titanic['Class'], titanic['Survived'])\n",
    "cross"
   ]
  },
  {
   "cell_type": "markdown",
   "metadata": {},
   "source": [
    "###### 練習問題\n",
    "\n",
    "上で作成した分割表を基に 2 変数`Class`と`Survived`が独立かどうかを検定するための統計量 $\\chi ^{2}$ を求める。"
   ]
  },
  {
   "cell_type": "code",
   "execution_count": null,
   "metadata": {
    "solution2": "hidden",
    "solution2_first": true
   },
   "outputs": [],
   "source": []
  },
  {
   "cell_type": "code",
   "execution_count": 7,
   "metadata": {
    "solution2": "hidden"
   },
   "outputs": [
    {
     "data": {
      "text/plain": [
       "190.40110361683327"
      ]
     },
     "execution_count": 7,
     "metadata": {},
     "output_type": "execute_result"
    }
   ],
   "source": [
    "E = stats.contingency.expected_freq(cross)\n",
    "chi2 = ((cross - E) ** 2 / E).values.sum()\n",
    "chi2"
   ]
  },
  {
   "cell_type": "markdown",
   "metadata": {},
   "source": [
    "###### 練習問題\n",
    "\n",
    "この検定に対応する帰無分布の確率密度関数と、上で求めた $\\chi ^{2}$ 統計量の位置をグラフ表示する。"
   ]
  },
  {
   "cell_type": "code",
   "execution_count": null,
   "metadata": {
    "solution2": "hidden",
    "solution2_first": true
   },
   "outputs": [],
   "source": []
  },
  {
   "cell_type": "code",
   "execution_count": 8,
   "metadata": {
    "solution2": "hidden"
   },
   "outputs": [
    {
     "data": {
      "image/png": "[encoded data removed]",
      "text/plain": [
       "<Figure size 432x288 with 1 Axes>"
      ]
     },
     "metadata": {
      "needs_background": "light"
     },
     "output_type": "display_data"
    }
   ],
   "source": [
    "x = np.linspace(0, chi2 * 1.1, 100)\n",
    "df = (cross.index.size - 1) * (cross.columns.size - 1)\n",
    "null_dist = stats.chi2(df)\n",
    "plt.plot(x, null_dist.pdf(x))\n",
    "sns.rugplot([chi2])\n",
    "plt.xticks([chi2])\n",
    "plt.show()"
   ]
  },
  {
   "cell_type": "markdown",
   "metadata": {},
   "source": [
    "###### 練習問題\n",
    "\n",
    "上で求めた検定統計量 $\\chi ^{2}$ に対応した $p$ 値を求める。"
   ]
  },
  {
   "cell_type": "code",
   "execution_count": null,
   "metadata": {
    "solution2": "hidden",
    "solution2_first": true
   },
   "outputs": [],
   "source": []
  },
  {
   "cell_type": "code",
   "execution_count": 9,
   "metadata": {
    "solution2": "hidden"
   },
   "outputs": [
    {
     "data": {
      "text/plain": [
       "4.999927529868003e-41"
      ]
     },
     "execution_count": 9,
     "metadata": {},
     "output_type": "execute_result"
    }
   ],
   "source": [
    "null_dist.sf(chi2)"
   ]
  },
  {
   "cell_type": "markdown",
   "metadata": {},
   "source": [
    "### Pythonでのカイ二乗検定の実行方法\n",
    "---\n",
    "`scipy.stats.chi2_contingency`や`statsmodels.stats.Table.test_nominal_association`を使用する。"
   ]
  },
  {
   "cell_type": "code",
   "execution_count": 10,
   "metadata": {},
   "outputs": [],
   "source": [
    "stats.chi2_contingency??"
   ]
  },
  {
   "cell_type": "code",
   "execution_count": 11,
   "metadata": {},
   "outputs": [
    {
     "data": {
      "text/plain": [
       "(190.40110361683327,\n",
       " 4.999927529868003e-41,\n",
       " 3,\n",
       " array([[220.01363017, 104.98636983],\n",
       "        [192.93502953,  92.06497047],\n",
       "        [477.93730123, 228.06269877],\n",
       "        [599.11403907, 285.88596093]]))"
      ]
     },
     "execution_count": 11,
     "metadata": {},
     "output_type": "execute_result"
    }
   ],
   "source": [
    "stats.chi2_contingency(cross)"
   ]
  },
  {
   "cell_type": "code",
   "execution_count": 12,
   "metadata": {},
   "outputs": [],
   "source": [
    "sm.stats.Table.test_nominal_association??"
   ]
  },
  {
   "cell_type": "code",
   "execution_count": 13,
   "metadata": {},
   "outputs": [
    {
     "name": "stdout",
     "output_type": "stream",
     "text": [
      "df          3\n",
      "pvalue      0.0\n",
      "statistic   190.4011036168333\n"
     ]
    }
   ],
   "source": [
    "print(sm.stats.Table(cross).test_nominal_association())"
   ]
  },
  {
   "cell_type": "markdown",
   "metadata": {},
   "source": [
    "## フィッシャーの正確確率検定\n",
    "---\n",
    "$2\\times 2$ 分割表において、超幾何分布に基づいて検定を行う。"
   ]
  },
  {
   "cell_type": "markdown",
   "metadata": {},
   "source": [
    "### 超幾何分布 (hypergeometric distribution)"
   ]
  },
  {
   "cell_type": "markdown",
   "metadata": {},
   "source": [
    "###### 練習問題\n",
    "\n",
    "赤・白の 2 種類の玉がそれぞれ 4 個・ 6 個入っている袋がある。ここから 5 個の玉を取り出した (袋に戻さずに 5 回玉を取り出した) ときに赤玉の含まれる個数を記録する。これを 10,000 回繰り返した結果をシミュレーションし、確率分布をグラフで表現する。"
   ]
  },
  {
   "cell_type": "code",
   "execution_count": null,
   "metadata": {
    "solution2": "hidden",
    "solution2_first": true
   },
   "outputs": [],
   "source": []
  },
  {
   "cell_type": "code",
   "execution_count": 14,
   "metadata": {
    "solution2": "hidden"
   },
   "outputs": [
    {
     "data": {
      "image/png": "[encoded data removed]",
      "text/plain": [
       "<Figure size 432x288 with 1 Axes>"
      ]
     },
     "metadata": {
      "needs_background": "light"
     },
     "output_type": "display_data"
    }
   ],
   "source": [
    "np.random.seed(1234)\n",
    "sample = 5\n",
    "reputation = int(1e4)\n",
    "counts = np.arange(sample + 1)\n",
    "bag = [1] * 4 + [0] * 6\n",
    "data = [\n",
    "    np.random.choice(bag, 5, replace=False).sum() for _ in range(reputation)\n",
    "]\n",
    "probs = [np.sum(data == c) / reputation for c in counts]\n",
    "plt.vlines(counts, 0, probs)\n",
    "plt.ylim((0, max(probs) * 1.1))\n",
    "plt.show()"
   ]
  },
  {
   "cell_type": "markdown",
   "metadata": {},
   "source": [
    "> 2 種類のものが混じった有限の母集団から非復元抽出 (一度取り出したものを戻さない抽出) を行ったときの一方 (成功) の個数の確率分布を超幾何分布という。"
   ]
  },
  {
   "cell_type": "code",
   "execution_count": 15,
   "metadata": {
    "hide_input": true
   },
   "outputs": [
    {
     "data": {
      "application/vnd.jupyter.widget-view+json": {
       "model_id": "180ceacdae334a91b327567cbabd188c",
       "version_major": 2,
       "version_minor": 0
      },
      "text/plain": [
       "interactive(children=(IntSlider(value=10, continuous_update=False, description='総数', max=15, min=2), IntSlider…"
      ]
     },
     "metadata": {},
     "output_type": "display_data"
    }
   ],
   "source": [
    "from helpers.crosstab_test import hypergeometric\n",
    "hypergeometric.show()"
   ]
  },
  {
   "cell_type": "markdown",
   "metadata": {},
   "source": [
    "総数 $N$ 、対象の個数 $K$ 、抽出数を $n$ とすると、超幾何分布の確率質量関数 (抽出した中に $x$ 個の対象が含まれる確率) は以下で表される。\n",
    "\n",
    "$$\\displaystyle p=\\frac{_{K} C_{x} \\cdot _{N-K} C_{n-x}}{_{N} C_{n}}$$"
   ]
  },
  {
   "cell_type": "markdown",
   "metadata": {},
   "source": [
    "### 超幾何分布と他の確率分布との関係\n",
    "---\n",
    "超幾何分布は有限母集団からの非復元抽出だが、復元抽出の場合 (無限母集団と考えても同様) は二項分布。  \n",
    "総数 $N$ が大きいときには超幾何分布は二項分布 $\\displaystyle Bi\\left(n,\\frac{K}{N}\\right)$ で近似可能。また、二項分布と同様に $n$ が大きい場合で、期待値 $\\displaystyle \\frac{nK}{N}$ が小さいときにはポアソン分布、大きいときには正規分布で近似可能。"
   ]
  },
  {
   "cell_type": "markdown",
   "metadata": {},
   "source": [
    "#### 超幾何分布の使用例\n",
    "---\n",
    "動物の生息数や漁業資源量などを推定する標識・再捕獲法に超幾何分布は使用可能。  \n",
    "まず $K$ 頭の動物を捕獲し、標識 (目印) をつけてから自然に放つ。時間をおいて再度 $n$ 頭を捕獲する。このとき $x$ 頭の標識のついた動物が含まれていると、全体の生息数 $\\displaystyle N=\\frac{Kn}{x}$ と推定できるが、この推定の精度を超幾何分布から求める。 (実際には $N$ が大きく計算が大変なので他の確率分布で近似したほうがよい)"
   ]
  },
  {
   "cell_type": "markdown",
   "metadata": {},
   "source": [
    "###### 練習問題\n",
    "\n",
    "10 匹の魚を捕獲し、標識をつけて湖に放ち、時間をおいて再度 10 匹を捕獲したところ、標識のついた魚が 2 匹含まれていた。  \n",
    "このとき、総数 $N$ を最小値から 2000 まで変化させたときの上の結果が得られる確率を格納した配列`probs`を作成し、折れ線グラフで表示する。"
   ]
  },
  {
   "cell_type": "code",
   "execution_count": null,
   "metadata": {
    "solution2": "hidden",
    "solution2_first": true
   },
   "outputs": [],
   "source": []
  },
  {
   "cell_type": "code",
   "execution_count": 16,
   "metadata": {
    "solution2": "hidden"
   },
   "outputs": [
    {
     "data": {
      "image/png": "[encoded data removed]",
      "text/plain": [
       "<Figure size 432x288 with 1 Axes>"
      ]
     },
     "metadata": {
      "needs_background": "light"
     },
     "output_type": "display_data"
    }
   ],
   "source": [
    "K = 10\n",
    "n = 10\n",
    "x = 2\n",
    "N_min = K + n - x\n",
    "N = N_min\n",
    "probs = [stats.hypergeom(N, K, n).pmf(x) for N in range(N_min, 2001)]\n",
    "NN = np.arange(len(probs)) + N_min\n",
    "plt.plot(NN, probs)\n",
    "plt.show()"
   ]
  },
  {
   "cell_type": "markdown",
   "metadata": {},
   "source": [
    "###### 練習問題\n",
    "\n",
    "上で作成した`probs`の $100\\%$ 積み上げ折れ線グラフを表示する。 (積み上げた結果の値は配列`cumsum`に格納)"
   ]
  },
  {
   "cell_type": "code",
   "execution_count": null,
   "metadata": {
    "solution2": "hidden",
    "solution2_first": true
   },
   "outputs": [],
   "source": []
  },
  {
   "cell_type": "code",
   "execution_count": 17,
   "metadata": {
    "solution2": "hidden"
   },
   "outputs": [
    {
     "data": {
      "image/png": "[encoded data removed]",
      "text/plain": [
       "<Figure size 432x288 with 1 Axes>"
      ]
     },
     "metadata": {
      "needs_background": "light"
     },
     "output_type": "display_data"
    }
   ],
   "source": [
    "cumsum = np.cumsum(probs)\n",
    "cumsum /= cumsum[-1]\n",
    "plt.plot(NN, cumsum)\n",
    "plt.show()"
   ]
  },
  {
   "cell_type": "markdown",
   "metadata": {},
   "source": [
    "###### 練習問題\n",
    "\n",
    "この標識・再捕獲法の推定量の $95\\%$ 信頼区間の概算値 (`cumsum`の $2.5\\%$ ・$97.5\\%$ に対応する総数 $N$) を求める。 (区間内に含まれる最小・最大の整数でよい)"
   ]
  },
  {
   "cell_type": "code",
   "execution_count": null,
   "metadata": {
    "solution2": "hidden",
    "solution2_first": true
   },
   "outputs": [],
   "source": []
  },
  {
   "cell_type": "code",
   "execution_count": 18,
   "metadata": {
    "solution2": "hidden"
   },
   "outputs": [
    {
     "data": {
      "text/plain": [
       "(31, 1235)"
      ]
     },
     "execution_count": 18,
     "metadata": {},
     "output_type": "execute_result"
    }
   ],
   "source": [
    "(NN[cumsum >= 0.025][0], NN[cumsum <= 0.975][-1])"
   ]
  },
  {
   "cell_type": "markdown",
   "metadata": {},
   "source": [
    "### フィッシャーの正確確率検定 (Fisher's exact test)\n",
    "---\n",
    "以下のような分割表を考える。\n",
    "\n",
    "<table class=\"text-center border background-default\">\n",
    "    <tr>\n",
    "        <td class=\"border-none\" rowspan=\"2\" colspan=\"2\"></td>\n",
    "        <td colspan=\"2\">変数 $X$</td>\n",
    "        <td class=\"border-bottom-bold\" rowspan=\"2\">周辺度数</td>\n",
    "    </tr>\n",
    "    <tr>\n",
    "        <td class=\"border-bottom-bold\" style=\"min-width: 6.5em;\">カテゴリ $X_{1}$</td>\n",
    "        <td class=\"border-bottom-bold\" style=\"min-width: 6.5em;\">カテゴリ $X_{2}$</td>\n",
    "    </tr>\n",
    "    <tr>\n",
    "        <td rowspan=\"2\">変数 $Y$</td>\n",
    "        <td class=\"border-right-bold\">カテゴリ $Y_{1}$</td>\n",
    "        <td>$a$</td>\n",
    "        <td>$b$</td>\n",
    "        <td>$a+b$</td>\n",
    "    </tr>\n",
    "    <tr>\n",
    "        <td class=\"border-right-bold\">カテゴリ $Y_{2}$</td>\n",
    "        <td>$c$</td>\n",
    "        <td>$d$</td>\n",
    "        <td>$c+d$</td>\n",
    "    </tr>\n",
    "    <tr>\n",
    "        <td class=\"border-right-bold\" colspan=\"2\">周辺度数</td>\n",
    "        <td>$a+c$</td>\n",
    "        <td>$b+d$</td>\n",
    "        <td>$n$</td>\n",
    "    </tr>\n",
    "</table>\n",
    "\n",
    "この分割表が得られる確率は、総数 $n$ のうち対象が $a+c$ 入った袋から $a+b$ 取り出したときに対象が $a$ 入っている ($N=n,K=a+c,n=a+b,x=a$) 確率と考えると超幾何分布を用いて以下のように表される。\n",
    "\n",
    "$$\n",
    "\\begin{align}\n",
    "    p & =\\frac\n",
    "        {_{a+c} C_{a} \\cdot _{b+d} C_{b}}\n",
    "        {_{n} C_{a+b}}\\\\\n",
    "     & \\\\\n",
    "     & =\\frac\n",
    "         {\\displaystyle \\frac\n",
    "             {( a+c) !}\n",
    "             {a!( a+c-a) !}\n",
    "         \\cdot \\frac\n",
    "             {( b+d) !}\n",
    "             {b!( b+d-b) !}\n",
    "         }\n",
    "         {\\displaystyle \\frac\n",
    "             {n!}\n",
    "             {( a+b!)( n-a-b) !}\n",
    "         }\\\\\n",
    "     & \\\\\n",
    "     & =\\frac\n",
    "         {( a+b!)( c+d) !( a+c) !( b+d) !}\n",
    "         {n!a!b!c!d!}\n",
    "\\end{align}\n",
    "$$\n",
    "\n",
    "検定のための $p$ 値はサンプルの確率 (密度) よりも小さい値の合計。"
   ]
  },
  {
   "cell_type": "code",
   "execution_count": 19,
   "metadata": {
    "hide_input": true
   },
   "outputs": [
    {
     "data": {
      "image/png": "[encoded data removed]",
      "text/plain": [
       "<Figure size 288x576 with 2 Axes>"
      ]
     },
     "metadata": {
      "needs_background": "light"
     },
     "output_type": "display_data"
    }
   ],
   "source": [
    "from helpers.crosstab_test import pvalue\n",
    "pvalue.show()"
   ]
  },
  {
   "cell_type": "markdown",
   "metadata": {},
   "source": [
    "$2\\times 2$ 分割表の周辺度数が与えられた場合、 1 つのセルの値が定まると全体の値が決まる。\n",
    "\n",
    "<table class=\"text-center border background-default\">\n",
    "    <tr>\n",
    "        <td class=\"border-none\" rowspan=\"2\" colspan=\"2\"></td>\n",
    "        <td colspan=\"2\">変数 $X$</td>\n",
    "        <td class=\"border-bottom-bold\" rowspan=\"2\">周辺度数</td>\n",
    "    </tr>\n",
    "    <tr>\n",
    "        <td class=\"border-bottom-bold\" style=\"min-width: 14em;\">カテゴリ $X_{1}$</td>\n",
    "        <td class=\"border-bottom-bold\" style=\"min-width: 14em;\">カテゴリ $X_{2}$</td>\n",
    "    </tr>\n",
    "    <tr>\n",
    "        <td rowspan=\"2\">変数 $Y$</td>\n",
    "        <td class=\"border-right-bold\">カテゴリ $Y_{1}$</td>\n",
    "        <td>$x$</td>\n",
    "        <td>$A-x$</td>\n",
    "        <td>$A$</td>\n",
    "    </tr>\n",
    "    <tr>\n",
    "        <td class=\"border-right-bold\">カテゴリ $Y_{2}$</td>\n",
    "        <td>$C-x$</td>\n",
    "        <td>$D-A+x=B-C+x$</td>\n",
    "        <td>$B$</td>\n",
    "    </tr>\n",
    "    <tr>\n",
    "        <td class=\"border-right-bold\" colspan=\"2\">周辺度数</td>\n",
    "        <td>$C$</td>\n",
    "        <td>$D$</td>\n",
    "        <td>$N$</td>\n",
    "    </tr>\n",
    "</table>\n",
    "\n",
    "<table class=\"text-center border background-default\">\n",
    "    <tr>\n",
    "        <td class=\"border-none\" colspan=\"5\">具体例</td>\n",
    "    </tr>\n",
    "    <tr>\n",
    "        <td class=\"border-none\" rowspan=\"2\" colspan=\"2\"></td>\n",
    "        <td colspan=\"2\">変数 $X$</td>\n",
    "        <td class=\"border-bottom-bold\" rowspan=\"2\">周辺度数</td>\n",
    "    </tr>\n",
    "    <tr>\n",
    "        <td class=\"border-bottom-bold\" style=\"min-width: 14em;\">カテゴリ $X_{1}$</td>\n",
    "        <td class=\"border-bottom-bold\" style=\"min-width: 14em;\">カテゴリ $X_{2}$</td>\n",
    "    </tr>\n",
    "    <tr>\n",
    "        <td rowspan=\"2\">変数 $Y$</td>\n",
    "        <td class=\"border-right-bold\">カテゴリ $Y_{1}$</td>\n",
    "        <td>$x$</td>\n",
    "        <td>$10-x$</td>\n",
    "        <td>$10$</td>\n",
    "    </tr>\n",
    "    <tr>\n",
    "        <td class=\"border-right-bold\">カテゴリ $Y_{2}$</td>\n",
    "        <td>$13-x$</td>\n",
    "        <td>$1+x$</td>\n",
    "        <td>$14$</td>\n",
    "    </tr>\n",
    "    <tr>\n",
    "        <td class=\"border-right-bold\" colspan=\"2\">周辺度数</td>\n",
    "        <td>$13$</td>\n",
    "        <td>$11$</td>\n",
    "        <td>$24$</td>\n",
    "    </tr>\n",
    "</table>\n",
    "\n",
    "以上を利用して、サンプルである分割表よりも観測される確率が低い分割表 (片側検定の場合は対応するセルの値が大きい／小さいものに限定) の確率を合計した値を $p$ 値とする。"
   ]
  },
  {
   "cell_type": "markdown",
   "metadata": {},
   "source": [
    "###### 練習問題\n",
    "\n",
    "分割表`cross`を元にフィッシャーの正確確率検定 (両側) の $p$ 値を求める。"
   ]
  },
  {
   "cell_type": "code",
   "execution_count": 20,
   "metadata": {
    "hide_input": true
   },
   "outputs": [
    {
     "name": "stdout",
     "output_type": "stream",
     "text": [
      "cross\n"
     ]
    },
    {
     "data": {
      "text/html": [
       "<div>\n",
       "<style scoped>\n",
       "    .dataframe tbody tr th:only-of-type {\n",
       "        vertical-align: middle;\n",
       "    }\n",
       "\n",
       "    .dataframe tbody tr th {\n",
       "        vertical-align: top;\n",
       "    }\n",
       "\n",
       "    .dataframe thead th {\n",
       "        text-align: right;\n",
       "    }\n",
       "</style>\n",
       "<table border=\"1\" class=\"dataframe\">\n",
       "  <thead>\n",
       "    <tr style=\"text-align: right;\">\n",
       "      <th>X</th>\n",
       "      <th>0</th>\n",
       "      <th>1</th>\n",
       "    </tr>\n",
       "    <tr>\n",
       "      <th>Y</th>\n",
       "      <th></th>\n",
       "      <th></th>\n",
       "    </tr>\n",
       "  </thead>\n",
       "  <tbody>\n",
       "    <tr>\n",
       "      <th>0</th>\n",
       "      <td>1</td>\n",
       "      <td>9</td>\n",
       "    </tr>\n",
       "    <tr>\n",
       "      <th>1</th>\n",
       "      <td>11</td>\n",
       "      <td>3</td>\n",
       "    </tr>\n",
       "  </tbody>\n",
       "</table>\n",
       "</div>"
      ],
      "text/plain": [
       "X   0  1\n",
       "Y       \n",
       "0   1  9\n",
       "1  11  3"
      ]
     },
     "metadata": {},
     "output_type": "display_data"
    }
   ],
   "source": [
    "cross = pd.DataFrame([[1, 9], [11, 3]])\n",
    "cross.columns.name = 'X'\n",
    "cross.index.name = 'Y'\n",
    "print('cross')\n",
    "display(cross)"
   ]
  },
  {
   "cell_type": "code",
   "execution_count": null,
   "metadata": {
    "solution2": "hidden",
    "solution2_first": true
   },
   "outputs": [],
   "source": []
  },
  {
   "cell_type": "code",
   "execution_count": 21,
   "metadata": {
    "solution2": "hidden"
   },
   "outputs": [
    {
     "data": {
      "text/plain": [
       "0.002725804280522283"
      ]
     },
     "execution_count": 21,
     "metadata": {},
     "output_type": "execute_result"
    }
   ],
   "source": [
    "def probability(x):\n",
    "    distribution = stats.hypergeom(cross.values.sum(), cross[1].sum(), cross.loc[1].sum())\n",
    "    return distribution.pmf(x)\n",
    "\n",
    "thresh = probability(cross.loc[1, 1])\n",
    "probs = [probability(x) for x in range(min(cross[1].sum(), cross.loc[1].sum()))]\n",
    "sum([p for p in probs if p <= thresh])"
   ]
  },
  {
   "cell_type": "markdown",
   "metadata": {},
   "source": [
    "### 補足\n",
    "---\n",
    "フィッシャーの正確確率検定は $2\\times 2$ 分割表だけでなく、より大きな分割表でも実施できるがここでは扱わない。"
   ]
  },
  {
   "cell_type": "markdown",
   "metadata": {},
   "source": [
    "### Pythonでのフィッシャーの正確確率検定の実行方法\n",
    "---\n",
    "`scipy.stats.fisher_exact`を使用する。"
   ]
  },
  {
   "cell_type": "code",
   "execution_count": 22,
   "metadata": {},
   "outputs": [],
   "source": [
    "stats.fisher_exact??"
   ]
  },
  {
   "cell_type": "code",
   "execution_count": 23,
   "metadata": {},
   "outputs": [
    {
     "data": {
      "text/plain": [
       "(0.030303030303030304, 0.0027594561852200745)"
      ]
     },
     "execution_count": 23,
     "metadata": {},
     "output_type": "execute_result"
    }
   ],
   "source": [
    "stats.fisher_exact(cross)"
   ]
  }
 ],
 "metadata": {
  "kernelspec": {
   "display_name": "Python 3",
   "language": "python",
   "name": "python3"
  },
  "language_info": {
   "codemirror_mode": {
    "name": "ipython",
    "version": 3
   },
   "file_extension": ".py",
   "mimetype": "text/x-python",
   "name": "python",
   "nbconvert_exporter": "python",
   "pygments_lexer": "ipython3",
   "version": "3.7.4"
  },
  "toc": {
   "base_numbering": 1,
   "nav_menu": {},
   "number_sections": true,
   "sideBar": true,
   "skip_h1_title": true,
   "title_cell": "Table of Contents",
   "title_sidebar": "Contents",
   "toc_cell": false,
   "toc_position": {},
   "toc_section_display": true,
   "toc_window_display": true
  },
  "varInspector": {
   "cols": {
    "lenName": 16,
    "lenType": 16,
    "lenVar": 40
   },
   "kernels_config": {
    "python": {
     "delete_cmd_postfix": "",
     "delete_cmd_prefix": "del ",
     "library": "var_list.py",
     "varRefreshCmd": "print(var_dic_list())"
    },
    "r": {
     "delete_cmd_postfix": ") ",
     "delete_cmd_prefix": "rm(",
     "library": "var_list.r",
     "varRefreshCmd": "cat(var_dic_list()) "
    }
   },
   "types_to_exclude": [
    "module",
    "function",
    "builtin_function_or_method",
    "instance",
    "_Feature"
   ],
   "window_display": false
  }
 },
 "nbformat": 4,
 "nbformat_minor": 2
}
