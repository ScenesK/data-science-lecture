{
 "cells": [
  {
   "cell_type": "code",
   "execution_count": 1,
   "metadata": {},
   "outputs": [
    {
     "name": "stderr",
     "output_type": "stream",
     "text": [
      "/root/local/python-3.7.4/lib/python3.7/site-packages/sklearn/utils/deprecation.py:144: FutureWarning: The sklearn.neighbors.base module is  deprecated in version 0.22 and will be removed in version 0.24. The corresponding classes / functions should instead be imported from sklearn.neighbors. Anything that cannot be imported from sklearn.neighbors is now part of the private API.\n",
      "  warnings.warn(message, FutureWarning)\n",
      "/root/local/python-3.7.4/lib/python3.7/site-packages/sklearn/utils/deprecation.py:144: FutureWarning: The sklearn.ensemble.bagging module is  deprecated in version 0.22 and will be removed in version 0.24. The corresponding classes / functions should instead be imported from sklearn.ensemble. Anything that cannot be imported from sklearn.ensemble is now part of the private API.\n",
      "  warnings.warn(message, FutureWarning)\n",
      "/root/local/python-3.7.4/lib/python3.7/site-packages/sklearn/utils/deprecation.py:144: FutureWarning: The sklearn.ensemble.base module is  deprecated in version 0.22 and will be removed in version 0.24. The corresponding classes / functions should instead be imported from sklearn.ensemble. Anything that cannot be imported from sklearn.ensemble is now part of the private API.\n",
      "  warnings.warn(message, FutureWarning)\n",
      "/root/local/python-3.7.4/lib/python3.7/site-packages/sklearn/utils/deprecation.py:144: FutureWarning: The sklearn.ensemble.forest module is  deprecated in version 0.22 and will be removed in version 0.24. The corresponding classes / functions should instead be imported from sklearn.ensemble. Anything that cannot be imported from sklearn.ensemble is now part of the private API.\n",
      "  warnings.warn(message, FutureWarning)\n",
      "/root/local/python-3.7.4/lib/python3.7/site-packages/tensorflow/python/framework/dtypes.py:516: FutureWarning: Passing (type, 1) or '1type' as a synonym of type is deprecated; in a future version of numpy, it will be understood as (type, (1,)) / '(1,)type'.\n",
      "  _np_qint8 = np.dtype([(\"qint8\", np.int8, 1)])\n",
      "/root/local/python-3.7.4/lib/python3.7/site-packages/tensorflow/python/framework/dtypes.py:517: FutureWarning: Passing (type, 1) or '1type' as a synonym of type is deprecated; in a future version of numpy, it will be understood as (type, (1,)) / '(1,)type'.\n",
      "  _np_quint8 = np.dtype([(\"quint8\", np.uint8, 1)])\n",
      "/root/local/python-3.7.4/lib/python3.7/site-packages/tensorflow/python/framework/dtypes.py:518: FutureWarning: Passing (type, 1) or '1type' as a synonym of type is deprecated; in a future version of numpy, it will be understood as (type, (1,)) / '(1,)type'.\n",
      "  _np_qint16 = np.dtype([(\"qint16\", np.int16, 1)])\n",
      "/root/local/python-3.7.4/lib/python3.7/site-packages/tensorflow/python/framework/dtypes.py:519: FutureWarning: Passing (type, 1) or '1type' as a synonym of type is deprecated; in a future version of numpy, it will be understood as (type, (1,)) / '(1,)type'.\n",
      "  _np_quint16 = np.dtype([(\"quint16\", np.uint16, 1)])\n",
      "/root/local/python-3.7.4/lib/python3.7/site-packages/tensorflow/python/framework/dtypes.py:520: FutureWarning: Passing (type, 1) or '1type' as a synonym of type is deprecated; in a future version of numpy, it will be understood as (type, (1,)) / '(1,)type'.\n",
      "  _np_qint32 = np.dtype([(\"qint32\", np.int32, 1)])\n",
      "/root/local/python-3.7.4/lib/python3.7/site-packages/tensorflow/python/framework/dtypes.py:525: FutureWarning: Passing (type, 1) or '1type' as a synonym of type is deprecated; in a future version of numpy, it will be understood as (type, (1,)) / '(1,)type'.\n",
      "  np_resource = np.dtype([(\"resource\", np.ubyte, 1)])\n",
      "/root/local/python-3.7.4/lib/python3.7/site-packages/tensorboard/compat/tensorflow_stub/dtypes.py:541: FutureWarning: Passing (type, 1) or '1type' as a synonym of type is deprecated; in a future version of numpy, it will be understood as (type, (1,)) / '(1,)type'.\n",
      "  _np_qint8 = np.dtype([(\"qint8\", np.int8, 1)])\n",
      "/root/local/python-3.7.4/lib/python3.7/site-packages/tensorboard/compat/tensorflow_stub/dtypes.py:542: FutureWarning: Passing (type, 1) or '1type' as a synonym of type is deprecated; in a future version of numpy, it will be understood as (type, (1,)) / '(1,)type'.\n",
      "  _np_quint8 = np.dtype([(\"quint8\", np.uint8, 1)])\n",
      "/root/local/python-3.7.4/lib/python3.7/site-packages/tensorboard/compat/tensorflow_stub/dtypes.py:543: FutureWarning: Passing (type, 1) or '1type' as a synonym of type is deprecated; in a future version of numpy, it will be understood as (type, (1,)) / '(1,)type'.\n",
      "  _np_qint16 = np.dtype([(\"qint16\", np.int16, 1)])\n",
      "/root/local/python-3.7.4/lib/python3.7/site-packages/tensorboard/compat/tensorflow_stub/dtypes.py:544: FutureWarning: Passing (type, 1) or '1type' as a synonym of type is deprecated; in a future version of numpy, it will be understood as (type, (1,)) / '(1,)type'.\n",
      "  _np_quint16 = np.dtype([(\"quint16\", np.uint16, 1)])\n",
      "/root/local/python-3.7.4/lib/python3.7/site-packages/tensorboard/compat/tensorflow_stub/dtypes.py:545: FutureWarning: Passing (type, 1) or '1type' as a synonym of type is deprecated; in a future version of numpy, it will be understood as (type, (1,)) / '(1,)type'.\n",
      "  _np_qint32 = np.dtype([(\"qint32\", np.int32, 1)])\n",
      "/root/local/python-3.7.4/lib/python3.7/site-packages/tensorboard/compat/tensorflow_stub/dtypes.py:550: FutureWarning: Passing (type, 1) or '1type' as a synonym of type is deprecated; in a future version of numpy, it will be understood as (type, (1,)) / '(1,)type'.\n",
      "  np_resource = np.dtype([(\"resource\", np.ubyte, 1)])\n",
      "/root/local/python-3.7.4/lib/python3.7/site-packages/sklearn/utils/deprecation.py:144: FutureWarning: The sklearn.utils.testing module is  deprecated in version 0.22 and will be removed in version 0.24. The corresponding classes / functions should instead be imported from sklearn.utils. Anything that cannot be imported from sklearn.utils is now part of the private API.\n",
      "  warnings.warn(message, FutureWarning)\n",
      "/root/local/python-3.7.4/lib/python3.7/site-packages/sklearn/utils/deprecation.py:144: FutureWarning: The sklearn.metrics.classification module is  deprecated in version 0.22 and will be removed in version 0.24. The corresponding classes / functions should instead be imported from sklearn.metrics. Anything that cannot be imported from sklearn.metrics is now part of the private API.\n",
      "  warnings.warn(message, FutureWarning)\n",
      "/root/local/python-3.7.4/lib/python3.7/site-packages/sklearn/utils/deprecation.py:144: FutureWarning: The sklearn.datasets.base module is  deprecated in version 0.22 and will be removed in version 0.24. The corresponding classes / functions should instead be imported from sklearn.datasets. Anything that cannot be imported from sklearn.datasets is now part of the private API.\n",
      "  warnings.warn(message, FutureWarning)\n"
     ]
    }
   ],
   "source": [
    "import numpy as np\n",
    "import pandas as pd\n",
    "from sklearn import metrics\n",
    "from sklearn.linear_model import LogisticRegression\n",
    "from imblearn.datasets import fetch_datasets\n",
    "import matplotlib.pyplot as plt\n",
    "from IPython.display import display\n",
    "pd.set_option('max_rows', 5)\n",
    "%matplotlib inline"
   ]
  },
  {
   "cell_type": "markdown",
   "metadata": {},
   "source": [
    "## 不均衡データ (imbalanced data)\n",
    "---\n",
    "クラス $A$ とクラス $B$ のサンプルサイズが $A:B=1:99$ など極端な偏りのあるデータ。 $A$ を無視して全て $B$ と予測するモデルでも正解率99%を達成してしまう。単純に正解率などをモデルの評価指標とできないので、他の指標が必要。\n",
    "\n",
    "不均衡データを評価するには、まず混同行列を理解しないといけない。"
   ]
  },
  {
   "cell_type": "markdown",
   "metadata": {},
   "source": [
    "## 混同行列 (confusion matrix)\n",
    "---\n",
    "予測と正解ラベルの関係をマトリクス図にしたもの。\n",
    "\n",
    "- 関心のあるクラス (サンプル数の少ないほう) に分類したものが <span class=\"text-shadow\" style=\"color: red;\">陽性 (Positive)</span> 、関心のないクラス (サンプル数の多いほう) に分類したものが <span class=\"text-shadow\" style=\"color: blue;\">陰性 (Negative)</span>\n",
    "- 分類が合っていれば <span class=\"text-shadow\" style=\"color: green;\">真 (True)</span> 、間違っていれば <span class=\"text-shadow\" style=\"color: orange;\">偽 (False)</span>\n",
    "\n",
    "<table class=\"border text-center text-black background-white\">\n",
    "    <tr>\n",
    "        <th class=\"border-top-none border-left-none border-right-bold\"></th>\n",
    "        <th><span style=\"color: red;\">True と予測</span></th>\n",
    "        <th><span style=\"color: blue;\">False と予測</span></th>\n",
    "    </tr>\n",
    "    <tr>\n",
    "        <th class=\"border-bottom border-right-bold\">正解ラベルが True<br />(関心のあるクラス)</th>\n",
    "        <td><span style=\"color: green;\">真</span><span style=\"color: red;\">陽性</span><br /><span style=\"color: green;\">True</span> <span style=\"color: red;\">Positive</span></td>\n",
    "        <td><span style=\"color: orange;\">偽</span><span style=\"color: blue;\">陰性</span><br><span style=\"color: orange;\">False</span> <span style=\"color: blue;\">Negative</span></td>\n",
    "    </tr>\n",
    "    <tr>\n",
    "        <th class=\"border-bottom border-right-bold\">正解ラベルが False<br />(関心のないクラス)</th>\n",
    "        <td><span style=\"color: orange;\">偽</span><span style=\"color: red;\">陽性</span><br /><span style=\"color: orange;\">False</span> <span style=\"color: red;\">Positive</span></td>\n",
    "        <td><span style=\"color: green;\">真</span><span style=\"color: blue;\">陰性</span><br /><span style=\"color: green;\">True</span> <span style=\"color: blue;\">Negative</span></td>\n",
    "    </tr>\n",
    "</table>"
   ]
  },
  {
   "cell_type": "markdown",
   "metadata": {},
   "source": [
    "###### 練習問題\n",
    "\n",
    "`mammography`データセットに任意の分類アルゴリズムを適用し、混同行列を作成する。"
   ]
  },
  {
   "cell_type": "code",
   "execution_count": 2,
   "metadata": {
    "hide_input": false
   },
   "outputs": [
    {
     "name": "stdout",
     "output_type": "stream",
     "text": [
      "mammography\n"
     ]
    },
    {
     "data": {
      "text/html": [
       "<div>\n",
       "<style scoped>\n",
       "    .dataframe tbody tr th:only-of-type {\n",
       "        vertical-align: middle;\n",
       "    }\n",
       "\n",
       "    .dataframe tbody tr th {\n",
       "        vertical-align: top;\n",
       "    }\n",
       "\n",
       "    .dataframe thead th {\n",
       "        text-align: right;\n",
       "    }\n",
       "</style>\n",
       "<table border=\"1\" class=\"dataframe\">\n",
       "  <thead>\n",
       "    <tr style=\"text-align: right;\">\n",
       "      <th></th>\n",
       "      <th>$x_1$</th>\n",
       "      <th>$x_2$</th>\n",
       "      <th>$x_3$</th>\n",
       "      <th>$x_4$</th>\n",
       "      <th>$x_5$</th>\n",
       "      <th>$x_6$</th>\n",
       "      <th>$y$</th>\n",
       "    </tr>\n",
       "  </thead>\n",
       "  <tbody>\n",
       "    <tr>\n",
       "      <th>0</th>\n",
       "      <td>0.230020</td>\n",
       "      <td>5.072578</td>\n",
       "      <td>-0.276061</td>\n",
       "      <td>0.832444</td>\n",
       "      <td>-0.377866</td>\n",
       "      <td>0.480322</td>\n",
       "      <td>0.0</td>\n",
       "    </tr>\n",
       "    <tr>\n",
       "      <th>1</th>\n",
       "      <td>0.155491</td>\n",
       "      <td>-0.169390</td>\n",
       "      <td>0.670652</td>\n",
       "      <td>-0.859553</td>\n",
       "      <td>-0.377866</td>\n",
       "      <td>-0.945723</td>\n",
       "      <td>0.0</td>\n",
       "    </tr>\n",
       "    <tr>\n",
       "      <th>...</th>\n",
       "      <td>...</td>\n",
       "      <td>...</td>\n",
       "      <td>...</td>\n",
       "      <td>...</td>\n",
       "      <td>...</td>\n",
       "      <td>...</td>\n",
       "      <td>...</td>\n",
       "    </tr>\n",
       "    <tr>\n",
       "      <th>11181</th>\n",
       "      <td>0.736644</td>\n",
       "      <td>-0.222474</td>\n",
       "      <td>-0.050653</td>\n",
       "      <td>1.509665</td>\n",
       "      <td>0.539269</td>\n",
       "      <td>1.315229</td>\n",
       "      <td>1.0</td>\n",
       "    </tr>\n",
       "    <tr>\n",
       "      <th>11182</th>\n",
       "      <td>0.177003</td>\n",
       "      <td>-0.191508</td>\n",
       "      <td>-0.501468</td>\n",
       "      <td>1.578864</td>\n",
       "      <td>7.750705</td>\n",
       "      <td>1.555951</td>\n",
       "      <td>1.0</td>\n",
       "    </tr>\n",
       "  </tbody>\n",
       "</table>\n",
       "<p>11183 rows × 7 columns</p>\n",
       "</div>"
      ],
      "text/plain": [
       "          $x_1$     $x_2$     $x_3$     $x_4$     $x_5$     $x_6$  $y$\n",
       "0      0.230020  5.072578 -0.276061  0.832444 -0.377866  0.480322  0.0\n",
       "1      0.155491 -0.169390  0.670652 -0.859553 -0.377866 -0.945723  0.0\n",
       "...         ...       ...       ...       ...       ...       ...  ...\n",
       "11181  0.736644 -0.222474 -0.050653  1.509665  0.539269  1.315229  1.0\n",
       "11182  0.177003 -0.191508 -0.501468  1.578864  7.750705  1.555951  1.0\n",
       "\n",
       "[11183 rows x 7 columns]"
      ]
     },
     "metadata": {},
     "output_type": "display_data"
    }
   ],
   "source": [
    "dataset = fetch_datasets(filter_data=['mammography'])['mammography']\n",
    "mammography = pd.DataFrame(\n",
    "    np.column_stack([dataset.data,\n",
    "                     np.where(dataset.target == 1, 1, 0)]))\n",
    "n_columns = mammography.columns.size\n",
    "mammography.columns = [\n",
    "    f'$x_{i+1}$' if i < n_columns - 1 else '$y$' for i in range(n_columns)\n",
    "]\n",
    "print('mammography')\n",
    "display(mammography)"
   ]
  },
  {
   "cell_type": "code",
   "execution_count": null,
   "metadata": {
    "solution2": "hidden",
    "solution2_first": true
   },
   "outputs": [],
   "source": []
  },
  {
   "cell_type": "code",
   "execution_count": 3,
   "metadata": {
    "solution2": "hidden"
   },
   "outputs": [
    {
     "data": {
      "text/plain": [
       "array([[  105,   155],\n",
       "       [   27, 10896]])"
      ]
     },
     "execution_count": 3,
     "metadata": {},
     "output_type": "execute_result"
    }
   ],
   "source": [
    "from sklearn.linear_model import LogisticRegression\n",
    "model = LogisticRegression().fit(mammography.iloc[:, :-1].values,\n",
    "                                 mammography.iloc[:, -1].values)\n",
    "y_true = mammography.iloc[:, -1].values.astype(bool)\n",
    "y_pred = model.predict(mammography.iloc[:, :-1].values).astype(bool)\n",
    "trues = np.vstack([y_true, ~y_true]).astype(int)\n",
    "preds = np.column_stack([y_pred, ~y_pred]).astype(int)\n",
    "trues.dot(preds)"
   ]
  },
  {
   "cell_type": "markdown",
   "metadata": {},
   "source": [
    "### Pythonでの混同行列作成方法\n",
    "---\n",
    "`sklearn.metrics.confusion_matrix`を使用する。ヒートマップで表示するには`sklearn.metrics.plot_confusion_matrix`を使用する。"
   ]
  },
  {
   "cell_type": "code",
   "execution_count": 4,
   "metadata": {},
   "outputs": [],
   "source": [
    "metrics.confusion_matrix??"
   ]
  },
  {
   "cell_type": "code",
   "execution_count": 5,
   "metadata": {},
   "outputs": [
    {
     "data": {
      "text/plain": [
       "array([[10896,    27],\n",
       "       [  155,   105]])"
      ]
     },
     "execution_count": 5,
     "metadata": {},
     "output_type": "execute_result"
    }
   ],
   "source": [
    "x = mammography.iloc[:, :-1]\n",
    "y = mammography.iloc[:, -1]\n",
    "model = LogisticRegression().fit(x, y)\n",
    "pred = model.predict(x)\n",
    "metrics.confusion_matrix(y, pred)"
   ]
  },
  {
   "cell_type": "code",
   "execution_count": 6,
   "metadata": {},
   "outputs": [],
   "source": [
    "metrics.plot_confusion_matrix??"
   ]
  },
  {
   "cell_type": "code",
   "execution_count": 7,
   "metadata": {
    "scrolled": true
   },
   "outputs": [
    {
     "data": {
      "image/png": "[encoded data removed]",
      "text/plain": [
       "<Figure size 432x288 with 2 Axes>"
      ]
     },
     "metadata": {
      "needs_background": "light"
     },
     "output_type": "display_data"
    }
   ],
   "source": [
    "metrics.plot_confusion_matrix(model, x, y, values_format='d')\n",
    "plt.show()"
   ]
  },
  {
   "cell_type": "markdown",
   "metadata": {},
   "source": [
    "## 混同行列を利用した評価指標"
   ]
  },
  {
   "cell_type": "markdown",
   "metadata": {},
   "source": [
    "### F1スコア\n",
    "---\n",
    "適合率と再現率を組み合わせた指標。"
   ]
  },
  {
   "cell_type": "markdown",
   "metadata": {},
   "source": [
    "#### 適合率 (precision)\n",
    "---\n",
    "陽性 (関心あり) という予測の信頼度。陽性と判定する基準を厳しく (微妙なものは陰性に分類) すると向上。\n",
    "\n",
    "<span class=\"text-shadow\" style=\"color: lime;\">PRE</span> = <span class=\"text-shadow\" style=\"color: yellow;\">True Positive</span> ÷ <span class=\"text-shadow\" style=\"color: red;\">Predicted True</span>\n",
    "\n",
    "<table class=\"border text-center background-white\">\n",
    "    <tr>\n",
    "        <th class=\"border-top-none border-left-none border-right-bold\"></th>\n",
    "        <th><span style=\"color: red;\">True と予測</span></th>\n",
    "        <th class=\"text-black\">False と予測</th>\n",
    "    </tr>\n",
    "    <tr>\n",
    "        <th class=\"border-bottom border-right-bold text-black\">正解ラベルが True<br />(関心のあるクラス)</th>\n",
    "        <td style=\"background-color: red;\"><span style=\"color: yellow;\">真陽性<br />True Positive</span></td>\n",
    "        <td class=\"text-black\">偽陰性<br />False Negative</td>\n",
    "    </tr>\n",
    "    <tr>\n",
    "        <th class=\"border-bottom border-right-bold text-black\">正解ラベルが False<br />(関心のないクラス)</th>\n",
    "        <td class=\"text-black\" style=\"background-color: red;\">偽陽性<br />False Positive</td>\n",
    "        <td class=\"text-black\">真陰性<br />True Negative</td>\n",
    "    </tr>\n",
    "</table>"
   ]
  },
  {
   "cell_type": "markdown",
   "metadata": {},
   "source": [
    "###### 練習問題\n",
    "\n",
    "`pred`データセットから適合率を算出する。"
   ]
  },
  {
   "cell_type": "code",
   "execution_count": 8,
   "metadata": {
    "hide_input": true
   },
   "outputs": [
    {
     "name": "stdout",
     "output_type": "stream",
     "text": [
      "pred\n"
     ]
    },
    {
     "data": {
      "text/html": [
       "<div>\n",
       "<style scoped>\n",
       "    .dataframe tbody tr th:only-of-type {\n",
       "        vertical-align: middle;\n",
       "    }\n",
       "\n",
       "    .dataframe tbody tr th {\n",
       "        vertical-align: top;\n",
       "    }\n",
       "\n",
       "    .dataframe thead th {\n",
       "        text-align: right;\n",
       "    }\n",
       "</style>\n",
       "<table border=\"1\" class=\"dataframe\">\n",
       "  <thead>\n",
       "    <tr style=\"text-align: right;\">\n",
       "      <th></th>\n",
       "      <th>正解</th>\n",
       "      <th>予測</th>\n",
       "      <th>確率</th>\n",
       "    </tr>\n",
       "  </thead>\n",
       "  <tbody>\n",
       "    <tr>\n",
       "      <th>0</th>\n",
       "      <td>0</td>\n",
       "      <td>0</td>\n",
       "      <td>0.000087</td>\n",
       "    </tr>\n",
       "    <tr>\n",
       "      <th>1</th>\n",
       "      <td>0</td>\n",
       "      <td>0</td>\n",
       "      <td>0.000190</td>\n",
       "    </tr>\n",
       "    <tr>\n",
       "      <th>...</th>\n",
       "      <td>...</td>\n",
       "      <td>...</td>\n",
       "      <td>...</td>\n",
       "    </tr>\n",
       "    <tr>\n",
       "      <th>11181</th>\n",
       "      <td>1</td>\n",
       "      <td>0</td>\n",
       "      <td>0.069676</td>\n",
       "    </tr>\n",
       "    <tr>\n",
       "      <th>11182</th>\n",
       "      <td>1</td>\n",
       "      <td>1</td>\n",
       "      <td>0.947977</td>\n",
       "    </tr>\n",
       "  </tbody>\n",
       "</table>\n",
       "<p>11183 rows × 3 columns</p>\n",
       "</div>"
      ],
      "text/plain": [
       "       正解  予測        確率\n",
       "0       0   0  0.000087\n",
       "1       0   0  0.000190\n",
       "...    ..  ..       ...\n",
       "11181   1   0  0.069676\n",
       "11182   1   1  0.947977\n",
       "\n",
       "[11183 rows x 3 columns]"
      ]
     },
     "metadata": {},
     "output_type": "display_data"
    }
   ],
   "source": [
    "x = mammography.iloc[:, :-1].values\n",
    "y = mammography.iloc[:, -1].values\n",
    "model = LogisticRegression(random_state=1234).fit(x, y)\n",
    "pred = pd.DataFrame({\n",
    "    '正解':\n",
    "    y.astype(int),\n",
    "    '予測':\n",
    "    model.predict(x).astype(int),\n",
    "    '確率':\n",
    "    model.predict_proba(x)[:, 1]\n",
    "})\n",
    "print('pred')\n",
    "display(pred)"
   ]
  },
  {
   "cell_type": "code",
   "execution_count": null,
   "metadata": {
    "solution2": "hidden",
    "solution2_first": true
   },
   "outputs": [],
   "source": []
  },
  {
   "cell_type": "code",
   "execution_count": 9,
   "metadata": {
    "solution2": "hidden"
   },
   "outputs": [
    {
     "name": "stdout",
     "output_type": "stream",
     "text": [
      "適合率 : 0.795\n"
     ]
    }
   ],
   "source": [
    "true_positive = pred.query('正解 == 1 and 予測 == 1').index.size\n",
    "predicted_true = pred.query('予測 == 1').index.size\n",
    "pre = true_positive / predicted_true\n",
    "print(f'適合率 : {pre:.3f}')"
   ]
  },
  {
   "cell_type": "markdown",
   "metadata": {},
   "source": [
    "##### Pythonでの適合率算出方法\n",
    "---\n",
    "`sklearn.metrics.precision_score`を使用する。"
   ]
  },
  {
   "cell_type": "code",
   "execution_count": 10,
   "metadata": {},
   "outputs": [],
   "source": [
    "metrics.precision_score??"
   ]
  },
  {
   "cell_type": "code",
   "execution_count": 11,
   "metadata": {},
   "outputs": [
    {
     "data": {
      "text/plain": [
       "0.7954545454545454"
      ]
     },
     "execution_count": 11,
     "metadata": {},
     "output_type": "execute_result"
    }
   ],
   "source": [
    "metrics.precision_score(pred['正解'], pred['予測'])"
   ]
  },
  {
   "cell_type": "markdown",
   "metadata": {},
   "source": [
    "#### 再現率 (recall)\n",
    "---\n",
    "陽性 (関心がある) データの捕捉率。陽性と判定する基準を緩く (微妙なものは陽性に分類) すると向上。\n",
    "\n",
    "<span class=\"text-shadow\" style=\"color: magenta;\">REC</span> = <span class=\"text-shadow\" style=\"color: yellow;\">True Positive</span> ÷ <span class=\"text-shadow\" style=\"color: purple;\">Labeled True</span>\n",
    "\n",
    "<table class=\"border text-center text-black background-white\">\n",
    "    <tr>\n",
    "        <th class=\"border-top-none border-left-none border-right-bold\"></th>\n",
    "        <th>True と予測</th>\n",
    "        <th>False と予測</th>\n",
    "    </tr>\n",
    "    <tr>\n",
    "        <th class=\"border-bottom border-right-bold\"><span style=\"color: purple;\">正解ラベルが True<br />(関心のあるクラス)</span></th>\n",
    "        <td style=\"background-color: purple;\"><span style=\"color: yellow;\">真陽性<br />True Positive</span></td>\n",
    "        <td style=\"background-color: purple;\">偽陰性<br />False Negative</td>\n",
    "    </tr>\n",
    "    <tr>\n",
    "        <th class=\"border-bottom border-right-bold\">正解ラベルが False<br />(関心のないクラス)</th>\n",
    "        <td>偽陽性<br />False Positive</td>\n",
    "        <td>真陰性<br />True Negative</td>\n",
    "    </tr>\n",
    "</table>"
   ]
  },
  {
   "cell_type": "markdown",
   "metadata": {},
   "source": [
    "###### 練習問題\n",
    "\n",
    "`pred`データセットから再現率を算出する。"
   ]
  },
  {
   "cell_type": "code",
   "execution_count": null,
   "metadata": {
    "solution2": "hidden",
    "solution2_first": true
   },
   "outputs": [],
   "source": []
  },
  {
   "cell_type": "code",
   "execution_count": 12,
   "metadata": {
    "solution2": "hidden"
   },
   "outputs": [
    {
     "name": "stdout",
     "output_type": "stream",
     "text": [
      "再現率 : 0.404\n"
     ]
    }
   ],
   "source": [
    "true_positive = pred.query('正解 == 1 and 予測 == 1').index.size\n",
    "labeled_true = pred.query('正解 == 1').index.size\n",
    "rec = true_positive / labeled_true\n",
    "print(f'再現率 : {rec:.3f}')"
   ]
  },
  {
   "cell_type": "markdown",
   "metadata": {},
   "source": [
    "##### Pythonでの再現率算出方法\n",
    "---\n",
    "`sklearn.metrics.recall_score`を使用する。"
   ]
  },
  {
   "cell_type": "code",
   "execution_count": 13,
   "metadata": {},
   "outputs": [],
   "source": [
    "metrics.recall_score??"
   ]
  },
  {
   "cell_type": "code",
   "execution_count": 14,
   "metadata": {},
   "outputs": [
    {
     "data": {
      "text/plain": [
       "0.40384615384615385"
      ]
     },
     "execution_count": 14,
     "metadata": {},
     "output_type": "execute_result"
    }
   ],
   "source": [
    "metrics.recall_score(pred['正解'], pred['予測'])"
   ]
  },
  {
   "cell_type": "markdown",
   "metadata": {},
   "source": [
    "#### F1スコア\n",
    "---\n",
    "<span class=\"text-shadow\" style=\"color: lime;\">適合率 (Precision)</span>と<span class=\"text-shadow\n",
    "\" style=\"color: magenta;\">再現率 (Recall)</span>の調和平均。\n",
    "\n",
    "$\n",
    "{\\displaystyle F1=\\frac\n",
    "    {2\\times PRE\\times REC}\n",
    "    {PRE+REC}}\n",
    "$\n",
    "\n",
    "<table class=\"border text-center text-black background-white\">\n",
    "    <tr class=\"border-none\">\n",
    "        <th colspan=\"3\"><span style=\"color: lime;\">適合率<br />Precision</span></th>\n",
    "        <th></th>\n",
    "        <th colspan=\"3\"><span style=\"color: magenta;\">再現率<br />Recall</span></th>\n",
    "    </tr>\n",
    "    <tr>\n",
    "        <th class=\"border-top-none border-left-none border-right-bold\"></th>\n",
    "        <th><span style=\"color: red;\">True と予測</span></th>\n",
    "        <th>False と予測</th>\n",
    "        <th class=\"border-none\"></th>\n",
    "        <th class=\"border-top-none border-left-none border-right-bold\"></th>\n",
    "        <th>True と予測</th>\n",
    "        <th>False と予測</th>\n",
    "    </tr>\n",
    "    <tr>\n",
    "        <th class=\"border-bottom border-right-bold\">正解ラベルが True<br />(関心のあるクラス)</th>\n",
    "        <td style=\"background-color: red;\"><span style=\"color: yellow;\">真陽性<br />True Positive</span></td>\n",
    "        <td>偽陰性<br />False Negative</td>\n",
    "        <td class=\"border-none\"></td>\n",
    "        <th class=\"border-bottom border-right-bold\"><span style=\"color: purple;\">正解ラベルが True<br />(関心のあるクラス)</span></th>\n",
    "        <td style=\"background-color: purple;\"><span style=\"color: yellow;\">真陽性<br />True Positive</span></td>\n",
    "        <td style=\"background-color: purple;\">偽陰性<br />False Negative</td>\n",
    "    </tr>\n",
    "    <tr>\n",
    "        <th class=\"border-bottom border-right-bold\">正解ラベルが False<br />(関心のないクラス)</th>\n",
    "        <td style=\"background-color: red;\">偽陽性<br />False Positive</td>\n",
    "        <td>真陰性<br />True Negative</td>\n",
    "        <td class=\"border-none\"></td>\n",
    "        <th class=\"border-bottom border-right-bold\">正解ラベルが False<br />(関心のないクラス)</th>\n",
    "        <td>偽陽性<br />False Positive</td>\n",
    "        <td>真陰性<br />True Negative</td>\n",
    "    </tr>\n",
    "</table>\n",
    "\n",
    "<span class=\"text-shadow\" style=\"color: lime;\">適合率</span>と<span class=\"text-shadow\" style=\"color: magenta;\">再現率</span>の両方が高くないとF1スコアも高くならない"
   ]
  },
  {
   "cell_type": "code",
   "execution_count": 15,
   "metadata": {
    "hide_input": true
   },
   "outputs": [
    {
     "data": {
      "image/png": "[encoded data removed]",
      "text/plain": [
       "<Figure size 288x288 with 1 Axes>"
      ]
     },
     "metadata": {
      "needs_background": "light"
     },
     "output_type": "display_data"
    }
   ],
   "source": [
    "from helpers.imbalanced_data import f1_matrix\n",
    "f1_matrix.show()"
   ]
  },
  {
   "cell_type": "markdown",
   "metadata": {},
   "source": [
    "##### PythonでのF1スコア算出方法\n",
    "---\n",
    "`sklearn.metrics.f1_score`を使用する。"
   ]
  },
  {
   "cell_type": "code",
   "execution_count": 16,
   "metadata": {},
   "outputs": [],
   "source": [
    "metrics.f1_score??"
   ]
  },
  {
   "cell_type": "code",
   "execution_count": 17,
   "metadata": {},
   "outputs": [
    {
     "data": {
      "text/plain": [
       "0.5357142857142858"
      ]
     },
     "execution_count": 17,
     "metadata": {},
     "output_type": "execute_result"
    }
   ],
   "source": [
    "metrics.f1_score(pred['正解'], pred['予測'])"
   ]
  },
  {
   "cell_type": "markdown",
   "metadata": {},
   "source": [
    "適合率・再現率・ F1 スコアを一度に見る場合、`sklearn.metrics.classification_report`を使用する。"
   ]
  },
  {
   "cell_type": "code",
   "execution_count": 18,
   "metadata": {},
   "outputs": [],
   "source": [
    "metrics.classification_report??"
   ]
  },
  {
   "cell_type": "code",
   "execution_count": 19,
   "metadata": {},
   "outputs": [
    {
     "name": "stdout",
     "output_type": "stream",
     "text": [
      "              precision    recall  f1-score   support\n",
      "\n",
      "           0       0.99      1.00      0.99     10923\n",
      "           1       0.80      0.40      0.54       260\n",
      "\n",
      "    accuracy                           0.98     11183\n",
      "   macro avg       0.89      0.70      0.76     11183\n",
      "weighted avg       0.98      0.98      0.98     11183\n",
      "\n"
     ]
    }
   ],
   "source": [
    "print(metrics.classification_report(pred['正解'], pred['予測']))"
   ]
  },
  {
   "cell_type": "markdown",
   "metadata": {},
   "source": [
    "#### マシューズ相関係数 (Matthews correlation coefficient)\n",
    "---\n",
    "予測と正解ラベルの相関係数。\n",
    "\n",
    "$\\displaystyle MCC=\\frac{TP\\times TN-FP\\times FN}{\\sqrt{( TP+FP)( TP+FN)( TN+FP)( TN+FN)}}$\n",
    "\n",
    "F1 スコアや他の不均衡データの評価指標は陽性 (Positive) のほうが少ないという前提があり、陽性と院政を入れ替えると結果が変わるものが多い。マシューズ相関係数は**陽性と陰性が入れ替わっても結果が変わらない**。\n",
    "\n",
    "マシューズ相関係数は、[2×2分割表のカイ二乗統計量](crosstab_test.ipynb#2%C3%972%E5%88%86%E5%89%B2%E8%A1%A8%E3%81%AE%E5%A0%B4%E5%90%88)との間に以下の関係が成り立つ。\n",
    "\n",
    "$\\displaystyle |MCC|=\\sqrt{\\frac{\\chi ^{2}}{n}}$\n",
    "\n",
    "$\\displaystyle \\sqrt{\\frac{\\chi ^{2}}{n}}$ はファイ係数と呼ばれる。"
   ]
  },
  {
   "cell_type": "markdown",
   "metadata": {
    "solution2": "hidden",
    "solution2_first": true
   },
   "source": [
    "###### 証明"
   ]
  },
  {
   "cell_type": "markdown",
   "metadata": {
    "solution2": "hidden"
   },
   "source": [
    "$\n",
    "\\displaystyle \\begin{aligned}\n",
    "    \\chi ^{2} & =\\frac\n",
    "        {n( O_{11} O_{22} -O_{12} O_{21})^{2}}\n",
    "        {\\displaystyle \\sum ^{2}_{i=1} O_{i1}\\sum ^{2}_{i=1} O_{i2}\\sum ^{2}_{j=1} O_{1j}\\sum ^{2}_{j=1} O_{2j}}\\\\\n",
    "     \\\\\n",
    "     & =\\frac\n",
    "         {n( TP\\times TN-FP\\times FN)^{2}}\n",
    "         {( TP+FP)( TP+FN)( TN+FP)( TN+FN)}\\\\\n",
    "     \\\\\n",
    "    \\frac\n",
    "        {\\chi ^{2}}\n",
    "        {n}\n",
    "    & =\\frac\n",
    "        {( TP\\times TN-FP\\times FN)^{2}}\n",
    "        {( TP+FP)( TP+FN)( TN+FP)( TN+FN)}\\\\\n",
    "    \\\\\n",
    "     & =MCC^{2}\\\\\n",
    "     \\\\\n",
    "    |MCC| & =\\sqrt{\n",
    "        \\frac\n",
    "            {\\chi ^{2}}\n",
    "            {n}\n",
    "    }\n",
    "\\end{aligned}\n",
    "$"
   ]
  },
  {
   "cell_type": "markdown",
   "metadata": {},
   "source": [
    "##### Pythonでのマシューズ相関係数算出方法\n",
    "---\n",
    "`sklearn.metrics.matthews_corrcoef`を使用する。"
   ]
  },
  {
   "cell_type": "code",
   "execution_count": 20,
   "metadata": {},
   "outputs": [],
   "source": [
    "metrics.matthews_corrcoef??"
   ]
  },
  {
   "cell_type": "code",
   "execution_count": 21,
   "metadata": {},
   "outputs": [
    {
     "data": {
      "text/plain": [
       "0.5600405234029153"
      ]
     },
     "execution_count": 21,
     "metadata": {},
     "output_type": "execute_result"
    }
   ],
   "source": [
    "metrics.matthews_corrcoef(pred['正解'], pred['予測'])"
   ]
  },
  {
   "cell_type": "markdown",
   "metadata": {},
   "source": [
    "#### PR曲線\n",
    "---\n",
    "分類結果だけでなく確率 (確信度) を出力するロジスティック回帰のような分類器 (scikit-learn では`predict_proba`を持つもの) では、出力値が0.5より大きければ 1 (True)、そうでなければ 0 (False) と判定する。  \n",
    "この閾値を 0.5 から様々な値に変化させた場合の適合率・再現率の変化をプロットしたものが PR 曲線。 (scikit-learn で`decision_function`を持つものも閾値を変化させて予測を変えられるので、実際にはほとんど全ての分類モデルで算出可能)\n",
    "\n",
    "<table class=\"border text-center text-black background-white\">\n",
    "    <tr class=\"border-none\">\n",
    "        <th colspan=\"3\"><span style=\"color: lime;\">適合率<br />Precision</span></th>\n",
    "        <th></th>\n",
    "        <th colspan=\"3\"><span style=\"color: magenta;\">再現率<br />Recall</span></th>\n",
    "    </tr>\n",
    "    <tr>\n",
    "        <th class=\"border-top-none border-left-none border-right-bold\"></th>\n",
    "        <th><span style=\"color: red;\">True と予測</span></th>\n",
    "        <th>False と予測</th>\n",
    "        <th class=\"border-none\"></th>\n",
    "        <th class=\"border-top-none border-left-none border-right-bold\"></th>\n",
    "        <th>True と予測</th>\n",
    "        <th>False と予測</th>\n",
    "    </tr>\n",
    "    <tr>\n",
    "        <th class=\"border-bottom border-right-bold\">正解ラベルが True<br />(関心のあるクラス)</th>\n",
    "        <td style=\"background-color: red;\"><span style=\"color: yellow;\">真陽性<br />True Positive</span></td>\n",
    "        <td>偽陰性<br />False Negative</td>\n",
    "        <td class=\"border-none\"></td>\n",
    "        <th class=\"border-bottom border-right-bold\"><span style=\"color: purple;\">正解ラベルが True<br />(関心のあるクラス)</span></th>\n",
    "        <td style=\"background-color: purple;\"><span style=\"color: yellow;\">真陽性<br />True Positive</span></td>\n",
    "        <td style=\"background-color: purple;\">偽陰性<br />False Negative</td>\n",
    "    </tr>\n",
    "    <tr>\n",
    "        <th class=\"border-bottom border-right-bold\">正解ラベルが False<br />(関心のないクラス)</th>\n",
    "        <td style=\"background-color: red;\">偽陽性<br />False Positive</td>\n",
    "        <td>真陰性<br />True Negative</td>\n",
    "        <td class=\"border-none\"></td>\n",
    "        <th class=\"border-bottom border-right-bold\">正解ラベルが False<br />(関心のないクラス)</th>\n",
    "        <td>偽陽性<br />False Positive</td>\n",
    "        <td>真陰性<br />True Negative</td>\n",
    "    </tr>\n",
    "</table>"
   ]
  },
  {
   "cell_type": "code",
   "execution_count": 22,
   "metadata": {
    "hide_input": true
   },
   "outputs": [
    {
     "data": {
      "application/vnd.jupyter.widget-view+json": {
       "model_id": "8bf7f70379ed4f6695a7aec8a4ef621b",
       "version_major": 2,
       "version_minor": 0
      },
      "text/plain": [
       "interactive(children=(SelectionSlider(continuous_update=False, description='精度', options=OrderedDict([('ランダム',…"
      ]
     },
     "metadata": {},
     "output_type": "display_data"
    }
   ],
   "source": [
    "from helpers.imbalanced_data import pr_curve\n",
    "pr_curve.show()"
   ]
  },
  {
   "cell_type": "markdown",
   "metadata": {},
   "source": [
    "- 閾値を上げる (上図の境界線を右に移動 = <span class=\"text-shadow\" style=\"color: red;\">True と予測</span>するものは減り、 <span class=\"text-shadow\" style=\"color: blue;\">False と予測</span>するものは増える) と\n",
    " - PR 曲線の右下へ移動 (<span class=\"text-shadow\" style=\"color: lime;\">適合率</span>は下がり、<span class=\"text-shadow\" style=\"color: magenta;\">再現率</span>は上がる)\n",
    "- 閾値を下げる (上図の境界線を左に移動 = <span class=\"text-shadow\" style=\"color: red;\">True と予測</span>するものは増え、 <span class=\"text-shadow\" style=\"color: blue;\">False と予測</span>するものは減る) と\n",
    " - PR 曲線の左上へ移動 (<span class=\"text-shadow\" style=\"color: lime;\">適合率</span>は上がり、<span class=\"text-shadow\" style=\"color: magenta;\">再現率</span>は下がる)\n",
    "- どんなに閾値を変化させても右上の点 (<span class=\"text-shadow\" style=\"color: lime;\">適合率</span> $1.0$ ・<span class=\"text-shadow\" style=\"color: magenta;\">再現率</span> $1.0$ から動かない分類器は全てのサンプルに対して $100\\%$ の確信を持って正解の方に分類している完璧な分類器)\n",
    "- 各サンプルに対してランダムに分類 (あらゆる閾値に一様にサンプルを割当て) するとデータの不均衡さの水準 (関心があるほうのサンプルの割合) に対応した水平線になる\n",
    "- PR 曲線の下部面積 (AUC, Area Under the Curve) が分類器の性能を表すと考えられる\n",
    " - 正しく分類できているかだけでなく、確信を持って分類できているかまで評価"
   ]
  },
  {
   "cell_type": "code",
   "execution_count": 23,
   "metadata": {
    "hide_input": true
   },
   "outputs": [
    {
     "data": {
      "image/png": "[encoded data removed]",
      "text/plain": [
       "<Figure size 288x288 with 1 Axes>"
      ]
     },
     "metadata": {
      "needs_background": "light"
     },
     "output_type": "display_data"
    }
   ],
   "source": [
    "from helpers.imbalanced_data import pr_auc\n",
    "pr_auc.show()"
   ]
  },
  {
   "cell_type": "markdown",
   "metadata": {},
   "source": [
    "###### 練習問題\n",
    "\n",
    "`mammography`データセットに任意の分類アルゴリズムを適用し、PR 曲線を表示する。"
   ]
  },
  {
   "cell_type": "code",
   "execution_count": null,
   "metadata": {
    "solution2": "hidden",
    "solution2_first": true
   },
   "outputs": [],
   "source": []
  },
  {
   "cell_type": "code",
   "execution_count": 24,
   "metadata": {
    "solution2": "hidden"
   },
   "outputs": [
    {
     "data": {
      "image/png": "[encoded data removed]",
      "text/plain": [
       "<Figure size 432x288 with 1 Axes>"
      ]
     },
     "metadata": {
      "needs_background": "light"
     },
     "output_type": "display_data"
    }
   ],
   "source": [
    "x = mammography.iloc[:, :-1]\n",
    "y = mammography.iloc[:, -1]\n",
    "proba = LogisticRegression(random_state=1234).fit(x, y).predict_proba(x)[:, 1]\n",
    "df = pd.DataFrame(dict(thresh=np.sort(proba)[::-1]))\n",
    "df['tp'] = df['thresh'].apply(lambda t: ((y == 1) & (proba >= t)).sum())\n",
    "df['fp'] = df['thresh'].apply(lambda t: ((y == 0) & (proba >= t)).sum())\n",
    "df['fn'] = df['thresh'].apply(lambda t: ((y == 1) & (proba < t)).sum())\n",
    "df['pre'] = df['tp'] / (df['tp']+df['fp'])\n",
    "df['rec'] = df['tp'] / (df['tp']+df['fn'])\n",
    "plt.plot('rec', 'pre', data=df)\n",
    "plt.show()"
   ]
  },
  {
   "cell_type": "markdown",
   "metadata": {},
   "source": [
    "##### PythonでのPR曲線表示方法\n",
    "---\n",
    "`sklearn.metrics.plot_precision_recall_curve`を使用する。"
   ]
  },
  {
   "cell_type": "code",
   "execution_count": 25,
   "metadata": {},
   "outputs": [],
   "source": [
    "metrics.plot_precision_recall_curve??"
   ]
  },
  {
   "cell_type": "code",
   "execution_count": 26,
   "metadata": {},
   "outputs": [
    {
     "data": {
      "image/png": "[encoded data removed]",
      "text/plain": [
       "<Figure size 432x288 with 1 Axes>"
      ]
     },
     "metadata": {
      "needs_background": "light"
     },
     "output_type": "display_data"
    }
   ],
   "source": [
    "metrics.plot_precision_recall_curve(model, x, y)\n",
    "plt.show()"
   ]
  },
  {
   "cell_type": "markdown",
   "metadata": {},
   "source": [
    "##### PythonでのPR-AUC算出方法\n",
    "---\n",
    "`sklearn.metrics.auc`または`sklearn.metrics.average_precision_score`を使用する。  \n",
    "`sklearn.metrics.auc`は点と点の間を線でつなぎ、台形の面積を算出し、`sklearn.metrics.average_precision_score`は補間せずに長方形の面積を算出する。\n",
    "\n",
    "$P_{n},R_{n}$ をそれぞれ $n$ 番目の閾値 (降順) における適合率・再現率とすると\n",
    "\n",
    "$\\displaystyle AUC=\\sum ^{n}_{i=2}( R_{n} -R_{n-1})\\frac{P_{n} +P_{n-1}}{2}$\n",
    "\n",
    "$\\displaystyle AP=\\sum ^{n}_{i=2}( R_{n} -R_{n-1}) P_{n}$\n",
    "\n",
    "値の大きさは $AUC>AP$ となる。"
   ]
  },
  {
   "cell_type": "code",
   "execution_count": 27,
   "metadata": {},
   "outputs": [],
   "source": [
    "metrics.auc??"
   ]
  },
  {
   "cell_type": "code",
   "execution_count": 28,
   "metadata": {},
   "outputs": [
    {
     "data": {
      "text/plain": [
       "0.6182456084119635"
      ]
     },
     "execution_count": 28,
     "metadata": {},
     "output_type": "execute_result"
    }
   ],
   "source": [
    "pre, rec, _ = metrics.precision_recall_curve(pred['正解'], pred['確率'])\n",
    "metrics.auc(rec, pre)"
   ]
  },
  {
   "cell_type": "code",
   "execution_count": 29,
   "metadata": {},
   "outputs": [],
   "source": [
    "metrics.average_precision_score??"
   ]
  },
  {
   "cell_type": "code",
   "execution_count": 30,
   "metadata": {},
   "outputs": [
    {
     "data": {
      "text/plain": [
       "0.6189431679987698"
      ]
     },
     "execution_count": 30,
     "metadata": {},
     "output_type": "execute_result"
    }
   ],
   "source": [
    "metrics.average_precision_score(pred['正解'], pred['確率'])"
   ]
  },
  {
   "cell_type": "markdown",
   "metadata": {},
   "source": [
    "## 混同行列に基づくその他の指標\n",
    "---\n",
    "不均衡データに限られないが、混同行列に基づいた分類モデル評価指標を紹介する。"
   ]
  },
  {
   "cell_type": "markdown",
   "metadata": {},
   "source": [
    "### 受信者操作特性(ROC, Reciever Operator Characteristic)\n",
    "---\n",
    "真陽性率と偽陽性率に基づく指標。"
   ]
  },
  {
   "cell_type": "markdown",
   "metadata": {},
   "source": [
    "#### 真陽性率 (true positive rate)\n",
    "---\n",
    "関心があるクラスの中での正解率。 (再現率と同じ)\n",
    "\n",
    "<span class=\"text-shadow\" style=\"color: hotpink;\">TPR</span> = <span class=\"text-shadow\" style=\"color: yellow;\">True Positive</span> ÷ <span class=\"text-shadow\" style=\"color: purple;\">Labeled True</span>\n",
    "\n",
    "<table class=\"border text-center background-white text-black\">\n",
    "    <tr>\n",
    "        <th class=\"border-top-none border-left-none border-right-bold\"></th>\n",
    "        <th>True と予測</th>\n",
    "        <th>False と予測</th>\n",
    "    </tr>\n",
    "    <tr>\n",
    "        <th class=\"border-bottom border-right-bold\"><span style=\"color: purple;\">正解ラベルが True<br>(関心のあるクラス)</span></th>\n",
    "        <td style=\"background-color: purple;\"><span style=\"color: yellow;\">真陽性<br />True Positive</span></td>\n",
    "        <td style=\"background-color: purple;\">偽陰性<br />False Negative</td>\n",
    "    </tr>\n",
    "    <tr>\n",
    "        <th class=\"border-bottom border-right-bold\">正解ラベルが False<br />(関心のないクラス)</th>\n",
    "        <td>偽陽性<br />False Positive</td>\n",
    "        <td>真陰性<br />True Negative</td>\n",
    "    </tr>\n",
    "</table>"
   ]
  },
  {
   "cell_type": "markdown",
   "metadata": {},
   "source": [
    "#### 偽陽性率 (false positive rate)\n",
    "---\n",
    "関心がないクラスの中での不正解率。 (関心ありと誤判定した割合)\n",
    "\n",
    "<span class=\"text-shadow\" style=\"color: darkgreen;\">FPR</span> = <span class=\"text-shadow\" style=\"color: pink;\">False Positive</span> ÷ <span class=\"text-shadow\" style=\"color: brown;\">Labeled False</span>\n",
    "\n",
    "<table class=\"border text-center background-white text-black\">\n",
    "    <tr>\n",
    "        <th class=\"border-top-none border-left-none border-right-bold\"></th>\n",
    "        <th>True と予測</th>\n",
    "        <th>False と予測</th>\n",
    "    </tr>\n",
    "    <tr>\n",
    "        <th class=\"border-bottom border-right-bold\">正解ラベルが True<br />(関心のあるクラス)</th>\n",
    "        <td>真陽性<br />True Positive</td>\n",
    "        <td>偽陰性<br />False Negative</td>\n",
    "    </tr>\n",
    "    <tr>\n",
    "        <th class=\"border-bottom border-right-bold\"><span style=\"color: brown;\">正解ラベルが False<br />(関心のないクラス)</span></th>\n",
    "        <td style=\"background-color: brown;\"><span style=\"color: pink;\">偽陽性<br />False Positive</span></td>\n",
    "        <td style=\"background-color: brown;\">真陰性<br />True Negative</td>\n",
    "    </tr>\n",
    "</table>"
   ]
  },
  {
   "cell_type": "markdown",
   "metadata": {},
   "source": [
    "#### 受信者操作特性 (ROC)\n",
    "---\n",
    "PR 曲線と同様に閾値を様々な値に変化させた場合の<span class=\"text-shadow\" style=\"color: hotpink;\">真陽性率</span>・<span class=\"text-shadow\" style=\"color: darkgreen;\">偽陽性率</span>の変化をプロットしたものが ROC 曲線。\n",
    "\n",
    "<table class=\"border text-center text-black background-white\">\n",
    "    <tr class=\"border-none\">\n",
    "        <th  colspan=\"3\"><span style=\"color: hotpink;\">真陽性率<br />True Positive Rate</span></th>\n",
    "        <th>\n",
    "        <th colspan=\"3\"><span style=\"color: darkgreen;\">偽陽性率<br />False Positive Rate</span></th>\n",
    "    </tr>\n",
    "    <tr>\n",
    "        <th class=\"border-top-none border-left-none border-right-bold\"></th>\n",
    "        <th>True と予測</th>\n",
    "        <th>False と予測</th>\n",
    "        <th class=\"border-none\n",
    "                   \"></th>\n",
    "        <th class=\"border-top-none border-left-none border-right-bold\"></th>\n",
    "        <th>True と予測</th>\n",
    "        <th>False と予測</th>\n",
    "    </tr>\n",
    "    <tr>\n",
    "        <th class=\"border-bottom border-right-bold\"><span style=\"color: purple;\">正解ラベルが True<br />(関心のあるクラス)</span></th>\n",
    "        <td style=\"background-color: purple;\"><span style=\"color: yellow;\">真陽性<br />True Positive</span></td>\n",
    "            <td style=\"background-color: purple;\">偽陰性<br />False Negative</td>\n",
    "        <td class=\"border-none\"></td>\n",
    "        <th class=\"border-bottom border-right-bold\">正解ラベルが True<br />(関心のあるクラス)</th>\n",
    "        <td>真陽性<br />True Positive</td>\n",
    "        <td>偽陰性<br />False Negative</td>\n",
    "    </tr>\n",
    "    <tr>\n",
    "        <th class=\"border-bottom border-right-bold\">正解ラベルが False<br />(関心のないクラス)</th>\n",
    "        <td>偽陽性<br />False Positive</td>\n",
    "        <td>真陰性<br />True Negative</td>\n",
    "        <td class=\"border-none\"></td>\n",
    "        <th class=\"border-bottom border-right-bold\"><span style=\"color: brown;\">正解ラベルが False<br />(関心のないクラス)</span></th>\n",
    "        <td style=\"background-color: brown;\"><span style=\"color: pink;\">偽陽性<br />False Positive</span></td>\n",
    "        <td style=\"background-color: brown;\">真陰性<br />True Negative</td>\n",
    "    </tr>\n",
    "</table>"
   ]
  },
  {
   "cell_type": "code",
   "execution_count": 31,
   "metadata": {
    "hide_input": true
   },
   "outputs": [
    {
     "data": {
      "application/vnd.jupyter.widget-view+json": {
       "model_id": "89b36d817a5640bfacf50a96c65d7a7e",
       "version_major": 2,
       "version_minor": 0
      },
      "text/plain": [
       "interactive(children=(SelectionSlider(continuous_update=False, description='精度', options=OrderedDict([('ランダム',…"
      ]
     },
     "metadata": {},
     "output_type": "display_data"
    }
   ],
   "source": [
    "from helpers.imbalanced_data import roc_curve\n",
    "roc_curve.show()"
   ]
  },
  {
   "cell_type": "markdown",
   "metadata": {},
   "source": [
    "- 閾値を上げる (確率の高いものだけ True と判定する = <span class=\"text-shadow\" style=\"color: red;\">True と予測</span>するものが減る) と\n",
    " - ROC 曲線の左下へ移動 (<span class=\"text-shadow\" style=\"color: hotpink;\">真陽性率</span>も<span class=\"text-shadow\" style=\"color: darkgreen;\">偽陽性率</span>も下がる)\n",
    "- 閾値を下げる (確率の低いものでも True と判定する = <span class=\"text-shadow\" style=\"color: red;\">True と予測</span>するものが増える) と\n",
    " - ROC 曲線の右上へ移動 (<span class=\"text-shadow\" style=\"color: hotpink;\">真陽性率</span>も<span class=\"text-shadow\" style=\"color: darkgreen;\">偽陽性率</span>も上がる)\n",
    "- どんなに閾値を変化させても左上の点 (<span class=\"text-shadow\" style=\"color: hotpink;\">真陽性率</span> $1.0$ ・<span class=\"text-shadow\" style=\"color: darkgreen;\">偽陽性率</span> $0.0$ から動かない分類器は全てのサンプルに対して $100\\%$ の確信を持って正解の方に分類している完璧な分類器)\n",
    "- 各サンプルに対してランダムに分類 (あらゆる閾値に一様にサンプルを割当て) すると対角線になる\n",
    "- ROC 曲線の下部面積 (AUC, Area Under the Curve) が分類器の性能を表すと考えられる\n",
    " - 正しく分類できているかだけでなく、確信を持って分類できているかまで評価"
   ]
  },
  {
   "cell_type": "code",
   "execution_count": 32,
   "metadata": {
    "hide_input": true
   },
   "outputs": [
    {
     "data": {
      "image/png": "[encoded data removed]",
      "text/plain": [
       "<Figure size 288x288 with 1 Axes>"
      ]
     },
     "metadata": {
      "needs_background": "light"
     },
     "output_type": "display_data"
    }
   ],
   "source": [
    "from helpers.imbalanced_data import roc_auc\n",
    "roc_auc.show()"
   ]
  },
  {
   "cell_type": "markdown",
   "metadata": {},
   "source": [
    "###### 練習問題\n",
    "\n",
    "`mammography`データセットに任意の分類アルゴリズムを適用し、ROC 曲線を表示する。"
   ]
  },
  {
   "cell_type": "code",
   "execution_count": null,
   "metadata": {
    "solution2": "hidden",
    "solution2_first": true
   },
   "outputs": [],
   "source": []
  },
  {
   "cell_type": "code",
   "execution_count": 33,
   "metadata": {
    "solution2": "hidden"
   },
   "outputs": [
    {
     "data": {
      "image/png": "[encoded data removed]",
      "text/plain": [
       "<Figure size 432x288 with 1 Axes>"
      ]
     },
     "metadata": {
      "needs_background": "light"
     },
     "output_type": "display_data"
    }
   ],
   "source": [
    "x = mammography.iloc[:, :-1]\n",
    "y = mammography.iloc[:, -1]\n",
    "proba = LogisticRegression(random_state=1234).fit(x, y).predict_proba(x)[:, 1]\n",
    "df = pd.DataFrame(dict(thresh=np.sort(proba)[::-1]))\n",
    "df['tp'] = df['thresh'].apply(lambda t: ((y == 1) & (proba >= t)).sum())\n",
    "df['fp'] = df['thresh'].apply(lambda t: ((y == 0) & (proba >= t)).sum())\n",
    "df['fn'] = df['thresh'].apply(lambda t: ((y == 1) & (proba < t)).sum())\n",
    "df['tn'] = df['thresh'].apply(lambda t: ((y == 0) & (proba < t)).sum())\n",
    "df['fpr'] = df['fp'] / (df['tn'] + df['fp'])\n",
    "df['tpr'] = df['tp'] / (df['tp'] + df['fn'])\n",
    "plt.plot('fpr', 'tpr', data=df)\n",
    "plt.show()"
   ]
  },
  {
   "cell_type": "markdown",
   "metadata": {},
   "source": [
    "##### PythonでのROC曲線表示方法\n",
    "---\n",
    "`sklearn.metrics.plot_roc_curve`を使用する。"
   ]
  },
  {
   "cell_type": "code",
   "execution_count": 34,
   "metadata": {},
   "outputs": [],
   "source": [
    "metrics.plot_roc_curve??"
   ]
  },
  {
   "cell_type": "code",
   "execution_count": 35,
   "metadata": {},
   "outputs": [
    {
     "data": {
      "image/png": "[encoded data removed]",
      "text/plain": [
       "<Figure size 432x288 with 1 Axes>"
      ]
     },
     "metadata": {
      "needs_background": "light"
     },
     "output_type": "display_data"
    }
   ],
   "source": [
    "metrics.plot_roc_curve(model, x, y)\n",
    "plt.show()"
   ]
  },
  {
   "cell_type": "markdown",
   "metadata": {},
   "source": [
    "##### PythonでのROC-AUC算出方法\n",
    "---\n",
    "`sklearn.metrics.roc_auc_score`を使用する。"
   ]
  },
  {
   "cell_type": "code",
   "execution_count": 36,
   "metadata": {},
   "outputs": [
    {
     "data": {
      "text/plain": [
       "0.7006871527264276"
      ]
     },
     "execution_count": 36,
     "metadata": {},
     "output_type": "execute_result"
    }
   ],
   "source": [
    "metrics.roc_auc_score(pred['正解'], pred['予測'])"
   ]
  },
  {
   "cell_type": "markdown",
   "metadata": {},
   "source": [
    "#### ROC-AUCとPR-AUCの比較\n",
    "---\n",
    "ROC-AUC も PR-AUC も分類モデルの能力を表す指標だが、一般的には ROC-AUC 、不均衡データには PR-AUC が適している。  \n",
    "ROC-AUC ではランダムなモデルの能力は 0.5 に固定され、異なるデータセット間でも値によって評価しやすいが、 PR-AUC におけるランダムなモデルの能力はデータの不均衡さに左右され、異なるデータセット間での値の比較はしにくい。  \n",
    "一方、不均衡データでは混同行列の真陰性 (TN) 付近の密度が高くなりやすく、 ROC 曲線では横軸の移動の大半が負例 (正解ラベルが False のサンプル) の分類変更によってもたらされ、 AUC の面積の大半を占めるが、 PR 曲線では TN の密度が高い区間付近では横軸の移動が抑えられ、 AUC の面積に占める割合も低くなる。\n",
    "\n",
    "<table class=\"border\">\n",
    "    <tr class=\"text-center\">\n",
    "        <th></th>\n",
    "        <th style=\"min-width: 6.5em;\">横軸</th>\n",
    "        <th style=\"min-width: 6.5em;\">縦軸</th>\n",
    "    </tr>\n",
    "    <tr>\n",
    "        <th class=\"text-center border-bottom\">ROC-AUC</th>\n",
    "        <td class=\"text-left\">$\\displaystyle \\frac{FP}{FP+TN}$</td>\n",
    "        <td class=\"text-left\">$\\displaystyle \\frac{TP}{TP+FN}$</td>\n",
    "    </tr>\n",
    "    <tr>\n",
    "        <th class=\"text-center border-bottom\">PR-AUC</th>\n",
    "        <td class=\"text-left\">$\\displaystyle \\frac{TP}{TP+FN}$</td>\n",
    "        <td class=\"text-left\">$\\displaystyle \\frac{TP}{TP+FP}$</td>\n",
    "    </tr>\n",
    "</table>"
   ]
  },
  {
   "cell_type": "code",
   "execution_count": 37,
   "metadata": {
    "hide_input": true
   },
   "outputs": [
    {
     "data": {
      "application/vnd.jupyter.widget-view+json": {
       "model_id": "d653ce73a3d441f4899f955cc16a9971",
       "version_major": 2,
       "version_minor": 0
      },
      "text/plain": [
       "Play(value=1, max=99, min=1)"
      ]
     },
     "metadata": {},
     "output_type": "display_data"
    },
    {
     "data": {
      "application/vnd.jupyter.widget-view+json": {
       "model_id": "f3ae77bab9734cd0abf07a3e6b4aca13",
       "version_major": 2,
       "version_minor": 0
      },
      "text/plain": [
       "Output()"
      ]
     },
     "metadata": {},
     "output_type": "display_data"
    }
   ],
   "source": [
    "from helpers.imbalanced_data import compare_auc\n",
    "compare_auc.show()"
   ]
  },
  {
   "cell_type": "markdown",
   "metadata": {},
   "source": [
    "## 不均衡データでの学習\n",
    "---\n",
    "簡単なものとして以下の方法がある。\n",
    "\n",
    "- F1 スコアが最も高くなる閾値や PR-AUC が高くなるハイパーパラメーターを採用する\n",
    "- 各クラスを平等に扱うように少ないデータに対して過学習させる ( scikit-learn の場合、 class_weight 引数を 'balanced' に設定)\n",
    "\n",
    "[imbalanced-learn](https://imbalanced-learn.readthedocs.io/en/stable/index.html) (不均衡データ学習用のライブラリ) も参考に。"
   ]
  },
  {
   "cell_type": "markdown",
   "metadata": {},
   "source": [
    "## 多クラス分類の評価"
   ]
  },
  {
   "cell_type": "markdown",
   "metadata": {},
   "source": [
    "### マクロ平均法とマイクロ平均法\n",
    "---\n",
    "多クラス分類のための指標。\n",
    "\n",
    "一対他で $k$ 個のクラスそれぞれの混同行列を作成したとして\n",
    "\n",
    "マクロ平均法は、各クラスで指標を求めてから、それらの平均を最終的な指標として使用する。各クラスを平等に扱う。\n",
    "\n",
    "$\n",
    "{\\displaystyle\n",
    "    PRE_{macro} =\\frac\n",
    "        {PRE_{1} +PRE_{2} +\\dotsc +PRE_{k}}\n",
    "        {k}\n",
    "}\n",
    "$\n",
    "\n",
    "マイクロ平均法は、それぞれの分母・分子同士を合計してから、最終的な指標の分母・分子として使用する。各サンプルを平等に扱う。\n",
    "\n",
    "$\n",
    "{\\displaystyle\n",
    "    PRE_{micro} =\\frac\n",
    "        {TP_{1} +TP_{2} +\\dotsc +TP_{k}}\n",
    "        {TP_{1} +TP_{2} +\\dotsc +TP_{k} +FP_{1} +FP_{2} +\\dotsc +FP_{k}}\n",
    "}\n",
    "$\n",
    "\n",
    "scikit-learn で二値分類の指標を使って多クラス分類モデルを評価すると、デフォルトではマクロ平均を正規化 (重みづけ) したものが使用される。それ以外の平均化方法を使用したい場合は average 引数で指定。"
   ]
  },
  {
   "cell_type": "markdown",
   "metadata": {},
   "source": [
    "### 多クラス分類の混同行列\n",
    "---\n",
    "多クラス分類でデータが不均衡かどうかは最少のクラスのサンプルサイズ:最多のクラスのサンプルサイズで考えていくことが多い。\n",
    "\n",
    "以下のような混同行列を作成したとして、学習時には横方向の再現率・評価時には縦方向の適合率を見ることもある。\n",
    "\n",
    "<table class=\"border text-black background-white\">\n",
    "    <tr>\n",
    "        <th class=\"border-none text-center\" colspan=\"5\">混同行列</th>\n",
    "    </tr>\n",
    "    <tr class=\"text-center\">\n",
    "        <td class=\"border-top-none border-left-none border-bottom-bold border-right-bold\" rowspan=\"2\" colspan=\"2\"></td>\n",
    "        <th class=\"border-bottom\" colspan=\"3\">予測</th>\n",
    "    </tr>\n",
    "    <tr class=\"text-center\">\n",
    "        <th>A</th>\n",
    "        <th>B</th>\n",
    "        <th>C</th>\n",
    "    </tr>\n",
    "    <tr>\n",
    "        <th class=\"border-bottom text-center\" rowspan=\"3\">正解ラベル</th>\n",
    "        <th class=\"border-bottom border-right-bold text-center\">A</th>\n",
    "        <td class=\"text-right\">10</td>\n",
    "        <td class=\"text-right\">15</td>\n",
    "        <td class=\"text-right\">25</td>\n",
    "    </tr>\n",
    "    <tr>\n",
    "        <th class=\"border-bottom border-right-bold text-center\">B</th>\n",
    "        <td class=\"text-right\">7</td>\n",
    "        <td class=\"text-right\">40</td>\n",
    "        <td class=\"text-right\">3</td>\n",
    "    </tr>\n",
    "    <tr>\n",
    "        <th class=\"border-bottom border-right-bold text-center\">C</th>\n",
    "        <td class=\"text-right\">2</td>\n",
    "        <td class=\"text-right\">3</td>\n",
    "        <td class=\"text-right\">45</td>\n",
    "    </tr>\n",
    "</table>\n",
    "\n",
    "行単位で正規化して、精度の悪いクラスを捉える特徴の追加を考える。 (下の例ではAとそれ以外で顕著に変わるような特徴)\n",
    "\n",
    "<table class=\"border text-black background-white\">\n",
    "    <tr class=\"text-center\">\n",
    "        <td class=\"border-top-none border-left-none border-bottom-bold border-right-bold\" rowspan=\"2\" colspan=\"2\"></td>\n",
    "        <th class=\"border-bottom\" colspan=\"3\">予測</th>\n",
    "    </tr>\n",
    "    <tr class=\"text-center\">\n",
    "        <th>A</th>\n",
    "        <th>B</th>\n",
    "        <th>C</th>\n",
    "    </tr>\n",
    "    <tr>\n",
    "        <th class=\"border-bottom text-center\" rowspan=\"3\">正解ラベル</th>\n",
    "        <th class=\"border-bottom border-right-bold text-center\">A</th>\n",
    "        <td class=\"text-left text-red\">0.2</td>\n",
    "        <td class=\"text-left\">0.3</td>\n",
    "        <td class=\"text-left\">0.5</td>\n",
    "    </tr>\n",
    "    <tr>\n",
    "        <th class=\"border-bottom border-right-bold text-center\">B</th>\n",
    "        <td class=\"text-left\">0.14</td>\n",
    "        <td class=\"text-left text-red\">0.8</td>\n",
    "        <td class=\"text-left\">0.06</td>\n",
    "    </tr>\n",
    "    <tr>\n",
    "        <th class=\"border-bottom border-right-bold text-center\">C</th>\n",
    "        <td class=\"text-left\">0.04</td>\n",
    "        <td class=\"text-left\">0.06</td>\n",
    "        <td class=\"text-left text-red\">0.9</td>\n",
    "    </tr>\n",
    "</table>\n",
    "\n",
    "列単位で正規化して、それぞれの予測の信頼性を確認する。 (運用した際の体感的なクラス別精度)\n",
    "\n",
    "<table class=\"border text-black background-white\">\n",
    "    <tr class=\"text-center\">\n",
    "        <td class=\"border-top-none border-left-none border-bottom-bold border-right-bold\" rowspan=\"2\" colspan=\"2\"></td>\n",
    "        <th class=\"border-bottom\" colspan=\"3\">予測</th>\n",
    "    </tr>\n",
    "    <tr class=\"text-center\">\n",
    "        <th>A</th>\n",
    "        <th>B</th>\n",
    "        <th>C</th>\n",
    "    </tr>\n",
    "    <tr>\n",
    "        <th class=\"border-bottom text-center\" rowspan=\"3\">正解ラベル</th>\n",
    "        <th class=\"border-bottom border-right-bold text-center\">A</th>\n",
    "        <td class=\"text-left text-red\">0.53</td>\n",
    "        <td class=\"text-left\">0.26</td>\n",
    "        <td class=\"text-left\">0.34</td>\n",
    "    </tr>\n",
    "    <tr>\n",
    "        <th class=\"border-bottom border-right-bold text-center\">B</th>\n",
    "        <td class=\"text-left\">0.37</td>\n",
    "        <td class=\"text-left text-red\">0.69</td>\n",
    "        <td class=\"text-left\">0.04</td>\n",
    "    </tr>\n",
    "    <tr>\n",
    "        <th class=\"border-bottom border-right-bold text-center\">C</th>\n",
    "        <td class=\"text-left\">0.11</td>\n",
    "        <td class=\"text-left\">0.05</td>\n",
    "        <td class=\"text-left text-red\">0.62</td>\n",
    "    </tr>\n",
    "</table>"
   ]
  }
 ],
 "metadata": {
  "kernelspec": {
   "display_name": "Python 3",
   "language": "python",
   "name": "python3"
  },
  "language_info": {
   "codemirror_mode": {
    "name": "ipython",
    "version": 3
   },
   "file_extension": ".py",
   "mimetype": "text/x-python",
   "name": "python",
   "nbconvert_exporter": "python",
   "pygments_lexer": "ipython3",
   "version": "3.7.4"
  },
  "toc": {
   "base_numbering": 1,
   "nav_menu": {},
   "number_sections": true,
   "sideBar": true,
   "skip_h1_title": true,
   "title_cell": "Table of Contents",
   "title_sidebar": "Contents",
   "toc_cell": false,
   "toc_position": {},
   "toc_section_display": true,
   "toc_window_display": true
  },
  "varInspector": {
   "cols": {
    "lenName": 16,
    "lenType": 16,
    "lenVar": 40
   },
   "kernels_config": {
    "python": {
     "delete_cmd_postfix": "",
     "delete_cmd_prefix": "del ",
     "library": "var_list.py",
     "varRefreshCmd": "print(var_dic_list())"
    },
    "r": {
     "delete_cmd_postfix": ") ",
     "delete_cmd_prefix": "rm(",
     "library": "var_list.r",
     "varRefreshCmd": "cat(var_dic_list()) "
    }
   },
   "types_to_exclude": [
    "module",
    "function",
    "builtin_function_or_method",
    "instance",
    "_Feature"
   ],
   "window_display": false
  }
 },
 "nbformat": 4,
 "nbformat_minor": 2
}
