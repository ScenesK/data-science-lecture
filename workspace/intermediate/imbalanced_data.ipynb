{
 "cells": [
  {
   "cell_type": "code",
   "execution_count": 1,
   "metadata": {},
   "outputs": [],
   "source": [
    "import numpy as np\n",
    "import pandas as pd\n",
    "from sklearn import metrics\n",
    "from sklearn.linear_model import LogisticRegression\n",
    "from imblearn.datasets import fetch_datasets\n",
    "import matplotlib.pyplot as plt\n",
    "from IPython.display import display\n",
    "pd.set_option('max_rows', 5)\n",
    "%matplotlib inline"
   ]
  },
  {
   "cell_type": "markdown",
   "metadata": {},
   "source": [
    "# 不均衡データ (imbalanced data)\n",
    "---\n",
    "クラス $A$ とクラス $B$ のサンプルサイズが $A:B=1:99$ など極端な偏りのあるデータ。 $A$ を無視して全て $B$ と予測するモデルでも正解率99%を達成してしまう。単純に正解率などをモデルの評価指標とできないので、他の指標が必要。\n",
    "\n",
    "不均衡データを評価するには、まず混同行列を理解しないといけない。"
   ]
  },
  {
   "cell_type": "markdown",
   "metadata": {},
   "source": [
    "## 混同行列 (confusion matrix)\n",
    "---\n",
    "予測と正解ラベルの関係をマトリクス図にしたもの。\n",
    "\n",
    "- 関心のあるクラス (サンプル数の少ないほう) に分類したものが <span class=\"text-shadow\" style=\"color: red;\">陽性 (Positive)</span> 、関心のないクラス (サンプル数の多いほう) に分類したものが <span class=\"text-shadow\" style=\"color: blue;\">陰性 (Negative)</span>\n",
    "- 分類が合っていれば <span class=\"text-shadow\" style=\"color: green;\">真 (True)</span> 、間違っていれば <span class=\"text-shadow\" style=\"color: orange;\">偽 (False)</span>\n",
    "\n",
    "<table class=\"border text-center text-black background-white\">\n",
    "    <tr>\n",
    "        <th class=\"border-top-none border-left-none border-right-bold\"></th>\n",
    "        <th><span style=\"color: red;\">True と予測</span></th>\n",
    "        <th><span style=\"color: blue;\">False と予測</span></th>\n",
    "    </tr>\n",
    "    <tr>\n",
    "        <th class=\"border-bottom border-right-bold\">正解ラベルが True<br />(関心のあるクラス)</th>\n",
    "        <td><span style=\"color: green;\">真</span><span style=\"color: red;\">陽性</span><br /><span style=\"color: green;\">True</span> <span style=\"color: red;\">Positive</span></td>\n",
    "        <td><span style=\"color: orange;\">偽</span><span style=\"color: blue;\">陰性</span><br><span style=\"color: orange;\">False</span> <span style=\"color: blue;\">Negative</span></td>\n",
    "    </tr>\n",
    "    <tr>\n",
    "        <th class=\"border-bottom border-right-bold\">正解ラベルが False<br />(関心のないクラス)</th>\n",
    "        <td><span style=\"color: orange;\">偽</span><span style=\"color: red;\">陽性</span><br /><span style=\"color: orange;\">False</span> <span style=\"color: red;\">Positive</span></td>\n",
    "        <td><span style=\"color: green;\">真</span><span style=\"color: blue;\">陰性</span><br /><span style=\"color: green;\">True</span> <span style=\"color: blue;\">Negative</span></td>\n",
    "    </tr>\n",
    "</table>"
   ]
  },
  {
   "cell_type": "markdown",
   "metadata": {},
   "source": [
    "練習問題\n",
    "\n",
    "---\n",
    "`mammography`データセットに任意の分類アルゴリズムを適用し、混同行列を作成する。"
   ]
  },
  {
   "cell_type": "code",
   "execution_count": 2,
   "metadata": {
    "hide_input": true,
    "jupyter": {
     "source_hidden": true
    }
   },
   "outputs": [
    {
     "name": "stdout",
     "output_type": "stream",
     "text": [
      "mammography\n"
     ]
    },
    {
     "data": {
      "text/html": [
       "<div>\n",
       "<style scoped>\n",
       "    .dataframe tbody tr th:only-of-type {\n",
       "        vertical-align: middle;\n",
       "    }\n",
       "\n",
       "    .dataframe tbody tr th {\n",
       "        vertical-align: top;\n",
       "    }\n",
       "\n",
       "    .dataframe thead th {\n",
       "        text-align: right;\n",
       "    }\n",
       "</style>\n",
       "<table border=\"1\" class=\"dataframe\">\n",
       "  <thead>\n",
       "    <tr style=\"text-align: right;\">\n",
       "      <th></th>\n",
       "      <th>$x_1$</th>\n",
       "      <th>$x_2$</th>\n",
       "      <th>$x_3$</th>\n",
       "      <th>$x_4$</th>\n",
       "      <th>$x_5$</th>\n",
       "      <th>$x_6$</th>\n",
       "      <th>$y$</th>\n",
       "    </tr>\n",
       "  </thead>\n",
       "  <tbody>\n",
       "    <tr>\n",
       "      <th>0</th>\n",
       "      <td>0.230020</td>\n",
       "      <td>5.072578</td>\n",
       "      <td>-0.276061</td>\n",
       "      <td>0.832444</td>\n",
       "      <td>-0.377866</td>\n",
       "      <td>0.480322</td>\n",
       "      <td>0.0</td>\n",
       "    </tr>\n",
       "    <tr>\n",
       "      <th>1</th>\n",
       "      <td>0.155491</td>\n",
       "      <td>-0.169390</td>\n",
       "      <td>0.670652</td>\n",
       "      <td>-0.859553</td>\n",
       "      <td>-0.377866</td>\n",
       "      <td>-0.945723</td>\n",
       "      <td>0.0</td>\n",
       "    </tr>\n",
       "    <tr>\n",
       "      <th>...</th>\n",
       "      <td>...</td>\n",
       "      <td>...</td>\n",
       "      <td>...</td>\n",
       "      <td>...</td>\n",
       "      <td>...</td>\n",
       "      <td>...</td>\n",
       "      <td>...</td>\n",
       "    </tr>\n",
       "    <tr>\n",
       "      <th>11181</th>\n",
       "      <td>0.736644</td>\n",
       "      <td>-0.222474</td>\n",
       "      <td>-0.050653</td>\n",
       "      <td>1.509665</td>\n",
       "      <td>0.539269</td>\n",
       "      <td>1.315229</td>\n",
       "      <td>1.0</td>\n",
       "    </tr>\n",
       "    <tr>\n",
       "      <th>11182</th>\n",
       "      <td>0.177003</td>\n",
       "      <td>-0.191508</td>\n",
       "      <td>-0.501468</td>\n",
       "      <td>1.578864</td>\n",
       "      <td>7.750705</td>\n",
       "      <td>1.555951</td>\n",
       "      <td>1.0</td>\n",
       "    </tr>\n",
       "  </tbody>\n",
       "</table>\n",
       "<p>11183 rows × 7 columns</p>\n",
       "</div>"
      ],
      "text/plain": [
       "          $x_1$     $x_2$     $x_3$     $x_4$     $x_5$     $x_6$  $y$\n",
       "0      0.230020  5.072578 -0.276061  0.832444 -0.377866  0.480322  0.0\n",
       "1      0.155491 -0.169390  0.670652 -0.859553 -0.377866 -0.945723  0.0\n",
       "...         ...       ...       ...       ...       ...       ...  ...\n",
       "11181  0.736644 -0.222474 -0.050653  1.509665  0.539269  1.315229  1.0\n",
       "11182  0.177003 -0.191508 -0.501468  1.578864  7.750705  1.555951  1.0\n",
       "\n",
       "[11183 rows x 7 columns]"
      ]
     },
     "metadata": {},
     "output_type": "display_data"
    }
   ],
   "source": [
    "dataset = fetch_datasets(filter_data=['mammography'])['mammography']\n",
    "mammography = pd.DataFrame(\n",
    "    np.column_stack([dataset.data,\n",
    "                     np.where(dataset.target == 1, 1, 0)]))\n",
    "n_columns = mammography.columns.size\n",
    "mammography.columns = [\n",
    "    f'$x_{i+1}$' if i < n_columns - 1 else '$y$' for i in range(n_columns)\n",
    "]\n",
    "print('mammography')\n",
    "display(mammography)"
   ]
  },
  {
   "cell_type": "code",
   "execution_count": null,
   "metadata": {},
   "outputs": [],
   "source": []
  },
  {
   "cell_type": "markdown",
   "metadata": {
    "solution2": "hidden",
    "solution2_first": true
   },
   "source": [
    "解答例\n",
    "\n",
    "---"
   ]
  },
  {
   "cell_type": "code",
   "execution_count": 3,
   "metadata": {
    "collapsed": true,
    "jupyter": {
     "outputs_hidden": true,
     "source_hidden": true
    },
    "solution2": "hidden"
   },
   "outputs": [
    {
     "data": {
      "text/plain": [
       "array([[  105,   155],\n",
       "       [   27, 10896]])"
      ]
     },
     "execution_count": 3,
     "metadata": {},
     "output_type": "execute_result"
    }
   ],
   "source": [
    "from sklearn.linear_model import LogisticRegression\n",
    "model = LogisticRegression().fit(mammography.iloc[:, :-1].values,\n",
    "                                 mammography.iloc[:, -1].values)\n",
    "y_true = mammography.iloc[:, -1].values.astype(bool)\n",
    "y_pred = model.predict(mammography.iloc[:, :-1].values).astype(bool)\n",
    "trues = np.vstack([y_true, ~y_true]).astype(int)\n",
    "preds = np.column_stack([y_pred, ~y_pred]).astype(int)\n",
    "trues.dot(preds)"
   ]
  },
  {
   "cell_type": "markdown",
   "metadata": {},
   "source": [
    "---"
   ]
  },
  {
   "cell_type": "markdown",
   "metadata": {},
   "source": [
    "### Pythonでの混同行列作成方法\n",
    "---\n",
    "`sklearn.metrics.confusion_matrix`を使用する。ヒートマップで表示するには`sklearn.metrics.plot_confusion_matrix`を使用する。"
   ]
  },
  {
   "cell_type": "code",
   "execution_count": 4,
   "metadata": {
    "collapsed": true,
    "jupyter": {
     "outputs_hidden": true
    }
   },
   "outputs": [
    {
     "name": "stdout",
     "output_type": "stream",
     "text": [
      "Help on function confusion_matrix in module sklearn.metrics._classification:\n",
      "\n",
      "confusion_matrix(y_true, y_pred, *, labels=None, sample_weight=None, normalize=None)\n",
      "    Compute confusion matrix to evaluate the accuracy of a classification.\n",
      "    \n",
      "    By definition a confusion matrix :math:`C` is such that :math:`C_{i, j}`\n",
      "    is equal to the number of observations known to be in group :math:`i` and\n",
      "    predicted to be in group :math:`j`.\n",
      "    \n",
      "    Thus in binary classification, the count of true negatives is\n",
      "    :math:`C_{0,0}`, false negatives is :math:`C_{1,0}`, true positives is\n",
      "    :math:`C_{1,1}` and false positives is :math:`C_{0,1}`.\n",
      "    \n",
      "    Read more in the :ref:`User Guide <confusion_matrix>`.\n",
      "    \n",
      "    Parameters\n",
      "    ----------\n",
      "    y_true : array-like of shape (n_samples,)\n",
      "        Ground truth (correct) target values.\n",
      "    \n",
      "    y_pred : array-like of shape (n_samples,)\n",
      "        Estimated targets as returned by a classifier.\n",
      "    \n",
      "    labels : array-like of shape (n_classes), default=None\n",
      "        List of labels to index the matrix. This may be used to reorder\n",
      "        or select a subset of labels.\n",
      "        If ``None`` is given, those that appear at least once\n",
      "        in ``y_true`` or ``y_pred`` are used in sorted order.\n",
      "    \n",
      "    sample_weight : array-like of shape (n_samples,), default=None\n",
      "        Sample weights.\n",
      "    \n",
      "        .. versionadded:: 0.18\n",
      "    \n",
      "    normalize : {'true', 'pred', 'all'}, default=None\n",
      "        Normalizes confusion matrix over the true (rows), predicted (columns)\n",
      "        conditions or all the population. If None, confusion matrix will not be\n",
      "        normalized.\n",
      "    \n",
      "    Returns\n",
      "    -------\n",
      "    C : ndarray of shape (n_classes, n_classes)\n",
      "        Confusion matrix whose i-th row and j-th\n",
      "        column entry indicates the number of\n",
      "        samples with true label being i-th class\n",
      "        and prediced label being j-th class.\n",
      "    \n",
      "    References\n",
      "    ----------\n",
      "    .. [1] `Wikipedia entry for the Confusion matrix\n",
      "           <https://en.wikipedia.org/wiki/Confusion_matrix>`_\n",
      "           (Wikipedia and other references may use a different\n",
      "           convention for axes)\n",
      "    \n",
      "    Examples\n",
      "    --------\n",
      "    >>> from sklearn.metrics import confusion_matrix\n",
      "    >>> y_true = [2, 0, 2, 2, 0, 1]\n",
      "    >>> y_pred = [0, 0, 2, 2, 0, 2]\n",
      "    >>> confusion_matrix(y_true, y_pred)\n",
      "    array([[2, 0, 0],\n",
      "           [0, 0, 1],\n",
      "           [1, 0, 2]])\n",
      "    \n",
      "    >>> y_true = [\"cat\", \"ant\", \"cat\", \"cat\", \"ant\", \"bird\"]\n",
      "    >>> y_pred = [\"ant\", \"ant\", \"cat\", \"cat\", \"ant\", \"cat\"]\n",
      "    >>> confusion_matrix(y_true, y_pred, labels=[\"ant\", \"bird\", \"cat\"])\n",
      "    array([[2, 0, 0],\n",
      "           [0, 0, 1],\n",
      "           [1, 0, 2]])\n",
      "    \n",
      "    In the binary case, we can extract true positives, etc as follows:\n",
      "    \n",
      "    >>> tn, fp, fn, tp = confusion_matrix([0, 1, 0, 1], [1, 1, 1, 0]).ravel()\n",
      "    >>> (tn, fp, fn, tp)\n",
      "    (0, 2, 1, 1)\n",
      "\n"
     ]
    }
   ],
   "source": [
    "help(metrics.confusion_matrix)"
   ]
  },
  {
   "cell_type": "code",
   "execution_count": 5,
   "metadata": {},
   "outputs": [
    {
     "data": {
      "text/plain": [
       "array([[10896,    27],\n",
       "       [  155,   105]])"
      ]
     },
     "execution_count": 5,
     "metadata": {},
     "output_type": "execute_result"
    }
   ],
   "source": [
    "x = mammography.iloc[:, :-1]\n",
    "y = mammography.iloc[:, -1]\n",
    "model = LogisticRegression().fit(x, y)\n",
    "pred = model.predict(x)\n",
    "metrics.confusion_matrix(y, pred)"
   ]
  },
  {
   "cell_type": "code",
   "execution_count": 6,
   "metadata": {
    "collapsed": true,
    "jupyter": {
     "outputs_hidden": true
    }
   },
   "outputs": [
    {
     "name": "stdout",
     "output_type": "stream",
     "text": [
      "Help on function plot_confusion_matrix in module sklearn.metrics._plot.confusion_matrix:\n",
      "\n",
      "plot_confusion_matrix(estimator, X, y_true, *, labels=None, sample_weight=None, normalize=None, display_labels=None, include_values=True, xticks_rotation='horizontal', values_format=None, cmap='viridis', ax=None)\n",
      "    Plot Confusion Matrix.\n",
      "    \n",
      "    Read more in the :ref:`User Guide <confusion_matrix>`.\n",
      "    \n",
      "    Parameters\n",
      "    ----------\n",
      "    estimator : estimator instance\n",
      "        Fitted classifier or a fitted :class:`~sklearn.pipeline.Pipeline`\n",
      "        in which the last estimator is a classifier.\n",
      "    \n",
      "    X : {array-like, sparse matrix} of shape (n_samples, n_features)\n",
      "        Input values.\n",
      "    \n",
      "    y : array-like of shape (n_samples,)\n",
      "        Target values.\n",
      "    \n",
      "    labels : array-like of shape (n_classes,), default=None\n",
      "        List of labels to index the matrix. This may be used to reorder or\n",
      "        select a subset of labels. If `None` is given, those that appear at\n",
      "        least once in `y_true` or `y_pred` are used in sorted order.\n",
      "    \n",
      "    sample_weight : array-like of shape (n_samples,), default=None\n",
      "        Sample weights.\n",
      "    \n",
      "    normalize : {'true', 'pred', 'all'}, default=None\n",
      "        Normalizes confusion matrix over the true (rows), predicted (columns)\n",
      "        conditions or all the population. If None, confusion matrix will not be\n",
      "        normalized.\n",
      "    \n",
      "    display_labels : array-like of shape (n_classes,), default=None\n",
      "        Target names used for plotting. By default, `labels` will be used if\n",
      "        it is defined, otherwise the unique labels of `y_true` and `y_pred`\n",
      "        will be used.\n",
      "    \n",
      "    include_values : bool, default=True\n",
      "        Includes values in confusion matrix.\n",
      "    \n",
      "    xticks_rotation : {'vertical', 'horizontal'} or float,                         default='horizontal'\n",
      "        Rotation of xtick labels.\n",
      "    \n",
      "    values_format : str, default=None\n",
      "        Format specification for values in confusion matrix. If `None`,\n",
      "        the format specification is 'd' or '.2g' whichever is shorter.\n",
      "    \n",
      "    cmap : str or matplotlib Colormap, default='viridis'\n",
      "        Colormap recognized by matplotlib.\n",
      "    \n",
      "    ax : matplotlib Axes, default=None\n",
      "        Axes object to plot on. If `None`, a new figure and axes is\n",
      "        created.\n",
      "    \n",
      "    Returns\n",
      "    -------\n",
      "    display : :class:`~sklearn.metrics.ConfusionMatrixDisplay`\n",
      "    \n",
      "    Examples\n",
      "    --------\n",
      "    >>> import matplotlib.pyplot as plt  # doctest: +SKIP\n",
      "    >>> from sklearn.datasets import make_classification\n",
      "    >>> from sklearn.metrics import plot_confusion_matrix\n",
      "    >>> from sklearn.model_selection import train_test_split\n",
      "    >>> from sklearn.svm import SVC\n",
      "    >>> X, y = make_classification(random_state=0)\n",
      "    >>> X_train, X_test, y_train, y_test = train_test_split(\n",
      "    ...         X, y, random_state=0)\n",
      "    >>> clf = SVC(random_state=0)\n",
      "    >>> clf.fit(X_train, y_train)\n",
      "    SVC(random_state=0)\n",
      "    >>> plot_confusion_matrix(clf, X_test, y_test)  # doctest: +SKIP\n",
      "    >>> plt.show()  # doctest: +SKIP\n",
      "\n"
     ]
    }
   ],
   "source": [
    "help(metrics.plot_confusion_matrix)"
   ]
  },
  {
   "cell_type": "code",
   "execution_count": 7,
   "metadata": {},
   "outputs": [
    {
     "data": {
      "image/png": "[encoded data removed]",
      "text/plain": [
       "<Figure size 432x288 with 2 Axes>"
      ]
     },
     "metadata": {
      "needs_background": "light"
     },
     "output_type": "display_data"
    }
   ],
   "source": [
    "metrics.plot_confusion_matrix(model, x, y, values_format='d')\n",
    "plt.show()"
   ]
  },
  {
   "cell_type": "markdown",
   "metadata": {},
   "source": [
    "## 混同行列を利用した評価指標"
   ]
  },
  {
   "cell_type": "markdown",
   "metadata": {},
   "source": [
    "### F1スコア\n",
    "---\n",
    "適合率と再現率を組み合わせた指標。"
   ]
  },
  {
   "cell_type": "markdown",
   "metadata": {},
   "source": [
    "#### 適合率 (precision)\n",
    "---\n",
    "陽性 (関心あり) という予測の信頼度。陽性と判定する基準を厳しく (微妙なものは陰性に分類) すると向上。\n",
    "\n",
    "<span class=\"text-shadow\" style=\"color: lime;\">PRE</span> = <span class=\"text-shadow\" style=\"color: yellow;\">True Positive</span> ÷ <span class=\"text-shadow\" style=\"color: red;\">Predicted True</span>\n",
    "\n",
    "<table class=\"border text-center background-white\">\n",
    "    <tr>\n",
    "        <th class=\"border-top-none border-left-none border-right-bold\"></th>\n",
    "        <th><span style=\"color: red;\">True と予測</span></th>\n",
    "        <th class=\"text-black\">False と予測</th>\n",
    "    </tr>\n",
    "    <tr>\n",
    "        <th class=\"border-bottom border-right-bold text-black\">正解ラベルが True<br />(関心のあるクラス)</th>\n",
    "        <td style=\"background-color: red;\"><span style=\"color: yellow;\">真陽性<br />True Positive</span></td>\n",
    "        <td class=\"text-black\">偽陰性<br />False Negative</td>\n",
    "    </tr>\n",
    "    <tr>\n",
    "        <th class=\"border-bottom border-right-bold text-black\">正解ラベルが False<br />(関心のないクラス)</th>\n",
    "        <td class=\"text-black\" style=\"background-color: red;\">偽陽性<br />False Positive</td>\n",
    "        <td class=\"text-black\">真陰性<br />True Negative</td>\n",
    "    </tr>\n",
    "</table>"
   ]
  },
  {
   "cell_type": "markdown",
   "metadata": {},
   "source": [
    "練習問題\n",
    "\n",
    "---\n",
    "`pred`データセットから適合率を算出する。"
   ]
  },
  {
   "cell_type": "code",
   "execution_count": 8,
   "metadata": {
    "hide_input": true,
    "jupyter": {
     "source_hidden": true
    }
   },
   "outputs": [
    {
     "name": "stdout",
     "output_type": "stream",
     "text": [
      "pred\n"
     ]
    },
    {
     "data": {
      "text/html": [
       "<div>\n",
       "<style scoped>\n",
       "    .dataframe tbody tr th:only-of-type {\n",
       "        vertical-align: middle;\n",
       "    }\n",
       "\n",
       "    .dataframe tbody tr th {\n",
       "        vertical-align: top;\n",
       "    }\n",
       "\n",
       "    .dataframe thead th {\n",
       "        text-align: right;\n",
       "    }\n",
       "</style>\n",
       "<table border=\"1\" class=\"dataframe\">\n",
       "  <thead>\n",
       "    <tr style=\"text-align: right;\">\n",
       "      <th></th>\n",
       "      <th>正解</th>\n",
       "      <th>予測</th>\n",
       "      <th>確率</th>\n",
       "    </tr>\n",
       "  </thead>\n",
       "  <tbody>\n",
       "    <tr>\n",
       "      <th>0</th>\n",
       "      <td>0</td>\n",
       "      <td>0</td>\n",
       "      <td>0.000087</td>\n",
       "    </tr>\n",
       "    <tr>\n",
       "      <th>1</th>\n",
       "      <td>0</td>\n",
       "      <td>0</td>\n",
       "      <td>0.000190</td>\n",
       "    </tr>\n",
       "    <tr>\n",
       "      <th>...</th>\n",
       "      <td>...</td>\n",
       "      <td>...</td>\n",
       "      <td>...</td>\n",
       "    </tr>\n",
       "    <tr>\n",
       "      <th>11181</th>\n",
       "      <td>1</td>\n",
       "      <td>0</td>\n",
       "      <td>0.069676</td>\n",
       "    </tr>\n",
       "    <tr>\n",
       "      <th>11182</th>\n",
       "      <td>1</td>\n",
       "      <td>1</td>\n",
       "      <td>0.947977</td>\n",
       "    </tr>\n",
       "  </tbody>\n",
       "</table>\n",
       "<p>11183 rows × 3 columns</p>\n",
       "</div>"
      ],
      "text/plain": [
       "       正解  予測        確率\n",
       "0       0   0  0.000087\n",
       "1       0   0  0.000190\n",
       "...    ..  ..       ...\n",
       "11181   1   0  0.069676\n",
       "11182   1   1  0.947977\n",
       "\n",
       "[11183 rows x 3 columns]"
      ]
     },
     "metadata": {},
     "output_type": "display_data"
    }
   ],
   "source": [
    "x = mammography.iloc[:, :-1].values\n",
    "y = mammography.iloc[:, -1].values\n",
    "model = LogisticRegression(random_state=1234).fit(x, y)\n",
    "pred = pd.DataFrame({\n",
    "    '正解': y.astype(int),\n",
    "    '予測': model.predict(x).astype(int),\n",
    "    '確率': model.predict_proba(x)[:, 1]\n",
    "})\n",
    "print('pred')\n",
    "display(pred)"
   ]
  },
  {
   "cell_type": "code",
   "execution_count": null,
   "metadata": {},
   "outputs": [],
   "source": []
  },
  {
   "cell_type": "markdown",
   "metadata": {
    "solution2": "hidden",
    "solution2_first": true
   },
   "source": [
    "解答例\n",
    "\n",
    "---"
   ]
  },
  {
   "cell_type": "code",
   "execution_count": 9,
   "metadata": {
    "collapsed": true,
    "jupyter": {
     "outputs_hidden": true,
     "source_hidden": true
    },
    "solution2": "hidden"
   },
   "outputs": [
    {
     "name": "stdout",
     "output_type": "stream",
     "text": [
      "適合率 : 0.795\n"
     ]
    }
   ],
   "source": [
    "true_positive = pred.query('正解 == 1 and 予測 == 1').index.size\n",
    "predicted_true = pred.query('予測 == 1').index.size\n",
    "pre = true_positive / predicted_true\n",
    "print(f'適合率 : {pre:.3f}')"
   ]
  },
  {
   "cell_type": "markdown",
   "metadata": {},
   "source": [
    "---"
   ]
  },
  {
   "cell_type": "markdown",
   "metadata": {},
   "source": [
    "##### Pythonでの適合率算出方法\n",
    "---\n",
    "`sklearn.metrics.precision_score`を使用する。"
   ]
  },
  {
   "cell_type": "code",
   "execution_count": 10,
   "metadata": {
    "collapsed": true,
    "jupyter": {
     "outputs_hidden": true
    }
   },
   "outputs": [
    {
     "name": "stdout",
     "output_type": "stream",
     "text": [
      "Help on function precision_score in module sklearn.metrics._classification:\n",
      "\n",
      "precision_score(y_true, y_pred, *, labels=None, pos_label=1, average='binary', sample_weight=None, zero_division='warn')\n",
      "    Compute the precision\n",
      "    \n",
      "    The precision is the ratio ``tp / (tp + fp)`` where ``tp`` is the number of\n",
      "    true positives and ``fp`` the number of false positives. The precision is\n",
      "    intuitively the ability of the classifier not to label as positive a sample\n",
      "    that is negative.\n",
      "    \n",
      "    The best value is 1 and the worst value is 0.\n",
      "    \n",
      "    Read more in the :ref:`User Guide <precision_recall_f_measure_metrics>`.\n",
      "    \n",
      "    Parameters\n",
      "    ----------\n",
      "    y_true : 1d array-like, or label indicator array / sparse matrix\n",
      "        Ground truth (correct) target values.\n",
      "    \n",
      "    y_pred : 1d array-like, or label indicator array / sparse matrix\n",
      "        Estimated targets as returned by a classifier.\n",
      "    \n",
      "    labels : list, optional\n",
      "        The set of labels to include when ``average != 'binary'``, and their\n",
      "        order if ``average is None``. Labels present in the data can be\n",
      "        excluded, for example to calculate a multiclass average ignoring a\n",
      "        majority negative class, while labels not present in the data will\n",
      "        result in 0 components in a macro average. For multilabel targets,\n",
      "        labels are column indices. By default, all labels in ``y_true`` and\n",
      "        ``y_pred`` are used in sorted order.\n",
      "    \n",
      "        .. versionchanged:: 0.17\n",
      "           parameter *labels* improved for multiclass problem.\n",
      "    \n",
      "    pos_label : str or int, 1 by default\n",
      "        The class to report if ``average='binary'`` and the data is binary.\n",
      "        If the data are multiclass or multilabel, this will be ignored;\n",
      "        setting ``labels=[pos_label]`` and ``average != 'binary'`` will report\n",
      "        scores for that label only.\n",
      "    \n",
      "    average : string, [None, 'binary' (default), 'micro', 'macro', 'samples',                        'weighted']\n",
      "        This parameter is required for multiclass/multilabel targets.\n",
      "        If ``None``, the scores for each class are returned. Otherwise, this\n",
      "        determines the type of averaging performed on the data:\n",
      "    \n",
      "        ``'binary'``:\n",
      "            Only report results for the class specified by ``pos_label``.\n",
      "            This is applicable only if targets (``y_{true,pred}``) are binary.\n",
      "        ``'micro'``:\n",
      "            Calculate metrics globally by counting the total true positives,\n",
      "            false negatives and false positives.\n",
      "        ``'macro'``:\n",
      "            Calculate metrics for each label, and find their unweighted\n",
      "            mean.  This does not take label imbalance into account.\n",
      "        ``'weighted'``:\n",
      "            Calculate metrics for each label, and find their average weighted\n",
      "            by support (the number of true instances for each label). This\n",
      "            alters 'macro' to account for label imbalance; it can result in an\n",
      "            F-score that is not between precision and recall.\n",
      "        ``'samples'``:\n",
      "            Calculate metrics for each instance, and find their average (only\n",
      "            meaningful for multilabel classification where this differs from\n",
      "            :func:`accuracy_score`).\n",
      "    \n",
      "    sample_weight : array-like of shape (n_samples,), default=None\n",
      "        Sample weights.\n",
      "    \n",
      "    zero_division : \"warn\", 0 or 1, default=\"warn\"\n",
      "        Sets the value to return when there is a zero division. If set to\n",
      "        \"warn\", this acts as 0, but warnings are also raised.\n",
      "    \n",
      "    Returns\n",
      "    -------\n",
      "    precision : float (if average is not None) or array of float, shape =        [n_unique_labels]\n",
      "        Precision of the positive class in binary classification or weighted\n",
      "        average of the precision of each class for the multiclass task.\n",
      "    \n",
      "    See also\n",
      "    --------\n",
      "    precision_recall_fscore_support, multilabel_confusion_matrix\n",
      "    \n",
      "    Examples\n",
      "    --------\n",
      "    >>> from sklearn.metrics import precision_score\n",
      "    >>> y_true = [0, 1, 2, 0, 1, 2]\n",
      "    >>> y_pred = [0, 2, 1, 0, 0, 1]\n",
      "    >>> precision_score(y_true, y_pred, average='macro')\n",
      "    0.22...\n",
      "    >>> precision_score(y_true, y_pred, average='micro')\n",
      "    0.33...\n",
      "    >>> precision_score(y_true, y_pred, average='weighted')\n",
      "    0.22...\n",
      "    >>> precision_score(y_true, y_pred, average=None)\n",
      "    array([0.66..., 0.        , 0.        ])\n",
      "    >>> y_pred = [0, 0, 0, 0, 0, 0]\n",
      "    >>> precision_score(y_true, y_pred, average=None)\n",
      "    array([0.33..., 0.        , 0.        ])\n",
      "    >>> precision_score(y_true, y_pred, average=None, zero_division=1)\n",
      "    array([0.33..., 1.        , 1.        ])\n",
      "    \n",
      "    Notes\n",
      "    -----\n",
      "    When ``true positive + false positive == 0``, precision returns 0 and\n",
      "    raises ``UndefinedMetricWarning``. This behavior can be\n",
      "    modified with ``zero_division``.\n",
      "\n"
     ]
    }
   ],
   "source": [
    "help(metrics.precision_score)"
   ]
  },
  {
   "cell_type": "code",
   "execution_count": 11,
   "metadata": {},
   "outputs": [
    {
     "data": {
      "text/plain": [
       "0.7954545454545454"
      ]
     },
     "execution_count": 11,
     "metadata": {},
     "output_type": "execute_result"
    }
   ],
   "source": [
    "metrics.precision_score(pred['正解'], pred['予測'])"
   ]
  },
  {
   "cell_type": "markdown",
   "metadata": {},
   "source": [
    "#### 再現率 (recall)\n",
    "---\n",
    "陽性 (関心がある) データの捕捉率。陽性と判定する基準を緩く (微妙なものは陽性に分類) すると向上。\n",
    "\n",
    "<span class=\"text-shadow\" style=\"color: magenta;\">REC</span> = <span class=\"text-shadow\" style=\"color: yellow;\">True Positive</span> ÷ <span class=\"text-shadow\" style=\"color: purple;\">Labeled True</span>\n",
    "\n",
    "<table class=\"border text-center text-black background-white\">\n",
    "    <tr>\n",
    "        <th class=\"border-top-none border-left-none border-right-bold\"></th>\n",
    "        <th>True と予測</th>\n",
    "        <th>False と予測</th>\n",
    "    </tr>\n",
    "    <tr>\n",
    "        <th class=\"border-bottom border-right-bold\"><span style=\"color: purple;\">正解ラベルが True<br />(関心のあるクラス)</span></th>\n",
    "        <td style=\"background-color: purple;\"><span style=\"color: yellow;\">真陽性<br />True Positive</span></td>\n",
    "        <td style=\"background-color: purple;\">偽陰性<br />False Negative</td>\n",
    "    </tr>\n",
    "    <tr>\n",
    "        <th class=\"border-bottom border-right-bold\">正解ラベルが False<br />(関心のないクラス)</th>\n",
    "        <td>偽陽性<br />False Positive</td>\n",
    "        <td>真陰性<br />True Negative</td>\n",
    "    </tr>\n",
    "</table>"
   ]
  },
  {
   "cell_type": "markdown",
   "metadata": {},
   "source": [
    "練習問題\n",
    "\n",
    "---\n",
    "`pred`データセットから再現率を算出する。"
   ]
  },
  {
   "cell_type": "code",
   "execution_count": null,
   "metadata": {},
   "outputs": [],
   "source": []
  },
  {
   "cell_type": "markdown",
   "metadata": {
    "solution2": "hidden",
    "solution2_first": true
   },
   "source": [
    "解答例\n",
    "\n",
    "---"
   ]
  },
  {
   "cell_type": "code",
   "execution_count": 12,
   "metadata": {
    "collapsed": true,
    "jupyter": {
     "outputs_hidden": true,
     "source_hidden": true
    },
    "solution2": "hidden"
   },
   "outputs": [
    {
     "name": "stdout",
     "output_type": "stream",
     "text": [
      "再現率 : 0.404\n"
     ]
    }
   ],
   "source": [
    "true_positive = pred.query('正解 == 1 and 予測 == 1').index.size\n",
    "labeled_true = pred.query('正解 == 1').index.size\n",
    "rec = true_positive / labeled_true\n",
    "print(f'再現率 : {rec:.3f}')"
   ]
  },
  {
   "cell_type": "markdown",
   "metadata": {},
   "source": [
    "---"
   ]
  },
  {
   "cell_type": "markdown",
   "metadata": {},
   "source": [
    "##### Pythonでの再現率算出方法\n",
    "---\n",
    "`sklearn.metrics.recall_score`を使用する。"
   ]
  },
  {
   "cell_type": "code",
   "execution_count": 13,
   "metadata": {
    "collapsed": true,
    "jupyter": {
     "outputs_hidden": true
    }
   },
   "outputs": [
    {
     "name": "stdout",
     "output_type": "stream",
     "text": [
      "Help on function recall_score in module sklearn.metrics._classification:\n",
      "\n",
      "recall_score(y_true, y_pred, *, labels=None, pos_label=1, average='binary', sample_weight=None, zero_division='warn')\n",
      "    Compute the recall\n",
      "    \n",
      "    The recall is the ratio ``tp / (tp + fn)`` where ``tp`` is the number of\n",
      "    true positives and ``fn`` the number of false negatives. The recall is\n",
      "    intuitively the ability of the classifier to find all the positive samples.\n",
      "    \n",
      "    The best value is 1 and the worst value is 0.\n",
      "    \n",
      "    Read more in the :ref:`User Guide <precision_recall_f_measure_metrics>`.\n",
      "    \n",
      "    Parameters\n",
      "    ----------\n",
      "    y_true : 1d array-like, or label indicator array / sparse matrix\n",
      "        Ground truth (correct) target values.\n",
      "    \n",
      "    y_pred : 1d array-like, or label indicator array / sparse matrix\n",
      "        Estimated targets as returned by a classifier.\n",
      "    \n",
      "    labels : list, optional\n",
      "        The set of labels to include when ``average != 'binary'``, and their\n",
      "        order if ``average is None``. Labels present in the data can be\n",
      "        excluded, for example to calculate a multiclass average ignoring a\n",
      "        majority negative class, while labels not present in the data will\n",
      "        result in 0 components in a macro average. For multilabel targets,\n",
      "        labels are column indices. By default, all labels in ``y_true`` and\n",
      "        ``y_pred`` are used in sorted order.\n",
      "    \n",
      "        .. versionchanged:: 0.17\n",
      "           parameter *labels* improved for multiclass problem.\n",
      "    \n",
      "    pos_label : str or int, 1 by default\n",
      "        The class to report if ``average='binary'`` and the data is binary.\n",
      "        If the data are multiclass or multilabel, this will be ignored;\n",
      "        setting ``labels=[pos_label]`` and ``average != 'binary'`` will report\n",
      "        scores for that label only.\n",
      "    \n",
      "    average : string, [None, 'binary' (default), 'micro', 'macro', 'samples',                        'weighted']\n",
      "        This parameter is required for multiclass/multilabel targets.\n",
      "        If ``None``, the scores for each class are returned. Otherwise, this\n",
      "        determines the type of averaging performed on the data:\n",
      "    \n",
      "        ``'binary'``:\n",
      "            Only report results for the class specified by ``pos_label``.\n",
      "            This is applicable only if targets (``y_{true,pred}``) are binary.\n",
      "        ``'micro'``:\n",
      "            Calculate metrics globally by counting the total true positives,\n",
      "            false negatives and false positives.\n",
      "        ``'macro'``:\n",
      "            Calculate metrics for each label, and find their unweighted\n",
      "            mean.  This does not take label imbalance into account.\n",
      "        ``'weighted'``:\n",
      "            Calculate metrics for each label, and find their average weighted\n",
      "            by support (the number of true instances for each label). This\n",
      "            alters 'macro' to account for label imbalance; it can result in an\n",
      "            F-score that is not between precision and recall.\n",
      "        ``'samples'``:\n",
      "            Calculate metrics for each instance, and find their average (only\n",
      "            meaningful for multilabel classification where this differs from\n",
      "            :func:`accuracy_score`).\n",
      "    \n",
      "    sample_weight : array-like of shape (n_samples,), default=None\n",
      "        Sample weights.\n",
      "    \n",
      "    zero_division : \"warn\", 0 or 1, default=\"warn\"\n",
      "        Sets the value to return when there is a zero division. If set to\n",
      "        \"warn\", this acts as 0, but warnings are also raised.\n",
      "    \n",
      "    Returns\n",
      "    -------\n",
      "    recall : float (if average is not None) or array of float, shape =        [n_unique_labels]\n",
      "        Recall of the positive class in binary classification or weighted\n",
      "        average of the recall of each class for the multiclass task.\n",
      "    \n",
      "    See also\n",
      "    --------\n",
      "    precision_recall_fscore_support, balanced_accuracy_score,\n",
      "    multilabel_confusion_matrix\n",
      "    \n",
      "    Examples\n",
      "    --------\n",
      "    >>> from sklearn.metrics import recall_score\n",
      "    >>> y_true = [0, 1, 2, 0, 1, 2]\n",
      "    >>> y_pred = [0, 2, 1, 0, 0, 1]\n",
      "    >>> recall_score(y_true, y_pred, average='macro')\n",
      "    0.33...\n",
      "    >>> recall_score(y_true, y_pred, average='micro')\n",
      "    0.33...\n",
      "    >>> recall_score(y_true, y_pred, average='weighted')\n",
      "    0.33...\n",
      "    >>> recall_score(y_true, y_pred, average=None)\n",
      "    array([1., 0., 0.])\n",
      "    >>> y_true = [0, 0, 0, 0, 0, 0]\n",
      "    >>> recall_score(y_true, y_pred, average=None)\n",
      "    array([0.5, 0. , 0. ])\n",
      "    >>> recall_score(y_true, y_pred, average=None, zero_division=1)\n",
      "    array([0.5, 1. , 1. ])\n",
      "    \n",
      "    Notes\n",
      "    -----\n",
      "    When ``true positive + false negative == 0``, recall returns 0 and raises\n",
      "    ``UndefinedMetricWarning``. This behavior can be modified with\n",
      "    ``zero_division``.\n",
      "\n"
     ]
    }
   ],
   "source": [
    "help(metrics.recall_score)"
   ]
  },
  {
   "cell_type": "code",
   "execution_count": 14,
   "metadata": {},
   "outputs": [
    {
     "data": {
      "text/plain": [
       "0.40384615384615385"
      ]
     },
     "execution_count": 14,
     "metadata": {},
     "output_type": "execute_result"
    }
   ],
   "source": [
    "metrics.recall_score(pred['正解'], pred['予測'])"
   ]
  },
  {
   "cell_type": "markdown",
   "metadata": {},
   "source": [
    "#### F1スコア\n",
    "---\n",
    "<span class=\"text-shadow\" style=\"color: lime;\">適合率 (Precision)</span>と<span class=\"text-shadow\n",
    "\" style=\"color: magenta;\">再現率 (Recall)</span>の調和平均。\n",
    "\n",
    "$\n",
    "{\\displaystyle F1=\\frac\n",
    "    {2\\times PRE\\times REC}\n",
    "    {PRE+REC}}\n",
    "$\n",
    "\n",
    "<table class=\"border text-center text-black background-white\">\n",
    "    <tr class=\"border-none\">\n",
    "        <th colspan=\"3\"><span style=\"color: lime;\">適合率<br />Precision</span></th>\n",
    "        <th></th>\n",
    "        <th colspan=\"3\"><span style=\"color: magenta;\">再現率<br />Recall</span></th>\n",
    "    </tr>\n",
    "    <tr>\n",
    "        <th class=\"border-top-none border-left-none border-right-bold\"></th>\n",
    "        <th><span style=\"color: red;\">True と予測</span></th>\n",
    "        <th>False と予測</th>\n",
    "        <th class=\"border-none\"></th>\n",
    "        <th class=\"border-top-none border-left-none border-right-bold\"></th>\n",
    "        <th>True と予測</th>\n",
    "        <th>False と予測</th>\n",
    "    </tr>\n",
    "    <tr>\n",
    "        <th class=\"border-bottom border-right-bold\">正解ラベルが True<br />(関心のあるクラス)</th>\n",
    "        <td style=\"background-color: red;\"><span style=\"color: yellow;\">真陽性<br />True Positive</span></td>\n",
    "        <td>偽陰性<br />False Negative</td>\n",
    "        <td class=\"border-none\"></td>\n",
    "        <th class=\"border-bottom border-right-bold\"><span style=\"color: purple;\">正解ラベルが True<br />(関心のあるクラス)</span></th>\n",
    "        <td style=\"background-color: purple;\"><span style=\"color: yellow;\">真陽性<br />True Positive</span></td>\n",
    "        <td style=\"background-color: purple;\">偽陰性<br />False Negative</td>\n",
    "    </tr>\n",
    "    <tr>\n",
    "        <th class=\"border-bottom border-right-bold\">正解ラベルが False<br />(関心のないクラス)</th>\n",
    "        <td style=\"background-color: red;\">偽陽性<br />False Positive</td>\n",
    "        <td>真陰性<br />True Negative</td>\n",
    "        <td class=\"border-none\"></td>\n",
    "        <th class=\"border-bottom border-right-bold\">正解ラベルが False<br />(関心のないクラス)</th>\n",
    "        <td>偽陽性<br />False Positive</td>\n",
    "        <td>真陰性<br />True Negative</td>\n",
    "    </tr>\n",
    "</table>\n",
    "\n",
    "<span class=\"text-shadow\" style=\"color: lime;\">適合率</span>と<span class=\"text-shadow\" style=\"color: magenta;\">再現率</span>の両方が高くないとF1スコアも高くならない"
   ]
  },
  {
   "cell_type": "code",
   "execution_count": 15,
   "metadata": {
    "hide_input": true,
    "jupyter": {
     "source_hidden": true
    }
   },
   "outputs": [
    {
     "data": {
      "image/png": "[encoded data removed]",
      "text/plain": [
       "<Figure size 288x288 with 1 Axes>"
      ]
     },
     "metadata": {
      "needs_background": "light"
     },
     "output_type": "display_data"
    }
   ],
   "source": [
    "from my_functions.imbalanced_data import f1_matrix\n",
    "f1_matrix.show()"
   ]
  },
  {
   "cell_type": "markdown",
   "metadata": {},
   "source": [
    "##### PythonでのF1スコア算出方法\n",
    "---\n",
    "`sklearn.metrics.f1_score`を使用する。"
   ]
  },
  {
   "cell_type": "code",
   "execution_count": 16,
   "metadata": {
    "collapsed": true,
    "jupyter": {
     "outputs_hidden": true
    }
   },
   "outputs": [
    {
     "name": "stdout",
     "output_type": "stream",
     "text": [
      "Help on function f1_score in module sklearn.metrics._classification:\n",
      "\n",
      "f1_score(y_true, y_pred, *, labels=None, pos_label=1, average='binary', sample_weight=None, zero_division='warn')\n",
      "    Compute the F1 score, also known as balanced F-score or F-measure\n",
      "    \n",
      "    The F1 score can be interpreted as a weighted average of the precision and\n",
      "    recall, where an F1 score reaches its best value at 1 and worst score at 0.\n",
      "    The relative contribution of precision and recall to the F1 score are\n",
      "    equal. The formula for the F1 score is::\n",
      "    \n",
      "        F1 = 2 * (precision * recall) / (precision + recall)\n",
      "    \n",
      "    In the multi-class and multi-label case, this is the average of\n",
      "    the F1 score of each class with weighting depending on the ``average``\n",
      "    parameter.\n",
      "    \n",
      "    Read more in the :ref:`User Guide <precision_recall_f_measure_metrics>`.\n",
      "    \n",
      "    Parameters\n",
      "    ----------\n",
      "    y_true : 1d array-like, or label indicator array / sparse matrix\n",
      "        Ground truth (correct) target values.\n",
      "    \n",
      "    y_pred : 1d array-like, or label indicator array / sparse matrix\n",
      "        Estimated targets as returned by a classifier.\n",
      "    \n",
      "    labels : list, optional\n",
      "        The set of labels to include when ``average != 'binary'``, and their\n",
      "        order if ``average is None``. Labels present in the data can be\n",
      "        excluded, for example to calculate a multiclass average ignoring a\n",
      "        majority negative class, while labels not present in the data will\n",
      "        result in 0 components in a macro average. For multilabel targets,\n",
      "        labels are column indices. By default, all labels in ``y_true`` and\n",
      "        ``y_pred`` are used in sorted order.\n",
      "    \n",
      "        .. versionchanged:: 0.17\n",
      "           parameter *labels* improved for multiclass problem.\n",
      "    \n",
      "    pos_label : str or int, 1 by default\n",
      "        The class to report if ``average='binary'`` and the data is binary.\n",
      "        If the data are multiclass or multilabel, this will be ignored;\n",
      "        setting ``labels=[pos_label]`` and ``average != 'binary'`` will report\n",
      "        scores for that label only.\n",
      "    \n",
      "    average : string, [None, 'binary' (default), 'micro', 'macro', 'samples',                        'weighted']\n",
      "        This parameter is required for multiclass/multilabel targets.\n",
      "        If ``None``, the scores for each class are returned. Otherwise, this\n",
      "        determines the type of averaging performed on the data:\n",
      "    \n",
      "        ``'binary'``:\n",
      "            Only report results for the class specified by ``pos_label``.\n",
      "            This is applicable only if targets (``y_{true,pred}``) are binary.\n",
      "        ``'micro'``:\n",
      "            Calculate metrics globally by counting the total true positives,\n",
      "            false negatives and false positives.\n",
      "        ``'macro'``:\n",
      "            Calculate metrics for each label, and find their unweighted\n",
      "            mean.  This does not take label imbalance into account.\n",
      "        ``'weighted'``:\n",
      "            Calculate metrics for each label, and find their average weighted\n",
      "            by support (the number of true instances for each label). This\n",
      "            alters 'macro' to account for label imbalance; it can result in an\n",
      "            F-score that is not between precision and recall.\n",
      "        ``'samples'``:\n",
      "            Calculate metrics for each instance, and find their average (only\n",
      "            meaningful for multilabel classification where this differs from\n",
      "            :func:`accuracy_score`).\n",
      "    \n",
      "    sample_weight : array-like of shape (n_samples,), default=None\n",
      "        Sample weights.\n",
      "    \n",
      "    zero_division : \"warn\", 0 or 1, default=\"warn\"\n",
      "        Sets the value to return when there is a zero division, i.e. when all\n",
      "        predictions and labels are negative. If set to \"warn\", this acts as 0,\n",
      "        but warnings are also raised.\n",
      "    \n",
      "    Returns\n",
      "    -------\n",
      "    f1_score : float or array of float, shape = [n_unique_labels]\n",
      "        F1 score of the positive class in binary classification or weighted\n",
      "        average of the F1 scores of each class for the multiclass task.\n",
      "    \n",
      "    See also\n",
      "    --------\n",
      "    fbeta_score, precision_recall_fscore_support, jaccard_score,\n",
      "    multilabel_confusion_matrix\n",
      "    \n",
      "    References\n",
      "    ----------\n",
      "    .. [1] `Wikipedia entry for the F1-score\n",
      "           <https://en.wikipedia.org/wiki/F1_score>`_\n",
      "    \n",
      "    Examples\n",
      "    --------\n",
      "    >>> from sklearn.metrics import f1_score\n",
      "    >>> y_true = [0, 1, 2, 0, 1, 2]\n",
      "    >>> y_pred = [0, 2, 1, 0, 0, 1]\n",
      "    >>> f1_score(y_true, y_pred, average='macro')\n",
      "    0.26...\n",
      "    >>> f1_score(y_true, y_pred, average='micro')\n",
      "    0.33...\n",
      "    >>> f1_score(y_true, y_pred, average='weighted')\n",
      "    0.26...\n",
      "    >>> f1_score(y_true, y_pred, average=None)\n",
      "    array([0.8, 0. , 0. ])\n",
      "    >>> y_true = [0, 0, 0, 0, 0, 0]\n",
      "    >>> y_pred = [0, 0, 0, 0, 0, 0]\n",
      "    >>> f1_score(y_true, y_pred, zero_division=1)\n",
      "    1.0...\n",
      "    \n",
      "    Notes\n",
      "    -----\n",
      "    When ``true positive + false positive == 0``, precision is undefined;\n",
      "    When ``true positive + false negative == 0``, recall is undefined.\n",
      "    In such cases, by default the metric will be set to 0, as will f-score,\n",
      "    and ``UndefinedMetricWarning`` will be raised. This behavior can be\n",
      "    modified with ``zero_division``.\n",
      "\n"
     ]
    }
   ],
   "source": [
    "help(metrics.f1_score)"
   ]
  },
  {
   "cell_type": "code",
   "execution_count": 17,
   "metadata": {},
   "outputs": [
    {
     "data": {
      "text/plain": [
       "0.5357142857142858"
      ]
     },
     "execution_count": 17,
     "metadata": {},
     "output_type": "execute_result"
    }
   ],
   "source": [
    "metrics.f1_score(pred['正解'], pred['予測'])"
   ]
  },
  {
   "cell_type": "markdown",
   "metadata": {},
   "source": [
    "適合率・再現率・ F1 スコアを一度に見る場合、`sklearn.metrics.classification_report`を使用する。"
   ]
  },
  {
   "cell_type": "code",
   "execution_count": 18,
   "metadata": {
    "collapsed": true,
    "jupyter": {
     "outputs_hidden": true
    }
   },
   "outputs": [
    {
     "name": "stdout",
     "output_type": "stream",
     "text": [
      "Help on function classification_report in module sklearn.metrics._classification:\n",
      "\n",
      "classification_report(y_true, y_pred, *, labels=None, target_names=None, sample_weight=None, digits=2, output_dict=False, zero_division='warn')\n",
      "    Build a text report showing the main classification metrics.\n",
      "    \n",
      "    Read more in the :ref:`User Guide <classification_report>`.\n",
      "    \n",
      "    Parameters\n",
      "    ----------\n",
      "    y_true : 1d array-like, or label indicator array / sparse matrix\n",
      "        Ground truth (correct) target values.\n",
      "    \n",
      "    y_pred : 1d array-like, or label indicator array / sparse matrix\n",
      "        Estimated targets as returned by a classifier.\n",
      "    \n",
      "    labels : array, shape = [n_labels]\n",
      "        Optional list of label indices to include in the report.\n",
      "    \n",
      "    target_names : list of strings\n",
      "        Optional display names matching the labels (same order).\n",
      "    \n",
      "    sample_weight : array-like of shape (n_samples,), default=None\n",
      "        Sample weights.\n",
      "    \n",
      "    digits : int\n",
      "        Number of digits for formatting output floating point values.\n",
      "        When ``output_dict`` is ``True``, this will be ignored and the\n",
      "        returned values will not be rounded.\n",
      "    \n",
      "    output_dict : bool (default = False)\n",
      "        If True, return output as dict\n",
      "    \n",
      "        .. versionadded:: 0.20\n",
      "    \n",
      "    zero_division : \"warn\", 0 or 1, default=\"warn\"\n",
      "        Sets the value to return when there is a zero division. If set to\n",
      "        \"warn\", this acts as 0, but warnings are also raised.\n",
      "    \n",
      "    Returns\n",
      "    -------\n",
      "    report : string / dict\n",
      "        Text summary of the precision, recall, F1 score for each class.\n",
      "        Dictionary returned if output_dict is True. Dictionary has the\n",
      "        following structure::\n",
      "    \n",
      "            {'label 1': {'precision':0.5,\n",
      "                         'recall':1.0,\n",
      "                         'f1-score':0.67,\n",
      "                         'support':1},\n",
      "             'label 2': { ... },\n",
      "              ...\n",
      "            }\n",
      "    \n",
      "        The reported averages include macro average (averaging the unweighted\n",
      "        mean per label), weighted average (averaging the support-weighted mean\n",
      "        per label), and sample average (only for multilabel classification).\n",
      "        Micro average (averaging the total true positives, false negatives and\n",
      "        false positives) is only shown for multi-label or multi-class\n",
      "        with a subset of classes, because it corresponds to accuracy otherwise.\n",
      "        See also :func:`precision_recall_fscore_support` for more details\n",
      "        on averages.\n",
      "    \n",
      "        Note that in binary classification, recall of the positive class\n",
      "        is also known as \"sensitivity\"; recall of the negative class is\n",
      "        \"specificity\".\n",
      "    \n",
      "    See also\n",
      "    --------\n",
      "    precision_recall_fscore_support, confusion_matrix,\n",
      "    multilabel_confusion_matrix\n",
      "    \n",
      "    Examples\n",
      "    --------\n",
      "    >>> from sklearn.metrics import classification_report\n",
      "    >>> y_true = [0, 1, 2, 2, 2]\n",
      "    >>> y_pred = [0, 0, 2, 2, 1]\n",
      "    >>> target_names = ['class 0', 'class 1', 'class 2']\n",
      "    >>> print(classification_report(y_true, y_pred, target_names=target_names))\n",
      "                  precision    recall  f1-score   support\n",
      "    <BLANKLINE>\n",
      "         class 0       0.50      1.00      0.67         1\n",
      "         class 1       0.00      0.00      0.00         1\n",
      "         class 2       1.00      0.67      0.80         3\n",
      "    <BLANKLINE>\n",
      "        accuracy                           0.60         5\n",
      "       macro avg       0.50      0.56      0.49         5\n",
      "    weighted avg       0.70      0.60      0.61         5\n",
      "    <BLANKLINE>\n",
      "    >>> y_pred = [1, 1, 0]\n",
      "    >>> y_true = [1, 1, 1]\n",
      "    >>> print(classification_report(y_true, y_pred, labels=[1, 2, 3]))\n",
      "                  precision    recall  f1-score   support\n",
      "    <BLANKLINE>\n",
      "               1       1.00      0.67      0.80         3\n",
      "               2       0.00      0.00      0.00         0\n",
      "               3       0.00      0.00      0.00         0\n",
      "    <BLANKLINE>\n",
      "       micro avg       1.00      0.67      0.80         3\n",
      "       macro avg       0.33      0.22      0.27         3\n",
      "    weighted avg       1.00      0.67      0.80         3\n",
      "    <BLANKLINE>\n",
      "\n"
     ]
    }
   ],
   "source": [
    "help(metrics.classification_report)"
   ]
  },
  {
   "cell_type": "code",
   "execution_count": 19,
   "metadata": {},
   "outputs": [
    {
     "name": "stdout",
     "output_type": "stream",
     "text": [
      "              precision    recall  f1-score   support\n",
      "\n",
      "           0       0.99      1.00      0.99     10923\n",
      "           1       0.80      0.40      0.54       260\n",
      "\n",
      "    accuracy                           0.98     11183\n",
      "   macro avg       0.89      0.70      0.76     11183\n",
      "weighted avg       0.98      0.98      0.98     11183\n",
      "\n"
     ]
    }
   ],
   "source": [
    "print(metrics.classification_report(pred['正解'], pred['予測']))"
   ]
  },
  {
   "cell_type": "markdown",
   "metadata": {},
   "source": [
    "#### マシューズ相関係数 (Matthews correlation coefficient)\n",
    "---\n",
    "予測と正解ラベルの相関係数。\n",
    "\n",
    "$\\displaystyle MCC=\\frac{TP\\times TN-FP\\times FN}{\\sqrt{( TP+FP)( TP+FN)( TN+FP)( TN+FN)}}$\n",
    "\n",
    "F1 スコアや他の不均衡データの評価指標は陽性 (Positive) のほうが少ないという前提があり、陽性と陰性を入れ替えると結果が変わるものが多い。マシューズ相関係数は**陽性と陰性が入れ替わっても結果が変わらない**。\n",
    "\n",
    "マシューズ相関係数は、[2×2分割表のカイ二乗統計量](crosstab_test.ipynb#2%C3%972%E5%88%86%E5%89%B2%E8%A1%A8%E3%81%AE%E5%A0%B4%E5%90%88)との間に以下の関係が成り立つ。\n",
    "\n",
    "$\\displaystyle |MCC|=\\sqrt{\\frac{\\chi ^{2}}{n}}$\n",
    "\n",
    "$\\displaystyle \\sqrt{\\frac{\\chi ^{2}}{n}}$ はファイ係数と呼ばれる。"
   ]
  },
  {
   "cell_type": "markdown",
   "metadata": {
    "solution2": "hidden",
    "solution2_first": true
   },
   "source": [
    "証明\n",
    "\n",
    "---"
   ]
  },
  {
   "cell_type": "markdown",
   "metadata": {
    "jupyter": {
     "source_hidden": true
    },
    "solution2": "hidden"
   },
   "source": [
    "$\n",
    "\\displaystyle \\begin{aligned}\n",
    "    \\chi ^{2} & =\\frac\n",
    "        {n( O_{11} O_{22} -O_{12} O_{21})^{2}}\n",
    "        {\\displaystyle \\sum ^{2}_{i=1} O_{i1}\\sum ^{2}_{i=1} O_{i2}\\sum ^{2}_{j=1} O_{1j}\\sum ^{2}_{j=1} O_{2j}}\\\\\n",
    "     \\\\\n",
    "     & =\\frac\n",
    "         {n( TP\\times TN-FP\\times FN)^{2}}\n",
    "         {( TP+FP)( TP+FN)( TN+FP)( TN+FN)}\\\\\n",
    "     \\\\\n",
    "    \\frac\n",
    "        {\\chi ^{2}}\n",
    "        {n}\n",
    "    & =\\frac\n",
    "        {( TP\\times TN-FP\\times FN)^{2}}\n",
    "        {( TP+FP)( TP+FN)( TN+FP)( TN+FN)}\\\\\n",
    "    \\\\\n",
    "     & =MCC^{2}\\\\\n",
    "     \\\\\n",
    "    |MCC| & =\\sqrt{\n",
    "        \\frac\n",
    "            {\\chi ^{2}}\n",
    "            {n}\n",
    "    }\n",
    "\\end{aligned}\n",
    "$"
   ]
  },
  {
   "cell_type": "markdown",
   "metadata": {},
   "source": [
    "---"
   ]
  },
  {
   "cell_type": "markdown",
   "metadata": {},
   "source": [
    "##### Pythonでのマシューズ相関係数算出方法\n",
    "---\n",
    "`sklearn.metrics.matthews_corrcoef`を使用する。"
   ]
  },
  {
   "cell_type": "code",
   "execution_count": 20,
   "metadata": {
    "collapsed": true,
    "jupyter": {
     "outputs_hidden": true
    }
   },
   "outputs": [
    {
     "name": "stdout",
     "output_type": "stream",
     "text": [
      "Help on function matthews_corrcoef in module sklearn.metrics._classification:\n",
      "\n",
      "matthews_corrcoef(y_true, y_pred, *, sample_weight=None)\n",
      "    Compute the Matthews correlation coefficient (MCC)\n",
      "    \n",
      "    The Matthews correlation coefficient is used in machine learning as a\n",
      "    measure of the quality of binary and multiclass classifications. It takes\n",
      "    into account true and false positives and negatives and is generally\n",
      "    regarded as a balanced measure which can be used even if the classes are of\n",
      "    very different sizes. The MCC is in essence a correlation coefficient value\n",
      "    between -1 and +1. A coefficient of +1 represents a perfect prediction, 0\n",
      "    an average random prediction and -1 an inverse prediction.  The statistic\n",
      "    is also known as the phi coefficient. [source: Wikipedia]\n",
      "    \n",
      "    Binary and multiclass labels are supported.  Only in the binary case does\n",
      "    this relate to information about true and false positives and negatives.\n",
      "    See references below.\n",
      "    \n",
      "    Read more in the :ref:`User Guide <matthews_corrcoef>`.\n",
      "    \n",
      "    Parameters\n",
      "    ----------\n",
      "    y_true : array, shape = [n_samples]\n",
      "        Ground truth (correct) target values.\n",
      "    \n",
      "    y_pred : array, shape = [n_samples]\n",
      "        Estimated targets as returned by a classifier.\n",
      "    \n",
      "    sample_weight : array-like of shape (n_samples,), default=None\n",
      "        Sample weights.\n",
      "    \n",
      "        .. versionadded:: 0.18\n",
      "    \n",
      "    Returns\n",
      "    -------\n",
      "    mcc : float\n",
      "        The Matthews correlation coefficient (+1 represents a perfect\n",
      "        prediction, 0 an average random prediction and -1 and inverse\n",
      "        prediction).\n",
      "    \n",
      "    References\n",
      "    ----------\n",
      "    .. [1] `Baldi, Brunak, Chauvin, Andersen and Nielsen, (2000). Assessing the\n",
      "       accuracy of prediction algorithms for classification: an overview\n",
      "       <https://doi.org/10.1093/bioinformatics/16.5.412>`_\n",
      "    \n",
      "    .. [2] `Wikipedia entry for the Matthews Correlation Coefficient\n",
      "       <https://en.wikipedia.org/wiki/Matthews_correlation_coefficient>`_\n",
      "    \n",
      "    .. [3] `Gorodkin, (2004). Comparing two K-category assignments by a\n",
      "        K-category correlation coefficient\n",
      "        <https://www.sciencedirect.com/science/article/pii/S1476927104000799>`_\n",
      "    \n",
      "    .. [4] `Jurman, Riccadonna, Furlanello, (2012). A Comparison of MCC and CEN\n",
      "        Error Measures in MultiClass Prediction\n",
      "        <https://journals.plos.org/plosone/article?id=10.1371/journal.pone.0041882>`_\n",
      "    \n",
      "    Examples\n",
      "    --------\n",
      "    >>> from sklearn.metrics import matthews_corrcoef\n",
      "    >>> y_true = [+1, +1, +1, -1]\n",
      "    >>> y_pred = [+1, -1, +1, +1]\n",
      "    >>> matthews_corrcoef(y_true, y_pred)\n",
      "    -0.33...\n",
      "\n"
     ]
    }
   ],
   "source": [
    "help(metrics.matthews_corrcoef)"
   ]
  },
  {
   "cell_type": "code",
   "execution_count": 21,
   "metadata": {},
   "outputs": [
    {
     "data": {
      "text/plain": [
       "0.5600405234029153"
      ]
     },
     "execution_count": 21,
     "metadata": {},
     "output_type": "execute_result"
    }
   ],
   "source": [
    "metrics.matthews_corrcoef(pred['正解'], pred['予測'])"
   ]
  },
  {
   "cell_type": "markdown",
   "metadata": {},
   "source": [
    "#### PR曲線\n",
    "---\n",
    "分類結果だけでなく確率 (確信度) を出力するロジスティック回帰のような分類器 (scikit-learn では`predict_proba`を持つもの) では、出力値が0.5より大きければ 1 (True)、そうでなければ 0 (False) と判定する。  \n",
    "この閾値を 0.5 から様々な値に変化させた場合の適合率・再現率の変化をプロットしたものが PR 曲線。 (scikit-learn で`decision_function`を持つものも閾値を変化させて予測を変えられるので、実際にはほとんど全ての分類モデルで算出可能)\n",
    "\n",
    "<table class=\"border text-center text-black background-white\">\n",
    "    <tr class=\"border-none\">\n",
    "        <th colspan=\"3\"><span style=\"color: lime;\">適合率<br />Precision</span></th>\n",
    "        <th></th>\n",
    "        <th colspan=\"3\"><span style=\"color: magenta;\">再現率<br />Recall</span></th>\n",
    "    </tr>\n",
    "    <tr>\n",
    "        <th class=\"border-top-none border-left-none border-right-bold\"></th>\n",
    "        <th><span style=\"color: red;\">True と予測</span></th>\n",
    "        <th>False と予測</th>\n",
    "        <th class=\"border-none\"></th>\n",
    "        <th class=\"border-top-none border-left-none border-right-bold\"></th>\n",
    "        <th>True と予測</th>\n",
    "        <th>False と予測</th>\n",
    "    </tr>\n",
    "    <tr>\n",
    "        <th class=\"border-bottom border-right-bold\">正解ラベルが True<br />(関心のあるクラス)</th>\n",
    "        <td style=\"background-color: red;\"><span style=\"color: yellow;\">真陽性<br />True Positive</span></td>\n",
    "        <td>偽陰性<br />False Negative</td>\n",
    "        <td class=\"border-none\"></td>\n",
    "        <th class=\"border-bottom border-right-bold\"><span style=\"color: purple;\">正解ラベルが True<br />(関心のあるクラス)</span></th>\n",
    "        <td style=\"background-color: purple;\"><span style=\"color: yellow;\">真陽性<br />True Positive</span></td>\n",
    "        <td style=\"background-color: purple;\">偽陰性<br />False Negative</td>\n",
    "    </tr>\n",
    "    <tr>\n",
    "        <th class=\"border-bottom border-right-bold\">正解ラベルが False<br />(関心のないクラス)</th>\n",
    "        <td style=\"background-color: red;\">偽陽性<br />False Positive</td>\n",
    "        <td>真陰性<br />True Negative</td>\n",
    "        <td class=\"border-none\"></td>\n",
    "        <th class=\"border-bottom border-right-bold\">正解ラベルが False<br />(関心のないクラス)</th>\n",
    "        <td>偽陽性<br />False Positive</td>\n",
    "        <td>真陰性<br />True Negative</td>\n",
    "    </tr>\n",
    "</table>"
   ]
  },
  {
   "cell_type": "code",
   "execution_count": 22,
   "metadata": {
    "hide_input": true,
    "jupyter": {
     "source_hidden": true
    }
   },
   "outputs": [
    {
     "data": {
      "application/vnd.jupyter.widget-view+json": {
       "model_id": "687a1b39fbef43f684e7b9539c7f49a2",
       "version_major": 2,
       "version_minor": 0
      },
      "text/plain": [
       "interactive(children=(SelectionSlider(continuous_update=False, description='性能', options=OrderedDict([('ランダム',…"
      ]
     },
     "metadata": {},
     "output_type": "display_data"
    }
   ],
   "source": [
    "from my_functions.imbalanced_data import pr_curve\n",
    "pr_curve.show()"
   ]
  },
  {
   "cell_type": "markdown",
   "metadata": {},
   "source": [
    "- 閾値を上げる (上図の境界線を右に移動 = <span class=\"text-shadow\" style=\"color: red;\">True と予測</span>するものは減り、 <span class=\"text-shadow\" style=\"color: blue;\">False と予測</span>するものは増える) と\n",
    " - PR 曲線の右下へ移動 (<span class=\"text-shadow\" style=\"color: lime;\">適合率</span>は下がり、<span class=\"text-shadow\" style=\"color: magenta;\">再現率</span>は上がる)\n",
    "- 閾値を下げる (上図の境界線を左に移動 = <span class=\"text-shadow\" style=\"color: red;\">True と予測</span>するものは増え、 <span class=\"text-shadow\" style=\"color: blue;\">False と予測</span>するものは減る) と\n",
    " - PR 曲線の左上へ移動 (<span class=\"text-shadow\" style=\"color: lime;\">適合率</span>は上がり、<span class=\"text-shadow\" style=\"color: magenta;\">再現率</span>は下がる)\n",
    "- どんなに閾値を変化させても右上の点 (<span class=\"text-shadow\" style=\"color: lime;\">適合率</span> $1.0$ ・<span class=\"text-shadow\" style=\"color: magenta;\">再現率</span> $1.0$ から動かない分類器は全てのサンプルに対して $100\\%$ の確信を持って正解の方に分類している完璧な分類器)\n",
    "- 各サンプルに対してランダムに分類 (あらゆる閾値に一様にサンプルを割当て) するとデータの不均衡さの水準 (関心があるほうのサンプルの割合) に対応した水平線になる\n",
    "- PR 曲線の下部面積 (AUC, Area Under the Curve) が分類器の性能を表すと考えられる\n",
    " - 正しく分類できているかだけでなく、確信を持って分類できているかまで評価"
   ]
  },
  {
   "cell_type": "code",
   "execution_count": 23,
   "metadata": {
    "hide_input": true,
    "jupyter": {
     "source_hidden": true
    }
   },
   "outputs": [
    {
     "data": {
      "image/png": "[encoded data removed]",
      "text/plain": [
       "<Figure size 288x288 with 1 Axes>"
      ]
     },
     "metadata": {
      "needs_background": "light"
     },
     "output_type": "display_data"
    }
   ],
   "source": [
    "from my_functions.imbalanced_data import pr_auc\n",
    "pr_auc.show()"
   ]
  },
  {
   "cell_type": "markdown",
   "metadata": {},
   "source": [
    "練習問題\n",
    "\n",
    "---\n",
    "`mammography`データセットに任意の分類アルゴリズムを適用し、PR 曲線を表示する。"
   ]
  },
  {
   "cell_type": "code",
   "execution_count": null,
   "metadata": {},
   "outputs": [],
   "source": []
  },
  {
   "cell_type": "markdown",
   "metadata": {
    "solution2": "hidden",
    "solution2_first": true
   },
   "source": [
    "解答例\n",
    "\n",
    "---"
   ]
  },
  {
   "cell_type": "code",
   "execution_count": 24,
   "metadata": {
    "collapsed": true,
    "jupyter": {
     "outputs_hidden": true,
     "source_hidden": true
    },
    "solution2": "hidden"
   },
   "outputs": [
    {
     "data": {
      "image/png": "[encoded data removed]",
      "text/plain": [
       "<Figure size 432x288 with 1 Axes>"
      ]
     },
     "metadata": {
      "needs_background": "light"
     },
     "output_type": "display_data"
    }
   ],
   "source": [
    "x = mammography.iloc[:, :-1]\n",
    "y = mammography.iloc[:, -1]\n",
    "proba = LogisticRegression(random_state=1234).fit(x, y).predict_proba(x)[:, 1]\n",
    "df = pd.DataFrame(dict(thresh=np.sort(proba)[::-1]))\n",
    "df['tp'] = df['thresh'].apply(lambda t: ((y == 1) & (proba >= t)).sum())\n",
    "df['fp'] = df['thresh'].apply(lambda t: ((y == 0) & (proba >= t)).sum())\n",
    "df['fn'] = df['thresh'].apply(lambda t: ((y == 1) & (proba < t)).sum())\n",
    "df['pre'] = df['tp'] / (df['tp'] + df['fp'])\n",
    "df['rec'] = df['tp'] / (df['tp'] + df['fn'])\n",
    "plt.plot('rec', 'pre', data=df)\n",
    "plt.show()"
   ]
  },
  {
   "cell_type": "markdown",
   "metadata": {},
   "source": [
    "---"
   ]
  },
  {
   "cell_type": "markdown",
   "metadata": {},
   "source": [
    "##### PythonでのPR曲線表示方法\n",
    "---\n",
    "`sklearn.metrics.plot_precision_recall_curve`を使用する。"
   ]
  },
  {
   "cell_type": "code",
   "execution_count": 25,
   "metadata": {
    "collapsed": true,
    "jupyter": {
     "outputs_hidden": true
    }
   },
   "outputs": [
    {
     "name": "stdout",
     "output_type": "stream",
     "text": [
      "Help on function plot_precision_recall_curve in module sklearn.metrics._plot.precision_recall_curve:\n",
      "\n",
      "plot_precision_recall_curve(estimator, X, y, *, sample_weight=None, response_method='auto', name=None, ax=None, **kwargs)\n",
      "    Plot Precision Recall Curve for binary classifiers.\n",
      "    \n",
      "    Extra keyword arguments will be passed to matplotlib's `plot`.\n",
      "    \n",
      "    Read more in the :ref:`User Guide <precision_recall_f_measure_metrics>`.\n",
      "    \n",
      "    Parameters\n",
      "    ----------\n",
      "    estimator : estimator instance\n",
      "        Fitted classifier or a fitted :class:`~sklearn.pipeline.Pipeline`\n",
      "        in which the last estimator is a classifier.\n",
      "    \n",
      "    X : {array-like, sparse matrix} of shape (n_samples, n_features)\n",
      "        Input values.\n",
      "    \n",
      "    y : array-like of shape (n_samples,)\n",
      "        Binary target values.\n",
      "    \n",
      "    sample_weight : array-like of shape (n_samples,), default=None\n",
      "        Sample weights.\n",
      "    \n",
      "    response_method : {'predict_proba', 'decision_function', 'auto'},                       default='auto'\n",
      "        Specifies whether to use :term:`predict_proba` or\n",
      "        :term:`decision_function` as the target response. If set to 'auto',\n",
      "        :term:`predict_proba` is tried first and if it does not exist\n",
      "        :term:`decision_function` is tried next.\n",
      "    \n",
      "    name : str, default=None\n",
      "        Name for labeling curve. If `None`, the name of the\n",
      "        estimator is used.\n",
      "    \n",
      "    ax : matplotlib axes, default=None\n",
      "        Axes object to plot on. If `None`, a new figure and axes is created.\n",
      "    \n",
      "    **kwargs : dict\n",
      "        Keyword arguments to be passed to matplotlib's `plot`.\n",
      "    \n",
      "    Returns\n",
      "    -------\n",
      "    display : :class:`~sklearn.metrics.PrecisionRecallDisplay`\n",
      "        Object that stores computed values.\n",
      "\n"
     ]
    }
   ],
   "source": [
    "help(metrics.plot_precision_recall_curve)"
   ]
  },
  {
   "cell_type": "code",
   "execution_count": 26,
   "metadata": {},
   "outputs": [
    {
     "data": {
      "image/png": "[encoded data removed]",
      "text/plain": [
       "<Figure size 432x288 with 1 Axes>"
      ]
     },
     "metadata": {
      "needs_background": "light"
     },
     "output_type": "display_data"
    }
   ],
   "source": [
    "metrics.plot_precision_recall_curve(model, x, y)\n",
    "plt.show()"
   ]
  },
  {
   "cell_type": "markdown",
   "metadata": {},
   "source": [
    "##### PythonでのPR-AUC算出方法\n",
    "---\n",
    "`sklearn.metrics.auc`または`sklearn.metrics.average_precision_score`を使用する。  \n",
    "`sklearn.metrics.auc`は点と点の間を線でつなぎ、台形の (trapezoidal) 面積を算出し、`sklearn.metrics.average_precision_score`は補間せずに長方形の面積を算出する。\n",
    "\n",
    "$P_{n},R_{n}$ をそれぞれ $n$ 番目の閾値 (降順) における適合率・再現率とすると\n",
    "\n",
    "$\\displaystyle AUC=\\sum ^{n}_{i=2}( R_{n} -R_{n-1})\\frac{P_{n} +P_{n-1}}{2}$\n",
    "\n",
    "$\\displaystyle AP=\\sum ^{n}_{i=2}( R_{n} -R_{n-1}) P_{n}$\n",
    "\n",
    "値の大きさは $AUC>AP$ となる。"
   ]
  },
  {
   "cell_type": "code",
   "execution_count": 27,
   "metadata": {
    "collapsed": true,
    "jupyter": {
     "outputs_hidden": true
    }
   },
   "outputs": [
    {
     "name": "stdout",
     "output_type": "stream",
     "text": [
      "Help on function auc in module sklearn.metrics._ranking:\n",
      "\n",
      "auc(x, y)\n",
      "    Compute Area Under the Curve (AUC) using the trapezoidal rule\n",
      "    \n",
      "    This is a general function, given points on a curve.  For computing the\n",
      "    area under the ROC-curve, see :func:`roc_auc_score`.  For an alternative\n",
      "    way to summarize a precision-recall curve, see\n",
      "    :func:`average_precision_score`.\n",
      "    \n",
      "    Parameters\n",
      "    ----------\n",
      "    x : array, shape = [n]\n",
      "        x coordinates. These must be either monotonic increasing or monotonic\n",
      "        decreasing.\n",
      "    y : array, shape = [n]\n",
      "        y coordinates.\n",
      "    \n",
      "    Returns\n",
      "    -------\n",
      "    auc : float\n",
      "    \n",
      "    Examples\n",
      "    --------\n",
      "    >>> import numpy as np\n",
      "    >>> from sklearn import metrics\n",
      "    >>> y = np.array([1, 1, 2, 2])\n",
      "    >>> pred = np.array([0.1, 0.4, 0.35, 0.8])\n",
      "    >>> fpr, tpr, thresholds = metrics.roc_curve(y, pred, pos_label=2)\n",
      "    >>> metrics.auc(fpr, tpr)\n",
      "    0.75\n",
      "    \n",
      "    See also\n",
      "    --------\n",
      "    roc_auc_score : Compute the area under the ROC curve\n",
      "    average_precision_score : Compute average precision from prediction scores\n",
      "    precision_recall_curve :\n",
      "        Compute precision-recall pairs for different probability thresholds\n",
      "\n"
     ]
    }
   ],
   "source": [
    "help(metrics.auc)"
   ]
  },
  {
   "cell_type": "code",
   "execution_count": 28,
   "metadata": {},
   "outputs": [
    {
     "data": {
      "text/plain": [
       "0.6182456084119635"
      ]
     },
     "execution_count": 28,
     "metadata": {},
     "output_type": "execute_result"
    }
   ],
   "source": [
    "pre, rec, _ = metrics.precision_recall_curve(pred['正解'], pred['確率'])\n",
    "metrics.auc(rec, pre)"
   ]
  },
  {
   "cell_type": "code",
   "execution_count": 29,
   "metadata": {
    "collapsed": true,
    "jupyter": {
     "outputs_hidden": true
    }
   },
   "outputs": [
    {
     "name": "stdout",
     "output_type": "stream",
     "text": [
      "Help on function average_precision_score in module sklearn.metrics._ranking:\n",
      "\n",
      "average_precision_score(y_true, y_score, *, average='macro', pos_label=1, sample_weight=None)\n",
      "    Compute average precision (AP) from prediction scores\n",
      "    \n",
      "    AP summarizes a precision-recall curve as the weighted mean of precisions\n",
      "    achieved at each threshold, with the increase in recall from the previous\n",
      "    threshold used as the weight:\n",
      "    \n",
      "    .. math::\n",
      "        \\text{AP} = \\sum_n (R_n - R_{n-1}) P_n\n",
      "    \n",
      "    where :math:`P_n` and :math:`R_n` are the precision and recall at the nth\n",
      "    threshold [1]_. This implementation is not interpolated and is different\n",
      "    from computing the area under the precision-recall curve with the\n",
      "    trapezoidal rule, which uses linear interpolation and can be too\n",
      "    optimistic.\n",
      "    \n",
      "    Note: this implementation is restricted to the binary classification task\n",
      "    or multilabel classification task.\n",
      "    \n",
      "    Read more in the :ref:`User Guide <precision_recall_f_measure_metrics>`.\n",
      "    \n",
      "    Parameters\n",
      "    ----------\n",
      "    y_true : array, shape = [n_samples] or [n_samples, n_classes]\n",
      "        True binary labels or binary label indicators.\n",
      "    \n",
      "    y_score : array, shape = [n_samples] or [n_samples, n_classes]\n",
      "        Target scores, can either be probability estimates of the positive\n",
      "        class, confidence values, or non-thresholded measure of decisions\n",
      "        (as returned by \"decision_function\" on some classifiers).\n",
      "    \n",
      "    average : string, [None, 'micro', 'macro' (default), 'samples', 'weighted']\n",
      "        If ``None``, the scores for each class are returned. Otherwise,\n",
      "        this determines the type of averaging performed on the data:\n",
      "    \n",
      "        ``'micro'``:\n",
      "            Calculate metrics globally by considering each element of the label\n",
      "            indicator matrix as a label.\n",
      "        ``'macro'``:\n",
      "            Calculate metrics for each label, and find their unweighted\n",
      "            mean.  This does not take label imbalance into account.\n",
      "        ``'weighted'``:\n",
      "            Calculate metrics for each label, and find their average, weighted\n",
      "            by support (the number of true instances for each label).\n",
      "        ``'samples'``:\n",
      "            Calculate metrics for each instance, and find their average.\n",
      "    \n",
      "        Will be ignored when ``y_true`` is binary.\n",
      "    \n",
      "    pos_label : int or str (default=1)\n",
      "        The label of the positive class. Only applied to binary ``y_true``.\n",
      "        For multilabel-indicator ``y_true``, ``pos_label`` is fixed to 1.\n",
      "    \n",
      "    sample_weight : array-like of shape (n_samples,), default=None\n",
      "        Sample weights.\n",
      "    \n",
      "    Returns\n",
      "    -------\n",
      "    average_precision : float\n",
      "    \n",
      "    References\n",
      "    ----------\n",
      "    .. [1] `Wikipedia entry for the Average precision\n",
      "           <https://en.wikipedia.org/w/index.php?title=Information_retrieval&\n",
      "           oldid=793358396#Average_precision>`_\n",
      "    \n",
      "    See also\n",
      "    --------\n",
      "    roc_auc_score : Compute the area under the ROC curve\n",
      "    \n",
      "    precision_recall_curve :\n",
      "        Compute precision-recall pairs for different probability thresholds\n",
      "    \n",
      "    Examples\n",
      "    --------\n",
      "    >>> import numpy as np\n",
      "    >>> from sklearn.metrics import average_precision_score\n",
      "    >>> y_true = np.array([0, 0, 1, 1])\n",
      "    >>> y_scores = np.array([0.1, 0.4, 0.35, 0.8])\n",
      "    >>> average_precision_score(y_true, y_scores)\n",
      "    0.83...\n",
      "    \n",
      "    Notes\n",
      "    -----\n",
      "    .. versionchanged:: 0.19\n",
      "      Instead of linearly interpolating between operating points, precisions\n",
      "      are weighted by the change in recall since the last operating point.\n",
      "\n"
     ]
    }
   ],
   "source": [
    "help(metrics.average_precision_score)"
   ]
  },
  {
   "cell_type": "code",
   "execution_count": 30,
   "metadata": {},
   "outputs": [
    {
     "data": {
      "text/plain": [
       "0.6189431679987698"
      ]
     },
     "execution_count": 30,
     "metadata": {},
     "output_type": "execute_result"
    }
   ],
   "source": [
    "metrics.average_precision_score(pred['正解'], pred['確率'])"
   ]
  },
  {
   "cell_type": "markdown",
   "metadata": {},
   "source": [
    "## 混同行列に基づくその他の指標\n",
    "---\n",
    "不均衡データに限られないが、混同行列に基づいた分類モデル評価指標を紹介する。"
   ]
  },
  {
   "cell_type": "markdown",
   "metadata": {},
   "source": [
    "### 受信者操作特性(ROC, Reciever Operator Characteristic)\n",
    "---\n",
    "真陽性率と偽陽性率に基づく指標。"
   ]
  },
  {
   "cell_type": "markdown",
   "metadata": {},
   "source": [
    "#### 真陽性率 (true positive rate)\n",
    "---\n",
    "関心があるクラスの中での正解率。 (再現率と同じ)\n",
    "\n",
    "<span class=\"text-shadow\" style=\"color: hotpink;\">TPR</span> = <span class=\"text-shadow\" style=\"color: yellow;\">True Positive</span> ÷ <span class=\"text-shadow\" style=\"color: purple;\">Labeled True</span>\n",
    "\n",
    "<table class=\"border text-center background-white text-black\">\n",
    "    <tr>\n",
    "        <th class=\"border-top-none border-left-none border-right-bold\"></th>\n",
    "        <th>True と予測</th>\n",
    "        <th>False と予測</th>\n",
    "    </tr>\n",
    "    <tr>\n",
    "        <th class=\"border-bottom border-right-bold\"><span style=\"color: purple;\">正解ラベルが True<br>(関心のあるクラス)</span></th>\n",
    "        <td style=\"background-color: purple;\"><span style=\"color: yellow;\">真陽性<br />True Positive</span></td>\n",
    "        <td style=\"background-color: purple;\">偽陰性<br />False Negative</td>\n",
    "    </tr>\n",
    "    <tr>\n",
    "        <th class=\"border-bottom border-right-bold\">正解ラベルが False<br />(関心のないクラス)</th>\n",
    "        <td>偽陽性<br />False Positive</td>\n",
    "        <td>真陰性<br />True Negative</td>\n",
    "    </tr>\n",
    "</table>"
   ]
  },
  {
   "cell_type": "markdown",
   "metadata": {},
   "source": [
    "#### 偽陽性率 (false positive rate)\n",
    "---\n",
    "関心がないクラスの中での不正解率。 (関心ありと誤判定した割合)\n",
    "\n",
    "<span class=\"text-shadow\" style=\"color: darkgreen;\">FPR</span> = <span class=\"text-shadow\" style=\"color: pink;\">False Positive</span> ÷ <span class=\"text-shadow\" style=\"color: brown;\">Labeled False</span>\n",
    "\n",
    "<table class=\"border text-center background-white text-black\">\n",
    "    <tr>\n",
    "        <th class=\"border-top-none border-left-none border-right-bold\"></th>\n",
    "        <th>True と予測</th>\n",
    "        <th>False と予測</th>\n",
    "    </tr>\n",
    "    <tr>\n",
    "        <th class=\"border-bottom border-right-bold\">正解ラベルが True<br />(関心のあるクラス)</th>\n",
    "        <td>真陽性<br />True Positive</td>\n",
    "        <td>偽陰性<br />False Negative</td>\n",
    "    </tr>\n",
    "    <tr>\n",
    "        <th class=\"border-bottom border-right-bold\"><span style=\"color: brown;\">正解ラベルが False<br />(関心のないクラス)</span></th>\n",
    "        <td style=\"background-color: brown;\"><span style=\"color: pink;\">偽陽性<br />False Positive</span></td>\n",
    "        <td style=\"background-color: brown;\">真陰性<br />True Negative</td>\n",
    "    </tr>\n",
    "</table>"
   ]
  },
  {
   "cell_type": "markdown",
   "metadata": {},
   "source": [
    "#### 受信者操作特性 (ROC)\n",
    "---\n",
    "PR 曲線と同様に閾値を様々な値に変化させた場合の<span class=\"text-shadow\" style=\"color: hotpink;\">真陽性率</span>・<span class=\"text-shadow\" style=\"color: darkgreen;\">偽陽性率</span>の変化をプロットしたものが ROC 曲線。\n",
    "\n",
    "<table class=\"border text-center text-black background-white\">\n",
    "    <tr class=\"border-none\">\n",
    "        <th  colspan=\"3\"><span style=\"color: hotpink;\">真陽性率<br />True Positive Rate</span></th>\n",
    "        <th>\n",
    "        <th colspan=\"3\"><span style=\"color: darkgreen;\">偽陽性率<br />False Positive Rate</span></th>\n",
    "    </tr>\n",
    "    <tr>\n",
    "        <th class=\"border-top-none border-left-none border-right-bold\"></th>\n",
    "        <th>True と予測</th>\n",
    "        <th>False と予測</th>\n",
    "        <th class=\"border-none\n",
    "                   \"></th>\n",
    "        <th class=\"border-top-none border-left-none border-right-bold\"></th>\n",
    "        <th>True と予測</th>\n",
    "        <th>False と予測</th>\n",
    "    </tr>\n",
    "    <tr>\n",
    "        <th class=\"border-bottom border-right-bold\"><span style=\"color: purple;\">正解ラベルが True<br />(関心のあるクラス)</span></th>\n",
    "        <td style=\"background-color: purple;\"><span style=\"color: yellow;\">真陽性<br />True Positive</span></td>\n",
    "            <td style=\"background-color: purple;\">偽陰性<br />False Negative</td>\n",
    "        <td class=\"border-none\"></td>\n",
    "        <th class=\"border-bottom border-right-bold\">正解ラベルが True<br />(関心のあるクラス)</th>\n",
    "        <td>真陽性<br />True Positive</td>\n",
    "        <td>偽陰性<br />False Negative</td>\n",
    "    </tr>\n",
    "    <tr>\n",
    "        <th class=\"border-bottom border-right-bold\">正解ラベルが False<br />(関心のないクラス)</th>\n",
    "        <td>偽陽性<br />False Positive</td>\n",
    "        <td>真陰性<br />True Negative</td>\n",
    "        <td class=\"border-none\"></td>\n",
    "        <th class=\"border-bottom border-right-bold\"><span style=\"color: brown;\">正解ラベルが False<br />(関心のないクラス)</span></th>\n",
    "        <td style=\"background-color: brown;\"><span style=\"color: pink;\">偽陽性<br />False Positive</span></td>\n",
    "        <td style=\"background-color: brown;\">真陰性<br />True Negative</td>\n",
    "    </tr>\n",
    "</table>"
   ]
  },
  {
   "cell_type": "code",
   "execution_count": 31,
   "metadata": {
    "hide_input": true,
    "jupyter": {
     "source_hidden": true
    }
   },
   "outputs": [
    {
     "data": {
      "application/vnd.jupyter.widget-view+json": {
       "model_id": "1482cbb9463a47acb9d4e8358f34fbd4",
       "version_major": 2,
       "version_minor": 0
      },
      "text/plain": [
       "interactive(children=(SelectionSlider(continuous_update=False, description='性能', options=OrderedDict([('ランダム',…"
      ]
     },
     "metadata": {},
     "output_type": "display_data"
    }
   ],
   "source": [
    "from my_functions.imbalanced_data import roc_curve\n",
    "roc_curve.show()"
   ]
  },
  {
   "cell_type": "markdown",
   "metadata": {},
   "source": [
    "- 閾値を上げる (確率の高いものだけ True と判定する = <span class=\"text-shadow\" style=\"color: red;\">True と予測</span>するものが減る) と\n",
    " - ROC 曲線の左下へ移動 (<span class=\"text-shadow\" style=\"color: hotpink;\">真陽性率</span>も<span class=\"text-shadow\" style=\"color: darkgreen;\">偽陽性率</span>も下がる)\n",
    "- 閾値を下げる (確率の低いものでも True と判定する = <span class=\"text-shadow\" style=\"color: red;\">True と予測</span>するものが増える) と\n",
    " - ROC 曲線の右上へ移動 (<span class=\"text-shadow\" style=\"color: hotpink;\">真陽性率</span>も<span class=\"text-shadow\" style=\"color: darkgreen;\">偽陽性率</span>も上がる)\n",
    "- どんなに閾値を変化させても左上の点 (<span class=\"text-shadow\" style=\"color: hotpink;\">真陽性率</span> $1.0$ ・<span class=\"text-shadow\" style=\"color: darkgreen;\">偽陽性率</span> $0.0$ から動かない分類器は全てのサンプルに対して $100\\%$ の確信を持って正解の方に分類している完璧な分類器)\n",
    "- 各サンプルに対してランダムに分類 (あらゆる閾値に一様にサンプルを割当て) すると対角線になる\n",
    "- ROC 曲線の下部面積 (AUC, Area Under the Curve) が分類器の性能を表すと考えられる\n",
    " - 正しく分類できているかだけでなく、確信を持って分類できているかまで評価"
   ]
  },
  {
   "cell_type": "code",
   "execution_count": 32,
   "metadata": {
    "hide_input": true,
    "jupyter": {
     "source_hidden": true
    }
   },
   "outputs": [
    {
     "data": {
      "image/png": "[encoded data removed]",
      "text/plain": [
       "<Figure size 288x288 with 1 Axes>"
      ]
     },
     "metadata": {
      "needs_background": "light"
     },
     "output_type": "display_data"
    }
   ],
   "source": [
    "from my_functions.imbalanced_data import roc_auc\n",
    "roc_auc.show()"
   ]
  },
  {
   "cell_type": "markdown",
   "metadata": {},
   "source": [
    "練習問題\n",
    "\n",
    "---\n",
    "`mammography`データセットに任意の分類アルゴリズムを適用し、ROC 曲線を表示する。"
   ]
  },
  {
   "cell_type": "code",
   "execution_count": null,
   "metadata": {},
   "outputs": [],
   "source": []
  },
  {
   "cell_type": "markdown",
   "metadata": {
    "solution2": "hidden",
    "solution2_first": true
   },
   "source": [
    "解答例\n",
    "\n",
    "---"
   ]
  },
  {
   "cell_type": "code",
   "execution_count": 33,
   "metadata": {
    "collapsed": true,
    "jupyter": {
     "outputs_hidden": true,
     "source_hidden": true
    },
    "solution2": "hidden"
   },
   "outputs": [
    {
     "data": {
      "image/png": "[encoded data removed]",
      "text/plain": [
       "<Figure size 432x288 with 1 Axes>"
      ]
     },
     "metadata": {
      "needs_background": "light"
     },
     "output_type": "display_data"
    }
   ],
   "source": [
    "x = mammography.iloc[:, :-1]\n",
    "y = mammography.iloc[:, -1]\n",
    "proba = LogisticRegression(random_state=1234).fit(x, y).predict_proba(x)[:, 1]\n",
    "df = pd.DataFrame(dict(thresh=np.sort(proba)[::-1]))\n",
    "df['tp'] = df['thresh'].apply(lambda t: ((y == 1) & (proba >= t)).sum())\n",
    "df['fp'] = df['thresh'].apply(lambda t: ((y == 0) & (proba >= t)).sum())\n",
    "df['fn'] = df['thresh'].apply(lambda t: ((y == 1) & (proba < t)).sum())\n",
    "df['tn'] = df['thresh'].apply(lambda t: ((y == 0) & (proba < t)).sum())\n",
    "df['fpr'] = df['fp'] / (df['tn'] + df['fp'])\n",
    "df['tpr'] = df['tp'] / (df['tp'] + df['fn'])\n",
    "plt.plot('fpr', 'tpr', data=df)\n",
    "plt.show()"
   ]
  },
  {
   "cell_type": "markdown",
   "metadata": {},
   "source": [
    "---"
   ]
  },
  {
   "cell_type": "markdown",
   "metadata": {},
   "source": [
    "##### PythonでのROC曲線表示方法\n",
    "---\n",
    "`sklearn.metrics.plot_roc_curve`を使用する。"
   ]
  },
  {
   "cell_type": "code",
   "execution_count": 34,
   "metadata": {
    "collapsed": true,
    "jupyter": {
     "outputs_hidden": true
    }
   },
   "outputs": [
    {
     "name": "stdout",
     "output_type": "stream",
     "text": [
      "Help on function plot_roc_curve in module sklearn.metrics._plot.roc_curve:\n",
      "\n",
      "plot_roc_curve(estimator, X, y, *, sample_weight=None, drop_intermediate=True, response_method='auto', name=None, ax=None, **kwargs)\n",
      "    Plot Receiver operating characteristic (ROC) curve.\n",
      "    \n",
      "    Extra keyword arguments will be passed to matplotlib's `plot`.\n",
      "    \n",
      "    Read more in the :ref:`User Guide <visualizations>`.\n",
      "    \n",
      "    Parameters\n",
      "    ----------\n",
      "    estimator : estimator instance\n",
      "        Fitted classifier or a fitted :class:`~sklearn.pipeline.Pipeline`\n",
      "        in which the last estimator is a classifier.\n",
      "    \n",
      "    X : {array-like, sparse matrix} of shape (n_samples, n_features)\n",
      "        Input values.\n",
      "    \n",
      "    y : array-like of shape (n_samples,)\n",
      "        Target values.\n",
      "    \n",
      "    sample_weight : array-like of shape (n_samples,), default=None\n",
      "        Sample weights.\n",
      "    \n",
      "    drop_intermediate : boolean, default=True\n",
      "        Whether to drop some suboptimal thresholds which would not appear\n",
      "        on a plotted ROC curve. This is useful in order to create lighter\n",
      "        ROC curves.\n",
      "    \n",
      "    response_method : {'predict_proba', 'decision_function', 'auto'}     default='auto'\n",
      "        Specifies whether to use :term:`predict_proba` or\n",
      "        :term:`decision_function` as the target response. If set to 'auto',\n",
      "        :term:`predict_proba` is tried first and if it does not exist\n",
      "        :term:`decision_function` is tried next.\n",
      "    \n",
      "    name : str, default=None\n",
      "        Name of ROC Curve for labeling. If `None`, use the name of the\n",
      "        estimator.\n",
      "    \n",
      "    ax : matplotlib axes, default=None\n",
      "        Axes object to plot on. If `None`, a new figure and axes is created.\n",
      "    \n",
      "    Returns\n",
      "    -------\n",
      "    display : :class:`~sklearn.metrics.RocCurveDisplay`\n",
      "        Object that stores computed values.\n",
      "    \n",
      "    Examples\n",
      "    --------\n",
      "    >>> import matplotlib.pyplot as plt  # doctest: +SKIP\n",
      "    >>> from sklearn import datasets, metrics, model_selection, svm\n",
      "    >>> X, y = datasets.make_classification(random_state=0)\n",
      "    >>> X_train, X_test, y_train, y_test = model_selection.train_test_split(            X, y, random_state=0)\n",
      "    >>> clf = svm.SVC(random_state=0)\n",
      "    >>> clf.fit(X_train, y_train)\n",
      "    SVC(random_state=0)\n",
      "    >>> metrics.plot_roc_curve(clf, X_test, y_test)  # doctest: +SKIP\n",
      "    >>> plt.show()                                   # doctest: +SKIP\n",
      "\n"
     ]
    }
   ],
   "source": [
    "help(metrics.plot_roc_curve)"
   ]
  },
  {
   "cell_type": "code",
   "execution_count": 35,
   "metadata": {},
   "outputs": [
    {
     "data": {
      "image/png": "[encoded data removed]",
      "text/plain": [
       "<Figure size 432x288 with 1 Axes>"
      ]
     },
     "metadata": {
      "needs_background": "light"
     },
     "output_type": "display_data"
    }
   ],
   "source": [
    "metrics.plot_roc_curve(model, x, y)\n",
    "plt.show()"
   ]
  },
  {
   "cell_type": "markdown",
   "metadata": {},
   "source": [
    "##### ROC-AUC\n",
    "---\n",
    "ROC-AUC は正解ラベルが True のものと False のものから 1 つずつサンプルを選んだ場合に、全ての組み合わせに占める正しく並べられた (正解ラベルが True のものを正解ラベルが False のものより 1 に近く予測できた) 割合を表す。\n",
    "\n",
    "$\n",
    "\\displaystyle \\begin{aligned}\n",
    "    AUC & =\\frac\n",
    "        {正しく並べられた組み合わせ}\n",
    "        {全ての組み合わせ}\n",
    "    \\\\\n",
    "     & \\\\\n",
    "     & =1-\\frac\n",
    "         {間違って並べた組み合わせ}\n",
    "         {全ての組み合わせ}\n",
    "\\end{aligned}\n",
    "$\n",
    "\n",
    "|サンプル番号|正解ラベル|予測値 (確率)|\n",
    "|:-:|:-:|:-:|\n",
    "|1|True|0.9|\n",
    "|2|True|0.7|\n",
    "|3|False|0.5|\n",
    "|4|True|0.3|\n",
    "|5|False|0.1|\n",
    "\n",
    "全ての組み合わせは $3\\times 2=6\\cdots ( 1,3) ,( 1,5) ,( 2,3) ,( 2,5) ,( 4,3) ,( 4,5)$ で、正しく並べられた組み合わせは $5\\cdots ( 1,3) ,( 1,5) ,( 2,3) ,( 2,5) ,( 4,5)$ なので、 $\\displaystyle AUC=\\frac{5}{6}$ となる。"
   ]
  },
  {
   "cell_type": "markdown",
   "metadata": {
    "solution2": "hidden",
    "solution2_first": true
   },
   "source": [
    "証明\n",
    "\n",
    "---"
   ]
  },
  {
   "cell_type": "markdown",
   "metadata": {
    "jupyter": {
     "source_hidden": true
    },
    "solution2": "hidden"
   },
   "source": [
    "分類器の予測値を元にサンプルを昇順 (予測値の小さい順) に並べたとする。 $( 0\\leqq \\hat{y}_{i} \\leqq \\hat{y}_{i+1} \\leqq 1)$\n",
    "\n",
    "このとき、 $k$ 番目の域値における真陽性率 (TPR) と偽陽性率 (FPR) は以下のように表される。\n",
    "\n",
    "$\n",
    "\\displaystyle TPR_{k} =\\frac\n",
    "    {n_{y_{i} =1,i\\geqq k}}\n",
    "    {n_{y =1}}\n",
    "$\n",
    "\n",
    "$\\displaystyle FPR_{k} =\\frac{n_{y_{i} =0,i\\geqq k}}{n_{y=0}}$\n",
    "\n",
    "したがって\n",
    "\n",
    "$\n",
    "\\displaystyle \\begin{aligned}\n",
    "    AUC & =\\sum ^{N-1}_{k=1}\\frac\n",
    "        {TPR_{k} +TPR_{k+1}}\n",
    "        {2}\n",
    "    ( FPR_{k} -FPR_{k+1})\\\\\n",
    "     & \\\\\n",
    "     & =\\sum ^{N-1}_{k=1}\\frac\n",
    "         {1}\n",
    "         {2}\n",
    "     \\left(\\frac\n",
    "         {n_{y_{i} =1,i\\geqq k} +n_{y_{i} =1,i\\geqq k+1}}\n",
    "         {n_{y =1}}\n",
    "     \\right)\\left(\\frac\n",
    "         {n_{y_{i} =0,i\\geqq k} -n_{y_{i} =0,i\\geqq k+1}}\n",
    "         {n_{y=0}}\n",
    "     \\right)\\\\\n",
    "     & \\\\\n",
    "     & =\\sum ^{N-1}_{k=1}\\frac\n",
    "         {1}\n",
    "         {2}\n",
    "     \\frac\n",
    "         {2n_{y_{i} =1,i\\geqq k+1} +n_{y_{i} =1,i=k}}\n",
    "         {n_{y=1}}\n",
    "     \\frac\n",
    "         {n_{y_{i} =0,i=k}}\n",
    "         {n_{y=0}}\n",
    "     \\\\\n",
    "     & \\\\\n",
    "     & =\\sum ^{N-1}_{k=1}\\frac\n",
    "         {n_{y_{i} =1,i\\geqq k+1} n_{y_{k} =0}}\n",
    "         {n_{y=1} n_{y=0}}\n",
    "     +\\frac\n",
    "         {1}\n",
    "         {2}\n",
    "     \\sum ^{N-1}_{k=1}\\frac\n",
    "         {n_{y_{k} =1} n_{y_{k} =0}}\n",
    "         {n_{y=1} n_{y=0}}\n",
    "\\end{aligned}\n",
    "$\n",
    "\n",
    "ここで、 $n_{y_{k} =1} n_{y_{k} =0}$ より\n",
    "\n",
    "$\n",
    "\\displaystyle \\begin{aligned}\n",
    "    AUC & =\\sum ^{N-1}_{k=1}\\frac\n",
    "        {n_{y_{i} =1,i\\geqq k+1} n_{y_{k} =0}}\n",
    "        {n_{y=1} n_{y=0}}\n",
    "    \\\\\n",
    "     & \\\\\n",
    "     & =\\frac\n",
    "         {\\displaystyle \\sum _{k\\in y_{k} =0} n_{y_{i} =1,i >k}}\n",
    "         {n_{y=1} n_{y=0}}\n",
    "\\end{aligned}\n",
    "$\n",
    "\n",
    "$n_{y=1} n_{y=0}$ は正解ラベルが True のものと False のものから 1 つずつサンプルを選ぶ組み合わせの数であり、 $\\displaystyle \\sum _{k\\in y_{k} =0} n_{y_{i} =1,i >k}$ は $k$ 番目の域値のときに誤って True と予測したものの数である。\n",
    "\n",
    "よって、 ROC-AUC は正解ラベルが True のものと False のものから 1 つずつサンプルを選んだ場合に、全ての組み合わせに占める正しく並べられた割合を表す。"
   ]
  },
  {
   "cell_type": "markdown",
   "metadata": {},
   "source": [
    "---"
   ]
  },
  {
   "cell_type": "markdown",
   "metadata": {},
   "source": [
    "##### PythonでのROC-AUC算出方法\n",
    "---\n",
    "`sklearn.metrics.roc_auc_score`を使用する。"
   ]
  },
  {
   "cell_type": "code",
   "execution_count": 36,
   "metadata": {},
   "outputs": [
    {
     "data": {
      "text/plain": [
       "0.7006871527264276"
      ]
     },
     "execution_count": 36,
     "metadata": {},
     "output_type": "execute_result"
    }
   ],
   "source": [
    "metrics.roc_auc_score(pred['正解'], pred['予測'])"
   ]
  },
  {
   "cell_type": "markdown",
   "metadata": {},
   "source": [
    "#### ROC-AUCとPR-AUCの比較\n",
    "---\n",
    "ROC-AUC も PR-AUC も分類モデルの能力を表す指標だが、一般的には ROC-AUC 、不均衡データには PR-AUC が適している。  \n",
    "ROC-AUC ではランダムなモデルの能力は 0.5 に固定され、異なるデータセット間でも値によって評価しやすいが、 PR-AUC におけるランダムなモデルの能力はデータの不均衡さに左右され、**異なるデータセット間での値の比較はしにくい**。  \n",
    "一方、不均衡データでは混同行列の真陰性 (TN) 付近の密度が高くなりやすく、 ROC 曲線では横軸の移動の大半が負例 (正解ラベルが False のサンプル) の分類変更によってもたらされ、 AUC の面積の大半を占めるが、 PR 曲線では TN の密度が高い区間付近では横軸の移動が抑えられ、 AUC の面積に占める割合も低くなる。\n",
    "\n",
    "<table class=\"border\">\n",
    "    <tr class=\"text-center\">\n",
    "        <th></th>\n",
    "        <th style=\"min-width: 6.5em;\">横軸</th>\n",
    "        <th style=\"min-width: 6.5em;\">縦軸</th>\n",
    "    </tr>\n",
    "    <tr>\n",
    "        <th class=\"text-center border-bottom\">ROC-AUC</th>\n",
    "        <td class=\"text-left\">$\\displaystyle \\frac{FP}{FP+TN}$</td>\n",
    "        <td class=\"text-left\">$\\displaystyle \\frac{TP}{TP+FN}$</td>\n",
    "    </tr>\n",
    "    <tr>\n",
    "        <th class=\"text-center border-bottom\">PR-AUC</th>\n",
    "        <td class=\"text-left\">$\\displaystyle \\frac{TP}{TP+FN}$</td>\n",
    "        <td class=\"text-left\">$\\displaystyle \\frac{TP}{TP+FP}$</td>\n",
    "    </tr>\n",
    "</table>"
   ]
  },
  {
   "cell_type": "code",
   "execution_count": 37,
   "metadata": {
    "hide_input": true,
    "jupyter": {
     "source_hidden": true
    }
   },
   "outputs": [
    {
     "data": {
      "application/vnd.jupyter.widget-view+json": {
       "model_id": "9bc2ebef0a7d4665bcf4e340e38ab229",
       "version_major": 2,
       "version_minor": 0
      },
      "text/plain": [
       "Play(value=1, max=99, min=1)"
      ]
     },
     "metadata": {},
     "output_type": "display_data"
    },
    {
     "data": {
      "application/vnd.jupyter.widget-view+json": {
       "model_id": "f5878326e2d9494697c9d5b91020a7f6",
       "version_major": 2,
       "version_minor": 0
      },
      "text/plain": [
       "Output()"
      ]
     },
     "metadata": {},
     "output_type": "display_data"
    }
   ],
   "source": [
    "from my_functions.imbalanced_data import compare_auc\n",
    "compare_auc.show()"
   ]
  },
  {
   "cell_type": "markdown",
   "metadata": {},
   "source": [
    "## 不均衡データでの学習\n",
    "---\n",
    "簡単なものとして以下の方法がある。\n",
    "\n",
    "- F1 スコアが最も高くなる閾値や PR-AUC が高くなるハイパーパラメーターを採用する\n",
    "- 各クラスを平等に扱うように少ないデータに対して過学習させる ( scikit-learn の場合、 class_weight 引数を 'balanced' に設定)\n",
    "\n",
    "[imbalanced-learn](https://imbalanced-learn.readthedocs.io/en/stable/index.html) (不均衡データ学習用のライブラリ) も参考に。"
   ]
  },
  {
   "cell_type": "markdown",
   "metadata": {},
   "source": [
    "## 多クラス分類の評価"
   ]
  },
  {
   "cell_type": "markdown",
   "metadata": {},
   "source": [
    "### マクロ平均法とマイクロ平均法\n",
    "---\n",
    "多クラス分類のための指標。\n",
    "\n",
    "一対他で $k$ 個のクラスそれぞれの混同行列を作成したとして\n",
    "\n",
    "マクロ平均法は、各クラスで指標を求めてから、それらの平均を最終的な指標として使用する。各クラスを平等に扱う。\n",
    "\n",
    "$\n",
    "{\\displaystyle\n",
    "    PRE_{macro} =\\frac\n",
    "        {PRE_{1} +PRE_{2} +\\dotsc +PRE_{k}}\n",
    "        {k}\n",
    "}\n",
    "$\n",
    "\n",
    "マイクロ平均法は、それぞれの分母・分子同士を合計してから、最終的な指標の分母・分子として使用する。各サンプルを平等に扱う。\n",
    "\n",
    "$\n",
    "{\\displaystyle\n",
    "    PRE_{micro} =\\frac\n",
    "        {TP_{1} +TP_{2} +\\dotsc +TP_{k}}\n",
    "        {TP_{1} +TP_{2} +\\dotsc +TP_{k} +FP_{1} +FP_{2} +\\dotsc +FP_{k}}\n",
    "}\n",
    "$\n",
    "\n",
    "scikit-learn で二値分類の指標を使って多クラス分類モデルを評価すると、デフォルトではマクロ平均を正規化 (重みづけ) したものが使用される。それ以外の平均化方法を使用したい場合は average 引数で指定。"
   ]
  },
  {
   "cell_type": "markdown",
   "metadata": {},
   "source": [
    "### 多クラス分類の混同行列\n",
    "---\n",
    "多クラス分類でデータが不均衡かどうかは最少のクラスのサンプルサイズ:最多のクラスのサンプルサイズで考えていくことが多い。\n",
    "\n",
    "以下のような混同行列を作成したとして、学習時には横方向の再現率・評価時には縦方向の適合率を見ることもある。\n",
    "\n",
    "<table class=\"border text-black background-white\">\n",
    "    <tr>\n",
    "        <th class=\"border-none text-center\" colspan=\"5\">混同行列</th>\n",
    "    </tr>\n",
    "    <tr class=\"text-center\">\n",
    "        <td class=\"border-top-none border-left-none border-bottom-bold border-right-bold\" rowspan=\"2\" colspan=\"2\"></td>\n",
    "        <th class=\"border-bottom\" colspan=\"3\">予測</th>\n",
    "    </tr>\n",
    "    <tr class=\"text-center\">\n",
    "        <th>A</th>\n",
    "        <th>B</th>\n",
    "        <th>C</th>\n",
    "    </tr>\n",
    "    <tr>\n",
    "        <th class=\"border-bottom text-center\" rowspan=\"3\">正解ラベル</th>\n",
    "        <th class=\"border-bottom border-right-bold text-center\">A</th>\n",
    "        <td class=\"text-right\">10</td>\n",
    "        <td class=\"text-right\">15</td>\n",
    "        <td class=\"text-right\">25</td>\n",
    "    </tr>\n",
    "    <tr>\n",
    "        <th class=\"border-bottom border-right-bold text-center\">B</th>\n",
    "        <td class=\"text-right\">7</td>\n",
    "        <td class=\"text-right\">40</td>\n",
    "        <td class=\"text-right\">3</td>\n",
    "    </tr>\n",
    "    <tr>\n",
    "        <th class=\"border-bottom border-right-bold text-center\">C</th>\n",
    "        <td class=\"text-right\">2</td>\n",
    "        <td class=\"text-right\">3</td>\n",
    "        <td class=\"text-right\">45</td>\n",
    "    </tr>\n",
    "</table>\n",
    "\n",
    "行単位で正規化して、精度の悪いクラスを捉える特徴の追加を考える。 (下の例ではAとそれ以外で顕著に変わるような特徴)\n",
    "\n",
    "<table class=\"border text-black background-white\">\n",
    "    <tr class=\"text-center\">\n",
    "        <td class=\"border-top-none border-left-none border-bottom-bold border-right-bold\" rowspan=\"2\" colspan=\"2\"></td>\n",
    "        <th class=\"border-bottom\" colspan=\"3\">予測</th>\n",
    "    </tr>\n",
    "    <tr class=\"text-center\">\n",
    "        <th>A</th>\n",
    "        <th>B</th>\n",
    "        <th>C</th>\n",
    "    </tr>\n",
    "    <tr>\n",
    "        <th class=\"border-bottom text-center\" rowspan=\"3\">正解ラベル</th>\n",
    "        <th class=\"border-bottom border-right-bold text-center\">A</th>\n",
    "        <td class=\"text-left text-red\">0.2</td>\n",
    "        <td class=\"text-left\">0.3</td>\n",
    "        <td class=\"text-left\">0.5</td>\n",
    "    </tr>\n",
    "    <tr>\n",
    "        <th class=\"border-bottom border-right-bold text-center\">B</th>\n",
    "        <td class=\"text-left\">0.14</td>\n",
    "        <td class=\"text-left text-red\">0.8</td>\n",
    "        <td class=\"text-left\">0.06</td>\n",
    "    </tr>\n",
    "    <tr>\n",
    "        <th class=\"border-bottom border-right-bold text-center\">C</th>\n",
    "        <td class=\"text-left\">0.04</td>\n",
    "        <td class=\"text-left\">0.06</td>\n",
    "        <td class=\"text-left text-red\">0.9</td>\n",
    "    </tr>\n",
    "</table>\n",
    "\n",
    "列単位で正規化して、それぞれの予測の信頼性を確認する。 (運用した際の体感的なクラス別精度)\n",
    "\n",
    "<table class=\"border text-black background-white\">\n",
    "    <tr class=\"text-center\">\n",
    "        <td class=\"border-top-none border-left-none border-bottom-bold border-right-bold\" rowspan=\"2\" colspan=\"2\"></td>\n",
    "        <th class=\"border-bottom\" colspan=\"3\">予測</th>\n",
    "    </tr>\n",
    "    <tr class=\"text-center\">\n",
    "        <th>A</th>\n",
    "        <th>B</th>\n",
    "        <th>C</th>\n",
    "    </tr>\n",
    "    <tr>\n",
    "        <th class=\"border-bottom text-center\" rowspan=\"3\">正解ラベル</th>\n",
    "        <th class=\"border-bottom border-right-bold text-center\">A</th>\n",
    "        <td class=\"text-left text-red\">0.53</td>\n",
    "        <td class=\"text-left\">0.26</td>\n",
    "        <td class=\"text-left\">0.34</td>\n",
    "    </tr>\n",
    "    <tr>\n",
    "        <th class=\"border-bottom border-right-bold text-center\">B</th>\n",
    "        <td class=\"text-left\">0.37</td>\n",
    "        <td class=\"text-left text-red\">0.69</td>\n",
    "        <td class=\"text-left\">0.04</td>\n",
    "    </tr>\n",
    "    <tr>\n",
    "        <th class=\"border-bottom border-right-bold text-center\">C</th>\n",
    "        <td class=\"text-left\">0.11</td>\n",
    "        <td class=\"text-left\">0.05</td>\n",
    "        <td class=\"text-left text-red\">0.62</td>\n",
    "    </tr>\n",
    "</table>"
   ]
  },
  {
   "cell_type": "markdown",
   "metadata": {},
   "source": [
    "## 推薦図書\n",
    "---\n",
    "- [Python 機械学習プログラミング 達人データサイエンティストによる理論と実践](https://www.amazon.co.jp/Python-%E6%A9%9F%E6%A2%B0%E5%AD%A6%E7%BF%92%E3%83%97%E3%83%AD%E3%82%B0%E3%83%A9%E3%83%9F%E3%83%B3%E3%82%B0-%E9%81%94%E4%BA%BA%E3%83%87%E3%83%BC%E3%82%BF%E3%82%B5%E3%82%A4%E3%82%A8%E3%83%B3%E3%83%86%E3%82%A3%E3%82%B9%E3%83%88%E3%81%AB%E3%82%88%E3%82%8B%E7%90%86%E8%AB%96%E3%81%A8%E5%AE%9F%E8%B7%B5-impress-gear/dp/4295003379/)"
   ]
  }
 ],
 "metadata": {
  "kernelspec": {
   "display_name": "Python 3",
   "language": "python",
   "name": "python3"
  },
  "language_info": {
   "codemirror_mode": {
    "name": "ipython",
    "version": 3
   },
   "file_extension": ".py",
   "mimetype": "text/x-python",
   "name": "python",
   "nbconvert_exporter": "python",
   "pygments_lexer": "ipython3",
   "version": "3.8.3"
  },
  "toc": {
   "base_numbering": 1,
   "nav_menu": {},
   "number_sections": true,
   "sideBar": true,
   "skip_h1_title": true,
   "title_cell": "Table of Contents",
   "title_sidebar": "Contents",
   "toc_cell": false,
   "toc_position": {},
   "toc_section_display": true,
   "toc_window_display": true
  },
  "varInspector": {
   "cols": {
    "lenName": 16,
    "lenType": 16,
    "lenVar": 40
   },
   "kernels_config": {
    "python": {
     "delete_cmd_postfix": "",
     "delete_cmd_prefix": "del ",
     "library": "var_list.py",
     "varRefreshCmd": "print(var_dic_list())"
    },
    "r": {
     "delete_cmd_postfix": ") ",
     "delete_cmd_prefix": "rm(",
     "library": "var_list.r",
     "varRefreshCmd": "cat(var_dic_list()) "
    }
   },
   "types_to_exclude": [
    "module",
    "function",
    "builtin_function_or_method",
    "instance",
    "_Feature"
   ],
   "window_display": false
  }
 },
 "nbformat": 4,
 "nbformat_minor": 4
}
