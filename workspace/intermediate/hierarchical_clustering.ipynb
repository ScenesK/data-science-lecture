{
 "cells": [
  {
   "cell_type": "code",
   "execution_count": 1,
   "metadata": {},
   "outputs": [],
   "source": [
    "%matplotlib inline"
   ]
  },
  {
   "cell_type": "markdown",
   "metadata": {},
   "source": [
    "# 階層的クラスタリング"
   ]
  },
  {
   "cell_type": "markdown",
   "metadata": {},
   "source": [
    "## 階層的クラスタリングの仕組み\n",
    "---\n",
    "1. 各サンプルをそれぞれ 1 つのクラスタとする\n",
    "1. クラスタ内のある点を選び、別のクラスタの同様の点との間の距離を測る (クラスタ同士の全ての点の組み合わせを用いるものもある)\n",
    "1. クラスタの全組み合わせの中から一番近いクラスタの組み合わせを選び、 1 つのクラスタとしてまとめる\n",
    "1. 2~3 を指定した数のクラスタ数にまとめられるまで繰り返す\n",
    "\n",
    "<table class=\"text-center border\">\n",
    "    <tr>\n",
    "        <th>距離の測り方 (metric)</th>\n",
    "    </tr>\n",
    "    <tr>\n",
    "        <td>ユークリッド距離<br />(euclidean)</td>\n",
    "    </tr>\n",
    "    <tr>\n",
    "        <td>マンハッタン距離<br />(cityblock)</td>\n",
    "    </tr>\n",
    "    <tr>\n",
    "        <td>その他<br /><a href=\"https://docs.scipy.org/doc/scipy/reference/generated/scipy.spatial.distance.pdist.html\">scipy.spatial.distance.pdist</a>を参照</td>\n",
    "    </tr>\n",
    "</table>\n",
    "\n",
    "<table class=\"text-center border\">\n",
    "    <tr>\n",
    "        <th colspan=\"2\">点の選び方 (method)</th>\n",
    "    </tr>\n",
    "    <tr>\n",
    "        <td>最短距離法・単リンク法<br />(single)</td>\n",
    "        <td class=\"text-left\">クラスター同士で、最も近いサンプル同士</td>\n",
    "    </tr>\n",
    "    <tr>\n",
    "        <td>最長距離法・完全リンク法<br />(complete)</td>\n",
    "        <td class=\"text-left\">クラスター同士で、最も遠いサンプル同士</td>\n",
    "    </tr>\n",
    "    <tr>\n",
    "        <td>群平均法・非加重結合法<br />(average)</td>\n",
    "        <td class=\"text-left\">クラスター同士で、それぞれの要素すべての間 (の距離の平均)</td>\n",
    "    </tr>\n",
    "    <tr>\n",
    "        <td>重心法・セントロイド法<br />(centroid)</td>\n",
    "        <td class=\"text-left\">クラスターの重心 (サンプル平均) 同士</td>\n",
    "    </tr>\n",
    "    <tr>\n",
    "        <td>ウォード法<br />(ward)</td>\n",
    "        <td class=\"text-left\">統合前と統合後の散布度 (散らばり) の差 (後述)</td>\n",
    "    </tr>\n",
    "    <tr>\n",
    "        <td>その他</td>\n",
    "        <td class=\"text-left\"><a href=\"https://docs.scipy.org/doc/scipy/reference/generated/scipy.cluster.hierarchy.linkage.html\">scipy.cluster.hierarchy.linkage</a>を参照</td>\n",
    "    </tr>\n",
    "</table>\n",
    "\n"
   ]
  },
  {
   "cell_type": "code",
   "execution_count": 2,
   "metadata": {
    "hide_input": true,
    "jupyter": {
     "source_hidden": true
    }
   },
   "outputs": [
    {
     "data": {
      "application/vnd.jupyter.widget-view+json": {
       "model_id": "084d842a5eae4067a231cd6c6bdf87b5",
       "version_major": 2,
       "version_minor": 0
      },
      "text/plain": [
       "Play(value=0, interval=1000, max=27)"
      ]
     },
     "metadata": {},
     "output_type": "display_data"
    },
    {
     "data": {
      "application/vnd.jupyter.widget-view+json": {
       "model_id": "ef439cac26fe4ba5a7326a52c6f86d87",
       "version_major": 2,
       "version_minor": 0
      },
      "text/plain": [
       "Output()"
      ]
     },
     "metadata": {},
     "output_type": "display_data"
    }
   ],
   "source": [
    "from my_functions.hierarchical_clustering import algorithm\n",
    "algorithm.show()"
   ]
  },
  {
   "cell_type": "markdown",
   "metadata": {},
   "source": [
    "## ウォード法\n",
    "---\n",
    "ユークリッド距離の場合、クラスタAがサンプルサイズ $n$ 個・変数 $k$ 個 (データフレームなら、サイズが $n\\times k$) のとき、クラスタAの重心 (クラスタ内の全サンプルの平均) からの各サンプルまでの距離の2乗の和 (各変数の変動の和) を $L( A) ={\\displaystyle \\sum ^{n}_{i=1}\\sum ^{k}_{j=1}\\left( x_{ij} -\\overline{x}_{j}\\right)^{2}}$ としたときに、情報ロス量 $\\Delta =L( A\\cup B) -L( A) -L( B)$ が最小となるようなクラスタA・Bから統合していく。 ( $A\\cup B$ はA・Bを統合した後のクラスタ)  \n",
    "イメージとしては、統合後の分散の増加を抑えるように統合していく。 (変動 = サンプルサイズ × 分散)"
   ]
  },
  {
   "cell_type": "markdown",
   "metadata": {},
   "source": [
    "## 注意点\n",
    "---\n",
    "クラスタを統合するたびに、全ての組み合わせでクラスタ間距離を計算する必要があるため、サンプルサイズに対してスケールしにくい。  \n",
    "結果を可視化する際もサンプルサイズが大きいと何がどのクラスタに属しているのか確認しづらい。"
   ]
  },
  {
   "cell_type": "markdown",
   "metadata": {},
   "source": [
    "## 推薦図書\n",
    "---\n",
    "- [Python 機械学習プログラミング 達人データサイエンティストによる理論と実践](https://www.amazon.co.jp/Python-%E6%A9%9F%E6%A2%B0%E5%AD%A6%E7%BF%92%E3%83%97%E3%83%AD%E3%82%B0%E3%83%A9%E3%83%9F%E3%83%B3%E3%82%B0-%E9%81%94%E4%BA%BA%E3%83%87%E3%83%BC%E3%82%BF%E3%82%B5%E3%82%A4%E3%82%A8%E3%83%B3%E3%83%86%E3%82%A3%E3%82%B9%E3%83%88%E3%81%AB%E3%82%88%E3%82%8B%E7%90%86%E8%AB%96%E3%81%A8%E5%AE%9F%E8%B7%B5-impress-gear/dp/4295003379/)\n",
    "- [Pythonではじめる機械学習 ―scikit-learnで学ぶ特徴量エンジニアリングと機械学習の基礎](https://www.amazon.co.jp/Python%E3%81%A7%E3%81%AF%E3%81%98%E3%82%81%E3%82%8B%E6%A9%9F%E6%A2%B0%E5%AD%A6%E7%BF%92-%E2%80%95scikit-learn%E3%81%A7%E5%AD%A6%E3%81%B6%E7%89%B9%E5%BE%B4%E9%87%8F%E3%82%A8%E3%83%B3%E3%82%B8%E3%83%8B%E3%82%A2%E3%83%AA%E3%83%B3%E3%82%B0%E3%81%A8%E6%A9%9F%E6%A2%B0%E5%AD%A6%E7%BF%92%E3%81%AE%E5%9F%BA%E7%A4%8E-Andreas-C-Muller/dp/4873117984/)"
   ]
  }
 ],
 "metadata": {
  "kernelspec": {
   "display_name": "Python 3",
   "language": "python",
   "name": "python3"
  },
  "language_info": {
   "codemirror_mode": {
    "name": "ipython",
    "version": 3
   },
   "file_extension": ".py",
   "mimetype": "text/x-python",
   "name": "python",
   "nbconvert_exporter": "python",
   "pygments_lexer": "ipython3",
   "version": "3.8.3"
  },
  "toc": {
   "base_numbering": 1,
   "nav_menu": {},
   "number_sections": true,
   "sideBar": true,
   "skip_h1_title": true,
   "title_cell": "Table of Contents",
   "title_sidebar": "Contents",
   "toc_cell": false,
   "toc_position": {},
   "toc_section_display": true,
   "toc_window_display": true
  },
  "varInspector": {
   "cols": {
    "lenName": 16,
    "lenType": 16,
    "lenVar": 40
   },
   "kernels_config": {
    "python": {
     "delete_cmd_postfix": "",
     "delete_cmd_prefix": "del ",
     "library": "var_list.py",
     "varRefreshCmd": "print(var_dic_list())"
    },
    "r": {
     "delete_cmd_postfix": ") ",
     "delete_cmd_prefix": "rm(",
     "library": "var_list.r",
     "varRefreshCmd": "cat(var_dic_list()) "
    }
   },
   "types_to_exclude": [
    "module",
    "function",
    "builtin_function_or_method",
    "instance",
    "_Feature"
   ],
   "window_display": false
  }
 },
 "nbformat": 4,
 "nbformat_minor": 4
}
