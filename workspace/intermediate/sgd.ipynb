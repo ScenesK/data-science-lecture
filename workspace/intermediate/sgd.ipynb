{
 "cells": [
  {
   "cell_type": "code",
   "execution_count": 1,
   "metadata": {},
   "outputs": [],
   "source": [
    "%matplotlib inline"
   ]
  },
  {
   "cell_type": "markdown",
   "metadata": {},
   "source": [
    "# 確率的勾配降下法 (Stochastic Gradient Descent)"
   ]
  },
  {
   "cell_type": "markdown",
   "metadata": {},
   "source": [
    "## 最適化 (optimization)\n",
    "---\n",
    "パラメーターを調整して、モデルから正解 $y$ が出力される可能性を高めたり (尤度最大化) 、予測値 $\\hat{y}$ と正解 $y$ との差を小さくすること (誤差最小化) 。\n",
    "\n",
    "誤差 (Error) を求める関数のことをコスト関数 (Cost function) ・損失関数 (Loss function) ・目的関数 (Objective function) などと呼ぶ。(厳密には違う概念を指している場合もある)"
   ]
  },
  {
   "cell_type": "markdown",
   "metadata": {},
   "source": [
    "## 目的関数の例"
   ]
  },
  {
   "cell_type": "markdown",
   "metadata": {},
   "source": [
    "### 平均二乗誤差 (Mean Squared Error, MSE)\n",
    "---\n",
    "回帰問題の誤差として最も使われる関数。 ([評価指標](metrics.ipynb#%E5%B9%B3%E5%9D%87%E4%BA%8C%E4%B9%97%E8%AA%A4%E5%B7%AE-%28MSE,-Mean-Squared-Error%29)を参照)\n",
    "\n",
    "$\n",
    "{\\displaystyle MSE=\\frac\n",
    "    {1}\n",
    "    {n}\n",
    "\\sum ^{n}_{i=1}\\left( y_{i} -\\hat{y}_{i}\\right)^{2}}\n",
    "$"
   ]
  },
  {
   "cell_type": "markdown",
   "metadata": {},
   "source": [
    "### エントロピー (Entropy)\n",
    "---\n",
    "情報の乱雑さ・不純さを表す指標。決定木で[不純度](decision_tree.ipynb#%E3%82%A8%E3%83%B3%E3%83%88%E3%83%AD%E3%83%94%E3%83%BC)を表すのに使われる。\n",
    "\n",
    "${\\displaystyle Entropy=-\\sum ^{c}_{i=1} P_{i} logP_{i}}$\n",
    "\n",
    "二値分類 $( c=2)$ の場合、 $P_{1} =P_{2} =0.5$ でエントロピーが最大になる。"
   ]
  },
  {
   "cell_type": "markdown",
   "metadata": {},
   "source": [
    "### クロスエントロピー (Cross-entropy)\n",
    "---\n",
    "分類問題を確率回帰の問題として解く場合によく用いられる損失関数。 ([ロジスティック回帰](logistic_regression.ipynb#%E6%9C%80%E5%B0%A4%E6%B3%95-%28Maximum-Likelihood-Method%29)を参照)\n",
    "\n",
    "$\n",
    "{\\displaystyle CrossEntropy=-\\sum ^{n}_{i=1}\\left[ y_{i} log\\left(\\hat{y}_{i}\\right) +( 1-y_{i}) log\\left( 1-\\hat{y}_{i}\\right)\\right]}\n",
    "$\n",
    "\n",
    "予測値が正解に近いと誤差が 0 に、遠いと誤差が無限大に近づいていく。"
   ]
  },
  {
   "cell_type": "code",
   "execution_count": 2,
   "metadata": {
    "hide_input": true,
    "jupyter": {
     "source_hidden": true
    }
   },
   "outputs": [
    {
     "data": {
      "image/png": "[encoded data removed]",
      "text/plain": [
       "<Figure size 288x288 with 1 Axes>"
      ]
     },
     "metadata": {
      "needs_background": "light"
     },
     "output_type": "display_data"
    }
   ],
   "source": [
    "from my_functions.sgd import cross_entropy\n",
    "cross_entropy.show()"
   ]
  },
  {
   "cell_type": "markdown",
   "metadata": {},
   "source": [
    "## 勾配降下法 (gradient descent)\n",
    "---\n",
    "損失関数 $L$ をパラメータ $\\theta$ についての関数 $L(\\theta )$ とみなして $L(\\theta)$ の勾配を下っていく ( $L(\\theta )$ の傾きと逆に進む) ことでコスト関数を最小化する手法。\n",
    "\n",
    "最急降下法やバッチ勾配降下法ともいう。"
   ]
  },
  {
   "cell_type": "markdown",
   "metadata": {},
   "source": [
    "### 線形回帰 + 平均二乗誤差の例\n",
    "---\n",
    "バイアス項を省略した線形回帰を二乗誤差関数で学習させた場合\n",
    "\n",
    "$\n",
    "\\begin{align}\n",
    "    E( w) & =\\frac\n",
    "        {1}\n",
    "        {2n}\n",
    "    \\sum ^{n}_{i=1}\\left( y_{i} -\\hat{y}_{i}\\right)^{2}\\\\\n",
    "     & =\\frac\n",
    "         {1}\n",
    "         {2n}\n",
    "     \\sum ^{n}_{i=1}( y_{i} -wx_{i})^{2}\\\\\n",
    "     & =\\frac\n",
    "         {1}\n",
    "         {2n}\n",
    "     \\left(\\sum ^{n}_{i=1} x^{2}_{i} w^{2} -2\\sum ^{n}_{i=1} x_{i} y_{i} w+\\sum ^{n}_{i=1} y^{2}_{i}\\right)\n",
    "\\end{align}\n",
    "$\n",
    "\n",
    "となる。これをパラメーター $w$ について微分した $\n",
    "{\\displaystyle \\frac\n",
    "    {dE( w)}\n",
    "    {dw}\n",
    "=\\frac\n",
    "    {1}\n",
    "    {n}\n",
    "\\left(\\sum ^{n}_{i=1} x^{2}_{i} w-\\sum ^{n}_{i=1} x_{i} y_{i}\\right)}\n",
    "$ によって勾配を求める。"
   ]
  },
  {
   "cell_type": "code",
   "execution_count": 3,
   "metadata": {
    "hide_input": true,
    "jupyter": {
     "source_hidden": true
    }
   },
   "outputs": [
    {
     "data": {
      "application/vnd.jupyter.widget-view+json": {
       "model_id": "7c2449929fde45afb61bb0e833e6561f",
       "version_major": 2,
       "version_minor": 0
      },
      "text/plain": [
       "HBox(children=(Play(value=0, interval=500, max=5), IntSlider(value=0, description='ステップ', max=5)))"
      ]
     },
     "metadata": {},
     "output_type": "display_data"
    },
    {
     "data": {
      "application/vnd.jupyter.widget-view+json": {
       "model_id": "52fd9039bc0c4231a5c20cca628e49e3",
       "version_major": 2,
       "version_minor": 0
      },
      "text/plain": [
       "Output()"
      ]
     },
     "metadata": {},
     "output_type": "display_data"
    }
   ],
   "source": [
    "from my_functions.sgd import gradient_descent_1d\n",
    "gradient_descent_1d.show()"
   ]
  },
  {
   "cell_type": "code",
   "execution_count": 4,
   "metadata": {},
   "outputs": [],
   "source": [
    "# 3Dグラフの表示に必要\n",
    "%matplotlib widget\n",
    "%matplotlib widget"
   ]
  },
  {
   "cell_type": "code",
   "execution_count": 5,
   "metadata": {
    "hide_input": true,
    "jupyter": {
     "source_hidden": true
    }
   },
   "outputs": [
    {
     "data": {
      "application/vnd.jupyter.widget-view+json": {
       "model_id": "4a2d7146aa0a45bfa318eba9f9938041",
       "version_major": 2,
       "version_minor": 0
      },
      "text/plain": [
       "Canvas(toolbar=Toolbar(toolitems=[('Home', 'Reset original view', 'home', 'home'), ('Back', 'Back to previous …"
      ]
     },
     "metadata": {},
     "output_type": "display_data"
    },
    {
     "data": {
      "application/vnd.jupyter.widget-view+json": {
       "model_id": "7d55f7c4e7f04724809ee419bd22bc81",
       "version_major": 2,
       "version_minor": 0
      },
      "text/plain": [
       "HBox(children=(Play(value=0, interval=500, max=5), IntSlider(value=0, description='ステップ', max=5)))"
      ]
     },
     "metadata": {},
     "output_type": "display_data"
    },
    {
     "data": {
      "application/vnd.jupyter.widget-view+json": {
       "model_id": "2867ca6404c940b798b4b6f6741a5b10",
       "version_major": 2,
       "version_minor": 0
      },
      "text/plain": [
       "Output()"
      ]
     },
     "metadata": {},
     "output_type": "display_data"
    }
   ],
   "source": [
    "from my_functions.sgd import gradient_descent_2d\n",
    "gradient_descent_2d.show()"
   ]
  },
  {
   "cell_type": "markdown",
   "metadata": {},
   "source": [
    "### 学習率 (learning rate)\n",
    "---\n",
    "勾配の情報から、1ステップ (パラメーターの更新) でどの程度進むかは学習率というハイパーパラメーターで調整する。\n",
    "\n",
    "学習率は大きすぎると発散し、小さすぎると現実的な時間内に収束しない。"
   ]
  },
  {
   "cell_type": "code",
   "execution_count": 6,
   "metadata": {},
   "outputs": [],
   "source": [
    "# 通常表示に戻す\n",
    "%matplotlib inline"
   ]
  },
  {
   "cell_type": "code",
   "execution_count": 7,
   "metadata": {
    "hide_input": true,
    "jupyter": {
     "source_hidden": true
    }
   },
   "outputs": [
    {
     "data": {
      "application/vnd.jupyter.widget-view+json": {
       "model_id": "9a13804a6c1d4a82b7155fbb751babbd",
       "version_major": 2,
       "version_minor": 0
      },
      "text/plain": [
       "interactive(children=(FloatLogSlider(value=0.01, continuous_update=False, description='学習率', max=0.5, min=-2.0…"
      ]
     },
     "metadata": {},
     "output_type": "display_data"
    }
   ],
   "source": [
    "from my_functions.sgd import learning_rate\n",
    "learning_rate.show()"
   ]
  },
  {
   "cell_type": "markdown",
   "metadata": {},
   "source": [
    "## 確率的勾配降下法 (Stochastic Gradient Descent)\n",
    "---\n",
    "ステップ (1回のパラメーター更新) ごとに一部のサンプルだけを使用して勾配を計算する手法。最急降下法は問題が多いため、実際には最急降下法を改良した確率的勾配降下法を使用する。\n",
    "\n",
    "厳密には1ステップで1サンプルだけ使用するものが確率的勾配降下法、2以上のサンプルを使用するものがミニバッチ確率的勾配降下法だが、勾配降下法や確率的勾配降下法というときには通常ミニバッチ確率的勾配降下法を指す。"
   ]
  },
  {
   "cell_type": "markdown",
   "metadata": {},
   "source": [
    "### 収束時間\n",
    "---\n",
    "確率的勾配降下法は、毎回のパラメーター更新で必ずしも最適解に向かうことを保証しないが、全体としてみれば (例えば全ステップ中7割くらいは最適解に近づくというように) 確率的に最適解の方向へ向かって収束していく。また、最適解へ向かって一直線にパラメーターを更新していかないので一見非効率そうだが、毎回の計算コストが小さいため、バッチ勾配降下法と比べて時間的に**早く収束**する。\n",
    "\n",
    "最急降下法は (少なくとも局所) 最適解への収束を保証するが、確率的勾配降下法は最適解に収束してそこにとどまることはなく、最適解の周辺をうろつくことになる。実用上は、この**ある程度収束した値を最適解として扱って問題ない**。\n",
    "\n",
    "確率的勾配降下法の通常の実装は以下の通り\n",
    "\n",
    "- 最初にデータをシャッフルして順番に利用\n",
    " - 毎回データセットからランダムにデータを選ぶのではない\n",
    " - データを学習する回数に偏りが生じないようにするため\n",
    "- エポック (全データを1回学習する) ごとにシャッフル\n",
    " - データの並びによる偏りが生じないようにするため\n",
    "\n",
    "<table class=\"border text-center\">\n",
    "    <tr class=\"background-default\">\n",
    "        <td class=\"border-none\" colspan=\"2\"></td>\n",
    "        <td class=\"border-none\" colspan=\"3\">シャッフル</td>\n",
    "    </tr>\n",
    "    <tr>\n",
    "        <th class=\"border-bottom border-right-bold background-dark\" rowspan=\"3\">epoch 1</th>\n",
    "        <th class=\"border-bottom background-dark\">step 1</th>\n",
    "        <td style=\"background-color: red;\">サンプル2</td>\n",
    "        <td class=\"background-bright\">サンプル3</td>\n",
    "        <td class=\"background-bright\">サンプル1</td>\n",
    "    </tr>\n",
    "    <tr>\n",
    "        <th class=\"border-bottom background-dark\">step 2</th>\n",
    "        <td class=\"background-bright\">サンプル2</td>\n",
    "        <td style=\"background-color: red;\">サンプル3</td>\n",
    "        <td class=\"background-bright\">サンプル1</td>\n",
    "    </tr>\n",
    "    <tr>\n",
    "        <th class=\"border-bottom background-dark\">step 3</th>\n",
    "        <td class=\"background-bright\">サンプル2</td>\n",
    "        <td class=\"background-bright\">サンプル3</td>\n",
    "        <td style=\"background-color: red;\">サンプル1</td>\n",
    "    </tr>\n",
    "    <tr class=\"border-none background-default\">\n",
    "        <td class=\"border none\" colspan=\"2\"></td>\n",
    "        <td colspan=\"3\">シャッフル</td>\n",
    "    </tr>\n",
    "    <tr>\n",
    "        <th class=\"border-bottom border-right-bold background-dark\" rowspan=\"3\">epoch 2</th>\n",
    "        <th class=\"border-bottom background-dark\">step 4</th>\n",
    "        <td style=\"background-color: red;\">サンプル3</td>\n",
    "        <td class=\"background-bright\">サンプル2</td>\n",
    "        <td class=\"background-bright\">サンプル1</td>\n",
    "    </tr>\n",
    "    <tr>\n",
    "        <th class=\"border-bottom background-dark\">step 5</th>\n",
    "        <td class=\"background-bright\">サンプル3</td>\n",
    "        <td style=\"background-color: red;\">サンプル2</td>\n",
    "        <td class=\"background-bright\">サンプル1</td>\n",
    "    </tr>\n",
    "    <tr>\n",
    "        <th class=\"border-bottom background-dark\">step 6</th>\n",
    "        <td class=\"background-bright\">サンプル3</td>\n",
    "        <td class=\"background-bright\">サンプル2</td>\n",
    "        <td style=\"background-color: red;\">サンプル1</td>\n",
    "    </tr>\n",
    "</table>"
   ]
  },
  {
   "cell_type": "code",
   "execution_count": 8,
   "metadata": {
    "hide_input": true,
    "jupyter": {
     "source_hidden": true
    }
   },
   "outputs": [
    {
     "data": {
      "application/vnd.jupyter.widget-view+json": {
       "model_id": "d0d3f7b76f604f3680233a4cc0d7c414",
       "version_major": 2,
       "version_minor": 0
      },
      "text/plain": [
       "HBox(children=(Play(value=0, description='経過時間', max=101), IntSlider(value=0)))"
      ]
     },
     "metadata": {},
     "output_type": "display_data"
    },
    {
     "data": {
      "application/vnd.jupyter.widget-view+json": {
       "model_id": "18091041534243738babfc7506566af1",
       "version_major": 2,
       "version_minor": 0
      },
      "text/plain": [
       "Output()"
      ]
     },
     "metadata": {},
     "output_type": "display_data"
    }
   ],
   "source": [
    "from my_functions.sgd import comparison\n",
    "comparison.show()"
   ]
  },
  {
   "cell_type": "markdown",
   "metadata": {},
   "source": [
    "## 推薦図書\n",
    "---\n",
    "- [Python 機械学習プログラミング 達人データサイエンティストによる理論と実践](https://www.amazon.co.jp/Python-%E6%A9%9F%E6%A2%B0%E5%AD%A6%E7%BF%92%E3%83%97%E3%83%AD%E3%82%B0%E3%83%A9%E3%83%9F%E3%83%B3%E3%82%B0-%E9%81%94%E4%BA%BA%E3%83%87%E3%83%BC%E3%82%BF%E3%82%B5%E3%82%A4%E3%82%A8%E3%83%B3%E3%83%86%E3%82%A3%E3%82%B9%E3%83%88%E3%81%AB%E3%82%88%E3%82%8B%E7%90%86%E8%AB%96%E3%81%A8%E5%AE%9F%E8%B7%B5-impress-gear/dp/4295003379/)"
   ]
  }
 ],
 "metadata": {
  "kernelspec": {
   "display_name": "Python 3",
   "language": "python",
   "name": "python3"
  },
  "language_info": {
   "codemirror_mode": {
    "name": "ipython",
    "version": 3
   },
   "file_extension": ".py",
   "mimetype": "text/x-python",
   "name": "python",
   "nbconvert_exporter": "python",
   "pygments_lexer": "ipython3",
   "version": "3.8.3"
  },
  "toc": {
   "base_numbering": 1,
   "nav_menu": {},
   "number_sections": true,
   "sideBar": true,
   "skip_h1_title": true,
   "title_cell": "Table of Contents",
   "title_sidebar": "Contents",
   "toc_cell": false,
   "toc_position": {},
   "toc_section_display": true,
   "toc_window_display": true
  },
  "varInspector": {
   "cols": {
    "lenName": 16,
    "lenType": 16,
    "lenVar": 40
   },
   "kernels_config": {
    "python": {
     "delete_cmd_postfix": "",
     "delete_cmd_prefix": "del ",
     "library": "var_list.py",
     "varRefreshCmd": "print(var_dic_list())"
    },
    "r": {
     "delete_cmd_postfix": ") ",
     "delete_cmd_prefix": "rm(",
     "library": "var_list.r",
     "varRefreshCmd": "cat(var_dic_list()) "
    }
   },
   "types_to_exclude": [
    "module",
    "function",
    "builtin_function_or_method",
    "instance",
    "_Feature"
   ],
   "window_display": false
  }
 },
 "nbformat": 4,
 "nbformat_minor": 4
}
