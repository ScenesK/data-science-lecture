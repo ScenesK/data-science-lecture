{
 "cells": [
  {
   "cell_type": "code",
   "execution_count": 1,
   "metadata": {},
   "outputs": [],
   "source": [
    "import numpy as np\n",
    "from scipy import stats\n",
    "import pandas as pd\n",
    "import matplotlib.pyplot as plt\n",
    "import seaborn as sns\n",
    "from IPython.display import display\n",
    "pd.set_option('max_rows', 5)\n",
    "%matplotlib inline"
   ]
  },
  {
   "cell_type": "markdown",
   "metadata": {},
   "source": [
    "# ヒストグラムを滑らかにする"
   ]
  },
  {
   "cell_type": "markdown",
   "metadata": {},
   "source": [
    "## ヒストグラムの問題点\n",
    "---\n",
    "分布が滑らかでなく、区間の分割方法によってグラフから受ける印象が大きく異なる。"
   ]
  },
  {
   "cell_type": "code",
   "execution_count": 2,
   "metadata": {
    "hide_input": true,
    "jupyter": {
     "source_hidden": true
    }
   },
   "outputs": [
    {
     "data": {
      "image/png": "[encoded data removed]",
      "text/plain": [
       "<Figure size 576x288 with 2 Axes>"
      ]
     },
     "metadata": {},
     "output_type": "display_data"
    }
   ],
   "source": [
    "from my_functions.kernel_density_estimation import histogram\n",
    "histogram.show()"
   ]
  },
  {
   "cell_type": "markdown",
   "metadata": {},
   "source": [
    "## カーネル密度推定 (kernel density estimation)\n",
    "---\n",
    "データ $( x_{1} ,x_{2} ,\\dotsc ,x_{n})$ の分布を滑らかな確率密度関数で表す。  \n",
    "この確率密度関数 $f(x)$ はカーネル関数 $K$ を用いて $\\displaystyle f( x) =\\frac{1}{nh}\\sum ^{n}_{i=1} K\\left(\\frac{x-x_{i}}{h}\\right)$ と表される。 ($h$ はバンド幅と呼ばれるパラメータ)  \n",
    "カーネル関数にはガウシアンカーネル (標準正規分布の確率密度関数と同じ) $\\displaystyle \\frac{1}{\\sqrt{2\\pi }} e^{-\\frac{x^{2}}{2}}$ を用いることが多い。\n",
    "\n",
    "直観的には $\\displaystyle \\sum ^{n}_{i=1} K\\left(\\frac{x-x_{i}}{h}\\right)$ の部分は各サンプルを中心とする確率分布の重ね合わせ、またはカーネル関数の畳み込み演算 (カーネル関数を順次スライドさせていったときの各サンプルに対応する確率密度の合計) と捉えられ、 $\\displaystyle \\frac{1}{nh}$ は全体の確率を $1$ にするための正規化定数と考えられる。"
   ]
  },
  {
   "cell_type": "code",
   "execution_count": 3,
   "metadata": {
    "hide_input": true,
    "jupyter": {
     "source_hidden": true
    }
   },
   "outputs": [
    {
     "data": {
      "application/vnd.jupyter.widget-view+json": {
       "model_id": "317d0a1de8f0458aa431917ebee09027",
       "version_major": 2,
       "version_minor": 0
      },
      "text/plain": [
       "Play(value=1, interval=1000, max=6, min=1)"
      ]
     },
     "metadata": {},
     "output_type": "display_data"
    },
    {
     "data": {
      "application/vnd.jupyter.widget-view+json": {
       "model_id": "02689494814e44c6bfc9e07e959a2e19",
       "version_major": 2,
       "version_minor": 0
      },
      "text/plain": [
       "Output()"
      ]
     },
     "metadata": {},
     "output_type": "display_data"
    }
   ],
   "source": [
    "from my_functions.kernel_density_estimation import summation\n",
    "summation.show()"
   ]
  },
  {
   "cell_type": "code",
   "execution_count": 4,
   "metadata": {
    "hide_input": true,
    "jupyter": {
     "source_hidden": true
    }
   },
   "outputs": [
    {
     "data": {
      "application/vnd.jupyter.widget-view+json": {
       "model_id": "6008d901a8f3410a947c5414363931f6",
       "version_major": 2,
       "version_minor": 0
      },
      "text/plain": [
       "Play(value=1, interval=200, max=50, min=1)"
      ]
     },
     "metadata": {},
     "output_type": "display_data"
    },
    {
     "data": {
      "application/vnd.jupyter.widget-view+json": {
       "model_id": "479f9f85cc154a2683b5777fcb1d63ac",
       "version_major": 2,
       "version_minor": 0
      },
      "text/plain": [
       "Output()"
      ]
     },
     "metadata": {},
     "output_type": "display_data"
    }
   ],
   "source": [
    "from my_functions.kernel_density_estimation import convolution\n",
    "convolution.show()"
   ]
  },
  {
   "cell_type": "markdown",
   "metadata": {},
   "source": [
    "練習問題\n",
    "\n",
    "---\n",
    "データセット`tip`の分布をバンド幅 0.5 のガウシアンカーネルで推定し、得られた確率密度のグラフを表示する。"
   ]
  },
  {
   "cell_type": "code",
   "execution_count": 5,
   "metadata": {
    "hide_input": true,
    "jupyter": {
     "source_hidden": true
    }
   },
   "outputs": [
    {
     "data": {
      "text/plain": [
       "0      1.01\n",
       "1      1.66\n",
       "       ... \n",
       "242    1.75\n",
       "243    3.00\n",
       "Name: tip, Length: 244, dtype: float64"
      ]
     },
     "metadata": {},
     "output_type": "display_data"
    }
   ],
   "source": [
    "tip = sns.load_dataset('tips')['tip']\n",
    "display(tip)"
   ]
  },
  {
   "cell_type": "code",
   "execution_count": null,
   "metadata": {
    "solution2": "hidden",
    "solution2_first": true
   },
   "outputs": [],
   "source": []
  },
  {
   "cell_type": "markdown",
   "metadata": {},
   "source": [
    "解答例\n",
    "\n",
    "---"
   ]
  },
  {
   "cell_type": "code",
   "execution_count": 6,
   "metadata": {
    "collapsed": true,
    "jupyter": {
     "outputs_hidden": true,
     "source_hidden": true
    },
    "solution2": "hidden"
   },
   "outputs": [
    {
     "data": {
      "image/png": "[encoded data removed]",
      "text/plain": [
       "<Figure size 432x288 with 1 Axes>"
      ]
     },
     "metadata": {
      "needs_background": "light"
     },
     "output_type": "display_data"
    }
   ],
   "source": [
    "n = tip.size\n",
    "h = 0.5\n",
    "distributions = stats.norm(loc=tip, scale=h)\n",
    "x = np.linspace(tip.min(), tip.max(), 100).reshape((-1, 1))\n",
    "plt.plot(x, distributions.pdf(x).sum(axis=1) / n / h)\n",
    "plt.show()"
   ]
  },
  {
   "cell_type": "markdown",
   "metadata": {},
   "source": [
    "---"
   ]
  },
  {
   "cell_type": "markdown",
   "metadata": {},
   "source": [
    "## Pythonでのカーネル密度推定実行方法\n",
    "---\n",
    "密度関数を求めたい場合には`scipy.stats.gaussian_kde`または`statsmodels.nonparametric.kde`を使用する。  \n",
    "グラフ表示だけなら、`pandas.DataFrame.plot.density`または`seaborn.kdeplot`を使用する。\n",
    "\n",
    "カーネル密度推定はヒストグラムより滑らかで分布を把握しやすいが、**バンド幅の設定によって形は変わる**。`scipy`や`statsmodels`ではバンド幅を自動設定してくれるが、一応注意しておく。"
   ]
  },
  {
   "cell_type": "code",
   "execution_count": 7,
   "metadata": {
    "collapsed": true,
    "jupyter": {
     "outputs_hidden": true
    }
   },
   "outputs": [
    {
     "name": "stdout",
     "output_type": "stream",
     "text": [
      "Help on function kde in module pandas.plotting._core:\n",
      "\n",
      "kde(self, bw_method=None, ind=None, **kwargs)\n",
      "    Generate Kernel Density Estimate plot using Gaussian kernels.\n",
      "    \n",
      "    In statistics, `kernel density estimation`_ (KDE) is a non-parametric\n",
      "    way to estimate the probability density function (PDF) of a random\n",
      "    variable. This function uses Gaussian kernels and includes automatic\n",
      "    bandwidth determination.\n",
      "    \n",
      "    .. _kernel density estimation:\n",
      "        https://en.wikipedia.org/wiki/Kernel_density_estimation\n",
      "    \n",
      "    Parameters\n",
      "    ----------\n",
      "    bw_method : str, scalar or callable, optional\n",
      "        The method used to calculate the estimator bandwidth. This can be\n",
      "        'scott', 'silverman', a scalar constant or a callable.\n",
      "        If None (default), 'scott' is used.\n",
      "        See :class:`scipy.stats.gaussian_kde` for more information.\n",
      "    ind : NumPy array or int, optional\n",
      "        Evaluation points for the estimated PDF. If None (default),\n",
      "        1000 equally spaced points are used. If `ind` is a NumPy array, the\n",
      "        KDE is evaluated at the points passed. If `ind` is an integer,\n",
      "        `ind` number of equally spaced points are used.\n",
      "    **kwargs\n",
      "        Additional keyword arguments are documented in\n",
      "        :meth:`pandas.%(this-datatype)s.plot`.\n",
      "    \n",
      "    Returns\n",
      "    -------\n",
      "    matplotlib.axes.Axes or numpy.ndarray of them\n",
      "    \n",
      "    See Also\n",
      "    --------\n",
      "    scipy.stats.gaussian_kde : Representation of a kernel-density\n",
      "        estimate using Gaussian kernels. This is the function used\n",
      "        internally to estimate the PDF.\n",
      "    \n",
      "    Examples\n",
      "    --------\n",
      "    Given a Series of points randomly sampled from an unknown\n",
      "    distribution, estimate its PDF using KDE with automatic\n",
      "    bandwidth determination and plot the results, evaluating them at\n",
      "    1000 equally spaced points (default):\n",
      "    \n",
      "    .. plot::\n",
      "        :context: close-figs\n",
      "    \n",
      "        >>> s = pd.Series([1, 2, 2.5, 3, 3.5, 4, 5])\n",
      "        >>> ax = s.plot.kde()\n",
      "    \n",
      "    A scalar bandwidth can be specified. Using a small bandwidth value can\n",
      "    lead to over-fitting, while using a large bandwidth value may result\n",
      "    in under-fitting:\n",
      "    \n",
      "    .. plot::\n",
      "        :context: close-figs\n",
      "    \n",
      "        >>> ax = s.plot.kde(bw_method=0.3)\n",
      "    \n",
      "    .. plot::\n",
      "        :context: close-figs\n",
      "    \n",
      "        >>> ax = s.plot.kde(bw_method=3)\n",
      "    \n",
      "    Finally, the `ind` parameter determines the evaluation points for the\n",
      "    plot of the estimated PDF:\n",
      "    \n",
      "    .. plot::\n",
      "        :context: close-figs\n",
      "    \n",
      "        >>> ax = s.plot.kde(ind=[1, 2, 3, 4, 5])\n",
      "    \n",
      "    For DataFrame, it works in the same way:\n",
      "    \n",
      "    .. plot::\n",
      "        :context: close-figs\n",
      "    \n",
      "        >>> df = pd.DataFrame({\n",
      "        ...     'x': [1, 2, 2.5, 3, 3.5, 4, 5],\n",
      "        ...     'y': [4, 4, 4.5, 5, 5.5, 6, 6],\n",
      "        ... })\n",
      "        >>> ax = df.plot.kde()\n",
      "    \n",
      "    A scalar bandwidth can be specified. Using a small bandwidth value can\n",
      "    lead to over-fitting, while using a large bandwidth value may result\n",
      "    in under-fitting:\n",
      "    \n",
      "    .. plot::\n",
      "        :context: close-figs\n",
      "    \n",
      "        >>> ax = df.plot.kde(bw_method=0.3)\n",
      "    \n",
      "    .. plot::\n",
      "        :context: close-figs\n",
      "    \n",
      "        >>> ax = df.plot.kde(bw_method=3)\n",
      "    \n",
      "    Finally, the `ind` parameter determines the evaluation points for the\n",
      "    plot of the estimated PDF:\n",
      "    \n",
      "    .. plot::\n",
      "        :context: close-figs\n",
      "    \n",
      "        >>> ax = df.plot.kde(ind=[1, 2, 3, 4, 5, 6])\n",
      "\n"
     ]
    }
   ],
   "source": [
    "help(pd.DataFrame.plot.density)"
   ]
  },
  {
   "cell_type": "code",
   "execution_count": 8,
   "metadata": {
    "collapsed": true,
    "jupyter": {
     "outputs_hidden": true
    }
   },
   "outputs": [
    {
     "name": "stdout",
     "output_type": "stream",
     "text": [
      "Help on function kdeplot in module seaborn.distributions:\n",
      "\n",
      "kdeplot(data, data2=None, shade=False, vertical=False, kernel='gau', bw='scott', gridsize=100, cut=3, clip=None, legend=True, cumulative=False, shade_lowest=True, cbar=False, cbar_ax=None, cbar_kws=None, ax=None, **kwargs)\n",
      "    Fit and plot a univariate or bivariate kernel density estimate.\n",
      "    \n",
      "    Parameters\n",
      "    ----------\n",
      "    data : 1d array-like\n",
      "        Input data.\n",
      "    data2: 1d array-like, optional\n",
      "        Second input data. If present, a bivariate KDE will be estimated.\n",
      "    shade : bool, optional\n",
      "        If True, shade in the area under the KDE curve (or draw with filled\n",
      "        contours when data is bivariate).\n",
      "    vertical : bool, optional\n",
      "        If True, density is on x-axis.\n",
      "    kernel : {'gau' | 'cos' | 'biw' | 'epa' | 'tri' | 'triw' }, optional\n",
      "        Code for shape of kernel to fit with. Bivariate KDE can only use\n",
      "        gaussian kernel.\n",
      "    bw : {'scott' | 'silverman' | scalar | pair of scalars }, optional\n",
      "        Name of reference method to determine kernel size, scalar factor,\n",
      "        or scalar for each dimension of the bivariate plot. Note that the\n",
      "        underlying computational libraries have different interperetations\n",
      "        for this parameter: ``statsmodels`` uses it directly, but ``scipy``\n",
      "        treats it as a scaling factor for the standard deviation of the\n",
      "        data.\n",
      "    gridsize : int, optional\n",
      "        Number of discrete points in the evaluation grid.\n",
      "    cut : scalar, optional\n",
      "        Draw the estimate to cut * bw from the extreme data points.\n",
      "    clip : pair of scalars, or pair of pair of scalars, optional\n",
      "        Lower and upper bounds for datapoints used to fit KDE. Can provide\n",
      "        a pair of (low, high) bounds for bivariate plots.\n",
      "    legend : bool, optional\n",
      "        If True, add a legend or label the axes when possible.\n",
      "    cumulative : bool, optional\n",
      "        If True, draw the cumulative distribution estimated by the kde.\n",
      "    shade_lowest : bool, optional\n",
      "        If True, shade the lowest contour of a bivariate KDE plot. Not\n",
      "        relevant when drawing a univariate plot or when ``shade=False``.\n",
      "        Setting this to ``False`` can be useful when you want multiple\n",
      "        densities on the same Axes.\n",
      "    cbar : bool, optional\n",
      "        If True and drawing a bivariate KDE plot, add a colorbar.\n",
      "    cbar_ax : matplotlib axes, optional\n",
      "        Existing axes to draw the colorbar onto, otherwise space is taken\n",
      "        from the main axes.\n",
      "    cbar_kws : dict, optional\n",
      "        Keyword arguments for ``fig.colorbar()``.\n",
      "    ax : matplotlib axes, optional\n",
      "        Axes to plot on, otherwise uses current axes.\n",
      "    kwargs : key, value pairings\n",
      "        Other keyword arguments are passed to ``plt.plot()`` or\n",
      "        ``plt.contour{f}`` depending on whether a univariate or bivariate\n",
      "        plot is being drawn.\n",
      "    \n",
      "    Returns\n",
      "    -------\n",
      "    ax : matplotlib Axes\n",
      "        Axes with plot.\n",
      "    \n",
      "    See Also\n",
      "    --------\n",
      "    distplot: Flexibly plot a univariate distribution of observations.\n",
      "    jointplot: Plot a joint dataset with bivariate and marginal distributions.\n",
      "    \n",
      "    Examples\n",
      "    --------\n",
      "    \n",
      "    Plot a basic univariate density:\n",
      "    \n",
      "    .. plot::\n",
      "        :context: close-figs\n",
      "    \n",
      "        >>> import numpy as np; np.random.seed(10)\n",
      "        >>> import seaborn as sns; sns.set(color_codes=True)\n",
      "        >>> mean, cov = [0, 2], [(1, .5), (.5, 1)]\n",
      "        >>> x, y = np.random.multivariate_normal(mean, cov, size=50).T\n",
      "        >>> ax = sns.kdeplot(x)\n",
      "    \n",
      "    Shade under the density curve and use a different color:\n",
      "    \n",
      "    .. plot::\n",
      "        :context: close-figs\n",
      "    \n",
      "        >>> ax = sns.kdeplot(x, shade=True, color=\"r\")\n",
      "    \n",
      "    Plot a bivariate density:\n",
      "    \n",
      "    .. plot::\n",
      "        :context: close-figs\n",
      "    \n",
      "        >>> ax = sns.kdeplot(x, y)\n",
      "    \n",
      "    Use filled contours:\n",
      "    \n",
      "    .. plot::\n",
      "        :context: close-figs\n",
      "    \n",
      "        >>> ax = sns.kdeplot(x, y, shade=True)\n",
      "    \n",
      "    Use more contour levels and a different color palette:\n",
      "    \n",
      "    .. plot::\n",
      "        :context: close-figs\n",
      "    \n",
      "        >>> ax = sns.kdeplot(x, y, n_levels=30, cmap=\"Purples_d\")\n",
      "    \n",
      "    Use a narrower bandwith:\n",
      "    \n",
      "    .. plot::\n",
      "        :context: close-figs\n",
      "    \n",
      "        >>> ax = sns.kdeplot(x, bw=.15)\n",
      "    \n",
      "    Plot the density on the vertical axis:\n",
      "    \n",
      "    .. plot::\n",
      "        :context: close-figs\n",
      "    \n",
      "        >>> ax = sns.kdeplot(y, vertical=True)\n",
      "    \n",
      "    Limit the density curve within the range of the data:\n",
      "    \n",
      "    .. plot::\n",
      "        :context: close-figs\n",
      "    \n",
      "        >>> ax = sns.kdeplot(x, cut=0)\n",
      "    \n",
      "    Add a colorbar for the contours:\n",
      "    \n",
      "    .. plot::\n",
      "        :context: close-figs\n",
      "    \n",
      "        >>> ax = sns.kdeplot(x, y, cbar=True)\n",
      "    \n",
      "    Plot two shaded bivariate densities:\n",
      "    \n",
      "    .. plot::\n",
      "        :context: close-figs\n",
      "    \n",
      "        >>> iris = sns.load_dataset(\"iris\")\n",
      "        >>> setosa = iris.loc[iris.species == \"setosa\"]\n",
      "        >>> virginica = iris.loc[iris.species == \"virginica\"]\n",
      "        >>> ax = sns.kdeplot(setosa.sepal_width, setosa.sepal_length,\n",
      "        ...                  cmap=\"Reds\", shade=True, shade_lowest=False)\n",
      "        >>> ax = sns.kdeplot(virginica.sepal_width, virginica.sepal_length,\n",
      "        ...                  cmap=\"Blues\", shade=True, shade_lowest=False)\n",
      "\n"
     ]
    }
   ],
   "source": [
    "help(sns.kdeplot)"
   ]
  },
  {
   "cell_type": "code",
   "execution_count": 9,
   "metadata": {},
   "outputs": [
    {
     "data": {
      "image/png": "[encoded data removed]",
      "text/plain": [
       "<Figure size 432x288 with 1 Axes>"
      ]
     },
     "metadata": {
      "needs_background": "light"
     },
     "output_type": "display_data"
    }
   ],
   "source": [
    "tip.plot.density()\n",
    "plt.show()"
   ]
  },
  {
   "cell_type": "code",
   "execution_count": 10,
   "metadata": {},
   "outputs": [
    {
     "data": {
      "image/png": "[encoded data removed]",
      "text/plain": [
       "<Figure size 432x288 with 1 Axes>"
      ]
     },
     "metadata": {
      "needs_background": "light"
     },
     "output_type": "display_data"
    }
   ],
   "source": [
    "sns.kdeplot(tip)\n",
    "plt.show()"
   ]
  }
 ],
 "metadata": {
  "kernelspec": {
   "display_name": "Python 3",
   "language": "python",
   "name": "python3"
  },
  "language_info": {
   "codemirror_mode": {
    "name": "ipython",
    "version": 3
   },
   "file_extension": ".py",
   "mimetype": "text/x-python",
   "name": "python",
   "nbconvert_exporter": "python",
   "pygments_lexer": "ipython3",
   "version": "3.8.3"
  },
  "toc": {
   "base_numbering": 1,
   "nav_menu": {},
   "number_sections": true,
   "sideBar": true,
   "skip_h1_title": true,
   "title_cell": "Table of Contents",
   "title_sidebar": "Contents",
   "toc_cell": false,
   "toc_position": {},
   "toc_section_display": true,
   "toc_window_display": true
  },
  "varInspector": {
   "cols": {
    "lenName": 16,
    "lenType": 16,
    "lenVar": 40
   },
   "kernels_config": {
    "python": {
     "delete_cmd_postfix": "",
     "delete_cmd_prefix": "del ",
     "library": "var_list.py",
     "varRefreshCmd": "print(var_dic_list())"
    },
    "r": {
     "delete_cmd_postfix": ") ",
     "delete_cmd_prefix": "rm(",
     "library": "var_list.r",
     "varRefreshCmd": "cat(var_dic_list()) "
    }
   },
   "types_to_exclude": [
    "module",
    "function",
    "builtin_function_or_method",
    "instance",
    "_Feature"
   ],
   "window_display": false
  },
  "widgets": {
   "application/vnd.jupyter.widget-state+json": {
    "state": {
     "0013f152e3e9462196854dc3b9823ab0": {
      "model_module": "@jupyter-widgets/base",
      "model_module_version": "1.2.0",
      "model_name": "LayoutModel",
      "state": {}
     },
     "02689494814e44c6bfc9e07e959a2e19": {
      "model_module": "@jupyter-widgets/output",
      "model_module_version": "1.0.0",
      "model_name": "OutputModel",
      "state": {
       "layout": "IPY_MODEL_6a8ed1cfb90a40a8aad5a773c0273583",
       "outputs": [
        {
         "data": {
          "image/png": "iVBORw0KGgoAAAANSUhEUgAAAQMAAAD4CAYAAADo84OlAAAABHNCSVQICAgIfAhkiAAAAAlwSFlzAAALEgAACxIB0t1+/AAAADh0RVh0U29mdHdhcmUAbWF0cGxvdGxpYiB2ZXJzaW9uMy4yLjEsIGh0dHA6Ly9tYXRwbG90bGliLm9yZy+j8jraAAAYe0lEQVR4nO3deXQV9d3H8feXrOzBkBBlFxBEUJQoIMhSUXABQRRQW1lasbWLG3K0dYHyFFuUPmqtIlbcwD2yirLIpgiBRFE0IIooUkIIO4EEsvyePxh9YiRwk9ybyfJ5ncM5meXOfIA7n8ydO4s55xARqeF3ABGpGFQGIgKoDETEozIQEUBlICIelYGIAAGUgZkNMbM3zGxbMdOHmtlaM0s1synBjygi5SGQPYMM4HdAZNEJZtYcmAhcBiQCTcxsSFATiki5OGUZOOc+dM7tKWZyfyDJOXfAHT976RlgUDADikj5CC/j62OBnYWG04H4E81oZmOAMQC1a9fu3K5duzKuWkRKIzU1dbdzLq7o+LKWQQbQstBwgjfuZ5xz04BpAImJiS4lJaWMqxaR0jCz7040vqzfJiwABptZXW94NDCnjMsUER+UqgzM7DUz6+ScSwcmASvNLBnIcM4lBTWhiJSLgD8mOOcSCv08vNDPM4GZQc4lIuVMJx2JCKAyEBGPykBEAJWBiHhUBiICqAxExKMyEBFAZSAiHpWBiAAqAxHxqAxEBFAZiIhHZSAigMpARDwqAxEBVAYi4lEZiAigMhARj8pARACVgYh4VAYiAqgMRMSjMhARQGUgIh6VgYgAKgMR8agMRARQGYiIR2UgIoDKQEQ8KgMRAVQGIuJRGYgIoDIQEY/KQEQAlYGIeAIqAzMbamZrzSzVzKYUmVbDzB4zs4/MLNnMnjaziNDEFZFQOWUZmFlzYCJwGZAINDGzIYVmuQKId85d7JzrApwGDApFWBEJnUD2DPoDSc65A845BzzDTzf2TKC5mTU0swZAAyAt+FFFJJQCKYNYYGeh4XQg/ocB59xa4C1gM7AFmO2c+6LoQsxsjJmlmFlKZmZm2VKLSNAFUgYZFNr4gQRvHHD8eAJwPtAMaA30NLPRRRfinJvmnEt0ziXGxcWVLbWIBF0gZbAAGGxmdb3h0cCcQtMTgY+dc1nOub3AGqBNcGOKSKidsgycc+nAJGClmSUDGc65JDNbbmYJwBSgj/cRYBXQE3g0pKlFJOjCA5nJOTcTmFlkXO9Cg9cEMZOI+EAnHYkIoDIQEY/KQEQAlYGIeFQGIgKoDETEozIQEUBlICIelYGIACoDEfGoDEQEUBmIiEdlICKAykBEPCoDEQFUBiLiURmICKAyEBGPykBEAJWBiHhUBiICqAxExKMyEBFAZSAiHpWBiAAqAxHxqAxEBFAZiIhHZSAigMpARDwqAxEBVAYi4lEZiAigMhARj8pARIAAy8DMhprZWjNLNbMpJ5je0cwWmtn7ZjbfzJoGP6qIhFL4qWYws+bAROAi4CDwmpkNcc4ledPDgCeB65xzmWZ2hjefiFQigewZ9AeSnHMHnHMOeAYYVGj6hUA6MMnMPgRuA7KDnlREQiqQMogFdhYaTgfiCw03A7oBfwV6esMjii7EzMaYWYqZpWRmZpY+sYiERCBlkMFPN/4Eb9wP9gMrnHPfO+cKgDeBzkUX4pyb5pxLdM4lxsXFlSWziIRAIGWwABhsZnW94dHAnELTVwPnmllDb7gfsD54EUWkPJyyDJxz6cAkYKWZJQMZzrkkM1tuZgnOuUPAncAsM/sIiAKeD2lqEQm6U36bAOCcmwnMLDKud6GflwGXBDWZiJQrnXQkIoDKQEQ8KgMRAVQGIuJRGYgIoDIQEY/KQEQAlYGIeFQGIgKoDETEozIQEUBlICIelYGIACoDEfGoDEQEUBmIiEdlICKAykBEPCoDEQFUBiLiURmICKAyEBGPykBEAJWBiHhUBiICqAxExKMyEBFAZSAiHpWBiAAqAxHxqAxEBFAZiIhHZSAigMpARDwqAxEBVAYi4gmoDMxsqJmtNbNUM5tykvmeM7MXgpZORMrNKcvAzJoDE4HLgESgiZkNOcF8g4DIoCcUkXIRHsA8/YEk59wBADN7BhgFJP0wg5k1AsYCvwHuDUFOqQZy8/JZ9uk3vLN2I0dycrm6W3v6d25DVEQgb1Mpq0D+lWOBnYWG04H4IvM8w/EyyCluIWY2BhgD0KxZs5KllCrLOccbKz9nfnIaH32+hUNHcogICyMsrAZzVn1KnegoepzXmoHdzmFQt/aEh+kwV6gEUgYZQMtCwwneOADM7FYgzTm3xsxaFLcQ59w0YBpAYmKiK01YqVpy8/K59fG3mb96A7Wjo+h2Tkv6X3g2A7udTWR4GO8kf8mcjz5n5Sdf8V7yF8x8vxWv3HcjNSMj/I5eJZlzJ98uzex0YAnQ1Tl3yMxeBmY755K86W8DUUAuUAtox/GPFXcWt8zExESXkpISpL+CVEZHjuZy099fYdWGLYzo35X/GXF5sR8Hso/lMuWtD3ji7eVc0KY5r99/E/VrR5dz4qrDzFKdc4lFx59yn8s5lw5MAlaaWTKQ4ZxLMrPlZpbgnLvWOXeVc24Qxz8GLD1ZEYjsOXSEAQ88z6oNWxg7rC+P/ObKkx4XqBkZwf03/oIJI69i/dfbGPDAdDIPHC7HxNXDKfcMQkF7BtXX9t0HGTLhRbbt3MPfbrma0Zf/7BfUSb2ybD33TJ3DGQ1jSHpoBM3iY0KUtOoq9Z6BSLBkH8tlyIQX2bF7H0/deX2JiwDgxj6dmHrXMDL2HuCaB6ez/3Cxx6ylhFQGUm7um/4eW9Mz+efvrmXwxeeUejkDurRj6l3D2LF7P3dNnRfEhNWbykDKxcLUr3h1yToGdj+P63t2KPPyrrywLTdedhHzV2/gzZWfByGhqAwk5PYcOsJdT88mIbY+U8ZcFbTlThrVjxYJDfnL9Hmk7z0UtOVWVyoDCbnb/z2XPQcO88Qfrg3qV4I1IyP495+u5XD2MW7719v4cTC8KlEZSEi9tOQTFqWkMeqKrvTq2PLULyihC89qwq0De7BqwxaeWbAu6MuvTlQGEjLbdu1n/AsLOKtpAuN/1Tdk6/nz8D50aNmYh2cu4qsde0K2nqpOZSAh88CLCzmam8fU24eE9GKj8LAaTL19CM4VMO7Z+SFbT1WnMpCQWLd5O+8lf8F1vc+nQ4tGIV/fWU0aMqJ/N1Zt2MLST7eEfH1VkcpAQuKhlxZROzqKB24M3ceDosYN7UmDurX568uLdTCxFFQGEnTzkjeRsulbbhnQnYb1a5XbeuvWjOKPg3uS9u0OXl2xodzWW1WoDCSo8vML+J8Zi2l0Wj3uGNy93Nd/65UX0TT+NB55bQlHc/PKff2VmcpAguq5halsTc/kruv6+HLfgYjwMO67oS//3b2ff89fU+7rr8xUBhI0h3OO8VjSMs5q0oiRl13gW44hPc6h45lNmDrnA13IVAIqAwmaR5I+YPeBLB781eWYmW85zIzxN/djf1Y2f399uW85KhuVgQTFnkNHeOHdNXQ750wu79zG7zhc0qE5vc9vy8zFa9m++6DfcSoFlYEExeOzVnEk5yj3Dv+F31F+9OBNfcnNy2dK0kq/o1QKKgMps/2Hc5ixeC1d259Jt7Mrzp2vO7RoRO/z25K0/GMy9mX5HafCUxlImT0xexVZ2Ue5Z2gfv6P8zLhhvcnJzeOfSR/4HaXCUxlImWRlH2PG4rVccFZzLunQ3O84P3NBqzO45Nw2vL40ld0Hj/gdp0JTGUiZPDlvNfuzshk7tLffUYo1blhvjhw7xmOzPvQ7SoWmMpBSO3I0l+ffXcO5rZrQt1Mrv+MUq0vbpnQ750xeWbJO5x2chMpASm3qO8nsO3SYu4b08jvKKY29vg9Z2Ud5YvYqv6NUWCoDKZWcY3n8552PaN/iDK648Cy/45zSJR2ac8FZzZmxeC1Z2cf8jlMhqQykVP7z3jp2H8jizut6+Xq2YUmMHdqb/VnZPDlvtd9RKiSVgZRYXn4B/1mwmtaN4xnYpZ3fcQLWt1Mrzm3VhBffSyb7WK7fcSoclYGU2Mxl69mxez+/v6ZHpdkr+MGfBl/CnoNZTF+ox/sVpTKQEnHO8dScVTSOa8DwXuf6HafEBnRpR6vGcTz7zmry8gv8jlOhqAykRGavTmNreia3XHUxYWGV7+1jZvz+mkvYsXs/ryz71O84FUrl+98UX/1r9ipi69Vh9OWd/Y5SasN7nUvjhjE8PfdD3SuxEJWBBGzpp1v4/JvtjOzfhejI0N36PNTCw2pwy1UXs2VHJnOTN/kdp8JQGUjAHkv6gLq1orltQFe/o5TZ6H6JxNarwxNv6wKmH6gMJCApX21nTdo33HBpInVrRvkdp8yiI8MZ0b8LG77ZrucseFQGEpApb60kOjKCOwb18DtK0Px+QFfq1ormMV3eDKgMJABp3+1i2cdfcm3PTuX6HIRQq1sziuG/SGRN2jes27zd7zi+C6gMzGyoma01s1Qzm3KC6X80szVmttrMnjIzlUwVMvnN5YTVqMHd1/X0O0rQ3Tm4BzUjI5n85gq/o/julButmTUHJgKXAYlAEzMbUmj6OcAAoLtzrhsQB1wdmrhS3jZv383C5DSu6XEeTRvW9ztO0DWsX4vr+1zAyk++5NOt6X7H8VUgv8H7A0nOuQPu+JeyzwCDfpjonPsCGOicy/dGhQPZQU8qvpj85gpq1DDuGVrxL1MurbHX9SQqIpx/vLbM7yi+CqQMYoGdhYbTgfjCMzjncswsxsxeAdY75xYXXYiZjTGzFDNLyczMLFNoKR9bM/bx7prPubJrB1o2auB3nJBJaFCHa3udz9KPv+SL73b5Hcc3gZRBBj/d+BO8cT8ysw7A68DjzrkJJ1qIc26acy7ROZcYFxdX2rxSjh55YwUFBY5xw3r7HSXkxl7Xi7AaNfjHG9V37yCQMlgADDazut7waGDODxPNLA54DBjqnEsOfkTxw7Zd+5nz4af069KeNmfE+h0n5Jo0rMegnp1YtHYjm7fv9juOL05ZBs65dGASsNLMkoEM51ySmS03swRgGNASmOONW25mY0IbW0LtkTdXkl9QwLjre/sdpdyMu74XYTWMv1fTvYOATjB3zs0EZhYZ19v78Unvj1QR6XsPMfvD9Vza+WzaN48/9QuqiObxMVx9cUfmffQZX6dfSuvTT/M7UrnS+QDyM5PfXMGx3LxqcaygqHu8W75ProZ7ByoD+YmtGft4Y2kqfRPbc17LBL/jlLvWp5/GlV07Mv+jDWzcVr2+WVAZyE9MnLEEh+OhX/b1O4pvHrzpUsJq1GDCjCV+RylXKgP50adbd7JgzecM6tGJs5o09DuOb5rFxzD80kSWfryJ1Ru3+R2n3KgM5Ed/fWkxURERPHDTpX5H8d29w3pTp2YUE17+2flzVZbKQABYvmErH2z4il9efhGnn1b31C+o4mLr1uKWq7vz8ebvmFdN7oakMhCcc0x8eTExdWoy7vqqd2Viad0+qDtxMXV5+JUl5FeDOymrDIRZq9PY8M12xlzdg/q1o/2OU2HUiorg9mt78/V/dzFj2Xq/44ScyqCay8sv4B+vLqXRafX5w8BufsepcEb360yLhIZMeXMZR3Pz/I4TUiqDau6JuR+xNT2Tu6/vU6nveBwq4WE1uPeGS9m55wCPvlW1b4+mMqjGvt99gCeSVtCpTVNG9D3f7zgV1uCL29O1/ZlMnfsBX6fv9TtOyKgMqrFxz75Dbm4e/7x1YKV7ZmJ5MjOm/HYAAHdPnVtlH7yiMqim5iVv5P3UTdzcrwsdWjTyO06F1+aMWH47sAerv/iGV1ds8DtOSKgMqqEjR3O5f/oCzmgYoxOMSmDsdT1pkdCQiS+9x/7DOX7HCTqVQTU0ceb7pO85wMRRV1IrKsLvOJVGVEQ4k28dwN6DWdz/wiK/4wSdyqCa+fzbDF5amMylndsxoEs7v+NUOr07tmRg9/N4a3lqlbtuQWVQjRzNzeMPT84iIiKcybdc5XecSuvhX19Bvdo1uevpOWQfy/U7TtCoDKqR+6YvJO3bHTx0c/8q+QyE8tKwXi3+OupKtuzI5K6p8/2OEzQqg2ri7VVfMGNxMgO7n8eoyzv7HafSG97rXIb1SSRp5Se8tOQTv+MEhcqgGtiasY97nplDy9PjePx3A/yOU2U8csuVtG2WwAPT3yGtCjxvQWVQxeXm5TPqkdfJzcvnubuHUjs60u9IVUZ0ZDjTxw4jrIYx6tHXOXK0ch8/UBlUcfdOf4+0b3cwfuQVOrkoBNqcEcvkW69ha3omd0yd63ecMlEZVGHTF6Xw8qJkrr64I6MvT/Q7TpV13SUduLHvhcz+4FP+PW+133FKTZepVVGvrfiMPz87n45nNuFft13jd5wq7x+/voJN23Yx8aX3qB0dxcjLLvA7Uolpz6AKmpe8ibufmkXrJvEkPXSzjhOUg6iIcN564Fe0b3EG902by+uV8PoFlUEV8/76Ldz22Bs0jmvArPEjiNGdi8pNnZqRJD10M62axHPXU28zL3mj35FKRGVQhazeuI1fT36V2Pp1eHv8SOLq1/Y7UrXToE5NZo0fQeO4BvzusTdZ/MkWvyMFTGVQRby64jOGT3yJ2rWieOuhkTRpWM/vSNVWXP3azJowkriYuoyePJMXl3zsd6SAqAx8Mn78+KDMn59fwL3Pvcvt/3qLpvENmP+334TkgaElzVvZ1hdohkBzNY6tx5wJo2jVOJ57ps7mjqnzyM3LD27AIDM/7tqSmJjoUlJSyn29FYmZleiOOSeaf8+hI4x65A3WpH3DFV3O4ek/XRuyS5JLmreyrS/QDCXNlXMsj9ufnsusD9bTqXVTXhw33PfnUphZqnPuZ981a8+gklr22Vb63jOVdRu/5d4bL+eFsUN1b4IKKDoynGduv5YJI6/ii6076DtuKotSv/I71glpz8Anpd0z+DZjP3+evoAlqZuIrVeHJ/44hMvObxXCpD9df3mpKnsGhX2Uto0x//sGu/YdpFentvxtZD9fnmlZ3J6BysAnJS6DsAgeeH4Bz7+7moICx02XXcRfbuhTbg89URkUP64ksrKPMen1Zby0MBnnw/8jqAwqnEDfVFvS9/Lsu2v5z+yl1IiM5pKObZg0+graNi3f3ygqg+LHlcaW9L3c/8J7vJ+6iZg6tRjU4zx+0//CctlTUBlUMCd7Ux3NzeOddV/y4sIUktO+wTlH7r50Zjw8lisvalvOSY9TGRQ/riyWfbaVf761gnUbt+Kco3O7FvyybyJDurcnKiI0VwuoDCqYwm8q5xxp2zJZmLqZlZ9t4ZPN35N97BgxdWoysPt5jLniIto2jfN141AZFD8uGL5O38tz765l9oefsedgFtGREXRq3ZQeHc+kX2Ibzm2RELRnW5SpDMxsKDAWCAOWO+fuLjL9T8AvgUhghnPu0ZMtrzqXwYHDOWz+7256XT2U3979FzZ/n8GWHbvZczALgPgG9ejaviWXXtCGwd3a//jIM783DpVB8eOCKTcvnzlrNrJw3Zckb/qWnXsOANCgbm1aN46jTZM42jdLoGPLRrRvFl+qYw2lLgMzaw4sAi4CDgKvAW8455K86d2BR4Fe3kuWAnc454rd2itDGTjnyMsvIK+ggPx8R15BAbl5+RzNzSc3P5/c3HxycvPIPpbL4ZxjZB/N40hOLodyctiXlcP+Q9kcPJLN/qxsdu3PInP/IfYcOMzhnKM/riM8rAZN4k6jdeOGJLZtRv/OZ3F2s7gT/gbwe+NQGRQ/LpQ2b9/Noo+/YnXad3z930y279pLbv7/n7xUKzKS2Jg6xMXUpVGDOsTUqUm9WjWJqVuTmNrR1KsZTXRUOLWjI6gZGUHt6EjOO/P0UpfBrUBz59yfveFfAKOcc7/yhh8GtjrnpnnDo4GWzrkHiltmZGxjl9DvtyX/lynqBNmLjjnR384VuELTHa7gh/kczrkTvqY0oiLCqV0zith6dYiPqUPCafVIiK1Hs7gYxtwwiKydWwP+XOj3xqEyKH5cecrNyyft+12s35LOtxn7yNh7iPS9B8jcf5g9B7LIys455dOiM5MmnrAMAnknxgI7Cw2nA/FFpq8uMr1L0YWY2RhgjDeY9f2rD34ZwLqrtOjIkp0k5PfzEMt7/X7/fYvLUBFylVHzE40MpAwygJaFhhO8cYWnx59kOgDensO0ANYnIj4I5HTkBcBgM/vhhOrRwJxC0+cAN5tZhJmFASOAyn0zOJFq6JRl4JxLByYBK80sGchwziWZ2XIzS/AOFM4F1gJrgHknO3goIhWTL+cZiEjFo6sWRQRQGUgJmNm9ZjbB+/lxM7vJ70wSPPqYIAEzsxocP6D8LtDJOTfK50gSRCoDKREzuxj4kOMnln3ndx4JHpWBBMzMIji+VzADGOCcG+JzJAkiHTOQkvgb8LZz7gVgm5kF4ZxyqSi0ZyAigPYMRMSjMhARQGUgIh6VgYgAKgMR8agMRARQGYiIR2UgIgD8HwupIes0byLWAAAAAElFTkSuQmCC\n",
          "text/plain": "<Figure size 288x288 with 1 Axes>"
         },
         "metadata": {
          "needs_background": "light"
         },
         "output_type": "display_data"
        }
       ]
      }
     },
     "10801f3976c04882acf9831a81893721": {
      "model_module": "@jupyter-widgets/controls",
      "model_module_version": "1.5.0",
      "model_name": "IntSliderModel",
      "state": {
       "layout": "IPY_MODEL_ec3b1a19a8bc4918bbe4e3957cfaf8ec",
       "max": 6,
       "min": 1,
       "style": "IPY_MODEL_87926f38415e4c96b69001b771f35dd0",
       "value": 1
      }
     },
     "317d0a1de8f0458aa431917ebee09027": {
      "model_module": "@jupyter-widgets/controls",
      "model_module_version": "1.5.0",
      "model_name": "PlayModel",
      "state": {
       "interval": 1000,
       "layout": "IPY_MODEL_318cfcc68dc84d7db8486cc2e824a049",
       "max": 6,
       "min": 1,
       "style": "IPY_MODEL_8f84317fb69342ae82faea7cc1156b2c",
       "value": 1
      }
     },
     "318cfcc68dc84d7db8486cc2e824a049": {
      "model_module": "@jupyter-widgets/base",
      "model_module_version": "1.2.0",
      "model_name": "LayoutModel",
      "state": {}
     },
     "479f9f85cc154a2683b5777fcb1d63ac": {
      "model_module": "@jupyter-widgets/output",
      "model_module_version": "1.0.0",
      "model_name": "OutputModel",
      "state": {
       "layout": "IPY_MODEL_d902e982c1b2470ca74492feaaa36f52",
       "outputs": [
        {
         "data": {
          "image/png": "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\n",
          "text/plain": "<Figure size 288x288 with 1 Axes>"
         },
         "metadata": {
          "needs_background": "light"
         },
         "output_type": "display_data"
        }
       ]
      }
     },
     "6008d901a8f3410a947c5414363931f6": {
      "model_module": "@jupyter-widgets/controls",
      "model_module_version": "1.5.0",
      "model_name": "PlayModel",
      "state": {
       "interval": 200,
       "layout": "IPY_MODEL_c01537da157243ca8c47dde1fe3d331c",
       "max": 50,
       "min": 1,
       "style": "IPY_MODEL_bb8e0edf414c43f38c6685b4342fec17",
       "value": 1
      }
     },
     "6a8ed1cfb90a40a8aad5a773c0273583": {
      "model_module": "@jupyter-widgets/base",
      "model_module_version": "1.2.0",
      "model_name": "LayoutModel",
      "state": {}
     },
     "8045fec9a6f847a882be8c2cc4893827": {
      "model_module": "@jupyter-widgets/controls",
      "model_module_version": "1.5.0",
      "model_name": "SliderStyleModel",
      "state": {
       "description_width": ""
      }
     },
     "84d2a43d23a0459d9476b3c91bebe74c": {
      "model_module": "@jupyter-widgets/controls",
      "model_module_version": "1.5.0",
      "model_name": "LinkModel",
      "state": {
       "source": [
        "IPY_MODEL_317d0a1de8f0458aa431917ebee09027",
        "value"
       ],
       "target": [
        "IPY_MODEL_10801f3976c04882acf9831a81893721",
        "value"
       ]
      }
     },
     "87926f38415e4c96b69001b771f35dd0": {
      "model_module": "@jupyter-widgets/controls",
      "model_module_version": "1.5.0",
      "model_name": "SliderStyleModel",
      "state": {
       "description_width": ""
      }
     },
     "8f84317fb69342ae82faea7cc1156b2c": {
      "model_module": "@jupyter-widgets/controls",
      "model_module_version": "1.5.0",
      "model_name": "DescriptionStyleModel",
      "state": {
       "description_width": ""
      }
     },
     "9e4bd9e345ef42f889baf39e7ef94f3e": {
      "model_module": "@jupyter-widgets/controls",
      "model_module_version": "1.5.0",
      "model_name": "IntSliderModel",
      "state": {
       "layout": "IPY_MODEL_0013f152e3e9462196854dc3b9823ab0",
       "max": 50,
       "min": 1,
       "style": "IPY_MODEL_8045fec9a6f847a882be8c2cc4893827",
       "value": 1
      }
     },
     "bb8e0edf414c43f38c6685b4342fec17": {
      "model_module": "@jupyter-widgets/controls",
      "model_module_version": "1.5.0",
      "model_name": "DescriptionStyleModel",
      "state": {
       "description_width": ""
      }
     },
     "c01537da157243ca8c47dde1fe3d331c": {
      "model_module": "@jupyter-widgets/base",
      "model_module_version": "1.2.0",
      "model_name": "LayoutModel",
      "state": {}
     },
     "d902e982c1b2470ca74492feaaa36f52": {
      "model_module": "@jupyter-widgets/base",
      "model_module_version": "1.2.0",
      "model_name": "LayoutModel",
      "state": {}
     },
     "e7689039dad14cec8a7615c78520d023": {
      "model_module": "@jupyter-widgets/controls",
      "model_module_version": "1.5.0",
      "model_name": "LinkModel",
      "state": {
       "source": [
        "IPY_MODEL_6008d901a8f3410a947c5414363931f6",
        "value"
       ],
       "target": [
        "IPY_MODEL_9e4bd9e345ef42f889baf39e7ef94f3e",
        "value"
       ]
      }
     },
     "ec3b1a19a8bc4918bbe4e3957cfaf8ec": {
      "model_module": "@jupyter-widgets/base",
      "model_module_version": "1.2.0",
      "model_name": "LayoutModel",
      "state": {}
     }
    },
    "version_major": 2,
    "version_minor": 0
   }
  }
 },
 "nbformat": 4,
 "nbformat_minor": 4
}
