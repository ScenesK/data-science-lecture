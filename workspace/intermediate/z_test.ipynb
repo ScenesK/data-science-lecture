{
 "cells": [
  {
   "cell_type": "code",
   "execution_count": 1,
   "metadata": {},
   "outputs": [],
   "source": [
    "import numpy as np\n",
    "from scipy import stats\n",
    "from statsmodels.stats.proportion import proportions_ztest\n",
    "import pandas as pd\n",
    "import matplotlib.pyplot as plt\n",
    "import seaborn as sns\n",
    "from IPython.display import display\n",
    "pd.set_option('max_rows', 5)\n",
    "%matplotlib inline"
   ]
  },
  {
   "cell_type": "markdown",
   "metadata": {},
   "source": [
    "# 母比率の検定"
   ]
  },
  {
   "cell_type": "markdown",
   "metadata": {},
   "source": [
    "## z検定\n",
    "---\n",
    "標本分布が二項分布の場合、**期待値 $np$ (および分散 $np(1-p)$) が大きいとき**には[正規分布 $\\mathcal{N}(np,np(1-p))$ で近似できる](../beginner/distribution.ipynb#%E7%A2%BA%E7%8E%87%E5%88%86%E5%B8%83%E3%81%BE%E3%81%A8%E3%82%81)ことを利用して検定する。  \n",
    "検定統計量\n",
    "\n",
    "$$\n",
    "\\begin{align}\n",
    "    z & =\\frac\n",
    "        {n\\overline{X} -np}\n",
    "        {\\sqrt{\n",
    "            np( 1-p)\n",
    "        }}\\\\\n",
    "     & \\\\\n",
    "     & =\\frac\n",
    "         {\\overline{X} -p}\n",
    "         {\\sqrt{\n",
    "             {\\displaystyle \\frac\n",
    "                 {p( 1-p)}\n",
    "                 {n}\n",
    "             }\n",
    "         }}\n",
    "\\end{align}\n",
    "$$\n",
    "\n",
    "は標準正規分布 $\\mathcal{N}(0,1)$ に従う。"
   ]
  },
  {
   "cell_type": "markdown",
   "metadata": {},
   "source": [
    "練習問題\n",
    "\n",
    "---\n",
    "コイントスを 30 回行い、 20 回表が出たとする。コインに偏りがある $\\displaystyle \\left( p\\neq \\frac{1}{2}\\right)$ かどうかを検定するための統計量 $z$ を求める。"
   ]
  },
  {
   "cell_type": "code",
   "execution_count": 2,
   "metadata": {
    "hide_input": true,
    "jupyter": {
     "source_hidden": true
    }
   },
   "outputs": [
    {
     "name": "stdout",
     "output_type": "stream",
     "text": [
      "coin\n"
     ]
    },
    {
     "data": {
      "text/html": [
       "<div>\n",
       "<style scoped>\n",
       "    .dataframe tbody tr th:only-of-type {\n",
       "        vertical-align: middle;\n",
       "    }\n",
       "\n",
       "    .dataframe tbody tr th {\n",
       "        vertical-align: top;\n",
       "    }\n",
       "\n",
       "    .dataframe thead th {\n",
       "        text-align: right;\n",
       "    }\n",
       "</style>\n",
       "<table border=\"1\" class=\"dataframe\">\n",
       "  <thead>\n",
       "    <tr style=\"text-align: right;\">\n",
       "      <th></th>\n",
       "      <th>X</th>\n",
       "    </tr>\n",
       "  </thead>\n",
       "  <tbody>\n",
       "    <tr>\n",
       "      <th>0</th>\n",
       "      <td>0</td>\n",
       "    </tr>\n",
       "    <tr>\n",
       "      <th>1</th>\n",
       "      <td>1</td>\n",
       "    </tr>\n",
       "    <tr>\n",
       "      <th>...</th>\n",
       "      <td>...</td>\n",
       "    </tr>\n",
       "    <tr>\n",
       "      <th>28</th>\n",
       "      <td>1</td>\n",
       "    </tr>\n",
       "    <tr>\n",
       "      <th>29</th>\n",
       "      <td>1</td>\n",
       "    </tr>\n",
       "  </tbody>\n",
       "</table>\n",
       "<p>30 rows × 1 columns</p>\n",
       "</div>"
      ],
      "text/plain": [
       "    X\n",
       "0   0\n",
       "1   1\n",
       ".. ..\n",
       "28  1\n",
       "29  1\n",
       "\n",
       "[30 rows x 1 columns]"
      ]
     },
     "metadata": {},
     "output_type": "display_data"
    }
   ],
   "source": [
    "np.random.seed(1234)\n",
    "x = [0] * 10 + [1] * 20\n",
    "np.random.shuffle(x)\n",
    "coin = pd.DataFrame(dict(X=x))\n",
    "print('coin')\n",
    "display(coin)"
   ]
  },
  {
   "cell_type": "code",
   "execution_count": null,
   "metadata": {},
   "outputs": [],
   "source": []
  },
  {
   "cell_type": "markdown",
   "metadata": {
    "solution2": "hidden",
    "solution2_first": true
   },
   "source": [
    "解答例\n",
    "\n",
    "---"
   ]
  },
  {
   "cell_type": "code",
   "execution_count": 3,
   "metadata": {
    "collapsed": true,
    "jupyter": {
     "outputs_hidden": true,
     "source_hidden": true
    },
    "solution2": "hidden"
   },
   "outputs": [
    {
     "data": {
      "text/plain": [
       "1.8257418583505534"
      ]
     },
     "execution_count": 3,
     "metadata": {},
     "output_type": "execute_result"
    }
   ],
   "source": [
    "p = 0.5\n",
    "z = (coin['X'].mean() - p) / np.sqrt(p * (1 - p) / coin.index.size)\n",
    "z"
   ]
  },
  {
   "cell_type": "markdown",
   "metadata": {},
   "source": [
    "---"
   ]
  },
  {
   "cell_type": "markdown",
   "metadata": {},
   "source": [
    "練習問題\n",
    "\n",
    "---\n",
    "この検定に対応する帰無分布 (検定統計量 $z$ が従う分布) の確率密度関数と、上で求めた $z$ 統計量の位置をグラフ表示する。"
   ]
  },
  {
   "cell_type": "code",
   "execution_count": null,
   "metadata": {},
   "outputs": [],
   "source": []
  },
  {
   "cell_type": "markdown",
   "metadata": {
    "solution2": "hidden",
    "solution2_first": true
   },
   "source": [
    "解答例\n",
    "\n",
    "---"
   ]
  },
  {
   "cell_type": "code",
   "execution_count": 4,
   "metadata": {
    "collapsed": true,
    "jupyter": {
     "outputs_hidden": true,
     "source_hidden": true
    },
    "solution2": "hidden"
   },
   "outputs": [
    {
     "data": {
      "image/png": "[encoded data removed]",
      "text/plain": [
       "<Figure size 432x288 with 1 Axes>"
      ]
     },
     "metadata": {
      "needs_background": "light"
     },
     "output_type": "display_data"
    }
   ],
   "source": [
    "x = np.linspace(-3, 3, 50)\n",
    "null_dist = stats.norm()\n",
    "plt.plot(x, null_dist.pdf(x))\n",
    "sns.rugplot([z])\n",
    "plt.xticks([z])\n",
    "plt.show()"
   ]
  },
  {
   "cell_type": "markdown",
   "metadata": {},
   "source": [
    "---"
   ]
  },
  {
   "cell_type": "markdown",
   "metadata": {},
   "source": [
    "練習問題\n",
    "\n",
    "---\n",
    "上で求めた検定統計量 $z$ に対応した $p$ 値を求める。"
   ]
  },
  {
   "cell_type": "code",
   "execution_count": null,
   "metadata": {},
   "outputs": [],
   "source": []
  },
  {
   "cell_type": "markdown",
   "metadata": {
    "solution2": "hidden",
    "solution2_first": true
   },
   "source": [
    "解答例\n",
    "\n",
    "---"
   ]
  },
  {
   "cell_type": "code",
   "execution_count": 5,
   "metadata": {
    "collapsed": true,
    "jupyter": {
     "outputs_hidden": true,
     "source_hidden": true
    },
    "solution2": "hidden"
   },
   "outputs": [
    {
     "data": {
      "text/plain": [
       "0.06788915486182906"
      ]
     },
     "execution_count": 5,
     "metadata": {},
     "output_type": "execute_result"
    }
   ],
   "source": [
    "p_value = null_dist.sf(np.abs(z)) * 2\n",
    "p_value"
   ]
  },
  {
   "cell_type": "markdown",
   "metadata": {},
   "source": [
    "---"
   ]
  },
  {
   "cell_type": "markdown",
   "metadata": {},
   "source": [
    "## Pythonでのz検定実行方法\n",
    "---\n",
    "`statsmodels.stats.proportion.proportions_ztest`を使用する。`prop_var` (分散を算出する基礎となる割合) には帰無仮説で設定した値を与える。"
   ]
  },
  {
   "cell_type": "code",
   "execution_count": 6,
   "metadata": {
    "collapsed": true,
    "jupyter": {
     "outputs_hidden": true
    }
   },
   "outputs": [
    {
     "name": "stdout",
     "output_type": "stream",
     "text": [
      "Help on function proportions_ztest in module statsmodels.stats.proportion:\n",
      "\n",
      "proportions_ztest(count, nobs, value=None, alternative='two-sided', prop_var=False)\n",
      "    Test for proportions based on normal (z) test\n",
      "    \n",
      "    Parameters\n",
      "    ----------\n",
      "    count : {int, array_like}\n",
      "        the number of successes in nobs trials. If this is array_like, then\n",
      "        the assumption is that this represents the number of successes for\n",
      "        each independent sample\n",
      "    nobs : {int, array_like}\n",
      "        the number of trials or observations, with the same length as\n",
      "        count.\n",
      "    value : float, array_like or None, optional\n",
      "        This is the value of the null hypothesis equal to the proportion in the\n",
      "        case of a one sample test. In the case of a two-sample test, the\n",
      "        null hypothesis is that prop[0] - prop[1] = value, where prop is the\n",
      "        proportion in the two samples. If not provided value = 0 and the null\n",
      "        is prop[0] = prop[1]\n",
      "    alternative : str in ['two-sided', 'smaller', 'larger']\n",
      "        The alternative hypothesis can be either two-sided or one of the one-\n",
      "        sided tests, smaller means that the alternative hypothesis is\n",
      "        ``prop < value`` and larger means ``prop > value``. In the two sample\n",
      "        test, smaller means that the alternative hypothesis is ``p1 < p2`` and\n",
      "        larger means ``p1 > p2`` where ``p1`` is the proportion of the first\n",
      "        sample and ``p2`` of the second one.\n",
      "    prop_var : False or float in (0, 1)\n",
      "        If prop_var is false, then the variance of the proportion estimate is\n",
      "        calculated based on the sample proportion. Alternatively, a proportion\n",
      "        can be specified to calculate this variance. Common use case is to\n",
      "        use the proportion under the Null hypothesis to specify the variance\n",
      "        of the proportion estimate.\n",
      "    \n",
      "    Returns\n",
      "    -------\n",
      "    zstat : float\n",
      "        test statistic for the z-test\n",
      "    p-value : float\n",
      "        p-value for the z-test\n",
      "    \n",
      "    Examples\n",
      "    --------\n",
      "    >>> count = 5\n",
      "    >>> nobs = 83\n",
      "    >>> value = .05\n",
      "    >>> stat, pval = proportions_ztest(count, nobs, value)\n",
      "    >>> print('{0:0.3f}'.format(pval))\n",
      "    0.695\n",
      "    \n",
      "    >>> import numpy as np\n",
      "    >>> from statsmodels.stats.proportion import proportions_ztest\n",
      "    >>> count = np.array([5, 12])\n",
      "    >>> nobs = np.array([83, 99])\n",
      "    >>> stat, pval = proportions_ztest(count, nobs)\n",
      "    >>> print('{0:0.3f}'.format(pval))\n",
      "    0.159\n",
      "    \n",
      "    Notes\n",
      "    -----\n",
      "    This uses a simple normal test for proportions. It should be the same as\n",
      "    running the mean z-test on the data encoded 1 for event and 0 for no event\n",
      "    so that the sum corresponds to the count.\n",
      "    \n",
      "    In the one and two sample cases with two-sided alternative, this test\n",
      "    produces the same p-value as ``proportions_chisquare``, since the\n",
      "    chisquare is the distribution of the square of a standard normal\n",
      "    distribution.\n",
      "\n"
     ]
    }
   ],
   "source": [
    "help(proportions_ztest)"
   ]
  },
  {
   "cell_type": "code",
   "execution_count": 7,
   "metadata": {},
   "outputs": [
    {
     "data": {
      "text/plain": [
       "(1.8257418583505534, 0.06788915486182906)"
      ]
     },
     "execution_count": 7,
     "metadata": {},
     "output_type": "execute_result"
    }
   ],
   "source": [
    "proportions_ztest(coin['X'].sum(), coin.index.size, p, prop_var=p)"
   ]
  },
  {
   "cell_type": "markdown",
   "metadata": {},
   "source": [
    "## 推薦図書\n",
    "---\n",
    "- [統計学入門 (基礎統計学Ⅰ)](https://www.amazon.co.jp/%E7%B5%B1%E8%A8%88%E5%AD%A6%E5%85%A5%E9%96%80-%E5%9F%BA%E7%A4%8E%E7%B5%B1%E8%A8%88%E5%AD%A6%E2%85%A0-%E6%9D%B1%E4%BA%AC%E5%A4%A7%E5%AD%A6%E6%95%99%E9%A4%8A%E5%AD%A6%E9%83%A8%E7%B5%B1%E8%A8%88%E5%AD%A6%E6%95%99%E5%AE%A4/dp/4130420658/)\n",
    "- [日本統計学会公式認定 統計検定2級対応 統計学基礎](https://www.amazon.co.jp/%E6%94%B9%E8%A8%82%E7%89%88-%E6%97%A5%E6%9C%AC%E7%B5%B1%E8%A8%88%E5%AD%A6%E4%BC%9A%E5%85%AC%E5%BC%8F%E8%AA%8D%E5%AE%9A-%E7%B5%B1%E8%A8%88%E6%A4%9C%E5%AE%9A2%E7%B4%9A%E5%AF%BE%E5%BF%9C-%E7%B5%B1%E8%A8%88%E5%AD%A6%E5%9F%BA%E7%A4%8E-%E7%94%B0%E4%B8%AD%E8%B1%8A/dp/4489022271/)"
   ]
  }
 ],
 "metadata": {
  "kernelspec": {
   "display_name": "Python 3",
   "language": "python",
   "name": "python3"
  },
  "language_info": {
   "codemirror_mode": {
    "name": "ipython",
    "version": 3
   },
   "file_extension": ".py",
   "mimetype": "text/x-python",
   "name": "python",
   "nbconvert_exporter": "python",
   "pygments_lexer": "ipython3",
   "version": "3.8.3"
  },
  "toc": {
   "base_numbering": 1,
   "nav_menu": {},
   "number_sections": true,
   "sideBar": true,
   "skip_h1_title": true,
   "title_cell": "Table of Contents",
   "title_sidebar": "Contents",
   "toc_cell": false,
   "toc_position": {},
   "toc_section_display": true,
   "toc_window_display": true
  },
  "toc-autonumbering": true,
  "varInspector": {
   "cols": {
    "lenName": 16,
    "lenType": 16,
    "lenVar": 40
   },
   "kernels_config": {
    "python": {
     "delete_cmd_postfix": "",
     "delete_cmd_prefix": "del ",
     "library": "var_list.py",
     "varRefreshCmd": "print(var_dic_list())"
    },
    "r": {
     "delete_cmd_postfix": ") ",
     "delete_cmd_prefix": "rm(",
     "library": "var_list.r",
     "varRefreshCmd": "cat(var_dic_list()) "
    }
   },
   "types_to_exclude": [
    "module",
    "function",
    "builtin_function_or_method",
    "instance",
    "_Feature"
   ],
   "window_display": false
  },
  "widgets": {
   "application/vnd.jupyter.widget-state+json": {
    "state": {},
    "version_major": 2,
    "version_minor": 0
   }
  }
 },
 "nbformat": 4,
 "nbformat_minor": 4
}
