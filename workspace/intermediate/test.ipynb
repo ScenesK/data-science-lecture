{
 "cells": [
  {
   "cell_type": "code",
   "execution_count": 1,
   "metadata": {},
   "outputs": [],
   "source": [
    "import numpy as np\n",
    "import pandas as pd\n",
    "from sklearn.datasets import make_classification, make_regression\n",
    "from sklearn.model_selection import train_test_split\n",
    "from sklearn.linear_model import LinearRegression, LogisticRegression\n",
    "from IPython.display import display\n",
    "pd.set_option('max_rows', 5)\n",
    "%matplotlib inline"
   ]
  },
  {
   "cell_type": "markdown",
   "metadata": {},
   "source": [
    "# テスト"
   ]
  },
  {
   "cell_type": "markdown",
   "metadata": {},
   "source": [
    "## 過学習 (overfitting)\n",
    "---\n",
    "訓練データでは高い精度が出るのに、未知のデータ (新しく入ってきたデータ) ではそれほど精度が出ないことがよくある。この状態を過学習や過剰適合といい、**モデルが訓練データに対して過剰に適合**した結果である。"
   ]
  },
  {
   "cell_type": "markdown",
   "metadata": {},
   "source": [
    "## 汎化 (generalization)\n",
    "---\n",
    "未知のデータでも訓練データと同じような精度が出るモデルは汎化能力が高いという。  \n",
    "訓練データでも未知のデータでも**求める精度**が出ない状態のことは未学習 (underfitting) という。  \n",
    "モデルのパラメータ (線形回帰の係数のように訓練データから自動的に調整される変数) が多く過学習しやすいモデルのことを高バリアンス (high variance) 、逆にパラメータが少なく未学習が起きやすいモデルのことを高バイアス (high bias) であるという。 \n",
    "\n",
    "<table class=\"border text-center background-bright\">\n",
    "    <tr class=\"background-dark\">\n",
    "        <th class=\"border-right-bold\"></th>\n",
    "        <th>訓練データで高精度</th>\n",
    "        <th>訓練データで低精度</th>\n",
    "    </tr>\n",
    "    <tr>\n",
    "        <th class=\"border-bottom border-right-bold background-dark\">未知のデータで高精度</th>\n",
    "        <td>理想</td>\n",
    "        <td>-</td>\n",
    "    </tr>\n",
    "    <tr>\n",
    "        <th class=\"border-bottom border-right-bold background-dark\">未知のデータで低精度</th>\n",
    "        <td>過学習・高バリアンス</td>\n",
    "        <td>未学習・高バイアス</td>\n",
    "    </tr>\n",
    "</table>\n",
    "\n",
    "過学習は、**訓練データに対してモデルが複雑すぎる**ために起きる。\n",
    "\n",
    "<table class=\"text-center border\">\n",
    "    <tr class=\"background-dark\">\n",
    "        <th>データとモデルの複雑さの関係</th>\n",
    "        <th>現象</th>\n",
    "    </tr>\n",
    "    <tr>\n",
    "        <td>データの複雑さ &lt; モデルの複雑さ (モデルの学習能力)</td>\n",
    "        <td>過学習</td>\n",
    "    </tr>\n",
    "    <tr>\n",
    "        <td>データの複雑さ &gt; モデルの複雑さ (モデルの学習能力)</td>\n",
    "        <td>未学習</td>\n",
    "    </tr>\n",
    "</table>\n",
    "\n",
    "以下のように、モデルの能力が低い (高バイアスなモデル) とデータにうまくフィットしないが、モデルの能力が高すぎる (高バリアンスなモデル) と学習データには完璧にフィットするが真の分布から新しいデータを得た場合にうまく予測できない。"
   ]
  },
  {
   "cell_type": "code",
   "execution_count": 2,
   "metadata": {
    "hide_input": true,
    "jupyter": {
     "source_hidden": true
    }
   },
   "outputs": [
    {
     "data": {
      "application/vnd.jupyter.widget-view+json": {
       "model_id": "7c4416224c6440f0b02461177ab400b7",
       "version_major": 2,
       "version_minor": 0
      },
      "text/plain": [
       "interactive(children=(IntSlider(value=8, continuous_update=False, description='モデルの複雑さ', max=20, min=1, style=…"
      ]
     },
     "metadata": {},
     "output_type": "display_data"
    }
   ],
   "source": [
    "from my_functions.test import generalization\n",
    "generalization.show()"
   ]
  },
  {
   "cell_type": "markdown",
   "metadata": {},
   "source": [
    "## 評価・テスト (test)\n",
    "---\n",
    "学習させたモデルを未知のデータに適用して汎化性能を測定すること。  \n",
    "機械学習の目的は、未知のデータに対する予測なので、未知のデータで精度が出るかどうかが重要であり、それを測定して確認する必要がある。\n",
    "\n",
    "ただし、モデルはあくまで実際の現象を単純化したものであり、テストを実施しているからといって過度に一般化するのは避ける。  \n",
    "例えば、**データセットに含まれない範囲の値を入力する外挿は避けるべき**であると言われる。モデルが複雑な関数の一部分を切り出して単純な関数に近似 (3次関数の一部を1次関数で近似など) している可能性もあるからである。\n",
    "\n",
    "また、**テストの主な目的は過学習の確認** (訓練データとテストデータでの精度の差の確認) であり、テストの結果 (精度) を信頼しすぎるのも注意が必要。実際に運用してみるとテストよりも精度が悪いことはよくある。"
   ]
  },
  {
   "cell_type": "markdown",
   "metadata": {},
   "source": [
    "### テストの方法\n",
    "---\n",
    "手元にないデータが集まるまでモデルを評価できないのでは都合が悪いので、通常は**手元にあるデータを訓練データとテストデータに分け**、訓練データでモデルのパラメーターを決定しテストデータでモデルを評価する。\n",
    "\n",
    "<table class=\"border text-center\">\n",
    "    <tr class=\"background-dark\">\n",
    "        <td colspan=\"2\">データセット</td>\n",
    "    </tr>\n",
    "    <tr class=\"background-dark\">\n",
    "        <td>訓練データ</td>\n",
    "        <td>テストデータ</td>\n",
    "    </tr>\n",
    "    <tr class=\"background-bright\">\n",
    "        <td>モデルのパラメーターを決定</td>\n",
    "        <td>モデルの汎化性能を測定</td>\n",
    "    </tr>\n",
    "</table>\n",
    "\n",
    "一貫した評価のため、テストデータには評価する対象のモデル間 (使用する変数が少ないモデルと多いモデルなど) で**毎回同じデータセットを用いる**。また、テストデータに偏りがあると正しい評価ができないため、**慎重に設計**する必要がある。\n",
    "- 正解ラベルに偏りがないか\n",
    "- 特徴の分布に偏りがないか\n",
    "- etc\n",
    "\n",
    "訓練データとテストデータの割合は6:4、7:3、8:2のいずれかで分割して使用するのが一般的だが、データセットが十分に大きい場合は、9:1や99:1も用いられる。"
   ]
  },
  {
   "cell_type": "markdown",
   "metadata": {},
   "source": [
    "### Pythonでのデータセットの分割方法\n",
    "---\n",
    "`sklearn.model_selection.train_test_split`を使用する。データに偏りがないようにシャッフルされるので、再現性を確保するために**`random_state`は必ず指定**する。"
   ]
  },
  {
   "cell_type": "code",
   "execution_count": 3,
   "metadata": {
    "hide_input": true,
    "jupyter": {
     "source_hidden": true
    }
   },
   "outputs": [
    {
     "name": "stdout",
     "output_type": "stream",
     "text": [
      "reg\n"
     ]
    },
    {
     "data": {
      "text/html": [
       "<div>\n",
       "<style scoped>\n",
       "    .dataframe tbody tr th:only-of-type {\n",
       "        vertical-align: middle;\n",
       "    }\n",
       "\n",
       "    .dataframe tbody tr th {\n",
       "        vertical-align: top;\n",
       "    }\n",
       "\n",
       "    .dataframe thead th {\n",
       "        text-align: right;\n",
       "    }\n",
       "</style>\n",
       "<table border=\"1\" class=\"dataframe\">\n",
       "  <thead>\n",
       "    <tr style=\"text-align: right;\">\n",
       "      <th></th>\n",
       "      <th>index</th>\n",
       "      <th>$x_1$</th>\n",
       "      <th>$x_2$</th>\n",
       "      <th>$x_3$</th>\n",
       "      <th>$x_4$</th>\n",
       "      <th>$x_5$</th>\n",
       "      <th>$y$</th>\n",
       "    </tr>\n",
       "  </thead>\n",
       "  <tbody>\n",
       "    <tr>\n",
       "      <th>0</th>\n",
       "      <td>0</td>\n",
       "      <td>-0.226632</td>\n",
       "      <td>-1.270063</td>\n",
       "      <td>-0.923831</td>\n",
       "      <td>0.355839</td>\n",
       "      <td>-0.195472</td>\n",
       "      <td>-88.673382</td>\n",
       "    </tr>\n",
       "    <tr>\n",
       "      <th>1</th>\n",
       "      <td>1</td>\n",
       "      <td>-0.041387</td>\n",
       "      <td>1.282933</td>\n",
       "      <td>0.821048</td>\n",
       "      <td>2.097801</td>\n",
       "      <td>0.270338</td>\n",
       "      <td>151.441869</td>\n",
       "    </tr>\n",
       "    <tr>\n",
       "      <th>...</th>\n",
       "      <td>...</td>\n",
       "      <td>...</td>\n",
       "      <td>...</td>\n",
       "      <td>...</td>\n",
       "      <td>...</td>\n",
       "      <td>...</td>\n",
       "      <td>...</td>\n",
       "    </tr>\n",
       "    <tr>\n",
       "      <th>98</th>\n",
       "      <td>98</td>\n",
       "      <td>-1.154084</td>\n",
       "      <td>-0.413279</td>\n",
       "      <td>-1.380173</td>\n",
       "      <td>-0.495833</td>\n",
       "      <td>-1.719317</td>\n",
       "      <td>-332.315818</td>\n",
       "    </tr>\n",
       "    <tr>\n",
       "      <th>99</th>\n",
       "      <td>99</td>\n",
       "      <td>0.725714</td>\n",
       "      <td>-1.522180</td>\n",
       "      <td>0.916976</td>\n",
       "      <td>-0.563890</td>\n",
       "      <td>-0.014279</td>\n",
       "      <td>100.990582</td>\n",
       "    </tr>\n",
       "  </tbody>\n",
       "</table>\n",
       "<p>100 rows × 7 columns</p>\n",
       "</div>"
      ],
      "text/plain": [
       "    index     $x_1$     $x_2$     $x_3$     $x_4$     $x_5$         $y$\n",
       "0       0 -0.226632 -1.270063 -0.923831  0.355839 -0.195472  -88.673382\n",
       "1       1 -0.041387  1.282933  0.821048  2.097801  0.270338  151.441869\n",
       "..    ...       ...       ...       ...       ...       ...         ...\n",
       "98     98 -1.154084 -0.413279 -1.380173 -0.495833 -1.719317 -332.315818\n",
       "99     99  0.725714 -1.522180  0.916976 -0.563890 -0.014279  100.990582\n",
       "\n",
       "[100 rows x 7 columns]"
      ]
     },
     "metadata": {},
     "output_type": "display_data"
    },
    {
     "name": "stdout",
     "output_type": "stream",
     "text": [
      "clf\n"
     ]
    },
    {
     "data": {
      "text/html": [
       "<div>\n",
       "<style scoped>\n",
       "    .dataframe tbody tr th:only-of-type {\n",
       "        vertical-align: middle;\n",
       "    }\n",
       "\n",
       "    .dataframe tbody tr th {\n",
       "        vertical-align: top;\n",
       "    }\n",
       "\n",
       "    .dataframe thead th {\n",
       "        text-align: right;\n",
       "    }\n",
       "</style>\n",
       "<table border=\"1\" class=\"dataframe\">\n",
       "  <thead>\n",
       "    <tr style=\"text-align: right;\">\n",
       "      <th></th>\n",
       "      <th>index</th>\n",
       "      <th>$x_1$</th>\n",
       "      <th>$x_2$</th>\n",
       "      <th>$x_3$</th>\n",
       "      <th>$x_4$</th>\n",
       "      <th>$x_5$</th>\n",
       "      <th>$y$</th>\n",
       "    </tr>\n",
       "  </thead>\n",
       "  <tbody>\n",
       "    <tr>\n",
       "      <th>0</th>\n",
       "      <td>0</td>\n",
       "      <td>-0.064810</td>\n",
       "      <td>0.942149</td>\n",
       "      <td>0.693305</td>\n",
       "      <td>0.594743</td>\n",
       "      <td>0.171602</td>\n",
       "      <td>1.0</td>\n",
       "    </tr>\n",
       "    <tr>\n",
       "      <th>1</th>\n",
       "      <td>1</td>\n",
       "      <td>0.252833</td>\n",
       "      <td>-0.908485</td>\n",
       "      <td>-0.879626</td>\n",
       "      <td>-0.940067</td>\n",
       "      <td>0.500483</td>\n",
       "      <td>0.0</td>\n",
       "    </tr>\n",
       "    <tr>\n",
       "      <th>...</th>\n",
       "      <td>...</td>\n",
       "      <td>...</td>\n",
       "      <td>...</td>\n",
       "      <td>...</td>\n",
       "      <td>...</td>\n",
       "      <td>...</td>\n",
       "      <td>...</td>\n",
       "    </tr>\n",
       "    <tr>\n",
       "      <th>98</th>\n",
       "      <td>98</td>\n",
       "      <td>-0.059355</td>\n",
       "      <td>-1.216396</td>\n",
       "      <td>-0.736489</td>\n",
       "      <td>-0.492400</td>\n",
       "      <td>-0.276646</td>\n",
       "      <td>0.0</td>\n",
       "    </tr>\n",
       "    <tr>\n",
       "      <th>99</th>\n",
       "      <td>99</td>\n",
       "      <td>-0.109198</td>\n",
       "      <td>0.996937</td>\n",
       "      <td>0.778670</td>\n",
       "      <td>0.707556</td>\n",
       "      <td>-0.319298</td>\n",
       "      <td>1.0</td>\n",
       "    </tr>\n",
       "  </tbody>\n",
       "</table>\n",
       "<p>100 rows × 7 columns</p>\n",
       "</div>"
      ],
      "text/plain": [
       "    index     $x_1$     $x_2$     $x_3$     $x_4$     $x_5$  $y$\n",
       "0       0 -0.064810  0.942149  0.693305  0.594743  0.171602  1.0\n",
       "1       1  0.252833 -0.908485 -0.879626 -0.940067  0.500483  0.0\n",
       "..    ...       ...       ...       ...       ...       ...  ...\n",
       "98     98 -0.059355 -1.216396 -0.736489 -0.492400 -0.276646  0.0\n",
       "99     99 -0.109198  0.996937  0.778670  0.707556 -0.319298  1.0\n",
       "\n",
       "[100 rows x 7 columns]"
      ]
     },
     "metadata": {},
     "output_type": "display_data"
    }
   ],
   "source": [
    "n_features = 5\n",
    "\n",
    "\n",
    "def to_dataframe(x, y):\n",
    "    return pd.DataFrame(np.column_stack([x, y]),\n",
    "                        columns=[f'$x_{i+1}$' for i in range(x.shape[1])] +\n",
    "                        ['$y$']).reset_index()\n",
    "\n",
    "\n",
    "x_reg, y_reg = make_regression(n_features=5, noise=0.1, random_state=1234)\n",
    "reg = to_dataframe(x_reg, y_reg)\n",
    "print('reg')\n",
    "display(reg)\n",
    "\n",
    "x_clf, y_clf = make_classification(n_features=n_features, random_state=1234)\n",
    "clf = to_dataframe(x_clf, y_clf)\n",
    "print('clf')\n",
    "display(clf)"
   ]
  },
  {
   "cell_type": "code",
   "execution_count": 4,
   "metadata": {
    "collapsed": true,
    "jupyter": {
     "outputs_hidden": true
    }
   },
   "outputs": [
    {
     "name": "stdout",
     "output_type": "stream",
     "text": [
      "Help on function train_test_split in module sklearn.model_selection._split:\n",
      "\n",
      "train_test_split(*arrays, **options)\n",
      "    Split arrays or matrices into random train and test subsets\n",
      "    \n",
      "    Quick utility that wraps input validation and\n",
      "    ``next(ShuffleSplit().split(X, y))`` and application to input data\n",
      "    into a single call for splitting (and optionally subsampling) data in a\n",
      "    oneliner.\n",
      "    \n",
      "    Read more in the :ref:`User Guide <cross_validation>`.\n",
      "    \n",
      "    Parameters\n",
      "    ----------\n",
      "    *arrays : sequence of indexables with same length / shape[0]\n",
      "        Allowed inputs are lists, numpy arrays, scipy-sparse\n",
      "        matrices or pandas dataframes.\n",
      "    \n",
      "    test_size : float or int, default=None\n",
      "        If float, should be between 0.0 and 1.0 and represent the proportion\n",
      "        of the dataset to include in the test split. If int, represents the\n",
      "        absolute number of test samples. If None, the value is set to the\n",
      "        complement of the train size. If ``train_size`` is also None, it will\n",
      "        be set to 0.25.\n",
      "    \n",
      "    train_size : float or int, default=None\n",
      "        If float, should be between 0.0 and 1.0 and represent the\n",
      "        proportion of the dataset to include in the train split. If\n",
      "        int, represents the absolute number of train samples. If None,\n",
      "        the value is automatically set to the complement of the test size.\n",
      "    \n",
      "    random_state : int or RandomState instance, default=None\n",
      "        Controls the shuffling applied to the data before applying the split.\n",
      "        Pass an int for reproducible output across multiple function calls.\n",
      "        See :term:`Glossary <random_state>`.\n",
      "    \n",
      "    \n",
      "    shuffle : bool, default=True\n",
      "        Whether or not to shuffle the data before splitting. If shuffle=False\n",
      "        then stratify must be None.\n",
      "    \n",
      "    stratify : array-like, default=None\n",
      "        If not None, data is split in a stratified fashion, using this as\n",
      "        the class labels.\n",
      "    \n",
      "    Returns\n",
      "    -------\n",
      "    splitting : list, length=2 * len(arrays)\n",
      "        List containing train-test split of inputs.\n",
      "    \n",
      "        .. versionadded:: 0.16\n",
      "            If the input is sparse, the output will be a\n",
      "            ``scipy.sparse.csr_matrix``. Else, output type is the same as the\n",
      "            input type.\n",
      "    \n",
      "    Examples\n",
      "    --------\n",
      "    >>> import numpy as np\n",
      "    >>> from sklearn.model_selection import train_test_split\n",
      "    >>> X, y = np.arange(10).reshape((5, 2)), range(5)\n",
      "    >>> X\n",
      "    array([[0, 1],\n",
      "           [2, 3],\n",
      "           [4, 5],\n",
      "           [6, 7],\n",
      "           [8, 9]])\n",
      "    >>> list(y)\n",
      "    [0, 1, 2, 3, 4]\n",
      "    \n",
      "    >>> X_train, X_test, y_train, y_test = train_test_split(\n",
      "    ...     X, y, test_size=0.33, random_state=42)\n",
      "    ...\n",
      "    >>> X_train\n",
      "    array([[4, 5],\n",
      "           [0, 1],\n",
      "           [6, 7]])\n",
      "    >>> y_train\n",
      "    [2, 0, 3]\n",
      "    >>> X_test\n",
      "    array([[2, 3],\n",
      "           [8, 9]])\n",
      "    >>> y_test\n",
      "    [1, 4]\n",
      "    \n",
      "    >>> train_test_split(y, shuffle=False)\n",
      "    [[0, 1, 2], [3, 4]]\n",
      "\n"
     ]
    }
   ],
   "source": [
    "help(train_test_split)"
   ]
  },
  {
   "cell_type": "code",
   "execution_count": 5,
   "metadata": {},
   "outputs": [
    {
     "name": "stdout",
     "output_type": "stream",
     "text": [
      "reg_train\n"
     ]
    },
    {
     "data": {
      "text/html": [
       "<div>\n",
       "<style scoped>\n",
       "    .dataframe tbody tr th:only-of-type {\n",
       "        vertical-align: middle;\n",
       "    }\n",
       "\n",
       "    .dataframe tbody tr th {\n",
       "        vertical-align: top;\n",
       "    }\n",
       "\n",
       "    .dataframe thead th {\n",
       "        text-align: right;\n",
       "    }\n",
       "</style>\n",
       "<table border=\"1\" class=\"dataframe\">\n",
       "  <thead>\n",
       "    <tr style=\"text-align: right;\">\n",
       "      <th></th>\n",
       "      <th>index</th>\n",
       "      <th>$x_1$</th>\n",
       "      <th>$x_2$</th>\n",
       "      <th>$x_3$</th>\n",
       "      <th>$x_4$</th>\n",
       "      <th>$x_5$</th>\n",
       "      <th>$y$</th>\n",
       "    </tr>\n",
       "  </thead>\n",
       "  <tbody>\n",
       "    <tr>\n",
       "      <th>0</th>\n",
       "      <td>33</td>\n",
       "      <td>0.513082</td>\n",
       "      <td>2.107785</td>\n",
       "      <td>-0.546416</td>\n",
       "      <td>1.043945</td>\n",
       "      <td>1.459927</td>\n",
       "      <td>147.415936</td>\n",
       "    </tr>\n",
       "    <tr>\n",
       "      <th>1</th>\n",
       "      <td>59</td>\n",
       "      <td>-0.430096</td>\n",
       "      <td>0.270836</td>\n",
       "      <td>0.767369</td>\n",
       "      <td>0.984920</td>\n",
       "      <td>1.391986</td>\n",
       "      <td>151.080687</td>\n",
       "    </tr>\n",
       "    <tr>\n",
       "      <th>...</th>\n",
       "      <td>...</td>\n",
       "      <td>...</td>\n",
       "      <td>...</td>\n",
       "      <td>...</td>\n",
       "      <td>...</td>\n",
       "      <td>...</td>\n",
       "      <td>...</td>\n",
       "    </tr>\n",
       "    <tr>\n",
       "      <th>88</th>\n",
       "      <td>83</td>\n",
       "      <td>1.015405</td>\n",
       "      <td>0.440266</td>\n",
       "      <td>0.749185</td>\n",
       "      <td>-0.675521</td>\n",
       "      <td>0.688972</td>\n",
       "      <td>162.855411</td>\n",
       "    </tr>\n",
       "    <tr>\n",
       "      <th>89</th>\n",
       "      <td>47</td>\n",
       "      <td>-0.897157</td>\n",
       "      <td>0.755414</td>\n",
       "      <td>-0.136795</td>\n",
       "      <td>0.018289</td>\n",
       "      <td>0.215269</td>\n",
       "      <td>-66.752940</td>\n",
       "    </tr>\n",
       "  </tbody>\n",
       "</table>\n",
       "<p>90 rows × 7 columns</p>\n",
       "</div>"
      ],
      "text/plain": [
       "    index     $x_1$     $x_2$     $x_3$     $x_4$     $x_5$         $y$\n",
       "0      33  0.513082  2.107785 -0.546416  1.043945  1.459927  147.415936\n",
       "1      59 -0.430096  0.270836  0.767369  0.984920  1.391986  151.080687\n",
       "..    ...       ...       ...       ...       ...       ...         ...\n",
       "88     83  1.015405  0.440266  0.749185 -0.675521  0.688972  162.855411\n",
       "89     47 -0.897157  0.755414 -0.136795  0.018289  0.215269  -66.752940\n",
       "\n",
       "[90 rows x 7 columns]"
      ]
     },
     "metadata": {},
     "output_type": "display_data"
    },
    {
     "name": "stdout",
     "output_type": "stream",
     "text": [
      "reg_test\n"
     ]
    },
    {
     "data": {
      "text/html": [
       "<div>\n",
       "<style scoped>\n",
       "    .dataframe tbody tr th:only-of-type {\n",
       "        vertical-align: middle;\n",
       "    }\n",
       "\n",
       "    .dataframe tbody tr th {\n",
       "        vertical-align: top;\n",
       "    }\n",
       "\n",
       "    .dataframe thead th {\n",
       "        text-align: right;\n",
       "    }\n",
       "</style>\n",
       "<table border=\"1\" class=\"dataframe\">\n",
       "  <thead>\n",
       "    <tr style=\"text-align: right;\">\n",
       "      <th></th>\n",
       "      <th>index</th>\n",
       "      <th>$x_1$</th>\n",
       "      <th>$x_2$</th>\n",
       "      <th>$x_3$</th>\n",
       "      <th>$x_4$</th>\n",
       "      <th>$x_5$</th>\n",
       "      <th>$y$</th>\n",
       "    </tr>\n",
       "  </thead>\n",
       "  <tbody>\n",
       "    <tr>\n",
       "      <th>0</th>\n",
       "      <td>40</td>\n",
       "      <td>1.343182</td>\n",
       "      <td>-1.553342</td>\n",
       "      <td>-0.050540</td>\n",
       "      <td>-0.364010</td>\n",
       "      <td>-0.319298</td>\n",
       "      <td>69.510039</td>\n",
       "    </tr>\n",
       "    <tr>\n",
       "      <th>1</th>\n",
       "      <td>35</td>\n",
       "      <td>0.264534</td>\n",
       "      <td>-0.174298</td>\n",
       "      <td>0.565658</td>\n",
       "      <td>0.585084</td>\n",
       "      <td>-1.071369</td>\n",
       "      <td>8.398147</td>\n",
       "    </tr>\n",
       "    <tr>\n",
       "      <th>...</th>\n",
       "      <td>...</td>\n",
       "      <td>...</td>\n",
       "      <td>...</td>\n",
       "      <td>...</td>\n",
       "      <td>...</td>\n",
       "      <td>...</td>\n",
       "      <td>...</td>\n",
       "    </tr>\n",
       "    <tr>\n",
       "      <th>8</th>\n",
       "      <td>39</td>\n",
       "      <td>0.209395</td>\n",
       "      <td>-0.896581</td>\n",
       "      <td>-0.592886</td>\n",
       "      <td>-1.473116</td>\n",
       "      <td>1.104352</td>\n",
       "      <td>-2.714533</td>\n",
       "    </tr>\n",
       "    <tr>\n",
       "      <th>9</th>\n",
       "      <td>42</td>\n",
       "      <td>-0.048461</td>\n",
       "      <td>0.425531</td>\n",
       "      <td>-0.845290</td>\n",
       "      <td>0.415101</td>\n",
       "      <td>-0.980724</td>\n",
       "      <td>-116.393952</td>\n",
       "    </tr>\n",
       "  </tbody>\n",
       "</table>\n",
       "<p>10 rows × 7 columns</p>\n",
       "</div>"
      ],
      "text/plain": [
       "    index     $x_1$     $x_2$     $x_3$     $x_4$     $x_5$         $y$\n",
       "0      40  1.343182 -1.553342 -0.050540 -0.364010 -0.319298   69.510039\n",
       "1      35  0.264534 -0.174298  0.565658  0.585084 -1.071369    8.398147\n",
       "..    ...       ...       ...       ...       ...       ...         ...\n",
       "8      39  0.209395 -0.896581 -0.592886 -1.473116  1.104352   -2.714533\n",
       "9      42 -0.048461  0.425531 -0.845290  0.415101 -0.980724 -116.393952\n",
       "\n",
       "[10 rows x 7 columns]"
      ]
     },
     "metadata": {},
     "output_type": "display_data"
    }
   ],
   "source": [
    "x_reg = reg.iloc[:, :-1].values\n",
    "y_reg = reg.iloc[:, -1].values\n",
    "x_reg_train, x_reg_test, y_reg_train, y_reg_test = train_test_split(\n",
    "    x_reg, y_reg, test_size=0.1, random_state=1234)\n",
    "\n",
    "# 結果の確認\n",
    "reg_train = pd.DataFrame(np.column_stack([x_reg_train, y_reg_train]),\n",
    "                         columns=reg.columns)\n",
    "reg_train['index'] = reg_train['index'].astype(int)\n",
    "reg_test = pd.DataFrame(np.column_stack([x_reg_test, y_reg_test]),\n",
    "                        columns=reg.columns)\n",
    "reg_test['index'] = reg_test['index'].astype(int)\n",
    "print('reg_train')\n",
    "display(reg_train)\n",
    "print('reg_test')\n",
    "display(reg_test)"
   ]
  },
  {
   "cell_type": "code",
   "execution_count": 6,
   "metadata": {},
   "outputs": [
    {
     "name": "stdout",
     "output_type": "stream",
     "text": [
      "clf_train\n"
     ]
    },
    {
     "data": {
      "text/html": [
       "<div>\n",
       "<style scoped>\n",
       "    .dataframe tbody tr th:only-of-type {\n",
       "        vertical-align: middle;\n",
       "    }\n",
       "\n",
       "    .dataframe tbody tr th {\n",
       "        vertical-align: top;\n",
       "    }\n",
       "\n",
       "    .dataframe thead th {\n",
       "        text-align: right;\n",
       "    }\n",
       "</style>\n",
       "<table border=\"1\" class=\"dataframe\">\n",
       "  <thead>\n",
       "    <tr style=\"text-align: right;\">\n",
       "      <th></th>\n",
       "      <th>index</th>\n",
       "      <th>$x_1$</th>\n",
       "      <th>$x_2$</th>\n",
       "      <th>$x_3$</th>\n",
       "      <th>$x_4$</th>\n",
       "      <th>$x_5$</th>\n",
       "      <th>$y$</th>\n",
       "    </tr>\n",
       "  </thead>\n",
       "  <tbody>\n",
       "    <tr>\n",
       "      <th>0</th>\n",
       "      <td>33</td>\n",
       "      <td>-0.762661</td>\n",
       "      <td>-1.242861</td>\n",
       "      <td>0.026055</td>\n",
       "      <td>0.848905</td>\n",
       "      <td>-1.051628</td>\n",
       "      <td>1.0</td>\n",
       "    </tr>\n",
       "    <tr>\n",
       "      <th>1</th>\n",
       "      <td>59</td>\n",
       "      <td>0.685935</td>\n",
       "      <td>-0.319168</td>\n",
       "      <td>-0.971251</td>\n",
       "      <td>-1.480243</td>\n",
       "      <td>0.440266</td>\n",
       "      <td>0.0</td>\n",
       "    </tr>\n",
       "    <tr>\n",
       "      <th>...</th>\n",
       "      <td>...</td>\n",
       "      <td>...</td>\n",
       "      <td>...</td>\n",
       "      <td>...</td>\n",
       "      <td>...</td>\n",
       "      <td>...</td>\n",
       "      <td>...</td>\n",
       "    </tr>\n",
       "    <tr>\n",
       "      <th>88</th>\n",
       "      <td>83</td>\n",
       "      <td>-0.948686</td>\n",
       "      <td>-0.893450</td>\n",
       "      <td>0.462831</td>\n",
       "      <td>1.381451</td>\n",
       "      <td>-1.268994</td>\n",
       "      <td>1.0</td>\n",
       "    </tr>\n",
       "    <tr>\n",
       "      <th>89</th>\n",
       "      <td>47</td>\n",
       "      <td>-1.250956</td>\n",
       "      <td>-1.747812</td>\n",
       "      <td>0.234538</td>\n",
       "      <td>1.537458</td>\n",
       "      <td>1.076541</td>\n",
       "      <td>1.0</td>\n",
       "    </tr>\n",
       "  </tbody>\n",
       "</table>\n",
       "<p>90 rows × 7 columns</p>\n",
       "</div>"
      ],
      "text/plain": [
       "    index     $x_1$     $x_2$     $x_3$     $x_4$     $x_5$  $y$\n",
       "0      33 -0.762661 -1.242861  0.026055  0.848905 -1.051628  1.0\n",
       "1      59  0.685935 -0.319168 -0.971251 -1.480243  0.440266  0.0\n",
       "..    ...       ...       ...       ...       ...       ...  ...\n",
       "88     83 -0.948686 -0.893450  0.462831  1.381451 -1.268994  1.0\n",
       "89     47 -1.250956 -1.747812  0.234538  1.537458  1.076541  1.0\n",
       "\n",
       "[90 rows x 7 columns]"
      ]
     },
     "metadata": {},
     "output_type": "display_data"
    },
    {
     "name": "stdout",
     "output_type": "stream",
     "text": [
      "clf_test\n"
     ]
    },
    {
     "data": {
      "text/html": [
       "<div>\n",
       "<style scoped>\n",
       "    .dataframe tbody tr th:only-of-type {\n",
       "        vertical-align: middle;\n",
       "    }\n",
       "\n",
       "    .dataframe tbody tr th {\n",
       "        vertical-align: top;\n",
       "    }\n",
       "\n",
       "    .dataframe thead th {\n",
       "        text-align: right;\n",
       "    }\n",
       "</style>\n",
       "<table border=\"1\" class=\"dataframe\">\n",
       "  <thead>\n",
       "    <tr style=\"text-align: right;\">\n",
       "      <th></th>\n",
       "      <th>index</th>\n",
       "      <th>$x_1$</th>\n",
       "      <th>$x_2$</th>\n",
       "      <th>$x_3$</th>\n",
       "      <th>$x_4$</th>\n",
       "      <th>$x_5$</th>\n",
       "      <th>$y$</th>\n",
       "    </tr>\n",
       "  </thead>\n",
       "  <tbody>\n",
       "    <tr>\n",
       "      <th>0</th>\n",
       "      <td>40</td>\n",
       "      <td>0.439331</td>\n",
       "      <td>0.839825</td>\n",
       "      <td>0.066697</td>\n",
       "      <td>-0.427226</td>\n",
       "      <td>-0.660230</td>\n",
       "      <td>0.0</td>\n",
       "    </tr>\n",
       "    <tr>\n",
       "      <th>1</th>\n",
       "      <td>35</td>\n",
       "      <td>-0.397057</td>\n",
       "      <td>0.581005</td>\n",
       "      <td>0.823577</td>\n",
       "      <td>1.054490</td>\n",
       "      <td>-0.061246</td>\n",
       "      <td>1.0</td>\n",
       "    </tr>\n",
       "    <tr>\n",
       "      <th>...</th>\n",
       "      <td>...</td>\n",
       "      <td>...</td>\n",
       "      <td>...</td>\n",
       "      <td>...</td>\n",
       "      <td>...</td>\n",
       "      <td>...</td>\n",
       "      <td>...</td>\n",
       "    </tr>\n",
       "    <tr>\n",
       "      <th>8</th>\n",
       "      <td>39</td>\n",
       "      <td>0.380907</td>\n",
       "      <td>-1.851514</td>\n",
       "      <td>-1.643674</td>\n",
       "      <td>-1.657088</td>\n",
       "      <td>0.688972</td>\n",
       "      <td>0.0</td>\n",
       "    </tr>\n",
       "    <tr>\n",
       "      <th>9</th>\n",
       "      <td>42</td>\n",
       "      <td>0.983739</td>\n",
       "      <td>0.034863</td>\n",
       "      <td>-1.068016</td>\n",
       "      <td>-1.877203</td>\n",
       "      <td>0.226363</td>\n",
       "      <td>0.0</td>\n",
       "    </tr>\n",
       "  </tbody>\n",
       "</table>\n",
       "<p>10 rows × 7 columns</p>\n",
       "</div>"
      ],
      "text/plain": [
       "    index     $x_1$     $x_2$     $x_3$     $x_4$     $x_5$  $y$\n",
       "0      40  0.439331  0.839825  0.066697 -0.427226 -0.660230  0.0\n",
       "1      35 -0.397057  0.581005  0.823577  1.054490 -0.061246  1.0\n",
       "..    ...       ...       ...       ...       ...       ...  ...\n",
       "8      39  0.380907 -1.851514 -1.643674 -1.657088  0.688972  0.0\n",
       "9      42  0.983739  0.034863 -1.068016 -1.877203  0.226363  0.0\n",
       "\n",
       "[10 rows x 7 columns]"
      ]
     },
     "metadata": {},
     "output_type": "display_data"
    }
   ],
   "source": [
    "x_clf = clf.iloc[:, :-1].values\n",
    "y_clf = clf.iloc[:, -1].values\n",
    "x_clf_train, x_clf_test, y_clf_train, y_clf_test = train_test_split(\n",
    "    x_clf, y_clf, test_size=0.1, random_state=1234)\n",
    "\n",
    "# 結果の確認\n",
    "clf_train = pd.DataFrame(np.column_stack([x_clf_train, y_clf_train]),\n",
    "                         columns=clf.columns)\n",
    "clf_train['index'] = clf_train['index'].astype(int)\n",
    "clf_test = pd.DataFrame(np.column_stack([x_clf_test, y_clf_test]),\n",
    "                        columns=clf.columns)\n",
    "clf_test['index'] = clf_test['index'].astype(int)\n",
    "print('clf_train')\n",
    "display(clf_train)\n",
    "print('clf_test')\n",
    "display(clf_test)"
   ]
  },
  {
   "cell_type": "markdown",
   "metadata": {},
   "source": [
    "### Pythonでのテスト方法\n",
    "---\n",
    "学習済みモデルの`score`メソッドを使用する。  \n",
    "評価指標は回帰モデルでは決定係数 ($R^{2}$) 、分類モデルでは正解率 (accuracy) が使用される。指標の詳細・その他の指標については[評価指標](metrics.ipynb)で扱う。"
   ]
  },
  {
   "cell_type": "code",
   "execution_count": 7,
   "metadata": {},
   "outputs": [
    {
     "data": {
      "text/plain": [
       "0.9999993658171609"
      ]
     },
     "execution_count": 7,
     "metadata": {},
     "output_type": "execute_result"
    }
   ],
   "source": [
    "# 線形回帰\n",
    "model_reg = LinearRegression()\n",
    "model_reg.fit(x_reg_train, y_reg_train)\n",
    "model_reg.score(x_reg_test, y_reg_test)"
   ]
  },
  {
   "cell_type": "code",
   "execution_count": 8,
   "metadata": {},
   "outputs": [
    {
     "data": {
      "text/plain": [
       "0.9"
      ]
     },
     "execution_count": 8,
     "metadata": {},
     "output_type": "execute_result"
    }
   ],
   "source": [
    "# ロジスティック回帰\n",
    "model_clf = LogisticRegression()\n",
    "model_clf.fit(x_clf_train, y_clf_train)\n",
    "model_clf.score(x_clf_test, y_clf_test)"
   ]
  },
  {
   "cell_type": "markdown",
   "metadata": {},
   "source": [
    "## 推薦図書\n",
    "---\n",
    "- [Python 機械学習プログラミング 達人データサイエンティストによる理論と実践](https://www.amazon.co.jp/Python-%E6%A9%9F%E6%A2%B0%E5%AD%A6%E7%BF%92%E3%83%97%E3%83%AD%E3%82%B0%E3%83%A9%E3%83%9F%E3%83%B3%E3%82%B0-%E9%81%94%E4%BA%BA%E3%83%87%E3%83%BC%E3%82%BF%E3%82%B5%E3%82%A4%E3%82%A8%E3%83%B3%E3%83%86%E3%82%A3%E3%82%B9%E3%83%88%E3%81%AB%E3%82%88%E3%82%8B%E7%90%86%E8%AB%96%E3%81%A8%E5%AE%9F%E8%B7%B5-impress-gear/dp/4295003379/)\n",
    "- [Kaggleで勝つデータ分析の技術](https://www.amazon.co.jp/Kaggle%E3%81%A7%E5%8B%9D%E3%81%A4%E3%83%87%E3%83%BC%E3%82%BF%E5%88%86%E6%9E%90%E3%81%AE%E6%8A%80%E8%A1%93-%E9%96%80%E8%84%87-%E5%A4%A7%E8%BC%94/dp/4297108437/)"
   ]
  }
 ],
 "metadata": {
  "kernelspec": {
   "display_name": "Python 3",
   "language": "python",
   "name": "python3"
  },
  "language_info": {
   "codemirror_mode": {
    "name": "ipython",
    "version": 3
   },
   "file_extension": ".py",
   "mimetype": "text/x-python",
   "name": "python",
   "nbconvert_exporter": "python",
   "pygments_lexer": "ipython3",
   "version": "3.8.3"
  },
  "toc": {
   "base_numbering": 1,
   "nav_menu": {},
   "number_sections": true,
   "sideBar": true,
   "skip_h1_title": true,
   "title_cell": "Table of Contents",
   "title_sidebar": "Contents",
   "toc_cell": false,
   "toc_position": {},
   "toc_section_display": true,
   "toc_window_display": true
  },
  "varInspector": {
   "cols": {
    "lenName": 16,
    "lenType": 16,
    "lenVar": 40
   },
   "kernels_config": {
    "python": {
     "delete_cmd_postfix": "",
     "delete_cmd_prefix": "del ",
     "library": "var_list.py",
     "varRefreshCmd": "print(var_dic_list())"
    },
    "r": {
     "delete_cmd_postfix": ") ",
     "delete_cmd_prefix": "rm(",
     "library": "var_list.r",
     "varRefreshCmd": "cat(var_dic_list()) "
    }
   },
   "types_to_exclude": [
    "module",
    "function",
    "builtin_function_or_method",
    "instance",
    "_Feature"
   ],
   "window_display": false
  },
  "widgets": {
   "application/vnd.jupyter.widget-state+json": {
    "state": {
     "234e934bb6b44260929afa7277a1415d": {
      "model_module": "@jupyter-widgets/base",
      "model_module_version": "1.2.0",
      "model_name": "LayoutModel",
      "state": {}
     },
     "3b41fb6f163440a6b40f3d3cc9a2c731": {
      "model_module": "@jupyter-widgets/base",
      "model_module_version": "1.2.0",
      "model_name": "LayoutModel",
      "state": {}
     },
     "716de799ea974a76a83a70b96ffa8cba": {
      "model_module": "@jupyter-widgets/controls",
      "model_module_version": "1.5.0",
      "model_name": "IntSliderModel",
      "state": {
       "continuous_update": false,
       "description": "モデルの複雑さ",
       "layout": "IPY_MODEL_7967552aa3ae4f3aa5c0629d6cfcd1dc",
       "max": 20,
       "min": 1,
       "style": "IPY_MODEL_73af626c926945a297fa8633873574f9",
       "value": 8
      }
     },
     "73af626c926945a297fa8633873574f9": {
      "model_module": "@jupyter-widgets/controls",
      "model_module_version": "1.5.0",
      "model_name": "SliderStyleModel",
      "state": {
       "description_width": "initial"
      }
     },
     "7967552aa3ae4f3aa5c0629d6cfcd1dc": {
      "model_module": "@jupyter-widgets/base",
      "model_module_version": "1.2.0",
      "model_name": "LayoutModel",
      "state": {}
     },
     "7c4416224c6440f0b02461177ab400b7": {
      "model_module": "@jupyter-widgets/controls",
      "model_module_version": "1.5.0",
      "model_name": "VBoxModel",
      "state": {
       "_dom_classes": [
        "widget-interact"
       ],
       "children": [
        "IPY_MODEL_716de799ea974a76a83a70b96ffa8cba",
        "IPY_MODEL_f4c79bcbcb2c4b9b99fc7650ece5e950"
       ],
       "layout": "IPY_MODEL_3b41fb6f163440a6b40f3d3cc9a2c731"
      }
     },
     "f4c79bcbcb2c4b9b99fc7650ece5e950": {
      "model_module": "@jupyter-widgets/output",
      "model_module_version": "1.0.0",
      "model_name": "OutputModel",
      "state": {
       "layout": "IPY_MODEL_234e934bb6b44260929afa7277a1415d",
       "outputs": [
        {
         "data": {
          "image/png": "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\n",
          "text/plain": "<Figure size 288x288 with 1 Axes>"
         },
         "metadata": {},
         "output_type": "display_data"
        }
       ]
      }
     }
    },
    "version_major": 2,
    "version_minor": 0
   }
  }
 },
 "nbformat": 4,
 "nbformat_minor": 4
}
