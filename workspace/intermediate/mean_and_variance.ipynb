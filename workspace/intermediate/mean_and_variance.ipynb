{
 "cells": [
  {
   "cell_type": "code",
   "execution_count": 1,
   "metadata": {},
   "outputs": [],
   "source": [
    "import numpy as np\n",
    "from scipy import stats"
   ]
  },
  {
   "cell_type": "markdown",
   "metadata": {},
   "source": [
    "# 平均 (期待値) と分散の性質\n",
    "---\n",
    "確率変数 $X,\\ Y$ と定数 $c$ の間には以下の関係が成り立つ。\n",
    "\n",
    "$\n",
    "\\begin{align}\n",
    "    E( X+c) & =E( X) +c & ( 1)\\\\\n",
    "    E( cX) & =cE( X) & ( 2)\\\\\n",
    "    E( X+Y) & =E( X) +E( Y) & ( 3)\\\\\n",
    "     &  & \\\\\n",
    "    V( X+c) & =V( X) & ( 4)\\\\\n",
    "    V( cX) & =c^{2} V( X) & ( 5)\\\\\n",
    "    V( X+Y) & =V( X) +2Cov( X,Y) +V( Y) & ( 6)\n",
    "\\end{align}\n",
    "$"
   ]
  },
  {
   "cell_type": "markdown",
   "metadata": {
    "solution2": "hidden",
    "solution2_first": true
   },
   "source": [
    "証明 (6について)\n",
    "\n",
    "---"
   ]
  },
  {
   "cell_type": "markdown",
   "metadata": {
    "jupyter": {
     "source_hidden": true
    },
    "solution2": "hidden"
   },
   "source": [
    "$\n",
    "\\displaystyle \\begin{aligned}\n",
    "    V( X+Y) & =\\frac\n",
    "        {1}\n",
    "        {n}\n",
    "    \\sum ^{n}_{i=1}\\left\\{( X_{i} +Y_{i}) -\\left(\\overline{X} +\\overline{Y}\\right)\\right\\}^{2}\\\\\n",
    "     & \\\\\n",
    "     & =\\frac\n",
    "         {1}\n",
    "         {n}\n",
    "     \\sum ^{n}_{i=1}\\left\\{\\left( X_{i} -\\overline{X}\\right) +\\left( Y_{i} -\\overline{Y}\\right)\\right\\}^{2}\\\\\n",
    "     & \\\\\n",
    "     & =\\frac\n",
    "         {1}\n",
    "         {n}\n",
    "     \\sum ^{n}_{i=1}\\left( X_{i} -\\overline{X}\\right)^{2} +\\frac\n",
    "         {2}\n",
    "         {n}\n",
    "     \\sum ^{n}_{i=1}\\left( X_{i} -\\overline{X}\\right)\\left( Y_{i} -\\overline{Y}\\right) +\\frac\n",
    "         {1}\n",
    "         {n}\n",
    "     \\sum ^{n}_{i=1}\\left( Y_{i} -\\overline{Y}\\right)^{2}\\\\\n",
    "     & \\\\\n",
    "     & =V( X) +2Cov( X,Y) +V( Y)\n",
    "\\end{aligned}\n",
    "$"
   ]
  },
  {
   "cell_type": "markdown",
   "metadata": {},
   "source": [
    "---"
   ]
  },
  {
   "cell_type": "markdown",
   "metadata": {},
   "source": [
    "## 分散の計算<a name=\"variance\"></a>\n",
    "---\n",
    "分散 $V(X)=E(X^2)-\\left(E(X)^2\\right)$ で計算できる。"
   ]
  },
  {
   "cell_type": "markdown",
   "metadata": {
    "solution2": "hidden",
    "solution2_first": true
   },
   "source": [
    "証明\n",
    "\n",
    "---"
   ]
  },
  {
   "cell_type": "markdown",
   "metadata": {
    "jupyter": {
     "source_hidden": true
    },
    "solution2": "hidden"
   },
   "source": [
    "分散の定義 $V(X)=E\\left((X-\\mu)^2\\right)$ より\n",
    "\n",
    "$\n",
    "\\begin{align}\n",
    "    V( X) & =E\\left( X^{2} -2\\mu X+\\mu ^{2}\\right) &  & \\\\\n",
    "     \\\\\n",
    "     & =E\\left( X^{2}\\right) -2\\mu E( X) +\\mu ^{2} &  & \\because ( 1)( 2)( 3)\\\\\n",
    "     \\\\\n",
    "     & =E\\left( X^{2}\\right) -2E( X)^{2} +E( X)^{2} &  & \\because E( X) =\\mu \\\\\n",
    "     \\\\\n",
    "     & =E\\left( X^{2}\\right) -E( X)^{2} &  & \n",
    "\\end{align}\n",
    "$"
   ]
  },
  {
   "cell_type": "markdown",
   "metadata": {},
   "source": [
    "---"
   ]
  },
  {
   "cell_type": "markdown",
   "metadata": {},
   "source": [
    "## 分散の加法性\n",
    "---\n",
    "確率変数 $X,\\ Y$ が独立のとき、\n",
    "\n",
    "$V(X\\pm Y)=V(X)+V(Y)$\n",
    "\n",
    "が成り立つ。\n",
    "\n",
    "期待値 $\\mu$ ・分散 $\\sigma^2$ の同一の確率分布に従う複数の確率変数 $X_1,\\ X_2,\\ \\dots,\\ X_n$ の場合には\n",
    "\n",
    "$V(X_1+X_2+\\dots+X_n)=n\\sigma^2$"
   ]
  },
  {
   "cell_type": "markdown",
   "metadata": {},
   "source": [
    "練習問題\n",
    "\n",
    "---\n",
    "任意の平均・分散の正規分布から標本を抽出し、その和と差の分散をシミュレーションしてみる。"
   ]
  },
  {
   "cell_type": "code",
   "execution_count": null,
   "metadata": {},
   "outputs": [],
   "source": []
  },
  {
   "cell_type": "markdown",
   "metadata": {
    "solution2": "hidden",
    "solution2_first": true
   },
   "source": [
    "解答例\n",
    "\n",
    "---"
   ]
  },
  {
   "cell_type": "code",
   "execution_count": 2,
   "metadata": {
    "collapsed": true,
    "jupyter": {
     "outputs_hidden": true,
     "source_hidden": true
    },
    "solution2": "hidden"
   },
   "outputs": [
    {
     "name": "stdout",
     "output_type": "stream",
     "text": [
      "和の分散 : 6.01, 差の分散 : 6.00\n"
     ]
    }
   ],
   "source": [
    "mu = 5\n",
    "sigma2 = 3\n",
    "sigma = np.sqrt(sigma2)\n",
    "size = int(1e6)\n",
    "\n",
    "np.random.seed(1234)\n",
    "X1 = stats.norm(loc=mu, scale=sigma).rvs(size=size)\n",
    "X2 = stats.expon(loc=mu, scale=sigma).rvs(size=size)\n",
    "\n",
    "var_sum = (X1 + X2).var()\n",
    "var_diff = (X1 - X2).var()\n",
    "\n",
    "print(f'和の分散 : {var_sum:.2f}, 差の分散 : {var_diff:.2f}')"
   ]
  },
  {
   "cell_type": "markdown",
   "metadata": {},
   "source": [
    "---"
   ]
  },
  {
   "cell_type": "markdown",
   "metadata": {},
   "source": [
    "## 推薦図書\n",
    "---\n",
    "- [心理統計学の基礎―統合的理解のために](https://www.amazon.co.jp/%E5%BF%83%E7%90%86%E7%B5%B1%E8%A8%88%E5%AD%A6%E3%81%AE%E5%9F%BA%E7%A4%8E%E2%80%95%E7%B5%B1%E5%90%88%E7%9A%84%E7%90%86%E8%A7%A3%E3%81%AE%E3%81%9F%E3%82%81%E3%81%AB-%E6%9C%89%E6%96%90%E9%96%A3%E3%82%A2%E3%83%AB%E3%83%9E-%E5%8D%97%E9%A2%A8%E5%8E%9F-%E6%9C%9D%E5%92%8C/dp/4641121605/)\n",
    "- [統計学入門 (基礎統計学Ⅰ)](https://www.amazon.co.jp/%E7%B5%B1%E8%A8%88%E5%AD%A6%E5%85%A5%E9%96%80-%E5%9F%BA%E7%A4%8E%E7%B5%B1%E8%A8%88%E5%AD%A6%E2%85%A0-%E6%9D%B1%E4%BA%AC%E5%A4%A7%E5%AD%A6%E6%95%99%E9%A4%8A%E5%AD%A6%E9%83%A8%E7%B5%B1%E8%A8%88%E5%AD%A6%E6%95%99%E5%AE%A4/dp/4130420658/)"
   ]
  }
 ],
 "metadata": {
  "kernelspec": {
   "display_name": "Python 3",
   "language": "python",
   "name": "python3"
  },
  "language_info": {
   "codemirror_mode": {
    "name": "ipython",
    "version": 3
   },
   "file_extension": ".py",
   "mimetype": "text/x-python",
   "name": "python",
   "nbconvert_exporter": "python",
   "pygments_lexer": "ipython3",
   "version": "3.8.3"
  },
  "toc": {
   "base_numbering": 1,
   "nav_menu": {},
   "number_sections": true,
   "sideBar": true,
   "skip_h1_title": true,
   "title_cell": "Table of Contents",
   "title_sidebar": "Contents",
   "toc_cell": false,
   "toc_position": {},
   "toc_section_display": true,
   "toc_window_display": true
  },
  "varInspector": {
   "cols": {
    "lenName": 16,
    "lenType": 16,
    "lenVar": 40
   },
   "kernels_config": {
    "python": {
     "delete_cmd_postfix": "",
     "delete_cmd_prefix": "del ",
     "library": "var_list.py",
     "varRefreshCmd": "print(var_dic_list())"
    },
    "r": {
     "delete_cmd_postfix": ") ",
     "delete_cmd_prefix": "rm(",
     "library": "var_list.r",
     "varRefreshCmd": "cat(var_dic_list()) "
    }
   },
   "types_to_exclude": [
    "module",
    "function",
    "builtin_function_or_method",
    "instance",
    "_Feature"
   ],
   "window_display": false
  },
  "widgets": {
   "application/vnd.jupyter.widget-state+json": {
    "state": {},
    "version_major": 2,
    "version_minor": 0
   }
  }
 },
 "nbformat": 4,
 "nbformat_minor": 4
}
