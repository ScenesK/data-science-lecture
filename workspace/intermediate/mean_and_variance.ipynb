{
 "cells": [
  {
   "cell_type": "code",
   "execution_count": 1,
   "metadata": {},
   "outputs": [],
   "source": [
    "import numpy as np\n",
    "from scipy import stats"
   ]
  },
  {
   "cell_type": "markdown",
   "metadata": {},
   "source": [
    "## 平均 (期待値) と分散の性質\n",
    "---\n",
    "確率変数 $X,\\ Y$ と定数 $c$ の間には以下の関係が成り立つ。\n",
    "\n",
    "$\n",
    "\\begin{align}\n",
    "    E( X+c) & =E( X) +c & ( 1)\\\\\n",
    "    E( cX) & =cE( X) & ( 2)\\\\\n",
    "    E( X+Y) & =E( X) +E( Y) & ( 3)\\\\\n",
    "     &  & \\\\\n",
    "    V( X+c) & =V( X) & ( 4)\\\\\n",
    "    V( cX) & =c^{2} V( X) & ( 5)\\\\\n",
    "    V( X+Y) & =V( X) +2Cov( X,Y) +V( Y) & ( 6)\n",
    "\\end{align}\n",
    "$"
   ]
  },
  {
   "cell_type": "markdown",
   "metadata": {
    "solution2": "hidden",
    "solution2_first": true
   },
   "source": [
    "###### 証明\n",
    "\n",
    "(6) について"
   ]
  },
  {
   "cell_type": "markdown",
   "metadata": {
    "solution2": "hidden"
   },
   "source": [
    "$\n",
    "\\displaystyle \\begin{aligned}\n",
    "    V( X+Y) & =\\frac\n",
    "        {1}\n",
    "        {n}\n",
    "    \\sum ^{n}_{i=1}\\left\\{( X_{i} +Y_{i}) -\\left(\\overline{X} +\\overline{Y}\\right)\\right\\}^{2}\\\\\n",
    "     & \\\\\n",
    "     & =\\frac\n",
    "         {1}\n",
    "         {n}\n",
    "     \\sum ^{n}_{i=1}\\left\\{\\left( X_{i} -\\overline{X}\\right) +\\left( Y_{i} -\\overline{Y}\\right)\\right\\}^{2}\\\\\n",
    "     & \\\\\n",
    "     & =\\frac\n",
    "         {1}\n",
    "         {n}\n",
    "     \\sum ^{n}_{i=1}\\left( X_{i} -\\overline{X}\\right)^{2} +\\frac\n",
    "         {2}\n",
    "         {n}\n",
    "     \\sum ^{n}_{i=1}\\left( X_{i} -\\overline{X}\\right)\\left( Y_{i} -\\overline{Y}\\right) +\\frac\n",
    "         {1}\n",
    "         {n}\n",
    "     \\sum ^{n}_{i=1}\\left( Y_{i} -\\overline{Y}\\right)^{2}\\\\\n",
    "     & \\\\\n",
    "     & =V( X) +2Cov( X,Y) +V( Y)\n",
    "\\end{aligned}\n",
    "$"
   ]
  },
  {
   "cell_type": "markdown",
   "metadata": {},
   "source": [
    "## 分散の計算<a name=\"variance\"></a>\n",
    "---\n",
    "分散 $V(X)=E(X^2)-\\left(E(X)^2\\right)$ で計算できる。"
   ]
  },
  {
   "cell_type": "markdown",
   "metadata": {
    "solution2": "hidden",
    "solution2_first": true
   },
   "source": [
    "###### 証明"
   ]
  },
  {
   "cell_type": "markdown",
   "metadata": {
    "solution2": "hidden"
   },
   "source": [
    "分散の定義 $V(X)=E\\left((X-\\mu)^2\\right)$ より\n",
    "\n",
    "$\n",
    "\\begin{align}\n",
    "    V( X) & =E\\left( X^{2} -2\\mu X+\\mu ^{2}\\right) &  & \\\\\n",
    "     \\\\\n",
    "     & =E\\left( X^{2}\\right) -2\\mu E( X) +\\mu ^{2} &  & \\because ( 1)( 2)( 3)\\\\\n",
    "     \\\\\n",
    "     & =E\\left( X^{2}\\right) -2E( X)^{2} +E( X)^{2} &  & \\because E( X) =\\mu \\\\\n",
    "     \\\\\n",
    "     & =E\\left( X^{2}\\right) -E( X)^{2} &  & \n",
    "\\end{align}\n",
    "$"
   ]
  },
  {
   "cell_type": "markdown",
   "metadata": {},
   "source": [
    "## 分散の加法性\n",
    "---\n",
    "確率変数 $X,\\ Y$ が独立のとき、\n",
    "\n",
    "$V(X\\pm Y)=V(X)+V(Y)$\n",
    "\n",
    "が成り立つ。\n",
    "\n",
    "期待値 $\\mu$ ・分散 $\\sigma^2$ の同一の確率分布に従う複数の確率変数 $X_1,\\ X_2,\\ \\dots,\\ X_n$ の場合には\n",
    "\n",
    "$V(X_1+X_2+\\dots+X_n)=n\\sigma^2$"
   ]
  },
  {
   "cell_type": "markdown",
   "metadata": {},
   "source": [
    "### 練習問題\n",
    "\n",
    "任意の平均・分散の正規分布から標本を抽出し、その和と差の分散をシミュレーションしてみる。"
   ]
  },
  {
   "cell_type": "code",
   "execution_count": null,
   "metadata": {
    "solution2": "hidden",
    "solution2_first": true
   },
   "outputs": [],
   "source": []
  },
  {
   "cell_type": "code",
   "execution_count": 2,
   "metadata": {
    "solution2": "hidden"
   },
   "outputs": [
    {
     "name": "stdout",
     "output_type": "stream",
     "text": [
      "和の分散 : 6.01, 差の分散 : 6.00\n"
     ]
    }
   ],
   "source": [
    "mu = 5\n",
    "sigma2 = 3\n",
    "sigma = np.sqrt(sigma2)\n",
    "size = int(1e6)\n",
    "\n",
    "np.random.seed(1234)\n",
    "X1 = stats.norm(loc=mu, scale=sigma).rvs(size=size)\n",
    "X2 = stats.expon(loc=mu, scale=sigma).rvs(size=size)\n",
    "\n",
    "var_sum = (X1 + X2).var()\n",
    "var_diff = (X1 - X2).var()\n",
    "\n",
    "print(f'和の分散 : {var_sum:.2f}, 差の分散 : {var_diff:.2f}')"
   ]
  }
 ],
 "metadata": {
  "kernelspec": {
   "display_name": "Python 3",
   "language": "python",
   "name": "python3"
  },
  "language_info": {
   "codemirror_mode": {
    "name": "ipython",
    "version": 3
   },
   "file_extension": ".py",
   "mimetype": "text/x-python",
   "name": "python",
   "nbconvert_exporter": "python",
   "pygments_lexer": "ipython3",
   "version": "3.7.4"
  },
  "toc": {
   "base_numbering": 1,
   "nav_menu": {},
   "number_sections": true,
   "sideBar": true,
   "skip_h1_title": true,
   "title_cell": "Table of Contents",
   "title_sidebar": "Contents",
   "toc_cell": false,
   "toc_position": {},
   "toc_section_display": true,
   "toc_window_display": true
  },
  "varInspector": {
   "cols": {
    "lenName": 16,
    "lenType": 16,
    "lenVar": 40
   },
   "kernels_config": {
    "python": {
     "delete_cmd_postfix": "",
     "delete_cmd_prefix": "del ",
     "library": "var_list.py",
     "varRefreshCmd": "print(var_dic_list())"
    },
    "r": {
     "delete_cmd_postfix": ") ",
     "delete_cmd_prefix": "rm(",
     "library": "var_list.r",
     "varRefreshCmd": "cat(var_dic_list()) "
    }
   },
   "types_to_exclude": [
    "module",
    "function",
    "builtin_function_or_method",
    "instance",
    "_Feature"
   ],
   "window_display": false
  }
 },
 "nbformat": 4,
 "nbformat_minor": 2
}
