{
 "cells": [
  {
   "cell_type": "code",
   "execution_count": 1,
   "metadata": {},
   "outputs": [],
   "source": [
    "%matplotlib inline"
   ]
  },
  {
   "cell_type": "markdown",
   "metadata": {},
   "source": [
    "## 最尤法・最尤推定\n",
    "---\n",
    "最尤法とは、関数 $f(x)$ から元のデータの組み合わせ $(X_i,\\ y_i)\\ (i=1,\\ 2,\\dots,\\ n)$ が再現される確率 (尤度) を最大化するように $f(x)$ のパラメーターを決める方法。"
   ]
  },
  {
   "cell_type": "markdown",
   "metadata": {},
   "source": [
    "## 確率回帰モデル (ロジスティック回帰)\n",
    "---\n",
    "累積分布関数を $F(x)$ とし、あるデータ $X_{i}\\ (x_{i1} ,\\ x_{i2} ,\\dots,\\ x_{in} )$ が与えられたときに $y_{i} =1$ となる確率を $P(y_{i} =1\\ |\\ X_{i} )=F(a+b_{1} x_{i1} +b_{2} x_{i2}+\\dots +b_{k} x_{ik})$ と表すと、 $P(y_{i} =0\\ |\\ X_{i})=1-P(y_{i} =1\\ |\\ X_{i} )$ なので、尤度は以下の尤度関数 $L$ で表せる。\n",
    "\n",
    "$\n",
    "L( a\\ b_{1} ,\\ b_{2} ,\\dots ,\\ b_{k}) ={\\displaystyle \\prod _{\\{i\\ |\\ y_{i} =1\\}} F( a+b_{1} x_{i1} +b_{2} x_{i2} +\\dots +b_{k} x_{ik}) \\cdot \\prod _{\\{i\\ |\\ y_{i} =0\\}}[ 1-F( a+b_{1} x_{i1} +b_{2} x_{i2} +\\dots +b_{k} x_{ik})]} \n",
    "$\n",
    "\n",
    "確率の積の形では値が小さくなりすぎて、コンピュータで計算しにくいので対数をとって\n",
    "\n",
    "$\n",
    "log\\ L( a\\ b_{1} ,\\ b_{2} ,\\dots ,\\ b_{k}) ={\\displaystyle \\sum _{\\{i\\ |\\ y_{i} =1\\}} log\\ F( a+b_{1} x_{i1} +b_{2} x_{i2} +\\dots +b_{k} x_{ik}) +\\sum _{\\{i\\ |\\ y_{i} =0\\}}[ 1-F( a+b_{1} x_{i1} +b_{2} x_{i2} +\\dots +b_{k} x_{ik})]} \n",
    "$\n",
    "\n",
    "$y_{i} =1$ のとき $y_{i} =1,\\ 1-y_{i} =0$ 、 $y_{i} =0$ のとき $y_{i} =0,\\ 1-y_{i} =1$ なので、これを利用すると\n",
    "\n",
    "$\n",
    "log\\ L( a\\ b_{1} ,\\ b_{2} ,\\dots ,\\ b_{k}) ={\\displaystyle \\sum ^{n}_{i=1}\\{y_{i} \\ log\\ log\\ F( a+b_{1} x_{i1} +b_{2} x_{i2} +\\dots +b_{k} x_{ik}) +( 1-y_{i}) log\\ [ 1-F( a+b_{1} x_{i1} +b_{2} x_{i2} +\\dots +b_{k} x_{ik})]\\}} \n",
    "$\n",
    "\n",
    "とまとめられる。\n",
    "\n",
    "この対数尤度 $log\\ L$ を最大化するパラメータ $a,\\ b_{1} ,\\ b_{2} ,\\dots ,\\ b_{k}$ をパラメーターの推定値とするのが最尤法。"
   ]
  },
  {
   "cell_type": "markdown",
   "metadata": {},
   "source": [
    "## 線形回帰モデル\n",
    "---\n",
    "誤差項 $\\epsilon_{i}$ の分布を平均 $0$ ・分散 $\\sigma ^{2}$ の正規分布 $N(0, \\sigma ^{2})$ とすると、あるデータ $X_{i}\\ (x_{1} ,\\ x_{2} ,\\dots,\\ x_{n} )$ が与えられたときに $\\hat{y}=y_{i}$ となる確率 $P(y_{i}\\ |\\ X_{i})$ は、正規分布の確率密度関数 $\n",
    "f( x) ={\\displaystyle \\frac\n",
    "    {1}\n",
    "    {\\sqrt{2\\pi \\sigma ^{2}}}\n",
    "exp\\left( -\\frac\n",
    "    {( x-\\mu )^{2}}\n",
    "    {2\\sigma ^{2}}\n",
    "\\right)} \n",
    "$ を用いて\n",
    "\n",
    "$\n",
    "P( y_{i} \\ |\\ X_{i}) ={\\displaystyle \\frac\n",
    "    {1}\n",
    "    {\\sqrt{2\\pi \\sigma ^{2}}}\n",
    "exp\\left( -\\frac\n",
    "    {( y_{i} -f( X_{i}))^{2}}\n",
    "    {2\\sigma ^{2}}\n",
    "\\right)} \n",
    "$\n",
    "\n",
    "と表せる。"
   ]
  },
  {
   "cell_type": "code",
   "execution_count": 2,
   "metadata": {
    "hide_input": true
   },
   "outputs": [
    {
     "data": {
      "image/png": "[encoded data removed]",
      "text/plain": [
       "<Figure size 288x288 with 1 Axes>"
      ]
     },
     "metadata": {},
     "output_type": "display_data"
    }
   ],
   "source": [
    "from helpers.maximum_likelihood_estimation import linear_regression\n",
    "linear_regression.show()"
   ]
  },
  {
   "cell_type": "markdown",
   "metadata": {},
   "source": [
    "尤度関数は $L( X_{i}) ={\\displaystyle \\prod ^{n}_{i=1} P( y_{i} \\ |\\ X_{i})}\n",
    "$ なので、対数尤度関数は\n",
    "\n",
    "$\n",
    "\\begin{align*}\n",
    "    log\\ L( X_{i}) & =\\sum ^{n}_{i=1} log\\ P( y_{i} \\ |\\ X_{i})\\\\\n",
    "     & =\\sum ^{n}_{i=1} log\\left[\\frac\n",
    "         {1}\n",
    "         {\\sqrt{2\\pi \\sigma ^{2}}}\n",
    "     exp\\left({\\displaystyle -\\frac\n",
    "         {( y_{i} -f( X_{i}))^{2}}\n",
    "         {2\\sigma ^{2}}\n",
    "     } \\right)\\right]\\\\\n",
    "     & =n\\ log\\frac\n",
    "         {1}\n",
    "         {\\sqrt{2\\pi \\sigma ^{2}}}\n",
    "     -\\sum ^{n}_{i=1}\\frac\n",
    "         {( y_{i} -f( X_{i}))^{2}}\n",
    "         {2\\sigma ^{2}}\n",
    "\\end{align*}\n",
    "$\n",
    "\n",
    "したがって、尤度関数を最大化するためには $( y_{i} -f( X_{i}))^{2}$ が最小となるパラメーターを求めれば良い。\n",
    "\n",
    "これは、 $( y_{i} -f( X_{i}))^{2}=e^{2}_{i}$ なので、最小二乗法の結果と一致する。"
   ]
  }
 ],
 "metadata": {
  "kernelspec": {
   "display_name": "Python 3",
   "language": "python",
   "name": "python3"
  },
  "language_info": {
   "codemirror_mode": {
    "name": "ipython",
    "version": 3
   },
   "file_extension": ".py",
   "mimetype": "text/x-python",
   "name": "python",
   "nbconvert_exporter": "python",
   "pygments_lexer": "ipython3",
   "version": "3.7.4"
  },
  "toc": {
   "base_numbering": 1,
   "nav_menu": {},
   "number_sections": true,
   "sideBar": true,
   "skip_h1_title": true,
   "title_cell": "Table of Contents",
   "title_sidebar": "Contents",
   "toc_cell": false,
   "toc_position": {},
   "toc_section_display": true,
   "toc_window_display": true
  },
  "varInspector": {
   "cols": {
    "lenName": 16,
    "lenType": 16,
    "lenVar": 40
   },
   "kernels_config": {
    "python": {
     "delete_cmd_postfix": "",
     "delete_cmd_prefix": "del ",
     "library": "var_list.py",
     "varRefreshCmd": "print(var_dic_list())"
    },
    "r": {
     "delete_cmd_postfix": ") ",
     "delete_cmd_prefix": "rm(",
     "library": "var_list.r",
     "varRefreshCmd": "cat(var_dic_list()) "
    }
   },
   "types_to_exclude": [
    "module",
    "function",
    "builtin_function_or_method",
    "instance",
    "_Feature"
   ],
   "window_display": false
  }
 },
 "nbformat": 4,
 "nbformat_minor": 2
}
