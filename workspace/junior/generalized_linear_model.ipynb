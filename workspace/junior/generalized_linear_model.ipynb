{
 "cells": [
  {
   "cell_type": "code",
   "execution_count": 1,
   "metadata": {},
   "outputs": [],
   "source": [
    "import numpy as np\n",
    "import pandas as pd\n",
    "import statsmodels.api as sm\n",
    "from sklearn.linear_model import PoissonRegressor, GammaRegressor\n",
    "import matplotlib.pyplot as plt\n",
    "from IPython.display import Image, display\n",
    "pd.set_option('max_rows', 5)\n",
    "%matplotlib inline"
   ]
  },
  {
   "cell_type": "markdown",
   "metadata": {},
   "source": [
    "## 一般化線形モデル\n",
    "---\n",
    "以下の3つの組み合わせで表現された統計モデル。\n",
    "\n",
    "- 目的変数の確率分布\n",
    "- 線形予測子\n",
    "- リンク関数\n",
    "\n",
    "線形予測子とは、説明変数 $x_{1} ,x_{2} ,\\cdots $ があったときに $a_{1} x_{1} +a_{2} x_{2} +\\cdots $ のように係数×説明変数の和で表されるもの。以下では切片項も加えた線形予測子 $z=a_{0} +a_{1} x_{1} +a_{2} x_{2} +\\cdots $ とする。\n",
    "\n",
    "線形予測子は $-\\infty \\sim \\infty $ の範囲のあらゆる実数をとりうるが、目的変数は正の数などの限られた範囲しか取らない場合がある。そこで、線形予測子 $z$ を目的変数の範囲内に限定する $y=f( z)$ となる関数 $f$ が必要となる (他の目的の場合もある) が、この関数 $f$ の逆関数がリンク関数である。つまり、リンク関数とは目的変数 $y$ を線形予測子 $z$ に変換する関数。  \n",
    "逆関数とは、 $y=f( x)$ という関数 $f$ に対して、 $x=g( y)$ となるような関数 $g$ のこと。"
   ]
  },
  {
   "cell_type": "code",
   "execution_count": 2,
   "metadata": {
    "hide_input": true
   },
   "outputs": [
    {
     "data": {
      "image/png": "[encoded data removed]",
      "text/plain": [
       "<IPython.core.display.Image object>"
      ]
     },
     "execution_count": 2,
     "metadata": {},
     "output_type": "execute_result"
    }
   ],
   "source": [
    "from my_functions.generalized_linear_model import path_diagram\n",
    "\n",
    "Image(path_diagram.get())"
   ]
  },
  {
   "cell_type": "markdown",
   "metadata": {},
   "source": [
    "## 一般化線形モデルの例\n",
    "---\n",
    "確率分布やリンク関数の組み合わせは多数考えられるが、多く使われるものは限られているので以下に一部を紹介する。"
   ]
  },
  {
   "cell_type": "markdown",
   "metadata": {},
   "source": [
    "### 回帰分析 (regression analysis)\n",
    "---\n",
    "回帰分析は、1つの変数 $y$ を他の変数 $x$ で説明しようとするもの。 $x$ が1変数だけの場合を単回帰分析、2変数以上の場合を重回帰分析という。\n",
    "\n",
    "$y=a_{0} +a_{1} x_{1} +a_{2} x_{2} +\\cdots +\\epsilon $\n",
    "\n",
    "<table class=\"text-center border\">\n",
    "    <tr class=\"background-dark\">\n",
    "        <th class=\"border-right-bold\" rowspan=\"2\"></th>\n",
    "        <th rowspan=\"2\">概要</th>\n",
    "        <th rowspan=\"2\">$y$ の呼び方</th>\n",
    "        <th class=\"border-right-none\" rowspan=\"2\">$x$ の呼び方</th>\n",
    "        <th class=\"border-bottom border-left-none\" colspan=\"2\"></th>\n",
    "    </tr>\n",
    "    <tr class=\"background-dark\">\n",
    "        <th>変数の数</th>\n",
    "        <th>分析の名称</th>\n",
    "    </tr>\n",
    "    <tr class=\"background-bright\">\n",
    "        <th class=\"background-dark border-right-bold border-bottom\" rowspan=\"2\">回帰分析</th>\n",
    "        <td class=\"text-left\" rowspan=\"2\">1つの変数を他の変数で説明する</td>\n",
    "        <td rowspan=\"2\">従属変数<br />被説明変数<br />内生変数</td>\n",
    "        <td rowspan=\"2\">独立変数<br />説明変数<br />外生変数</td>\n",
    "        <td>1つ</td>\n",
    "        <td>単回帰分析</td>\n",
    "    </tr>\n",
    "    <tr class=\"background-bright\">\n",
    "        <td>複数</td>\n",
    "        <td>重回帰分析</td>\n",
    "    </tr>\n",
    "    <tr class=\"background-bright\">\n",
    "        <th class=\"background-dark border-right-bold border-bottom\">相関分析</th>\n",
    "        <td class=\"text-left\">変数間の関係の有無を調べる</td>\n",
    "    </tr>\n",
    "</table>\n",
    "\n",
    "誤差項 $\\epsilon $ に正規分布を仮定した回帰分析は、一般化線形モデルでは以下のように表される。 ( $i$ は各サンプルを表す添え字で $i=1,2,\\cdots ,n$ )\n",
    "\n",
    "<table class=\"text-center\">\n",
    "    <tr>\n",
    "        <th>確率分布</th>\n",
    "        <td class=\"text-left\">正規分布 $\\mathcal{N}\\left( \\mu ,\\sigma ^{2}\\right)$</td>\n",
    "    </tr>\n",
    "    <tr>\n",
    "        <th>リンク関数</th>\n",
    "        <td class=\"text-left\">\n",
    "            恒等関数 $g( x) =x$<br /><br />\n",
    "            線形予測子からの変換 (リンク関数の逆関数) は<br />\n",
    "            恒等関数 $f( x) =x$\n",
    "        </td>\n",
    "    </tr>\n",
    "    <tr>\n",
    "        <th>モデル式</th>\n",
    "        <td class=\"text-left\">\n",
    "            $y_{i} \\sim \\mathcal{N}\\left( z_{i} ,\\sigma ^{2}\\right)$<br />\n",
    "            または<br />\n",
    "            $\n",
    "            \\begin{cases}\n",
    "                y_{i} =z_{i} +\\epsilon \\\\\n",
    "                \\epsilon \\sim \\mathcal{N}\\left( 0,\\sigma ^{2}\\right)\n",
    "            \\end{cases}\n",
    "            $\n",
    "        </td>\n",
    "    </tr>\n",
    "</table>\n",
    "\n",
    "このとき、モデル式 $y_{i} \\sim \\mathcal{N}\\left( z_{i} ,\\sigma ^{2}\\right)$ から明らかなように線形結合子 $z_{i}$ は $y_{i}$ の期待値 (平均) を表す。"
   ]
  },
  {
   "cell_type": "code",
   "execution_count": 3,
   "metadata": {
    "hide_input": true
   },
   "outputs": [
    {
     "data": {
      "image/png": "[encoded data removed]",
      "text/plain": [
       "<Figure size 288x288 with 1 Axes>"
      ]
     },
     "metadata": {},
     "output_type": "display_data"
    }
   ],
   "source": [
    "from my_functions.generalized_linear_model import linear_regression\n",
    "linear_regression.show()"
   ]
  },
  {
   "cell_type": "markdown",
   "metadata": {},
   "source": [
    "### 分散分析 (ANOVA, Analysis of Variance)\n",
    "---\n",
    "分散分析は、複数の群 (カテゴリ) 間の効果 (平均) に差があるかを解明しようとするもの。説明変数 $x$ は全てカテゴリ変数で、 $x$ が1つだけのものを一元配置分散分析・2つのものを二元配置分散分析という。 (2つ以上のものをまとめて多元配置分散分析ともいう)\n",
    "\n",
    "$y=a_{0} +a_{1} x_{1} +a_{2} x_{2} +\\cdots +\\epsilon $\n",
    "\n",
    "分散分析は、一般化線形モデルでは回帰分析と同様に以下のように表される。\n",
    "\n",
    "<table class=\"text-center\">\n",
    "    <tr>\n",
    "        <th>確率分布</th>\n",
    "        <td class=\"text-left\">正規分布 $\\mathcal{N}\\left( \\mu ,\\sigma ^{2}\\right)$</td>\n",
    "    </tr>\n",
    "    <tr>\n",
    "        <th>リンク関数</th>\n",
    "        <td class=\"text-left\">\n",
    "            恒等関数 $g( x) =x$<br /><br />\n",
    "            線形予測子からの変換 (リンク関数の逆関数) は<br />\n",
    "            恒等関数 $f( x) =x$\n",
    "        </td>\n",
    "    </tr>\n",
    "    <tr>\n",
    "        <th>モデル式</th>\n",
    "        <td class=\"text-left\">\n",
    "            $y_{i} \\sim \\mathcal{N}\\left( z_{i} ,\\sigma ^{2}\\right)$<br />\n",
    "            または<br />\n",
    "            $\n",
    "            \\begin{cases}\n",
    "                y_{i} =z_{i} +\\epsilon \\\\\n",
    "                \\epsilon \\sim \\mathcal{N}\\left( 0,\\sigma ^{2}\\right)\n",
    "            \\end{cases}\n",
    "            $\n",
    "        </td>\n",
    "    </tr>\n",
    "</table>\n",
    "\n",
    "具体的に、3つのカテゴリ (赤・緑・青) を持つ説明変数 $x$ が1つだけの場合を考えてみる。  \n",
    "$x$ をダミー変数にすると以下のようになる。\n",
    "\n",
    "<table class=\"border\">\n",
    "    <tr>\n",
    "        <th class=\"border-right-bold\">$x$</th>\n",
    "        <th>$x_{1}$ (緑を表す)</th>\n",
    "        <th>$x_{2}$ (青を表す)</th>\n",
    "    </tr>\n",
    "    <tr>\n",
    "        <td class=\"border-right-bold\">赤</td>\n",
    "        <td>0</td>\n",
    "        <td>0</td>\n",
    "    </tr>\n",
    "    <tr>\n",
    "        <td class=\"border-right-bold\">緑</td>\n",
    "        <td>1</td>\n",
    "        <td>0</td>\n",
    "    </tr>\n",
    "    <tr>\n",
    "        <td class=\"border-right-bold\">青</td>\n",
    "        <td>0</td>\n",
    "        <td>1</td>\n",
    "    </tr>\n",
    "</table>\n",
    "\n",
    "これに基づく回帰式は $y=a_{0} +a_{1} x_{1} +a_{2} x_{2}$ になり、それぞれの値を代入してみると\n",
    "\n",
    "<table class=\"text-center border\">\n",
    "    <tr>\n",
    "        <th class=\"border-right-bold\">$x$</th>\n",
    "        <th style=\"min-width: 7.5em;\">回帰式</th>\n",
    "        <th style=\"min-width: 12em;\">確率分布</th>\n",
    "    </tr>\n",
    "    <tr>\n",
    "        <td class=\"border-right-bold\">赤</td>\n",
    "        <td class=\"text-left\">$y=a_{0}$</td>\n",
    "        <td class=\"text-left\">$y_{i} \\sim \\mathcal{N}\\left( a_{0} ,\\sigma ^{2}\\right)$</td>\n",
    "    </tr>\n",
    "    <tr>\n",
    "        <td class=\"border-right-bold\">緑</td>\n",
    "        <td class=\"text-left\">$y=a_{0} +a_{1}$</td>\n",
    "        <td>$y_{i} \\sim \\mathcal{N}\\left( a_{0} +a_{1} ,\\sigma ^{2}\\right)$</td>\n",
    "    </tr>\n",
    "    <tr>\n",
    "        <td class=\"border-right-bold\">青</td>\n",
    "        <td class=\"text-left\">$y=a_{0} +a_{2}$</td>\n",
    "        <td>$y_{i} \\sim \\mathcal{N}\\left( a_{0} +a_{2} ,\\sigma ^{2}\\right)$</td>\n",
    "    </tr>\n",
    "</table>\n",
    "\n",
    "となり、それぞれの係数 (の和) が各群の期待値の違いを表している。"
   ]
  },
  {
   "cell_type": "code",
   "execution_count": 4,
   "metadata": {
    "hide_input": true
   },
   "outputs": [
    {
     "data": {
      "image/png": "[encoded data removed]",
      "text/plain": [
       "<Figure size 288x288 with 1 Axes>"
      ]
     },
     "metadata": {
      "needs_background": "light"
     },
     "output_type": "display_data"
    }
   ],
   "source": [
    "from my_functions.generalized_linear_model import anova\n",
    "anova.show()"
   ]
  },
  {
   "cell_type": "markdown",
   "metadata": {},
   "source": [
    "上のグラフは分布が見やすいようにサンプルを少しずつずらして表示してあるが、実際には各群のサンプルは一直線上に並ぶ。"
   ]
  },
  {
   "cell_type": "markdown",
   "metadata": {},
   "source": [
    "### ポアソン回帰 (Poisson regression)\n",
    "---\n",
    "ポアソン回帰は、目的変数 $y$ が[ポアソン分布](../beginner/distribution.ipynb#%E3%83%9D%E3%82%A2%E3%82%BD%E3%83%B3%E5%88%86%E5%B8%83-(poisson-distribution))に従うと考えられる場合に使用する。  \n",
    "実際には、目的変数がカウントデータ (0以上の整数) の場合に広く検討される。\n",
    "\n",
    "ポアソン回帰は、一般化線形モデルでは以下のように表される。\n",
    "\n",
    "<table class=\"text-center\">\n",
    "    <tr>\n",
    "        <th>確率分布</th>\n",
    "        <td class=\"text-left\">ポアソン分布 $\\mathcal{Poisson}\\left( \\lambda\\right)$</td>\n",
    "    </tr>\n",
    "    <tr>\n",
    "        <th>リンク関数</th>\n",
    "        <td class=\"text-left\">\n",
    "            対数関数 $g( x) =log( x)$<br /><br />\n",
    "            線形予測子からの変換 (リンク関数の逆関数) は<br />\n",
    "            指数関数 $f( x) =e^{x}$\n",
    "        </td>\n",
    "    </tr>\n",
    "    <tr>\n",
    "        <th>モデル式</th>\n",
    "        <td class=\"text-left\">$y_{i} \\sim \\mathcal{Poisson}\\left( e^{z_{i}}\\right)$</td>\n",
    "    </tr>\n",
    "</table>"
   ]
  },
  {
   "cell_type": "code",
   "execution_count": 5,
   "metadata": {
    "hide_input": true
   },
   "outputs": [
    {
     "data": {
      "image/png": "[encoded data removed]",
      "text/plain": [
       "<Figure size 288x288 with 1 Axes>"
      ]
     },
     "metadata": {
      "needs_background": "light"
     },
     "output_type": "display_data"
    }
   ],
   "source": [
    "from my_functions.generalized_linear_model import poisson_regression\n",
    "\n",
    "poisson_regression.show()"
   ]
  },
  {
   "cell_type": "markdown",
   "metadata": {},
   "source": [
    "ポアソン回帰が想定するデータ分布の例"
   ]
  },
  {
   "cell_type": "code",
   "execution_count": 6,
   "metadata": {
    "hide_input": true
   },
   "outputs": [
    {
     "data": {
      "image/png": "[encoded data removed]",
      "text/plain": [
       "<Figure size 288x288 with 1 Axes>"
      ]
     },
     "metadata": {},
     "output_type": "display_data"
    }
   ],
   "source": [
    "from my_functions.generalized_linear_model import poisson_distribution\n",
    "\n",
    "poisson_distribution.show()"
   ]
  },
  {
   "cell_type": "markdown",
   "metadata": {},
   "source": [
    "#### ポアソン回帰モデルとリンク関数の関係\n",
    "---\n",
    "ポアソン回帰モデルでリンク関数に対数関数が使われるのは、ポアソン分布のパラメータである**期待値 $\\lambda$ を正の値に制限する**という理由が大きい。  \n",
    "しかし、対数関数を用いることでポアソン回帰モデルはデータに対して以下の仮定を置くことになる。\n",
    "\n",
    "- 各説明変数 $x_{1} ,x_{2} ,\\cdots $ 同士は**積の関係**になる\n",
    " - $\\lambda =exp( a_{1} x_{1} +a_{2} x_{2} +\\cdots ) =e^{a_{1} x_{1}} \\times e^{a_{2} x_{2}} \\times \\cdots $\n",
    " - リンク関数に恒等関数を用いた場合は $\\displaystyle \\lambda =a_{1} x_{1} +a_{2} x_{2} +\\cdots $ (ただし、 $\\lambda$ が負の値になりうることに注意が必要)\n",
    "- 説明変数 $x$ と 目的変数の期待値 $\\lambda$ の関係は非線形になる"
   ]
  },
  {
   "cell_type": "markdown",
   "metadata": {},
   "source": [
    "### ロジスティック回帰 (ロジットモデル)\n",
    "---\n",
    "ロジスティック回帰は、目的変数 $y$ が[二項分布](../beginner/distribution.ipynb#%E4%BA%8C%E9%A0%85%E5%88%86%E5%B8%83-(binomial-distribution))に従うと考えられる場合に使用する。  \n",
    "実際には、目的変数が上限のあるカウントデータ (0~1の割合で表せるデータ) の場合に広く検討される。\n",
    "\n",
    "ロジスティック回帰は、一般化線形モデルでは以下のように表される。 ( $n$ はカウントの上限)\n",
    "\n",
    "<table class=\"text-center\">\n",
    "    <tr>\n",
    "        <th>確率分布</th>\n",
    "        <td class=\"text-left\">二項分布 $\\mathcal{B}( n,p)$</td>\n",
    "    </tr>\n",
    "    <tr>\n",
    "        <th>リンク関数</th>\n",
    "        <td class=\"text-left\">\n",
    "            ロジット関数 $\n",
    "                \\displaystyle g( x) =log\\left(\\frac\n",
    "                    {x}\n",
    "                    {1-x}\n",
    "                \\right)\n",
    "            $<br /><br />\n",
    "            線形予測子からの変換 (リンク関数の逆関数) は<br />\n",
    "            ロジスティック関数 $\n",
    "            \\displaystyle f( x) =\\frac\n",
    "                {1}\n",
    "                {1+e^{-x}}\n",
    "            $\n",
    "        </td>\n",
    "    </tr>\n",
    "    <tr>\n",
    "        <th>モデル式</th>\n",
    "        <td class=\"text-left\">\n",
    "            $\n",
    "            \\displaystyle y_{i} \\sim \\mathcal{B}\\left( n,\\frac\n",
    "                {1}\n",
    "                {1+e^{-z_{i}}}\n",
    "            \\right)\n",
    "            $\n",
    "        </td>\n",
    "    </tr>\n",
    "</table>"
   ]
  },
  {
   "cell_type": "code",
   "execution_count": 7,
   "metadata": {
    "hide_input": true
   },
   "outputs": [
    {
     "data": {
      "image/png": "[encoded data removed]",
      "text/plain": [
       "<Figure size 288x288 with 1 Axes>"
      ]
     },
     "metadata": {
      "needs_background": "light"
     },
     "output_type": "display_data"
    }
   ],
   "source": [
    "from my_functions.generalized_linear_model import logistic_regression\n",
    "\n",
    "logistic_regression.show()"
   ]
  },
  {
   "cell_type": "markdown",
   "metadata": {},
   "source": [
    "ロジスティック回帰が想定するデータ分布の例"
   ]
  },
  {
   "cell_type": "code",
   "execution_count": 8,
   "metadata": {
    "hide_input": true
   },
   "outputs": [
    {
     "data": {
      "image/png": "[encoded data removed]",
      "text/plain": [
       "<Figure size 288x288 with 1 Axes>"
      ]
     },
     "metadata": {},
     "output_type": "display_data"
    }
   ],
   "source": [
    "from my_functions.generalized_linear_model import logistic_distribution\n",
    "\n",
    "logistic_distribution.show(100)"
   ]
  },
  {
   "cell_type": "markdown",
   "metadata": {},
   "source": [
    "特に目的変数 $y$ が2値のカテゴリ変数の場合"
   ]
  },
  {
   "cell_type": "code",
   "execution_count": 9,
   "metadata": {
    "hide_input": true
   },
   "outputs": [
    {
     "data": {
      "image/png": "[encoded data removed]",
      "text/plain": [
       "<Figure size 288x288 with 1 Axes>"
      ]
     },
     "metadata": {},
     "output_type": "display_data"
    }
   ],
   "source": [
    "logistic_distribution.show(1)"
   ]
  },
  {
   "cell_type": "markdown",
   "metadata": {},
   "source": [
    "### プロビットモデル (probit model)\n",
    "---\n",
    "プロビットモデルは、ロジットモデルと同様に目的変数 $y$ が[二項分布](../beginner/distribution.ipynb#%E4%BA%8C%E9%A0%85%E5%88%86%E5%B8%83-(binomial-distribution))に従うと考えられる場合に使用する。\n",
    "\n",
    "プロビットモデルは、一般化線形モデルでは以下のように表される。 ( $\\Phi $ は標準正規分布の累積分布関数で $\\displaystyle \\Phi ^{-1}$ はその逆関数)\n",
    "\n",
    "<table class=\"text-center\">\n",
    "    <tr>\n",
    "        <th>確率分布</th>\n",
    "        <td class=\"text-left\">二項分布 $\\mathcal{B}( n,p)$</td>\n",
    "    </tr>\n",
    "    <tr>\n",
    "        <th>リンク関数</th>\n",
    "        <td class=\"text-left\">\n",
    "            プロビット関数 $g( x) =\\Phi ^{-1}( x)$<br /><br />\n",
    "            線形予測子からの変換 (リンク関数の逆関数) は<br />\n",
    "            標準正規分布累積関数 $f( x) =\\Phi ( x)$\n",
    "        </td>\n",
    "    </tr>\n",
    "    <tr>\n",
    "        <th>モデル式</th>\n",
    "        <td class=\"text-left\">$y_{i} \\sim B( n,\\Phi ( z_{i}))$</td>\n",
    "    </tr>\n",
    "</table>\n",
    "\n",
    "ロジットモデルとプロビットモデルの違いは、線形予測子からの変換 (確率 $p$ への変換) にロジスティック分布を使用するか正規分布を使用するかにある。"
   ]
  },
  {
   "cell_type": "markdown",
   "metadata": {},
   "source": [
    "### その他の確率分布\n",
    "---\n",
    "その他、`statsmodels`で利用可能な主な確率分布とその確率分布にデフォルトで適用されるリンク関数の組み合わせは以下の通り。\n",
    "\n",
    "<table class=\"text-center border\">\n",
    "    <tr>\n",
    "        <th style=\"min-width: 7.5em;\">確率分布</th>\n",
    "        <th>確率分布の説明</th>\n",
    "        <th style=\"min-width: 22.5em;\">リンク関数</th>\n",
    "        <th style=\"min-width: 11.5em;\">モデル式</th>\n",
    "    </tr>\n",
    "    <tr>\n",
    "        <td>\n",
    "            負の二項分布<br />\n",
    "            $\\mathcal{NB}( n,p)$\n",
    "        </td>\n",
    "        <td class=\"text-left\">成功確率 $p$ のベルヌーイ試行で $n$ 回成功するのに必要な試行回数の分布</td>\n",
    "        <td class=\"text-left\">対数関数 $g( x) =log( x)$<br /><br />\n",
    "            線形予測子からの変換 (リンク関数の逆関数) は<br />\n",
    "            指数関数 $f( x) =e^{x}$\n",
    "        </td>\n",
    "        <td class=\"text-left\">\n",
    "            $\n",
    "            \\displaystyle y_{i} \\sim \\mathcal{NB}\\left( n,\\frac\n",
    "                {1}\n",
    "                {1+ne^{-z_{i}}}\n",
    "            \\right)\n",
    "            $\n",
    "        </td>\n",
    "    </tr>\n",
    "    <tr>\n",
    "        <td>\n",
    "            ガンマ分布<br />\n",
    "            $\\mathcal{Ga}( n,\\theta )$\n",
    "        </td>\n",
    "        <td class=\"text-left\">単位時間あたり平均 $\\theta$ 回成功するベルヌーイ試行で $n$ 回成功するのに必要な時間の分布</td>\n",
    "        <td class=\"text-left\">\n",
    "            逆数関数 $\n",
    "            \\displaystyle g( x) =\\frac\n",
    "                {1}\n",
    "                {x}\n",
    "            $<br /><br />\n",
    "            線形予測子からの変換  (リンク関数の逆関数) は<br />\n",
    "            逆数関数 $\n",
    "            \\displaystyle f( x) =\\frac\n",
    "                {1}\n",
    "                {x}\n",
    "            $\n",
    "        </td>\n",
    "        <td class=\"text-left\">\n",
    "            $\n",
    "            \\displaystyle y_{i} \\sim Ga\\left( n,\\frac\n",
    "                {1}\n",
    "                {nz_{i}}\n",
    "            \\right)\n",
    "            $\n",
    "        </td>\n",
    "    </tr>\n",
    "</table>\n",
    "\n",
    "ガンマ分布のリンク関数は逆数関数では扱いづらい (負になる可能性がある) ので、対数関数もよく使用される。\n",
    "\n",
    "`scipy.stats.gamma`の場合、引数`a=n, scale=1/theta`の関係になる。"
   ]
  },
  {
   "cell_type": "markdown",
   "metadata": {},
   "source": [
    "## Pythonでの一般化線形モデルの実行方法\n",
    "---\n",
    "`statsmodels.genmod.generalized_linear_model.GLM`を用いる。引数`family`で確率分布を指定する。  \n",
    "ロジスティック回帰のみ、`endog` (目的変数) に成功数・失敗数の2列を与える必要がある。\n",
    "\n",
    "[一部のモデル](https://scikit-learn.org/stable/modules/classes.html#generalized-linear-models-glm-for-regression)は`sklearn.linear_model`からも利用可能。"
   ]
  },
  {
   "cell_type": "code",
   "execution_count": 10,
   "metadata": {},
   "outputs": [],
   "source": [
    "sm.GLM??"
   ]
  },
  {
   "cell_type": "code",
   "execution_count": 11,
   "metadata": {
    "hide_input": true
   },
   "outputs": [
    {
     "name": "stdout",
     "output_type": "stream",
     "text": [
      "scotland\n"
     ]
    },
    {
     "data": {
      "text/html": [
       "<div>\n",
       "<style scoped>\n",
       "    .dataframe tbody tr th:only-of-type {\n",
       "        vertical-align: middle;\n",
       "    }\n",
       "\n",
       "    .dataframe tbody tr th {\n",
       "        vertical-align: top;\n",
       "    }\n",
       "\n",
       "    .dataframe thead th {\n",
       "        text-align: right;\n",
       "    }\n",
       "</style>\n",
       "<table border=\"1\" class=\"dataframe\">\n",
       "  <thead>\n",
       "    <tr style=\"text-align: right;\">\n",
       "      <th></th>\n",
       "      <th>YES</th>\n",
       "      <th>COUTAX</th>\n",
       "      <th>UNEMPF</th>\n",
       "      <th>MOR</th>\n",
       "      <th>ACT</th>\n",
       "      <th>GDP</th>\n",
       "      <th>AGE</th>\n",
       "      <th>COUTAX_FEMALEUNEMP</th>\n",
       "    </tr>\n",
       "  </thead>\n",
       "  <tbody>\n",
       "    <tr>\n",
       "      <th>0</th>\n",
       "      <td>60.3</td>\n",
       "      <td>712.0</td>\n",
       "      <td>21.0</td>\n",
       "      <td>105.0</td>\n",
       "      <td>82.4</td>\n",
       "      <td>13566.0</td>\n",
       "      <td>12.3</td>\n",
       "      <td>14952.0</td>\n",
       "    </tr>\n",
       "    <tr>\n",
       "      <th>1</th>\n",
       "      <td>52.3</td>\n",
       "      <td>643.0</td>\n",
       "      <td>26.5</td>\n",
       "      <td>97.0</td>\n",
       "      <td>80.2</td>\n",
       "      <td>13566.0</td>\n",
       "      <td>15.3</td>\n",
       "      <td>17039.5</td>\n",
       "    </tr>\n",
       "    <tr>\n",
       "      <th>...</th>\n",
       "      <td>...</td>\n",
       "      <td>...</td>\n",
       "      <td>...</td>\n",
       "      <td>...</td>\n",
       "      <td>...</td>\n",
       "      <td>...</td>\n",
       "      <td>...</td>\n",
       "      <td>...</td>\n",
       "    </tr>\n",
       "    <tr>\n",
       "      <th>30</th>\n",
       "      <td>74.7</td>\n",
       "      <td>978.0</td>\n",
       "      <td>19.3</td>\n",
       "      <td>130.0</td>\n",
       "      <td>71.5</td>\n",
       "      <td>9483.0</td>\n",
       "      <td>15.3</td>\n",
       "      <td>18875.4</td>\n",
       "    </tr>\n",
       "    <tr>\n",
       "      <th>31</th>\n",
       "      <td>67.3</td>\n",
       "      <td>792.0</td>\n",
       "      <td>21.2</td>\n",
       "      <td>126.0</td>\n",
       "      <td>82.2</td>\n",
       "      <td>12656.0</td>\n",
       "      <td>15.1</td>\n",
       "      <td>16790.4</td>\n",
       "    </tr>\n",
       "  </tbody>\n",
       "</table>\n",
       "<p>32 rows × 8 columns</p>\n",
       "</div>"
      ],
      "text/plain": [
       "     YES  COUTAX  UNEMPF    MOR   ACT      GDP   AGE  COUTAX_FEMALEUNEMP\n",
       "0   60.3   712.0    21.0  105.0  82.4  13566.0  12.3             14952.0\n",
       "1   52.3   643.0    26.5   97.0  80.2  13566.0  15.3             17039.5\n",
       "..   ...     ...     ...    ...   ...      ...   ...                 ...\n",
       "30  74.7   978.0    19.3  130.0  71.5   9483.0  15.3             18875.4\n",
       "31  67.3   792.0    21.2  126.0  82.2  12656.0  15.1             16790.4\n",
       "\n",
       "[32 rows x 8 columns]"
      ]
     },
     "metadata": {},
     "output_type": "display_data"
    },
    {
     "name": "stdout",
     "output_type": "stream",
     "text": [
      "\n",
      "This data is based on the example in Gill and describes the proportion of\n",
      "voters who voted Yes to grant the Scottish Parliament taxation powers.\n",
      "The data are divided into 32 council districts.  This example's explanatory\n",
      "variables include the amount of council tax collected in pounds sterling as\n",
      "of April 1997 per two adults before adjustments, the female percentage of\n",
      "total claims for unemployment benefits as of January, 1998, the standardized\n",
      "mortality rate (UK is 100), the percentage of labor force participation,\n",
      "regional GDP, the percentage of children aged 5 to 15, and an interaction term\n",
      "between female unemployment and the council tax.\n",
      "\n",
      "The original source files and variable information are included in\n",
      "/scotland/src/\n",
      "\n",
      "::\n",
      "\n",
      "    Number of Observations - 32 (1 for each Scottish district)\n",
      "\n",
      "    Number of Variables - 8\n",
      "\n",
      "    Variable name definitions::\n",
      "\n",
      "        YES    - Proportion voting yes to granting taxation powers to the\n",
      "                 Scottish parliament.\n",
      "        COUTAX - Amount of council tax collected in pounds steling as of\n",
      "                 April '97\n",
      "        UNEMPF - Female percentage of total unemployment benefits claims as of\n",
      "                January 1998\n",
      "        MOR    - The standardized mortality rate (UK is 100)\n",
      "        ACT    - Labor force participation (Short for active)\n",
      "        GDP    - GDP per county\n",
      "        AGE    - Percentage of children aged 5 to 15 in the county\n",
      "        COUTAX_FEMALEUNEMP - Interaction between COUTAX and UNEMPF\n",
      "\n",
      "    Council district names are included in the data file, though are not\n",
      "    returned by load.\n",
      "\n"
     ]
    }
   ],
   "source": [
    "scotland = sm.datasets.scotland.load_pandas().data\n",
    "print('scotland')\n",
    "display(scotland)\n",
    "print(sm.datasets.scotland.DESCRLONG)\n",
    "print(sm.datasets.scotland.NOTE)"
   ]
  },
  {
   "cell_type": "code",
   "execution_count": 12,
   "metadata": {},
   "outputs": [
    {
     "name": "stderr",
     "output_type": "stream",
     "text": [
      "/root/local/python-3.7.4/lib/python3.7/site-packages/numpy/core/fromnumeric.py:2495: FutureWarning: Method .ptp is deprecated and will be removed in a future version. Use numpy.ptp instead.\n",
      "  return ptp(axis=axis, out=out, **kwargs)\n"
     ]
    },
    {
     "data": {
      "text/html": [
       "<table class=\"simpletable\">\n",
       "<caption>Generalized Linear Model Regression Results</caption>\n",
       "<tr>\n",
       "  <th>Dep. Variable:</th>          <td>YES</td>       <th>  No. Observations:  </th>  <td>    32</td>  \n",
       "</tr>\n",
       "<tr>\n",
       "  <th>Model:</th>                  <td>GLM</td>       <th>  Df Residuals:      </th>  <td>    24</td>  \n",
       "</tr>\n",
       "<tr>\n",
       "  <th>Model Family:</th>          <td>Gamma</td>      <th>  Df Model:          </th>  <td>     7</td>  \n",
       "</tr>\n",
       "<tr>\n",
       "  <th>Link Function:</th>          <td>log</td>       <th>  Scale:             </th> <td>0.0035927</td>\n",
       "</tr>\n",
       "<tr>\n",
       "  <th>Method:</th>                <td>IRLS</td>       <th>  Log-Likelihood:    </th> <td> -83.110</td> \n",
       "</tr>\n",
       "<tr>\n",
       "  <th>Date:</th>            <td>Sat, 16 May 2020</td> <th>  Deviance:          </th> <td>0.087988</td> \n",
       "</tr>\n",
       "<tr>\n",
       "  <th>Time:</th>                <td>16:00:25</td>     <th>  Pearson chi2:      </th>  <td>0.0862</td>  \n",
       "</tr>\n",
       "<tr>\n",
       "  <th>No. Iterations:</th>          <td>7</td>        <th>                     </th>     <td> </td>    \n",
       "</tr>\n",
       "<tr>\n",
       "  <th>Covariance Type:</th>     <td>nonrobust</td>    <th>                     </th>     <td> </td>    \n",
       "</tr>\n",
       "</table>\n",
       "<table class=\"simpletable\">\n",
       "<tr>\n",
       "           <td></td>             <th>coef</th>     <th>std err</th>      <th>z</th>      <th>P>|z|</th>  <th>[0.025</th>    <th>0.975]</th>  \n",
       "</tr>\n",
       "<tr>\n",
       "  <th>const</th>              <td>    5.6581</td> <td>    0.680</td> <td>    8.318</td> <td> 0.000</td> <td>    4.325</td> <td>    6.991</td>\n",
       "</tr>\n",
       "<tr>\n",
       "  <th>COUTAX</th>             <td>   -0.0024</td> <td>    0.001</td> <td>   -2.466</td> <td> 0.014</td> <td>   -0.004</td> <td>   -0.000</td>\n",
       "</tr>\n",
       "<tr>\n",
       "  <th>UNEMPF</th>             <td>   -0.1005</td> <td>    0.031</td> <td>   -3.269</td> <td> 0.001</td> <td>   -0.161</td> <td>   -0.040</td>\n",
       "</tr>\n",
       "<tr>\n",
       "  <th>MOR</th>                <td>    0.0048</td> <td>    0.002</td> <td>    2.946</td> <td> 0.003</td> <td>    0.002</td> <td>    0.008</td>\n",
       "</tr>\n",
       "<tr>\n",
       "  <th>ACT</th>                <td>   -0.0067</td> <td>    0.003</td> <td>   -2.534</td> <td> 0.011</td> <td>   -0.012</td> <td>   -0.002</td>\n",
       "</tr>\n",
       "<tr>\n",
       "  <th>GDP</th>                <td> 8.173e-06</td> <td> 7.19e-06</td> <td>    1.136</td> <td> 0.256</td> <td>-5.93e-06</td> <td> 2.23e-05</td>\n",
       "</tr>\n",
       "<tr>\n",
       "  <th>AGE</th>                <td>    0.0298</td> <td>    0.015</td> <td>    2.009</td> <td> 0.045</td> <td>    0.001</td> <td>    0.059</td>\n",
       "</tr>\n",
       "<tr>\n",
       "  <th>COUTAX_FEMALEUNEMP</th> <td>    0.0001</td> <td> 4.33e-05</td> <td>    2.724</td> <td> 0.006</td> <td> 3.31e-05</td> <td>    0.000</td>\n",
       "</tr>\n",
       "</table>"
      ],
      "text/plain": [
       "<class 'statsmodels.iolib.summary.Summary'>\n",
       "\"\"\"\n",
       "                 Generalized Linear Model Regression Results                  \n",
       "==============================================================================\n",
       "Dep. Variable:                    YES   No. Observations:                   32\n",
       "Model:                            GLM   Df Residuals:                       24\n",
       "Model Family:                   Gamma   Df Model:                            7\n",
       "Link Function:                    log   Scale:                       0.0035927\n",
       "Method:                          IRLS   Log-Likelihood:                -83.110\n",
       "Date:                Sat, 16 May 2020   Deviance:                     0.087988\n",
       "Time:                        16:00:25   Pearson chi2:                   0.0862\n",
       "No. Iterations:                     7                                         \n",
       "Covariance Type:            nonrobust                                         \n",
       "======================================================================================\n",
       "                         coef    std err          z      P>|z|      [0.025      0.975]\n",
       "--------------------------------------------------------------------------------------\n",
       "const                  5.6581      0.680      8.318      0.000       4.325       6.991\n",
       "COUTAX                -0.0024      0.001     -2.466      0.014      -0.004      -0.000\n",
       "UNEMPF                -0.1005      0.031     -3.269      0.001      -0.161      -0.040\n",
       "MOR                    0.0048      0.002      2.946      0.003       0.002       0.008\n",
       "ACT                   -0.0067      0.003     -2.534      0.011      -0.012      -0.002\n",
       "GDP                 8.173e-06   7.19e-06      1.136      0.256   -5.93e-06    2.23e-05\n",
       "AGE                    0.0298      0.015      2.009      0.045       0.001       0.059\n",
       "COUTAX_FEMALEUNEMP     0.0001   4.33e-05      2.724      0.006    3.31e-05       0.000\n",
       "======================================================================================\n",
       "\"\"\""
      ]
     },
     "execution_count": 12,
     "metadata": {},
     "output_type": "execute_result"
    }
   ],
   "source": [
    "# ガンマ分布と対数リンク関数を使用\n",
    "gamma_model = sm.GLM(scotland.iloc[:, 0],\n",
    "                     sm.add_constant(scotland.iloc[:, 1:]),\n",
    "                     family=sm.families.Gamma(sm.families.links.log()))\n",
    "gamma_fitted = gamma_model.fit()\n",
    "gamma_fitted.summary()"
   ]
  },
  {
   "cell_type": "code",
   "execution_count": 13,
   "metadata": {},
   "outputs": [],
   "source": [
    "PoissonRegressor??"
   ]
  },
  {
   "cell_type": "code",
   "execution_count": 14,
   "metadata": {
    "hide_input": true
   },
   "outputs": [
    {
     "name": "stderr",
     "output_type": "stream",
     "text": [
      "/root/local/python-3.7.4/lib/python3.7/site-packages/statsmodels/datasets/utils.py:192: FutureWarning: `item` has been deprecated and will be removed in a future version\n",
      "  return dataset_meta[\"Title\"].item()\n"
     ]
    },
    {
     "name": "stdout",
     "output_type": "stream",
     "text": [
      "warpbreaks\n"
     ]
    },
    {
     "data": {
      "text/html": [
       "<div>\n",
       "<style scoped>\n",
       "    .dataframe tbody tr th:only-of-type {\n",
       "        vertical-align: middle;\n",
       "    }\n",
       "\n",
       "    .dataframe tbody tr th {\n",
       "        vertical-align: top;\n",
       "    }\n",
       "\n",
       "    .dataframe thead th {\n",
       "        text-align: right;\n",
       "    }\n",
       "</style>\n",
       "<table border=\"1\" class=\"dataframe\">\n",
       "  <thead>\n",
       "    <tr style=\"text-align: right;\">\n",
       "      <th></th>\n",
       "      <th>breaks</th>\n",
       "      <th>wool</th>\n",
       "      <th>tension</th>\n",
       "    </tr>\n",
       "  </thead>\n",
       "  <tbody>\n",
       "    <tr>\n",
       "      <th>0</th>\n",
       "      <td>26</td>\n",
       "      <td>0</td>\n",
       "      <td>1</td>\n",
       "    </tr>\n",
       "    <tr>\n",
       "      <th>1</th>\n",
       "      <td>30</td>\n",
       "      <td>0</td>\n",
       "      <td>1</td>\n",
       "    </tr>\n",
       "    <tr>\n",
       "      <th>...</th>\n",
       "      <td>...</td>\n",
       "      <td>...</td>\n",
       "      <td>...</td>\n",
       "    </tr>\n",
       "    <tr>\n",
       "      <th>52</th>\n",
       "      <td>16</td>\n",
       "      <td>1</td>\n",
       "      <td>0</td>\n",
       "    </tr>\n",
       "    <tr>\n",
       "      <th>53</th>\n",
       "      <td>28</td>\n",
       "      <td>1</td>\n",
       "      <td>0</td>\n",
       "    </tr>\n",
       "  </tbody>\n",
       "</table>\n",
       "<p>54 rows × 3 columns</p>\n",
       "</div>"
      ],
      "text/plain": [
       "    breaks  wool  tension\n",
       "0       26     0        1\n",
       "1       30     0        1\n",
       "..     ...   ...      ...\n",
       "52      16     1        0\n",
       "53      28     1        0\n",
       "\n",
       "[54 rows x 3 columns]"
      ]
     },
     "metadata": {},
     "output_type": "display_data"
    }
   ],
   "source": [
    "warpbreaks = sm.datasets.get_rdataset('warpbreaks').data\n",
    "for col in ['wool', 'tension']:\n",
    "    warpbreaks[col] = pd.Categorical(warpbreaks[col]).codes\n",
    "print('warpbreaks')\n",
    "display(warpbreaks)"
   ]
  },
  {
   "cell_type": "code",
   "execution_count": 15,
   "metadata": {},
   "outputs": [
    {
     "name": "stdout",
     "output_type": "stream",
     "text": [
      "切片項 : 3.348852487422661\n",
      "woolの係数 : -0.20598890381313098\n",
      "tensionの係数 : 0.08397993297192413\n"
     ]
    }
   ],
   "source": [
    "poisson = PoissonRegressor(alpha=0)\n",
    "poisson.fit(warpbreaks.iloc[:, 1:], warpbreaks.iloc[:, 0])\n",
    "print(f'切片項 : {poisson.intercept_}')\n",
    "for name, value in zip(warpbreaks.columns[1:], poisson.coef_):\n",
    "    print(f'{name}の係数 : {value}')"
   ]
  },
  {
   "cell_type": "code",
   "execution_count": 16,
   "metadata": {},
   "outputs": [
    {
     "name": "stderr",
     "output_type": "stream",
     "text": [
      "/root/local/python-3.7.4/lib/python3.7/site-packages/numpy/core/fromnumeric.py:2495: FutureWarning: Method .ptp is deprecated and will be removed in a future version. Use numpy.ptp instead.\n",
      "  return ptp(axis=axis, out=out, **kwargs)\n"
     ]
    },
    {
     "data": {
      "text/plain": [
       "const      3.348852\n",
       "wool      -0.205988\n",
       "tension    0.083980\n",
       "dtype: float64"
      ]
     },
     "execution_count": 16,
     "metadata": {},
     "output_type": "execute_result"
    }
   ],
   "source": [
    "# statsmodelsの結果と比較\n",
    "poisson_model = sm.GLM(warpbreaks.iloc[:, 0],\n",
    "                       sm.add_constant(warpbreaks.iloc[:, 1:]),\n",
    "                       family=sm.families.Poisson())\n",
    "poisson_fitted = poisson_model.fit()\n",
    "poisson_fitted.params"
   ]
  },
  {
   "cell_type": "markdown",
   "metadata": {},
   "source": [
    "###### 練習問題\n",
    "\n",
    "`road`データセットに対して、`deaths`を目的変数・`rural`を説明変数にしてポアソン回帰を適用し、回帰曲線とデータ点をグラフ表示する。"
   ]
  },
  {
   "cell_type": "code",
   "execution_count": 17,
   "metadata": {
    "hide_input": true
   },
   "outputs": [
    {
     "name": "stderr",
     "output_type": "stream",
     "text": [
      "/root/local/python-3.7.4/lib/python3.7/site-packages/statsmodels/datasets/utils.py:192: FutureWarning: `item` has been deprecated and will be removed in a future version\n",
      "  return dataset_meta[\"Title\"].item()\n"
     ]
    },
    {
     "name": "stdout",
     "output_type": "stream",
     "text": [
      "road\n"
     ]
    },
    {
     "data": {
      "text/html": [
       "<div>\n",
       "<style scoped>\n",
       "    .dataframe tbody tr th:only-of-type {\n",
       "        vertical-align: middle;\n",
       "    }\n",
       "\n",
       "    .dataframe tbody tr th {\n",
       "        vertical-align: top;\n",
       "    }\n",
       "\n",
       "    .dataframe thead th {\n",
       "        text-align: right;\n",
       "    }\n",
       "</style>\n",
       "<table border=\"1\" class=\"dataframe\">\n",
       "  <thead>\n",
       "    <tr style=\"text-align: right;\">\n",
       "      <th></th>\n",
       "      <th>deaths</th>\n",
       "      <th>drivers</th>\n",
       "      <th>popden</th>\n",
       "      <th>rural</th>\n",
       "      <th>temp</th>\n",
       "      <th>fuel</th>\n",
       "    </tr>\n",
       "  </thead>\n",
       "  <tbody>\n",
       "    <tr>\n",
       "      <th>Alabama</th>\n",
       "      <td>968</td>\n",
       "      <td>158</td>\n",
       "      <td>64.0</td>\n",
       "      <td>66.0</td>\n",
       "      <td>62</td>\n",
       "      <td>119.0</td>\n",
       "    </tr>\n",
       "    <tr>\n",
       "      <th>Alaska</th>\n",
       "      <td>43</td>\n",
       "      <td>11</td>\n",
       "      <td>0.4</td>\n",
       "      <td>5.9</td>\n",
       "      <td>30</td>\n",
       "      <td>6.2</td>\n",
       "    </tr>\n",
       "    <tr>\n",
       "      <th>...</th>\n",
       "      <td>...</td>\n",
       "      <td>...</td>\n",
       "      <td>...</td>\n",
       "      <td>...</td>\n",
       "      <td>...</td>\n",
       "      <td>...</td>\n",
       "    </tr>\n",
       "    <tr>\n",
       "      <th>Mo</th>\n",
       "      <td>1289</td>\n",
       "      <td>234</td>\n",
       "      <td>63.0</td>\n",
       "      <td>100.0</td>\n",
       "      <td>40</td>\n",
       "      <td>180.0</td>\n",
       "    </tr>\n",
       "    <tr>\n",
       "      <th>Mont</th>\n",
       "      <td>259</td>\n",
       "      <td>38</td>\n",
       "      <td>4.6</td>\n",
       "      <td>72.0</td>\n",
       "      <td>29</td>\n",
       "      <td>31.0</td>\n",
       "    </tr>\n",
       "  </tbody>\n",
       "</table>\n",
       "<p>26 rows × 6 columns</p>\n",
       "</div>"
      ],
      "text/plain": [
       "         deaths  drivers  popden  rural  temp   fuel\n",
       "Alabama     968      158    64.0   66.0    62  119.0\n",
       "Alaska       43       11     0.4    5.9    30    6.2\n",
       "...         ...      ...     ...    ...   ...    ...\n",
       "Mo         1289      234    63.0  100.0    40  180.0\n",
       "Mont        259       38     4.6   72.0    29   31.0\n",
       "\n",
       "[26 rows x 6 columns]"
      ]
     },
     "metadata": {},
     "output_type": "display_data"
    }
   ],
   "source": [
    "road = sm.datasets.get_rdataset('road', 'MASS').data\n",
    "print('road')\n",
    "display(road)"
   ]
  },
  {
   "cell_type": "code",
   "execution_count": null,
   "metadata": {
    "solution2": "hidden",
    "solution2_first": true
   },
   "outputs": [],
   "source": []
  },
  {
   "cell_type": "code",
   "execution_count": 18,
   "metadata": {
    "solution2": "hidden"
   },
   "outputs": [
    {
     "data": {
      "image/png": "[encoded data removed]",
      "text/plain": [
       "<Figure size 432x288 with 1 Axes>"
      ]
     },
     "metadata": {
      "needs_background": "light"
     },
     "output_type": "display_data"
    }
   ],
   "source": [
    "poisson_model = sm.GLM(road['deaths'],\n",
    "                       sm.add_constant(road['rural']),\n",
    "                       family=sm.families.Poisson()).fit()\n",
    "plt.scatter('rural', 'deaths', data=road)\n",
    "xx = np.linspace(road['rural'].min(), road['rural'].max(), 20)\n",
    "# coefficient = poisson_model.params['rural']\n",
    "# intercept = poisson_model.params['const']\n",
    "# plt.plot(xx, np.exp(coefficient * xx + intercept))\n",
    "plt.plot(xx, poisson_model.predict(sm.add_constant(xx)))\n",
    "plt.show()"
   ]
  },
  {
   "cell_type": "markdown",
   "metadata": {},
   "source": [
    "###### 練習問題\n",
    "\n",
    "`star98`データセットに対して、`NABOVE`を成功数・`NBELOW`を失敗数・`LOWINC`を説明変数にしてロジスティック回帰を適用し、回帰曲線とデータ点をグラフ表示する。 (グラフの縦軸は成功割合にする)"
   ]
  },
  {
   "cell_type": "code",
   "execution_count": 19,
   "metadata": {
    "hide_input": true
   },
   "outputs": [
    {
     "name": "stdout",
     "output_type": "stream",
     "text": [
      "star98\n"
     ]
    },
    {
     "data": {
      "text/html": [
       "<div>\n",
       "<style scoped>\n",
       "    .dataframe tbody tr th:only-of-type {\n",
       "        vertical-align: middle;\n",
       "    }\n",
       "\n",
       "    .dataframe tbody tr th {\n",
       "        vertical-align: top;\n",
       "    }\n",
       "\n",
       "    .dataframe thead th {\n",
       "        text-align: right;\n",
       "    }\n",
       "</style>\n",
       "<table border=\"1\" class=\"dataframe\">\n",
       "  <thead>\n",
       "    <tr style=\"text-align: right;\">\n",
       "      <th></th>\n",
       "      <th>NABOVE</th>\n",
       "      <th>NBELOW</th>\n",
       "      <th>LOWINC</th>\n",
       "      <th>PERASIAN</th>\n",
       "      <th>PERBLACK</th>\n",
       "      <th>PERHISP</th>\n",
       "      <th>PERMINTE</th>\n",
       "      <th>AVYRSEXP</th>\n",
       "      <th>AVSALK</th>\n",
       "      <th>PERSPENK</th>\n",
       "      <th>...</th>\n",
       "      <th>PCTCHRT</th>\n",
       "      <th>PCTYRRND</th>\n",
       "      <th>PERMINTE_AVYRSEXP</th>\n",
       "      <th>PERMINTE_AVSAL</th>\n",
       "      <th>AVYRSEXP_AVSAL</th>\n",
       "      <th>PERSPEN_PTRATIO</th>\n",
       "      <th>PERSPEN_PCTAF</th>\n",
       "      <th>PTRATIO_PCTAF</th>\n",
       "      <th>PERMINTE_AVYRSEXP_AVSAL</th>\n",
       "      <th>PERSPEN_PTRATIO_PCTAF</th>\n",
       "    </tr>\n",
       "  </thead>\n",
       "  <tbody>\n",
       "    <tr>\n",
       "      <th>0</th>\n",
       "      <td>452.0</td>\n",
       "      <td>355.0</td>\n",
       "      <td>34.39730</td>\n",
       "      <td>23.299300</td>\n",
       "      <td>14.235280</td>\n",
       "      <td>11.411120</td>\n",
       "      <td>15.918370</td>\n",
       "      <td>14.70646</td>\n",
       "      <td>59.15732</td>\n",
       "      <td>4.445207</td>\n",
       "      <td>...</td>\n",
       "      <td>0.0</td>\n",
       "      <td>22.22222</td>\n",
       "      <td>234.102872</td>\n",
       "      <td>941.68811</td>\n",
       "      <td>869.9948</td>\n",
       "      <td>96.50656</td>\n",
       "      <td>253.52242</td>\n",
       "      <td>1238.1955</td>\n",
       "      <td>13848.8985</td>\n",
       "      <td>5504.0352</td>\n",
       "    </tr>\n",
       "    <tr>\n",
       "      <th>1</th>\n",
       "      <td>144.0</td>\n",
       "      <td>40.0</td>\n",
       "      <td>17.36507</td>\n",
       "      <td>29.328380</td>\n",
       "      <td>8.234897</td>\n",
       "      <td>9.314884</td>\n",
       "      <td>13.636360</td>\n",
       "      <td>16.08324</td>\n",
       "      <td>59.50397</td>\n",
       "      <td>5.267598</td>\n",
       "      <td>...</td>\n",
       "      <td>0.0</td>\n",
       "      <td>0.00000</td>\n",
       "      <td>219.316851</td>\n",
       "      <td>811.41756</td>\n",
       "      <td>957.0166</td>\n",
       "      <td>107.68435</td>\n",
       "      <td>340.40609</td>\n",
       "      <td>1321.0664</td>\n",
       "      <td>13050.2233</td>\n",
       "      <td>6958.8468</td>\n",
       "    </tr>\n",
       "    <tr>\n",
       "      <th>...</th>\n",
       "      <td>...</td>\n",
       "      <td>...</td>\n",
       "      <td>...</td>\n",
       "      <td>...</td>\n",
       "      <td>...</td>\n",
       "      <td>...</td>\n",
       "      <td>...</td>\n",
       "      <td>...</td>\n",
       "      <td>...</td>\n",
       "      <td>...</td>\n",
       "      <td>...</td>\n",
       "      <td>...</td>\n",
       "      <td>...</td>\n",
       "      <td>...</td>\n",
       "      <td>...</td>\n",
       "      <td>...</td>\n",
       "      <td>...</td>\n",
       "      <td>...</td>\n",
       "      <td>...</td>\n",
       "      <td>...</td>\n",
       "      <td>...</td>\n",
       "    </tr>\n",
       "    <tr>\n",
       "      <th>301</th>\n",
       "      <td>199.0</td>\n",
       "      <td>510.0</td>\n",
       "      <td>70.62104</td>\n",
       "      <td>20.461720</td>\n",
       "      <td>2.989345</td>\n",
       "      <td>17.423050</td>\n",
       "      <td>11.032860</td>\n",
       "      <td>16.56420</td>\n",
       "      <td>61.70566</td>\n",
       "      <td>3.970984</td>\n",
       "      <td>...</td>\n",
       "      <td>0.0</td>\n",
       "      <td>13.63636</td>\n",
       "      <td>182.750500</td>\n",
       "      <td>680.78991</td>\n",
       "      <td>1022.1049</td>\n",
       "      <td>98.82377</td>\n",
       "      <td>60.13205</td>\n",
       "      <td>376.8523</td>\n",
       "      <td>11276.7402</td>\n",
       "      <td>1496.4746</td>\n",
       "    </tr>\n",
       "    <tr>\n",
       "      <th>302</th>\n",
       "      <td>72.0</td>\n",
       "      <td>84.0</td>\n",
       "      <td>77.74827</td>\n",
       "      <td>5.998899</td>\n",
       "      <td>9.576225</td>\n",
       "      <td>11.117230</td>\n",
       "      <td>7.874016</td>\n",
       "      <td>16.91871</td>\n",
       "      <td>65.09957</td>\n",
       "      <td>6.913397</td>\n",
       "      <td>...</td>\n",
       "      <td>0.0</td>\n",
       "      <td>0.00000</td>\n",
       "      <td>133.218193</td>\n",
       "      <td>512.59506</td>\n",
       "      <td>1101.4007</td>\n",
       "      <td>138.49276</td>\n",
       "      <td>162.66815</td>\n",
       "      <td>471.3534</td>\n",
       "      <td>8672.4471</td>\n",
       "      <td>3258.6530</td>\n",
       "    </tr>\n",
       "  </tbody>\n",
       "</table>\n",
       "<p>303 rows × 22 columns</p>\n",
       "</div>"
      ],
      "text/plain": [
       "     NABOVE  NBELOW    LOWINC   PERASIAN   PERBLACK    PERHISP   PERMINTE  \\\n",
       "0     452.0   355.0  34.39730  23.299300  14.235280  11.411120  15.918370   \n",
       "1     144.0    40.0  17.36507  29.328380   8.234897   9.314884  13.636360   \n",
       "..      ...     ...       ...        ...        ...        ...        ...   \n",
       "301   199.0   510.0  70.62104  20.461720   2.989345  17.423050  11.032860   \n",
       "302    72.0    84.0  77.74827   5.998899   9.576225  11.117230   7.874016   \n",
       "\n",
       "     AVYRSEXP    AVSALK  PERSPENK  ...  PCTCHRT  PCTYRRND  PERMINTE_AVYRSEXP  \\\n",
       "0    14.70646  59.15732  4.445207  ...      0.0  22.22222         234.102872   \n",
       "1    16.08324  59.50397  5.267598  ...      0.0   0.00000         219.316851   \n",
       "..        ...       ...       ...  ...      ...       ...                ...   \n",
       "301  16.56420  61.70566  3.970984  ...      0.0  13.63636         182.750500   \n",
       "302  16.91871  65.09957  6.913397  ...      0.0   0.00000         133.218193   \n",
       "\n",
       "     PERMINTE_AVSAL  AVYRSEXP_AVSAL  PERSPEN_PTRATIO  PERSPEN_PCTAF  \\\n",
       "0         941.68811        869.9948         96.50656      253.52242   \n",
       "1         811.41756        957.0166        107.68435      340.40609   \n",
       "..              ...             ...              ...            ...   \n",
       "301       680.78991       1022.1049         98.82377       60.13205   \n",
       "302       512.59506       1101.4007        138.49276      162.66815   \n",
       "\n",
       "     PTRATIO_PCTAF  PERMINTE_AVYRSEXP_AVSAL  PERSPEN_PTRATIO_PCTAF  \n",
       "0        1238.1955               13848.8985              5504.0352  \n",
       "1        1321.0664               13050.2233              6958.8468  \n",
       "..             ...                      ...                    ...  \n",
       "301       376.8523               11276.7402              1496.4746  \n",
       "302       471.3534                8672.4471              3258.6530  \n",
       "\n",
       "[303 rows x 22 columns]"
      ]
     },
     "metadata": {},
     "output_type": "display_data"
    },
    {
     "name": "stdout",
     "output_type": "stream",
     "text": [
      "\n",
      "This data is on the California education policy and outcomes (STAR program\n",
      "results for 1998.  The data measured standardized testing by the California\n",
      "Department of Education that required evaluation of 2nd - 11th grade students\n",
      "by the the Stanford 9 test on a variety of subjects.  This dataset is at\n",
      "the level of the unified school district and consists of 303 cases.  The\n",
      "binary response variable represents the number of 9th graders scoring\n",
      "over the national median value on the mathematics exam.\n",
      "\n",
      "The data used in this example is only a subset of the original source.\n",
      "\n",
      "::\n",
      "\n",
      "    Number of Observations - 303 (counties in California).\n",
      "\n",
      "    Number of Variables - 13 and 8 interaction terms.\n",
      "\n",
      "    Definition of variables names::\n",
      "\n",
      "        NABOVE   - Total number of students above the national median for the\n",
      "                   math section.\n",
      "        NBELOW   - Total number of students below the national median for the\n",
      "                   math section.\n",
      "        LOWINC   - Percentage of low income students\n",
      "        PERASIAN - Percentage of Asian student\n",
      "        PERBLACK - Percentage of black students\n",
      "        PERHISP  - Percentage of Hispanic students\n",
      "        PERMINTE - Percentage of minority teachers\n",
      "        AVYRSEXP - Sum of teachers' years in educational service divided by the\n",
      "                number of teachers.\n",
      "        AVSALK   - Total salary budget including benefits divided by the number\n",
      "                   of full-time teachers (in thousands)\n",
      "        PERSPENK - Per-pupil spending (in thousands)\n",
      "        PTRATIO  - Pupil-teacher ratio.\n",
      "        PCTAF    - Percentage of students taking UC/CSU prep courses\n",
      "        PCTCHRT  - Percentage of charter schools\n",
      "        PCTYRRND - Percentage of year-round schools\n",
      "\n",
      "        The below variables are interaction terms of the variables defined\n",
      "        above.\n",
      "\n",
      "        PERMINTE_AVYRSEXP\n",
      "        PEMINTE_AVSAL\n",
      "        AVYRSEXP_AVSAL\n",
      "        PERSPEN_PTRATIO\n",
      "        PERSPEN_PCTAF\n",
      "        PTRATIO_PCTAF\n",
      "        PERMINTE_AVTRSEXP_AVSAL\n",
      "        PERSPEN_PTRATIO_PCTAF\n",
      "\n"
     ]
    }
   ],
   "source": [
    "dataset = sm.datasets.star98\n",
    "star98 = dataset.load(as_pandas=True).data\n",
    "print('star98')\n",
    "display(star98)\n",
    "print(dataset.DESCRLONG)\n",
    "print(dataset.NOTE)"
   ]
  },
  {
   "cell_type": "code",
   "execution_count": null,
   "metadata": {
    "solution2": "hidden",
    "solution2_first": true
   },
   "outputs": [],
   "source": []
  },
  {
   "cell_type": "code",
   "execution_count": 20,
   "metadata": {
    "solution2": "hidden"
   },
   "outputs": [
    {
     "data": {
      "image/png": "[encoded data removed]",
      "text/plain": [
       "<Figure size 432x288 with 1 Axes>"
      ]
     },
     "metadata": {
      "needs_background": "light"
     },
     "output_type": "display_data"
    }
   ],
   "source": [
    "logit_model = sm.GLM(star98[['NABOVE', 'NBELOW']],\n",
    "                     sm.add_constant(star98['LOWINC']),\n",
    "                     family=sm.families.Binomial()).fit()\n",
    "plt.scatter(star98['LOWINC'],\n",
    "            star98['NABOVE'] / (star98['NABOVE'] + star98['NBELOW']))\n",
    "xx = np.linspace(star98['LOWINC'].min(), star98['LOWINC'].max(), 20)\n",
    "# coefficient = logit_model.params['LOWINC']\n",
    "# intercept = logit_model.params['const']\n",
    "# plt.plot(xx, 1 / (1 + np.exp(-(coefficient * xx + intercept))))\n",
    "plt.plot(xx, logit_model.predict(sm.add_constant(xx)))\n",
    "plt.show()"
   ]
  },
  {
   "cell_type": "markdown",
   "metadata": {},
   "source": [
    "## 推薦図書\n",
    "---\n",
    "- [RとStanではじめる ベイズ統計モデリングによるデータ分析入門](https://www.amazon.co.jp/%E5%AE%9F%E8%B7%B5Data-Science%E3%82%B7%E3%83%AA%E3%83%BC%E3%82%BA-R%E3%81%A8Stan%E3%81%A7%E3%81%AF%E3%81%98%E3%82%81%E3%82%8B-%E3%83%99%E3%82%A4%E3%82%BA%E7%B5%B1%E8%A8%88%E3%83%A2%E3%83%87%E3%83%AA%E3%83%B3%E3%82%B0%E3%81%AB%E3%82%88%E3%82%8B%E3%83%87%E3%83%BC%E3%82%BF%E5%88%86%E6%9E%90%E5%85%A5%E9%96%80-%E9%A6%AC%E5%A0%B4/dp/4065165369/)\n",
    "- [データ解析のための統計モデリング入門――一般化線形モデル・階層ベイズモデル・MCMC](https://www.amazon.co.jp/%E3%83%87%E3%83%BC%E3%82%BF%E8%A7%A3%E6%9E%90%E3%81%AE%E3%81%9F%E3%82%81%E3%81%AE%E7%B5%B1%E8%A8%88%E3%83%A2%E3%83%87%E3%83%AA%E3%83%B3%E3%82%B0%E5%85%A5%E9%96%80%E2%80%95%E2%80%95%E4%B8%80%E8%88%AC%E5%8C%96%E7%B7%9A%E5%BD%A2%E3%83%A2%E3%83%87%E3%83%AB%E3%83%BB%E9%9A%8E%E5%B1%A4%E3%83%99%E3%82%A4%E3%82%BA%E3%83%A2%E3%83%87%E3%83%AB%E3%83%BBMCMC-%E7%A2%BA%E7%8E%87%E3%81%A8%E6%83%85%E5%A0%B1%E3%81%AE%E7%A7%91%E5%AD%A6-%E4%B9%85%E4%BF%9D-%E6%8B%93%E5%BC%A5/dp/400006973X/)\n",
    "- [ベイズ統計モデリング: R,JAGS, Stanによるチュートリアル](https://www.amazon.co.jp/%E3%83%99%E3%82%A4%E3%82%BA%E7%B5%B1%E8%A8%88%E3%83%A2%E3%83%87%E3%83%AA%E3%83%B3%E3%82%B0-R-JAGS-Stan%E3%81%AB%E3%82%88%E3%82%8B%E3%83%81%E3%83%A5%E3%83%BC%E3%83%88%E3%83%AA%E3%82%A2%E3%83%AB-%E5%8E%9F%E8%91%97%E7%AC%AC2%E7%89%88/dp/4320113160/)"
   ]
  }
 ],
 "metadata": {
  "kernelspec": {
   "display_name": "Python 3",
   "language": "python",
   "name": "python3"
  },
  "language_info": {
   "codemirror_mode": {
    "name": "ipython",
    "version": 3
   },
   "file_extension": ".py",
   "mimetype": "text/x-python",
   "name": "python",
   "nbconvert_exporter": "python",
   "pygments_lexer": "ipython3",
   "version": "3.7.4"
  },
  "toc": {
   "base_numbering": 1,
   "nav_menu": {},
   "number_sections": true,
   "sideBar": true,
   "skip_h1_title": true,
   "title_cell": "Table of Contents",
   "title_sidebar": "Contents",
   "toc_cell": false,
   "toc_position": {},
   "toc_section_display": true,
   "toc_window_display": true
  },
  "varInspector": {
   "cols": {
    "lenName": 16,
    "lenType": 16,
    "lenVar": 40
   },
   "kernels_config": {
    "python": {
     "delete_cmd_postfix": "",
     "delete_cmd_prefix": "del ",
     "library": "var_list.py",
     "varRefreshCmd": "print(var_dic_list())"
    },
    "r": {
     "delete_cmd_postfix": ") ",
     "delete_cmd_prefix": "rm(",
     "library": "var_list.r",
     "varRefreshCmd": "cat(var_dic_list()) "
    }
   },
   "types_to_exclude": [
    "module",
    "function",
    "builtin_function_or_method",
    "instance",
    "_Feature"
   ],
   "window_display": false
  }
 },
 "nbformat": 4,
 "nbformat_minor": 4
}
