{
 "cells": [
  {
   "cell_type": "markdown",
   "metadata": {},
   "source": [
    "# カリキュラム"
   ]
  },
  {
   "cell_type": "markdown",
   "metadata": {},
   "source": [
    "## 導入\n",
    "---\n",
    "- [到達目標](target.ipynb)\n",
    "- [進め方](method.ipynb)\n",
    "- [Jupyter Notebookの使い方](jupyter.ipynb)\n",
    "- [NumPyの使い方](numpy_basic.ipynb)\n",
    "- [pandasの使い方](pandas_basic.ipynb)"
   ]
  },
  {
   "cell_type": "markdown",
   "metadata": {},
   "source": [
    "## データサイエンス初級\n",
    "---\n",
    "データ分析手法を実行できるようになる"
   ]
  },
  {
   "cell_type": "markdown",
   "metadata": {},
   "source": [
    "### [簡単な分析を実行する](beginner/market_basket_analysis.ipynb)\n",
    "---\n",
    "条件付き確率を理解する  \n",
    "マーケット・バスケット分析を使える"
   ]
  },
  {
   "cell_type": "markdown",
   "metadata": {},
   "source": [
    "### [データ分析を実施するにあたっての注意点](beginner/caution.ipynb)\n",
    "---\n",
    "実際にデータを扱う前後の工程の重要性を理解する"
   ]
  },
  {
   "cell_type": "markdown",
   "metadata": {},
   "source": [
    "### データの内容を把握する"
   ]
  },
  {
   "cell_type": "markdown",
   "metadata": {},
   "source": [
    "#### [データ要約について](beginner/data_summary_introduction.ipynb)\n",
    "---\n",
    "データ可視化の目的を理解する"
   ]
  },
  {
   "cell_type": "markdown",
   "metadata": {},
   "source": [
    "#### 数値で把握する"
   ]
  },
  {
   "cell_type": "markdown",
   "metadata": {},
   "source": [
    "##### [変数ごとに把握](beginner/describe.ipynb)\n",
    "---\n",
    "代表値の種類を把握する  \n",
    "データの尺度の違いがわかる  \n",
    "分散・標準偏差・四分位点がわかる"
   ]
  },
  {
   "cell_type": "markdown",
   "metadata": {},
   "source": [
    "##### [変数の組み合わせごとに把握](beginner/summarize.ipynb)\n",
    "---\n",
    "クロス集計表が作成できる  \n",
    "相関係数がわかる"
   ]
  },
  {
   "cell_type": "markdown",
   "metadata": {},
   "source": [
    "##### [数値要約の注意点](beginner/caution_for_summary.ipynb)\n",
    "---\n",
    "数値要約の解釈・実施にあたっての注意点がわかる"
   ]
  },
  {
   "cell_type": "markdown",
   "metadata": {},
   "source": [
    "#### グラフで把握する"
   ]
  },
  {
   "cell_type": "markdown",
   "metadata": {},
   "source": [
    "##### [変数ごとに把握](beginner/visualization.ipynb)\n",
    "---\n",
    "棒グラフ・ヒストグラム・箱ひげ図が作成できる"
   ]
  },
  {
   "cell_type": "markdown",
   "metadata": {},
   "source": [
    "##### [変数の組み合わせごとに把握](beginner/visualization2d.ipynb)\n",
    "---\n",
    "モザイク図・散布図が作成できる"
   ]
  },
  {
   "cell_type": "markdown",
   "metadata": {},
   "source": [
    "##### [時系列データの把握](beginner/line_chart.ipynb)\n",
    "---\n",
    "折れ線グラフが作成できる"
   ]
  },
  {
   "cell_type": "markdown",
   "metadata": {},
   "source": [
    "##### [カテゴリ間比較](beginner/comparison_over_categories.ipynb)\n",
    "---\n",
    "層別グラフ・複数系列グラフが作成できる"
   ]
  },
  {
   "cell_type": "markdown",
   "metadata": {},
   "source": [
    "##### [グラフ表示の注意点](beginner/caution_for_visualization.ipynb)\n",
    "---\n",
    "適切なグラフの種類・強調表現を選択できる"
   ]
  },
  {
   "cell_type": "markdown",
   "metadata": {},
   "source": [
    "#### [データ把握まとめ](beginner/conclusion_of_data_understanding.ipynb)\n",
    "---\n",
    "データ可視化の重要性を理解する  \n",
    "日常的にデータ把握できているか確認する"
   ]
  },
  {
   "cell_type": "markdown",
   "metadata": {},
   "source": [
    "### クラスタリングを実行する"
   ]
  },
  {
   "cell_type": "markdown",
   "metadata": {},
   "source": [
    "#### [クラスタリングの概要](beginner/clustering.ipynb)"
   ]
  },
  {
   "cell_type": "markdown",
   "metadata": {},
   "source": [
    "#### [k-means](beginner/kmeans.ipynb)\n",
    "---\n",
    "k-means を実行できる"
   ]
  },
  {
   "cell_type": "markdown",
   "metadata": {},
   "source": [
    "#### [Mean Shift](beginner/mean_shift.ipynb)\n",
    "---\n",
    "Mean Shift を実行できる"
   ]
  },
  {
   "cell_type": "markdown",
   "metadata": {},
   "source": [
    "#### [階層的クラスタリング](beginner/hierarchical_clustering.ipynb)\n",
    "---\n",
    "階層的クラスタリングを実行できる"
   ]
  },
  {
   "cell_type": "markdown",
   "metadata": {},
   "source": [
    "### [確率分布を理解する](beginner/distribution.ipynb)\n",
    "---\n",
    "以下の確率分布がわかる\n",
    " - 一様分布\n",
    " - ベルヌーイ分布\n",
    " - 二項分布\n",
    " - ポアソン分布\n",
    " - 正規分布\n",
    "\n",
    "任意の値から確率 (密度) や上側・下側確率を求められる  \n",
    "上側・下側確率から対応する値を求められる"
   ]
  },
  {
   "cell_type": "markdown",
   "metadata": {},
   "source": [
    "### [全体の平均を推定する](beginner/population_mean_estimation.ipynb)\n",
    "---\n",
    "母平均と標本平均の違いがわかる  \n",
    "中心極限定理がわかる  \n",
    "標準誤差がわかる"
   ]
  },
  {
   "cell_type": "markdown",
   "metadata": {},
   "source": [
    "### [モデリングの目的を理解する](beginner/introduction_to_modeling.ipynb)\n",
    "---\n",
    "数理モデルと統計モデルの違いがわかる  \n",
    "モデリングの目的の種類 (特に相関関係と因果関係の違い) がわかる"
   ]
  },
  {
   "cell_type": "markdown",
   "metadata": {},
   "source": [
    "### 回帰を実行する"
   ]
  },
  {
   "cell_type": "markdown",
   "metadata": {},
   "source": [
    "#### [単回帰分析](beginner/simple_linear_regression.ipynb)\n",
    "---\n",
    "単回帰分析を実行できる"
   ]
  },
  {
   "cell_type": "markdown",
   "metadata": {},
   "source": [
    "### 分類を実行する"
   ]
  },
  {
   "cell_type": "markdown",
   "metadata": {},
   "source": [
    "#### [ロジスティック回帰](beginner/logistic_regression.ipynb)\n",
    "---\n",
    "名義尺度の変数をダミー変数に変換できる  \n",
    "ロジスティック回帰が行なっていること (確率の推定) がわかる  \n",
    "ロジスティック回帰を実行できる"
   ]
  },
  {
   "cell_type": "markdown",
   "metadata": {},
   "source": [
    "### データの取り扱い"
   ]
  },
  {
   "cell_type": "markdown",
   "metadata": {},
   "source": [
    "#### [データ取得](beginner/data_acquisition.ipynb)\n",
    "---\n",
    "CSV ファイルや SQL を使用したデータベースからデータを読み込める  \n",
    "条件を指定して必要なデータを絞り込んだり、件数を制限できる  \n",
    "複数のデータを統合できる"
   ]
  },
  {
   "cell_type": "markdown",
   "metadata": {},
   "source": [
    "#### [データ加工](beginner/preprocessing.ipynb)\n",
    "---\n",
    "datetime 型を扱える  \n",
    "地名から都道府県コードなどへの変換ができる  \n",
    "変数をスケーリングできる  \n",
    "カテゴリ別に合計や平均などを集計できる  \n",
    "行方向や列方向に平均をとり、データを集約できる"
   ]
  },
  {
   "cell_type": "markdown",
   "metadata": {},
   "source": [
    "#### [外れ値・異常値・欠損値の除去・補完](beginner/imputation.ipynb)\n",
    "---\n",
    "簡単な外れ値の検出方法を実行できる  \n",
    "欠損値を除去できる  \n",
    "欠損値を代表値で補完できる"
   ]
  },
  {
   "cell_type": "markdown",
   "metadata": {},
   "source": [
    "### [初級課題](beginner/exercise.ipynb)"
   ]
  },
  {
   "cell_type": "markdown",
   "metadata": {},
   "source": [
    "## データサイエンス中級"
   ]
  },
  {
   "cell_type": "markdown",
   "metadata": {},
   "source": [
    "### 数学"
   ]
  },
  {
   "cell_type": "markdown",
   "metadata": {},
   "source": [
    "#### 行列分解"
   ]
  },
  {
   "cell_type": "markdown",
   "metadata": {},
   "source": [
    "### データ把握"
   ]
  },
  {
   "cell_type": "markdown",
   "metadata": {},
   "source": [
    "#### 集計・数値要約"
   ]
  },
  {
   "cell_type": "markdown",
   "metadata": {},
   "source": [
    "#### グラフ表示"
   ]
  },
  {
   "cell_type": "markdown",
   "metadata": {},
   "source": [
    "##### [複数変数を一度に把握](graph_matrix.ipynb)\n",
    "---\n",
    "散布図行列・相関行列が作成できる"
   ]
  },
  {
   "cell_type": "markdown",
   "metadata": {},
   "source": [
    "##### グラフ表示の注意点\n",
    "---\n",
    "何を見たいか、伝えたいかを考えてグラフの種類を選ぶ  \n",
    "軸は原点から始める  \n",
    "カテゴリ数が多い場合は棒グラフの軸に意味を持たせる  \n",
    "色・大きさ・原点の位置などの影響  \n",
    "可視化演習"
   ]
  },
  {
   "cell_type": "markdown",
   "metadata": {},
   "source": [
    "### 統計的仮説検定"
   ]
  },
  {
   "cell_type": "markdown",
   "metadata": {},
   "source": [
    "#### [統計的仮説検定の概要](intermediate/hypothesis_testing.ipynb)\n",
    "---\n",
    "帰無仮説・対立仮説・検定がわかる  \n",
    "両側検定・片側検定と対応する対立仮説がわかる"
   ]
  },
  {
   "cell_type": "markdown",
   "metadata": {},
   "source": [
    "#### [t検定](intermediate/t_test.ipynb)"
   ]
  },
  {
   "cell_type": "markdown",
   "metadata": {},
   "source": [
    "#### 対応のない2群の検定"
   ]
  },
  {
   "cell_type": "markdown",
   "metadata": {},
   "source": [
    "#### 分割表の検定"
   ]
  },
  {
   "cell_type": "markdown",
   "metadata": {},
   "source": [
    "#### 検定力分析"
   ]
  },
  {
   "cell_type": "markdown",
   "metadata": {},
   "source": [
    "### テスト・バリデーション"
   ]
  },
  {
   "cell_type": "markdown",
   "metadata": {},
   "source": [
    "### 回帰"
   ]
  },
  {
   "cell_type": "markdown",
   "metadata": {},
   "source": [
    "#### 重回帰分析"
   ]
  },
  {
   "cell_type": "markdown",
   "metadata": {},
   "source": [
    "#### 正則化"
   ]
  },
  {
   "cell_type": "markdown",
   "metadata": {},
   "source": [
    "### 分類"
   ]
  },
  {
   "cell_type": "markdown",
   "metadata": {},
   "source": [
    "#### 決定木"
   ]
  },
  {
   "cell_type": "markdown",
   "metadata": {},
   "source": [
    "#### ロジスティック回帰"
   ]
  },
  {
   "cell_type": "markdown",
   "metadata": {},
   "source": [
    "#### サポートベクターマシン"
   ]
  },
  {
   "cell_type": "markdown",
   "metadata": {},
   "source": [
    "#### ナイーブベイズ"
   ]
  },
  {
   "cell_type": "markdown",
   "metadata": {},
   "source": [
    "### モデル評価・選択"
   ]
  },
  {
   "cell_type": "markdown",
   "metadata": {},
   "source": [
    "### 高度な予測手法"
   ]
  },
  {
   "cell_type": "markdown",
   "metadata": {},
   "source": [
    "#### アンサンブル学習"
   ]
  },
  {
   "cell_type": "markdown",
   "metadata": {},
   "source": [
    "#### ニューラルネットワーク"
   ]
  },
  {
   "cell_type": "markdown",
   "metadata": {},
   "source": [
    "#### ベイジアンネットワーク"
   ]
  },
  {
   "cell_type": "markdown",
   "metadata": {},
   "source": [
    "### クラスタリング"
   ]
  },
  {
   "cell_type": "markdown",
   "metadata": {},
   "source": [
    "#### k-means"
   ]
  },
  {
   "cell_type": "markdown",
   "metadata": {},
   "source": [
    "#### mean-shift"
   ]
  },
  {
   "cell_type": "markdown",
   "metadata": {},
   "source": [
    "#### 階層的クラスタリング"
   ]
  },
  {
   "cell_type": "markdown",
   "metadata": {},
   "source": [
    "### 時系列データ分析"
   ]
  },
  {
   "cell_type": "markdown",
   "metadata": {},
   "source": [
    "### ベイズ統計"
   ]
  },
  {
   "cell_type": "markdown",
   "metadata": {},
   "source": [
    "### 次元削減・潜在変数"
   ]
  },
  {
   "cell_type": "markdown",
   "metadata": {},
   "source": [
    "#### 主成分分析"
   ]
  },
  {
   "cell_type": "markdown",
   "metadata": {},
   "source": [
    "#### コレスポンデンス分析"
   ]
  },
  {
   "cell_type": "markdown",
   "metadata": {},
   "source": [
    "#### 因子分析"
   ]
  },
  {
   "cell_type": "markdown",
   "metadata": {},
   "source": [
    "#### 分散共分散構造分析"
   ]
  },
  {
   "cell_type": "markdown",
   "metadata": {},
   "source": [
    "#### コンジョイント分析"
   ]
  },
  {
   "cell_type": "markdown",
   "metadata": {},
   "source": [
    "#### 多次元尺度構成法"
   ]
  },
  {
   "cell_type": "markdown",
   "metadata": {},
   "source": [
    "### 最適化"
   ]
  },
  {
   "cell_type": "markdown",
   "metadata": {},
   "source": [
    "#### 線形計画法"
   ]
  },
  {
   "cell_type": "markdown",
   "metadata": {},
   "source": [
    "#### 多腕バンディットアルゴリズム"
   ]
  },
  {
   "cell_type": "markdown",
   "metadata": {},
   "source": [
    "### データ取得"
   ]
  },
  {
   "cell_type": "markdown",
   "metadata": {},
   "source": [
    "### データハンドリング"
   ]
  },
  {
   "cell_type": "markdown",
   "metadata": {},
   "source": [
    "#### 外れ値・異常値・欠損値"
   ]
  },
  {
   "cell_type": "markdown",
   "metadata": {},
   "source": [
    "### 中級課題"
   ]
  }
 ],
 "metadata": {
  "kernelspec": {
   "display_name": "Python 3",
   "language": "python",
   "name": "python3"
  },
  "language_info": {
   "codemirror_mode": {
    "name": "ipython",
    "version": 3
   },
   "file_extension": ".py",
   "mimetype": "text/x-python",
   "name": "python",
   "nbconvert_exporter": "python",
   "pygments_lexer": "ipython3",
   "version": "3.6.8"
  },
  "toc": {
   "base_numbering": 1,
   "nav_menu": {},
   "number_sections": true,
   "sideBar": true,
   "skip_h1_title": true,
   "title_cell": "Table of Contents",
   "title_sidebar": "Contents",
   "toc_cell": false,
   "toc_position": {},
   "toc_section_display": true,
   "toc_window_display": true
  },
  "varInspector": {
   "cols": {
    "lenName": 16,
    "lenType": 16,
    "lenVar": 40
   },
   "kernels_config": {
    "python": {
     "delete_cmd_postfix": "",
     "delete_cmd_prefix": "del ",
     "library": "var_list.py",
     "varRefreshCmd": "print(var_dic_list())"
    },
    "r": {
     "delete_cmd_postfix": ") ",
     "delete_cmd_prefix": "rm(",
     "library": "var_list.r",
     "varRefreshCmd": "cat(var_dic_list()) "
    }
   },
   "types_to_exclude": [
    "module",
    "function",
    "builtin_function_or_method",
    "instance",
    "_Feature"
   ],
   "window_display": false
  }
 },
 "nbformat": 4,
 "nbformat_minor": 2
}
