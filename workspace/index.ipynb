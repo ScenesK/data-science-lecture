{
 "cells": [
  {
   "cell_type": "code",
   "execution_count": 1,
   "metadata": {
    "hide_input": false
   },
   "outputs": [],
   "source": [
    "import numpy as np\n",
    "from PIL import Image\n",
    "import matplotlib.pyplot as plt\n",
    "from matplotlib.figure import figaspect\n",
    "from matplotlib.patches import Rectangle\n",
    "%matplotlib inline\n",
    "boxes = np.array([[740, 620], [2070, 620], [2520, 1340], [2520, 2060],\n",
    "                  [1400, 2780], [230, 1690]])\n",
    "rectprop = dict(width=900, height=300, color='red', alpha=0.3)"
   ]
  },
  {
   "cell_type": "markdown",
   "metadata": {},
   "source": [
    "# カリキュラム"
   ]
  },
  {
   "cell_type": "markdown",
   "metadata": {},
   "source": [
    "## 導入\n",
    "---\n",
    "- [到達目標](target.ipynb)\n",
    "- [進め方](method.ipynb)\n",
    "- [Jupyterの使い方](jupyter.ipynb)\n",
    "- [NumPyの使い方](numpy_basic.ipynb)\n",
    "- [pandasの使い方](pandas_basic.ipynb)"
   ]
  },
  {
   "cell_type": "markdown",
   "metadata": {},
   "source": [
    "## データサイエンス初級\n",
    "---\n",
    "データ分析手法を実行できるようになる"
   ]
  },
  {
   "cell_type": "markdown",
   "metadata": {},
   "source": [
    "### 簡単な分析を実行する\n",
    "---\n",
    "- [簡単な分析を実行する](beginner/market_basket_analysis.ipynb)\n",
    " - 条件付き確率を理解する\n",
    " - マーケット・バスケット分析を使える"
   ]
  },
  {
   "cell_type": "markdown",
   "metadata": {},
   "source": [
    "### データ分析を実施するにあたっての注意点\n",
    "---\n",
    "- [データ分析を実施するにあたっての注意点](beginner/caution.ipynb)\n",
    " - 実際にデータを扱う前後の工程の重要性を理解する"
   ]
  },
  {
   "cell_type": "code",
   "execution_count": 2,
   "metadata": {
    "hide_input": true,
    "jupyter": {
     "source_hidden": true
    }
   },
   "outputs": [
    {
     "data": {
      "image/png": "[encoded data removed]",
      "text/plain": [
       "<Figure size 288x288 with 1 Axes>"
      ]
     },
     "metadata": {},
     "output_type": "display_data"
    }
   ],
   "source": [
    "img = Image.open('img/CRISP-DM_Process_Diagram.png')\n",
    "fig = plt.figure(figsize=figaspect(1))\n",
    "ax = fig.gca()\n",
    "ax.imshow(img)\n",
    "for i in [0, 4, 5]:\n",
    "    ax.add_patch(Rectangle(boxes[i], **rectprop))\n",
    "ax.set(xticks=(), yticks=())\n",
    "plt.show()"
   ]
  },
  {
   "cell_type": "markdown",
   "metadata": {},
   "source": [
    "### データの内容を把握する"
   ]
  },
  {
   "cell_type": "code",
   "execution_count": 3,
   "metadata": {
    "hide_input": true,
    "jupyter": {
     "source_hidden": true
    }
   },
   "outputs": [
    {
     "data": {
      "image/png": "[encoded data removed]",
      "text/plain": [
       "<Figure size 288x288 with 1 Axes>"
      ]
     },
     "metadata": {},
     "output_type": "display_data"
    }
   ],
   "source": [
    "img = Image.open('img/CRISP-DM_Process_Diagram.png')\n",
    "fig = plt.figure(figsize=figaspect(1))\n",
    "ax = fig.gca()\n",
    "ax.imshow(img)\n",
    "ax.add_patch(Rectangle(boxes[1], **rectprop))\n",
    "ax.set(xticks=(), yticks=())\n",
    "plt.show()"
   ]
  },
  {
   "cell_type": "markdown",
   "metadata": {},
   "source": [
    "#### データ要約について\n",
    "---\n",
    "- [データ要約について](beginner/data_summary_introduction.ipynb)\n",
    " - データ可視化の目的を理解する"
   ]
  },
  {
   "cell_type": "markdown",
   "metadata": {},
   "source": [
    "#### 数値で把握する\n",
    "---\n",
    "- [変数ごとに把握](beginner/describe.ipynb)\n",
    " - 代表値の種類を把握する  \n",
    " - データの尺度の違いがわかる  \n",
    " - 分散・標準偏差・四分位点がわかる\n",
    "- [変数の組み合わせごとに把握](beginner/summarize.ipynb)\n",
    " - クロス集計表が作成できる  \n",
    " - 相関係数がわかる\n",
    "- [数値要約の注意点](beginner/caution_for_summary.ipynb)\n",
    " - 数値要約の解釈・実施にあたっての注意点がわかる"
   ]
  },
  {
   "cell_type": "markdown",
   "metadata": {},
   "source": [
    "#### グラフで把握する\n",
    "---\n",
    "- [変数ごとに把握](beginner/visualization.ipynb)\n",
    " - 棒グラフ・ヒストグラム・箱ひげ図が作成できる\n",
    "- [変数の組み合わせごとに把握](beginner/visualization2d.ipynb)\n",
    " - モザイク図・散布図が作成できる\n",
    "- [時系列データの把握](beginner/line_chart.ipynb)\n",
    " - 折れ線グラフが作成できる\n",
    "- [カテゴリ間比較](beginner/comparison_over_categories.ipynb)\n",
    " - 層別グラフ・複数系列グラフが作成できる\n",
    "- [グラフ表示の注意点](beginner/caution_for_visualization.ipynb)\n",
    " - 適切なグラフの種類・強調表現を選択できる"
   ]
  },
  {
   "cell_type": "markdown",
   "metadata": {},
   "source": [
    "#### データ把握まとめ\n",
    "---\n",
    "- [データ把握まとめ](beginner/conclusion_of_data_understanding.ipynb)\n",
    " - データ可視化の重要性を理解する  \n",
    " - 日常的にデータ把握できているか確認する"
   ]
  },
  {
   "cell_type": "markdown",
   "metadata": {},
   "source": [
    "### クラスタリングを実行する\n",
    "---\n",
    "- [クラスタリングの概要](beginner/clustering.ipynb)"
   ]
  },
  {
   "cell_type": "code",
   "execution_count": 4,
   "metadata": {
    "hide_input": true,
    "jupyter": {
     "source_hidden": true
    }
   },
   "outputs": [
    {
     "data": {
      "image/png": "[encoded data removed]",
      "text/plain": [
       "<Figure size 288x288 with 1 Axes>"
      ]
     },
     "metadata": {},
     "output_type": "display_data"
    }
   ],
   "source": [
    "img = Image.open('img/CRISP-DM_Process_Diagram.png')\n",
    "fig = plt.figure(figsize=figaspect(1))\n",
    "ax = fig.gca()\n",
    "ax.imshow(img)\n",
    "ax.add_patch(Rectangle(boxes[1], **rectprop))\n",
    "ax.set(xticks=(), yticks=())\n",
    "plt.show()"
   ]
  },
  {
   "cell_type": "markdown",
   "metadata": {},
   "source": [
    "#### k-means\n",
    "---\n",
    "- [k-means](beginner/kmeans.ipynb)\n",
    " - k-means を実行できる"
   ]
  },
  {
   "cell_type": "markdown",
   "metadata": {},
   "source": [
    "#### Mean Shift\n",
    "---\n",
    "- [Mean Shift](beginner/mean_shift.ipynb)\n",
    " - Mean Shift を実行できる"
   ]
  },
  {
   "cell_type": "markdown",
   "metadata": {},
   "source": [
    "#### 階層的クラスタリング\n",
    "---\n",
    "- [階層的クラスタリング](beginner/hierarchical_clustering.ipynb)\n",
    " - 階層的クラスタリングを実行できる"
   ]
  },
  {
   "cell_type": "markdown",
   "metadata": {},
   "source": [
    "### 確率分布を理解する\n",
    "---\n",
    "- [確率分布を理解する](beginner/distribution.ipynb)\n",
    " - 以下の確率分布がわかる\n",
    "   - 一様分布\n",
    "   - ベルヌーイ分布\n",
    "   - 二項分布\n",
    "   - ポアソン分布\n",
    "   - 正規分布\n",
    " - 任意の値から確率 (密度) や上側・下側確率を求められる  \n",
    " - 上側・下側確率から対応する値を求められる"
   ]
  },
  {
   "cell_type": "markdown",
   "metadata": {},
   "source": [
    "### 全体の平均を推定する\n",
    "---\n",
    "- [全体の平均を推定する](beginner/population_mean_estimation.ipynb)\n",
    " - 母平均と標本平均の違いがわかる  \n",
    " - 中心極限定理がわかる  \n",
    " - 標準誤差がわかる"
   ]
  },
  {
   "cell_type": "markdown",
   "metadata": {},
   "source": [
    "### モデリングの目的を理解する\n",
    "---\n",
    "- [モデリングの目的を理解する](beginner/introduction_to_modeling.ipynb)\n",
    " - 数理モデルと統計モデルの違いがわかる  \n",
    " - モデリングの目的の種類 (特に相関関係と因果関係の違い) がわかる"
   ]
  },
  {
   "cell_type": "code",
   "execution_count": 5,
   "metadata": {
    "hide_input": true,
    "jupyter": {
     "source_hidden": true
    }
   },
   "outputs": [
    {
     "data": {
      "image/png": "[encoded data removed]",
      "text/plain": [
       "<Figure size 288x288 with 1 Axes>"
      ]
     },
     "metadata": {},
     "output_type": "display_data"
    }
   ],
   "source": [
    "img = Image.open('img/CRISP-DM_Process_Diagram.png')\n",
    "fig = plt.figure(figsize=figaspect(1))\n",
    "ax = fig.gca()\n",
    "ax.imshow(img)\n",
    "ax.add_patch(Rectangle(boxes[3], **rectprop))\n",
    "ax.set(xticks=(), yticks=())\n",
    "plt.show()"
   ]
  },
  {
   "cell_type": "markdown",
   "metadata": {},
   "source": [
    "### 回帰を実行する\n",
    "---\n",
    "- [単回帰分析](beginner/simple_linear_regression.ipynb)\n",
    " - 単回帰分析を実行できる"
   ]
  },
  {
   "cell_type": "code",
   "execution_count": 6,
   "metadata": {
    "hide_input": true,
    "jupyter": {
     "source_hidden": true
    }
   },
   "outputs": [
    {
     "data": {
      "image/png": "[encoded data removed]",
      "text/plain": [
       "<Figure size 288x288 with 1 Axes>"
      ]
     },
     "metadata": {},
     "output_type": "display_data"
    }
   ],
   "source": [
    "img = Image.open('img/CRISP-DM_Process_Diagram.png')\n",
    "fig = plt.figure(figsize=figaspect(1))\n",
    "ax = fig.gca()\n",
    "ax.imshow(img)\n",
    "ax.add_patch(Rectangle(boxes[3], **rectprop))\n",
    "ax.set(xticks=(), yticks=())\n",
    "plt.show()"
   ]
  },
  {
   "cell_type": "markdown",
   "metadata": {},
   "source": [
    "### 分類を実行する\n",
    "---\n",
    "- [ロジスティック回帰](beginner/logistic_regression.ipynb)\n",
    " - 名義尺度の変数をダミー変数に変換できる  \n",
    " - ロジスティック回帰が行なっていること (確率の推定) がわかる  \n",
    " - ロジスティック回帰を実行できる"
   ]
  },
  {
   "cell_type": "code",
   "execution_count": 7,
   "metadata": {
    "hide_input": true,
    "jupyter": {
     "source_hidden": true
    }
   },
   "outputs": [
    {
     "data": {
      "image/png": "[encoded data removed]",
      "text/plain": [
       "<Figure size 288x288 with 1 Axes>"
      ]
     },
     "metadata": {},
     "output_type": "display_data"
    }
   ],
   "source": [
    "img = Image.open('img/CRISP-DM_Process_Diagram.png')\n",
    "fig = plt.figure(figsize=figaspect(1))\n",
    "ax = fig.gca()\n",
    "ax.imshow(img)\n",
    "ax.add_patch(Rectangle(boxes[3], **rectprop))\n",
    "ax.set(xticks=(), yticks=())\n",
    "plt.show()"
   ]
  },
  {
   "cell_type": "markdown",
   "metadata": {},
   "source": [
    "### データの取り扱い"
   ]
  },
  {
   "cell_type": "code",
   "execution_count": 8,
   "metadata": {
    "hide_input": true,
    "jupyter": {
     "source_hidden": true
    }
   },
   "outputs": [
    {
     "data": {
      "image/png": "[encoded data removed]",
      "text/plain": [
       "<Figure size 288x288 with 1 Axes>"
      ]
     },
     "metadata": {},
     "output_type": "display_data"
    }
   ],
   "source": [
    "img = Image.open('img/CRISP-DM_Process_Diagram.png')\n",
    "fig = plt.figure(figsize=figaspect(1))\n",
    "ax = fig.gca()\n",
    "ax.imshow(img)\n",
    "ax.add_patch(Rectangle(boxes[2], **rectprop))\n",
    "ax.set(xticks=(), yticks=())\n",
    "plt.show()"
   ]
  },
  {
   "cell_type": "markdown",
   "metadata": {},
   "source": [
    "#### データ取得\n",
    "---\n",
    "- [データ取得](beginner/data_acquisition.ipynb)\n",
    " - CSV ファイルや SQL を使用したデータベースからデータを読み込める\n",
    " - 条件を指定して必要なデータを絞り込んだり、件数を制限できる\n",
    " - 複数のデータを統合できる"
   ]
  },
  {
   "cell_type": "markdown",
   "metadata": {},
   "source": [
    "#### データ加工\n",
    "---\n",
    "- [データ加工](beginner/preprocessing.ipynb)\n",
    " - datetime 型を扱える\n",
    " - 地名から都道府県コードなどへの変換ができる\n",
    " - 変数をスケーリングできる\n",
    " - カテゴリ別に合計や平均などを集計できる\n",
    " - 行方向や列方向に平均をとり、データを集約できる"
   ]
  },
  {
   "cell_type": "markdown",
   "metadata": {},
   "source": [
    "#### 外れ値・異常値・欠損値の除去・補完\n",
    "---\n",
    "- [外れ値・異常値・欠損値の除去・補完](beginner/imputation.ipynb)\n",
    " - 簡単な外れ値の検出方法を実行できる\n",
    " - 欠損値を除去できる\n",
    " - 欠損値を代表値で補完できる"
   ]
  },
  {
   "cell_type": "markdown",
   "metadata": {},
   "source": [
    "### 初級課題\n",
    "---\n",
    "- [初級課題](beginner/exercise.ipynb)"
   ]
  },
  {
   "cell_type": "markdown",
   "metadata": {},
   "source": [
    "## データサイエンス初中級"
   ]
  },
  {
   "cell_type": "markdown",
   "metadata": {},
   "source": [
    "### 統計モデリング"
   ]
  },
  {
   "cell_type": "markdown",
   "metadata": {},
   "source": [
    "#### 統計モデリング入門\n",
    "---\n",
    "- [統計モデリング入門](junior/introduction_to_statistical_modeling.ipynb)\n",
    " - パス図がわかる"
   ]
  },
  {
   "cell_type": "markdown",
   "metadata": {},
   "source": [
    "#### 一般化線形モデル\n",
    "---\n",
    "- [一般化線形モデル](junior/generalized_linear_model.ipynb)\n",
    " - 一般化線形モデルの枠組みがわかる\n",
    " - ポアソン回帰・ロジットモデルがわかる"
   ]
  },
  {
   "cell_type": "markdown",
   "metadata": {},
   "source": [
    "#### ベイズ統計モデリング"
   ]
  },
  {
   "cell_type": "markdown",
   "metadata": {},
   "source": [
    "## データサイエンス中級"
   ]
  },
  {
   "cell_type": "markdown",
   "metadata": {},
   "source": [
    "### 数学\n",
    "---\n",
    "初級では導入のしやすさを優先して $y=ax+b$ のような馴染みのある表記法を用いているが、中級では書籍等の補助資料との整合性も考え、必要に応じて統計その他の該当分野の標準的な表記を用いる"
   ]
  },
  {
   "cell_type": "markdown",
   "metadata": {},
   "source": [
    "#### 平均と分散の性質\n",
    "---\n",
    "- [平均と分散の性質](intermediate/mean_and_variance.ipynb)\n",
    " - 確率変数を操作したときの平均・分散の変化がわかる"
   ]
  },
  {
   "cell_type": "markdown",
   "metadata": {},
   "source": [
    "#### 線形代数\n",
    "---\n",
    "- [線形代数](intermediate/linear_algebra.ipynb)\n",
    " - 行列の内積の計算方法がわかる"
   ]
  },
  {
   "cell_type": "markdown",
   "metadata": {},
   "source": [
    "#### 行列分解"
   ]
  },
  {
   "cell_type": "markdown",
   "metadata": {},
   "source": [
    "#### 距離・類似度\n",
    "---\n",
    "- [距離・類似度](intermediate/distance_and_similarity.ipynb)\n",
    " - ユークリッド距離・マンハッタン距離・コサイン類似度がわかる"
   ]
  },
  {
   "cell_type": "markdown",
   "metadata": {},
   "source": [
    "### データ把握"
   ]
  },
  {
   "cell_type": "markdown",
   "metadata": {},
   "source": [
    "#### 集計・数値要約\n",
    "\n",
    "- [離散化](intermediate/discretization.ipynb)\n",
    " - 連続変数を離散化できる。\n",
    "- [相関係数](intermediate/correlation_coefficient.ipynb)\n",
    " - 相関係数とベクトルの内積の関係がわかる\n",
    "- [多変数の一覧](intermediate/multiple_response_sets.ipynb)\n",
    " - 多重クロス集計が実行できる。"
   ]
  },
  {
   "cell_type": "markdown",
   "metadata": {},
   "source": [
    "#### グラフ表示\n",
    "---\n",
    "- [ヒストグラムを滑らかにする](intermediate/kernel_density_estimation.ipynb)\n",
    " - カーネル密度推定がわかる\n",
    "- [複数変数を一度に把握](intermediate/multidimensional_graph.ipynb)\n",
    " - ヒートマップが作成できる\n",
    " - 散布図行列・相関行列が作成できる\n",
    " - 平行座標プロットが作成できる\n",
    "- [地理情報の可視化](intermediate/geographic_information.ipynb)\n",
    " - 座標や軌跡のデータを可視化できる\n",
    "- [ネットワーク構造の可視化](intermediate/network_graph.ipynb)\n",
    " - ネットワーク構造を可視化できる\n",
    "- グラフ表示の注意点\n",
    " - 何を見たいか、伝えたいかを考えてグラフの種類を選ぶ\n",
    " - カテゴリ数が多い場合は棒グラフの軸に意味を持たせる\n",
    " - 可視化演習"
   ]
  },
  {
   "cell_type": "markdown",
   "metadata": {},
   "source": [
    "### 統計的仮説検定\n",
    "---\n",
    "- [統計的仮説検定の概要](intermediate/hypothesis_testing.ipynb)\n",
    " - 帰無仮説・対立仮説・検定がわかる\n",
    " - 両側検定・片側検定と対応する対立仮説がわかる\n",
    "- [母平均の検定](intermediate/t_test.ipynb)\n",
    " - 母平均の検定 ($t$ 検定) がわかる\n",
    "- [母比率の検定](intermediate/z_test.ipynb)\n",
    " - 母比率の検定がわかる\n",
    "- [対応のある2群の検定](intermediate/dependency.ipynb)\n",
    " - 標本数 (サンプル数) の意味がわかる\n",
    " - 「対応あり」と「対応なし」の違いがわかる\n",
    "- [対応のない2群の検定](intermediate/2sample_independent.ipynb)\n",
    " - 対応のない 2 群の $t$ 検定・ウェルチの $t$ 検定がわかる\n",
    " - 母比率の差の検定がわかる\n",
    "- [分割表の検定](intermediate/crosstab_test.ipynb)\n",
    " - 独立性の検定・フィッシャーの正確確率検定がわかる\n",
    "- [検定力分析](intermediate/power_analysis.ipynb)\n",
    " - 効果量・検定力分析がわかる\n",
    " - 目的に照らして適切なサンプルサイズを算出できる"
   ]
  },
  {
   "cell_type": "markdown",
   "metadata": {},
   "source": [
    "### 統計的因果推論"
   ]
  },
  {
   "cell_type": "markdown",
   "metadata": {},
   "source": [
    "### テスト・バリデーション\n",
    "---\n",
    "- [テスト](intermediate/test.ipynb)\n",
    " - 過学習の意味・テストの必要性がわかる\n",
    " - テストデータの作成方法がわかる\n",
    "- [バリデーション](intermediate/validation.ipynb)\n",
    " - ホールドアウト法・クロスバリデーションがわかる\n",
    " - バリデーションによってハイパーパラメーターを調整できる"
   ]
  },
  {
   "cell_type": "markdown",
   "metadata": {},
   "source": [
    "### 回帰"
   ]
  },
  {
   "cell_type": "markdown",
   "metadata": {},
   "source": [
    "#### 最小二乗法\n",
    "---\n",
    "- [最小二乗法](intermediate/ordinary_least_squares.ipynb)\n",
    " - 最小二乗法の主要な性質がわかる"
   ]
  },
  {
   "cell_type": "markdown",
   "metadata": {},
   "source": [
    "#### 重回帰分析\n",
    "---\n",
    "- [重回帰分析](intermediate/multiple_regression_analysis.ipynb)\n",
    " - 決定係数・偏相関係数・偏回帰係数がわかる\n",
    " - 回帰係数の検定が実行できる"
   ]
  },
  {
   "cell_type": "markdown",
   "metadata": {},
   "source": [
    "#### 正則化\n",
    "---\n",
    "- [正則化](intermediate/regularization.ipynb)\n",
    " - L1 ・ L2 正則化がわかる"
   ]
  },
  {
   "cell_type": "markdown",
   "metadata": {},
   "source": [
    "### 分類"
   ]
  },
  {
   "cell_type": "markdown",
   "metadata": {},
   "source": [
    "#### 決定木\n",
    "---\n",
    "- [決定木](intermediate/decision_tree.ipynb)\n",
    " - 決定木を実行できる\n",
    " - 決定木の仕組みがわかる"
   ]
  },
  {
   "cell_type": "markdown",
   "metadata": {},
   "source": [
    "#### k近傍法\n",
    "---\n",
    "- [k近傍法](intermediate/knn.ipynb)\n",
    " - k近傍法を実行できる\n",
    " - k近傍法の仕組みがわかる"
   ]
  },
  {
   "cell_type": "markdown",
   "metadata": {},
   "source": [
    "#### ロジスティック回帰\n",
    "---\n",
    "- [ロジスティック回帰](intermediate/logistic_regression.ipynb)\n",
    " - 最尤法がわかる\n",
    " - ロジスティック回帰の回帰係数の検定が実行できる"
   ]
  },
  {
   "cell_type": "markdown",
   "metadata": {},
   "source": [
    "#### サポートベクトルマシン\n",
    "---\n",
    "- [サポートベクトルマシン](intermediate/svm.ipynb)\n",
    " - サポートベクトルマシンを実行できる\n",
    " - サポートベクトルマシンの概要がわかる"
   ]
  },
  {
   "cell_type": "markdown",
   "metadata": {},
   "source": [
    "#### ナイーブベイズ\n",
    "---\n",
    "- [自然言語の前処理](intermediate/natural_language_preprocessing.ipynb)\n",
    " - Bag of Words・tf-idfがわかる\n",
    "- [ナイーブベイズ](intermediate/naive_bayes.ipynb)\n",
    " - ナイーブベイズを実行できる\n",
    " - ナイーブベイズの概要がわかる"
   ]
  },
  {
   "cell_type": "markdown",
   "metadata": {},
   "source": [
    "### 統計モデリング\n",
    "---\n",
    "- [統計モデリング](intermediate/statistical_modeling.ipynb)\n",
    " - 統計モデリングの手順が想像できる\n",
    " - 交互作用をモデル化できる\n",
    " - オフセット項が使える"
   ]
  },
  {
   "cell_type": "markdown",
   "metadata": {},
   "source": [
    "### モデル評価・選択"
   ]
  },
  {
   "cell_type": "markdown",
   "metadata": {},
   "source": [
    "#### 評価指標\n",
    "---\n",
    "- [評価指標](intermediate/metrics.ipynb)\n",
    " - 正確度・決定係数・平均二乗誤差が算出できる"
   ]
  },
  {
   "cell_type": "markdown",
   "metadata": {},
   "source": [
    "#### 不均衡データ\n",
    "---\n",
    "- [不均衡データ](intermediate/imbalanced_data.ipynb)\n",
    " - 不均衡データの問題点がわかる\n",
    " - 混同行列・ Precision ・ Recall やそれに基づく指標がわかる\n",
    " - PR 曲線・ ROC 曲線を用いた評価がわかる"
   ]
  },
  {
   "cell_type": "markdown",
   "metadata": {},
   "source": [
    "#### 特徴選択\n",
    "---\n",
    "- [特徴選択](intermediate/feature_selection.ipynb)\n",
    " - ステップワイズ法などの特徴選択手法が使える"
   ]
  },
  {
   "cell_type": "markdown",
   "metadata": {},
   "source": [
    "#### モデル改善手法の選択基準\n",
    "---\n",
    "- [モデル改善手法の選択基準](intermediate/improvement_process.ipynb)\n",
    " - テストの結果からどのような対処をとればよいかわかる"
   ]
  },
  {
   "cell_type": "markdown",
   "metadata": {},
   "source": [
    "### 高度な予測手法"
   ]
  },
  {
   "cell_type": "markdown",
   "metadata": {},
   "source": [
    "#### アンサンブル学習"
   ]
  },
  {
   "cell_type": "markdown",
   "metadata": {},
   "source": [
    "#### ニューラルネットワーク"
   ]
  },
  {
   "cell_type": "markdown",
   "metadata": {},
   "source": [
    "#### ベイジアンネットワーク"
   ]
  },
  {
   "cell_type": "markdown",
   "metadata": {},
   "source": [
    "### クラスタリング"
   ]
  },
  {
   "cell_type": "markdown",
   "metadata": {},
   "source": [
    "#### k-means\n",
    "---\n",
    "- [k-means](intermediate/kmeans.ipynb)\n",
    " - k-means の仕組みがわかる"
   ]
  },
  {
   "cell_type": "markdown",
   "metadata": {},
   "source": [
    "#### Mean Shift\n",
    "---\n",
    "- [Mean Shift](intermediate/mean_shift.ipynb)\n",
    " - Mean Shift の仕組みがわかる"
   ]
  },
  {
   "cell_type": "markdown",
   "metadata": {},
   "source": [
    "#### 階層的クラスタリング\n",
    "---\n",
    "- [階層的クラスタリング](intermediate/hierarchical_clustering.ipynb)\n",
    " - 階層的クラスタリングの仕組みがわかる\n",
    " - 階層的クラスタリングの種類 (距離・結合方法) を使い分けられる"
   ]
  },
  {
   "cell_type": "markdown",
   "metadata": {},
   "source": [
    "### データ分析・機械学習の民主化\n",
    "---\n",
    "- [データ分析・機械学習の民主化](intermediate/machine_learning_democratization.ipynb)\n",
    " - 主なGUIのデータ分析・機械学習ツールを知っている\n",
    " - 主なAutoMLライブラリを知っている"
   ]
  },
  {
   "cell_type": "markdown",
   "metadata": {},
   "source": [
    "### 時系列データ分析"
   ]
  },
  {
   "cell_type": "markdown",
   "metadata": {},
   "source": [
    "#### [時系列分析の基礎](intermediate-dev/time_series_basics.ipynb)"
   ]
  },
  {
   "cell_type": "markdown",
   "metadata": {},
   "source": [
    "### ベイズ統計"
   ]
  },
  {
   "cell_type": "markdown",
   "metadata": {},
   "source": [
    "### 次元削減・潜在変数"
   ]
  },
  {
   "cell_type": "markdown",
   "metadata": {},
   "source": [
    "#### 主成分分析"
   ]
  },
  {
   "cell_type": "markdown",
   "metadata": {},
   "source": [
    "#### コレスポンデンス分析"
   ]
  },
  {
   "cell_type": "markdown",
   "metadata": {},
   "source": [
    "#### 因子分析"
   ]
  },
  {
   "cell_type": "markdown",
   "metadata": {},
   "source": [
    "#### 分散共分散構造分析"
   ]
  },
  {
   "cell_type": "markdown",
   "metadata": {},
   "source": [
    "#### コンジョイント分析"
   ]
  },
  {
   "cell_type": "markdown",
   "metadata": {},
   "source": [
    "#### 多次元尺度構成法"
   ]
  },
  {
   "cell_type": "markdown",
   "metadata": {},
   "source": [
    "### 最適化"
   ]
  },
  {
   "cell_type": "markdown",
   "metadata": {},
   "source": [
    "#### 確率的勾配降下法\n",
    "---\n",
    "- [確率的勾配降下法](intermediate/sgd.ipynb)\n",
    " - 確率的勾配降下法がわかる"
   ]
  },
  {
   "cell_type": "markdown",
   "metadata": {},
   "source": [
    "#### [ミニバッチ学習](intermediate/mini_batch.ipynb)\n",
    "---\n",
    "ミニバッチ学習が実行できる"
   ]
  },
  {
   "cell_type": "markdown",
   "metadata": {},
   "source": [
    "#### 線形計画法"
   ]
  },
  {
   "cell_type": "markdown",
   "metadata": {},
   "source": [
    "#### 多腕バンディットアルゴリズム"
   ]
  },
  {
   "cell_type": "markdown",
   "metadata": {},
   "source": [
    "### データ取得"
   ]
  },
  {
   "cell_type": "markdown",
   "metadata": {},
   "source": [
    "### データハンドリング"
   ]
  },
  {
   "cell_type": "markdown",
   "metadata": {},
   "source": [
    "#### [スケーリング](intermediate/scaling.ipynb)\n",
    "---\n",
    "変数を正規化・標準化できる"
   ]
  },
  {
   "cell_type": "markdown",
   "metadata": {},
   "source": [
    "#### 外れ値・異常値・欠損値"
   ]
  },
  {
   "cell_type": "markdown",
   "metadata": {},
   "source": [
    "### 中級課題"
   ]
  }
 ],
 "metadata": {
  "kernelspec": {
   "display_name": "Python 3",
   "language": "python",
   "name": "python3"
  },
  "language_info": {
   "codemirror_mode": {
    "name": "ipython",
    "version": 3
   },
   "file_extension": ".py",
   "mimetype": "text/x-python",
   "name": "python",
   "nbconvert_exporter": "python",
   "pygments_lexer": "ipython3",
   "version": "3.8.3"
  },
  "toc": {
   "base_numbering": 1,
   "nav_menu": {},
   "number_sections": true,
   "sideBar": true,
   "skip_h1_title": true,
   "title_cell": "Table of Contents",
   "title_sidebar": "Contents",
   "toc_cell": false,
   "toc_position": {},
   "toc_section_display": true,
   "toc_window_display": true
  },
  "toc-autonumbering": true,
  "varInspector": {
   "cols": {
    "lenName": 16,
    "lenType": 16,
    "lenVar": 40
   },
   "kernels_config": {
    "python": {
     "delete_cmd_postfix": "",
     "delete_cmd_prefix": "del ",
     "library": "var_list.py",
     "varRefreshCmd": "print(var_dic_list())"
    },
    "r": {
     "delete_cmd_postfix": ") ",
     "delete_cmd_prefix": "rm(",
     "library": "var_list.r",
     "varRefreshCmd": "cat(var_dic_list()) "
    }
   },
   "types_to_exclude": [
    "module",
    "function",
    "builtin_function_or_method",
    "instance",
    "_Feature"
   ],
   "window_display": false
  },
  "widgets": {
   "application/vnd.jupyter.widget-state+json": {
    "state": {},
    "version_major": 2,
    "version_minor": 0
   }
  }
 },
 "nbformat": 4,
 "nbformat_minor": 4
}
