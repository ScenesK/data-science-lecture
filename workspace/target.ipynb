{
 "cells": [
  {
   "cell_type": "markdown",
   "metadata": {},
   "source": [
    "## データサイエンスとは\n",
    "---\n",
    "実証主義人文・社会科学の方法論に関する研究分野。  \n",
    "因果関係の理解だけではなく、予測や社会実装も主な関心に含まれる。"
   ]
  },
  {
   "cell_type": "markdown",
   "metadata": {},
   "source": [
    "## データサイエンティストの細分類\n",
    "---\n",
    "- データエンジニア\n",
    "- アナリスト\n",
    "- データサイエンティスト\n",
    "- 機械学習エンジニア\n",
    "- リサーチャー\n",
    "\n",
    "参考 : [なぜデータサイエンスのゼネラリストになるべきではないのか](http://ainow.ai/2018/12/18/156854/)"
   ]
  },
  {
   "cell_type": "markdown",
   "metadata": {},
   "source": [
    "## データサイエンティストとしてのレベル\n",
    "---\n",
    "1. 初級 - データ分析手法を実行できる\n",
    "1. 中級 - 分析結果の妥当性を保証できる・分析の専門分野を持つ\n",
    "1. 上級 - 分散処理が必要なレベルの大規模データを扱える・前例のないような未知の状況にも対応できる・最先端の手法を開発・実装できる\n",
    "\n",
    "参考 : [データサイエンティスト スキルチェックリスト 2017年版](https://www.slideshare.net/DataScientist_JP/2017-81179087)\n",
    "\n",
    "1. 見習いレベル (Assisstant Data Scientist)\n",
    "1. 独り立ちレベル (Associate Data Scientist)\n",
    "1. 棟梁レベル (Full Data Scientist)\n",
    "1. 業界を代表するレベル (Senior Data Scientist)"
   ]
  },
  {
   "cell_type": "markdown",
   "metadata": {},
   "source": [
    "## データ分析プロジェクトのプロセス\n",
    "---\n",
    "1. ビジネス理解 (Business Understanding)\n",
    "1. データ理解 (Data Understanding)\n",
    "1. データ準備 (Data Preparation)\n",
    "1. モデリング (Modeling)\n",
    "1. 評価 (Evaluation)\n",
    "1. 実行 (Deployment)\n",
    "\n",
    "<img style=\"width: 50%;\" alt=\"CRISP-DM\" src=\"./img/CRISP-DM_Process_Diagram.png\" />\n",
    "By <a href=\"//commons.wikimedia.org/w/index.php?title=User:Kennethajensen&amp;action=edit&amp;redlink=1\" class=\"new\" title=\"User:Kennethajensen (page does not exist)\">Kenneth Jensen</a> - Own work based on: <a rel=\"nofollow\" class=\"external free\" href=\"ftp://public.dhe.ibm.com/software/analytics/spss/documentation/modeler/18.0/en/ModelerCRISPDM.pdf\">here</a> (Figure 1), <a href=\"https://creativecommons.org/licenses/by-sa/3.0\" title=\"Creative Commons Attribution-Share Alike 3.0\">CC BY-SA 3.0</a>, <a href=\"https://commons.wikimedia.org/w/index.php?curid=24930610\">Link</a>"
   ]
  },
  {
   "cell_type": "markdown",
   "metadata": {},
   "source": [
    "## カバー範囲\n",
    "---\n",
    "複数職域にまたがる領域をカバーするので、全てを完璧に理解できなくても可。それぞれの目標に応じて適当に。\n",
    "\n",
    "下図表で濃い色は本講座でカバーする範囲、薄い色は少し触れる範囲。"
   ]
  },
  {
   "cell_type": "markdown",
   "metadata": {},
   "source": [
    "### 細分類×レベル\n",
    "---\n",
    "<table class=\"border text-center\">\n",
    "    <tr class=\"border-bottom-bold background-dark\">\n",
    "        <td class=\"border-right-bold\"></td>\n",
    "        <th>初級</th>\n",
    "        <th>中級</th>\n",
    "        <th>上級</th>\n",
    "    </tr>\n",
    "    <tr class=\"background-bright\">\n",
    "        <th class=\"border-bottom border-right-bold background-dark\">データエンジニア</th>\n",
    "        <td></td>\n",
    "        <td></td>\n",
    "        <td></td>\n",
    "    </tr>\n",
    "    <tr class=\"background-bright\">\n",
    "        <th class=\"border-bottom border-right-bold background-dark\">アナリスト</th>\n",
    "        <td class=\"background-lightblue\"></td>\n",
    "        <td></td>\n",
    "        <td></td>\n",
    "    </tr>\n",
    "    <tr class=\"background-bright\">\n",
    "        <th class=\"border-bottom border-right-bold background-dark\">データサイエンティスト</th>\n",
    "        <td class=\"background-blue\"></td>\n",
    "        <td class=\"background-blue\"></td>\n",
    "        <td></td>\n",
    "    </tr>\n",
    "    <tr class=\"background-bright\">\n",
    "        <th class=\"border-bottom border-right-bold background-dark\">機械学習エンジニア</th>\n",
    "        <td class=\"background-blue\"></td>\n",
    "        <td class=\"background-blue\"></td>\n",
    "        <td></td>\n",
    "    </tr>\n",
    "    <tr class=\"background-bright\">\n",
    "        <th class=\"border-bottom border-right-bold background-dark\">リサーチャー</th>\n",
    "        <td></td>\n",
    "        <td></td>\n",
    "        <td></td>\n",
    "    </tr>\n",
    "</table>"
   ]
  },
  {
   "cell_type": "markdown",
   "metadata": {},
   "source": [
    "### 細分類×プロセス\n",
    "---\n",
    "それぞれのロールの守備範囲を狭めにしているので、実際にはもっと広いプロセスに関わらないといけない。\n",
    "\n",
    "<table class=\"background-bright text-center\">\n",
    "    <tr class=\"border-bottom-bold background-dark\">\n",
    "        <td class=\"border-right-bold\"></td>\n",
    "        <th style=\"width: 7.5em;\">ビジネス理解</th>\n",
    "        <td colspan=\"2\">→</td>\n",
    "        <th style=\"width: 7.5em;\">データ理解</th>\n",
    "        <td>→</td>\n",
    "        <th style=\"width: 7.5em;\">データ準備</th>\n",
    "        <td>→</td>\n",
    "        <th style=\"width: 7.5em;\">モデリング</th>\n",
    "        <td colspan=\"2\">→</td>\n",
    "        <th style=\"width: 7.5em;\">評価</th>\n",
    "        <td>→</td>\n",
    "        <th style=\"width: 7.5em;\">実行</th>\n",
    "    </tr>\n",
    "    <tr class=\"border\">\n",
    "        <th class=\"border-right-bold border-left-none border-top-none border-bottom-none background-dark\">データエンジニア</th>\n",
    "        <td class=\"border-none\" colspan=\"3\"></td>\n",
    "        <td colspan=\"10\"></td>\n",
    "    </tr>\n",
    "    <tr>\n",
    "        <td class=\"border-right-bold background-dark\"></td>\n",
    "    </tr>\n",
    "    <tr class=\"border\">\n",
    "        <th class=\"border-right-bold border-left-none border-top-none border-bottom-none background-dark\">アナリスト</th>\n",
    "        <td class=\"border-right-none background-lightblue\" colspan=\"2\"></td>\n",
    "        <td class=\"border-left-none background-blue\" colspan=\"2\"></td>\n",
    "        <td class=\"border-none\" colspan=\"6\"></td>\n",
    "        <td colspan=\"3\"></td>\n",
    "    </tr>\n",
    "    <tr>\n",
    "        <td class=\"border-right-bold background-dark\"></td>\n",
    "    </tr>\n",
    "    <tr class=\"border\">\n",
    "        <th class=\"border-right-bold border-left-none border-top-none border-bottom-none background-dark\">データサイエンティスト</th>\n",
    "        <td class=\"border-none\"></td>\n",
    "        <td class=\"border-none\" colspan=\"2\"></td>\n",
    "        <td class=\"background-blue\" colspan=\"5\"></td>\n",
    "        <td class=\"border-none\" colspan=\"5\"></td>\n",
    "    </tr>\n",
    "    <tr>\n",
    "        <td class=\"border-right-bold background-dark\"></td>\n",
    "    </tr>\n",
    "    <tr class=\"border\">\n",
    "        <th class=\"border-right-bold border-left-none border-top-none border-bottom-none background-dark\">機械学習エンジニア</th>\n",
    "        <td class=\"border-none\" colspan=\"5\"></td>\n",
    "        <td class=\"border-right-none background-blue\" colspan=\"4\"></td>\n",
    "        <td class=\"border-left-none\" colspan=\"4\"></td>\n",
    "    </tr>\n",
    "    <tr>\n",
    "        <td class=\"border-right-bold background-dark\"></td>\n",
    "    </tr>\n",
    "    <tr class=\"border\">\n",
    "        <th class=\"border-right-bold border-left-none border-top-none border-bottom-none background-dark\">リサーチャー</th>\n",
    "        <td class=\"border-none\" colspan=\"7\"></td>\n",
    "        <td></td>\n",
    "        <td class=\"border-none\" colspan=\"5\"></td>\n",
    "    </tr>\n",
    "</table>"
   ]
  }
 ],
 "metadata": {
  "kernelspec": {
   "display_name": "Python 3",
   "language": "python",
   "name": "python3"
  },
  "language_info": {
   "codemirror_mode": {
    "name": "ipython",
    "version": 3
   },
   "file_extension": ".py",
   "mimetype": "text/x-python",
   "name": "python",
   "nbconvert_exporter": "python",
   "pygments_lexer": "ipython3",
   "version": "3.7.4"
  },
  "toc": {
   "base_numbering": 1,
   "nav_menu": {},
   "number_sections": true,
   "sideBar": true,
   "skip_h1_title": true,
   "title_cell": "Table of Contents",
   "title_sidebar": "Contents",
   "toc_cell": false,
   "toc_position": {},
   "toc_section_display": true,
   "toc_window_display": true
  },
  "varInspector": {
   "cols": {
    "lenName": 16,
    "lenType": 16,
    "lenVar": 40
   },
   "kernels_config": {
    "python": {
     "delete_cmd_postfix": "",
     "delete_cmd_prefix": "del ",
     "library": "var_list.py",
     "varRefreshCmd": "print(var_dic_list())"
    },
    "r": {
     "delete_cmd_postfix": ") ",
     "delete_cmd_prefix": "rm(",
     "library": "var_list.r",
     "varRefreshCmd": "cat(var_dic_list()) "
    }
   },
   "types_to_exclude": [
    "module",
    "function",
    "builtin_function_or_method",
    "instance",
    "_Feature"
   ],
   "window_display": false
  }
 },
 "nbformat": 4,
 "nbformat_minor": 2
}
