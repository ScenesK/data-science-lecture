{
 "cells": [
  {
   "cell_type": "markdown",
   "metadata": {},
   "source": [
    "## [Jupyter Notebook](https://jupyter.org/) とは\n",
    "---\n",
    "プログラムのコード・数式・グラフ・テキストなどを 1 つのファイルにまとめて保存できるアプリケーション。データの可視化・統計モデリング・機械学習などでよく利用される。  \n",
    "IDE (統合開発環境) のような [JupyterLab](https://jupyterlab.readthedocs.io/en/stable/) の開発も進んでいるが、セキュリティ上の理由から Javascript の実行に制約があり、インタラクティブなグラフ表示などに支障があるため今回は使用しない。\n",
    "\n",
    "Python 以外にも様々な言語が利用可能。  \n",
    "[beakerx](https://nbviewer.jupyter.org/github/twosigma/beakerx/blob/master/doc/groovy/GeneralAutotranslation.ipynb) を利用すると、変数の中身を別言語にコピー可能。\n",
    "\n",
    "[Google Colab](https://colab.research.google.com/)・[Azure Notebooks](https://notebooks.azure.com/)・[Binder](https://mybinder.readthedocs.io/en/latest/) などを利用するとクラウドで実行環境も提供可能。"
   ]
  },
  {
   "cell_type": "markdown",
   "metadata": {},
   "source": [
    "## Jupyter Notebook の使い方"
   ]
  },
  {
   "cell_type": "markdown",
   "metadata": {},
   "source": [
    "### セルの選択\n",
    "---\n",
    "↑・↓でセルを選択。"
   ]
  },
  {
   "cell_type": "markdown",
   "metadata": {},
   "source": [
    "### 編集モードとコマンドモード\n",
    "---\n",
    "セルを選択してから`Enter`で編集モードに移行、`Esc`でコマンドモードに復帰。  \n",
    "編集モードではセルの内容を編集でき、コマンドモードではセルを選択・実行できる。"
   ]
  },
  {
   "cell_type": "markdown",
   "metadata": {},
   "source": [
    "### セルの種類\n",
    "---\n",
    "<table>\n",
    "    <tr>\n",
    "        <th>Markdown セル</th>\n",
    "        <td class=\"text-left\">Markdown 形式で編集し、実行すると HTML で表示される</td>\n",
    "    </tr>\n",
    "    <tr>\n",
    "        <th>Code セル</th>\n",
    "        <td class=\"text-left\">Python のコードを記述し、実行するとコードの実行結果が表示される</td>\n",
    "    </tr>\n",
    "</table>"
   ]
  },
  {
   "cell_type": "markdown",
   "metadata": {},
   "source": [
    "### セルの実行\n",
    "---\n",
    "セルの実行は`Shift+Enter` (実行後、次のセルに移動) または`Ctrl+Enter` (その場で実行) 。"
   ]
  },
  {
   "cell_type": "markdown",
   "metadata": {},
   "source": [
    "### セルの種類変更\n",
    "---\n",
    "コマンドモード中に`M`で Markdown セルに、`Y`で Code セルに変更。"
   ]
  },
  {
   "cell_type": "markdown",
   "metadata": {},
   "source": [
    "### セルの挿入\n",
    "---\n",
    "コマンドモード中に`A` (上に挿入) または`B` (下に挿入) 。"
   ]
  },
  {
   "cell_type": "markdown",
   "metadata": {},
   "source": [
    "### 関数等の詳細確認\n",
    "---\n",
    "コード入力中に`Shift+Tab`で docstring を表示。 (`Shift`を押したまま`Tab`を何度か押すと表示領域が広がる)"
   ]
  },
  {
   "cell_type": "markdown",
   "metadata": {},
   "source": [
    "### その他のキーボードショートカット\n",
    "---\n",
    "メニューバーの`Help`->`Keyboard Shortcuts`で確認。"
   ]
  }
 ],
 "metadata": {
  "kernelspec": {
   "display_name": "Python 3",
   "language": "python",
   "name": "python3"
  },
  "language_info": {
   "codemirror_mode": {
    "name": "ipython",
    "version": 3
   },
   "file_extension": ".py",
   "mimetype": "text/x-python",
   "name": "python",
   "nbconvert_exporter": "python",
   "pygments_lexer": "ipython3",
   "version": "3.6.8"
  },
  "toc": {
   "base_numbering": 1,
   "nav_menu": {},
   "number_sections": true,
   "sideBar": true,
   "skip_h1_title": true,
   "title_cell": "Table of Contents",
   "title_sidebar": "Contents",
   "toc_cell": false,
   "toc_position": {},
   "toc_section_display": true,
   "toc_window_display": true
  },
  "varInspector": {
   "cols": {
    "lenName": 16,
    "lenType": 16,
    "lenVar": 40
   },
   "kernels_config": {
    "python": {
     "delete_cmd_postfix": "",
     "delete_cmd_prefix": "del ",
     "library": "var_list.py",
     "varRefreshCmd": "print(var_dic_list())"
    },
    "r": {
     "delete_cmd_postfix": ") ",
     "delete_cmd_prefix": "rm(",
     "library": "var_list.r",
     "varRefreshCmd": "cat(var_dic_list()) "
    }
   },
   "types_to_exclude": [
    "module",
    "function",
    "builtin_function_or_method",
    "instance",
    "_Feature"
   ],
   "window_display": false
  }
 },
 "nbformat": 4,
 "nbformat_minor": 2
}
